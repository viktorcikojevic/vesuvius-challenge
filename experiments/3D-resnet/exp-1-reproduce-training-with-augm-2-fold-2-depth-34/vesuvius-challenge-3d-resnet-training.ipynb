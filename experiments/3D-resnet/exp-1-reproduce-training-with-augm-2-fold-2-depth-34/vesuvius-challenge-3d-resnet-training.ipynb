{
 "cells": [
  {
   "attachments": {},
   "cell_type": "markdown",
   "id": "73dea9ca",
   "metadata": {
    "papermill": {
     "duration": 0.006587,
     "end_time": "2023-04-08T10:11:36.662576",
     "exception": false,
     "start_time": "2023-04-08T10:11:36.655989",
     "status": "completed"
    },
    "tags": []
   },
   "source": [
    "## Vesuvius Challenge - Ink Detection Training Notebook"
   ]
  },
  {
   "attachments": {},
   "cell_type": "markdown",
   "id": "8cdbb7ff",
   "metadata": {
    "papermill": {
     "duration": 0.004951,
     "end_time": "2023-04-08T10:11:36.672955",
     "exception": false,
     "start_time": "2023-04-08T10:11:36.668004",
     "status": "completed"
    },
    "tags": []
   },
   "source": [
    "### Setup"
   ]
  },
  {
   "cell_type": "code",
   "execution_count": 1,
   "id": "ae445317",
   "metadata": {
    "_kg_hide-input": false,
    "_kg_hide-output": true,
    "execution": {
     "iopub.execute_input": "2023-05-23T11:39:57.357319Z",
     "iopub.status.busy": "2023-05-23T11:39:57.356900Z",
     "iopub.status.idle": "2023-05-23T11:39:57.539634Z",
     "shell.execute_reply": "2023-05-23T11:39:57.537814Z"
    },
    "papermill": {
     "duration": 29.297355,
     "end_time": "2023-04-08T10:12:05.976007",
     "exception": false,
     "start_time": "2023-04-08T10:11:36.678652",
     "status": "completed"
    },
    "tags": []
   },
   "outputs": [],
   "source": [
    "# # Pretrained weights\n",
    "# # ref - https://github.com/kenshohara/3D-ResNets-PyTorch\n",
    "# !pip install gdown\n",
    "# !gdown 1Nb4abvIkkp_ydPFA9sNPT1WakoVKA8Fa\n",
    "\n",
    "# # Utility packages for reading and visualizing volumes\n",
    "# !pip install zarr imageio-ffmpeg\n",
    "\n",
    "# save model checkpoints\n",
    "!mkdir ./ckpts"
   ]
  },
  {
   "cell_type": "code",
   "execution_count": 2,
   "id": "0d956f5c",
   "metadata": {
    "execution": {
     "iopub.execute_input": "2023-05-23T11:39:57.545272Z",
     "iopub.status.busy": "2023-05-23T11:39:57.544888Z",
     "iopub.status.idle": "2023-05-23T11:39:58.329473Z",
     "shell.execute_reply": "2023-05-23T11:39:58.329118Z"
    },
    "papermill": {
     "duration": 3.289261,
     "end_time": "2023-04-08T10:12:09.273534",
     "exception": false,
     "start_time": "2023-04-08T10:12:05.984273",
     "status": "completed"
    },
    "tags": []
   },
   "outputs": [],
   "source": [
    "import os\n",
    "import gc\n",
    "import sys\n",
    "import zarr\n",
    "import random\n",
    "import imageio\n",
    "import numpy as np\n",
    "import pandas as pd\n",
    "from tqdm import tqdm\n",
    "import matplotlib.pyplot as plt\n",
    "from IPython.display import Video\n",
    "\n",
    "import torch\n",
    "import torch.nn as nn\n",
    "import torch.nn.functional as F\n",
    "from torch.cuda import amp\n",
    "from torch.utils.data import Dataset, DataLoader\n",
    "\n",
    "sys.path.append(\"./resnet3d\")\n",
    "from resnet3d import generate_model"
   ]
  },
  {
   "attachments": {},
   "cell_type": "markdown",
   "id": "88b00fe4",
   "metadata": {
    "papermill": {
     "duration": 0.007297,
     "end_time": "2023-04-08T10:12:09.288770",
     "exception": false,
     "start_time": "2023-04-08T10:12:09.281473",
     "status": "completed"
    },
    "tags": []
   },
   "source": [
    "### Config"
   ]
  },
  {
   "cell_type": "code",
   "execution_count": 3,
   "id": "59e26b77",
   "metadata": {
    "execution": {
     "iopub.execute_input": "2023-05-23T11:39:58.331125Z",
     "iopub.status.busy": "2023-05-23T11:39:58.330936Z",
     "iopub.status.idle": "2023-05-23T11:39:58.332903Z",
     "shell.execute_reply": "2023-05-23T11:39:58.332729Z"
    },
    "papermill": {
     "duration": 0.016571,
     "end_time": "2023-04-08T10:12:09.312935",
     "exception": false,
     "start_time": "2023-04-08T10:12:09.296364",
     "status": "completed"
    },
    "tags": []
   },
   "outputs": [],
   "source": [
    "LR = 1e-4\n",
    "EPOCHS = 70\n",
    "BATCH_SIZE = 32\n",
    "CROP_SIZE = 256\n",
    "Z_START = 24\n",
    "Z_DIMS = 16\n",
    "TRAIN_FRAGMENTS = [\"1\", \"3\"]\n",
    "TEST_FRAGMENT = \"2\""
   ]
  },
  {
   "attachments": {},
   "cell_type": "markdown",
   "id": "9a1e0328",
   "metadata": {
    "papermill": {
     "duration": 0.007428,
     "end_time": "2023-04-08T10:12:09.328094",
     "exception": false,
     "start_time": "2023-04-08T10:12:09.320666",
     "status": "completed"
    },
    "tags": []
   },
   "source": [
    "### Load data"
   ]
  },
  {
   "cell_type": "code",
   "execution_count": 4,
   "id": "8c494d99",
   "metadata": {
    "execution": {
     "iopub.execute_input": "2023-05-23T11:39:58.334088Z",
     "iopub.status.busy": "2023-05-23T11:39:58.333996Z",
     "iopub.status.idle": "2023-05-23T11:39:58.341863Z",
     "shell.execute_reply": "2023-05-23T11:39:58.341687Z"
    },
    "papermill": {
     "duration": 0.054715,
     "end_time": "2023-04-08T10:12:09.391635",
     "exception": false,
     "start_time": "2023-04-08T10:12:09.336920",
     "status": "completed"
    },
    "tags": []
   },
   "outputs": [],
   "source": [
    "\n",
    "\n",
    "FRAGMENTS_ZARR = {\n",
    "    \"1\" : zarr.open(\"/home/viktor/Documents/kaggle/vesuvius-challenge/kaggle-data/train-1.zarr\", mode=\"r\"),\n",
    "    \"2\" : zarr.open(\"/home/viktor/Documents/kaggle/vesuvius-challenge/kaggle-data/train-2.zarr\", mode=\"r\"),\n",
    "    \"3\" : zarr.open(\"/home/viktor/Documents/kaggle/vesuvius-challenge/kaggle-data/train-3.zarr\", mode=\"r\")\n",
    "}\n",
    "\n",
    "FRAGMENTS_SHAPE = {k : v.mask.shape for k, v in FRAGMENTS_ZARR.items()}"
   ]
  },
  {
   "attachments": {},
   "cell_type": "markdown",
   "id": "97a51afa",
   "metadata": {
    "papermill": {
     "duration": 0.007406,
     "end_time": "2023-04-08T10:12:09.406465",
     "exception": false,
     "start_time": "2023-04-08T10:12:09.399059",
     "status": "completed"
    },
    "tags": []
   },
   "source": [
    "### Visualise input"
   ]
  },
  {
   "cell_type": "code",
   "execution_count": 5,
   "id": "6d33b9f8",
   "metadata": {
    "execution": {
     "iopub.execute_input": "2023-05-23T11:39:58.343063Z",
     "iopub.status.busy": "2023-05-23T11:39:58.342951Z",
     "iopub.status.idle": "2023-05-23T11:39:58.489610Z",
     "shell.execute_reply": "2023-05-23T11:39:58.489378Z"
    },
    "papermill": {
     "duration": 1.68744,
     "end_time": "2023-04-08T10:12:11.101290",
     "exception": false,
     "start_time": "2023-04-08T10:12:09.413850",
     "status": "completed"
    },
    "tags": []
   },
   "outputs": [
    {
     "name": "stderr",
     "output_type": "stream",
     "text": [
      "Lossy conversion from uint16 to uint8. Losing 8 bits of resolution. Convert image to uint8 prior to saving to suppress this warning.\n",
      "Lossy conversion from uint16 to uint8. Losing 8 bits of resolution. Convert image to uint8 prior to saving to suppress this warning.\n",
      "Lossy conversion from uint16 to uint8. Losing 8 bits of resolution. Convert image to uint8 prior to saving to suppress this warning.\n",
      "Lossy conversion from uint16 to uint8. Losing 8 bits of resolution. Convert image to uint8 prior to saving to suppress this warning.\n",
      "Lossy conversion from uint16 to uint8. Losing 8 bits of resolution. Convert image to uint8 prior to saving to suppress this warning.\n",
      "Lossy conversion from uint16 to uint8. Losing 8 bits of resolution. Convert image to uint8 prior to saving to suppress this warning.\n",
      "Lossy conversion from uint16 to uint8. Losing 8 bits of resolution. Convert image to uint8 prior to saving to suppress this warning.\n",
      "Lossy conversion from uint16 to uint8. Losing 8 bits of resolution. Convert image to uint8 prior to saving to suppress this warning.\n",
      "Lossy conversion from uint16 to uint8. Losing 8 bits of resolution. Convert image to uint8 prior to saving to suppress this warning.\n",
      "Lossy conversion from uint16 to uint8. Losing 8 bits of resolution. Convert image to uint8 prior to saving to suppress this warning.\n",
      "Lossy conversion from uint16 to uint8. Losing 8 bits of resolution. Convert image to uint8 prior to saving to suppress this warning.\n",
      "Lossy conversion from uint16 to uint8. Losing 8 bits of resolution. Convert image to uint8 prior to saving to suppress this warning.\n",
      "Lossy conversion from uint16 to uint8. Losing 8 bits of resolution. Convert image to uint8 prior to saving to suppress this warning.\n",
      "Lossy conversion from uint16 to uint8. Losing 8 bits of resolution. Convert image to uint8 prior to saving to suppress this warning.\n",
      "Lossy conversion from uint16 to uint8. Losing 8 bits of resolution. Convert image to uint8 prior to saving to suppress this warning.\n",
      "Lossy conversion from uint16 to uint8. Losing 8 bits of resolution. Convert image to uint8 prior to saving to suppress this warning.\n"
     ]
    },
    {
     "data": {
      "text/html": [
       "<video src=\"fragment_crop.mp4\" controls  width=\"256\"  height=\"256\">\n",
       "      Your browser does not support the <code>video</code> element.\n",
       "    </video>"
      ],
      "text/plain": [
       "<IPython.core.display.Video object>"
      ]
     },
     "execution_count": 5,
     "metadata": {},
     "output_type": "execute_result"
    }
   ],
   "source": [
    "fragment = FRAGMENTS_ZARR[\"1\"]\n",
    "x, y = 2000, 2000\n",
    "\n",
    "fragment_cropped = fragment.surface_volume[y:y+CROP_SIZE, x:x+CROP_SIZE, Z_START:Z_START+Z_DIMS]\n",
    "imageio.mimwrite(\"fragment_crop.mp4\", fragment_cropped.transpose(2, 0, 1), \"ffmpeg\")\n",
    "Video(\"fragment_crop.mp4\", height=256, width=256)"
   ]
  },
  {
   "cell_type": "code",
   "execution_count": 6,
   "id": "46203a93",
   "metadata": {
    "execution": {
     "iopub.execute_input": "2023-05-23T11:39:58.490730Z",
     "iopub.status.busy": "2023-05-23T11:39:58.490621Z",
     "iopub.status.idle": "2023-05-23T11:39:58.529677Z",
     "shell.execute_reply": "2023-05-23T11:39:58.529491Z"
    },
    "papermill": {
     "duration": 0.258785,
     "end_time": "2023-04-08T10:12:11.368608",
     "exception": false,
     "start_time": "2023-04-08T10:12:11.109823",
     "status": "completed"
    },
    "tags": []
   },
   "outputs": [
    {
     "data": {
      "image/png": "[encoded data removed]",
      "text/plain": [
       "<Figure size 600x300 with 2 Axes>"
      ]
     },
     "metadata": {},
     "output_type": "display_data"
    }
   ],
   "source": [
    "mask_cropped = fragment.truth[y:y+CROP_SIZE, x:x+CROP_SIZE]\n",
    "ir_cropped = fragment.infrared[y:y+CROP_SIZE, x:x+CROP_SIZE]\n",
    "\n",
    "plt.figure(figsize=(6, 3))\n",
    "plt.subplot(1, 2, 1)\n",
    "plt.imshow(mask_cropped, cmap=\"gray\")\n",
    "plt.axis(\"off\")\n",
    "\n",
    "plt.subplot(1, 2, 2)\n",
    "plt.imshow(ir_cropped, cmap=\"gray\")\n",
    "plt.axis(\"off\")\n",
    "plt.show()"
   ]
  },
  {
   "cell_type": "code",
   "execution_count": 7,
   "id": "6462d25d",
   "metadata": {
    "execution": {
     "iopub.execute_input": "2023-05-23T11:39:58.530794Z",
     "iopub.status.busy": "2023-05-23T11:39:58.530708Z",
     "iopub.status.idle": "2023-05-23T11:39:58.577969Z",
     "shell.execute_reply": "2023-05-23T11:39:58.577771Z"
    },
    "papermill": {
     "duration": 0.17287,
     "end_time": "2023-04-08T10:12:11.562933",
     "exception": false,
     "start_time": "2023-04-08T10:12:11.390063",
     "status": "completed"
    },
    "tags": []
   },
   "outputs": [
    {
     "data": {
      "text/plain": [
       "4093"
      ]
     },
     "execution_count": 7,
     "metadata": {},
     "output_type": "execute_result"
    }
   ],
   "source": [
    "del fragment, fragment_cropped, mask_cropped, ir_cropped\n",
    "gc.collect()"
   ]
  },
  {
   "attachments": {},
   "cell_type": "markdown",
   "id": "ff9cd3e8",
   "metadata": {
    "papermill": {
     "duration": 0.008474,
     "end_time": "2023-04-08T10:12:11.580070",
     "exception": false,
     "start_time": "2023-04-08T10:12:11.571596",
     "status": "completed"
    },
    "tags": []
   },
   "source": [
    "### Dataloaders"
   ]
  },
  {
   "cell_type": "code",
   "execution_count": 8,
   "id": "162ec4e8",
   "metadata": {
    "execution": {
     "iopub.execute_input": "2023-05-23T11:39:58.579257Z",
     "iopub.status.busy": "2023-05-23T11:39:58.579173Z",
     "iopub.status.idle": "2023-05-23T11:39:58.580992Z",
     "shell.execute_reply": "2023-05-23T11:39:58.580820Z"
    },
    "papermill": {
     "duration": 0.024571,
     "end_time": "2023-04-08T10:12:11.612905",
     "exception": false,
     "start_time": "2023-04-08T10:12:11.588334",
     "status": "completed"
    },
    "tags": []
   },
   "outputs": [],
   "source": [
    "# import albumentations as A\n",
    "# from albumentations.pytorch import ToTensorV2\n",
    "\n",
    "# class VesuviusTrain(Dataset):\n",
    "#     def __init__(self, fragments):\n",
    "#         self.fragments = fragments\n",
    "#         self.xys = []\n",
    "        \n",
    "#         for fragment in fragments:\n",
    "#             H, W = FRAGMENTS_SHAPE[fragment]\n",
    "#             for y in range(0, H-CROP_SIZE+1, CROP_SIZE):\n",
    "#                 for x in range(0, W-CROP_SIZE+1, CROP_SIZE):\n",
    "#                     self.xys.append((fragment, x, y, W, H))\n",
    "        \n",
    "#         train_aug_list = [\n",
    "#                 # A.RandomResizedCrop(\n",
    "#                 #     size, size, scale=(0.85, 1.0)),\n",
    "#                 A.HorizontalFlip(p=0.5),\n",
    "#                 A.VerticalFlip(p=0.5),\n",
    "#                 A.RandomBrightnessContrast(p=0.75),\n",
    "#                 A.CoarseDropout(max_holes=1, max_width=int(CROP_SIZE * 0.1), max_height=int(size * 0.1), \n",
    "#                                 mask_fill_value=0, p=0.5),\n",
    "#                 A.ShiftScaleRotate(p=0.75),\n",
    "#                 A.Rotate(limit=90, p=0.9), \n",
    "#                 A.OneOf([\n",
    "#                         A.GaussNoise(var_limit=[10, 50]),\n",
    "#                         A.GaussianBlur(),\n",
    "#                         A.MotionBlur(),\n",
    "#                         ], p=0.4),\n",
    "#                 A.GridDistortion(num_steps=1, distort_limit=0.3, p=0.5),\n",
    "                \n",
    "#                 A.Cutout(max_h_size=int(size * 0.6),\n",
    "#                          max_w_size=int(size * 0.6), num_holes=1, p=1.0),\n",
    "#                 A.Normalize(\n",
    "#                     mean= [0] * Z_DIMS,\n",
    "#                     std= [1] * Z_DIMS\n",
    "#                 ),\n",
    "#                 ToTensorV2(transpose_mask=True),\n",
    "#             ]\n",
    "        \n",
    "        \n",
    "        \n",
    "#     def __getitem__(self, i):\n",
    "#         fragment, x1, y1, W, H = self.xys[i]\n",
    "#         z1, z2 = Z_START, Z_START+Z_DIMS\n",
    "        \n",
    "#         x_offset = random.randint(-32 if x1 != 0 else 0, 32)\n",
    "#         y_offset = random.randint(-32 if y1 != 0 else 0, 32)\n",
    "        \n",
    "#         x1 += x_offset\n",
    "#         y1 += y_offset\n",
    "        \n",
    "#         x2 = x1 + CROP_SIZE\n",
    "#         y2 = y1 + CROP_SIZE\n",
    "        \n",
    "#         if x2 > W:\n",
    "#             x1 -= x_offset\n",
    "#             x2 -= x_offset\n",
    "            \n",
    "#         if y2 > H:\n",
    "#             y1 -= y_offset\n",
    "#             y2 -= y_offset\n",
    "        \n",
    "#         frag_crop = FRAGMENTS_ZARR[fragment].surface_volume[y1:y2, x1:x2, z1:z2]\n",
    "#         mask_crop = FRAGMENTS_ZARR[fragment].truth[y1:y2, x1:x2]\n",
    "        \n",
    "#         if random.random() > 0.5:\n",
    "#             frag_crop = np.flip(frag_crop, axis=1).copy()\n",
    "#             mask_crop = np.flip(mask_crop, axis=1).copy()\n",
    "\n",
    "#         frag_crop = torch.from_numpy(frag_crop.astype(np.float32)).unsqueeze(0).permute(0, 3, 1, 2)\n",
    "#         frag_crop = frag_crop/65535.0\n",
    "#         frag_crop = (frag_crop - 0.45)/0.225\n",
    "        \n",
    "#         mask_crop = torch.from_numpy(mask_crop.astype(np.float32)).unsqueeze(0)\n",
    "        \n",
    "        \n",
    "        \n",
    "        \n",
    "        \n",
    "        \n",
    "        \n",
    "        \n",
    "#         return frag_crop, mask_crop\n",
    "\n",
    "#     def __len__(self):\n",
    "#         return len(self.xys)"
   ]
  },
  {
   "cell_type": "code",
   "execution_count": 9,
   "id": "c2c0c6d5",
   "metadata": {
    "execution": {
     "iopub.execute_input": "2023-05-23T11:39:58.582205Z",
     "iopub.status.busy": "2023-05-23T11:39:58.582116Z",
     "iopub.status.idle": "2023-05-23T11:39:58.878492Z",
     "shell.execute_reply": "2023-05-23T11:39:58.878160Z"
    }
   },
   "outputs": [],
   "source": [
    "import albumentations as A\n",
    "from albumentations.pytorch import ToTensorV2\n",
    "\n",
    "class VesuviusTrain(Dataset):\n",
    "    def __init__(self, fragments):\n",
    "        self.fragments = fragments\n",
    "        self.xys = []\n",
    "        \n",
    "        for fragment in fragments:\n",
    "            H, W = FRAGMENTS_SHAPE[fragment]\n",
    "            for y in range(0, H-CROP_SIZE+1, CROP_SIZE):\n",
    "                for x in range(0, W-CROP_SIZE+1, CROP_SIZE):\n",
    "                    surface = FRAGMENTS_ZARR[fragment].surface_volume[y:y+CROP_SIZE, x:x+CROP_SIZE, 0]\n",
    "                    if np.sum(surface) / (CROP_SIZE * CROP_SIZE) > 0.2:\n",
    "                        self.xys.append((fragment, x, y, W, H))\n",
    "        \n",
    "        self.train_aug_list = [\n",
    "                # A.RandomResizedCrop(\n",
    "                #     size, size, scale=(0.85, 1.0)),\n",
    "                \n",
    "                A.HorizontalFlip(p=0.5),\n",
    "                A.VerticalFlip(p=0.5),\n",
    "                \n",
    "                # A.RandomBrightnessContrast(p=0.75),\n",
    "                A.CoarseDropout(max_holes=1, max_width=int(CROP_SIZE * 0.1), max_height=int(CROP_SIZE * 0.1), \n",
    "                                mask_fill_value=0, p=0.5),\n",
    "                # A.ShiftScaleRotate(p=0.75),\n",
    "                \n",
    "                A.Rotate(limit=90, p=0.9), \n",
    "                \n",
    "                # A.OneOf([\n",
    "                #         A.GaussNoise(var_limit=[0.01, 0.05]),\n",
    "                #         A.GaussianBlur(blur_limit=(3, 5), sigma_limit=0),\n",
    "                #         A.MotionBlur(blur_limit=3),\n",
    "                #         ], p=0.8),\n",
    "                # A.GridDistortion(num_steps=1, distort_limit=0.1, p=0.5),\n",
    "                # A.MultiplicativeNoise(per_channel=True, multiplier=(0.95, 1.05)),\n",
    "                \n",
    "                # A.Cutout(max_h_size=int(CROP_SIZE * 0.2),\n",
    "                #          max_w_size=int(CROP_SIZE * 0.2), num_holes=1, p=1.0),\n",
    "                \n",
    "                ToTensorV2(transpose_mask=True),\n",
    "            ]\n",
    "        \n",
    "        # Create the augmentation pipeline\n",
    "        self.augmentations = A.Compose(self.train_aug_list)\n",
    "        \n",
    "        \n",
    "        \n",
    "    def __getitem__(self, i):\n",
    "        fragment, x1, y1, W, H = self.xys[i]\n",
    "        z1, z2 = Z_START, Z_START+Z_DIMS\n",
    "        \n",
    "        x_offset = random.randint(-128 if x1 != 0 else 0, 128)\n",
    "        y_offset = random.randint(-128 if y1 != 0 else 0, 128)\n",
    "        \n",
    "        x1 += x_offset\n",
    "        y1 += y_offset\n",
    "        \n",
    "        x2 = x1 + CROP_SIZE\n",
    "        y2 = y1 + CROP_SIZE\n",
    "        \n",
    "        if x2 > W:\n",
    "            x1 -= x_offset\n",
    "            x2 -= x_offset\n",
    "            \n",
    "        if y2 > H:\n",
    "            y1 -= y_offset\n",
    "            y2 -= y_offset\n",
    "        \n",
    "        frag_crop = FRAGMENTS_ZARR[fragment].surface_volume[y1:y2, x1:x2, z1:z2]\n",
    "        mask_crop = FRAGMENTS_ZARR[fragment].truth[y1:y2, x1:x2]\n",
    "        \n",
    "        # if random.random() > 0.5:\n",
    "        #     frag_crop = np.flip(frag_crop, axis=1).copy()\n",
    "        #     mask_crop = np.flip(mask_crop, axis=1).copy()\n",
    "\n",
    "        # Perform train augmentations\n",
    "\n",
    "        frag_crop = frag_crop/65535.0\n",
    "        \n",
    "        \n",
    "        # Apply the augmentations\n",
    "        augmented = self.augmentations(image=frag_crop, mask=mask_crop)\n",
    "\n",
    "        # Separate the image and mask\n",
    "        frag_crop, mask_crop = augmented[\"image\"], augmented[\"mask\"]\n",
    "\n",
    "        # normalize\n",
    "        \n",
    "        # frag_crop = (frag_crop - 0.45)/0.225\n",
    "        \n",
    "        frag_crop = frag_crop.unsqueeze(0) \n",
    "        mask_crop = mask_crop.float().unsqueeze(0)\n",
    "        \n",
    "        \n",
    "        return frag_crop, mask_crop\n",
    "\n",
    "    def __len__(self):\n",
    "        return len(self.xys)"
   ]
  },
  {
   "cell_type": "code",
   "execution_count": 10,
   "id": "f172c2ad",
   "metadata": {
    "execution": {
     "iopub.execute_input": "2023-05-23T11:39:58.880068Z",
     "iopub.status.busy": "2023-05-23T11:39:58.879865Z",
     "iopub.status.idle": "2023-05-23T11:39:58.883395Z",
     "shell.execute_reply": "2023-05-23T11:39:58.883118Z"
    },
    "papermill": {
     "duration": 0.022963,
     "end_time": "2023-04-08T10:12:11.644387",
     "exception": false,
     "start_time": "2023-04-08T10:12:11.621424",
     "status": "completed"
    },
    "tags": []
   },
   "outputs": [],
   "source": [
    "class VesuviusVal(Dataset):\n",
    "    def __init__(self, fragment):\n",
    "        self.fragment = FRAGMENTS_ZARR[fragment]\n",
    "        self.xys = []\n",
    "        \n",
    "        H, W = FRAGMENTS_SHAPE[fragment]\n",
    "        for y in range(0, H-CROP_SIZE+1, CROP_SIZE):\n",
    "            for x in range(0, W-CROP_SIZE+1, CROP_SIZE):\n",
    "                self.xys.append((x, y))\n",
    "                \n",
    "    def __getitem__(self, i):\n",
    "        x1, y1 = self.xys[i]\n",
    "        x2, y2 = x1+CROP_SIZE, y1+CROP_SIZE\n",
    "        z1, z2 = Z_START, Z_START+Z_DIMS\n",
    "        \n",
    "        frag_crop = self.fragment.surface_volume[y1:y2, x1:x2, z1:z2]\n",
    "        mask_crop = self.fragment.truth[y1:y2, x1:x2]\n",
    "\n",
    "        frag_crop = torch.from_numpy(frag_crop.astype(np.float32)).unsqueeze(0).permute(0, 3, 1, 2)\n",
    "        frag_crop = frag_crop/65535.0\n",
    "        # frag_crop = (frag_crop - 0.45)/0.225\n",
    "        \n",
    "        mask_crop = torch.from_numpy(mask_crop.astype(np.float32)).unsqueeze(0)\n",
    "        return frag_crop, mask_crop, torch.tensor([x1, y1, x2, y2], dtype=torch.int32)\n",
    "\n",
    "    def __len__(self):\n",
    "        return len(self.xys)"
   ]
  },
  {
   "cell_type": "code",
   "execution_count": 11,
   "id": "4282f924",
   "metadata": {
    "execution": {
     "iopub.execute_input": "2023-05-23T11:39:58.884578Z",
     "iopub.status.busy": "2023-05-23T11:39:58.884457Z",
     "iopub.status.idle": "2023-05-23T11:40:01.175891Z",
     "shell.execute_reply": "2023-05-23T11:40:01.175651Z"
    },
    "papermill": {
     "duration": 0.019671,
     "end_time": "2023-04-08T10:12:11.672490",
     "exception": false,
     "start_time": "2023-04-08T10:12:11.652819",
     "status": "completed"
    },
    "tags": []
   },
   "outputs": [],
   "source": [
    "dataset_train = VesuviusTrain(TRAIN_FRAGMENTS)\n",
    "dataloader_train = DataLoader(dataset_train, batch_size=BATCH_SIZE, num_workers=2,\n",
    "                              shuffle=True, pin_memory=True, drop_last=True)\n",
    "n_train = len(dataloader_train)\n",
    "\n",
    "dataset_valid = VesuviusVal(TEST_FRAGMENT)\n",
    "dataloader_valid = DataLoader(dataset_valid, batch_size=BATCH_SIZE, num_workers=2,\n",
    "                              shuffle=False, pin_memory=True, drop_last=False)\n",
    "n_valid = len(dataloader_valid)"
   ]
  },
  {
   "cell_type": "code",
   "execution_count": 12,
   "id": "0577f1a6",
   "metadata": {
    "execution": {
     "iopub.execute_input": "2023-05-23T11:40:01.177150Z",
     "iopub.status.busy": "2023-05-23T11:40:01.177036Z",
     "iopub.status.idle": "2023-05-23T11:40:01.192843Z",
     "shell.execute_reply": "2023-05-23T11:40:01.192638Z"
    }
   },
   "outputs": [
    {
     "data": {
      "text/plain": [
       "(tensor(0.0006, dtype=torch.float64), tensor(1., dtype=torch.float64))"
      ]
     },
     "execution_count": 12,
     "metadata": {},
     "output_type": "execute_result"
    }
   ],
   "source": [
    "i = random.randint(0, len(dataset_train))\n",
    "i=30\n",
    "img = dataset_train[i][0]\n",
    "img.min(), img.max()"
   ]
  },
  {
   "cell_type": "code",
   "execution_count": 13,
   "id": "40a15748",
   "metadata": {
    "execution": {
     "iopub.execute_input": "2023-05-23T11:40:01.193829Z",
     "iopub.status.busy": "2023-05-23T11:40:01.193719Z",
     "iopub.status.idle": "2023-05-23T11:40:01.274279Z",
     "shell.execute_reply": "2023-05-23T11:40:01.273942Z"
    }
   },
   "outputs": [
    {
     "data": {
      "text/plain": [
       "<matplotlib.image.AxesImage at 0x7f233adf6e80>"
      ]
     },
     "execution_count": 13,
     "metadata": {},
     "output_type": "execute_result"
    },
    {
     "data": {
      "image/png": "[encoded data removed]",
      "text/plain": [
       "<Figure size 640x480 with 1 Axes>"
      ]
     },
     "metadata": {},
     "output_type": "display_data"
    }
   ],
   "source": [
    "img_2 = img.squeeze(0).permute(1, 2, 0).numpy()\n",
    "plt.imshow(img_2[:, :, 0], cmap=\"gray\")"
   ]
  },
  {
   "cell_type": "code",
   "execution_count": null,
   "id": "e07b120a",
   "metadata": {},
   "outputs": [],
   "source": []
  },
  {
   "cell_type": "code",
   "execution_count": null,
   "id": "a792af0c",
   "metadata": {},
   "outputs": [],
   "source": []
  },
  {
   "attachments": {},
   "cell_type": "markdown",
   "id": "cdcc7e0b",
   "metadata": {
    "papermill": {
     "duration": 0.008028,
     "end_time": "2023-04-08T10:12:11.688860",
     "exception": false,
     "start_time": "2023-04-08T10:12:11.680832",
     "status": "completed"
    },
    "tags": []
   },
   "source": [
    "### Model\n",
    "* Encoder is a 3D ResNet model. The architecture has been modified to remove temporal downsampling between blocks.\n",
    "* A 2D decoder is used for predicting the segmentation map.\n",
    "* The encoder feature maps are average pooled over the Z dimension before passing it to the decoder."
   ]
  },
  {
   "cell_type": "code",
   "execution_count": 14,
   "id": "ff7cc8a3",
   "metadata": {
    "execution": {
     "iopub.execute_input": "2023-05-23T11:40:01.275643Z",
     "iopub.status.busy": "2023-05-23T11:40:01.275528Z",
     "iopub.status.idle": "2023-05-23T11:40:01.279575Z",
     "shell.execute_reply": "2023-05-23T11:40:01.279394Z"
    },
    "papermill": {
     "duration": 0.023714,
     "end_time": "2023-04-08T10:12:11.721140",
     "exception": false,
     "start_time": "2023-04-08T10:12:11.697426",
     "status": "completed"
    },
    "tags": []
   },
   "outputs": [],
   "source": [
    "class Decoder(nn.Module):\n",
    "    def __init__(self, encoder_dims, upscale):\n",
    "        super().__init__()\n",
    "        self.convs = nn.ModuleList([\n",
    "            nn.Sequential(\n",
    "                nn.Conv2d(encoder_dims[i]+encoder_dims[i-1], encoder_dims[i-1], 3, 1, 1, bias=False),\n",
    "                nn.BatchNorm2d(encoder_dims[i-1]),\n",
    "                nn.ReLU(inplace=True)\n",
    "            ) for i in range(1, len(encoder_dims))])\n",
    "\n",
    "        self.logit = nn.Conv2d(encoder_dims[0], 1, 1, 1, 0)\n",
    "        self.up = nn.Upsample(scale_factor=upscale, mode=\"bilinear\")\n",
    "\n",
    "    def forward(self, feature_maps):\n",
    "        for i in range(len(feature_maps)-1, 0, -1):\n",
    "            f_up = F.interpolate(feature_maps[i], scale_factor=2, mode=\"bilinear\")\n",
    "            f = torch.cat([feature_maps[i-1], f_up], dim=1)\n",
    "            f_down = self.convs[i-1](f)\n",
    "            feature_maps[i-1] = f_down\n",
    "\n",
    "        x = self.logit(feature_maps[0])\n",
    "        mask = self.up(x)\n",
    "        return mask\n",
    "\n",
    "\n",
    "class SegModel(nn.Module):\n",
    "    def __init__(self):\n",
    "        super().__init__()\n",
    "        self.encoder = generate_model(model_depth=34, n_input_channels=1)\n",
    "        self.decoder = Decoder(encoder_dims=[64, 128, 256, 512], upscale=4)\n",
    "        \n",
    "    def forward(self, x):\n",
    "        feat_maps = self.encoder(x)\n",
    "        feat_maps_pooled = [torch.mean(f, dim=2) for f in feat_maps]\n",
    "        pred_mask = self.decoder(feat_maps_pooled)\n",
    "        return pred_mask\n",
    "    \n",
    "    def load_pretrained_weights(self, state_dict):\n",
    "        # Convert 3 channel weights to single channel\n",
    "        # ref - https://timm.fast.ai/models#Case-1:-When-the-number-of-input-channels-is-1\n",
    "        conv1_weight = state_dict['conv1.weight']\n",
    "        state_dict['conv1.weight'] = conv1_weight.sum(dim=1, keepdim=True)\n",
    "        print(self.encoder.load_state_dict(state_dict, strict=False))"
   ]
  },
  {
   "cell_type": "code",
   "execution_count": 15,
   "id": "67e4a0f1",
   "metadata": {
    "execution": {
     "iopub.execute_input": "2023-05-23T11:40:01.280696Z",
     "iopub.status.busy": "2023-05-23T11:40:01.280600Z",
     "iopub.status.idle": "2023-05-23T11:40:02.331620Z",
     "shell.execute_reply": "2023-05-23T11:40:02.331281Z"
    },
    "papermill": {
     "duration": 3.891528,
     "end_time": "2023-04-08T10:12:15.621016",
     "exception": false,
     "start_time": "2023-04-08T10:12:11.729488",
     "status": "completed"
    },
    "tags": []
   },
   "outputs": [
    {
     "name": "stdout",
     "output_type": "stream",
     "text": [
      "_IncompatibleKeys(missing_keys=['layer1.2.conv1.weight', 'layer1.2.bn1.weight', 'layer1.2.bn1.bias', 'layer1.2.bn1.running_mean', 'layer1.2.bn1.running_var', 'layer1.2.conv2.weight', 'layer1.2.bn2.weight', 'layer1.2.bn2.bias', 'layer1.2.bn2.running_mean', 'layer1.2.bn2.running_var', 'layer2.2.conv1.weight', 'layer2.2.bn1.weight', 'layer2.2.bn1.bias', 'layer2.2.bn1.running_mean', 'layer2.2.bn1.running_var', 'layer2.2.conv2.weight', 'layer2.2.bn2.weight', 'layer2.2.bn2.bias', 'layer2.2.bn2.running_mean', 'layer2.2.bn2.running_var', 'layer2.3.conv1.weight', 'layer2.3.bn1.weight', 'layer2.3.bn1.bias', 'layer2.3.bn1.running_mean', 'layer2.3.bn1.running_var', 'layer2.3.conv2.weight', 'layer2.3.bn2.weight', 'layer2.3.bn2.bias', 'layer2.3.bn2.running_mean', 'layer2.3.bn2.running_var', 'layer3.2.conv1.weight', 'layer3.2.bn1.weight', 'layer3.2.bn1.bias', 'layer3.2.bn1.running_mean', 'layer3.2.bn1.running_var', 'layer3.2.conv2.weight', 'layer3.2.bn2.weight', 'layer3.2.bn2.bias', 'layer3.2.bn2.running_mean', 'layer3.2.bn2.running_var', 'layer3.3.conv1.weight', 'layer3.3.bn1.weight', 'layer3.3.bn1.bias', 'layer3.3.bn1.running_mean', 'layer3.3.bn1.running_var', 'layer3.3.conv2.weight', 'layer3.3.bn2.weight', 'layer3.3.bn2.bias', 'layer3.3.bn2.running_mean', 'layer3.3.bn2.running_var', 'layer3.4.conv1.weight', 'layer3.4.bn1.weight', 'layer3.4.bn1.bias', 'layer3.4.bn1.running_mean', 'layer3.4.bn1.running_var', 'layer3.4.conv2.weight', 'layer3.4.bn2.weight', 'layer3.4.bn2.bias', 'layer3.4.bn2.running_mean', 'layer3.4.bn2.running_var', 'layer3.5.conv1.weight', 'layer3.5.bn1.weight', 'layer3.5.bn1.bias', 'layer3.5.bn1.running_mean', 'layer3.5.bn1.running_var', 'layer3.5.conv2.weight', 'layer3.5.bn2.weight', 'layer3.5.bn2.bias', 'layer3.5.bn2.running_mean', 'layer3.5.bn2.running_var', 'layer4.2.conv1.weight', 'layer4.2.bn1.weight', 'layer4.2.bn1.bias', 'layer4.2.bn1.running_mean', 'layer4.2.bn1.running_var', 'layer4.2.conv2.weight', 'layer4.2.bn2.weight', 'layer4.2.bn2.bias', 'layer4.2.bn2.running_mean', 'layer4.2.bn2.running_var'], unexpected_keys=['fc.weight', 'fc.bias'])\n"
     ]
    }
   ],
   "source": [
    "model = SegModel()\n",
    "model.load_pretrained_weights(torch.load(\"/home/viktor/Documents/kaggle/vesuvius-challenge/experiments/3D-resnet/r3d18_K_200ep.pth\")[\"state_dict\"])\n",
    "model = nn.DataParallel(model, device_ids=[0])\n",
    "\n",
    "model = model.cuda()"
   ]
  },
  {
   "cell_type": "code",
   "execution_count": 16,
   "id": "491e9288",
   "metadata": {
    "execution": {
     "iopub.execute_input": "2023-05-23T11:40:02.333102Z",
     "iopub.status.busy": "2023-05-23T11:40:02.333007Z",
     "iopub.status.idle": "2023-05-23T11:40:03.184436Z",
     "shell.execute_reply": "2023-05-23T11:40:03.184140Z"
    }
   },
   "outputs": [
    {
     "data": {
      "text/plain": [
       "torch.Size([5, 1, 256, 256])"
      ]
     },
     "execution_count": 16,
     "metadata": {},
     "output_type": "execute_result"
    }
   ],
   "source": [
    "x = torch.randn(5, 1, 16, 256, 256).cuda()\n",
    "with torch.no_grad():\n",
    "    y = model(x)\n",
    "y.shape"
   ]
  },
  {
   "attachments": {},
   "cell_type": "markdown",
   "id": "d84d7c0e",
   "metadata": {
    "papermill": {
     "duration": 0.008816,
     "end_time": "2023-04-08T10:12:15.638951",
     "exception": false,
     "start_time": "2023-04-08T10:12:15.630135",
     "status": "completed"
    },
    "tags": []
   },
   "source": [
    "### Competition metric (F0.5 Score)"
   ]
  },
  {
   "cell_type": "code",
   "execution_count": 17,
   "id": "61dbeb5c",
   "metadata": {
    "execution": {
     "iopub.execute_input": "2023-05-23T11:40:03.185766Z",
     "iopub.status.busy": "2023-05-23T11:40:03.185667Z",
     "iopub.status.idle": "2023-05-23T11:40:03.188096Z",
     "shell.execute_reply": "2023-05-23T11:40:03.187901Z"
    },
    "papermill": {
     "duration": 0.020268,
     "end_time": "2023-04-08T10:12:15.668008",
     "exception": false,
     "start_time": "2023-04-08T10:12:15.647740",
     "status": "completed"
    },
    "tags": []
   },
   "outputs": [],
   "source": [
    "# ref - https://www.kaggle.com/competitions/vesuvius-challenge-ink-detection/discussion/397288\n",
    "def fbeta_score(preds, targets, threshold, beta=0.5, smooth=1e-5):\n",
    "    preds_t = torch.where(preds > threshold, 1.0, 0.0).float()\n",
    "    y_true_count = targets.sum()\n",
    "    \n",
    "    ctp = preds_t[targets==1].sum()\n",
    "    cfp = preds_t[targets==0].sum()\n",
    "    beta_squared = beta * beta\n",
    "\n",
    "    c_precision = ctp / (ctp + cfp + smooth)\n",
    "    c_recall = ctp / (y_true_count + smooth)\n",
    "    dice = (1 + beta_squared) * (c_precision * c_recall) / (beta_squared * c_precision + c_recall + smooth)\n",
    "\n",
    "    return dice"
   ]
  },
  {
   "attachments": {},
   "cell_type": "markdown",
   "id": "639c9148",
   "metadata": {
    "papermill": {
     "duration": 0.008498,
     "end_time": "2023-04-08T10:12:15.685205",
     "exception": false,
     "start_time": "2023-04-08T10:12:15.676707",
     "status": "completed"
    },
    "tags": []
   },
   "source": [
    "### Training"
   ]
  },
  {
   "cell_type": "code",
   "execution_count": 18,
   "id": "0cca2e6e",
   "metadata": {
    "execution": {
     "iopub.execute_input": "2023-05-23T11:40:03.189246Z",
     "iopub.status.busy": "2023-05-23T11:40:03.189147Z",
     "iopub.status.idle": "2023-05-23T11:40:03.191183Z",
     "shell.execute_reply": "2023-05-23T11:40:03.190999Z"
    },
    "papermill": {
     "duration": 0.019067,
     "end_time": "2023-04-08T10:12:15.713237",
     "exception": false,
     "start_time": "2023-04-08T10:12:15.694170",
     "status": "completed"
    },
    "tags": []
   },
   "outputs": [],
   "source": [
    "scaler = amp.GradScaler()\n",
    "criterion = nn.BCEWithLogitsLoss()\n",
    "optimizer = torch.optim.AdamW(model.parameters(), lr=LR)\n",
    "scheduler = torch.optim.lr_scheduler.OneCycleLR(optimizer, max_lr=LR,\n",
    "                                                steps_per_epoch=10, epochs=EPOCHS//10,\n",
    "                                                pct_start=0.1)"
   ]
  },
  {
   "cell_type": "code",
   "execution_count": 19,
   "id": "7304e1fd",
   "metadata": {
    "execution": {
     "iopub.execute_input": "2023-05-23T11:40:03.192316Z",
     "iopub.status.busy": "2023-05-23T11:40:03.192198Z",
     "iopub.status.idle": "2023-05-23T11:40:03.287898Z",
     "shell.execute_reply": "2023-05-23T11:40:03.287393Z"
    },
    "papermill": {
     "duration": 0.385175,
     "end_time": "2023-04-08T10:12:16.107159",
     "exception": false,
     "start_time": "2023-04-08T10:12:15.721984",
     "status": "completed"
    },
    "tags": []
   },
   "outputs": [],
   "source": [
    "gt_mask = torch.from_numpy(np.asarray(FRAGMENTS_ZARR[TEST_FRAGMENT].truth)).float().cuda()\n",
    "gt_shape = FRAGMENTS_SHAPE[TEST_FRAGMENT]"
   ]
  },
  {
   "cell_type": "code",
   "execution_count": 20,
   "id": "c0b85bf1",
   "metadata": {
    "execution": {
     "iopub.execute_input": "2023-05-23T11:40:03.289585Z",
     "iopub.status.busy": "2023-05-23T11:40:03.289480Z",
     "iopub.status.idle": "2023-05-23T11:40:03.291665Z",
     "shell.execute_reply": "2023-05-23T11:40:03.291466Z"
    }
   },
   "outputs": [],
   "source": [
    "import logging\n",
    "\n",
    "logging.basicConfig(filename=\"training_log.txt\", level=logging.INFO)\n"
   ]
  },
  {
   "cell_type": "code",
   "execution_count": 21,
   "id": "00067c9c",
   "metadata": {
    "execution": {
     "iopub.execute_input": "2023-05-23T11:40:03.292842Z",
     "iopub.status.busy": "2023-05-23T11:40:03.292764Z",
     "iopub.status.idle": "2023-05-23T12:23:46.788670Z",
     "shell.execute_reply": "2023-05-23T12:23:46.788314Z"
    },
    "papermill": {
     "duration": 4077.588277,
     "end_time": "2023-04-08T11:20:13.706513",
     "exception": false,
     "start_time": "2023-04-08T10:12:16.118236",
     "status": "completed"
    },
    "tags": []
   },
   "outputs": [
    {
     "name": "stderr",
     "output_type": "stream",
     "text": [
      "Epoch 1/70  Mem : 17.6GB  LR : 4.00E-06  Loss: 0.6148: 100%|██████████| 28/28 [00:17<00:\n",
      "Val Loss: 0.6029: 100%|██████████| 66/66 [00:19<00:00,  3.41it/s]                       \n"
     ]
    },
    {
     "name": "stdout",
     "output_type": "stream",
     "text": [
      "Threshold : 0.20\tFBeta : 0.148009\n",
      "Threshold : 0.25\tFBeta : 0.148019\n",
      "Threshold : 0.30\tFBeta : 0.151307\n",
      "Threshold : 0.35\tFBeta : 0.171233\n",
      "Threshold : 0.40\tFBeta : 0.194936\n",
      "Threshold : 0.45\tFBeta : 0.209657\n",
      "Threshold : 0.50\tFBeta : 0.191437\n",
      "Threshold : 0.55\tFBeta : 0.030774\n",
      "Threshold : 0.60\tFBeta : 0.000179\n",
      "Threshold : 0.65\tFBeta : 0.000000\n",
      "Threshold : 0.70\tFBeta : 0.000000\n",
      "Threshold : 0.75\tFBeta : 0.000000\n",
      "Threshold : 0.80\tFBeta : 0.000000\n",
      "\n"
     ]
    },
    {
     "name": "stderr",
     "output_type": "stream",
     "text": [
      "Epoch 2/70  Mem : 22GB  LR : 1.04E-05  Loss: 0.5637: 100%|██████████| 28/28 [00:17<00:00\n",
      "Val Loss: 0.5813: 100%|██████████| 66/66 [00:19<00:00,  3.40it/s]                       \n"
     ]
    },
    {
     "name": "stdout",
     "output_type": "stream",
     "text": [
      "Threshold : 0.20\tFBeta : 0.151035\n",
      "Threshold : 0.25\tFBeta : 0.155626\n",
      "Threshold : 0.30\tFBeta : 0.162514\n",
      "Threshold : 0.35\tFBeta : 0.164251\n",
      "Threshold : 0.40\tFBeta : 0.141634\n",
      "Threshold : 0.45\tFBeta : 0.065587\n",
      "Threshold : 0.50\tFBeta : 0.008684\n",
      "Threshold : 0.55\tFBeta : 0.000487\n",
      "Threshold : 0.60\tFBeta : 0.000016\n",
      "Threshold : 0.65\tFBeta : 0.000000\n",
      "Threshold : 0.70\tFBeta : 0.000000\n",
      "Threshold : 0.75\tFBeta : 0.000000\n",
      "Threshold : 0.80\tFBeta : 0.000000\n",
      "\n"
     ]
    },
    {
     "name": "stderr",
     "output_type": "stream",
     "text": [
      "Epoch 3/70  Mem : 22GB  LR : 2.80E-05  Loss: 0.5195: 100%|██████████| 28/28 [00:17<00:00\n",
      "Val Loss: 0.5142: 100%|██████████| 66/66 [00:19<00:00,  3.35it/s]                       \n"
     ]
    },
    {
     "name": "stdout",
     "output_type": "stream",
     "text": [
      "Threshold : 0.20\tFBeta : 0.153578\n",
      "Threshold : 0.25\tFBeta : 0.169069\n",
      "Threshold : 0.30\tFBeta : 0.190377\n",
      "Threshold : 0.35\tFBeta : 0.206894\n",
      "Threshold : 0.40\tFBeta : 0.218927\n",
      "Threshold : 0.45\tFBeta : 0.219279\n",
      "Threshold : 0.50\tFBeta : 0.180469\n",
      "Threshold : 0.55\tFBeta : 0.081193\n",
      "Threshold : 0.60\tFBeta : 0.006166\n",
      "Threshold : 0.65\tFBeta : 0.000028\n",
      "Threshold : 0.70\tFBeta : 0.000000\n",
      "Threshold : 0.75\tFBeta : 0.000000\n",
      "Threshold : 0.80\tFBeta : 0.000000\n",
      "\n"
     ]
    },
    {
     "name": "stderr",
     "output_type": "stream",
     "text": [
      "Epoch 4/70  Mem : 22GB  LR : 5.20E-05  Loss: 0.4827: 100%|██████████| 28/28 [00:17<00:00\n",
      "Val Loss: 0.4479: 100%|██████████| 66/66 [00:19<00:00,  3.41it/s]                       \n"
     ]
    },
    {
     "name": "stdout",
     "output_type": "stream",
     "text": [
      "Threshold : 0.20\tFBeta : 0.181622\n",
      "Threshold : 0.25\tFBeta : 0.213360\n",
      "Threshold : 0.30\tFBeta : 0.230821\n",
      "Threshold : 0.35\tFBeta : 0.250388\n",
      "Threshold : 0.40\tFBeta : 0.270554\n",
      "Threshold : 0.45\tFBeta : 0.277291\n",
      "Threshold : 0.50\tFBeta : 0.244761\n",
      "Threshold : 0.55\tFBeta : 0.112433\n",
      "Threshold : 0.60\tFBeta : 0.002963\n",
      "Threshold : 0.65\tFBeta : 0.000000\n",
      "Threshold : 0.70\tFBeta : 0.000000\n",
      "Threshold : 0.75\tFBeta : 0.000000\n",
      "Threshold : 0.80\tFBeta : 0.000000\n",
      "\n"
     ]
    },
    {
     "name": "stderr",
     "output_type": "stream",
     "text": [
      "Epoch 5/70  Mem : 22GB  LR : 7.60E-05  Loss: 0.4558: 100%|██████████| 28/28 [00:17<00:00\n",
      "Val Loss: 0.5291: 100%|██████████| 66/66 [00:19<00:00,  3.40it/s]                       \n"
     ]
    },
    {
     "name": "stdout",
     "output_type": "stream",
     "text": [
      "Threshold : 0.20\tFBeta : 0.211831\n",
      "Threshold : 0.25\tFBeta : 0.230353\n",
      "Threshold : 0.30\tFBeta : 0.214394\n",
      "Threshold : 0.35\tFBeta : 0.160094\n",
      "Threshold : 0.40\tFBeta : 0.094504\n",
      "Threshold : 0.45\tFBeta : 0.040301\n",
      "Threshold : 0.50\tFBeta : 0.011211\n",
      "Threshold : 0.55\tFBeta : 0.001523\n",
      "Threshold : 0.60\tFBeta : 0.000000\n",
      "Threshold : 0.65\tFBeta : 0.000000\n",
      "Threshold : 0.70\tFBeta : 0.000000\n",
      "Threshold : 0.75\tFBeta : 0.000000\n",
      "Threshold : 0.80\tFBeta : 0.000000\n",
      "\n"
     ]
    },
    {
     "name": "stderr",
     "output_type": "stream",
     "text": [
      "Epoch 6/70  Mem : 22GB  LR : 9.36E-05  Loss: 0.4447: 100%|██████████| 28/28 [00:17<00:00\n",
      "Val Loss: 2.4186: 100%|██████████| 66/66 [00:19<00:00,  3.43it/s]                       \n"
     ]
    },
    {
     "name": "stdout",
     "output_type": "stream",
     "text": [
      "Threshold : 0.20\tFBeta : 0.177256\n",
      "Threshold : 0.25\tFBeta : 0.184152\n",
      "Threshold : 0.30\tFBeta : 0.154650\n",
      "Threshold : 0.35\tFBeta : 0.098476\n",
      "Threshold : 0.40\tFBeta : 0.050574\n",
      "Threshold : 0.45\tFBeta : 0.024829\n",
      "Threshold : 0.50\tFBeta : 0.010505\n",
      "Threshold : 0.55\tFBeta : 0.002568\n",
      "Threshold : 0.60\tFBeta : 0.000001\n",
      "Threshold : 0.65\tFBeta : 0.000000\n",
      "Threshold : 0.70\tFBeta : 0.000000\n",
      "Threshold : 0.75\tFBeta : 0.000000\n",
      "Threshold : 0.80\tFBeta : 0.000000\n",
      "\n"
     ]
    },
    {
     "name": "stderr",
     "output_type": "stream",
     "text": [
      "Epoch 7/70  Mem : 22GB  LR : 1.00E-04  Loss: 0.4249: 100%|██████████| 28/28 [00:17<00:00\n",
      "Val Loss: 0.3575: 100%|██████████| 66/66 [00:19<00:00,  3.42it/s]                       \n"
     ]
    },
    {
     "name": "stdout",
     "output_type": "stream",
     "text": [
      "Threshold : 0.20\tFBeta : 0.241196\n",
      "Threshold : 0.25\tFBeta : 0.122253\n",
      "Threshold : 0.30\tFBeta : 0.002562\n",
      "Threshold : 0.35\tFBeta : 0.000027\n",
      "Threshold : 0.40\tFBeta : 0.000000\n",
      "Threshold : 0.45\tFBeta : 0.000000\n",
      "Threshold : 0.50\tFBeta : 0.000000\n",
      "Threshold : 0.55\tFBeta : 0.000000\n",
      "Threshold : 0.60\tFBeta : 0.000000\n",
      "Threshold : 0.65\tFBeta : 0.000000\n",
      "Threshold : 0.70\tFBeta : 0.000000\n",
      "Threshold : 0.75\tFBeta : 0.000000\n",
      "Threshold : 0.80\tFBeta : 0.000000\n",
      "\n"
     ]
    },
    {
     "name": "stderr",
     "output_type": "stream",
     "text": [
      "Epoch 8/70  Mem : 22GB  LR : 9.99E-05  Loss: 0.4270: 100%|██████████| 28/28 [00:17<00:00\n",
      "Val Loss: 0.6206: 100%|██████████| 66/66 [00:19<00:00,  3.42it/s]                       \n"
     ]
    },
    {
     "name": "stdout",
     "output_type": "stream",
     "text": [
      "Threshold : 0.20\tFBeta : 0.186233\n",
      "Threshold : 0.25\tFBeta : 0.121097\n",
      "Threshold : 0.30\tFBeta : 0.074306\n",
      "Threshold : 0.35\tFBeta : 0.049652\n",
      "Threshold : 0.40\tFBeta : 0.035817\n",
      "Threshold : 0.45\tFBeta : 0.026818\n",
      "Threshold : 0.50\tFBeta : 0.019313\n",
      "Threshold : 0.55\tFBeta : 0.010742\n",
      "Threshold : 0.60\tFBeta : 0.003005\n",
      "Threshold : 0.65\tFBeta : 0.000223\n",
      "Threshold : 0.70\tFBeta : 0.000000\n",
      "Threshold : 0.75\tFBeta : 0.000000\n",
      "Threshold : 0.80\tFBeta : 0.000000\n",
      "\n"
     ]
    },
    {
     "name": "stderr",
     "output_type": "stream",
     "text": [
      "Epoch 9/70  Mem : 22GB  LR : 9.98E-05  Loss: 0.4061: 100%|██████████| 28/28 [00:17<00:00\n",
      "Val Loss: 0.3607: 100%|██████████| 66/66 [00:19<00:00,  3.41it/s]                       \n"
     ]
    },
    {
     "name": "stdout",
     "output_type": "stream",
     "text": [
      "Threshold : 0.20\tFBeta : 0.236068\n",
      "Threshold : 0.25\tFBeta : 0.101596\n",
      "Threshold : 0.30\tFBeta : 0.025819\n",
      "Threshold : 0.35\tFBeta : 0.011614\n",
      "Threshold : 0.40\tFBeta : 0.005001\n",
      "Threshold : 0.45\tFBeta : 0.001338\n",
      "Threshold : 0.50\tFBeta : 0.000024\n",
      "Threshold : 0.55\tFBeta : 0.000000\n",
      "Threshold : 0.60\tFBeta : 0.000000\n",
      "Threshold : 0.65\tFBeta : 0.000000\n",
      "Threshold : 0.70\tFBeta : 0.000000\n",
      "Threshold : 0.75\tFBeta : 0.000000\n",
      "Threshold : 0.80\tFBeta : 0.000000\n",
      "\n"
     ]
    },
    {
     "name": "stderr",
     "output_type": "stream",
     "text": [
      "Epoch 10/70  Mem : 22GB  LR : 9.94E-05  Loss: 0.3920: 100%|██████████| 28/28 [00:17<00:0\n",
      "Val Loss: 0.5482: 100%|██████████| 66/66 [00:19<00:00,  3.40it/s]                       \n"
     ]
    },
    {
     "name": "stdout",
     "output_type": "stream",
     "text": [
      "Threshold : 0.20\tFBeta : 0.242910\n",
      "Threshold : 0.25\tFBeta : 0.230395\n",
      "Threshold : 0.30\tFBeta : 0.196338\n",
      "Threshold : 0.35\tFBeta : 0.162995\n",
      "Threshold : 0.40\tFBeta : 0.132273\n",
      "Threshold : 0.45\tFBeta : 0.105632\n",
      "Threshold : 0.50\tFBeta : 0.075462\n",
      "Threshold : 0.55\tFBeta : 0.041037\n",
      "Threshold : 0.60\tFBeta : 0.018863\n",
      "Threshold : 0.65\tFBeta : 0.008615\n",
      "Threshold : 0.70\tFBeta : 0.004022\n",
      "Threshold : 0.75\tFBeta : 0.001399\n",
      "Threshold : 0.80\tFBeta : 0.000352\n",
      "\n"
     ]
    },
    {
     "name": "stderr",
     "output_type": "stream",
     "text": [
      "Epoch 11/70  Mem : 22GB  LR : 9.90E-05  Loss: 0.3887: 100%|██████████| 28/28 [00:17<00:0\n",
      "Val Loss: 0.3667: 100%|██████████| 66/66 [00:19<00:00,  3.42it/s]                       \n"
     ]
    },
    {
     "name": "stdout",
     "output_type": "stream",
     "text": [
      "Threshold : 0.20\tFBeta : 0.259454\n",
      "Threshold : 0.25\tFBeta : 0.289442\n",
      "Threshold : 0.30\tFBeta : 0.302962\n",
      "Threshold : 0.35\tFBeta : 0.308669\n",
      "Threshold : 0.40\tFBeta : 0.310300\n",
      "Threshold : 0.45\tFBeta : 0.307110\n",
      "Threshold : 0.50\tFBeta : 0.296339\n",
      "Threshold : 0.55\tFBeta : 0.274088\n",
      "Threshold : 0.60\tFBeta : 0.232725\n",
      "Threshold : 0.65\tFBeta : 0.177328\n",
      "Threshold : 0.70\tFBeta : 0.122521\n",
      "Threshold : 0.75\tFBeta : 0.070362\n",
      "Threshold : 0.80\tFBeta : 0.026076\n",
      "\n"
     ]
    },
    {
     "name": "stderr",
     "output_type": "stream",
     "text": [
      "Epoch 12/70  Mem : 22GB  LR : 9.85E-05  Loss: 0.3664: 100%|██████████| 28/28 [00:17<00:0\n",
      "Val Loss: 0.4384: 100%|██████████| 66/66 [00:19<00:00,  3.43it/s]                       \n"
     ]
    },
    {
     "name": "stdout",
     "output_type": "stream",
     "text": [
      "Threshold : 0.20\tFBeta : 0.181966\n",
      "Threshold : 0.25\tFBeta : 0.048162\n",
      "Threshold : 0.30\tFBeta : 0.021245\n",
      "Threshold : 0.35\tFBeta : 0.012659\n",
      "Threshold : 0.40\tFBeta : 0.008521\n",
      "Threshold : 0.45\tFBeta : 0.005681\n",
      "Threshold : 0.50\tFBeta : 0.003487\n",
      "Threshold : 0.55\tFBeta : 0.001901\n",
      "Threshold : 0.60\tFBeta : 0.001052\n",
      "Threshold : 0.65\tFBeta : 0.000413\n",
      "Threshold : 0.70\tFBeta : 0.000000\n",
      "Threshold : 0.75\tFBeta : 0.000000\n",
      "Threshold : 0.80\tFBeta : 0.000000\n",
      "\n"
     ]
    },
    {
     "name": "stderr",
     "output_type": "stream",
     "text": [
      "Epoch 13/70  Mem : 22GB  LR : 9.78E-05  Loss: 0.3559: 100%|██████████| 28/28 [00:17<00:0\n",
      "Val Loss: 0.3374: 100%|██████████| 66/66 [00:19<00:00,  3.43it/s]                       \n"
     ]
    },
    {
     "name": "stdout",
     "output_type": "stream",
     "text": [
      "Threshold : 0.20\tFBeta : 0.364091\n",
      "Threshold : 0.25\tFBeta : 0.348245\n",
      "Threshold : 0.30\tFBeta : 0.325814\n",
      "Threshold : 0.35\tFBeta : 0.302422\n",
      "Threshold : 0.40\tFBeta : 0.275716\n",
      "Threshold : 0.45\tFBeta : 0.247154\n",
      "Threshold : 0.50\tFBeta : 0.217006\n",
      "Threshold : 0.55\tFBeta : 0.183001\n",
      "Threshold : 0.60\tFBeta : 0.140373\n",
      "Threshold : 0.65\tFBeta : 0.097132\n",
      "Threshold : 0.70\tFBeta : 0.063040\n",
      "Threshold : 0.75\tFBeta : 0.036505\n",
      "Threshold : 0.80\tFBeta : 0.018375\n",
      "\n"
     ]
    },
    {
     "name": "stderr",
     "output_type": "stream",
     "text": [
      "Epoch 14/70  Mem : 22GB  LR : 9.70E-05  Loss: 0.3533: 100%|██████████| 28/28 [00:17<00:0\n",
      "Val Loss: 0.3327: 100%|██████████| 66/66 [00:19<00:00,  3.42it/s]                       \n"
     ]
    },
    {
     "name": "stdout",
     "output_type": "stream",
     "text": [
      "Threshold : 0.20\tFBeta : 0.311461\n",
      "Threshold : 0.25\tFBeta : 0.334116\n",
      "Threshold : 0.30\tFBeta : 0.336608\n",
      "Threshold : 0.35\tFBeta : 0.333800\n",
      "Threshold : 0.40\tFBeta : 0.326222\n",
      "Threshold : 0.45\tFBeta : 0.313765\n",
      "Threshold : 0.50\tFBeta : 0.292883\n",
      "Threshold : 0.55\tFBeta : 0.262005\n",
      "Threshold : 0.60\tFBeta : 0.214513\n",
      "Threshold : 0.65\tFBeta : 0.157704\n",
      "Threshold : 0.70\tFBeta : 0.104417\n",
      "Threshold : 0.75\tFBeta : 0.063514\n",
      "Threshold : 0.80\tFBeta : 0.030334\n",
      "\n"
     ]
    },
    {
     "name": "stderr",
     "output_type": "stream",
     "text": [
      "Epoch 15/70  Mem : 22GB  LR : 9.61E-05  Loss: 0.3399: 100%|██████████| 28/28 [00:17<00:0\n",
      "Val Loss: 0.3657: 100%|██████████| 66/66 [00:19<00:00,  3.42it/s]                       \n"
     ]
    },
    {
     "name": "stdout",
     "output_type": "stream",
     "text": [
      "Threshold : 0.20\tFBeta : 0.304493\n",
      "Threshold : 0.25\tFBeta : 0.302487\n",
      "Threshold : 0.30\tFBeta : 0.292741\n",
      "Threshold : 0.35\tFBeta : 0.279230\n",
      "Threshold : 0.40\tFBeta : 0.262598\n",
      "Threshold : 0.45\tFBeta : 0.242630\n",
      "Threshold : 0.50\tFBeta : 0.214831\n",
      "Threshold : 0.55\tFBeta : 0.176316\n",
      "Threshold : 0.60\tFBeta : 0.132201\n",
      "Threshold : 0.65\tFBeta : 0.095174\n",
      "Threshold : 0.70\tFBeta : 0.065642\n",
      "Threshold : 0.75\tFBeta : 0.043427\n",
      "Threshold : 0.80\tFBeta : 0.026530\n",
      "\n"
     ]
    },
    {
     "name": "stderr",
     "output_type": "stream",
     "text": [
      "Epoch 16/70  Mem : 22GB  LR : 9.50E-05  Loss: 0.3313: 100%|██████████| 28/28 [00:17<00:0\n",
      "Val Loss: 0.3538: 100%|██████████| 66/66 [00:19<00:00,  3.43it/s]                       \n"
     ]
    },
    {
     "name": "stdout",
     "output_type": "stream",
     "text": [
      "Threshold : 0.20\tFBeta : 0.158486\n",
      "Threshold : 0.25\tFBeta : 0.079166\n",
      "Threshold : 0.30\tFBeta : 0.047364\n",
      "Threshold : 0.35\tFBeta : 0.032609\n",
      "Threshold : 0.40\tFBeta : 0.023244\n",
      "Threshold : 0.45\tFBeta : 0.016016\n",
      "Threshold : 0.50\tFBeta : 0.009875\n",
      "Threshold : 0.55\tFBeta : 0.004554\n",
      "Threshold : 0.60\tFBeta : 0.002535\n",
      "Threshold : 0.65\tFBeta : 0.001575\n",
      "Threshold : 0.70\tFBeta : 0.000939\n",
      "Threshold : 0.75\tFBeta : 0.000330\n",
      "Threshold : 0.80\tFBeta : 0.000000\n",
      "\n"
     ]
    },
    {
     "name": "stderr",
     "output_type": "stream",
     "text": [
      "Epoch 17/70  Mem : 22GB  LR : 9.39E-05  Loss: 0.3276: 100%|██████████| 28/28 [00:17<00:0\n",
      "Val Loss: 0.3385: 100%|██████████| 66/66 [00:19<00:00,  3.44it/s]                       \n"
     ]
    },
    {
     "name": "stdout",
     "output_type": "stream",
     "text": [
      "Threshold : 0.20\tFBeta : 0.307469\n",
      "Threshold : 0.25\tFBeta : 0.322623\n",
      "Threshold : 0.30\tFBeta : 0.297896\n",
      "Threshold : 0.35\tFBeta : 0.262779\n",
      "Threshold : 0.40\tFBeta : 0.225250\n",
      "Threshold : 0.45\tFBeta : 0.188166\n",
      "Threshold : 0.50\tFBeta : 0.141359\n",
      "Threshold : 0.55\tFBeta : 0.105409\n",
      "Threshold : 0.60\tFBeta : 0.078890\n",
      "Threshold : 0.65\tFBeta : 0.058125\n",
      "Threshold : 0.70\tFBeta : 0.042903\n",
      "Threshold : 0.75\tFBeta : 0.032407\n",
      "Threshold : 0.80\tFBeta : 0.024721\n",
      "\n"
     ]
    },
    {
     "name": "stderr",
     "output_type": "stream",
     "text": [
      "Epoch 18/70  Mem : 22GB  LR : 9.27E-05  Loss: 0.3335: 100%|██████████| 28/28 [00:17<00:0\n",
      "Val Loss: 0.3649: 100%|██████████| 66/66 [00:19<00:00,  3.42it/s]                       \n"
     ]
    },
    {
     "name": "stdout",
     "output_type": "stream",
     "text": [
      "Threshold : 0.20\tFBeta : 0.245408\n",
      "Threshold : 0.25\tFBeta : 0.171958\n",
      "Threshold : 0.30\tFBeta : 0.126074\n",
      "Threshold : 0.35\tFBeta : 0.095450\n",
      "Threshold : 0.40\tFBeta : 0.072984\n",
      "Threshold : 0.45\tFBeta : 0.053495\n",
      "Threshold : 0.50\tFBeta : 0.027726\n",
      "Threshold : 0.55\tFBeta : 0.015842\n",
      "Threshold : 0.60\tFBeta : 0.009824\n",
      "Threshold : 0.65\tFBeta : 0.006002\n",
      "Threshold : 0.70\tFBeta : 0.003622\n",
      "Threshold : 0.75\tFBeta : 0.001920\n",
      "Threshold : 0.80\tFBeta : 0.001117\n",
      "\n"
     ]
    },
    {
     "name": "stderr",
     "output_type": "stream",
     "text": [
      "Epoch 19/70  Mem : 22GB  LR : 9.13E-05  Loss: 0.3263: 100%|██████████| 28/28 [00:17<00:0\n",
      "Val Loss: 0.3294: 100%|██████████| 66/66 [00:19<00:00,  3.42it/s]                       \n"
     ]
    },
    {
     "name": "stdout",
     "output_type": "stream",
     "text": [
      "Threshold : 0.20\tFBeta : 0.360274\n",
      "Threshold : 0.25\tFBeta : 0.280079\n",
      "Threshold : 0.30\tFBeta : 0.200994\n",
      "Threshold : 0.35\tFBeta : 0.133586\n",
      "Threshold : 0.40\tFBeta : 0.076032\n",
      "Threshold : 0.45\tFBeta : 0.039081\n",
      "Threshold : 0.50\tFBeta : 0.011769\n",
      "Threshold : 0.55\tFBeta : 0.006647\n",
      "Threshold : 0.60\tFBeta : 0.004012\n",
      "Threshold : 0.65\tFBeta : 0.002222\n",
      "Threshold : 0.70\tFBeta : 0.001554\n",
      "Threshold : 0.75\tFBeta : 0.000993\n",
      "Threshold : 0.80\tFBeta : 0.000450\n",
      "\n"
     ]
    },
    {
     "name": "stderr",
     "output_type": "stream",
     "text": [
      "Epoch 20/70  Mem : 22GB  LR : 8.99E-05  Loss: 0.3167: 100%|██████████| 28/28 [00:17<00:0\n",
      "Val Loss: 0.3397: 100%|██████████| 66/66 [00:19<00:00,  3.43it/s]                       \n"
     ]
    },
    {
     "name": "stdout",
     "output_type": "stream",
     "text": [
      "Threshold : 0.20\tFBeta : 0.255452\n",
      "Threshold : 0.25\tFBeta : 0.165963\n",
      "Threshold : 0.30\tFBeta : 0.121392\n",
      "Threshold : 0.35\tFBeta : 0.091348\n",
      "Threshold : 0.40\tFBeta : 0.068219\n",
      "Threshold : 0.45\tFBeta : 0.046944\n",
      "Threshold : 0.50\tFBeta : 0.024840\n",
      "Threshold : 0.55\tFBeta : 0.013464\n",
      "Threshold : 0.60\tFBeta : 0.007737\n",
      "Threshold : 0.65\tFBeta : 0.004919\n",
      "Threshold : 0.70\tFBeta : 0.003570\n",
      "Threshold : 0.75\tFBeta : 0.002303\n",
      "Threshold : 0.80\tFBeta : 0.001414\n",
      "\n"
     ]
    },
    {
     "name": "stderr",
     "output_type": "stream",
     "text": [
      "Epoch 21/70  Mem : 22GB  LR : 8.83E-05  Loss: 0.3202: 100%|██████████| 28/28 [00:17<00:0\n",
      "Val Loss: 0.3324: 100%|██████████| 66/66 [00:19<00:00,  3.43it/s]                       \n"
     ]
    },
    {
     "name": "stdout",
     "output_type": "stream",
     "text": [
      "Threshold : 0.20\tFBeta : 0.351967\n",
      "Threshold : 0.25\tFBeta : 0.296488\n",
      "Threshold : 0.30\tFBeta : 0.242968\n",
      "Threshold : 0.35\tFBeta : 0.191339\n",
      "Threshold : 0.40\tFBeta : 0.145343\n",
      "Threshold : 0.45\tFBeta : 0.107391\n",
      "Threshold : 0.50\tFBeta : 0.066398\n",
      "Threshold : 0.55\tFBeta : 0.039132\n",
      "Threshold : 0.60\tFBeta : 0.023572\n",
      "Threshold : 0.65\tFBeta : 0.012146\n",
      "Threshold : 0.70\tFBeta : 0.005674\n",
      "Threshold : 0.75\tFBeta : 0.003430\n",
      "Threshold : 0.80\tFBeta : 0.001961\n",
      "\n"
     ]
    },
    {
     "name": "stderr",
     "output_type": "stream",
     "text": [
      "Epoch 22/70  Mem : 22GB  LR : 8.67E-05  Loss: 0.3044: 100%|██████████| 28/28 [00:17<00:0\n",
      "Val Loss: 0.3461: 100%|██████████| 66/66 [00:19<00:00,  3.42it/s]                       \n"
     ]
    },
    {
     "name": "stdout",
     "output_type": "stream",
     "text": [
      "Threshold : 0.20\tFBeta : 0.193322\n",
      "Threshold : 0.25\tFBeta : 0.124630\n",
      "Threshold : 0.30\tFBeta : 0.092046\n",
      "Threshold : 0.35\tFBeta : 0.070196\n",
      "Threshold : 0.40\tFBeta : 0.053274\n",
      "Threshold : 0.45\tFBeta : 0.039194\n",
      "Threshold : 0.50\tFBeta : 0.024367\n",
      "Threshold : 0.55\tFBeta : 0.012842\n",
      "Threshold : 0.60\tFBeta : 0.005852\n",
      "Threshold : 0.65\tFBeta : 0.002906\n",
      "Threshold : 0.70\tFBeta : 0.001636\n",
      "Threshold : 0.75\tFBeta : 0.000715\n",
      "Threshold : 0.80\tFBeta : 0.000148\n",
      "\n"
     ]
    },
    {
     "name": "stderr",
     "output_type": "stream",
     "text": [
      "Epoch 23/70  Mem : 22GB  LR : 8.49E-05  Loss: 0.2892: 100%|██████████| 28/28 [00:17<00:0\n",
      "Val Loss: 0.3303: 100%|██████████| 66/66 [00:19<00:00,  3.42it/s]                       \n"
     ]
    },
    {
     "name": "stdout",
     "output_type": "stream",
     "text": [
      "Threshold : 0.20\tFBeta : 0.376377\n",
      "Threshold : 0.25\tFBeta : 0.371404\n",
      "Threshold : 0.30\tFBeta : 0.364390\n",
      "Threshold : 0.35\tFBeta : 0.355470\n",
      "Threshold : 0.40\tFBeta : 0.343220\n",
      "Threshold : 0.45\tFBeta : 0.326655\n",
      "Threshold : 0.50\tFBeta : 0.297913\n",
      "Threshold : 0.55\tFBeta : 0.261966\n",
      "Threshold : 0.60\tFBeta : 0.224458\n",
      "Threshold : 0.65\tFBeta : 0.187942\n",
      "Threshold : 0.70\tFBeta : 0.151146\n",
      "Threshold : 0.75\tFBeta : 0.115830\n",
      "Threshold : 0.80\tFBeta : 0.083598\n",
      "\n"
     ]
    },
    {
     "name": "stderr",
     "output_type": "stream",
     "text": [
      "Epoch 24/70  Mem : 22GB  LR : 8.31E-05  Loss: 0.3005: 100%|██████████| 28/28 [00:17<00:0\n",
      "Val Loss: 0.3436: 100%|██████████| 66/66 [00:19<00:00,  3.42it/s]                       \n"
     ]
    },
    {
     "name": "stdout",
     "output_type": "stream",
     "text": [
      "Threshold : 0.20\tFBeta : 0.241173\n",
      "Threshold : 0.25\tFBeta : 0.171204\n",
      "Threshold : 0.30\tFBeta : 0.129354\n",
      "Threshold : 0.35\tFBeta : 0.101569\n",
      "Threshold : 0.40\tFBeta : 0.079846\n",
      "Threshold : 0.45\tFBeta : 0.060445\n",
      "Threshold : 0.50\tFBeta : 0.039932\n",
      "Threshold : 0.55\tFBeta : 0.025995\n",
      "Threshold : 0.60\tFBeta : 0.019546\n",
      "Threshold : 0.65\tFBeta : 0.013219\n",
      "Threshold : 0.70\tFBeta : 0.008356\n",
      "Threshold : 0.75\tFBeta : 0.004972\n",
      "Threshold : 0.80\tFBeta : 0.002749\n",
      "\n"
     ]
    },
    {
     "name": "stderr",
     "output_type": "stream",
     "text": [
      "Epoch 25/70  Mem : 22GB  LR : 8.12E-05  Loss: 0.3012: 100%|██████████| 28/28 [00:17<00:0\n",
      "Val Loss: 0.3196: 100%|██████████| 66/66 [00:19<00:00,  3.42it/s]                       \n"
     ]
    },
    {
     "name": "stdout",
     "output_type": "stream",
     "text": [
      "Threshold : 0.20\tFBeta : 0.371129\n",
      "Threshold : 0.25\tFBeta : 0.375812\n",
      "Threshold : 0.30\tFBeta : 0.367773\n",
      "Threshold : 0.35\tFBeta : 0.353266\n",
      "Threshold : 0.40\tFBeta : 0.337109\n",
      "Threshold : 0.45\tFBeta : 0.313687\n",
      "Threshold : 0.50\tFBeta : 0.240292\n",
      "Threshold : 0.55\tFBeta : 0.150527\n",
      "Threshold : 0.60\tFBeta : 0.110335\n",
      "Threshold : 0.65\tFBeta : 0.080721\n",
      "Threshold : 0.70\tFBeta : 0.057144\n",
      "Threshold : 0.75\tFBeta : 0.039835\n",
      "Threshold : 0.80\tFBeta : 0.026197\n",
      "\n"
     ]
    },
    {
     "name": "stderr",
     "output_type": "stream",
     "text": [
      "Epoch 26/70  Mem : 22GB  LR : 7.92E-05  Loss: 0.2990: 100%|██████████| 28/28 [00:17<00:0\n",
      "Val Loss: 0.3317: 100%|██████████| 66/66 [00:19<00:00,  3.42it/s]                       \n"
     ]
    },
    {
     "name": "stdout",
     "output_type": "stream",
     "text": [
      "Threshold : 0.20\tFBeta : 0.374704\n",
      "Threshold : 0.25\tFBeta : 0.338420\n",
      "Threshold : 0.30\tFBeta : 0.299344\n",
      "Threshold : 0.35\tFBeta : 0.257403\n",
      "Threshold : 0.40\tFBeta : 0.214926\n",
      "Threshold : 0.45\tFBeta : 0.176035\n",
      "Threshold : 0.50\tFBeta : 0.130960\n",
      "Threshold : 0.55\tFBeta : 0.094816\n",
      "Threshold : 0.60\tFBeta : 0.070139\n",
      "Threshold : 0.65\tFBeta : 0.051395\n",
      "Threshold : 0.70\tFBeta : 0.036967\n",
      "Threshold : 0.75\tFBeta : 0.025453\n",
      "Threshold : 0.80\tFBeta : 0.017311\n",
      "\n"
     ]
    },
    {
     "name": "stderr",
     "output_type": "stream",
     "text": [
      "Epoch 27/70  Mem : 22GB  LR : 7.71E-05  Loss: 0.2871: 100%|██████████| 28/28 [00:17<00:0\n",
      "Val Loss: 0.3503: 100%|██████████| 66/66 [00:19<00:00,  3.40it/s]                       \n"
     ]
    },
    {
     "name": "stdout",
     "output_type": "stream",
     "text": [
      "Threshold : 0.20\tFBeta : 0.268785\n",
      "Threshold : 0.25\tFBeta : 0.201255\n",
      "Threshold : 0.30\tFBeta : 0.150686\n",
      "Threshold : 0.35\tFBeta : 0.109757\n",
      "Threshold : 0.40\tFBeta : 0.079204\n",
      "Threshold : 0.45\tFBeta : 0.058508\n",
      "Threshold : 0.50\tFBeta : 0.038410\n",
      "Threshold : 0.55\tFBeta : 0.023198\n",
      "Threshold : 0.60\tFBeta : 0.013258\n",
      "Threshold : 0.65\tFBeta : 0.008260\n",
      "Threshold : 0.70\tFBeta : 0.004765\n",
      "Threshold : 0.75\tFBeta : 0.003405\n",
      "Threshold : 0.80\tFBeta : 0.002589\n",
      "\n"
     ]
    },
    {
     "name": "stderr",
     "output_type": "stream",
     "text": [
      "Epoch 28/70  Mem : 22GB  LR : 7.50E-05  Loss: 0.2868: 100%|██████████| 28/28 [00:17<00:0\n",
      "Val Loss: 0.3564: 100%|██████████| 66/66 [00:19<00:00,  3.39it/s]                       \n"
     ]
    },
    {
     "name": "stdout",
     "output_type": "stream",
     "text": [
      "Threshold : 0.20\tFBeta : 0.220132\n",
      "Threshold : 0.25\tFBeta : 0.163056\n",
      "Threshold : 0.30\tFBeta : 0.124556\n",
      "Threshold : 0.35\tFBeta : 0.097184\n",
      "Threshold : 0.40\tFBeta : 0.078803\n",
      "Threshold : 0.45\tFBeta : 0.064444\n",
      "Threshold : 0.50\tFBeta : 0.051611\n",
      "Threshold : 0.55\tFBeta : 0.036925\n",
      "Threshold : 0.60\tFBeta : 0.023335\n",
      "Threshold : 0.65\tFBeta : 0.013792\n",
      "Threshold : 0.70\tFBeta : 0.008651\n",
      "Threshold : 0.75\tFBeta : 0.005826\n",
      "Threshold : 0.80\tFBeta : 0.003645\n",
      "\n"
     ]
    },
    {
     "name": "stderr",
     "output_type": "stream",
     "text": [
      "Epoch 29/70  Mem : 22GB  LR : 7.28E-05  Loss: 0.2895: 100%|██████████| 28/28 [00:17<00:0\n",
      "Val Loss: 0.3791: 100%|██████████| 66/66 [00:19<00:00,  3.39it/s]                       \n"
     ]
    },
    {
     "name": "stdout",
     "output_type": "stream",
     "text": [
      "Threshold : 0.20\tFBeta : 0.218860\n",
      "Threshold : 0.25\tFBeta : 0.170943\n",
      "Threshold : 0.30\tFBeta : 0.136945\n",
      "Threshold : 0.35\tFBeta : 0.110637\n",
      "Threshold : 0.40\tFBeta : 0.090166\n",
      "Threshold : 0.45\tFBeta : 0.071228\n",
      "Threshold : 0.50\tFBeta : 0.047563\n",
      "Threshold : 0.55\tFBeta : 0.027660\n",
      "Threshold : 0.60\tFBeta : 0.019028\n",
      "Threshold : 0.65\tFBeta : 0.013242\n",
      "Threshold : 0.70\tFBeta : 0.008955\n",
      "Threshold : 0.75\tFBeta : 0.005745\n",
      "Threshold : 0.80\tFBeta : 0.003837\n",
      "\n"
     ]
    },
    {
     "name": "stderr",
     "output_type": "stream",
     "text": [
      "Epoch 30/70  Mem : 22GB  LR : 7.06E-05  Loss: 0.2885: 100%|██████████| 28/28 [00:17<00:0\n",
      "Val Loss: 0.3171: 100%|██████████| 66/66 [00:19<00:00,  3.41it/s]                       \n"
     ]
    },
    {
     "name": "stdout",
     "output_type": "stream",
     "text": [
      "Threshold : 0.20\tFBeta : 0.430984\n",
      "Threshold : 0.25\tFBeta : 0.410185\n",
      "Threshold : 0.30\tFBeta : 0.383484\n",
      "Threshold : 0.35\tFBeta : 0.351037\n",
      "Threshold : 0.40\tFBeta : 0.311937\n",
      "Threshold : 0.45\tFBeta : 0.268389\n",
      "Threshold : 0.50\tFBeta : 0.176572\n",
      "Threshold : 0.55\tFBeta : 0.116441\n",
      "Threshold : 0.60\tFBeta : 0.078009\n",
      "Threshold : 0.65\tFBeta : 0.050512\n",
      "Threshold : 0.70\tFBeta : 0.030072\n",
      "Threshold : 0.75\tFBeta : 0.017706\n",
      "Threshold : 0.80\tFBeta : 0.011061\n",
      "\n"
     ]
    },
    {
     "name": "stderr",
     "output_type": "stream",
     "text": [
      "Epoch 31/70  Mem : 22GB  LR : 6.83E-05  Loss: 0.2813: 100%|██████████| 28/28 [00:17<00:0\n",
      "Val Loss: 0.3832: 100%|██████████| 66/66 [00:19<00:00,  3.41it/s]                       \n"
     ]
    },
    {
     "name": "stdout",
     "output_type": "stream",
     "text": [
      "Threshold : 0.20\tFBeta : 0.095432\n",
      "Threshold : 0.25\tFBeta : 0.063856\n",
      "Threshold : 0.30\tFBeta : 0.046482\n",
      "Threshold : 0.35\tFBeta : 0.034225\n",
      "Threshold : 0.40\tFBeta : 0.024608\n",
      "Threshold : 0.45\tFBeta : 0.016993\n",
      "Threshold : 0.50\tFBeta : 0.008085\n",
      "Threshold : 0.55\tFBeta : 0.003950\n",
      "Threshold : 0.60\tFBeta : 0.002469\n",
      "Threshold : 0.65\tFBeta : 0.001580\n",
      "Threshold : 0.70\tFBeta : 0.000987\n",
      "Threshold : 0.75\tFBeta : 0.000267\n",
      "Threshold : 0.80\tFBeta : 0.000000\n",
      "\n"
     ]
    },
    {
     "name": "stderr",
     "output_type": "stream",
     "text": [
      "Epoch 32/70  Mem : 22GB  LR : 6.59E-05  Loss: 0.2796: 100%|██████████| 28/28 [00:17<00:0\n",
      "Val Loss: 0.3249: 100%|██████████| 66/66 [00:19<00:00,  3.43it/s]                       \n"
     ]
    },
    {
     "name": "stdout",
     "output_type": "stream",
     "text": [
      "Threshold : 0.20\tFBeta : 0.415035\n",
      "Threshold : 0.25\tFBeta : 0.400037\n",
      "Threshold : 0.30\tFBeta : 0.382361\n",
      "Threshold : 0.35\tFBeta : 0.360324\n",
      "Threshold : 0.40\tFBeta : 0.332975\n",
      "Threshold : 0.45\tFBeta : 0.301699\n",
      "Threshold : 0.50\tFBeta : 0.265142\n",
      "Threshold : 0.55\tFBeta : 0.223931\n",
      "Threshold : 0.60\tFBeta : 0.185071\n",
      "Threshold : 0.65\tFBeta : 0.148072\n",
      "Threshold : 0.70\tFBeta : 0.113044\n",
      "Threshold : 0.75\tFBeta : 0.080398\n",
      "Threshold : 0.80\tFBeta : 0.051571\n",
      "\n"
     ]
    },
    {
     "name": "stderr",
     "output_type": "stream",
     "text": [
      "Epoch 33/70  Mem : 22GB  LR : 6.35E-05  Loss: 0.2721: 100%|██████████| 28/28 [00:17<00:0\n",
      "Val Loss: 0.3450: 100%|██████████| 66/66 [00:19<00:00,  3.42it/s]                       \n"
     ]
    },
    {
     "name": "stdout",
     "output_type": "stream",
     "text": [
      "Threshold : 0.20\tFBeta : 0.346441\n",
      "Threshold : 0.25\tFBeta : 0.305701\n",
      "Threshold : 0.30\tFBeta : 0.263726\n",
      "Threshold : 0.35\tFBeta : 0.229153\n",
      "Threshold : 0.40\tFBeta : 0.201516\n",
      "Threshold : 0.45\tFBeta : 0.172698\n",
      "Threshold : 0.50\tFBeta : 0.136595\n",
      "Threshold : 0.55\tFBeta : 0.107095\n",
      "Threshold : 0.60\tFBeta : 0.080755\n",
      "Threshold : 0.65\tFBeta : 0.058849\n",
      "Threshold : 0.70\tFBeta : 0.043630\n",
      "Threshold : 0.75\tFBeta : 0.030878\n",
      "Threshold : 0.80\tFBeta : 0.021626\n",
      "\n"
     ]
    },
    {
     "name": "stderr",
     "output_type": "stream",
     "text": [
      "Epoch 34/70  Mem : 22GB  LR : 6.11E-05  Loss: 0.2761: 100%|██████████| 28/28 [00:17<00:0\n",
      "Val Loss: 0.3262: 100%|██████████| 66/66 [00:19<00:00,  3.40it/s]                       \n"
     ]
    },
    {
     "name": "stdout",
     "output_type": "stream",
     "text": [
      "Threshold : 0.20\tFBeta : 0.415702\n",
      "Threshold : 0.25\tFBeta : 0.362239\n",
      "Threshold : 0.30\tFBeta : 0.296670\n",
      "Threshold : 0.35\tFBeta : 0.230171\n",
      "Threshold : 0.40\tFBeta : 0.177274\n",
      "Threshold : 0.45\tFBeta : 0.136652\n",
      "Threshold : 0.50\tFBeta : 0.094603\n",
      "Threshold : 0.55\tFBeta : 0.066996\n",
      "Threshold : 0.60\tFBeta : 0.049799\n",
      "Threshold : 0.65\tFBeta : 0.037490\n",
      "Threshold : 0.70\tFBeta : 0.026982\n",
      "Threshold : 0.75\tFBeta : 0.018046\n",
      "Threshold : 0.80\tFBeta : 0.010154\n",
      "\n"
     ]
    },
    {
     "name": "stderr",
     "output_type": "stream",
     "text": [
      "Epoch 35/70  Mem : 22GB  LR : 5.87E-05  Loss: 0.2796: 100%|██████████| 28/28 [00:17<00:0\n",
      "Val Loss: 0.3376: 100%|██████████| 66/66 [00:19<00:00,  3.43it/s]                       \n"
     ]
    },
    {
     "name": "stdout",
     "output_type": "stream",
     "text": [
      "Threshold : 0.20\tFBeta : 0.348204\n",
      "Threshold : 0.25\tFBeta : 0.295379\n",
      "Threshold : 0.30\tFBeta : 0.254716\n",
      "Threshold : 0.35\tFBeta : 0.217986\n",
      "Threshold : 0.40\tFBeta : 0.186112\n",
      "Threshold : 0.45\tFBeta : 0.156560\n",
      "Threshold : 0.50\tFBeta : 0.126252\n",
      "Threshold : 0.55\tFBeta : 0.098890\n",
      "Threshold : 0.60\tFBeta : 0.075085\n",
      "Threshold : 0.65\tFBeta : 0.056742\n",
      "Threshold : 0.70\tFBeta : 0.042709\n",
      "Threshold : 0.75\tFBeta : 0.031454\n",
      "Threshold : 0.80\tFBeta : 0.021713\n",
      "\n"
     ]
    },
    {
     "name": "stderr",
     "output_type": "stream",
     "text": [
      "Epoch 36/70  Mem : 22GB  LR : 5.62E-05  Loss: 0.2705: 100%|██████████| 28/28 [00:17<00:0\n",
      "Val Loss: 0.3240: 100%|██████████| 66/66 [00:19<00:00,  3.39it/s]                       \n"
     ]
    },
    {
     "name": "stdout",
     "output_type": "stream",
     "text": [
      "Threshold : 0.20\tFBeta : 0.449005\n",
      "Threshold : 0.25\tFBeta : 0.416926\n",
      "Threshold : 0.30\tFBeta : 0.375904\n",
      "Threshold : 0.35\tFBeta : 0.330777\n",
      "Threshold : 0.40\tFBeta : 0.288795\n",
      "Threshold : 0.45\tFBeta : 0.248519\n",
      "Threshold : 0.50\tFBeta : 0.202054\n",
      "Threshold : 0.55\tFBeta : 0.158182\n",
      "Threshold : 0.60\tFBeta : 0.122212\n",
      "Threshold : 0.65\tFBeta : 0.090846\n",
      "Threshold : 0.70\tFBeta : 0.062959\n",
      "Threshold : 0.75\tFBeta : 0.041945\n",
      "Threshold : 0.80\tFBeta : 0.025540\n",
      "\n"
     ]
    },
    {
     "name": "stderr",
     "output_type": "stream",
     "text": [
      "Epoch 37/70  Mem : 22GB  LR : 5.37E-05  Loss: 0.2717: 100%|██████████| 28/28 [00:17<00:0\n",
      "Val Loss: 0.3144: 100%|██████████| 66/66 [00:19<00:00,  3.43it/s]                       \n"
     ]
    },
    {
     "name": "stdout",
     "output_type": "stream",
     "text": [
      "Threshold : 0.20\tFBeta : 0.486462\n",
      "Threshold : 0.25\tFBeta : 0.483480\n",
      "Threshold : 0.30\tFBeta : 0.475235\n",
      "Threshold : 0.35\tFBeta : 0.463417\n",
      "Threshold : 0.40\tFBeta : 0.447470\n",
      "Threshold : 0.45\tFBeta : 0.428201\n",
      "Threshold : 0.50\tFBeta : 0.397438\n",
      "Threshold : 0.55\tFBeta : 0.356774\n",
      "Threshold : 0.60\tFBeta : 0.309717\n",
      "Threshold : 0.65\tFBeta : 0.264321\n",
      "Threshold : 0.70\tFBeta : 0.217815\n",
      "Threshold : 0.75\tFBeta : 0.172263\n",
      "Threshold : 0.80\tFBeta : 0.129392\n",
      "\n"
     ]
    },
    {
     "name": "stderr",
     "output_type": "stream",
     "text": [
      "Epoch 38/70  Mem : 22GB  LR : 5.12E-05  Loss: 0.2636: 100%|██████████| 28/28 [00:17<00:0\n",
      "Val Loss: 0.3625: 100%|██████████| 66/66 [00:19<00:00,  3.43it/s]                       \n"
     ]
    },
    {
     "name": "stdout",
     "output_type": "stream",
     "text": [
      "Threshold : 0.20\tFBeta : 0.204851\n",
      "Threshold : 0.25\tFBeta : 0.153126\n",
      "Threshold : 0.30\tFBeta : 0.114080\n",
      "Threshold : 0.35\tFBeta : 0.084018\n",
      "Threshold : 0.40\tFBeta : 0.062003\n",
      "Threshold : 0.45\tFBeta : 0.044375\n",
      "Threshold : 0.50\tFBeta : 0.025731\n",
      "Threshold : 0.55\tFBeta : 0.016549\n",
      "Threshold : 0.60\tFBeta : 0.011532\n",
      "Threshold : 0.65\tFBeta : 0.007145\n",
      "Threshold : 0.70\tFBeta : 0.003849\n",
      "Threshold : 0.75\tFBeta : 0.002822\n",
      "Threshold : 0.80\tFBeta : 0.002164\n",
      "\n"
     ]
    },
    {
     "name": "stderr",
     "output_type": "stream",
     "text": [
      "Epoch 39/70  Mem : 22GB  LR : 4.88E-05  Loss: 0.2613: 100%|██████████| 28/28 [00:17<00:0\n",
      "Val Loss: 0.3512: 100%|██████████| 66/66 [00:19<00:00,  3.43it/s]                       \n"
     ]
    },
    {
     "name": "stdout",
     "output_type": "stream",
     "text": [
      "Threshold : 0.20\tFBeta : 0.402851\n",
      "Threshold : 0.25\tFBeta : 0.380949\n",
      "Threshold : 0.30\tFBeta : 0.356501\n",
      "Threshold : 0.35\tFBeta : 0.327275\n",
      "Threshold : 0.40\tFBeta : 0.297477\n",
      "Threshold : 0.45\tFBeta : 0.265637\n",
      "Threshold : 0.50\tFBeta : 0.218481\n",
      "Threshold : 0.55\tFBeta : 0.175174\n",
      "Threshold : 0.60\tFBeta : 0.138094\n",
      "Threshold : 0.65\tFBeta : 0.106330\n",
      "Threshold : 0.70\tFBeta : 0.080020\n",
      "Threshold : 0.75\tFBeta : 0.057359\n",
      "Threshold : 0.80\tFBeta : 0.039015\n",
      "\n"
     ]
    },
    {
     "name": "stderr",
     "output_type": "stream",
     "text": [
      "Epoch 40/70  Mem : 22GB  LR : 4.63E-05  Loss: 0.2631: 100%|██████████| 28/28 [00:17<00:0\n",
      "Val Loss: 0.3883: 100%|██████████| 66/66 [00:19<00:00,  3.44it/s]                       \n"
     ]
    },
    {
     "name": "stdout",
     "output_type": "stream",
     "text": [
      "Threshold : 0.20\tFBeta : 0.188070\n",
      "Threshold : 0.25\tFBeta : 0.154566\n",
      "Threshold : 0.30\tFBeta : 0.127089\n",
      "Threshold : 0.35\tFBeta : 0.103318\n",
      "Threshold : 0.40\tFBeta : 0.084102\n",
      "Threshold : 0.45\tFBeta : 0.065163\n",
      "Threshold : 0.50\tFBeta : 0.044352\n",
      "Threshold : 0.55\tFBeta : 0.028597\n",
      "Threshold : 0.60\tFBeta : 0.020985\n",
      "Threshold : 0.65\tFBeta : 0.015212\n",
      "Threshold : 0.70\tFBeta : 0.011129\n",
      "Threshold : 0.75\tFBeta : 0.007540\n",
      "Threshold : 0.80\tFBeta : 0.005464\n",
      "\n"
     ]
    },
    {
     "name": "stderr",
     "output_type": "stream",
     "text": [
      "Epoch 41/70  Mem : 22GB  LR : 4.38E-05  Loss: 0.2522: 100%|██████████| 28/28 [00:17<00:0\n",
      "Val Loss: 0.3273: 100%|██████████| 66/66 [00:19<00:00,  3.40it/s]                       \n"
     ]
    },
    {
     "name": "stdout",
     "output_type": "stream",
     "text": [
      "Threshold : 0.20\tFBeta : 0.459432\n",
      "Threshold : 0.25\tFBeta : 0.427120\n",
      "Threshold : 0.30\tFBeta : 0.386713\n",
      "Threshold : 0.35\tFBeta : 0.337307\n",
      "Threshold : 0.40\tFBeta : 0.289225\n",
      "Threshold : 0.45\tFBeta : 0.242297\n",
      "Threshold : 0.50\tFBeta : 0.191755\n",
      "Threshold : 0.55\tFBeta : 0.147467\n",
      "Threshold : 0.60\tFBeta : 0.111483\n",
      "Threshold : 0.65\tFBeta : 0.081175\n",
      "Threshold : 0.70\tFBeta : 0.056735\n",
      "Threshold : 0.75\tFBeta : 0.037427\n",
      "Threshold : 0.80\tFBeta : 0.023292\n",
      "\n"
     ]
    },
    {
     "name": "stderr",
     "output_type": "stream",
     "text": [
      "Epoch 42/70  Mem : 22GB  LR : 4.13E-05  Loss: 0.2516: 100%|██████████| 28/28 [00:17<00:0\n",
      "Val Loss: 0.3909: 100%|██████████| 66/66 [00:19<00:00,  3.42it/s]                       \n"
     ]
    },
    {
     "name": "stdout",
     "output_type": "stream",
     "text": [
      "Threshold : 0.20\tFBeta : 0.136271\n",
      "Threshold : 0.25\tFBeta : 0.092192\n",
      "Threshold : 0.30\tFBeta : 0.064812\n",
      "Threshold : 0.35\tFBeta : 0.045813\n",
      "Threshold : 0.40\tFBeta : 0.035047\n",
      "Threshold : 0.45\tFBeta : 0.027837\n",
      "Threshold : 0.50\tFBeta : 0.021528\n",
      "Threshold : 0.55\tFBeta : 0.016787\n",
      "Threshold : 0.60\tFBeta : 0.012982\n",
      "Threshold : 0.65\tFBeta : 0.009959\n",
      "Threshold : 0.70\tFBeta : 0.008017\n",
      "Threshold : 0.75\tFBeta : 0.006124\n",
      "Threshold : 0.80\tFBeta : 0.004058\n",
      "\n"
     ]
    },
    {
     "name": "stderr",
     "output_type": "stream",
     "text": [
      "Epoch 43/70  Mem : 22GB  LR : 3.89E-05  Loss: 0.2586: 100%|██████████| 28/28 [00:17<00:0\n",
      "Val Loss: 0.3914: 100%|██████████| 66/66 [00:19<00:00,  3.42it/s]                       \n"
     ]
    },
    {
     "name": "stdout",
     "output_type": "stream",
     "text": [
      "Threshold : 0.20\tFBeta : 0.302891\n",
      "Threshold : 0.25\tFBeta : 0.270189\n",
      "Threshold : 0.30\tFBeta : 0.241657\n",
      "Threshold : 0.35\tFBeta : 0.212709\n",
      "Threshold : 0.40\tFBeta : 0.184797\n",
      "Threshold : 0.45\tFBeta : 0.158401\n",
      "Threshold : 0.50\tFBeta : 0.121699\n",
      "Threshold : 0.55\tFBeta : 0.093263\n",
      "Threshold : 0.60\tFBeta : 0.074580\n",
      "Threshold : 0.65\tFBeta : 0.058704\n",
      "Threshold : 0.70\tFBeta : 0.042906\n",
      "Threshold : 0.75\tFBeta : 0.029368\n",
      "Threshold : 0.80\tFBeta : 0.017935\n",
      "\n"
     ]
    },
    {
     "name": "stderr",
     "output_type": "stream",
     "text": [
      "Epoch 44/70  Mem : 22GB  LR : 3.65E-05  Loss: 0.2570: 100%|██████████| 28/28 [00:17<00:0\n",
      "Val Loss: 0.3348: 100%|██████████| 66/66 [00:19<00:00,  3.41it/s]                       \n"
     ]
    },
    {
     "name": "stdout",
     "output_type": "stream",
     "text": [
      "Threshold : 0.20\tFBeta : 0.426007\n",
      "Threshold : 0.25\tFBeta : 0.408821\n",
      "Threshold : 0.30\tFBeta : 0.386193\n",
      "Threshold : 0.35\tFBeta : 0.360380\n",
      "Threshold : 0.40\tFBeta : 0.330065\n",
      "Threshold : 0.45\tFBeta : 0.297656\n",
      "Threshold : 0.50\tFBeta : 0.259119\n",
      "Threshold : 0.55\tFBeta : 0.220984\n",
      "Threshold : 0.60\tFBeta : 0.183990\n",
      "Threshold : 0.65\tFBeta : 0.150696\n",
      "Threshold : 0.70\tFBeta : 0.123351\n",
      "Threshold : 0.75\tFBeta : 0.097360\n",
      "Threshold : 0.80\tFBeta : 0.070040\n",
      "\n"
     ]
    },
    {
     "name": "stderr",
     "output_type": "stream",
     "text": [
      "Epoch 45/70  Mem : 22GB  LR : 3.41E-05  Loss: 0.2563: 100%|██████████| 28/28 [00:17<00:0\n",
      "Val Loss: 0.3090: 100%|██████████| 66/66 [00:19<00:00,  3.43it/s]                       \n"
     ]
    },
    {
     "name": "stdout",
     "output_type": "stream",
     "text": [
      "Threshold : 0.20\tFBeta : 0.463719\n",
      "Threshold : 0.25\tFBeta : 0.459717\n",
      "Threshold : 0.30\tFBeta : 0.436470\n",
      "Threshold : 0.35\tFBeta : 0.401559\n",
      "Threshold : 0.40\tFBeta : 0.364538\n",
      "Threshold : 0.45\tFBeta : 0.324402\n",
      "Threshold : 0.50\tFBeta : 0.258434\n",
      "Threshold : 0.55\tFBeta : 0.193198\n",
      "Threshold : 0.60\tFBeta : 0.153037\n",
      "Threshold : 0.65\tFBeta : 0.120743\n",
      "Threshold : 0.70\tFBeta : 0.094026\n",
      "Threshold : 0.75\tFBeta : 0.070837\n",
      "Threshold : 0.80\tFBeta : 0.050424\n",
      "\n"
     ]
    },
    {
     "name": "stderr",
     "output_type": "stream",
     "text": [
      "Epoch 46/70  Mem : 22GB  LR : 3.17E-05  Loss: 0.2487: 100%|██████████| 28/28 [00:17<00:0\n",
      "Val Loss: 0.3660: 100%|██████████| 66/66 [00:19<00:00,  3.42it/s]                       \n"
     ]
    },
    {
     "name": "stdout",
     "output_type": "stream",
     "text": [
      "Threshold : 0.20\tFBeta : 0.315070\n",
      "Threshold : 0.25\tFBeta : 0.262357\n",
      "Threshold : 0.30\tFBeta : 0.217823\n",
      "Threshold : 0.35\tFBeta : 0.181457\n",
      "Threshold : 0.40\tFBeta : 0.154409\n",
      "Threshold : 0.45\tFBeta : 0.130079\n",
      "Threshold : 0.50\tFBeta : 0.104488\n",
      "Threshold : 0.55\tFBeta : 0.082199\n",
      "Threshold : 0.60\tFBeta : 0.062146\n",
      "Threshold : 0.65\tFBeta : 0.046487\n",
      "Threshold : 0.70\tFBeta : 0.033181\n",
      "Threshold : 0.75\tFBeta : 0.022900\n",
      "Threshold : 0.80\tFBeta : 0.016014\n",
      "\n"
     ]
    },
    {
     "name": "stderr",
     "output_type": "stream",
     "text": [
      "Epoch 47/70  Mem : 22GB  LR : 2.94E-05  Loss: 0.2439: 100%|██████████| 28/28 [00:17<00:0\n",
      "Val Loss: 0.3563: 100%|██████████| 66/66 [00:19<00:00,  3.43it/s]                       \n"
     ]
    },
    {
     "name": "stdout",
     "output_type": "stream",
     "text": [
      "Threshold : 0.20\tFBeta : 0.304648\n",
      "Threshold : 0.25\tFBeta : 0.243470\n",
      "Threshold : 0.30\tFBeta : 0.191510\n",
      "Threshold : 0.35\tFBeta : 0.151704\n",
      "Threshold : 0.40\tFBeta : 0.122166\n",
      "Threshold : 0.45\tFBeta : 0.096793\n",
      "Threshold : 0.50\tFBeta : 0.072324\n",
      "Threshold : 0.55\tFBeta : 0.055010\n",
      "Threshold : 0.60\tFBeta : 0.042056\n",
      "Threshold : 0.65\tFBeta : 0.033078\n",
      "Threshold : 0.70\tFBeta : 0.025395\n",
      "Threshold : 0.75\tFBeta : 0.019563\n",
      "Threshold : 0.80\tFBeta : 0.014356\n",
      "\n"
     ]
    },
    {
     "name": "stderr",
     "output_type": "stream",
     "text": [
      "Epoch 48/70  Mem : 22GB  LR : 2.72E-05  Loss: 0.2488: 100%|██████████| 28/28 [00:17<00:0\n",
      "Val Loss: 0.3350: 100%|██████████| 66/66 [00:19<00:00,  3.42it/s]                       \n"
     ]
    },
    {
     "name": "stdout",
     "output_type": "stream",
     "text": [
      "Threshold : 0.20\tFBeta : 0.444817\n",
      "Threshold : 0.25\tFBeta : 0.428481\n",
      "Threshold : 0.30\tFBeta : 0.404667\n",
      "Threshold : 0.35\tFBeta : 0.374915\n",
      "Threshold : 0.40\tFBeta : 0.342078\n",
      "Threshold : 0.45\tFBeta : 0.305510\n",
      "Threshold : 0.50\tFBeta : 0.247310\n",
      "Threshold : 0.55\tFBeta : 0.188172\n",
      "Threshold : 0.60\tFBeta : 0.147265\n",
      "Threshold : 0.65\tFBeta : 0.117579\n",
      "Threshold : 0.70\tFBeta : 0.094267\n",
      "Threshold : 0.75\tFBeta : 0.074105\n",
      "Threshold : 0.80\tFBeta : 0.053863\n",
      "\n"
     ]
    },
    {
     "name": "stderr",
     "output_type": "stream",
     "text": [
      "Epoch 49/70  Mem : 22GB  LR : 2.50E-05  Loss: 0.2343: 100%|██████████| 28/28 [00:17<00:0\n",
      "Val Loss: 0.3416: 100%|██████████| 66/66 [00:19<00:00,  3.43it/s]                       \n"
     ]
    },
    {
     "name": "stdout",
     "output_type": "stream",
     "text": [
      "Threshold : 0.20\tFBeta : 0.429040\n",
      "Threshold : 0.25\tFBeta : 0.398112\n",
      "Threshold : 0.30\tFBeta : 0.367216\n",
      "Threshold : 0.35\tFBeta : 0.337869\n",
      "Threshold : 0.40\tFBeta : 0.306820\n",
      "Threshold : 0.45\tFBeta : 0.274738\n",
      "Threshold : 0.50\tFBeta : 0.231457\n",
      "Threshold : 0.55\tFBeta : 0.189226\n",
      "Threshold : 0.60\tFBeta : 0.156324\n",
      "Threshold : 0.65\tFBeta : 0.129551\n",
      "Threshold : 0.70\tFBeta : 0.106004\n",
      "Threshold : 0.75\tFBeta : 0.083494\n",
      "Threshold : 0.80\tFBeta : 0.060742\n",
      "\n"
     ]
    },
    {
     "name": "stderr",
     "output_type": "stream",
     "text": [
      "Epoch 50/70  Mem : 22GB  LR : 2.29E-05  Loss: 0.2344: 100%|██████████| 28/28 [00:17<00:0\n",
      "Val Loss: 0.3711: 100%|██████████| 66/66 [00:19<00:00,  3.43it/s]                       \n"
     ]
    },
    {
     "name": "stdout",
     "output_type": "stream",
     "text": [
      "Threshold : 0.20\tFBeta : 0.262840\n",
      "Threshold : 0.25\tFBeta : 0.211944\n",
      "Threshold : 0.30\tFBeta : 0.174490\n",
      "Threshold : 0.35\tFBeta : 0.147077\n",
      "Threshold : 0.40\tFBeta : 0.124941\n",
      "Threshold : 0.45\tFBeta : 0.102424\n",
      "Threshold : 0.50\tFBeta : 0.073113\n",
      "Threshold : 0.55\tFBeta : 0.049756\n",
      "Threshold : 0.60\tFBeta : 0.037800\n",
      "Threshold : 0.65\tFBeta : 0.027655\n",
      "Threshold : 0.70\tFBeta : 0.020127\n",
      "Threshold : 0.75\tFBeta : 0.014369\n",
      "Threshold : 0.80\tFBeta : 0.010691\n",
      "\n"
     ]
    },
    {
     "name": "stderr",
     "output_type": "stream",
     "text": [
      "Epoch 51/70  Mem : 22GB  LR : 2.08E-05  Loss: 0.2401: 100%|██████████| 28/28 [00:17<00:0\n",
      "Val Loss: 0.3398: 100%|██████████| 66/66 [00:19<00:00,  3.42it/s]                       \n"
     ]
    },
    {
     "name": "stdout",
     "output_type": "stream",
     "text": [
      "Threshold : 0.20\tFBeta : 0.434364\n",
      "Threshold : 0.25\tFBeta : 0.424777\n",
      "Threshold : 0.30\tFBeta : 0.412282\n",
      "Threshold : 0.35\tFBeta : 0.396106\n",
      "Threshold : 0.40\tFBeta : 0.378473\n",
      "Threshold : 0.45\tFBeta : 0.357319\n",
      "Threshold : 0.50\tFBeta : 0.324641\n",
      "Threshold : 0.55\tFBeta : 0.288271\n",
      "Threshold : 0.60\tFBeta : 0.252038\n",
      "Threshold : 0.65\tFBeta : 0.215715\n",
      "Threshold : 0.70\tFBeta : 0.179974\n",
      "Threshold : 0.75\tFBeta : 0.146897\n",
      "Threshold : 0.80\tFBeta : 0.112477\n",
      "\n"
     ]
    },
    {
     "name": "stderr",
     "output_type": "stream",
     "text": [
      "Epoch 52/70  Mem : 22GB  LR : 1.88E-05  Loss: 0.2471: 100%|██████████| 28/28 [00:17<00:0\n",
      "Val Loss: 0.3611: 100%|██████████| 66/66 [00:19<00:00,  3.43it/s]                       \n"
     ]
    },
    {
     "name": "stdout",
     "output_type": "stream",
     "text": [
      "Threshold : 0.20\tFBeta : 0.369359\n",
      "Threshold : 0.25\tFBeta : 0.332590\n",
      "Threshold : 0.30\tFBeta : 0.294697\n",
      "Threshold : 0.35\tFBeta : 0.259296\n",
      "Threshold : 0.40\tFBeta : 0.223688\n",
      "Threshold : 0.45\tFBeta : 0.189973\n",
      "Threshold : 0.50\tFBeta : 0.147812\n",
      "Threshold : 0.55\tFBeta : 0.110911\n",
      "Threshold : 0.60\tFBeta : 0.081667\n",
      "Threshold : 0.65\tFBeta : 0.060516\n",
      "Threshold : 0.70\tFBeta : 0.043092\n",
      "Threshold : 0.75\tFBeta : 0.029150\n",
      "Threshold : 0.80\tFBeta : 0.019528\n",
      "\n"
     ]
    },
    {
     "name": "stderr",
     "output_type": "stream",
     "text": [
      "Epoch 53/70  Mem : 22GB  LR : 1.69E-05  Loss: 0.2344: 100%|██████████| 28/28 [00:17<00:0\n",
      "Val Loss: 0.3519: 100%|██████████| 66/66 [00:19<00:00,  3.42it/s]                       \n"
     ]
    },
    {
     "name": "stdout",
     "output_type": "stream",
     "text": [
      "Threshold : 0.20\tFBeta : 0.405253\n",
      "Threshold : 0.25\tFBeta : 0.374846\n",
      "Threshold : 0.30\tFBeta : 0.344781\n",
      "Threshold : 0.35\tFBeta : 0.313087\n",
      "Threshold : 0.40\tFBeta : 0.279819\n",
      "Threshold : 0.45\tFBeta : 0.241459\n",
      "Threshold : 0.50\tFBeta : 0.198693\n",
      "Threshold : 0.55\tFBeta : 0.159835\n",
      "Threshold : 0.60\tFBeta : 0.129108\n",
      "Threshold : 0.65\tFBeta : 0.104540\n",
      "Threshold : 0.70\tFBeta : 0.083084\n",
      "Threshold : 0.75\tFBeta : 0.063979\n",
      "Threshold : 0.80\tFBeta : 0.046459\n",
      "\n"
     ]
    },
    {
     "name": "stderr",
     "output_type": "stream",
     "text": [
      "Epoch 54/70  Mem : 22GB  LR : 1.51E-05  Loss: 0.2326: 100%|██████████| 28/28 [00:17<00:0\n",
      "Val Loss: 0.3611: 100%|██████████| 66/66 [00:19<00:00,  3.42it/s]                       \n"
     ]
    },
    {
     "name": "stdout",
     "output_type": "stream",
     "text": [
      "Threshold : 0.20\tFBeta : 0.355551\n",
      "Threshold : 0.25\tFBeta : 0.317361\n",
      "Threshold : 0.30\tFBeta : 0.279178\n",
      "Threshold : 0.35\tFBeta : 0.240492\n",
      "Threshold : 0.40\tFBeta : 0.205240\n",
      "Threshold : 0.45\tFBeta : 0.173012\n",
      "Threshold : 0.50\tFBeta : 0.138064\n",
      "Threshold : 0.55\tFBeta : 0.106254\n",
      "Threshold : 0.60\tFBeta : 0.079559\n",
      "Threshold : 0.65\tFBeta : 0.059790\n",
      "Threshold : 0.70\tFBeta : 0.043746\n",
      "Threshold : 0.75\tFBeta : 0.030664\n",
      "Threshold : 0.80\tFBeta : 0.022317\n",
      "\n"
     ]
    },
    {
     "name": "stderr",
     "output_type": "stream",
     "text": [
      "Epoch 55/70  Mem : 22GB  LR : 1.33E-05  Loss: 0.2420: 100%|██████████| 28/28 [00:17<00:0\n",
      "Val Loss: 0.3443: 100%|██████████| 66/66 [00:19<00:00,  3.43it/s]                       \n"
     ]
    },
    {
     "name": "stdout",
     "output_type": "stream",
     "text": [
      "Threshold : 0.20\tFBeta : 0.438058\n",
      "Threshold : 0.25\tFBeta : 0.410291\n",
      "Threshold : 0.30\tFBeta : 0.378190\n",
      "Threshold : 0.35\tFBeta : 0.342209\n",
      "Threshold : 0.40\tFBeta : 0.306756\n",
      "Threshold : 0.45\tFBeta : 0.269875\n",
      "Threshold : 0.50\tFBeta : 0.224046\n",
      "Threshold : 0.55\tFBeta : 0.182339\n",
      "Threshold : 0.60\tFBeta : 0.148192\n",
      "Threshold : 0.65\tFBeta : 0.119529\n",
      "Threshold : 0.70\tFBeta : 0.094617\n",
      "Threshold : 0.75\tFBeta : 0.071235\n",
      "Threshold : 0.80\tFBeta : 0.049348\n",
      "\n"
     ]
    },
    {
     "name": "stderr",
     "output_type": "stream",
     "text": [
      "Epoch 56/70  Mem : 22GB  LR : 1.17E-05  Loss: 0.2323: 100%|██████████| 28/28 [00:17<00:0\n",
      "Val Loss: 0.3595: 100%|██████████| 66/66 [00:19<00:00,  3.41it/s]                       \n"
     ]
    },
    {
     "name": "stdout",
     "output_type": "stream",
     "text": [
      "Threshold : 0.20\tFBeta : 0.350420\n",
      "Threshold : 0.25\tFBeta : 0.299793\n",
      "Threshold : 0.30\tFBeta : 0.256503\n",
      "Threshold : 0.35\tFBeta : 0.216953\n",
      "Threshold : 0.40\tFBeta : 0.181207\n",
      "Threshold : 0.45\tFBeta : 0.149528\n",
      "Threshold : 0.50\tFBeta : 0.115296\n",
      "Threshold : 0.55\tFBeta : 0.089341\n",
      "Threshold : 0.60\tFBeta : 0.069187\n",
      "Threshold : 0.65\tFBeta : 0.053281\n",
      "Threshold : 0.70\tFBeta : 0.040803\n",
      "Threshold : 0.75\tFBeta : 0.030283\n",
      "Threshold : 0.80\tFBeta : 0.020960\n",
      "\n"
     ]
    },
    {
     "name": "stderr",
     "output_type": "stream",
     "text": [
      "Epoch 57/70  Mem : 22GB  LR : 1.01E-05  Loss: 0.2309: 100%|██████████| 28/28 [00:17<00:0\n",
      "Val Loss: 0.3479: 100%|██████████| 66/66 [00:19<00:00,  3.44it/s]                       \n"
     ]
    },
    {
     "name": "stdout",
     "output_type": "stream",
     "text": [
      "Threshold : 0.20\tFBeta : 0.402613\n",
      "Threshold : 0.25\tFBeta : 0.362453\n",
      "Threshold : 0.30\tFBeta : 0.319222\n",
      "Threshold : 0.35\tFBeta : 0.276472\n",
      "Threshold : 0.40\tFBeta : 0.238231\n",
      "Threshold : 0.45\tFBeta : 0.202688\n",
      "Threshold : 0.50\tFBeta : 0.169431\n",
      "Threshold : 0.55\tFBeta : 0.140322\n",
      "Threshold : 0.60\tFBeta : 0.116682\n",
      "Threshold : 0.65\tFBeta : 0.095162\n",
      "Threshold : 0.70\tFBeta : 0.075916\n",
      "Threshold : 0.75\tFBeta : 0.059047\n",
      "Threshold : 0.80\tFBeta : 0.043241\n",
      "\n"
     ]
    },
    {
     "name": "stderr",
     "output_type": "stream",
     "text": [
      "Epoch 58/70  Mem : 22GB  LR : 8.69E-06  Loss: 0.2328: 100%|██████████| 28/28 [00:17<00:0\n",
      "Val Loss: 0.3696: 100%|██████████| 66/66 [00:19<00:00,  3.40it/s]                       \n"
     ]
    },
    {
     "name": "stdout",
     "output_type": "stream",
     "text": [
      "Threshold : 0.20\tFBeta : 0.340154\n",
      "Threshold : 0.25\tFBeta : 0.295332\n",
      "Threshold : 0.30\tFBeta : 0.254977\n",
      "Threshold : 0.35\tFBeta : 0.215984\n",
      "Threshold : 0.40\tFBeta : 0.179609\n",
      "Threshold : 0.45\tFBeta : 0.148926\n",
      "Threshold : 0.50\tFBeta : 0.122353\n",
      "Threshold : 0.55\tFBeta : 0.099025\n",
      "Threshold : 0.60\tFBeta : 0.077961\n",
      "Threshold : 0.65\tFBeta : 0.062229\n",
      "Threshold : 0.70\tFBeta : 0.048511\n",
      "Threshold : 0.75\tFBeta : 0.036504\n",
      "Threshold : 0.80\tFBeta : 0.025305\n",
      "\n"
     ]
    },
    {
     "name": "stderr",
     "output_type": "stream",
     "text": [
      "Epoch 59/70  Mem : 22GB  LR : 7.34E-06  Loss: 0.2266: 100%|██████████| 28/28 [00:17<00:0\n",
      "Val Loss: 0.3523: 100%|██████████| 66/66 [00:19<00:00,  3.40it/s]                       \n"
     ]
    },
    {
     "name": "stdout",
     "output_type": "stream",
     "text": [
      "Threshold : 0.20\tFBeta : 0.380326\n",
      "Threshold : 0.25\tFBeta : 0.341399\n",
      "Threshold : 0.30\tFBeta : 0.299371\n",
      "Threshold : 0.35\tFBeta : 0.254878\n",
      "Threshold : 0.40\tFBeta : 0.214169\n",
      "Threshold : 0.45\tFBeta : 0.174668\n",
      "Threshold : 0.50\tFBeta : 0.135751\n",
      "Threshold : 0.55\tFBeta : 0.106301\n",
      "Threshold : 0.60\tFBeta : 0.084696\n",
      "Threshold : 0.65\tFBeta : 0.067177\n",
      "Threshold : 0.70\tFBeta : 0.050800\n",
      "Threshold : 0.75\tFBeta : 0.037602\n",
      "Threshold : 0.80\tFBeta : 0.027093\n",
      "\n"
     ]
    },
    {
     "name": "stderr",
     "output_type": "stream",
     "text": [
      "Epoch 60/70  Mem : 22GB  LR : 6.09E-06  Loss: 0.2337: 100%|██████████| 28/28 [00:17<00:0\n",
      "Val Loss: 0.3495: 100%|██████████| 66/66 [00:19<00:00,  3.43it/s]                       \n"
     ]
    },
    {
     "name": "stdout",
     "output_type": "stream",
     "text": [
      "Threshold : 0.20\tFBeta : 0.392302\n",
      "Threshold : 0.25\tFBeta : 0.367399\n",
      "Threshold : 0.30\tFBeta : 0.337277\n",
      "Threshold : 0.35\tFBeta : 0.305245\n",
      "Threshold : 0.40\tFBeta : 0.271933\n",
      "Threshold : 0.45\tFBeta : 0.233001\n",
      "Threshold : 0.50\tFBeta : 0.191058\n",
      "Threshold : 0.55\tFBeta : 0.153877\n",
      "Threshold : 0.60\tFBeta : 0.123569\n",
      "Threshold : 0.65\tFBeta : 0.099648\n",
      "Threshold : 0.70\tFBeta : 0.080123\n",
      "Threshold : 0.75\tFBeta : 0.061651\n",
      "Threshold : 0.80\tFBeta : 0.043194\n",
      "\n"
     ]
    },
    {
     "name": "stderr",
     "output_type": "stream",
     "text": [
      "Epoch 61/70  Mem : 22GB  LR : 4.95E-06  Loss: 0.2218: 100%|██████████| 28/28 [00:17<00:0\n",
      "Val Loss: 0.3420: 100%|██████████| 66/66 [00:19<00:00,  3.42it/s]                       \n"
     ]
    },
    {
     "name": "stdout",
     "output_type": "stream",
     "text": [
      "Threshold : 0.20\tFBeta : 0.413890\n",
      "Threshold : 0.25\tFBeta : 0.390636\n",
      "Threshold : 0.30\tFBeta : 0.361603\n",
      "Threshold : 0.35\tFBeta : 0.330270\n",
      "Threshold : 0.40\tFBeta : 0.296263\n",
      "Threshold : 0.45\tFBeta : 0.260656\n",
      "Threshold : 0.50\tFBeta : 0.217645\n",
      "Threshold : 0.55\tFBeta : 0.178865\n",
      "Threshold : 0.60\tFBeta : 0.145649\n",
      "Threshold : 0.65\tFBeta : 0.117961\n",
      "Threshold : 0.70\tFBeta : 0.094965\n",
      "Threshold : 0.75\tFBeta : 0.073470\n",
      "Threshold : 0.80\tFBeta : 0.051580\n",
      "\n"
     ]
    },
    {
     "name": "stderr",
     "output_type": "stream",
     "text": [
      "Epoch 62/70  Mem : 22GB  LR : 3.93E-06  Loss: 0.2303: 100%|██████████| 28/28 [00:17<00:0\n",
      "Val Loss: 0.3374: 100%|██████████| 66/66 [00:19<00:00,  3.43it/s]                       \n"
     ]
    },
    {
     "name": "stdout",
     "output_type": "stream",
     "text": [
      "Threshold : 0.20\tFBeta : 0.427656\n",
      "Threshold : 0.25\tFBeta : 0.410600\n",
      "Threshold : 0.30\tFBeta : 0.382705\n",
      "Threshold : 0.35\tFBeta : 0.351100\n",
      "Threshold : 0.40\tFBeta : 0.321024\n",
      "Threshold : 0.45\tFBeta : 0.286233\n",
      "Threshold : 0.50\tFBeta : 0.243247\n",
      "Threshold : 0.55\tFBeta : 0.202388\n",
      "Threshold : 0.60\tFBeta : 0.165608\n",
      "Threshold : 0.65\tFBeta : 0.136485\n",
      "Threshold : 0.70\tFBeta : 0.111930\n",
      "Threshold : 0.75\tFBeta : 0.089371\n",
      "Threshold : 0.80\tFBeta : 0.065771\n",
      "\n"
     ]
    },
    {
     "name": "stderr",
     "output_type": "stream",
     "text": [
      "Epoch 63/70  Mem : 22GB  LR : 3.02E-06  Loss: 0.2231: 100%|██████████| 28/28 [00:17<00:0\n",
      "Val Loss: 0.3507: 100%|██████████| 66/66 [00:19<00:00,  3.41it/s]                       \n"
     ]
    },
    {
     "name": "stdout",
     "output_type": "stream",
     "text": [
      "Threshold : 0.20\tFBeta : 0.394297\n",
      "Threshold : 0.25\tFBeta : 0.361098\n",
      "Threshold : 0.30\tFBeta : 0.327094\n",
      "Threshold : 0.35\tFBeta : 0.293180\n",
      "Threshold : 0.40\tFBeta : 0.258081\n",
      "Threshold : 0.45\tFBeta : 0.221271\n",
      "Threshold : 0.50\tFBeta : 0.180975\n",
      "Threshold : 0.55\tFBeta : 0.146969\n",
      "Threshold : 0.60\tFBeta : 0.118793\n",
      "Threshold : 0.65\tFBeta : 0.095686\n",
      "Threshold : 0.70\tFBeta : 0.074843\n",
      "Threshold : 0.75\tFBeta : 0.055874\n",
      "Threshold : 0.80\tFBeta : 0.039648\n",
      "\n"
     ]
    },
    {
     "name": "stderr",
     "output_type": "stream",
     "text": [
      "Epoch 64/70  Mem : 22GB  LR : 2.22E-06  Loss: 0.2260: 100%|██████████| 28/28 [00:17<00:0\n",
      "Val Loss: 0.3524: 100%|██████████| 66/66 [00:19<00:00,  3.41it/s]                       \n"
     ]
    },
    {
     "name": "stdout",
     "output_type": "stream",
     "text": [
      "Threshold : 0.20\tFBeta : 0.395515\n",
      "Threshold : 0.25\tFBeta : 0.362097\n",
      "Threshold : 0.30\tFBeta : 0.325230\n",
      "Threshold : 0.35\tFBeta : 0.292153\n",
      "Threshold : 0.40\tFBeta : 0.257763\n",
      "Threshold : 0.45\tFBeta : 0.221018\n",
      "Threshold : 0.50\tFBeta : 0.180066\n",
      "Threshold : 0.55\tFBeta : 0.144601\n",
      "Threshold : 0.60\tFBeta : 0.114894\n",
      "Threshold : 0.65\tFBeta : 0.090395\n",
      "Threshold : 0.70\tFBeta : 0.070735\n",
      "Threshold : 0.75\tFBeta : 0.052631\n",
      "Threshold : 0.80\tFBeta : 0.037067\n",
      "\n"
     ]
    },
    {
     "name": "stderr",
     "output_type": "stream",
     "text": [
      "Epoch 65/70  Mem : 22GB  LR : 1.55E-06  Loss: 0.2232: 100%|██████████| 28/28 [00:17<00:0\n",
      "Val Loss: 0.3532: 100%|██████████| 66/66 [00:19<00:00,  3.42it/s]                       \n"
     ]
    },
    {
     "name": "stdout",
     "output_type": "stream",
     "text": [
      "Threshold : 0.20\tFBeta : 0.393769\n",
      "Threshold : 0.25\tFBeta : 0.359451\n",
      "Threshold : 0.30\tFBeta : 0.322170\n",
      "Threshold : 0.35\tFBeta : 0.288673\n",
      "Threshold : 0.40\tFBeta : 0.254117\n",
      "Threshold : 0.45\tFBeta : 0.218249\n",
      "Threshold : 0.50\tFBeta : 0.177988\n",
      "Threshold : 0.55\tFBeta : 0.143399\n",
      "Threshold : 0.60\tFBeta : 0.114505\n",
      "Threshold : 0.65\tFBeta : 0.090651\n",
      "Threshold : 0.70\tFBeta : 0.071309\n",
      "Threshold : 0.75\tFBeta : 0.053803\n",
      "Threshold : 0.80\tFBeta : 0.037945\n",
      "\n"
     ]
    },
    {
     "name": "stderr",
     "output_type": "stream",
     "text": [
      "Epoch 66/70  Mem : 22GB  LR : 9.92E-07  Loss: 0.2234: 100%|██████████| 28/28 [00:17<00:0\n",
      "Val Loss: 0.3459: 100%|██████████| 66/66 [00:19<00:00,  3.44it/s]                       \n"
     ]
    },
    {
     "name": "stdout",
     "output_type": "stream",
     "text": [
      "Threshold : 0.20\tFBeta : 0.418932\n",
      "Threshold : 0.25\tFBeta : 0.393583\n",
      "Threshold : 0.30\tFBeta : 0.363549\n",
      "Threshold : 0.35\tFBeta : 0.330315\n",
      "Threshold : 0.40\tFBeta : 0.299464\n",
      "Threshold : 0.45\tFBeta : 0.265246\n",
      "Threshold : 0.50\tFBeta : 0.224816\n",
      "Threshold : 0.55\tFBeta : 0.186032\n",
      "Threshold : 0.60\tFBeta : 0.152611\n",
      "Threshold : 0.65\tFBeta : 0.124528\n",
      "Threshold : 0.70\tFBeta : 0.099711\n",
      "Threshold : 0.75\tFBeta : 0.077631\n",
      "Threshold : 0.80\tFBeta : 0.057234\n",
      "\n"
     ]
    },
    {
     "name": "stderr",
     "output_type": "stream",
     "text": [
      "Epoch 67/70  Mem : 22GB  LR : 5.59E-07  Loss: 0.2230: 100%|██████████| 28/28 [00:17<00:0\n",
      "Val Loss: 0.3493: 100%|██████████| 66/66 [00:19<00:00,  3.43it/s]                       \n"
     ]
    },
    {
     "name": "stdout",
     "output_type": "stream",
     "text": [
      "Threshold : 0.20\tFBeta : 0.401395\n",
      "Threshold : 0.25\tFBeta : 0.374693\n",
      "Threshold : 0.30\tFBeta : 0.342481\n",
      "Threshold : 0.35\tFBeta : 0.309077\n",
      "Threshold : 0.40\tFBeta : 0.276476\n",
      "Threshold : 0.45\tFBeta : 0.240953\n",
      "Threshold : 0.50\tFBeta : 0.200068\n",
      "Threshold : 0.55\tFBeta : 0.164181\n",
      "Threshold : 0.60\tFBeta : 0.133036\n",
      "Threshold : 0.65\tFBeta : 0.107618\n",
      "Threshold : 0.70\tFBeta : 0.085767\n",
      "Threshold : 0.75\tFBeta : 0.066621\n",
      "Threshold : 0.80\tFBeta : 0.048159\n",
      "\n"
     ]
    },
    {
     "name": "stderr",
     "output_type": "stream",
     "text": [
      "Epoch 68/70  Mem : 22GB  LR : 2.49E-07  Loss: 0.2200: 100%|██████████| 28/28 [00:17<00:0\n",
      "Val Loss: 0.3466: 100%|██████████| 66/66 [00:19<00:00,  3.42it/s]                       \n"
     ]
    },
    {
     "name": "stdout",
     "output_type": "stream",
     "text": [
      "Threshold : 0.20\tFBeta : 0.410923\n",
      "Threshold : 0.25\tFBeta : 0.384583\n",
      "Threshold : 0.30\tFBeta : 0.352802\n",
      "Threshold : 0.35\tFBeta : 0.319428\n",
      "Threshold : 0.40\tFBeta : 0.287836\n",
      "Threshold : 0.45\tFBeta : 0.253423\n",
      "Threshold : 0.50\tFBeta : 0.212561\n",
      "Threshold : 0.55\tFBeta : 0.175669\n",
      "Threshold : 0.60\tFBeta : 0.143415\n",
      "Threshold : 0.65\tFBeta : 0.116998\n",
      "Threshold : 0.70\tFBeta : 0.093704\n",
      "Threshold : 0.75\tFBeta : 0.073115\n",
      "Threshold : 0.80\tFBeta : 0.053824\n",
      "\n"
     ]
    },
    {
     "name": "stderr",
     "output_type": "stream",
     "text": [
      "Epoch 69/70  Mem : 22GB  LR : 6.26E-08  Loss: 0.2197: 100%|██████████| 28/28 [00:17<00:0\n",
      "Val Loss: 0.3439: 100%|██████████| 66/66 [00:19<00:00,  3.42it/s]                       \n"
     ]
    },
    {
     "name": "stdout",
     "output_type": "stream",
     "text": [
      "Threshold : 0.20\tFBeta : 0.419231\n",
      "Threshold : 0.25\tFBeta : 0.399123\n",
      "Threshold : 0.30\tFBeta : 0.372323\n",
      "Threshold : 0.35\tFBeta : 0.340818\n",
      "Threshold : 0.40\tFBeta : 0.311130\n",
      "Threshold : 0.45\tFBeta : 0.278771\n",
      "Threshold : 0.50\tFBeta : 0.238226\n",
      "Threshold : 0.55\tFBeta : 0.197716\n",
      "Threshold : 0.60\tFBeta : 0.163057\n",
      "Threshold : 0.65\tFBeta : 0.133309\n",
      "Threshold : 0.70\tFBeta : 0.108032\n",
      "Threshold : 0.75\tFBeta : 0.084350\n",
      "Threshold : 0.80\tFBeta : 0.062855\n",
      "\n"
     ]
    },
    {
     "name": "stderr",
     "output_type": "stream",
     "text": [
      "Epoch 70/70  Mem : 22GB  LR : 4.00E-10  Loss: 0.2136: 100%|██████████| 28/28 [00:17<00:0\n",
      "Val Loss: 0.3426: 100%|██████████| 66/66 [00:19<00:00,  3.41it/s]                       \n"
     ]
    },
    {
     "name": "stdout",
     "output_type": "stream",
     "text": [
      "Threshold : 0.20\tFBeta : 0.417447\n",
      "Threshold : 0.25\tFBeta : 0.396277\n",
      "Threshold : 0.30\tFBeta : 0.369151\n",
      "Threshold : 0.35\tFBeta : 0.336436\n",
      "Threshold : 0.40\tFBeta : 0.305747\n",
      "Threshold : 0.45\tFBeta : 0.271531\n",
      "Threshold : 0.50\tFBeta : 0.228554\n",
      "Threshold : 0.55\tFBeta : 0.188212\n",
      "Threshold : 0.60\tFBeta : 0.153578\n",
      "Threshold : 0.65\tFBeta : 0.125228\n",
      "Threshold : 0.70\tFBeta : 0.100334\n",
      "Threshold : 0.75\tFBeta : 0.078273\n",
      "Threshold : 0.80\tFBeta : 0.057861\n",
      "\n"
     ]
    }
   ],
   "source": [
    "fbeta_best = 0.0\n",
    "for epoch in range(1, EPOCHS+1):\n",
    "    model.train()\n",
    "    cur_lr = f\"LR : {scheduler.get_last_lr()[0]:.2E}\"\n",
    "    pbar_train = enumerate(dataloader_train)\n",
    "    pbar_train = tqdm(pbar_train, total=n_train, bar_format=\"{l_bar}{bar:10}{r_bar}{bar:-10b}\")\n",
    "    mloss_train, mloss_val, val_metric = 0.0, 0.0, 0.0\n",
    "\n",
    "    \n",
    "\n",
    "\n",
    "\n",
    "\n",
    "    for i, (fragments, masks) in pbar_train:\n",
    "        fragments, masks = fragments.cuda().half(), masks.cuda().half()\n",
    "        \n",
    "        \n",
    "        optimizer.zero_grad()\n",
    "        with amp.autocast():\n",
    "            pred_masks = model(fragments)\n",
    "            loss = criterion(pred_masks, masks)\n",
    "            scaler.scale(loss).backward()\n",
    "            scaler.step(optimizer)\n",
    "            scaler.update()\n",
    "            mloss_train += loss.detach().item()\n",
    "\n",
    "        gpu_mem = f\"Mem : {torch.cuda.memory_reserved() / 1E9:.3g}GB\"\n",
    "        pbar_train.set_description((\"%10s  \" * 3 + \"%10s\") % (f\"Epoch {epoch}/{EPOCHS}\", gpu_mem, cur_lr,\n",
    "                                                              f\"Loss: {mloss_train / (i + 1):.4f}\"))\n",
    "        \n",
    "    scheduler.step()\n",
    "    model.eval()\n",
    "    pbar_val = enumerate(dataloader_valid)\n",
    "    pbar_val = tqdm(pbar_val, total=n_valid, bar_format=\"{l_bar}{bar:10}{r_bar}{bar:-10b}\")\n",
    "    final_pred_mask = torch.zeros(gt_shape, dtype=torch.float32, device='cuda')\n",
    "    \n",
    "    for i, (fragments, masks, xys) in pbar_val:\n",
    "        fragments, masks = fragments.cuda(), masks.cuda()\n",
    "        \n",
    "        with torch.no_grad():\n",
    "            pred_masks = model(fragments)\n",
    "            mloss_val += criterion(pred_masks, masks).item()\n",
    "            pred_masks = torch.sigmoid(pred_masks)\n",
    "        \n",
    "        for j, xy in enumerate(xys):\n",
    "            final_pred_mask[xy[1]:xy[3], xy[0]:xy[2]] = pred_masks[j, 0]\n",
    "\n",
    "        pbar_val.set_description((\"%10s\") % (f\"Val Loss: {mloss_val / (i+1):.4f}\"))\n",
    "    \n",
    "    for threshold in np.arange(0.2, 0.85, 0.05):\n",
    "        fbeta = fbeta_score(final_pred_mask, gt_mask, threshold)\n",
    "        print(f\"Threshold : {threshold:.2f}\\tFBeta : {fbeta:.6f}\")\n",
    "        \n",
    "        if fbeta_best < fbeta:\n",
    "            fbeta_best = fbeta\n",
    "            torch.save(model.module.state_dict(), f\"./ckpts/resnet18_3d_seg_best_{fbeta_best:.4f}.pt\")\n",
    "    \n",
    "    \n",
    "    if epoch >= 10:\n",
    "        torch.save(model.module.state_dict(), f\"./ckpts/resnet18_3d_seg_epoch_{epoch}.pt\")\n",
    "\n",
    "    # if epoch == 30:\n",
    "    #     break\n",
    "\n",
    "    print()"
   ]
  },
  {
   "cell_type": "code",
   "execution_count": 22,
   "id": "2c48f344",
   "metadata": {
    "execution": {
     "iopub.execute_input": "2023-05-23T12:23:46.790555Z",
     "iopub.status.busy": "2023-05-23T12:23:46.790431Z",
     "iopub.status.idle": "2023-05-23T12:23:46.792625Z",
     "shell.execute_reply": "2023-05-23T12:23:46.792356Z"
    }
   },
   "outputs": [],
   "source": [
    "# import logging\n",
    "\n",
    "# logging.basicConfig(filename=\"training_log.txt\", level=logging.INFO)\n",
    "\n",
    "# console = logging.StreamHandler()\n",
    "# console.setLevel(logging.INFO)\n",
    "# logging.getLogger('').addHandler(console)\n",
    "\n",
    "# fbeta_best = 0.0\n",
    "# for epoch in range(1, EPOCHS+1):\n",
    "#     model.train()\n",
    "#     cur_lr = f\"LR : {scheduler.get_last_lr()[0]:.2E}\"\n",
    "#     pbar_train = enumerate(dataloader_train)\n",
    "#     pbar_train = tqdm(pbar_train, total=n_train, bar_format=\"{l_bar}{bar:10}{r_bar}{bar:-10b}\")\n",
    "#     mloss_train, mloss_val, val_metric = 0.0, 0.0, 0.0\n",
    "\n",
    "#     for i, (fragments, masks) in pbar_train:\n",
    "#         fragments, masks = fragments.cuda().half(), masks.cuda().half()\n",
    "        \n",
    "#         optimizer.zero_grad()\n",
    "#         with amp.autocast():\n",
    "#             pred_masks = model(fragments)\n",
    "#             loss = criterion(pred_masks, masks)\n",
    "#             scaler.scale(loss).backward()\n",
    "#             scaler.step(optimizer)\n",
    "#             scaler.update()\n",
    "#             mloss_train += loss.detach().item()\n",
    "\n",
    "#         gpu_mem = f\"Mem : {torch.cuda.memory_reserved() / 1E9:.3g}GB\"\n",
    "#         pbar_train.set_description((\"%10s  \" * 3 + \"%10s\") % (f\"Epoch {epoch}/{EPOCHS}\", gpu_mem, cur_lr,\n",
    "#                                                               f\"Loss: {mloss_train / (i + 1):.4f}\"))\n",
    "#         logging.info((\"%10s  \" * 3 + \"%10s\") % (f\"Epoch {epoch}/{EPOCHS}\", gpu_mem, cur_lr,\n",
    "#                                                 f\"Loss: {mloss_train / (i + 1):.4f}\"))\n",
    "#     scheduler.step()\n",
    "#     model.eval()\n",
    "#     pbar_val = enumerate(dataloader_valid)\n",
    "#     pbar_val = tqdm(pbar_val, total=n_valid, bar_format=\"{l_bar}{bar:10}{r_bar}{bar:-10b}\")\n",
    "#     final_pred_mask = torch.zeros(gt_shape, dtype=torch.float32, device='cuda')\n",
    "    \n",
    "#     for i, (fragments, masks, xys) in pbar_val:\n",
    "#         fragments, masks = fragments.cuda(), masks.cuda()\n",
    "        \n",
    "#         with torch.no_grad():\n",
    "#             pred_masks = model(fragments)\n",
    "#             mloss_val += criterion(pred_masks, masks).item()\n",
    "#             pred_masks = torch.sigmoid(pred_masks)\n",
    "        \n",
    "#         for j, xy in enumerate(xys):\n",
    "#             final_pred_mask[xy[1]:xy[3], xy[0]:xy[2]] = pred_masks[j, 0]\n",
    "\n",
    "#         pbar_val.set_description((\"%10s\") % (f\"Val Loss: {mloss_val / (i+1):.4f}\"))\n",
    "#         logging.info((\"%10s\") % (f\"Val Loss: {mloss_val / (i+1):.4f}\"))\n",
    "\n",
    "#     for threshold in np.arange(0.2, 0.85, 0.05):\n",
    "#         fbeta = fbeta_score(final_pred_mask, gt_mask, threshold)\n",
    "#         logging.info(f\"Threshold : {threshold:.2f}\\tFBeta : {fbeta:.6f}\")\n",
    "\n",
    "#         if fbeta_best < fbeta:\n",
    "#             fbeta_best = fbeta\n",
    "#             torch.save(model.module.state_dict(), f\"./ckpts/resnet18_3d_seg_best.pt\")\n",
    "    \n",
    "#     # if epoch >= 10:\n",
    "#     #     torch.save(model.module.state_dict(), f\"./ckpts/resnet18_3d_seg_epoch_{epoch}.pt\")\n"
   ]
  },
  {
   "cell_type": "code",
   "execution_count": null,
   "id": "89431087",
   "metadata": {
    "papermill": {
     "duration": 0.381515,
     "end_time": "2023-04-08T11:20:14.478012",
     "exception": false,
     "start_time": "2023-04-08T11:20:14.096497",
     "status": "completed"
    },
    "tags": []
   },
   "outputs": [],
   "source": []
  }
 ],
 "metadata": {
  "kernelspec": {
   "display_name": "Python 3",
   "language": "python",
   "name": "python3"
  },
  "language_info": {
   "codemirror_mode": {
    "name": "ipython",
    "version": 3
   },
   "file_extension": ".py",
   "mimetype": "text/x-python",
   "name": "python",
   "nbconvert_exporter": "python",
   "pygments_lexer": "ipython3",
   "version": "3.9.16"
  },
  "papermill": {
   "default_parameters": {},
   "duration": 4132.646938,
   "end_time": "2023-04-08T11:20:18.816611",
   "environment_variables": {},
   "exception": null,
   "input_path": "__notebook__.ipynb",
   "output_path": "__notebook__.ipynb",
   "parameters": {},
   "start_time": "2023-04-08T10:11:26.169673",
   "version": "2.4.0"
  }
 },
 "nbformat": 4,
 "nbformat_minor": 5
}
