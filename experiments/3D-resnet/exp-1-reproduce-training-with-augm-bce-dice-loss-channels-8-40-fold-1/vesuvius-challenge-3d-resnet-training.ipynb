{
 "cells": [
  {
   "attachments": {},
   "cell_type": "markdown",
   "id": "73dea9ca",
   "metadata": {
    "papermill": {
     "duration": 0.006587,
     "end_time": "2023-04-08T10:11:36.662576",
     "exception": false,
     "start_time": "2023-04-08T10:11:36.655989",
     "status": "completed"
    },
    "tags": []
   },
   "source": [
    "## Vesuvius Challenge - Ink Detection Training Notebook"
   ]
  },
  {
   "attachments": {},
   "cell_type": "markdown",
   "id": "8cdbb7ff",
   "metadata": {
    "papermill": {
     "duration": 0.004951,
     "end_time": "2023-04-08T10:11:36.672955",
     "exception": false,
     "start_time": "2023-04-08T10:11:36.668004",
     "status": "completed"
    },
    "tags": []
   },
   "source": [
    "### Setup"
   ]
  },
  {
   "cell_type": "code",
   "execution_count": 1,
   "id": "ae445317",
   "metadata": {
    "_kg_hide-input": false,
    "_kg_hide-output": true,
    "execution": {
     "iopub.execute_input": "2023-05-23T00:13:35.419709Z",
     "iopub.status.busy": "2023-05-23T00:13:35.419282Z",
     "iopub.status.idle": "2023-05-23T00:13:35.598295Z",
     "shell.execute_reply": "2023-05-23T00:13:35.596485Z"
    },
    "papermill": {
     "duration": 29.297355,
     "end_time": "2023-04-08T10:12:05.976007",
     "exception": false,
     "start_time": "2023-04-08T10:11:36.678652",
     "status": "completed"
    },
    "tags": []
   },
   "outputs": [],
   "source": [
    "# # Pretrained weights\n",
    "# # ref - https://github.com/kenshohara/3D-ResNets-PyTorch\n",
    "# !pip install gdown\n",
    "# !gdown 1Nb4abvIkkp_ydPFA9sNPT1WakoVKA8Fa\n",
    "\n",
    "# # Utility packages for reading and visualizing volumes\n",
    "# !pip install zarr imageio-ffmpeg\n",
    "\n",
    "# save model checkpoints\n",
    "!mkdir ./ckpts"
   ]
  },
  {
   "cell_type": "code",
   "execution_count": 2,
   "id": "0d956f5c",
   "metadata": {
    "execution": {
     "iopub.execute_input": "2023-05-23T00:13:35.603140Z",
     "iopub.status.busy": "2023-05-23T00:13:35.602820Z",
     "iopub.status.idle": "2023-05-23T00:13:36.539297Z",
     "shell.execute_reply": "2023-05-23T00:13:36.538972Z"
    },
    "papermill": {
     "duration": 3.289261,
     "end_time": "2023-04-08T10:12:09.273534",
     "exception": false,
     "start_time": "2023-04-08T10:12:05.984273",
     "status": "completed"
    },
    "tags": []
   },
   "outputs": [],
   "source": [
    "import os\n",
    "import gc\n",
    "import sys\n",
    "import zarr\n",
    "import random\n",
    "import imageio\n",
    "import numpy as np\n",
    "import pandas as pd\n",
    "from tqdm import tqdm\n",
    "import matplotlib.pyplot as plt\n",
    "from IPython.display import Video\n",
    "\n",
    "import torch\n",
    "import torch.nn as nn\n",
    "import torch.nn.functional as F\n",
    "from torch.cuda import amp\n",
    "from torch.utils.data import Dataset, DataLoader\n",
    "\n",
    "sys.path.append(\"./resnet3d\")\n",
    "from resnet3d import generate_model"
   ]
  },
  {
   "attachments": {},
   "cell_type": "markdown",
   "id": "88b00fe4",
   "metadata": {
    "papermill": {
     "duration": 0.007297,
     "end_time": "2023-04-08T10:12:09.288770",
     "exception": false,
     "start_time": "2023-04-08T10:12:09.281473",
     "status": "completed"
    },
    "tags": []
   },
   "source": [
    "### Config"
   ]
  },
  {
   "cell_type": "code",
   "execution_count": 3,
   "id": "59e26b77",
   "metadata": {
    "execution": {
     "iopub.execute_input": "2023-05-23T00:13:36.540986Z",
     "iopub.status.busy": "2023-05-23T00:13:36.540795Z",
     "iopub.status.idle": "2023-05-23T00:13:36.542809Z",
     "shell.execute_reply": "2023-05-23T00:13:36.542625Z"
    },
    "papermill": {
     "duration": 0.016571,
     "end_time": "2023-04-08T10:12:09.312935",
     "exception": false,
     "start_time": "2023-04-08T10:12:09.296364",
     "status": "completed"
    },
    "tags": []
   },
   "outputs": [],
   "source": [
    "LR = 1e-4\n",
    "EPOCHS = 100\n",
    "BATCH_SIZE = 32\n",
    "CROP_SIZE = 256\n",
    "Z_START = 8\n",
    "Z_DIMS = 32\n",
    "TRAIN_FRAGMENTS = [\"2\", \"3\"]\n",
    "TEST_FRAGMENT = \"1\""
   ]
  },
  {
   "attachments": {},
   "cell_type": "markdown",
   "id": "9a1e0328",
   "metadata": {
    "papermill": {
     "duration": 0.007428,
     "end_time": "2023-04-08T10:12:09.328094",
     "exception": false,
     "start_time": "2023-04-08T10:12:09.320666",
     "status": "completed"
    },
    "tags": []
   },
   "source": [
    "### Load data"
   ]
  },
  {
   "cell_type": "code",
   "execution_count": 4,
   "id": "8c494d99",
   "metadata": {
    "execution": {
     "iopub.execute_input": "2023-05-23T00:13:36.544053Z",
     "iopub.status.busy": "2023-05-23T00:13:36.543908Z",
     "iopub.status.idle": "2023-05-23T00:13:36.552208Z",
     "shell.execute_reply": "2023-05-23T00:13:36.552025Z"
    },
    "papermill": {
     "duration": 0.054715,
     "end_time": "2023-04-08T10:12:09.391635",
     "exception": false,
     "start_time": "2023-04-08T10:12:09.336920",
     "status": "completed"
    },
    "tags": []
   },
   "outputs": [],
   "source": [
    "\n",
    "\n",
    "FRAGMENTS_ZARR = {\n",
    "    \"1\" : zarr.open(\"/home/viktor/Documents/kaggle/vesuvius-challenge/kaggle-data/train-1.zarr\", mode=\"r\"),\n",
    "    \"2\" : zarr.open(\"/home/viktor/Documents/kaggle/vesuvius-challenge/kaggle-data/train-2.zarr\", mode=\"r\"),\n",
    "    \"3\" : zarr.open(\"/home/viktor/Documents/kaggle/vesuvius-challenge/kaggle-data/train-3.zarr\", mode=\"r\")\n",
    "}\n",
    "\n",
    "FRAGMENTS_SHAPE = {k : v.mask.shape for k, v in FRAGMENTS_ZARR.items()}"
   ]
  },
  {
   "attachments": {},
   "cell_type": "markdown",
   "id": "97a51afa",
   "metadata": {
    "papermill": {
     "duration": 0.007406,
     "end_time": "2023-04-08T10:12:09.406465",
     "exception": false,
     "start_time": "2023-04-08T10:12:09.399059",
     "status": "completed"
    },
    "tags": []
   },
   "source": [
    "### Visualise input"
   ]
  },
  {
   "cell_type": "code",
   "execution_count": 5,
   "id": "6d33b9f8",
   "metadata": {
    "execution": {
     "iopub.execute_input": "2023-05-23T00:13:36.553463Z",
     "iopub.status.busy": "2023-05-23T00:13:36.553346Z",
     "iopub.status.idle": "2023-05-23T00:13:36.779126Z",
     "shell.execute_reply": "2023-05-23T00:13:36.778900Z"
    },
    "papermill": {
     "duration": 1.68744,
     "end_time": "2023-04-08T10:12:11.101290",
     "exception": false,
     "start_time": "2023-04-08T10:12:09.413850",
     "status": "completed"
    },
    "tags": []
   },
   "outputs": [
    {
     "name": "stderr",
     "output_type": "stream",
     "text": [
      "Lossy conversion from uint16 to uint8. Losing 8 bits of resolution. Convert image to uint8 prior to saving to suppress this warning.\n",
      "Lossy conversion from uint16 to uint8. Losing 8 bits of resolution. Convert image to uint8 prior to saving to suppress this warning.\n",
      "Lossy conversion from uint16 to uint8. Losing 8 bits of resolution. Convert image to uint8 prior to saving to suppress this warning.\n",
      "Lossy conversion from uint16 to uint8. Losing 8 bits of resolution. Convert image to uint8 prior to saving to suppress this warning.\n",
      "Lossy conversion from uint16 to uint8. Losing 8 bits of resolution. Convert image to uint8 prior to saving to suppress this warning.\n",
      "Lossy conversion from uint16 to uint8. Losing 8 bits of resolution. Convert image to uint8 prior to saving to suppress this warning.\n",
      "Lossy conversion from uint16 to uint8. Losing 8 bits of resolution. Convert image to uint8 prior to saving to suppress this warning.\n",
      "Lossy conversion from uint16 to uint8. Losing 8 bits of resolution. Convert image to uint8 prior to saving to suppress this warning.\n",
      "Lossy conversion from uint16 to uint8. Losing 8 bits of resolution. Convert image to uint8 prior to saving to suppress this warning.\n",
      "Lossy conversion from uint16 to uint8. Losing 8 bits of resolution. Convert image to uint8 prior to saving to suppress this warning.\n",
      "Lossy conversion from uint16 to uint8. Losing 8 bits of resolution. Convert image to uint8 prior to saving to suppress this warning.\n",
      "Lossy conversion from uint16 to uint8. Losing 8 bits of resolution. Convert image to uint8 prior to saving to suppress this warning.\n",
      "Lossy conversion from uint16 to uint8. Losing 8 bits of resolution. Convert image to uint8 prior to saving to suppress this warning.\n",
      "Lossy conversion from uint16 to uint8. Losing 8 bits of resolution. Convert image to uint8 prior to saving to suppress this warning.\n",
      "Lossy conversion from uint16 to uint8. Losing 8 bits of resolution. Convert image to uint8 prior to saving to suppress this warning.\n",
      "Lossy conversion from uint16 to uint8. Losing 8 bits of resolution. Convert image to uint8 prior to saving to suppress this warning.\n",
      "Lossy conversion from uint16 to uint8. Losing 8 bits of resolution. Convert image to uint8 prior to saving to suppress this warning.\n",
      "Lossy conversion from uint16 to uint8. Losing 8 bits of resolution. Convert image to uint8 prior to saving to suppress this warning.\n",
      "Lossy conversion from uint16 to uint8. Losing 8 bits of resolution. Convert image to uint8 prior to saving to suppress this warning.\n",
      "Lossy conversion from uint16 to uint8. Losing 8 bits of resolution. Convert image to uint8 prior to saving to suppress this warning.\n",
      "Lossy conversion from uint16 to uint8. Losing 8 bits of resolution. Convert image to uint8 prior to saving to suppress this warning.\n",
      "Lossy conversion from uint16 to uint8. Losing 8 bits of resolution. Convert image to uint8 prior to saving to suppress this warning.\n",
      "Lossy conversion from uint16 to uint8. Losing 8 bits of resolution. Convert image to uint8 prior to saving to suppress this warning.\n",
      "Lossy conversion from uint16 to uint8. Losing 8 bits of resolution. Convert image to uint8 prior to saving to suppress this warning.\n",
      "Lossy conversion from uint16 to uint8. Losing 8 bits of resolution. Convert image to uint8 prior to saving to suppress this warning.\n",
      "Lossy conversion from uint16 to uint8. Losing 8 bits of resolution. Convert image to uint8 prior to saving to suppress this warning.\n",
      "Lossy conversion from uint16 to uint8. Losing 8 bits of resolution. Convert image to uint8 prior to saving to suppress this warning.\n",
      "Lossy conversion from uint16 to uint8. Losing 8 bits of resolution. Convert image to uint8 prior to saving to suppress this warning.\n",
      "Lossy conversion from uint16 to uint8. Losing 8 bits of resolution. Convert image to uint8 prior to saving to suppress this warning.\n",
      "Lossy conversion from uint16 to uint8. Losing 8 bits of resolution. Convert image to uint8 prior to saving to suppress this warning.\n",
      "Lossy conversion from uint16 to uint8. Losing 8 bits of resolution. Convert image to uint8 prior to saving to suppress this warning.\n",
      "Lossy conversion from uint16 to uint8. Losing 8 bits of resolution. Convert image to uint8 prior to saving to suppress this warning.\n"
     ]
    },
    {
     "data": {
      "text/html": [
       "<video src=\"fragment_crop.mp4\" controls  width=\"256\"  height=\"256\">\n",
       "      Your browser does not support the <code>video</code> element.\n",
       "    </video>"
      ],
      "text/plain": [
       "<IPython.core.display.Video object>"
      ]
     },
     "execution_count": 5,
     "metadata": {},
     "output_type": "execute_result"
    }
   ],
   "source": [
    "fragment = FRAGMENTS_ZARR[\"1\"]\n",
    "x, y = 2000, 2000\n",
    "\n",
    "fragment_cropped = fragment.surface_volume[y:y+CROP_SIZE, x:x+CROP_SIZE, Z_START:Z_START+Z_DIMS]\n",
    "imageio.mimwrite(\"fragment_crop.mp4\", fragment_cropped.transpose(2, 0, 1), \"ffmpeg\")\n",
    "Video(\"fragment_crop.mp4\", height=256, width=256)"
   ]
  },
  {
   "cell_type": "code",
   "execution_count": 6,
   "id": "46203a93",
   "metadata": {
    "execution": {
     "iopub.execute_input": "2023-05-23T00:13:36.780539Z",
     "iopub.status.busy": "2023-05-23T00:13:36.780423Z",
     "iopub.status.idle": "2023-05-23T00:13:36.823994Z",
     "shell.execute_reply": "2023-05-23T00:13:36.823601Z"
    },
    "papermill": {
     "duration": 0.258785,
     "end_time": "2023-04-08T10:12:11.368608",
     "exception": false,
     "start_time": "2023-04-08T10:12:11.109823",
     "status": "completed"
    },
    "tags": []
   },
   "outputs": [
    {
     "data": {
      "image/png": "[encoded data removed]",
      "text/plain": [
       "<Figure size 600x300 with 2 Axes>"
      ]
     },
     "metadata": {},
     "output_type": "display_data"
    }
   ],
   "source": [
    "mask_cropped = fragment.truth[y:y+CROP_SIZE, x:x+CROP_SIZE]\n",
    "ir_cropped = fragment.infrared[y:y+CROP_SIZE, x:x+CROP_SIZE]\n",
    "\n",
    "plt.figure(figsize=(6, 3))\n",
    "plt.subplot(1, 2, 1)\n",
    "plt.imshow(mask_cropped, cmap=\"gray\")\n",
    "plt.axis(\"off\")\n",
    "\n",
    "plt.subplot(1, 2, 2)\n",
    "plt.imshow(ir_cropped, cmap=\"gray\")\n",
    "plt.axis(\"off\")\n",
    "plt.show()"
   ]
  },
  {
   "cell_type": "code",
   "execution_count": 7,
   "id": "6462d25d",
   "metadata": {
    "execution": {
     "iopub.execute_input": "2023-05-23T00:13:36.825067Z",
     "iopub.status.busy": "2023-05-23T00:13:36.824958Z",
     "iopub.status.idle": "2023-05-23T00:13:36.873863Z",
     "shell.execute_reply": "2023-05-23T00:13:36.873654Z"
    },
    "papermill": {
     "duration": 0.17287,
     "end_time": "2023-04-08T10:12:11.562933",
     "exception": false,
     "start_time": "2023-04-08T10:12:11.390063",
     "status": "completed"
    },
    "tags": []
   },
   "outputs": [
    {
     "data": {
      "text/plain": [
       "4108"
      ]
     },
     "execution_count": 7,
     "metadata": {},
     "output_type": "execute_result"
    }
   ],
   "source": [
    "del fragment, fragment_cropped, mask_cropped, ir_cropped\n",
    "gc.collect()"
   ]
  },
  {
   "attachments": {},
   "cell_type": "markdown",
   "id": "ff9cd3e8",
   "metadata": {
    "papermill": {
     "duration": 0.008474,
     "end_time": "2023-04-08T10:12:11.580070",
     "exception": false,
     "start_time": "2023-04-08T10:12:11.571596",
     "status": "completed"
    },
    "tags": []
   },
   "source": [
    "### Dataloaders"
   ]
  },
  {
   "cell_type": "code",
   "execution_count": 8,
   "id": "162ec4e8",
   "metadata": {
    "execution": {
     "iopub.execute_input": "2023-05-23T00:13:36.875243Z",
     "iopub.status.busy": "2023-05-23T00:13:36.875084Z",
     "iopub.status.idle": "2023-05-23T00:13:36.877202Z",
     "shell.execute_reply": "2023-05-23T00:13:36.876938Z"
    },
    "papermill": {
     "duration": 0.024571,
     "end_time": "2023-04-08T10:12:11.612905",
     "exception": false,
     "start_time": "2023-04-08T10:12:11.588334",
     "status": "completed"
    },
    "tags": []
   },
   "outputs": [],
   "source": [
    "# import albumentations as A\n",
    "# from albumentations.pytorch import ToTensorV2\n",
    "\n",
    "# class VesuviusTrain(Dataset):\n",
    "#     def __init__(self, fragments):\n",
    "#         self.fragments = fragments\n",
    "#         self.xys = []\n",
    "        \n",
    "#         for fragment in fragments:\n",
    "#             H, W = FRAGMENTS_SHAPE[fragment]\n",
    "#             for y in range(0, H-CROP_SIZE+1, CROP_SIZE):\n",
    "#                 for x in range(0, W-CROP_SIZE+1, CROP_SIZE):\n",
    "#                     self.xys.append((fragment, x, y, W, H))\n",
    "        \n",
    "#         train_aug_list = [\n",
    "#                 # A.RandomResizedCrop(\n",
    "#                 #     size, size, scale=(0.85, 1.0)),\n",
    "#                 A.HorizontalFlip(p=0.5),\n",
    "#                 A.VerticalFlip(p=0.5),\n",
    "#                 A.RandomBrightnessContrast(p=0.75),\n",
    "#                 A.CoarseDropout(max_holes=1, max_width=int(CROP_SIZE * 0.1), max_height=int(size * 0.1), \n",
    "#                                 mask_fill_value=0, p=0.5),\n",
    "#                 A.ShiftScaleRotate(p=0.75),\n",
    "#                 A.Rotate(limit=90, p=0.9), \n",
    "#                 A.OneOf([\n",
    "#                         A.GaussNoise(var_limit=[10, 50]),\n",
    "#                         A.GaussianBlur(),\n",
    "#                         A.MotionBlur(),\n",
    "#                         ], p=0.4),\n",
    "#                 A.GridDistortion(num_steps=1, distort_limit=0.3, p=0.5),\n",
    "                \n",
    "#                 A.Cutout(max_h_size=int(size * 0.6),\n",
    "#                          max_w_size=int(size * 0.6), num_holes=1, p=1.0),\n",
    "#                 A.Normalize(\n",
    "#                     mean= [0] * Z_DIMS,\n",
    "#                     std= [1] * Z_DIMS\n",
    "#                 ),\n",
    "#                 ToTensorV2(transpose_mask=True),\n",
    "#             ]\n",
    "        \n",
    "        \n",
    "        \n",
    "#     def __getitem__(self, i):\n",
    "#         fragment, x1, y1, W, H = self.xys[i]\n",
    "#         z1, z2 = Z_START, Z_START+Z_DIMS\n",
    "        \n",
    "#         x_offset = random.randint(-32 if x1 != 0 else 0, 32)\n",
    "#         y_offset = random.randint(-32 if y1 != 0 else 0, 32)\n",
    "        \n",
    "#         x1 += x_offset\n",
    "#         y1 += y_offset\n",
    "        \n",
    "#         x2 = x1 + CROP_SIZE\n",
    "#         y2 = y1 + CROP_SIZE\n",
    "        \n",
    "#         if x2 > W:\n",
    "#             x1 -= x_offset\n",
    "#             x2 -= x_offset\n",
    "            \n",
    "#         if y2 > H:\n",
    "#             y1 -= y_offset\n",
    "#             y2 -= y_offset\n",
    "        \n",
    "#         frag_crop = FRAGMENTS_ZARR[fragment].surface_volume[y1:y2, x1:x2, z1:z2]\n",
    "#         mask_crop = FRAGMENTS_ZARR[fragment].truth[y1:y2, x1:x2]\n",
    "        \n",
    "#         if random.random() > 0.5:\n",
    "#             frag_crop = np.flip(frag_crop, axis=1).copy()\n",
    "#             mask_crop = np.flip(mask_crop, axis=1).copy()\n",
    "\n",
    "#         frag_crop = torch.from_numpy(frag_crop.astype(np.float32)).unsqueeze(0).permute(0, 3, 1, 2)\n",
    "#         frag_crop = frag_crop/65535.0\n",
    "#         frag_crop = (frag_crop - 0.45)/0.225\n",
    "        \n",
    "#         mask_crop = torch.from_numpy(mask_crop.astype(np.float32)).unsqueeze(0)\n",
    "        \n",
    "        \n",
    "        \n",
    "        \n",
    "        \n",
    "        \n",
    "        \n",
    "        \n",
    "#         return frag_crop, mask_crop\n",
    "\n",
    "#     def __len__(self):\n",
    "#         return len(self.xys)"
   ]
  },
  {
   "cell_type": "code",
   "execution_count": 9,
   "id": "c2c0c6d5",
   "metadata": {
    "execution": {
     "iopub.execute_input": "2023-05-23T00:13:36.878337Z",
     "iopub.status.busy": "2023-05-23T00:13:36.878262Z",
     "iopub.status.idle": "2023-05-23T00:13:37.274846Z",
     "shell.execute_reply": "2023-05-23T00:13:37.274521Z"
    }
   },
   "outputs": [],
   "source": [
    "import albumentations as A\n",
    "from albumentations.pytorch import ToTensorV2\n",
    "\n",
    "class VesuviusTrain(Dataset):\n",
    "    def __init__(self, fragments):\n",
    "        self.fragments = fragments\n",
    "        self.xys = []\n",
    "        \n",
    "        for fragment in fragments:\n",
    "            H, W = FRAGMENTS_SHAPE[fragment]\n",
    "            for y in range(0, H-CROP_SIZE+1, CROP_SIZE):\n",
    "                for x in range(0, W-CROP_SIZE+1, CROP_SIZE):\n",
    "                    surface = FRAGMENTS_ZARR[fragment].surface_volume[y:y+CROP_SIZE, x:x+CROP_SIZE, 0]\n",
    "                    if np.sum(surface) / (CROP_SIZE * CROP_SIZE) > 0.2:\n",
    "                        self.xys.append((fragment, x, y, W, H))\n",
    "        \n",
    "        self.train_aug_list = [\n",
    "                # A.RandomResizedCrop(\n",
    "                #     size, size, scale=(0.85, 1.0)),\n",
    "                \n",
    "                A.HorizontalFlip(p=0.5),\n",
    "                A.VerticalFlip(p=0.5),\n",
    "                \n",
    "                # A.RandomBrightnessContrast(p=0.75),\n",
    "                # A.CoarseDropout(max_holes=1, max_width=int(CROP_SIZE * 0.1), max_height=int(CROP_SIZE * 0.1), \n",
    "                #                 mask_fill_value=0, p=0.5),\n",
    "                # A.ShiftScaleRotate(p=0.75),\n",
    "                \n",
    "                A.Rotate(limit=90, p=0.9), \n",
    "                \n",
    "                # A.OneOf([\n",
    "                #         A.GaussNoise(var_limit=[1, 5]),\n",
    "                #         A.GaussianBlur(),\n",
    "                #         A.MotionBlur(),\n",
    "                #         ], p=0.4),\n",
    "                # A.GridDistortion(num_steps=1, distort_limit=0.3, p=0.5),\n",
    "                \n",
    "                # A.Cutout(max_h_size=int(CROP_SIZE * 0.2),\n",
    "                #          max_w_size=int(CROP_SIZE * 0.2), num_holes=1, p=1.0),\n",
    "                # A.Normalize(\n",
    "                #     mean= [0] * Z_DIMS,\n",
    "                #     std= [1] * Z_DIMS\n",
    "                # ),\n",
    "                \n",
    "                \n",
    "                ToTensorV2(transpose_mask=True),\n",
    "            ]\n",
    "        \n",
    "        # Create the augmentation pipeline\n",
    "        self.augmentations = A.Compose(self.train_aug_list)\n",
    "        \n",
    "        \n",
    "        \n",
    "    def __getitem__(self, i):\n",
    "        fragment, x1, y1, W, H = self.xys[i]\n",
    "        z1, z2 = Z_START, Z_START+Z_DIMS\n",
    "        \n",
    "        x_offset = random.randint(-128 if x1 != 0 else 0, 128)\n",
    "        y_offset = random.randint(-128 if y1 != 0 else 0, 128)\n",
    "        \n",
    "        x1 += x_offset\n",
    "        y1 += y_offset\n",
    "        \n",
    "        x2 = x1 + CROP_SIZE\n",
    "        y2 = y1 + CROP_SIZE\n",
    "        \n",
    "        if x2 > W:\n",
    "            x1 -= x_offset\n",
    "            x2 -= x_offset\n",
    "            \n",
    "        if y2 > H:\n",
    "            y1 -= y_offset\n",
    "            y2 -= y_offset\n",
    "        \n",
    "        frag_crop = FRAGMENTS_ZARR[fragment].surface_volume[y1:y2, x1:x2, z1:z2]\n",
    "        mask_crop = FRAGMENTS_ZARR[fragment].truth[y1:y2, x1:x2]\n",
    "        \n",
    "        # if random.random() > 0.5:\n",
    "        #     frag_crop = np.flip(frag_crop, axis=1).copy()\n",
    "        #     mask_crop = np.flip(mask_crop, axis=1).copy()\n",
    "\n",
    "        # Perform train augmentations\n",
    "\n",
    "        frag_crop = frag_crop/65535.0\n",
    "        \n",
    "\n",
    "        # Apply the augmentations\n",
    "        augmented = self.augmentations(image=frag_crop, mask=mask_crop)\n",
    "\n",
    "        # Separate the image and mask\n",
    "        frag_crop, mask_crop = augmented[\"image\"], augmented[\"mask\"]\n",
    "\n",
    "        # normalize\n",
    "        \n",
    "        # frag_crop = (frag_crop - 0.45)/0.225\n",
    "        \n",
    "        frag_crop = frag_crop.unsqueeze(0)\n",
    "        mask_crop = mask_crop.float().unsqueeze(0)\n",
    "        \n",
    "        \n",
    "        return frag_crop, mask_crop\n",
    "\n",
    "    def __len__(self):\n",
    "        return len(self.xys)"
   ]
  },
  {
   "cell_type": "code",
   "execution_count": 10,
   "id": "f172c2ad",
   "metadata": {
    "execution": {
     "iopub.execute_input": "2023-05-23T00:13:37.276497Z",
     "iopub.status.busy": "2023-05-23T00:13:37.276283Z",
     "iopub.status.idle": "2023-05-23T00:13:37.279606Z",
     "shell.execute_reply": "2023-05-23T00:13:37.279400Z"
    },
    "papermill": {
     "duration": 0.022963,
     "end_time": "2023-04-08T10:12:11.644387",
     "exception": false,
     "start_time": "2023-04-08T10:12:11.621424",
     "status": "completed"
    },
    "tags": []
   },
   "outputs": [],
   "source": [
    "class VesuviusVal(Dataset):\n",
    "    def __init__(self, fragment):\n",
    "        self.fragment = FRAGMENTS_ZARR[fragment]\n",
    "        self.xys = []\n",
    "        \n",
    "        H, W = FRAGMENTS_SHAPE[fragment]\n",
    "        for y in range(0, H-CROP_SIZE+1, CROP_SIZE):\n",
    "            for x in range(0, W-CROP_SIZE+1, CROP_SIZE):\n",
    "                self.xys.append((x, y))\n",
    "                \n",
    "    def __getitem__(self, i):\n",
    "        x1, y1 = self.xys[i]\n",
    "        x2, y2 = x1+CROP_SIZE, y1+CROP_SIZE\n",
    "        z1, z2 = Z_START, Z_START+Z_DIMS\n",
    "        \n",
    "        frag_crop = self.fragment.surface_volume[y1:y2, x1:x2, z1:z2]\n",
    "        mask_crop = self.fragment.truth[y1:y2, x1:x2]\n",
    "\n",
    "        frag_crop = torch.from_numpy(frag_crop.astype(np.float32)).unsqueeze(0).permute(0, 3, 1, 2)\n",
    "        frag_crop = frag_crop/65535.0\n",
    "        # frag_crop = (frag_crop - 0.45)/0.225\n",
    "        \n",
    "        mask_crop = torch.from_numpy(mask_crop.astype(np.float32)).unsqueeze(0)\n",
    "        return frag_crop, mask_crop, torch.tensor([x1, y1, x2, y2], dtype=torch.int32)\n",
    "\n",
    "    def __len__(self):\n",
    "        return len(self.xys)"
   ]
  },
  {
   "cell_type": "code",
   "execution_count": 11,
   "id": "4282f924",
   "metadata": {
    "execution": {
     "iopub.execute_input": "2023-05-23T00:13:37.280676Z",
     "iopub.status.busy": "2023-05-23T00:13:37.280604Z",
     "iopub.status.idle": "2023-05-23T00:13:42.889939Z",
     "shell.execute_reply": "2023-05-23T00:13:42.889696Z"
    },
    "papermill": {
     "duration": 0.019671,
     "end_time": "2023-04-08T10:12:11.672490",
     "exception": false,
     "start_time": "2023-04-08T10:12:11.652819",
     "status": "completed"
    },
    "tags": []
   },
   "outputs": [],
   "source": [
    "dataset_train = VesuviusTrain(TRAIN_FRAGMENTS)\n",
    "dataloader_train = DataLoader(dataset_train, batch_size=BATCH_SIZE, num_workers=2,\n",
    "                              shuffle=True, pin_memory=True, drop_last=True)\n",
    "n_train = len(dataloader_train)\n",
    "\n",
    "dataset_valid = VesuviusVal(TEST_FRAGMENT)\n",
    "dataloader_valid = DataLoader(dataset_valid, batch_size=BATCH_SIZE, num_workers=2,\n",
    "                              shuffle=False, pin_memory=True, drop_last=False)\n",
    "n_valid = len(dataloader_valid)"
   ]
  },
  {
   "cell_type": "code",
   "execution_count": 12,
   "id": "0577f1a6",
   "metadata": {
    "execution": {
     "iopub.execute_input": "2023-05-23T00:13:42.891217Z",
     "iopub.status.busy": "2023-05-23T00:13:42.891106Z",
     "iopub.status.idle": "2023-05-23T00:13:43.008676Z",
     "shell.execute_reply": "2023-05-23T00:13:43.008442Z"
    }
   },
   "outputs": [
    {
     "data": {
      "text/plain": [
       "(tensor(0., dtype=torch.float64), tensor(1., dtype=torch.float64))"
      ]
     },
     "execution_count": 12,
     "metadata": {},
     "output_type": "execute_result"
    }
   ],
   "source": [
    "i = random.randint(0, len(dataset_train))\n",
    "img = dataset_train[i][0]\n",
    "img.min(), img.max()"
   ]
  },
  {
   "cell_type": "code",
   "execution_count": null,
   "id": "40a15748",
   "metadata": {},
   "outputs": [],
   "source": []
  },
  {
   "cell_type": "code",
   "execution_count": null,
   "id": "a792af0c",
   "metadata": {},
   "outputs": [],
   "source": []
  },
  {
   "attachments": {},
   "cell_type": "markdown",
   "id": "cdcc7e0b",
   "metadata": {
    "papermill": {
     "duration": 0.008028,
     "end_time": "2023-04-08T10:12:11.688860",
     "exception": false,
     "start_time": "2023-04-08T10:12:11.680832",
     "status": "completed"
    },
    "tags": []
   },
   "source": [
    "### Model\n",
    "* Encoder is a 3D ResNet model. The architecture has been modified to remove temporal downsampling between blocks.\n",
    "* A 2D decoder is used for predicting the segmentation map.\n",
    "* The encoder feature maps are average pooled over the Z dimension before passing it to the decoder."
   ]
  },
  {
   "cell_type": "code",
   "execution_count": 13,
   "id": "ff7cc8a3",
   "metadata": {
    "execution": {
     "iopub.execute_input": "2023-05-23T00:13:43.010028Z",
     "iopub.status.busy": "2023-05-23T00:13:43.009905Z",
     "iopub.status.idle": "2023-05-23T00:13:43.013875Z",
     "shell.execute_reply": "2023-05-23T00:13:43.013671Z"
    },
    "papermill": {
     "duration": 0.023714,
     "end_time": "2023-04-08T10:12:11.721140",
     "exception": false,
     "start_time": "2023-04-08T10:12:11.697426",
     "status": "completed"
    },
    "tags": []
   },
   "outputs": [],
   "source": [
    "class Decoder(nn.Module):\n",
    "    def __init__(self, encoder_dims, upscale):\n",
    "        super().__init__()\n",
    "        self.convs = nn.ModuleList([\n",
    "            nn.Sequential(\n",
    "                nn.Conv2d(encoder_dims[i]+encoder_dims[i-1], encoder_dims[i-1], 3, 1, 1, bias=False),\n",
    "                nn.BatchNorm2d(encoder_dims[i-1]),\n",
    "                nn.ReLU(inplace=True)\n",
    "            ) for i in range(1, len(encoder_dims))])\n",
    "\n",
    "        self.logit = nn.Conv2d(encoder_dims[0], 1, 1, 1, 0)\n",
    "        self.up = nn.Upsample(scale_factor=upscale, mode=\"bilinear\")\n",
    "\n",
    "    def forward(self, feature_maps):\n",
    "        for i in range(len(feature_maps)-1, 0, -1):\n",
    "            f_up = F.interpolate(feature_maps[i], scale_factor=2, mode=\"bilinear\")\n",
    "            f = torch.cat([feature_maps[i-1], f_up], dim=1)\n",
    "            f_down = self.convs[i-1](f)\n",
    "            feature_maps[i-1] = f_down\n",
    "\n",
    "        x = self.logit(feature_maps[0])\n",
    "        mask = self.up(x)\n",
    "        return mask\n",
    "\n",
    "\n",
    "class SegModel(nn.Module):\n",
    "    def __init__(self):\n",
    "        super().__init__()\n",
    "        self.encoder = generate_model(model_depth=18, n_input_channels=1)\n",
    "        self.decoder = Decoder(encoder_dims=[64, 128, 256, 512], upscale=4)\n",
    "        \n",
    "    def forward(self, x):\n",
    "        feat_maps = self.encoder(x)\n",
    "        feat_maps_pooled = [torch.mean(f, dim=2) for f in feat_maps]\n",
    "        pred_mask = self.decoder(feat_maps_pooled)\n",
    "        return pred_mask\n",
    "    \n",
    "    def load_pretrained_weights(self, state_dict):\n",
    "        # Convert 3 channel weights to single channel\n",
    "        # ref - https://timm.fast.ai/models#Case-1:-When-the-number-of-input-channels-is-1\n",
    "        conv1_weight = state_dict['conv1.weight']\n",
    "        state_dict['conv1.weight'] = conv1_weight.sum(dim=1, keepdim=True)\n",
    "        print(self.encoder.load_state_dict(state_dict, strict=False))"
   ]
  },
  {
   "cell_type": "code",
   "execution_count": 14,
   "id": "67e4a0f1",
   "metadata": {
    "execution": {
     "iopub.execute_input": "2023-05-23T00:13:43.014867Z",
     "iopub.status.busy": "2023-05-23T00:13:43.014719Z",
     "iopub.status.idle": "2023-05-23T00:13:44.186460Z",
     "shell.execute_reply": "2023-05-23T00:13:44.186125Z"
    },
    "papermill": {
     "duration": 3.891528,
     "end_time": "2023-04-08T10:12:15.621016",
     "exception": false,
     "start_time": "2023-04-08T10:12:11.729488",
     "status": "completed"
    },
    "tags": []
   },
   "outputs": [
    {
     "name": "stdout",
     "output_type": "stream",
     "text": [
      "_IncompatibleKeys(missing_keys=[], unexpected_keys=['fc.weight', 'fc.bias'])\n"
     ]
    }
   ],
   "source": [
    "model = SegModel()\n",
    "model.load_pretrained_weights(torch.load(\"/home/viktor/Documents/kaggle/vesuvius-challenge/experiments/3D-resnet/r3d18_K_200ep.pth\")[\"state_dict\"])\n",
    "model = nn.DataParallel(model, device_ids=[0])\n",
    "\n",
    "model = model.cuda()"
   ]
  },
  {
   "cell_type": "code",
   "execution_count": 15,
   "id": "491e9288",
   "metadata": {
    "execution": {
     "iopub.execute_input": "2023-05-23T00:13:44.188051Z",
     "iopub.status.busy": "2023-05-23T00:13:44.187945Z",
     "iopub.status.idle": "2023-05-23T00:13:45.049235Z",
     "shell.execute_reply": "2023-05-23T00:13:45.048955Z"
    }
   },
   "outputs": [
    {
     "data": {
      "text/plain": [
       "torch.Size([5, 1, 256, 256])"
      ]
     },
     "execution_count": 15,
     "metadata": {},
     "output_type": "execute_result"
    }
   ],
   "source": [
    "x = torch.randn(5, 1, 16, 256, 256).cuda()\n",
    "with torch.no_grad():\n",
    "    y = model(x)\n",
    "y.shape"
   ]
  },
  {
   "attachments": {},
   "cell_type": "markdown",
   "id": "d84d7c0e",
   "metadata": {
    "papermill": {
     "duration": 0.008816,
     "end_time": "2023-04-08T10:12:15.638951",
     "exception": false,
     "start_time": "2023-04-08T10:12:15.630135",
     "status": "completed"
    },
    "tags": []
   },
   "source": [
    "### Competition metric (F0.5 Score)"
   ]
  },
  {
   "cell_type": "code",
   "execution_count": 16,
   "id": "61dbeb5c",
   "metadata": {
    "execution": {
     "iopub.execute_input": "2023-05-23T00:13:45.050627Z",
     "iopub.status.busy": "2023-05-23T00:13:45.050525Z",
     "iopub.status.idle": "2023-05-23T00:13:45.052923Z",
     "shell.execute_reply": "2023-05-23T00:13:45.052730Z"
    },
    "papermill": {
     "duration": 0.020268,
     "end_time": "2023-04-08T10:12:15.668008",
     "exception": false,
     "start_time": "2023-04-08T10:12:15.647740",
     "status": "completed"
    },
    "tags": []
   },
   "outputs": [],
   "source": [
    "# ref - https://www.kaggle.com/competitions/vesuvius-challenge-ink-detection/discussion/397288\n",
    "def fbeta_score(preds, targets, threshold, beta=0.5, smooth=1e-5):\n",
    "    preds_t = torch.where(preds > threshold, 1.0, 0.0).float()\n",
    "    y_true_count = targets.sum()\n",
    "    \n",
    "    ctp = preds_t[targets==1].sum()\n",
    "    cfp = preds_t[targets==0].sum()\n",
    "    beta_squared = beta * beta\n",
    "\n",
    "    c_precision = ctp / (ctp + cfp + smooth)\n",
    "    c_recall = ctp / (y_true_count + smooth)\n",
    "    dice = (1 + beta_squared) * (c_precision * c_recall) / (beta_squared * c_precision + c_recall + smooth)\n",
    "\n",
    "    return dice"
   ]
  },
  {
   "attachments": {},
   "cell_type": "markdown",
   "id": "639c9148",
   "metadata": {
    "papermill": {
     "duration": 0.008498,
     "end_time": "2023-04-08T10:12:15.685205",
     "exception": false,
     "start_time": "2023-04-08T10:12:15.676707",
     "status": "completed"
    },
    "tags": []
   },
   "source": [
    "### Training"
   ]
  },
  {
   "cell_type": "code",
   "execution_count": 17,
   "id": "0cca2e6e",
   "metadata": {
    "execution": {
     "iopub.execute_input": "2023-05-23T00:13:45.054174Z",
     "iopub.status.busy": "2023-05-23T00:13:45.054075Z",
     "iopub.status.idle": "2023-05-23T00:13:45.055999Z",
     "shell.execute_reply": "2023-05-23T00:13:45.055815Z"
    },
    "papermill": {
     "duration": 0.019067,
     "end_time": "2023-04-08T10:12:15.713237",
     "exception": false,
     "start_time": "2023-04-08T10:12:15.694170",
     "status": "completed"
    },
    "tags": []
   },
   "outputs": [],
   "source": [
    "scaler = amp.GradScaler()\n",
    "# criterion = nn.BCEWithLogitsLoss()\n",
    "\n",
    "\n",
    "optimizer = torch.optim.AdamW(model.parameters(), lr=LR)\n",
    "scheduler = torch.optim.lr_scheduler.OneCycleLR(optimizer, max_lr=LR,\n",
    "                                                steps_per_epoch=10, epochs=EPOCHS//10,\n",
    "                                                pct_start=0.1)"
   ]
  },
  {
   "cell_type": "code",
   "execution_count": 18,
   "id": "2a77a022",
   "metadata": {
    "execution": {
     "iopub.execute_input": "2023-05-23T00:13:45.057223Z",
     "iopub.status.busy": "2023-05-23T00:13:45.057107Z",
     "iopub.status.idle": "2023-05-23T00:13:45.834771Z",
     "shell.execute_reply": "2023-05-23T00:13:45.834182Z"
    }
   },
   "outputs": [],
   "source": [
    "import segmentation_models_pytorch as smp\n",
    "DiceLoss = smp.losses.DiceLoss(mode='binary')\n",
    "BCELoss = smp.losses.SoftBCEWithLogitsLoss()\n",
    "\n",
    "\n",
    "def criterion(y_pred, y_true):\n",
    "    return 0.5 * BCELoss(y_pred, y_true) + 0.5 * DiceLoss(y_pred, y_true)"
   ]
  },
  {
   "cell_type": "code",
   "execution_count": 19,
   "id": "7304e1fd",
   "metadata": {
    "execution": {
     "iopub.execute_input": "2023-05-23T00:13:45.836512Z",
     "iopub.status.busy": "2023-05-23T00:13:45.836417Z",
     "iopub.status.idle": "2023-05-23T00:13:45.876145Z",
     "shell.execute_reply": "2023-05-23T00:13:45.875776Z"
    },
    "papermill": {
     "duration": 0.385175,
     "end_time": "2023-04-08T10:12:16.107159",
     "exception": false,
     "start_time": "2023-04-08T10:12:15.721984",
     "status": "completed"
    },
    "tags": []
   },
   "outputs": [],
   "source": [
    "gt_mask = torch.from_numpy(np.asarray(FRAGMENTS_ZARR[TEST_FRAGMENT].truth)).float().cuda()\n",
    "gt_shape = FRAGMENTS_SHAPE[TEST_FRAGMENT]"
   ]
  },
  {
   "cell_type": "code",
   "execution_count": 20,
   "id": "c0b85bf1",
   "metadata": {
    "execution": {
     "iopub.execute_input": "2023-05-23T00:13:45.877718Z",
     "iopub.status.busy": "2023-05-23T00:13:45.877633Z",
     "iopub.status.idle": "2023-05-23T00:13:45.879584Z",
     "shell.execute_reply": "2023-05-23T00:13:45.879385Z"
    }
   },
   "outputs": [],
   "source": [
    "import logging\n",
    "\n",
    "logging.basicConfig(filename=\"training_log.txt\", level=logging.INFO)\n"
   ]
  },
  {
   "cell_type": "code",
   "execution_count": 21,
   "id": "00067c9c",
   "metadata": {
    "execution": {
     "iopub.execute_input": "2023-05-23T00:13:45.880787Z",
     "iopub.status.busy": "2023-05-23T00:13:45.880709Z",
     "iopub.status.idle": "2023-05-23T02:37:41.835439Z",
     "shell.execute_reply": "2023-05-23T02:37:41.835035Z"
    },
    "papermill": {
     "duration": 4077.588277,
     "end_time": "2023-04-08T11:20:13.706513",
     "exception": false,
     "start_time": "2023-04-08T10:12:16.118236",
     "status": "completed"
    },
    "tags": []
   },
   "outputs": [
    {
     "name": "stderr",
     "output_type": "stream",
     "text": [
      "Epoch 1/100  Mem : 18.5GB  LR : 4.00E-06  Loss: 0.7959: 100%|██████████| 62/62 [01:14<00:00,  1.20s/it]                                                                                                                                                                        \n",
      "Val Loss: 0.7490: 100%|██████████| 24/24 [00:11<00:00,  2.01it/s]                                                                                                                                                                                                              \n"
     ]
    },
    {
     "name": "stdout",
     "output_type": "stream",
     "text": [
      "Threshold : 0.20\tFBeta : 0.133444\n",
      "Threshold : 0.25\tFBeta : 0.134291\n",
      "Threshold : 0.30\tFBeta : 0.137992\n",
      "Threshold : 0.35\tFBeta : 0.144264\n",
      "Threshold : 0.40\tFBeta : 0.153928\n",
      "Threshold : 0.45\tFBeta : 0.169562\n",
      "Threshold : 0.50\tFBeta : 0.194707\n",
      "Threshold : 0.55\tFBeta : 0.223965\n",
      "Threshold : 0.60\tFBeta : 0.240182\n",
      "Threshold : 0.65\tFBeta : 0.237107\n",
      "Threshold : 0.70\tFBeta : 0.186050\n",
      "Threshold : 0.75\tFBeta : 0.077909\n",
      "Threshold : 0.80\tFBeta : 0.005740\n",
      "\n"
     ]
    },
    {
     "name": "stderr",
     "output_type": "stream",
     "text": [
      "Epoch 2/100  Mem : 19.8GB  LR : 6.89E-06  Loss: 0.7349: 100%|██████████| 62/62 [01:14<00:00,  1.20s/it]                                                                                                                                                                        \n",
      "Val Loss: 0.6769: 100%|██████████| 24/24 [00:11<00:00,  2.04it/s]                                                                                                                                                                                                              \n"
     ]
    },
    {
     "name": "stdout",
     "output_type": "stream",
     "text": [
      "Threshold : 0.20\tFBeta : 0.133821\n",
      "Threshold : 0.25\tFBeta : 0.142350\n",
      "Threshold : 0.30\tFBeta : 0.161817\n",
      "Threshold : 0.35\tFBeta : 0.184407\n",
      "Threshold : 0.40\tFBeta : 0.203889\n",
      "Threshold : 0.45\tFBeta : 0.224295\n",
      "Threshold : 0.50\tFBeta : 0.249303\n",
      "Threshold : 0.55\tFBeta : 0.270823\n",
      "Threshold : 0.60\tFBeta : 0.294785\n",
      "Threshold : 0.65\tFBeta : 0.277283\n",
      "Threshold : 0.70\tFBeta : 0.155898\n",
      "Threshold : 0.75\tFBeta : 0.032592\n",
      "Threshold : 0.80\tFBeta : 0.001219\n",
      "\n"
     ]
    },
    {
     "name": "stderr",
     "output_type": "stream",
     "text": [
      "Epoch 3/100  Mem : 19.8GB  LR : 1.52E-05  Loss: 0.6929: 100%|██████████| 62/62 [01:13<00:00,  1.19s/it]                                                                                                                                                                        \n",
      "Val Loss: 0.6781: 100%|██████████| 24/24 [00:11<00:00,  2.00it/s]                                                                                                                                                                                                              \n"
     ]
    },
    {
     "name": "stdout",
     "output_type": "stream",
     "text": [
      "Threshold : 0.20\tFBeta : 0.140064\n",
      "Threshold : 0.25\tFBeta : 0.164275\n",
      "Threshold : 0.30\tFBeta : 0.182313\n",
      "Threshold : 0.35\tFBeta : 0.194635\n",
      "Threshold : 0.40\tFBeta : 0.202889\n",
      "Threshold : 0.45\tFBeta : 0.211649\n",
      "Threshold : 0.50\tFBeta : 0.221513\n",
      "Threshold : 0.55\tFBeta : 0.222812\n",
      "Threshold : 0.60\tFBeta : 0.219958\n",
      "Threshold : 0.65\tFBeta : 0.183347\n",
      "Threshold : 0.70\tFBeta : 0.117355\n",
      "Threshold : 0.75\tFBeta : 0.048247\n",
      "Threshold : 0.80\tFBeta : 0.013740\n",
      "\n"
     ]
    },
    {
     "name": "stderr",
     "output_type": "stream",
     "text": [
      "Epoch 4/100  Mem : 19.8GB  LR : 2.80E-05  Loss: 0.6509: 100%|██████████| 62/62 [01:13<00:00,  1.19s/it]                                                                                                                                                                        \n",
      "Val Loss: 0.6220: 100%|██████████| 24/24 [00:12<00:00,  1.97it/s]                                                                                                                                                                                                              \n"
     ]
    },
    {
     "name": "stdout",
     "output_type": "stream",
     "text": [
      "Threshold : 0.20\tFBeta : 0.190586\n",
      "Threshold : 0.25\tFBeta : 0.207280\n",
      "Threshold : 0.30\tFBeta : 0.218556\n",
      "Threshold : 0.35\tFBeta : 0.228345\n",
      "Threshold : 0.40\tFBeta : 0.239816\n",
      "Threshold : 0.45\tFBeta : 0.247544\n",
      "Threshold : 0.50\tFBeta : 0.253414\n",
      "Threshold : 0.55\tFBeta : 0.256987\n",
      "Threshold : 0.60\tFBeta : 0.260539\n",
      "Threshold : 0.65\tFBeta : 0.263268\n",
      "Threshold : 0.70\tFBeta : 0.262673\n",
      "Threshold : 0.75\tFBeta : 0.257073\n",
      "Threshold : 0.80\tFBeta : 0.240560\n",
      "\n"
     ]
    },
    {
     "name": "stderr",
     "output_type": "stream",
     "text": [
      "Epoch 5/100  Mem : 19.8GB  LR : 4.37E-05  Loss: 0.6246: 100%|██████████| 62/62 [01:14<00:00,  1.20s/it]                                                                                                                                                                        \n",
      "Val Loss: 0.5943: 100%|██████████| 24/24 [00:12<00:00,  1.98it/s]                                                                                                                                                                                                              \n"
     ]
    },
    {
     "name": "stdout",
     "output_type": "stream",
     "text": [
      "Threshold : 0.20\tFBeta : 0.208937\n",
      "Threshold : 0.25\tFBeta : 0.231440\n",
      "Threshold : 0.30\tFBeta : 0.250261\n",
      "Threshold : 0.35\tFBeta : 0.267981\n",
      "Threshold : 0.40\tFBeta : 0.288656\n",
      "Threshold : 0.45\tFBeta : 0.309308\n",
      "Threshold : 0.50\tFBeta : 0.331229\n",
      "Threshold : 0.55\tFBeta : 0.350824\n",
      "Threshold : 0.60\tFBeta : 0.365810\n",
      "Threshold : 0.65\tFBeta : 0.378328\n",
      "Threshold : 0.70\tFBeta : 0.390567\n",
      "Threshold : 0.75\tFBeta : 0.399440\n",
      "Threshold : 0.80\tFBeta : 0.400323\n",
      "\n"
     ]
    },
    {
     "name": "stderr",
     "output_type": "stream",
     "text": [
      "Epoch 6/100  Mem : 19.8GB  LR : 6.03E-05  Loss: 0.6014: 100%|██████████| 62/62 [01:14<00:00,  1.20s/it]                                                                                                                                                                        \n",
      "Val Loss: 0.5579: 100%|██████████| 24/24 [00:12<00:00,  1.98it/s]                                                                                                                                                                                                              \n"
     ]
    },
    {
     "name": "stdout",
     "output_type": "stream",
     "text": [
      "Threshold : 0.20\tFBeta : 0.206869\n",
      "Threshold : 0.25\tFBeta : 0.244826\n",
      "Threshold : 0.30\tFBeta : 0.295551\n",
      "Threshold : 0.35\tFBeta : 0.330228\n",
      "Threshold : 0.40\tFBeta : 0.348256\n",
      "Threshold : 0.45\tFBeta : 0.363052\n",
      "Threshold : 0.50\tFBeta : 0.376494\n",
      "Threshold : 0.55\tFBeta : 0.386966\n",
      "Threshold : 0.60\tFBeta : 0.394819\n",
      "Threshold : 0.65\tFBeta : 0.383602\n",
      "Threshold : 0.70\tFBeta : 0.357737\n",
      "Threshold : 0.75\tFBeta : 0.313789\n",
      "Threshold : 0.80\tFBeta : 0.257879\n",
      "\n"
     ]
    },
    {
     "name": "stderr",
     "output_type": "stream",
     "text": [
      "Epoch 7/100  Mem : 19.8GB  LR : 7.60E-05  Loss: 0.5871: 100%|██████████| 62/62 [01:14<00:00,  1.20s/it]                                                                                                                                                                        \n",
      "Val Loss: 0.6357: 100%|██████████| 24/24 [00:11<00:00,  2.01it/s]                                                                                                                                                                                                              \n"
     ]
    },
    {
     "name": "stdout",
     "output_type": "stream",
     "text": [
      "Threshold : 0.20\tFBeta : 0.176293\n",
      "Threshold : 0.25\tFBeta : 0.211095\n",
      "Threshold : 0.30\tFBeta : 0.245451\n",
      "Threshold : 0.35\tFBeta : 0.270700\n",
      "Threshold : 0.40\tFBeta : 0.291870\n",
      "Threshold : 0.45\tFBeta : 0.307374\n",
      "Threshold : 0.50\tFBeta : 0.318758\n",
      "Threshold : 0.55\tFBeta : 0.333204\n",
      "Threshold : 0.60\tFBeta : 0.346301\n",
      "Threshold : 0.65\tFBeta : 0.360116\n",
      "Threshold : 0.70\tFBeta : 0.374022\n",
      "Threshold : 0.75\tFBeta : 0.387153\n",
      "Threshold : 0.80\tFBeta : 0.400988\n",
      "\n"
     ]
    },
    {
     "name": "stderr",
     "output_type": "stream",
     "text": [
      "Epoch 8/100  Mem : 19.8GB  LR : 8.88E-05  Loss: 0.5678: 100%|██████████| 62/62 [01:14<00:00,  1.20s/it]                                                                                                                                                                        \n",
      "Val Loss: 0.5576: 100%|██████████| 24/24 [00:12<00:00,  1.99it/s]                                                                                                                                                                                                              \n"
     ]
    },
    {
     "name": "stdout",
     "output_type": "stream",
     "text": [
      "Threshold : 0.20\tFBeta : 0.224057\n",
      "Threshold : 0.25\tFBeta : 0.310545\n",
      "Threshold : 0.30\tFBeta : 0.305217\n",
      "Threshold : 0.35\tFBeta : 0.267980\n",
      "Threshold : 0.40\tFBeta : 0.233507\n",
      "Threshold : 0.45\tFBeta : 0.199594\n",
      "Threshold : 0.50\tFBeta : 0.156772\n",
      "Threshold : 0.55\tFBeta : 0.068783\n",
      "Threshold : 0.60\tFBeta : 0.031162\n",
      "Threshold : 0.65\tFBeta : 0.014135\n",
      "Threshold : 0.70\tFBeta : 0.004953\n",
      "Threshold : 0.75\tFBeta : 0.000377\n",
      "Threshold : 0.80\tFBeta : 0.000000\n",
      "\n"
     ]
    },
    {
     "name": "stderr",
     "output_type": "stream",
     "text": [
      "Epoch 9/100  Mem : 19.8GB  LR : 9.71E-05  Loss: 0.5467: 100%|██████████| 62/62 [01:13<00:00,  1.19s/it]                                                                                                                                                                        \n",
      "Val Loss: 0.5309: 100%|██████████| 24/24 [00:11<00:00,  2.01it/s]                                                                                                                                                                                                              \n"
     ]
    },
    {
     "name": "stdout",
     "output_type": "stream",
     "text": [
      "Threshold : 0.20\tFBeta : 0.365260\n",
      "Threshold : 0.25\tFBeta : 0.454278\n",
      "Threshold : 0.30\tFBeta : 0.454954\n",
      "Threshold : 0.35\tFBeta : 0.445993\n",
      "Threshold : 0.40\tFBeta : 0.436096\n",
      "Threshold : 0.45\tFBeta : 0.424510\n",
      "Threshold : 0.50\tFBeta : 0.403250\n",
      "Threshold : 0.55\tFBeta : 0.325811\n",
      "Threshold : 0.60\tFBeta : 0.272325\n",
      "Threshold : 0.65\tFBeta : 0.219730\n",
      "Threshold : 0.70\tFBeta : 0.161837\n",
      "Threshold : 0.75\tFBeta : 0.102903\n",
      "Threshold : 0.80\tFBeta : 0.051600\n",
      "\n"
     ]
    },
    {
     "name": "stderr",
     "output_type": "stream",
     "text": [
      "Epoch 10/100  Mem : 19.8GB  LR : 1.00E-04  Loss: 0.5334: 100%|██████████| 62/62 [01:13<00:00,  1.18s/it]                                                                                                                                                                       \n",
      "Val Loss: 0.5348: 100%|██████████| 24/24 [00:12<00:00,  1.99it/s]                                                                                                                                                                                                              \n"
     ]
    },
    {
     "name": "stdout",
     "output_type": "stream",
     "text": [
      "Threshold : 0.20\tFBeta : 0.281047\n",
      "Threshold : 0.25\tFBeta : 0.302261\n",
      "Threshold : 0.30\tFBeta : 0.314374\n",
      "Threshold : 0.35\tFBeta : 0.323760\n",
      "Threshold : 0.40\tFBeta : 0.331980\n",
      "Threshold : 0.45\tFBeta : 0.339632\n",
      "Threshold : 0.50\tFBeta : 0.348171\n",
      "Threshold : 0.55\tFBeta : 0.353525\n",
      "Threshold : 0.60\tFBeta : 0.348866\n",
      "Threshold : 0.65\tFBeta : 0.339158\n",
      "Threshold : 0.70\tFBeta : 0.324796\n",
      "Threshold : 0.75\tFBeta : 0.306647\n",
      "Threshold : 0.80\tFBeta : 0.281385\n",
      "\n"
     ]
    },
    {
     "name": "stderr",
     "output_type": "stream",
     "text": [
      "Epoch 11/100  Mem : 19.8GB  LR : 1.00E-04  Loss: 0.5091: 100%|██████████| 62/62 [01:13<00:00,  1.18s/it]                                                                                                                                                                       \n",
      "Val Loss: 0.6385: 100%|██████████| 24/24 [00:12<00:00,  1.99it/s]                                                                                                                                                                                                              \n"
     ]
    },
    {
     "name": "stdout",
     "output_type": "stream",
     "text": [
      "Threshold : 0.20\tFBeta : 0.251109\n",
      "Threshold : 0.25\tFBeta : 0.263031\n",
      "Threshold : 0.30\tFBeta : 0.271180\n",
      "Threshold : 0.35\tFBeta : 0.276816\n",
      "Threshold : 0.40\tFBeta : 0.281595\n",
      "Threshold : 0.45\tFBeta : 0.286394\n",
      "Threshold : 0.50\tFBeta : 0.294856\n",
      "Threshold : 0.55\tFBeta : 0.318791\n",
      "Threshold : 0.60\tFBeta : 0.328369\n",
      "Threshold : 0.65\tFBeta : 0.339844\n",
      "Threshold : 0.70\tFBeta : 0.352880\n",
      "Threshold : 0.75\tFBeta : 0.367200\n",
      "Threshold : 0.80\tFBeta : 0.382343\n",
      "\n"
     ]
    },
    {
     "name": "stderr",
     "output_type": "stream",
     "text": [
      "Epoch 12/100  Mem : 19.8GB  LR : 9.99E-05  Loss: 0.4912: 100%|██████████| 62/62 [01:14<00:00,  1.20s/it]                                                                                                                                                                       \n",
      "Val Loss: 0.5412: 100%|██████████| 24/24 [00:12<00:00,  1.98it/s]                                                                                                                                                                                                              \n"
     ]
    },
    {
     "name": "stdout",
     "output_type": "stream",
     "text": [
      "Threshold : 0.20\tFBeta : 0.304387\n",
      "Threshold : 0.25\tFBeta : 0.298818\n",
      "Threshold : 0.30\tFBeta : 0.294516\n",
      "Threshold : 0.35\tFBeta : 0.294500\n",
      "Threshold : 0.40\tFBeta : 0.294938\n",
      "Threshold : 0.45\tFBeta : 0.295377\n",
      "Threshold : 0.50\tFBeta : 0.291380\n",
      "Threshold : 0.55\tFBeta : 0.268048\n",
      "Threshold : 0.60\tFBeta : 0.258509\n",
      "Threshold : 0.65\tFBeta : 0.246556\n",
      "Threshold : 0.70\tFBeta : 0.214158\n",
      "Threshold : 0.75\tFBeta : 0.168743\n",
      "Threshold : 0.80\tFBeta : 0.123511\n",
      "\n"
     ]
    },
    {
     "name": "stderr",
     "output_type": "stream",
     "text": [
      "Epoch 13/100  Mem : 19.8GB  LR : 9.97E-05  Loss: 0.4872: 100%|██████████| 62/62 [01:14<00:00,  1.19s/it]                                                                                                                                                                       \n",
      "Val Loss: 0.4815: 100%|██████████| 24/24 [00:12<00:00,  1.99it/s]                                                                                                                                                                                                              \n"
     ]
    },
    {
     "name": "stdout",
     "output_type": "stream",
     "text": [
      "Threshold : 0.20\tFBeta : 0.351380\n",
      "Threshold : 0.25\tFBeta : 0.393856\n",
      "Threshold : 0.30\tFBeta : 0.421939\n",
      "Threshold : 0.35\tFBeta : 0.444674\n",
      "Threshold : 0.40\tFBeta : 0.455626\n",
      "Threshold : 0.45\tFBeta : 0.464125\n",
      "Threshold : 0.50\tFBeta : 0.475723\n",
      "Threshold : 0.55\tFBeta : 0.494532\n",
      "Threshold : 0.60\tFBeta : 0.495735\n",
      "Threshold : 0.65\tFBeta : 0.492832\n",
      "Threshold : 0.70\tFBeta : 0.484659\n",
      "Threshold : 0.75\tFBeta : 0.464371\n",
      "Threshold : 0.80\tFBeta : 0.428654\n",
      "\n"
     ]
    },
    {
     "name": "stderr",
     "output_type": "stream",
     "text": [
      "Epoch 14/100  Mem : 19.8GB  LR : 9.95E-05  Loss: 0.4799: 100%|██████████| 62/62 [01:13<00:00,  1.19s/it]                                                                                                                                                                       \n",
      "Val Loss: 0.4805: 100%|██████████| 24/24 [00:11<00:00,  2.01it/s]                                                                                                                                                                                                              \n"
     ]
    },
    {
     "name": "stdout",
     "output_type": "stream",
     "text": [
      "Threshold : 0.20\tFBeta : 0.455336\n",
      "Threshold : 0.25\tFBeta : 0.480038\n",
      "Threshold : 0.30\tFBeta : 0.490938\n",
      "Threshold : 0.35\tFBeta : 0.495023\n",
      "Threshold : 0.40\tFBeta : 0.497394\n",
      "Threshold : 0.45\tFBeta : 0.500092\n",
      "Threshold : 0.50\tFBeta : 0.504508\n",
      "Threshold : 0.55\tFBeta : 0.508116\n",
      "Threshold : 0.60\tFBeta : 0.496691\n",
      "Threshold : 0.65\tFBeta : 0.479551\n",
      "Threshold : 0.70\tFBeta : 0.455200\n",
      "Threshold : 0.75\tFBeta : 0.423428\n",
      "Threshold : 0.80\tFBeta : 0.382156\n",
      "\n"
     ]
    },
    {
     "name": "stderr",
     "output_type": "stream",
     "text": [
      "Epoch 15/100  Mem : 19.8GB  LR : 9.92E-05  Loss: 0.4630: 100%|██████████| 62/62 [01:13<00:00,  1.19s/it]                                                                                                                                                                       \n",
      "Val Loss: 0.5691: 100%|██████████| 24/24 [00:12<00:00,  1.99it/s]                                                                                                                                                                                                              \n"
     ]
    },
    {
     "name": "stdout",
     "output_type": "stream",
     "text": [
      "Threshold : 0.20\tFBeta : 0.261668\n",
      "Threshold : 0.25\tFBeta : 0.269401\n",
      "Threshold : 0.30\tFBeta : 0.274637\n",
      "Threshold : 0.35\tFBeta : 0.278667\n",
      "Threshold : 0.40\tFBeta : 0.282612\n",
      "Threshold : 0.45\tFBeta : 0.288450\n",
      "Threshold : 0.50\tFBeta : 0.299686\n",
      "Threshold : 0.55\tFBeta : 0.333368\n",
      "Threshold : 0.60\tFBeta : 0.346291\n",
      "Threshold : 0.65\tFBeta : 0.358286\n",
      "Threshold : 0.70\tFBeta : 0.371523\n",
      "Threshold : 0.75\tFBeta : 0.385928\n",
      "Threshold : 0.80\tFBeta : 0.402298\n",
      "\n"
     ]
    },
    {
     "name": "stderr",
     "output_type": "stream",
     "text": [
      "Epoch 16/100  Mem : 19.8GB  LR : 9.89E-05  Loss: 0.4489: 100%|██████████| 62/62 [01:13<00:00,  1.19s/it]                                                                                                                                                                       \n",
      "Val Loss: 0.4520: 100%|██████████| 24/24 [00:12<00:00,  1.99it/s]                                                                                                                                                                                                              \n"
     ]
    },
    {
     "name": "stdout",
     "output_type": "stream",
     "text": [
      "Threshold : 0.20\tFBeta : 0.416615\n",
      "Threshold : 0.25\tFBeta : 0.438348\n",
      "Threshold : 0.30\tFBeta : 0.451719\n",
      "Threshold : 0.35\tFBeta : 0.460769\n",
      "Threshold : 0.40\tFBeta : 0.468799\n",
      "Threshold : 0.45\tFBeta : 0.476577\n",
      "Threshold : 0.50\tFBeta : 0.485415\n",
      "Threshold : 0.55\tFBeta : 0.495560\n",
      "Threshold : 0.60\tFBeta : 0.502051\n",
      "Threshold : 0.65\tFBeta : 0.505941\n",
      "Threshold : 0.70\tFBeta : 0.506773\n",
      "Threshold : 0.75\tFBeta : 0.500559\n",
      "Threshold : 0.80\tFBeta : 0.483843\n",
      "\n"
     ]
    },
    {
     "name": "stderr",
     "output_type": "stream",
     "text": [
      "Epoch 17/100  Mem : 19.8GB  LR : 9.85E-05  Loss: 0.4480: 100%|██████████| 62/62 [01:14<00:00,  1.20s/it]                                                                                                                                                                       \n",
      "Val Loss: 0.4860: 100%|██████████| 24/24 [00:11<00:00,  2.00it/s]                                                                                                                                                                                                              \n"
     ]
    },
    {
     "name": "stdout",
     "output_type": "stream",
     "text": [
      "Threshold : 0.20\tFBeta : 0.337779\n",
      "Threshold : 0.25\tFBeta : 0.349586\n",
      "Threshold : 0.30\tFBeta : 0.357640\n",
      "Threshold : 0.35\tFBeta : 0.364868\n",
      "Threshold : 0.40\tFBeta : 0.371840\n",
      "Threshold : 0.45\tFBeta : 0.381611\n",
      "Threshold : 0.50\tFBeta : 0.396984\n",
      "Threshold : 0.55\tFBeta : 0.416690\n",
      "Threshold : 0.60\tFBeta : 0.426747\n",
      "Threshold : 0.65\tFBeta : 0.436628\n",
      "Threshold : 0.70\tFBeta : 0.446583\n",
      "Threshold : 0.75\tFBeta : 0.457017\n",
      "Threshold : 0.80\tFBeta : 0.467265\n",
      "\n"
     ]
    },
    {
     "name": "stderr",
     "output_type": "stream",
     "text": [
      "Epoch 18/100  Mem : 19.8GB  LR : 9.81E-05  Loss: 0.4480: 100%|██████████| 62/62 [01:14<00:00,  1.20s/it]                                                                                                                                                                       \n",
      "Val Loss: 0.4493: 100%|██████████| 24/24 [00:12<00:00,  1.99it/s]                                                                                                                                                                                                              \n"
     ]
    },
    {
     "name": "stdout",
     "output_type": "stream",
     "text": [
      "Threshold : 0.20\tFBeta : 0.375082\n",
      "Threshold : 0.25\tFBeta : 0.387285\n",
      "Threshold : 0.30\tFBeta : 0.395957\n",
      "Threshold : 0.35\tFBeta : 0.402922\n",
      "Threshold : 0.40\tFBeta : 0.409702\n",
      "Threshold : 0.45\tFBeta : 0.417765\n",
      "Threshold : 0.50\tFBeta : 0.429198\n",
      "Threshold : 0.55\tFBeta : 0.469515\n",
      "Threshold : 0.60\tFBeta : 0.480312\n",
      "Threshold : 0.65\tFBeta : 0.487896\n",
      "Threshold : 0.70\tFBeta : 0.495308\n",
      "Threshold : 0.75\tFBeta : 0.500981\n",
      "Threshold : 0.80\tFBeta : 0.497754\n",
      "\n"
     ]
    },
    {
     "name": "stderr",
     "output_type": "stream",
     "text": [
      "Epoch 19/100  Mem : 19.8GB  LR : 9.76E-05  Loss: 0.4261: 100%|██████████| 62/62 [01:13<00:00,  1.19s/it]                                                                                                                                                                       \n",
      "Val Loss: 0.4507: 100%|██████████| 24/24 [00:11<00:00,  2.04it/s]                                                                                                                                                                                                              \n"
     ]
    },
    {
     "name": "stdout",
     "output_type": "stream",
     "text": [
      "Threshold : 0.20\tFBeta : 0.366902\n",
      "Threshold : 0.25\tFBeta : 0.382431\n",
      "Threshold : 0.30\tFBeta : 0.393537\n",
      "Threshold : 0.35\tFBeta : 0.402992\n",
      "Threshold : 0.40\tFBeta : 0.412113\n",
      "Threshold : 0.45\tFBeta : 0.423078\n",
      "Threshold : 0.50\tFBeta : 0.435403\n",
      "Threshold : 0.55\tFBeta : 0.448866\n",
      "Threshold : 0.60\tFBeta : 0.462306\n",
      "Threshold : 0.65\tFBeta : 0.477006\n",
      "Threshold : 0.70\tFBeta : 0.491653\n",
      "Threshold : 0.75\tFBeta : 0.507892\n",
      "Threshold : 0.80\tFBeta : 0.520507\n",
      "\n"
     ]
    },
    {
     "name": "stderr",
     "output_type": "stream",
     "text": [
      "Epoch 20/100  Mem : 19.8GB  LR : 9.70E-05  Loss: 0.4321: 100%|██████████| 62/62 [01:13<00:00,  1.18s/it]                                                                                                                                                                       \n",
      "Val Loss: 0.4701: 100%|██████████| 24/24 [00:12<00:00,  1.99it/s]                                                                                                                                                                                                              \n"
     ]
    },
    {
     "name": "stdout",
     "output_type": "stream",
     "text": [
      "Threshold : 0.20\tFBeta : 0.367801\n",
      "Threshold : 0.25\tFBeta : 0.379825\n",
      "Threshold : 0.30\tFBeta : 0.387858\n",
      "Threshold : 0.35\tFBeta : 0.394134\n",
      "Threshold : 0.40\tFBeta : 0.400034\n",
      "Threshold : 0.45\tFBeta : 0.405605\n",
      "Threshold : 0.50\tFBeta : 0.411124\n",
      "Threshold : 0.55\tFBeta : 0.416532\n",
      "Threshold : 0.60\tFBeta : 0.422786\n",
      "Threshold : 0.65\tFBeta : 0.429495\n",
      "Threshold : 0.70\tFBeta : 0.436222\n",
      "Threshold : 0.75\tFBeta : 0.443467\n",
      "Threshold : 0.80\tFBeta : 0.449416\n",
      "\n"
     ]
    },
    {
     "name": "stderr",
     "output_type": "stream",
     "text": [
      "Epoch 21/100  Mem : 19.8GB  LR : 9.64E-05  Loss: 0.4219: 100%|██████████| 62/62 [01:13<00:00,  1.18s/it]                                                                                                                                                                       \n",
      "Val Loss: 0.4744: 100%|██████████| 24/24 [00:11<00:00,  2.02it/s]                                                                                                                                                                                                              \n"
     ]
    },
    {
     "name": "stdout",
     "output_type": "stream",
     "text": [
      "Threshold : 0.20\tFBeta : 0.408805\n",
      "Threshold : 0.25\tFBeta : 0.416630\n",
      "Threshold : 0.30\tFBeta : 0.421229\n",
      "Threshold : 0.35\tFBeta : 0.422806\n",
      "Threshold : 0.40\tFBeta : 0.422773\n",
      "Threshold : 0.45\tFBeta : 0.422660\n",
      "Threshold : 0.50\tFBeta : 0.421586\n",
      "Threshold : 0.55\tFBeta : 0.418625\n",
      "Threshold : 0.60\tFBeta : 0.415036\n",
      "Threshold : 0.65\tFBeta : 0.410713\n",
      "Threshold : 0.70\tFBeta : 0.399448\n",
      "Threshold : 0.75\tFBeta : 0.383828\n",
      "Threshold : 0.80\tFBeta : 0.359303\n",
      "\n"
     ]
    },
    {
     "name": "stderr",
     "output_type": "stream",
     "text": [
      "Epoch 22/100  Mem : 19.8GB  LR : 9.57E-05  Loss: 0.4169: 100%|██████████| 62/62 [01:14<00:00,  1.20s/it]                                                                                                                                                                       \n",
      "Val Loss: 0.4915: 100%|██████████| 24/24 [00:12<00:00,  2.00it/s]                                                                                                                                                                                                              \n"
     ]
    },
    {
     "name": "stdout",
     "output_type": "stream",
     "text": [
      "Threshold : 0.20\tFBeta : 0.523737\n",
      "Threshold : 0.25\tFBeta : 0.518504\n",
      "Threshold : 0.30\tFBeta : 0.513948\n",
      "Threshold : 0.35\tFBeta : 0.508650\n",
      "Threshold : 0.40\tFBeta : 0.500699\n",
      "Threshold : 0.45\tFBeta : 0.489294\n",
      "Threshold : 0.50\tFBeta : 0.476322\n",
      "Threshold : 0.55\tFBeta : 0.456600\n",
      "Threshold : 0.60\tFBeta : 0.433131\n",
      "Threshold : 0.65\tFBeta : 0.406677\n",
      "Threshold : 0.70\tFBeta : 0.375716\n",
      "Threshold : 0.75\tFBeta : 0.339098\n",
      "Threshold : 0.80\tFBeta : 0.293555\n",
      "\n"
     ]
    },
    {
     "name": "stderr",
     "output_type": "stream",
     "text": [
      "Epoch 23/100  Mem : 19.8GB  LR : 9.49E-05  Loss: 0.4023: 100%|██████████| 62/62 [01:13<00:00,  1.19s/it]                                                                                                                                                                       \n",
      "Val Loss: 0.7533: 100%|██████████| 24/24 [00:12<00:00,  1.97it/s]                                                                                                                                                                                                              \n"
     ]
    },
    {
     "name": "stdout",
     "output_type": "stream",
     "text": [
      "Threshold : 0.20\tFBeta : 0.258831\n",
      "Threshold : 0.25\tFBeta : 0.262205\n",
      "Threshold : 0.30\tFBeta : 0.264862\n",
      "Threshold : 0.35\tFBeta : 0.267045\n",
      "Threshold : 0.40\tFBeta : 0.269292\n",
      "Threshold : 0.45\tFBeta : 0.271976\n",
      "Threshold : 0.50\tFBeta : 0.275799\n",
      "Threshold : 0.55\tFBeta : 0.281786\n",
      "Threshold : 0.60\tFBeta : 0.287956\n",
      "Threshold : 0.65\tFBeta : 0.294252\n",
      "Threshold : 0.70\tFBeta : 0.301422\n",
      "Threshold : 0.75\tFBeta : 0.310540\n",
      "Threshold : 0.80\tFBeta : 0.321963\n",
      "\n"
     ]
    },
    {
     "name": "stderr",
     "output_type": "stream",
     "text": [
      "Epoch 24/100  Mem : 19.8GB  LR : 9.41E-05  Loss: 0.3961: 100%|██████████| 62/62 [01:14<00:00,  1.20s/it]                                                                                                                                                                       \n",
      "Val Loss: 0.5882: 100%|██████████| 24/24 [00:11<00:00,  2.02it/s]                                                                                                                                                                                                              \n"
     ]
    },
    {
     "name": "stdout",
     "output_type": "stream",
     "text": [
      "Threshold : 0.20\tFBeta : 0.319437\n",
      "Threshold : 0.25\tFBeta : 0.289474\n",
      "Threshold : 0.30\tFBeta : 0.263572\n",
      "Threshold : 0.35\tFBeta : 0.240453\n",
      "Threshold : 0.40\tFBeta : 0.220115\n",
      "Threshold : 0.45\tFBeta : 0.200869\n",
      "Threshold : 0.50\tFBeta : 0.179575\n",
      "Threshold : 0.55\tFBeta : 0.156007\n",
      "Threshold : 0.60\tFBeta : 0.139206\n",
      "Threshold : 0.65\tFBeta : 0.123342\n",
      "Threshold : 0.70\tFBeta : 0.106881\n",
      "Threshold : 0.75\tFBeta : 0.087802\n",
      "Threshold : 0.80\tFBeta : 0.068028\n",
      "\n"
     ]
    },
    {
     "name": "stderr",
     "output_type": "stream",
     "text": [
      "Epoch 25/100  Mem : 19.8GB  LR : 9.33E-05  Loss: 0.4037: 100%|██████████| 62/62 [01:13<00:00,  1.19s/it]                                                                                                                                                                       \n",
      "Val Loss: 0.5038: 100%|██████████| 24/24 [00:12<00:00,  1.99it/s]                                                                                                                                                                                                              \n"
     ]
    },
    {
     "name": "stdout",
     "output_type": "stream",
     "text": [
      "Threshold : 0.20\tFBeta : 0.344753\n",
      "Threshold : 0.25\tFBeta : 0.353365\n",
      "Threshold : 0.30\tFBeta : 0.359533\n",
      "Threshold : 0.35\tFBeta : 0.364956\n",
      "Threshold : 0.40\tFBeta : 0.370332\n",
      "Threshold : 0.45\tFBeta : 0.376039\n",
      "Threshold : 0.50\tFBeta : 0.381633\n",
      "Threshold : 0.55\tFBeta : 0.389190\n",
      "Threshold : 0.60\tFBeta : 0.395842\n",
      "Threshold : 0.65\tFBeta : 0.401259\n",
      "Threshold : 0.70\tFBeta : 0.406348\n",
      "Threshold : 0.75\tFBeta : 0.411906\n",
      "Threshold : 0.80\tFBeta : 0.418808\n",
      "\n"
     ]
    },
    {
     "name": "stderr",
     "output_type": "stream",
     "text": [
      "Epoch 26/100  Mem : 19.8GB  LR : 9.24E-05  Loss: 0.3922: 100%|██████████| 62/62 [01:13<00:00,  1.18s/it]                                                                                                                                                                       \n",
      "Val Loss: 0.4522: 100%|██████████| 24/24 [00:11<00:00,  2.04it/s]                                                                                                                                                                                                              \n"
     ]
    },
    {
     "name": "stdout",
     "output_type": "stream",
     "text": [
      "Threshold : 0.20\tFBeta : 0.368776\n",
      "Threshold : 0.25\tFBeta : 0.378465\n",
      "Threshold : 0.30\tFBeta : 0.386528\n",
      "Threshold : 0.35\tFBeta : 0.392259\n",
      "Threshold : 0.40\tFBeta : 0.398794\n",
      "Threshold : 0.45\tFBeta : 0.405906\n",
      "Threshold : 0.50\tFBeta : 0.413011\n",
      "Threshold : 0.55\tFBeta : 0.422342\n",
      "Threshold : 0.60\tFBeta : 0.427423\n",
      "Threshold : 0.65\tFBeta : 0.431197\n",
      "Threshold : 0.70\tFBeta : 0.434067\n",
      "Threshold : 0.75\tFBeta : 0.434092\n",
      "Threshold : 0.80\tFBeta : 0.431640\n",
      "\n"
     ]
    },
    {
     "name": "stderr",
     "output_type": "stream",
     "text": [
      "Epoch 27/100  Mem : 19.8GB  LR : 9.15E-05  Loss: 0.3937: 100%|██████████| 62/62 [01:14<00:00,  1.20s/it]                                                                                                                                                                       \n",
      "Val Loss: 0.4299: 100%|██████████| 24/24 [00:11<00:00,  2.00it/s]                                                                                                                                                                                                              \n"
     ]
    },
    {
     "name": "stdout",
     "output_type": "stream",
     "text": [
      "Threshold : 0.20\tFBeta : 0.434604\n",
      "Threshold : 0.25\tFBeta : 0.445169\n",
      "Threshold : 0.30\tFBeta : 0.452270\n",
      "Threshold : 0.35\tFBeta : 0.459151\n",
      "Threshold : 0.40\tFBeta : 0.466680\n",
      "Threshold : 0.45\tFBeta : 0.473078\n",
      "Threshold : 0.50\tFBeta : 0.478527\n",
      "Threshold : 0.55\tFBeta : 0.482622\n",
      "Threshold : 0.60\tFBeta : 0.484732\n",
      "Threshold : 0.65\tFBeta : 0.486036\n",
      "Threshold : 0.70\tFBeta : 0.487938\n",
      "Threshold : 0.75\tFBeta : 0.489784\n",
      "Threshold : 0.80\tFBeta : 0.489027\n",
      "\n"
     ]
    },
    {
     "name": "stderr",
     "output_type": "stream",
     "text": [
      "Epoch 28/100  Mem : 19.8GB  LR : 9.05E-05  Loss: 0.3915: 100%|██████████| 62/62 [01:14<00:00,  1.20s/it]                                                                                                                                                                       \n",
      "Val Loss: 0.4922: 100%|██████████| 24/24 [00:11<00:00,  2.03it/s]                                                                                                                                                                                                              \n"
     ]
    },
    {
     "name": "stdout",
     "output_type": "stream",
     "text": [
      "Threshold : 0.20\tFBeta : 0.511106\n",
      "Threshold : 0.25\tFBeta : 0.503805\n",
      "Threshold : 0.30\tFBeta : 0.495081\n",
      "Threshold : 0.35\tFBeta : 0.485401\n",
      "Threshold : 0.40\tFBeta : 0.475116\n",
      "Threshold : 0.45\tFBeta : 0.465174\n",
      "Threshold : 0.50\tFBeta : 0.454715\n",
      "Threshold : 0.55\tFBeta : 0.442502\n",
      "Threshold : 0.60\tFBeta : 0.426133\n",
      "Threshold : 0.65\tFBeta : 0.402934\n",
      "Threshold : 0.70\tFBeta : 0.374212\n",
      "Threshold : 0.75\tFBeta : 0.339164\n",
      "Threshold : 0.80\tFBeta : 0.294797\n",
      "\n"
     ]
    },
    {
     "name": "stderr",
     "output_type": "stream",
     "text": [
      "Epoch 29/100  Mem : 19.8GB  LR : 8.94E-05  Loss: 0.3678: 100%|██████████| 62/62 [01:14<00:00,  1.19s/it]                                                                                                                                                                       \n",
      "Val Loss: 0.4651: 100%|██████████| 24/24 [00:11<00:00,  2.03it/s]                                                                                                                                                                                                              \n"
     ]
    },
    {
     "name": "stdout",
     "output_type": "stream",
     "text": [
      "Threshold : 0.20\tFBeta : 0.492466\n",
      "Threshold : 0.25\tFBeta : 0.495774\n",
      "Threshold : 0.30\tFBeta : 0.495864\n",
      "Threshold : 0.35\tFBeta : 0.493274\n",
      "Threshold : 0.40\tFBeta : 0.491060\n",
      "Threshold : 0.45\tFBeta : 0.488091\n",
      "Threshold : 0.50\tFBeta : 0.484498\n",
      "Threshold : 0.55\tFBeta : 0.480936\n",
      "Threshold : 0.60\tFBeta : 0.474173\n",
      "Threshold : 0.65\tFBeta : 0.464135\n",
      "Threshold : 0.70\tFBeta : 0.449510\n",
      "Threshold : 0.75\tFBeta : 0.429433\n",
      "Threshold : 0.80\tFBeta : 0.400537\n",
      "\n"
     ]
    },
    {
     "name": "stderr",
     "output_type": "stream",
     "text": [
      "Epoch 30/100  Mem : 19.8GB  LR : 8.83E-05  Loss: 0.3732: 100%|██████████| 62/62 [01:13<00:00,  1.19s/it]                                                                                                                                                                       \n",
      "Val Loss: 0.4313: 100%|██████████| 24/24 [00:11<00:00,  2.02it/s]                                                                                                                                                                                                              \n"
     ]
    },
    {
     "name": "stdout",
     "output_type": "stream",
     "text": [
      "Threshold : 0.20\tFBeta : 0.456336\n",
      "Threshold : 0.25\tFBeta : 0.465374\n",
      "Threshold : 0.30\tFBeta : 0.472385\n",
      "Threshold : 0.35\tFBeta : 0.477845\n",
      "Threshold : 0.40\tFBeta : 0.482923\n",
      "Threshold : 0.45\tFBeta : 0.488075\n",
      "Threshold : 0.50\tFBeta : 0.492259\n",
      "Threshold : 0.55\tFBeta : 0.494902\n",
      "Threshold : 0.60\tFBeta : 0.495629\n",
      "Threshold : 0.65\tFBeta : 0.494709\n",
      "Threshold : 0.70\tFBeta : 0.492211\n",
      "Threshold : 0.75\tFBeta : 0.488249\n",
      "Threshold : 0.80\tFBeta : 0.482662\n",
      "\n"
     ]
    },
    {
     "name": "stderr",
     "output_type": "stream",
     "text": [
      "Epoch 31/100  Mem : 19.8GB  LR : 8.72E-05  Loss: 0.3629: 100%|██████████| 62/62 [01:13<00:00,  1.19s/it]                                                                                                                                                                       \n",
      "Val Loss: 0.5304: 100%|██████████| 24/24 [00:11<00:00,  2.03it/s]                                                                                                                                                                                                              \n"
     ]
    },
    {
     "name": "stdout",
     "output_type": "stream",
     "text": [
      "Threshold : 0.20\tFBeta : 0.484808\n",
      "Threshold : 0.25\tFBeta : 0.488250\n",
      "Threshold : 0.30\tFBeta : 0.477902\n",
      "Threshold : 0.35\tFBeta : 0.466946\n",
      "Threshold : 0.40\tFBeta : 0.455580\n",
      "Threshold : 0.45\tFBeta : 0.443931\n",
      "Threshold : 0.50\tFBeta : 0.430604\n",
      "Threshold : 0.55\tFBeta : 0.415793\n",
      "Threshold : 0.60\tFBeta : 0.398081\n",
      "Threshold : 0.65\tFBeta : 0.377377\n",
      "Threshold : 0.70\tFBeta : 0.351930\n",
      "Threshold : 0.75\tFBeta : 0.320457\n",
      "Threshold : 0.80\tFBeta : 0.284190\n",
      "\n"
     ]
    },
    {
     "name": "stderr",
     "output_type": "stream",
     "text": [
      "Epoch 32/100  Mem : 19.8GB  LR : 8.60E-05  Loss: 0.3613: 100%|██████████| 62/62 [01:13<00:00,  1.18s/it]                                                                                                                                                                       \n",
      "Val Loss: 0.4561: 100%|██████████| 24/24 [00:11<00:00,  2.02it/s]                                                                                                                                                                                                              \n"
     ]
    },
    {
     "name": "stdout",
     "output_type": "stream",
     "text": [
      "Threshold : 0.20\tFBeta : 0.498661\n",
      "Threshold : 0.25\tFBeta : 0.503691\n",
      "Threshold : 0.30\tFBeta : 0.505503\n",
      "Threshold : 0.35\tFBeta : 0.505802\n",
      "Threshold : 0.40\tFBeta : 0.504916\n",
      "Threshold : 0.45\tFBeta : 0.503412\n",
      "Threshold : 0.50\tFBeta : 0.500997\n",
      "Threshold : 0.55\tFBeta : 0.497949\n",
      "Threshold : 0.60\tFBeta : 0.493422\n",
      "Threshold : 0.65\tFBeta : 0.486757\n",
      "Threshold : 0.70\tFBeta : 0.476807\n",
      "Threshold : 0.75\tFBeta : 0.461054\n",
      "Threshold : 0.80\tFBeta : 0.436170\n",
      "\n"
     ]
    },
    {
     "name": "stderr",
     "output_type": "stream",
     "text": [
      "Epoch 33/100  Mem : 19.8GB  LR : 8.47E-05  Loss: 0.3659: 100%|██████████| 62/62 [01:14<00:00,  1.20s/it]                                                                                                                                                                       \n",
      "Val Loss: 0.9002: 100%|██████████| 24/24 [00:12<00:00,  1.98it/s]                                                                                                                                                                                                              \n"
     ]
    },
    {
     "name": "stdout",
     "output_type": "stream",
     "text": [
      "Threshold : 0.20\tFBeta : 0.246020\n",
      "Threshold : 0.25\tFBeta : 0.248314\n",
      "Threshold : 0.30\tFBeta : 0.250401\n",
      "Threshold : 0.35\tFBeta : 0.252619\n",
      "Threshold : 0.40\tFBeta : 0.254517\n",
      "Threshold : 0.45\tFBeta : 0.256582\n",
      "Threshold : 0.50\tFBeta : 0.259111\n",
      "Threshold : 0.55\tFBeta : 0.262376\n",
      "Threshold : 0.60\tFBeta : 0.265966\n",
      "Threshold : 0.65\tFBeta : 0.269988\n",
      "Threshold : 0.70\tFBeta : 0.274761\n",
      "Threshold : 0.75\tFBeta : 0.280831\n",
      "Threshold : 0.80\tFBeta : 0.288715\n",
      "\n"
     ]
    },
    {
     "name": "stderr",
     "output_type": "stream",
     "text": [
      "Epoch 34/100  Mem : 19.8GB  LR : 8.35E-05  Loss: 0.3596: 100%|██████████| 62/62 [01:13<00:00,  1.19s/it]                                                                                                                                                                       \n",
      "Val Loss: 0.5930: 100%|██████████| 24/24 [00:11<00:00,  2.02it/s]                                                                                                                                                                                                              \n"
     ]
    },
    {
     "name": "stdout",
     "output_type": "stream",
     "text": [
      "Threshold : 0.20\tFBeta : 0.300653\n",
      "Threshold : 0.25\tFBeta : 0.307843\n",
      "Threshold : 0.30\tFBeta : 0.313525\n",
      "Threshold : 0.35\tFBeta : 0.318550\n",
      "Threshold : 0.40\tFBeta : 0.323640\n",
      "Threshold : 0.45\tFBeta : 0.328716\n",
      "Threshold : 0.50\tFBeta : 0.333842\n",
      "Threshold : 0.55\tFBeta : 0.338939\n",
      "Threshold : 0.60\tFBeta : 0.344814\n",
      "Threshold : 0.65\tFBeta : 0.351322\n",
      "Threshold : 0.70\tFBeta : 0.358623\n",
      "Threshold : 0.75\tFBeta : 0.367425\n",
      "Threshold : 0.80\tFBeta : 0.377951\n",
      "\n"
     ]
    },
    {
     "name": "stderr",
     "output_type": "stream",
     "text": [
      "Epoch 35/100  Mem : 19.8GB  LR : 8.21E-05  Loss: 0.3578: 100%|██████████| 62/62 [01:14<00:00,  1.19s/it]                                                                                                                                                                       \n",
      "Val Loss: 0.4702: 100%|██████████| 24/24 [00:12<00:00,  1.97it/s]                                                                                                                                                                                                              \n"
     ]
    },
    {
     "name": "stdout",
     "output_type": "stream",
     "text": [
      "Threshold : 0.20\tFBeta : 0.530518\n",
      "Threshold : 0.25\tFBeta : 0.530656\n",
      "Threshold : 0.30\tFBeta : 0.530214\n",
      "Threshold : 0.35\tFBeta : 0.528808\n",
      "Threshold : 0.40\tFBeta : 0.526147\n",
      "Threshold : 0.45\tFBeta : 0.520866\n",
      "Threshold : 0.50\tFBeta : 0.514410\n",
      "Threshold : 0.55\tFBeta : 0.505495\n",
      "Threshold : 0.60\tFBeta : 0.493655\n",
      "Threshold : 0.65\tFBeta : 0.476729\n",
      "Threshold : 0.70\tFBeta : 0.453130\n",
      "Threshold : 0.75\tFBeta : 0.421464\n",
      "Threshold : 0.80\tFBeta : 0.380955\n",
      "\n"
     ]
    },
    {
     "name": "stderr",
     "output_type": "stream",
     "text": [
      "Epoch 36/100  Mem : 19.8GB  LR : 8.08E-05  Loss: 0.3463: 100%|██████████| 62/62 [01:13<00:00,  1.19s/it]                                                                                                                                                                       \n",
      "Val Loss: 0.5878: 100%|██████████| 24/24 [00:12<00:00,  1.98it/s]                                                                                                                                                                                                              \n"
     ]
    },
    {
     "name": "stdout",
     "output_type": "stream",
     "text": [
      "Threshold : 0.20\tFBeta : 0.312218\n",
      "Threshold : 0.25\tFBeta : 0.319209\n",
      "Threshold : 0.30\tFBeta : 0.325420\n",
      "Threshold : 0.35\tFBeta : 0.331295\n",
      "Threshold : 0.40\tFBeta : 0.337340\n",
      "Threshold : 0.45\tFBeta : 0.343321\n",
      "Threshold : 0.50\tFBeta : 0.349403\n",
      "Threshold : 0.55\tFBeta : 0.354780\n",
      "Threshold : 0.60\tFBeta : 0.360187\n",
      "Threshold : 0.65\tFBeta : 0.366539\n",
      "Threshold : 0.70\tFBeta : 0.374041\n",
      "Threshold : 0.75\tFBeta : 0.382520\n",
      "Threshold : 0.80\tFBeta : 0.392748\n",
      "\n"
     ]
    },
    {
     "name": "stderr",
     "output_type": "stream",
     "text": [
      "Epoch 37/100  Mem : 19.8GB  LR : 7.94E-05  Loss: 0.3628: 100%|██████████| 62/62 [01:14<00:00,  1.20s/it]                                                                                                                                                                       \n",
      "Val Loss: 0.4232: 100%|██████████| 24/24 [00:11<00:00,  2.00it/s]                                                                                                                                                                                                              \n"
     ]
    },
    {
     "name": "stdout",
     "output_type": "stream",
     "text": [
      "Threshold : 0.20\tFBeta : 0.432075\n",
      "Threshold : 0.25\tFBeta : 0.443746\n",
      "Threshold : 0.30\tFBeta : 0.452547\n",
      "Threshold : 0.35\tFBeta : 0.460409\n",
      "Threshold : 0.40\tFBeta : 0.467978\n",
      "Threshold : 0.45\tFBeta : 0.474971\n",
      "Threshold : 0.50\tFBeta : 0.481626\n",
      "Threshold : 0.55\tFBeta : 0.488266\n",
      "Threshold : 0.60\tFBeta : 0.495690\n",
      "Threshold : 0.65\tFBeta : 0.503289\n",
      "Threshold : 0.70\tFBeta : 0.509930\n",
      "Threshold : 0.75\tFBeta : 0.513881\n",
      "Threshold : 0.80\tFBeta : 0.514278\n",
      "\n"
     ]
    },
    {
     "name": "stderr",
     "output_type": "stream",
     "text": [
      "Epoch 38/100  Mem : 19.8GB  LR : 7.80E-05  Loss: 0.3511: 100%|██████████| 62/62 [01:13<00:00,  1.18s/it]                                                                                                                                                                       \n",
      "Val Loss: 0.4042: 100%|██████████| 24/24 [00:11<00:00,  2.03it/s]                                                                                                                                                                                                              \n"
     ]
    },
    {
     "name": "stdout",
     "output_type": "stream",
     "text": [
      "Threshold : 0.20\tFBeta : 0.501963\n",
      "Threshold : 0.25\tFBeta : 0.513564\n",
      "Threshold : 0.30\tFBeta : 0.522510\n",
      "Threshold : 0.35\tFBeta : 0.529055\n",
      "Threshold : 0.40\tFBeta : 0.534721\n",
      "Threshold : 0.45\tFBeta : 0.539409\n",
      "Threshold : 0.50\tFBeta : 0.543167\n",
      "Threshold : 0.55\tFBeta : 0.546550\n",
      "Threshold : 0.60\tFBeta : 0.549369\n",
      "Threshold : 0.65\tFBeta : 0.552179\n",
      "Threshold : 0.70\tFBeta : 0.554398\n",
      "Threshold : 0.75\tFBeta : 0.554460\n",
      "Threshold : 0.80\tFBeta : 0.550944\n",
      "\n"
     ]
    },
    {
     "name": "stderr",
     "output_type": "stream",
     "text": [
      "Epoch 39/100  Mem : 19.8GB  LR : 7.65E-05  Loss: 0.3398: 100%|██████████| 62/62 [01:14<00:00,  1.20s/it]                                                                                                                                                                       \n",
      "Val Loss: 0.5137: 100%|██████████| 24/24 [00:11<00:00,  2.02it/s]                                                                                                                                                                                                              \n"
     ]
    },
    {
     "name": "stdout",
     "output_type": "stream",
     "text": [
      "Threshold : 0.20\tFBeta : 0.520431\n",
      "Threshold : 0.25\tFBeta : 0.516107\n",
      "Threshold : 0.30\tFBeta : 0.510310\n",
      "Threshold : 0.35\tFBeta : 0.504194\n",
      "Threshold : 0.40\tFBeta : 0.498678\n",
      "Threshold : 0.45\tFBeta : 0.493507\n",
      "Threshold : 0.50\tFBeta : 0.487862\n",
      "Threshold : 0.55\tFBeta : 0.480947\n",
      "Threshold : 0.60\tFBeta : 0.471978\n",
      "Threshold : 0.65\tFBeta : 0.460217\n",
      "Threshold : 0.70\tFBeta : 0.441701\n",
      "Threshold : 0.75\tFBeta : 0.415556\n",
      "Threshold : 0.80\tFBeta : 0.382509\n",
      "\n"
     ]
    },
    {
     "name": "stderr",
     "output_type": "stream",
     "text": [
      "Epoch 40/100  Mem : 19.8GB  LR : 7.50E-05  Loss: 0.3536: 100%|██████████| 62/62 [01:15<00:00,  1.21s/it]                                                                                                                                                                       \n",
      "Val Loss: 0.6064: 100%|██████████| 24/24 [00:11<00:00,  2.03it/s]                                                                                                                                                                                                              \n"
     ]
    },
    {
     "name": "stdout",
     "output_type": "stream",
     "text": [
      "Threshold : 0.20\tFBeta : 0.350786\n",
      "Threshold : 0.25\tFBeta : 0.329138\n",
      "Threshold : 0.30\tFBeta : 0.309385\n",
      "Threshold : 0.35\tFBeta : 0.293033\n",
      "Threshold : 0.40\tFBeta : 0.279220\n",
      "Threshold : 0.45\tFBeta : 0.265570\n",
      "Threshold : 0.50\tFBeta : 0.252830\n",
      "Threshold : 0.55\tFBeta : 0.239796\n",
      "Threshold : 0.60\tFBeta : 0.227207\n",
      "Threshold : 0.65\tFBeta : 0.211944\n",
      "Threshold : 0.70\tFBeta : 0.195579\n",
      "Threshold : 0.75\tFBeta : 0.176680\n",
      "Threshold : 0.80\tFBeta : 0.154220\n",
      "\n"
     ]
    },
    {
     "name": "stderr",
     "output_type": "stream",
     "text": [
      "Epoch 41/100  Mem : 19.8GB  LR : 7.35E-05  Loss: 0.3400: 100%|██████████| 62/62 [01:14<00:00,  1.20s/it]                                                                                                                                                                       \n",
      "Val Loss: 0.5795: 100%|██████████| 24/24 [00:11<00:00,  2.04it/s]                                                                                                                                                                                                              \n"
     ]
    },
    {
     "name": "stdout",
     "output_type": "stream",
     "text": [
      "Threshold : 0.20\tFBeta : 0.416677\n",
      "Threshold : 0.25\tFBeta : 0.402512\n",
      "Threshold : 0.30\tFBeta : 0.389894\n",
      "Threshold : 0.35\tFBeta : 0.378547\n",
      "Threshold : 0.40\tFBeta : 0.368142\n",
      "Threshold : 0.45\tFBeta : 0.358318\n",
      "Threshold : 0.50\tFBeta : 0.348451\n",
      "Threshold : 0.55\tFBeta : 0.338178\n",
      "Threshold : 0.60\tFBeta : 0.324791\n",
      "Threshold : 0.65\tFBeta : 0.306232\n",
      "Threshold : 0.70\tFBeta : 0.283539\n",
      "Threshold : 0.75\tFBeta : 0.256587\n",
      "Threshold : 0.80\tFBeta : 0.226992\n",
      "\n"
     ]
    },
    {
     "name": "stderr",
     "output_type": "stream",
     "text": [
      "Epoch 42/100  Mem : 19.8GB  LR : 7.19E-05  Loss: 0.3379: 100%|██████████| 62/62 [01:13<00:00,  1.19s/it]                                                                                                                                                                       \n",
      "Val Loss: 0.4367: 100%|██████████| 24/24 [00:12<00:00,  1.99it/s]                                                                                                                                                                                                              \n"
     ]
    },
    {
     "name": "stdout",
     "output_type": "stream",
     "text": [
      "Threshold : 0.20\tFBeta : 0.569279\n",
      "Threshold : 0.25\tFBeta : 0.570592\n",
      "Threshold : 0.30\tFBeta : 0.570613\n",
      "Threshold : 0.35\tFBeta : 0.570472\n",
      "Threshold : 0.40\tFBeta : 0.568924\n",
      "Threshold : 0.45\tFBeta : 0.566777\n",
      "Threshold : 0.50\tFBeta : 0.564120\n",
      "Threshold : 0.55\tFBeta : 0.560646\n",
      "Threshold : 0.60\tFBeta : 0.555126\n",
      "Threshold : 0.65\tFBeta : 0.547194\n",
      "Threshold : 0.70\tFBeta : 0.535374\n",
      "Threshold : 0.75\tFBeta : 0.515150\n",
      "Threshold : 0.80\tFBeta : 0.484202\n",
      "\n"
     ]
    },
    {
     "name": "stderr",
     "output_type": "stream",
     "text": [
      "Epoch 43/100  Mem : 19.8GB  LR : 7.03E-05  Loss: 0.3426: 100%|██████████| 62/62 [01:13<00:00,  1.19s/it]                                                                                                                                                                       \n",
      "Val Loss: 0.4223: 100%|██████████| 24/24 [00:12<00:00,  2.00it/s]                                                                                                                                                                                                              \n"
     ]
    },
    {
     "name": "stdout",
     "output_type": "stream",
     "text": [
      "Threshold : 0.20\tFBeta : 0.488652\n",
      "Threshold : 0.25\tFBeta : 0.497473\n",
      "Threshold : 0.30\tFBeta : 0.503825\n",
      "Threshold : 0.35\tFBeta : 0.508399\n",
      "Threshold : 0.40\tFBeta : 0.512419\n",
      "Threshold : 0.45\tFBeta : 0.515857\n",
      "Threshold : 0.50\tFBeta : 0.518781\n",
      "Threshold : 0.55\tFBeta : 0.521506\n",
      "Threshold : 0.60\tFBeta : 0.524367\n",
      "Threshold : 0.65\tFBeta : 0.527028\n",
      "Threshold : 0.70\tFBeta : 0.529074\n",
      "Threshold : 0.75\tFBeta : 0.529046\n",
      "Threshold : 0.80\tFBeta : 0.524340\n",
      "\n"
     ]
    },
    {
     "name": "stderr",
     "output_type": "stream",
     "text": [
      "Epoch 44/100  Mem : 19.8GB  LR : 6.87E-05  Loss: 0.3413: 100%|██████████| 62/62 [01:14<00:00,  1.20s/it]                                                                                                                                                                       \n",
      "Val Loss: 0.5332: 100%|██████████| 24/24 [00:12<00:00,  1.98it/s]                                                                                                                                                                                                              \n"
     ]
    },
    {
     "name": "stdout",
     "output_type": "stream",
     "text": [
      "Threshold : 0.20\tFBeta : 0.333830\n",
      "Threshold : 0.25\tFBeta : 0.342763\n",
      "Threshold : 0.30\tFBeta : 0.349666\n",
      "Threshold : 0.35\tFBeta : 0.355890\n",
      "Threshold : 0.40\tFBeta : 0.361650\n",
      "Threshold : 0.45\tFBeta : 0.366910\n",
      "Threshold : 0.50\tFBeta : 0.371810\n",
      "Threshold : 0.55\tFBeta : 0.376417\n",
      "Threshold : 0.60\tFBeta : 0.381326\n",
      "Threshold : 0.65\tFBeta : 0.386662\n",
      "Threshold : 0.70\tFBeta : 0.392515\n",
      "Threshold : 0.75\tFBeta : 0.399976\n",
      "Threshold : 0.80\tFBeta : 0.409298\n",
      "\n"
     ]
    },
    {
     "name": "stderr",
     "output_type": "stream",
     "text": [
      "Epoch 45/100  Mem : 19.8GB  LR : 6.71E-05  Loss: 0.3306: 100%|██████████| 62/62 [01:13<00:00,  1.19s/it]                                                                                                                                                                       \n",
      "Val Loss: 0.4401: 100%|██████████| 24/24 [00:12<00:00,  1.97it/s]                                                                                                                                                                                                              \n"
     ]
    },
    {
     "name": "stdout",
     "output_type": "stream",
     "text": [
      "Threshold : 0.20\tFBeta : 0.402235\n",
      "Threshold : 0.25\tFBeta : 0.410821\n",
      "Threshold : 0.30\tFBeta : 0.417595\n",
      "Threshold : 0.35\tFBeta : 0.423714\n",
      "Threshold : 0.40\tFBeta : 0.428721\n",
      "Threshold : 0.45\tFBeta : 0.432891\n",
      "Threshold : 0.50\tFBeta : 0.436718\n",
      "Threshold : 0.55\tFBeta : 0.440468\n",
      "Threshold : 0.60\tFBeta : 0.444155\n",
      "Threshold : 0.65\tFBeta : 0.448509\n",
      "Threshold : 0.70\tFBeta : 0.452810\n",
      "Threshold : 0.75\tFBeta : 0.456060\n",
      "Threshold : 0.80\tFBeta : 0.460999\n",
      "\n"
     ]
    },
    {
     "name": "stderr",
     "output_type": "stream",
     "text": [
      "Epoch 46/100  Mem : 19.8GB  LR : 6.55E-05  Loss: 0.3291: 100%|██████████| 62/62 [01:13<00:00,  1.19s/it]                                                                                                                                                                       \n",
      "Val Loss: 0.4081: 100%|██████████| 24/24 [00:11<00:00,  2.03it/s]                                                                                                                                                                                                              \n"
     ]
    },
    {
     "name": "stdout",
     "output_type": "stream",
     "text": [
      "Threshold : 0.20\tFBeta : 0.448383\n",
      "Threshold : 0.25\tFBeta : 0.462746\n",
      "Threshold : 0.30\tFBeta : 0.473730\n",
      "Threshold : 0.35\tFBeta : 0.482661\n",
      "Threshold : 0.40\tFBeta : 0.490634\n",
      "Threshold : 0.45\tFBeta : 0.497099\n",
      "Threshold : 0.50\tFBeta : 0.502666\n",
      "Threshold : 0.55\tFBeta : 0.508159\n",
      "Threshold : 0.60\tFBeta : 0.513746\n",
      "Threshold : 0.65\tFBeta : 0.519403\n",
      "Threshold : 0.70\tFBeta : 0.525476\n",
      "Threshold : 0.75\tFBeta : 0.529288\n",
      "Threshold : 0.80\tFBeta : 0.530397\n",
      "\n"
     ]
    },
    {
     "name": "stderr",
     "output_type": "stream",
     "text": [
      "Epoch 47/100  Mem : 19.8GB  LR : 6.38E-05  Loss: 0.3275: 100%|██████████| 62/62 [01:14<00:00,  1.20s/it]                                                                                                                                                                       \n",
      "Val Loss: 0.4931: 100%|██████████| 24/24 [00:12<00:00,  2.00it/s]                                                                                                                                                                                                              \n"
     ]
    },
    {
     "name": "stdout",
     "output_type": "stream",
     "text": [
      "Threshold : 0.20\tFBeta : 0.358406\n",
      "Threshold : 0.25\tFBeta : 0.367522\n",
      "Threshold : 0.30\tFBeta : 0.374859\n",
      "Threshold : 0.35\tFBeta : 0.380961\n",
      "Threshold : 0.40\tFBeta : 0.386320\n",
      "Threshold : 0.45\tFBeta : 0.391112\n",
      "Threshold : 0.50\tFBeta : 0.395768\n",
      "Threshold : 0.55\tFBeta : 0.400614\n",
      "Threshold : 0.60\tFBeta : 0.406086\n",
      "Threshold : 0.65\tFBeta : 0.412541\n",
      "Threshold : 0.70\tFBeta : 0.420994\n",
      "Threshold : 0.75\tFBeta : 0.431660\n",
      "Threshold : 0.80\tFBeta : 0.445200\n",
      "\n"
     ]
    },
    {
     "name": "stderr",
     "output_type": "stream",
     "text": [
      "Epoch 48/100  Mem : 19.8GB  LR : 6.21E-05  Loss: 0.3318: 100%|██████████| 62/62 [01:14<00:00,  1.20s/it]                                                                                                                                                                       \n",
      "Val Loss: 0.4623: 100%|██████████| 24/24 [00:11<00:00,  2.03it/s]                                                                                                                                                                                                              \n"
     ]
    },
    {
     "name": "stdout",
     "output_type": "stream",
     "text": [
      "Threshold : 0.20\tFBeta : 0.380878\n",
      "Threshold : 0.25\tFBeta : 0.389067\n",
      "Threshold : 0.30\tFBeta : 0.395822\n",
      "Threshold : 0.35\tFBeta : 0.401776\n",
      "Threshold : 0.40\tFBeta : 0.407097\n",
      "Threshold : 0.45\tFBeta : 0.412179\n",
      "Threshold : 0.50\tFBeta : 0.417140\n",
      "Threshold : 0.55\tFBeta : 0.421736\n",
      "Threshold : 0.60\tFBeta : 0.425946\n",
      "Threshold : 0.65\tFBeta : 0.430468\n",
      "Threshold : 0.70\tFBeta : 0.435137\n",
      "Threshold : 0.75\tFBeta : 0.440024\n",
      "Threshold : 0.80\tFBeta : 0.446332\n",
      "\n"
     ]
    },
    {
     "name": "stderr",
     "output_type": "stream",
     "text": [
      "Epoch 49/100  Mem : 19.8GB  LR : 6.04E-05  Loss: 0.3323: 100%|██████████| 62/62 [01:12<00:00,  1.17s/it]                                                                                                                                                                       \n",
      "Val Loss: 0.4719: 100%|██████████| 24/24 [00:12<00:00,  1.99it/s]                                                                                                                                                                                                              \n"
     ]
    },
    {
     "name": "stdout",
     "output_type": "stream",
     "text": [
      "Threshold : 0.20\tFBeta : 0.539581\n",
      "Threshold : 0.25\tFBeta : 0.537330\n",
      "Threshold : 0.30\tFBeta : 0.535597\n",
      "Threshold : 0.35\tFBeta : 0.533207\n",
      "Threshold : 0.40\tFBeta : 0.529830\n",
      "Threshold : 0.45\tFBeta : 0.525972\n",
      "Threshold : 0.50\tFBeta : 0.521792\n",
      "Threshold : 0.55\tFBeta : 0.516779\n",
      "Threshold : 0.60\tFBeta : 0.511326\n",
      "Threshold : 0.65\tFBeta : 0.503329\n",
      "Threshold : 0.70\tFBeta : 0.494451\n",
      "Threshold : 0.75\tFBeta : 0.483498\n",
      "Threshold : 0.80\tFBeta : 0.465908\n",
      "\n"
     ]
    },
    {
     "name": "stderr",
     "output_type": "stream",
     "text": [
      "Epoch 50/100  Mem : 19.8GB  LR : 5.87E-05  Loss: 0.3153: 100%|██████████| 62/62 [01:14<00:00,  1.19s/it]                                                                                                                                                                       \n",
      "Val Loss: 0.5158: 100%|██████████| 24/24 [00:12<00:00,  1.98it/s]                                                                                                                                                                                                              \n"
     ]
    },
    {
     "name": "stdout",
     "output_type": "stream",
     "text": [
      "Threshold : 0.20\tFBeta : 0.521466\n",
      "Threshold : 0.25\tFBeta : 0.512185\n",
      "Threshold : 0.30\tFBeta : 0.504505\n",
      "Threshold : 0.35\tFBeta : 0.497445\n",
      "Threshold : 0.40\tFBeta : 0.489612\n",
      "Threshold : 0.45\tFBeta : 0.481615\n",
      "Threshold : 0.50\tFBeta : 0.472448\n",
      "Threshold : 0.55\tFBeta : 0.462616\n",
      "Threshold : 0.60\tFBeta : 0.451914\n",
      "Threshold : 0.65\tFBeta : 0.438442\n",
      "Threshold : 0.70\tFBeta : 0.420106\n",
      "Threshold : 0.75\tFBeta : 0.398893\n",
      "Threshold : 0.80\tFBeta : 0.374795\n",
      "\n"
     ]
    },
    {
     "name": "stderr",
     "output_type": "stream",
     "text": [
      "Epoch 51/100  Mem : 19.8GB  LR : 5.70E-05  Loss: 0.3112: 100%|██████████| 62/62 [01:14<00:00,  1.20s/it]                                                                                                                                                                       \n",
      "Val Loss: 0.4963: 100%|██████████| 24/24 [00:12<00:00,  1.97it/s]                                                                                                                                                                                                              \n"
     ]
    },
    {
     "name": "stdout",
     "output_type": "stream",
     "text": [
      "Threshold : 0.20\tFBeta : 0.552105\n",
      "Threshold : 0.25\tFBeta : 0.547759\n",
      "Threshold : 0.30\tFBeta : 0.541764\n",
      "Threshold : 0.35\tFBeta : 0.536589\n",
      "Threshold : 0.40\tFBeta : 0.529489\n",
      "Threshold : 0.45\tFBeta : 0.520328\n",
      "Threshold : 0.50\tFBeta : 0.511347\n",
      "Threshold : 0.55\tFBeta : 0.501480\n",
      "Threshold : 0.60\tFBeta : 0.489861\n",
      "Threshold : 0.65\tFBeta : 0.474414\n",
      "Threshold : 0.70\tFBeta : 0.454583\n",
      "Threshold : 0.75\tFBeta : 0.429634\n",
      "Threshold : 0.80\tFBeta : 0.399047\n",
      "\n"
     ]
    },
    {
     "name": "stderr",
     "output_type": "stream",
     "text": [
      "Epoch 52/100  Mem : 19.8GB  LR : 5.52E-05  Loss: 0.3173: 100%|██████████| 62/62 [01:14<00:00,  1.20s/it]                                                                                                                                                                       \n",
      "Val Loss: 0.4082: 100%|██████████| 24/24 [00:12<00:00,  2.00it/s]                                                                                                                                                                                                              \n"
     ]
    },
    {
     "name": "stdout",
     "output_type": "stream",
     "text": [
      "Threshold : 0.20\tFBeta : 0.420601\n",
      "Threshold : 0.25\tFBeta : 0.432176\n",
      "Threshold : 0.30\tFBeta : 0.442041\n",
      "Threshold : 0.35\tFBeta : 0.451108\n",
      "Threshold : 0.40\tFBeta : 0.459326\n",
      "Threshold : 0.45\tFBeta : 0.467135\n",
      "Threshold : 0.50\tFBeta : 0.474942\n",
      "Threshold : 0.55\tFBeta : 0.482646\n",
      "Threshold : 0.60\tFBeta : 0.491818\n",
      "Threshold : 0.65\tFBeta : 0.501840\n",
      "Threshold : 0.70\tFBeta : 0.511780\n",
      "Threshold : 0.75\tFBeta : 0.522434\n",
      "Threshold : 0.80\tFBeta : 0.532782\n",
      "\n"
     ]
    },
    {
     "name": "stderr",
     "output_type": "stream",
     "text": [
      "Epoch 53/100  Mem : 19.8GB  LR : 5.35E-05  Loss: 0.3046: 100%|██████████| 62/62 [01:14<00:00,  1.20s/it]                                                                                                                                                                       \n",
      "Val Loss: 0.4624: 100%|██████████| 24/24 [00:11<00:00,  2.04it/s]                                                                                                                                                                                                              \n"
     ]
    },
    {
     "name": "stdout",
     "output_type": "stream",
     "text": [
      "Threshold : 0.20\tFBeta : 0.534651\n",
      "Threshold : 0.25\tFBeta : 0.537166\n",
      "Threshold : 0.30\tFBeta : 0.538965\n",
      "Threshold : 0.35\tFBeta : 0.540238\n",
      "Threshold : 0.40\tFBeta : 0.541179\n",
      "Threshold : 0.45\tFBeta : 0.541925\n",
      "Threshold : 0.50\tFBeta : 0.541987\n",
      "Threshold : 0.55\tFBeta : 0.540683\n",
      "Threshold : 0.60\tFBeta : 0.538489\n",
      "Threshold : 0.65\tFBeta : 0.535219\n",
      "Threshold : 0.70\tFBeta : 0.531490\n",
      "Threshold : 0.75\tFBeta : 0.525160\n",
      "Threshold : 0.80\tFBeta : 0.514533\n",
      "\n"
     ]
    },
    {
     "name": "stderr",
     "output_type": "stream",
     "text": [
      "Epoch 54/100  Mem : 19.8GB  LR : 5.17E-05  Loss: 0.3125: 100%|██████████| 62/62 [01:14<00:00,  1.20s/it]                                                                                                                                                                       \n",
      "Val Loss: 0.4666: 100%|██████████| 24/24 [00:12<00:00,  1.99it/s]                                                                                                                                                                                                              \n"
     ]
    },
    {
     "name": "stdout",
     "output_type": "stream",
     "text": [
      "Threshold : 0.20\tFBeta : 0.566463\n",
      "Threshold : 0.25\tFBeta : 0.564328\n",
      "Threshold : 0.30\tFBeta : 0.561441\n",
      "Threshold : 0.35\tFBeta : 0.556343\n",
      "Threshold : 0.40\tFBeta : 0.550390\n",
      "Threshold : 0.45\tFBeta : 0.544909\n",
      "Threshold : 0.50\tFBeta : 0.539545\n",
      "Threshold : 0.55\tFBeta : 0.533456\n",
      "Threshold : 0.60\tFBeta : 0.525592\n",
      "Threshold : 0.65\tFBeta : 0.515258\n",
      "Threshold : 0.70\tFBeta : 0.502734\n",
      "Threshold : 0.75\tFBeta : 0.485101\n",
      "Threshold : 0.80\tFBeta : 0.459600\n",
      "\n"
     ]
    },
    {
     "name": "stderr",
     "output_type": "stream",
     "text": [
      "Epoch 55/100  Mem : 19.8GB  LR : 5.00E-05  Loss: 0.3072: 100%|██████████| 62/62 [01:13<00:00,  1.19s/it]                                                                                                                                                                       \n",
      "Val Loss: 0.4203: 100%|██████████| 24/24 [00:12<00:00,  2.00it/s]                                                                                                                                                                                                              \n"
     ]
    },
    {
     "name": "stdout",
     "output_type": "stream",
     "text": [
      "Threshold : 0.20\tFBeta : 0.516053\n",
      "Threshold : 0.25\tFBeta : 0.530152\n",
      "Threshold : 0.30\tFBeta : 0.537847\n",
      "Threshold : 0.35\tFBeta : 0.543440\n",
      "Threshold : 0.40\tFBeta : 0.547382\n",
      "Threshold : 0.45\tFBeta : 0.550352\n",
      "Threshold : 0.50\tFBeta : 0.552440\n",
      "Threshold : 0.55\tFBeta : 0.552747\n",
      "Threshold : 0.60\tFBeta : 0.552480\n",
      "Threshold : 0.65\tFBeta : 0.551203\n",
      "Threshold : 0.70\tFBeta : 0.548697\n",
      "Threshold : 0.75\tFBeta : 0.542794\n",
      "Threshold : 0.80\tFBeta : 0.535172\n",
      "\n"
     ]
    },
    {
     "name": "stderr",
     "output_type": "stream",
     "text": [
      "Epoch 56/100  Mem : 19.8GB  LR : 4.83E-05  Loss: 0.3151: 100%|██████████| 62/62 [01:14<00:00,  1.20s/it]                                                                                                                                                                       \n",
      "Val Loss: 0.4296: 100%|██████████| 24/24 [00:12<00:00,  1.97it/s]                                                                                                                                                                                                              \n"
     ]
    },
    {
     "name": "stdout",
     "output_type": "stream",
     "text": [
      "Threshold : 0.20\tFBeta : 0.512030\n",
      "Threshold : 0.25\tFBeta : 0.517505\n",
      "Threshold : 0.30\tFBeta : 0.522732\n",
      "Threshold : 0.35\tFBeta : 0.527180\n",
      "Threshold : 0.40\tFBeta : 0.529682\n",
      "Threshold : 0.45\tFBeta : 0.531838\n",
      "Threshold : 0.50\tFBeta : 0.533535\n",
      "Threshold : 0.55\tFBeta : 0.535425\n",
      "Threshold : 0.60\tFBeta : 0.537552\n",
      "Threshold : 0.65\tFBeta : 0.539048\n",
      "Threshold : 0.70\tFBeta : 0.539668\n",
      "Threshold : 0.75\tFBeta : 0.537053\n",
      "Threshold : 0.80\tFBeta : 0.531098\n",
      "\n"
     ]
    },
    {
     "name": "stderr",
     "output_type": "stream",
     "text": [
      "Epoch 57/100  Mem : 19.8GB  LR : 4.65E-05  Loss: 0.3093: 100%|██████████| 62/62 [01:12<00:00,  1.18s/it]                                                                                                                                                                       \n",
      "Val Loss: 0.4206: 100%|██████████| 24/24 [00:12<00:00,  1.99it/s]                                                                                                                                                                                                              \n"
     ]
    },
    {
     "name": "stdout",
     "output_type": "stream",
     "text": [
      "Threshold : 0.20\tFBeta : 0.522400\n",
      "Threshold : 0.25\tFBeta : 0.530448\n",
      "Threshold : 0.30\tFBeta : 0.536539\n",
      "Threshold : 0.35\tFBeta : 0.540762\n",
      "Threshold : 0.40\tFBeta : 0.542642\n",
      "Threshold : 0.45\tFBeta : 0.544170\n",
      "Threshold : 0.50\tFBeta : 0.545621\n",
      "Threshold : 0.55\tFBeta : 0.546360\n",
      "Threshold : 0.60\tFBeta : 0.546709\n",
      "Threshold : 0.65\tFBeta : 0.544397\n",
      "Threshold : 0.70\tFBeta : 0.540988\n",
      "Threshold : 0.75\tFBeta : 0.536875\n",
      "Threshold : 0.80\tFBeta : 0.529302\n",
      "\n"
     ]
    },
    {
     "name": "stderr",
     "output_type": "stream",
     "text": [
      "Epoch 58/100  Mem : 19.8GB  LR : 4.48E-05  Loss: 0.3063: 100%|██████████| 62/62 [01:14<00:00,  1.19s/it]                                                                                                                                                                       \n",
      "Val Loss: 0.4051: 100%|██████████| 24/24 [00:12<00:00,  1.97it/s]                                                                                                                                                                                                              \n"
     ]
    },
    {
     "name": "stdout",
     "output_type": "stream",
     "text": [
      "Threshold : 0.20\tFBeta : 0.435053\n",
      "Threshold : 0.25\tFBeta : 0.447621\n",
      "Threshold : 0.30\tFBeta : 0.458487\n",
      "Threshold : 0.35\tFBeta : 0.467974\n",
      "Threshold : 0.40\tFBeta : 0.477285\n",
      "Threshold : 0.45\tFBeta : 0.486196\n",
      "Threshold : 0.50\tFBeta : 0.495518\n",
      "Threshold : 0.55\tFBeta : 0.504921\n",
      "Threshold : 0.60\tFBeta : 0.513929\n",
      "Threshold : 0.65\tFBeta : 0.523206\n",
      "Threshold : 0.70\tFBeta : 0.529672\n",
      "Threshold : 0.75\tFBeta : 0.536586\n",
      "Threshold : 0.80\tFBeta : 0.542361\n",
      "\n"
     ]
    },
    {
     "name": "stderr",
     "output_type": "stream",
     "text": [
      "Epoch 59/100  Mem : 19.8GB  LR : 4.30E-05  Loss: 0.2953: 100%|██████████| 62/62 [01:13<00:00,  1.19s/it]                                                                                                                                                                       \n",
      "Val Loss: 0.4717: 100%|██████████| 24/24 [00:11<00:00,  2.00it/s]                                                                                                                                                                                                              \n"
     ]
    },
    {
     "name": "stdout",
     "output_type": "stream",
     "text": [
      "Threshold : 0.20\tFBeta : 0.522399\n",
      "Threshold : 0.25\tFBeta : 0.522010\n",
      "Threshold : 0.30\tFBeta : 0.521736\n",
      "Threshold : 0.35\tFBeta : 0.521220\n",
      "Threshold : 0.40\tFBeta : 0.519915\n",
      "Threshold : 0.45\tFBeta : 0.518045\n",
      "Threshold : 0.50\tFBeta : 0.515620\n",
      "Threshold : 0.55\tFBeta : 0.511798\n",
      "Threshold : 0.60\tFBeta : 0.506495\n",
      "Threshold : 0.65\tFBeta : 0.499373\n",
      "Threshold : 0.70\tFBeta : 0.489467\n",
      "Threshold : 0.75\tFBeta : 0.478412\n",
      "Threshold : 0.80\tFBeta : 0.464711\n",
      "\n"
     ]
    },
    {
     "name": "stderr",
     "output_type": "stream",
     "text": [
      "Epoch 60/100  Mem : 19.8GB  LR : 4.13E-05  Loss: 0.3059: 100%|██████████| 62/62 [01:14<00:00,  1.20s/it]                                                                                                                                                                       \n",
      "Val Loss: 0.4132: 100%|██████████| 24/24 [00:12<00:00,  1.97it/s]                                                                                                                                                                                                              \n"
     ]
    },
    {
     "name": "stdout",
     "output_type": "stream",
     "text": [
      "Threshold : 0.20\tFBeta : 0.488681\n",
      "Threshold : 0.25\tFBeta : 0.499095\n",
      "Threshold : 0.30\tFBeta : 0.506700\n",
      "Threshold : 0.35\tFBeta : 0.513317\n",
      "Threshold : 0.40\tFBeta : 0.519150\n",
      "Threshold : 0.45\tFBeta : 0.523444\n",
      "Threshold : 0.50\tFBeta : 0.526943\n",
      "Threshold : 0.55\tFBeta : 0.530194\n",
      "Threshold : 0.60\tFBeta : 0.533442\n",
      "Threshold : 0.65\tFBeta : 0.536535\n",
      "Threshold : 0.70\tFBeta : 0.538558\n",
      "Threshold : 0.75\tFBeta : 0.539207\n",
      "Threshold : 0.80\tFBeta : 0.537119\n",
      "\n"
     ]
    },
    {
     "name": "stderr",
     "output_type": "stream",
     "text": [
      "Epoch 61/100  Mem : 19.8GB  LR : 3.96E-05  Loss: 0.2976: 100%|██████████| 62/62 [01:13<00:00,  1.19s/it]                                                                                                                                                                       \n",
      "Val Loss: 0.4520: 100%|██████████| 24/24 [00:12<00:00,  1.97it/s]                                                                                                                                                                                                              \n"
     ]
    },
    {
     "name": "stdout",
     "output_type": "stream",
     "text": [
      "Threshold : 0.20\tFBeta : 0.566144\n",
      "Threshold : 0.25\tFBeta : 0.567825\n",
      "Threshold : 0.30\tFBeta : 0.568584\n",
      "Threshold : 0.35\tFBeta : 0.568009\n",
      "Threshold : 0.40\tFBeta : 0.566146\n",
      "Threshold : 0.45\tFBeta : 0.563738\n",
      "Threshold : 0.50\tFBeta : 0.561453\n",
      "Threshold : 0.55\tFBeta : 0.558304\n",
      "Threshold : 0.60\tFBeta : 0.554704\n",
      "Threshold : 0.65\tFBeta : 0.549398\n",
      "Threshold : 0.70\tFBeta : 0.541989\n",
      "Threshold : 0.75\tFBeta : 0.532674\n",
      "Threshold : 0.80\tFBeta : 0.520015\n",
      "\n"
     ]
    },
    {
     "name": "stderr",
     "output_type": "stream",
     "text": [
      "Epoch 62/100  Mem : 19.8GB  LR : 3.79E-05  Loss: 0.3004: 100%|██████████| 62/62 [01:15<00:00,  1.21s/it]                                                                                                                                                                       \n",
      "Val Loss: 0.5129: 100%|██████████| 24/24 [00:11<00:00,  2.05it/s]                                                                                                                                                                                                              \n"
     ]
    },
    {
     "name": "stdout",
     "output_type": "stream",
     "text": [
      "Threshold : 0.20\tFBeta : 0.467452\n",
      "Threshold : 0.25\tFBeta : 0.506699\n",
      "Threshold : 0.30\tFBeta : 0.505932\n",
      "Threshold : 0.35\tFBeta : 0.502584\n",
      "Threshold : 0.40\tFBeta : 0.497810\n",
      "Threshold : 0.45\tFBeta : 0.492738\n",
      "Threshold : 0.50\tFBeta : 0.486643\n",
      "Threshold : 0.55\tFBeta : 0.480891\n",
      "Threshold : 0.60\tFBeta : 0.473326\n",
      "Threshold : 0.65\tFBeta : 0.465043\n",
      "Threshold : 0.70\tFBeta : 0.454264\n",
      "Threshold : 0.75\tFBeta : 0.439274\n",
      "Threshold : 0.80\tFBeta : 0.419711\n",
      "\n"
     ]
    },
    {
     "name": "stderr",
     "output_type": "stream",
     "text": [
      "Epoch 63/100  Mem : 19.8GB  LR : 3.62E-05  Loss: 0.2980: 100%|██████████| 62/62 [01:13<00:00,  1.19s/it]                                                                                                                                                                       \n",
      "Val Loss: 0.4773: 100%|██████████| 24/24 [00:11<00:00,  2.02it/s]                                                                                                                                                                                                              \n"
     ]
    },
    {
     "name": "stdout",
     "output_type": "stream",
     "text": [
      "Threshold : 0.20\tFBeta : 0.553302\n",
      "Threshold : 0.25\tFBeta : 0.552434\n",
      "Threshold : 0.30\tFBeta : 0.549321\n",
      "Threshold : 0.35\tFBeta : 0.544514\n",
      "Threshold : 0.40\tFBeta : 0.538907\n",
      "Threshold : 0.45\tFBeta : 0.532077\n",
      "Threshold : 0.50\tFBeta : 0.524096\n",
      "Threshold : 0.55\tFBeta : 0.516367\n",
      "Threshold : 0.60\tFBeta : 0.507480\n",
      "Threshold : 0.65\tFBeta : 0.495753\n",
      "Threshold : 0.70\tFBeta : 0.480892\n",
      "Threshold : 0.75\tFBeta : 0.459076\n",
      "Threshold : 0.80\tFBeta : 0.427891\n",
      "\n"
     ]
    },
    {
     "name": "stderr",
     "output_type": "stream",
     "text": [
      "Epoch 64/100  Mem : 19.8GB  LR : 3.45E-05  Loss: 0.3009: 100%|██████████| 62/62 [01:13<00:00,  1.19s/it]                                                                                                                                                                       \n",
      "Val Loss: 0.4716: 100%|██████████| 24/24 [00:11<00:00,  2.03it/s]                                                                                                                                                                                                              \n"
     ]
    },
    {
     "name": "stdout",
     "output_type": "stream",
     "text": [
      "Threshold : 0.20\tFBeta : 0.561048\n",
      "Threshold : 0.25\tFBeta : 0.562402\n",
      "Threshold : 0.30\tFBeta : 0.561153\n",
      "Threshold : 0.35\tFBeta : 0.557478\n",
      "Threshold : 0.40\tFBeta : 0.552859\n",
      "Threshold : 0.45\tFBeta : 0.548123\n",
      "Threshold : 0.50\tFBeta : 0.543420\n",
      "Threshold : 0.55\tFBeta : 0.538097\n",
      "Threshold : 0.60\tFBeta : 0.531703\n",
      "Threshold : 0.65\tFBeta : 0.524590\n",
      "Threshold : 0.70\tFBeta : 0.516233\n",
      "Threshold : 0.75\tFBeta : 0.504041\n",
      "Threshold : 0.80\tFBeta : 0.484036\n",
      "\n"
     ]
    },
    {
     "name": "stderr",
     "output_type": "stream",
     "text": [
      "Epoch 65/100  Mem : 19.8GB  LR : 3.29E-05  Loss: 0.2818: 100%|██████████| 62/62 [01:13<00:00,  1.18s/it]                                                                                                                                                                       \n",
      "Val Loss: 0.4507: 100%|██████████| 24/24 [00:12<00:00,  1.99it/s]                                                                                                                                                                                                              \n"
     ]
    },
    {
     "name": "stdout",
     "output_type": "stream",
     "text": [
      "Threshold : 0.20\tFBeta : 0.546191\n",
      "Threshold : 0.25\tFBeta : 0.548822\n",
      "Threshold : 0.30\tFBeta : 0.549880\n",
      "Threshold : 0.35\tFBeta : 0.549739\n",
      "Threshold : 0.40\tFBeta : 0.548733\n",
      "Threshold : 0.45\tFBeta : 0.546886\n",
      "Threshold : 0.50\tFBeta : 0.544810\n",
      "Threshold : 0.55\tFBeta : 0.542379\n",
      "Threshold : 0.60\tFBeta : 0.538884\n",
      "Threshold : 0.65\tFBeta : 0.534887\n",
      "Threshold : 0.70\tFBeta : 0.528479\n",
      "Threshold : 0.75\tFBeta : 0.518847\n",
      "Threshold : 0.80\tFBeta : 0.505594\n",
      "\n"
     ]
    },
    {
     "name": "stderr",
     "output_type": "stream",
     "text": [
      "Epoch 66/100  Mem : 19.8GB  LR : 3.13E-05  Loss: 0.2869: 100%|██████████| 62/62 [01:13<00:00,  1.19s/it]                                                                                                                                                                       \n",
      "Val Loss: 0.4376: 100%|██████████| 24/24 [00:11<00:00,  2.04it/s]                                                                                                                                                                                                              \n"
     ]
    },
    {
     "name": "stdout",
     "output_type": "stream",
     "text": [
      "Threshold : 0.20\tFBeta : 0.543914\n",
      "Threshold : 0.25\tFBeta : 0.551353\n",
      "Threshold : 0.30\tFBeta : 0.556560\n",
      "Threshold : 0.35\tFBeta : 0.559251\n",
      "Threshold : 0.40\tFBeta : 0.561181\n",
      "Threshold : 0.45\tFBeta : 0.562757\n",
      "Threshold : 0.50\tFBeta : 0.562835\n",
      "Threshold : 0.55\tFBeta : 0.560777\n",
      "Threshold : 0.60\tFBeta : 0.558133\n",
      "Threshold : 0.65\tFBeta : 0.552930\n",
      "Threshold : 0.70\tFBeta : 0.545086\n",
      "Threshold : 0.75\tFBeta : 0.534103\n",
      "Threshold : 0.80\tFBeta : 0.518869\n",
      "\n"
     ]
    },
    {
     "name": "stderr",
     "output_type": "stream",
     "text": [
      "Epoch 67/100  Mem : 19.8GB  LR : 2.97E-05  Loss: 0.2819: 100%|██████████| 62/62 [01:12<00:00,  1.18s/it]                                                                                                                                                                       \n",
      "Val Loss: 0.4096: 100%|██████████| 24/24 [00:11<00:00,  2.01it/s]                                                                                                                                                                                                              \n"
     ]
    },
    {
     "name": "stdout",
     "output_type": "stream",
     "text": [
      "Threshold : 0.20\tFBeta : 0.538019\n",
      "Threshold : 0.25\tFBeta : 0.546588\n",
      "Threshold : 0.30\tFBeta : 0.552367\n",
      "Threshold : 0.35\tFBeta : 0.556183\n",
      "Threshold : 0.40\tFBeta : 0.559872\n",
      "Threshold : 0.45\tFBeta : 0.563844\n",
      "Threshold : 0.50\tFBeta : 0.566534\n",
      "Threshold : 0.55\tFBeta : 0.567972\n",
      "Threshold : 0.60\tFBeta : 0.569043\n",
      "Threshold : 0.65\tFBeta : 0.569234\n",
      "Threshold : 0.70\tFBeta : 0.568820\n",
      "Threshold : 0.75\tFBeta : 0.566160\n",
      "Threshold : 0.80\tFBeta : 0.557851\n",
      "\n"
     ]
    },
    {
     "name": "stderr",
     "output_type": "stream",
     "text": [
      "Epoch 68/100  Mem : 19.8GB  LR : 2.81E-05  Loss: 0.2820: 100%|██████████| 62/62 [01:13<00:00,  1.18s/it]                                                                                                                                                                       \n",
      "Val Loss: 0.4228: 100%|██████████| 24/24 [00:12<00:00,  1.99it/s]                                                                                                                                                                                                              \n"
     ]
    },
    {
     "name": "stdout",
     "output_type": "stream",
     "text": [
      "Threshold : 0.20\tFBeta : 0.570229\n",
      "Threshold : 0.25\tFBeta : 0.575491\n",
      "Threshold : 0.30\tFBeta : 0.578834\n",
      "Threshold : 0.35\tFBeta : 0.581031\n",
      "Threshold : 0.40\tFBeta : 0.582020\n",
      "Threshold : 0.45\tFBeta : 0.581774\n",
      "Threshold : 0.50\tFBeta : 0.581012\n",
      "Threshold : 0.55\tFBeta : 0.580166\n",
      "Threshold : 0.60\tFBeta : 0.578126\n",
      "Threshold : 0.65\tFBeta : 0.574845\n",
      "Threshold : 0.70\tFBeta : 0.568774\n",
      "Threshold : 0.75\tFBeta : 0.560285\n",
      "Threshold : 0.80\tFBeta : 0.547923\n",
      "\n"
     ]
    },
    {
     "name": "stderr",
     "output_type": "stream",
     "text": [
      "Epoch 69/100  Mem : 19.8GB  LR : 2.65E-05  Loss: 0.2836: 100%|██████████| 62/62 [01:14<00:00,  1.20s/it]                                                                                                                                                                       \n",
      "Val Loss: 0.4355: 100%|██████████| 24/24 [00:12<00:00,  2.00it/s]                                                                                                                                                                                                              \n"
     ]
    },
    {
     "name": "stdout",
     "output_type": "stream",
     "text": [
      "Threshold : 0.20\tFBeta : 0.556548\n",
      "Threshold : 0.25\tFBeta : 0.561285\n",
      "Threshold : 0.30\tFBeta : 0.563708\n",
      "Threshold : 0.35\tFBeta : 0.565363\n",
      "Threshold : 0.40\tFBeta : 0.566668\n",
      "Threshold : 0.45\tFBeta : 0.567528\n",
      "Threshold : 0.50\tFBeta : 0.568385\n",
      "Threshold : 0.55\tFBeta : 0.569098\n",
      "Threshold : 0.60\tFBeta : 0.569270\n",
      "Threshold : 0.65\tFBeta : 0.568795\n",
      "Threshold : 0.70\tFBeta : 0.566389\n",
      "Threshold : 0.75\tFBeta : 0.562037\n",
      "Threshold : 0.80\tFBeta : 0.554572\n",
      "\n"
     ]
    },
    {
     "name": "stderr",
     "output_type": "stream",
     "text": [
      "Epoch 70/100  Mem : 19.8GB  LR : 2.50E-05  Loss: 0.2819: 100%|██████████| 62/62 [01:14<00:00,  1.20s/it]                                                                                                                                                                       \n",
      "Val Loss: 0.4046: 100%|██████████| 24/24 [00:11<00:00,  2.01it/s]                                                                                                                                                                                                              \n"
     ]
    },
    {
     "name": "stdout",
     "output_type": "stream",
     "text": [
      "Threshold : 0.20\tFBeta : 0.476943\n",
      "Threshold : 0.25\tFBeta : 0.488957\n",
      "Threshold : 0.30\tFBeta : 0.498546\n",
      "Threshold : 0.35\tFBeta : 0.506672\n",
      "Threshold : 0.40\tFBeta : 0.513201\n",
      "Threshold : 0.45\tFBeta : 0.519353\n",
      "Threshold : 0.50\tFBeta : 0.525121\n",
      "Threshold : 0.55\tFBeta : 0.531037\n",
      "Threshold : 0.60\tFBeta : 0.536985\n",
      "Threshold : 0.65\tFBeta : 0.542997\n",
      "Threshold : 0.70\tFBeta : 0.549443\n",
      "Threshold : 0.75\tFBeta : 0.556248\n",
      "Threshold : 0.80\tFBeta : 0.563246\n",
      "\n"
     ]
    },
    {
     "name": "stderr",
     "output_type": "stream",
     "text": [
      "Epoch 71/100  Mem : 19.8GB  LR : 2.35E-05  Loss: 0.2715: 100%|██████████| 62/62 [01:14<00:00,  1.20s/it]                                                                                                                                                                       \n",
      "Val Loss: 0.3940: 100%|██████████| 24/24 [00:12<00:00,  1.98it/s]                                                                                                                                                                                                              \n"
     ]
    },
    {
     "name": "stdout",
     "output_type": "stream",
     "text": [
      "Threshold : 0.20\tFBeta : 0.509463\n",
      "Threshold : 0.25\tFBeta : 0.521215\n",
      "Threshold : 0.30\tFBeta : 0.529406\n",
      "Threshold : 0.35\tFBeta : 0.535935\n",
      "Threshold : 0.40\tFBeta : 0.541711\n",
      "Threshold : 0.45\tFBeta : 0.546955\n",
      "Threshold : 0.50\tFBeta : 0.551570\n",
      "Threshold : 0.55\tFBeta : 0.555538\n",
      "Threshold : 0.60\tFBeta : 0.558988\n",
      "Threshold : 0.65\tFBeta : 0.561749\n",
      "Threshold : 0.70\tFBeta : 0.564788\n",
      "Threshold : 0.75\tFBeta : 0.567354\n",
      "Threshold : 0.80\tFBeta : 0.567704\n",
      "\n"
     ]
    },
    {
     "name": "stderr",
     "output_type": "stream",
     "text": [
      "Epoch 72/100  Mem : 19.8GB  LR : 2.20E-05  Loss: 0.2677: 100%|██████████| 62/62 [01:14<00:00,  1.20s/it]                                                                                                                                                                       \n",
      "Val Loss: 0.3957: 100%|██████████| 24/24 [00:11<00:00,  2.01it/s]                                                                                                                                                                                                              \n"
     ]
    },
    {
     "name": "stdout",
     "output_type": "stream",
     "text": [
      "Threshold : 0.20\tFBeta : 0.533144\n",
      "Threshold : 0.25\tFBeta : 0.542789\n",
      "Threshold : 0.30\tFBeta : 0.549694\n",
      "Threshold : 0.35\tFBeta : 0.555856\n",
      "Threshold : 0.40\tFBeta : 0.561081\n",
      "Threshold : 0.45\tFBeta : 0.564445\n",
      "Threshold : 0.50\tFBeta : 0.566733\n",
      "Threshold : 0.55\tFBeta : 0.568534\n",
      "Threshold : 0.60\tFBeta : 0.570445\n",
      "Threshold : 0.65\tFBeta : 0.572710\n",
      "Threshold : 0.70\tFBeta : 0.575184\n",
      "Threshold : 0.75\tFBeta : 0.575420\n",
      "Threshold : 0.80\tFBeta : 0.573631\n",
      "\n"
     ]
    },
    {
     "name": "stderr",
     "output_type": "stream",
     "text": [
      "Epoch 73/100  Mem : 19.8GB  LR : 2.06E-05  Loss: 0.2696: 100%|██████████| 62/62 [01:14<00:00,  1.21s/it]                                                                                                                                                                       \n",
      "Val Loss: 0.3903: 100%|██████████| 24/24 [00:11<00:00,  2.02it/s]                                                                                                                                                                                                              \n"
     ]
    },
    {
     "name": "stdout",
     "output_type": "stream",
     "text": [
      "Threshold : 0.20\tFBeta : 0.528885\n",
      "Threshold : 0.25\tFBeta : 0.538164\n",
      "Threshold : 0.30\tFBeta : 0.545350\n",
      "Threshold : 0.35\tFBeta : 0.551141\n",
      "Threshold : 0.40\tFBeta : 0.556336\n",
      "Threshold : 0.45\tFBeta : 0.561329\n",
      "Threshold : 0.50\tFBeta : 0.565640\n",
      "Threshold : 0.55\tFBeta : 0.569015\n",
      "Threshold : 0.60\tFBeta : 0.572286\n",
      "Threshold : 0.65\tFBeta : 0.575021\n",
      "Threshold : 0.70\tFBeta : 0.577305\n",
      "Threshold : 0.75\tFBeta : 0.578217\n",
      "Threshold : 0.80\tFBeta : 0.578755\n",
      "\n"
     ]
    },
    {
     "name": "stderr",
     "output_type": "stream",
     "text": [
      "Epoch 74/100  Mem : 19.8GB  LR : 1.92E-05  Loss: 0.2750: 100%|██████████| 62/62 [01:13<00:00,  1.18s/it]                                                                                                                                                                       \n",
      "Val Loss: 0.4260: 100%|██████████| 24/24 [00:11<00:00,  2.00it/s]                                                                                                                                                                                                              \n"
     ]
    },
    {
     "name": "stdout",
     "output_type": "stream",
     "text": [
      "Threshold : 0.20\tFBeta : 0.521312\n",
      "Threshold : 0.25\tFBeta : 0.527426\n",
      "Threshold : 0.30\tFBeta : 0.532015\n",
      "Threshold : 0.35\tFBeta : 0.536359\n",
      "Threshold : 0.40\tFBeta : 0.539627\n",
      "Threshold : 0.45\tFBeta : 0.541879\n",
      "Threshold : 0.50\tFBeta : 0.543457\n",
      "Threshold : 0.55\tFBeta : 0.545202\n",
      "Threshold : 0.60\tFBeta : 0.547137\n",
      "Threshold : 0.65\tFBeta : 0.548388\n",
      "Threshold : 0.70\tFBeta : 0.546505\n",
      "Threshold : 0.75\tFBeta : 0.540783\n",
      "Threshold : 0.80\tFBeta : 0.530644\n",
      "\n"
     ]
    },
    {
     "name": "stderr",
     "output_type": "stream",
     "text": [
      "Epoch 75/100  Mem : 19.8GB  LR : 1.79E-05  Loss: 0.2701: 100%|██████████| 62/62 [01:14<00:00,  1.20s/it]                                                                                                                                                                       \n",
      "Val Loss: 0.4005: 100%|██████████| 24/24 [00:11<00:00,  2.01it/s]                                                                                                                                                                                                              \n"
     ]
    },
    {
     "name": "stdout",
     "output_type": "stream",
     "text": [
      "Threshold : 0.20\tFBeta : 0.534590\n",
      "Threshold : 0.25\tFBeta : 0.543632\n",
      "Threshold : 0.30\tFBeta : 0.550983\n",
      "Threshold : 0.35\tFBeta : 0.556926\n",
      "Threshold : 0.40\tFBeta : 0.561655\n",
      "Threshold : 0.45\tFBeta : 0.565562\n",
      "Threshold : 0.50\tFBeta : 0.568838\n",
      "Threshold : 0.55\tFBeta : 0.572025\n",
      "Threshold : 0.60\tFBeta : 0.575015\n",
      "Threshold : 0.65\tFBeta : 0.577904\n",
      "Threshold : 0.70\tFBeta : 0.581231\n",
      "Threshold : 0.75\tFBeta : 0.582099\n",
      "Threshold : 0.80\tFBeta : 0.579067\n",
      "\n"
     ]
    },
    {
     "name": "stderr",
     "output_type": "stream",
     "text": [
      "Epoch 76/100  Mem : 19.8GB  LR : 1.65E-05  Loss: 0.2690: 100%|██████████| 62/62 [01:14<00:00,  1.21s/it]                                                                                                                                                                       \n",
      "Val Loss: 0.4025: 100%|██████████| 24/24 [00:12<00:00,  1.99it/s]                                                                                                                                                                                                              \n"
     ]
    },
    {
     "name": "stdout",
     "output_type": "stream",
     "text": [
      "Threshold : 0.20\tFBeta : 0.499291\n",
      "Threshold : 0.25\tFBeta : 0.508109\n",
      "Threshold : 0.30\tFBeta : 0.514891\n",
      "Threshold : 0.35\tFBeta : 0.520588\n",
      "Threshold : 0.40\tFBeta : 0.525977\n",
      "Threshold : 0.45\tFBeta : 0.531007\n",
      "Threshold : 0.50\tFBeta : 0.535676\n",
      "Threshold : 0.55\tFBeta : 0.539575\n",
      "Threshold : 0.60\tFBeta : 0.544157\n",
      "Threshold : 0.65\tFBeta : 0.549016\n",
      "Threshold : 0.70\tFBeta : 0.553430\n",
      "Threshold : 0.75\tFBeta : 0.557697\n",
      "Threshold : 0.80\tFBeta : 0.560480\n",
      "\n"
     ]
    },
    {
     "name": "stderr",
     "output_type": "stream",
     "text": [
      "Epoch 77/100  Mem : 19.8GB  LR : 1.53E-05  Loss: 0.2587: 100%|██████████| 62/62 [01:13<00:00,  1.19s/it]                                                                                                                                                                       \n",
      "Val Loss: 0.4435: 100%|██████████| 24/24 [00:12<00:00,  1.98it/s]                                                                                                                                                                                                              \n"
     ]
    },
    {
     "name": "stdout",
     "output_type": "stream",
     "text": [
      "Threshold : 0.20\tFBeta : 0.576764\n",
      "Threshold : 0.25\tFBeta : 0.578501\n",
      "Threshold : 0.30\tFBeta : 0.578744\n",
      "Threshold : 0.35\tFBeta : 0.578078\n",
      "Threshold : 0.40\tFBeta : 0.576931\n",
      "Threshold : 0.45\tFBeta : 0.574887\n",
      "Threshold : 0.50\tFBeta : 0.571819\n",
      "Threshold : 0.55\tFBeta : 0.568621\n",
      "Threshold : 0.60\tFBeta : 0.563817\n",
      "Threshold : 0.65\tFBeta : 0.557620\n",
      "Threshold : 0.70\tFBeta : 0.550764\n",
      "Threshold : 0.75\tFBeta : 0.540793\n",
      "Threshold : 0.80\tFBeta : 0.529214\n",
      "\n"
     ]
    },
    {
     "name": "stderr",
     "output_type": "stream",
     "text": [
      "Epoch 78/100  Mem : 19.8GB  LR : 1.40E-05  Loss: 0.2660: 100%|██████████| 62/62 [01:14<00:00,  1.20s/it]                                                                                                                                                                       \n",
      "Val Loss: 0.4254: 100%|██████████| 24/24 [00:11<00:00,  2.02it/s]                                                                                                                                                                                                              \n"
     ]
    },
    {
     "name": "stdout",
     "output_type": "stream",
     "text": [
      "Threshold : 0.20\tFBeta : 0.547943\n",
      "Threshold : 0.25\tFBeta : 0.553351\n",
      "Threshold : 0.30\tFBeta : 0.556989\n",
      "Threshold : 0.35\tFBeta : 0.559225\n",
      "Threshold : 0.40\tFBeta : 0.560486\n",
      "Threshold : 0.45\tFBeta : 0.561002\n",
      "Threshold : 0.50\tFBeta : 0.560819\n",
      "Threshold : 0.55\tFBeta : 0.560206\n",
      "Threshold : 0.60\tFBeta : 0.559252\n",
      "Threshold : 0.65\tFBeta : 0.558161\n",
      "Threshold : 0.70\tFBeta : 0.556586\n",
      "Threshold : 0.75\tFBeta : 0.553854\n",
      "Threshold : 0.80\tFBeta : 0.547551\n",
      "\n"
     ]
    },
    {
     "name": "stderr",
     "output_type": "stream",
     "text": [
      "Epoch 79/100  Mem : 19.8GB  LR : 1.28E-05  Loss: 0.2662: 100%|██████████| 62/62 [01:14<00:00,  1.20s/it]                                                                                                                                                                       \n",
      "Val Loss: 0.4300: 100%|██████████| 24/24 [00:11<00:00,  2.02it/s]                                                                                                                                                                                                              \n"
     ]
    },
    {
     "name": "stdout",
     "output_type": "stream",
     "text": [
      "Threshold : 0.20\tFBeta : 0.542256\n",
      "Threshold : 0.25\tFBeta : 0.551302\n",
      "Threshold : 0.30\tFBeta : 0.557282\n",
      "Threshold : 0.35\tFBeta : 0.561328\n",
      "Threshold : 0.40\tFBeta : 0.564048\n",
      "Threshold : 0.45\tFBeta : 0.565763\n",
      "Threshold : 0.50\tFBeta : 0.566350\n",
      "Threshold : 0.55\tFBeta : 0.566294\n",
      "Threshold : 0.60\tFBeta : 0.565472\n",
      "Threshold : 0.65\tFBeta : 0.563653\n",
      "Threshold : 0.70\tFBeta : 0.561140\n",
      "Threshold : 0.75\tFBeta : 0.553533\n",
      "Threshold : 0.80\tFBeta : 0.541448\n",
      "\n"
     ]
    },
    {
     "name": "stderr",
     "output_type": "stream",
     "text": [
      "Epoch 80/100  Mem : 19.8GB  LR : 1.17E-05  Loss: 0.2636: 100%|██████████| 62/62 [01:13<00:00,  1.19s/it]                                                                                                                                                                       \n",
      "Val Loss: 0.4131: 100%|██████████| 24/24 [00:11<00:00,  2.00it/s]                                                                                                                                                                                                              \n"
     ]
    },
    {
     "name": "stdout",
     "output_type": "stream",
     "text": [
      "Threshold : 0.20\tFBeta : 0.529605\n",
      "Threshold : 0.25\tFBeta : 0.537622\n",
      "Threshold : 0.30\tFBeta : 0.543325\n",
      "Threshold : 0.35\tFBeta : 0.546787\n",
      "Threshold : 0.40\tFBeta : 0.549257\n",
      "Threshold : 0.45\tFBeta : 0.551330\n",
      "Threshold : 0.50\tFBeta : 0.553063\n",
      "Threshold : 0.55\tFBeta : 0.554107\n",
      "Threshold : 0.60\tFBeta : 0.555265\n",
      "Threshold : 0.65\tFBeta : 0.556398\n",
      "Threshold : 0.70\tFBeta : 0.557392\n",
      "Threshold : 0.75\tFBeta : 0.557295\n",
      "Threshold : 0.80\tFBeta : 0.553205\n",
      "\n"
     ]
    },
    {
     "name": "stderr",
     "output_type": "stream",
     "text": [
      "Epoch 81/100  Mem : 19.8GB  LR : 1.06E-05  Loss: 0.2619: 100%|██████████| 62/62 [01:13<00:00,  1.19s/it]                                                                                                                                                                       \n",
      "Val Loss: 0.4091: 100%|██████████| 24/24 [00:11<00:00,  2.02it/s]                                                                                                                                                                                                              \n"
     ]
    },
    {
     "name": "stdout",
     "output_type": "stream",
     "text": [
      "Threshold : 0.20\tFBeta : 0.501394\n",
      "Threshold : 0.25\tFBeta : 0.511776\n",
      "Threshold : 0.30\tFBeta : 0.519733\n",
      "Threshold : 0.35\tFBeta : 0.526326\n",
      "Threshold : 0.40\tFBeta : 0.531757\n",
      "Threshold : 0.45\tFBeta : 0.535768\n",
      "Threshold : 0.50\tFBeta : 0.538814\n",
      "Threshold : 0.55\tFBeta : 0.541450\n",
      "Threshold : 0.60\tFBeta : 0.543900\n",
      "Threshold : 0.65\tFBeta : 0.546373\n",
      "Threshold : 0.70\tFBeta : 0.548051\n",
      "Threshold : 0.75\tFBeta : 0.549743\n",
      "Threshold : 0.80\tFBeta : 0.549080\n",
      "\n"
     ]
    },
    {
     "name": "stderr",
     "output_type": "stream",
     "text": [
      "Epoch 82/100  Mem : 19.8GB  LR : 9.55E-06  Loss: 0.2500: 100%|██████████| 62/62 [01:14<00:00,  1.20s/it]                                                                                                                                                                       \n",
      "Val Loss: 0.4049: 100%|██████████| 24/24 [00:12<00:00,  1.98it/s]                                                                                                                                                                                                              \n"
     ]
    },
    {
     "name": "stdout",
     "output_type": "stream",
     "text": [
      "Threshold : 0.20\tFBeta : 0.515386\n",
      "Threshold : 0.25\tFBeta : 0.524720\n",
      "Threshold : 0.30\tFBeta : 0.532165\n",
      "Threshold : 0.35\tFBeta : 0.538675\n",
      "Threshold : 0.40\tFBeta : 0.544296\n",
      "Threshold : 0.45\tFBeta : 0.548175\n",
      "Threshold : 0.50\tFBeta : 0.551276\n",
      "Threshold : 0.55\tFBeta : 0.554001\n",
      "Threshold : 0.60\tFBeta : 0.556185\n",
      "Threshold : 0.65\tFBeta : 0.557946\n",
      "Threshold : 0.70\tFBeta : 0.558977\n",
      "Threshold : 0.75\tFBeta : 0.558740\n",
      "Threshold : 0.80\tFBeta : 0.557502\n",
      "\n"
     ]
    },
    {
     "name": "stderr",
     "output_type": "stream",
     "text": [
      "Epoch 83/100  Mem : 19.8GB  LR : 8.55E-06  Loss: 0.2589: 100%|██████████| 62/62 [01:13<00:00,  1.19s/it]                                                                                                                                                                       \n",
      "Val Loss: 0.4127: 100%|██████████| 24/24 [00:11<00:00,  2.01it/s]                                                                                                                                                                                                              \n"
     ]
    },
    {
     "name": "stdout",
     "output_type": "stream",
     "text": [
      "Threshold : 0.20\tFBeta : 0.515955\n",
      "Threshold : 0.25\tFBeta : 0.524589\n",
      "Threshold : 0.30\tFBeta : 0.531234\n",
      "Threshold : 0.35\tFBeta : 0.537683\n",
      "Threshold : 0.40\tFBeta : 0.543286\n",
      "Threshold : 0.45\tFBeta : 0.548102\n",
      "Threshold : 0.50\tFBeta : 0.552287\n",
      "Threshold : 0.55\tFBeta : 0.555930\n",
      "Threshold : 0.60\tFBeta : 0.559032\n",
      "Threshold : 0.65\tFBeta : 0.561234\n",
      "Threshold : 0.70\tFBeta : 0.561964\n",
      "Threshold : 0.75\tFBeta : 0.560485\n",
      "Threshold : 0.80\tFBeta : 0.558257\n",
      "\n"
     ]
    },
    {
     "name": "stderr",
     "output_type": "stream",
     "text": [
      "Epoch 84/100  Mem : 19.8GB  LR : 7.60E-06  Loss: 0.2577: 100%|██████████| 62/62 [01:15<00:00,  1.21s/it]                                                                                                                                                                       \n",
      "Val Loss: 0.4177: 100%|██████████| 24/24 [00:11<00:00,  2.02it/s]                                                                                                                                                                                                              \n"
     ]
    },
    {
     "name": "stdout",
     "output_type": "stream",
     "text": [
      "Threshold : 0.20\tFBeta : 0.553089\n",
      "Threshold : 0.25\tFBeta : 0.559417\n",
      "Threshold : 0.30\tFBeta : 0.563415\n",
      "Threshold : 0.35\tFBeta : 0.565873\n",
      "Threshold : 0.40\tFBeta : 0.567789\n",
      "Threshold : 0.45\tFBeta : 0.569097\n",
      "Threshold : 0.50\tFBeta : 0.570356\n",
      "Threshold : 0.55\tFBeta : 0.571724\n",
      "Threshold : 0.60\tFBeta : 0.572480\n",
      "Threshold : 0.65\tFBeta : 0.572437\n",
      "Threshold : 0.70\tFBeta : 0.571643\n",
      "Threshold : 0.75\tFBeta : 0.568496\n",
      "Threshold : 0.80\tFBeta : 0.563024\n",
      "\n"
     ]
    },
    {
     "name": "stderr",
     "output_type": "stream",
     "text": [
      "Epoch 85/100  Mem : 19.8GB  LR : 6.70E-06  Loss: 0.2574: 100%|██████████| 62/62 [01:13<00:00,  1.19s/it]                                                                                                                                                                       \n",
      "Val Loss: 0.4309: 100%|██████████| 24/24 [00:12<00:00,  1.96it/s]                                                                                                                                                                                                              \n"
     ]
    },
    {
     "name": "stdout",
     "output_type": "stream",
     "text": [
      "Threshold : 0.20\tFBeta : 0.554505\n",
      "Threshold : 0.25\tFBeta : 0.560426\n",
      "Threshold : 0.30\tFBeta : 0.564075\n",
      "Threshold : 0.35\tFBeta : 0.566401\n",
      "Threshold : 0.40\tFBeta : 0.567371\n",
      "Threshold : 0.45\tFBeta : 0.567733\n",
      "Threshold : 0.50\tFBeta : 0.567298\n",
      "Threshold : 0.55\tFBeta : 0.566586\n",
      "Threshold : 0.60\tFBeta : 0.565579\n",
      "Threshold : 0.65\tFBeta : 0.564947\n",
      "Threshold : 0.70\tFBeta : 0.562441\n",
      "Threshold : 0.75\tFBeta : 0.557510\n",
      "Threshold : 0.80\tFBeta : 0.549474\n",
      "\n"
     ]
    },
    {
     "name": "stderr",
     "output_type": "stream",
     "text": [
      "Epoch 86/100  Mem : 19.8GB  LR : 5.85E-06  Loss: 0.2509: 100%|██████████| 62/62 [01:13<00:00,  1.19s/it]                                                                                                                                                                       \n",
      "Val Loss: 0.4146: 100%|██████████| 24/24 [00:11<00:00,  2.02it/s]                                                                                                                                                                                                              \n"
     ]
    },
    {
     "name": "stdout",
     "output_type": "stream",
     "text": [
      "Threshold : 0.20\tFBeta : 0.530968\n",
      "Threshold : 0.25\tFBeta : 0.539888\n",
      "Threshold : 0.30\tFBeta : 0.546305\n",
      "Threshold : 0.35\tFBeta : 0.551207\n",
      "Threshold : 0.40\tFBeta : 0.555268\n",
      "Threshold : 0.45\tFBeta : 0.559285\n",
      "Threshold : 0.50\tFBeta : 0.562850\n",
      "Threshold : 0.55\tFBeta : 0.565832\n",
      "Threshold : 0.60\tFBeta : 0.567959\n",
      "Threshold : 0.65\tFBeta : 0.569956\n",
      "Threshold : 0.70\tFBeta : 0.570930\n",
      "Threshold : 0.75\tFBeta : 0.570318\n",
      "Threshold : 0.80\tFBeta : 0.567270\n",
      "\n"
     ]
    },
    {
     "name": "stderr",
     "output_type": "stream",
     "text": [
      "Epoch 87/100  Mem : 19.8GB  LR : 5.06E-06  Loss: 0.2455: 100%|██████████| 62/62 [01:13<00:00,  1.19s/it]                                                                                                                                                                       \n",
      "Val Loss: 0.4143: 100%|██████████| 24/24 [00:11<00:00,  2.03it/s]                                                                                                                                                                                                              \n"
     ]
    },
    {
     "name": "stdout",
     "output_type": "stream",
     "text": [
      "Threshold : 0.20\tFBeta : 0.530260\n",
      "Threshold : 0.25\tFBeta : 0.537914\n",
      "Threshold : 0.30\tFBeta : 0.543491\n",
      "Threshold : 0.35\tFBeta : 0.547764\n",
      "Threshold : 0.40\tFBeta : 0.551495\n",
      "Threshold : 0.45\tFBeta : 0.555186\n",
      "Threshold : 0.50\tFBeta : 0.558933\n",
      "Threshold : 0.55\tFBeta : 0.562217\n",
      "Threshold : 0.60\tFBeta : 0.564261\n",
      "Threshold : 0.65\tFBeta : 0.566085\n",
      "Threshold : 0.70\tFBeta : 0.567383\n",
      "Threshold : 0.75\tFBeta : 0.567210\n",
      "Threshold : 0.80\tFBeta : 0.564410\n",
      "\n"
     ]
    },
    {
     "name": "stderr",
     "output_type": "stream",
     "text": [
      "Epoch 88/100  Mem : 19.8GB  LR : 4.32E-06  Loss: 0.2413: 100%|██████████| 62/62 [01:14<00:00,  1.20s/it]                                                                                                                                                                       \n",
      "Val Loss: 0.4136: 100%|██████████| 24/24 [00:11<00:00,  2.03it/s]                                                                                                                                                                                                              \n"
     ]
    },
    {
     "name": "stdout",
     "output_type": "stream",
     "text": [
      "Threshold : 0.20\tFBeta : 0.538201\n",
      "Threshold : 0.25\tFBeta : 0.545523\n",
      "Threshold : 0.30\tFBeta : 0.549971\n",
      "Threshold : 0.35\tFBeta : 0.553962\n",
      "Threshold : 0.40\tFBeta : 0.557720\n",
      "Threshold : 0.45\tFBeta : 0.561447\n",
      "Threshold : 0.50\tFBeta : 0.565006\n",
      "Threshold : 0.55\tFBeta : 0.568070\n",
      "Threshold : 0.60\tFBeta : 0.570480\n",
      "Threshold : 0.65\tFBeta : 0.572133\n",
      "Threshold : 0.70\tFBeta : 0.572736\n",
      "Threshold : 0.75\tFBeta : 0.571355\n",
      "Threshold : 0.80\tFBeta : 0.568114\n",
      "\n"
     ]
    },
    {
     "name": "stderr",
     "output_type": "stream",
     "text": [
      "Epoch 89/100  Mem : 19.8GB  LR : 3.64E-06  Loss: 0.2516: 100%|██████████| 62/62 [01:14<00:00,  1.20s/it]                                                                                                                                                                       \n",
      "Val Loss: 0.4104: 100%|██████████| 24/24 [00:11<00:00,  2.02it/s]                                                                                                                                                                                                              \n"
     ]
    },
    {
     "name": "stdout",
     "output_type": "stream",
     "text": [
      "Threshold : 0.20\tFBeta : 0.553242\n",
      "Threshold : 0.25\tFBeta : 0.558812\n",
      "Threshold : 0.30\tFBeta : 0.562991\n",
      "Threshold : 0.35\tFBeta : 0.567005\n",
      "Threshold : 0.40\tFBeta : 0.570621\n",
      "Threshold : 0.45\tFBeta : 0.573704\n",
      "Threshold : 0.50\tFBeta : 0.576731\n",
      "Threshold : 0.55\tFBeta : 0.579028\n",
      "Threshold : 0.60\tFBeta : 0.580883\n",
      "Threshold : 0.65\tFBeta : 0.581750\n",
      "Threshold : 0.70\tFBeta : 0.581805\n",
      "Threshold : 0.75\tFBeta : 0.580043\n",
      "Threshold : 0.80\tFBeta : 0.575452\n",
      "\n"
     ]
    },
    {
     "name": "stderr",
     "output_type": "stream",
     "text": [
      "Epoch 90/100  Mem : 19.8GB  LR : 3.02E-06  Loss: 0.2517: 100%|██████████| 62/62 [01:13<00:00,  1.19s/it]                                                                                                                                                                       \n",
      "Val Loss: 0.4287: 100%|██████████| 24/24 [00:12<00:00,  1.99it/s]                                                                                                                                                                                                              \n"
     ]
    },
    {
     "name": "stdout",
     "output_type": "stream",
     "text": [
      "Threshold : 0.20\tFBeta : 0.563488\n",
      "Threshold : 0.25\tFBeta : 0.567732\n",
      "Threshold : 0.30\tFBeta : 0.571472\n",
      "Threshold : 0.35\tFBeta : 0.573546\n",
      "Threshold : 0.40\tFBeta : 0.574685\n",
      "Threshold : 0.45\tFBeta : 0.575201\n",
      "Threshold : 0.50\tFBeta : 0.575383\n",
      "Threshold : 0.55\tFBeta : 0.575048\n",
      "Threshold : 0.60\tFBeta : 0.573689\n",
      "Threshold : 0.65\tFBeta : 0.570634\n",
      "Threshold : 0.70\tFBeta : 0.566542\n",
      "Threshold : 0.75\tFBeta : 0.561345\n",
      "Threshold : 0.80\tFBeta : 0.553196\n",
      "\n"
     ]
    },
    {
     "name": "stderr",
     "output_type": "stream",
     "text": [
      "Epoch 91/100  Mem : 19.8GB  LR : 2.45E-06  Loss: 0.2539: 100%|██████████| 62/62 [01:14<00:00,  1.20s/it]                                                                                                                                                                       \n",
      "Val Loss: 0.4145: 100%|██████████| 24/24 [00:11<00:00,  2.05it/s]                                                                                                                                                                                                              \n"
     ]
    },
    {
     "name": "stdout",
     "output_type": "stream",
     "text": [
      "Threshold : 0.20\tFBeta : 0.556022\n",
      "Threshold : 0.25\tFBeta : 0.561263\n",
      "Threshold : 0.30\tFBeta : 0.565645\n",
      "Threshold : 0.35\tFBeta : 0.569208\n",
      "Threshold : 0.40\tFBeta : 0.572653\n",
      "Threshold : 0.45\tFBeta : 0.575475\n",
      "Threshold : 0.50\tFBeta : 0.577386\n",
      "Threshold : 0.55\tFBeta : 0.578311\n",
      "Threshold : 0.60\tFBeta : 0.578363\n",
      "Threshold : 0.65\tFBeta : 0.578091\n",
      "Threshold : 0.70\tFBeta : 0.576473\n",
      "Threshold : 0.75\tFBeta : 0.572861\n",
      "Threshold : 0.80\tFBeta : 0.566493\n",
      "\n"
     ]
    },
    {
     "name": "stderr",
     "output_type": "stream",
     "text": [
      "Epoch 92/100  Mem : 19.8GB  LR : 1.94E-06  Loss: 0.2469: 100%|██████████| 62/62 [01:13<00:00,  1.19s/it]                                                                                                                                                                       \n",
      "Val Loss: 0.4107: 100%|██████████| 24/24 [00:12<00:00,  1.97it/s]                                                                                                                                                                                                              \n"
     ]
    },
    {
     "name": "stdout",
     "output_type": "stream",
     "text": [
      "Threshold : 0.20\tFBeta : 0.548910\n",
      "Threshold : 0.25\tFBeta : 0.555514\n",
      "Threshold : 0.30\tFBeta : 0.559362\n",
      "Threshold : 0.35\tFBeta : 0.562967\n",
      "Threshold : 0.40\tFBeta : 0.567114\n",
      "Threshold : 0.45\tFBeta : 0.570725\n",
      "Threshold : 0.50\tFBeta : 0.573817\n",
      "Threshold : 0.55\tFBeta : 0.575926\n",
      "Threshold : 0.60\tFBeta : 0.577410\n",
      "Threshold : 0.65\tFBeta : 0.578069\n",
      "Threshold : 0.70\tFBeta : 0.576818\n",
      "Threshold : 0.75\tFBeta : 0.573226\n",
      "Threshold : 0.80\tFBeta : 0.566401\n",
      "\n"
     ]
    },
    {
     "name": "stderr",
     "output_type": "stream",
     "text": [
      "Epoch 93/100  Mem : 19.8GB  LR : 1.49E-06  Loss: 0.2533: 100%|██████████| 62/62 [01:14<00:00,  1.20s/it]                                                                                                                                                                       \n",
      "Val Loss: 0.4201: 100%|██████████| 24/24 [00:12<00:00,  1.98it/s]                                                                                                                                                                                                              \n"
     ]
    },
    {
     "name": "stdout",
     "output_type": "stream",
     "text": [
      "Threshold : 0.20\tFBeta : 0.548860\n",
      "Threshold : 0.25\tFBeta : 0.554164\n",
      "Threshold : 0.30\tFBeta : 0.557998\n",
      "Threshold : 0.35\tFBeta : 0.561702\n",
      "Threshold : 0.40\tFBeta : 0.564854\n",
      "Threshold : 0.45\tFBeta : 0.567460\n",
      "Threshold : 0.50\tFBeta : 0.569440\n",
      "Threshold : 0.55\tFBeta : 0.570625\n",
      "Threshold : 0.60\tFBeta : 0.570743\n",
      "Threshold : 0.65\tFBeta : 0.569904\n",
      "Threshold : 0.70\tFBeta : 0.568123\n",
      "Threshold : 0.75\tFBeta : 0.565353\n",
      "Threshold : 0.80\tFBeta : 0.558999\n",
      "\n"
     ]
    },
    {
     "name": "stderr",
     "output_type": "stream",
     "text": [
      "Epoch 94/100  Mem : 19.8GB  LR : 1.09E-06  Loss: 0.2502: 100%|██████████| 62/62 [01:15<00:00,  1.21s/it]                                                                                                                                                                       \n",
      "Val Loss: 0.4181: 100%|██████████| 24/24 [00:12<00:00,  1.99it/s]                                                                                                                                                                                                              \n"
     ]
    },
    {
     "name": "stdout",
     "output_type": "stream",
     "text": [
      "Threshold : 0.20\tFBeta : 0.543550\n",
      "Threshold : 0.25\tFBeta : 0.550520\n",
      "Threshold : 0.30\tFBeta : 0.554992\n",
      "Threshold : 0.35\tFBeta : 0.559401\n",
      "Threshold : 0.40\tFBeta : 0.563203\n",
      "Threshold : 0.45\tFBeta : 0.566463\n",
      "Threshold : 0.50\tFBeta : 0.569449\n",
      "Threshold : 0.55\tFBeta : 0.571609\n",
      "Threshold : 0.60\tFBeta : 0.572081\n",
      "Threshold : 0.65\tFBeta : 0.571670\n",
      "Threshold : 0.70\tFBeta : 0.569852\n",
      "Threshold : 0.75\tFBeta : 0.566527\n",
      "Threshold : 0.80\tFBeta : 0.560471\n",
      "\n"
     ]
    },
    {
     "name": "stderr",
     "output_type": "stream",
     "text": [
      "Epoch 95/100  Mem : 19.8GB  LR : 7.60E-07  Loss: 0.2472: 100%|██████████| 62/62 [01:13<00:00,  1.19s/it]                                                                                                                                                                       \n",
      "Val Loss: 0.4170: 100%|██████████| 24/24 [00:11<00:00,  2.02it/s]                                                                                                                                                                                                              \n"
     ]
    },
    {
     "name": "stdout",
     "output_type": "stream",
     "text": [
      "Threshold : 0.20\tFBeta : 0.543484\n",
      "Threshold : 0.25\tFBeta : 0.549578\n",
      "Threshold : 0.30\tFBeta : 0.553690\n",
      "Threshold : 0.35\tFBeta : 0.557171\n",
      "Threshold : 0.40\tFBeta : 0.560625\n",
      "Threshold : 0.45\tFBeta : 0.564079\n",
      "Threshold : 0.50\tFBeta : 0.566990\n",
      "Threshold : 0.55\tFBeta : 0.568511\n",
      "Threshold : 0.60\tFBeta : 0.568886\n",
      "Threshold : 0.65\tFBeta : 0.568114\n",
      "Threshold : 0.70\tFBeta : 0.567077\n",
      "Threshold : 0.75\tFBeta : 0.565389\n",
      "Threshold : 0.80\tFBeta : 0.559958\n",
      "\n"
     ]
    },
    {
     "name": "stderr",
     "output_type": "stream",
     "text": [
      "Epoch 96/100  Mem : 19.8GB  LR : 4.87E-07  Loss: 0.2466: 100%|██████████| 62/62 [01:13<00:00,  1.18s/it]                                                                                                                                                                       \n",
      "Val Loss: 0.4178: 100%|██████████| 24/24 [00:11<00:00,  2.02it/s]                                                                                                                                                                                                              \n"
     ]
    },
    {
     "name": "stdout",
     "output_type": "stream",
     "text": [
      "Threshold : 0.20\tFBeta : 0.546852\n",
      "Threshold : 0.25\tFBeta : 0.553914\n",
      "Threshold : 0.30\tFBeta : 0.558347\n",
      "Threshold : 0.35\tFBeta : 0.562519\n",
      "Threshold : 0.40\tFBeta : 0.566302\n",
      "Threshold : 0.45\tFBeta : 0.568946\n",
      "Threshold : 0.50\tFBeta : 0.570885\n",
      "Threshold : 0.55\tFBeta : 0.572151\n",
      "Threshold : 0.60\tFBeta : 0.572333\n",
      "Threshold : 0.65\tFBeta : 0.571959\n",
      "Threshold : 0.70\tFBeta : 0.570686\n",
      "Threshold : 0.75\tFBeta : 0.567080\n",
      "Threshold : 0.80\tFBeta : 0.560192\n",
      "\n"
     ]
    },
    {
     "name": "stderr",
     "output_type": "stream",
     "text": [
      "Epoch 97/100  Mem : 19.8GB  LR : 2.74E-07  Loss: 0.2429: 100%|██████████| 62/62 [01:13<00:00,  1.19s/it]                                                                                                                                                                       \n",
      "Val Loss: 0.4197: 100%|██████████| 24/24 [00:11<00:00,  2.04it/s]                                                                                                                                                                                                              \n"
     ]
    },
    {
     "name": "stdout",
     "output_type": "stream",
     "text": [
      "Threshold : 0.20\tFBeta : 0.545311\n",
      "Threshold : 0.25\tFBeta : 0.551046\n",
      "Threshold : 0.30\tFBeta : 0.555141\n",
      "Threshold : 0.35\tFBeta : 0.558867\n",
      "Threshold : 0.40\tFBeta : 0.562302\n",
      "Threshold : 0.45\tFBeta : 0.564964\n",
      "Threshold : 0.50\tFBeta : 0.567105\n",
      "Threshold : 0.55\tFBeta : 0.568090\n",
      "Threshold : 0.60\tFBeta : 0.568135\n",
      "Threshold : 0.65\tFBeta : 0.567722\n",
      "Threshold : 0.70\tFBeta : 0.566931\n",
      "Threshold : 0.75\tFBeta : 0.563833\n",
      "Threshold : 0.80\tFBeta : 0.556550\n",
      "\n"
     ]
    },
    {
     "name": "stderr",
     "output_type": "stream",
     "text": [
      "Epoch 98/100  Mem : 19.8GB  LR : 1.22E-07  Loss: 0.2499: 100%|██████████| 62/62 [01:13<00:00,  1.19s/it]                                                                                                                                                                       \n",
      "Val Loss: 0.4221: 100%|██████████| 24/24 [00:11<00:00,  2.03it/s]                                                                                                                                                                                                              \n"
     ]
    },
    {
     "name": "stdout",
     "output_type": "stream",
     "text": [
      "Threshold : 0.20\tFBeta : 0.552371\n",
      "Threshold : 0.25\tFBeta : 0.558045\n",
      "Threshold : 0.30\tFBeta : 0.562688\n",
      "Threshold : 0.35\tFBeta : 0.565880\n",
      "Threshold : 0.40\tFBeta : 0.568572\n",
      "Threshold : 0.45\tFBeta : 0.570774\n",
      "Threshold : 0.50\tFBeta : 0.572190\n",
      "Threshold : 0.55\tFBeta : 0.572900\n",
      "Threshold : 0.60\tFBeta : 0.572156\n",
      "Threshold : 0.65\tFBeta : 0.570145\n",
      "Threshold : 0.70\tFBeta : 0.567655\n",
      "Threshold : 0.75\tFBeta : 0.563390\n",
      "Threshold : 0.80\tFBeta : 0.555321\n",
      "\n"
     ]
    },
    {
     "name": "stderr",
     "output_type": "stream",
     "text": [
      "Epoch 99/100  Mem : 19.8GB  LR : 3.09E-08  Loss: 0.2420: 100%|██████████| 62/62 [01:13<00:00,  1.19s/it]                                                                                                                                                                       \n",
      "Val Loss: 0.4177: 100%|██████████| 24/24 [00:12<00:00,  1.98it/s]                                                                                                                                                                                                              \n"
     ]
    },
    {
     "name": "stdout",
     "output_type": "stream",
     "text": [
      "Threshold : 0.20\tFBeta : 0.546808\n",
      "Threshold : 0.25\tFBeta : 0.553665\n",
      "Threshold : 0.30\tFBeta : 0.558442\n",
      "Threshold : 0.35\tFBeta : 0.562461\n",
      "Threshold : 0.40\tFBeta : 0.566183\n",
      "Threshold : 0.45\tFBeta : 0.568733\n",
      "Threshold : 0.50\tFBeta : 0.571009\n",
      "Threshold : 0.55\tFBeta : 0.572148\n",
      "Threshold : 0.60\tFBeta : 0.572001\n",
      "Threshold : 0.65\tFBeta : 0.571494\n",
      "Threshold : 0.70\tFBeta : 0.570059\n",
      "Threshold : 0.75\tFBeta : 0.566501\n",
      "Threshold : 0.80\tFBeta : 0.559991\n",
      "\n"
     ]
    },
    {
     "name": "stderr",
     "output_type": "stream",
     "text": [
      "Epoch 100/100  Mem : 19.8GB  LR : 4.00E-10  Loss: 0.2460: 100%|██████████| 62/62 [01:14<00:00,  1.20s/it]                                                                                                                                                                      \n",
      "Val Loss: 0.4209: 100%|██████████| 24/24 [00:11<00:00,  2.02it/s]                                                                                                                                                                                                              \n"
     ]
    },
    {
     "name": "stdout",
     "output_type": "stream",
     "text": [
      "Threshold : 0.20\tFBeta : 0.553246\n",
      "Threshold : 0.25\tFBeta : 0.559385\n",
      "Threshold : 0.30\tFBeta : 0.563940\n",
      "Threshold : 0.35\tFBeta : 0.567794\n",
      "Threshold : 0.40\tFBeta : 0.570730\n",
      "Threshold : 0.45\tFBeta : 0.572996\n",
      "Threshold : 0.50\tFBeta : 0.573786\n",
      "Threshold : 0.55\tFBeta : 0.573380\n",
      "Threshold : 0.60\tFBeta : 0.573134\n",
      "Threshold : 0.65\tFBeta : 0.571782\n",
      "Threshold : 0.70\tFBeta : 0.568528\n",
      "Threshold : 0.75\tFBeta : 0.564175\n",
      "Threshold : 0.80\tFBeta : 0.555894\n",
      "\n"
     ]
    }
   ],
   "source": [
    "fbeta_best = 0.0\n",
    "for epoch in range(1, EPOCHS+1):\n",
    "    model.train()\n",
    "    cur_lr = f\"LR : {scheduler.get_last_lr()[0]:.2E}\"\n",
    "    pbar_train = enumerate(dataloader_train)\n",
    "    pbar_train = tqdm(pbar_train, total=n_train, bar_format=\"{l_bar}{bar:10}{r_bar}{bar:-10b}\")\n",
    "    mloss_train, mloss_val, val_metric = 0.0, 0.0, 0.0\n",
    "\n",
    "    \n",
    "\n",
    "\n",
    "\n",
    "\n",
    "    for i, (fragments, masks) in pbar_train:\n",
    "        fragments, masks = fragments.cuda().half(), masks.cuda().half()\n",
    "        \n",
    "        \n",
    "        optimizer.zero_grad()\n",
    "        with amp.autocast():\n",
    "            pred_masks = model(fragments)\n",
    "            loss = criterion(pred_masks, masks)\n",
    "            scaler.scale(loss).backward()\n",
    "            scaler.step(optimizer)\n",
    "            scaler.update()\n",
    "            mloss_train += loss.detach().item()\n",
    "\n",
    "        gpu_mem = f\"Mem : {torch.cuda.memory_reserved() / 1E9:.3g}GB\"\n",
    "        pbar_train.set_description((\"%10s  \" * 3 + \"%10s\") % (f\"Epoch {epoch}/{EPOCHS}\", gpu_mem, cur_lr,\n",
    "                                                              f\"Loss: {mloss_train / (i + 1):.4f}\"))\n",
    "        \n",
    "    scheduler.step()\n",
    "    model.eval()\n",
    "    pbar_val = enumerate(dataloader_valid)\n",
    "    pbar_val = tqdm(pbar_val, total=n_valid, bar_format=\"{l_bar}{bar:10}{r_bar}{bar:-10b}\")\n",
    "    final_pred_mask = torch.zeros(gt_shape, dtype=torch.float32, device='cuda')\n",
    "    \n",
    "    for i, (fragments, masks, xys) in pbar_val:\n",
    "        fragments, masks = fragments.cuda(), masks.cuda()\n",
    "        \n",
    "        with torch.no_grad():\n",
    "            pred_masks = model(fragments)\n",
    "            mloss_val += criterion(pred_masks, masks).item()\n",
    "            pred_masks = torch.sigmoid(pred_masks)\n",
    "        \n",
    "        for j, xy in enumerate(xys):\n",
    "            final_pred_mask[xy[1]:xy[3], xy[0]:xy[2]] = pred_masks[j, 0]\n",
    "\n",
    "        pbar_val.set_description((\"%10s\") % (f\"Val Loss: {mloss_val / (i+1):.4f}\"))\n",
    "    \n",
    "    for threshold in np.arange(0.2, 0.85, 0.05):\n",
    "        fbeta = fbeta_score(final_pred_mask, gt_mask, threshold)\n",
    "        print(f\"Threshold : {threshold:.2f}\\tFBeta : {fbeta:.6f}\")\n",
    "        \n",
    "        if fbeta_best < fbeta:\n",
    "            fbeta_best = fbeta\n",
    "            torch.save(model.module.state_dict(), f\"./ckpts/resnet18_3d_seg_best_{fbeta_best:.4f}.pt\")\n",
    "    \n",
    "    \n",
    "    if epoch >= 10:\n",
    "        torch.save(model.module.state_dict(), f\"./ckpts/resnet18_3d_seg_epoch_{epoch}.pt\")\n",
    "\n",
    "    # if epoch == 30:\n",
    "    #     break\n",
    "\n",
    "    print()"
   ]
  },
  {
   "cell_type": "code",
   "execution_count": 22,
   "id": "2c48f344",
   "metadata": {
    "execution": {
     "iopub.execute_input": "2023-05-23T02:37:41.837063Z",
     "iopub.status.busy": "2023-05-23T02:37:41.836922Z",
     "iopub.status.idle": "2023-05-23T02:37:41.839143Z",
     "shell.execute_reply": "2023-05-23T02:37:41.838872Z"
    }
   },
   "outputs": [],
   "source": [
    "# import logging\n",
    "\n",
    "# logging.basicConfig(filename=\"training_log.txt\", level=logging.INFO)\n",
    "\n",
    "# console = logging.StreamHandler()\n",
    "# console.setLevel(logging.INFO)\n",
    "# logging.getLogger('').addHandler(console)\n",
    "\n",
    "# fbeta_best = 0.0\n",
    "# for epoch in range(1, EPOCHS+1):\n",
    "#     model.train()\n",
    "#     cur_lr = f\"LR : {scheduler.get_last_lr()[0]:.2E}\"\n",
    "#     pbar_train = enumerate(dataloader_train)\n",
    "#     pbar_train = tqdm(pbar_train, total=n_train, bar_format=\"{l_bar}{bar:10}{r_bar}{bar:-10b}\")\n",
    "#     mloss_train, mloss_val, val_metric = 0.0, 0.0, 0.0\n",
    "\n",
    "#     for i, (fragments, masks) in pbar_train:\n",
    "#         fragments, masks = fragments.cuda().half(), masks.cuda().half()\n",
    "        \n",
    "#         optimizer.zero_grad()\n",
    "#         with amp.autocast():\n",
    "#             pred_masks = model(fragments)\n",
    "#             loss = criterion(pred_masks, masks)\n",
    "#             scaler.scale(loss).backward()\n",
    "#             scaler.step(optimizer)\n",
    "#             scaler.update()\n",
    "#             mloss_train += loss.detach().item()\n",
    "\n",
    "#         gpu_mem = f\"Mem : {torch.cuda.memory_reserved() / 1E9:.3g}GB\"\n",
    "#         pbar_train.set_description((\"%10s  \" * 3 + \"%10s\") % (f\"Epoch {epoch}/{EPOCHS}\", gpu_mem, cur_lr,\n",
    "#                                                               f\"Loss: {mloss_train / (i + 1):.4f}\"))\n",
    "#         logging.info((\"%10s  \" * 3 + \"%10s\") % (f\"Epoch {epoch}/{EPOCHS}\", gpu_mem, cur_lr,\n",
    "#                                                 f\"Loss: {mloss_train / (i + 1):.4f}\"))\n",
    "#     scheduler.step()\n",
    "#     model.eval()\n",
    "#     pbar_val = enumerate(dataloader_valid)\n",
    "#     pbar_val = tqdm(pbar_val, total=n_valid, bar_format=\"{l_bar}{bar:10}{r_bar}{bar:-10b}\")\n",
    "#     final_pred_mask = torch.zeros(gt_shape, dtype=torch.float32, device='cuda')\n",
    "    \n",
    "#     for i, (fragments, masks, xys) in pbar_val:\n",
    "#         fragments, masks = fragments.cuda(), masks.cuda()\n",
    "        \n",
    "#         with torch.no_grad():\n",
    "#             pred_masks = model(fragments)\n",
    "#             mloss_val += criterion(pred_masks, masks).item()\n",
    "#             pred_masks = torch.sigmoid(pred_masks)\n",
    "        \n",
    "#         for j, xy in enumerate(xys):\n",
    "#             final_pred_mask[xy[1]:xy[3], xy[0]:xy[2]] = pred_masks[j, 0]\n",
    "\n",
    "#         pbar_val.set_description((\"%10s\") % (f\"Val Loss: {mloss_val / (i+1):.4f}\"))\n",
    "#         logging.info((\"%10s\") % (f\"Val Loss: {mloss_val / (i+1):.4f}\"))\n",
    "\n",
    "#     for threshold in np.arange(0.2, 0.85, 0.05):\n",
    "#         fbeta = fbeta_score(final_pred_mask, gt_mask, threshold)\n",
    "#         logging.info(f\"Threshold : {threshold:.2f}\\tFBeta : {fbeta:.6f}\")\n",
    "\n",
    "#         if fbeta_best < fbeta:\n",
    "#             fbeta_best = fbeta\n",
    "#             torch.save(model.module.state_dict(), f\"./ckpts/resnet18_3d_seg_best.pt\")\n",
    "    \n",
    "#     # if epoch >= 10:\n",
    "#     #     torch.save(model.module.state_dict(), f\"./ckpts/resnet18_3d_seg_epoch_{epoch}.pt\")\n"
   ]
  },
  {
   "cell_type": "code",
   "execution_count": null,
   "id": "89431087",
   "metadata": {
    "papermill": {
     "duration": 0.381515,
     "end_time": "2023-04-08T11:20:14.478012",
     "exception": false,
     "start_time": "2023-04-08T11:20:14.096497",
     "status": "completed"
    },
    "tags": []
   },
   "outputs": [],
   "source": []
  }
 ],
 "metadata": {
  "kernelspec": {
   "display_name": "Python 3",
   "language": "python",
   "name": "python3"
  },
  "language_info": {
   "codemirror_mode": {
    "name": "ipython",
    "version": 3
   },
   "file_extension": ".py",
   "mimetype": "text/x-python",
   "name": "python",
   "nbconvert_exporter": "python",
   "pygments_lexer": "ipython3",
   "version": "3.9.16"
  },
  "papermill": {
   "default_parameters": {},
   "duration": 4132.646938,
   "end_time": "2023-04-08T11:20:18.816611",
   "environment_variables": {},
   "exception": null,
   "input_path": "__notebook__.ipynb",
   "output_path": "__notebook__.ipynb",
   "parameters": {},
   "start_time": "2023-04-08T10:11:26.169673",
   "version": "2.4.0"
  }
 },
 "nbformat": 4,
 "nbformat_minor": 5
}
