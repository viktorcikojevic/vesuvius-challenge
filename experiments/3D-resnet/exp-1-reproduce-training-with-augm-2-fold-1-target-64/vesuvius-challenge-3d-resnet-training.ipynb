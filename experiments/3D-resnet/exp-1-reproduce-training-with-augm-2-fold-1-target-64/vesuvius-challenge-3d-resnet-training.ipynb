{
 "cells": [
  {
   "attachments": {},
   "cell_type": "markdown",
   "id": "73dea9ca",
   "metadata": {
    "papermill": {
     "duration": 0.006587,
     "end_time": "2023-04-08T10:11:36.662576",
     "exception": false,
     "start_time": "2023-04-08T10:11:36.655989",
     "status": "completed"
    },
    "tags": []
   },
   "source": [
    "## Vesuvius Challenge - Ink Detection Training Notebook"
   ]
  },
  {
   "attachments": {},
   "cell_type": "markdown",
   "id": "8cdbb7ff",
   "metadata": {
    "papermill": {
     "duration": 0.004951,
     "end_time": "2023-04-08T10:11:36.672955",
     "exception": false,
     "start_time": "2023-04-08T10:11:36.668004",
     "status": "completed"
    },
    "tags": []
   },
   "source": [
    "### Setup"
   ]
  },
  {
   "cell_type": "code",
   "execution_count": 1,
   "id": "ae445317",
   "metadata": {
    "_kg_hide-input": false,
    "_kg_hide-output": true,
    "execution": {
     "iopub.execute_input": "2023-05-22T08:37:14.350215Z",
     "iopub.status.busy": "2023-05-22T08:37:14.349816Z",
     "iopub.status.idle": "2023-05-22T08:37:14.526962Z",
     "shell.execute_reply": "2023-05-22T08:37:14.524918Z"
    },
    "papermill": {
     "duration": 29.297355,
     "end_time": "2023-04-08T10:12:05.976007",
     "exception": false,
     "start_time": "2023-04-08T10:11:36.678652",
     "status": "completed"
    },
    "tags": []
   },
   "outputs": [],
   "source": [
    "# # Pretrained weights\n",
    "# # ref - https://github.com/kenshohara/3D-ResNets-PyTorch\n",
    "# !pip install gdown\n",
    "# !gdown 1Nb4abvIkkp_ydPFA9sNPT1WakoVKA8Fa\n",
    "\n",
    "# # Utility packages for reading and visualizing volumes\n",
    "# !pip install zarr imageio-ffmpeg\n",
    "\n",
    "# save model checkpoints\n",
    "!mkdir ./ckpts"
   ]
  },
  {
   "cell_type": "code",
   "execution_count": 2,
   "id": "0d956f5c",
   "metadata": {
    "execution": {
     "iopub.execute_input": "2023-05-22T08:37:14.532222Z",
     "iopub.status.busy": "2023-05-22T08:37:14.531833Z",
     "iopub.status.idle": "2023-05-22T08:37:15.325538Z",
     "shell.execute_reply": "2023-05-22T08:37:15.325192Z"
    },
    "papermill": {
     "duration": 3.289261,
     "end_time": "2023-04-08T10:12:09.273534",
     "exception": false,
     "start_time": "2023-04-08T10:12:05.984273",
     "status": "completed"
    },
    "tags": []
   },
   "outputs": [],
   "source": [
    "import os\n",
    "import gc\n",
    "import sys\n",
    "import zarr\n",
    "import random\n",
    "import imageio\n",
    "import numpy as np\n",
    "import pandas as pd\n",
    "from tqdm import tqdm\n",
    "import matplotlib.pyplot as plt\n",
    "from IPython.display import Video\n",
    "\n",
    "import torch\n",
    "import torch.nn as nn\n",
    "import torch.nn.functional as F\n",
    "from torch.cuda import amp\n",
    "from torch.utils.data import Dataset, DataLoader\n",
    "\n",
    "sys.path.append(\"./resnet3d\")\n",
    "from resnet3d import generate_model"
   ]
  },
  {
   "attachments": {},
   "cell_type": "markdown",
   "id": "88b00fe4",
   "metadata": {
    "papermill": {
     "duration": 0.007297,
     "end_time": "2023-04-08T10:12:09.288770",
     "exception": false,
     "start_time": "2023-04-08T10:12:09.281473",
     "status": "completed"
    },
    "tags": []
   },
   "source": [
    "### Config"
   ]
  },
  {
   "cell_type": "code",
   "execution_count": 3,
   "id": "59e26b77",
   "metadata": {
    "execution": {
     "iopub.execute_input": "2023-05-22T08:37:15.327058Z",
     "iopub.status.busy": "2023-05-22T08:37:15.326873Z",
     "iopub.status.idle": "2023-05-22T08:37:15.328772Z",
     "shell.execute_reply": "2023-05-22T08:37:15.328593Z"
    },
    "papermill": {
     "duration": 0.016571,
     "end_time": "2023-04-08T10:12:09.312935",
     "exception": false,
     "start_time": "2023-04-08T10:12:09.296364",
     "status": "completed"
    },
    "tags": []
   },
   "outputs": [],
   "source": [
    "LR = 1e-4\n",
    "EPOCHS = 50\n",
    "BATCH_SIZE = 32\n",
    "CROP_SIZE = 256\n",
    "Z_START = 24\n",
    "Z_DIMS = 16\n",
    "TRAIN_FRAGMENTS = [\"2\", \"3\"]\n",
    "TEST_FRAGMENT = \"1\""
   ]
  },
  {
   "attachments": {},
   "cell_type": "markdown",
   "id": "9a1e0328",
   "metadata": {
    "papermill": {
     "duration": 0.007428,
     "end_time": "2023-04-08T10:12:09.328094",
     "exception": false,
     "start_time": "2023-04-08T10:12:09.320666",
     "status": "completed"
    },
    "tags": []
   },
   "source": [
    "### Load data"
   ]
  },
  {
   "cell_type": "code",
   "execution_count": 4,
   "id": "8c494d99",
   "metadata": {
    "execution": {
     "iopub.execute_input": "2023-05-22T08:37:15.330024Z",
     "iopub.status.busy": "2023-05-22T08:37:15.329924Z",
     "iopub.status.idle": "2023-05-22T08:37:15.338081Z",
     "shell.execute_reply": "2023-05-22T08:37:15.337899Z"
    },
    "papermill": {
     "duration": 0.054715,
     "end_time": "2023-04-08T10:12:09.391635",
     "exception": false,
     "start_time": "2023-04-08T10:12:09.336920",
     "status": "completed"
    },
    "tags": []
   },
   "outputs": [],
   "source": [
    "\n",
    "\n",
    "FRAGMENTS_ZARR = {\n",
    "    \"1\" : zarr.open(\"/home/viktor/Documents/kaggle/vesuvius-challenge/kaggle-data/train-1.zarr\", mode=\"r\"),\n",
    "    \"2\" : zarr.open(\"/home/viktor/Documents/kaggle/vesuvius-challenge/kaggle-data/train-2.zarr\", mode=\"r\"),\n",
    "    \"3\" : zarr.open(\"/home/viktor/Documents/kaggle/vesuvius-challenge/kaggle-data/train-3.zarr\", mode=\"r\")\n",
    "}\n",
    "\n",
    "FRAGMENTS_SHAPE = {k : v.mask.shape for k, v in FRAGMENTS_ZARR.items()}"
   ]
  },
  {
   "attachments": {},
   "cell_type": "markdown",
   "id": "97a51afa",
   "metadata": {
    "papermill": {
     "duration": 0.007406,
     "end_time": "2023-04-08T10:12:09.406465",
     "exception": false,
     "start_time": "2023-04-08T10:12:09.399059",
     "status": "completed"
    },
    "tags": []
   },
   "source": [
    "### Visualise input"
   ]
  },
  {
   "cell_type": "code",
   "execution_count": 5,
   "id": "6d33b9f8",
   "metadata": {
    "execution": {
     "iopub.execute_input": "2023-05-22T08:37:15.339257Z",
     "iopub.status.busy": "2023-05-22T08:37:15.339117Z",
     "iopub.status.idle": "2023-05-22T08:37:15.487754Z",
     "shell.execute_reply": "2023-05-22T08:37:15.487523Z"
    },
    "papermill": {
     "duration": 1.68744,
     "end_time": "2023-04-08T10:12:11.101290",
     "exception": false,
     "start_time": "2023-04-08T10:12:09.413850",
     "status": "completed"
    },
    "tags": []
   },
   "outputs": [
    {
     "name": "stderr",
     "output_type": "stream",
     "text": [
      "Lossy conversion from uint16 to uint8. Losing 8 bits of resolution. Convert image to uint8 prior to saving to suppress this warning.\n",
      "Lossy conversion from uint16 to uint8. Losing 8 bits of resolution. Convert image to uint8 prior to saving to suppress this warning.\n",
      "Lossy conversion from uint16 to uint8. Losing 8 bits of resolution. Convert image to uint8 prior to saving to suppress this warning.\n",
      "Lossy conversion from uint16 to uint8. Losing 8 bits of resolution. Convert image to uint8 prior to saving to suppress this warning.\n",
      "Lossy conversion from uint16 to uint8. Losing 8 bits of resolution. Convert image to uint8 prior to saving to suppress this warning.\n",
      "Lossy conversion from uint16 to uint8. Losing 8 bits of resolution. Convert image to uint8 prior to saving to suppress this warning.\n",
      "Lossy conversion from uint16 to uint8. Losing 8 bits of resolution. Convert image to uint8 prior to saving to suppress this warning.\n",
      "Lossy conversion from uint16 to uint8. Losing 8 bits of resolution. Convert image to uint8 prior to saving to suppress this warning.\n",
      "Lossy conversion from uint16 to uint8. Losing 8 bits of resolution. Convert image to uint8 prior to saving to suppress this warning.\n",
      "Lossy conversion from uint16 to uint8. Losing 8 bits of resolution. Convert image to uint8 prior to saving to suppress this warning.\n",
      "Lossy conversion from uint16 to uint8. Losing 8 bits of resolution. Convert image to uint8 prior to saving to suppress this warning.\n",
      "Lossy conversion from uint16 to uint8. Losing 8 bits of resolution. Convert image to uint8 prior to saving to suppress this warning.\n",
      "Lossy conversion from uint16 to uint8. Losing 8 bits of resolution. Convert image to uint8 prior to saving to suppress this warning.\n",
      "Lossy conversion from uint16 to uint8. Losing 8 bits of resolution. Convert image to uint8 prior to saving to suppress this warning.\n",
      "Lossy conversion from uint16 to uint8. Losing 8 bits of resolution. Convert image to uint8 prior to saving to suppress this warning.\n",
      "Lossy conversion from uint16 to uint8. Losing 8 bits of resolution. Convert image to uint8 prior to saving to suppress this warning.\n"
     ]
    },
    {
     "data": {
      "text/html": [
       "<video src=\"fragment_crop.mp4\" controls  width=\"256\"  height=\"256\">\n",
       "      Your browser does not support the <code>video</code> element.\n",
       "    </video>"
      ],
      "text/plain": [
       "<IPython.core.display.Video object>"
      ]
     },
     "execution_count": 5,
     "metadata": {},
     "output_type": "execute_result"
    }
   ],
   "source": [
    "fragment = FRAGMENTS_ZARR[\"1\"]\n",
    "x, y = 2000, 2000\n",
    "\n",
    "fragment_cropped = fragment.surface_volume[y:y+CROP_SIZE, x:x+CROP_SIZE, Z_START:Z_START+Z_DIMS]\n",
    "imageio.mimwrite(\"fragment_crop.mp4\", fragment_cropped.transpose(2, 0, 1), \"ffmpeg\")\n",
    "Video(\"fragment_crop.mp4\", height=256, width=256)"
   ]
  },
  {
   "cell_type": "code",
   "execution_count": 6,
   "id": "46203a93",
   "metadata": {
    "execution": {
     "iopub.execute_input": "2023-05-22T08:37:15.488853Z",
     "iopub.status.busy": "2023-05-22T08:37:15.488776Z",
     "iopub.status.idle": "2023-05-22T08:37:15.528513Z",
     "shell.execute_reply": "2023-05-22T08:37:15.528233Z"
    },
    "papermill": {
     "duration": 0.258785,
     "end_time": "2023-04-08T10:12:11.368608",
     "exception": false,
     "start_time": "2023-04-08T10:12:11.109823",
     "status": "completed"
    },
    "tags": []
   },
   "outputs": [
    {
     "data": {
      "image/png": "[encoded data removed]",
      "text/plain": [
       "<Figure size 600x300 with 2 Axes>"
      ]
     },
     "metadata": {},
     "output_type": "display_data"
    }
   ],
   "source": [
    "mask_cropped = fragment.truth[y:y+CROP_SIZE, x:x+CROP_SIZE]\n",
    "ir_cropped = fragment.infrared[y:y+CROP_SIZE, x:x+CROP_SIZE]\n",
    "\n",
    "plt.figure(figsize=(6, 3))\n",
    "plt.subplot(1, 2, 1)\n",
    "plt.imshow(mask_cropped, cmap=\"gray\")\n",
    "plt.axis(\"off\")\n",
    "\n",
    "plt.subplot(1, 2, 2)\n",
    "plt.imshow(ir_cropped, cmap=\"gray\")\n",
    "plt.axis(\"off\")\n",
    "plt.show()"
   ]
  },
  {
   "cell_type": "code",
   "execution_count": 7,
   "id": "6462d25d",
   "metadata": {
    "execution": {
     "iopub.execute_input": "2023-05-22T08:37:15.529727Z",
     "iopub.status.busy": "2023-05-22T08:37:15.529620Z",
     "iopub.status.idle": "2023-05-22T08:37:15.576234Z",
     "shell.execute_reply": "2023-05-22T08:37:15.575897Z"
    },
    "papermill": {
     "duration": 0.17287,
     "end_time": "2023-04-08T10:12:11.562933",
     "exception": false,
     "start_time": "2023-04-08T10:12:11.390063",
     "status": "completed"
    },
    "tags": []
   },
   "outputs": [
    {
     "data": {
      "text/plain": [
       "4093"
      ]
     },
     "execution_count": 7,
     "metadata": {},
     "output_type": "execute_result"
    }
   ],
   "source": [
    "del fragment, fragment_cropped, mask_cropped, ir_cropped\n",
    "gc.collect()"
   ]
  },
  {
   "attachments": {},
   "cell_type": "markdown",
   "id": "ff9cd3e8",
   "metadata": {
    "papermill": {
     "duration": 0.008474,
     "end_time": "2023-04-08T10:12:11.580070",
     "exception": false,
     "start_time": "2023-04-08T10:12:11.571596",
     "status": "completed"
    },
    "tags": []
   },
   "source": [
    "### Dataloaders"
   ]
  },
  {
   "cell_type": "code",
   "execution_count": 8,
   "id": "162ec4e8",
   "metadata": {
    "execution": {
     "iopub.execute_input": "2023-05-22T08:37:15.577486Z",
     "iopub.status.busy": "2023-05-22T08:37:15.577400Z",
     "iopub.status.idle": "2023-05-22T08:37:15.579259Z",
     "shell.execute_reply": "2023-05-22T08:37:15.579071Z"
    },
    "papermill": {
     "duration": 0.024571,
     "end_time": "2023-04-08T10:12:11.612905",
     "exception": false,
     "start_time": "2023-04-08T10:12:11.588334",
     "status": "completed"
    },
    "tags": []
   },
   "outputs": [],
   "source": [
    "# import albumentations as A\n",
    "# from albumentations.pytorch import ToTensorV2\n",
    "\n",
    "# class VesuviusTrain(Dataset):\n",
    "#     def __init__(self, fragments):\n",
    "#         self.fragments = fragments\n",
    "#         self.xys = []\n",
    "        \n",
    "#         for fragment in fragments:\n",
    "#             H, W = FRAGMENTS_SHAPE[fragment]\n",
    "#             for y in range(0, H-CROP_SIZE+1, CROP_SIZE):\n",
    "#                 for x in range(0, W-CROP_SIZE+1, CROP_SIZE):\n",
    "#                     self.xys.append((fragment, x, y, W, H))\n",
    "        \n",
    "#         train_aug_list = [\n",
    "#                 # A.RandomResizedCrop(\n",
    "#                 #     size, size, scale=(0.85, 1.0)),\n",
    "#                 A.HorizontalFlip(p=0.5),\n",
    "#                 A.VerticalFlip(p=0.5),\n",
    "#                 A.RandomBrightnessContrast(p=0.75),\n",
    "#                 A.CoarseDropout(max_holes=1, max_width=int(CROP_SIZE * 0.1), max_height=int(size * 0.1), \n",
    "#                                 mask_fill_value=0, p=0.5),\n",
    "#                 A.ShiftScaleRotate(p=0.75),\n",
    "#                 A.Rotate(limit=90, p=0.9), \n",
    "#                 A.OneOf([\n",
    "#                         A.GaussNoise(var_limit=[10, 50]),\n",
    "#                         A.GaussianBlur(),\n",
    "#                         A.MotionBlur(),\n",
    "#                         ], p=0.4),\n",
    "#                 A.GridDistortion(num_steps=1, distort_limit=0.3, p=0.5),\n",
    "                \n",
    "#                 A.Cutout(max_h_size=int(size * 0.6),\n",
    "#                          max_w_size=int(size * 0.6), num_holes=1, p=1.0),\n",
    "#                 A.Normalize(\n",
    "#                     mean= [0] * Z_DIMS,\n",
    "#                     std= [1] * Z_DIMS\n",
    "#                 ),\n",
    "#                 ToTensorV2(transpose_mask=True),\n",
    "#             ]\n",
    "        \n",
    "        \n",
    "        \n",
    "#     def __getitem__(self, i):\n",
    "#         fragment, x1, y1, W, H = self.xys[i]\n",
    "#         z1, z2 = Z_START, Z_START+Z_DIMS\n",
    "        \n",
    "#         x_offset = random.randint(-32 if x1 != 0 else 0, 32)\n",
    "#         y_offset = random.randint(-32 if y1 != 0 else 0, 32)\n",
    "        \n",
    "#         x1 += x_offset\n",
    "#         y1 += y_offset\n",
    "        \n",
    "#         x2 = x1 + CROP_SIZE\n",
    "#         y2 = y1 + CROP_SIZE\n",
    "        \n",
    "#         if x2 > W:\n",
    "#             x1 -= x_offset\n",
    "#             x2 -= x_offset\n",
    "            \n",
    "#         if y2 > H:\n",
    "#             y1 -= y_offset\n",
    "#             y2 -= y_offset\n",
    "        \n",
    "#         frag_crop = FRAGMENTS_ZARR[fragment].surface_volume[y1:y2, x1:x2, z1:z2]\n",
    "#         mask_crop = FRAGMENTS_ZARR[fragment].truth[y1:y2, x1:x2]\n",
    "        \n",
    "#         if random.random() > 0.5:\n",
    "#             frag_crop = np.flip(frag_crop, axis=1).copy()\n",
    "#             mask_crop = np.flip(mask_crop, axis=1).copy()\n",
    "\n",
    "#         frag_crop = torch.from_numpy(frag_crop.astype(np.float32)).unsqueeze(0).permute(0, 3, 1, 2)\n",
    "#         frag_crop = frag_crop/65535.0\n",
    "#         frag_crop = (frag_crop - 0.45)/0.225\n",
    "        \n",
    "#         mask_crop = torch.from_numpy(mask_crop.astype(np.float32)).unsqueeze(0)\n",
    "        \n",
    "        \n",
    "        \n",
    "        \n",
    "        \n",
    "        \n",
    "        \n",
    "        \n",
    "#         return frag_crop, mask_crop\n",
    "\n",
    "#     def __len__(self):\n",
    "#         return len(self.xys)"
   ]
  },
  {
   "cell_type": "code",
   "execution_count": 9,
   "id": "c2c0c6d5",
   "metadata": {
    "execution": {
     "iopub.execute_input": "2023-05-22T08:37:15.580273Z",
     "iopub.status.busy": "2023-05-22T08:37:15.580185Z",
     "iopub.status.idle": "2023-05-22T08:37:15.882672Z",
     "shell.execute_reply": "2023-05-22T08:37:15.882407Z"
    }
   },
   "outputs": [],
   "source": [
    "import albumentations as A\n",
    "from albumentations.pytorch import ToTensorV2\n",
    "\n",
    "class VesuviusTrain(Dataset):\n",
    "    def __init__(self, fragments):\n",
    "        self.fragments = fragments\n",
    "        self.xys = []\n",
    "        \n",
    "        for fragment in fragments:\n",
    "            H, W = FRAGMENTS_SHAPE[fragment]\n",
    "            for y in range(0, H-CROP_SIZE+1, CROP_SIZE):\n",
    "                for x in range(0, W-CROP_SIZE+1, CROP_SIZE):\n",
    "                    surface = FRAGMENTS_ZARR[fragment].surface_volume[y:y+CROP_SIZE, x:x+CROP_SIZE, 0]\n",
    "                    if np.sum(surface) / (CROP_SIZE * CROP_SIZE) > 0.2:\n",
    "                        self.xys.append((fragment, x, y, W, H))\n",
    "        \n",
    "        self.train_aug_list = [\n",
    "                # A.RandomResizedCrop(\n",
    "                #     size, size, scale=(0.85, 1.0)),\n",
    "                \n",
    "                A.HorizontalFlip(p=0.5),\n",
    "                A.VerticalFlip(p=0.5),\n",
    "                \n",
    "                # A.RandomBrightnessContrast(p=0.75),\n",
    "                A.CoarseDropout(max_holes=1, max_width=int(CROP_SIZE * 0.1), max_height=int(CROP_SIZE * 0.1), \n",
    "                                mask_fill_value=0, p=0.5),\n",
    "                # A.ShiftScaleRotate(p=0.75),\n",
    "                \n",
    "                A.Rotate(limit=90, p=0.9), \n",
    "                \n",
    "                # A.OneOf([\n",
    "                #         A.GaussNoise(var_limit=[0.01, 0.05]),\n",
    "                #         A.GaussianBlur(blur_limit=(3, 5), sigma_limit=0),\n",
    "                #         A.MotionBlur(blur_limit=3),\n",
    "                #         ], p=0.8),\n",
    "                # A.GridDistortion(num_steps=1, distort_limit=0.1, p=0.5),\n",
    "                # A.MultiplicativeNoise(per_channel=True, multiplier=(0.95, 1.05)),\n",
    "                \n",
    "                # A.Cutout(max_h_size=int(CROP_SIZE * 0.2),\n",
    "                #          max_w_size=int(CROP_SIZE * 0.2), num_holes=1, p=1.0),\n",
    "                \n",
    "                ToTensorV2(transpose_mask=True),\n",
    "            ]\n",
    "        \n",
    "        # Create the augmentation pipeline\n",
    "        self.augmentations = A.Compose(self.train_aug_list)\n",
    "        \n",
    "        \n",
    "        \n",
    "    def __getitem__(self, i):\n",
    "        fragment, x1, y1, W, H = self.xys[i]\n",
    "        z1, z2 = Z_START, Z_START+Z_DIMS\n",
    "        \n",
    "        x_offset = random.randint(-128 if x1 != 0 else 0, 128)\n",
    "        y_offset = random.randint(-128 if y1 != 0 else 0, 128)\n",
    "        \n",
    "        x1 += x_offset\n",
    "        y1 += y_offset\n",
    "        \n",
    "        x2 = x1 + CROP_SIZE\n",
    "        y2 = y1 + CROP_SIZE\n",
    "        \n",
    "        if x2 > W:\n",
    "            x1 -= x_offset\n",
    "            x2 -= x_offset\n",
    "            \n",
    "        if y2 > H:\n",
    "            y1 -= y_offset\n",
    "            y2 -= y_offset\n",
    "        \n",
    "        frag_crop = FRAGMENTS_ZARR[fragment].surface_volume[y1:y2, x1:x2, z1:z2]\n",
    "        mask_crop = FRAGMENTS_ZARR[fragment].truth[y1:y2, x1:x2]\n",
    "        \n",
    "        # if random.random() > 0.5:\n",
    "        #     frag_crop = np.flip(frag_crop, axis=1).copy()\n",
    "        #     mask_crop = np.flip(mask_crop, axis=1).copy()\n",
    "\n",
    "        # Perform train augmentations\n",
    "\n",
    "        frag_crop = frag_crop/65535.0\n",
    "        \n",
    "        \n",
    "        # Apply the augmentations\n",
    "        augmented = self.augmentations(image=frag_crop, mask=mask_crop)\n",
    "\n",
    "        # Separate the image and mask\n",
    "        frag_crop, mask_crop = augmented[\"image\"], augmented[\"mask\"]\n",
    "\n",
    "        # normalize\n",
    "        \n",
    "        # frag_crop = (frag_crop - 0.45)/0.225\n",
    "        \n",
    "        frag_crop = frag_crop.unsqueeze(0) \n",
    "        mask_crop = mask_crop.float().unsqueeze(0)\n",
    "        \n",
    "        \n",
    "        return frag_crop, mask_crop\n",
    "\n",
    "    def __len__(self):\n",
    "        return len(self.xys)"
   ]
  },
  {
   "cell_type": "code",
   "execution_count": 10,
   "id": "f172c2ad",
   "metadata": {
    "execution": {
     "iopub.execute_input": "2023-05-22T08:37:15.884173Z",
     "iopub.status.busy": "2023-05-22T08:37:15.884003Z",
     "iopub.status.idle": "2023-05-22T08:37:15.887511Z",
     "shell.execute_reply": "2023-05-22T08:37:15.887304Z"
    },
    "papermill": {
     "duration": 0.022963,
     "end_time": "2023-04-08T10:12:11.644387",
     "exception": false,
     "start_time": "2023-04-08T10:12:11.621424",
     "status": "completed"
    },
    "tags": []
   },
   "outputs": [],
   "source": [
    "class VesuviusVal(Dataset):\n",
    "    def __init__(self, fragment):\n",
    "        self.fragment = FRAGMENTS_ZARR[fragment]\n",
    "        self.xys = []\n",
    "        \n",
    "        H, W = FRAGMENTS_SHAPE[fragment]\n",
    "        for y in range(0, H-CROP_SIZE+1, CROP_SIZE):\n",
    "            for x in range(0, W-CROP_SIZE+1, CROP_SIZE):\n",
    "                self.xys.append((x, y))\n",
    "                \n",
    "    def __getitem__(self, i):\n",
    "        x1, y1 = self.xys[i]\n",
    "        x2, y2 = x1+CROP_SIZE, y1+CROP_SIZE\n",
    "        z1, z2 = Z_START, Z_START+Z_DIMS\n",
    "        \n",
    "        frag_crop = self.fragment.surface_volume[y1:y2, x1:x2, z1:z2]\n",
    "        mask_crop = self.fragment.truth[y1:y2, x1:x2]\n",
    "\n",
    "        frag_crop = torch.from_numpy(frag_crop.astype(np.float32)).unsqueeze(0).permute(0, 3, 1, 2)\n",
    "        frag_crop = frag_crop/65535.0\n",
    "        # frag_crop = (frag_crop - 0.45)/0.225\n",
    "        \n",
    "        mask_crop = torch.from_numpy(mask_crop.astype(np.float32)).unsqueeze(0)\n",
    "        return frag_crop, mask_crop, torch.tensor([x1, y1, x2, y2], dtype=torch.int32)\n",
    "\n",
    "    def __len__(self):\n",
    "        return len(self.xys)"
   ]
  },
  {
   "cell_type": "code",
   "execution_count": 11,
   "id": "4282f924",
   "metadata": {
    "execution": {
     "iopub.execute_input": "2023-05-22T08:37:15.888684Z",
     "iopub.status.busy": "2023-05-22T08:37:15.888518Z",
     "iopub.status.idle": "2023-05-22T08:37:21.341121Z",
     "shell.execute_reply": "2023-05-22T08:37:21.340880Z"
    },
    "papermill": {
     "duration": 0.019671,
     "end_time": "2023-04-08T10:12:11.672490",
     "exception": false,
     "start_time": "2023-04-08T10:12:11.652819",
     "status": "completed"
    },
    "tags": []
   },
   "outputs": [],
   "source": [
    "dataset_train = VesuviusTrain(TRAIN_FRAGMENTS)\n",
    "dataloader_train = DataLoader(dataset_train, batch_size=BATCH_SIZE, num_workers=2,\n",
    "                              shuffle=True, pin_memory=True, drop_last=True)\n",
    "n_train = len(dataloader_train)\n",
    "\n",
    "dataset_valid = VesuviusVal(TEST_FRAGMENT)\n",
    "dataloader_valid = DataLoader(dataset_valid, batch_size=BATCH_SIZE, num_workers=2,\n",
    "                              shuffle=False, pin_memory=True, drop_last=False)\n",
    "n_valid = len(dataloader_valid)"
   ]
  },
  {
   "cell_type": "code",
   "execution_count": 12,
   "id": "0577f1a6",
   "metadata": {
    "execution": {
     "iopub.execute_input": "2023-05-22T08:37:21.342423Z",
     "iopub.status.busy": "2023-05-22T08:37:21.342336Z",
     "iopub.status.idle": "2023-05-22T08:37:21.358876Z",
     "shell.execute_reply": "2023-05-22T08:37:21.358673Z"
    }
   },
   "outputs": [
    {
     "data": {
      "text/plain": [
       "(tensor(0.0002, dtype=torch.float64), tensor(1., dtype=torch.float64))"
      ]
     },
     "execution_count": 12,
     "metadata": {},
     "output_type": "execute_result"
    }
   ],
   "source": [
    "i = random.randint(0, len(dataset_train))\n",
    "i=30\n",
    "img = dataset_train[i][0]\n",
    "img.min(), img.max()"
   ]
  },
  {
   "cell_type": "code",
   "execution_count": 13,
   "id": "40a15748",
   "metadata": {
    "execution": {
     "iopub.execute_input": "2023-05-22T08:37:21.359843Z",
     "iopub.status.busy": "2023-05-22T08:37:21.359732Z",
     "iopub.status.idle": "2023-05-22T08:37:21.440020Z",
     "shell.execute_reply": "2023-05-22T08:37:21.439816Z"
    }
   },
   "outputs": [
    {
     "data": {
      "text/plain": [
       "<matplotlib.image.AxesImage at 0x7fd94d4c6a30>"
      ]
     },
     "execution_count": 13,
     "metadata": {},
     "output_type": "execute_result"
    },
    {
     "data": {
      "image/png": "[encoded data removed]",
      "text/plain": [
       "<Figure size 640x480 with 1 Axes>"
      ]
     },
     "metadata": {},
     "output_type": "display_data"
    }
   ],
   "source": [
    "img_2 = img.squeeze(0).permute(1, 2, 0).numpy()\n",
    "plt.imshow(img_2[:, :, 0], cmap=\"gray\")"
   ]
  },
  {
   "cell_type": "code",
   "execution_count": null,
   "id": "e07b120a",
   "metadata": {},
   "outputs": [],
   "source": []
  },
  {
   "cell_type": "code",
   "execution_count": null,
   "id": "a792af0c",
   "metadata": {},
   "outputs": [],
   "source": []
  },
  {
   "attachments": {},
   "cell_type": "markdown",
   "id": "cdcc7e0b",
   "metadata": {
    "papermill": {
     "duration": 0.008028,
     "end_time": "2023-04-08T10:12:11.688860",
     "exception": false,
     "start_time": "2023-04-08T10:12:11.680832",
     "status": "completed"
    },
    "tags": []
   },
   "source": [
    "### Model\n",
    "* Encoder is a 3D ResNet model. The architecture has been modified to remove temporal downsampling between blocks.\n",
    "* A 2D decoder is used for predicting the segmentation map.\n",
    "* The encoder feature maps are average pooled over the Z dimension before passing it to the decoder."
   ]
  },
  {
   "cell_type": "code",
   "execution_count": 14,
   "id": "ff7cc8a3",
   "metadata": {
    "execution": {
     "iopub.execute_input": "2023-05-22T08:37:21.441252Z",
     "iopub.status.busy": "2023-05-22T08:37:21.441178Z",
     "iopub.status.idle": "2023-05-22T08:37:21.445200Z",
     "shell.execute_reply": "2023-05-22T08:37:21.445013Z"
    },
    "papermill": {
     "duration": 0.023714,
     "end_time": "2023-04-08T10:12:11.721140",
     "exception": false,
     "start_time": "2023-04-08T10:12:11.697426",
     "status": "completed"
    },
    "tags": []
   },
   "outputs": [],
   "source": [
    "class Decoder(nn.Module):\n",
    "    def __init__(self, encoder_dims, upscale):\n",
    "        super().__init__()\n",
    "        self.convs = nn.ModuleList([\n",
    "            nn.Sequential(\n",
    "                nn.Conv2d(encoder_dims[i]+encoder_dims[i-1], encoder_dims[i-1], 3, 1, 1, bias=False),\n",
    "                nn.BatchNorm2d(encoder_dims[i-1]),\n",
    "                nn.ReLU(inplace=True)\n",
    "            ) for i in range(1, len(encoder_dims))])\n",
    "\n",
    "        self.logit = nn.Conv2d(encoder_dims[0], 1, 1, 1, 0)\n",
    "        self.up = nn.Upsample(scale_factor=upscale, mode=\"bilinear\")\n",
    "\n",
    "    def forward(self, feature_maps):\n",
    "        for i in range(len(feature_maps)-1, 0, -1):\n",
    "            f_up = F.interpolate(feature_maps[i], scale_factor=2, mode=\"bilinear\")\n",
    "            f = torch.cat([feature_maps[i-1], f_up], dim=1)\n",
    "            f_down = self.convs[i-1](f)\n",
    "            feature_maps[i-1] = f_down\n",
    "\n",
    "        x = self.logit(feature_maps[0])\n",
    "        mask = self.up(x)\n",
    "        return mask\n",
    "\n",
    "\n",
    "class SegModel(nn.Module):\n",
    "    def __init__(self):\n",
    "        super().__init__()\n",
    "        self.encoder = generate_model(model_depth=18, n_input_channels=1)\n",
    "        self.decoder = Decoder(encoder_dims=[64, 128, 256, 512], upscale=1)\n",
    "        \n",
    "    def forward(self, x):\n",
    "        feat_maps = self.encoder(x)\n",
    "        feat_maps_pooled = [torch.mean(f, dim=2) for f in feat_maps]\n",
    "        pred_mask = self.decoder(feat_maps_pooled)\n",
    "        pred_mask = F.interpolate(pred_mask, size=(256, 256), mode='nearest')\n",
    "        return pred_mask\n",
    "    \n",
    "    def load_pretrained_weights(self, state_dict):\n",
    "        # Convert 3 channel weights to single channel\n",
    "        # ref - https://timm.fast.ai/models#Case-1:-When-the-number-of-input-channels-is-1\n",
    "        conv1_weight = state_dict['conv1.weight']\n",
    "        state_dict['conv1.weight'] = conv1_weight.sum(dim=1, keepdim=True)\n",
    "        print(self.encoder.load_state_dict(state_dict, strict=False))"
   ]
  },
  {
   "cell_type": "code",
   "execution_count": 15,
   "id": "67e4a0f1",
   "metadata": {
    "execution": {
     "iopub.execute_input": "2023-05-22T08:37:21.446358Z",
     "iopub.status.busy": "2023-05-22T08:37:21.446209Z",
     "iopub.status.idle": "2023-05-22T08:37:22.367410Z",
     "shell.execute_reply": "2023-05-22T08:37:22.366912Z"
    },
    "papermill": {
     "duration": 3.891528,
     "end_time": "2023-04-08T10:12:15.621016",
     "exception": false,
     "start_time": "2023-04-08T10:12:11.729488",
     "status": "completed"
    },
    "tags": []
   },
   "outputs": [
    {
     "name": "stdout",
     "output_type": "stream",
     "text": [
      "_IncompatibleKeys(missing_keys=[], unexpected_keys=['fc.weight', 'fc.bias'])\n"
     ]
    }
   ],
   "source": [
    "model = SegModel()\n",
    "model.load_pretrained_weights(torch.load(\"/home/viktor/Documents/kaggle/vesuvius-challenge/experiments/3D-resnet/r3d18_K_200ep.pth\")[\"state_dict\"])\n",
    "model = nn.DataParallel(model, device_ids=[0])\n",
    "\n",
    "model = model.cuda()"
   ]
  },
  {
   "cell_type": "code",
   "execution_count": 16,
   "id": "491e9288",
   "metadata": {
    "execution": {
     "iopub.execute_input": "2023-05-22T08:37:22.368896Z",
     "iopub.status.busy": "2023-05-22T08:37:22.368813Z",
     "iopub.status.idle": "2023-05-22T08:37:23.227022Z",
     "shell.execute_reply": "2023-05-22T08:37:23.226700Z"
    }
   },
   "outputs": [
    {
     "data": {
      "text/plain": [
       "torch.Size([5, 1, 256, 256])"
      ]
     },
     "execution_count": 16,
     "metadata": {},
     "output_type": "execute_result"
    }
   ],
   "source": [
    "x = torch.randn(5, 1, 16, 256, 256).cuda()\n",
    "with torch.no_grad():\n",
    "    y = model(x)\n",
    "y.shape"
   ]
  },
  {
   "attachments": {},
   "cell_type": "markdown",
   "id": "d84d7c0e",
   "metadata": {
    "papermill": {
     "duration": 0.008816,
     "end_time": "2023-04-08T10:12:15.638951",
     "exception": false,
     "start_time": "2023-04-08T10:12:15.630135",
     "status": "completed"
    },
    "tags": []
   },
   "source": [
    "### Competition metric (F0.5 Score)"
   ]
  },
  {
   "cell_type": "code",
   "execution_count": 17,
   "id": "61dbeb5c",
   "metadata": {
    "execution": {
     "iopub.execute_input": "2023-05-22T08:37:23.228319Z",
     "iopub.status.busy": "2023-05-22T08:37:23.228226Z",
     "iopub.status.idle": "2023-05-22T08:37:23.230559Z",
     "shell.execute_reply": "2023-05-22T08:37:23.230358Z"
    },
    "papermill": {
     "duration": 0.020268,
     "end_time": "2023-04-08T10:12:15.668008",
     "exception": false,
     "start_time": "2023-04-08T10:12:15.647740",
     "status": "completed"
    },
    "tags": []
   },
   "outputs": [],
   "source": [
    "# ref - https://www.kaggle.com/competitions/vesuvius-challenge-ink-detection/discussion/397288\n",
    "def fbeta_score(preds, targets, threshold, beta=0.5, smooth=1e-5):\n",
    "    preds_t = torch.where(preds > threshold, 1.0, 0.0).float()\n",
    "    y_true_count = targets.sum()\n",
    "    \n",
    "    ctp = preds_t[targets==1].sum()\n",
    "    cfp = preds_t[targets==0].sum()\n",
    "    beta_squared = beta * beta\n",
    "\n",
    "    c_precision = ctp / (ctp + cfp + smooth)\n",
    "    c_recall = ctp / (y_true_count + smooth)\n",
    "    dice = (1 + beta_squared) * (c_precision * c_recall) / (beta_squared * c_precision + c_recall + smooth)\n",
    "\n",
    "    return dice"
   ]
  },
  {
   "attachments": {},
   "cell_type": "markdown",
   "id": "639c9148",
   "metadata": {
    "papermill": {
     "duration": 0.008498,
     "end_time": "2023-04-08T10:12:15.685205",
     "exception": false,
     "start_time": "2023-04-08T10:12:15.676707",
     "status": "completed"
    },
    "tags": []
   },
   "source": [
    "### Training"
   ]
  },
  {
   "cell_type": "code",
   "execution_count": 18,
   "id": "0cca2e6e",
   "metadata": {
    "execution": {
     "iopub.execute_input": "2023-05-22T08:37:23.231726Z",
     "iopub.status.busy": "2023-05-22T08:37:23.231573Z",
     "iopub.status.idle": "2023-05-22T08:37:23.233561Z",
     "shell.execute_reply": "2023-05-22T08:37:23.233353Z"
    },
    "papermill": {
     "duration": 0.019067,
     "end_time": "2023-04-08T10:12:15.713237",
     "exception": false,
     "start_time": "2023-04-08T10:12:15.694170",
     "status": "completed"
    },
    "tags": []
   },
   "outputs": [],
   "source": [
    "scaler = amp.GradScaler()\n",
    "criterion = nn.BCEWithLogitsLoss()\n",
    "optimizer = torch.optim.AdamW(model.parameters(), lr=LR)\n",
    "scheduler = torch.optim.lr_scheduler.OneCycleLR(optimizer, max_lr=LR,\n",
    "                                                steps_per_epoch=10, epochs=EPOCHS//10,\n",
    "                                                pct_start=0.1)"
   ]
  },
  {
   "cell_type": "code",
   "execution_count": 19,
   "id": "7304e1fd",
   "metadata": {
    "execution": {
     "iopub.execute_input": "2023-05-22T08:37:23.234633Z",
     "iopub.status.busy": "2023-05-22T08:37:23.234519Z",
     "iopub.status.idle": "2023-05-22T08:37:23.271968Z",
     "shell.execute_reply": "2023-05-22T08:37:23.271694Z"
    },
    "papermill": {
     "duration": 0.385175,
     "end_time": "2023-04-08T10:12:16.107159",
     "exception": false,
     "start_time": "2023-04-08T10:12:15.721984",
     "status": "completed"
    },
    "tags": []
   },
   "outputs": [],
   "source": [
    "gt_mask = torch.from_numpy(np.asarray(FRAGMENTS_ZARR[TEST_FRAGMENT].truth)).float().cuda()\n",
    "gt_shape = FRAGMENTS_SHAPE[TEST_FRAGMENT]"
   ]
  },
  {
   "cell_type": "code",
   "execution_count": 20,
   "id": "c0b85bf1",
   "metadata": {
    "execution": {
     "iopub.execute_input": "2023-05-22T08:37:23.273430Z",
     "iopub.status.busy": "2023-05-22T08:37:23.273340Z",
     "iopub.status.idle": "2023-05-22T08:37:23.275082Z",
     "shell.execute_reply": "2023-05-22T08:37:23.274888Z"
    }
   },
   "outputs": [],
   "source": [
    "import logging\n",
    "\n",
    "logging.basicConfig(filename=\"training_log.txt\", level=logging.INFO)\n"
   ]
  },
  {
   "cell_type": "code",
   "execution_count": 21,
   "id": "00067c9c",
   "metadata": {
    "execution": {
     "iopub.execute_input": "2023-05-22T08:37:23.276192Z",
     "iopub.status.busy": "2023-05-22T08:37:23.276097Z",
     "iopub.status.idle": "2023-05-22T09:13:30.702549Z",
     "shell.execute_reply": "2023-05-22T09:13:30.702153Z"
    },
    "papermill": {
     "duration": 4077.588277,
     "end_time": "2023-04-08T11:20:13.706513",
     "exception": false,
     "start_time": "2023-04-08T10:12:16.118236",
     "status": "completed"
    },
    "tags": []
   },
   "outputs": [
    {
     "name": "stderr",
     "output_type": "stream",
     "text": [
      "Epoch 1/50  Mem : 14.1GB  LR : 4.00E-06  Loss: 0.6818: 100%|██████████| 62/62 [00:37<00:00,  1.66it/s]                                                                                                                                                                           \n",
      "Val Loss: 0.6695: 100%|██████████| 24/24 [00:05<00:00,  4.01it/s]                                                                                                                                                                                                                \n"
     ]
    },
    {
     "name": "stdout",
     "output_type": "stream",
     "text": [
      "Threshold : 0.20\tFBeta : 0.133341\n",
      "Threshold : 0.25\tFBeta : 0.134545\n",
      "Threshold : 0.30\tFBeta : 0.136953\n",
      "Threshold : 0.35\tFBeta : 0.142315\n",
      "Threshold : 0.40\tFBeta : 0.151492\n",
      "Threshold : 0.45\tFBeta : 0.158142\n",
      "Threshold : 0.50\tFBeta : 0.135688\n",
      "Threshold : 0.55\tFBeta : 0.061613\n",
      "Threshold : 0.60\tFBeta : 0.015546\n",
      "Threshold : 0.65\tFBeta : 0.004935\n",
      "Threshold : 0.70\tFBeta : 0.000015\n",
      "Threshold : 0.75\tFBeta : 0.000000\n",
      "Threshold : 0.80\tFBeta : 0.000000\n",
      "\n"
     ]
    },
    {
     "name": "stderr",
     "output_type": "stream",
     "text": [
      "Epoch 2/50  Mem : 18.6GB  LR : 1.81E-05  Loss: 0.5812: 100%|██████████| 62/62 [00:37<00:00,  1.66it/s]                                                                                                                                                                           \n",
      "Val Loss: 0.4527: 100%|██████████| 24/24 [00:06<00:00,  3.96it/s]                                                                                                                                                                                                                \n"
     ]
    },
    {
     "name": "stdout",
     "output_type": "stream",
     "text": [
      "Threshold : 0.20\tFBeta : 0.143884\n",
      "Threshold : 0.25\tFBeta : 0.172535\n",
      "Threshold : 0.30\tFBeta : 0.213017\n",
      "Threshold : 0.35\tFBeta : 0.238512\n",
      "Threshold : 0.40\tFBeta : 0.278131\n",
      "Threshold : 0.45\tFBeta : 0.327778\n",
      "Threshold : 0.50\tFBeta : 0.312422\n",
      "Threshold : 0.55\tFBeta : 0.159002\n",
      "Threshold : 0.60\tFBeta : 0.007712\n",
      "Threshold : 0.65\tFBeta : 0.000000\n",
      "Threshold : 0.70\tFBeta : 0.000000\n",
      "Threshold : 0.75\tFBeta : 0.000000\n",
      "Threshold : 0.80\tFBeta : 0.000000\n",
      "\n"
     ]
    },
    {
     "name": "stderr",
     "output_type": "stream",
     "text": [
      "Epoch 3/50  Mem : 18.6GB  LR : 5.20E-05  Loss: 0.5245: 100%|██████████| 62/62 [00:36<00:00,  1.68it/s]                                                                                                                                                                           \n",
      "Val Loss: 0.4449: 100%|██████████| 24/24 [00:05<00:00,  4.02it/s]                                                                                                                                                                                                                "
     ]
    },
    {
     "name": "stdout",
     "output_type": "stream",
     "text": [
      "Threshold : 0.20\tFBeta : 0.159796\n",
      "Threshold : 0.25\tFBeta : 0.194229\n",
      "Threshold : 0.30\tFBeta : 0.214331\n",
      "Threshold : 0.35\tFBeta : 0.236513\n",
      "Threshold : 0.40\tFBeta : 0.276103\n",
      "Threshold : 0.45\tFBeta : 0.293456\n",
      "Threshold : 0.50\tFBeta : 0.277949\n",
      "Threshold : 0.55\tFBeta : 0.173407\n",
      "Threshold : 0.60\tFBeta : 0.001788\n",
      "Threshold : 0.65\tFBeta : 0.000000\n",
      "Threshold : 0.70\tFBeta : 0.000000\n",
      "Threshold : 0.75\tFBeta : 0.000000\n",
      "Threshold : 0.80\tFBeta : 0.000000\n",
      "\n"
     ]
    },
    {
     "name": "stderr",
     "output_type": "stream",
     "text": [
      "\n",
      "Epoch 4/50  Mem : 18.6GB  LR : 8.59E-05  Loss: 0.4782: 100%|██████████| 62/62 [00:37<00:00,  1.66it/s]                                                                                                                                                                           \n",
      "Val Loss: 0.5256: 100%|██████████| 24/24 [00:05<00:00,  4.02it/s]                                                                                                                                                                                                                "
     ]
    },
    {
     "name": "stdout",
     "output_type": "stream",
     "text": [
      "Threshold : 0.20\tFBeta : 0.181236\n",
      "Threshold : 0.25\tFBeta : 0.200319\n",
      "Threshold : 0.30\tFBeta : 0.225131\n",
      "Threshold : 0.35\tFBeta : 0.244494\n",
      "Threshold : 0.40\tFBeta : 0.259601\n",
      "Threshold : 0.45\tFBeta : 0.270221\n",
      "Threshold : 0.50\tFBeta : 0.277051\n",
      "Threshold : 0.55\tFBeta : 0.283894\n",
      "Threshold : 0.60\tFBeta : 0.287173\n",
      "Threshold : 0.65\tFBeta : 0.251486\n",
      "Threshold : 0.70\tFBeta : 0.144492\n",
      "Threshold : 0.75\tFBeta : 0.034190\n",
      "Threshold : 0.80\tFBeta : 0.000137\n",
      "\n"
     ]
    },
    {
     "name": "stderr",
     "output_type": "stream",
     "text": [
      "\n",
      "Epoch 5/50  Mem : 18.6GB  LR : 1.00E-04  Loss: 0.4424: 100%|██████████| 62/62 [00:36<00:00,  1.69it/s]                                                                                                                                                                           \n",
      "Val Loss: 0.3394: 100%|██████████| 24/24 [00:06<00:00,  3.96it/s]                                                                                                                                                                                                                "
     ]
    },
    {
     "name": "stdout",
     "output_type": "stream",
     "text": [
      "Threshold : 0.20\tFBeta : 0.227842\n",
      "Threshold : 0.25\tFBeta : 0.234672\n",
      "Threshold : 0.30\tFBeta : 0.115668\n",
      "Threshold : 0.35\tFBeta : 0.046820\n",
      "Threshold : 0.40\tFBeta : 0.016246\n",
      "Threshold : 0.45\tFBeta : 0.005711\n",
      "Threshold : 0.50\tFBeta : 0.001402\n",
      "Threshold : 0.55\tFBeta : 0.000066\n",
      "Threshold : 0.60\tFBeta : 0.000000\n",
      "Threshold : 0.65\tFBeta : 0.000000\n",
      "Threshold : 0.70\tFBeta : 0.000000\n",
      "Threshold : 0.75\tFBeta : 0.000000\n",
      "Threshold : 0.80\tFBeta : 0.000000\n",
      "\n"
     ]
    },
    {
     "name": "stderr",
     "output_type": "stream",
     "text": [
      "\n",
      "Epoch 6/50  Mem : 18.6GB  LR : 9.99E-05  Loss: 0.4255: 100%|██████████| 62/62 [00:37<00:00,  1.67it/s]                                                                                                                                                                           \n",
      "Val Loss: 0.3105: 100%|██████████| 24/24 [00:05<00:00,  4.02it/s]                                                                                                                                                                                                                "
     ]
    },
    {
     "name": "stdout",
     "output_type": "stream",
     "text": [
      "Threshold : 0.20\tFBeta : 0.240315\n",
      "Threshold : 0.25\tFBeta : 0.292120\n",
      "Threshold : 0.30\tFBeta : 0.292097\n",
      "Threshold : 0.35\tFBeta : 0.250694\n",
      "Threshold : 0.40\tFBeta : 0.194255\n",
      "Threshold : 0.45\tFBeta : 0.148057\n",
      "Threshold : 0.50\tFBeta : 0.108634\n",
      "Threshold : 0.55\tFBeta : 0.061803\n",
      "Threshold : 0.60\tFBeta : 0.026963\n",
      "Threshold : 0.65\tFBeta : 0.011523\n",
      "Threshold : 0.70\tFBeta : 0.003008\n",
      "Threshold : 0.75\tFBeta : 0.000000\n",
      "Threshold : 0.80\tFBeta : 0.000000\n",
      "\n"
     ]
    },
    {
     "name": "stderr",
     "output_type": "stream",
     "text": [
      "\n",
      "Epoch 7/50  Mem : 18.6GB  LR : 9.95E-05  Loss: 0.4060: 100%|██████████| 62/62 [00:36<00:00,  1.70it/s]                                                                                                                                                                           \n",
      "Val Loss: 0.3197: 100%|██████████| 24/24 [00:05<00:00,  4.06it/s]                                                                                                                                                                                                                \n"
     ]
    },
    {
     "name": "stdout",
     "output_type": "stream",
     "text": [
      "Threshold : 0.20\tFBeta : 0.296291\n",
      "Threshold : 0.25\tFBeta : 0.400718\n",
      "Threshold : 0.30\tFBeta : 0.361767\n",
      "Threshold : 0.35\tFBeta : 0.298850\n",
      "Threshold : 0.40\tFBeta : 0.235909\n",
      "Threshold : 0.45\tFBeta : 0.188839\n",
      "Threshold : 0.50\tFBeta : 0.146980\n",
      "Threshold : 0.55\tFBeta : 0.103636\n",
      "Threshold : 0.60\tFBeta : 0.053273\n",
      "Threshold : 0.65\tFBeta : 0.026683\n",
      "Threshold : 0.70\tFBeta : 0.008082\n",
      "Threshold : 0.75\tFBeta : 0.003580\n",
      "Threshold : 0.80\tFBeta : 0.001242\n",
      "\n"
     ]
    },
    {
     "name": "stderr",
     "output_type": "stream",
     "text": [
      "Epoch 8/50  Mem : 18.6GB  LR : 9.89E-05  Loss: 0.3799: 100%|██████████| 62/62 [00:37<00:00,  1.65it/s]                                                                                                                                                                           \n",
      "Val Loss: 0.2915: 100%|██████████| 24/24 [00:05<00:00,  4.01it/s]                                                                                                                                                                                                                "
     ]
    },
    {
     "name": "stdout",
     "output_type": "stream",
     "text": [
      "Threshold : 0.20\tFBeta : 0.387116\n",
      "Threshold : 0.25\tFBeta : 0.377653\n",
      "Threshold : 0.30\tFBeta : 0.323129\n",
      "Threshold : 0.35\tFBeta : 0.260777\n",
      "Threshold : 0.40\tFBeta : 0.220870\n",
      "Threshold : 0.45\tFBeta : 0.186740\n",
      "Threshold : 0.50\tFBeta : 0.149344\n",
      "Threshold : 0.55\tFBeta : 0.097928\n",
      "Threshold : 0.60\tFBeta : 0.049209\n",
      "Threshold : 0.65\tFBeta : 0.019561\n",
      "Threshold : 0.70\tFBeta : 0.008807\n",
      "Threshold : 0.75\tFBeta : 0.001077\n",
      "Threshold : 0.80\tFBeta : 0.000000\n",
      "\n"
     ]
    },
    {
     "name": "stderr",
     "output_type": "stream",
     "text": [
      "\n",
      "Epoch 9/50  Mem : 18.6GB  LR : 9.81E-05  Loss: 0.3680: 100%|██████████| 62/62 [00:37<00:00,  1.66it/s]                                                                                                                                                                           \n",
      "Val Loss: 0.7693: 100%|██████████| 24/24 [00:05<00:00,  4.01it/s]                                                                                                                                                                                                                "
     ]
    },
    {
     "name": "stdout",
     "output_type": "stream",
     "text": [
      "Threshold : 0.20\tFBeta : 0.037536\n",
      "Threshold : 0.25\tFBeta : 0.016101\n",
      "Threshold : 0.30\tFBeta : 0.011193\n",
      "Threshold : 0.35\tFBeta : 0.006629\n",
      "Threshold : 0.40\tFBeta : 0.004438\n",
      "Threshold : 0.45\tFBeta : 0.003472\n",
      "Threshold : 0.50\tFBeta : 0.002624\n",
      "Threshold : 0.55\tFBeta : 0.001551\n",
      "Threshold : 0.60\tFBeta : 0.000484\n",
      "Threshold : 0.65\tFBeta : 0.000003\n",
      "Threshold : 0.70\tFBeta : 0.000000\n",
      "Threshold : 0.75\tFBeta : 0.000000\n",
      "Threshold : 0.80\tFBeta : 0.000000\n",
      "\n"
     ]
    },
    {
     "name": "stderr",
     "output_type": "stream",
     "text": [
      "\n",
      "Epoch 10/50  Mem : 18.6GB  LR : 9.70E-05  Loss: 0.3637: 100%|██████████| 62/62 [00:37<00:00,  1.65it/s]                                                                                                                                                                          \n",
      "Val Loss: 0.2999: 100%|██████████| 24/24 [00:05<00:00,  4.06it/s]                                                                                                                                                                                                                \n"
     ]
    },
    {
     "name": "stdout",
     "output_type": "stream",
     "text": [
      "Threshold : 0.20\tFBeta : 0.284137\n",
      "Threshold : 0.25\tFBeta : 0.220152\n",
      "Threshold : 0.30\tFBeta : 0.165118\n",
      "Threshold : 0.35\tFBeta : 0.112366\n",
      "Threshold : 0.40\tFBeta : 0.081294\n",
      "Threshold : 0.45\tFBeta : 0.060136\n",
      "Threshold : 0.50\tFBeta : 0.042847\n",
      "Threshold : 0.55\tFBeta : 0.024603\n",
      "Threshold : 0.60\tFBeta : 0.011182\n",
      "Threshold : 0.65\tFBeta : 0.002736\n",
      "Threshold : 0.70\tFBeta : 0.000000\n",
      "Threshold : 0.75\tFBeta : 0.000000\n",
      "Threshold : 0.80\tFBeta : 0.000000\n",
      "\n"
     ]
    },
    {
     "name": "stderr",
     "output_type": "stream",
     "text": [
      "Epoch 11/50  Mem : 18.6GB  LR : 9.57E-05  Loss: 0.3519: 100%|██████████| 62/62 [00:37<00:00,  1.65it/s]                                                                                                                                                                          \n",
      "Val Loss: 0.2956: 100%|██████████| 24/24 [00:05<00:00,  4.05it/s]                                                                                                                                                                                                                \n"
     ]
    },
    {
     "name": "stdout",
     "output_type": "stream",
     "text": [
      "Threshold : 0.20\tFBeta : 0.313994\n",
      "Threshold : 0.25\tFBeta : 0.343681\n",
      "Threshold : 0.30\tFBeta : 0.372289\n",
      "Threshold : 0.35\tFBeta : 0.398654\n",
      "Threshold : 0.40\tFBeta : 0.416049\n",
      "Threshold : 0.45\tFBeta : 0.431184\n",
      "Threshold : 0.50\tFBeta : 0.452845\n",
      "Threshold : 0.55\tFBeta : 0.469381\n",
      "Threshold : 0.60\tFBeta : 0.484545\n",
      "Threshold : 0.65\tFBeta : 0.493182\n",
      "Threshold : 0.70\tFBeta : 0.489865\n",
      "Threshold : 0.75\tFBeta : 0.472383\n",
      "Threshold : 0.80\tFBeta : 0.437589\n",
      "\n"
     ]
    },
    {
     "name": "stderr",
     "output_type": "stream",
     "text": [
      "Epoch 12/50  Mem : 18.6GB  LR : 9.41E-05  Loss: 0.3448: 100%|██████████| 62/62 [00:37<00:00,  1.67it/s]                                                                                                                                                                          \n",
      "Val Loss: 0.2600: 100%|██████████| 24/24 [00:06<00:00,  4.00it/s]                                                                                                                                                                                                                \n"
     ]
    },
    {
     "name": "stdout",
     "output_type": "stream",
     "text": [
      "Threshold : 0.20\tFBeta : 0.414243\n",
      "Threshold : 0.25\tFBeta : 0.441342\n",
      "Threshold : 0.30\tFBeta : 0.461275\n",
      "Threshold : 0.35\tFBeta : 0.479024\n",
      "Threshold : 0.40\tFBeta : 0.490639\n",
      "Threshold : 0.45\tFBeta : 0.492312\n",
      "Threshold : 0.50\tFBeta : 0.466065\n",
      "Threshold : 0.55\tFBeta : 0.418395\n",
      "Threshold : 0.60\tFBeta : 0.360345\n",
      "Threshold : 0.65\tFBeta : 0.291570\n",
      "Threshold : 0.70\tFBeta : 0.224436\n",
      "Threshold : 0.75\tFBeta : 0.156600\n",
      "Threshold : 0.80\tFBeta : 0.087438\n",
      "\n"
     ]
    },
    {
     "name": "stderr",
     "output_type": "stream",
     "text": [
      "Epoch 13/50  Mem : 18.6GB  LR : 9.24E-05  Loss: 0.3337: 100%|██████████| 62/62 [00:36<00:00,  1.69it/s]                                                                                                                                                                          \n",
      "Val Loss: 0.3002: 100%|██████████| 24/24 [00:05<00:00,  4.05it/s]                                                                                                                                                                                                                \n"
     ]
    },
    {
     "name": "stdout",
     "output_type": "stream",
     "text": [
      "Threshold : 0.20\tFBeta : 0.338706\n",
      "Threshold : 0.25\tFBeta : 0.274799\n",
      "Threshold : 0.30\tFBeta : 0.215202\n",
      "Threshold : 0.35\tFBeta : 0.164267\n",
      "Threshold : 0.40\tFBeta : 0.125394\n",
      "Threshold : 0.45\tFBeta : 0.090375\n",
      "Threshold : 0.50\tFBeta : 0.060181\n",
      "Threshold : 0.55\tFBeta : 0.039196\n",
      "Threshold : 0.60\tFBeta : 0.021779\n",
      "Threshold : 0.65\tFBeta : 0.010872\n",
      "Threshold : 0.70\tFBeta : 0.003645\n",
      "Threshold : 0.75\tFBeta : 0.000000\n",
      "Threshold : 0.80\tFBeta : 0.000000\n",
      "\n"
     ]
    },
    {
     "name": "stderr",
     "output_type": "stream",
     "text": [
      "Epoch 14/50  Mem : 18.6GB  LR : 9.05E-05  Loss: 0.3293: 100%|██████████| 62/62 [00:37<00:00,  1.67it/s]                                                                                                                                                                          \n",
      "Val Loss: 0.2451: 100%|██████████| 24/24 [00:05<00:00,  4.04it/s]                                                                                                                                                                                                                \n"
     ]
    },
    {
     "name": "stdout",
     "output_type": "stream",
     "text": [
      "Threshold : 0.20\tFBeta : 0.458748\n",
      "Threshold : 0.25\tFBeta : 0.477161\n",
      "Threshold : 0.30\tFBeta : 0.482417\n",
      "Threshold : 0.35\tFBeta : 0.483725\n",
      "Threshold : 0.40\tFBeta : 0.487802\n",
      "Threshold : 0.45\tFBeta : 0.487943\n",
      "Threshold : 0.50\tFBeta : 0.469965\n",
      "Threshold : 0.55\tFBeta : 0.439619\n",
      "Threshold : 0.60\tFBeta : 0.398778\n",
      "Threshold : 0.65\tFBeta : 0.350183\n",
      "Threshold : 0.70\tFBeta : 0.291566\n",
      "Threshold : 0.75\tFBeta : 0.226189\n",
      "Threshold : 0.80\tFBeta : 0.159112\n",
      "\n"
     ]
    },
    {
     "name": "stderr",
     "output_type": "stream",
     "text": [
      "Epoch 15/50  Mem : 18.6GB  LR : 8.83E-05  Loss: 0.3233: 100%|██████████| 62/62 [00:37<00:00,  1.65it/s]                                                                                                                                                                          \n",
      "Val Loss: 0.2847: 100%|██████████| 24/24 [00:05<00:00,  4.05it/s]                                                                                                                                                                                                                \n"
     ]
    },
    {
     "name": "stdout",
     "output_type": "stream",
     "text": [
      "Threshold : 0.20\tFBeta : 0.350123\n",
      "Threshold : 0.25\tFBeta : 0.366471\n",
      "Threshold : 0.30\tFBeta : 0.379987\n",
      "Threshold : 0.35\tFBeta : 0.392755\n",
      "Threshold : 0.40\tFBeta : 0.404596\n",
      "Threshold : 0.45\tFBeta : 0.415759\n",
      "Threshold : 0.50\tFBeta : 0.433676\n",
      "Threshold : 0.55\tFBeta : 0.445429\n",
      "Threshold : 0.60\tFBeta : 0.454981\n",
      "Threshold : 0.65\tFBeta : 0.461457\n",
      "Threshold : 0.70\tFBeta : 0.460598\n",
      "Threshold : 0.75\tFBeta : 0.451579\n",
      "Threshold : 0.80\tFBeta : 0.433138\n",
      "\n"
     ]
    },
    {
     "name": "stderr",
     "output_type": "stream",
     "text": [
      "Epoch 16/50  Mem : 18.6GB  LR : 8.60E-05  Loss: 0.3181: 100%|██████████| 62/62 [00:36<00:00,  1.68it/s]                                                                                                                                                                          \n",
      "Val Loss: 0.4911: 100%|██████████| 24/24 [00:06<00:00,  3.95it/s]                                                                                                                                                                                                                \n"
     ]
    },
    {
     "name": "stdout",
     "output_type": "stream",
     "text": [
      "Threshold : 0.20\tFBeta : 0.247910\n",
      "Threshold : 0.25\tFBeta : 0.253406\n",
      "Threshold : 0.30\tFBeta : 0.258916\n",
      "Threshold : 0.35\tFBeta : 0.265895\n",
      "Threshold : 0.40\tFBeta : 0.273500\n",
      "Threshold : 0.45\tFBeta : 0.283975\n",
      "Threshold : 0.50\tFBeta : 0.297443\n",
      "Threshold : 0.55\tFBeta : 0.310285\n",
      "Threshold : 0.60\tFBeta : 0.325303\n",
      "Threshold : 0.65\tFBeta : 0.339283\n",
      "Threshold : 0.70\tFBeta : 0.350788\n",
      "Threshold : 0.75\tFBeta : 0.359497\n",
      "Threshold : 0.80\tFBeta : 0.364634\n",
      "\n"
     ]
    },
    {
     "name": "stderr",
     "output_type": "stream",
     "text": [
      "Epoch 17/50  Mem : 18.6GB  LR : 8.35E-05  Loss: 0.3107: 100%|██████████| 62/62 [00:37<00:00,  1.65it/s]                                                                                                                                                                          \n",
      "Val Loss: 0.2614: 100%|██████████| 24/24 [00:05<00:00,  4.05it/s]                                                                                                                                                                                                                \n"
     ]
    },
    {
     "name": "stdout",
     "output_type": "stream",
     "text": [
      "Threshold : 0.20\tFBeta : 0.383217\n",
      "Threshold : 0.25\tFBeta : 0.408686\n",
      "Threshold : 0.30\tFBeta : 0.435044\n",
      "Threshold : 0.35\tFBeta : 0.451655\n",
      "Threshold : 0.40\tFBeta : 0.458558\n",
      "Threshold : 0.45\tFBeta : 0.464684\n",
      "Threshold : 0.50\tFBeta : 0.469239\n",
      "Threshold : 0.55\tFBeta : 0.466464\n",
      "Threshold : 0.60\tFBeta : 0.455852\n",
      "Threshold : 0.65\tFBeta : 0.431696\n",
      "Threshold : 0.70\tFBeta : 0.392199\n",
      "Threshold : 0.75\tFBeta : 0.336769\n",
      "Threshold : 0.80\tFBeta : 0.269415\n",
      "\n"
     ]
    },
    {
     "name": "stderr",
     "output_type": "stream",
     "text": [
      "Epoch 18/50  Mem : 18.6GB  LR : 8.08E-05  Loss: 0.3054: 100%|██████████| 62/62 [00:37<00:00,  1.67it/s]                                                                                                                                                                          \n",
      "Val Loss: 0.2563: 100%|██████████| 24/24 [00:05<00:00,  4.05it/s]                                                                                                                                                                                                                \n"
     ]
    },
    {
     "name": "stdout",
     "output_type": "stream",
     "text": [
      "Threshold : 0.20\tFBeta : 0.379132\n",
      "Threshold : 0.25\tFBeta : 0.395013\n",
      "Threshold : 0.30\tFBeta : 0.408438\n",
      "Threshold : 0.35\tFBeta : 0.415869\n",
      "Threshold : 0.40\tFBeta : 0.420314\n",
      "Threshold : 0.45\tFBeta : 0.423567\n",
      "Threshold : 0.50\tFBeta : 0.427998\n",
      "Threshold : 0.55\tFBeta : 0.427514\n",
      "Threshold : 0.60\tFBeta : 0.418134\n",
      "Threshold : 0.65\tFBeta : 0.394338\n",
      "Threshold : 0.70\tFBeta : 0.347656\n",
      "Threshold : 0.75\tFBeta : 0.279927\n",
      "Threshold : 0.80\tFBeta : 0.186559\n",
      "\n"
     ]
    },
    {
     "name": "stderr",
     "output_type": "stream",
     "text": [
      "Epoch 19/50  Mem : 18.6GB  LR : 7.80E-05  Loss: 0.3070: 100%|██████████| 62/62 [00:36<00:00,  1.69it/s]                                                                                                                                                                          \n",
      "Val Loss: 0.3246: 100%|██████████| 24/24 [00:05<00:00,  4.06it/s]                                                                                                                                                                                                                \n"
     ]
    },
    {
     "name": "stdout",
     "output_type": "stream",
     "text": [
      "Threshold : 0.20\tFBeta : 0.290222\n",
      "Threshold : 0.25\tFBeta : 0.302144\n",
      "Threshold : 0.30\tFBeta : 0.320920\n",
      "Threshold : 0.35\tFBeta : 0.339230\n",
      "Threshold : 0.40\tFBeta : 0.357038\n",
      "Threshold : 0.45\tFBeta : 0.376465\n",
      "Threshold : 0.50\tFBeta : 0.398764\n",
      "Threshold : 0.55\tFBeta : 0.417557\n",
      "Threshold : 0.60\tFBeta : 0.434876\n",
      "Threshold : 0.65\tFBeta : 0.453437\n",
      "Threshold : 0.70\tFBeta : 0.467286\n",
      "Threshold : 0.75\tFBeta : 0.473229\n",
      "Threshold : 0.80\tFBeta : 0.465647\n",
      "\n"
     ]
    },
    {
     "name": "stderr",
     "output_type": "stream",
     "text": [
      "Epoch 20/50  Mem : 18.6GB  LR : 7.50E-05  Loss: 0.2935: 100%|██████████| 62/62 [00:36<00:00,  1.69it/s]                                                                                                                                                                          \n",
      "Val Loss: 0.2599: 100%|██████████| 24/24 [00:05<00:00,  4.05it/s]                                                                                                                                                                                                                \n"
     ]
    },
    {
     "name": "stdout",
     "output_type": "stream",
     "text": [
      "Threshold : 0.20\tFBeta : 0.475141\n",
      "Threshold : 0.25\tFBeta : 0.483042\n",
      "Threshold : 0.30\tFBeta : 0.483913\n",
      "Threshold : 0.35\tFBeta : 0.483373\n",
      "Threshold : 0.40\tFBeta : 0.480960\n",
      "Threshold : 0.45\tFBeta : 0.479109\n",
      "Threshold : 0.50\tFBeta : 0.468151\n",
      "Threshold : 0.55\tFBeta : 0.446737\n",
      "Threshold : 0.60\tFBeta : 0.420419\n",
      "Threshold : 0.65\tFBeta : 0.387927\n",
      "Threshold : 0.70\tFBeta : 0.345235\n",
      "Threshold : 0.75\tFBeta : 0.300774\n",
      "Threshold : 0.80\tFBeta : 0.237088\n",
      "\n"
     ]
    },
    {
     "name": "stderr",
     "output_type": "stream",
     "text": [
      "Epoch 21/50  Mem : 18.6GB  LR : 7.19E-05  Loss: 0.2922: 100%|██████████| 62/62 [00:36<00:00,  1.68it/s]                                                                                                                                                                          \n",
      "Val Loss: 0.2607: 100%|██████████| 24/24 [00:05<00:00,  4.04it/s]                                                                                                                                                                                                                \n"
     ]
    },
    {
     "name": "stdout",
     "output_type": "stream",
     "text": [
      "Threshold : 0.20\tFBeta : 0.448377\n",
      "Threshold : 0.25\tFBeta : 0.501019\n",
      "Threshold : 0.30\tFBeta : 0.543432\n",
      "Threshold : 0.35\tFBeta : 0.548932\n",
      "Threshold : 0.40\tFBeta : 0.544329\n",
      "Threshold : 0.45\tFBeta : 0.533839\n",
      "Threshold : 0.50\tFBeta : 0.497596\n",
      "Threshold : 0.55\tFBeta : 0.453368\n",
      "Threshold : 0.60\tFBeta : 0.400191\n",
      "Threshold : 0.65\tFBeta : 0.341095\n",
      "Threshold : 0.70\tFBeta : 0.284049\n",
      "Threshold : 0.75\tFBeta : 0.225065\n",
      "Threshold : 0.80\tFBeta : 0.162018\n",
      "\n"
     ]
    },
    {
     "name": "stderr",
     "output_type": "stream",
     "text": [
      "Epoch 22/50  Mem : 18.6GB  LR : 6.87E-05  Loss: 0.2833: 100%|██████████| 62/62 [00:36<00:00,  1.69it/s]                                                                                                                                                                          \n",
      "Val Loss: 0.2784: 100%|██████████| 24/24 [00:05<00:00,  4.02it/s]                                                                                                                                                                                                                \n"
     ]
    },
    {
     "name": "stdout",
     "output_type": "stream",
     "text": [
      "Threshold : 0.20\tFBeta : 0.449604\n",
      "Threshold : 0.25\tFBeta : 0.448088\n",
      "Threshold : 0.30\tFBeta : 0.443333\n",
      "Threshold : 0.35\tFBeta : 0.434851\n",
      "Threshold : 0.40\tFBeta : 0.426876\n",
      "Threshold : 0.45\tFBeta : 0.414899\n",
      "Threshold : 0.50\tFBeta : 0.382056\n",
      "Threshold : 0.55\tFBeta : 0.347408\n",
      "Threshold : 0.60\tFBeta : 0.308990\n",
      "Threshold : 0.65\tFBeta : 0.267305\n",
      "Threshold : 0.70\tFBeta : 0.219578\n",
      "Threshold : 0.75\tFBeta : 0.164957\n",
      "Threshold : 0.80\tFBeta : 0.110868\n",
      "\n"
     ]
    },
    {
     "name": "stderr",
     "output_type": "stream",
     "text": [
      "Epoch 23/50  Mem : 18.6GB  LR : 6.55E-05  Loss: 0.2796: 100%|██████████| 62/62 [00:37<00:00,  1.67it/s]                                                                                                                                                                          \n",
      "Val Loss: 0.2470: 100%|██████████| 24/24 [00:06<00:00,  3.97it/s]                                                                                                                                                                                                                \n"
     ]
    },
    {
     "name": "stdout",
     "output_type": "stream",
     "text": [
      "Threshold : 0.20\tFBeta : 0.412847\n",
      "Threshold : 0.25\tFBeta : 0.440430\n",
      "Threshold : 0.30\tFBeta : 0.463297\n",
      "Threshold : 0.35\tFBeta : 0.479940\n",
      "Threshold : 0.40\tFBeta : 0.489714\n",
      "Threshold : 0.45\tFBeta : 0.500028\n",
      "Threshold : 0.50\tFBeta : 0.505516\n",
      "Threshold : 0.55\tFBeta : 0.499913\n",
      "Threshold : 0.60\tFBeta : 0.489458\n",
      "Threshold : 0.65\tFBeta : 0.473795\n",
      "Threshold : 0.70\tFBeta : 0.450373\n",
      "Threshold : 0.75\tFBeta : 0.411227\n",
      "Threshold : 0.80\tFBeta : 0.355075\n",
      "\n"
     ]
    },
    {
     "name": "stderr",
     "output_type": "stream",
     "text": [
      "Epoch 24/50  Mem : 18.6GB  LR : 6.21E-05  Loss: 0.2858: 100%|██████████| 62/62 [00:37<00:00,  1.67it/s]                                                                                                                                                                          \n",
      "Val Loss: 0.2520: 100%|██████████| 24/24 [00:05<00:00,  4.02it/s]                                                                                                                                                                                                                \n"
     ]
    },
    {
     "name": "stdout",
     "output_type": "stream",
     "text": [
      "Threshold : 0.20\tFBeta : 0.512607\n",
      "Threshold : 0.25\tFBeta : 0.511377\n",
      "Threshold : 0.30\tFBeta : 0.505901\n",
      "Threshold : 0.35\tFBeta : 0.497355\n",
      "Threshold : 0.40\tFBeta : 0.483808\n",
      "Threshold : 0.45\tFBeta : 0.464590\n",
      "Threshold : 0.50\tFBeta : 0.431093\n",
      "Threshold : 0.55\tFBeta : 0.396679\n",
      "Threshold : 0.60\tFBeta : 0.357269\n",
      "Threshold : 0.65\tFBeta : 0.308960\n",
      "Threshold : 0.70\tFBeta : 0.250067\n",
      "Threshold : 0.75\tFBeta : 0.184286\n",
      "Threshold : 0.80\tFBeta : 0.116237\n",
      "\n"
     ]
    },
    {
     "name": "stderr",
     "output_type": "stream",
     "text": [
      "Epoch 25/50  Mem : 18.6GB  LR : 5.87E-05  Loss: 0.2788: 100%|██████████| 62/62 [00:37<00:00,  1.67it/s]                                                                                                                                                                          \n",
      "Val Loss: 0.2598: 100%|██████████| 24/24 [00:06<00:00,  3.98it/s]                                                                                                                                                                                                                \n"
     ]
    },
    {
     "name": "stdout",
     "output_type": "stream",
     "text": [
      "Threshold : 0.20\tFBeta : 0.358441\n",
      "Threshold : 0.25\tFBeta : 0.387053\n",
      "Threshold : 0.30\tFBeta : 0.410721\n",
      "Threshold : 0.35\tFBeta : 0.429524\n",
      "Threshold : 0.40\tFBeta : 0.446954\n",
      "Threshold : 0.45\tFBeta : 0.465924\n",
      "Threshold : 0.50\tFBeta : 0.482561\n",
      "Threshold : 0.55\tFBeta : 0.489288\n",
      "Threshold : 0.60\tFBeta : 0.495832\n",
      "Threshold : 0.65\tFBeta : 0.499495\n",
      "Threshold : 0.70\tFBeta : 0.496272\n",
      "Threshold : 0.75\tFBeta : 0.481327\n",
      "Threshold : 0.80\tFBeta : 0.452706\n",
      "\n"
     ]
    },
    {
     "name": "stderr",
     "output_type": "stream",
     "text": [
      "Epoch 26/50  Mem : 18.6GB  LR : 5.52E-05  Loss: 0.2758: 100%|██████████| 62/62 [00:37<00:00,  1.66it/s]                                                                                                                                                                          \n",
      "Val Loss: 0.2774: 100%|██████████| 24/24 [00:05<00:00,  4.05it/s]                                                                                                                                                                                                                \n"
     ]
    },
    {
     "name": "stdout",
     "output_type": "stream",
     "text": [
      "Threshold : 0.20\tFBeta : 0.480597\n",
      "Threshold : 0.25\tFBeta : 0.475544\n",
      "Threshold : 0.30\tFBeta : 0.465704\n",
      "Threshold : 0.35\tFBeta : 0.447996\n",
      "Threshold : 0.40\tFBeta : 0.423487\n",
      "Threshold : 0.45\tFBeta : 0.390549\n",
      "Threshold : 0.50\tFBeta : 0.349090\n",
      "Threshold : 0.55\tFBeta : 0.304348\n",
      "Threshold : 0.60\tFBeta : 0.256666\n",
      "Threshold : 0.65\tFBeta : 0.199473\n",
      "Threshold : 0.70\tFBeta : 0.150424\n",
      "Threshold : 0.75\tFBeta : 0.110710\n",
      "Threshold : 0.80\tFBeta : 0.075527\n",
      "\n"
     ]
    },
    {
     "name": "stderr",
     "output_type": "stream",
     "text": [
      "Epoch 27/50  Mem : 18.6GB  LR : 5.17E-05  Loss: 0.2778: 100%|██████████| 62/62 [00:37<00:00,  1.67it/s]                                                                                                                                                                          \n",
      "Val Loss: 0.2451: 100%|██████████| 24/24 [00:06<00:00,  3.99it/s]                                                                                                                                                                                                                \n"
     ]
    },
    {
     "name": "stdout",
     "output_type": "stream",
     "text": [
      "Threshold : 0.20\tFBeta : 0.418047\n",
      "Threshold : 0.25\tFBeta : 0.443001\n",
      "Threshold : 0.30\tFBeta : 0.463997\n",
      "Threshold : 0.35\tFBeta : 0.475538\n",
      "Threshold : 0.40\tFBeta : 0.482919\n",
      "Threshold : 0.45\tFBeta : 0.489953\n",
      "Threshold : 0.50\tFBeta : 0.492914\n",
      "Threshold : 0.55\tFBeta : 0.488295\n",
      "Threshold : 0.60\tFBeta : 0.476741\n",
      "Threshold : 0.65\tFBeta : 0.457197\n",
      "Threshold : 0.70\tFBeta : 0.427049\n",
      "Threshold : 0.75\tFBeta : 0.380033\n",
      "Threshold : 0.80\tFBeta : 0.308240\n",
      "\n"
     ]
    },
    {
     "name": "stderr",
     "output_type": "stream",
     "text": [
      "Epoch 28/50  Mem : 18.6GB  LR : 4.83E-05  Loss: 0.2716: 100%|██████████| 62/62 [00:37<00:00,  1.66it/s]                                                                                                                                                                          \n",
      "Val Loss: 0.2580: 100%|██████████| 24/24 [00:05<00:00,  4.02it/s]                                                                                                                                                                                                                \n"
     ]
    },
    {
     "name": "stdout",
     "output_type": "stream",
     "text": [
      "Threshold : 0.20\tFBeta : 0.522538\n",
      "Threshold : 0.25\tFBeta : 0.515424\n",
      "Threshold : 0.30\tFBeta : 0.499728\n",
      "Threshold : 0.35\tFBeta : 0.478600\n",
      "Threshold : 0.40\tFBeta : 0.455611\n",
      "Threshold : 0.45\tFBeta : 0.423413\n",
      "Threshold : 0.50\tFBeta : 0.387014\n",
      "Threshold : 0.55\tFBeta : 0.345407\n",
      "Threshold : 0.60\tFBeta : 0.291710\n",
      "Threshold : 0.65\tFBeta : 0.234809\n",
      "Threshold : 0.70\tFBeta : 0.173908\n",
      "Threshold : 0.75\tFBeta : 0.115139\n",
      "Threshold : 0.80\tFBeta : 0.065308\n",
      "\n"
     ]
    },
    {
     "name": "stderr",
     "output_type": "stream",
     "text": [
      "Epoch 29/50  Mem : 18.6GB  LR : 4.48E-05  Loss: 0.2684: 100%|██████████| 62/62 [00:36<00:00,  1.69it/s]                                                                                                                                                                          \n",
      "Val Loss: 0.2523: 100%|██████████| 24/24 [00:05<00:00,  4.03it/s]                                                                                                                                                                                                                \n"
     ]
    },
    {
     "name": "stdout",
     "output_type": "stream",
     "text": [
      "Threshold : 0.20\tFBeta : 0.440324\n",
      "Threshold : 0.25\tFBeta : 0.453735\n",
      "Threshold : 0.30\tFBeta : 0.459625\n",
      "Threshold : 0.35\tFBeta : 0.454790\n",
      "Threshold : 0.40\tFBeta : 0.449552\n",
      "Threshold : 0.45\tFBeta : 0.431516\n",
      "Threshold : 0.50\tFBeta : 0.406658\n",
      "Threshold : 0.55\tFBeta : 0.373415\n",
      "Threshold : 0.60\tFBeta : 0.330256\n",
      "Threshold : 0.65\tFBeta : 0.278959\n",
      "Threshold : 0.70\tFBeta : 0.213860\n",
      "Threshold : 0.75\tFBeta : 0.151053\n",
      "Threshold : 0.80\tFBeta : 0.092364\n",
      "\n"
     ]
    },
    {
     "name": "stderr",
     "output_type": "stream",
     "text": [
      "Epoch 30/50  Mem : 18.6GB  LR : 4.13E-05  Loss: 0.2665: 100%|██████████| 62/62 [00:37<00:00,  1.68it/s]                                                                                                                                                                          \n",
      "Val Loss: 0.2366: 100%|██████████| 24/24 [00:05<00:00,  4.05it/s]                                                                                                                                                                                                                \n"
     ]
    },
    {
     "name": "stdout",
     "output_type": "stream",
     "text": [
      "Threshold : 0.20\tFBeta : 0.457998\n",
      "Threshold : 0.25\tFBeta : 0.481811\n",
      "Threshold : 0.30\tFBeta : 0.496695\n",
      "Threshold : 0.35\tFBeta : 0.505948\n",
      "Threshold : 0.40\tFBeta : 0.513728\n",
      "Threshold : 0.45\tFBeta : 0.517077\n",
      "Threshold : 0.50\tFBeta : 0.515249\n",
      "Threshold : 0.55\tFBeta : 0.509780\n",
      "Threshold : 0.60\tFBeta : 0.498854\n",
      "Threshold : 0.65\tFBeta : 0.480537\n",
      "Threshold : 0.70\tFBeta : 0.456259\n",
      "Threshold : 0.75\tFBeta : 0.419824\n",
      "Threshold : 0.80\tFBeta : 0.370637\n",
      "\n"
     ]
    },
    {
     "name": "stderr",
     "output_type": "stream",
     "text": [
      "Epoch 31/50  Mem : 18.6GB  LR : 3.79E-05  Loss: 0.2724: 100%|██████████| 62/62 [00:37<00:00,  1.67it/s]                                                                                                                                                                          \n",
      "Val Loss: 0.2293: 100%|██████████| 24/24 [00:05<00:00,  4.04it/s]                                                                                                                                                                                                                \n"
     ]
    },
    {
     "name": "stdout",
     "output_type": "stream",
     "text": [
      "Threshold : 0.20\tFBeta : 0.453072\n",
      "Threshold : 0.25\tFBeta : 0.479181\n",
      "Threshold : 0.30\tFBeta : 0.498515\n",
      "Threshold : 0.35\tFBeta : 0.511671\n",
      "Threshold : 0.40\tFBeta : 0.523241\n",
      "Threshold : 0.45\tFBeta : 0.531185\n",
      "Threshold : 0.50\tFBeta : 0.532807\n",
      "Threshold : 0.55\tFBeta : 0.531575\n",
      "Threshold : 0.60\tFBeta : 0.528665\n",
      "Threshold : 0.65\tFBeta : 0.517704\n",
      "Threshold : 0.70\tFBeta : 0.498324\n",
      "Threshold : 0.75\tFBeta : 0.466489\n",
      "Threshold : 0.80\tFBeta : 0.423387\n",
      "\n"
     ]
    },
    {
     "name": "stderr",
     "output_type": "stream",
     "text": [
      "Epoch 32/50  Mem : 18.6GB  LR : 3.45E-05  Loss: 0.2587: 100%|██████████| 62/62 [00:36<00:00,  1.68it/s]                                                                                                                                                                          \n",
      "Val Loss: 0.2437: 100%|██████████| 24/24 [00:05<00:00,  4.06it/s]                                                                                                                                                                                                                \n"
     ]
    },
    {
     "name": "stdout",
     "output_type": "stream",
     "text": [
      "Threshold : 0.20\tFBeta : 0.495715\n",
      "Threshold : 0.25\tFBeta : 0.504097\n",
      "Threshold : 0.30\tFBeta : 0.502345\n",
      "Threshold : 0.35\tFBeta : 0.497182\n",
      "Threshold : 0.40\tFBeta : 0.491950\n",
      "Threshold : 0.45\tFBeta : 0.487993\n",
      "Threshold : 0.50\tFBeta : 0.478952\n",
      "Threshold : 0.55\tFBeta : 0.460337\n",
      "Threshold : 0.60\tFBeta : 0.435431\n",
      "Threshold : 0.65\tFBeta : 0.405604\n",
      "Threshold : 0.70\tFBeta : 0.367924\n",
      "Threshold : 0.75\tFBeta : 0.317772\n",
      "Threshold : 0.80\tFBeta : 0.255607\n",
      "\n"
     ]
    },
    {
     "name": "stderr",
     "output_type": "stream",
     "text": [
      "Epoch 33/50  Mem : 18.6GB  LR : 3.13E-05  Loss: 0.2541: 100%|██████████| 62/62 [00:36<00:00,  1.71it/s]                                                                                                                                                                          \n",
      "Val Loss: 0.2539: 100%|██████████| 24/24 [00:05<00:00,  4.05it/s]                                                                                                                                                                                                                \n"
     ]
    },
    {
     "name": "stdout",
     "output_type": "stream",
     "text": [
      "Threshold : 0.20\tFBeta : 0.427695\n",
      "Threshold : 0.25\tFBeta : 0.444770\n",
      "Threshold : 0.30\tFBeta : 0.454992\n",
      "Threshold : 0.35\tFBeta : 0.462827\n",
      "Threshold : 0.40\tFBeta : 0.465357\n",
      "Threshold : 0.45\tFBeta : 0.465820\n",
      "Threshold : 0.50\tFBeta : 0.468581\n",
      "Threshold : 0.55\tFBeta : 0.470790\n",
      "Threshold : 0.60\tFBeta : 0.470645\n",
      "Threshold : 0.65\tFBeta : 0.473296\n",
      "Threshold : 0.70\tFBeta : 0.457575\n",
      "Threshold : 0.75\tFBeta : 0.432852\n",
      "Threshold : 0.80\tFBeta : 0.399356\n",
      "\n"
     ]
    },
    {
     "name": "stderr",
     "output_type": "stream",
     "text": [
      "Epoch 34/50  Mem : 18.6GB  LR : 2.81E-05  Loss: 0.2554: 100%|██████████| 62/62 [00:37<00:00,  1.67it/s]                                                                                                                                                                          \n",
      "Val Loss: 0.2567: 100%|██████████| 24/24 [00:05<00:00,  4.05it/s]                                                                                                                                                                                                                \n"
     ]
    },
    {
     "name": "stdout",
     "output_type": "stream",
     "text": [
      "Threshold : 0.20\tFBeta : 0.408037\n",
      "Threshold : 0.25\tFBeta : 0.424888\n",
      "Threshold : 0.30\tFBeta : 0.440598\n",
      "Threshold : 0.35\tFBeta : 0.452560\n",
      "Threshold : 0.40\tFBeta : 0.462671\n",
      "Threshold : 0.45\tFBeta : 0.472026\n",
      "Threshold : 0.50\tFBeta : 0.480074\n",
      "Threshold : 0.55\tFBeta : 0.486652\n",
      "Threshold : 0.60\tFBeta : 0.491610\n",
      "Threshold : 0.65\tFBeta : 0.494200\n",
      "Threshold : 0.70\tFBeta : 0.493801\n",
      "Threshold : 0.75\tFBeta : 0.488236\n",
      "Threshold : 0.80\tFBeta : 0.474676\n",
      "\n"
     ]
    },
    {
     "name": "stderr",
     "output_type": "stream",
     "text": [
      "Epoch 35/50  Mem : 18.6GB  LR : 2.50E-05  Loss: 0.2594: 100%|██████████| 62/62 [00:36<00:00,  1.69it/s]                                                                                                                                                                          \n",
      "Val Loss: 0.2352: 100%|██████████| 24/24 [00:05<00:00,  4.04it/s]                                                                                                                                                                                                                \n"
     ]
    },
    {
     "name": "stdout",
     "output_type": "stream",
     "text": [
      "Threshold : 0.20\tFBeta : 0.446447\n",
      "Threshold : 0.25\tFBeta : 0.470119\n",
      "Threshold : 0.30\tFBeta : 0.485393\n",
      "Threshold : 0.35\tFBeta : 0.496340\n",
      "Threshold : 0.40\tFBeta : 0.504220\n",
      "Threshold : 0.45\tFBeta : 0.510930\n",
      "Threshold : 0.50\tFBeta : 0.515505\n",
      "Threshold : 0.55\tFBeta : 0.514871\n",
      "Threshold : 0.60\tFBeta : 0.509478\n",
      "Threshold : 0.65\tFBeta : 0.499160\n",
      "Threshold : 0.70\tFBeta : 0.486569\n",
      "Threshold : 0.75\tFBeta : 0.468419\n",
      "Threshold : 0.80\tFBeta : 0.438704\n",
      "\n"
     ]
    },
    {
     "name": "stderr",
     "output_type": "stream",
     "text": [
      "Epoch 36/50  Mem : 18.6GB  LR : 2.20E-05  Loss: 0.2500: 100%|██████████| 62/62 [00:37<00:00,  1.67it/s]                                                                                                                                                                          \n",
      "Val Loss: 0.2306: 100%|██████████| 24/24 [00:05<00:00,  4.06it/s]                                                                                                                                                                                                                \n"
     ]
    },
    {
     "name": "stdout",
     "output_type": "stream",
     "text": [
      "Threshold : 0.20\tFBeta : 0.453606\n",
      "Threshold : 0.25\tFBeta : 0.474495\n",
      "Threshold : 0.30\tFBeta : 0.491435\n",
      "Threshold : 0.35\tFBeta : 0.501537\n",
      "Threshold : 0.40\tFBeta : 0.504230\n",
      "Threshold : 0.45\tFBeta : 0.507414\n",
      "Threshold : 0.50\tFBeta : 0.512250\n",
      "Threshold : 0.55\tFBeta : 0.513134\n",
      "Threshold : 0.60\tFBeta : 0.511001\n",
      "Threshold : 0.65\tFBeta : 0.506273\n",
      "Threshold : 0.70\tFBeta : 0.494984\n",
      "Threshold : 0.75\tFBeta : 0.470725\n",
      "Threshold : 0.80\tFBeta : 0.429064\n",
      "\n"
     ]
    },
    {
     "name": "stderr",
     "output_type": "stream",
     "text": [
      "Epoch 37/50  Mem : 18.6GB  LR : 1.92E-05  Loss: 0.2465: 100%|██████████| 62/62 [00:37<00:00,  1.67it/s]                                                                                                                                                                          \n",
      "Val Loss: 0.2785: 100%|██████████| 24/24 [00:05<00:00,  4.01it/s]                                                                                                                                                                                                                \n"
     ]
    },
    {
     "name": "stdout",
     "output_type": "stream",
     "text": [
      "Threshold : 0.20\tFBeta : 0.353188\n",
      "Threshold : 0.25\tFBeta : 0.370954\n",
      "Threshold : 0.30\tFBeta : 0.389161\n",
      "Threshold : 0.35\tFBeta : 0.405849\n",
      "Threshold : 0.40\tFBeta : 0.421415\n",
      "Threshold : 0.45\tFBeta : 0.437842\n",
      "Threshold : 0.50\tFBeta : 0.455079\n",
      "Threshold : 0.55\tFBeta : 0.464661\n",
      "Threshold : 0.60\tFBeta : 0.472996\n",
      "Threshold : 0.65\tFBeta : 0.476485\n",
      "Threshold : 0.70\tFBeta : 0.476086\n",
      "Threshold : 0.75\tFBeta : 0.471755\n",
      "Threshold : 0.80\tFBeta : 0.463109\n",
      "\n"
     ]
    },
    {
     "name": "stderr",
     "output_type": "stream",
     "text": [
      "Epoch 38/50  Mem : 18.6GB  LR : 1.65E-05  Loss: 0.2400: 100%|██████████| 62/62 [00:36<00:00,  1.68it/s]                                                                                                                                                                          \n",
      "Val Loss: 0.2459: 100%|██████████| 24/24 [00:06<00:00,  4.00it/s]                                                                                                                                                                                                                \n"
     ]
    },
    {
     "name": "stdout",
     "output_type": "stream",
     "text": [
      "Threshold : 0.20\tFBeta : 0.422245\n",
      "Threshold : 0.25\tFBeta : 0.443226\n",
      "Threshold : 0.30\tFBeta : 0.460792\n",
      "Threshold : 0.35\tFBeta : 0.469932\n",
      "Threshold : 0.40\tFBeta : 0.476379\n",
      "Threshold : 0.45\tFBeta : 0.480453\n",
      "Threshold : 0.50\tFBeta : 0.478316\n",
      "Threshold : 0.55\tFBeta : 0.473487\n",
      "Threshold : 0.60\tFBeta : 0.467014\n",
      "Threshold : 0.65\tFBeta : 0.458235\n",
      "Threshold : 0.70\tFBeta : 0.444091\n",
      "Threshold : 0.75\tFBeta : 0.423622\n",
      "Threshold : 0.80\tFBeta : 0.392836\n",
      "\n"
     ]
    },
    {
     "name": "stderr",
     "output_type": "stream",
     "text": [
      "Epoch 39/50  Mem : 18.6GB  LR : 1.40E-05  Loss: 0.2392: 100%|██████████| 62/62 [00:37<00:00,  1.66it/s]                                                                                                                                                                          \n",
      "Val Loss: 0.2358: 100%|██████████| 24/24 [00:05<00:00,  4.05it/s]                                                                                                                                                                                                                \n"
     ]
    },
    {
     "name": "stdout",
     "output_type": "stream",
     "text": [
      "Threshold : 0.20\tFBeta : 0.484136\n",
      "Threshold : 0.25\tFBeta : 0.498657\n",
      "Threshold : 0.30\tFBeta : 0.506019\n",
      "Threshold : 0.35\tFBeta : 0.511836\n",
      "Threshold : 0.40\tFBeta : 0.514969\n",
      "Threshold : 0.45\tFBeta : 0.515626\n",
      "Threshold : 0.50\tFBeta : 0.513639\n",
      "Threshold : 0.55\tFBeta : 0.509456\n",
      "Threshold : 0.60\tFBeta : 0.496511\n",
      "Threshold : 0.65\tFBeta : 0.475872\n",
      "Threshold : 0.70\tFBeta : 0.450514\n",
      "Threshold : 0.75\tFBeta : 0.419268\n",
      "Threshold : 0.80\tFBeta : 0.375351\n",
      "\n"
     ]
    },
    {
     "name": "stderr",
     "output_type": "stream",
     "text": [
      "Epoch 40/50  Mem : 18.6GB  LR : 1.17E-05  Loss: 0.2487: 100%|██████████| 62/62 [00:37<00:00,  1.65it/s]                                                                                                                                                                          \n",
      "Val Loss: 0.2416: 100%|██████████| 24/24 [00:06<00:00,  3.99it/s]                                                                                                                                                                                                                \n"
     ]
    },
    {
     "name": "stdout",
     "output_type": "stream",
     "text": [
      "Threshold : 0.20\tFBeta : 0.452727\n",
      "Threshold : 0.25\tFBeta : 0.466959\n",
      "Threshold : 0.30\tFBeta : 0.478396\n",
      "Threshold : 0.35\tFBeta : 0.485686\n",
      "Threshold : 0.40\tFBeta : 0.489708\n",
      "Threshold : 0.45\tFBeta : 0.489268\n",
      "Threshold : 0.50\tFBeta : 0.483523\n",
      "Threshold : 0.55\tFBeta : 0.475795\n",
      "Threshold : 0.60\tFBeta : 0.465096\n",
      "Threshold : 0.65\tFBeta : 0.450017\n",
      "Threshold : 0.70\tFBeta : 0.430215\n",
      "Threshold : 0.75\tFBeta : 0.404458\n",
      "Threshold : 0.80\tFBeta : 0.368720\n",
      "\n"
     ]
    },
    {
     "name": "stderr",
     "output_type": "stream",
     "text": [
      "Epoch 41/50  Mem : 18.6GB  LR : 9.55E-06  Loss: 0.2456: 100%|██████████| 62/62 [00:36<00:00,  1.68it/s]                                                                                                                                                                          \n",
      "Val Loss: 0.2377: 100%|██████████| 24/24 [00:05<00:00,  4.02it/s]                                                                                                                                                                                                                \n"
     ]
    },
    {
     "name": "stdout",
     "output_type": "stream",
     "text": [
      "Threshold : 0.20\tFBeta : 0.424445\n",
      "Threshold : 0.25\tFBeta : 0.449817\n",
      "Threshold : 0.30\tFBeta : 0.468741\n",
      "Threshold : 0.35\tFBeta : 0.482688\n",
      "Threshold : 0.40\tFBeta : 0.493666\n",
      "Threshold : 0.45\tFBeta : 0.503006\n",
      "Threshold : 0.50\tFBeta : 0.510476\n",
      "Threshold : 0.55\tFBeta : 0.510736\n",
      "Threshold : 0.60\tFBeta : 0.507936\n",
      "Threshold : 0.65\tFBeta : 0.502523\n",
      "Threshold : 0.70\tFBeta : 0.491941\n",
      "Threshold : 0.75\tFBeta : 0.471111\n",
      "Threshold : 0.80\tFBeta : 0.438947\n",
      "\n"
     ]
    },
    {
     "name": "stderr",
     "output_type": "stream",
     "text": [
      "Epoch 42/50  Mem : 18.6GB  LR : 7.60E-06  Loss: 0.2390: 100%|██████████| 62/62 [00:37<00:00,  1.66it/s]                                                                                                                                                                          \n",
      "Val Loss: 0.2397: 100%|██████████| 24/24 [00:05<00:00,  4.05it/s]                                                                                                                                                                                                                \n"
     ]
    },
    {
     "name": "stdout",
     "output_type": "stream",
     "text": [
      "Threshold : 0.20\tFBeta : 0.464403\n",
      "Threshold : 0.25\tFBeta : 0.480467\n",
      "Threshold : 0.30\tFBeta : 0.490601\n",
      "Threshold : 0.35\tFBeta : 0.497590\n",
      "Threshold : 0.40\tFBeta : 0.502249\n",
      "Threshold : 0.45\tFBeta : 0.503918\n",
      "Threshold : 0.50\tFBeta : 0.502068\n",
      "Threshold : 0.55\tFBeta : 0.496452\n",
      "Threshold : 0.60\tFBeta : 0.487363\n",
      "Threshold : 0.65\tFBeta : 0.475115\n",
      "Threshold : 0.70\tFBeta : 0.457423\n",
      "Threshold : 0.75\tFBeta : 0.432147\n",
      "Threshold : 0.80\tFBeta : 0.399336\n",
      "\n"
     ]
    },
    {
     "name": "stderr",
     "output_type": "stream",
     "text": [
      "Epoch 43/50  Mem : 18.6GB  LR : 5.85E-06  Loss: 0.2387: 100%|██████████| 62/62 [00:37<00:00,  1.66it/s]                                                                                                                                                                          \n",
      "Val Loss: 0.2464: 100%|██████████| 24/24 [00:05<00:00,  4.02it/s]                                                                                                                                                                                                                \n"
     ]
    },
    {
     "name": "stdout",
     "output_type": "stream",
     "text": [
      "Threshold : 0.20\tFBeta : 0.440184\n",
      "Threshold : 0.25\tFBeta : 0.459540\n",
      "Threshold : 0.30\tFBeta : 0.472995\n",
      "Threshold : 0.35\tFBeta : 0.480436\n",
      "Threshold : 0.40\tFBeta : 0.484125\n",
      "Threshold : 0.45\tFBeta : 0.485227\n",
      "Threshold : 0.50\tFBeta : 0.481686\n",
      "Threshold : 0.55\tFBeta : 0.473150\n",
      "Threshold : 0.60\tFBeta : 0.463764\n",
      "Threshold : 0.65\tFBeta : 0.451857\n",
      "Threshold : 0.70\tFBeta : 0.437103\n",
      "Threshold : 0.75\tFBeta : 0.418266\n",
      "Threshold : 0.80\tFBeta : 0.390496\n",
      "\n"
     ]
    },
    {
     "name": "stderr",
     "output_type": "stream",
     "text": [
      "Epoch 44/50  Mem : 18.6GB  LR : 4.32E-06  Loss: 0.2389: 100%|██████████| 62/62 [00:37<00:00,  1.66it/s]                                                                                                                                                                          \n",
      "Val Loss: 0.2425: 100%|██████████| 24/24 [00:05<00:00,  4.05it/s]                                                                                                                                                                                                                \n"
     ]
    },
    {
     "name": "stdout",
     "output_type": "stream",
     "text": [
      "Threshold : 0.20\tFBeta : 0.442034\n",
      "Threshold : 0.25\tFBeta : 0.458856\n",
      "Threshold : 0.30\tFBeta : 0.471504\n",
      "Threshold : 0.35\tFBeta : 0.481584\n",
      "Threshold : 0.40\tFBeta : 0.489357\n",
      "Threshold : 0.45\tFBeta : 0.493588\n",
      "Threshold : 0.50\tFBeta : 0.493569\n",
      "Threshold : 0.55\tFBeta : 0.488059\n",
      "Threshold : 0.60\tFBeta : 0.479227\n",
      "Threshold : 0.65\tFBeta : 0.470116\n",
      "Threshold : 0.70\tFBeta : 0.455452\n",
      "Threshold : 0.75\tFBeta : 0.433598\n",
      "Threshold : 0.80\tFBeta : 0.405231\n",
      "\n"
     ]
    },
    {
     "name": "stderr",
     "output_type": "stream",
     "text": [
      "Epoch 45/50  Mem : 18.6GB  LR : 3.02E-06  Loss: 0.2395: 100%|██████████| 62/62 [00:36<00:00,  1.68it/s]                                                                                                                                                                          \n",
      "Val Loss: 0.2405: 100%|██████████| 24/24 [00:05<00:00,  4.05it/s]                                                                                                                                                                                                                \n"
     ]
    },
    {
     "name": "stdout",
     "output_type": "stream",
     "text": [
      "Threshold : 0.20\tFBeta : 0.438009\n",
      "Threshold : 0.25\tFBeta : 0.456630\n",
      "Threshold : 0.30\tFBeta : 0.470417\n",
      "Threshold : 0.35\tFBeta : 0.479905\n",
      "Threshold : 0.40\tFBeta : 0.488467\n",
      "Threshold : 0.45\tFBeta : 0.494175\n",
      "Threshold : 0.50\tFBeta : 0.496088\n",
      "Threshold : 0.55\tFBeta : 0.488740\n",
      "Threshold : 0.60\tFBeta : 0.478239\n",
      "Threshold : 0.65\tFBeta : 0.465237\n",
      "Threshold : 0.70\tFBeta : 0.448891\n",
      "Threshold : 0.75\tFBeta : 0.425297\n",
      "Threshold : 0.80\tFBeta : 0.390199\n",
      "\n"
     ]
    },
    {
     "name": "stderr",
     "output_type": "stream",
     "text": [
      "Epoch 46/50  Mem : 18.6GB  LR : 1.94E-06  Loss: 0.2379: 100%|██████████| 62/62 [00:36<00:00,  1.68it/s]                                                                                                                                                                          \n",
      "Val Loss: 0.2452: 100%|██████████| 24/24 [00:05<00:00,  4.03it/s]                                                                                                                                                                                                                \n"
     ]
    },
    {
     "name": "stdout",
     "output_type": "stream",
     "text": [
      "Threshold : 0.20\tFBeta : 0.437662\n",
      "Threshold : 0.25\tFBeta : 0.454811\n",
      "Threshold : 0.30\tFBeta : 0.466641\n",
      "Threshold : 0.35\tFBeta : 0.474816\n",
      "Threshold : 0.40\tFBeta : 0.480892\n",
      "Threshold : 0.45\tFBeta : 0.485182\n",
      "Threshold : 0.50\tFBeta : 0.483235\n",
      "Threshold : 0.55\tFBeta : 0.473698\n",
      "Threshold : 0.60\tFBeta : 0.463716\n",
      "Threshold : 0.65\tFBeta : 0.451752\n",
      "Threshold : 0.70\tFBeta : 0.437107\n",
      "Threshold : 0.75\tFBeta : 0.415226\n",
      "Threshold : 0.80\tFBeta : 0.383049\n",
      "\n"
     ]
    },
    {
     "name": "stderr",
     "output_type": "stream",
     "text": [
      "Epoch 47/50  Mem : 18.6GB  LR : 1.09E-06  Loss: 0.2429: 100%|██████████| 62/62 [00:36<00:00,  1.68it/s]                                                                                                                                                                          \n",
      "Val Loss: 0.2439: 100%|██████████| 24/24 [00:05<00:00,  4.05it/s]                                                                                                                                                                                                                \n"
     ]
    },
    {
     "name": "stdout",
     "output_type": "stream",
     "text": [
      "Threshold : 0.20\tFBeta : 0.447064\n",
      "Threshold : 0.25\tFBeta : 0.463444\n",
      "Threshold : 0.30\tFBeta : 0.474011\n",
      "Threshold : 0.35\tFBeta : 0.482210\n",
      "Threshold : 0.40\tFBeta : 0.486878\n",
      "Threshold : 0.45\tFBeta : 0.489663\n",
      "Threshold : 0.50\tFBeta : 0.482527\n",
      "Threshold : 0.55\tFBeta : 0.472929\n",
      "Threshold : 0.60\tFBeta : 0.464156\n",
      "Threshold : 0.65\tFBeta : 0.452726\n",
      "Threshold : 0.70\tFBeta : 0.435742\n",
      "Threshold : 0.75\tFBeta : 0.412000\n",
      "Threshold : 0.80\tFBeta : 0.377538\n",
      "\n"
     ]
    },
    {
     "name": "stderr",
     "output_type": "stream",
     "text": [
      "Epoch 48/50  Mem : 18.6GB  LR : 4.87E-07  Loss: 0.2381: 100%|██████████| 62/62 [00:37<00:00,  1.67it/s]                                                                                                                                                                          \n",
      "Val Loss: 0.2432: 100%|██████████| 24/24 [00:05<00:00,  4.05it/s]                                                                                                                                                                                                                \n"
     ]
    },
    {
     "name": "stdout",
     "output_type": "stream",
     "text": [
      "Threshold : 0.20\tFBeta : 0.457764\n",
      "Threshold : 0.25\tFBeta : 0.472005\n",
      "Threshold : 0.30\tFBeta : 0.482184\n",
      "Threshold : 0.35\tFBeta : 0.488928\n",
      "Threshold : 0.40\tFBeta : 0.492702\n",
      "Threshold : 0.45\tFBeta : 0.492063\n",
      "Threshold : 0.50\tFBeta : 0.481623\n",
      "Threshold : 0.55\tFBeta : 0.474647\n",
      "Threshold : 0.60\tFBeta : 0.466024\n",
      "Threshold : 0.65\tFBeta : 0.452904\n",
      "Threshold : 0.70\tFBeta : 0.434670\n",
      "Threshold : 0.75\tFBeta : 0.409629\n",
      "Threshold : 0.80\tFBeta : 0.374712\n",
      "\n"
     ]
    },
    {
     "name": "stderr",
     "output_type": "stream",
     "text": [
      "Epoch 49/50  Mem : 18.6GB  LR : 1.22E-07  Loss: 0.2356: 100%|██████████| 62/62 [00:36<00:00,  1.70it/s]                                                                                                                                                                          \n",
      "Val Loss: 0.2417: 100%|██████████| 24/24 [00:05<00:00,  4.06it/s]                                                                                                                                                                                                                \n"
     ]
    },
    {
     "name": "stdout",
     "output_type": "stream",
     "text": [
      "Threshold : 0.20\tFBeta : 0.455226\n",
      "Threshold : 0.25\tFBeta : 0.470682\n",
      "Threshold : 0.30\tFBeta : 0.481453\n",
      "Threshold : 0.35\tFBeta : 0.488688\n",
      "Threshold : 0.40\tFBeta : 0.493253\n",
      "Threshold : 0.45\tFBeta : 0.494932\n",
      "Threshold : 0.50\tFBeta : 0.487073\n",
      "Threshold : 0.55\tFBeta : 0.478872\n",
      "Threshold : 0.60\tFBeta : 0.470725\n",
      "Threshold : 0.65\tFBeta : 0.459698\n",
      "Threshold : 0.70\tFBeta : 0.442205\n",
      "Threshold : 0.75\tFBeta : 0.416195\n",
      "Threshold : 0.80\tFBeta : 0.382427\n",
      "\n"
     ]
    },
    {
     "name": "stderr",
     "output_type": "stream",
     "text": [
      "Epoch 50/50  Mem : 18.6GB  LR : 4.00E-10  Loss: 0.2354: 100%|██████████| 62/62 [00:37<00:00,  1.68it/s]                                                                                                                                                                          \n",
      "Val Loss: 0.2430: 100%|██████████| 24/24 [00:05<00:00,  4.05it/s]                                                                                                                                                                                                                \n"
     ]
    },
    {
     "name": "stdout",
     "output_type": "stream",
     "text": [
      "Threshold : 0.20\tFBeta : 0.452431\n",
      "Threshold : 0.25\tFBeta : 0.468375\n",
      "Threshold : 0.30\tFBeta : 0.480299\n",
      "Threshold : 0.35\tFBeta : 0.486990\n",
      "Threshold : 0.40\tFBeta : 0.491429\n",
      "Threshold : 0.45\tFBeta : 0.493816\n",
      "Threshold : 0.50\tFBeta : 0.487033\n",
      "Threshold : 0.55\tFBeta : 0.478399\n",
      "Threshold : 0.60\tFBeta : 0.469988\n",
      "Threshold : 0.65\tFBeta : 0.461258\n",
      "Threshold : 0.70\tFBeta : 0.445956\n",
      "Threshold : 0.75\tFBeta : 0.422699\n",
      "Threshold : 0.80\tFBeta : 0.391163\n",
      "\n"
     ]
    }
   ],
   "source": [
    "fbeta_best = 0.0\n",
    "for epoch in range(1, EPOCHS+1):\n",
    "    model.train()\n",
    "    cur_lr = f\"LR : {scheduler.get_last_lr()[0]:.2E}\"\n",
    "    pbar_train = enumerate(dataloader_train)\n",
    "    pbar_train = tqdm(pbar_train, total=n_train, bar_format=\"{l_bar}{bar:10}{r_bar}{bar:-10b}\")\n",
    "    mloss_train, mloss_val, val_metric = 0.0, 0.0, 0.0\n",
    "\n",
    "    \n",
    "\n",
    "\n",
    "\n",
    "\n",
    "    for i, (fragments, masks) in pbar_train:\n",
    "        fragments, masks = fragments.cuda().half(), masks.cuda().half()\n",
    "        \n",
    "        \n",
    "        optimizer.zero_grad()\n",
    "        with amp.autocast():\n",
    "            pred_masks = model(fragments)\n",
    "            loss = criterion(pred_masks, masks)\n",
    "            scaler.scale(loss).backward()\n",
    "            scaler.step(optimizer)\n",
    "            scaler.update()\n",
    "            mloss_train += loss.detach().item()\n",
    "\n",
    "        gpu_mem = f\"Mem : {torch.cuda.memory_reserved() / 1E9:.3g}GB\"\n",
    "        pbar_train.set_description((\"%10s  \" * 3 + \"%10s\") % (f\"Epoch {epoch}/{EPOCHS}\", gpu_mem, cur_lr,\n",
    "                                                              f\"Loss: {mloss_train / (i + 1):.4f}\"))\n",
    "        \n",
    "    scheduler.step()\n",
    "    model.eval()\n",
    "    pbar_val = enumerate(dataloader_valid)\n",
    "    pbar_val = tqdm(pbar_val, total=n_valid, bar_format=\"{l_bar}{bar:10}{r_bar}{bar:-10b}\")\n",
    "    final_pred_mask = torch.zeros(gt_shape, dtype=torch.float32, device='cuda')\n",
    "    \n",
    "    for i, (fragments, masks, xys) in pbar_val:\n",
    "        fragments, masks = fragments.cuda(), masks.cuda()\n",
    "        \n",
    "        with torch.no_grad():\n",
    "            pred_masks = model(fragments)\n",
    "            mloss_val += criterion(pred_masks, masks).item()\n",
    "            pred_masks = torch.sigmoid(pred_masks)\n",
    "        \n",
    "        for j, xy in enumerate(xys):\n",
    "            final_pred_mask[xy[1]:xy[3], xy[0]:xy[2]] = pred_masks[j, 0]\n",
    "\n",
    "        pbar_val.set_description((\"%10s\") % (f\"Val Loss: {mloss_val / (i+1):.4f}\"))\n",
    "    \n",
    "    for threshold in np.arange(0.2, 0.85, 0.05):\n",
    "        fbeta = fbeta_score(final_pred_mask, gt_mask, threshold)\n",
    "        print(f\"Threshold : {threshold:.2f}\\tFBeta : {fbeta:.6f}\")\n",
    "        \n",
    "        if fbeta_best < fbeta:\n",
    "            fbeta_best = fbeta\n",
    "            torch.save(model.module.state_dict(), f\"./ckpts/resnet18_3d_seg_best_{fbeta_best:.4f}.pt\")\n",
    "    \n",
    "    \n",
    "    if epoch >= 10:\n",
    "        torch.save(model.module.state_dict(), f\"./ckpts/resnet18_3d_seg_epoch_{epoch}.pt\")\n",
    "\n",
    "    # if epoch == 30:\n",
    "    #     break\n",
    "\n",
    "    print()"
   ]
  },
  {
   "cell_type": "code",
   "execution_count": 22,
   "id": "2c48f344",
   "metadata": {
    "execution": {
     "iopub.execute_input": "2023-05-22T09:13:30.703987Z",
     "iopub.status.busy": "2023-05-22T09:13:30.703885Z",
     "iopub.status.idle": "2023-05-22T09:13:30.705991Z",
     "shell.execute_reply": "2023-05-22T09:13:30.705811Z"
    }
   },
   "outputs": [],
   "source": [
    "# import logging\n",
    "\n",
    "# logging.basicConfig(filename=\"training_log.txt\", level=logging.INFO)\n",
    "\n",
    "# console = logging.StreamHandler()\n",
    "# console.setLevel(logging.INFO)\n",
    "# logging.getLogger('').addHandler(console)\n",
    "\n",
    "# fbeta_best = 0.0\n",
    "# for epoch in range(1, EPOCHS+1):\n",
    "#     model.train()\n",
    "#     cur_lr = f\"LR : {scheduler.get_last_lr()[0]:.2E}\"\n",
    "#     pbar_train = enumerate(dataloader_train)\n",
    "#     pbar_train = tqdm(pbar_train, total=n_train, bar_format=\"{l_bar}{bar:10}{r_bar}{bar:-10b}\")\n",
    "#     mloss_train, mloss_val, val_metric = 0.0, 0.0, 0.0\n",
    "\n",
    "#     for i, (fragments, masks) in pbar_train:\n",
    "#         fragments, masks = fragments.cuda().half(), masks.cuda().half()\n",
    "        \n",
    "#         optimizer.zero_grad()\n",
    "#         with amp.autocast():\n",
    "#             pred_masks = model(fragments)\n",
    "#             loss = criterion(pred_masks, masks)\n",
    "#             scaler.scale(loss).backward()\n",
    "#             scaler.step(optimizer)\n",
    "#             scaler.update()\n",
    "#             mloss_train += loss.detach().item()\n",
    "\n",
    "#         gpu_mem = f\"Mem : {torch.cuda.memory_reserved() / 1E9:.3g}GB\"\n",
    "#         pbar_train.set_description((\"%10s  \" * 3 + \"%10s\") % (f\"Epoch {epoch}/{EPOCHS}\", gpu_mem, cur_lr,\n",
    "#                                                               f\"Loss: {mloss_train / (i + 1):.4f}\"))\n",
    "#         logging.info((\"%10s  \" * 3 + \"%10s\") % (f\"Epoch {epoch}/{EPOCHS}\", gpu_mem, cur_lr,\n",
    "#                                                 f\"Loss: {mloss_train / (i + 1):.4f}\"))\n",
    "#     scheduler.step()\n",
    "#     model.eval()\n",
    "#     pbar_val = enumerate(dataloader_valid)\n",
    "#     pbar_val = tqdm(pbar_val, total=n_valid, bar_format=\"{l_bar}{bar:10}{r_bar}{bar:-10b}\")\n",
    "#     final_pred_mask = torch.zeros(gt_shape, dtype=torch.float32, device='cuda')\n",
    "    \n",
    "#     for i, (fragments, masks, xys) in pbar_val:\n",
    "#         fragments, masks = fragments.cuda(), masks.cuda()\n",
    "        \n",
    "#         with torch.no_grad():\n",
    "#             pred_masks = model(fragments)\n",
    "#             mloss_val += criterion(pred_masks, masks).item()\n",
    "#             pred_masks = torch.sigmoid(pred_masks)\n",
    "        \n",
    "#         for j, xy in enumerate(xys):\n",
    "#             final_pred_mask[xy[1]:xy[3], xy[0]:xy[2]] = pred_masks[j, 0]\n",
    "\n",
    "#         pbar_val.set_description((\"%10s\") % (f\"Val Loss: {mloss_val / (i+1):.4f}\"))\n",
    "#         logging.info((\"%10s\") % (f\"Val Loss: {mloss_val / (i+1):.4f}\"))\n",
    "\n",
    "#     for threshold in np.arange(0.2, 0.85, 0.05):\n",
    "#         fbeta = fbeta_score(final_pred_mask, gt_mask, threshold)\n",
    "#         logging.info(f\"Threshold : {threshold:.2f}\\tFBeta : {fbeta:.6f}\")\n",
    "\n",
    "#         if fbeta_best < fbeta:\n",
    "#             fbeta_best = fbeta\n",
    "#             torch.save(model.module.state_dict(), f\"./ckpts/resnet18_3d_seg_best.pt\")\n",
    "    \n",
    "#     # if epoch >= 10:\n",
    "#     #     torch.save(model.module.state_dict(), f\"./ckpts/resnet18_3d_seg_epoch_{epoch}.pt\")\n"
   ]
  },
  {
   "cell_type": "code",
   "execution_count": null,
   "id": "89431087",
   "metadata": {
    "papermill": {
     "duration": 0.381515,
     "end_time": "2023-04-08T11:20:14.478012",
     "exception": false,
     "start_time": "2023-04-08T11:20:14.096497",
     "status": "completed"
    },
    "tags": []
   },
   "outputs": [],
   "source": []
  }
 ],
 "metadata": {
  "kernelspec": {
   "display_name": "Python 3",
   "language": "python",
   "name": "python3"
  },
  "language_info": {
   "codemirror_mode": {
    "name": "ipython",
    "version": 3
   },
   "file_extension": ".py",
   "mimetype": "text/x-python",
   "name": "python",
   "nbconvert_exporter": "python",
   "pygments_lexer": "ipython3",
   "version": "3.9.16"
  },
  "papermill": {
   "default_parameters": {},
   "duration": 4132.646938,
   "end_time": "2023-04-08T11:20:18.816611",
   "environment_variables": {},
   "exception": null,
   "input_path": "__notebook__.ipynb",
   "output_path": "__notebook__.ipynb",
   "parameters": {},
   "start_time": "2023-04-08T10:11:26.169673",
   "version": "2.4.0"
  }
 },
 "nbformat": 4,
 "nbformat_minor": 5
}
