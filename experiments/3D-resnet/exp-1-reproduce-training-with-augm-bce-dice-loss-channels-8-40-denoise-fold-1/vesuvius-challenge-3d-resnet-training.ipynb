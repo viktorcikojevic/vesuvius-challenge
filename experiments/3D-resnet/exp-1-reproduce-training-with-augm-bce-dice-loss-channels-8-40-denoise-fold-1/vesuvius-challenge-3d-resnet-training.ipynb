{
 "cells": [
  {
   "attachments": {},
   "cell_type": "markdown",
   "id": "73dea9ca",
   "metadata": {
    "papermill": {
     "duration": 0.006587,
     "end_time": "2023-04-08T10:11:36.662576",
     "exception": false,
     "start_time": "2023-04-08T10:11:36.655989",
     "status": "completed"
    },
    "tags": []
   },
   "source": [
    "## Vesuvius Challenge - Ink Detection Training Notebook"
   ]
  },
  {
   "attachments": {},
   "cell_type": "markdown",
   "id": "8cdbb7ff",
   "metadata": {
    "papermill": {
     "duration": 0.004951,
     "end_time": "2023-04-08T10:11:36.672955",
     "exception": false,
     "start_time": "2023-04-08T10:11:36.668004",
     "status": "completed"
    },
    "tags": []
   },
   "source": [
    "### Setup"
   ]
  },
  {
   "cell_type": "code",
   "execution_count": 1,
   "id": "ae445317",
   "metadata": {
    "_kg_hide-input": false,
    "_kg_hide-output": true,
    "execution": {
     "iopub.execute_input": "2023-05-23T21:11:47.564065Z",
     "iopub.status.busy": "2023-05-23T21:11:47.563651Z",
     "iopub.status.idle": "2023-05-23T21:11:47.741174Z",
     "shell.execute_reply": "2023-05-23T21:11:47.739203Z"
    },
    "papermill": {
     "duration": 29.297355,
     "end_time": "2023-04-08T10:12:05.976007",
     "exception": false,
     "start_time": "2023-04-08T10:11:36.678652",
     "status": "completed"
    },
    "tags": []
   },
   "outputs": [],
   "source": [
    "# # Pretrained weights\n",
    "# # ref - https://github.com/kenshohara/3D-ResNets-PyTorch\n",
    "# !pip install gdown\n",
    "# !gdown 1Nb4abvIkkp_ydPFA9sNPT1WakoVKA8Fa\n",
    "\n",
    "# # Utility packages for reading and visualizing volumes\n",
    "# !pip install zarr imageio-ffmpeg\n",
    "\n",
    "# save model checkpoints\n",
    "!mkdir ./ckpts"
   ]
  },
  {
   "cell_type": "code",
   "execution_count": 2,
   "id": "0d956f5c",
   "metadata": {
    "execution": {
     "iopub.execute_input": "2023-05-23T21:11:47.746484Z",
     "iopub.status.busy": "2023-05-23T21:11:47.746101Z",
     "iopub.status.idle": "2023-05-23T21:11:48.524981Z",
     "shell.execute_reply": "2023-05-23T21:11:48.524635Z"
    },
    "papermill": {
     "duration": 3.289261,
     "end_time": "2023-04-08T10:12:09.273534",
     "exception": false,
     "start_time": "2023-04-08T10:12:05.984273",
     "status": "completed"
    },
    "tags": []
   },
   "outputs": [],
   "source": [
    "import os\n",
    "import gc\n",
    "import sys\n",
    "import zarr\n",
    "import random\n",
    "import imageio\n",
    "import numpy as np\n",
    "import pandas as pd\n",
    "from tqdm import tqdm\n",
    "import matplotlib.pyplot as plt\n",
    "from IPython.display import Video\n",
    "\n",
    "import torch\n",
    "import torch.nn as nn\n",
    "import torch.nn.functional as F\n",
    "from torch.cuda import amp\n",
    "from torch.utils.data import Dataset, DataLoader\n",
    "\n",
    "sys.path.append(\"./resnet3d\")\n",
    "from resnet3d import generate_model"
   ]
  },
  {
   "attachments": {},
   "cell_type": "markdown",
   "id": "88b00fe4",
   "metadata": {
    "papermill": {
     "duration": 0.007297,
     "end_time": "2023-04-08T10:12:09.288770",
     "exception": false,
     "start_time": "2023-04-08T10:12:09.281473",
     "status": "completed"
    },
    "tags": []
   },
   "source": [
    "### Config"
   ]
  },
  {
   "cell_type": "code",
   "execution_count": 3,
   "id": "59e26b77",
   "metadata": {
    "execution": {
     "iopub.execute_input": "2023-05-23T21:11:48.526534Z",
     "iopub.status.busy": "2023-05-23T21:11:48.526360Z",
     "iopub.status.idle": "2023-05-23T21:11:48.528279Z",
     "shell.execute_reply": "2023-05-23T21:11:48.528102Z"
    },
    "papermill": {
     "duration": 0.016571,
     "end_time": "2023-04-08T10:12:09.312935",
     "exception": false,
     "start_time": "2023-04-08T10:12:09.296364",
     "status": "completed"
    },
    "tags": []
   },
   "outputs": [],
   "source": [
    "LR = 1e-4\n",
    "EPOCHS = 500\n",
    "BATCH_SIZE = 32\n",
    "CROP_SIZE = 256\n",
    "INITIAL_IMAGE_SIZE = 768\n",
    "Z_START = 8\n",
    "Z_DIMS = 32\n",
    "TRAIN_FRAGMENTS = [\"2\", \"3\"]\n",
    "TEST_FRAGMENT = \"1\""
   ]
  },
  {
   "attachments": {},
   "cell_type": "markdown",
   "id": "9a1e0328",
   "metadata": {
    "papermill": {
     "duration": 0.007428,
     "end_time": "2023-04-08T10:12:09.328094",
     "exception": false,
     "start_time": "2023-04-08T10:12:09.320666",
     "status": "completed"
    },
    "tags": []
   },
   "source": [
    "### Load data"
   ]
  },
  {
   "cell_type": "code",
   "execution_count": 4,
   "id": "8c494d99",
   "metadata": {
    "execution": {
     "iopub.execute_input": "2023-05-23T21:11:48.529514Z",
     "iopub.status.busy": "2023-05-23T21:11:48.529428Z",
     "iopub.status.idle": "2023-05-23T21:11:48.537483Z",
     "shell.execute_reply": "2023-05-23T21:11:48.537260Z"
    },
    "papermill": {
     "duration": 0.054715,
     "end_time": "2023-04-08T10:12:09.391635",
     "exception": false,
     "start_time": "2023-04-08T10:12:09.336920",
     "status": "completed"
    },
    "tags": []
   },
   "outputs": [],
   "source": [
    "\n",
    "\n",
    "FRAGMENTS_ZARR = {\n",
    "    \"1\" : zarr.open(\"/home/viktor/Documents/kaggle/vesuvius-challenge/kaggle-data/train-1.zarr\", mode=\"r\"),\n",
    "    \"2\" : zarr.open(\"/home/viktor/Documents/kaggle/vesuvius-challenge/kaggle-data/train-2.zarr\", mode=\"r\"),\n",
    "    \"3\" : zarr.open(\"/home/viktor/Documents/kaggle/vesuvius-challenge/kaggle-data/train-3.zarr\", mode=\"r\")\n",
    "}\n",
    "\n",
    "FRAGMENTS_SHAPE = {k : v.mask.shape for k, v in FRAGMENTS_ZARR.items()}"
   ]
  },
  {
   "attachments": {},
   "cell_type": "markdown",
   "id": "97a51afa",
   "metadata": {
    "papermill": {
     "duration": 0.007406,
     "end_time": "2023-04-08T10:12:09.406465",
     "exception": false,
     "start_time": "2023-04-08T10:12:09.399059",
     "status": "completed"
    },
    "tags": []
   },
   "source": [
    "### Visualise input"
   ]
  },
  {
   "cell_type": "code",
   "execution_count": 5,
   "id": "6d33b9f8",
   "metadata": {
    "execution": {
     "iopub.execute_input": "2023-05-23T21:11:48.538573Z",
     "iopub.status.busy": "2023-05-23T21:11:48.538425Z",
     "iopub.status.idle": "2023-05-23T21:11:48.757174Z",
     "shell.execute_reply": "2023-05-23T21:11:48.756867Z"
    },
    "papermill": {
     "duration": 1.68744,
     "end_time": "2023-04-08T10:12:11.101290",
     "exception": false,
     "start_time": "2023-04-08T10:12:09.413850",
     "status": "completed"
    },
    "tags": []
   },
   "outputs": [
    {
     "name": "stderr",
     "output_type": "stream",
     "text": [
      "Lossy conversion from uint16 to uint8. Losing 8 bits of resolution. Convert image to uint8 prior to saving to suppress this warning.\n",
      "Lossy conversion from uint16 to uint8. Losing 8 bits of resolution. Convert image to uint8 prior to saving to suppress this warning.\n",
      "Lossy conversion from uint16 to uint8. Losing 8 bits of resolution. Convert image to uint8 prior to saving to suppress this warning.\n",
      "Lossy conversion from uint16 to uint8. Losing 8 bits of resolution. Convert image to uint8 prior to saving to suppress this warning.\n",
      "Lossy conversion from uint16 to uint8. Losing 8 bits of resolution. Convert image to uint8 prior to saving to suppress this warning.\n",
      "Lossy conversion from uint16 to uint8. Losing 8 bits of resolution. Convert image to uint8 prior to saving to suppress this warning.\n",
      "Lossy conversion from uint16 to uint8. Losing 8 bits of resolution. Convert image to uint8 prior to saving to suppress this warning.\n",
      "Lossy conversion from uint16 to uint8. Losing 8 bits of resolution. Convert image to uint8 prior to saving to suppress this warning.\n",
      "Lossy conversion from uint16 to uint8. Losing 8 bits of resolution. Convert image to uint8 prior to saving to suppress this warning.\n",
      "Lossy conversion from uint16 to uint8. Losing 8 bits of resolution. Convert image to uint8 prior to saving to suppress this warning.\n",
      "Lossy conversion from uint16 to uint8. Losing 8 bits of resolution. Convert image to uint8 prior to saving to suppress this warning.\n",
      "Lossy conversion from uint16 to uint8. Losing 8 bits of resolution. Convert image to uint8 prior to saving to suppress this warning.\n",
      "Lossy conversion from uint16 to uint8. Losing 8 bits of resolution. Convert image to uint8 prior to saving to suppress this warning.\n",
      "Lossy conversion from uint16 to uint8. Losing 8 bits of resolution. Convert image to uint8 prior to saving to suppress this warning.\n",
      "Lossy conversion from uint16 to uint8. Losing 8 bits of resolution. Convert image to uint8 prior to saving to suppress this warning.\n",
      "Lossy conversion from uint16 to uint8. Losing 8 bits of resolution. Convert image to uint8 prior to saving to suppress this warning.\n",
      "Lossy conversion from uint16 to uint8. Losing 8 bits of resolution. Convert image to uint8 prior to saving to suppress this warning.\n",
      "Lossy conversion from uint16 to uint8. Losing 8 bits of resolution. Convert image to uint8 prior to saving to suppress this warning.\n",
      "Lossy conversion from uint16 to uint8. Losing 8 bits of resolution. Convert image to uint8 prior to saving to suppress this warning.\n",
      "Lossy conversion from uint16 to uint8. Losing 8 bits of resolution. Convert image to uint8 prior to saving to suppress this warning.\n",
      "Lossy conversion from uint16 to uint8. Losing 8 bits of resolution. Convert image to uint8 prior to saving to suppress this warning.\n",
      "Lossy conversion from uint16 to uint8. Losing 8 bits of resolution. Convert image to uint8 prior to saving to suppress this warning.\n",
      "Lossy conversion from uint16 to uint8. Losing 8 bits of resolution. Convert image to uint8 prior to saving to suppress this warning.\n",
      "Lossy conversion from uint16 to uint8. Losing 8 bits of resolution. Convert image to uint8 prior to saving to suppress this warning.\n",
      "Lossy conversion from uint16 to uint8. Losing 8 bits of resolution. Convert image to uint8 prior to saving to suppress this warning.\n",
      "Lossy conversion from uint16 to uint8. Losing 8 bits of resolution. Convert image to uint8 prior to saving to suppress this warning.\n",
      "Lossy conversion from uint16 to uint8. Losing 8 bits of resolution. Convert image to uint8 prior to saving to suppress this warning.\n",
      "Lossy conversion from uint16 to uint8. Losing 8 bits of resolution. Convert image to uint8 prior to saving to suppress this warning.\n",
      "Lossy conversion from uint16 to uint8. Losing 8 bits of resolution. Convert image to uint8 prior to saving to suppress this warning.\n",
      "Lossy conversion from uint16 to uint8. Losing 8 bits of resolution. Convert image to uint8 prior to saving to suppress this warning.\n",
      "Lossy conversion from uint16 to uint8. Losing 8 bits of resolution. Convert image to uint8 prior to saving to suppress this warning.\n",
      "Lossy conversion from uint16 to uint8. Losing 8 bits of resolution. Convert image to uint8 prior to saving to suppress this warning.\n"
     ]
    },
    {
     "data": {
      "text/html": [
       "<video src=\"fragment_crop.mp4\" controls  width=\"256\"  height=\"256\">\n",
       "      Your browser does not support the <code>video</code> element.\n",
       "    </video>"
      ],
      "text/plain": [
       "<IPython.core.display.Video object>"
      ]
     },
     "execution_count": 5,
     "metadata": {},
     "output_type": "execute_result"
    }
   ],
   "source": [
    "fragment = FRAGMENTS_ZARR[\"1\"]\n",
    "x, y = 2000, 2000\n",
    "\n",
    "fragment_cropped = fragment.surface_volume[y:y+CROP_SIZE, x:x+CROP_SIZE, Z_START:Z_START+Z_DIMS]\n",
    "imageio.mimwrite(\"fragment_crop.mp4\", fragment_cropped.transpose(2, 0, 1), \"ffmpeg\")\n",
    "Video(\"fragment_crop.mp4\", height=256, width=256)"
   ]
  },
  {
   "cell_type": "code",
   "execution_count": 6,
   "id": "46203a93",
   "metadata": {
    "execution": {
     "iopub.execute_input": "2023-05-23T21:11:48.758446Z",
     "iopub.status.busy": "2023-05-23T21:11:48.758337Z",
     "iopub.status.idle": "2023-05-23T21:11:48.799498Z",
     "shell.execute_reply": "2023-05-23T21:11:48.799308Z"
    },
    "papermill": {
     "duration": 0.258785,
     "end_time": "2023-04-08T10:12:11.368608",
     "exception": false,
     "start_time": "2023-04-08T10:12:11.109823",
     "status": "completed"
    },
    "tags": []
   },
   "outputs": [
    {
     "data": {
      "image/png": "[encoded data removed]",
      "text/plain": [
       "<Figure size 600x300 with 2 Axes>"
      ]
     },
     "metadata": {},
     "output_type": "display_data"
    }
   ],
   "source": [
    "mask_cropped = fragment.truth[y:y+CROP_SIZE, x:x+CROP_SIZE]\n",
    "ir_cropped = fragment.infrared[y:y+CROP_SIZE, x:x+CROP_SIZE]\n",
    "\n",
    "plt.figure(figsize=(6, 3))\n",
    "plt.subplot(1, 2, 1)\n",
    "plt.imshow(mask_cropped, cmap=\"gray\")\n",
    "plt.axis(\"off\")\n",
    "\n",
    "plt.subplot(1, 2, 2)\n",
    "plt.imshow(ir_cropped, cmap=\"gray\")\n",
    "plt.axis(\"off\")\n",
    "plt.show()"
   ]
  },
  {
   "cell_type": "code",
   "execution_count": 7,
   "id": "6462d25d",
   "metadata": {
    "execution": {
     "iopub.execute_input": "2023-05-23T21:11:48.800528Z",
     "iopub.status.busy": "2023-05-23T21:11:48.800418Z",
     "iopub.status.idle": "2023-05-23T21:11:48.847632Z",
     "shell.execute_reply": "2023-05-23T21:11:48.847299Z"
    },
    "papermill": {
     "duration": 0.17287,
     "end_time": "2023-04-08T10:12:11.562933",
     "exception": false,
     "start_time": "2023-04-08T10:12:11.390063",
     "status": "completed"
    },
    "tags": []
   },
   "outputs": [
    {
     "data": {
      "text/plain": [
       "4108"
      ]
     },
     "execution_count": 7,
     "metadata": {},
     "output_type": "execute_result"
    }
   ],
   "source": [
    "del fragment, fragment_cropped, mask_cropped, ir_cropped\n",
    "gc.collect()"
   ]
  },
  {
   "attachments": {},
   "cell_type": "markdown",
   "id": "ff9cd3e8",
   "metadata": {
    "papermill": {
     "duration": 0.008474,
     "end_time": "2023-04-08T10:12:11.580070",
     "exception": false,
     "start_time": "2023-04-08T10:12:11.571596",
     "status": "completed"
    },
    "tags": []
   },
   "source": [
    "### Dataloaders"
   ]
  },
  {
   "cell_type": "code",
   "execution_count": 8,
   "id": "162ec4e8",
   "metadata": {
    "execution": {
     "iopub.execute_input": "2023-05-23T21:11:48.848781Z",
     "iopub.status.busy": "2023-05-23T21:11:48.848671Z",
     "iopub.status.idle": "2023-05-23T21:11:48.850671Z",
     "shell.execute_reply": "2023-05-23T21:11:48.850481Z"
    },
    "papermill": {
     "duration": 0.024571,
     "end_time": "2023-04-08T10:12:11.612905",
     "exception": false,
     "start_time": "2023-04-08T10:12:11.588334",
     "status": "completed"
    },
    "tags": []
   },
   "outputs": [],
   "source": [
    "# import albumentations as A\n",
    "# from albumentations.pytorch import ToTensorV2\n",
    "\n",
    "# class VesuviusTrain(Dataset):\n",
    "#     def __init__(self, fragments):\n",
    "#         self.fragments = fragments\n",
    "#         self.xys = []\n",
    "        \n",
    "#         for fragment in fragments:\n",
    "#             H, W = FRAGMENTS_SHAPE[fragment]\n",
    "#             for y in range(0, H-CROP_SIZE+1, CROP_SIZE):\n",
    "#                 for x in range(0, W-CROP_SIZE+1, CROP_SIZE):\n",
    "#                     self.xys.append((fragment, x, y, W, H))\n",
    "        \n",
    "#         train_aug_list = [\n",
    "#                 # A.RandomResizedCrop(\n",
    "#                 #     size, size, scale=(0.85, 1.0)),\n",
    "#                 A.HorizontalFlip(p=0.5),\n",
    "#                 A.VerticalFlip(p=0.5),\n",
    "#                 A.RandomBrightnessContrast(p=0.75),\n",
    "#                 A.CoarseDropout(max_holes=1, max_width=int(CROP_SIZE * 0.1), max_height=int(size * 0.1), \n",
    "#                                 mask_fill_value=0, p=0.5),\n",
    "#                 A.ShiftScaleRotate(p=0.75),\n",
    "#                 A.Rotate(limit=90, p=0.9), \n",
    "#                 A.OneOf([\n",
    "#                         A.GaussNoise(var_limit=[10, 50]),\n",
    "#                         A.GaussianBlur(),\n",
    "#                         A.MotionBlur(),\n",
    "#                         ], p=0.4),\n",
    "#                 A.GridDistortion(num_steps=1, distort_limit=0.3, p=0.5),\n",
    "                \n",
    "#                 A.Cutout(max_h_size=int(size * 0.6),\n",
    "#                          max_w_size=int(size * 0.6), num_holes=1, p=1.0),\n",
    "#                 A.Normalize(\n",
    "#                     mean= [0] * Z_DIMS,\n",
    "#                     std= [1] * Z_DIMS\n",
    "#                 ),\n",
    "#                 ToTensorV2(transpose_mask=True),\n",
    "#             ]\n",
    "        \n",
    "        \n",
    "        \n",
    "#     def __getitem__(self, i):\n",
    "#         fragment, x1, y1, W, H = self.xys[i]\n",
    "#         z1, z2 = Z_START, Z_START+Z_DIMS\n",
    "        \n",
    "#         x_offset = random.randint(-32 if x1 != 0 else 0, 32)\n",
    "#         y_offset = random.randint(-32 if y1 != 0 else 0, 32)\n",
    "        \n",
    "#         x1 += x_offset\n",
    "#         y1 += y_offset\n",
    "        \n",
    "#         x2 = x1 + CROP_SIZE\n",
    "#         y2 = y1 + CROP_SIZE\n",
    "        \n",
    "#         if x2 > W:\n",
    "#             x1 -= x_offset\n",
    "#             x2 -= x_offset\n",
    "            \n",
    "#         if y2 > H:\n",
    "#             y1 -= y_offset\n",
    "#             y2 -= y_offset\n",
    "        \n",
    "#         frag_crop = FRAGMENTS_ZARR[fragment].surface_volume[y1:y2, x1:x2, z1:z2]\n",
    "#         mask_crop = FRAGMENTS_ZARR[fragment].truth[y1:y2, x1:x2]\n",
    "        \n",
    "#         if random.random() > 0.5:\n",
    "#             frag_crop = np.flip(frag_crop, axis=1).copy()\n",
    "#             mask_crop = np.flip(mask_crop, axis=1).copy()\n",
    "\n",
    "#         frag_crop = torch.from_numpy(frag_crop.astype(np.float32)).unsqueeze(0).permute(0, 3, 1, 2)\n",
    "#         frag_crop = frag_crop/65535.0\n",
    "#         frag_crop = (frag_crop - 0.45)/0.225\n",
    "        \n",
    "#         mask_crop = torch.from_numpy(mask_crop.astype(np.float32)).unsqueeze(0)\n",
    "        \n",
    "        \n",
    "        \n",
    "        \n",
    "        \n",
    "        \n",
    "        \n",
    "        \n",
    "#         return frag_crop, mask_crop\n",
    "\n",
    "#     def __len__(self):\n",
    "#         return len(self.xys)"
   ]
  },
  {
   "cell_type": "code",
   "execution_count": 9,
   "id": "c2c0c6d5",
   "metadata": {
    "execution": {
     "iopub.execute_input": "2023-05-23T21:11:48.851576Z",
     "iopub.status.busy": "2023-05-23T21:11:48.851485Z",
     "iopub.status.idle": "2023-05-23T21:11:49.154672Z",
     "shell.execute_reply": "2023-05-23T21:11:49.154240Z"
    }
   },
   "outputs": [],
   "source": [
    "import albumentations as A\n",
    "from albumentations.pytorch import ToTensorV2\n",
    "\n",
    "class VesuviusTrain(Dataset):\n",
    "    def __init__(self, fragments):\n",
    "        self.fragments = fragments\n",
    "        self.xys = []\n",
    "        \n",
    "        for fragment in fragments:\n",
    "            H, W = FRAGMENTS_SHAPE[fragment]\n",
    "            for y in range(0, H-INITIAL_IMAGE_SIZE+1, INITIAL_IMAGE_SIZE):\n",
    "                for x in range(0, W-INITIAL_IMAGE_SIZE+1, INITIAL_IMAGE_SIZE):\n",
    "                    surface = FRAGMENTS_ZARR[fragment].surface_volume[y:y+INITIAL_IMAGE_SIZE, x:x+INITIAL_IMAGE_SIZE, 0]\n",
    "                    self.xys.append((fragment, x, y, W, H))\n",
    "                    # if np.sum(np.where(surface>0)) / (surface.shape[0] * surface.shape[1]) > 0.2:\n",
    "                    #     self.xys.append((fragment, x, y, W, H))\n",
    "        \n",
    "        self.train_aug_list = [\n",
    "                # A.RandomResizedCrop(\n",
    "                #     size, size, scale=(0.85, 1.0)),\n",
    "                \n",
    "                # resize to CROP_SIZExCROP_SIZE\n",
    "                A.Resize(CROP_SIZE, CROP_SIZE),\n",
    "                \n",
    "                \n",
    "                A.HorizontalFlip(p=0.5),\n",
    "                A.VerticalFlip(p=0.5),\n",
    "                \n",
    "                # A.RandomBrightnessContrast(p=0.75),\n",
    "                # A.CoarseDropout(max_holes=1, max_width=int(INITIAL_IMAGE_SIZE * 0.1), max_height=int(INITIAL_IMAGE_SIZE * 0.1), \n",
    "                #                 mask_fill_value=0, p=0.5),\n",
    "                # A.ShiftScaleRotate(p=0.75),\n",
    "                \n",
    "                A.Rotate(limit=90, p=0.9), \n",
    "                \n",
    "                # A.OneOf([\n",
    "                #         A.GaussNoise(var_limit=[1, 5]),\n",
    "                #         A.GaussianBlur(),\n",
    "                #         A.MotionBlur(),\n",
    "                #         ], p=0.4),\n",
    "                # A.GridDistortion(num_steps=1, distort_limit=0.3, p=0.5),\n",
    "                \n",
    "                # A.Cutout(max_h_size=int(INITIAL_IMAGE_SIZE * 0.2),\n",
    "                #          max_w_size=int(INITIAL_IMAGE_SIZE * 0.2), num_holes=1, p=1.0),\n",
    "                # A.Normalize(\n",
    "                #     mean= [0] * Z_DIMS,\n",
    "                #     std= [1] * Z_DIMS\n",
    "                # ),\n",
    "                \n",
    "                \n",
    "                ToTensorV2(transpose_mask=True),\n",
    "            ]\n",
    "        \n",
    "        # Create the augmentation pipeline\n",
    "        self.augmentations = A.Compose(self.train_aug_list)\n",
    "        \n",
    "        \n",
    "        \n",
    "    def __getitem__(self, i):\n",
    "        fragment, x1, y1, W, H = self.xys[i]\n",
    "        z1, z2 = Z_START, Z_START+Z_DIMS\n",
    "        \n",
    "        x_offset = random.randint(-256 if x1 != 0 else 0, 256)\n",
    "        y_offset = random.randint(-256 if y1 != 0 else 0, 256)\n",
    "        \n",
    "        x1 += x_offset\n",
    "        y1 += y_offset\n",
    "        \n",
    "        x2 = x1 + INITIAL_IMAGE_SIZE\n",
    "        y2 = y1 + INITIAL_IMAGE_SIZE\n",
    "        \n",
    "        if x2 > W:\n",
    "            x1 -= x_offset\n",
    "            x2 -= x_offset\n",
    "            \n",
    "        if y2 > H:\n",
    "            y1 -= y_offset\n",
    "            y2 -= y_offset\n",
    "        \n",
    "        frag_crop = FRAGMENTS_ZARR[fragment].surface_volume[y1:y2, x1:x2, z1:z2]\n",
    "        mask_crop = FRAGMENTS_ZARR[fragment].truth[y1:y2, x1:x2]\n",
    "        \n",
    "        # if random.random() > 0.5:\n",
    "        #     frag_crop = np.flip(frag_crop, axis=1).copy()\n",
    "        #     mask_crop = np.flip(mask_crop, axis=1).copy()\n",
    "\n",
    "        # Perform train augmentations\n",
    "\n",
    "        frag_crop = frag_crop/65535.0\n",
    "        \n",
    "\n",
    "        # Apply the augmentations\n",
    "        augmented = self.augmentations(image=frag_crop, mask=mask_crop)\n",
    "\n",
    "        # Separate the image and mask\n",
    "        frag_crop, mask_crop = augmented[\"image\"], augmented[\"mask\"]\n",
    "\n",
    "        # normalize\n",
    "        \n",
    "        # frag_crop = (frag_crop - 0.45)/0.225\n",
    "        \n",
    "        frag_crop = frag_crop.unsqueeze(0)\n",
    "        mask_crop = mask_crop.float().unsqueeze(0)\n",
    "        \n",
    "        \n",
    "        \n",
    "        # image -> image * (1 - random_from_0_to_0.3 * mask_crop)\n",
    "        if np.random.uniform(0, 1.0) > 0.5:\n",
    "            frag_crop = frag_crop * (1 - np.random.uniform(0, 0.3) * mask_crop)\n",
    "        \n",
    "        \n",
    "        return frag_crop, mask_crop\n",
    "\n",
    "    def __len__(self):\n",
    "        return len(self.xys)"
   ]
  },
  {
   "cell_type": "code",
   "execution_count": 10,
   "id": "f172c2ad",
   "metadata": {
    "execution": {
     "iopub.execute_input": "2023-05-23T21:11:49.156359Z",
     "iopub.status.busy": "2023-05-23T21:11:49.156141Z",
     "iopub.status.idle": "2023-05-23T21:11:49.159686Z",
     "shell.execute_reply": "2023-05-23T21:11:49.159498Z"
    },
    "papermill": {
     "duration": 0.022963,
     "end_time": "2023-04-08T10:12:11.644387",
     "exception": false,
     "start_time": "2023-04-08T10:12:11.621424",
     "status": "completed"
    },
    "tags": []
   },
   "outputs": [],
   "source": [
    "class VesuviusVal(Dataset):\n",
    "    def __init__(self, fragment):\n",
    "        self.fragment = FRAGMENTS_ZARR[fragment]\n",
    "        self.xys = []\n",
    "        \n",
    "        H, W = FRAGMENTS_SHAPE[fragment]\n",
    "        for y in range(0, H-INITIAL_IMAGE_SIZE+1, INITIAL_IMAGE_SIZE):\n",
    "            for x in range(0, W-INITIAL_IMAGE_SIZE+1, INITIAL_IMAGE_SIZE):\n",
    "                self.xys.append((x, y))\n",
    "                \n",
    "        self.resize = [\n",
    "                # resize to CROP_SIZExCROP_SIZE\n",
    "                A.Resize(CROP_SIZE, CROP_SIZE),\n",
    "                ToTensorV2(transpose_mask=True),\n",
    "            ]\n",
    "        \n",
    "        # Create the augmentation pipeline\n",
    "        self.augmentations = A.Compose(self.resize)\n",
    "                \n",
    "    def __getitem__(self, i):\n",
    "        x1, y1 = self.xys[i]\n",
    "        x2, y2 = x1+INITIAL_IMAGE_SIZE, y1+INITIAL_IMAGE_SIZE\n",
    "        z1, z2 = Z_START, Z_START+Z_DIMS\n",
    "        \n",
    "        frag_crop = self.fragment.surface_volume[y1:y2, x1:x2, z1:z2]\n",
    "        mask_crop = self.fragment.truth[y1:y2, x1:x2]\n",
    "\n",
    "        frag_crop = frag_crop/65535.0\n",
    "        \n",
    "        # resize to CROP_SIZExCROP_SIZE\n",
    "        augmented = self.augmentations(image=frag_crop, mask=mask_crop)\n",
    "\n",
    "        # Separate the image and mask\n",
    "        frag_crop, mask_crop = augmented[\"image\"], augmented[\"mask\"]\n",
    "        \n",
    "        frag_crop = frag_crop.float().unsqueeze(0)\n",
    "        mask_crop = mask_crop.float().unsqueeze(0)\n",
    "        \n",
    "        \n",
    "        \n",
    "        # frag_crop = torch.from_numpy(frag_crop.astype(np.float32)).unsqueeze(0).permute(0, 3, 1, 2)\n",
    "        # # frag_crop = (frag_crop - 0.45)/0.225\n",
    "        \n",
    "        # mask_crop = torch.from_numpy(mask_crop.astype(np.float32)).unsqueeze(0)\n",
    "        \n",
    "        \n",
    "        \n",
    "        \n",
    "        return frag_crop, mask_crop, torch.tensor([x1, y1, x2, y2], dtype=torch.int32)\n",
    "\n",
    "    def __len__(self):\n",
    "        return len(self.xys)"
   ]
  },
  {
   "cell_type": "code",
   "execution_count": 11,
   "id": "4282f924",
   "metadata": {
    "execution": {
     "iopub.execute_input": "2023-05-23T21:11:49.160780Z",
     "iopub.status.busy": "2023-05-23T21:11:49.160701Z",
     "iopub.status.idle": "2023-05-23T21:11:50.677680Z",
     "shell.execute_reply": "2023-05-23T21:11:50.677422Z"
    },
    "papermill": {
     "duration": 0.019671,
     "end_time": "2023-04-08T10:12:11.672490",
     "exception": false,
     "start_time": "2023-04-08T10:12:11.652819",
     "status": "completed"
    },
    "tags": []
   },
   "outputs": [],
   "source": [
    "dataset_train = VesuviusTrain(TRAIN_FRAGMENTS)\n",
    "dataloader_train = DataLoader(dataset_train, batch_size=BATCH_SIZE, num_workers=2,\n",
    "                              shuffle=True, pin_memory=True, drop_last=True)\n",
    "n_train = len(dataloader_train)\n",
    "\n",
    "dataset_valid = VesuviusVal(TEST_FRAGMENT)\n",
    "dataloader_valid = DataLoader(dataset_valid, batch_size=BATCH_SIZE, num_workers=2,\n",
    "                              shuffle=False, pin_memory=True, drop_last=False)\n",
    "n_valid = len(dataloader_valid)"
   ]
  },
  {
   "cell_type": "code",
   "execution_count": 12,
   "id": "0577f1a6",
   "metadata": {
    "execution": {
     "iopub.execute_input": "2023-05-23T21:11:50.678988Z",
     "iopub.status.busy": "2023-05-23T21:11:50.678871Z",
     "iopub.status.idle": "2023-05-23T21:11:50.934702Z",
     "shell.execute_reply": "2023-05-23T21:11:50.934494Z"
    }
   },
   "outputs": [
    {
     "data": {
      "text/plain": [
       "(tensor(0., dtype=torch.float64),\n",
       " tensor(1., dtype=torch.float64),\n",
       " torch.Size([1, 32, 256, 256]),\n",
       " torch.Size([1, 256, 256]))"
      ]
     },
     "execution_count": 12,
     "metadata": {},
     "output_type": "execute_result"
    }
   ],
   "source": [
    "i = random.randint(0, len(dataset_train))\n",
    "img, mask = dataset_train[i][0], dataset_train[i][1]\n",
    "img.min(), img.max(), img.shape, mask.shape"
   ]
  },
  {
   "cell_type": "code",
   "execution_count": 13,
   "id": "40a15748",
   "metadata": {
    "execution": {
     "iopub.execute_input": "2023-05-23T21:11:50.935887Z",
     "iopub.status.busy": "2023-05-23T21:11:50.935773Z",
     "iopub.status.idle": "2023-05-23T21:11:51.181194Z",
     "shell.execute_reply": "2023-05-23T21:11:51.180981Z"
    }
   },
   "outputs": [
    {
     "data": {
      "text/plain": [
       "(tensor(0.),\n",
       " tensor(1.),\n",
       " torch.Size([1, 32, 256, 256]),\n",
       " torch.Size([1, 256, 256]))"
      ]
     },
     "execution_count": 13,
     "metadata": {},
     "output_type": "execute_result"
    }
   ],
   "source": [
    "i = random.randint(0, len(dataset_valid))\n",
    "img, mask = dataset_valid[i][0], dataset_valid[i][1]\n",
    "img.min(), img.max(), img.shape, mask.shape"
   ]
  },
  {
   "attachments": {},
   "cell_type": "markdown",
   "id": "cdcc7e0b",
   "metadata": {
    "papermill": {
     "duration": 0.008028,
     "end_time": "2023-04-08T10:12:11.688860",
     "exception": false,
     "start_time": "2023-04-08T10:12:11.680832",
     "status": "completed"
    },
    "tags": []
   },
   "source": [
    "### Model\n",
    "* Encoder is a 3D ResNet model. The architecture has been modified to remove temporal downsampling between blocks.\n",
    "* A 2D decoder is used for predicting the segmentation map.\n",
    "* The encoder feature maps are average pooled over the Z dimension before passing it to the decoder."
   ]
  },
  {
   "cell_type": "code",
   "execution_count": 14,
   "id": "ff7cc8a3",
   "metadata": {
    "execution": {
     "iopub.execute_input": "2023-05-23T21:11:51.182481Z",
     "iopub.status.busy": "2023-05-23T21:11:51.182323Z",
     "iopub.status.idle": "2023-05-23T21:11:51.186157Z",
     "shell.execute_reply": "2023-05-23T21:11:51.185969Z"
    },
    "papermill": {
     "duration": 0.023714,
     "end_time": "2023-04-08T10:12:11.721140",
     "exception": false,
     "start_time": "2023-04-08T10:12:11.697426",
     "status": "completed"
    },
    "tags": []
   },
   "outputs": [],
   "source": [
    "class Decoder(nn.Module):\n",
    "    def __init__(self, encoder_dims, upscale):\n",
    "        super().__init__()\n",
    "        self.convs = nn.ModuleList([\n",
    "            nn.Sequential(\n",
    "                nn.Conv2d(encoder_dims[i]+encoder_dims[i-1], encoder_dims[i-1], 3, 1, 1, bias=False),\n",
    "                nn.BatchNorm2d(encoder_dims[i-1]),\n",
    "                nn.ReLU(inplace=True)\n",
    "            ) for i in range(1, len(encoder_dims))])\n",
    "\n",
    "        self.logit = nn.Conv2d(encoder_dims[0], 1, 1, 1, 0)\n",
    "        self.up = nn.Upsample(scale_factor=upscale, mode=\"bilinear\")\n",
    "\n",
    "    def forward(self, feature_maps):\n",
    "        for i in range(len(feature_maps)-1, 0, -1):\n",
    "            f_up = F.interpolate(feature_maps[i], scale_factor=2, mode=\"bilinear\")\n",
    "            f = torch.cat([feature_maps[i-1], f_up], dim=1)\n",
    "            f_down = self.convs[i-1](f)\n",
    "            feature_maps[i-1] = f_down\n",
    "\n",
    "        x = self.logit(feature_maps[0])\n",
    "        mask = self.up(x)\n",
    "        return mask\n",
    "\n",
    "\n",
    "class SegModel(nn.Module):\n",
    "    def __init__(self):\n",
    "        super().__init__()\n",
    "        self.encoder = generate_model(model_depth=18, n_input_channels=1)\n",
    "        self.decoder = Decoder(encoder_dims=[64, 128, 256, 512], upscale=4)\n",
    "        \n",
    "    def forward(self, x):\n",
    "        feat_maps = self.encoder(x)\n",
    "        feat_maps_pooled = [torch.mean(f, dim=2) for f in feat_maps]\n",
    "        pred_mask = self.decoder(feat_maps_pooled)\n",
    "        return pred_mask\n",
    "    \n",
    "    def load_pretrained_weights(self, state_dict):\n",
    "        # Convert 3 channel weights to single channel\n",
    "        # ref - https://timm.fast.ai/models#Case-1:-When-the-number-of-input-channels-is-1\n",
    "        conv1_weight = state_dict['conv1.weight']\n",
    "        state_dict['conv1.weight'] = conv1_weight.sum(dim=1, keepdim=True)\n",
    "        print(self.encoder.load_state_dict(state_dict, strict=False))"
   ]
  },
  {
   "cell_type": "code",
   "execution_count": 15,
   "id": "67e4a0f1",
   "metadata": {
    "execution": {
     "iopub.execute_input": "2023-05-23T21:11:51.187128Z",
     "iopub.status.busy": "2023-05-23T21:11:51.186987Z",
     "iopub.status.idle": "2023-05-23T21:11:52.050494Z",
     "shell.execute_reply": "2023-05-23T21:11:52.050164Z"
    },
    "papermill": {
     "duration": 3.891528,
     "end_time": "2023-04-08T10:12:15.621016",
     "exception": false,
     "start_time": "2023-04-08T10:12:11.729488",
     "status": "completed"
    },
    "tags": []
   },
   "outputs": [
    {
     "name": "stdout",
     "output_type": "stream",
     "text": [
      "_IncompatibleKeys(missing_keys=[], unexpected_keys=['fc.weight', 'fc.bias'])\n"
     ]
    }
   ],
   "source": [
    "model = SegModel()\n",
    "model.load_pretrained_weights(torch.load(\"/home/viktor/Documents/kaggle/vesuvius-challenge/experiments/3D-resnet/r3d18_K_200ep.pth\")[\"state_dict\"])\n",
    "model = nn.DataParallel(model, device_ids=[0])\n",
    "\n",
    "model = model.cuda()"
   ]
  },
  {
   "cell_type": "code",
   "execution_count": 16,
   "id": "491e9288",
   "metadata": {
    "execution": {
     "iopub.execute_input": "2023-05-23T21:11:52.052039Z",
     "iopub.status.busy": "2023-05-23T21:11:52.051944Z",
     "iopub.status.idle": "2023-05-23T21:11:52.929628Z",
     "shell.execute_reply": "2023-05-23T21:11:52.929293Z"
    }
   },
   "outputs": [
    {
     "data": {
      "text/plain": [
       "torch.Size([5, 1, 256, 256])"
      ]
     },
     "execution_count": 16,
     "metadata": {},
     "output_type": "execute_result"
    }
   ],
   "source": [
    "x = torch.randn(5, 1, 16, 256, 256).cuda()\n",
    "with torch.no_grad():\n",
    "    y = model(x)\n",
    "y.shape"
   ]
  },
  {
   "attachments": {},
   "cell_type": "markdown",
   "id": "d84d7c0e",
   "metadata": {
    "papermill": {
     "duration": 0.008816,
     "end_time": "2023-04-08T10:12:15.638951",
     "exception": false,
     "start_time": "2023-04-08T10:12:15.630135",
     "status": "completed"
    },
    "tags": []
   },
   "source": [
    "### Competition metric (F0.5 Score)"
   ]
  },
  {
   "cell_type": "code",
   "execution_count": 17,
   "id": "61dbeb5c",
   "metadata": {
    "execution": {
     "iopub.execute_input": "2023-05-23T21:11:52.930976Z",
     "iopub.status.busy": "2023-05-23T21:11:52.930886Z",
     "iopub.status.idle": "2023-05-23T21:11:52.933213Z",
     "shell.execute_reply": "2023-05-23T21:11:52.933007Z"
    },
    "papermill": {
     "duration": 0.020268,
     "end_time": "2023-04-08T10:12:15.668008",
     "exception": false,
     "start_time": "2023-04-08T10:12:15.647740",
     "status": "completed"
    },
    "tags": []
   },
   "outputs": [],
   "source": [
    "# ref - https://www.kaggle.com/competitions/vesuvius-challenge-ink-detection/discussion/397288\n",
    "def fbeta_score(preds, targets, threshold, beta=0.5, smooth=1e-5):\n",
    "    preds_t = torch.where(preds > threshold, 1.0, 0.0).float()\n",
    "    y_true_count = targets.sum()\n",
    "    \n",
    "    ctp = preds_t[targets==1].sum()\n",
    "    cfp = preds_t[targets==0].sum()\n",
    "    beta_squared = beta * beta\n",
    "\n",
    "    c_precision = ctp / (ctp + cfp + smooth)\n",
    "    c_recall = ctp / (y_true_count + smooth)\n",
    "    dice = (1 + beta_squared) * (c_precision * c_recall) / (beta_squared * c_precision + c_recall + smooth)\n",
    "\n",
    "    return dice"
   ]
  },
  {
   "attachments": {},
   "cell_type": "markdown",
   "id": "639c9148",
   "metadata": {
    "papermill": {
     "duration": 0.008498,
     "end_time": "2023-04-08T10:12:15.685205",
     "exception": false,
     "start_time": "2023-04-08T10:12:15.676707",
     "status": "completed"
    },
    "tags": []
   },
   "source": [
    "### Training"
   ]
  },
  {
   "cell_type": "code",
   "execution_count": 18,
   "id": "0cca2e6e",
   "metadata": {
    "execution": {
     "iopub.execute_input": "2023-05-23T21:11:52.934437Z",
     "iopub.status.busy": "2023-05-23T21:11:52.934283Z",
     "iopub.status.idle": "2023-05-23T21:11:52.936188Z",
     "shell.execute_reply": "2023-05-23T21:11:52.936004Z"
    },
    "papermill": {
     "duration": 0.019067,
     "end_time": "2023-04-08T10:12:15.713237",
     "exception": false,
     "start_time": "2023-04-08T10:12:15.694170",
     "status": "completed"
    },
    "tags": []
   },
   "outputs": [],
   "source": [
    "scaler = amp.GradScaler()\n",
    "# criterion = nn.BCEWithLogitsLoss()\n",
    "\n",
    "\n",
    "optimizer = torch.optim.AdamW(model.parameters(), lr=LR)\n",
    "scheduler = torch.optim.lr_scheduler.OneCycleLR(optimizer, max_lr=LR,\n",
    "                                                steps_per_epoch=100, epochs=EPOCHS//10,\n",
    "                                                pct_start=0.1)"
   ]
  },
  {
   "cell_type": "code",
   "execution_count": 19,
   "id": "2a77a022",
   "metadata": {
    "execution": {
     "iopub.execute_input": "2023-05-23T21:11:52.937324Z",
     "iopub.status.busy": "2023-05-23T21:11:52.937207Z",
     "iopub.status.idle": "2023-05-23T21:11:53.715952Z",
     "shell.execute_reply": "2023-05-23T21:11:53.715448Z"
    }
   },
   "outputs": [],
   "source": [
    "import segmentation_models_pytorch as smp\n",
    "DiceLoss = smp.losses.DiceLoss(mode='binary')\n",
    "BCELoss = smp.losses.SoftBCEWithLogitsLoss()\n",
    "\n",
    "\n",
    "def criterion(y_pred, y_true):\n",
    "    return 0.5 * BCELoss(y_pred, y_true) + 0.5 * DiceLoss(y_pred, y_true)"
   ]
  },
  {
   "cell_type": "code",
   "execution_count": 20,
   "id": "7304e1fd",
   "metadata": {
    "execution": {
     "iopub.execute_input": "2023-05-23T21:11:53.717673Z",
     "iopub.status.busy": "2023-05-23T21:11:53.717582Z",
     "iopub.status.idle": "2023-05-23T21:11:53.757559Z",
     "shell.execute_reply": "2023-05-23T21:11:53.757186Z"
    },
    "papermill": {
     "duration": 0.385175,
     "end_time": "2023-04-08T10:12:16.107159",
     "exception": false,
     "start_time": "2023-04-08T10:12:15.721984",
     "status": "completed"
    },
    "tags": []
   },
   "outputs": [],
   "source": [
    "gt_mask = torch.from_numpy(np.asarray(FRAGMENTS_ZARR[TEST_FRAGMENT].truth)).float().cuda()\n",
    "gt_shape = FRAGMENTS_SHAPE[TEST_FRAGMENT]"
   ]
  },
  {
   "cell_type": "code",
   "execution_count": 21,
   "id": "c0b85bf1",
   "metadata": {
    "execution": {
     "iopub.execute_input": "2023-05-23T21:11:53.759096Z",
     "iopub.status.busy": "2023-05-23T21:11:53.759006Z",
     "iopub.status.idle": "2023-05-23T21:11:53.761012Z",
     "shell.execute_reply": "2023-05-23T21:11:53.760817Z"
    }
   },
   "outputs": [],
   "source": [
    "import logging\n",
    "\n",
    "logging.basicConfig(filename=\"training_log.txt\", level=logging.INFO)\n"
   ]
  },
  {
   "cell_type": "code",
   "execution_count": 22,
   "id": "00067c9c",
   "metadata": {
    "execution": {
     "iopub.execute_input": "2023-05-23T21:11:53.762132Z",
     "iopub.status.busy": "2023-05-23T21:11:53.762011Z",
     "iopub.status.idle": "2023-05-24T02:47:25.842891Z",
     "shell.execute_reply": "2023-05-24T02:47:25.835626Z"
    },
    "papermill": {
     "duration": 4077.588277,
     "end_time": "2023-04-08T11:20:13.706513",
     "exception": false,
     "start_time": "2023-04-08T10:12:16.118236",
     "status": "completed"
    },
    "tags": []
   },
   "outputs": [
    {
     "name": "stderr",
     "output_type": "stream",
     "text": [
      "Epoch 1/500  Mem : 18.8GB  LR : 4.00E-06  Loss: 0.8018: 100%|██████████| 8/8 [00:31<00:00,  4.00s/it]                                                                                                                                                        \n",
      "Val Loss: 0.7695: 100%|██████████| 3/3 [00:08<00:00,  2.92s/it]                                                                                                                                                                                              \n"
     ]
    },
    {
     "name": "stdout",
     "output_type": "stream",
     "text": [
      "Threshold : 0.20\tFBeta : 0.137125\n",
      "Threshold : 0.25\tFBeta : 0.137125\n",
      "Threshold : 0.30\tFBeta : 0.137125\n",
      "Threshold : 0.35\tFBeta : 0.137125\n",
      "Threshold : 0.40\tFBeta : 0.137125\n",
      "Threshold : 0.45\tFBeta : 0.137125\n",
      "Threshold : 0.50\tFBeta : 0.154795\n",
      "Threshold : 0.55\tFBeta : 0.083318\n",
      "Threshold : 0.60\tFBeta : 0.000000\n",
      "Threshold : 0.65\tFBeta : 0.000000\n",
      "Threshold : 0.70\tFBeta : 0.000000\n",
      "Threshold : 0.75\tFBeta : 0.000000\n",
      "Threshold : 0.80\tFBeta : 0.000000\n",
      "\n"
     ]
    },
    {
     "name": "stderr",
     "output_type": "stream",
     "text": [
      "Epoch 2/500  Mem : 19.8GB  LR : 4.00E-06  Loss: 0.7892: 100%|██████████| 8/8 [00:31<00:00,  3.90s/it]                                                                                                                                                        \n",
      "Val Loss: 0.7587: 100%|██████████| 3/3 [00:08<00:00,  2.86s/it]                                                                                                                                                                                              \n"
     ]
    },
    {
     "name": "stdout",
     "output_type": "stream",
     "text": [
      "Threshold : 0.20\tFBeta : 0.137125\n",
      "Threshold : 0.25\tFBeta : 0.137125\n",
      "Threshold : 0.30\tFBeta : 0.137125\n",
      "Threshold : 0.35\tFBeta : 0.137125\n",
      "Threshold : 0.40\tFBeta : 0.137125\n",
      "Threshold : 0.45\tFBeta : 0.154001\n",
      "Threshold : 0.50\tFBeta : 0.203808\n",
      "Threshold : 0.55\tFBeta : 0.227443\n",
      "Threshold : 0.60\tFBeta : 0.000964\n",
      "Threshold : 0.65\tFBeta : 0.000000\n",
      "Threshold : 0.70\tFBeta : 0.000000\n",
      "Threshold : 0.75\tFBeta : 0.000000\n",
      "Threshold : 0.80\tFBeta : 0.000000\n",
      "\n"
     ]
    },
    {
     "name": "stderr",
     "output_type": "stream",
     "text": [
      "Epoch 3/500  Mem : 19.8GB  LR : 4.00E-06  Loss: 0.7835: 100%|██████████| 8/8 [00:31<00:00,  3.92s/it]                                                                                                                                                        \n",
      "Val Loss: 0.7601: 100%|██████████| 3/3 [00:08<00:00,  2.87s/it]                                                                                                                                                                                              \n"
     ]
    },
    {
     "name": "stdout",
     "output_type": "stream",
     "text": [
      "Threshold : 0.20\tFBeta : 0.137125\n",
      "Threshold : 0.25\tFBeta : 0.137125\n",
      "Threshold : 0.30\tFBeta : 0.137125\n",
      "Threshold : 0.35\tFBeta : 0.137126\n",
      "Threshold : 0.40\tFBeta : 0.141417\n",
      "Threshold : 0.45\tFBeta : 0.173847\n",
      "Threshold : 0.50\tFBeta : 0.209439\n",
      "Threshold : 0.55\tFBeta : 0.234867\n",
      "Threshold : 0.60\tFBeta : 0.159908\n",
      "Threshold : 0.65\tFBeta : 0.008525\n",
      "Threshold : 0.70\tFBeta : 0.000000\n",
      "Threshold : 0.75\tFBeta : 0.000000\n",
      "Threshold : 0.80\tFBeta : 0.000000\n",
      "\n"
     ]
    },
    {
     "name": "stderr",
     "output_type": "stream",
     "text": [
      "Epoch 4/500  Mem : 19.8GB  LR : 4.01E-06  Loss: 0.7864: 100%|██████████| 8/8 [00:31<00:00,  3.96s/it]                                                                                                                                                        \n",
      "Val Loss: 0.7391: 100%|██████████| 3/3 [00:08<00:00,  2.86s/it]                                                                                                                                                                                              "
     ]
    },
    {
     "name": "stdout",
     "output_type": "stream",
     "text": [
      "Threshold : 0.20\tFBeta : 0.137125\n",
      "Threshold : 0.25\tFBeta : 0.137132\n",
      "Threshold : 0.30\tFBeta : 0.139308\n",
      "Threshold : 0.35\tFBeta : 0.158814\n",
      "Threshold : 0.40\tFBeta : 0.181325\n",
      "Threshold : 0.45\tFBeta : 0.204204\n",
      "Threshold : 0.50\tFBeta : 0.225304\n",
      "Threshold : 0.55\tFBeta : 0.234188\n",
      "Threshold : 0.60\tFBeta : 0.200833\n",
      "Threshold : 0.65\tFBeta : 0.083312\n",
      "Threshold : 0.70\tFBeta : 0.010676\n",
      "Threshold : 0.75\tFBeta : 0.000000\n",
      "Threshold : 0.80\tFBeta : 0.000000\n",
      "\n"
     ]
    },
    {
     "name": "stderr",
     "output_type": "stream",
     "text": [
      "\n",
      "Epoch 5/500  Mem : 19.8GB  LR : 4.02E-06  Loss: 0.7704: 100%|██████████| 8/8 [00:31<00:00,  3.88s/it]                                                                                                                                                        \n",
      "Val Loss: 0.7340: 100%|██████████| 3/3 [00:08<00:00,  2.87s/it]                                                                                                                                                                                              "
     ]
    },
    {
     "name": "stdout",
     "output_type": "stream",
     "text": [
      "Threshold : 0.20\tFBeta : 0.137125\n",
      "Threshold : 0.25\tFBeta : 0.137569\n",
      "Threshold : 0.30\tFBeta : 0.145514\n",
      "Threshold : 0.35\tFBeta : 0.162894\n",
      "Threshold : 0.40\tFBeta : 0.187271\n",
      "Threshold : 0.45\tFBeta : 0.205457\n",
      "Threshold : 0.50\tFBeta : 0.224167\n",
      "Threshold : 0.55\tFBeta : 0.228913\n",
      "Threshold : 0.60\tFBeta : 0.197753\n",
      "Threshold : 0.65\tFBeta : 0.121664\n",
      "Threshold : 0.70\tFBeta : 0.019413\n",
      "Threshold : 0.75\tFBeta : 0.000000\n",
      "Threshold : 0.80\tFBeta : 0.000000\n",
      "\n"
     ]
    },
    {
     "name": "stderr",
     "output_type": "stream",
     "text": [
      "\n",
      "Epoch 6/500  Mem : 19.8GB  LR : 4.02E-06  Loss: 0.7682: 100%|██████████| 8/8 [00:31<00:00,  3.93s/it]                                                                                                                                                        \n",
      "Val Loss: 0.7324: 100%|██████████| 3/3 [00:08<00:00,  2.86s/it]                                                                                                                                                                                              "
     ]
    },
    {
     "name": "stdout",
     "output_type": "stream",
     "text": [
      "Threshold : 0.20\tFBeta : 0.137134\n",
      "Threshold : 0.25\tFBeta : 0.138724\n",
      "Threshold : 0.30\tFBeta : 0.150130\n",
      "Threshold : 0.35\tFBeta : 0.167934\n",
      "Threshold : 0.40\tFBeta : 0.185081\n",
      "Threshold : 0.45\tFBeta : 0.202212\n",
      "Threshold : 0.50\tFBeta : 0.220017\n",
      "Threshold : 0.55\tFBeta : 0.229575\n",
      "Threshold : 0.60\tFBeta : 0.199855\n",
      "Threshold : 0.65\tFBeta : 0.124074\n",
      "Threshold : 0.70\tFBeta : 0.035156\n",
      "Threshold : 0.75\tFBeta : 0.000751\n",
      "Threshold : 0.80\tFBeta : 0.000000\n",
      "\n"
     ]
    },
    {
     "name": "stderr",
     "output_type": "stream",
     "text": [
      "\n",
      "Epoch 7/500  Mem : 19.8GB  LR : 4.03E-06  Loss: 0.7575: 100%|██████████| 8/8 [00:31<00:00,  3.95s/it]                                                                                                                                                        \n",
      "Val Loss: 0.7178: 100%|██████████| 3/3 [00:08<00:00,  2.86s/it]                                                                                                                                                                                              "
     ]
    },
    {
     "name": "stdout",
     "output_type": "stream",
     "text": [
      "Threshold : 0.20\tFBeta : 0.137148\n",
      "Threshold : 0.25\tFBeta : 0.142205\n",
      "Threshold : 0.30\tFBeta : 0.159077\n",
      "Threshold : 0.35\tFBeta : 0.174580\n",
      "Threshold : 0.40\tFBeta : 0.194188\n",
      "Threshold : 0.45\tFBeta : 0.213884\n",
      "Threshold : 0.50\tFBeta : 0.229310\n",
      "Threshold : 0.55\tFBeta : 0.231416\n",
      "Threshold : 0.60\tFBeta : 0.199919\n",
      "Threshold : 0.65\tFBeta : 0.105440\n",
      "Threshold : 0.70\tFBeta : 0.021246\n",
      "Threshold : 0.75\tFBeta : 0.000000\n",
      "Threshold : 0.80\tFBeta : 0.000000\n",
      "\n"
     ]
    },
    {
     "name": "stderr",
     "output_type": "stream",
     "text": [
      "\n",
      "Epoch 8/500  Mem : 19.8GB  LR : 4.05E-06  Loss: 0.7511: 100%|██████████| 8/8 [00:31<00:00,  3.97s/it]                                                                                                                                                        \n",
      "Val Loss: 0.7114: 100%|██████████| 3/3 [00:08<00:00,  2.87s/it]                                                                                                                                                                                              \n"
     ]
    },
    {
     "name": "stdout",
     "output_type": "stream",
     "text": [
      "Threshold : 0.20\tFBeta : 0.137332\n",
      "Threshold : 0.25\tFBeta : 0.141477\n",
      "Threshold : 0.30\tFBeta : 0.161728\n",
      "Threshold : 0.35\tFBeta : 0.183127\n",
      "Threshold : 0.40\tFBeta : 0.199503\n",
      "Threshold : 0.45\tFBeta : 0.220214\n",
      "Threshold : 0.50\tFBeta : 0.235127\n",
      "Threshold : 0.55\tFBeta : 0.234929\n",
      "Threshold : 0.60\tFBeta : 0.204095\n",
      "Threshold : 0.65\tFBeta : 0.108671\n",
      "Threshold : 0.70\tFBeta : 0.012443\n",
      "Threshold : 0.75\tFBeta : 0.000000\n",
      "Threshold : 0.80\tFBeta : 0.000000\n",
      "\n"
     ]
    },
    {
     "name": "stderr",
     "output_type": "stream",
     "text": [
      "Epoch 9/500  Mem : 19.8GB  LR : 4.06E-06  Loss: 0.7419: 100%|██████████| 8/8 [00:31<00:00,  3.90s/it]                                                                                                                                                        \n",
      "Val Loss: 0.7000: 100%|██████████| 3/3 [00:08<00:00,  2.87s/it]                                                                                                                                                                                              \n"
     ]
    },
    {
     "name": "stdout",
     "output_type": "stream",
     "text": [
      "Threshold : 0.20\tFBeta : 0.137290\n",
      "Threshold : 0.25\tFBeta : 0.146788\n",
      "Threshold : 0.30\tFBeta : 0.170420\n",
      "Threshold : 0.35\tFBeta : 0.189980\n",
      "Threshold : 0.40\tFBeta : 0.209881\n",
      "Threshold : 0.45\tFBeta : 0.229092\n",
      "Threshold : 0.50\tFBeta : 0.239462\n",
      "Threshold : 0.55\tFBeta : 0.236382\n",
      "Threshold : 0.60\tFBeta : 0.195552\n",
      "Threshold : 0.65\tFBeta : 0.097012\n",
      "Threshold : 0.70\tFBeta : 0.006723\n",
      "Threshold : 0.75\tFBeta : 0.000000\n",
      "Threshold : 0.80\tFBeta : 0.000000\n",
      "\n"
     ]
    },
    {
     "name": "stderr",
     "output_type": "stream",
     "text": [
      "Epoch 10/500  Mem : 19.8GB  LR : 4.08E-06  Loss: 0.7421: 100%|██████████| 8/8 [00:31<00:00,  3.92s/it]                                                                                                                                                       \n",
      "Val Loss: 0.7009: 100%|██████████| 3/3 [00:08<00:00,  2.86s/it]                                                                                                                                                                                              \n"
     ]
    },
    {
     "name": "stdout",
     "output_type": "stream",
     "text": [
      "Threshold : 0.20\tFBeta : 0.137210\n",
      "Threshold : 0.25\tFBeta : 0.144619\n",
      "Threshold : 0.30\tFBeta : 0.170295\n",
      "Threshold : 0.35\tFBeta : 0.190751\n",
      "Threshold : 0.40\tFBeta : 0.213342\n",
      "Threshold : 0.45\tFBeta : 0.230635\n",
      "Threshold : 0.50\tFBeta : 0.240515\n",
      "Threshold : 0.55\tFBeta : 0.239810\n",
      "Threshold : 0.60\tFBeta : 0.203211\n",
      "Threshold : 0.65\tFBeta : 0.111163\n",
      "Threshold : 0.70\tFBeta : 0.008167\n",
      "Threshold : 0.75\tFBeta : 0.000000\n",
      "Threshold : 0.80\tFBeta : 0.000000\n",
      "\n"
     ]
    },
    {
     "name": "stderr",
     "output_type": "stream",
     "text": [
      "Epoch 11/500  Mem : 19.8GB  LR : 4.10E-06  Loss: 0.7314: 100%|██████████| 8/8 [00:31<00:00,  3.89s/it]                                                                                                                                                       \n",
      "Val Loss: 0.7030: 100%|██████████| 3/3 [00:08<00:00,  2.90s/it]                                                                                                                                                                                              \n"
     ]
    },
    {
     "name": "stdout",
     "output_type": "stream",
     "text": [
      "Threshold : 0.20\tFBeta : 0.137150\n",
      "Threshold : 0.25\tFBeta : 0.140431\n",
      "Threshold : 0.30\tFBeta : 0.165726\n",
      "Threshold : 0.35\tFBeta : 0.188756\n",
      "Threshold : 0.40\tFBeta : 0.211498\n",
      "Threshold : 0.45\tFBeta : 0.229768\n",
      "Threshold : 0.50\tFBeta : 0.240283\n",
      "Threshold : 0.55\tFBeta : 0.240522\n",
      "Threshold : 0.60\tFBeta : 0.202952\n",
      "Threshold : 0.65\tFBeta : 0.108995\n",
      "Threshold : 0.70\tFBeta : 0.007079\n",
      "Threshold : 0.75\tFBeta : 0.000000\n",
      "Threshold : 0.80\tFBeta : 0.000000\n",
      "\n"
     ]
    },
    {
     "name": "stderr",
     "output_type": "stream",
     "text": [
      "Epoch 12/500  Mem : 19.8GB  LR : 4.12E-06  Loss: 0.7239: 100%|██████████| 8/8 [00:31<00:00,  3.91s/it]                                                                                                                                                       \n",
      "Val Loss: 0.6962: 100%|██████████| 3/3 [00:08<00:00,  2.85s/it]                                                                                                                                                                                              \n"
     ]
    },
    {
     "name": "stdout",
     "output_type": "stream",
     "text": [
      "Threshold : 0.20\tFBeta : 0.137146\n",
      "Threshold : 0.25\tFBeta : 0.143658\n",
      "Threshold : 0.30\tFBeta : 0.174614\n",
      "Threshold : 0.35\tFBeta : 0.198661\n",
      "Threshold : 0.40\tFBeta : 0.216576\n",
      "Threshold : 0.45\tFBeta : 0.230318\n",
      "Threshold : 0.50\tFBeta : 0.239926\n",
      "Threshold : 0.55\tFBeta : 0.241694\n",
      "Threshold : 0.60\tFBeta : 0.208323\n",
      "Threshold : 0.65\tFBeta : 0.110272\n",
      "Threshold : 0.70\tFBeta : 0.009368\n",
      "Threshold : 0.75\tFBeta : 0.000000\n",
      "Threshold : 0.80\tFBeta : 0.000000\n",
      "\n"
     ]
    },
    {
     "name": "stderr",
     "output_type": "stream",
     "text": [
      "Epoch 13/500  Mem : 19.8GB  LR : 4.14E-06  Loss: 0.7230: 100%|██████████| 8/8 [00:31<00:00,  3.88s/it]                                                                                                                                                       \n",
      "Val Loss: 0.6923: 100%|██████████| 3/3 [00:08<00:00,  2.90s/it]                                                                                                                                                                                              \n"
     ]
    },
    {
     "name": "stdout",
     "output_type": "stream",
     "text": [
      "Threshold : 0.20\tFBeta : 0.137164\n",
      "Threshold : 0.25\tFBeta : 0.145296\n",
      "Threshold : 0.30\tFBeta : 0.179074\n",
      "Threshold : 0.35\tFBeta : 0.200371\n",
      "Threshold : 0.40\tFBeta : 0.217802\n",
      "Threshold : 0.45\tFBeta : 0.231559\n",
      "Threshold : 0.50\tFBeta : 0.239406\n",
      "Threshold : 0.55\tFBeta : 0.241205\n",
      "Threshold : 0.60\tFBeta : 0.204036\n",
      "Threshold : 0.65\tFBeta : 0.099806\n",
      "Threshold : 0.70\tFBeta : 0.011897\n",
      "Threshold : 0.75\tFBeta : 0.000000\n",
      "Threshold : 0.80\tFBeta : 0.000000\n",
      "\n"
     ]
    },
    {
     "name": "stderr",
     "output_type": "stream",
     "text": [
      "Epoch 14/500  Mem : 19.8GB  LR : 4.16E-06  Loss: 0.7237: 100%|██████████| 8/8 [00:31<00:00,  3.99s/it]                                                                                                                                                       \n",
      "Val Loss: 0.6873: 100%|██████████| 3/3 [00:08<00:00,  2.85s/it]                                                                                                                                                                                              \n"
     ]
    },
    {
     "name": "stdout",
     "output_type": "stream",
     "text": [
      "Threshold : 0.20\tFBeta : 0.137235\n",
      "Threshold : 0.25\tFBeta : 0.149516\n",
      "Threshold : 0.30\tFBeta : 0.180360\n",
      "Threshold : 0.35\tFBeta : 0.204575\n",
      "Threshold : 0.40\tFBeta : 0.219541\n",
      "Threshold : 0.45\tFBeta : 0.232525\n",
      "Threshold : 0.50\tFBeta : 0.239167\n",
      "Threshold : 0.55\tFBeta : 0.238256\n",
      "Threshold : 0.60\tFBeta : 0.182677\n",
      "Threshold : 0.65\tFBeta : 0.073531\n",
      "Threshold : 0.70\tFBeta : 0.006769\n",
      "Threshold : 0.75\tFBeta : 0.000000\n",
      "Threshold : 0.80\tFBeta : 0.000000\n",
      "\n"
     ]
    },
    {
     "name": "stderr",
     "output_type": "stream",
     "text": [
      "Epoch 15/500  Mem : 19.8GB  LR : 4.19E-06  Loss: 0.7168: 100%|██████████| 8/8 [00:31<00:00,  4.00s/it]                                                                                                                                                       \n",
      "Val Loss: 0.6863: 100%|██████████| 3/3 [00:08<00:00,  2.88s/it]                                                                                                                                                                                              \n"
     ]
    },
    {
     "name": "stdout",
     "output_type": "stream",
     "text": [
      "Threshold : 0.20\tFBeta : 0.137220\n",
      "Threshold : 0.25\tFBeta : 0.144397\n",
      "Threshold : 0.30\tFBeta : 0.177627\n",
      "Threshold : 0.35\tFBeta : 0.203253\n",
      "Threshold : 0.40\tFBeta : 0.220158\n",
      "Threshold : 0.45\tFBeta : 0.233298\n",
      "Threshold : 0.50\tFBeta : 0.239405\n",
      "Threshold : 0.55\tFBeta : 0.232860\n",
      "Threshold : 0.60\tFBeta : 0.158865\n",
      "Threshold : 0.65\tFBeta : 0.040361\n",
      "Threshold : 0.70\tFBeta : 0.000393\n",
      "Threshold : 0.75\tFBeta : 0.000000\n",
      "Threshold : 0.80\tFBeta : 0.000000\n",
      "\n"
     ]
    },
    {
     "name": "stderr",
     "output_type": "stream",
     "text": [
      "Epoch 16/500  Mem : 19.8GB  LR : 4.21E-06  Loss: 0.7143: 100%|██████████| 8/8 [00:30<00:00,  3.83s/it]                                                                                                                                                       \n",
      "Val Loss: 0.6831: 100%|██████████| 3/3 [00:08<00:00,  2.85s/it]                                                                                                                                                                                              \n"
     ]
    },
    {
     "name": "stdout",
     "output_type": "stream",
     "text": [
      "Threshold : 0.20\tFBeta : 0.137231\n",
      "Threshold : 0.25\tFBeta : 0.148002\n",
      "Threshold : 0.30\tFBeta : 0.182279\n",
      "Threshold : 0.35\tFBeta : 0.206102\n",
      "Threshold : 0.40\tFBeta : 0.220514\n",
      "Threshold : 0.45\tFBeta : 0.231075\n",
      "Threshold : 0.50\tFBeta : 0.237771\n",
      "Threshold : 0.55\tFBeta : 0.227855\n",
      "Threshold : 0.60\tFBeta : 0.155159\n",
      "Threshold : 0.65\tFBeta : 0.035399\n",
      "Threshold : 0.70\tFBeta : 0.000446\n",
      "Threshold : 0.75\tFBeta : 0.000000\n",
      "Threshold : 0.80\tFBeta : 0.000000\n",
      "\n"
     ]
    },
    {
     "name": "stderr",
     "output_type": "stream",
     "text": [
      "Epoch 17/500  Mem : 19.8GB  LR : 4.24E-06  Loss: 0.7058: 100%|██████████| 8/8 [00:31<00:00,  3.95s/it]                                                                                                                                                       \n",
      "Val Loss: 0.6778: 100%|██████████| 3/3 [00:08<00:00,  2.85s/it]                                                                                                                                                                                              \n"
     ]
    },
    {
     "name": "stdout",
     "output_type": "stream",
     "text": [
      "Threshold : 0.20\tFBeta : 0.137262\n",
      "Threshold : 0.25\tFBeta : 0.151993\n",
      "Threshold : 0.30\tFBeta : 0.188412\n",
      "Threshold : 0.35\tFBeta : 0.208940\n",
      "Threshold : 0.40\tFBeta : 0.222678\n",
      "Threshold : 0.45\tFBeta : 0.232721\n",
      "Threshold : 0.50\tFBeta : 0.239975\n",
      "Threshold : 0.55\tFBeta : 0.229699\n",
      "Threshold : 0.60\tFBeta : 0.149067\n",
      "Threshold : 0.65\tFBeta : 0.013344\n",
      "Threshold : 0.70\tFBeta : 0.000000\n",
      "Threshold : 0.75\tFBeta : 0.000000\n",
      "Threshold : 0.80\tFBeta : 0.000000\n",
      "\n"
     ]
    },
    {
     "name": "stderr",
     "output_type": "stream",
     "text": [
      "Epoch 18/500  Mem : 19.8GB  LR : 4.27E-06  Loss: 0.7036: 100%|██████████| 8/8 [00:30<00:00,  3.87s/it]                                                                                                                                                       \n",
      "Val Loss: 0.6745: 100%|██████████| 3/3 [00:08<00:00,  2.86s/it]                                                                                                                                                                                              \n"
     ]
    },
    {
     "name": "stdout",
     "output_type": "stream",
     "text": [
      "Threshold : 0.20\tFBeta : 0.137197\n",
      "Threshold : 0.25\tFBeta : 0.154450\n",
      "Threshold : 0.30\tFBeta : 0.190562\n",
      "Threshold : 0.35\tFBeta : 0.209811\n",
      "Threshold : 0.40\tFBeta : 0.222997\n",
      "Threshold : 0.45\tFBeta : 0.232386\n",
      "Threshold : 0.50\tFBeta : 0.240807\n",
      "Threshold : 0.55\tFBeta : 0.226686\n",
      "Threshold : 0.60\tFBeta : 0.129443\n",
      "Threshold : 0.65\tFBeta : 0.004548\n",
      "Threshold : 0.70\tFBeta : 0.000000\n",
      "Threshold : 0.75\tFBeta : 0.000000\n",
      "Threshold : 0.80\tFBeta : 0.000000\n",
      "\n"
     ]
    },
    {
     "name": "stderr",
     "output_type": "stream",
     "text": [
      "Epoch 19/500  Mem : 19.8GB  LR : 4.31E-06  Loss: 0.7079: 100%|██████████| 8/8 [00:31<00:00,  3.91s/it]                                                                                                                                                       \n",
      "Val Loss: 0.6740: 100%|██████████| 3/3 [00:08<00:00,  2.85s/it]                                                                                                                                                                                              \n"
     ]
    },
    {
     "name": "stdout",
     "output_type": "stream",
     "text": [
      "Threshold : 0.20\tFBeta : 0.137250\n",
      "Threshold : 0.25\tFBeta : 0.153214\n",
      "Threshold : 0.30\tFBeta : 0.190656\n",
      "Threshold : 0.35\tFBeta : 0.210079\n",
      "Threshold : 0.40\tFBeta : 0.222456\n",
      "Threshold : 0.45\tFBeta : 0.231616\n",
      "Threshold : 0.50\tFBeta : 0.241038\n",
      "Threshold : 0.55\tFBeta : 0.230083\n",
      "Threshold : 0.60\tFBeta : 0.134988\n",
      "Threshold : 0.65\tFBeta : 0.003175\n",
      "Threshold : 0.70\tFBeta : 0.000000\n",
      "Threshold : 0.75\tFBeta : 0.000000\n",
      "Threshold : 0.80\tFBeta : 0.000000\n",
      "\n"
     ]
    },
    {
     "name": "stderr",
     "output_type": "stream",
     "text": [
      "Epoch 20/500  Mem : 19.8GB  LR : 4.34E-06  Loss: 0.7011: 100%|██████████| 8/8 [00:30<00:00,  3.87s/it]                                                                                                                                                       \n",
      "Val Loss: 0.6727: 100%|██████████| 3/3 [00:08<00:00,  2.86s/it]                                                                                                                                                                                              \n"
     ]
    },
    {
     "name": "stdout",
     "output_type": "stream",
     "text": [
      "Threshold : 0.20\tFBeta : 0.137282\n",
      "Threshold : 0.25\tFBeta : 0.150251\n",
      "Threshold : 0.30\tFBeta : 0.190319\n",
      "Threshold : 0.35\tFBeta : 0.211384\n",
      "Threshold : 0.40\tFBeta : 0.223860\n",
      "Threshold : 0.45\tFBeta : 0.233433\n",
      "Threshold : 0.50\tFBeta : 0.242862\n",
      "Threshold : 0.55\tFBeta : 0.227769\n",
      "Threshold : 0.60\tFBeta : 0.128290\n",
      "Threshold : 0.65\tFBeta : 0.001341\n",
      "Threshold : 0.70\tFBeta : 0.000000\n",
      "Threshold : 0.75\tFBeta : 0.000000\n",
      "Threshold : 0.80\tFBeta : 0.000000\n",
      "\n"
     ]
    },
    {
     "name": "stderr",
     "output_type": "stream",
     "text": [
      "Epoch 21/500  Mem : 19.8GB  LR : 4.38E-06  Loss: 0.6988: 100%|██████████| 8/8 [00:31<00:00,  3.93s/it]                                                                                                                                                       \n",
      "Val Loss: 0.6712: 100%|██████████| 3/3 [00:08<00:00,  2.86s/it]                                                                                                                                                                                              \n"
     ]
    },
    {
     "name": "stdout",
     "output_type": "stream",
     "text": [
      "Threshold : 0.20\tFBeta : 0.137304\n",
      "Threshold : 0.25\tFBeta : 0.149239\n",
      "Threshold : 0.30\tFBeta : 0.191641\n",
      "Threshold : 0.35\tFBeta : 0.213305\n",
      "Threshold : 0.40\tFBeta : 0.225540\n",
      "Threshold : 0.45\tFBeta : 0.235188\n",
      "Threshold : 0.50\tFBeta : 0.244708\n",
      "Threshold : 0.55\tFBeta : 0.231340\n",
      "Threshold : 0.60\tFBeta : 0.118253\n",
      "Threshold : 0.65\tFBeta : 0.001185\n",
      "Threshold : 0.70\tFBeta : 0.000000\n",
      "Threshold : 0.75\tFBeta : 0.000000\n",
      "Threshold : 0.80\tFBeta : 0.000000\n",
      "\n"
     ]
    },
    {
     "name": "stderr",
     "output_type": "stream",
     "text": [
      "Epoch 22/500  Mem : 19.8GB  LR : 4.42E-06  Loss: 0.6967: 100%|██████████| 8/8 [00:31<00:00,  3.97s/it]                                                                                                                                                       \n",
      "Val Loss: 0.6652: 100%|██████████| 3/3 [00:08<00:00,  2.86s/it]                                                                                                                                                                                              \n"
     ]
    },
    {
     "name": "stdout",
     "output_type": "stream",
     "text": [
      "Threshold : 0.20\tFBeta : 0.137528\n",
      "Threshold : 0.25\tFBeta : 0.159438\n",
      "Threshold : 0.30\tFBeta : 0.197390\n",
      "Threshold : 0.35\tFBeta : 0.215764\n",
      "Threshold : 0.40\tFBeta : 0.226440\n",
      "Threshold : 0.45\tFBeta : 0.235013\n",
      "Threshold : 0.50\tFBeta : 0.247882\n",
      "Threshold : 0.55\tFBeta : 0.224171\n",
      "Threshold : 0.60\tFBeta : 0.097984\n",
      "Threshold : 0.65\tFBeta : 0.000798\n",
      "Threshold : 0.70\tFBeta : 0.000000\n",
      "Threshold : 0.75\tFBeta : 0.000000\n",
      "Threshold : 0.80\tFBeta : 0.000000\n",
      "\n"
     ]
    },
    {
     "name": "stderr",
     "output_type": "stream",
     "text": [
      "Epoch 23/500  Mem : 19.8GB  LR : 4.46E-06  Loss: 0.6934: 100%|██████████| 8/8 [00:31<00:00,  3.99s/it]                                                                                                                                                       \n",
      "Val Loss: 0.6618: 100%|██████████| 3/3 [00:08<00:00,  2.85s/it]                                                                                                                                                                                              \n"
     ]
    },
    {
     "name": "stdout",
     "output_type": "stream",
     "text": [
      "Threshold : 0.20\tFBeta : 0.137660\n",
      "Threshold : 0.25\tFBeta : 0.162291\n",
      "Threshold : 0.30\tFBeta : 0.201062\n",
      "Threshold : 0.35\tFBeta : 0.217561\n",
      "Threshold : 0.40\tFBeta : 0.227207\n",
      "Threshold : 0.45\tFBeta : 0.236172\n",
      "Threshold : 0.50\tFBeta : 0.250198\n",
      "Threshold : 0.55\tFBeta : 0.229656\n",
      "Threshold : 0.60\tFBeta : 0.080903\n",
      "Threshold : 0.65\tFBeta : 0.000101\n",
      "Threshold : 0.70\tFBeta : 0.000000\n",
      "Threshold : 0.75\tFBeta : 0.000000\n",
      "Threshold : 0.80\tFBeta : 0.000000\n",
      "\n"
     ]
    },
    {
     "name": "stderr",
     "output_type": "stream",
     "text": [
      "Epoch 24/500  Mem : 19.8GB  LR : 4.50E-06  Loss: 0.6843: 100%|██████████| 8/8 [00:30<00:00,  3.84s/it]                                                                                                                                                       \n",
      "Val Loss: 0.6646: 100%|██████████| 3/3 [00:08<00:00,  2.92s/it]                                                                                                                                                                                              \n"
     ]
    },
    {
     "name": "stdout",
     "output_type": "stream",
     "text": [
      "Threshold : 0.20\tFBeta : 0.137394\n",
      "Threshold : 0.25\tFBeta : 0.154728\n",
      "Threshold : 0.30\tFBeta : 0.199249\n",
      "Threshold : 0.35\tFBeta : 0.217412\n",
      "Threshold : 0.40\tFBeta : 0.228160\n",
      "Threshold : 0.45\tFBeta : 0.237200\n",
      "Threshold : 0.50\tFBeta : 0.249629\n",
      "Threshold : 0.55\tFBeta : 0.241248\n",
      "Threshold : 0.60\tFBeta : 0.132328\n",
      "Threshold : 0.65\tFBeta : 0.000556\n",
      "Threshold : 0.70\tFBeta : 0.000000\n",
      "Threshold : 0.75\tFBeta : 0.000000\n",
      "Threshold : 0.80\tFBeta : 0.000000\n",
      "\n"
     ]
    },
    {
     "name": "stderr",
     "output_type": "stream",
     "text": [
      "Epoch 25/500  Mem : 19.8GB  LR : 4.55E-06  Loss: 0.6925: 100%|██████████| 8/8 [00:30<00:00,  3.82s/it]                                                                                                                                                       \n",
      "Val Loss: 0.6655: 100%|██████████| 3/3 [00:08<00:00,  2.86s/it]                                                                                                                                                                                              \n"
     ]
    },
    {
     "name": "stdout",
     "output_type": "stream",
     "text": [
      "Threshold : 0.20\tFBeta : 0.138300\n",
      "Threshold : 0.25\tFBeta : 0.164357\n",
      "Threshold : 0.30\tFBeta : 0.199604\n",
      "Threshold : 0.35\tFBeta : 0.217172\n",
      "Threshold : 0.40\tFBeta : 0.227538\n",
      "Threshold : 0.45\tFBeta : 0.235788\n",
      "Threshold : 0.50\tFBeta : 0.247183\n",
      "Threshold : 0.55\tFBeta : 0.255698\n",
      "Threshold : 0.60\tFBeta : 0.225390\n",
      "Threshold : 0.65\tFBeta : 0.024008\n",
      "Threshold : 0.70\tFBeta : 0.000000\n",
      "Threshold : 0.75\tFBeta : 0.000000\n",
      "Threshold : 0.80\tFBeta : 0.000000\n",
      "\n"
     ]
    },
    {
     "name": "stderr",
     "output_type": "stream",
     "text": [
      "Epoch 26/500  Mem : 19.8GB  LR : 4.59E-06  Loss: 0.6864: 100%|██████████| 8/8 [00:30<00:00,  3.87s/it]                                                                                                                                                       \n",
      "Val Loss: 0.6651: 100%|██████████| 3/3 [00:08<00:00,  2.87s/it]                                                                                                                                                                                              \n"
     ]
    },
    {
     "name": "stdout",
     "output_type": "stream",
     "text": [
      "Threshold : 0.20\tFBeta : 0.138351\n",
      "Threshold : 0.25\tFBeta : 0.168536\n",
      "Threshold : 0.30\tFBeta : 0.202415\n",
      "Threshold : 0.35\tFBeta : 0.218508\n",
      "Threshold : 0.40\tFBeta : 0.229064\n",
      "Threshold : 0.45\tFBeta : 0.236834\n",
      "Threshold : 0.50\tFBeta : 0.248219\n",
      "Threshold : 0.55\tFBeta : 0.259082\n",
      "Threshold : 0.60\tFBeta : 0.249393\n",
      "Threshold : 0.65\tFBeta : 0.059094\n",
      "Threshold : 0.70\tFBeta : 0.000780\n",
      "Threshold : 0.75\tFBeta : 0.000000\n",
      "Threshold : 0.80\tFBeta : 0.000000\n",
      "\n"
     ]
    },
    {
     "name": "stderr",
     "output_type": "stream",
     "text": [
      "Epoch 27/500  Mem : 19.8GB  LR : 4.64E-06  Loss: 0.6796: 100%|██████████| 8/8 [00:30<00:00,  3.82s/it]                                                                                                                                                       \n",
      "Val Loss: 0.6668: 100%|██████████| 3/3 [00:08<00:00,  2.90s/it]                                                                                                                                                                                              \n"
     ]
    },
    {
     "name": "stdout",
     "output_type": "stream",
     "text": [
      "Threshold : 0.20\tFBeta : 0.137668\n",
      "Threshold : 0.25\tFBeta : 0.162367\n",
      "Threshold : 0.30\tFBeta : 0.203357\n",
      "Threshold : 0.35\tFBeta : 0.220539\n",
      "Threshold : 0.40\tFBeta : 0.230898\n",
      "Threshold : 0.45\tFBeta : 0.237809\n",
      "Threshold : 0.50\tFBeta : 0.249338\n",
      "Threshold : 0.55\tFBeta : 0.264221\n",
      "Threshold : 0.60\tFBeta : 0.264567\n",
      "Threshold : 0.65\tFBeta : 0.109817\n",
      "Threshold : 0.70\tFBeta : 0.005345\n",
      "Threshold : 0.75\tFBeta : 0.000000\n",
      "Threshold : 0.80\tFBeta : 0.000000\n",
      "\n"
     ]
    },
    {
     "name": "stderr",
     "output_type": "stream",
     "text": [
      "Epoch 28/500  Mem : 19.8GB  LR : 4.69E-06  Loss: 0.6834: 100%|██████████| 8/8 [00:31<00:00,  3.92s/it]                                                                                                                                                       \n",
      "Val Loss: 0.6644: 100%|██████████| 3/3 [00:08<00:00,  2.86s/it]                                                                                                                                                                                              \n"
     ]
    },
    {
     "name": "stdout",
     "output_type": "stream",
     "text": [
      "Threshold : 0.20\tFBeta : 0.137555\n",
      "Threshold : 0.25\tFBeta : 0.165435\n",
      "Threshold : 0.30\tFBeta : 0.206374\n",
      "Threshold : 0.35\tFBeta : 0.221900\n",
      "Threshold : 0.40\tFBeta : 0.231628\n",
      "Threshold : 0.45\tFBeta : 0.237819\n",
      "Threshold : 0.50\tFBeta : 0.249984\n",
      "Threshold : 0.55\tFBeta : 0.267317\n",
      "Threshold : 0.60\tFBeta : 0.262777\n",
      "Threshold : 0.65\tFBeta : 0.112059\n",
      "Threshold : 0.70\tFBeta : 0.004965\n",
      "Threshold : 0.75\tFBeta : 0.000000\n",
      "Threshold : 0.80\tFBeta : 0.000000\n",
      "\n"
     ]
    },
    {
     "name": "stderr",
     "output_type": "stream",
     "text": [
      "Epoch 29/500  Mem : 19.8GB  LR : 4.74E-06  Loss: 0.6763: 100%|██████████| 8/8 [00:30<00:00,  3.85s/it]                                                                                                                                                       \n",
      "Val Loss: 0.6559: 100%|██████████| 3/3 [00:08<00:00,  2.91s/it]                                                                                                                                                                                              \n"
     ]
    },
    {
     "name": "stdout",
     "output_type": "stream",
     "text": [
      "Threshold : 0.20\tFBeta : 0.138148\n",
      "Threshold : 0.25\tFBeta : 0.182776\n",
      "Threshold : 0.30\tFBeta : 0.211514\n",
      "Threshold : 0.35\tFBeta : 0.225381\n",
      "Threshold : 0.40\tFBeta : 0.233666\n",
      "Threshold : 0.45\tFBeta : 0.241442\n",
      "Threshold : 0.50\tFBeta : 0.255594\n",
      "Threshold : 0.55\tFBeta : 0.272178\n",
      "Threshold : 0.60\tFBeta : 0.259914\n",
      "Threshold : 0.65\tFBeta : 0.105267\n",
      "Threshold : 0.70\tFBeta : 0.003163\n",
      "Threshold : 0.75\tFBeta : 0.000000\n",
      "Threshold : 0.80\tFBeta : 0.000000\n",
      "\n"
     ]
    },
    {
     "name": "stderr",
     "output_type": "stream",
     "text": [
      "Epoch 30/500  Mem : 19.8GB  LR : 4.80E-06  Loss: 0.6771: 100%|██████████| 8/8 [00:30<00:00,  3.82s/it]                                                                                                                                                       \n",
      "Val Loss: 0.6577: 100%|██████████| 3/3 [00:08<00:00,  2.90s/it]                                                                                                                                                                                              \n"
     ]
    },
    {
     "name": "stdout",
     "output_type": "stream",
     "text": [
      "Threshold : 0.20\tFBeta : 0.137596\n",
      "Threshold : 0.25\tFBeta : 0.174310\n",
      "Threshold : 0.30\tFBeta : 0.210634\n",
      "Threshold : 0.35\tFBeta : 0.225487\n",
      "Threshold : 0.40\tFBeta : 0.234059\n",
      "Threshold : 0.45\tFBeta : 0.242664\n",
      "Threshold : 0.50\tFBeta : 0.257342\n",
      "Threshold : 0.55\tFBeta : 0.267738\n",
      "Threshold : 0.60\tFBeta : 0.251904\n",
      "Threshold : 0.65\tFBeta : 0.113816\n",
      "Threshold : 0.70\tFBeta : 0.003740\n",
      "Threshold : 0.75\tFBeta : 0.000000\n",
      "Threshold : 0.80\tFBeta : 0.000000\n",
      "\n"
     ]
    },
    {
     "name": "stderr",
     "output_type": "stream",
     "text": [
      "Epoch 31/500  Mem : 19.8GB  LR : 4.85E-06  Loss: 0.6692: 100%|██████████| 8/8 [00:31<00:00,  3.90s/it]                                                                                                                                                       \n",
      "Val Loss: 0.6515: 100%|██████████| 3/3 [00:08<00:00,  2.85s/it]                                                                                                                                                                                              \n"
     ]
    },
    {
     "name": "stdout",
     "output_type": "stream",
     "text": [
      "Threshold : 0.20\tFBeta : 0.137811\n",
      "Threshold : 0.25\tFBeta : 0.173847\n",
      "Threshold : 0.30\tFBeta : 0.213246\n",
      "Threshold : 0.35\tFBeta : 0.227456\n",
      "Threshold : 0.40\tFBeta : 0.234939\n",
      "Threshold : 0.45\tFBeta : 0.247624\n",
      "Threshold : 0.50\tFBeta : 0.263810\n",
      "Threshold : 0.55\tFBeta : 0.261718\n",
      "Threshold : 0.60\tFBeta : 0.233209\n",
      "Threshold : 0.65\tFBeta : 0.060770\n",
      "Threshold : 0.70\tFBeta : 0.000849\n",
      "Threshold : 0.75\tFBeta : 0.000000\n",
      "Threshold : 0.80\tFBeta : 0.000000\n",
      "\n"
     ]
    },
    {
     "name": "stderr",
     "output_type": "stream",
     "text": [
      "Epoch 32/500  Mem : 19.8GB  LR : 4.91E-06  Loss: 0.6801: 100%|██████████| 8/8 [00:31<00:00,  3.89s/it]                                                                                                                                                       \n",
      "Val Loss: 0.6512: 100%|██████████| 3/3 [00:08<00:00,  2.86s/it]                                                                                                                                                                                              \n"
     ]
    },
    {
     "name": "stdout",
     "output_type": "stream",
     "text": [
      "Threshold : 0.20\tFBeta : 0.137654\n",
      "Threshold : 0.25\tFBeta : 0.171586\n",
      "Threshold : 0.30\tFBeta : 0.211385\n",
      "Threshold : 0.35\tFBeta : 0.225843\n",
      "Threshold : 0.40\tFBeta : 0.233859\n",
      "Threshold : 0.45\tFBeta : 0.246378\n",
      "Threshold : 0.50\tFBeta : 0.261308\n",
      "Threshold : 0.55\tFBeta : 0.253690\n",
      "Threshold : 0.60\tFBeta : 0.208520\n",
      "Threshold : 0.65\tFBeta : 0.033057\n",
      "Threshold : 0.70\tFBeta : 0.000058\n",
      "Threshold : 0.75\tFBeta : 0.000000\n",
      "Threshold : 0.80\tFBeta : 0.000000\n",
      "\n"
     ]
    },
    {
     "name": "stderr",
     "output_type": "stream",
     "text": [
      "Epoch 33/500  Mem : 19.8GB  LR : 4.97E-06  Loss: 0.6629: 100%|██████████| 8/8 [00:31<00:00,  3.90s/it]                                                                                                                                                       \n",
      "Val Loss: 0.6408: 100%|██████████| 3/3 [00:08<00:00,  2.92s/it]                                                                                                                                                                                              \n"
     ]
    },
    {
     "name": "stdout",
     "output_type": "stream",
     "text": [
      "Threshold : 0.20\tFBeta : 0.138109\n",
      "Threshold : 0.25\tFBeta : 0.190571\n",
      "Threshold : 0.30\tFBeta : 0.216758\n",
      "Threshold : 0.35\tFBeta : 0.229059\n",
      "Threshold : 0.40\tFBeta : 0.238414\n",
      "Threshold : 0.45\tFBeta : 0.252361\n",
      "Threshold : 0.50\tFBeta : 0.258564\n",
      "Threshold : 0.55\tFBeta : 0.238139\n",
      "Threshold : 0.60\tFBeta : 0.139303\n",
      "Threshold : 0.65\tFBeta : 0.013213\n",
      "Threshold : 0.70\tFBeta : 0.000000\n",
      "Threshold : 0.75\tFBeta : 0.000000\n",
      "Threshold : 0.80\tFBeta : 0.000000\n",
      "\n"
     ]
    },
    {
     "name": "stderr",
     "output_type": "stream",
     "text": [
      "Epoch 34/500  Mem : 19.8GB  LR : 5.03E-06  Loss: 0.6661: 100%|██████████| 8/8 [00:31<00:00,  3.94s/it]                                                                                                                                                       \n",
      "Val Loss: 0.6443: 100%|██████████| 3/3 [00:08<00:00,  2.85s/it]                                                                                                                                                                                              \n"
     ]
    },
    {
     "name": "stdout",
     "output_type": "stream",
     "text": [
      "Threshold : 0.20\tFBeta : 0.137813\n",
      "Threshold : 0.25\tFBeta : 0.188604\n",
      "Threshold : 0.30\tFBeta : 0.215083\n",
      "Threshold : 0.35\tFBeta : 0.227382\n",
      "Threshold : 0.40\tFBeta : 0.236163\n",
      "Threshold : 0.45\tFBeta : 0.250550\n",
      "Threshold : 0.50\tFBeta : 0.266962\n",
      "Threshold : 0.55\tFBeta : 0.248156\n",
      "Threshold : 0.60\tFBeta : 0.194357\n",
      "Threshold : 0.65\tFBeta : 0.047739\n",
      "Threshold : 0.70\tFBeta : 0.000760\n",
      "Threshold : 0.75\tFBeta : 0.000000\n",
      "Threshold : 0.80\tFBeta : 0.000000\n",
      "\n"
     ]
    },
    {
     "name": "stderr",
     "output_type": "stream",
     "text": [
      "Epoch 35/500  Mem : 19.8GB  LR : 5.10E-06  Loss: 0.6702: 100%|██████████| 8/8 [00:30<00:00,  3.84s/it]                                                                                                                                                       \n",
      "Val Loss: 0.6454: 100%|██████████| 3/3 [00:08<00:00,  2.90s/it]                                                                                                                                                                                              \n"
     ]
    },
    {
     "name": "stdout",
     "output_type": "stream",
     "text": [
      "Threshold : 0.20\tFBeta : 0.137890\n",
      "Threshold : 0.25\tFBeta : 0.188988\n",
      "Threshold : 0.30\tFBeta : 0.216502\n",
      "Threshold : 0.35\tFBeta : 0.227673\n",
      "Threshold : 0.40\tFBeta : 0.235956\n",
      "Threshold : 0.45\tFBeta : 0.248109\n",
      "Threshold : 0.50\tFBeta : 0.270280\n",
      "Threshold : 0.55\tFBeta : 0.269821\n",
      "Threshold : 0.60\tFBeta : 0.243538\n",
      "Threshold : 0.65\tFBeta : 0.114929\n",
      "Threshold : 0.70\tFBeta : 0.011482\n",
      "Threshold : 0.75\tFBeta : 0.000198\n",
      "Threshold : 0.80\tFBeta : 0.000000\n",
      "\n"
     ]
    },
    {
     "name": "stderr",
     "output_type": "stream",
     "text": [
      "Epoch 36/500  Mem : 19.8GB  LR : 5.16E-06  Loss: 0.6618: 100%|██████████| 8/8 [00:31<00:00,  3.93s/it]                                                                                                                                                       \n",
      "Val Loss: 0.6423: 100%|██████████| 3/3 [00:08<00:00,  2.86s/it]                                                                                                                                                                                              \n"
     ]
    },
    {
     "name": "stdout",
     "output_type": "stream",
     "text": [
      "Threshold : 0.20\tFBeta : 0.138133\n",
      "Threshold : 0.25\tFBeta : 0.191129\n",
      "Threshold : 0.30\tFBeta : 0.219872\n",
      "Threshold : 0.35\tFBeta : 0.230782\n",
      "Threshold : 0.40\tFBeta : 0.238535\n",
      "Threshold : 0.45\tFBeta : 0.248449\n",
      "Threshold : 0.50\tFBeta : 0.269704\n",
      "Threshold : 0.55\tFBeta : 0.268085\n",
      "Threshold : 0.60\tFBeta : 0.235879\n",
      "Threshold : 0.65\tFBeta : 0.107845\n",
      "Threshold : 0.70\tFBeta : 0.017441\n",
      "Threshold : 0.75\tFBeta : 0.003129\n",
      "Threshold : 0.80\tFBeta : 0.000000\n",
      "\n"
     ]
    },
    {
     "name": "stderr",
     "output_type": "stream",
     "text": [
      "Epoch 37/500  Mem : 19.8GB  LR : 5.23E-06  Loss: 0.6665: 100%|██████████| 8/8 [00:31<00:00,  3.96s/it]                                                                                                                                                       \n",
      "Val Loss: 0.6426: 100%|██████████| 3/3 [00:08<00:00,  2.90s/it]                                                                                                                                                                                              \n"
     ]
    },
    {
     "name": "stdout",
     "output_type": "stream",
     "text": [
      "Threshold : 0.20\tFBeta : 0.137914\n",
      "Threshold : 0.25\tFBeta : 0.185174\n",
      "Threshold : 0.30\tFBeta : 0.218464\n",
      "Threshold : 0.35\tFBeta : 0.229946\n",
      "Threshold : 0.40\tFBeta : 0.238062\n",
      "Threshold : 0.45\tFBeta : 0.251549\n",
      "Threshold : 0.50\tFBeta : 0.274466\n",
      "Threshold : 0.55\tFBeta : 0.276094\n",
      "Threshold : 0.60\tFBeta : 0.224017\n",
      "Threshold : 0.65\tFBeta : 0.108496\n",
      "Threshold : 0.70\tFBeta : 0.021803\n",
      "Threshold : 0.75\tFBeta : 0.003533\n",
      "Threshold : 0.80\tFBeta : 0.000000\n",
      "\n"
     ]
    },
    {
     "name": "stderr",
     "output_type": "stream",
     "text": [
      "Epoch 38/500  Mem : 19.8GB  LR : 5.30E-06  Loss: 0.6614: 100%|██████████| 8/8 [00:31<00:00,  3.93s/it]                                                                                                                                                       \n",
      "Val Loss: 0.6493: 100%|██████████| 3/3 [00:08<00:00,  2.86s/it]                                                                                                                                                                                              \n"
     ]
    },
    {
     "name": "stdout",
     "output_type": "stream",
     "text": [
      "Threshold : 0.20\tFBeta : 0.137491\n",
      "Threshold : 0.25\tFBeta : 0.181241\n",
      "Threshold : 0.30\tFBeta : 0.215955\n",
      "Threshold : 0.35\tFBeta : 0.227557\n",
      "Threshold : 0.40\tFBeta : 0.235534\n",
      "Threshold : 0.45\tFBeta : 0.247599\n",
      "Threshold : 0.50\tFBeta : 0.270435\n",
      "Threshold : 0.55\tFBeta : 0.293320\n",
      "Threshold : 0.60\tFBeta : 0.287413\n",
      "Threshold : 0.65\tFBeta : 0.207572\n",
      "Threshold : 0.70\tFBeta : 0.081956\n",
      "Threshold : 0.75\tFBeta : 0.011117\n",
      "Threshold : 0.80\tFBeta : 0.000432\n",
      "\n"
     ]
    },
    {
     "name": "stderr",
     "output_type": "stream",
     "text": [
      "Epoch 39/500  Mem : 19.8GB  LR : 5.37E-06  Loss: 0.6541: 100%|██████████| 8/8 [00:31<00:00,  3.91s/it]                                                                                                                                                       \n",
      "Val Loss: 0.6412: 100%|██████████| 3/3 [00:08<00:00,  2.92s/it]                                                                                                                                                                                              \n"
     ]
    },
    {
     "name": "stdout",
     "output_type": "stream",
     "text": [
      "Threshold : 0.20\tFBeta : 0.137965\n",
      "Threshold : 0.25\tFBeta : 0.195553\n",
      "Threshold : 0.30\tFBeta : 0.220181\n",
      "Threshold : 0.35\tFBeta : 0.229695\n",
      "Threshold : 0.40\tFBeta : 0.237912\n",
      "Threshold : 0.45\tFBeta : 0.253366\n",
      "Threshold : 0.50\tFBeta : 0.279761\n",
      "Threshold : 0.55\tFBeta : 0.295279\n",
      "Threshold : 0.60\tFBeta : 0.274956\n",
      "Threshold : 0.65\tFBeta : 0.203356\n",
      "Threshold : 0.70\tFBeta : 0.092718\n",
      "Threshold : 0.75\tFBeta : 0.012418\n",
      "Threshold : 0.80\tFBeta : 0.001312\n",
      "\n"
     ]
    },
    {
     "name": "stderr",
     "output_type": "stream",
     "text": [
      "Epoch 40/500  Mem : 19.8GB  LR : 5.44E-06  Loss: 0.6583: 100%|██████████| 8/8 [00:31<00:00,  3.88s/it]                                                                                                                                                       \n",
      "Val Loss: 0.6421: 100%|██████████| 3/3 [00:08<00:00,  2.87s/it]                                                                                                                                                                                              \n"
     ]
    },
    {
     "name": "stdout",
     "output_type": "stream",
     "text": [
      "Threshold : 0.20\tFBeta : 0.138934\n",
      "Threshold : 0.25\tFBeta : 0.198431\n",
      "Threshold : 0.30\tFBeta : 0.221030\n",
      "Threshold : 0.35\tFBeta : 0.229897\n",
      "Threshold : 0.40\tFBeta : 0.237658\n",
      "Threshold : 0.45\tFBeta : 0.253114\n",
      "Threshold : 0.50\tFBeta : 0.277379\n",
      "Threshold : 0.55\tFBeta : 0.289689\n",
      "Threshold : 0.60\tFBeta : 0.277514\n",
      "Threshold : 0.65\tFBeta : 0.228712\n",
      "Threshold : 0.70\tFBeta : 0.135964\n",
      "Threshold : 0.75\tFBeta : 0.030067\n",
      "Threshold : 0.80\tFBeta : 0.003273\n",
      "\n"
     ]
    },
    {
     "name": "stderr",
     "output_type": "stream",
     "text": [
      "Epoch 41/500  Mem : 19.8GB  LR : 5.51E-06  Loss: 0.6545: 100%|██████████| 8/8 [00:31<00:00,  3.88s/it]                                                                                                                                                       \n",
      "Val Loss: 0.6399: 100%|██████████| 3/3 [00:08<00:00,  2.86s/it]                                                                                                                                                                                              \n"
     ]
    },
    {
     "name": "stdout",
     "output_type": "stream",
     "text": [
      "Threshold : 0.20\tFBeta : 0.139443\n",
      "Threshold : 0.25\tFBeta : 0.202829\n",
      "Threshold : 0.30\tFBeta : 0.221942\n",
      "Threshold : 0.35\tFBeta : 0.230567\n",
      "Threshold : 0.40\tFBeta : 0.238723\n",
      "Threshold : 0.45\tFBeta : 0.253861\n",
      "Threshold : 0.50\tFBeta : 0.279235\n",
      "Threshold : 0.55\tFBeta : 0.295162\n",
      "Threshold : 0.60\tFBeta : 0.287710\n",
      "Threshold : 0.65\tFBeta : 0.236317\n",
      "Threshold : 0.70\tFBeta : 0.159430\n",
      "Threshold : 0.75\tFBeta : 0.046660\n",
      "Threshold : 0.80\tFBeta : 0.005555\n",
      "\n"
     ]
    },
    {
     "name": "stderr",
     "output_type": "stream",
     "text": [
      "Epoch 42/500  Mem : 19.8GB  LR : 5.59E-06  Loss: 0.6543: 100%|██████████| 8/8 [00:31<00:00,  3.89s/it]                                                                                                                                                       \n",
      "Val Loss: 0.6343: 100%|██████████| 3/3 [00:08<00:00,  2.90s/it]                                                                                                                                                                                              \n"
     ]
    },
    {
     "name": "stdout",
     "output_type": "stream",
     "text": [
      "Threshold : 0.20\tFBeta : 0.139845\n",
      "Threshold : 0.25\tFBeta : 0.204706\n",
      "Threshold : 0.30\tFBeta : 0.224528\n",
      "Threshold : 0.35\tFBeta : 0.233120\n",
      "Threshold : 0.40\tFBeta : 0.242905\n",
      "Threshold : 0.45\tFBeta : 0.258635\n",
      "Threshold : 0.50\tFBeta : 0.286611\n",
      "Threshold : 0.55\tFBeta : 0.295304\n",
      "Threshold : 0.60\tFBeta : 0.265322\n",
      "Threshold : 0.65\tFBeta : 0.194449\n",
      "Threshold : 0.70\tFBeta : 0.097662\n",
      "Threshold : 0.75\tFBeta : 0.034851\n",
      "Threshold : 0.80\tFBeta : 0.001161\n",
      "\n"
     ]
    },
    {
     "name": "stderr",
     "output_type": "stream",
     "text": [
      "Epoch 43/500  Mem : 19.8GB  LR : 5.67E-06  Loss: 0.6460: 100%|██████████| 8/8 [00:31<00:00,  3.88s/it]                                                                                                                                                       \n",
      "Val Loss: 0.6347: 100%|██████████| 3/3 [00:08<00:00,  2.86s/it]                                                                                                                                                                                              \n"
     ]
    },
    {
     "name": "stdout",
     "output_type": "stream",
     "text": [
      "Threshold : 0.20\tFBeta : 0.139137\n",
      "Threshold : 0.25\tFBeta : 0.205056\n",
      "Threshold : 0.30\tFBeta : 0.226582\n",
      "Threshold : 0.35\tFBeta : 0.234743\n",
      "Threshold : 0.40\tFBeta : 0.244710\n",
      "Threshold : 0.45\tFBeta : 0.257864\n",
      "Threshold : 0.50\tFBeta : 0.282969\n",
      "Threshold : 0.55\tFBeta : 0.282967\n",
      "Threshold : 0.60\tFBeta : 0.246011\n",
      "Threshold : 0.65\tFBeta : 0.177152\n",
      "Threshold : 0.70\tFBeta : 0.085468\n",
      "Threshold : 0.75\tFBeta : 0.045158\n",
      "Threshold : 0.80\tFBeta : 0.005999\n",
      "\n"
     ]
    },
    {
     "name": "stderr",
     "output_type": "stream",
     "text": [
      "Epoch 44/500  Mem : 19.8GB  LR : 5.75E-06  Loss: 0.6524: 100%|██████████| 8/8 [00:31<00:00,  3.94s/it]                                                                                                                                                       \n",
      "Val Loss: 0.6437: 100%|██████████| 3/3 [00:08<00:00,  2.85s/it]                                                                                                                                                                                              \n"
     ]
    },
    {
     "name": "stdout",
     "output_type": "stream",
     "text": [
      "Threshold : 0.20\tFBeta : 0.139104\n",
      "Threshold : 0.25\tFBeta : 0.205132\n",
      "Threshold : 0.30\tFBeta : 0.225864\n",
      "Threshold : 0.35\tFBeta : 0.234388\n",
      "Threshold : 0.40\tFBeta : 0.243418\n",
      "Threshold : 0.45\tFBeta : 0.254459\n",
      "Threshold : 0.50\tFBeta : 0.272977\n",
      "Threshold : 0.55\tFBeta : 0.293653\n",
      "Threshold : 0.60\tFBeta : 0.289708\n",
      "Threshold : 0.65\tFBeta : 0.254283\n",
      "Threshold : 0.70\tFBeta : 0.193198\n",
      "Threshold : 0.75\tFBeta : 0.118600\n",
      "Threshold : 0.80\tFBeta : 0.048948\n",
      "\n"
     ]
    },
    {
     "name": "stderr",
     "output_type": "stream",
     "text": [
      "Epoch 45/500  Mem : 19.8GB  LR : 5.83E-06  Loss: 0.6510: 100%|██████████| 8/8 [00:31<00:00,  3.96s/it]                                                                                                                                                       \n",
      "Val Loss: 0.6532: 100%|██████████| 3/3 [00:08<00:00,  2.85s/it]                                                                                                                                                                                              \n"
     ]
    },
    {
     "name": "stdout",
     "output_type": "stream",
     "text": [
      "Threshold : 0.20\tFBeta : 0.138475\n",
      "Threshold : 0.25\tFBeta : 0.201735\n",
      "Threshold : 0.30\tFBeta : 0.223822\n",
      "Threshold : 0.35\tFBeta : 0.232583\n",
      "Threshold : 0.40\tFBeta : 0.241922\n",
      "Threshold : 0.45\tFBeta : 0.253348\n",
      "Threshold : 0.50\tFBeta : 0.263601\n",
      "Threshold : 0.55\tFBeta : 0.284066\n",
      "Threshold : 0.60\tFBeta : 0.299578\n",
      "Threshold : 0.65\tFBeta : 0.291235\n",
      "Threshold : 0.70\tFBeta : 0.247777\n",
      "Threshold : 0.75\tFBeta : 0.189602\n",
      "Threshold : 0.80\tFBeta : 0.092269\n",
      "\n"
     ]
    },
    {
     "name": "stderr",
     "output_type": "stream",
     "text": [
      "Epoch 46/500  Mem : 19.8GB  LR : 5.91E-06  Loss: 0.6385: 100%|██████████| 8/8 [00:32<00:00,  4.04s/it]                                                                                                                                                       \n",
      "Val Loss: 0.6695: 100%|██████████| 3/3 [00:08<00:00,  2.90s/it]                                                                                                                                                                                              \n"
     ]
    },
    {
     "name": "stdout",
     "output_type": "stream",
     "text": [
      "Threshold : 0.20\tFBeta : 0.139073\n",
      "Threshold : 0.25\tFBeta : 0.204951\n",
      "Threshold : 0.30\tFBeta : 0.224039\n",
      "Threshold : 0.35\tFBeta : 0.232818\n",
      "Threshold : 0.40\tFBeta : 0.239882\n",
      "Threshold : 0.45\tFBeta : 0.250679\n",
      "Threshold : 0.50\tFBeta : 0.261274\n",
      "Threshold : 0.55\tFBeta : 0.270315\n",
      "Threshold : 0.60\tFBeta : 0.282365\n",
      "Threshold : 0.65\tFBeta : 0.298422\n",
      "Threshold : 0.70\tFBeta : 0.308486\n",
      "Threshold : 0.75\tFBeta : 0.287569\n",
      "Threshold : 0.80\tFBeta : 0.226827\n",
      "\n"
     ]
    },
    {
     "name": "stderr",
     "output_type": "stream",
     "text": [
      "Epoch 47/500  Mem : 19.8GB  LR : 6.00E-06  Loss: 0.6433: 100%|██████████| 8/8 [00:31<00:00,  3.97s/it]                                                                                                                                                       \n",
      "Val Loss: 0.6741: 100%|██████████| 3/3 [00:08<00:00,  2.90s/it]                                                                                                                                                                                              \n"
     ]
    },
    {
     "name": "stdout",
     "output_type": "stream",
     "text": [
      "Threshold : 0.20\tFBeta : 0.139749\n",
      "Threshold : 0.25\tFBeta : 0.207174\n",
      "Threshold : 0.30\tFBeta : 0.223831\n",
      "Threshold : 0.35\tFBeta : 0.232808\n",
      "Threshold : 0.40\tFBeta : 0.240396\n",
      "Threshold : 0.45\tFBeta : 0.251698\n",
      "Threshold : 0.50\tFBeta : 0.263830\n",
      "Threshold : 0.55\tFBeta : 0.272052\n",
      "Threshold : 0.60\tFBeta : 0.284689\n",
      "Threshold : 0.65\tFBeta : 0.299572\n",
      "Threshold : 0.70\tFBeta : 0.310149\n",
      "Threshold : 0.75\tFBeta : 0.319090\n",
      "Threshold : 0.80\tFBeta : 0.282365\n",
      "\n"
     ]
    },
    {
     "name": "stderr",
     "output_type": "stream",
     "text": [
      "Epoch 48/500  Mem : 19.8GB  LR : 6.09E-06  Loss: 0.6351: 100%|██████████| 8/8 [00:30<00:00,  3.82s/it]                                                                                                                                                       \n",
      "Val Loss: 0.6472: 100%|██████████| 3/3 [00:08<00:00,  2.86s/it]                                                                                                                                                                                              \n"
     ]
    },
    {
     "name": "stdout",
     "output_type": "stream",
     "text": [
      "Threshold : 0.20\tFBeta : 0.145574\n",
      "Threshold : 0.25\tFBeta : 0.212314\n",
      "Threshold : 0.30\tFBeta : 0.228478\n",
      "Threshold : 0.35\tFBeta : 0.236986\n",
      "Threshold : 0.40\tFBeta : 0.248253\n",
      "Threshold : 0.45\tFBeta : 0.260954\n",
      "Threshold : 0.50\tFBeta : 0.275644\n",
      "Threshold : 0.55\tFBeta : 0.287515\n",
      "Threshold : 0.60\tFBeta : 0.299165\n",
      "Threshold : 0.65\tFBeta : 0.300786\n",
      "Threshold : 0.70\tFBeta : 0.292258\n",
      "Threshold : 0.75\tFBeta : 0.261289\n",
      "Threshold : 0.80\tFBeta : 0.189234\n",
      "\n"
     ]
    },
    {
     "name": "stderr",
     "output_type": "stream",
     "text": [
      "Epoch 49/500  Mem : 19.8GB  LR : 6.18E-06  Loss: 0.6374: 100%|██████████| 8/8 [00:31<00:00,  3.97s/it]                                                                                                                                                       \n",
      "Val Loss: 0.6281: 100%|██████████| 3/3 [00:08<00:00,  2.85s/it]                                                                                                                                                                                              \n"
     ]
    },
    {
     "name": "stdout",
     "output_type": "stream",
     "text": [
      "Threshold : 0.20\tFBeta : 0.141577\n",
      "Threshold : 0.25\tFBeta : 0.211557\n",
      "Threshold : 0.30\tFBeta : 0.229370\n",
      "Threshold : 0.35\tFBeta : 0.240582\n",
      "Threshold : 0.40\tFBeta : 0.253154\n",
      "Threshold : 0.45\tFBeta : 0.274514\n",
      "Threshold : 0.50\tFBeta : 0.285267\n",
      "Threshold : 0.55\tFBeta : 0.293822\n",
      "Threshold : 0.60\tFBeta : 0.282103\n",
      "Threshold : 0.65\tFBeta : 0.239661\n",
      "Threshold : 0.70\tFBeta : 0.186383\n",
      "Threshold : 0.75\tFBeta : 0.132864\n",
      "Threshold : 0.80\tFBeta : 0.058671\n",
      "\n"
     ]
    },
    {
     "name": "stderr",
     "output_type": "stream",
     "text": [
      "Epoch 50/500  Mem : 19.8GB  LR : 6.27E-06  Loss: 0.6372: 100%|██████████| 8/8 [00:30<00:00,  3.86s/it]                                                                                                                                                       \n",
      "Val Loss: 0.6392: 100%|██████████| 3/3 [00:08<00:00,  2.86s/it]                                                                                                                                                                                              \n"
     ]
    },
    {
     "name": "stdout",
     "output_type": "stream",
     "text": [
      "Threshold : 0.20\tFBeta : 0.141746\n",
      "Threshold : 0.25\tFBeta : 0.211355\n",
      "Threshold : 0.30\tFBeta : 0.228628\n",
      "Threshold : 0.35\tFBeta : 0.238769\n",
      "Threshold : 0.40\tFBeta : 0.251494\n",
      "Threshold : 0.45\tFBeta : 0.268243\n",
      "Threshold : 0.50\tFBeta : 0.287557\n",
      "Threshold : 0.55\tFBeta : 0.306309\n",
      "Threshold : 0.60\tFBeta : 0.312086\n",
      "Threshold : 0.65\tFBeta : 0.304626\n",
      "Threshold : 0.70\tFBeta : 0.277279\n",
      "Threshold : 0.75\tFBeta : 0.230893\n",
      "Threshold : 0.80\tFBeta : 0.162225\n",
      "\n"
     ]
    },
    {
     "name": "stderr",
     "output_type": "stream",
     "text": [
      "Epoch 51/500  Mem : 19.8GB  LR : 6.36E-06  Loss: 0.6341: 100%|██████████| 8/8 [00:30<00:00,  3.86s/it]                                                                                                                                                       \n",
      "Val Loss: 0.6973: 100%|██████████| 3/3 [00:08<00:00,  2.87s/it]                                                                                                                                                                                              \n"
     ]
    },
    {
     "name": "stdout",
     "output_type": "stream",
     "text": [
      "Threshold : 0.20\tFBeta : 0.143532\n",
      "Threshold : 0.25\tFBeta : 0.210866\n",
      "Threshold : 0.30\tFBeta : 0.226628\n",
      "Threshold : 0.35\tFBeta : 0.235607\n",
      "Threshold : 0.40\tFBeta : 0.243231\n",
      "Threshold : 0.45\tFBeta : 0.253167\n",
      "Threshold : 0.50\tFBeta : 0.263828\n",
      "Threshold : 0.55\tFBeta : 0.274455\n",
      "Threshold : 0.60\tFBeta : 0.283632\n",
      "Threshold : 0.65\tFBeta : 0.292637\n",
      "Threshold : 0.70\tFBeta : 0.304436\n",
      "Threshold : 0.75\tFBeta : 0.318774\n",
      "Threshold : 0.80\tFBeta : 0.320657\n",
      "\n"
     ]
    },
    {
     "name": "stderr",
     "output_type": "stream",
     "text": [
      "Epoch 52/500  Mem : 19.8GB  LR : 6.45E-06  Loss: 0.6246: 100%|██████████| 8/8 [00:30<00:00,  3.87s/it]                                                                                                                                                       \n",
      "Val Loss: 0.6857: 100%|██████████| 3/3 [00:08<00:00,  2.86s/it]                                                                                                                                                                                              \n"
     ]
    },
    {
     "name": "stdout",
     "output_type": "stream",
     "text": [
      "Threshold : 0.20\tFBeta : 0.141774\n",
      "Threshold : 0.25\tFBeta : 0.211264\n",
      "Threshold : 0.30\tFBeta : 0.227437\n",
      "Threshold : 0.35\tFBeta : 0.236076\n",
      "Threshold : 0.40\tFBeta : 0.244925\n",
      "Threshold : 0.45\tFBeta : 0.253496\n",
      "Threshold : 0.50\tFBeta : 0.265708\n",
      "Threshold : 0.55\tFBeta : 0.277358\n",
      "Threshold : 0.60\tFBeta : 0.285836\n",
      "Threshold : 0.65\tFBeta : 0.297024\n",
      "Threshold : 0.70\tFBeta : 0.308890\n",
      "Threshold : 0.75\tFBeta : 0.321524\n",
      "Threshold : 0.80\tFBeta : 0.314821\n",
      "\n"
     ]
    },
    {
     "name": "stderr",
     "output_type": "stream",
     "text": [
      "Epoch 53/500  Mem : 19.8GB  LR : 6.55E-06  Loss: 0.6324: 100%|██████████| 8/8 [00:31<00:00,  3.97s/it]                                                                                                                                                       \n",
      "Val Loss: 0.6291: 100%|██████████| 3/3 [00:08<00:00,  2.87s/it]                                                                                                                                                                                              \n"
     ]
    },
    {
     "name": "stdout",
     "output_type": "stream",
     "text": [
      "Threshold : 0.20\tFBeta : 0.140956\n",
      "Threshold : 0.25\tFBeta : 0.213560\n",
      "Threshold : 0.30\tFBeta : 0.230328\n",
      "Threshold : 0.35\tFBeta : 0.240543\n",
      "Threshold : 0.40\tFBeta : 0.251180\n",
      "Threshold : 0.45\tFBeta : 0.266323\n",
      "Threshold : 0.50\tFBeta : 0.283512\n",
      "Threshold : 0.55\tFBeta : 0.297738\n",
      "Threshold : 0.60\tFBeta : 0.295200\n",
      "Threshold : 0.65\tFBeta : 0.272335\n",
      "Threshold : 0.70\tFBeta : 0.222867\n",
      "Threshold : 0.75\tFBeta : 0.161457\n",
      "Threshold : 0.80\tFBeta : 0.106309\n",
      "\n"
     ]
    },
    {
     "name": "stderr",
     "output_type": "stream",
     "text": [
      "Epoch 54/500  Mem : 19.8GB  LR : 6.65E-06  Loss: 0.6228: 100%|██████████| 8/8 [00:31<00:00,  3.97s/it]                                                                                                                                                       \n",
      "Val Loss: 0.6252: 100%|██████████| 3/3 [00:08<00:00,  2.89s/it]                                                                                                                                                                                              \n"
     ]
    },
    {
     "name": "stdout",
     "output_type": "stream",
     "text": [
      "Threshold : 0.20\tFBeta : 0.147978\n",
      "Threshold : 0.25\tFBeta : 0.216861\n",
      "Threshold : 0.30\tFBeta : 0.232057\n",
      "Threshold : 0.35\tFBeta : 0.242071\n",
      "Threshold : 0.40\tFBeta : 0.258952\n",
      "Threshold : 0.45\tFBeta : 0.273231\n",
      "Threshold : 0.50\tFBeta : 0.293316\n",
      "Threshold : 0.55\tFBeta : 0.300699\n",
      "Threshold : 0.60\tFBeta : 0.285160\n",
      "Threshold : 0.65\tFBeta : 0.253638\n",
      "Threshold : 0.70\tFBeta : 0.202284\n",
      "Threshold : 0.75\tFBeta : 0.161875\n",
      "Threshold : 0.80\tFBeta : 0.107577\n",
      "\n"
     ]
    },
    {
     "name": "stderr",
     "output_type": "stream",
     "text": [
      "Epoch 55/500  Mem : 19.8GB  LR : 6.75E-06  Loss: 0.6243: 100%|██████████| 8/8 [00:31<00:00,  3.90s/it]                                                                                                                                                       \n",
      "Val Loss: 0.6268: 100%|██████████| 3/3 [00:08<00:00,  2.85s/it]                                                                                                                                                                                              \n"
     ]
    },
    {
     "name": "stdout",
     "output_type": "stream",
     "text": [
      "Threshold : 0.20\tFBeta : 0.152094\n",
      "Threshold : 0.25\tFBeta : 0.217652\n",
      "Threshold : 0.30\tFBeta : 0.232066\n",
      "Threshold : 0.35\tFBeta : 0.241555\n",
      "Threshold : 0.40\tFBeta : 0.259764\n",
      "Threshold : 0.45\tFBeta : 0.279016\n",
      "Threshold : 0.50\tFBeta : 0.294029\n",
      "Threshold : 0.55\tFBeta : 0.310885\n",
      "Threshold : 0.60\tFBeta : 0.302883\n",
      "Threshold : 0.65\tFBeta : 0.272521\n",
      "Threshold : 0.70\tFBeta : 0.228306\n",
      "Threshold : 0.75\tFBeta : 0.181817\n",
      "Threshold : 0.80\tFBeta : 0.128329\n",
      "\n"
     ]
    },
    {
     "name": "stderr",
     "output_type": "stream",
     "text": [
      "Epoch 56/500  Mem : 19.8GB  LR : 6.85E-06  Loss: 0.6284: 100%|██████████| 8/8 [00:31<00:00,  3.90s/it]                                                                                                                                                       \n",
      "Val Loss: 0.6285: 100%|██████████| 3/3 [00:08<00:00,  2.92s/it]                                                                                                                                                                                              \n"
     ]
    },
    {
     "name": "stdout",
     "output_type": "stream",
     "text": [
      "Threshold : 0.20\tFBeta : 0.141512\n",
      "Threshold : 0.25\tFBeta : 0.215238\n",
      "Threshold : 0.30\tFBeta : 0.231923\n",
      "Threshold : 0.35\tFBeta : 0.240032\n",
      "Threshold : 0.40\tFBeta : 0.255726\n",
      "Threshold : 0.45\tFBeta : 0.277074\n",
      "Threshold : 0.50\tFBeta : 0.294235\n",
      "Threshold : 0.55\tFBeta : 0.303599\n",
      "Threshold : 0.60\tFBeta : 0.299670\n",
      "Threshold : 0.65\tFBeta : 0.268859\n",
      "Threshold : 0.70\tFBeta : 0.227553\n",
      "Threshold : 0.75\tFBeta : 0.176800\n",
      "Threshold : 0.80\tFBeta : 0.112557\n",
      "\n"
     ]
    },
    {
     "name": "stderr",
     "output_type": "stream",
     "text": [
      "Epoch 57/500  Mem : 19.8GB  LR : 6.95E-06  Loss: 0.6321: 100%|██████████| 8/8 [00:31<00:00,  3.92s/it]                                                                                                                                                       \n",
      "Val Loss: 0.6678: 100%|██████████| 3/3 [00:08<00:00,  2.86s/it]                                                                                                                                                                                              \n"
     ]
    },
    {
     "name": "stdout",
     "output_type": "stream",
     "text": [
      "Threshold : 0.20\tFBeta : 0.143306\n",
      "Threshold : 0.25\tFBeta : 0.217288\n",
      "Threshold : 0.30\tFBeta : 0.231509\n",
      "Threshold : 0.35\tFBeta : 0.237915\n",
      "Threshold : 0.40\tFBeta : 0.244303\n",
      "Threshold : 0.45\tFBeta : 0.255669\n",
      "Threshold : 0.50\tFBeta : 0.267630\n",
      "Threshold : 0.55\tFBeta : 0.281167\n",
      "Threshold : 0.60\tFBeta : 0.291712\n",
      "Threshold : 0.65\tFBeta : 0.302873\n",
      "Threshold : 0.70\tFBeta : 0.314425\n",
      "Threshold : 0.75\tFBeta : 0.311779\n",
      "Threshold : 0.80\tFBeta : 0.288200\n",
      "\n"
     ]
    },
    {
     "name": "stderr",
     "output_type": "stream",
     "text": [
      "Epoch 58/500  Mem : 19.8GB  LR : 7.06E-06  Loss: 0.6105: 100%|██████████| 8/8 [00:31<00:00,  3.92s/it]                                                                                                                                                       \n",
      "Val Loss: 0.7021: 100%|██████████| 3/3 [00:08<00:00,  2.90s/it]                                                                                                                                                                                              \n"
     ]
    },
    {
     "name": "stdout",
     "output_type": "stream",
     "text": [
      "Threshold : 0.20\tFBeta : 0.141404\n",
      "Threshold : 0.25\tFBeta : 0.216628\n",
      "Threshold : 0.30\tFBeta : 0.230585\n",
      "Threshold : 0.35\tFBeta : 0.237241\n",
      "Threshold : 0.40\tFBeta : 0.242451\n",
      "Threshold : 0.45\tFBeta : 0.249728\n",
      "Threshold : 0.50\tFBeta : 0.258939\n",
      "Threshold : 0.55\tFBeta : 0.269968\n",
      "Threshold : 0.60\tFBeta : 0.281682\n",
      "Threshold : 0.65\tFBeta : 0.290658\n",
      "Threshold : 0.70\tFBeta : 0.301309\n",
      "Threshold : 0.75\tFBeta : 0.313079\n",
      "Threshold : 0.80\tFBeta : 0.311052\n",
      "\n"
     ]
    },
    {
     "name": "stderr",
     "output_type": "stream",
     "text": [
      "Epoch 59/500  Mem : 19.8GB  LR : 7.16E-06  Loss: 0.6165: 100%|██████████| 8/8 [00:31<00:00,  3.99s/it]                                                                                                                                                       \n",
      "Val Loss: 0.7320: 100%|██████████| 3/3 [00:08<00:00,  2.86s/it]                                                                                                                                                                                              \n"
     ]
    },
    {
     "name": "stdout",
     "output_type": "stream",
     "text": [
      "Threshold : 0.20\tFBeta : 0.141478\n",
      "Threshold : 0.25\tFBeta : 0.213413\n",
      "Threshold : 0.30\tFBeta : 0.226917\n",
      "Threshold : 0.35\tFBeta : 0.234658\n",
      "Threshold : 0.40\tFBeta : 0.241450\n",
      "Threshold : 0.45\tFBeta : 0.249486\n",
      "Threshold : 0.50\tFBeta : 0.257069\n",
      "Threshold : 0.55\tFBeta : 0.265858\n",
      "Threshold : 0.60\tFBeta : 0.275448\n",
      "Threshold : 0.65\tFBeta : 0.286694\n",
      "Threshold : 0.70\tFBeta : 0.295198\n",
      "Threshold : 0.75\tFBeta : 0.307914\n",
      "Threshold : 0.80\tFBeta : 0.321857\n",
      "\n"
     ]
    },
    {
     "name": "stderr",
     "output_type": "stream",
     "text": [
      "Epoch 60/500  Mem : 19.8GB  LR : 7.27E-06  Loss: 0.6176: 100%|██████████| 8/8 [00:31<00:00,  3.92s/it]                                                                                                                                                       \n",
      "Val Loss: 0.7504: 100%|██████████| 3/3 [00:08<00:00,  2.91s/it]                                                                                                                                                                                              \n"
     ]
    },
    {
     "name": "stdout",
     "output_type": "stream",
     "text": [
      "Threshold : 0.20\tFBeta : 0.140425\n",
      "Threshold : 0.25\tFBeta : 0.217033\n",
      "Threshold : 0.30\tFBeta : 0.230913\n",
      "Threshold : 0.35\tFBeta : 0.237504\n",
      "Threshold : 0.40\tFBeta : 0.243504\n",
      "Threshold : 0.45\tFBeta : 0.251745\n",
      "Threshold : 0.50\tFBeta : 0.258706\n",
      "Threshold : 0.55\tFBeta : 0.267316\n",
      "Threshold : 0.60\tFBeta : 0.275262\n",
      "Threshold : 0.65\tFBeta : 0.283706\n",
      "Threshold : 0.70\tFBeta : 0.293596\n",
      "Threshold : 0.75\tFBeta : 0.304086\n",
      "Threshold : 0.80\tFBeta : 0.319988\n",
      "\n"
     ]
    },
    {
     "name": "stderr",
     "output_type": "stream",
     "text": [
      "Epoch 61/500  Mem : 19.8GB  LR : 7.38E-06  Loss: 0.6084: 100%|██████████| 8/8 [00:31<00:00,  3.88s/it]                                                                                                                                                       \n",
      "Val Loss: 0.7193: 100%|██████████| 3/3 [00:08<00:00,  2.87s/it]                                                                                                                                                                                              \n"
     ]
    },
    {
     "name": "stdout",
     "output_type": "stream",
     "text": [
      "Threshold : 0.20\tFBeta : 0.144795\n",
      "Threshold : 0.25\tFBeta : 0.219952\n",
      "Threshold : 0.30\tFBeta : 0.232470\n",
      "Threshold : 0.35\tFBeta : 0.240430\n",
      "Threshold : 0.40\tFBeta : 0.247384\n",
      "Threshold : 0.45\tFBeta : 0.254395\n",
      "Threshold : 0.50\tFBeta : 0.263047\n",
      "Threshold : 0.55\tFBeta : 0.271312\n",
      "Threshold : 0.60\tFBeta : 0.280715\n",
      "Threshold : 0.65\tFBeta : 0.287992\n",
      "Threshold : 0.70\tFBeta : 0.297293\n",
      "Threshold : 0.75\tFBeta : 0.311380\n",
      "Threshold : 0.80\tFBeta : 0.322365\n",
      "\n"
     ]
    },
    {
     "name": "stderr",
     "output_type": "stream",
     "text": [
      "Epoch 62/500  Mem : 19.8GB  LR : 7.50E-06  Loss: 0.6060: 100%|██████████| 8/8 [00:30<00:00,  3.79s/it]                                                                                                                                                       \n",
      "Val Loss: 0.6869: 100%|██████████| 3/3 [00:08<00:00,  2.85s/it]                                                                                                                                                                                              \n"
     ]
    },
    {
     "name": "stdout",
     "output_type": "stream",
     "text": [
      "Threshold : 0.20\tFBeta : 0.144050\n",
      "Threshold : 0.25\tFBeta : 0.221065\n",
      "Threshold : 0.30\tFBeta : 0.234468\n",
      "Threshold : 0.35\tFBeta : 0.243366\n",
      "Threshold : 0.40\tFBeta : 0.250652\n",
      "Threshold : 0.45\tFBeta : 0.259417\n",
      "Threshold : 0.50\tFBeta : 0.267568\n",
      "Threshold : 0.55\tFBeta : 0.276660\n",
      "Threshold : 0.60\tFBeta : 0.285870\n",
      "Threshold : 0.65\tFBeta : 0.295020\n",
      "Threshold : 0.70\tFBeta : 0.306365\n",
      "Threshold : 0.75\tFBeta : 0.312883\n",
      "Threshold : 0.80\tFBeta : 0.299578\n",
      "\n"
     ]
    },
    {
     "name": "stderr",
     "output_type": "stream",
     "text": [
      "Epoch 63/500  Mem : 19.8GB  LR : 7.61E-06  Loss: 0.6125: 100%|██████████| 8/8 [00:32<00:00,  4.00s/it]                                                                                                                                                       \n",
      "Val Loss: 0.7043: 100%|██████████| 3/3 [00:08<00:00,  2.86s/it]                                                                                                                                                                                              \n"
     ]
    },
    {
     "name": "stdout",
     "output_type": "stream",
     "text": [
      "Threshold : 0.20\tFBeta : 0.142012\n",
      "Threshold : 0.25\tFBeta : 0.217773\n",
      "Threshold : 0.30\tFBeta : 0.232560\n",
      "Threshold : 0.35\tFBeta : 0.241399\n",
      "Threshold : 0.40\tFBeta : 0.250174\n",
      "Threshold : 0.45\tFBeta : 0.259033\n",
      "Threshold : 0.50\tFBeta : 0.267705\n",
      "Threshold : 0.55\tFBeta : 0.277896\n",
      "Threshold : 0.60\tFBeta : 0.287204\n",
      "Threshold : 0.65\tFBeta : 0.296667\n",
      "Threshold : 0.70\tFBeta : 0.307291\n",
      "Threshold : 0.75\tFBeta : 0.314200\n",
      "Threshold : 0.80\tFBeta : 0.312965\n",
      "\n"
     ]
    },
    {
     "name": "stderr",
     "output_type": "stream",
     "text": [
      "Epoch 64/500  Mem : 19.8GB  LR : 7.73E-06  Loss: 0.6086: 100%|██████████| 8/8 [00:31<00:00,  3.95s/it]                                                                                                                                                       \n",
      "Val Loss: 0.6946: 100%|██████████| 3/3 [00:08<00:00,  2.85s/it]                                                                                                                                                                                              \n"
     ]
    },
    {
     "name": "stdout",
     "output_type": "stream",
     "text": [
      "Threshold : 0.20\tFBeta : 0.140698\n",
      "Threshold : 0.25\tFBeta : 0.216545\n",
      "Threshold : 0.30\tFBeta : 0.232290\n",
      "Threshold : 0.35\tFBeta : 0.240114\n",
      "Threshold : 0.40\tFBeta : 0.248525\n",
      "Threshold : 0.45\tFBeta : 0.259844\n",
      "Threshold : 0.50\tFBeta : 0.270213\n",
      "Threshold : 0.55\tFBeta : 0.281483\n",
      "Threshold : 0.60\tFBeta : 0.294048\n",
      "Threshold : 0.65\tFBeta : 0.306040\n",
      "Threshold : 0.70\tFBeta : 0.313416\n",
      "Threshold : 0.75\tFBeta : 0.322825\n",
      "Threshold : 0.80\tFBeta : 0.328787\n",
      "\n"
     ]
    },
    {
     "name": "stderr",
     "output_type": "stream",
     "text": [
      "Epoch 65/500  Mem : 19.8GB  LR : 7.84E-06  Loss: 0.6055: 100%|██████████| 8/8 [00:31<00:00,  3.89s/it]                                                                                                                                                       \n",
      "Val Loss: 0.6425: 100%|██████████| 3/3 [00:08<00:00,  2.86s/it]                                                                                                                                                                                              \n"
     ]
    },
    {
     "name": "stdout",
     "output_type": "stream",
     "text": [
      "Threshold : 0.20\tFBeta : 0.144233\n",
      "Threshold : 0.25\tFBeta : 0.218149\n",
      "Threshold : 0.30\tFBeta : 0.234111\n",
      "Threshold : 0.35\tFBeta : 0.245728\n",
      "Threshold : 0.40\tFBeta : 0.262036\n",
      "Threshold : 0.45\tFBeta : 0.279844\n",
      "Threshold : 0.50\tFBeta : 0.296697\n",
      "Threshold : 0.55\tFBeta : 0.309845\n",
      "Threshold : 0.60\tFBeta : 0.320899\n",
      "Threshold : 0.65\tFBeta : 0.323184\n",
      "Threshold : 0.70\tFBeta : 0.327941\n",
      "Threshold : 0.75\tFBeta : 0.329201\n",
      "Threshold : 0.80\tFBeta : 0.301693\n",
      "\n"
     ]
    },
    {
     "name": "stderr",
     "output_type": "stream",
     "text": [
      "Epoch 66/500  Mem : 19.8GB  LR : 7.96E-06  Loss: 0.6071: 100%|██████████| 8/8 [00:31<00:00,  3.97s/it]                                                                                                                                                       \n",
      "Val Loss: 0.6307: 100%|██████████| 3/3 [00:08<00:00,  2.85s/it]                                                                                                                                                                                              \n"
     ]
    },
    {
     "name": "stdout",
     "output_type": "stream",
     "text": [
      "Threshold : 0.20\tFBeta : 0.148678\n",
      "Threshold : 0.25\tFBeta : 0.224258\n",
      "Threshold : 0.30\tFBeta : 0.240042\n",
      "Threshold : 0.35\tFBeta : 0.253942\n",
      "Threshold : 0.40\tFBeta : 0.272463\n",
      "Threshold : 0.45\tFBeta : 0.292736\n",
      "Threshold : 0.50\tFBeta : 0.306382\n",
      "Threshold : 0.55\tFBeta : 0.313493\n",
      "Threshold : 0.60\tFBeta : 0.317496\n",
      "Threshold : 0.65\tFBeta : 0.318017\n",
      "Threshold : 0.70\tFBeta : 0.312359\n",
      "Threshold : 0.75\tFBeta : 0.307248\n",
      "Threshold : 0.80\tFBeta : 0.291190\n",
      "\n"
     ]
    },
    {
     "name": "stderr",
     "output_type": "stream",
     "text": [
      "Epoch 67/500  Mem : 19.8GB  LR : 8.08E-06  Loss: 0.5969: 100%|██████████| 8/8 [00:31<00:00,  3.89s/it]                                                                                                                                                       \n",
      "Val Loss: 0.6556: 100%|██████████| 3/3 [00:08<00:00,  2.86s/it]                                                                                                                                                                                              \n"
     ]
    },
    {
     "name": "stdout",
     "output_type": "stream",
     "text": [
      "Threshold : 0.20\tFBeta : 0.145599\n",
      "Threshold : 0.25\tFBeta : 0.226082\n",
      "Threshold : 0.30\tFBeta : 0.240689\n",
      "Threshold : 0.35\tFBeta : 0.252947\n",
      "Threshold : 0.40\tFBeta : 0.264845\n",
      "Threshold : 0.45\tFBeta : 0.279221\n",
      "Threshold : 0.50\tFBeta : 0.293344\n",
      "Threshold : 0.55\tFBeta : 0.304383\n",
      "Threshold : 0.60\tFBeta : 0.310006\n",
      "Threshold : 0.65\tFBeta : 0.313568\n",
      "Threshold : 0.70\tFBeta : 0.316324\n",
      "Threshold : 0.75\tFBeta : 0.314480\n",
      "Threshold : 0.80\tFBeta : 0.309198\n",
      "\n"
     ]
    },
    {
     "name": "stderr",
     "output_type": "stream",
     "text": [
      "Epoch 68/500  Mem : 19.8GB  LR : 8.21E-06  Loss: 0.5934: 100%|██████████| 8/8 [00:31<00:00,  3.98s/it]                                                                                                                                                       \n",
      "Val Loss: 0.7214: 100%|██████████| 3/3 [00:08<00:00,  2.87s/it]                                                                                                                                                                                              \n"
     ]
    },
    {
     "name": "stdout",
     "output_type": "stream",
     "text": [
      "Threshold : 0.20\tFBeta : 0.156784\n",
      "Threshold : 0.25\tFBeta : 0.223077\n",
      "Threshold : 0.30\tFBeta : 0.236831\n",
      "Threshold : 0.35\tFBeta : 0.246203\n",
      "Threshold : 0.40\tFBeta : 0.255033\n",
      "Threshold : 0.45\tFBeta : 0.265006\n",
      "Threshold : 0.50\tFBeta : 0.273876\n",
      "Threshold : 0.55\tFBeta : 0.282436\n",
      "Threshold : 0.60\tFBeta : 0.291130\n",
      "Threshold : 0.65\tFBeta : 0.299717\n",
      "Threshold : 0.70\tFBeta : 0.309086\n",
      "Threshold : 0.75\tFBeta : 0.318626\n",
      "Threshold : 0.80\tFBeta : 0.325636\n",
      "\n"
     ]
    },
    {
     "name": "stderr",
     "output_type": "stream",
     "text": [
      "Epoch 69/500  Mem : 19.8GB  LR : 8.33E-06  Loss: 0.5848: 100%|██████████| 8/8 [00:30<00:00,  3.87s/it]                                                                                                                                                       \n",
      "Val Loss: 0.6469: 100%|██████████| 3/3 [00:08<00:00,  2.89s/it]                                                                                                                                                                                              \n"
     ]
    },
    {
     "name": "stdout",
     "output_type": "stream",
     "text": [
      "Threshold : 0.20\tFBeta : 0.148121\n",
      "Threshold : 0.25\tFBeta : 0.221461\n",
      "Threshold : 0.30\tFBeta : 0.237778\n",
      "Threshold : 0.35\tFBeta : 0.250900\n",
      "Threshold : 0.40\tFBeta : 0.265285\n",
      "Threshold : 0.45\tFBeta : 0.281616\n",
      "Threshold : 0.50\tFBeta : 0.295711\n",
      "Threshold : 0.55\tFBeta : 0.306965\n",
      "Threshold : 0.60\tFBeta : 0.317457\n",
      "Threshold : 0.65\tFBeta : 0.323207\n",
      "Threshold : 0.70\tFBeta : 0.327915\n",
      "Threshold : 0.75\tFBeta : 0.327584\n",
      "Threshold : 0.80\tFBeta : 0.320460\n",
      "\n"
     ]
    },
    {
     "name": "stderr",
     "output_type": "stream",
     "text": [
      "Epoch 70/500  Mem : 19.8GB  LR : 8.46E-06  Loss: 0.6001: 100%|██████████| 8/8 [00:31<00:00,  3.95s/it]                                                                                                                                                       \n",
      "Val Loss: 0.6207: 100%|██████████| 3/3 [00:08<00:00,  2.84s/it]                                                                                                                                                                                              \n"
     ]
    },
    {
     "name": "stdout",
     "output_type": "stream",
     "text": [
      "Threshold : 0.20\tFBeta : 0.148111\n",
      "Threshold : 0.25\tFBeta : 0.230304\n",
      "Threshold : 0.30\tFBeta : 0.242978\n",
      "Threshold : 0.35\tFBeta : 0.257090\n",
      "Threshold : 0.40\tFBeta : 0.273242\n",
      "Threshold : 0.45\tFBeta : 0.295683\n",
      "Threshold : 0.50\tFBeta : 0.314795\n",
      "Threshold : 0.55\tFBeta : 0.321399\n",
      "Threshold : 0.60\tFBeta : 0.323608\n",
      "Threshold : 0.65\tFBeta : 0.324093\n",
      "Threshold : 0.70\tFBeta : 0.320099\n",
      "Threshold : 0.75\tFBeta : 0.300624\n",
      "Threshold : 0.80\tFBeta : 0.262258\n",
      "\n"
     ]
    },
    {
     "name": "stderr",
     "output_type": "stream",
     "text": [
      "Epoch 71/500  Mem : 19.8GB  LR : 8.59E-06  Loss: 0.5819: 100%|██████████| 8/8 [00:31<00:00,  3.94s/it]                                                                                                                                                       \n",
      "Val Loss: 0.6360: 100%|██████████| 3/3 [00:08<00:00,  2.92s/it]                                                                                                                                                                                              \n"
     ]
    },
    {
     "name": "stdout",
     "output_type": "stream",
     "text": [
      "Threshold : 0.20\tFBeta : 0.144691\n",
      "Threshold : 0.25\tFBeta : 0.223818\n",
      "Threshold : 0.30\tFBeta : 0.238735\n",
      "Threshold : 0.35\tFBeta : 0.252282\n",
      "Threshold : 0.40\tFBeta : 0.263422\n",
      "Threshold : 0.45\tFBeta : 0.283473\n",
      "Threshold : 0.50\tFBeta : 0.299686\n",
      "Threshold : 0.55\tFBeta : 0.311399\n",
      "Threshold : 0.60\tFBeta : 0.321346\n",
      "Threshold : 0.65\tFBeta : 0.326613\n",
      "Threshold : 0.70\tFBeta : 0.329782\n",
      "Threshold : 0.75\tFBeta : 0.321879\n",
      "Threshold : 0.80\tFBeta : 0.299662\n",
      "\n"
     ]
    },
    {
     "name": "stderr",
     "output_type": "stream",
     "text": [
      "Epoch 72/500  Mem : 19.8GB  LR : 8.72E-06  Loss: 0.5860: 100%|██████████| 8/8 [00:30<00:00,  3.80s/it]                                                                                                                                                       \n",
      "Val Loss: 0.6830: 100%|██████████| 3/3 [00:08<00:00,  2.91s/it]                                                                                                                                                                                              \n"
     ]
    },
    {
     "name": "stdout",
     "output_type": "stream",
     "text": [
      "Threshold : 0.20\tFBeta : 0.166908\n",
      "Threshold : 0.25\tFBeta : 0.227396\n",
      "Threshold : 0.30\tFBeta : 0.239362\n",
      "Threshold : 0.35\tFBeta : 0.247366\n",
      "Threshold : 0.40\tFBeta : 0.258025\n",
      "Threshold : 0.45\tFBeta : 0.272841\n",
      "Threshold : 0.50\tFBeta : 0.282332\n",
      "Threshold : 0.55\tFBeta : 0.291598\n",
      "Threshold : 0.60\tFBeta : 0.301364\n",
      "Threshold : 0.65\tFBeta : 0.310898\n",
      "Threshold : 0.70\tFBeta : 0.318475\n",
      "Threshold : 0.75\tFBeta : 0.325597\n",
      "Threshold : 0.80\tFBeta : 0.332181\n",
      "\n"
     ]
    },
    {
     "name": "stderr",
     "output_type": "stream",
     "text": [
      "Epoch 73/500  Mem : 19.8GB  LR : 8.85E-06  Loss: 0.5754: 100%|██████████| 8/8 [00:30<00:00,  3.85s/it]                                                                                                                                                       \n",
      "Val Loss: 0.6659: 100%|██████████| 3/3 [00:08<00:00,  2.87s/it]                                                                                                                                                                                              \n"
     ]
    },
    {
     "name": "stdout",
     "output_type": "stream",
     "text": [
      "Threshold : 0.20\tFBeta : 0.167633\n",
      "Threshold : 0.25\tFBeta : 0.229812\n",
      "Threshold : 0.30\tFBeta : 0.241019\n",
      "Threshold : 0.35\tFBeta : 0.248518\n",
      "Threshold : 0.40\tFBeta : 0.260251\n",
      "Threshold : 0.45\tFBeta : 0.274888\n",
      "Threshold : 0.50\tFBeta : 0.288075\n",
      "Threshold : 0.55\tFBeta : 0.295717\n",
      "Threshold : 0.60\tFBeta : 0.302216\n",
      "Threshold : 0.65\tFBeta : 0.308508\n",
      "Threshold : 0.70\tFBeta : 0.312650\n",
      "Threshold : 0.75\tFBeta : 0.317180\n",
      "Threshold : 0.80\tFBeta : 0.316947\n",
      "\n"
     ]
    },
    {
     "name": "stderr",
     "output_type": "stream",
     "text": [
      "Epoch 74/500  Mem : 19.8GB  LR : 8.98E-06  Loss: 0.5793: 100%|██████████| 8/8 [00:32<00:00,  4.00s/it]                                                                                                                                                       \n",
      "Val Loss: 0.6683: 100%|██████████| 3/3 [00:08<00:00,  2.87s/it]                                                                                                                                                                                              \n"
     ]
    },
    {
     "name": "stdout",
     "output_type": "stream",
     "text": [
      "Threshold : 0.20\tFBeta : 0.177044\n",
      "Threshold : 0.25\tFBeta : 0.228749\n",
      "Threshold : 0.30\tFBeta : 0.241156\n",
      "Threshold : 0.35\tFBeta : 0.254176\n",
      "Threshold : 0.40\tFBeta : 0.268126\n",
      "Threshold : 0.45\tFBeta : 0.278171\n",
      "Threshold : 0.50\tFBeta : 0.285836\n",
      "Threshold : 0.55\tFBeta : 0.294399\n",
      "Threshold : 0.60\tFBeta : 0.300640\n",
      "Threshold : 0.65\tFBeta : 0.305328\n",
      "Threshold : 0.70\tFBeta : 0.310585\n",
      "Threshold : 0.75\tFBeta : 0.316178\n",
      "Threshold : 0.80\tFBeta : 0.320955\n",
      "\n"
     ]
    },
    {
     "name": "stderr",
     "output_type": "stream",
     "text": [
      "Epoch 75/500  Mem : 19.8GB  LR : 9.12E-06  Loss: 0.5878: 100%|██████████| 8/8 [00:31<00:00,  3.88s/it]                                                                                                                                                       \n",
      "Val Loss: 0.6643: 100%|██████████| 3/3 [00:08<00:00,  2.88s/it]                                                                                                                                                                                              \n"
     ]
    },
    {
     "name": "stdout",
     "output_type": "stream",
     "text": [
      "Threshold : 0.20\tFBeta : 0.166104\n",
      "Threshold : 0.25\tFBeta : 0.228135\n",
      "Threshold : 0.30\tFBeta : 0.241563\n",
      "Threshold : 0.35\tFBeta : 0.257495\n",
      "Threshold : 0.40\tFBeta : 0.271689\n",
      "Threshold : 0.45\tFBeta : 0.279451\n",
      "Threshold : 0.50\tFBeta : 0.287088\n",
      "Threshold : 0.55\tFBeta : 0.295040\n",
      "Threshold : 0.60\tFBeta : 0.299805\n",
      "Threshold : 0.65\tFBeta : 0.305394\n",
      "Threshold : 0.70\tFBeta : 0.312393\n",
      "Threshold : 0.75\tFBeta : 0.318881\n",
      "Threshold : 0.80\tFBeta : 0.318449\n",
      "\n"
     ]
    },
    {
     "name": "stderr",
     "output_type": "stream",
     "text": [
      "Epoch 76/500  Mem : 19.8GB  LR : 9.25E-06  Loss: 0.5754: 100%|██████████| 8/8 [00:31<00:00,  3.93s/it]                                                                                                                                                       \n",
      "Val Loss: 0.6552: 100%|██████████| 3/3 [00:08<00:00,  2.86s/it]                                                                                                                                                                                              \n"
     ]
    },
    {
     "name": "stdout",
     "output_type": "stream",
     "text": [
      "Threshold : 0.20\tFBeta : 0.158590\n",
      "Threshold : 0.25\tFBeta : 0.226678\n",
      "Threshold : 0.30\tFBeta : 0.239741\n",
      "Threshold : 0.35\tFBeta : 0.250393\n",
      "Threshold : 0.40\tFBeta : 0.264429\n",
      "Threshold : 0.45\tFBeta : 0.278880\n",
      "Threshold : 0.50\tFBeta : 0.292354\n",
      "Threshold : 0.55\tFBeta : 0.301594\n",
      "Threshold : 0.60\tFBeta : 0.310185\n",
      "Threshold : 0.65\tFBeta : 0.317982\n",
      "Threshold : 0.70\tFBeta : 0.321101\n",
      "Threshold : 0.75\tFBeta : 0.322047\n",
      "Threshold : 0.80\tFBeta : 0.313808\n",
      "\n"
     ]
    },
    {
     "name": "stderr",
     "output_type": "stream",
     "text": [
      "Epoch 77/500  Mem : 19.8GB  LR : 9.39E-06  Loss: 0.5766: 100%|██████████| 8/8 [00:30<00:00,  3.82s/it]                                                                                                                                                       \n",
      "Val Loss: 0.7205: 100%|██████████| 3/3 [00:08<00:00,  2.86s/it]                                                                                                                                                                                              \n"
     ]
    },
    {
     "name": "stdout",
     "output_type": "stream",
     "text": [
      "Threshold : 0.20\tFBeta : 0.148613\n",
      "Threshold : 0.25\tFBeta : 0.229277\n",
      "Threshold : 0.30\tFBeta : 0.241750\n",
      "Threshold : 0.35\tFBeta : 0.249161\n",
      "Threshold : 0.40\tFBeta : 0.258140\n",
      "Threshold : 0.45\tFBeta : 0.267759\n",
      "Threshold : 0.50\tFBeta : 0.276901\n",
      "Threshold : 0.55\tFBeta : 0.285751\n",
      "Threshold : 0.60\tFBeta : 0.293095\n",
      "Threshold : 0.65\tFBeta : 0.300156\n",
      "Threshold : 0.70\tFBeta : 0.308339\n",
      "Threshold : 0.75\tFBeta : 0.316165\n",
      "Threshold : 0.80\tFBeta : 0.322898\n",
      "\n"
     ]
    },
    {
     "name": "stderr",
     "output_type": "stream",
     "text": [
      "Epoch 78/500  Mem : 19.8GB  LR : 9.53E-06  Loss: 0.5820: 100%|██████████| 8/8 [00:31<00:00,  3.93s/it]                                                                                                                                                       \n",
      "Val Loss: 0.6744: 100%|██████████| 3/3 [00:08<00:00,  2.87s/it]                                                                                                                                                                                              \n"
     ]
    },
    {
     "name": "stdout",
     "output_type": "stream",
     "text": [
      "Threshold : 0.20\tFBeta : 0.153418\n",
      "Threshold : 0.25\tFBeta : 0.229784\n",
      "Threshold : 0.30\tFBeta : 0.241888\n",
      "Threshold : 0.35\tFBeta : 0.249928\n",
      "Threshold : 0.40\tFBeta : 0.261936\n",
      "Threshold : 0.45\tFBeta : 0.275819\n",
      "Threshold : 0.50\tFBeta : 0.288416\n",
      "Threshold : 0.55\tFBeta : 0.300551\n",
      "Threshold : 0.60\tFBeta : 0.311043\n",
      "Threshold : 0.65\tFBeta : 0.320098\n",
      "Threshold : 0.70\tFBeta : 0.328609\n",
      "Threshold : 0.75\tFBeta : 0.332999\n",
      "Threshold : 0.80\tFBeta : 0.331912\n",
      "\n"
     ]
    },
    {
     "name": "stderr",
     "output_type": "stream",
     "text": [
      "Epoch 79/500  Mem : 19.8GB  LR : 9.67E-06  Loss: 0.5668: 100%|██████████| 8/8 [00:31<00:00,  3.98s/it]                                                                                                                                                       \n",
      "Val Loss: 0.6327: 100%|██████████| 3/3 [00:08<00:00,  2.90s/it]                                                                                                                                                                                              \n"
     ]
    },
    {
     "name": "stdout",
     "output_type": "stream",
     "text": [
      "Threshold : 0.20\tFBeta : 0.173739\n",
      "Threshold : 0.25\tFBeta : 0.233866\n",
      "Threshold : 0.30\tFBeta : 0.243180\n",
      "Threshold : 0.35\tFBeta : 0.254712\n",
      "Threshold : 0.40\tFBeta : 0.272706\n",
      "Threshold : 0.45\tFBeta : 0.290006\n",
      "Threshold : 0.50\tFBeta : 0.305712\n",
      "Threshold : 0.55\tFBeta : 0.320183\n",
      "Threshold : 0.60\tFBeta : 0.328475\n",
      "Threshold : 0.65\tFBeta : 0.334883\n",
      "Threshold : 0.70\tFBeta : 0.336510\n",
      "Threshold : 0.75\tFBeta : 0.337501\n",
      "Threshold : 0.80\tFBeta : 0.325594\n",
      "\n"
     ]
    },
    {
     "name": "stderr",
     "output_type": "stream",
     "text": [
      "Epoch 80/500  Mem : 19.8GB  LR : 9.82E-06  Loss: 0.5757: 100%|██████████| 8/8 [00:31<00:00,  3.93s/it]                                                                                                                                                       \n",
      "Val Loss: 0.6287: 100%|██████████| 3/3 [00:08<00:00,  2.86s/it]                                                                                                                                                                                              \n"
     ]
    },
    {
     "name": "stdout",
     "output_type": "stream",
     "text": [
      "Threshold : 0.20\tFBeta : 0.142219\n",
      "Threshold : 0.25\tFBeta : 0.226352\n",
      "Threshold : 0.30\tFBeta : 0.243795\n",
      "Threshold : 0.35\tFBeta : 0.260989\n",
      "Threshold : 0.40\tFBeta : 0.278249\n",
      "Threshold : 0.45\tFBeta : 0.293111\n",
      "Threshold : 0.50\tFBeta : 0.302699\n",
      "Threshold : 0.55\tFBeta : 0.307118\n",
      "Threshold : 0.60\tFBeta : 0.309411\n",
      "Threshold : 0.65\tFBeta : 0.309823\n",
      "Threshold : 0.70\tFBeta : 0.305680\n",
      "Threshold : 0.75\tFBeta : 0.291232\n",
      "Threshold : 0.80\tFBeta : 0.263731\n",
      "\n"
     ]
    },
    {
     "name": "stderr",
     "output_type": "stream",
     "text": [
      "Epoch 81/500  Mem : 19.8GB  LR : 9.96E-06  Loss: 0.5694: 100%|██████████| 8/8 [00:32<00:00,  4.01s/it]                                                                                                                                                       \n",
      "Val Loss: 0.6504: 100%|██████████| 3/3 [00:08<00:00,  2.86s/it]                                                                                                                                                                                              \n"
     ]
    },
    {
     "name": "stdout",
     "output_type": "stream",
     "text": [
      "Threshold : 0.20\tFBeta : 0.150267\n",
      "Threshold : 0.25\tFBeta : 0.233565\n",
      "Threshold : 0.30\tFBeta : 0.244521\n",
      "Threshold : 0.35\tFBeta : 0.258877\n",
      "Threshold : 0.40\tFBeta : 0.272609\n",
      "Threshold : 0.45\tFBeta : 0.288267\n",
      "Threshold : 0.50\tFBeta : 0.300685\n",
      "Threshold : 0.55\tFBeta : 0.307380\n",
      "Threshold : 0.60\tFBeta : 0.313025\n",
      "Threshold : 0.65\tFBeta : 0.316494\n",
      "Threshold : 0.70\tFBeta : 0.316143\n",
      "Threshold : 0.75\tFBeta : 0.316552\n",
      "Threshold : 0.80\tFBeta : 0.314366\n",
      "\n"
     ]
    },
    {
     "name": "stderr",
     "output_type": "stream",
     "text": [
      "Epoch 82/500  Mem : 19.8GB  LR : 1.01E-05  Loss: 0.5715: 100%|██████████| 8/8 [00:31<00:00,  3.91s/it]                                                                                                                                                       \n",
      "Val Loss: 0.6441: 100%|██████████| 3/3 [00:08<00:00,  2.87s/it]                                                                                                                                                                                              \n"
     ]
    },
    {
     "name": "stdout",
     "output_type": "stream",
     "text": [
      "Threshold : 0.20\tFBeta : 0.144693\n",
      "Threshold : 0.25\tFBeta : 0.231629\n",
      "Threshold : 0.30\tFBeta : 0.245422\n",
      "Threshold : 0.35\tFBeta : 0.260517\n",
      "Threshold : 0.40\tFBeta : 0.274520\n",
      "Threshold : 0.45\tFBeta : 0.290126\n",
      "Threshold : 0.50\tFBeta : 0.302278\n",
      "Threshold : 0.55\tFBeta : 0.309361\n",
      "Threshold : 0.60\tFBeta : 0.313733\n",
      "Threshold : 0.65\tFBeta : 0.317629\n",
      "Threshold : 0.70\tFBeta : 0.319195\n",
      "Threshold : 0.75\tFBeta : 0.315200\n",
      "Threshold : 0.80\tFBeta : 0.306889\n",
      "\n"
     ]
    },
    {
     "name": "stderr",
     "output_type": "stream",
     "text": [
      "Epoch 83/500  Mem : 19.8GB  LR : 1.03E-05  Loss: 0.5625: 100%|██████████| 8/8 [00:30<00:00,  3.82s/it]                                                                                                                                                       \n",
      "Val Loss: 0.6413: 100%|██████████| 3/3 [00:08<00:00,  2.86s/it]                                                                                                                                                                                              \n"
     ]
    },
    {
     "name": "stdout",
     "output_type": "stream",
     "text": [
      "Threshold : 0.20\tFBeta : 0.177564\n",
      "Threshold : 0.25\tFBeta : 0.231995\n",
      "Threshold : 0.30\tFBeta : 0.243698\n",
      "Threshold : 0.35\tFBeta : 0.256999\n",
      "Threshold : 0.40\tFBeta : 0.275882\n",
      "Threshold : 0.45\tFBeta : 0.291032\n",
      "Threshold : 0.50\tFBeta : 0.302676\n",
      "Threshold : 0.55\tFBeta : 0.308394\n",
      "Threshold : 0.60\tFBeta : 0.312072\n",
      "Threshold : 0.65\tFBeta : 0.315369\n",
      "Threshold : 0.70\tFBeta : 0.315978\n",
      "Threshold : 0.75\tFBeta : 0.317522\n",
      "Threshold : 0.80\tFBeta : 0.310737\n",
      "\n"
     ]
    },
    {
     "name": "stderr",
     "output_type": "stream",
     "text": [
      "Epoch 84/500  Mem : 19.8GB  LR : 1.04E-05  Loss: 0.5614: 100%|██████████| 8/8 [00:31<00:00,  3.93s/it]                                                                                                                                                       \n",
      "Val Loss: 0.6472: 100%|██████████| 3/3 [00:08<00:00,  2.86s/it]                                                                                                                                                                                              \n"
     ]
    },
    {
     "name": "stdout",
     "output_type": "stream",
     "text": [
      "Threshold : 0.20\tFBeta : 0.173735\n",
      "Threshold : 0.25\tFBeta : 0.232349\n",
      "Threshold : 0.30\tFBeta : 0.242990\n",
      "Threshold : 0.35\tFBeta : 0.255517\n",
      "Threshold : 0.40\tFBeta : 0.272164\n",
      "Threshold : 0.45\tFBeta : 0.286206\n",
      "Threshold : 0.50\tFBeta : 0.295564\n",
      "Threshold : 0.55\tFBeta : 0.303766\n",
      "Threshold : 0.60\tFBeta : 0.309728\n",
      "Threshold : 0.65\tFBeta : 0.313835\n",
      "Threshold : 0.70\tFBeta : 0.316316\n",
      "Threshold : 0.75\tFBeta : 0.315420\n",
      "Threshold : 0.80\tFBeta : 0.305068\n",
      "\n"
     ]
    },
    {
     "name": "stderr",
     "output_type": "stream",
     "text": [
      "Epoch 85/500  Mem : 19.8GB  LR : 1.06E-05  Loss: 0.5682: 100%|██████████| 8/8 [00:31<00:00,  3.96s/it]                                                                                                                                                       \n",
      "Val Loss: 0.7335: 100%|██████████| 3/3 [00:08<00:00,  2.91s/it]                                                                                                                                                                                              \n"
     ]
    },
    {
     "name": "stdout",
     "output_type": "stream",
     "text": [
      "Threshold : 0.20\tFBeta : 0.179731\n",
      "Threshold : 0.25\tFBeta : 0.231676\n",
      "Threshold : 0.30\tFBeta : 0.241204\n",
      "Threshold : 0.35\tFBeta : 0.249321\n",
      "Threshold : 0.40\tFBeta : 0.259103\n",
      "Threshold : 0.45\tFBeta : 0.268854\n",
      "Threshold : 0.50\tFBeta : 0.278116\n",
      "Threshold : 0.55\tFBeta : 0.286548\n",
      "Threshold : 0.60\tFBeta : 0.293405\n",
      "Threshold : 0.65\tFBeta : 0.298095\n",
      "Threshold : 0.70\tFBeta : 0.302826\n",
      "Threshold : 0.75\tFBeta : 0.309252\n",
      "Threshold : 0.80\tFBeta : 0.316714\n",
      "\n"
     ]
    },
    {
     "name": "stderr",
     "output_type": "stream",
     "text": [
      "Epoch 86/500  Mem : 19.8GB  LR : 1.07E-05  Loss: 0.5589: 100%|██████████| 8/8 [00:31<00:00,  3.94s/it]                                                                                                                                                       \n",
      "Val Loss: 0.7248: 100%|██████████| 3/3 [00:08<00:00,  2.86s/it]                                                                                                                                                                                              \n"
     ]
    },
    {
     "name": "stdout",
     "output_type": "stream",
     "text": [
      "Threshold : 0.20\tFBeta : 0.147569\n",
      "Threshold : 0.25\tFBeta : 0.228877\n",
      "Threshold : 0.30\tFBeta : 0.240317\n",
      "Threshold : 0.35\tFBeta : 0.249461\n",
      "Threshold : 0.40\tFBeta : 0.259327\n",
      "Threshold : 0.45\tFBeta : 0.270731\n",
      "Threshold : 0.50\tFBeta : 0.280630\n",
      "Threshold : 0.55\tFBeta : 0.288710\n",
      "Threshold : 0.60\tFBeta : 0.294618\n",
      "Threshold : 0.65\tFBeta : 0.297961\n",
      "Threshold : 0.70\tFBeta : 0.302029\n",
      "Threshold : 0.75\tFBeta : 0.308354\n",
      "Threshold : 0.80\tFBeta : 0.313906\n",
      "\n"
     ]
    },
    {
     "name": "stderr",
     "output_type": "stream",
     "text": [
      "Epoch 87/500  Mem : 19.8GB  LR : 1.09E-05  Loss: 0.5609: 100%|██████████| 8/8 [00:31<00:00,  3.90s/it]                                                                                                                                                       \n",
      "Val Loss: 0.7473: 100%|██████████| 3/3 [00:08<00:00,  2.85s/it]                                                                                                                                                                                              \n"
     ]
    },
    {
     "name": "stdout",
     "output_type": "stream",
     "text": [
      "Threshold : 0.20\tFBeta : 0.163464\n",
      "Threshold : 0.25\tFBeta : 0.232709\n",
      "Threshold : 0.30\tFBeta : 0.241336\n",
      "Threshold : 0.35\tFBeta : 0.250233\n",
      "Threshold : 0.40\tFBeta : 0.260415\n",
      "Threshold : 0.45\tFBeta : 0.270734\n",
      "Threshold : 0.50\tFBeta : 0.279855\n",
      "Threshold : 0.55\tFBeta : 0.286580\n",
      "Threshold : 0.60\tFBeta : 0.292687\n",
      "Threshold : 0.65\tFBeta : 0.298151\n",
      "Threshold : 0.70\tFBeta : 0.303001\n",
      "Threshold : 0.75\tFBeta : 0.308964\n",
      "Threshold : 0.80\tFBeta : 0.313981\n",
      "\n"
     ]
    },
    {
     "name": "stderr",
     "output_type": "stream",
     "text": [
      "Epoch 88/500  Mem : 19.8GB  LR : 1.10E-05  Loss: 0.5567: 100%|██████████| 8/8 [00:31<00:00,  3.94s/it]                                                                                                                                                       \n",
      "Val Loss: 0.6560: 100%|██████████| 3/3 [00:08<00:00,  2.86s/it]                                                                                                                                                                                              \n"
     ]
    },
    {
     "name": "stdout",
     "output_type": "stream",
     "text": [
      "Threshold : 0.20\tFBeta : 0.167200\n",
      "Threshold : 0.25\tFBeta : 0.237168\n",
      "Threshold : 0.30\tFBeta : 0.248334\n",
      "Threshold : 0.35\tFBeta : 0.262469\n",
      "Threshold : 0.40\tFBeta : 0.274406\n",
      "Threshold : 0.45\tFBeta : 0.288389\n",
      "Threshold : 0.50\tFBeta : 0.298970\n",
      "Threshold : 0.55\tFBeta : 0.306843\n",
      "Threshold : 0.60\tFBeta : 0.312226\n",
      "Threshold : 0.65\tFBeta : 0.317111\n",
      "Threshold : 0.70\tFBeta : 0.325150\n",
      "Threshold : 0.75\tFBeta : 0.330479\n",
      "Threshold : 0.80\tFBeta : 0.327031\n",
      "\n"
     ]
    },
    {
     "name": "stderr",
     "output_type": "stream",
     "text": [
      "Epoch 89/500  Mem : 19.8GB  LR : 1.12E-05  Loss: 0.5487: 100%|██████████| 8/8 [00:30<00:00,  3.86s/it]                                                                                                                                                       \n",
      "Val Loss: 0.6661: 100%|██████████| 3/3 [00:08<00:00,  2.90s/it]                                                                                                                                                                                              \n"
     ]
    },
    {
     "name": "stdout",
     "output_type": "stream",
     "text": [
      "Threshold : 0.20\tFBeta : 0.148022\n",
      "Threshold : 0.25\tFBeta : 0.236343\n",
      "Threshold : 0.30\tFBeta : 0.244626\n",
      "Threshold : 0.35\tFBeta : 0.251460\n",
      "Threshold : 0.40\tFBeta : 0.264519\n",
      "Threshold : 0.45\tFBeta : 0.281909\n",
      "Threshold : 0.50\tFBeta : 0.292886\n",
      "Threshold : 0.55\tFBeta : 0.301084\n",
      "Threshold : 0.60\tFBeta : 0.308716\n",
      "Threshold : 0.65\tFBeta : 0.314760\n",
      "Threshold : 0.70\tFBeta : 0.322259\n",
      "Threshold : 0.75\tFBeta : 0.326548\n",
      "Threshold : 0.80\tFBeta : 0.332782\n",
      "\n"
     ]
    },
    {
     "name": "stderr",
     "output_type": "stream",
     "text": [
      "Epoch 90/500  Mem : 19.8GB  LR : 1.13E-05  Loss: 0.5633: 100%|██████████| 8/8 [00:31<00:00,  3.91s/it]                                                                                                                                                       \n",
      "Val Loss: 0.6708: 100%|██████████| 3/3 [00:08<00:00,  2.85s/it]                                                                                                                                                                                              \n"
     ]
    },
    {
     "name": "stdout",
     "output_type": "stream",
     "text": [
      "Threshold : 0.20\tFBeta : 0.149904\n",
      "Threshold : 0.25\tFBeta : 0.235997\n",
      "Threshold : 0.30\tFBeta : 0.246630\n",
      "Threshold : 0.35\tFBeta : 0.255503\n",
      "Threshold : 0.40\tFBeta : 0.269205\n",
      "Threshold : 0.45\tFBeta : 0.285738\n",
      "Threshold : 0.50\tFBeta : 0.296566\n",
      "Threshold : 0.55\tFBeta : 0.303945\n",
      "Threshold : 0.60\tFBeta : 0.310718\n",
      "Threshold : 0.65\tFBeta : 0.315834\n",
      "Threshold : 0.70\tFBeta : 0.320661\n",
      "Threshold : 0.75\tFBeta : 0.326760\n",
      "Threshold : 0.80\tFBeta : 0.331420\n",
      "\n"
     ]
    },
    {
     "name": "stderr",
     "output_type": "stream",
     "text": [
      "Epoch 91/500  Mem : 19.8GB  LR : 1.15E-05  Loss: 0.5561: 100%|██████████| 8/8 [00:31<00:00,  3.94s/it]                                                                                                                                                       \n",
      "Val Loss: 0.6916: 100%|██████████| 3/3 [00:08<00:00,  2.90s/it]                                                                                                                                                                                              \n"
     ]
    },
    {
     "name": "stdout",
     "output_type": "stream",
     "text": [
      "Threshold : 0.20\tFBeta : 0.181747\n",
      "Threshold : 0.25\tFBeta : 0.235760\n",
      "Threshold : 0.30\tFBeta : 0.247506\n",
      "Threshold : 0.35\tFBeta : 0.258396\n",
      "Threshold : 0.40\tFBeta : 0.268703\n",
      "Threshold : 0.45\tFBeta : 0.280098\n",
      "Threshold : 0.50\tFBeta : 0.289707\n",
      "Threshold : 0.55\tFBeta : 0.298638\n",
      "Threshold : 0.60\tFBeta : 0.304784\n",
      "Threshold : 0.65\tFBeta : 0.309225\n",
      "Threshold : 0.70\tFBeta : 0.313176\n",
      "Threshold : 0.75\tFBeta : 0.317087\n",
      "Threshold : 0.80\tFBeta : 0.322694\n",
      "\n"
     ]
    },
    {
     "name": "stderr",
     "output_type": "stream",
     "text": [
      "Epoch 92/500  Mem : 19.8GB  LR : 1.17E-05  Loss: 0.5544: 100%|██████████| 8/8 [00:32<00:00,  4.02s/it]                                                                                                                                                       \n",
      "Val Loss: 0.7063: 100%|██████████| 3/3 [00:08<00:00,  2.91s/it]                                                                                                                                                                                              \n"
     ]
    },
    {
     "name": "stdout",
     "output_type": "stream",
     "text": [
      "Threshold : 0.20\tFBeta : 0.157153\n",
      "Threshold : 0.25\tFBeta : 0.229873\n",
      "Threshold : 0.30\tFBeta : 0.243875\n",
      "Threshold : 0.35\tFBeta : 0.255909\n",
      "Threshold : 0.40\tFBeta : 0.267428\n",
      "Threshold : 0.45\tFBeta : 0.278472\n",
      "Threshold : 0.50\tFBeta : 0.287515\n",
      "Threshold : 0.55\tFBeta : 0.294790\n",
      "Threshold : 0.60\tFBeta : 0.300514\n",
      "Threshold : 0.65\tFBeta : 0.305560\n",
      "Threshold : 0.70\tFBeta : 0.309281\n",
      "Threshold : 0.75\tFBeta : 0.312618\n",
      "Threshold : 0.80\tFBeta : 0.318287\n",
      "\n"
     ]
    },
    {
     "name": "stderr",
     "output_type": "stream",
     "text": [
      "Epoch 93/500  Mem : 19.8GB  LR : 1.18E-05  Loss: 0.5494: 100%|██████████| 8/8 [00:31<00:00,  3.96s/it]                                                                                                                                                       \n",
      "Val Loss: 0.7633: 100%|██████████| 3/3 [00:08<00:00,  2.87s/it]                                                                                                                                                                                              \n"
     ]
    },
    {
     "name": "stdout",
     "output_type": "stream",
     "text": [
      "Threshold : 0.20\tFBeta : 0.180736\n",
      "Threshold : 0.25\tFBeta : 0.235131\n",
      "Threshold : 0.30\tFBeta : 0.244245\n",
      "Threshold : 0.35\tFBeta : 0.252747\n",
      "Threshold : 0.40\tFBeta : 0.261828\n",
      "Threshold : 0.45\tFBeta : 0.270434\n",
      "Threshold : 0.50\tFBeta : 0.278506\n",
      "Threshold : 0.55\tFBeta : 0.285565\n",
      "Threshold : 0.60\tFBeta : 0.291656\n",
      "Threshold : 0.65\tFBeta : 0.297834\n",
      "Threshold : 0.70\tFBeta : 0.302802\n",
      "Threshold : 0.75\tFBeta : 0.307607\n",
      "Threshold : 0.80\tFBeta : 0.310702\n",
      "\n"
     ]
    },
    {
     "name": "stderr",
     "output_type": "stream",
     "text": [
      "Epoch 94/500  Mem : 19.8GB  LR : 1.20E-05  Loss: 0.5346: 100%|██████████| 8/8 [00:30<00:00,  3.85s/it]                                                                                                                                                       \n",
      "Val Loss: 0.7375: 100%|██████████| 3/3 [00:08<00:00,  2.90s/it]                                                                                                                                                                                              \n"
     ]
    },
    {
     "name": "stdout",
     "output_type": "stream",
     "text": [
      "Threshold : 0.20\tFBeta : 0.151635\n",
      "Threshold : 0.25\tFBeta : 0.233252\n",
      "Threshold : 0.30\tFBeta : 0.243260\n",
      "Threshold : 0.35\tFBeta : 0.253187\n",
      "Threshold : 0.40\tFBeta : 0.264766\n",
      "Threshold : 0.45\tFBeta : 0.276383\n",
      "Threshold : 0.50\tFBeta : 0.286988\n",
      "Threshold : 0.55\tFBeta : 0.296356\n",
      "Threshold : 0.60\tFBeta : 0.304237\n",
      "Threshold : 0.65\tFBeta : 0.310827\n",
      "Threshold : 0.70\tFBeta : 0.317170\n",
      "Threshold : 0.75\tFBeta : 0.322950\n",
      "Threshold : 0.80\tFBeta : 0.328454\n",
      "\n"
     ]
    },
    {
     "name": "stderr",
     "output_type": "stream",
     "text": [
      "Epoch 95/500  Mem : 19.8GB  LR : 1.22E-05  Loss: 0.5556: 100%|██████████| 8/8 [00:31<00:00,  3.96s/it]                                                                                                                                                       \n",
      "Val Loss: 0.7462: 100%|██████████| 3/3 [00:08<00:00,  2.85s/it]                                                                                                                                                                                              \n"
     ]
    },
    {
     "name": "stdout",
     "output_type": "stream",
     "text": [
      "Threshold : 0.20\tFBeta : 0.183509\n",
      "Threshold : 0.25\tFBeta : 0.236904\n",
      "Threshold : 0.30\tFBeta : 0.247678\n",
      "Threshold : 0.35\tFBeta : 0.258218\n",
      "Threshold : 0.40\tFBeta : 0.268147\n",
      "Threshold : 0.45\tFBeta : 0.277200\n",
      "Threshold : 0.50\tFBeta : 0.283384\n",
      "Threshold : 0.55\tFBeta : 0.288767\n",
      "Threshold : 0.60\tFBeta : 0.294110\n",
      "Threshold : 0.65\tFBeta : 0.300127\n",
      "Threshold : 0.70\tFBeta : 0.306856\n",
      "Threshold : 0.75\tFBeta : 0.312216\n",
      "Threshold : 0.80\tFBeta : 0.317320\n",
      "\n"
     ]
    },
    {
     "name": "stderr",
     "output_type": "stream",
     "text": [
      "Epoch 96/500  Mem : 19.8GB  LR : 1.23E-05  Loss: 0.5519: 100%|██████████| 8/8 [00:32<00:00,  4.05s/it]                                                                                                                                                       \n",
      "Val Loss: 0.7085: 100%|██████████| 3/3 [00:08<00:00,  2.86s/it]                                                                                                                                                                                              \n"
     ]
    },
    {
     "name": "stdout",
     "output_type": "stream",
     "text": [
      "Threshold : 0.20\tFBeta : 0.192414\n",
      "Threshold : 0.25\tFBeta : 0.233751\n",
      "Threshold : 0.30\tFBeta : 0.248449\n",
      "Threshold : 0.35\tFBeta : 0.260612\n",
      "Threshold : 0.40\tFBeta : 0.270272\n",
      "Threshold : 0.45\tFBeta : 0.279306\n",
      "Threshold : 0.50\tFBeta : 0.286003\n",
      "Threshold : 0.55\tFBeta : 0.290860\n",
      "Threshold : 0.60\tFBeta : 0.296755\n",
      "Threshold : 0.65\tFBeta : 0.301523\n",
      "Threshold : 0.70\tFBeta : 0.307836\n",
      "Threshold : 0.75\tFBeta : 0.314293\n",
      "Threshold : 0.80\tFBeta : 0.320852\n",
      "\n"
     ]
    },
    {
     "name": "stderr",
     "output_type": "stream",
     "text": [
      "Epoch 97/500  Mem : 19.8GB  LR : 1.25E-05  Loss: 0.5394: 100%|██████████| 8/8 [00:31<00:00,  3.91s/it]                                                                                                                                                       \n",
      "Val Loss: 0.7854: 100%|██████████| 3/3 [00:08<00:00,  2.89s/it]                                                                                                                                                                                              \n"
     ]
    },
    {
     "name": "stdout",
     "output_type": "stream",
     "text": [
      "Threshold : 0.20\tFBeta : 0.177976\n",
      "Threshold : 0.25\tFBeta : 0.238299\n",
      "Threshold : 0.30\tFBeta : 0.246189\n",
      "Threshold : 0.35\tFBeta : 0.253161\n",
      "Threshold : 0.40\tFBeta : 0.260884\n",
      "Threshold : 0.45\tFBeta : 0.269526\n",
      "Threshold : 0.50\tFBeta : 0.277202\n",
      "Threshold : 0.55\tFBeta : 0.282505\n",
      "Threshold : 0.60\tFBeta : 0.286845\n",
      "Threshold : 0.65\tFBeta : 0.291572\n",
      "Threshold : 0.70\tFBeta : 0.297783\n",
      "Threshold : 0.75\tFBeta : 0.305231\n",
      "Threshold : 0.80\tFBeta : 0.315482\n",
      "\n"
     ]
    },
    {
     "name": "stderr",
     "output_type": "stream",
     "text": [
      "Epoch 98/500  Mem : 19.8GB  LR : 1.27E-05  Loss: 0.5495: 100%|██████████| 8/8 [00:31<00:00,  3.94s/it]                                                                                                                                                       \n",
      "Val Loss: 0.7030: 100%|██████████| 3/3 [00:08<00:00,  2.85s/it]                                                                                                                                                                                              \n"
     ]
    },
    {
     "name": "stdout",
     "output_type": "stream",
     "text": [
      "Threshold : 0.20\tFBeta : 0.148903\n",
      "Threshold : 0.25\tFBeta : 0.236215\n",
      "Threshold : 0.30\tFBeta : 0.247598\n",
      "Threshold : 0.35\tFBeta : 0.258324\n",
      "Threshold : 0.40\tFBeta : 0.270964\n",
      "Threshold : 0.45\tFBeta : 0.284758\n",
      "Threshold : 0.50\tFBeta : 0.294982\n",
      "Threshold : 0.55\tFBeta : 0.302588\n",
      "Threshold : 0.60\tFBeta : 0.310618\n",
      "Threshold : 0.65\tFBeta : 0.319228\n",
      "Threshold : 0.70\tFBeta : 0.326387\n",
      "Threshold : 0.75\tFBeta : 0.333193\n",
      "Threshold : 0.80\tFBeta : 0.338631\n",
      "\n"
     ]
    },
    {
     "name": "stderr",
     "output_type": "stream",
     "text": [
      "Epoch 99/500  Mem : 19.8GB  LR : 1.28E-05  Loss: 0.5314: 100%|██████████| 8/8 [00:31<00:00,  3.89s/it]                                                                                                                                                       \n",
      "Val Loss: 0.6702: 100%|██████████| 3/3 [00:08<00:00,  2.85s/it]                                                                                                                                                                                              \n"
     ]
    },
    {
     "name": "stdout",
     "output_type": "stream",
     "text": [
      "Threshold : 0.20\tFBeta : 0.167825\n",
      "Threshold : 0.25\tFBeta : 0.234556\n",
      "Threshold : 0.30\tFBeta : 0.249522\n",
      "Threshold : 0.35\tFBeta : 0.262311\n",
      "Threshold : 0.40\tFBeta : 0.276964\n",
      "Threshold : 0.45\tFBeta : 0.289504\n",
      "Threshold : 0.50\tFBeta : 0.301113\n",
      "Threshold : 0.55\tFBeta : 0.310666\n",
      "Threshold : 0.60\tFBeta : 0.319005\n",
      "Threshold : 0.65\tFBeta : 0.325276\n",
      "Threshold : 0.70\tFBeta : 0.330706\n",
      "Threshold : 0.75\tFBeta : 0.336280\n",
      "Threshold : 0.80\tFBeta : 0.341492\n",
      "\n"
     ]
    },
    {
     "name": "stderr",
     "output_type": "stream",
     "text": [
      "Epoch 100/500  Mem : 19.8GB  LR : 1.30E-05  Loss: 0.5444: 100%|██████████| 8/8 [00:31<00:00,  3.95s/it]                                                                                                                                                      \n",
      "Val Loss: 0.6538: 100%|██████████| 3/3 [00:08<00:00,  2.87s/it]                                                                                                                                                                                              \n"
     ]
    },
    {
     "name": "stdout",
     "output_type": "stream",
     "text": [
      "Threshold : 0.20\tFBeta : 0.159570\n",
      "Threshold : 0.25\tFBeta : 0.237996\n",
      "Threshold : 0.30\tFBeta : 0.251842\n",
      "Threshold : 0.35\tFBeta : 0.265833\n",
      "Threshold : 0.40\tFBeta : 0.282667\n",
      "Threshold : 0.45\tFBeta : 0.297094\n",
      "Threshold : 0.50\tFBeta : 0.306624\n",
      "Threshold : 0.55\tFBeta : 0.312591\n",
      "Threshold : 0.60\tFBeta : 0.314286\n",
      "Threshold : 0.65\tFBeta : 0.315765\n",
      "Threshold : 0.70\tFBeta : 0.318009\n",
      "Threshold : 0.75\tFBeta : 0.317093\n",
      "Threshold : 0.80\tFBeta : 0.308976\n",
      "\n"
     ]
    },
    {
     "name": "stderr",
     "output_type": "stream",
     "text": [
      "Epoch 101/500  Mem : 19.8GB  LR : 1.32E-05  Loss: 0.5503: 100%|██████████| 8/8 [00:31<00:00,  3.98s/it]                                                                                                                                                      \n",
      "Val Loss: 0.7290: 100%|██████████| 3/3 [00:08<00:00,  2.86s/it]                                                                                                                                                                                              \n"
     ]
    },
    {
     "name": "stdout",
     "output_type": "stream",
     "text": [
      "Threshold : 0.20\tFBeta : 0.143989\n",
      "Threshold : 0.25\tFBeta : 0.218966\n",
      "Threshold : 0.30\tFBeta : 0.240962\n",
      "Threshold : 0.35\tFBeta : 0.251899\n",
      "Threshold : 0.40\tFBeta : 0.263893\n",
      "Threshold : 0.45\tFBeta : 0.277050\n",
      "Threshold : 0.50\tFBeta : 0.287773\n",
      "Threshold : 0.55\tFBeta : 0.298060\n",
      "Threshold : 0.60\tFBeta : 0.306733\n",
      "Threshold : 0.65\tFBeta : 0.313367\n",
      "Threshold : 0.70\tFBeta : 0.320425\n",
      "Threshold : 0.75\tFBeta : 0.327073\n",
      "Threshold : 0.80\tFBeta : 0.329890\n",
      "\n"
     ]
    },
    {
     "name": "stderr",
     "output_type": "stream",
     "text": [
      "Epoch 102/500  Mem : 19.8GB  LR : 1.34E-05  Loss: 0.5491: 100%|██████████| 8/8 [00:31<00:00,  3.90s/it]                                                                                                                                                      \n",
      "Val Loss: 0.6637: 100%|██████████| 3/3 [00:08<00:00,  2.85s/it]                                                                                                                                                                                              \n"
     ]
    },
    {
     "name": "stdout",
     "output_type": "stream",
     "text": [
      "Threshold : 0.20\tFBeta : 0.179821\n",
      "Threshold : 0.25\tFBeta : 0.243213\n",
      "Threshold : 0.30\tFBeta : 0.255837\n",
      "Threshold : 0.35\tFBeta : 0.269103\n",
      "Threshold : 0.40\tFBeta : 0.283950\n",
      "Threshold : 0.45\tFBeta : 0.296141\n",
      "Threshold : 0.50\tFBeta : 0.305057\n",
      "Threshold : 0.55\tFBeta : 0.312569\n",
      "Threshold : 0.60\tFBeta : 0.317775\n",
      "Threshold : 0.65\tFBeta : 0.323515\n",
      "Threshold : 0.70\tFBeta : 0.327720\n",
      "Threshold : 0.75\tFBeta : 0.332176\n",
      "Threshold : 0.80\tFBeta : 0.331773\n",
      "\n"
     ]
    },
    {
     "name": "stderr",
     "output_type": "stream",
     "text": [
      "Epoch 103/500  Mem : 19.8GB  LR : 1.36E-05  Loss: 0.5566: 100%|██████████| 8/8 [00:31<00:00,  3.91s/it]                                                                                                                                                      \n",
      "Val Loss: 0.6147: 100%|██████████| 3/3 [00:08<00:00,  2.86s/it]                                                                                                                                                                                              \n"
     ]
    },
    {
     "name": "stdout",
     "output_type": "stream",
     "text": [
      "Threshold : 0.20\tFBeta : 0.200721\n",
      "Threshold : 0.25\tFBeta : 0.243721\n",
      "Threshold : 0.30\tFBeta : 0.265272\n",
      "Threshold : 0.35\tFBeta : 0.282971\n",
      "Threshold : 0.40\tFBeta : 0.295984\n",
      "Threshold : 0.45\tFBeta : 0.300755\n",
      "Threshold : 0.50\tFBeta : 0.301146\n",
      "Threshold : 0.55\tFBeta : 0.301170\n",
      "Threshold : 0.60\tFBeta : 0.297878\n",
      "Threshold : 0.65\tFBeta : 0.293250\n",
      "Threshold : 0.70\tFBeta : 0.281881\n",
      "Threshold : 0.75\tFBeta : 0.265377\n",
      "Threshold : 0.80\tFBeta : 0.241042\n",
      "\n"
     ]
    },
    {
     "name": "stderr",
     "output_type": "stream",
     "text": [
      "Epoch 104/500  Mem : 19.8GB  LR : 1.37E-05  Loss: 0.5355: 100%|██████████| 8/8 [00:31<00:00,  3.91s/it]                                                                                                                                                      \n",
      "Val Loss: 0.7122: 100%|██████████| 3/3 [00:08<00:00,  2.90s/it]                                                                                                                                                                                              \n"
     ]
    },
    {
     "name": "stdout",
     "output_type": "stream",
     "text": [
      "Threshold : 0.20\tFBeta : 0.220406\n",
      "Threshold : 0.25\tFBeta : 0.238378\n",
      "Threshold : 0.30\tFBeta : 0.248171\n",
      "Threshold : 0.35\tFBeta : 0.257391\n",
      "Threshold : 0.40\tFBeta : 0.268984\n",
      "Threshold : 0.45\tFBeta : 0.280337\n",
      "Threshold : 0.50\tFBeta : 0.289198\n",
      "Threshold : 0.55\tFBeta : 0.296308\n",
      "Threshold : 0.60\tFBeta : 0.301998\n",
      "Threshold : 0.65\tFBeta : 0.307219\n",
      "Threshold : 0.70\tFBeta : 0.312403\n",
      "Threshold : 0.75\tFBeta : 0.317840\n",
      "Threshold : 0.80\tFBeta : 0.323021\n",
      "\n"
     ]
    },
    {
     "name": "stderr",
     "output_type": "stream",
     "text": [
      "Epoch 105/500  Mem : 19.8GB  LR : 1.39E-05  Loss: 0.5405: 100%|██████████| 8/8 [00:31<00:00,  3.98s/it]                                                                                                                                                      \n",
      "Val Loss: 0.7037: 100%|██████████| 3/3 [00:08<00:00,  2.85s/it]                                                                                                                                                                                              \n"
     ]
    },
    {
     "name": "stdout",
     "output_type": "stream",
     "text": [
      "Threshold : 0.20\tFBeta : 0.164929\n",
      "Threshold : 0.25\tFBeta : 0.239962\n",
      "Threshold : 0.30\tFBeta : 0.248534\n",
      "Threshold : 0.35\tFBeta : 0.258333\n",
      "Threshold : 0.40\tFBeta : 0.268869\n",
      "Threshold : 0.45\tFBeta : 0.277056\n",
      "Threshold : 0.50\tFBeta : 0.283880\n",
      "Threshold : 0.55\tFBeta : 0.289296\n",
      "Threshold : 0.60\tFBeta : 0.293228\n",
      "Threshold : 0.65\tFBeta : 0.297041\n",
      "Threshold : 0.70\tFBeta : 0.299716\n",
      "Threshold : 0.75\tFBeta : 0.301198\n",
      "Threshold : 0.80\tFBeta : 0.300812\n",
      "\n"
     ]
    },
    {
     "name": "stderr",
     "output_type": "stream",
     "text": [
      "Epoch 106/500  Mem : 19.8GB  LR : 1.41E-05  Loss: 0.5364: 100%|██████████| 8/8 [00:30<00:00,  3.87s/it]                                                                                                                                                      \n",
      "Val Loss: 0.7345: 100%|██████████| 3/3 [00:08<00:00,  2.90s/it]                                                                                                                                                                                              \n"
     ]
    },
    {
     "name": "stdout",
     "output_type": "stream",
     "text": [
      "Threshold : 0.20\tFBeta : 0.182776\n",
      "Threshold : 0.25\tFBeta : 0.238701\n",
      "Threshold : 0.30\tFBeta : 0.246963\n",
      "Threshold : 0.35\tFBeta : 0.254001\n",
      "Threshold : 0.40\tFBeta : 0.263542\n",
      "Threshold : 0.45\tFBeta : 0.270876\n",
      "Threshold : 0.50\tFBeta : 0.277636\n",
      "Threshold : 0.55\tFBeta : 0.282632\n",
      "Threshold : 0.60\tFBeta : 0.287085\n",
      "Threshold : 0.65\tFBeta : 0.292312\n",
      "Threshold : 0.70\tFBeta : 0.297818\n",
      "Threshold : 0.75\tFBeta : 0.302471\n",
      "Threshold : 0.80\tFBeta : 0.304939\n",
      "\n"
     ]
    },
    {
     "name": "stderr",
     "output_type": "stream",
     "text": [
      "Epoch 107/500  Mem : 19.8GB  LR : 1.43E-05  Loss: 0.5184: 100%|██████████| 8/8 [00:31<00:00,  3.90s/it]                                                                                                                                                      \n",
      "Val Loss: 0.7629: 100%|██████████| 3/3 [00:08<00:00,  2.89s/it]                                                                                                                                                                                              \n"
     ]
    },
    {
     "name": "stdout",
     "output_type": "stream",
     "text": [
      "Threshold : 0.20\tFBeta : 0.182929\n",
      "Threshold : 0.25\tFBeta : 0.235940\n",
      "Threshold : 0.30\tFBeta : 0.243456\n",
      "Threshold : 0.35\tFBeta : 0.250802\n",
      "Threshold : 0.40\tFBeta : 0.259186\n",
      "Threshold : 0.45\tFBeta : 0.267584\n",
      "Threshold : 0.50\tFBeta : 0.275695\n",
      "Threshold : 0.55\tFBeta : 0.282427\n",
      "Threshold : 0.60\tFBeta : 0.288366\n",
      "Threshold : 0.65\tFBeta : 0.293881\n",
      "Threshold : 0.70\tFBeta : 0.300355\n",
      "Threshold : 0.75\tFBeta : 0.307152\n",
      "Threshold : 0.80\tFBeta : 0.313413\n",
      "\n"
     ]
    },
    {
     "name": "stderr",
     "output_type": "stream",
     "text": [
      "Epoch 108/500  Mem : 19.8GB  LR : 1.45E-05  Loss: 0.5256: 100%|██████████| 8/8 [00:31<00:00,  3.88s/it]                                                                                                                                                      \n",
      "Val Loss: 0.6657: 100%|██████████| 3/3 [00:08<00:00,  2.85s/it]                                                                                                                                                                                              \n"
     ]
    },
    {
     "name": "stdout",
     "output_type": "stream",
     "text": [
      "Threshold : 0.20\tFBeta : 0.173488\n",
      "Threshold : 0.25\tFBeta : 0.242325\n",
      "Threshold : 0.30\tFBeta : 0.253862\n",
      "Threshold : 0.35\tFBeta : 0.268024\n",
      "Threshold : 0.40\tFBeta : 0.284554\n",
      "Threshold : 0.45\tFBeta : 0.295990\n",
      "Threshold : 0.50\tFBeta : 0.305009\n",
      "Threshold : 0.55\tFBeta : 0.311998\n",
      "Threshold : 0.60\tFBeta : 0.317056\n",
      "Threshold : 0.65\tFBeta : 0.321943\n",
      "Threshold : 0.70\tFBeta : 0.327059\n",
      "Threshold : 0.75\tFBeta : 0.330228\n",
      "Threshold : 0.80\tFBeta : 0.331916\n",
      "\n"
     ]
    },
    {
     "name": "stderr",
     "output_type": "stream",
     "text": [
      "Epoch 109/500  Mem : 19.8GB  LR : 1.47E-05  Loss: 0.5406: 100%|██████████| 8/8 [00:31<00:00,  3.88s/it]                                                                                                                                                      \n",
      "Val Loss: 0.6653: 100%|██████████| 3/3 [00:08<00:00,  2.86s/it]                                                                                                                                                                                              \n"
     ]
    },
    {
     "name": "stdout",
     "output_type": "stream",
     "text": [
      "Threshold : 0.20\tFBeta : 0.204598\n",
      "Threshold : 0.25\tFBeta : 0.247686\n",
      "Threshold : 0.30\tFBeta : 0.261239\n",
      "Threshold : 0.35\tFBeta : 0.276268\n",
      "Threshold : 0.40\tFBeta : 0.290082\n",
      "Threshold : 0.45\tFBeta : 0.299197\n",
      "Threshold : 0.50\tFBeta : 0.304996\n",
      "Threshold : 0.55\tFBeta : 0.309848\n",
      "Threshold : 0.60\tFBeta : 0.315033\n",
      "Threshold : 0.65\tFBeta : 0.319613\n",
      "Threshold : 0.70\tFBeta : 0.322176\n",
      "Threshold : 0.75\tFBeta : 0.325674\n",
      "Threshold : 0.80\tFBeta : 0.327402\n",
      "\n"
     ]
    },
    {
     "name": "stderr",
     "output_type": "stream",
     "text": [
      "Epoch 110/500  Mem : 19.8GB  LR : 1.49E-05  Loss: 0.5417: 100%|██████████| 8/8 [00:30<00:00,  3.82s/it]                                                                                                                                                      \n",
      "Val Loss: 0.6031: 100%|██████████| 3/3 [00:08<00:00,  2.85s/it]                                                                                                                                                                                              \n"
     ]
    },
    {
     "name": "stdout",
     "output_type": "stream",
     "text": [
      "Threshold : 0.20\tFBeta : 0.206168\n",
      "Threshold : 0.25\tFBeta : 0.246212\n",
      "Threshold : 0.30\tFBeta : 0.267035\n",
      "Threshold : 0.35\tFBeta : 0.292287\n",
      "Threshold : 0.40\tFBeta : 0.309129\n",
      "Threshold : 0.45\tFBeta : 0.320605\n",
      "Threshold : 0.50\tFBeta : 0.326495\n",
      "Threshold : 0.55\tFBeta : 0.329514\n",
      "Threshold : 0.60\tFBeta : 0.327411\n",
      "Threshold : 0.65\tFBeta : 0.320484\n",
      "Threshold : 0.70\tFBeta : 0.306866\n",
      "Threshold : 0.75\tFBeta : 0.287800\n",
      "Threshold : 0.80\tFBeta : 0.259358\n",
      "\n"
     ]
    },
    {
     "name": "stderr",
     "output_type": "stream",
     "text": [
      "Epoch 111/500  Mem : 19.8GB  LR : 1.51E-05  Loss: 0.5282: 100%|██████████| 8/8 [00:30<00:00,  3.85s/it]                                                                                                                                                      \n",
      "Val Loss: 0.8800: 100%|██████████| 3/3 [00:08<00:00,  2.87s/it]                                                                                                                                                                                              \n"
     ]
    },
    {
     "name": "stdout",
     "output_type": "stream",
     "text": [
      "Threshold : 0.20\tFBeta : 0.213852\n",
      "Threshold : 0.25\tFBeta : 0.238052\n",
      "Threshold : 0.30\tFBeta : 0.246002\n",
      "Threshold : 0.35\tFBeta : 0.251714\n",
      "Threshold : 0.40\tFBeta : 0.256261\n",
      "Threshold : 0.45\tFBeta : 0.260638\n",
      "Threshold : 0.50\tFBeta : 0.265736\n",
      "Threshold : 0.55\tFBeta : 0.271419\n",
      "Threshold : 0.60\tFBeta : 0.277209\n",
      "Threshold : 0.65\tFBeta : 0.283319\n",
      "Threshold : 0.70\tFBeta : 0.289086\n",
      "Threshold : 0.75\tFBeta : 0.294649\n",
      "Threshold : 0.80\tFBeta : 0.302463\n",
      "\n"
     ]
    },
    {
     "name": "stderr",
     "output_type": "stream",
     "text": [
      "Epoch 112/500  Mem : 19.8GB  LR : 1.53E-05  Loss: 0.5457: 100%|██████████| 8/8 [00:30<00:00,  3.87s/it]                                                                                                                                                      \n",
      "Val Loss: 0.6605: 100%|██████████| 3/3 [00:08<00:00,  2.85s/it]                                                                                                                                                                                              \n"
     ]
    },
    {
     "name": "stdout",
     "output_type": "stream",
     "text": [
      "Threshold : 0.20\tFBeta : 0.225394\n",
      "Threshold : 0.25\tFBeta : 0.247551\n",
      "Threshold : 0.30\tFBeta : 0.259507\n",
      "Threshold : 0.35\tFBeta : 0.271962\n",
      "Threshold : 0.40\tFBeta : 0.287270\n",
      "Threshold : 0.45\tFBeta : 0.300834\n",
      "Threshold : 0.50\tFBeta : 0.309387\n",
      "Threshold : 0.55\tFBeta : 0.314784\n",
      "Threshold : 0.60\tFBeta : 0.319990\n",
      "Threshold : 0.65\tFBeta : 0.326051\n",
      "Threshold : 0.70\tFBeta : 0.330934\n",
      "Threshold : 0.75\tFBeta : 0.335058\n",
      "Threshold : 0.80\tFBeta : 0.338129\n",
      "\n"
     ]
    },
    {
     "name": "stderr",
     "output_type": "stream",
     "text": [
      "Epoch 113/500  Mem : 19.8GB  LR : 1.54E-05  Loss: 0.5334: 100%|██████████| 8/8 [00:30<00:00,  3.85s/it]                                                                                                                                                      \n",
      "Val Loss: 0.6769: 100%|██████████| 3/3 [00:08<00:00,  2.86s/it]                                                                                                                                                                                              \n"
     ]
    },
    {
     "name": "stdout",
     "output_type": "stream",
     "text": [
      "Threshold : 0.20\tFBeta : 0.205341\n",
      "Threshold : 0.25\tFBeta : 0.240393\n",
      "Threshold : 0.30\tFBeta : 0.251993\n",
      "Threshold : 0.35\tFBeta : 0.260577\n",
      "Threshold : 0.40\tFBeta : 0.271784\n",
      "Threshold : 0.45\tFBeta : 0.284831\n",
      "Threshold : 0.50\tFBeta : 0.294715\n",
      "Threshold : 0.55\tFBeta : 0.301987\n",
      "Threshold : 0.60\tFBeta : 0.306350\n",
      "Threshold : 0.65\tFBeta : 0.310968\n",
      "Threshold : 0.70\tFBeta : 0.315996\n",
      "Threshold : 0.75\tFBeta : 0.319712\n",
      "Threshold : 0.80\tFBeta : 0.320994\n",
      "\n"
     ]
    },
    {
     "name": "stderr",
     "output_type": "stream",
     "text": [
      "Epoch 114/500  Mem : 19.8GB  LR : 1.56E-05  Loss: 0.5329: 100%|██████████| 8/8 [00:30<00:00,  3.85s/it]                                                                                                                                                      \n",
      "Val Loss: 0.8664: 100%|██████████| 3/3 [00:08<00:00,  2.86s/it]                                                                                                                                                                                              \n"
     ]
    },
    {
     "name": "stdout",
     "output_type": "stream",
     "text": [
      "Threshold : 0.20\tFBeta : 0.198250\n",
      "Threshold : 0.25\tFBeta : 0.229697\n",
      "Threshold : 0.30\tFBeta : 0.238433\n",
      "Threshold : 0.35\tFBeta : 0.244216\n",
      "Threshold : 0.40\tFBeta : 0.250001\n",
      "Threshold : 0.45\tFBeta : 0.255642\n",
      "Threshold : 0.50\tFBeta : 0.261352\n",
      "Threshold : 0.55\tFBeta : 0.267420\n",
      "Threshold : 0.60\tFBeta : 0.273140\n",
      "Threshold : 0.65\tFBeta : 0.279142\n",
      "Threshold : 0.70\tFBeta : 0.285564\n",
      "Threshold : 0.75\tFBeta : 0.293085\n",
      "Threshold : 0.80\tFBeta : 0.302713\n",
      "\n"
     ]
    },
    {
     "name": "stderr",
     "output_type": "stream",
     "text": [
      "Epoch 115/500  Mem : 19.8GB  LR : 1.58E-05  Loss: 0.5265: 100%|██████████| 8/8 [00:31<00:00,  3.92s/it]                                                                                                                                                      \n",
      "Val Loss: 0.7081: 100%|██████████| 3/3 [00:08<00:00,  2.87s/it]                                                                                                                                                                                              \n"
     ]
    },
    {
     "name": "stdout",
     "output_type": "stream",
     "text": [
      "Threshold : 0.20\tFBeta : 0.187225\n",
      "Threshold : 0.25\tFBeta : 0.244594\n",
      "Threshold : 0.30\tFBeta : 0.256841\n",
      "Threshold : 0.35\tFBeta : 0.267532\n",
      "Threshold : 0.40\tFBeta : 0.278062\n",
      "Threshold : 0.45\tFBeta : 0.287154\n",
      "Threshold : 0.50\tFBeta : 0.293066\n",
      "Threshold : 0.55\tFBeta : 0.297193\n",
      "Threshold : 0.60\tFBeta : 0.302225\n",
      "Threshold : 0.65\tFBeta : 0.306673\n",
      "Threshold : 0.70\tFBeta : 0.310313\n",
      "Threshold : 0.75\tFBeta : 0.315005\n",
      "Threshold : 0.80\tFBeta : 0.319035\n",
      "\n"
     ]
    },
    {
     "name": "stderr",
     "output_type": "stream",
     "text": [
      "Epoch 116/500  Mem : 19.8GB  LR : 1.60E-05  Loss: 0.5209: 100%|██████████| 8/8 [00:32<00:00,  4.03s/it]                                                                                                                                                      \n",
      "Val Loss: 0.7300: 100%|██████████| 3/3 [00:08<00:00,  2.90s/it]                                                                                                                                                                                              \n"
     ]
    },
    {
     "name": "stdout",
     "output_type": "stream",
     "text": [
      "Threshold : 0.20\tFBeta : 0.202579\n",
      "Threshold : 0.25\tFBeta : 0.239579\n",
      "Threshold : 0.30\tFBeta : 0.250573\n",
      "Threshold : 0.35\tFBeta : 0.260872\n",
      "Threshold : 0.40\tFBeta : 0.271554\n",
      "Threshold : 0.45\tFBeta : 0.281852\n",
      "Threshold : 0.50\tFBeta : 0.289636\n",
      "Threshold : 0.55\tFBeta : 0.294465\n",
      "Threshold : 0.60\tFBeta : 0.299706\n",
      "Threshold : 0.65\tFBeta : 0.305873\n",
      "Threshold : 0.70\tFBeta : 0.313049\n",
      "Threshold : 0.75\tFBeta : 0.319080\n",
      "Threshold : 0.80\tFBeta : 0.324199\n",
      "\n"
     ]
    },
    {
     "name": "stderr",
     "output_type": "stream",
     "text": [
      "Epoch 117/500  Mem : 19.8GB  LR : 1.62E-05  Loss: 0.5089: 100%|██████████| 8/8 [00:30<00:00,  3.81s/it]                                                                                                                                                      \n",
      "Val Loss: 0.8995: 100%|██████████| 3/3 [00:08<00:00,  2.87s/it]                                                                                                                                                                                              \n"
     ]
    },
    {
     "name": "stdout",
     "output_type": "stream",
     "text": [
      "Threshold : 0.20\tFBeta : 0.216991\n",
      "Threshold : 0.25\tFBeta : 0.238466\n",
      "Threshold : 0.30\tFBeta : 0.245026\n",
      "Threshold : 0.35\tFBeta : 0.249739\n",
      "Threshold : 0.40\tFBeta : 0.255440\n",
      "Threshold : 0.45\tFBeta : 0.261309\n",
      "Threshold : 0.50\tFBeta : 0.267011\n",
      "Threshold : 0.55\tFBeta : 0.271984\n",
      "Threshold : 0.60\tFBeta : 0.276559\n",
      "Threshold : 0.65\tFBeta : 0.281256\n",
      "Threshold : 0.70\tFBeta : 0.285727\n",
      "Threshold : 0.75\tFBeta : 0.291253\n",
      "Threshold : 0.80\tFBeta : 0.297950\n",
      "\n"
     ]
    },
    {
     "name": "stderr",
     "output_type": "stream",
     "text": [
      "Epoch 118/500  Mem : 19.8GB  LR : 1.64E-05  Loss: 0.5352: 100%|██████████| 8/8 [00:31<00:00,  3.89s/it]                                                                                                                                                      \n",
      "Val Loss: 0.6642: 100%|██████████| 3/3 [00:08<00:00,  2.91s/it]                                                                                                                                                                                              \n"
     ]
    },
    {
     "name": "stdout",
     "output_type": "stream",
     "text": [
      "Threshold : 0.20\tFBeta : 0.207980\n",
      "Threshold : 0.25\tFBeta : 0.246002\n",
      "Threshold : 0.30\tFBeta : 0.262497\n",
      "Threshold : 0.35\tFBeta : 0.278520\n",
      "Threshold : 0.40\tFBeta : 0.290765\n",
      "Threshold : 0.45\tFBeta : 0.299259\n",
      "Threshold : 0.50\tFBeta : 0.308733\n",
      "Threshold : 0.55\tFBeta : 0.314444\n",
      "Threshold : 0.60\tFBeta : 0.318430\n",
      "Threshold : 0.65\tFBeta : 0.322417\n",
      "Threshold : 0.70\tFBeta : 0.326144\n",
      "Threshold : 0.75\tFBeta : 0.329778\n",
      "Threshold : 0.80\tFBeta : 0.330811\n",
      "\n"
     ]
    },
    {
     "name": "stderr",
     "output_type": "stream",
     "text": [
      "Epoch 119/500  Mem : 19.8GB  LR : 1.66E-05  Loss: 0.5224: 100%|██████████| 8/8 [00:30<00:00,  3.87s/it]                                                                                                                                                      \n",
      "Val Loss: 0.7014: 100%|██████████| 3/3 [00:08<00:00,  2.86s/it]                                                                                                                                                                                              \n"
     ]
    },
    {
     "name": "stdout",
     "output_type": "stream",
     "text": [
      "Threshold : 0.20\tFBeta : 0.224494\n",
      "Threshold : 0.25\tFBeta : 0.244983\n",
      "Threshold : 0.30\tFBeta : 0.257232\n",
      "Threshold : 0.35\tFBeta : 0.269405\n",
      "Threshold : 0.40\tFBeta : 0.281054\n",
      "Threshold : 0.45\tFBeta : 0.289892\n",
      "Threshold : 0.50\tFBeta : 0.297357\n",
      "Threshold : 0.55\tFBeta : 0.303521\n",
      "Threshold : 0.60\tFBeta : 0.309148\n",
      "Threshold : 0.65\tFBeta : 0.312727\n",
      "Threshold : 0.70\tFBeta : 0.316419\n",
      "Threshold : 0.75\tFBeta : 0.320280\n",
      "Threshold : 0.80\tFBeta : 0.324429\n",
      "\n"
     ]
    },
    {
     "name": "stderr",
     "output_type": "stream",
     "text": [
      "Epoch 120/500  Mem : 19.8GB  LR : 1.69E-05  Loss: 0.5150: 100%|██████████| 8/8 [00:30<00:00,  3.86s/it]                                                                                                                                                      \n",
      "Val Loss: 0.6751: 100%|██████████| 3/3 [00:08<00:00,  2.85s/it]                                                                                                                                                                                              \n"
     ]
    },
    {
     "name": "stdout",
     "output_type": "stream",
     "text": [
      "Threshold : 0.20\tFBeta : 0.193330\n",
      "Threshold : 0.25\tFBeta : 0.244057\n",
      "Threshold : 0.30\tFBeta : 0.260449\n",
      "Threshold : 0.35\tFBeta : 0.276105\n",
      "Threshold : 0.40\tFBeta : 0.289622\n",
      "Threshold : 0.45\tFBeta : 0.300885\n",
      "Threshold : 0.50\tFBeta : 0.310061\n",
      "Threshold : 0.55\tFBeta : 0.318248\n",
      "Threshold : 0.60\tFBeta : 0.326262\n",
      "Threshold : 0.65\tFBeta : 0.332457\n",
      "Threshold : 0.70\tFBeta : 0.338316\n",
      "Threshold : 0.75\tFBeta : 0.344985\n",
      "Threshold : 0.80\tFBeta : 0.350656\n",
      "\n"
     ]
    },
    {
     "name": "stderr",
     "output_type": "stream",
     "text": [
      "Epoch 121/500  Mem : 19.8GB  LR : 1.71E-05  Loss: 0.5230: 100%|██████████| 8/8 [00:31<00:00,  3.91s/it]                                                                                                                                                      \n",
      "Val Loss: 0.6802: 100%|██████████| 3/3 [00:08<00:00,  2.85s/it]                                                                                                                                                                                              \n"
     ]
    },
    {
     "name": "stdout",
     "output_type": "stream",
     "text": [
      "Threshold : 0.20\tFBeta : 0.203190\n",
      "Threshold : 0.25\tFBeta : 0.244305\n",
      "Threshold : 0.30\tFBeta : 0.257772\n",
      "Threshold : 0.35\tFBeta : 0.269298\n",
      "Threshold : 0.40\tFBeta : 0.281490\n",
      "Threshold : 0.45\tFBeta : 0.290309\n",
      "Threshold : 0.50\tFBeta : 0.297464\n",
      "Threshold : 0.55\tFBeta : 0.303983\n",
      "Threshold : 0.60\tFBeta : 0.310600\n",
      "Threshold : 0.65\tFBeta : 0.316271\n",
      "Threshold : 0.70\tFBeta : 0.323912\n",
      "Threshold : 0.75\tFBeta : 0.331192\n",
      "Threshold : 0.80\tFBeta : 0.336323\n",
      "\n"
     ]
    },
    {
     "name": "stderr",
     "output_type": "stream",
     "text": [
      "Epoch 122/500  Mem : 19.8GB  LR : 1.73E-05  Loss: 0.5189: 100%|██████████| 8/8 [00:31<00:00,  4.00s/it]                                                                                                                                                      \n",
      "Val Loss: 0.9048: 100%|██████████| 3/3 [00:08<00:00,  2.92s/it]                                                                                                                                                                                              \n"
     ]
    },
    {
     "name": "stdout",
     "output_type": "stream",
     "text": [
      "Threshold : 0.20\tFBeta : 0.212931\n",
      "Threshold : 0.25\tFBeta : 0.236131\n",
      "Threshold : 0.30\tFBeta : 0.243746\n",
      "Threshold : 0.35\tFBeta : 0.249895\n",
      "Threshold : 0.40\tFBeta : 0.255424\n",
      "Threshold : 0.45\tFBeta : 0.261113\n",
      "Threshold : 0.50\tFBeta : 0.266658\n",
      "Threshold : 0.55\tFBeta : 0.271421\n",
      "Threshold : 0.60\tFBeta : 0.275085\n",
      "Threshold : 0.65\tFBeta : 0.278700\n",
      "Threshold : 0.70\tFBeta : 0.283303\n",
      "Threshold : 0.75\tFBeta : 0.288826\n",
      "Threshold : 0.80\tFBeta : 0.295307\n",
      "\n"
     ]
    },
    {
     "name": "stderr",
     "output_type": "stream",
     "text": [
      "Epoch 123/500  Mem : 19.8GB  LR : 1.75E-05  Loss: 0.5279: 100%|██████████| 8/8 [00:31<00:00,  3.88s/it]                                                                                                                                                      \n",
      "Val Loss: 0.6536: 100%|██████████| 3/3 [00:08<00:00,  2.86s/it]                                                                                                                                                                                              \n"
     ]
    },
    {
     "name": "stdout",
     "output_type": "stream",
     "text": [
      "Threshold : 0.20\tFBeta : 0.223601\n",
      "Threshold : 0.25\tFBeta : 0.242503\n",
      "Threshold : 0.30\tFBeta : 0.258331\n",
      "Threshold : 0.35\tFBeta : 0.273839\n",
      "Threshold : 0.40\tFBeta : 0.290328\n",
      "Threshold : 0.45\tFBeta : 0.304359\n",
      "Threshold : 0.50\tFBeta : 0.314100\n",
      "Threshold : 0.55\tFBeta : 0.321218\n",
      "Threshold : 0.60\tFBeta : 0.329582\n",
      "Threshold : 0.65\tFBeta : 0.336992\n",
      "Threshold : 0.70\tFBeta : 0.343204\n",
      "Threshold : 0.75\tFBeta : 0.347821\n",
      "Threshold : 0.80\tFBeta : 0.348855\n",
      "\n"
     ]
    },
    {
     "name": "stderr",
     "output_type": "stream",
     "text": [
      "Epoch 124/500  Mem : 19.8GB  LR : 1.77E-05  Loss: 0.5074: 100%|██████████| 8/8 [00:30<00:00,  3.85s/it]                                                                                                                                                      \n",
      "Val Loss: 0.6258: 100%|██████████| 3/3 [00:08<00:00,  2.86s/it]                                                                                                                                                                                              \n"
     ]
    },
    {
     "name": "stdout",
     "output_type": "stream",
     "text": [
      "Threshold : 0.20\tFBeta : 0.220469\n",
      "Threshold : 0.25\tFBeta : 0.248831\n",
      "Threshold : 0.30\tFBeta : 0.268471\n",
      "Threshold : 0.35\tFBeta : 0.287475\n",
      "Threshold : 0.40\tFBeta : 0.306365\n",
      "Threshold : 0.45\tFBeta : 0.321079\n",
      "Threshold : 0.50\tFBeta : 0.330449\n",
      "Threshold : 0.55\tFBeta : 0.337523\n",
      "Threshold : 0.60\tFBeta : 0.344860\n",
      "Threshold : 0.65\tFBeta : 0.351951\n",
      "Threshold : 0.70\tFBeta : 0.355378\n",
      "Threshold : 0.75\tFBeta : 0.353881\n",
      "Threshold : 0.80\tFBeta : 0.344910\n",
      "\n"
     ]
    },
    {
     "name": "stderr",
     "output_type": "stream",
     "text": [
      "Epoch 125/500  Mem : 19.8GB  LR : 1.79E-05  Loss: 0.5166: 100%|██████████| 8/8 [00:31<00:00,  3.96s/it]                                                                                                                                                      \n",
      "Val Loss: 0.6787: 100%|██████████| 3/3 [00:08<00:00,  2.87s/it]                                                                                                                                                                                              \n"
     ]
    },
    {
     "name": "stdout",
     "output_type": "stream",
     "text": [
      "Threshold : 0.20\tFBeta : 0.222455\n",
      "Threshold : 0.25\tFBeta : 0.241233\n",
      "Threshold : 0.30\tFBeta : 0.254892\n",
      "Threshold : 0.35\tFBeta : 0.268146\n",
      "Threshold : 0.40\tFBeta : 0.282711\n",
      "Threshold : 0.45\tFBeta : 0.296354\n",
      "Threshold : 0.50\tFBeta : 0.307704\n",
      "Threshold : 0.55\tFBeta : 0.316245\n",
      "Threshold : 0.60\tFBeta : 0.323036\n",
      "Threshold : 0.65\tFBeta : 0.328945\n",
      "Threshold : 0.70\tFBeta : 0.336487\n",
      "Threshold : 0.75\tFBeta : 0.345244\n",
      "Threshold : 0.80\tFBeta : 0.354592\n",
      "\n"
     ]
    },
    {
     "name": "stderr",
     "output_type": "stream",
     "text": [
      "Epoch 126/500  Mem : 19.8GB  LR : 1.81E-05  Loss: 0.5241: 100%|██████████| 8/8 [00:31<00:00,  3.96s/it]                                                                                                                                                      \n",
      "Val Loss: 0.7039: 100%|██████████| 3/3 [00:08<00:00,  2.87s/it]                                                                                                                                                                                              \n"
     ]
    },
    {
     "name": "stdout",
     "output_type": "stream",
     "text": [
      "Threshold : 0.20\tFBeta : 0.180499\n",
      "Threshold : 0.25\tFBeta : 0.236398\n",
      "Threshold : 0.30\tFBeta : 0.256492\n",
      "Threshold : 0.35\tFBeta : 0.269295\n",
      "Threshold : 0.40\tFBeta : 0.281180\n",
      "Threshold : 0.45\tFBeta : 0.291536\n",
      "Threshold : 0.50\tFBeta : 0.298694\n",
      "Threshold : 0.55\tFBeta : 0.306345\n",
      "Threshold : 0.60\tFBeta : 0.312241\n",
      "Threshold : 0.65\tFBeta : 0.316811\n",
      "Threshold : 0.70\tFBeta : 0.320529\n",
      "Threshold : 0.75\tFBeta : 0.324318\n",
      "Threshold : 0.80\tFBeta : 0.328882\n",
      "\n"
     ]
    },
    {
     "name": "stderr",
     "output_type": "stream",
     "text": [
      "Epoch 127/500  Mem : 19.8GB  LR : 1.83E-05  Loss: 0.5230: 100%|██████████| 8/8 [00:31<00:00,  3.98s/it]                                                                                                                                                      \n",
      "Val Loss: 0.6878: 100%|██████████| 3/3 [00:08<00:00,  2.85s/it]                                                                                                                                                                                              \n"
     ]
    },
    {
     "name": "stdout",
     "output_type": "stream",
     "text": [
      "Threshold : 0.20\tFBeta : 0.170765\n",
      "Threshold : 0.25\tFBeta : 0.221464\n",
      "Threshold : 0.30\tFBeta : 0.249806\n",
      "Threshold : 0.35\tFBeta : 0.273920\n",
      "Threshold : 0.40\tFBeta : 0.289219\n",
      "Threshold : 0.45\tFBeta : 0.299950\n",
      "Threshold : 0.50\tFBeta : 0.310377\n",
      "Threshold : 0.55\tFBeta : 0.316223\n",
      "Threshold : 0.60\tFBeta : 0.323063\n",
      "Threshold : 0.65\tFBeta : 0.328199\n",
      "Threshold : 0.70\tFBeta : 0.333697\n",
      "Threshold : 0.75\tFBeta : 0.339909\n",
      "Threshold : 0.80\tFBeta : 0.346309\n",
      "\n"
     ]
    },
    {
     "name": "stderr",
     "output_type": "stream",
     "text": [
      "Epoch 128/500  Mem : 19.8GB  LR : 1.85E-05  Loss: 0.5155: 100%|██████████| 8/8 [00:32<00:00,  4.02s/it]                                                                                                                                                      \n",
      "Val Loss: 0.7065: 100%|██████████| 3/3 [00:08<00:00,  2.90s/it]                                                                                                                                                                                              \n"
     ]
    },
    {
     "name": "stdout",
     "output_type": "stream",
     "text": [
      "Threshold : 0.20\tFBeta : 0.225429\n",
      "Threshold : 0.25\tFBeta : 0.246845\n",
      "Threshold : 0.30\tFBeta : 0.261784\n",
      "Threshold : 0.35\tFBeta : 0.274828\n",
      "Threshold : 0.40\tFBeta : 0.286311\n",
      "Threshold : 0.45\tFBeta : 0.295790\n",
      "Threshold : 0.50\tFBeta : 0.303069\n",
      "Threshold : 0.55\tFBeta : 0.307437\n",
      "Threshold : 0.60\tFBeta : 0.311983\n",
      "Threshold : 0.65\tFBeta : 0.317133\n",
      "Threshold : 0.70\tFBeta : 0.322025\n",
      "Threshold : 0.75\tFBeta : 0.326204\n",
      "Threshold : 0.80\tFBeta : 0.330886\n",
      "\n"
     ]
    },
    {
     "name": "stderr",
     "output_type": "stream",
     "text": [
      "Epoch 129/500  Mem : 19.8GB  LR : 1.88E-05  Loss: 0.5111: 100%|██████████| 8/8 [00:31<00:00,  3.99s/it]                                                                                                                                                      \n",
      "Val Loss: 0.7215: 100%|██████████| 3/3 [00:08<00:00,  2.85s/it]                                                                                                                                                                                              \n"
     ]
    },
    {
     "name": "stdout",
     "output_type": "stream",
     "text": [
      "Threshold : 0.20\tFBeta : 0.224690\n",
      "Threshold : 0.25\tFBeta : 0.243897\n",
      "Threshold : 0.30\tFBeta : 0.256615\n",
      "Threshold : 0.35\tFBeta : 0.268773\n",
      "Threshold : 0.40\tFBeta : 0.279781\n",
      "Threshold : 0.45\tFBeta : 0.288881\n",
      "Threshold : 0.50\tFBeta : 0.295608\n",
      "Threshold : 0.55\tFBeta : 0.300265\n",
      "Threshold : 0.60\tFBeta : 0.305794\n",
      "Threshold : 0.65\tFBeta : 0.310752\n",
      "Threshold : 0.70\tFBeta : 0.317504\n",
      "Threshold : 0.75\tFBeta : 0.325900\n",
      "Threshold : 0.80\tFBeta : 0.334093\n",
      "\n"
     ]
    },
    {
     "name": "stderr",
     "output_type": "stream",
     "text": [
      "Epoch 130/500  Mem : 19.8GB  LR : 1.90E-05  Loss: 0.4948: 100%|██████████| 8/8 [00:31<00:00,  3.92s/it]                                                                                                                                                      \n",
      "Val Loss: 0.7655: 100%|██████████| 3/3 [00:08<00:00,  2.86s/it]                                                                                                                                                                                              \n"
     ]
    },
    {
     "name": "stdout",
     "output_type": "stream",
     "text": [
      "Threshold : 0.20\tFBeta : 0.220350\n",
      "Threshold : 0.25\tFBeta : 0.236924\n",
      "Threshold : 0.30\tFBeta : 0.245212\n",
      "Threshold : 0.35\tFBeta : 0.255937\n",
      "Threshold : 0.40\tFBeta : 0.265200\n",
      "Threshold : 0.45\tFBeta : 0.273805\n",
      "Threshold : 0.50\tFBeta : 0.281966\n",
      "Threshold : 0.55\tFBeta : 0.288755\n",
      "Threshold : 0.60\tFBeta : 0.294736\n",
      "Threshold : 0.65\tFBeta : 0.301241\n",
      "Threshold : 0.70\tFBeta : 0.308541\n",
      "Threshold : 0.75\tFBeta : 0.316776\n",
      "Threshold : 0.80\tFBeta : 0.325321\n",
      "\n"
     ]
    },
    {
     "name": "stderr",
     "output_type": "stream",
     "text": [
      "Epoch 131/500  Mem : 19.8GB  LR : 1.92E-05  Loss: 0.5088: 100%|██████████| 8/8 [00:30<00:00,  3.79s/it]                                                                                                                                                      \n",
      "Val Loss: 0.7190: 100%|██████████| 3/3 [00:08<00:00,  2.89s/it]                                                                                                                                                                                              \n"
     ]
    },
    {
     "name": "stdout",
     "output_type": "stream",
     "text": [
      "Threshold : 0.20\tFBeta : 0.217801\n",
      "Threshold : 0.25\tFBeta : 0.244780\n",
      "Threshold : 0.30\tFBeta : 0.257333\n",
      "Threshold : 0.35\tFBeta : 0.270206\n",
      "Threshold : 0.40\tFBeta : 0.282058\n",
      "Threshold : 0.45\tFBeta : 0.290034\n",
      "Threshold : 0.50\tFBeta : 0.296849\n",
      "Threshold : 0.55\tFBeta : 0.302662\n",
      "Threshold : 0.60\tFBeta : 0.308644\n",
      "Threshold : 0.65\tFBeta : 0.314429\n",
      "Threshold : 0.70\tFBeta : 0.320386\n",
      "Threshold : 0.75\tFBeta : 0.326881\n",
      "Threshold : 0.80\tFBeta : 0.335383\n",
      "\n"
     ]
    },
    {
     "name": "stderr",
     "output_type": "stream",
     "text": [
      "Epoch 132/500  Mem : 19.8GB  LR : 1.94E-05  Loss: 0.5016: 100%|██████████| 8/8 [00:32<00:00,  4.03s/it]                                                                                                                                                      \n",
      "Val Loss: 0.6330: 100%|██████████| 3/3 [00:08<00:00,  2.90s/it]                                                                                                                                                                                              \n"
     ]
    },
    {
     "name": "stdout",
     "output_type": "stream",
     "text": [
      "Threshold : 0.20\tFBeta : 0.228337\n",
      "Threshold : 0.25\tFBeta : 0.248190\n",
      "Threshold : 0.30\tFBeta : 0.265216\n",
      "Threshold : 0.35\tFBeta : 0.282371\n",
      "Threshold : 0.40\tFBeta : 0.295196\n",
      "Threshold : 0.45\tFBeta : 0.304821\n",
      "Threshold : 0.50\tFBeta : 0.309938\n",
      "Threshold : 0.55\tFBeta : 0.314745\n",
      "Threshold : 0.60\tFBeta : 0.320229\n",
      "Threshold : 0.65\tFBeta : 0.325086\n",
      "Threshold : 0.70\tFBeta : 0.327370\n",
      "Threshold : 0.75\tFBeta : 0.326775\n",
      "Threshold : 0.80\tFBeta : 0.321626\n",
      "\n"
     ]
    },
    {
     "name": "stderr",
     "output_type": "stream",
     "text": [
      "Epoch 133/500  Mem : 19.8GB  LR : 1.96E-05  Loss: 0.5106: 100%|██████████| 8/8 [00:31<00:00,  3.91s/it]                                                                                                                                                      \n",
      "Val Loss: 0.6751: 100%|██████████| 3/3 [00:08<00:00,  2.91s/it]                                                                                                                                                                                              \n"
     ]
    },
    {
     "name": "stdout",
     "output_type": "stream",
     "text": [
      "Threshold : 0.20\tFBeta : 0.220931\n",
      "Threshold : 0.25\tFBeta : 0.242520\n",
      "Threshold : 0.30\tFBeta : 0.258019\n",
      "Threshold : 0.35\tFBeta : 0.271197\n",
      "Threshold : 0.40\tFBeta : 0.281765\n",
      "Threshold : 0.45\tFBeta : 0.289663\n",
      "Threshold : 0.50\tFBeta : 0.294556\n",
      "Threshold : 0.55\tFBeta : 0.297073\n",
      "Threshold : 0.60\tFBeta : 0.299471\n",
      "Threshold : 0.65\tFBeta : 0.301484\n",
      "Threshold : 0.70\tFBeta : 0.302566\n",
      "Threshold : 0.75\tFBeta : 0.303680\n",
      "Threshold : 0.80\tFBeta : 0.302584\n",
      "\n"
     ]
    },
    {
     "name": "stderr",
     "output_type": "stream",
     "text": [
      "Epoch 134/500  Mem : 19.8GB  LR : 1.99E-05  Loss: 0.4889: 100%|██████████| 8/8 [00:31<00:00,  3.98s/it]                                                                                                                                                      \n",
      "Val Loss: 0.6558: 100%|██████████| 3/3 [00:08<00:00,  2.86s/it]                                                                                                                                                                                              \n"
     ]
    },
    {
     "name": "stdout",
     "output_type": "stream",
     "text": [
      "Threshold : 0.20\tFBeta : 0.229159\n",
      "Threshold : 0.25\tFBeta : 0.245631\n",
      "Threshold : 0.30\tFBeta : 0.259787\n",
      "Threshold : 0.35\tFBeta : 0.274516\n",
      "Threshold : 0.40\tFBeta : 0.287236\n",
      "Threshold : 0.45\tFBeta : 0.296249\n",
      "Threshold : 0.50\tFBeta : 0.302587\n",
      "Threshold : 0.55\tFBeta : 0.307551\n",
      "Threshold : 0.60\tFBeta : 0.309772\n",
      "Threshold : 0.65\tFBeta : 0.311144\n",
      "Threshold : 0.70\tFBeta : 0.312254\n",
      "Threshold : 0.75\tFBeta : 0.312525\n",
      "Threshold : 0.80\tFBeta : 0.311122\n",
      "\n"
     ]
    },
    {
     "name": "stderr",
     "output_type": "stream",
     "text": [
      "Epoch 135/500  Mem : 19.8GB  LR : 2.01E-05  Loss: 0.5032: 100%|██████████| 8/8 [00:32<00:00,  4.01s/it]                                                                                                                                                      \n",
      "Val Loss: 0.6683: 100%|██████████| 3/3 [00:08<00:00,  2.86s/it]                                                                                                                                                                                              \n"
     ]
    },
    {
     "name": "stdout",
     "output_type": "stream",
     "text": [
      "Threshold : 0.20\tFBeta : 0.232212\n",
      "Threshold : 0.25\tFBeta : 0.251009\n",
      "Threshold : 0.30\tFBeta : 0.261768\n",
      "Threshold : 0.35\tFBeta : 0.273586\n",
      "Threshold : 0.40\tFBeta : 0.284251\n",
      "Threshold : 0.45\tFBeta : 0.292863\n",
      "Threshold : 0.50\tFBeta : 0.299692\n",
      "Threshold : 0.55\tFBeta : 0.303619\n",
      "Threshold : 0.60\tFBeta : 0.307297\n",
      "Threshold : 0.65\tFBeta : 0.311814\n",
      "Threshold : 0.70\tFBeta : 0.315009\n",
      "Threshold : 0.75\tFBeta : 0.318092\n",
      "Threshold : 0.80\tFBeta : 0.321024\n",
      "\n"
     ]
    },
    {
     "name": "stderr",
     "output_type": "stream",
     "text": [
      "Epoch 136/500  Mem : 19.8GB  LR : 2.03E-05  Loss: 0.4921: 100%|██████████| 8/8 [00:31<00:00,  3.92s/it]                                                                                                                                                      \n",
      "Val Loss: 0.6170: 100%|██████████| 3/3 [00:08<00:00,  2.91s/it]                                                                                                                                                                                              \n"
     ]
    },
    {
     "name": "stdout",
     "output_type": "stream",
     "text": [
      "Threshold : 0.20\tFBeta : 0.232322\n",
      "Threshold : 0.25\tFBeta : 0.253916\n",
      "Threshold : 0.30\tFBeta : 0.270220\n",
      "Threshold : 0.35\tFBeta : 0.287415\n",
      "Threshold : 0.40\tFBeta : 0.301888\n",
      "Threshold : 0.45\tFBeta : 0.312522\n",
      "Threshold : 0.50\tFBeta : 0.320464\n",
      "Threshold : 0.55\tFBeta : 0.322318\n",
      "Threshold : 0.60\tFBeta : 0.323213\n",
      "Threshold : 0.65\tFBeta : 0.323230\n",
      "Threshold : 0.70\tFBeta : 0.322613\n",
      "Threshold : 0.75\tFBeta : 0.320290\n",
      "Threshold : 0.80\tFBeta : 0.309659\n",
      "\n"
     ]
    },
    {
     "name": "stderr",
     "output_type": "stream",
     "text": [
      "Epoch 137/500  Mem : 19.8GB  LR : 2.05E-05  Loss: 0.4925: 100%|██████████| 8/8 [00:30<00:00,  3.82s/it]                                                                                                                                                      \n",
      "Val Loss: 0.6483: 100%|██████████| 3/3 [00:08<00:00,  2.87s/it]                                                                                                                                                                                              \n"
     ]
    },
    {
     "name": "stdout",
     "output_type": "stream",
     "text": [
      "Threshold : 0.20\tFBeta : 0.219439\n",
      "Threshold : 0.25\tFBeta : 0.245822\n",
      "Threshold : 0.30\tFBeta : 0.263712\n",
      "Threshold : 0.35\tFBeta : 0.279918\n",
      "Threshold : 0.40\tFBeta : 0.293603\n",
      "Threshold : 0.45\tFBeta : 0.303872\n",
      "Threshold : 0.50\tFBeta : 0.311268\n",
      "Threshold : 0.55\tFBeta : 0.317960\n",
      "Threshold : 0.60\tFBeta : 0.323164\n",
      "Threshold : 0.65\tFBeta : 0.326875\n",
      "Threshold : 0.70\tFBeta : 0.329470\n",
      "Threshold : 0.75\tFBeta : 0.329637\n",
      "Threshold : 0.80\tFBeta : 0.327200\n",
      "\n"
     ]
    },
    {
     "name": "stderr",
     "output_type": "stream",
     "text": [
      "Epoch 138/500  Mem : 19.8GB  LR : 2.08E-05  Loss: 0.5054: 100%|██████████| 8/8 [00:30<00:00,  3.87s/it]                                                                                                                                                      \n",
      "Val Loss: 0.6427: 100%|██████████| 3/3 [00:08<00:00,  2.85s/it]                                                                                                                                                                                              \n"
     ]
    },
    {
     "name": "stdout",
     "output_type": "stream",
     "text": [
      "Threshold : 0.20\tFBeta : 0.199989\n",
      "Threshold : 0.25\tFBeta : 0.254489\n",
      "Threshold : 0.30\tFBeta : 0.272298\n",
      "Threshold : 0.35\tFBeta : 0.287464\n",
      "Threshold : 0.40\tFBeta : 0.299156\n",
      "Threshold : 0.45\tFBeta : 0.307040\n",
      "Threshold : 0.50\tFBeta : 0.313216\n",
      "Threshold : 0.55\tFBeta : 0.318401\n",
      "Threshold : 0.60\tFBeta : 0.322249\n",
      "Threshold : 0.65\tFBeta : 0.324188\n",
      "Threshold : 0.70\tFBeta : 0.324742\n",
      "Threshold : 0.75\tFBeta : 0.324441\n",
      "Threshold : 0.80\tFBeta : 0.319318\n",
      "\n"
     ]
    },
    {
     "name": "stderr",
     "output_type": "stream",
     "text": [
      "Epoch 139/500  Mem : 19.8GB  LR : 2.10E-05  Loss: 0.5081: 100%|██████████| 8/8 [00:31<00:00,  3.96s/it]                                                                                                                                                      \n",
      "Val Loss: 0.6524: 100%|██████████| 3/3 [00:08<00:00,  2.92s/it]                                                                                                                                                                                              \n"
     ]
    },
    {
     "name": "stdout",
     "output_type": "stream",
     "text": [
      "Threshold : 0.20\tFBeta : 0.224281\n",
      "Threshold : 0.25\tFBeta : 0.248487\n",
      "Threshold : 0.30\tFBeta : 0.266328\n",
      "Threshold : 0.35\tFBeta : 0.282303\n",
      "Threshold : 0.40\tFBeta : 0.293574\n",
      "Threshold : 0.45\tFBeta : 0.302900\n",
      "Threshold : 0.50\tFBeta : 0.310795\n",
      "Threshold : 0.55\tFBeta : 0.316064\n",
      "Threshold : 0.60\tFBeta : 0.319587\n",
      "Threshold : 0.65\tFBeta : 0.322738\n",
      "Threshold : 0.70\tFBeta : 0.324969\n",
      "Threshold : 0.75\tFBeta : 0.326392\n",
      "Threshold : 0.80\tFBeta : 0.325877\n",
      "\n"
     ]
    },
    {
     "name": "stderr",
     "output_type": "stream",
     "text": [
      "Epoch 140/500  Mem : 19.8GB  LR : 2.12E-05  Loss: 0.5138: 100%|██████████| 8/8 [00:32<00:00,  4.01s/it]                                                                                                                                                      \n",
      "Val Loss: 0.6411: 100%|██████████| 3/3 [00:08<00:00,  2.88s/it]                                                                                                                                                                                              \n"
     ]
    },
    {
     "name": "stdout",
     "output_type": "stream",
     "text": [
      "Threshold : 0.20\tFBeta : 0.232000\n",
      "Threshold : 0.25\tFBeta : 0.254548\n",
      "Threshold : 0.30\tFBeta : 0.272228\n",
      "Threshold : 0.35\tFBeta : 0.287526\n",
      "Threshold : 0.40\tFBeta : 0.300251\n",
      "Threshold : 0.45\tFBeta : 0.308583\n",
      "Threshold : 0.50\tFBeta : 0.314232\n",
      "Threshold : 0.55\tFBeta : 0.318731\n",
      "Threshold : 0.60\tFBeta : 0.323177\n",
      "Threshold : 0.65\tFBeta : 0.326117\n",
      "Threshold : 0.70\tFBeta : 0.326168\n",
      "Threshold : 0.75\tFBeta : 0.327182\n",
      "Threshold : 0.80\tFBeta : 0.327735\n",
      "\n"
     ]
    },
    {
     "name": "stderr",
     "output_type": "stream",
     "text": [
      "Epoch 141/500  Mem : 19.8GB  LR : 2.15E-05  Loss: 0.4949: 100%|██████████| 8/8 [00:31<00:00,  3.95s/it]                                                                                                                                                      \n",
      "Val Loss: 0.8321: 100%|██████████| 3/3 [00:08<00:00,  2.86s/it]                                                                                                                                                                                              \n"
     ]
    },
    {
     "name": "stdout",
     "output_type": "stream",
     "text": [
      "Threshold : 0.20\tFBeta : 0.228757\n",
      "Threshold : 0.25\tFBeta : 0.243740\n",
      "Threshold : 0.30\tFBeta : 0.251219\n",
      "Threshold : 0.35\tFBeta : 0.257062\n",
      "Threshold : 0.40\tFBeta : 0.262984\n",
      "Threshold : 0.45\tFBeta : 0.268973\n",
      "Threshold : 0.50\tFBeta : 0.274803\n",
      "Threshold : 0.55\tFBeta : 0.280383\n",
      "Threshold : 0.60\tFBeta : 0.285448\n",
      "Threshold : 0.65\tFBeta : 0.289997\n",
      "Threshold : 0.70\tFBeta : 0.294124\n",
      "Threshold : 0.75\tFBeta : 0.298585\n",
      "Threshold : 0.80\tFBeta : 0.302812\n",
      "\n"
     ]
    },
    {
     "name": "stderr",
     "output_type": "stream",
     "text": [
      "Epoch 142/500  Mem : 19.8GB  LR : 2.17E-05  Loss: 0.5008: 100%|██████████| 8/8 [00:31<00:00,  3.90s/it]                                                                                                                                                      \n",
      "Val Loss: 0.6063: 100%|██████████| 3/3 [00:08<00:00,  2.86s/it]                                                                                                                                                                                              \n"
     ]
    },
    {
     "name": "stdout",
     "output_type": "stream",
     "text": [
      "Threshold : 0.20\tFBeta : 0.223830\n",
      "Threshold : 0.25\tFBeta : 0.257387\n",
      "Threshold : 0.30\tFBeta : 0.276827\n",
      "Threshold : 0.35\tFBeta : 0.290967\n",
      "Threshold : 0.40\tFBeta : 0.298414\n",
      "Threshold : 0.45\tFBeta : 0.301815\n",
      "Threshold : 0.50\tFBeta : 0.299449\n",
      "Threshold : 0.55\tFBeta : 0.296087\n",
      "Threshold : 0.60\tFBeta : 0.291383\n",
      "Threshold : 0.65\tFBeta : 0.283596\n",
      "Threshold : 0.70\tFBeta : 0.273085\n",
      "Threshold : 0.75\tFBeta : 0.257119\n",
      "Threshold : 0.80\tFBeta : 0.230854\n",
      "\n"
     ]
    },
    {
     "name": "stderr",
     "output_type": "stream",
     "text": [
      "Epoch 143/500  Mem : 19.8GB  LR : 2.19E-05  Loss: 0.4964: 100%|██████████| 8/8 [00:31<00:00,  3.91s/it]                                                                                                                                                      \n",
      "Val Loss: 0.7443: 100%|██████████| 3/3 [00:08<00:00,  2.91s/it]                                                                                                                                                                                              \n"
     ]
    },
    {
     "name": "stdout",
     "output_type": "stream",
     "text": [
      "Threshold : 0.20\tFBeta : 0.187832\n",
      "Threshold : 0.25\tFBeta : 0.242208\n",
      "Threshold : 0.30\tFBeta : 0.253896\n",
      "Threshold : 0.35\tFBeta : 0.263474\n",
      "Threshold : 0.40\tFBeta : 0.272665\n",
      "Threshold : 0.45\tFBeta : 0.280944\n",
      "Threshold : 0.50\tFBeta : 0.286178\n",
      "Threshold : 0.55\tFBeta : 0.288867\n",
      "Threshold : 0.60\tFBeta : 0.291788\n",
      "Threshold : 0.65\tFBeta : 0.294662\n",
      "Threshold : 0.70\tFBeta : 0.298216\n",
      "Threshold : 0.75\tFBeta : 0.303135\n",
      "Threshold : 0.80\tFBeta : 0.306916\n",
      "\n"
     ]
    },
    {
     "name": "stderr",
     "output_type": "stream",
     "text": [
      "Epoch 144/500  Mem : 19.8GB  LR : 2.22E-05  Loss: 0.4996: 100%|██████████| 8/8 [00:32<00:00,  4.01s/it]                                                                                                                                                      \n",
      "Val Loss: 0.7055: 100%|██████████| 3/3 [00:08<00:00,  2.86s/it]                                                                                                                                                                                              \n"
     ]
    },
    {
     "name": "stdout",
     "output_type": "stream",
     "text": [
      "Threshold : 0.20\tFBeta : 0.234146\n",
      "Threshold : 0.25\tFBeta : 0.245720\n",
      "Threshold : 0.30\tFBeta : 0.254187\n",
      "Threshold : 0.35\tFBeta : 0.263715\n",
      "Threshold : 0.40\tFBeta : 0.273548\n",
      "Threshold : 0.45\tFBeta : 0.282986\n",
      "Threshold : 0.50\tFBeta : 0.291104\n",
      "Threshold : 0.55\tFBeta : 0.296101\n",
      "Threshold : 0.60\tFBeta : 0.298900\n",
      "Threshold : 0.65\tFBeta : 0.302426\n",
      "Threshold : 0.70\tFBeta : 0.306162\n",
      "Threshold : 0.75\tFBeta : 0.310013\n",
      "Threshold : 0.80\tFBeta : 0.314326\n",
      "\n"
     ]
    },
    {
     "name": "stderr",
     "output_type": "stream",
     "text": [
      "Epoch 145/500  Mem : 19.8GB  LR : 2.24E-05  Loss: 0.5025: 100%|██████████| 8/8 [00:30<00:00,  3.87s/it]                                                                                                                                                      \n",
      "Val Loss: 0.5996: 100%|██████████| 3/3 [00:08<00:00,  2.91s/it]                                                                                                                                                                                              \n"
     ]
    },
    {
     "name": "stdout",
     "output_type": "stream",
     "text": [
      "Threshold : 0.20\tFBeta : 0.219854\n",
      "Threshold : 0.25\tFBeta : 0.259934\n",
      "Threshold : 0.30\tFBeta : 0.287500\n",
      "Threshold : 0.35\tFBeta : 0.300070\n",
      "Threshold : 0.40\tFBeta : 0.306452\n",
      "Threshold : 0.45\tFBeta : 0.307334\n",
      "Threshold : 0.50\tFBeta : 0.304420\n",
      "Threshold : 0.55\tFBeta : 0.299484\n",
      "Threshold : 0.60\tFBeta : 0.290780\n",
      "Threshold : 0.65\tFBeta : 0.279497\n",
      "Threshold : 0.70\tFBeta : 0.262965\n",
      "Threshold : 0.75\tFBeta : 0.244786\n",
      "Threshold : 0.80\tFBeta : 0.224160\n",
      "\n"
     ]
    },
    {
     "name": "stderr",
     "output_type": "stream",
     "text": [
      "Epoch 146/500  Mem : 19.8GB  LR : 2.26E-05  Loss: 0.5022: 100%|██████████| 8/8 [00:31<00:00,  3.93s/it]                                                                                                                                                      \n",
      "Val Loss: 0.7382: 100%|██████████| 3/3 [00:08<00:00,  2.88s/it]                                                                                                                                                                                              \n"
     ]
    },
    {
     "name": "stdout",
     "output_type": "stream",
     "text": [
      "Threshold : 0.20\tFBeta : 0.230088\n",
      "Threshold : 0.25\tFBeta : 0.243720\n",
      "Threshold : 0.30\tFBeta : 0.254162\n",
      "Threshold : 0.35\tFBeta : 0.265753\n",
      "Threshold : 0.40\tFBeta : 0.276062\n",
      "Threshold : 0.45\tFBeta : 0.286031\n",
      "Threshold : 0.50\tFBeta : 0.294506\n",
      "Threshold : 0.55\tFBeta : 0.301866\n",
      "Threshold : 0.60\tFBeta : 0.307934\n",
      "Threshold : 0.65\tFBeta : 0.314282\n",
      "Threshold : 0.70\tFBeta : 0.320787\n",
      "Threshold : 0.75\tFBeta : 0.327319\n",
      "Threshold : 0.80\tFBeta : 0.334323\n",
      "\n"
     ]
    },
    {
     "name": "stderr",
     "output_type": "stream",
     "text": [
      "Epoch 147/500  Mem : 19.8GB  LR : 2.29E-05  Loss: 0.5041: 100%|██████████| 8/8 [00:31<00:00,  3.97s/it]                                                                                                                                                      \n",
      "Val Loss: 0.6805: 100%|██████████| 3/3 [00:08<00:00,  2.87s/it]                                                                                                                                                                                              \n"
     ]
    },
    {
     "name": "stdout",
     "output_type": "stream",
     "text": [
      "Threshold : 0.20\tFBeta : 0.233103\n",
      "Threshold : 0.25\tFBeta : 0.246196\n",
      "Threshold : 0.30\tFBeta : 0.256537\n",
      "Threshold : 0.35\tFBeta : 0.265994\n",
      "Threshold : 0.40\tFBeta : 0.277508\n",
      "Threshold : 0.45\tFBeta : 0.290671\n",
      "Threshold : 0.50\tFBeta : 0.304571\n",
      "Threshold : 0.55\tFBeta : 0.315392\n",
      "Threshold : 0.60\tFBeta : 0.323676\n",
      "Threshold : 0.65\tFBeta : 0.330744\n",
      "Threshold : 0.70\tFBeta : 0.337009\n",
      "Threshold : 0.75\tFBeta : 0.342342\n",
      "Threshold : 0.80\tFBeta : 0.347347\n",
      "\n"
     ]
    },
    {
     "name": "stderr",
     "output_type": "stream",
     "text": [
      "Epoch 148/500  Mem : 19.8GB  LR : 2.31E-05  Loss: 0.4890: 100%|██████████| 8/8 [00:30<00:00,  3.83s/it]                                                                                                                                                      \n",
      "Val Loss: 0.6486: 100%|██████████| 3/3 [00:08<00:00,  2.87s/it]                                                                                                                                                                                              \n"
     ]
    },
    {
     "name": "stdout",
     "output_type": "stream",
     "text": [
      "Threshold : 0.20\tFBeta : 0.232523\n",
      "Threshold : 0.25\tFBeta : 0.252795\n",
      "Threshold : 0.30\tFBeta : 0.267951\n",
      "Threshold : 0.35\tFBeta : 0.281997\n",
      "Threshold : 0.40\tFBeta : 0.295111\n",
      "Threshold : 0.45\tFBeta : 0.307167\n",
      "Threshold : 0.50\tFBeta : 0.316713\n",
      "Threshold : 0.55\tFBeta : 0.321345\n",
      "Threshold : 0.60\tFBeta : 0.325929\n",
      "Threshold : 0.65\tFBeta : 0.331407\n",
      "Threshold : 0.70\tFBeta : 0.335589\n",
      "Threshold : 0.75\tFBeta : 0.339786\n",
      "Threshold : 0.80\tFBeta : 0.341891\n",
      "\n"
     ]
    },
    {
     "name": "stderr",
     "output_type": "stream",
     "text": [
      "Epoch 149/500  Mem : 19.8GB  LR : 2.34E-05  Loss: 0.4894: 100%|██████████| 8/8 [00:30<00:00,  3.87s/it]                                                                                                                                                      \n",
      "Val Loss: 0.6913: 100%|██████████| 3/3 [00:08<00:00,  2.90s/it]                                                                                                                                                                                              \n"
     ]
    },
    {
     "name": "stdout",
     "output_type": "stream",
     "text": [
      "Threshold : 0.20\tFBeta : 0.227042\n",
      "Threshold : 0.25\tFBeta : 0.245140\n",
      "Threshold : 0.30\tFBeta : 0.256979\n",
      "Threshold : 0.35\tFBeta : 0.267729\n",
      "Threshold : 0.40\tFBeta : 0.277449\n",
      "Threshold : 0.45\tFBeta : 0.288062\n",
      "Threshold : 0.50\tFBeta : 0.299287\n",
      "Threshold : 0.55\tFBeta : 0.308123\n",
      "Threshold : 0.60\tFBeta : 0.314723\n",
      "Threshold : 0.65\tFBeta : 0.320718\n",
      "Threshold : 0.70\tFBeta : 0.327182\n",
      "Threshold : 0.75\tFBeta : 0.332666\n",
      "Threshold : 0.80\tFBeta : 0.338129\n",
      "\n"
     ]
    },
    {
     "name": "stderr",
     "output_type": "stream",
     "text": [
      "Epoch 150/500  Mem : 19.8GB  LR : 2.36E-05  Loss: 0.4880: 100%|██████████| 8/8 [00:31<00:00,  3.89s/it]                                                                                                                                                      \n",
      "Val Loss: 0.7292: 100%|██████████| 3/3 [00:08<00:00,  2.91s/it]                                                                                                                                                                                              \n"
     ]
    },
    {
     "name": "stdout",
     "output_type": "stream",
     "text": [
      "Threshold : 0.20\tFBeta : 0.231422\n",
      "Threshold : 0.25\tFBeta : 0.243865\n",
      "Threshold : 0.30\tFBeta : 0.254016\n",
      "Threshold : 0.35\tFBeta : 0.263697\n",
      "Threshold : 0.40\tFBeta : 0.273400\n",
      "Threshold : 0.45\tFBeta : 0.282752\n",
      "Threshold : 0.50\tFBeta : 0.292061\n",
      "Threshold : 0.55\tFBeta : 0.298686\n",
      "Threshold : 0.60\tFBeta : 0.303981\n",
      "Threshold : 0.65\tFBeta : 0.308563\n",
      "Threshold : 0.70\tFBeta : 0.312490\n",
      "Threshold : 0.75\tFBeta : 0.316664\n",
      "Threshold : 0.80\tFBeta : 0.321744\n",
      "\n"
     ]
    },
    {
     "name": "stderr",
     "output_type": "stream",
     "text": [
      "Epoch 151/500  Mem : 19.8GB  LR : 2.39E-05  Loss: 0.5000: 100%|██████████| 8/8 [00:31<00:00,  3.95s/it]                                                                                                                                                      \n",
      "Val Loss: 0.6727: 100%|██████████| 3/3 [00:08<00:00,  2.86s/it]                                                                                                                                                                                              \n"
     ]
    },
    {
     "name": "stdout",
     "output_type": "stream",
     "text": [
      "Threshold : 0.20\tFBeta : 0.240874\n",
      "Threshold : 0.25\tFBeta : 0.256945\n",
      "Threshold : 0.30\tFBeta : 0.268812\n",
      "Threshold : 0.35\tFBeta : 0.279254\n",
      "Threshold : 0.40\tFBeta : 0.287175\n",
      "Threshold : 0.45\tFBeta : 0.293084\n",
      "Threshold : 0.50\tFBeta : 0.296232\n",
      "Threshold : 0.55\tFBeta : 0.297219\n",
      "Threshold : 0.60\tFBeta : 0.298704\n",
      "Threshold : 0.65\tFBeta : 0.300326\n",
      "Threshold : 0.70\tFBeta : 0.301522\n",
      "Threshold : 0.75\tFBeta : 0.301169\n",
      "Threshold : 0.80\tFBeta : 0.299787\n",
      "\n"
     ]
    },
    {
     "name": "stderr",
     "output_type": "stream",
     "text": [
      "Epoch 152/500  Mem : 19.8GB  LR : 2.41E-05  Loss: 0.4870: 100%|██████████| 8/8 [00:30<00:00,  3.84s/it]                                                                                                                                                      \n",
      "Val Loss: 0.7444: 100%|██████████| 3/3 [00:08<00:00,  2.91s/it]                                                                                                                                                                                              \n"
     ]
    },
    {
     "name": "stdout",
     "output_type": "stream",
     "text": [
      "Threshold : 0.20\tFBeta : 0.237891\n",
      "Threshold : 0.25\tFBeta : 0.250681\n",
      "Threshold : 0.30\tFBeta : 0.260361\n",
      "Threshold : 0.35\tFBeta : 0.270291\n",
      "Threshold : 0.40\tFBeta : 0.279723\n",
      "Threshold : 0.45\tFBeta : 0.287766\n",
      "Threshold : 0.50\tFBeta : 0.295137\n",
      "Threshold : 0.55\tFBeta : 0.301860\n",
      "Threshold : 0.60\tFBeta : 0.307932\n",
      "Threshold : 0.65\tFBeta : 0.313119\n",
      "Threshold : 0.70\tFBeta : 0.317689\n",
      "Threshold : 0.75\tFBeta : 0.322610\n",
      "Threshold : 0.80\tFBeta : 0.329725\n",
      "\n"
     ]
    },
    {
     "name": "stderr",
     "output_type": "stream",
     "text": [
      "Epoch 153/500  Mem : 19.8GB  LR : 2.44E-05  Loss: 0.4770: 100%|██████████| 8/8 [00:30<00:00,  3.79s/it]                                                                                                                                                      \n",
      "Val Loss: 0.6543: 100%|██████████| 3/3 [00:08<00:00,  2.86s/it]                                                                                                                                                                                              \n"
     ]
    },
    {
     "name": "stdout",
     "output_type": "stream",
     "text": [
      "Threshold : 0.20\tFBeta : 0.239441\n",
      "Threshold : 0.25\tFBeta : 0.257540\n",
      "Threshold : 0.30\tFBeta : 0.272410\n",
      "Threshold : 0.35\tFBeta : 0.285883\n",
      "Threshold : 0.40\tFBeta : 0.295206\n",
      "Threshold : 0.45\tFBeta : 0.302539\n",
      "Threshold : 0.50\tFBeta : 0.308947\n",
      "Threshold : 0.55\tFBeta : 0.313686\n",
      "Threshold : 0.60\tFBeta : 0.319583\n",
      "Threshold : 0.65\tFBeta : 0.324601\n",
      "Threshold : 0.70\tFBeta : 0.328004\n",
      "Threshold : 0.75\tFBeta : 0.330761\n",
      "Threshold : 0.80\tFBeta : 0.332615\n",
      "\n"
     ]
    },
    {
     "name": "stderr",
     "output_type": "stream",
     "text": [
      "Epoch 154/500  Mem : 19.8GB  LR : 2.46E-05  Loss: 0.4866: 100%|██████████| 8/8 [00:30<00:00,  3.83s/it]                                                                                                                                                      \n",
      "Val Loss: 0.7240: 100%|██████████| 3/3 [00:08<00:00,  2.91s/it]                                                                                                                                                                                              \n"
     ]
    },
    {
     "name": "stdout",
     "output_type": "stream",
     "text": [
      "Threshold : 0.20\tFBeta : 0.229822\n",
      "Threshold : 0.25\tFBeta : 0.245704\n",
      "Threshold : 0.30\tFBeta : 0.256849\n",
      "Threshold : 0.35\tFBeta : 0.266058\n",
      "Threshold : 0.40\tFBeta : 0.273520\n",
      "Threshold : 0.45\tFBeta : 0.280873\n",
      "Threshold : 0.50\tFBeta : 0.288181\n",
      "Threshold : 0.55\tFBeta : 0.294957\n",
      "Threshold : 0.60\tFBeta : 0.301054\n",
      "Threshold : 0.65\tFBeta : 0.307023\n",
      "Threshold : 0.70\tFBeta : 0.313301\n",
      "Threshold : 0.75\tFBeta : 0.319685\n",
      "Threshold : 0.80\tFBeta : 0.326137\n",
      "\n"
     ]
    },
    {
     "name": "stderr",
     "output_type": "stream",
     "text": [
      "Epoch 155/500  Mem : 19.8GB  LR : 2.48E-05  Loss: 0.4852: 100%|██████████| 8/8 [00:31<00:00,  3.98s/it]                                                                                                                                                      \n",
      "Val Loss: 0.7719: 100%|██████████| 3/3 [00:08<00:00,  2.89s/it]                                                                                                                                                                                              \n"
     ]
    },
    {
     "name": "stdout",
     "output_type": "stream",
     "text": [
      "Threshold : 0.20\tFBeta : 0.225974\n",
      "Threshold : 0.25\tFBeta : 0.242333\n",
      "Threshold : 0.30\tFBeta : 0.252171\n",
      "Threshold : 0.35\tFBeta : 0.260362\n",
      "Threshold : 0.40\tFBeta : 0.268034\n",
      "Threshold : 0.45\tFBeta : 0.275370\n",
      "Threshold : 0.50\tFBeta : 0.282022\n",
      "Threshold : 0.55\tFBeta : 0.289073\n",
      "Threshold : 0.60\tFBeta : 0.295742\n",
      "Threshold : 0.65\tFBeta : 0.301720\n",
      "Threshold : 0.70\tFBeta : 0.307028\n",
      "Threshold : 0.75\tFBeta : 0.311271\n",
      "Threshold : 0.80\tFBeta : 0.315075\n",
      "\n"
     ]
    },
    {
     "name": "stderr",
     "output_type": "stream",
     "text": [
      "Epoch 156/500  Mem : 19.8GB  LR : 2.51E-05  Loss: 0.4898: 100%|██████████| 8/8 [00:30<00:00,  3.79s/it]                                                                                                                                                      \n",
      "Val Loss: 0.6359: 100%|██████████| 3/3 [00:08<00:00,  2.88s/it]                                                                                                                                                                                              \n"
     ]
    },
    {
     "name": "stdout",
     "output_type": "stream",
     "text": [
      "Threshold : 0.20\tFBeta : 0.244726\n",
      "Threshold : 0.25\tFBeta : 0.259441\n",
      "Threshold : 0.30\tFBeta : 0.271658\n",
      "Threshold : 0.35\tFBeta : 0.280718\n",
      "Threshold : 0.40\tFBeta : 0.283769\n",
      "Threshold : 0.45\tFBeta : 0.285183\n",
      "Threshold : 0.50\tFBeta : 0.283371\n",
      "Threshold : 0.55\tFBeta : 0.282736\n",
      "Threshold : 0.60\tFBeta : 0.281526\n",
      "Threshold : 0.65\tFBeta : 0.278492\n",
      "Threshold : 0.70\tFBeta : 0.273541\n",
      "Threshold : 0.75\tFBeta : 0.263554\n",
      "Threshold : 0.80\tFBeta : 0.248207\n",
      "\n"
     ]
    },
    {
     "name": "stderr",
     "output_type": "stream",
     "text": [
      "Epoch 157/500  Mem : 19.8GB  LR : 2.53E-05  Loss: 0.4870: 100%|██████████| 8/8 [00:30<00:00,  3.86s/it]                                                                                                                                                      \n",
      "Val Loss: 0.6915: 100%|██████████| 3/3 [00:08<00:00,  2.85s/it]                                                                                                                                                                                              \n"
     ]
    },
    {
     "name": "stdout",
     "output_type": "stream",
     "text": [
      "Threshold : 0.20\tFBeta : 0.227369\n",
      "Threshold : 0.25\tFBeta : 0.247656\n",
      "Threshold : 0.30\tFBeta : 0.260287\n",
      "Threshold : 0.35\tFBeta : 0.271963\n",
      "Threshold : 0.40\tFBeta : 0.282110\n",
      "Threshold : 0.45\tFBeta : 0.292153\n",
      "Threshold : 0.50\tFBeta : 0.300479\n",
      "Threshold : 0.55\tFBeta : 0.305841\n",
      "Threshold : 0.60\tFBeta : 0.310232\n",
      "Threshold : 0.65\tFBeta : 0.314709\n",
      "Threshold : 0.70\tFBeta : 0.318650\n",
      "Threshold : 0.75\tFBeta : 0.321532\n",
      "Threshold : 0.80\tFBeta : 0.324769\n",
      "\n"
     ]
    },
    {
     "name": "stderr",
     "output_type": "stream",
     "text": [
      "Epoch 158/500  Mem : 19.8GB  LR : 2.56E-05  Loss: 0.4695: 100%|██████████| 8/8 [00:31<00:00,  3.91s/it]                                                                                                                                                      \n",
      "Val Loss: 0.6096: 100%|██████████| 3/3 [00:08<00:00,  2.85s/it]                                                                                                                                                                                              \n"
     ]
    },
    {
     "name": "stdout",
     "output_type": "stream",
     "text": [
      "Threshold : 0.20\tFBeta : 0.235785\n",
      "Threshold : 0.25\tFBeta : 0.262850\n",
      "Threshold : 0.30\tFBeta : 0.285384\n",
      "Threshold : 0.35\tFBeta : 0.299811\n",
      "Threshold : 0.40\tFBeta : 0.307135\n",
      "Threshold : 0.45\tFBeta : 0.310707\n",
      "Threshold : 0.50\tFBeta : 0.313432\n",
      "Threshold : 0.55\tFBeta : 0.316218\n",
      "Threshold : 0.60\tFBeta : 0.316474\n",
      "Threshold : 0.65\tFBeta : 0.316428\n",
      "Threshold : 0.70\tFBeta : 0.315421\n",
      "Threshold : 0.75\tFBeta : 0.308907\n",
      "Threshold : 0.80\tFBeta : 0.296216\n",
      "\n"
     ]
    },
    {
     "name": "stderr",
     "output_type": "stream",
     "text": [
      "Epoch 159/500  Mem : 19.8GB  LR : 2.59E-05  Loss: 0.4844: 100%|██████████| 8/8 [00:30<00:00,  3.83s/it]                                                                                                                                                      \n",
      "Val Loss: 0.6757: 100%|██████████| 3/3 [00:08<00:00,  2.91s/it]                                                                                                                                                                                              \n"
     ]
    },
    {
     "name": "stdout",
     "output_type": "stream",
     "text": [
      "Threshold : 0.20\tFBeta : 0.231689\n",
      "Threshold : 0.25\tFBeta : 0.247464\n",
      "Threshold : 0.30\tFBeta : 0.263394\n",
      "Threshold : 0.35\tFBeta : 0.278402\n",
      "Threshold : 0.40\tFBeta : 0.292537\n",
      "Threshold : 0.45\tFBeta : 0.304227\n",
      "Threshold : 0.50\tFBeta : 0.313085\n",
      "Threshold : 0.55\tFBeta : 0.319903\n",
      "Threshold : 0.60\tFBeta : 0.326026\n",
      "Threshold : 0.65\tFBeta : 0.332691\n",
      "Threshold : 0.70\tFBeta : 0.338634\n",
      "Threshold : 0.75\tFBeta : 0.344550\n",
      "Threshold : 0.80\tFBeta : 0.349702\n",
      "\n"
     ]
    },
    {
     "name": "stderr",
     "output_type": "stream",
     "text": [
      "Epoch 160/500  Mem : 19.8GB  LR : 2.61E-05  Loss: 0.4727: 100%|██████████| 8/8 [00:32<00:00,  4.08s/it]                                                                                                                                                      \n",
      "Val Loss: 0.7090: 100%|██████████| 3/3 [00:08<00:00,  2.87s/it]                                                                                                                                                                                              \n"
     ]
    },
    {
     "name": "stdout",
     "output_type": "stream",
     "text": [
      "Threshold : 0.20\tFBeta : 0.239972\n",
      "Threshold : 0.25\tFBeta : 0.253512\n",
      "Threshold : 0.30\tFBeta : 0.262155\n",
      "Threshold : 0.35\tFBeta : 0.271925\n",
      "Threshold : 0.40\tFBeta : 0.280144\n",
      "Threshold : 0.45\tFBeta : 0.287409\n",
      "Threshold : 0.50\tFBeta : 0.292190\n",
      "Threshold : 0.55\tFBeta : 0.295650\n",
      "Threshold : 0.60\tFBeta : 0.299044\n",
      "Threshold : 0.65\tFBeta : 0.302464\n",
      "Threshold : 0.70\tFBeta : 0.305816\n",
      "Threshold : 0.75\tFBeta : 0.309154\n",
      "Threshold : 0.80\tFBeta : 0.311913\n",
      "\n"
     ]
    },
    {
     "name": "stderr",
     "output_type": "stream",
     "text": [
      "Epoch 161/500  Mem : 19.8GB  LR : 2.64E-05  Loss: 0.4753: 100%|██████████| 8/8 [00:31<00:00,  3.88s/it]                                                                                                                                                      \n",
      "Val Loss: 0.8882: 100%|██████████| 3/3 [00:08<00:00,  2.86s/it]                                                                                                                                                                                              \n"
     ]
    },
    {
     "name": "stdout",
     "output_type": "stream",
     "text": [
      "Threshold : 0.20\tFBeta : 0.227606\n",
      "Threshold : 0.25\tFBeta : 0.240834\n",
      "Threshold : 0.30\tFBeta : 0.247517\n",
      "Threshold : 0.35\tFBeta : 0.252359\n",
      "Threshold : 0.40\tFBeta : 0.256708\n",
      "Threshold : 0.45\tFBeta : 0.261005\n",
      "Threshold : 0.50\tFBeta : 0.265352\n",
      "Threshold : 0.55\tFBeta : 0.269667\n",
      "Threshold : 0.60\tFBeta : 0.273843\n",
      "Threshold : 0.65\tFBeta : 0.278748\n",
      "Threshold : 0.70\tFBeta : 0.283576\n",
      "Threshold : 0.75\tFBeta : 0.289513\n",
      "Threshold : 0.80\tFBeta : 0.296088\n",
      "\n"
     ]
    },
    {
     "name": "stderr",
     "output_type": "stream",
     "text": [
      "Epoch 162/500  Mem : 19.8GB  LR : 2.66E-05  Loss: 0.4767: 100%|██████████| 8/8 [00:31<00:00,  3.94s/it]                                                                                                                                                      \n",
      "Val Loss: 0.9050: 100%|██████████| 3/3 [00:08<00:00,  2.89s/it]                                                                                                                                                                                              \n"
     ]
    },
    {
     "name": "stdout",
     "output_type": "stream",
     "text": [
      "Threshold : 0.20\tFBeta : 0.230114\n",
      "Threshold : 0.25\tFBeta : 0.241281\n",
      "Threshold : 0.30\tFBeta : 0.247159\n",
      "Threshold : 0.35\tFBeta : 0.252076\n",
      "Threshold : 0.40\tFBeta : 0.256547\n",
      "Threshold : 0.45\tFBeta : 0.260888\n",
      "Threshold : 0.50\tFBeta : 0.264816\n",
      "Threshold : 0.55\tFBeta : 0.268962\n",
      "Threshold : 0.60\tFBeta : 0.273487\n",
      "Threshold : 0.65\tFBeta : 0.278612\n",
      "Threshold : 0.70\tFBeta : 0.284018\n",
      "Threshold : 0.75\tFBeta : 0.289467\n",
      "Threshold : 0.80\tFBeta : 0.294961\n",
      "\n"
     ]
    },
    {
     "name": "stderr",
     "output_type": "stream",
     "text": [
      "Epoch 163/500  Mem : 19.8GB  LR : 2.69E-05  Loss: 0.4804: 100%|██████████| 8/8 [00:32<00:00,  4.02s/it]                                                                                                                                                      \n",
      "Val Loss: 0.7135: 100%|██████████| 3/3 [00:08<00:00,  2.92s/it]                                                                                                                                                                                              \n"
     ]
    },
    {
     "name": "stdout",
     "output_type": "stream",
     "text": [
      "Threshold : 0.20\tFBeta : 0.233395\n",
      "Threshold : 0.25\tFBeta : 0.249771\n",
      "Threshold : 0.30\tFBeta : 0.262452\n",
      "Threshold : 0.35\tFBeta : 0.272238\n",
      "Threshold : 0.40\tFBeta : 0.281719\n",
      "Threshold : 0.45\tFBeta : 0.289660\n",
      "Threshold : 0.50\tFBeta : 0.296346\n",
      "Threshold : 0.55\tFBeta : 0.301796\n",
      "Threshold : 0.60\tFBeta : 0.306267\n",
      "Threshold : 0.65\tFBeta : 0.310923\n",
      "Threshold : 0.70\tFBeta : 0.315947\n",
      "Threshold : 0.75\tFBeta : 0.320763\n",
      "Threshold : 0.80\tFBeta : 0.324745\n",
      "\n"
     ]
    },
    {
     "name": "stderr",
     "output_type": "stream",
     "text": [
      "Epoch 164/500  Mem : 19.8GB  LR : 2.71E-05  Loss: 0.4729: 100%|██████████| 8/8 [00:31<00:00,  3.94s/it]                                                                                                                                                      \n",
      "Val Loss: 0.7219: 100%|██████████| 3/3 [00:08<00:00,  2.90s/it]                                                                                                                                                                                              \n"
     ]
    },
    {
     "name": "stdout",
     "output_type": "stream",
     "text": [
      "Threshold : 0.20\tFBeta : 0.235194\n",
      "Threshold : 0.25\tFBeta : 0.247216\n",
      "Threshold : 0.30\tFBeta : 0.254927\n",
      "Threshold : 0.35\tFBeta : 0.263824\n",
      "Threshold : 0.40\tFBeta : 0.272680\n",
      "Threshold : 0.45\tFBeta : 0.280833\n",
      "Threshold : 0.50\tFBeta : 0.288020\n",
      "Threshold : 0.55\tFBeta : 0.294229\n",
      "Threshold : 0.60\tFBeta : 0.299495\n",
      "Threshold : 0.65\tFBeta : 0.303805\n",
      "Threshold : 0.70\tFBeta : 0.308452\n",
      "Threshold : 0.75\tFBeta : 0.312670\n",
      "Threshold : 0.80\tFBeta : 0.315024\n",
      "\n"
     ]
    },
    {
     "name": "stderr",
     "output_type": "stream",
     "text": [
      "Epoch 165/500  Mem : 19.8GB  LR : 2.74E-05  Loss: 0.4742: 100%|██████████| 8/8 [00:30<00:00,  3.87s/it]                                                                                                                                                      \n",
      "Val Loss: 0.8412: 100%|██████████| 3/3 [00:08<00:00,  2.86s/it]                                                                                                                                                                                              \n"
     ]
    },
    {
     "name": "stdout",
     "output_type": "stream",
     "text": [
      "Threshold : 0.20\tFBeta : 0.233192\n",
      "Threshold : 0.25\tFBeta : 0.241202\n",
      "Threshold : 0.30\tFBeta : 0.246453\n",
      "Threshold : 0.35\tFBeta : 0.250759\n",
      "Threshold : 0.40\tFBeta : 0.256362\n",
      "Threshold : 0.45\tFBeta : 0.261991\n",
      "Threshold : 0.50\tFBeta : 0.267565\n",
      "Threshold : 0.55\tFBeta : 0.273236\n",
      "Threshold : 0.60\tFBeta : 0.278833\n",
      "Threshold : 0.65\tFBeta : 0.284664\n",
      "Threshold : 0.70\tFBeta : 0.290544\n",
      "Threshold : 0.75\tFBeta : 0.296090\n",
      "Threshold : 0.80\tFBeta : 0.302029\n",
      "\n"
     ]
    },
    {
     "name": "stderr",
     "output_type": "stream",
     "text": [
      "Epoch 166/500  Mem : 19.8GB  LR : 2.77E-05  Loss: 0.4647: 100%|██████████| 8/8 [00:31<00:00,  3.95s/it]                                                                                                                                                      \n",
      "Val Loss: 0.7283: 100%|██████████| 3/3 [00:08<00:00,  2.91s/it]                                                                                                                                                                                              \n"
     ]
    },
    {
     "name": "stdout",
     "output_type": "stream",
     "text": [
      "Threshold : 0.20\tFBeta : 0.238144\n",
      "Threshold : 0.25\tFBeta : 0.250503\n",
      "Threshold : 0.30\tFBeta : 0.260555\n",
      "Threshold : 0.35\tFBeta : 0.268554\n",
      "Threshold : 0.40\tFBeta : 0.275005\n",
      "Threshold : 0.45\tFBeta : 0.280737\n",
      "Threshold : 0.50\tFBeta : 0.286225\n",
      "Threshold : 0.55\tFBeta : 0.290757\n",
      "Threshold : 0.60\tFBeta : 0.294887\n",
      "Threshold : 0.65\tFBeta : 0.297980\n",
      "Threshold : 0.70\tFBeta : 0.300416\n",
      "Threshold : 0.75\tFBeta : 0.303631\n",
      "Threshold : 0.80\tFBeta : 0.308404\n",
      "\n"
     ]
    },
    {
     "name": "stderr",
     "output_type": "stream",
     "text": [
      "Epoch 167/500  Mem : 19.8GB  LR : 2.79E-05  Loss: 0.4648: 100%|██████████| 8/8 [00:31<00:00,  3.96s/it]                                                                                                                                                      \n",
      "Val Loss: 0.6108: 100%|██████████| 3/3 [00:08<00:00,  2.86s/it]                                                                                                                                                                                              \n"
     ]
    },
    {
     "name": "stdout",
     "output_type": "stream",
     "text": [
      "Threshold : 0.20\tFBeta : 0.239638\n",
      "Threshold : 0.25\tFBeta : 0.265868\n",
      "Threshold : 0.30\tFBeta : 0.284670\n",
      "Threshold : 0.35\tFBeta : 0.295697\n",
      "Threshold : 0.40\tFBeta : 0.304388\n",
      "Threshold : 0.45\tFBeta : 0.310371\n",
      "Threshold : 0.50\tFBeta : 0.312609\n",
      "Threshold : 0.55\tFBeta : 0.312434\n",
      "Threshold : 0.60\tFBeta : 0.310634\n",
      "Threshold : 0.65\tFBeta : 0.308464\n",
      "Threshold : 0.70\tFBeta : 0.307836\n",
      "Threshold : 0.75\tFBeta : 0.303973\n",
      "Threshold : 0.80\tFBeta : 0.293762\n",
      "\n"
     ]
    },
    {
     "name": "stderr",
     "output_type": "stream",
     "text": [
      "Epoch 168/500  Mem : 19.8GB  LR : 2.82E-05  Loss: 0.4686: 100%|██████████| 8/8 [00:31<00:00,  3.93s/it]                                                                                                                                                      \n",
      "Val Loss: 0.6382: 100%|██████████| 3/3 [00:08<00:00,  2.89s/it]                                                                                                                                                                                              \n"
     ]
    },
    {
     "name": "stdout",
     "output_type": "stream",
     "text": [
      "Threshold : 0.20\tFBeta : 0.236872\n",
      "Threshold : 0.25\tFBeta : 0.258631\n",
      "Threshold : 0.30\tFBeta : 0.276360\n",
      "Threshold : 0.35\tFBeta : 0.289548\n",
      "Threshold : 0.40\tFBeta : 0.297666\n",
      "Threshold : 0.45\tFBeta : 0.303629\n",
      "Threshold : 0.50\tFBeta : 0.308428\n",
      "Threshold : 0.55\tFBeta : 0.310679\n",
      "Threshold : 0.60\tFBeta : 0.311548\n",
      "Threshold : 0.65\tFBeta : 0.311059\n",
      "Threshold : 0.70\tFBeta : 0.309813\n",
      "Threshold : 0.75\tFBeta : 0.308881\n",
      "Threshold : 0.80\tFBeta : 0.307478\n",
      "\n"
     ]
    },
    {
     "name": "stderr",
     "output_type": "stream",
     "text": [
      "Epoch 169/500  Mem : 19.8GB  LR : 2.84E-05  Loss: 0.4703: 100%|██████████| 8/8 [00:31<00:00,  3.98s/it]                                                                                                                                                      \n",
      "Val Loss: 0.6281: 100%|██████████| 3/3 [00:08<00:00,  2.86s/it]                                                                                                                                                                                              \n"
     ]
    },
    {
     "name": "stdout",
     "output_type": "stream",
     "text": [
      "Threshold : 0.20\tFBeta : 0.244839\n",
      "Threshold : 0.25\tFBeta : 0.259313\n",
      "Threshold : 0.30\tFBeta : 0.272323\n",
      "Threshold : 0.35\tFBeta : 0.285858\n",
      "Threshold : 0.40\tFBeta : 0.296596\n",
      "Threshold : 0.45\tFBeta : 0.303851\n",
      "Threshold : 0.50\tFBeta : 0.307563\n",
      "Threshold : 0.55\tFBeta : 0.309322\n",
      "Threshold : 0.60\tFBeta : 0.311460\n",
      "Threshold : 0.65\tFBeta : 0.313931\n",
      "Threshold : 0.70\tFBeta : 0.315725\n",
      "Threshold : 0.75\tFBeta : 0.314844\n",
      "Threshold : 0.80\tFBeta : 0.313569\n",
      "\n"
     ]
    },
    {
     "name": "stderr",
     "output_type": "stream",
     "text": [
      "Epoch 170/500  Mem : 19.8GB  LR : 2.87E-05  Loss: 0.4678: 100%|██████████| 8/8 [00:30<00:00,  3.87s/it]                                                                                                                                                      \n",
      "Val Loss: 0.6496: 100%|██████████| 3/3 [00:08<00:00,  2.87s/it]                                                                                                                                                                                              \n"
     ]
    },
    {
     "name": "stdout",
     "output_type": "stream",
     "text": [
      "Threshold : 0.20\tFBeta : 0.243891\n",
      "Threshold : 0.25\tFBeta : 0.259162\n",
      "Threshold : 0.30\tFBeta : 0.272053\n",
      "Threshold : 0.35\tFBeta : 0.283201\n",
      "Threshold : 0.40\tFBeta : 0.291976\n",
      "Threshold : 0.45\tFBeta : 0.300026\n",
      "Threshold : 0.50\tFBeta : 0.306335\n",
      "Threshold : 0.55\tFBeta : 0.310280\n",
      "Threshold : 0.60\tFBeta : 0.313491\n",
      "Threshold : 0.65\tFBeta : 0.315895\n",
      "Threshold : 0.70\tFBeta : 0.317919\n",
      "Threshold : 0.75\tFBeta : 0.320289\n",
      "Threshold : 0.80\tFBeta : 0.321806\n",
      "\n"
     ]
    },
    {
     "name": "stderr",
     "output_type": "stream",
     "text": [
      "Epoch 171/500  Mem : 19.8GB  LR : 2.90E-05  Loss: 0.4626: 100%|██████████| 8/8 [00:31<00:00,  3.88s/it]                                                                                                                                                      \n",
      "Val Loss: 0.6626: 100%|██████████| 3/3 [00:08<00:00,  2.86s/it]                                                                                                                                                                                              \n"
     ]
    },
    {
     "name": "stdout",
     "output_type": "stream",
     "text": [
      "Threshold : 0.20\tFBeta : 0.234102\n",
      "Threshold : 0.25\tFBeta : 0.250328\n",
      "Threshold : 0.30\tFBeta : 0.264762\n",
      "Threshold : 0.35\tFBeta : 0.277521\n",
      "Threshold : 0.40\tFBeta : 0.290661\n",
      "Threshold : 0.45\tFBeta : 0.302957\n",
      "Threshold : 0.50\tFBeta : 0.312761\n",
      "Threshold : 0.55\tFBeta : 0.322000\n",
      "Threshold : 0.60\tFBeta : 0.329845\n",
      "Threshold : 0.65\tFBeta : 0.337099\n",
      "Threshold : 0.70\tFBeta : 0.344716\n",
      "Threshold : 0.75\tFBeta : 0.352636\n",
      "Threshold : 0.80\tFBeta : 0.357570\n",
      "\n"
     ]
    },
    {
     "name": "stderr",
     "output_type": "stream",
     "text": [
      "Epoch 172/500  Mem : 19.8GB  LR : 2.92E-05  Loss: 0.4709: 100%|██████████| 8/8 [00:31<00:00,  3.89s/it]                                                                                                                                                      \n",
      "Val Loss: 0.6497: 100%|██████████| 3/3 [00:08<00:00,  2.87s/it]                                                                                                                                                                                              \n"
     ]
    },
    {
     "name": "stdout",
     "output_type": "stream",
     "text": [
      "Threshold : 0.20\tFBeta : 0.230375\n",
      "Threshold : 0.25\tFBeta : 0.250909\n",
      "Threshold : 0.30\tFBeta : 0.265432\n",
      "Threshold : 0.35\tFBeta : 0.278987\n",
      "Threshold : 0.40\tFBeta : 0.290894\n",
      "Threshold : 0.45\tFBeta : 0.301584\n",
      "Threshold : 0.50\tFBeta : 0.311576\n",
      "Threshold : 0.55\tFBeta : 0.318628\n",
      "Threshold : 0.60\tFBeta : 0.324706\n",
      "Threshold : 0.65\tFBeta : 0.330277\n",
      "Threshold : 0.70\tFBeta : 0.334367\n",
      "Threshold : 0.75\tFBeta : 0.336796\n",
      "Threshold : 0.80\tFBeta : 0.339174\n",
      "\n"
     ]
    },
    {
     "name": "stderr",
     "output_type": "stream",
     "text": [
      "Epoch 173/500  Mem : 19.8GB  LR : 2.95E-05  Loss: 0.4566: 100%|██████████| 8/8 [00:30<00:00,  3.76s/it]                                                                                                                                                      \n",
      "Val Loss: 0.8101: 100%|██████████| 3/3 [00:08<00:00,  2.85s/it]                                                                                                                                                                                              \n"
     ]
    },
    {
     "name": "stdout",
     "output_type": "stream",
     "text": [
      "Threshold : 0.20\tFBeta : 0.228611\n",
      "Threshold : 0.25\tFBeta : 0.241319\n",
      "Threshold : 0.30\tFBeta : 0.249105\n",
      "Threshold : 0.35\tFBeta : 0.255192\n",
      "Threshold : 0.40\tFBeta : 0.260441\n",
      "Threshold : 0.45\tFBeta : 0.265620\n",
      "Threshold : 0.50\tFBeta : 0.270505\n",
      "Threshold : 0.55\tFBeta : 0.275633\n",
      "Threshold : 0.60\tFBeta : 0.281037\n",
      "Threshold : 0.65\tFBeta : 0.286462\n",
      "Threshold : 0.70\tFBeta : 0.292838\n",
      "Threshold : 0.75\tFBeta : 0.299257\n",
      "Threshold : 0.80\tFBeta : 0.306727\n",
      "\n"
     ]
    },
    {
     "name": "stderr",
     "output_type": "stream",
     "text": [
      "Epoch 174/500  Mem : 19.8GB  LR : 2.98E-05  Loss: 0.4583: 100%|██████████| 8/8 [00:30<00:00,  3.87s/it]                                                                                                                                                      \n",
      "Val Loss: 0.7039: 100%|██████████| 3/3 [00:08<00:00,  2.88s/it]                                                                                                                                                                                              \n"
     ]
    },
    {
     "name": "stdout",
     "output_type": "stream",
     "text": [
      "Threshold : 0.20\tFBeta : 0.241856\n",
      "Threshold : 0.25\tFBeta : 0.249670\n",
      "Threshold : 0.30\tFBeta : 0.258651\n",
      "Threshold : 0.35\tFBeta : 0.268130\n",
      "Threshold : 0.40\tFBeta : 0.276629\n",
      "Threshold : 0.45\tFBeta : 0.283407\n",
      "Threshold : 0.50\tFBeta : 0.289251\n",
      "Threshold : 0.55\tFBeta : 0.294052\n",
      "Threshold : 0.60\tFBeta : 0.297581\n",
      "Threshold : 0.65\tFBeta : 0.301589\n",
      "Threshold : 0.70\tFBeta : 0.305309\n",
      "Threshold : 0.75\tFBeta : 0.307860\n",
      "Threshold : 0.80\tFBeta : 0.309567\n",
      "\n"
     ]
    },
    {
     "name": "stderr",
     "output_type": "stream",
     "text": [
      "Epoch 175/500  Mem : 19.8GB  LR : 3.00E-05  Loss: 0.4630: 100%|██████████| 8/8 [00:31<00:00,  3.98s/it]                                                                                                                                                      \n",
      "Val Loss: 0.6663: 100%|██████████| 3/3 [00:08<00:00,  2.86s/it]                                                                                                                                                                                              \n"
     ]
    },
    {
     "name": "stdout",
     "output_type": "stream",
     "text": [
      "Threshold : 0.20\tFBeta : 0.240705\n",
      "Threshold : 0.25\tFBeta : 0.253106\n",
      "Threshold : 0.30\tFBeta : 0.262493\n",
      "Threshold : 0.35\tFBeta : 0.272450\n",
      "Threshold : 0.40\tFBeta : 0.281936\n",
      "Threshold : 0.45\tFBeta : 0.287468\n",
      "Threshold : 0.50\tFBeta : 0.292597\n",
      "Threshold : 0.55\tFBeta : 0.297551\n",
      "Threshold : 0.60\tFBeta : 0.301487\n",
      "Threshold : 0.65\tFBeta : 0.305379\n",
      "Threshold : 0.70\tFBeta : 0.308950\n",
      "Threshold : 0.75\tFBeta : 0.310931\n",
      "Threshold : 0.80\tFBeta : 0.311430\n",
      "\n"
     ]
    },
    {
     "name": "stderr",
     "output_type": "stream",
     "text": [
      "Epoch 176/500  Mem : 19.8GB  LR : 3.03E-05  Loss: 0.4583: 100%|██████████| 8/8 [00:30<00:00,  3.87s/it]                                                                                                                                                      \n",
      "Val Loss: 0.6100: 100%|██████████| 3/3 [00:08<00:00,  2.86s/it]                                                                                                                                                                                              \n"
     ]
    },
    {
     "name": "stdout",
     "output_type": "stream",
     "text": [
      "Threshold : 0.20\tFBeta : 0.245623\n",
      "Threshold : 0.25\tFBeta : 0.266945\n",
      "Threshold : 0.30\tFBeta : 0.284366\n",
      "Threshold : 0.35\tFBeta : 0.297466\n",
      "Threshold : 0.40\tFBeta : 0.307406\n",
      "Threshold : 0.45\tFBeta : 0.313623\n",
      "Threshold : 0.50\tFBeta : 0.318466\n",
      "Threshold : 0.55\tFBeta : 0.322966\n",
      "Threshold : 0.60\tFBeta : 0.326135\n",
      "Threshold : 0.65\tFBeta : 0.328348\n",
      "Threshold : 0.70\tFBeta : 0.329053\n",
      "Threshold : 0.75\tFBeta : 0.328892\n",
      "Threshold : 0.80\tFBeta : 0.325876\n",
      "\n"
     ]
    },
    {
     "name": "stderr",
     "output_type": "stream",
     "text": [
      "Epoch 177/500  Mem : 19.8GB  LR : 3.06E-05  Loss: 0.4450: 100%|██████████| 8/8 [00:31<00:00,  3.95s/it]                                                                                                                                                      \n",
      "Val Loss: 0.5949: 100%|██████████| 3/3 [00:08<00:00,  2.91s/it]                                                                                                                                                                                              \n"
     ]
    },
    {
     "name": "stdout",
     "output_type": "stream",
     "text": [
      "Threshold : 0.20\tFBeta : 0.246426\n",
      "Threshold : 0.25\tFBeta : 0.269161\n",
      "Threshold : 0.30\tFBeta : 0.289667\n",
      "Threshold : 0.35\tFBeta : 0.301530\n",
      "Threshold : 0.40\tFBeta : 0.311386\n",
      "Threshold : 0.45\tFBeta : 0.319476\n",
      "Threshold : 0.50\tFBeta : 0.324031\n",
      "Threshold : 0.55\tFBeta : 0.327910\n",
      "Threshold : 0.60\tFBeta : 0.331838\n",
      "Threshold : 0.65\tFBeta : 0.334128\n",
      "Threshold : 0.70\tFBeta : 0.334703\n",
      "Threshold : 0.75\tFBeta : 0.332000\n",
      "Threshold : 0.80\tFBeta : 0.325346\n",
      "\n"
     ]
    },
    {
     "name": "stderr",
     "output_type": "stream",
     "text": [
      "Epoch 178/500  Mem : 19.8GB  LR : 3.08E-05  Loss: 0.4592: 100%|██████████| 8/8 [00:30<00:00,  3.83s/it]                                                                                                                                                      \n",
      "Val Loss: 0.7167: 100%|██████████| 3/3 [00:08<00:00,  2.86s/it]                                                                                                                                                                                              \n"
     ]
    },
    {
     "name": "stdout",
     "output_type": "stream",
     "text": [
      "Threshold : 0.20\tFBeta : 0.238402\n",
      "Threshold : 0.25\tFBeta : 0.248700\n",
      "Threshold : 0.30\tFBeta : 0.257841\n",
      "Threshold : 0.35\tFBeta : 0.266187\n",
      "Threshold : 0.40\tFBeta : 0.273666\n",
      "Threshold : 0.45\tFBeta : 0.280364\n",
      "Threshold : 0.50\tFBeta : 0.287635\n",
      "Threshold : 0.55\tFBeta : 0.294756\n",
      "Threshold : 0.60\tFBeta : 0.301212\n",
      "Threshold : 0.65\tFBeta : 0.306922\n",
      "Threshold : 0.70\tFBeta : 0.313085\n",
      "Threshold : 0.75\tFBeta : 0.320442\n",
      "Threshold : 0.80\tFBeta : 0.327158\n",
      "\n"
     ]
    },
    {
     "name": "stderr",
     "output_type": "stream",
     "text": [
      "Epoch 179/500  Mem : 19.8GB  LR : 3.11E-05  Loss: 0.4614: 100%|██████████| 8/8 [00:31<00:00,  3.94s/it]                                                                                                                                                      \n",
      "Val Loss: 0.6604: 100%|██████████| 3/3 [00:08<00:00,  2.92s/it]                                                                                                                                                                                              \n"
     ]
    },
    {
     "name": "stdout",
     "output_type": "stream",
     "text": [
      "Threshold : 0.20\tFBeta : 0.239389\n",
      "Threshold : 0.25\tFBeta : 0.257212\n",
      "Threshold : 0.30\tFBeta : 0.272274\n",
      "Threshold : 0.35\tFBeta : 0.283796\n",
      "Threshold : 0.40\tFBeta : 0.292303\n",
      "Threshold : 0.45\tFBeta : 0.300189\n",
      "Threshold : 0.50\tFBeta : 0.307276\n",
      "Threshold : 0.55\tFBeta : 0.314236\n",
      "Threshold : 0.60\tFBeta : 0.320124\n",
      "Threshold : 0.65\tFBeta : 0.326129\n",
      "Threshold : 0.70\tFBeta : 0.331176\n",
      "Threshold : 0.75\tFBeta : 0.336632\n",
      "Threshold : 0.80\tFBeta : 0.341326\n",
      "\n"
     ]
    },
    {
     "name": "stderr",
     "output_type": "stream",
     "text": [
      "Epoch 180/500  Mem : 19.8GB  LR : 3.14E-05  Loss: 0.4582: 100%|██████████| 8/8 [00:31<00:00,  3.98s/it]                                                                                                                                                      \n",
      "Val Loss: 0.6545: 100%|██████████| 3/3 [00:08<00:00,  2.85s/it]                                                                                                                                                                                              \n"
     ]
    },
    {
     "name": "stdout",
     "output_type": "stream",
     "text": [
      "Threshold : 0.20\tFBeta : 0.238596\n",
      "Threshold : 0.25\tFBeta : 0.250806\n",
      "Threshold : 0.30\tFBeta : 0.262583\n",
      "Threshold : 0.35\tFBeta : 0.273170\n",
      "Threshold : 0.40\tFBeta : 0.282689\n",
      "Threshold : 0.45\tFBeta : 0.291432\n",
      "Threshold : 0.50\tFBeta : 0.299873\n",
      "Threshold : 0.55\tFBeta : 0.309319\n",
      "Threshold : 0.60\tFBeta : 0.315782\n",
      "Threshold : 0.65\tFBeta : 0.321510\n",
      "Threshold : 0.70\tFBeta : 0.327333\n",
      "Threshold : 0.75\tFBeta : 0.332616\n",
      "Threshold : 0.80\tFBeta : 0.336649\n",
      "\n"
     ]
    },
    {
     "name": "stderr",
     "output_type": "stream",
     "text": [
      "Epoch 181/500  Mem : 19.8GB  LR : 3.17E-05  Loss: 0.4614: 100%|██████████| 8/8 [00:30<00:00,  3.85s/it]                                                                                                                                                      \n",
      "Val Loss: 0.7303: 100%|██████████| 3/3 [00:08<00:00,  2.86s/it]                                                                                                                                                                                              \n"
     ]
    },
    {
     "name": "stdout",
     "output_type": "stream",
     "text": [
      "Threshold : 0.20\tFBeta : 0.238795\n",
      "Threshold : 0.25\tFBeta : 0.248571\n",
      "Threshold : 0.30\tFBeta : 0.255585\n",
      "Threshold : 0.35\tFBeta : 0.261961\n",
      "Threshold : 0.40\tFBeta : 0.267043\n",
      "Threshold : 0.45\tFBeta : 0.270077\n",
      "Threshold : 0.50\tFBeta : 0.272782\n",
      "Threshold : 0.55\tFBeta : 0.275494\n",
      "Threshold : 0.60\tFBeta : 0.278992\n",
      "Threshold : 0.65\tFBeta : 0.283167\n",
      "Threshold : 0.70\tFBeta : 0.287174\n",
      "Threshold : 0.75\tFBeta : 0.290232\n",
      "Threshold : 0.80\tFBeta : 0.292863\n",
      "\n"
     ]
    },
    {
     "name": "stderr",
     "output_type": "stream",
     "text": [
      "Epoch 182/500  Mem : 19.8GB  LR : 3.19E-05  Loss: 0.4509: 100%|██████████| 8/8 [00:31<00:00,  3.91s/it]                                                                                                                                                      \n",
      "Val Loss: 0.6921: 100%|██████████| 3/3 [00:08<00:00,  2.85s/it]                                                                                                                                                                                              \n"
     ]
    },
    {
     "name": "stdout",
     "output_type": "stream",
     "text": [
      "Threshold : 0.20\tFBeta : 0.239887\n",
      "Threshold : 0.25\tFBeta : 0.250728\n",
      "Threshold : 0.30\tFBeta : 0.259792\n",
      "Threshold : 0.35\tFBeta : 0.268115\n",
      "Threshold : 0.40\tFBeta : 0.274692\n",
      "Threshold : 0.45\tFBeta : 0.277189\n",
      "Threshold : 0.50\tFBeta : 0.276828\n",
      "Threshold : 0.55\tFBeta : 0.277557\n",
      "Threshold : 0.60\tFBeta : 0.278052\n",
      "Threshold : 0.65\tFBeta : 0.279379\n",
      "Threshold : 0.70\tFBeta : 0.279738\n",
      "Threshold : 0.75\tFBeta : 0.278281\n",
      "Threshold : 0.80\tFBeta : 0.276203\n",
      "\n"
     ]
    },
    {
     "name": "stderr",
     "output_type": "stream",
     "text": [
      "Epoch 183/500  Mem : 19.8GB  LR : 3.22E-05  Loss: 0.4450: 100%|██████████| 8/8 [00:30<00:00,  3.85s/it]                                                                                                                                                      \n",
      "Val Loss: 0.8024: 100%|██████████| 3/3 [00:08<00:00,  2.87s/it]                                                                                                                                                                                              \n"
     ]
    },
    {
     "name": "stdout",
     "output_type": "stream",
     "text": [
      "Threshold : 0.20\tFBeta : 0.239378\n",
      "Threshold : 0.25\tFBeta : 0.247627\n",
      "Threshold : 0.30\tFBeta : 0.254112\n",
      "Threshold : 0.35\tFBeta : 0.260646\n",
      "Threshold : 0.40\tFBeta : 0.266896\n",
      "Threshold : 0.45\tFBeta : 0.272794\n",
      "Threshold : 0.50\tFBeta : 0.278332\n",
      "Threshold : 0.55\tFBeta : 0.283201\n",
      "Threshold : 0.60\tFBeta : 0.288477\n",
      "Threshold : 0.65\tFBeta : 0.293747\n",
      "Threshold : 0.70\tFBeta : 0.299454\n",
      "Threshold : 0.75\tFBeta : 0.306240\n",
      "Threshold : 0.80\tFBeta : 0.313437\n",
      "\n"
     ]
    },
    {
     "name": "stderr",
     "output_type": "stream",
     "text": [
      "Epoch 184/500  Mem : 19.8GB  LR : 3.25E-05  Loss: 0.4441: 100%|██████████| 8/8 [00:31<00:00,  3.93s/it]                                                                                                                                                      \n",
      "Val Loss: 0.7373: 100%|██████████| 3/3 [00:08<00:00,  2.91s/it]                                                                                                                                                                                              \n"
     ]
    },
    {
     "name": "stdout",
     "output_type": "stream",
     "text": [
      "Threshold : 0.20\tFBeta : 0.242431\n",
      "Threshold : 0.25\tFBeta : 0.251997\n",
      "Threshold : 0.30\tFBeta : 0.260131\n",
      "Threshold : 0.35\tFBeta : 0.268015\n",
      "Threshold : 0.40\tFBeta : 0.274519\n",
      "Threshold : 0.45\tFBeta : 0.280015\n",
      "Threshold : 0.50\tFBeta : 0.285178\n",
      "Threshold : 0.55\tFBeta : 0.291267\n",
      "Threshold : 0.60\tFBeta : 0.297401\n",
      "Threshold : 0.65\tFBeta : 0.303140\n",
      "Threshold : 0.70\tFBeta : 0.308508\n",
      "Threshold : 0.75\tFBeta : 0.313933\n",
      "Threshold : 0.80\tFBeta : 0.320072\n",
      "\n"
     ]
    },
    {
     "name": "stderr",
     "output_type": "stream",
     "text": [
      "Epoch 185/500  Mem : 19.8GB  LR : 3.28E-05  Loss: 0.4414: 100%|██████████| 8/8 [00:32<00:00,  4.00s/it]                                                                                                                                                      \n",
      "Val Loss: 0.8553: 100%|██████████| 3/3 [00:08<00:00,  2.86s/it]                                                                                                                                                                                              \n"
     ]
    },
    {
     "name": "stdout",
     "output_type": "stream",
     "text": [
      "Threshold : 0.20\tFBeta : 0.235894\n",
      "Threshold : 0.25\tFBeta : 0.243704\n",
      "Threshold : 0.30\tFBeta : 0.248369\n",
      "Threshold : 0.35\tFBeta : 0.252438\n",
      "Threshold : 0.40\tFBeta : 0.256768\n",
      "Threshold : 0.45\tFBeta : 0.261173\n",
      "Threshold : 0.50\tFBeta : 0.265981\n",
      "Threshold : 0.55\tFBeta : 0.270629\n",
      "Threshold : 0.60\tFBeta : 0.275361\n",
      "Threshold : 0.65\tFBeta : 0.280095\n",
      "Threshold : 0.70\tFBeta : 0.285395\n",
      "Threshold : 0.75\tFBeta : 0.291823\n",
      "Threshold : 0.80\tFBeta : 0.299432\n",
      "\n"
     ]
    },
    {
     "name": "stderr",
     "output_type": "stream",
     "text": [
      "Epoch 186/500  Mem : 19.8GB  LR : 3.30E-05  Loss: 0.4517: 100%|██████████| 8/8 [00:31<00:00,  3.94s/it]                                                                                                                                                      \n",
      "Val Loss: 0.7093: 100%|██████████| 3/3 [00:08<00:00,  2.85s/it]                                                                                                                                                                                              \n"
     ]
    },
    {
     "name": "stdout",
     "output_type": "stream",
     "text": [
      "Threshold : 0.20\tFBeta : 0.239777\n",
      "Threshold : 0.25\tFBeta : 0.251401\n",
      "Threshold : 0.30\tFBeta : 0.262042\n",
      "Threshold : 0.35\tFBeta : 0.272174\n",
      "Threshold : 0.40\tFBeta : 0.280418\n",
      "Threshold : 0.45\tFBeta : 0.287965\n",
      "Threshold : 0.50\tFBeta : 0.295418\n",
      "Threshold : 0.55\tFBeta : 0.302707\n",
      "Threshold : 0.60\tFBeta : 0.308948\n",
      "Threshold : 0.65\tFBeta : 0.315831\n",
      "Threshold : 0.70\tFBeta : 0.323240\n",
      "Threshold : 0.75\tFBeta : 0.330896\n",
      "Threshold : 0.80\tFBeta : 0.338781\n",
      "\n"
     ]
    },
    {
     "name": "stderr",
     "output_type": "stream",
     "text": [
      "Epoch 187/500  Mem : 19.8GB  LR : 3.33E-05  Loss: 0.4511: 100%|██████████| 8/8 [00:31<00:00,  3.94s/it]                                                                                                                                                      \n",
      "Val Loss: 0.7438: 100%|██████████| 3/3 [00:08<00:00,  2.91s/it]                                                                                                                                                                                              \n"
     ]
    },
    {
     "name": "stdout",
     "output_type": "stream",
     "text": [
      "Threshold : 0.20\tFBeta : 0.239541\n",
      "Threshold : 0.25\tFBeta : 0.249255\n",
      "Threshold : 0.30\tFBeta : 0.257480\n",
      "Threshold : 0.35\tFBeta : 0.264499\n",
      "Threshold : 0.40\tFBeta : 0.271425\n",
      "Threshold : 0.45\tFBeta : 0.277919\n",
      "Threshold : 0.50\tFBeta : 0.283824\n",
      "Threshold : 0.55\tFBeta : 0.289124\n",
      "Threshold : 0.60\tFBeta : 0.294507\n",
      "Threshold : 0.65\tFBeta : 0.299941\n",
      "Threshold : 0.70\tFBeta : 0.305454\n",
      "Threshold : 0.75\tFBeta : 0.311133\n",
      "Threshold : 0.80\tFBeta : 0.316948\n",
      "\n"
     ]
    },
    {
     "name": "stderr",
     "output_type": "stream",
     "text": [
      "Epoch 188/500  Mem : 19.8GB  LR : 3.36E-05  Loss: 0.4592: 100%|██████████| 8/8 [00:31<00:00,  3.95s/it]                                                                                                                                                      \n",
      "Val Loss: 0.7764: 100%|██████████| 3/3 [00:08<00:00,  2.86s/it]                                                                                                                                                                                              \n"
     ]
    },
    {
     "name": "stdout",
     "output_type": "stream",
     "text": [
      "Threshold : 0.20\tFBeta : 0.235909\n",
      "Threshold : 0.25\tFBeta : 0.247923\n",
      "Threshold : 0.30\tFBeta : 0.256169\n",
      "Threshold : 0.35\tFBeta : 0.262952\n",
      "Threshold : 0.40\tFBeta : 0.269447\n",
      "Threshold : 0.45\tFBeta : 0.275374\n",
      "Threshold : 0.50\tFBeta : 0.281219\n",
      "Threshold : 0.55\tFBeta : 0.285481\n",
      "Threshold : 0.60\tFBeta : 0.289560\n",
      "Threshold : 0.65\tFBeta : 0.293847\n",
      "Threshold : 0.70\tFBeta : 0.298114\n",
      "Threshold : 0.75\tFBeta : 0.303131\n",
      "Threshold : 0.80\tFBeta : 0.309251\n",
      "\n"
     ]
    },
    {
     "name": "stderr",
     "output_type": "stream",
     "text": [
      "Epoch 189/500  Mem : 19.8GB  LR : 3.39E-05  Loss: 0.4430: 100%|██████████| 8/8 [00:31<00:00,  3.88s/it]                                                                                                                                                      \n",
      "Val Loss: 0.6264: 100%|██████████| 3/3 [00:08<00:00,  2.86s/it]                                                                                                                                                                                              \n"
     ]
    },
    {
     "name": "stdout",
     "output_type": "stream",
     "text": [
      "Threshold : 0.20\tFBeta : 0.250849\n",
      "Threshold : 0.25\tFBeta : 0.264992\n",
      "Threshold : 0.30\tFBeta : 0.279463\n",
      "Threshold : 0.35\tFBeta : 0.291318\n",
      "Threshold : 0.40\tFBeta : 0.299743\n",
      "Threshold : 0.45\tFBeta : 0.305870\n",
      "Threshold : 0.50\tFBeta : 0.311687\n",
      "Threshold : 0.55\tFBeta : 0.315196\n",
      "Threshold : 0.60\tFBeta : 0.319617\n",
      "Threshold : 0.65\tFBeta : 0.324497\n",
      "Threshold : 0.70\tFBeta : 0.330031\n",
      "Threshold : 0.75\tFBeta : 0.335540\n",
      "Threshold : 0.80\tFBeta : 0.339919\n",
      "\n"
     ]
    },
    {
     "name": "stderr",
     "output_type": "stream",
     "text": [
      "Epoch 190/500  Mem : 19.8GB  LR : 3.42E-05  Loss: 0.4401: 100%|██████████| 8/8 [00:31<00:00,  3.94s/it]                                                                                                                                                      \n",
      "Val Loss: 0.6733: 100%|██████████| 3/3 [00:08<00:00,  2.86s/it]                                                                                                                                                                                              \n"
     ]
    },
    {
     "name": "stdout",
     "output_type": "stream",
     "text": [
      "Threshold : 0.20\tFBeta : 0.244181\n",
      "Threshold : 0.25\tFBeta : 0.254881\n",
      "Threshold : 0.30\tFBeta : 0.264079\n",
      "Threshold : 0.35\tFBeta : 0.270816\n",
      "Threshold : 0.40\tFBeta : 0.276412\n",
      "Threshold : 0.45\tFBeta : 0.280862\n",
      "Threshold : 0.50\tFBeta : 0.284848\n",
      "Threshold : 0.55\tFBeta : 0.286887\n",
      "Threshold : 0.60\tFBeta : 0.288481\n",
      "Threshold : 0.65\tFBeta : 0.289821\n",
      "Threshold : 0.70\tFBeta : 0.290500\n",
      "Threshold : 0.75\tFBeta : 0.290631\n",
      "Threshold : 0.80\tFBeta : 0.290251\n",
      "\n"
     ]
    },
    {
     "name": "stderr",
     "output_type": "stream",
     "text": [
      "Epoch 191/500  Mem : 19.8GB  LR : 3.44E-05  Loss: 0.4542: 100%|██████████| 8/8 [00:30<00:00,  3.82s/it]                                                                                                                                                      \n",
      "Val Loss: 1.0352: 100%|██████████| 3/3 [00:08<00:00,  2.91s/it]                                                                                                                                                                                              \n"
     ]
    },
    {
     "name": "stdout",
     "output_type": "stream",
     "text": [
      "Threshold : 0.20\tFBeta : 0.229525\n",
      "Threshold : 0.25\tFBeta : 0.235666\n",
      "Threshold : 0.30\tFBeta : 0.239490\n",
      "Threshold : 0.35\tFBeta : 0.243040\n",
      "Threshold : 0.40\tFBeta : 0.246189\n",
      "Threshold : 0.45\tFBeta : 0.249012\n",
      "Threshold : 0.50\tFBeta : 0.251931\n",
      "Threshold : 0.55\tFBeta : 0.254982\n",
      "Threshold : 0.60\tFBeta : 0.258187\n",
      "Threshold : 0.65\tFBeta : 0.261752\n",
      "Threshold : 0.70\tFBeta : 0.266207\n",
      "Threshold : 0.75\tFBeta : 0.271232\n",
      "Threshold : 0.80\tFBeta : 0.277403\n",
      "\n"
     ]
    },
    {
     "name": "stderr",
     "output_type": "stream",
     "text": [
      "Epoch 192/500  Mem : 19.8GB  LR : 3.47E-05  Loss: 0.4345: 100%|██████████| 8/8 [00:31<00:00,  3.97s/it]                                                                                                                                                      \n",
      "Val Loss: 0.6727: 100%|██████████| 3/3 [00:08<00:00,  2.87s/it]                                                                                                                                                                                              \n"
     ]
    },
    {
     "name": "stdout",
     "output_type": "stream",
     "text": [
      "Threshold : 0.20\tFBeta : 0.247330\n",
      "Threshold : 0.25\tFBeta : 0.256567\n",
      "Threshold : 0.30\tFBeta : 0.265922\n",
      "Threshold : 0.35\tFBeta : 0.275245\n",
      "Threshold : 0.40\tFBeta : 0.284640\n",
      "Threshold : 0.45\tFBeta : 0.292566\n",
      "Threshold : 0.50\tFBeta : 0.299618\n",
      "Threshold : 0.55\tFBeta : 0.306400\n",
      "Threshold : 0.60\tFBeta : 0.311981\n",
      "Threshold : 0.65\tFBeta : 0.316811\n",
      "Threshold : 0.70\tFBeta : 0.321750\n",
      "Threshold : 0.75\tFBeta : 0.325822\n",
      "Threshold : 0.80\tFBeta : 0.329735\n",
      "\n"
     ]
    },
    {
     "name": "stderr",
     "output_type": "stream",
     "text": [
      "Epoch 193/500  Mem : 19.8GB  LR : 3.50E-05  Loss: 0.4488: 100%|██████████| 8/8 [00:31<00:00,  3.95s/it]                                                                                                                                                      \n",
      "Val Loss: 0.6777: 100%|██████████| 3/3 [00:08<00:00,  2.86s/it]                                                                                                                                                                                              \n"
     ]
    },
    {
     "name": "stdout",
     "output_type": "stream",
     "text": [
      "Threshold : 0.20\tFBeta : 0.242800\n",
      "Threshold : 0.25\tFBeta : 0.253983\n",
      "Threshold : 0.30\tFBeta : 0.263004\n",
      "Threshold : 0.35\tFBeta : 0.271634\n",
      "Threshold : 0.40\tFBeta : 0.279599\n",
      "Threshold : 0.45\tFBeta : 0.285911\n",
      "Threshold : 0.50\tFBeta : 0.291448\n",
      "Threshold : 0.55\tFBeta : 0.296228\n",
      "Threshold : 0.60\tFBeta : 0.300614\n",
      "Threshold : 0.65\tFBeta : 0.305313\n",
      "Threshold : 0.70\tFBeta : 0.309615\n",
      "Threshold : 0.75\tFBeta : 0.312727\n",
      "Threshold : 0.80\tFBeta : 0.313898\n",
      "\n"
     ]
    },
    {
     "name": "stderr",
     "output_type": "stream",
     "text": [
      "Epoch 194/500  Mem : 19.8GB  LR : 3.53E-05  Loss: 0.4333: 100%|██████████| 8/8 [00:30<00:00,  3.82s/it]                                                                                                                                                      \n",
      "Val Loss: 0.6424: 100%|██████████| 3/3 [00:08<00:00,  2.85s/it]                                                                                                                                                                                              \n"
     ]
    },
    {
     "name": "stdout",
     "output_type": "stream",
     "text": [
      "Threshold : 0.20\tFBeta : 0.248794\n",
      "Threshold : 0.25\tFBeta : 0.262191\n",
      "Threshold : 0.30\tFBeta : 0.274436\n",
      "Threshold : 0.35\tFBeta : 0.285155\n",
      "Threshold : 0.40\tFBeta : 0.292750\n",
      "Threshold : 0.45\tFBeta : 0.300078\n",
      "Threshold : 0.50\tFBeta : 0.306463\n",
      "Threshold : 0.55\tFBeta : 0.312782\n",
      "Threshold : 0.60\tFBeta : 0.318228\n",
      "Threshold : 0.65\tFBeta : 0.322796\n",
      "Threshold : 0.70\tFBeta : 0.327471\n",
      "Threshold : 0.75\tFBeta : 0.331887\n",
      "Threshold : 0.80\tFBeta : 0.334492\n",
      "\n"
     ]
    },
    {
     "name": "stderr",
     "output_type": "stream",
     "text": [
      "Epoch 195/500  Mem : 19.8GB  LR : 3.56E-05  Loss: 0.4363: 100%|██████████| 8/8 [00:32<00:00,  4.02s/it]                                                                                                                                                      \n",
      "Val Loss: 0.5910: 100%|██████████| 3/3 [00:08<00:00,  2.87s/it]                                                                                                                                                                                              \n"
     ]
    },
    {
     "name": "stdout",
     "output_type": "stream",
     "text": [
      "Threshold : 0.20\tFBeta : 0.257520\n",
      "Threshold : 0.25\tFBeta : 0.278201\n",
      "Threshold : 0.30\tFBeta : 0.297545\n",
      "Threshold : 0.35\tFBeta : 0.308439\n",
      "Threshold : 0.40\tFBeta : 0.314121\n",
      "Threshold : 0.45\tFBeta : 0.316528\n",
      "Threshold : 0.50\tFBeta : 0.321026\n",
      "Threshold : 0.55\tFBeta : 0.323769\n",
      "Threshold : 0.60\tFBeta : 0.325654\n",
      "Threshold : 0.65\tFBeta : 0.326035\n",
      "Threshold : 0.70\tFBeta : 0.323859\n",
      "Threshold : 0.75\tFBeta : 0.319177\n",
      "Threshold : 0.80\tFBeta : 0.308519\n",
      "\n"
     ]
    },
    {
     "name": "stderr",
     "output_type": "stream",
     "text": [
      "Epoch 196/500  Mem : 19.8GB  LR : 3.59E-05  Loss: 0.4576: 100%|██████████| 8/8 [00:31<00:00,  3.89s/it]                                                                                                                                                      \n",
      "Val Loss: 1.1147: 100%|██████████| 3/3 [00:08<00:00,  2.84s/it]                                                                                                                                                                                              \n"
     ]
    },
    {
     "name": "stdout",
     "output_type": "stream",
     "text": [
      "Threshold : 0.20\tFBeta : 0.228587\n",
      "Threshold : 0.25\tFBeta : 0.234869\n",
      "Threshold : 0.30\tFBeta : 0.239669\n",
      "Threshold : 0.35\tFBeta : 0.243297\n",
      "Threshold : 0.40\tFBeta : 0.246179\n",
      "Threshold : 0.45\tFBeta : 0.248799\n",
      "Threshold : 0.50\tFBeta : 0.251156\n",
      "Threshold : 0.55\tFBeta : 0.253527\n",
      "Threshold : 0.60\tFBeta : 0.256059\n",
      "Threshold : 0.65\tFBeta : 0.259036\n",
      "Threshold : 0.70\tFBeta : 0.262614\n",
      "Threshold : 0.75\tFBeta : 0.266598\n",
      "Threshold : 0.80\tFBeta : 0.271020\n",
      "\n"
     ]
    },
    {
     "name": "stderr",
     "output_type": "stream",
     "text": [
      "Epoch 197/500  Mem : 19.8GB  LR : 3.61E-05  Loss: 0.4340: 100%|██████████| 8/8 [00:31<00:00,  3.88s/it]                                                                                                                                                      \n",
      "Val Loss: 0.7103: 100%|██████████| 3/3 [00:08<00:00,  2.86s/it]                                                                                                                                                                                              \n"
     ]
    },
    {
     "name": "stdout",
     "output_type": "stream",
     "text": [
      "Threshold : 0.20\tFBeta : 0.241834\n",
      "Threshold : 0.25\tFBeta : 0.251011\n",
      "Threshold : 0.30\tFBeta : 0.259268\n",
      "Threshold : 0.35\tFBeta : 0.266842\n",
      "Threshold : 0.40\tFBeta : 0.274127\n",
      "Threshold : 0.45\tFBeta : 0.281652\n",
      "Threshold : 0.50\tFBeta : 0.288542\n",
      "Threshold : 0.55\tFBeta : 0.295102\n",
      "Threshold : 0.60\tFBeta : 0.301172\n",
      "Threshold : 0.65\tFBeta : 0.306785\n",
      "Threshold : 0.70\tFBeta : 0.312032\n",
      "Threshold : 0.75\tFBeta : 0.317099\n",
      "Threshold : 0.80\tFBeta : 0.321689\n",
      "\n"
     ]
    },
    {
     "name": "stderr",
     "output_type": "stream",
     "text": [
      "Epoch 198/500  Mem : 19.8GB  LR : 3.64E-05  Loss: 0.4319: 100%|██████████| 8/8 [00:31<00:00,  3.96s/it]                                                                                                                                                      \n",
      "Val Loss: 0.7288: 100%|██████████| 3/3 [00:08<00:00,  2.85s/it]                                                                                                                                                                                              \n"
     ]
    },
    {
     "name": "stdout",
     "output_type": "stream",
     "text": [
      "Threshold : 0.20\tFBeta : 0.244366\n",
      "Threshold : 0.25\tFBeta : 0.250519\n",
      "Threshold : 0.30\tFBeta : 0.256401\n",
      "Threshold : 0.35\tFBeta : 0.262944\n",
      "Threshold : 0.40\tFBeta : 0.269417\n",
      "Threshold : 0.45\tFBeta : 0.275852\n",
      "Threshold : 0.50\tFBeta : 0.282108\n",
      "Threshold : 0.55\tFBeta : 0.287441\n",
      "Threshold : 0.60\tFBeta : 0.292186\n",
      "Threshold : 0.65\tFBeta : 0.297736\n",
      "Threshold : 0.70\tFBeta : 0.302298\n",
      "Threshold : 0.75\tFBeta : 0.306167\n",
      "Threshold : 0.80\tFBeta : 0.307897\n",
      "\n"
     ]
    },
    {
     "name": "stderr",
     "output_type": "stream",
     "text": [
      "Epoch 199/500  Mem : 19.8GB  LR : 3.67E-05  Loss: 0.4376: 100%|██████████| 8/8 [00:31<00:00,  3.91s/it]                                                                                                                                                      \n",
      "Val Loss: 0.7042: 100%|██████████| 3/3 [00:08<00:00,  2.91s/it]                                                                                                                                                                                              \n"
     ]
    },
    {
     "name": "stdout",
     "output_type": "stream",
     "text": [
      "Threshold : 0.20\tFBeta : 0.241325\n",
      "Threshold : 0.25\tFBeta : 0.250603\n",
      "Threshold : 0.30\tFBeta : 0.258785\n",
      "Threshold : 0.35\tFBeta : 0.267627\n",
      "Threshold : 0.40\tFBeta : 0.275171\n",
      "Threshold : 0.45\tFBeta : 0.282029\n",
      "Threshold : 0.50\tFBeta : 0.287695\n",
      "Threshold : 0.55\tFBeta : 0.292995\n",
      "Threshold : 0.60\tFBeta : 0.297600\n",
      "Threshold : 0.65\tFBeta : 0.301324\n",
      "Threshold : 0.70\tFBeta : 0.304621\n",
      "Threshold : 0.75\tFBeta : 0.307368\n",
      "Threshold : 0.80\tFBeta : 0.309206\n",
      "\n"
     ]
    },
    {
     "name": "stderr",
     "output_type": "stream",
     "text": [
      "Epoch 200/500  Mem : 19.8GB  LR : 3.70E-05  Loss: 0.4293: 100%|██████████| 8/8 [00:31<00:00,  3.93s/it]                                                                                                                                                      \n",
      "Val Loss: 0.7583: 100%|██████████| 3/3 [00:08<00:00,  2.85s/it]                                                                                                                                                                                              \n"
     ]
    },
    {
     "name": "stdout",
     "output_type": "stream",
     "text": [
      "Threshold : 0.20\tFBeta : 0.242402\n",
      "Threshold : 0.25\tFBeta : 0.248959\n",
      "Threshold : 0.30\tFBeta : 0.254701\n",
      "Threshold : 0.35\tFBeta : 0.260987\n",
      "Threshold : 0.40\tFBeta : 0.267135\n",
      "Threshold : 0.45\tFBeta : 0.272894\n",
      "Threshold : 0.50\tFBeta : 0.278896\n",
      "Threshold : 0.55\tFBeta : 0.285020\n",
      "Threshold : 0.60\tFBeta : 0.290524\n",
      "Threshold : 0.65\tFBeta : 0.295583\n",
      "Threshold : 0.70\tFBeta : 0.300531\n",
      "Threshold : 0.75\tFBeta : 0.306299\n",
      "Threshold : 0.80\tFBeta : 0.312831\n",
      "\n"
     ]
    },
    {
     "name": "stderr",
     "output_type": "stream",
     "text": [
      "Epoch 201/500  Mem : 19.8GB  LR : 3.73E-05  Loss: 0.4156: 100%|██████████| 8/8 [00:31<00:00,  3.95s/it]                                                                                                                                                      \n",
      "Val Loss: 0.5844: 100%|██████████| 3/3 [00:08<00:00,  2.85s/it]                                                                                                                                                                                              \n"
     ]
    },
    {
     "name": "stdout",
     "output_type": "stream",
     "text": [
      "Threshold : 0.20\tFBeta : 0.265064\n",
      "Threshold : 0.25\tFBeta : 0.282161\n",
      "Threshold : 0.30\tFBeta : 0.295024\n",
      "Threshold : 0.35\tFBeta : 0.302430\n",
      "Threshold : 0.40\tFBeta : 0.307309\n",
      "Threshold : 0.45\tFBeta : 0.311237\n",
      "Threshold : 0.50\tFBeta : 0.312562\n",
      "Threshold : 0.55\tFBeta : 0.313398\n",
      "Threshold : 0.60\tFBeta : 0.310951\n",
      "Threshold : 0.65\tFBeta : 0.306350\n",
      "Threshold : 0.70\tFBeta : 0.298141\n",
      "Threshold : 0.75\tFBeta : 0.285452\n",
      "Threshold : 0.80\tFBeta : 0.268301\n",
      "\n"
     ]
    },
    {
     "name": "stderr",
     "output_type": "stream",
     "text": [
      "Epoch 202/500  Mem : 19.8GB  LR : 3.76E-05  Loss: 0.4396: 100%|██████████| 8/8 [00:32<00:00,  4.03s/it]                                                                                                                                                      \n",
      "Val Loss: 0.6530: 100%|██████████| 3/3 [00:08<00:00,  2.91s/it]                                                                                                                                                                                              \n"
     ]
    },
    {
     "name": "stdout",
     "output_type": "stream",
     "text": [
      "Threshold : 0.20\tFBeta : 0.244713\n",
      "Threshold : 0.25\tFBeta : 0.258391\n",
      "Threshold : 0.30\tFBeta : 0.270195\n",
      "Threshold : 0.35\tFBeta : 0.278791\n",
      "Threshold : 0.40\tFBeta : 0.285148\n",
      "Threshold : 0.45\tFBeta : 0.291379\n",
      "Threshold : 0.50\tFBeta : 0.296037\n",
      "Threshold : 0.55\tFBeta : 0.299614\n",
      "Threshold : 0.60\tFBeta : 0.303373\n",
      "Threshold : 0.65\tFBeta : 0.307480\n",
      "Threshold : 0.70\tFBeta : 0.310721\n",
      "Threshold : 0.75\tFBeta : 0.314052\n",
      "Threshold : 0.80\tFBeta : 0.316132\n",
      "\n"
     ]
    },
    {
     "name": "stderr",
     "output_type": "stream",
     "text": [
      "Epoch 203/500  Mem : 19.8GB  LR : 3.79E-05  Loss: 0.4403: 100%|██████████| 8/8 [00:30<00:00,  3.87s/it]                                                                                                                                                      \n",
      "Val Loss: 0.6434: 100%|██████████| 3/3 [00:08<00:00,  2.86s/it]                                                                                                                                                                                              \n"
     ]
    },
    {
     "name": "stdout",
     "output_type": "stream",
     "text": [
      "Threshold : 0.20\tFBeta : 0.249549\n",
      "Threshold : 0.25\tFBeta : 0.263065\n",
      "Threshold : 0.30\tFBeta : 0.276524\n",
      "Threshold : 0.35\tFBeta : 0.288558\n",
      "Threshold : 0.40\tFBeta : 0.297850\n",
      "Threshold : 0.45\tFBeta : 0.305807\n",
      "Threshold : 0.50\tFBeta : 0.313658\n",
      "Threshold : 0.55\tFBeta : 0.320076\n",
      "Threshold : 0.60\tFBeta : 0.326455\n",
      "Threshold : 0.65\tFBeta : 0.332428\n",
      "Threshold : 0.70\tFBeta : 0.338623\n",
      "Threshold : 0.75\tFBeta : 0.343971\n",
      "Threshold : 0.80\tFBeta : 0.347744\n",
      "\n"
     ]
    },
    {
     "name": "stderr",
     "output_type": "stream",
     "text": [
      "Epoch 204/500  Mem : 19.8GB  LR : 3.81E-05  Loss: 0.4334: 100%|██████████| 8/8 [00:32<00:00,  4.01s/it]                                                                                                                                                      \n",
      "Val Loss: 0.6419: 100%|██████████| 3/3 [00:08<00:00,  2.86s/it]                                                                                                                                                                                              \n"
     ]
    },
    {
     "name": "stdout",
     "output_type": "stream",
     "text": [
      "Threshold : 0.20\tFBeta : 0.246395\n",
      "Threshold : 0.25\tFBeta : 0.259029\n",
      "Threshold : 0.30\tFBeta : 0.271381\n",
      "Threshold : 0.35\tFBeta : 0.283667\n",
      "Threshold : 0.40\tFBeta : 0.296345\n",
      "Threshold : 0.45\tFBeta : 0.307686\n",
      "Threshold : 0.50\tFBeta : 0.320252\n",
      "Threshold : 0.55\tFBeta : 0.331636\n",
      "Threshold : 0.60\tFBeta : 0.339667\n",
      "Threshold : 0.65\tFBeta : 0.346951\n",
      "Threshold : 0.70\tFBeta : 0.355232\n",
      "Threshold : 0.75\tFBeta : 0.362791\n",
      "Threshold : 0.80\tFBeta : 0.369208\n",
      "\n"
     ]
    },
    {
     "name": "stderr",
     "output_type": "stream",
     "text": [
      "Epoch 205/500  Mem : 19.8GB  LR : 3.84E-05  Loss: 0.4268: 100%|██████████| 8/8 [00:31<00:00,  3.89s/it]                                                                                                                                                      \n",
      "Val Loss: 0.6065: 100%|██████████| 3/3 [00:08<00:00,  2.86s/it]                                                                                                                                                                                              \n"
     ]
    },
    {
     "name": "stdout",
     "output_type": "stream",
     "text": [
      "Threshold : 0.20\tFBeta : 0.252933\n",
      "Threshold : 0.25\tFBeta : 0.267279\n",
      "Threshold : 0.30\tFBeta : 0.280562\n",
      "Threshold : 0.35\tFBeta : 0.290958\n",
      "Threshold : 0.40\tFBeta : 0.295439\n",
      "Threshold : 0.45\tFBeta : 0.297286\n",
      "Threshold : 0.50\tFBeta : 0.298401\n",
      "Threshold : 0.55\tFBeta : 0.299178\n",
      "Threshold : 0.60\tFBeta : 0.300259\n",
      "Threshold : 0.65\tFBeta : 0.300360\n",
      "Threshold : 0.70\tFBeta : 0.298416\n",
      "Threshold : 0.75\tFBeta : 0.293632\n",
      "Threshold : 0.80\tFBeta : 0.284645\n",
      "\n"
     ]
    },
    {
     "name": "stderr",
     "output_type": "stream",
     "text": [
      "Epoch 206/500  Mem : 19.8GB  LR : 3.87E-05  Loss: 0.4202: 100%|██████████| 8/8 [00:31<00:00,  3.97s/it]                                                                                                                                                      \n",
      "Val Loss: 0.6060: 100%|██████████| 3/3 [00:08<00:00,  2.91s/it]                                                                                                                                                                                              \n"
     ]
    },
    {
     "name": "stdout",
     "output_type": "stream",
     "text": [
      "Threshold : 0.20\tFBeta : 0.259421\n",
      "Threshold : 0.25\tFBeta : 0.272950\n",
      "Threshold : 0.30\tFBeta : 0.285131\n",
      "Threshold : 0.35\tFBeta : 0.292839\n",
      "Threshold : 0.40\tFBeta : 0.298961\n",
      "Threshold : 0.45\tFBeta : 0.302481\n",
      "Threshold : 0.50\tFBeta : 0.305660\n",
      "Threshold : 0.55\tFBeta : 0.309376\n",
      "Threshold : 0.60\tFBeta : 0.312407\n",
      "Threshold : 0.65\tFBeta : 0.313564\n",
      "Threshold : 0.70\tFBeta : 0.312606\n",
      "Threshold : 0.75\tFBeta : 0.309016\n",
      "Threshold : 0.80\tFBeta : 0.300193\n",
      "\n"
     ]
    },
    {
     "name": "stderr",
     "output_type": "stream",
     "text": [
      "Epoch 207/500  Mem : 19.8GB  LR : 3.90E-05  Loss: 0.4293: 100%|██████████| 8/8 [00:31<00:00,  4.00s/it]                                                                                                                                                      \n",
      "Val Loss: 0.9878: 100%|██████████| 3/3 [00:08<00:00,  2.86s/it]                                                                                                                                                                                              \n"
     ]
    },
    {
     "name": "stdout",
     "output_type": "stream",
     "text": [
      "Threshold : 0.20\tFBeta : 0.241816\n",
      "Threshold : 0.25\tFBeta : 0.246350\n",
      "Threshold : 0.30\tFBeta : 0.249121\n",
      "Threshold : 0.35\tFBeta : 0.251584\n",
      "Threshold : 0.40\tFBeta : 0.254244\n",
      "Threshold : 0.45\tFBeta : 0.256760\n",
      "Threshold : 0.50\tFBeta : 0.259349\n",
      "Threshold : 0.55\tFBeta : 0.262402\n",
      "Threshold : 0.60\tFBeta : 0.265469\n",
      "Threshold : 0.65\tFBeta : 0.268938\n",
      "Threshold : 0.70\tFBeta : 0.272822\n",
      "Threshold : 0.75\tFBeta : 0.277403\n",
      "Threshold : 0.80\tFBeta : 0.282768\n",
      "\n"
     ]
    },
    {
     "name": "stderr",
     "output_type": "stream",
     "text": [
      "Epoch 208/500  Mem : 19.8GB  LR : 3.93E-05  Loss: 0.4102: 100%|██████████| 8/8 [00:30<00:00,  3.82s/it]                                                                                                                                                      \n",
      "Val Loss: 0.6887: 100%|██████████| 3/3 [00:08<00:00,  2.91s/it]                                                                                                                                                                                              \n"
     ]
    },
    {
     "name": "stdout",
     "output_type": "stream",
     "text": [
      "Threshold : 0.20\tFBeta : 0.250410\n",
      "Threshold : 0.25\tFBeta : 0.261400\n",
      "Threshold : 0.30\tFBeta : 0.270688\n",
      "Threshold : 0.35\tFBeta : 0.279205\n",
      "Threshold : 0.40\tFBeta : 0.286079\n",
      "Threshold : 0.45\tFBeta : 0.292256\n",
      "Threshold : 0.50\tFBeta : 0.297344\n",
      "Threshold : 0.55\tFBeta : 0.302953\n",
      "Threshold : 0.60\tFBeta : 0.307894\n",
      "Threshold : 0.65\tFBeta : 0.312118\n",
      "Threshold : 0.70\tFBeta : 0.315248\n",
      "Threshold : 0.75\tFBeta : 0.318057\n",
      "Threshold : 0.80\tFBeta : 0.320639\n",
      "\n"
     ]
    },
    {
     "name": "stderr",
     "output_type": "stream",
     "text": [
      "Epoch 209/500  Mem : 19.8GB  LR : 3.96E-05  Loss: 0.4280: 100%|██████████| 8/8 [00:31<00:00,  3.97s/it]                                                                                                                                                      \n",
      "Val Loss: 0.7529: 100%|██████████| 3/3 [00:08<00:00,  2.91s/it]                                                                                                                                                                                              \n"
     ]
    },
    {
     "name": "stdout",
     "output_type": "stream",
     "text": [
      "Threshold : 0.20\tFBeta : 0.252650\n",
      "Threshold : 0.25\tFBeta : 0.261254\n",
      "Threshold : 0.30\tFBeta : 0.268577\n",
      "Threshold : 0.35\tFBeta : 0.276224\n",
      "Threshold : 0.40\tFBeta : 0.283612\n",
      "Threshold : 0.45\tFBeta : 0.290028\n",
      "Threshold : 0.50\tFBeta : 0.294993\n",
      "Threshold : 0.55\tFBeta : 0.300115\n",
      "Threshold : 0.60\tFBeta : 0.305047\n",
      "Threshold : 0.65\tFBeta : 0.310243\n",
      "Threshold : 0.70\tFBeta : 0.315919\n",
      "Threshold : 0.75\tFBeta : 0.321727\n",
      "Threshold : 0.80\tFBeta : 0.327685\n",
      "\n"
     ]
    },
    {
     "name": "stderr",
     "output_type": "stream",
     "text": [
      "Epoch 210/500  Mem : 19.8GB  LR : 3.99E-05  Loss: 0.4299: 100%|██████████| 8/8 [00:31<00:00,  3.95s/it]                                                                                                                                                      \n",
      "Val Loss: 0.5689: 100%|██████████| 3/3 [00:08<00:00,  2.86s/it]                                                                                                                                                                                              \n"
     ]
    },
    {
     "name": "stdout",
     "output_type": "stream",
     "text": [
      "Threshold : 0.20\tFBeta : 0.275568\n",
      "Threshold : 0.25\tFBeta : 0.300240\n",
      "Threshold : 0.30\tFBeta : 0.313352\n",
      "Threshold : 0.35\tFBeta : 0.321042\n",
      "Threshold : 0.40\tFBeta : 0.326344\n",
      "Threshold : 0.45\tFBeta : 0.329267\n",
      "Threshold : 0.50\tFBeta : 0.330266\n",
      "Threshold : 0.55\tFBeta : 0.332478\n",
      "Threshold : 0.60\tFBeta : 0.333541\n",
      "Threshold : 0.65\tFBeta : 0.332219\n",
      "Threshold : 0.70\tFBeta : 0.327640\n",
      "Threshold : 0.75\tFBeta : 0.315583\n",
      "Threshold : 0.80\tFBeta : 0.298427\n",
      "\n"
     ]
    },
    {
     "name": "stderr",
     "output_type": "stream",
     "text": [
      "Epoch 211/500  Mem : 19.8GB  LR : 4.02E-05  Loss: 0.4217: 100%|██████████| 8/8 [00:32<00:00,  4.02s/it]                                                                                                                                                      \n",
      "Val Loss: 0.7978: 100%|██████████| 3/3 [00:08<00:00,  2.88s/it]                                                                                                                                                                                              \n"
     ]
    },
    {
     "name": "stdout",
     "output_type": "stream",
     "text": [
      "Threshold : 0.20\tFBeta : 0.240030\n",
      "Threshold : 0.25\tFBeta : 0.247038\n",
      "Threshold : 0.30\tFBeta : 0.251964\n",
      "Threshold : 0.35\tFBeta : 0.257040\n",
      "Threshold : 0.40\tFBeta : 0.262329\n",
      "Threshold : 0.45\tFBeta : 0.267660\n",
      "Threshold : 0.50\tFBeta : 0.272201\n",
      "Threshold : 0.55\tFBeta : 0.276909\n",
      "Threshold : 0.60\tFBeta : 0.281742\n",
      "Threshold : 0.65\tFBeta : 0.286710\n",
      "Threshold : 0.70\tFBeta : 0.292046\n",
      "Threshold : 0.75\tFBeta : 0.297974\n",
      "Threshold : 0.80\tFBeta : 0.305329\n",
      "\n"
     ]
    },
    {
     "name": "stderr",
     "output_type": "stream",
     "text": [
      "Epoch 212/500  Mem : 19.8GB  LR : 4.05E-05  Loss: 0.4194: 100%|██████████| 8/8 [00:31<00:00,  4.00s/it]                                                                                                                                                      \n",
      "Val Loss: 0.7228: 100%|██████████| 3/3 [00:08<00:00,  2.86s/it]                                                                                                                                                                                              \n"
     ]
    },
    {
     "name": "stdout",
     "output_type": "stream",
     "text": [
      "Threshold : 0.20\tFBeta : 0.247565\n",
      "Threshold : 0.25\tFBeta : 0.254993\n",
      "Threshold : 0.30\tFBeta : 0.261855\n",
      "Threshold : 0.35\tFBeta : 0.267646\n",
      "Threshold : 0.40\tFBeta : 0.272986\n",
      "Threshold : 0.45\tFBeta : 0.277402\n",
      "Threshold : 0.50\tFBeta : 0.281463\n",
      "Threshold : 0.55\tFBeta : 0.286333\n",
      "Threshold : 0.60\tFBeta : 0.291947\n",
      "Threshold : 0.65\tFBeta : 0.297732\n",
      "Threshold : 0.70\tFBeta : 0.302842\n",
      "Threshold : 0.75\tFBeta : 0.308684\n",
      "Threshold : 0.80\tFBeta : 0.317029\n",
      "\n"
     ]
    },
    {
     "name": "stderr",
     "output_type": "stream",
     "text": [
      "Epoch 213/500  Mem : 19.8GB  LR : 4.08E-05  Loss: 0.4222: 100%|██████████| 8/8 [00:31<00:00,  3.93s/it]                                                                                                                                                      \n",
      "Val Loss: 0.6972: 100%|██████████| 3/3 [00:08<00:00,  2.86s/it]                                                                                                                                                                                              \n"
     ]
    },
    {
     "name": "stdout",
     "output_type": "stream",
     "text": [
      "Threshold : 0.20\tFBeta : 0.248391\n",
      "Threshold : 0.25\tFBeta : 0.259449\n",
      "Threshold : 0.30\tFBeta : 0.268525\n",
      "Threshold : 0.35\tFBeta : 0.277028\n",
      "Threshold : 0.40\tFBeta : 0.285508\n",
      "Threshold : 0.45\tFBeta : 0.293982\n",
      "Threshold : 0.50\tFBeta : 0.302590\n",
      "Threshold : 0.55\tFBeta : 0.310178\n",
      "Threshold : 0.60\tFBeta : 0.316277\n",
      "Threshold : 0.65\tFBeta : 0.323109\n",
      "Threshold : 0.70\tFBeta : 0.330234\n",
      "Threshold : 0.75\tFBeta : 0.337804\n",
      "Threshold : 0.80\tFBeta : 0.345520\n",
      "\n"
     ]
    },
    {
     "name": "stderr",
     "output_type": "stream",
     "text": [
      "Epoch 214/500  Mem : 19.8GB  LR : 4.11E-05  Loss: 0.4327: 100%|██████████| 8/8 [00:31<00:00,  3.94s/it]                                                                                                                                                      \n",
      "Val Loss: 0.6974: 100%|██████████| 3/3 [00:08<00:00,  2.87s/it]                                                                                                                                                                                              \n"
     ]
    },
    {
     "name": "stdout",
     "output_type": "stream",
     "text": [
      "Threshold : 0.20\tFBeta : 0.245218\n",
      "Threshold : 0.25\tFBeta : 0.255878\n",
      "Threshold : 0.30\tFBeta : 0.265378\n",
      "Threshold : 0.35\tFBeta : 0.273289\n",
      "Threshold : 0.40\tFBeta : 0.279617\n",
      "Threshold : 0.45\tFBeta : 0.283988\n",
      "Threshold : 0.50\tFBeta : 0.287716\n",
      "Threshold : 0.55\tFBeta : 0.291510\n",
      "Threshold : 0.60\tFBeta : 0.295913\n",
      "Threshold : 0.65\tFBeta : 0.300109\n",
      "Threshold : 0.70\tFBeta : 0.304588\n",
      "Threshold : 0.75\tFBeta : 0.308677\n",
      "Threshold : 0.80\tFBeta : 0.313463\n",
      "\n"
     ]
    },
    {
     "name": "stderr",
     "output_type": "stream",
     "text": [
      "Epoch 215/500  Mem : 19.8GB  LR : 4.14E-05  Loss: 0.4194: 100%|██████████| 8/8 [00:30<00:00,  3.81s/it]                                                                                                                                                      \n",
      "Val Loss: 0.7192: 100%|██████████| 3/3 [00:08<00:00,  2.85s/it]                                                                                                                                                                                              \n"
     ]
    },
    {
     "name": "stdout",
     "output_type": "stream",
     "text": [
      "Threshold : 0.20\tFBeta : 0.246906\n",
      "Threshold : 0.25\tFBeta : 0.256462\n",
      "Threshold : 0.30\tFBeta : 0.265547\n",
      "Threshold : 0.35\tFBeta : 0.273650\n",
      "Threshold : 0.40\tFBeta : 0.280295\n",
      "Threshold : 0.45\tFBeta : 0.285761\n",
      "Threshold : 0.50\tFBeta : 0.291343\n",
      "Threshold : 0.55\tFBeta : 0.296976\n",
      "Threshold : 0.60\tFBeta : 0.303032\n",
      "Threshold : 0.65\tFBeta : 0.309004\n",
      "Threshold : 0.70\tFBeta : 0.316206\n",
      "Threshold : 0.75\tFBeta : 0.323830\n",
      "Threshold : 0.80\tFBeta : 0.332569\n",
      "\n"
     ]
    },
    {
     "name": "stderr",
     "output_type": "stream",
     "text": [
      "Epoch 216/500  Mem : 19.8GB  LR : 4.17E-05  Loss: 0.4172: 100%|██████████| 8/8 [00:31<00:00,  3.96s/it]                                                                                                                                                      \n",
      "Val Loss: 0.6446: 100%|██████████| 3/3 [00:08<00:00,  2.92s/it]                                                                                                                                                                                              \n"
     ]
    },
    {
     "name": "stdout",
     "output_type": "stream",
     "text": [
      "Threshold : 0.20\tFBeta : 0.259312\n",
      "Threshold : 0.25\tFBeta : 0.273046\n",
      "Threshold : 0.30\tFBeta : 0.285079\n",
      "Threshold : 0.35\tFBeta : 0.294237\n",
      "Threshold : 0.40\tFBeta : 0.300870\n",
      "Threshold : 0.45\tFBeta : 0.306962\n",
      "Threshold : 0.50\tFBeta : 0.313284\n",
      "Threshold : 0.55\tFBeta : 0.319619\n",
      "Threshold : 0.60\tFBeta : 0.326172\n",
      "Threshold : 0.65\tFBeta : 0.332676\n",
      "Threshold : 0.70\tFBeta : 0.339017\n",
      "Threshold : 0.75\tFBeta : 0.345342\n",
      "Threshold : 0.80\tFBeta : 0.351248\n",
      "\n"
     ]
    },
    {
     "name": "stderr",
     "output_type": "stream",
     "text": [
      "Epoch 217/500  Mem : 19.8GB  LR : 4.20E-05  Loss: 0.4085: 100%|██████████| 8/8 [00:31<00:00,  3.95s/it]                                                                                                                                                      \n",
      "Val Loss: 0.7781: 100%|██████████| 3/3 [00:08<00:00,  2.86s/it]                                                                                                                                                                                              \n"
     ]
    },
    {
     "name": "stdout",
     "output_type": "stream",
     "text": [
      "Threshold : 0.20\tFBeta : 0.246016\n",
      "Threshold : 0.25\tFBeta : 0.255039\n",
      "Threshold : 0.30\tFBeta : 0.262438\n",
      "Threshold : 0.35\tFBeta : 0.268941\n",
      "Threshold : 0.40\tFBeta : 0.274898\n",
      "Threshold : 0.45\tFBeta : 0.280300\n",
      "Threshold : 0.50\tFBeta : 0.285661\n",
      "Threshold : 0.55\tFBeta : 0.290898\n",
      "Threshold : 0.60\tFBeta : 0.296307\n",
      "Threshold : 0.65\tFBeta : 0.302397\n",
      "Threshold : 0.70\tFBeta : 0.308715\n",
      "Threshold : 0.75\tFBeta : 0.315389\n",
      "Threshold : 0.80\tFBeta : 0.322653\n",
      "\n"
     ]
    },
    {
     "name": "stderr",
     "output_type": "stream",
     "text": [
      "Epoch 218/500  Mem : 19.8GB  LR : 4.22E-05  Loss: 0.4142: 100%|██████████| 8/8 [00:30<00:00,  3.86s/it]                                                                                                                                                      \n",
      "Val Loss: 0.7339: 100%|██████████| 3/3 [00:08<00:00,  2.85s/it]                                                                                                                                                                                              \n"
     ]
    },
    {
     "name": "stdout",
     "output_type": "stream",
     "text": [
      "Threshold : 0.20\tFBeta : 0.245786\n",
      "Threshold : 0.25\tFBeta : 0.255044\n",
      "Threshold : 0.30\tFBeta : 0.262886\n",
      "Threshold : 0.35\tFBeta : 0.269969\n",
      "Threshold : 0.40\tFBeta : 0.275847\n",
      "Threshold : 0.45\tFBeta : 0.280692\n",
      "Threshold : 0.50\tFBeta : 0.284730\n",
      "Threshold : 0.55\tFBeta : 0.288830\n",
      "Threshold : 0.60\tFBeta : 0.293319\n",
      "Threshold : 0.65\tFBeta : 0.297869\n",
      "Threshold : 0.70\tFBeta : 0.301902\n",
      "Threshold : 0.75\tFBeta : 0.306945\n",
      "Threshold : 0.80\tFBeta : 0.311944\n",
      "\n"
     ]
    },
    {
     "name": "stderr",
     "output_type": "stream",
     "text": [
      "Epoch 219/500  Mem : 19.8GB  LR : 4.25E-05  Loss: 0.4085: 100%|██████████| 8/8 [00:31<00:00,  3.89s/it]                                                                                                                                                      \n",
      "Val Loss: 0.8197: 100%|██████████| 3/3 [00:08<00:00,  2.85s/it]                                                                                                                                                                                              \n"
     ]
    },
    {
     "name": "stdout",
     "output_type": "stream",
     "text": [
      "Threshold : 0.20\tFBeta : 0.239571\n",
      "Threshold : 0.25\tFBeta : 0.247888\n",
      "Threshold : 0.30\tFBeta : 0.253958\n",
      "Threshold : 0.35\tFBeta : 0.260286\n",
      "Threshold : 0.40\tFBeta : 0.265944\n",
      "Threshold : 0.45\tFBeta : 0.271014\n",
      "Threshold : 0.50\tFBeta : 0.275750\n",
      "Threshold : 0.55\tFBeta : 0.280818\n",
      "Threshold : 0.60\tFBeta : 0.286171\n",
      "Threshold : 0.65\tFBeta : 0.291718\n",
      "Threshold : 0.70\tFBeta : 0.297632\n",
      "Threshold : 0.75\tFBeta : 0.304062\n",
      "Threshold : 0.80\tFBeta : 0.311968\n",
      "\n"
     ]
    },
    {
     "name": "stderr",
     "output_type": "stream",
     "text": [
      "Epoch 220/500  Mem : 19.8GB  LR : 4.28E-05  Loss: 0.4080: 100%|██████████| 8/8 [00:31<00:00,  3.93s/it]                                                                                                                                                      \n",
      "Val Loss: 0.6113: 100%|██████████| 3/3 [00:08<00:00,  2.86s/it]                                                                                                                                                                                              \n"
     ]
    },
    {
     "name": "stdout",
     "output_type": "stream",
     "text": [
      "Threshold : 0.20\tFBeta : 0.260322\n",
      "Threshold : 0.25\tFBeta : 0.276955\n",
      "Threshold : 0.30\tFBeta : 0.292777\n",
      "Threshold : 0.35\tFBeta : 0.305869\n",
      "Threshold : 0.40\tFBeta : 0.315694\n",
      "Threshold : 0.45\tFBeta : 0.324288\n",
      "Threshold : 0.50\tFBeta : 0.331149\n",
      "Threshold : 0.55\tFBeta : 0.337874\n",
      "Threshold : 0.60\tFBeta : 0.343557\n",
      "Threshold : 0.65\tFBeta : 0.348024\n",
      "Threshold : 0.70\tFBeta : 0.353449\n",
      "Threshold : 0.75\tFBeta : 0.359431\n",
      "Threshold : 0.80\tFBeta : 0.363817\n",
      "\n"
     ]
    },
    {
     "name": "stderr",
     "output_type": "stream",
     "text": [
      "Epoch 221/500  Mem : 19.8GB  LR : 4.31E-05  Loss: 0.4043: 100%|██████████| 8/8 [00:31<00:00,  3.92s/it]                                                                                                                                                      \n",
      "Val Loss: 0.7005: 100%|██████████| 3/3 [00:08<00:00,  2.91s/it]                                                                                                                                                                                              \n"
     ]
    },
    {
     "name": "stdout",
     "output_type": "stream",
     "text": [
      "Threshold : 0.20\tFBeta : 0.245001\n",
      "Threshold : 0.25\tFBeta : 0.253429\n",
      "Threshold : 0.30\tFBeta : 0.260619\n",
      "Threshold : 0.35\tFBeta : 0.267499\n",
      "Threshold : 0.40\tFBeta : 0.275180\n",
      "Threshold : 0.45\tFBeta : 0.282256\n",
      "Threshold : 0.50\tFBeta : 0.289790\n",
      "Threshold : 0.55\tFBeta : 0.297175\n",
      "Threshold : 0.60\tFBeta : 0.303619\n",
      "Threshold : 0.65\tFBeta : 0.310127\n",
      "Threshold : 0.70\tFBeta : 0.317093\n",
      "Threshold : 0.75\tFBeta : 0.324089\n",
      "Threshold : 0.80\tFBeta : 0.330765\n",
      "\n"
     ]
    },
    {
     "name": "stderr",
     "output_type": "stream",
     "text": [
      "Epoch 222/500  Mem : 19.8GB  LR : 4.34E-05  Loss: 0.3917: 100%|██████████| 8/8 [00:31<00:00,  3.94s/it]                                                                                                                                                      \n",
      "Val Loss: 0.7188: 100%|██████████| 3/3 [00:08<00:00,  2.85s/it]                                                                                                                                                                                              \n"
     ]
    },
    {
     "name": "stdout",
     "output_type": "stream",
     "text": [
      "Threshold : 0.20\tFBeta : 0.247881\n",
      "Threshold : 0.25\tFBeta : 0.257141\n",
      "Threshold : 0.30\tFBeta : 0.265377\n",
      "Threshold : 0.35\tFBeta : 0.272825\n",
      "Threshold : 0.40\tFBeta : 0.279756\n",
      "Threshold : 0.45\tFBeta : 0.285848\n",
      "Threshold : 0.50\tFBeta : 0.291532\n",
      "Threshold : 0.55\tFBeta : 0.297535\n",
      "Threshold : 0.60\tFBeta : 0.303825\n",
      "Threshold : 0.65\tFBeta : 0.310172\n",
      "Threshold : 0.70\tFBeta : 0.316849\n",
      "Threshold : 0.75\tFBeta : 0.324332\n",
      "Threshold : 0.80\tFBeta : 0.332610\n",
      "\n"
     ]
    },
    {
     "name": "stderr",
     "output_type": "stream",
     "text": [
      "Epoch 223/500  Mem : 19.8GB  LR : 4.37E-05  Loss: 0.4076: 100%|██████████| 8/8 [00:31<00:00,  3.90s/it]                                                                                                                                                      \n",
      "Val Loss: 0.6395: 100%|██████████| 3/3 [00:08<00:00,  2.87s/it]                                                                                                                                                                                              \n"
     ]
    },
    {
     "name": "stdout",
     "output_type": "stream",
     "text": [
      "Threshold : 0.20\tFBeta : 0.254065\n",
      "Threshold : 0.25\tFBeta : 0.266079\n",
      "Threshold : 0.30\tFBeta : 0.277078\n",
      "Threshold : 0.35\tFBeta : 0.287736\n",
      "Threshold : 0.40\tFBeta : 0.297104\n",
      "Threshold : 0.45\tFBeta : 0.305007\n",
      "Threshold : 0.50\tFBeta : 0.312358\n",
      "Threshold : 0.55\tFBeta : 0.319100\n",
      "Threshold : 0.60\tFBeta : 0.324200\n",
      "Threshold : 0.65\tFBeta : 0.329228\n",
      "Threshold : 0.70\tFBeta : 0.335266\n",
      "Threshold : 0.75\tFBeta : 0.341208\n",
      "Threshold : 0.80\tFBeta : 0.346048\n",
      "\n"
     ]
    },
    {
     "name": "stderr",
     "output_type": "stream",
     "text": [
      "Epoch 224/500  Mem : 19.8GB  LR : 4.40E-05  Loss: 0.3884: 100%|██████████| 8/8 [00:31<00:00,  3.89s/it]                                                                                                                                                      \n",
      "Val Loss: 0.9543: 100%|██████████| 3/3 [00:08<00:00,  2.87s/it]                                                                                                                                                                                              \n"
     ]
    },
    {
     "name": "stdout",
     "output_type": "stream",
     "text": [
      "Threshold : 0.20\tFBeta : 0.242196\n",
      "Threshold : 0.25\tFBeta : 0.245791\n",
      "Threshold : 0.30\tFBeta : 0.249048\n",
      "Threshold : 0.35\tFBeta : 0.252196\n",
      "Threshold : 0.40\tFBeta : 0.255103\n",
      "Threshold : 0.45\tFBeta : 0.257895\n",
      "Threshold : 0.50\tFBeta : 0.260728\n",
      "Threshold : 0.55\tFBeta : 0.263636\n",
      "Threshold : 0.60\tFBeta : 0.267065\n",
      "Threshold : 0.65\tFBeta : 0.270911\n",
      "Threshold : 0.70\tFBeta : 0.275056\n",
      "Threshold : 0.75\tFBeta : 0.279802\n",
      "Threshold : 0.80\tFBeta : 0.285407\n",
      "\n"
     ]
    },
    {
     "name": "stderr",
     "output_type": "stream",
     "text": [
      "Epoch 225/500  Mem : 19.8GB  LR : 4.43E-05  Loss: 0.4057: 100%|██████████| 8/8 [00:30<00:00,  3.85s/it]                                                                                                                                                      \n",
      "Val Loss: 0.5809: 100%|██████████| 3/3 [00:08<00:00,  2.88s/it]                                                                                                                                                                                              \n"
     ]
    },
    {
     "name": "stdout",
     "output_type": "stream",
     "text": [
      "Threshold : 0.20\tFBeta : 0.264196\n",
      "Threshold : 0.25\tFBeta : 0.282829\n",
      "Threshold : 0.30\tFBeta : 0.298215\n",
      "Threshold : 0.35\tFBeta : 0.311149\n",
      "Threshold : 0.40\tFBeta : 0.322348\n",
      "Threshold : 0.45\tFBeta : 0.329073\n",
      "Threshold : 0.50\tFBeta : 0.333945\n",
      "Threshold : 0.55\tFBeta : 0.339817\n",
      "Threshold : 0.60\tFBeta : 0.343649\n",
      "Threshold : 0.65\tFBeta : 0.347264\n",
      "Threshold : 0.70\tFBeta : 0.350381\n",
      "Threshold : 0.75\tFBeta : 0.352784\n",
      "Threshold : 0.80\tFBeta : 0.355304\n",
      "\n"
     ]
    },
    {
     "name": "stderr",
     "output_type": "stream",
     "text": [
      "Epoch 226/500  Mem : 19.8GB  LR : 4.46E-05  Loss: 0.3987: 100%|██████████| 8/8 [00:31<00:00,  3.92s/it]                                                                                                                                                      \n",
      "Val Loss: 0.8221: 100%|██████████| 3/3 [00:08<00:00,  2.85s/it]                                                                                                                                                                                              \n"
     ]
    },
    {
     "name": "stdout",
     "output_type": "stream",
     "text": [
      "Threshold : 0.20\tFBeta : 0.249590\n",
      "Threshold : 0.25\tFBeta : 0.255755\n",
      "Threshold : 0.30\tFBeta : 0.260006\n",
      "Threshold : 0.35\tFBeta : 0.264188\n",
      "Threshold : 0.40\tFBeta : 0.268290\n",
      "Threshold : 0.45\tFBeta : 0.271885\n",
      "Threshold : 0.50\tFBeta : 0.275359\n",
      "Threshold : 0.55\tFBeta : 0.278977\n",
      "Threshold : 0.60\tFBeta : 0.282633\n",
      "Threshold : 0.65\tFBeta : 0.286212\n",
      "Threshold : 0.70\tFBeta : 0.290379\n",
      "Threshold : 0.75\tFBeta : 0.295556\n",
      "Threshold : 0.80\tFBeta : 0.302607\n",
      "\n"
     ]
    },
    {
     "name": "stderr",
     "output_type": "stream",
     "text": [
      "Epoch 227/500  Mem : 19.8GB  LR : 4.49E-05  Loss: 0.4028: 100%|██████████| 8/8 [00:32<00:00,  4.01s/it]                                                                                                                                                      \n",
      "Val Loss: 0.7394: 100%|██████████| 3/3 [00:08<00:00,  2.85s/it]                                                                                                                                                                                              \n"
     ]
    },
    {
     "name": "stdout",
     "output_type": "stream",
     "text": [
      "Threshold : 0.20\tFBeta : 0.248645\n",
      "Threshold : 0.25\tFBeta : 0.255605\n",
      "Threshold : 0.30\tFBeta : 0.261748\n",
      "Threshold : 0.35\tFBeta : 0.266249\n",
      "Threshold : 0.40\tFBeta : 0.269905\n",
      "Threshold : 0.45\tFBeta : 0.273887\n",
      "Threshold : 0.50\tFBeta : 0.277860\n",
      "Threshold : 0.55\tFBeta : 0.281910\n",
      "Threshold : 0.60\tFBeta : 0.285729\n",
      "Threshold : 0.65\tFBeta : 0.289384\n",
      "Threshold : 0.70\tFBeta : 0.293260\n",
      "Threshold : 0.75\tFBeta : 0.296358\n",
      "Threshold : 0.80\tFBeta : 0.299662\n",
      "\n"
     ]
    },
    {
     "name": "stderr",
     "output_type": "stream",
     "text": [
      "Epoch 228/500  Mem : 19.8GB  LR : 4.52E-05  Loss: 0.3891: 100%|██████████| 8/8 [00:31<00:00,  4.00s/it]                                                                                                                                                      \n",
      "Val Loss: 0.6890: 100%|██████████| 3/3 [00:08<00:00,  2.86s/it]                                                                                                                                                                                              \n"
     ]
    },
    {
     "name": "stdout",
     "output_type": "stream",
     "text": [
      "Threshold : 0.20\tFBeta : 0.245668\n",
      "Threshold : 0.25\tFBeta : 0.254544\n",
      "Threshold : 0.30\tFBeta : 0.262642\n",
      "Threshold : 0.35\tFBeta : 0.269991\n",
      "Threshold : 0.40\tFBeta : 0.276383\n",
      "Threshold : 0.45\tFBeta : 0.282214\n",
      "Threshold : 0.50\tFBeta : 0.287919\n",
      "Threshold : 0.55\tFBeta : 0.293458\n",
      "Threshold : 0.60\tFBeta : 0.299284\n",
      "Threshold : 0.65\tFBeta : 0.305449\n",
      "Threshold : 0.70\tFBeta : 0.311081\n",
      "Threshold : 0.75\tFBeta : 0.316996\n",
      "Threshold : 0.80\tFBeta : 0.323052\n",
      "\n"
     ]
    },
    {
     "name": "stderr",
     "output_type": "stream",
     "text": [
      "Epoch 229/500  Mem : 19.8GB  LR : 4.55E-05  Loss: 0.3972: 100%|██████████| 8/8 [00:31<00:00,  3.98s/it]                                                                                                                                                      \n",
      "Val Loss: 0.6517: 100%|██████████| 3/3 [00:08<00:00,  2.86s/it]                                                                                                                                                                                              \n"
     ]
    },
    {
     "name": "stdout",
     "output_type": "stream",
     "text": [
      "Threshold : 0.20\tFBeta : 0.251749\n",
      "Threshold : 0.25\tFBeta : 0.260366\n",
      "Threshold : 0.30\tFBeta : 0.268429\n",
      "Threshold : 0.35\tFBeta : 0.274913\n",
      "Threshold : 0.40\tFBeta : 0.279828\n",
      "Threshold : 0.45\tFBeta : 0.283984\n",
      "Threshold : 0.50\tFBeta : 0.288320\n",
      "Threshold : 0.55\tFBeta : 0.292417\n",
      "Threshold : 0.60\tFBeta : 0.295298\n",
      "Threshold : 0.65\tFBeta : 0.298049\n",
      "Threshold : 0.70\tFBeta : 0.301359\n",
      "Threshold : 0.75\tFBeta : 0.304282\n",
      "Threshold : 0.80\tFBeta : 0.306406\n",
      "\n"
     ]
    },
    {
     "name": "stderr",
     "output_type": "stream",
     "text": [
      "Epoch 230/500  Mem : 19.8GB  LR : 4.58E-05  Loss: 0.4015: 100%|██████████| 8/8 [00:31<00:00,  3.90s/it]                                                                                                                                                      \n",
      "Val Loss: 1.1797: 100%|██████████| 3/3 [00:08<00:00,  2.87s/it]                                                                                                                                                                                              \n"
     ]
    },
    {
     "name": "stdout",
     "output_type": "stream",
     "text": [
      "Threshold : 0.20\tFBeta : 0.236819\n",
      "Threshold : 0.25\tFBeta : 0.239492\n",
      "Threshold : 0.30\tFBeta : 0.241497\n",
      "Threshold : 0.35\tFBeta : 0.243288\n",
      "Threshold : 0.40\tFBeta : 0.245119\n",
      "Threshold : 0.45\tFBeta : 0.246920\n",
      "Threshold : 0.50\tFBeta : 0.248755\n",
      "Threshold : 0.55\tFBeta : 0.250589\n",
      "Threshold : 0.60\tFBeta : 0.252584\n",
      "Threshold : 0.65\tFBeta : 0.254735\n",
      "Threshold : 0.70\tFBeta : 0.257292\n",
      "Threshold : 0.75\tFBeta : 0.260477\n",
      "Threshold : 0.80\tFBeta : 0.264705\n",
      "\n"
     ]
    },
    {
     "name": "stderr",
     "output_type": "stream",
     "text": [
      "Epoch 231/500  Mem : 19.8GB  LR : 4.61E-05  Loss: 0.3985: 100%|██████████| 8/8 [00:31<00:00,  3.90s/it]                                                                                                                                                      \n",
      "Val Loss: 0.5551: 100%|██████████| 3/3 [00:08<00:00,  2.86s/it]                                                                                                                                                                                              \n"
     ]
    },
    {
     "name": "stdout",
     "output_type": "stream",
     "text": [
      "Threshold : 0.20\tFBeta : 0.284248\n",
      "Threshold : 0.25\tFBeta : 0.304608\n",
      "Threshold : 0.30\tFBeta : 0.319211\n",
      "Threshold : 0.35\tFBeta : 0.328261\n",
      "Threshold : 0.40\tFBeta : 0.334177\n",
      "Threshold : 0.45\tFBeta : 0.339252\n",
      "Threshold : 0.50\tFBeta : 0.343729\n",
      "Threshold : 0.55\tFBeta : 0.348076\n",
      "Threshold : 0.60\tFBeta : 0.350423\n",
      "Threshold : 0.65\tFBeta : 0.351620\n",
      "Threshold : 0.70\tFBeta : 0.351587\n",
      "Threshold : 0.75\tFBeta : 0.349903\n",
      "Threshold : 0.80\tFBeta : 0.344391\n",
      "\n"
     ]
    },
    {
     "name": "stderr",
     "output_type": "stream",
     "text": [
      "Epoch 232/500  Mem : 19.8GB  LR : 4.64E-05  Loss: 0.3888: 100%|██████████| 8/8 [00:30<00:00,  3.83s/it]                                                                                                                                                      \n",
      "Val Loss: 0.7002: 100%|██████████| 3/3 [00:08<00:00,  2.86s/it]                                                                                                                                                                                              \n"
     ]
    },
    {
     "name": "stdout",
     "output_type": "stream",
     "text": [
      "Threshold : 0.20\tFBeta : 0.250529\n",
      "Threshold : 0.25\tFBeta : 0.258132\n",
      "Threshold : 0.30\tFBeta : 0.266016\n",
      "Threshold : 0.35\tFBeta : 0.272669\n",
      "Threshold : 0.40\tFBeta : 0.277801\n",
      "Threshold : 0.45\tFBeta : 0.282277\n",
      "Threshold : 0.50\tFBeta : 0.285811\n",
      "Threshold : 0.55\tFBeta : 0.289658\n",
      "Threshold : 0.60\tFBeta : 0.294129\n",
      "Threshold : 0.65\tFBeta : 0.298374\n",
      "Threshold : 0.70\tFBeta : 0.303281\n",
      "Threshold : 0.75\tFBeta : 0.309187\n",
      "Threshold : 0.80\tFBeta : 0.315938\n",
      "\n"
     ]
    },
    {
     "name": "stderr",
     "output_type": "stream",
     "text": [
      "Epoch 233/500  Mem : 19.8GB  LR : 4.67E-05  Loss: 0.3782: 100%|██████████| 8/8 [00:31<00:00,  3.94s/it]                                                                                                                                                      \n",
      "Val Loss: 0.5981: 100%|██████████| 3/3 [00:08<00:00,  2.88s/it]                                                                                                                                                                                              \n"
     ]
    },
    {
     "name": "stdout",
     "output_type": "stream",
     "text": [
      "Threshold : 0.20\tFBeta : 0.269214\n",
      "Threshold : 0.25\tFBeta : 0.281661\n",
      "Threshold : 0.30\tFBeta : 0.291621\n",
      "Threshold : 0.35\tFBeta : 0.300324\n",
      "Threshold : 0.40\tFBeta : 0.306935\n",
      "Threshold : 0.45\tFBeta : 0.311394\n",
      "Threshold : 0.50\tFBeta : 0.314173\n",
      "Threshold : 0.55\tFBeta : 0.317463\n",
      "Threshold : 0.60\tFBeta : 0.320466\n",
      "Threshold : 0.65\tFBeta : 0.322462\n",
      "Threshold : 0.70\tFBeta : 0.323361\n",
      "Threshold : 0.75\tFBeta : 0.322947\n",
      "Threshold : 0.80\tFBeta : 0.321189\n",
      "\n"
     ]
    },
    {
     "name": "stderr",
     "output_type": "stream",
     "text": [
      "Epoch 234/500  Mem : 19.8GB  LR : 4.70E-05  Loss: 0.3847: 100%|██████████| 8/8 [00:32<00:00,  4.02s/it]                                                                                                                                                      \n",
      "Val Loss: 0.5962: 100%|██████████| 3/3 [00:08<00:00,  2.85s/it]                                                                                                                                                                                              \n"
     ]
    },
    {
     "name": "stdout",
     "output_type": "stream",
     "text": [
      "Threshold : 0.20\tFBeta : 0.267056\n",
      "Threshold : 0.25\tFBeta : 0.278311\n",
      "Threshold : 0.30\tFBeta : 0.285208\n",
      "Threshold : 0.35\tFBeta : 0.289817\n",
      "Threshold : 0.40\tFBeta : 0.292939\n",
      "Threshold : 0.45\tFBeta : 0.294531\n",
      "Threshold : 0.50\tFBeta : 0.296383\n",
      "Threshold : 0.55\tFBeta : 0.297476\n",
      "Threshold : 0.60\tFBeta : 0.297875\n",
      "Threshold : 0.65\tFBeta : 0.298854\n",
      "Threshold : 0.70\tFBeta : 0.298377\n",
      "Threshold : 0.75\tFBeta : 0.297205\n",
      "Threshold : 0.80\tFBeta : 0.293697\n",
      "\n"
     ]
    },
    {
     "name": "stderr",
     "output_type": "stream",
     "text": [
      "Epoch 235/500  Mem : 19.8GB  LR : 4.73E-05  Loss: 0.4082: 100%|██████████| 8/8 [00:31<00:00,  3.94s/it]                                                                                                                                                      \n",
      "Val Loss: 2.2463: 100%|██████████| 3/3 [00:08<00:00,  2.86s/it]                                                                                                                                                                                              \n"
     ]
    },
    {
     "name": "stdout",
     "output_type": "stream",
     "text": [
      "Threshold : 0.20\tFBeta : 0.218056\n",
      "Threshold : 0.25\tFBeta : 0.220841\n",
      "Threshold : 0.30\tFBeta : 0.223038\n",
      "Threshold : 0.35\tFBeta : 0.224852\n",
      "Threshold : 0.40\tFBeta : 0.226424\n",
      "Threshold : 0.45\tFBeta : 0.227865\n",
      "Threshold : 0.50\tFBeta : 0.229191\n",
      "Threshold : 0.55\tFBeta : 0.230452\n",
      "Threshold : 0.60\tFBeta : 0.231741\n",
      "Threshold : 0.65\tFBeta : 0.233109\n",
      "Threshold : 0.70\tFBeta : 0.234515\n",
      "Threshold : 0.75\tFBeta : 0.235826\n",
      "Threshold : 0.80\tFBeta : 0.237213\n",
      "\n"
     ]
    },
    {
     "name": "stderr",
     "output_type": "stream",
     "text": [
      "Epoch 236/500  Mem : 19.8GB  LR : 4.76E-05  Loss: 0.3923: 100%|██████████| 8/8 [00:31<00:00,  3.92s/it]                                                                                                                                                      \n",
      "Val Loss: 0.8529: 100%|██████████| 3/3 [00:08<00:00,  2.87s/it]                                                                                                                                                                                              \n"
     ]
    },
    {
     "name": "stdout",
     "output_type": "stream",
     "text": [
      "Threshold : 0.20\tFBeta : 0.242602\n",
      "Threshold : 0.25\tFBeta : 0.246870\n",
      "Threshold : 0.30\tFBeta : 0.250562\n",
      "Threshold : 0.35\tFBeta : 0.254413\n",
      "Threshold : 0.40\tFBeta : 0.258270\n",
      "Threshold : 0.45\tFBeta : 0.262223\n",
      "Threshold : 0.50\tFBeta : 0.266091\n",
      "Threshold : 0.55\tFBeta : 0.269799\n",
      "Threshold : 0.60\tFBeta : 0.273387\n",
      "Threshold : 0.65\tFBeta : 0.277412\n",
      "Threshold : 0.70\tFBeta : 0.281565\n",
      "Threshold : 0.75\tFBeta : 0.286177\n",
      "Threshold : 0.80\tFBeta : 0.291582\n",
      "\n"
     ]
    },
    {
     "name": "stderr",
     "output_type": "stream",
     "text": [
      "Epoch 237/500  Mem : 19.8GB  LR : 4.79E-05  Loss: 0.3854: 100%|██████████| 8/8 [00:32<00:00,  4.01s/it]                                                                                                                                                      \n",
      "Val Loss: 0.5834: 100%|██████████| 3/3 [00:08<00:00,  2.91s/it]                                                                                                                                                                                              \n"
     ]
    },
    {
     "name": "stdout",
     "output_type": "stream",
     "text": [
      "Threshold : 0.20\tFBeta : 0.276566\n",
      "Threshold : 0.25\tFBeta : 0.295770\n",
      "Threshold : 0.30\tFBeta : 0.310805\n",
      "Threshold : 0.35\tFBeta : 0.323964\n",
      "Threshold : 0.40\tFBeta : 0.334951\n",
      "Threshold : 0.45\tFBeta : 0.344966\n",
      "Threshold : 0.50\tFBeta : 0.354534\n",
      "Threshold : 0.55\tFBeta : 0.363075\n",
      "Threshold : 0.60\tFBeta : 0.371101\n",
      "Threshold : 0.65\tFBeta : 0.378350\n",
      "Threshold : 0.70\tFBeta : 0.385124\n",
      "Threshold : 0.75\tFBeta : 0.391483\n",
      "Threshold : 0.80\tFBeta : 0.398171\n",
      "\n"
     ]
    },
    {
     "name": "stderr",
     "output_type": "stream",
     "text": [
      "Epoch 238/500  Mem : 19.8GB  LR : 4.82E-05  Loss: 0.4126: 100%|██████████| 8/8 [00:30<00:00,  3.83s/it]                                                                                                                                                      \n",
      "Val Loss: 0.6032: 100%|██████████| 3/3 [00:08<00:00,  2.87s/it]                                                                                                                                                                                              \n"
     ]
    },
    {
     "name": "stdout",
     "output_type": "stream",
     "text": [
      "Threshold : 0.20\tFBeta : 0.258023\n",
      "Threshold : 0.25\tFBeta : 0.269702\n",
      "Threshold : 0.30\tFBeta : 0.279405\n",
      "Threshold : 0.35\tFBeta : 0.286993\n",
      "Threshold : 0.40\tFBeta : 0.292509\n",
      "Threshold : 0.45\tFBeta : 0.297543\n",
      "Threshold : 0.50\tFBeta : 0.302433\n",
      "Threshold : 0.55\tFBeta : 0.306469\n",
      "Threshold : 0.60\tFBeta : 0.309589\n",
      "Threshold : 0.65\tFBeta : 0.313325\n",
      "Threshold : 0.70\tFBeta : 0.317564\n",
      "Threshold : 0.75\tFBeta : 0.320845\n",
      "Threshold : 0.80\tFBeta : 0.320571\n",
      "\n"
     ]
    },
    {
     "name": "stderr",
     "output_type": "stream",
     "text": [
      "Epoch 239/500  Mem : 19.8GB  LR : 4.85E-05  Loss: 0.3970: 100%|██████████| 8/8 [00:31<00:00,  3.93s/it]                                                                                                                                                      \n",
      "Val Loss: 0.6637: 100%|██████████| 3/3 [00:08<00:00,  2.86s/it]                                                                                                                                                                                              \n"
     ]
    },
    {
     "name": "stdout",
     "output_type": "stream",
     "text": [
      "Threshold : 0.20\tFBeta : 0.252627\n",
      "Threshold : 0.25\tFBeta : 0.263341\n",
      "Threshold : 0.30\tFBeta : 0.273457\n",
      "Threshold : 0.35\tFBeta : 0.282687\n",
      "Threshold : 0.40\tFBeta : 0.290492\n",
      "Threshold : 0.45\tFBeta : 0.297275\n",
      "Threshold : 0.50\tFBeta : 0.303557\n",
      "Threshold : 0.55\tFBeta : 0.309519\n",
      "Threshold : 0.60\tFBeta : 0.315177\n",
      "Threshold : 0.65\tFBeta : 0.321269\n",
      "Threshold : 0.70\tFBeta : 0.327157\n",
      "Threshold : 0.75\tFBeta : 0.333308\n",
      "Threshold : 0.80\tFBeta : 0.339553\n",
      "\n"
     ]
    },
    {
     "name": "stderr",
     "output_type": "stream",
     "text": [
      "Epoch 240/500  Mem : 19.8GB  LR : 4.88E-05  Loss: 0.3880: 100%|██████████| 8/8 [00:31<00:00,  3.88s/it]                                                                                                                                                      \n",
      "Val Loss: 0.6581: 100%|██████████| 3/3 [00:08<00:00,  2.87s/it]                                                                                                                                                                                              \n"
     ]
    },
    {
     "name": "stdout",
     "output_type": "stream",
     "text": [
      "Threshold : 0.20\tFBeta : 0.251583\n",
      "Threshold : 0.25\tFBeta : 0.261957\n",
      "Threshold : 0.30\tFBeta : 0.272061\n",
      "Threshold : 0.35\tFBeta : 0.282043\n",
      "Threshold : 0.40\tFBeta : 0.291616\n",
      "Threshold : 0.45\tFBeta : 0.300439\n",
      "Threshold : 0.50\tFBeta : 0.310175\n",
      "Threshold : 0.55\tFBeta : 0.319678\n",
      "Threshold : 0.60\tFBeta : 0.328448\n",
      "Threshold : 0.65\tFBeta : 0.337013\n",
      "Threshold : 0.70\tFBeta : 0.345943\n",
      "Threshold : 0.75\tFBeta : 0.355137\n",
      "Threshold : 0.80\tFBeta : 0.364291\n",
      "\n"
     ]
    },
    {
     "name": "stderr",
     "output_type": "stream",
     "text": [
      "Epoch 241/500  Mem : 19.8GB  LR : 4.91E-05  Loss: 0.3996: 100%|██████████| 8/8 [00:30<00:00,  3.81s/it]                                                                                                                                                      \n",
      "Val Loss: 0.5861: 100%|██████████| 3/3 [00:08<00:00,  2.90s/it]                                                                                                                                                                                              \n"
     ]
    },
    {
     "name": "stdout",
     "output_type": "stream",
     "text": [
      "Threshold : 0.20\tFBeta : 0.269298\n",
      "Threshold : 0.25\tFBeta : 0.283577\n",
      "Threshold : 0.30\tFBeta : 0.294744\n",
      "Threshold : 0.35\tFBeta : 0.304309\n",
      "Threshold : 0.40\tFBeta : 0.311041\n",
      "Threshold : 0.45\tFBeta : 0.315624\n",
      "Threshold : 0.50\tFBeta : 0.318441\n",
      "Threshold : 0.55\tFBeta : 0.320264\n",
      "Threshold : 0.60\tFBeta : 0.322868\n",
      "Threshold : 0.65\tFBeta : 0.325066\n",
      "Threshold : 0.70\tFBeta : 0.327146\n",
      "Threshold : 0.75\tFBeta : 0.327481\n",
      "Threshold : 0.80\tFBeta : 0.326803\n",
      "\n"
     ]
    },
    {
     "name": "stderr",
     "output_type": "stream",
     "text": [
      "Epoch 242/500  Mem : 19.8GB  LR : 4.94E-05  Loss: 0.3844: 100%|██████████| 8/8 [00:30<00:00,  3.83s/it]                                                                                                                                                      \n",
      "Val Loss: 0.6476: 100%|██████████| 3/3 [00:08<00:00,  2.86s/it]                                                                                                                                                                                              \n"
     ]
    },
    {
     "name": "stdout",
     "output_type": "stream",
     "text": [
      "Threshold : 0.20\tFBeta : 0.253063\n",
      "Threshold : 0.25\tFBeta : 0.264842\n",
      "Threshold : 0.30\tFBeta : 0.274525\n",
      "Threshold : 0.35\tFBeta : 0.282624\n",
      "Threshold : 0.40\tFBeta : 0.289742\n",
      "Threshold : 0.45\tFBeta : 0.295471\n",
      "Threshold : 0.50\tFBeta : 0.300286\n",
      "Threshold : 0.55\tFBeta : 0.303911\n",
      "Threshold : 0.60\tFBeta : 0.307522\n",
      "Threshold : 0.65\tFBeta : 0.311828\n",
      "Threshold : 0.70\tFBeta : 0.315486\n",
      "Threshold : 0.75\tFBeta : 0.316742\n",
      "Threshold : 0.80\tFBeta : 0.318115\n",
      "\n"
     ]
    },
    {
     "name": "stderr",
     "output_type": "stream",
     "text": [
      "Epoch 243/500  Mem : 19.8GB  LR : 4.97E-05  Loss: 0.3855: 100%|██████████| 8/8 [00:31<00:00,  3.89s/it]                                                                                                                                                      \n",
      "Val Loss: 0.7593: 100%|██████████| 3/3 [00:08<00:00,  2.86s/it]                                                                                                                                                                                              \n"
     ]
    },
    {
     "name": "stdout",
     "output_type": "stream",
     "text": [
      "Threshold : 0.20\tFBeta : 0.249032\n",
      "Threshold : 0.25\tFBeta : 0.254756\n",
      "Threshold : 0.30\tFBeta : 0.260328\n",
      "Threshold : 0.35\tFBeta : 0.265685\n",
      "Threshold : 0.40\tFBeta : 0.270684\n",
      "Threshold : 0.45\tFBeta : 0.275584\n",
      "Threshold : 0.50\tFBeta : 0.279526\n",
      "Threshold : 0.55\tFBeta : 0.283277\n",
      "Threshold : 0.60\tFBeta : 0.287034\n",
      "Threshold : 0.65\tFBeta : 0.291194\n",
      "Threshold : 0.70\tFBeta : 0.295111\n",
      "Threshold : 0.75\tFBeta : 0.298740\n",
      "Threshold : 0.80\tFBeta : 0.303463\n",
      "\n"
     ]
    },
    {
     "name": "stderr",
     "output_type": "stream",
     "text": [
      "Epoch 244/500  Mem : 19.8GB  LR : 5.00E-05  Loss: 0.3950: 100%|██████████| 8/8 [00:31<00:00,  3.88s/it]                                                                                                                                                      \n",
      "Val Loss: 0.5977: 100%|██████████| 3/3 [00:08<00:00,  2.91s/it]                                                                                                                                                                                              \n"
     ]
    },
    {
     "name": "stdout",
     "output_type": "stream",
     "text": [
      "Threshold : 0.20\tFBeta : 0.273437\n",
      "Threshold : 0.25\tFBeta : 0.283294\n",
      "Threshold : 0.30\tFBeta : 0.290044\n",
      "Threshold : 0.35\tFBeta : 0.296072\n",
      "Threshold : 0.40\tFBeta : 0.300474\n",
      "Threshold : 0.45\tFBeta : 0.303651\n",
      "Threshold : 0.50\tFBeta : 0.305794\n",
      "Threshold : 0.55\tFBeta : 0.307521\n",
      "Threshold : 0.60\tFBeta : 0.309426\n",
      "Threshold : 0.65\tFBeta : 0.312107\n",
      "Threshold : 0.70\tFBeta : 0.313661\n",
      "Threshold : 0.75\tFBeta : 0.313801\n",
      "Threshold : 0.80\tFBeta : 0.312454\n",
      "\n"
     ]
    },
    {
     "name": "stderr",
     "output_type": "stream",
     "text": [
      "Epoch 245/500  Mem : 19.8GB  LR : 5.03E-05  Loss: 0.3792: 100%|██████████| 8/8 [00:31<00:00,  3.90s/it]                                                                                                                                                      \n",
      "Val Loss: 0.5696: 100%|██████████| 3/3 [00:08<00:00,  2.87s/it]                                                                                                                                                                                              \n"
     ]
    },
    {
     "name": "stdout",
     "output_type": "stream",
     "text": [
      "Threshold : 0.20\tFBeta : 0.286512\n",
      "Threshold : 0.25\tFBeta : 0.305337\n",
      "Threshold : 0.30\tFBeta : 0.317840\n",
      "Threshold : 0.35\tFBeta : 0.326609\n",
      "Threshold : 0.40\tFBeta : 0.332976\n",
      "Threshold : 0.45\tFBeta : 0.339066\n",
      "Threshold : 0.50\tFBeta : 0.346434\n",
      "Threshold : 0.55\tFBeta : 0.354004\n",
      "Threshold : 0.60\tFBeta : 0.359237\n",
      "Threshold : 0.65\tFBeta : 0.364217\n",
      "Threshold : 0.70\tFBeta : 0.368357\n",
      "Threshold : 0.75\tFBeta : 0.372078\n",
      "Threshold : 0.80\tFBeta : 0.373570\n",
      "\n"
     ]
    },
    {
     "name": "stderr",
     "output_type": "stream",
     "text": [
      "Epoch 246/500  Mem : 19.8GB  LR : 5.06E-05  Loss: 0.3750: 100%|██████████| 8/8 [00:31<00:00,  3.93s/it]                                                                                                                                                      \n",
      "Val Loss: 0.5756: 100%|██████████| 3/3 [00:08<00:00,  2.91s/it]                                                                                                                                                                                              \n"
     ]
    },
    {
     "name": "stdout",
     "output_type": "stream",
     "text": [
      "Threshold : 0.20\tFBeta : 0.281382\n",
      "Threshold : 0.25\tFBeta : 0.294430\n",
      "Threshold : 0.30\tFBeta : 0.304447\n",
      "Threshold : 0.35\tFBeta : 0.311064\n",
      "Threshold : 0.40\tFBeta : 0.316571\n",
      "Threshold : 0.45\tFBeta : 0.321164\n",
      "Threshold : 0.50\tFBeta : 0.325261\n",
      "Threshold : 0.55\tFBeta : 0.329571\n",
      "Threshold : 0.60\tFBeta : 0.332152\n",
      "Threshold : 0.65\tFBeta : 0.334032\n",
      "Threshold : 0.70\tFBeta : 0.335134\n",
      "Threshold : 0.75\tFBeta : 0.334675\n",
      "Threshold : 0.80\tFBeta : 0.333278\n",
      "\n"
     ]
    },
    {
     "name": "stderr",
     "output_type": "stream",
     "text": [
      "Epoch 247/500  Mem : 19.8GB  LR : 5.09E-05  Loss: 0.3775: 100%|██████████| 8/8 [00:31<00:00,  3.93s/it]                                                                                                                                                      \n",
      "Val Loss: 0.6792: 100%|██████████| 3/3 [00:08<00:00,  2.92s/it]                                                                                                                                                                                              \n"
     ]
    },
    {
     "name": "stdout",
     "output_type": "stream",
     "text": [
      "Threshold : 0.20\tFBeta : 0.254769\n",
      "Threshold : 0.25\tFBeta : 0.264822\n",
      "Threshold : 0.30\tFBeta : 0.272851\n",
      "Threshold : 0.35\tFBeta : 0.278606\n",
      "Threshold : 0.40\tFBeta : 0.283218\n",
      "Threshold : 0.45\tFBeta : 0.287153\n",
      "Threshold : 0.50\tFBeta : 0.290587\n",
      "Threshold : 0.55\tFBeta : 0.293947\n",
      "Threshold : 0.60\tFBeta : 0.297255\n",
      "Threshold : 0.65\tFBeta : 0.300246\n",
      "Threshold : 0.70\tFBeta : 0.303086\n",
      "Threshold : 0.75\tFBeta : 0.305201\n",
      "Threshold : 0.80\tFBeta : 0.308150\n",
      "\n"
     ]
    },
    {
     "name": "stderr",
     "output_type": "stream",
     "text": [
      "Epoch 248/500  Mem : 19.8GB  LR : 5.12E-05  Loss: 0.3671: 100%|██████████| 8/8 [00:31<00:00,  3.89s/it]                                                                                                                                                      \n",
      "Val Loss: 0.6473: 100%|██████████| 3/3 [00:08<00:00,  2.86s/it]                                                                                                                                                                                              \n"
     ]
    },
    {
     "name": "stdout",
     "output_type": "stream",
     "text": [
      "Threshold : 0.20\tFBeta : 0.263630\n",
      "Threshold : 0.25\tFBeta : 0.273810\n",
      "Threshold : 0.30\tFBeta : 0.279227\n",
      "Threshold : 0.35\tFBeta : 0.283200\n",
      "Threshold : 0.40\tFBeta : 0.286424\n",
      "Threshold : 0.45\tFBeta : 0.288773\n",
      "Threshold : 0.50\tFBeta : 0.291056\n",
      "Threshold : 0.55\tFBeta : 0.293108\n",
      "Threshold : 0.60\tFBeta : 0.294859\n",
      "Threshold : 0.65\tFBeta : 0.296970\n",
      "Threshold : 0.70\tFBeta : 0.298687\n",
      "Threshold : 0.75\tFBeta : 0.299500\n",
      "Threshold : 0.80\tFBeta : 0.300900\n",
      "\n"
     ]
    },
    {
     "name": "stderr",
     "output_type": "stream",
     "text": [
      "Epoch 249/500  Mem : 19.8GB  LR : 5.15E-05  Loss: 0.3657: 100%|██████████| 8/8 [00:31<00:00,  3.92s/it]                                                                                                                                                      \n",
      "Val Loss: 0.6241: 100%|██████████| 3/3 [00:08<00:00,  2.85s/it]                                                                                                                                                                                              \n"
     ]
    },
    {
     "name": "stdout",
     "output_type": "stream",
     "text": [
      "Threshold : 0.20\tFBeta : 0.270370\n",
      "Threshold : 0.25\tFBeta : 0.283673\n",
      "Threshold : 0.30\tFBeta : 0.294214\n",
      "Threshold : 0.35\tFBeta : 0.303228\n",
      "Threshold : 0.40\tFBeta : 0.311149\n",
      "Threshold : 0.45\tFBeta : 0.318236\n",
      "Threshold : 0.50\tFBeta : 0.324854\n",
      "Threshold : 0.55\tFBeta : 0.331157\n",
      "Threshold : 0.60\tFBeta : 0.336725\n",
      "Threshold : 0.65\tFBeta : 0.341831\n",
      "Threshold : 0.70\tFBeta : 0.346541\n",
      "Threshold : 0.75\tFBeta : 0.352059\n",
      "Threshold : 0.80\tFBeta : 0.358182\n",
      "\n"
     ]
    },
    {
     "name": "stderr",
     "output_type": "stream",
     "text": [
      "Epoch 250/500  Mem : 19.8GB  LR : 5.18E-05  Loss: 0.3702: 100%|██████████| 8/8 [00:31<00:00,  3.93s/it]                                                                                                                                                      \n",
      "Val Loss: 0.8029: 100%|██████████| 3/3 [00:08<00:00,  2.86s/it]                                                                                                                                                                                              \n"
     ]
    },
    {
     "name": "stdout",
     "output_type": "stream",
     "text": [
      "Threshold : 0.20\tFBeta : 0.248448\n",
      "Threshold : 0.25\tFBeta : 0.255736\n",
      "Threshold : 0.30\tFBeta : 0.261675\n",
      "Threshold : 0.35\tFBeta : 0.266962\n",
      "Threshold : 0.40\tFBeta : 0.271760\n",
      "Threshold : 0.45\tFBeta : 0.276484\n",
      "Threshold : 0.50\tFBeta : 0.281024\n",
      "Threshold : 0.55\tFBeta : 0.285664\n",
      "Threshold : 0.60\tFBeta : 0.290580\n",
      "Threshold : 0.65\tFBeta : 0.295966\n",
      "Threshold : 0.70\tFBeta : 0.301722\n",
      "Threshold : 0.75\tFBeta : 0.308353\n",
      "Threshold : 0.80\tFBeta : 0.315756\n",
      "\n"
     ]
    },
    {
     "name": "stderr",
     "output_type": "stream",
     "text": [
      "Epoch 251/500  Mem : 19.8GB  LR : 5.22E-05  Loss: 0.3809: 100%|██████████| 8/8 [00:31<00:00,  3.88s/it]                                                                                                                                                      \n",
      "Val Loss: 0.6097: 100%|██████████| 3/3 [00:08<00:00,  2.85s/it]                                                                                                                                                                                              \n"
     ]
    },
    {
     "name": "stdout",
     "output_type": "stream",
     "text": [
      "Threshold : 0.20\tFBeta : 0.273495\n",
      "Threshold : 0.25\tFBeta : 0.282697\n",
      "Threshold : 0.30\tFBeta : 0.290106\n",
      "Threshold : 0.35\tFBeta : 0.296063\n",
      "Threshold : 0.40\tFBeta : 0.300665\n",
      "Threshold : 0.45\tFBeta : 0.302756\n",
      "Threshold : 0.50\tFBeta : 0.304043\n",
      "Threshold : 0.55\tFBeta : 0.305885\n",
      "Threshold : 0.60\tFBeta : 0.307848\n",
      "Threshold : 0.65\tFBeta : 0.308710\n",
      "Threshold : 0.70\tFBeta : 0.309404\n",
      "Threshold : 0.75\tFBeta : 0.309761\n",
      "Threshold : 0.80\tFBeta : 0.310108\n",
      "\n"
     ]
    },
    {
     "name": "stderr",
     "output_type": "stream",
     "text": [
      "Epoch 252/500  Mem : 19.8GB  LR : 5.25E-05  Loss: 0.3680: 100%|██████████| 8/8 [00:30<00:00,  3.87s/it]                                                                                                                                                      \n",
      "Val Loss: 0.7907: 100%|██████████| 3/3 [00:08<00:00,  2.86s/it]                                                                                                                                                                                              \n"
     ]
    },
    {
     "name": "stdout",
     "output_type": "stream",
     "text": [
      "Threshold : 0.20\tFBeta : 0.252098\n",
      "Threshold : 0.25\tFBeta : 0.257379\n",
      "Threshold : 0.30\tFBeta : 0.261874\n",
      "Threshold : 0.35\tFBeta : 0.265293\n",
      "Threshold : 0.40\tFBeta : 0.268496\n",
      "Threshold : 0.45\tFBeta : 0.271325\n",
      "Threshold : 0.50\tFBeta : 0.273966\n",
      "Threshold : 0.55\tFBeta : 0.276748\n",
      "Threshold : 0.60\tFBeta : 0.279612\n",
      "Threshold : 0.65\tFBeta : 0.282623\n",
      "Threshold : 0.70\tFBeta : 0.285952\n",
      "Threshold : 0.75\tFBeta : 0.289784\n",
      "Threshold : 0.80\tFBeta : 0.294172\n",
      "\n"
     ]
    },
    {
     "name": "stderr",
     "output_type": "stream",
     "text": [
      "Epoch 253/500  Mem : 19.8GB  LR : 5.28E-05  Loss: 0.3705: 100%|██████████| 8/8 [00:31<00:00,  3.94s/it]                                                                                                                                                      \n",
      "Val Loss: 0.6748: 100%|██████████| 3/3 [00:08<00:00,  2.87s/it]                                                                                                                                                                                              \n"
     ]
    },
    {
     "name": "stdout",
     "output_type": "stream",
     "text": [
      "Threshold : 0.20\tFBeta : 0.259497\n",
      "Threshold : 0.25\tFBeta : 0.266634\n",
      "Threshold : 0.30\tFBeta : 0.272169\n",
      "Threshold : 0.35\tFBeta : 0.276898\n",
      "Threshold : 0.40\tFBeta : 0.280949\n",
      "Threshold : 0.45\tFBeta : 0.284308\n",
      "Threshold : 0.50\tFBeta : 0.287621\n",
      "Threshold : 0.55\tFBeta : 0.290611\n",
      "Threshold : 0.60\tFBeta : 0.293643\n",
      "Threshold : 0.65\tFBeta : 0.296529\n",
      "Threshold : 0.70\tFBeta : 0.299426\n",
      "Threshold : 0.75\tFBeta : 0.302396\n",
      "Threshold : 0.80\tFBeta : 0.304712\n",
      "\n"
     ]
    },
    {
     "name": "stderr",
     "output_type": "stream",
     "text": [
      "Epoch 254/500  Mem : 19.8GB  LR : 5.31E-05  Loss: 0.3691: 100%|██████████| 8/8 [00:31<00:00,  3.91s/it]                                                                                                                                                      \n",
      "Val Loss: 0.8524: 100%|██████████| 3/3 [00:08<00:00,  2.88s/it]                                                                                                                                                                                              \n"
     ]
    },
    {
     "name": "stdout",
     "output_type": "stream",
     "text": [
      "Threshold : 0.20\tFBeta : 0.250829\n",
      "Threshold : 0.25\tFBeta : 0.255818\n",
      "Threshold : 0.30\tFBeta : 0.259882\n",
      "Threshold : 0.35\tFBeta : 0.263527\n",
      "Threshold : 0.40\tFBeta : 0.266818\n",
      "Threshold : 0.45\tFBeta : 0.269963\n",
      "Threshold : 0.50\tFBeta : 0.272931\n",
      "Threshold : 0.55\tFBeta : 0.275803\n",
      "Threshold : 0.60\tFBeta : 0.279073\n",
      "Threshold : 0.65\tFBeta : 0.282614\n",
      "Threshold : 0.70\tFBeta : 0.286472\n",
      "Threshold : 0.75\tFBeta : 0.290612\n",
      "Threshold : 0.80\tFBeta : 0.296014\n",
      "\n"
     ]
    },
    {
     "name": "stderr",
     "output_type": "stream",
     "text": [
      "Epoch 255/500  Mem : 19.8GB  LR : 5.34E-05  Loss: 0.3598: 100%|██████████| 8/8 [00:31<00:00,  3.98s/it]                                                                                                                                                      \n",
      "Val Loss: 0.5663: 100%|██████████| 3/3 [00:08<00:00,  2.88s/it]                                                                                                                                                                                              \n"
     ]
    },
    {
     "name": "stdout",
     "output_type": "stream",
     "text": [
      "Threshold : 0.20\tFBeta : 0.301088\n",
      "Threshold : 0.25\tFBeta : 0.318049\n",
      "Threshold : 0.30\tFBeta : 0.330055\n",
      "Threshold : 0.35\tFBeta : 0.339122\n",
      "Threshold : 0.40\tFBeta : 0.346451\n",
      "Threshold : 0.45\tFBeta : 0.352662\n",
      "Threshold : 0.50\tFBeta : 0.357515\n",
      "Threshold : 0.55\tFBeta : 0.362466\n",
      "Threshold : 0.60\tFBeta : 0.367412\n",
      "Threshold : 0.65\tFBeta : 0.372069\n",
      "Threshold : 0.70\tFBeta : 0.376275\n",
      "Threshold : 0.75\tFBeta : 0.380659\n",
      "Threshold : 0.80\tFBeta : 0.384311\n",
      "\n"
     ]
    },
    {
     "name": "stderr",
     "output_type": "stream",
     "text": [
      "Epoch 256/500  Mem : 19.8GB  LR : 5.37E-05  Loss: 0.3698: 100%|██████████| 8/8 [00:30<00:00,  3.84s/it]                                                                                                                                                      \n",
      "Val Loss: 0.8313: 100%|██████████| 3/3 [00:08<00:00,  2.86s/it]                                                                                                                                                                                              \n"
     ]
    },
    {
     "name": "stdout",
     "output_type": "stream",
     "text": [
      "Threshold : 0.20\tFBeta : 0.254530\n",
      "Threshold : 0.25\tFBeta : 0.259820\n",
      "Threshold : 0.30\tFBeta : 0.264122\n",
      "Threshold : 0.35\tFBeta : 0.267764\n",
      "Threshold : 0.40\tFBeta : 0.270786\n",
      "Threshold : 0.45\tFBeta : 0.273559\n",
      "Threshold : 0.50\tFBeta : 0.276086\n",
      "Threshold : 0.55\tFBeta : 0.278432\n",
      "Threshold : 0.60\tFBeta : 0.280618\n",
      "Threshold : 0.65\tFBeta : 0.282955\n",
      "Threshold : 0.70\tFBeta : 0.285538\n",
      "Threshold : 0.75\tFBeta : 0.288129\n",
      "Threshold : 0.80\tFBeta : 0.291278\n",
      "\n"
     ]
    },
    {
     "name": "stderr",
     "output_type": "stream",
     "text": [
      "Epoch 257/500  Mem : 19.8GB  LR : 5.40E-05  Loss: 0.3881: 100%|██████████| 8/8 [00:30<00:00,  3.78s/it]                                                                                                                                                      \n",
      "Val Loss: 0.6909: 100%|██████████| 3/3 [00:08<00:00,  2.86s/it]                                                                                                                                                                                              \n"
     ]
    },
    {
     "name": "stdout",
     "output_type": "stream",
     "text": [
      "Threshold : 0.20\tFBeta : 0.260391\n",
      "Threshold : 0.25\tFBeta : 0.269281\n",
      "Threshold : 0.30\tFBeta : 0.277074\n",
      "Threshold : 0.35\tFBeta : 0.283236\n",
      "Threshold : 0.40\tFBeta : 0.288829\n",
      "Threshold : 0.45\tFBeta : 0.293915\n",
      "Threshold : 0.50\tFBeta : 0.298847\n",
      "Threshold : 0.55\tFBeta : 0.304476\n",
      "Threshold : 0.60\tFBeta : 0.310045\n",
      "Threshold : 0.65\tFBeta : 0.315907\n",
      "Threshold : 0.70\tFBeta : 0.322189\n",
      "Threshold : 0.75\tFBeta : 0.329845\n",
      "Threshold : 0.80\tFBeta : 0.338364\n",
      "\n"
     ]
    },
    {
     "name": "stderr",
     "output_type": "stream",
     "text": [
      "Epoch 258/500  Mem : 19.8GB  LR : 5.43E-05  Loss: 0.3691: 100%|██████████| 8/8 [00:31<00:00,  3.90s/it]                                                                                                                                                      \n",
      "Val Loss: 0.7926: 100%|██████████| 3/3 [00:08<00:00,  2.86s/it]                                                                                                                                                                                              \n"
     ]
    },
    {
     "name": "stdout",
     "output_type": "stream",
     "text": [
      "Threshold : 0.20\tFBeta : 0.254410\n",
      "Threshold : 0.25\tFBeta : 0.259509\n",
      "Threshold : 0.30\tFBeta : 0.264792\n",
      "Threshold : 0.35\tFBeta : 0.269518\n",
      "Threshold : 0.40\tFBeta : 0.273542\n",
      "Threshold : 0.45\tFBeta : 0.277010\n",
      "Threshold : 0.50\tFBeta : 0.280115\n",
      "Threshold : 0.55\tFBeta : 0.283596\n",
      "Threshold : 0.60\tFBeta : 0.287448\n",
      "Threshold : 0.65\tFBeta : 0.291521\n",
      "Threshold : 0.70\tFBeta : 0.296262\n",
      "Threshold : 0.75\tFBeta : 0.301977\n",
      "Threshold : 0.80\tFBeta : 0.308392\n",
      "\n"
     ]
    },
    {
     "name": "stderr",
     "output_type": "stream",
     "text": [
      "Epoch 259/500  Mem : 19.8GB  LR : 5.46E-05  Loss: 0.3529: 100%|██████████| 8/8 [00:31<00:00,  4.00s/it]                                                                                                                                                      \n",
      "Val Loss: 0.6873: 100%|██████████| 3/3 [00:08<00:00,  2.91s/it]                                                                                                                                                                                              \n"
     ]
    },
    {
     "name": "stdout",
     "output_type": "stream",
     "text": [
      "Threshold : 0.20\tFBeta : 0.258295\n",
      "Threshold : 0.25\tFBeta : 0.266352\n",
      "Threshold : 0.30\tFBeta : 0.273024\n",
      "Threshold : 0.35\tFBeta : 0.278690\n",
      "Threshold : 0.40\tFBeta : 0.283968\n",
      "Threshold : 0.45\tFBeta : 0.289292\n",
      "Threshold : 0.50\tFBeta : 0.294790\n",
      "Threshold : 0.55\tFBeta : 0.300007\n",
      "Threshold : 0.60\tFBeta : 0.304892\n",
      "Threshold : 0.65\tFBeta : 0.310343\n",
      "Threshold : 0.70\tFBeta : 0.315839\n",
      "Threshold : 0.75\tFBeta : 0.321374\n",
      "Threshold : 0.80\tFBeta : 0.327062\n",
      "\n"
     ]
    },
    {
     "name": "stderr",
     "output_type": "stream",
     "text": [
      "Epoch 260/500  Mem : 19.8GB  LR : 5.49E-05  Loss: 0.3732: 100%|██████████| 8/8 [00:32<00:00,  4.01s/it]                                                                                                                                                      \n",
      "Val Loss: 0.7498: 100%|██████████| 3/3 [00:08<00:00,  2.87s/it]                                                                                                                                                                                              \n"
     ]
    },
    {
     "name": "stdout",
     "output_type": "stream",
     "text": [
      "Threshold : 0.20\tFBeta : 0.250554\n",
      "Threshold : 0.25\tFBeta : 0.257734\n",
      "Threshold : 0.30\tFBeta : 0.263545\n",
      "Threshold : 0.35\tFBeta : 0.268989\n",
      "Threshold : 0.40\tFBeta : 0.273700\n",
      "Threshold : 0.45\tFBeta : 0.277862\n",
      "Threshold : 0.50\tFBeta : 0.282118\n",
      "Threshold : 0.55\tFBeta : 0.286775\n",
      "Threshold : 0.60\tFBeta : 0.291102\n",
      "Threshold : 0.65\tFBeta : 0.294962\n",
      "Threshold : 0.70\tFBeta : 0.299454\n",
      "Threshold : 0.75\tFBeta : 0.304596\n",
      "Threshold : 0.80\tFBeta : 0.310854\n",
      "\n"
     ]
    },
    {
     "name": "stderr",
     "output_type": "stream",
     "text": [
      "Epoch 261/500  Mem : 19.8GB  LR : 5.52E-05  Loss: 0.3442: 100%|██████████| 8/8 [00:31<00:00,  3.95s/it]                                                                                                                                                      \n",
      "Val Loss: 0.7071: 100%|██████████| 3/3 [00:08<00:00,  2.85s/it]                                                                                                                                                                                              \n"
     ]
    },
    {
     "name": "stdout",
     "output_type": "stream",
     "text": [
      "Threshold : 0.20\tFBeta : 0.255228\n",
      "Threshold : 0.25\tFBeta : 0.261714\n",
      "Threshold : 0.30\tFBeta : 0.267231\n",
      "Threshold : 0.35\tFBeta : 0.271715\n",
      "Threshold : 0.40\tFBeta : 0.275739\n",
      "Threshold : 0.45\tFBeta : 0.279341\n",
      "Threshold : 0.50\tFBeta : 0.282494\n",
      "Threshold : 0.55\tFBeta : 0.285325\n",
      "Threshold : 0.60\tFBeta : 0.287972\n",
      "Threshold : 0.65\tFBeta : 0.290831\n",
      "Threshold : 0.70\tFBeta : 0.294474\n",
      "Threshold : 0.75\tFBeta : 0.298052\n",
      "Threshold : 0.80\tFBeta : 0.301141\n",
      "\n"
     ]
    },
    {
     "name": "stderr",
     "output_type": "stream",
     "text": [
      "Epoch 262/500  Mem : 19.8GB  LR : 5.55E-05  Loss: 0.3532: 100%|██████████| 8/8 [00:30<00:00,  3.87s/it]                                                                                                                                                      \n",
      "Val Loss: 0.6436: 100%|██████████| 3/3 [00:08<00:00,  2.92s/it]                                                                                                                                                                                              \n"
     ]
    },
    {
     "name": "stdout",
     "output_type": "stream",
     "text": [
      "Threshold : 0.20\tFBeta : 0.264211\n",
      "Threshold : 0.25\tFBeta : 0.272845\n",
      "Threshold : 0.30\tFBeta : 0.277960\n",
      "Threshold : 0.35\tFBeta : 0.281801\n",
      "Threshold : 0.40\tFBeta : 0.284945\n",
      "Threshold : 0.45\tFBeta : 0.288286\n",
      "Threshold : 0.50\tFBeta : 0.291096\n",
      "Threshold : 0.55\tFBeta : 0.293169\n",
      "Threshold : 0.60\tFBeta : 0.295051\n",
      "Threshold : 0.65\tFBeta : 0.296771\n",
      "Threshold : 0.70\tFBeta : 0.298399\n",
      "Threshold : 0.75\tFBeta : 0.300507\n",
      "Threshold : 0.80\tFBeta : 0.302827\n",
      "\n"
     ]
    },
    {
     "name": "stderr",
     "output_type": "stream",
     "text": [
      "Epoch 263/500  Mem : 19.8GB  LR : 5.58E-05  Loss: 0.3346: 100%|██████████| 8/8 [00:30<00:00,  3.83s/it]                                                                                                                                                      \n",
      "Val Loss: 0.6724: 100%|██████████| 3/3 [00:08<00:00,  2.85s/it]                                                                                                                                                                                              \n"
     ]
    },
    {
     "name": "stdout",
     "output_type": "stream",
     "text": [
      "Threshold : 0.20\tFBeta : 0.262513\n",
      "Threshold : 0.25\tFBeta : 0.271713\n",
      "Threshold : 0.30\tFBeta : 0.278212\n",
      "Threshold : 0.35\tFBeta : 0.283926\n",
      "Threshold : 0.40\tFBeta : 0.289524\n",
      "Threshold : 0.45\tFBeta : 0.294858\n",
      "Threshold : 0.50\tFBeta : 0.300119\n",
      "Threshold : 0.55\tFBeta : 0.305449\n",
      "Threshold : 0.60\tFBeta : 0.310405\n",
      "Threshold : 0.65\tFBeta : 0.315598\n",
      "Threshold : 0.70\tFBeta : 0.320005\n",
      "Threshold : 0.75\tFBeta : 0.324863\n",
      "Threshold : 0.80\tFBeta : 0.329854\n",
      "\n"
     ]
    },
    {
     "name": "stderr",
     "output_type": "stream",
     "text": [
      "Epoch 264/500  Mem : 19.8GB  LR : 5.61E-05  Loss: 0.3575: 100%|██████████| 8/8 [00:31<00:00,  3.97s/it]                                                                                                                                                      \n",
      "Val Loss: 0.5465: 100%|██████████| 3/3 [00:08<00:00,  2.86s/it]                                                                                                                                                                                              \n"
     ]
    },
    {
     "name": "stdout",
     "output_type": "stream",
     "text": [
      "Threshold : 0.20\tFBeta : 0.303194\n",
      "Threshold : 0.25\tFBeta : 0.317362\n",
      "Threshold : 0.30\tFBeta : 0.326465\n",
      "Threshold : 0.35\tFBeta : 0.331715\n",
      "Threshold : 0.40\tFBeta : 0.335892\n",
      "Threshold : 0.45\tFBeta : 0.339340\n",
      "Threshold : 0.50\tFBeta : 0.343026\n",
      "Threshold : 0.55\tFBeta : 0.346013\n",
      "Threshold : 0.60\tFBeta : 0.348505\n",
      "Threshold : 0.65\tFBeta : 0.349678\n",
      "Threshold : 0.70\tFBeta : 0.348815\n",
      "Threshold : 0.75\tFBeta : 0.344675\n",
      "Threshold : 0.80\tFBeta : 0.335949\n",
      "\n"
     ]
    },
    {
     "name": "stderr",
     "output_type": "stream",
     "text": [
      "Epoch 265/500  Mem : 19.8GB  LR : 5.64E-05  Loss: 0.3632: 100%|██████████| 8/8 [00:30<00:00,  3.85s/it]                                                                                                                                                      \n",
      "Val Loss: 0.7097: 100%|██████████| 3/3 [00:08<00:00,  2.85s/it]                                                                                                                                                                                              \n"
     ]
    },
    {
     "name": "stdout",
     "output_type": "stream",
     "text": [
      "Threshold : 0.20\tFBeta : 0.259774\n",
      "Threshold : 0.25\tFBeta : 0.267886\n",
      "Threshold : 0.30\tFBeta : 0.274172\n",
      "Threshold : 0.35\tFBeta : 0.279631\n",
      "Threshold : 0.40\tFBeta : 0.284048\n",
      "Threshold : 0.45\tFBeta : 0.288427\n",
      "Threshold : 0.50\tFBeta : 0.292358\n",
      "Threshold : 0.55\tFBeta : 0.296444\n",
      "Threshold : 0.60\tFBeta : 0.300856\n",
      "Threshold : 0.65\tFBeta : 0.305413\n",
      "Threshold : 0.70\tFBeta : 0.310268\n",
      "Threshold : 0.75\tFBeta : 0.315547\n",
      "Threshold : 0.80\tFBeta : 0.321361\n",
      "\n"
     ]
    },
    {
     "name": "stderr",
     "output_type": "stream",
     "text": [
      "Epoch 266/500  Mem : 19.8GB  LR : 5.67E-05  Loss: 0.3499: 100%|██████████| 8/8 [00:31<00:00,  3.99s/it]                                                                                                                                                      \n",
      "Val Loss: 0.6425: 100%|██████████| 3/3 [00:08<00:00,  2.87s/it]                                                                                                                                                                                              \n"
     ]
    },
    {
     "name": "stdout",
     "output_type": "stream",
     "text": [
      "Threshold : 0.20\tFBeta : 0.260920\n",
      "Threshold : 0.25\tFBeta : 0.272084\n",
      "Threshold : 0.30\tFBeta : 0.281167\n",
      "Threshold : 0.35\tFBeta : 0.289013\n",
      "Threshold : 0.40\tFBeta : 0.295748\n",
      "Threshold : 0.45\tFBeta : 0.302522\n",
      "Threshold : 0.50\tFBeta : 0.309298\n",
      "Threshold : 0.55\tFBeta : 0.315625\n",
      "Threshold : 0.60\tFBeta : 0.321760\n",
      "Threshold : 0.65\tFBeta : 0.328033\n",
      "Threshold : 0.70\tFBeta : 0.334471\n",
      "Threshold : 0.75\tFBeta : 0.341190\n",
      "Threshold : 0.80\tFBeta : 0.348975\n",
      "\n"
     ]
    },
    {
     "name": "stderr",
     "output_type": "stream",
     "text": [
      "Epoch 267/500  Mem : 19.8GB  LR : 5.70E-05  Loss: 0.3498: 100%|██████████| 8/8 [00:30<00:00,  3.82s/it]                                                                                                                                                      \n",
      "Val Loss: 0.6583: 100%|██████████| 3/3 [00:08<00:00,  2.85s/it]                                                                                                                                                                                              \n"
     ]
    },
    {
     "name": "stdout",
     "output_type": "stream",
     "text": [
      "Threshold : 0.20\tFBeta : 0.263097\n",
      "Threshold : 0.25\tFBeta : 0.272737\n",
      "Threshold : 0.30\tFBeta : 0.280893\n",
      "Threshold : 0.35\tFBeta : 0.287982\n",
      "Threshold : 0.40\tFBeta : 0.293764\n",
      "Threshold : 0.45\tFBeta : 0.298943\n",
      "Threshold : 0.50\tFBeta : 0.304333\n",
      "Threshold : 0.55\tFBeta : 0.309813\n",
      "Threshold : 0.60\tFBeta : 0.315590\n",
      "Threshold : 0.65\tFBeta : 0.321326\n",
      "Threshold : 0.70\tFBeta : 0.327908\n",
      "Threshold : 0.75\tFBeta : 0.334385\n",
      "Threshold : 0.80\tFBeta : 0.341183\n",
      "\n"
     ]
    },
    {
     "name": "stderr",
     "output_type": "stream",
     "text": [
      "Epoch 268/500  Mem : 19.8GB  LR : 5.73E-05  Loss: 0.3464: 100%|██████████| 8/8 [00:31<00:00,  3.98s/it]                                                                                                                                                      \n",
      "Val Loss: 0.6586: 100%|██████████| 3/3 [00:08<00:00,  2.86s/it]                                                                                                                                                                                              \n"
     ]
    },
    {
     "name": "stdout",
     "output_type": "stream",
     "text": [
      "Threshold : 0.20\tFBeta : 0.268898\n",
      "Threshold : 0.25\tFBeta : 0.278390\n",
      "Threshold : 0.30\tFBeta : 0.286452\n",
      "Threshold : 0.35\tFBeta : 0.293432\n",
      "Threshold : 0.40\tFBeta : 0.299687\n",
      "Threshold : 0.45\tFBeta : 0.305067\n",
      "Threshold : 0.50\tFBeta : 0.310331\n",
      "Threshold : 0.55\tFBeta : 0.315670\n",
      "Threshold : 0.60\tFBeta : 0.320883\n",
      "Threshold : 0.65\tFBeta : 0.326314\n",
      "Threshold : 0.70\tFBeta : 0.331725\n",
      "Threshold : 0.75\tFBeta : 0.337106\n",
      "Threshold : 0.80\tFBeta : 0.343323\n",
      "\n"
     ]
    },
    {
     "name": "stderr",
     "output_type": "stream",
     "text": [
      "Epoch 269/500  Mem : 19.8GB  LR : 5.76E-05  Loss: 0.3432: 100%|██████████| 8/8 [00:31<00:00,  3.99s/it]                                                                                                                                                      \n",
      "Val Loss: 0.5866: 100%|██████████| 3/3 [00:08<00:00,  2.86s/it]                                                                                                                                                                                              \n"
     ]
    },
    {
     "name": "stdout",
     "output_type": "stream",
     "text": [
      "Threshold : 0.20\tFBeta : 0.287377\n",
      "Threshold : 0.25\tFBeta : 0.298013\n",
      "Threshold : 0.30\tFBeta : 0.305899\n",
      "Threshold : 0.35\tFBeta : 0.311866\n",
      "Threshold : 0.40\tFBeta : 0.317211\n",
      "Threshold : 0.45\tFBeta : 0.321630\n",
      "Threshold : 0.50\tFBeta : 0.325942\n",
      "Threshold : 0.55\tFBeta : 0.330006\n",
      "Threshold : 0.60\tFBeta : 0.333768\n",
      "Threshold : 0.65\tFBeta : 0.336952\n",
      "Threshold : 0.70\tFBeta : 0.338908\n",
      "Threshold : 0.75\tFBeta : 0.340055\n",
      "Threshold : 0.80\tFBeta : 0.340598\n",
      "\n"
     ]
    },
    {
     "name": "stderr",
     "output_type": "stream",
     "text": [
      "Epoch 270/500  Mem : 19.8GB  LR : 5.79E-05  Loss: 0.3451: 100%|██████████| 8/8 [00:31<00:00,  3.90s/it]                                                                                                                                                      \n",
      "Val Loss: 0.6304: 100%|██████████| 3/3 [00:08<00:00,  2.86s/it]                                                                                                                                                                                              \n"
     ]
    },
    {
     "name": "stdout",
     "output_type": "stream",
     "text": [
      "Threshold : 0.20\tFBeta : 0.266043\n",
      "Threshold : 0.25\tFBeta : 0.275907\n",
      "Threshold : 0.30\tFBeta : 0.283410\n",
      "Threshold : 0.35\tFBeta : 0.289910\n",
      "Threshold : 0.40\tFBeta : 0.295897\n",
      "Threshold : 0.45\tFBeta : 0.300811\n",
      "Threshold : 0.50\tFBeta : 0.305498\n",
      "Threshold : 0.55\tFBeta : 0.310670\n",
      "Threshold : 0.60\tFBeta : 0.315579\n",
      "Threshold : 0.65\tFBeta : 0.320040\n",
      "Threshold : 0.70\tFBeta : 0.324808\n",
      "Threshold : 0.75\tFBeta : 0.330552\n",
      "Threshold : 0.80\tFBeta : 0.337064\n",
      "\n"
     ]
    },
    {
     "name": "stderr",
     "output_type": "stream",
     "text": [
      "Epoch 271/500  Mem : 19.8GB  LR : 5.82E-05  Loss: 0.3530: 100%|██████████| 8/8 [00:30<00:00,  3.86s/it]                                                                                                                                                      \n",
      "Val Loss: 0.6525: 100%|██████████| 3/3 [00:08<00:00,  2.86s/it]                                                                                                                                                                                              \n"
     ]
    },
    {
     "name": "stdout",
     "output_type": "stream",
     "text": [
      "Threshold : 0.20\tFBeta : 0.269086\n",
      "Threshold : 0.25\tFBeta : 0.275762\n",
      "Threshold : 0.30\tFBeta : 0.281444\n",
      "Threshold : 0.35\tFBeta : 0.286480\n",
      "Threshold : 0.40\tFBeta : 0.290387\n",
      "Threshold : 0.45\tFBeta : 0.294092\n",
      "Threshold : 0.50\tFBeta : 0.297989\n",
      "Threshold : 0.55\tFBeta : 0.301521\n",
      "Threshold : 0.60\tFBeta : 0.305293\n",
      "Threshold : 0.65\tFBeta : 0.308493\n",
      "Threshold : 0.70\tFBeta : 0.311082\n",
      "Threshold : 0.75\tFBeta : 0.313254\n",
      "Threshold : 0.80\tFBeta : 0.314912\n",
      "\n"
     ]
    },
    {
     "name": "stderr",
     "output_type": "stream",
     "text": [
      "Epoch 272/500  Mem : 19.8GB  LR : 5.85E-05  Loss: 0.3436: 100%|██████████| 8/8 [00:31<00:00,  3.97s/it]                                                                                                                                                      \n",
      "Val Loss: 0.9903: 100%|██████████| 3/3 [00:08<00:00,  2.86s/it]                                                                                                                                                                                              \n"
     ]
    },
    {
     "name": "stdout",
     "output_type": "stream",
     "text": [
      "Threshold : 0.20\tFBeta : 0.246962\n",
      "Threshold : 0.25\tFBeta : 0.249685\n",
      "Threshold : 0.30\tFBeta : 0.251784\n",
      "Threshold : 0.35\tFBeta : 0.253693\n",
      "Threshold : 0.40\tFBeta : 0.255658\n",
      "Threshold : 0.45\tFBeta : 0.257622\n",
      "Threshold : 0.50\tFBeta : 0.259662\n",
      "Threshold : 0.55\tFBeta : 0.261681\n",
      "Threshold : 0.60\tFBeta : 0.263869\n",
      "Threshold : 0.65\tFBeta : 0.266296\n",
      "Threshold : 0.70\tFBeta : 0.268994\n",
      "Threshold : 0.75\tFBeta : 0.271952\n",
      "Threshold : 0.80\tFBeta : 0.275464\n",
      "\n"
     ]
    },
    {
     "name": "stderr",
     "output_type": "stream",
     "text": [
      "Epoch 273/500  Mem : 19.8GB  LR : 5.88E-05  Loss: 0.3374: 100%|██████████| 8/8 [00:32<00:00,  4.03s/it]                                                                                                                                                      \n",
      "Val Loss: 0.7384: 100%|██████████| 3/3 [00:08<00:00,  2.86s/it]                                                                                                                                                                                              \n"
     ]
    },
    {
     "name": "stdout",
     "output_type": "stream",
     "text": [
      "Threshold : 0.20\tFBeta : 0.258487\n",
      "Threshold : 0.25\tFBeta : 0.264048\n",
      "Threshold : 0.30\tFBeta : 0.268177\n",
      "Threshold : 0.35\tFBeta : 0.271296\n",
      "Threshold : 0.40\tFBeta : 0.274134\n",
      "Threshold : 0.45\tFBeta : 0.276716\n",
      "Threshold : 0.50\tFBeta : 0.279460\n",
      "Threshold : 0.55\tFBeta : 0.282053\n",
      "Threshold : 0.60\tFBeta : 0.284748\n",
      "Threshold : 0.65\tFBeta : 0.287559\n",
      "Threshold : 0.70\tFBeta : 0.290386\n",
      "Threshold : 0.75\tFBeta : 0.293900\n",
      "Threshold : 0.80\tFBeta : 0.298327\n",
      "\n"
     ]
    },
    {
     "name": "stderr",
     "output_type": "stream",
     "text": [
      "Epoch 274/500  Mem : 19.8GB  LR : 5.91E-05  Loss: 0.3155: 100%|██████████| 8/8 [00:30<00:00,  3.83s/it]                                                                                                                                                      \n",
      "Val Loss: 0.6137: 100%|██████████| 3/3 [00:08<00:00,  2.86s/it]                                                                                                                                                                                              \n"
     ]
    },
    {
     "name": "stdout",
     "output_type": "stream",
     "text": [
      "Threshold : 0.20\tFBeta : 0.284230\n",
      "Threshold : 0.25\tFBeta : 0.292204\n",
      "Threshold : 0.30\tFBeta : 0.297816\n",
      "Threshold : 0.35\tFBeta : 0.302386\n",
      "Threshold : 0.40\tFBeta : 0.307144\n",
      "Threshold : 0.45\tFBeta : 0.312048\n",
      "Threshold : 0.50\tFBeta : 0.316608\n",
      "Threshold : 0.55\tFBeta : 0.320864\n",
      "Threshold : 0.60\tFBeta : 0.325116\n",
      "Threshold : 0.65\tFBeta : 0.329491\n",
      "Threshold : 0.70\tFBeta : 0.333897\n",
      "Threshold : 0.75\tFBeta : 0.337896\n",
      "Threshold : 0.80\tFBeta : 0.341574\n",
      "\n"
     ]
    },
    {
     "name": "stderr",
     "output_type": "stream",
     "text": [
      "Epoch 275/500  Mem : 19.8GB  LR : 5.94E-05  Loss: 0.3513: 100%|██████████| 8/8 [00:31<00:00,  3.91s/it]                                                                                                                                                      \n",
      "Val Loss: 0.7766: 100%|██████████| 3/3 [00:08<00:00,  2.87s/it]                                                                                                                                                                                              \n"
     ]
    },
    {
     "name": "stdout",
     "output_type": "stream",
     "text": [
      "Threshold : 0.20\tFBeta : 0.255027\n",
      "Threshold : 0.25\tFBeta : 0.260240\n",
      "Threshold : 0.30\tFBeta : 0.264649\n",
      "Threshold : 0.35\tFBeta : 0.268022\n",
      "Threshold : 0.40\tFBeta : 0.270908\n",
      "Threshold : 0.45\tFBeta : 0.273645\n",
      "Threshold : 0.50\tFBeta : 0.275964\n",
      "Threshold : 0.55\tFBeta : 0.278672\n",
      "Threshold : 0.60\tFBeta : 0.281462\n",
      "Threshold : 0.65\tFBeta : 0.284247\n",
      "Threshold : 0.70\tFBeta : 0.287275\n",
      "Threshold : 0.75\tFBeta : 0.290666\n",
      "Threshold : 0.80\tFBeta : 0.294872\n",
      "\n"
     ]
    },
    {
     "name": "stderr",
     "output_type": "stream",
     "text": [
      "Epoch 276/500  Mem : 19.8GB  LR : 5.97E-05  Loss: 0.3438: 100%|██████████| 8/8 [00:31<00:00,  3.92s/it]                                                                                                                                                      \n",
      "Val Loss: 0.7383: 100%|██████████| 3/3 [00:08<00:00,  2.84s/it]                                                                                                                                                                                              \n"
     ]
    },
    {
     "name": "stdout",
     "output_type": "stream",
     "text": [
      "Threshold : 0.20\tFBeta : 0.268203\n",
      "Threshold : 0.25\tFBeta : 0.276695\n",
      "Threshold : 0.30\tFBeta : 0.282411\n",
      "Threshold : 0.35\tFBeta : 0.287094\n",
      "Threshold : 0.40\tFBeta : 0.291811\n",
      "Threshold : 0.45\tFBeta : 0.296489\n",
      "Threshold : 0.50\tFBeta : 0.301361\n",
      "Threshold : 0.55\tFBeta : 0.305920\n",
      "Threshold : 0.60\tFBeta : 0.310269\n",
      "Threshold : 0.65\tFBeta : 0.314726\n",
      "Threshold : 0.70\tFBeta : 0.319153\n",
      "Threshold : 0.75\tFBeta : 0.324259\n",
      "Threshold : 0.80\tFBeta : 0.330166\n",
      "\n"
     ]
    },
    {
     "name": "stderr",
     "output_type": "stream",
     "text": [
      "Epoch 277/500  Mem : 19.8GB  LR : 6.00E-05  Loss: 0.3436: 100%|██████████| 8/8 [00:31<00:00,  3.88s/it]                                                                                                                                                      \n",
      "Val Loss: 0.7204: 100%|██████████| 3/3 [00:08<00:00,  2.87s/it]                                                                                                                                                                                              \n"
     ]
    },
    {
     "name": "stdout",
     "output_type": "stream",
     "text": [
      "Threshold : 0.20\tFBeta : 0.256358\n",
      "Threshold : 0.25\tFBeta : 0.263384\n",
      "Threshold : 0.30\tFBeta : 0.268504\n",
      "Threshold : 0.35\tFBeta : 0.273028\n",
      "Threshold : 0.40\tFBeta : 0.277398\n",
      "Threshold : 0.45\tFBeta : 0.281289\n",
      "Threshold : 0.50\tFBeta : 0.284658\n",
      "Threshold : 0.55\tFBeta : 0.287825\n",
      "Threshold : 0.60\tFBeta : 0.291294\n",
      "Threshold : 0.65\tFBeta : 0.295279\n",
      "Threshold : 0.70\tFBeta : 0.299561\n",
      "Threshold : 0.75\tFBeta : 0.304524\n",
      "Threshold : 0.80\tFBeta : 0.310425\n",
      "\n"
     ]
    },
    {
     "name": "stderr",
     "output_type": "stream",
     "text": [
      "Epoch 278/500  Mem : 19.8GB  LR : 6.03E-05  Loss: 0.3256: 100%|██████████| 8/8 [00:31<00:00,  3.99s/it]                                                                                                                                                      \n",
      "Val Loss: 0.7252: 100%|██████████| 3/3 [00:08<00:00,  2.86s/it]                                                                                                                                                                                              \n"
     ]
    },
    {
     "name": "stdout",
     "output_type": "stream",
     "text": [
      "Threshold : 0.20\tFBeta : 0.262920\n",
      "Threshold : 0.25\tFBeta : 0.270787\n",
      "Threshold : 0.30\tFBeta : 0.277136\n",
      "Threshold : 0.35\tFBeta : 0.282279\n",
      "Threshold : 0.40\tFBeta : 0.287133\n",
      "Threshold : 0.45\tFBeta : 0.291992\n",
      "Threshold : 0.50\tFBeta : 0.296941\n",
      "Threshold : 0.55\tFBeta : 0.302052\n",
      "Threshold : 0.60\tFBeta : 0.307256\n",
      "Threshold : 0.65\tFBeta : 0.312592\n",
      "Threshold : 0.70\tFBeta : 0.318467\n",
      "Threshold : 0.75\tFBeta : 0.325516\n",
      "Threshold : 0.80\tFBeta : 0.333000\n",
      "\n"
     ]
    },
    {
     "name": "stderr",
     "output_type": "stream",
     "text": [
      "Epoch 279/500  Mem : 19.8GB  LR : 6.06E-05  Loss: 0.3463: 100%|██████████| 8/8 [00:30<00:00,  3.80s/it]                                                                                                                                                      \n",
      "Val Loss: 0.6796: 100%|██████████| 3/3 [00:08<00:00,  2.87s/it]                                                                                                                                                                                              \n"
     ]
    },
    {
     "name": "stdout",
     "output_type": "stream",
     "text": [
      "Threshold : 0.20\tFBeta : 0.264525\n",
      "Threshold : 0.25\tFBeta : 0.272096\n",
      "Threshold : 0.30\tFBeta : 0.277853\n",
      "Threshold : 0.35\tFBeta : 0.282648\n",
      "Threshold : 0.40\tFBeta : 0.286633\n",
      "Threshold : 0.45\tFBeta : 0.290386\n",
      "Threshold : 0.50\tFBeta : 0.294191\n",
      "Threshold : 0.55\tFBeta : 0.297842\n",
      "Threshold : 0.60\tFBeta : 0.301860\n",
      "Threshold : 0.65\tFBeta : 0.306145\n",
      "Threshold : 0.70\tFBeta : 0.310174\n",
      "Threshold : 0.75\tFBeta : 0.315002\n",
      "Threshold : 0.80\tFBeta : 0.320931\n",
      "\n"
     ]
    },
    {
     "name": "stderr",
     "output_type": "stream",
     "text": [
      "Epoch 280/500  Mem : 19.8GB  LR : 6.09E-05  Loss: 0.3284: 100%|██████████| 8/8 [00:31<00:00,  3.88s/it]                                                                                                                                                      \n",
      "Val Loss: 0.5937: 100%|██████████| 3/3 [00:08<00:00,  2.86s/it]                                                                                                                                                                                              \n"
     ]
    },
    {
     "name": "stdout",
     "output_type": "stream",
     "text": [
      "Threshold : 0.20\tFBeta : 0.286738\n",
      "Threshold : 0.25\tFBeta : 0.296632\n",
      "Threshold : 0.30\tFBeta : 0.303373\n",
      "Threshold : 0.35\tFBeta : 0.308030\n",
      "Threshold : 0.40\tFBeta : 0.312751\n",
      "Threshold : 0.45\tFBeta : 0.316735\n",
      "Threshold : 0.50\tFBeta : 0.320550\n",
      "Threshold : 0.55\tFBeta : 0.324094\n",
      "Threshold : 0.60\tFBeta : 0.328274\n",
      "Threshold : 0.65\tFBeta : 0.333124\n",
      "Threshold : 0.70\tFBeta : 0.337882\n",
      "Threshold : 0.75\tFBeta : 0.341845\n",
      "Threshold : 0.80\tFBeta : 0.344430\n",
      "\n"
     ]
    },
    {
     "name": "stderr",
     "output_type": "stream",
     "text": [
      "Epoch 281/500  Mem : 19.8GB  LR : 6.12E-05  Loss: 0.3339: 100%|██████████| 8/8 [00:31<00:00,  3.94s/it]                                                                                                                                                      \n",
      "Val Loss: 0.6228: 100%|██████████| 3/3 [00:08<00:00,  2.91s/it]                                                                                                                                                                                              \n"
     ]
    },
    {
     "name": "stdout",
     "output_type": "stream",
     "text": [
      "Threshold : 0.20\tFBeta : 0.280553\n",
      "Threshold : 0.25\tFBeta : 0.289906\n",
      "Threshold : 0.30\tFBeta : 0.296839\n",
      "Threshold : 0.35\tFBeta : 0.302685\n",
      "Threshold : 0.40\tFBeta : 0.307823\n",
      "Threshold : 0.45\tFBeta : 0.312150\n",
      "Threshold : 0.50\tFBeta : 0.315675\n",
      "Threshold : 0.55\tFBeta : 0.318809\n",
      "Threshold : 0.60\tFBeta : 0.321833\n",
      "Threshold : 0.65\tFBeta : 0.325595\n",
      "Threshold : 0.70\tFBeta : 0.329944\n",
      "Threshold : 0.75\tFBeta : 0.334907\n",
      "Threshold : 0.80\tFBeta : 0.339833\n",
      "\n"
     ]
    },
    {
     "name": "stderr",
     "output_type": "stream",
     "text": [
      "Epoch 282/500  Mem : 19.8GB  LR : 6.15E-05  Loss: 0.3384: 100%|██████████| 8/8 [00:31<00:00,  3.91s/it]                                                                                                                                                      \n",
      "Val Loss: 0.7346: 100%|██████████| 3/3 [00:08<00:00,  2.86s/it]                                                                                                                                                                                              \n"
     ]
    },
    {
     "name": "stdout",
     "output_type": "stream",
     "text": [
      "Threshold : 0.20\tFBeta : 0.254741\n",
      "Threshold : 0.25\tFBeta : 0.260729\n",
      "Threshold : 0.30\tFBeta : 0.265698\n",
      "Threshold : 0.35\tFBeta : 0.270047\n",
      "Threshold : 0.40\tFBeta : 0.273658\n",
      "Threshold : 0.45\tFBeta : 0.276794\n",
      "Threshold : 0.50\tFBeta : 0.279713\n",
      "Threshold : 0.55\tFBeta : 0.282564\n",
      "Threshold : 0.60\tFBeta : 0.285941\n",
      "Threshold : 0.65\tFBeta : 0.289258\n",
      "Threshold : 0.70\tFBeta : 0.293301\n",
      "Threshold : 0.75\tFBeta : 0.297552\n",
      "Threshold : 0.80\tFBeta : 0.301798\n",
      "\n"
     ]
    },
    {
     "name": "stderr",
     "output_type": "stream",
     "text": [
      "Epoch 283/500  Mem : 19.8GB  LR : 6.18E-05  Loss: 0.3406: 100%|██████████| 8/8 [00:31<00:00,  3.94s/it]                                                                                                                                                      \n",
      "Val Loss: 0.8117: 100%|██████████| 3/3 [00:08<00:00,  2.85s/it]                                                                                                                                                                                              \n"
     ]
    },
    {
     "name": "stdout",
     "output_type": "stream",
     "text": [
      "Threshold : 0.20\tFBeta : 0.253984\n",
      "Threshold : 0.25\tFBeta : 0.259536\n",
      "Threshold : 0.30\tFBeta : 0.263678\n",
      "Threshold : 0.35\tFBeta : 0.266963\n",
      "Threshold : 0.40\tFBeta : 0.269930\n",
      "Threshold : 0.45\tFBeta : 0.272826\n",
      "Threshold : 0.50\tFBeta : 0.275400\n",
      "Threshold : 0.55\tFBeta : 0.277838\n",
      "Threshold : 0.60\tFBeta : 0.280342\n",
      "Threshold : 0.65\tFBeta : 0.282873\n",
      "Threshold : 0.70\tFBeta : 0.285439\n",
      "Threshold : 0.75\tFBeta : 0.288146\n",
      "Threshold : 0.80\tFBeta : 0.291106\n",
      "\n"
     ]
    },
    {
     "name": "stderr",
     "output_type": "stream",
     "text": [
      "Epoch 284/500  Mem : 19.8GB  LR : 6.20E-05  Loss: 0.3282: 100%|██████████| 8/8 [00:31<00:00,  3.90s/it]                                                                                                                                                      \n",
      "Val Loss: 0.6525: 100%|██████████| 3/3 [00:08<00:00,  2.92s/it]                                                                                                                                                                                              \n"
     ]
    },
    {
     "name": "stdout",
     "output_type": "stream",
     "text": [
      "Threshold : 0.20\tFBeta : 0.274221\n",
      "Threshold : 0.25\tFBeta : 0.284084\n",
      "Threshold : 0.30\tFBeta : 0.291175\n",
      "Threshold : 0.35\tFBeta : 0.296474\n",
      "Threshold : 0.40\tFBeta : 0.300660\n",
      "Threshold : 0.45\tFBeta : 0.304189\n",
      "Threshold : 0.50\tFBeta : 0.307460\n",
      "Threshold : 0.55\tFBeta : 0.310762\n",
      "Threshold : 0.60\tFBeta : 0.314178\n",
      "Threshold : 0.65\tFBeta : 0.317694\n",
      "Threshold : 0.70\tFBeta : 0.320841\n",
      "Threshold : 0.75\tFBeta : 0.322920\n",
      "Threshold : 0.80\tFBeta : 0.325336\n",
      "\n"
     ]
    },
    {
     "name": "stderr",
     "output_type": "stream",
     "text": [
      "Epoch 285/500  Mem : 19.8GB  LR : 6.23E-05  Loss: 0.3374: 100%|██████████| 8/8 [00:31<00:00,  3.91s/it]                                                                                                                                                      \n",
      "Val Loss: 0.6307: 100%|██████████| 3/3 [00:08<00:00,  2.84s/it]                                                                                                                                                                                              \n"
     ]
    },
    {
     "name": "stdout",
     "output_type": "stream",
     "text": [
      "Threshold : 0.20\tFBeta : 0.284933\n",
      "Threshold : 0.25\tFBeta : 0.296082\n",
      "Threshold : 0.30\tFBeta : 0.304476\n",
      "Threshold : 0.35\tFBeta : 0.310981\n",
      "Threshold : 0.40\tFBeta : 0.316230\n",
      "Threshold : 0.45\tFBeta : 0.320774\n",
      "Threshold : 0.50\tFBeta : 0.324501\n",
      "Threshold : 0.55\tFBeta : 0.328517\n",
      "Threshold : 0.60\tFBeta : 0.332713\n",
      "Threshold : 0.65\tFBeta : 0.337314\n",
      "Threshold : 0.70\tFBeta : 0.342180\n",
      "Threshold : 0.75\tFBeta : 0.347265\n",
      "Threshold : 0.80\tFBeta : 0.352575\n",
      "\n"
     ]
    },
    {
     "name": "stderr",
     "output_type": "stream",
     "text": [
      "Epoch 286/500  Mem : 19.8GB  LR : 6.26E-05  Loss: 0.3325: 100%|██████████| 8/8 [00:30<00:00,  3.86s/it]                                                                                                                                                      \n",
      "Val Loss: 0.6418: 100%|██████████| 3/3 [00:08<00:00,  2.86s/it]                                                                                                                                                                                              \n"
     ]
    },
    {
     "name": "stdout",
     "output_type": "stream",
     "text": [
      "Threshold : 0.20\tFBeta : 0.273091\n",
      "Threshold : 0.25\tFBeta : 0.280375\n",
      "Threshold : 0.30\tFBeta : 0.286693\n",
      "Threshold : 0.35\tFBeta : 0.291607\n",
      "Threshold : 0.40\tFBeta : 0.295441\n",
      "Threshold : 0.45\tFBeta : 0.299273\n",
      "Threshold : 0.50\tFBeta : 0.303137\n",
      "Threshold : 0.55\tFBeta : 0.306552\n",
      "Threshold : 0.60\tFBeta : 0.309590\n",
      "Threshold : 0.65\tFBeta : 0.312708\n",
      "Threshold : 0.70\tFBeta : 0.315844\n",
      "Threshold : 0.75\tFBeta : 0.319455\n",
      "Threshold : 0.80\tFBeta : 0.322892\n",
      "\n"
     ]
    },
    {
     "name": "stderr",
     "output_type": "stream",
     "text": [
      "Epoch 287/500  Mem : 19.8GB  LR : 6.29E-05  Loss: 0.3156: 100%|██████████| 8/8 [00:31<00:00,  3.91s/it]                                                                                                                                                      \n",
      "Val Loss: 0.8523: 100%|██████████| 3/3 [00:08<00:00,  2.85s/it]                                                                                                                                                                                              \n"
     ]
    },
    {
     "name": "stdout",
     "output_type": "stream",
     "text": [
      "Threshold : 0.20\tFBeta : 0.245818\n",
      "Threshold : 0.25\tFBeta : 0.250392\n",
      "Threshold : 0.30\tFBeta : 0.254114\n",
      "Threshold : 0.35\tFBeta : 0.257452\n",
      "Threshold : 0.40\tFBeta : 0.260606\n",
      "Threshold : 0.45\tFBeta : 0.263433\n",
      "Threshold : 0.50\tFBeta : 0.266351\n",
      "Threshold : 0.55\tFBeta : 0.269579\n",
      "Threshold : 0.60\tFBeta : 0.272827\n",
      "Threshold : 0.65\tFBeta : 0.276138\n",
      "Threshold : 0.70\tFBeta : 0.279819\n",
      "Threshold : 0.75\tFBeta : 0.284153\n",
      "Threshold : 0.80\tFBeta : 0.289800\n",
      "\n"
     ]
    },
    {
     "name": "stderr",
     "output_type": "stream",
     "text": [
      "Epoch 288/500  Mem : 19.8GB  LR : 6.32E-05  Loss: 0.3270: 100%|██████████| 8/8 [00:30<00:00,  3.87s/it]                                                                                                                                                      \n",
      "Val Loss: 0.5936: 100%|██████████| 3/3 [00:08<00:00,  2.87s/it]                                                                                                                                                                                              \n"
     ]
    },
    {
     "name": "stdout",
     "output_type": "stream",
     "text": [
      "Threshold : 0.20\tFBeta : 0.292052\n",
      "Threshold : 0.25\tFBeta : 0.303532\n",
      "Threshold : 0.30\tFBeta : 0.312969\n",
      "Threshold : 0.35\tFBeta : 0.321532\n",
      "Threshold : 0.40\tFBeta : 0.329510\n",
      "Threshold : 0.45\tFBeta : 0.335975\n",
      "Threshold : 0.50\tFBeta : 0.342141\n",
      "Threshold : 0.55\tFBeta : 0.348144\n",
      "Threshold : 0.60\tFBeta : 0.353853\n",
      "Threshold : 0.65\tFBeta : 0.359293\n",
      "Threshold : 0.70\tFBeta : 0.364808\n",
      "Threshold : 0.75\tFBeta : 0.370488\n",
      "Threshold : 0.80\tFBeta : 0.375334\n",
      "\n"
     ]
    },
    {
     "name": "stderr",
     "output_type": "stream",
     "text": [
      "Epoch 289/500  Mem : 19.8GB  LR : 6.35E-05  Loss: 0.3153: 100%|██████████| 8/8 [00:31<00:00,  3.96s/it]                                                                                                                                                      \n",
      "Val Loss: 0.5404: 100%|██████████| 3/3 [00:08<00:00,  2.87s/it]                                                                                                                                                                                              \n"
     ]
    },
    {
     "name": "stdout",
     "output_type": "stream",
     "text": [
      "Threshold : 0.20\tFBeta : 0.314219\n",
      "Threshold : 0.25\tFBeta : 0.328116\n",
      "Threshold : 0.30\tFBeta : 0.337144\n",
      "Threshold : 0.35\tFBeta : 0.343071\n",
      "Threshold : 0.40\tFBeta : 0.348709\n",
      "Threshold : 0.45\tFBeta : 0.353652\n",
      "Threshold : 0.50\tFBeta : 0.358503\n",
      "Threshold : 0.55\tFBeta : 0.362576\n",
      "Threshold : 0.60\tFBeta : 0.364976\n",
      "Threshold : 0.65\tFBeta : 0.366935\n",
      "Threshold : 0.70\tFBeta : 0.368726\n",
      "Threshold : 0.75\tFBeta : 0.369494\n",
      "Threshold : 0.80\tFBeta : 0.365452\n",
      "\n"
     ]
    },
    {
     "name": "stderr",
     "output_type": "stream",
     "text": [
      "Epoch 290/500  Mem : 19.8GB  LR : 6.38E-05  Loss: 0.3342: 100%|██████████| 8/8 [00:31<00:00,  3.88s/it]                                                                                                                                                      \n",
      "Val Loss: 0.6417: 100%|██████████| 3/3 [00:08<00:00,  2.88s/it]                                                                                                                                                                                              \n"
     ]
    },
    {
     "name": "stdout",
     "output_type": "stream",
     "text": [
      "Threshold : 0.20\tFBeta : 0.268062\n",
      "Threshold : 0.25\tFBeta : 0.274663\n",
      "Threshold : 0.30\tFBeta : 0.279014\n",
      "Threshold : 0.35\tFBeta : 0.282699\n",
      "Threshold : 0.40\tFBeta : 0.286538\n",
      "Threshold : 0.45\tFBeta : 0.290641\n",
      "Threshold : 0.50\tFBeta : 0.294944\n",
      "Threshold : 0.55\tFBeta : 0.299113\n",
      "Threshold : 0.60\tFBeta : 0.303261\n",
      "Threshold : 0.65\tFBeta : 0.307628\n",
      "Threshold : 0.70\tFBeta : 0.312362\n",
      "Threshold : 0.75\tFBeta : 0.316971\n",
      "Threshold : 0.80\tFBeta : 0.321219\n",
      "\n"
     ]
    },
    {
     "name": "stderr",
     "output_type": "stream",
     "text": [
      "Epoch 291/500  Mem : 19.8GB  LR : 6.41E-05  Loss: 0.3334: 100%|██████████| 8/8 [00:32<00:00,  4.01s/it]                                                                                                                                                      \n",
      "Val Loss: 0.6796: 100%|██████████| 3/3 [00:08<00:00,  2.86s/it]                                                                                                                                                                                              \n"
     ]
    },
    {
     "name": "stdout",
     "output_type": "stream",
     "text": [
      "Threshold : 0.20\tFBeta : 0.265129\n",
      "Threshold : 0.25\tFBeta : 0.271192\n",
      "Threshold : 0.30\tFBeta : 0.276856\n",
      "Threshold : 0.35\tFBeta : 0.281729\n",
      "Threshold : 0.40\tFBeta : 0.286457\n",
      "Threshold : 0.45\tFBeta : 0.290903\n",
      "Threshold : 0.50\tFBeta : 0.295241\n",
      "Threshold : 0.55\tFBeta : 0.299280\n",
      "Threshold : 0.60\tFBeta : 0.303772\n",
      "Threshold : 0.65\tFBeta : 0.308735\n",
      "Threshold : 0.70\tFBeta : 0.314257\n",
      "Threshold : 0.75\tFBeta : 0.320306\n",
      "Threshold : 0.80\tFBeta : 0.326771\n",
      "\n"
     ]
    },
    {
     "name": "stderr",
     "output_type": "stream",
     "text": [
      "Epoch 292/500  Mem : 19.8GB  LR : 6.44E-05  Loss: 0.3181: 100%|██████████| 8/8 [00:30<00:00,  3.83s/it]                                                                                                                                                      \n",
      "Val Loss: 0.6443: 100%|██████████| 3/3 [00:08<00:00,  2.86s/it]                                                                                                                                                                                              \n"
     ]
    },
    {
     "name": "stdout",
     "output_type": "stream",
     "text": [
      "Threshold : 0.20\tFBeta : 0.275041\n",
      "Threshold : 0.25\tFBeta : 0.283015\n",
      "Threshold : 0.30\tFBeta : 0.289764\n",
      "Threshold : 0.35\tFBeta : 0.295205\n",
      "Threshold : 0.40\tFBeta : 0.300669\n",
      "Threshold : 0.45\tFBeta : 0.306058\n",
      "Threshold : 0.50\tFBeta : 0.311397\n",
      "Threshold : 0.55\tFBeta : 0.317202\n",
      "Threshold : 0.60\tFBeta : 0.322872\n",
      "Threshold : 0.65\tFBeta : 0.328294\n",
      "Threshold : 0.70\tFBeta : 0.333927\n",
      "Threshold : 0.75\tFBeta : 0.340377\n",
      "Threshold : 0.80\tFBeta : 0.347274\n",
      "\n"
     ]
    },
    {
     "name": "stderr",
     "output_type": "stream",
     "text": [
      "Epoch 293/500  Mem : 19.8GB  LR : 6.47E-05  Loss: 0.3230: 100%|██████████| 8/8 [00:31<00:00,  3.92s/it]                                                                                                                                                      \n",
      "Val Loss: 0.5457: 100%|██████████| 3/3 [00:08<00:00,  2.87s/it]                                                                                                                                                                                              \n"
     ]
    },
    {
     "name": "stdout",
     "output_type": "stream",
     "text": [
      "Threshold : 0.20\tFBeta : 0.328754\n",
      "Threshold : 0.25\tFBeta : 0.334141\n",
      "Threshold : 0.30\tFBeta : 0.336317\n",
      "Threshold : 0.35\tFBeta : 0.334973\n",
      "Threshold : 0.40\tFBeta : 0.332621\n",
      "Threshold : 0.45\tFBeta : 0.328380\n",
      "Threshold : 0.50\tFBeta : 0.322656\n",
      "Threshold : 0.55\tFBeta : 0.317766\n",
      "Threshold : 0.60\tFBeta : 0.310523\n",
      "Threshold : 0.65\tFBeta : 0.299455\n",
      "Threshold : 0.70\tFBeta : 0.285420\n",
      "Threshold : 0.75\tFBeta : 0.265559\n",
      "Threshold : 0.80\tFBeta : 0.237111\n",
      "\n"
     ]
    },
    {
     "name": "stderr",
     "output_type": "stream",
     "text": [
      "Epoch 294/500  Mem : 19.8GB  LR : 6.50E-05  Loss: 0.3177: 100%|██████████| 8/8 [00:31<00:00,  3.88s/it]                                                                                                                                                      \n",
      "Val Loss: 0.6298: 100%|██████████| 3/3 [00:08<00:00,  2.91s/it]                                                                                                                                                                                              \n"
     ]
    },
    {
     "name": "stdout",
     "output_type": "stream",
     "text": [
      "Threshold : 0.20\tFBeta : 0.269545\n",
      "Threshold : 0.25\tFBeta : 0.276030\n",
      "Threshold : 0.30\tFBeta : 0.280626\n",
      "Threshold : 0.35\tFBeta : 0.284880\n",
      "Threshold : 0.40\tFBeta : 0.288986\n",
      "Threshold : 0.45\tFBeta : 0.292313\n",
      "Threshold : 0.50\tFBeta : 0.294770\n",
      "Threshold : 0.55\tFBeta : 0.297667\n",
      "Threshold : 0.60\tFBeta : 0.301206\n",
      "Threshold : 0.65\tFBeta : 0.304900\n",
      "Threshold : 0.70\tFBeta : 0.307968\n",
      "Threshold : 0.75\tFBeta : 0.311203\n",
      "Threshold : 0.80\tFBeta : 0.314525\n",
      "\n"
     ]
    },
    {
     "name": "stderr",
     "output_type": "stream",
     "text": [
      "Epoch 295/500  Mem : 19.8GB  LR : 6.53E-05  Loss: 0.3119: 100%|██████████| 8/8 [00:30<00:00,  3.80s/it]                                                                                                                                                      \n",
      "Val Loss: 0.8309: 100%|██████████| 3/3 [00:08<00:00,  2.92s/it]                                                                                                                                                                                              \n"
     ]
    },
    {
     "name": "stdout",
     "output_type": "stream",
     "text": [
      "Threshold : 0.20\tFBeta : 0.253780\n",
      "Threshold : 0.25\tFBeta : 0.257992\n",
      "Threshold : 0.30\tFBeta : 0.261524\n",
      "Threshold : 0.35\tFBeta : 0.264766\n",
      "Threshold : 0.40\tFBeta : 0.267635\n",
      "Threshold : 0.45\tFBeta : 0.270392\n",
      "Threshold : 0.50\tFBeta : 0.273236\n",
      "Threshold : 0.55\tFBeta : 0.276190\n",
      "Threshold : 0.60\tFBeta : 0.279386\n",
      "Threshold : 0.65\tFBeta : 0.282826\n",
      "Threshold : 0.70\tFBeta : 0.286472\n",
      "Threshold : 0.75\tFBeta : 0.290570\n",
      "Threshold : 0.80\tFBeta : 0.295553\n",
      "\n"
     ]
    },
    {
     "name": "stderr",
     "output_type": "stream",
     "text": [
      "Epoch 296/500  Mem : 19.8GB  LR : 6.56E-05  Loss: 0.3151: 100%|██████████| 8/8 [00:31<00:00,  3.99s/it]                                                                                                                                                      \n",
      "Val Loss: 0.7279: 100%|██████████| 3/3 [00:08<00:00,  2.92s/it]                                                                                                                                                                                              \n"
     ]
    },
    {
     "name": "stdout",
     "output_type": "stream",
     "text": [
      "Threshold : 0.20\tFBeta : 0.250465\n",
      "Threshold : 0.25\tFBeta : 0.254966\n",
      "Threshold : 0.30\tFBeta : 0.259604\n",
      "Threshold : 0.35\tFBeta : 0.264323\n",
      "Threshold : 0.40\tFBeta : 0.268893\n",
      "Threshold : 0.45\tFBeta : 0.272916\n",
      "Threshold : 0.50\tFBeta : 0.276839\n",
      "Threshold : 0.55\tFBeta : 0.280941\n",
      "Threshold : 0.60\tFBeta : 0.285116\n",
      "Threshold : 0.65\tFBeta : 0.289383\n",
      "Threshold : 0.70\tFBeta : 0.293855\n",
      "Threshold : 0.75\tFBeta : 0.299155\n",
      "Threshold : 0.80\tFBeta : 0.306023\n",
      "\n"
     ]
    },
    {
     "name": "stderr",
     "output_type": "stream",
     "text": [
      "Epoch 297/500  Mem : 19.8GB  LR : 6.59E-05  Loss: 0.3095: 100%|██████████| 8/8 [00:31<00:00,  3.99s/it]                                                                                                                                                      \n",
      "Val Loss: 0.6844: 100%|██████████| 3/3 [00:08<00:00,  2.86s/it]                                                                                                                                                                                              \n"
     ]
    },
    {
     "name": "stdout",
     "output_type": "stream",
     "text": [
      "Threshold : 0.20\tFBeta : 0.256225\n",
      "Threshold : 0.25\tFBeta : 0.261288\n",
      "Threshold : 0.30\tFBeta : 0.265279\n",
      "Threshold : 0.35\tFBeta : 0.268904\n",
      "Threshold : 0.40\tFBeta : 0.272424\n",
      "Threshold : 0.45\tFBeta : 0.276086\n",
      "Threshold : 0.50\tFBeta : 0.279987\n",
      "Threshold : 0.55\tFBeta : 0.283720\n",
      "Threshold : 0.60\tFBeta : 0.287685\n",
      "Threshold : 0.65\tFBeta : 0.291684\n",
      "Threshold : 0.70\tFBeta : 0.295689\n",
      "Threshold : 0.75\tFBeta : 0.300177\n",
      "Threshold : 0.80\tFBeta : 0.305114\n",
      "\n"
     ]
    },
    {
     "name": "stderr",
     "output_type": "stream",
     "text": [
      "Epoch 298/500  Mem : 19.8GB  LR : 6.61E-05  Loss: 0.3056: 100%|██████████| 8/8 [00:31<00:00,  3.95s/it]                                                                                                                                                      \n",
      "Val Loss: 1.1505: 100%|██████████| 3/3 [00:08<00:00,  2.90s/it]                                                                                                                                                                                              \n"
     ]
    },
    {
     "name": "stdout",
     "output_type": "stream",
     "text": [
      "Threshold : 0.20\tFBeta : 0.241293\n",
      "Threshold : 0.25\tFBeta : 0.243256\n",
      "Threshold : 0.30\tFBeta : 0.244970\n",
      "Threshold : 0.35\tFBeta : 0.246490\n",
      "Threshold : 0.40\tFBeta : 0.247849\n",
      "Threshold : 0.45\tFBeta : 0.249192\n",
      "Threshold : 0.50\tFBeta : 0.250537\n",
      "Threshold : 0.55\tFBeta : 0.252036\n",
      "Threshold : 0.60\tFBeta : 0.253594\n",
      "Threshold : 0.65\tFBeta : 0.255390\n",
      "Threshold : 0.70\tFBeta : 0.257400\n",
      "Threshold : 0.75\tFBeta : 0.259548\n",
      "Threshold : 0.80\tFBeta : 0.262261\n",
      "\n"
     ]
    },
    {
     "name": "stderr",
     "output_type": "stream",
     "text": [
      "Epoch 299/500  Mem : 19.8GB  LR : 6.64E-05  Loss: 0.3072: 100%|██████████| 8/8 [00:31<00:00,  3.92s/it]                                                                                                                                                      \n",
      "Val Loss: 0.5976: 100%|██████████| 3/3 [00:08<00:00,  2.86s/it]                                                                                                                                                                                              \n"
     ]
    },
    {
     "name": "stdout",
     "output_type": "stream",
     "text": [
      "Threshold : 0.20\tFBeta : 0.282793\n",
      "Threshold : 0.25\tFBeta : 0.293916\n",
      "Threshold : 0.30\tFBeta : 0.302422\n",
      "Threshold : 0.35\tFBeta : 0.308809\n",
      "Threshold : 0.40\tFBeta : 0.314854\n",
      "Threshold : 0.45\tFBeta : 0.320233\n",
      "Threshold : 0.50\tFBeta : 0.325336\n",
      "Threshold : 0.55\tFBeta : 0.330715\n",
      "Threshold : 0.60\tFBeta : 0.336097\n",
      "Threshold : 0.65\tFBeta : 0.341985\n",
      "Threshold : 0.70\tFBeta : 0.348467\n",
      "Threshold : 0.75\tFBeta : 0.355816\n",
      "Threshold : 0.80\tFBeta : 0.364450\n",
      "\n"
     ]
    },
    {
     "name": "stderr",
     "output_type": "stream",
     "text": [
      "Epoch 300/500  Mem : 19.8GB  LR : 6.67E-05  Loss: 0.3041: 100%|██████████| 8/8 [00:30<00:00,  3.86s/it]                                                                                                                                                      \n",
      "Val Loss: 1.0749: 100%|██████████| 3/3 [00:08<00:00,  2.87s/it]                                                                                                                                                                                              \n"
     ]
    },
    {
     "name": "stdout",
     "output_type": "stream",
     "text": [
      "Threshold : 0.20\tFBeta : 0.240635\n",
      "Threshold : 0.25\tFBeta : 0.242709\n",
      "Threshold : 0.30\tFBeta : 0.244253\n",
      "Threshold : 0.35\tFBeta : 0.245745\n",
      "Threshold : 0.40\tFBeta : 0.247236\n",
      "Threshold : 0.45\tFBeta : 0.248716\n",
      "Threshold : 0.50\tFBeta : 0.250097\n",
      "Threshold : 0.55\tFBeta : 0.251501\n",
      "Threshold : 0.60\tFBeta : 0.252920\n",
      "Threshold : 0.65\tFBeta : 0.254542\n",
      "Threshold : 0.70\tFBeta : 0.256118\n",
      "Threshold : 0.75\tFBeta : 0.257991\n",
      "Threshold : 0.80\tFBeta : 0.260459\n",
      "\n"
     ]
    },
    {
     "name": "stderr",
     "output_type": "stream",
     "text": [
      "Epoch 301/500  Mem : 19.8GB  LR : 6.70E-05  Loss: 0.3018: 100%|██████████| 8/8 [00:31<00:00,  3.94s/it]                                                                                                                                                      \n",
      "Val Loss: 0.6717: 100%|██████████| 3/3 [00:08<00:00,  2.85s/it]                                                                                                                                                                                              \n"
     ]
    },
    {
     "name": "stdout",
     "output_type": "stream",
     "text": [
      "Threshold : 0.20\tFBeta : 0.253458\n",
      "Threshold : 0.25\tFBeta : 0.258751\n",
      "Threshold : 0.30\tFBeta : 0.263841\n",
      "Threshold : 0.35\tFBeta : 0.268378\n",
      "Threshold : 0.40\tFBeta : 0.272161\n",
      "Threshold : 0.45\tFBeta : 0.275298\n",
      "Threshold : 0.50\tFBeta : 0.278249\n",
      "Threshold : 0.55\tFBeta : 0.281464\n",
      "Threshold : 0.60\tFBeta : 0.285148\n",
      "Threshold : 0.65\tFBeta : 0.289245\n",
      "Threshold : 0.70\tFBeta : 0.293017\n",
      "Threshold : 0.75\tFBeta : 0.296920\n",
      "Threshold : 0.80\tFBeta : 0.301315\n",
      "\n"
     ]
    },
    {
     "name": "stderr",
     "output_type": "stream",
     "text": [
      "Epoch 302/500  Mem : 19.8GB  LR : 6.73E-05  Loss: 0.3086: 100%|██████████| 8/8 [00:32<00:00,  4.03s/it]                                                                                                                                                      \n",
      "Val Loss: 0.6804: 100%|██████████| 3/3 [00:08<00:00,  2.87s/it]                                                                                                                                                                                              \n"
     ]
    },
    {
     "name": "stdout",
     "output_type": "stream",
     "text": [
      "Threshold : 0.20\tFBeta : 0.254941\n",
      "Threshold : 0.25\tFBeta : 0.259523\n",
      "Threshold : 0.30\tFBeta : 0.263371\n",
      "Threshold : 0.35\tFBeta : 0.267166\n",
      "Threshold : 0.40\tFBeta : 0.270668\n",
      "Threshold : 0.45\tFBeta : 0.274047\n",
      "Threshold : 0.50\tFBeta : 0.277242\n",
      "Threshold : 0.55\tFBeta : 0.280345\n",
      "Threshold : 0.60\tFBeta : 0.283276\n",
      "Threshold : 0.65\tFBeta : 0.286039\n",
      "Threshold : 0.70\tFBeta : 0.288506\n",
      "Threshold : 0.75\tFBeta : 0.291243\n",
      "Threshold : 0.80\tFBeta : 0.293287\n",
      "\n"
     ]
    },
    {
     "name": "stderr",
     "output_type": "stream",
     "text": [
      "Epoch 303/500  Mem : 19.8GB  LR : 6.76E-05  Loss: 0.3134: 100%|██████████| 8/8 [00:31<00:00,  3.97s/it]                                                                                                                                                      \n",
      "Val Loss: 0.6977: 100%|██████████| 3/3 [00:08<00:00,  2.87s/it]                                                                                                                                                                                              \n"
     ]
    },
    {
     "name": "stdout",
     "output_type": "stream",
     "text": [
      "Threshold : 0.20\tFBeta : 0.249125\n",
      "Threshold : 0.25\tFBeta : 0.251270\n",
      "Threshold : 0.30\tFBeta : 0.252437\n",
      "Threshold : 0.35\tFBeta : 0.253772\n",
      "Threshold : 0.40\tFBeta : 0.254933\n",
      "Threshold : 0.45\tFBeta : 0.255925\n",
      "Threshold : 0.50\tFBeta : 0.256695\n",
      "Threshold : 0.55\tFBeta : 0.257079\n",
      "Threshold : 0.60\tFBeta : 0.257052\n",
      "Threshold : 0.65\tFBeta : 0.256666\n",
      "Threshold : 0.70\tFBeta : 0.255725\n",
      "Threshold : 0.75\tFBeta : 0.254248\n",
      "Threshold : 0.80\tFBeta : 0.251622\n",
      "\n"
     ]
    },
    {
     "name": "stderr",
     "output_type": "stream",
     "text": [
      "Epoch 304/500  Mem : 19.8GB  LR : 6.79E-05  Loss: 0.3040: 100%|██████████| 8/8 [00:31<00:00,  3.92s/it]                                                                                                                                                      \n",
      "Val Loss: 0.8100: 100%|██████████| 3/3 [00:08<00:00,  2.86s/it]                                                                                                                                                                                              \n"
     ]
    },
    {
     "name": "stdout",
     "output_type": "stream",
     "text": [
      "Threshold : 0.20\tFBeta : 0.254138\n",
      "Threshold : 0.25\tFBeta : 0.257339\n",
      "Threshold : 0.30\tFBeta : 0.260303\n",
      "Threshold : 0.35\tFBeta : 0.263061\n",
      "Threshold : 0.40\tFBeta : 0.265897\n",
      "Threshold : 0.45\tFBeta : 0.268382\n",
      "Threshold : 0.50\tFBeta : 0.270532\n",
      "Threshold : 0.55\tFBeta : 0.272728\n",
      "Threshold : 0.60\tFBeta : 0.275040\n",
      "Threshold : 0.65\tFBeta : 0.277242\n",
      "Threshold : 0.70\tFBeta : 0.279486\n",
      "Threshold : 0.75\tFBeta : 0.282257\n",
      "Threshold : 0.80\tFBeta : 0.285621\n",
      "\n"
     ]
    },
    {
     "name": "stderr",
     "output_type": "stream",
     "text": [
      "Epoch 305/500  Mem : 19.8GB  LR : 6.81E-05  Loss: 0.3091: 100%|██████████| 8/8 [00:31<00:00,  3.88s/it]                                                                                                                                                      \n",
      "Val Loss: 0.7371: 100%|██████████| 3/3 [00:08<00:00,  2.86s/it]                                                                                                                                                                                              \n"
     ]
    },
    {
     "name": "stdout",
     "output_type": "stream",
     "text": [
      "Threshold : 0.20\tFBeta : 0.252921\n",
      "Threshold : 0.25\tFBeta : 0.257510\n",
      "Threshold : 0.30\tFBeta : 0.261398\n",
      "Threshold : 0.35\tFBeta : 0.264348\n",
      "Threshold : 0.40\tFBeta : 0.267315\n",
      "Threshold : 0.45\tFBeta : 0.270030\n",
      "Threshold : 0.50\tFBeta : 0.272683\n",
      "Threshold : 0.55\tFBeta : 0.275329\n",
      "Threshold : 0.60\tFBeta : 0.278032\n",
      "Threshold : 0.65\tFBeta : 0.280748\n",
      "Threshold : 0.70\tFBeta : 0.284011\n",
      "Threshold : 0.75\tFBeta : 0.288326\n",
      "Threshold : 0.80\tFBeta : 0.292994\n",
      "\n"
     ]
    },
    {
     "name": "stderr",
     "output_type": "stream",
     "text": [
      "Epoch 306/500  Mem : 19.8GB  LR : 6.84E-05  Loss: 0.3115: 100%|██████████| 8/8 [00:31<00:00,  3.90s/it]                                                                                                                                                      \n",
      "Val Loss: 0.6600: 100%|██████████| 3/3 [00:08<00:00,  2.86s/it]                                                                                                                                                                                              \n"
     ]
    },
    {
     "name": "stdout",
     "output_type": "stream",
     "text": [
      "Threshold : 0.20\tFBeta : 0.273323\n",
      "Threshold : 0.25\tFBeta : 0.280914\n",
      "Threshold : 0.30\tFBeta : 0.287590\n",
      "Threshold : 0.35\tFBeta : 0.293298\n",
      "Threshold : 0.40\tFBeta : 0.298677\n",
      "Threshold : 0.45\tFBeta : 0.303843\n",
      "Threshold : 0.50\tFBeta : 0.308986\n",
      "Threshold : 0.55\tFBeta : 0.314232\n",
      "Threshold : 0.60\tFBeta : 0.319719\n",
      "Threshold : 0.65\tFBeta : 0.325473\n",
      "Threshold : 0.70\tFBeta : 0.332327\n",
      "Threshold : 0.75\tFBeta : 0.339782\n",
      "Threshold : 0.80\tFBeta : 0.347860\n",
      "\n"
     ]
    },
    {
     "name": "stderr",
     "output_type": "stream",
     "text": [
      "Epoch 307/500  Mem : 19.8GB  LR : 6.87E-05  Loss: 0.3009: 100%|██████████| 8/8 [00:30<00:00,  3.83s/it]                                                                                                                                                      \n",
      "Val Loss: 0.6075: 100%|██████████| 3/3 [00:08<00:00,  2.88s/it]                                                                                                                                                                                              \n"
     ]
    },
    {
     "name": "stdout",
     "output_type": "stream",
     "text": [
      "Threshold : 0.20\tFBeta : 0.279998\n",
      "Threshold : 0.25\tFBeta : 0.288038\n",
      "Threshold : 0.30\tFBeta : 0.293559\n",
      "Threshold : 0.35\tFBeta : 0.298270\n",
      "Threshold : 0.40\tFBeta : 0.302696\n",
      "Threshold : 0.45\tFBeta : 0.307535\n",
      "Threshold : 0.50\tFBeta : 0.312641\n",
      "Threshold : 0.55\tFBeta : 0.317589\n",
      "Threshold : 0.60\tFBeta : 0.322123\n",
      "Threshold : 0.65\tFBeta : 0.326548\n",
      "Threshold : 0.70\tFBeta : 0.330986\n",
      "Threshold : 0.75\tFBeta : 0.335090\n",
      "Threshold : 0.80\tFBeta : 0.339219\n",
      "\n"
     ]
    },
    {
     "name": "stderr",
     "output_type": "stream",
     "text": [
      "Epoch 308/500  Mem : 19.8GB  LR : 6.90E-05  Loss: 0.3030: 100%|██████████| 8/8 [00:32<00:00,  4.02s/it]                                                                                                                                                      \n",
      "Val Loss: 0.7295: 100%|██████████| 3/3 [00:08<00:00,  2.92s/it]                                                                                                                                                                                              \n"
     ]
    },
    {
     "name": "stdout",
     "output_type": "stream",
     "text": [
      "Threshold : 0.20\tFBeta : 0.256418\n",
      "Threshold : 0.25\tFBeta : 0.261217\n",
      "Threshold : 0.30\tFBeta : 0.265123\n",
      "Threshold : 0.35\tFBeta : 0.268252\n",
      "Threshold : 0.40\tFBeta : 0.271099\n",
      "Threshold : 0.45\tFBeta : 0.273869\n",
      "Threshold : 0.50\tFBeta : 0.276666\n",
      "Threshold : 0.55\tFBeta : 0.279403\n",
      "Threshold : 0.60\tFBeta : 0.282241\n",
      "Threshold : 0.65\tFBeta : 0.285364\n",
      "Threshold : 0.70\tFBeta : 0.288617\n",
      "Threshold : 0.75\tFBeta : 0.292079\n",
      "Threshold : 0.80\tFBeta : 0.295969\n",
      "\n"
     ]
    },
    {
     "name": "stderr",
     "output_type": "stream",
     "text": [
      "Epoch 309/500  Mem : 19.8GB  LR : 6.93E-05  Loss: 0.2839: 100%|██████████| 8/8 [00:32<00:00,  4.06s/it]                                                                                                                                                      \n",
      "Val Loss: 0.5667: 100%|██████████| 3/3 [00:08<00:00,  2.85s/it]                                                                                                                                                                                              \n"
     ]
    },
    {
     "name": "stdout",
     "output_type": "stream",
     "text": [
      "Threshold : 0.20\tFBeta : 0.294975\n",
      "Threshold : 0.25\tFBeta : 0.302261\n",
      "Threshold : 0.30\tFBeta : 0.307164\n",
      "Threshold : 0.35\tFBeta : 0.311312\n",
      "Threshold : 0.40\tFBeta : 0.315115\n",
      "Threshold : 0.45\tFBeta : 0.318853\n",
      "Threshold : 0.50\tFBeta : 0.322013\n",
      "Threshold : 0.55\tFBeta : 0.324822\n",
      "Threshold : 0.60\tFBeta : 0.327103\n",
      "Threshold : 0.65\tFBeta : 0.328756\n",
      "Threshold : 0.70\tFBeta : 0.329775\n",
      "Threshold : 0.75\tFBeta : 0.328858\n",
      "Threshold : 0.80\tFBeta : 0.325691\n",
      "\n"
     ]
    },
    {
     "name": "stderr",
     "output_type": "stream",
     "text": [
      "Epoch 310/500  Mem : 19.8GB  LR : 6.96E-05  Loss: 0.3066: 100%|██████████| 8/8 [00:31<00:00,  3.95s/it]                                                                                                                                                      \n",
      "Val Loss: 0.8133: 100%|██████████| 3/3 [00:08<00:00,  2.86s/it]                                                                                                                                                                                              \n"
     ]
    },
    {
     "name": "stdout",
     "output_type": "stream",
     "text": [
      "Threshold : 0.20\tFBeta : 0.246666\n",
      "Threshold : 0.25\tFBeta : 0.249633\n",
      "Threshold : 0.30\tFBeta : 0.251991\n",
      "Threshold : 0.35\tFBeta : 0.254514\n",
      "Threshold : 0.40\tFBeta : 0.256898\n",
      "Threshold : 0.45\tFBeta : 0.259360\n",
      "Threshold : 0.50\tFBeta : 0.261721\n",
      "Threshold : 0.55\tFBeta : 0.264378\n",
      "Threshold : 0.60\tFBeta : 0.267390\n",
      "Threshold : 0.65\tFBeta : 0.270536\n",
      "Threshold : 0.70\tFBeta : 0.273696\n",
      "Threshold : 0.75\tFBeta : 0.276744\n",
      "Threshold : 0.80\tFBeta : 0.279338\n",
      "\n"
     ]
    },
    {
     "name": "stderr",
     "output_type": "stream",
     "text": [
      "Epoch 311/500  Mem : 19.8GB  LR : 6.98E-05  Loss: 0.3060: 100%|██████████| 8/8 [00:31<00:00,  3.97s/it]                                                                                                                                                      \n",
      "Val Loss: 0.9185: 100%|██████████| 3/3 [00:08<00:00,  2.86s/it]                                                                                                                                                                                              \n"
     ]
    },
    {
     "name": "stdout",
     "output_type": "stream",
     "text": [
      "Threshold : 0.20\tFBeta : 0.252570\n",
      "Threshold : 0.25\tFBeta : 0.256099\n",
      "Threshold : 0.30\tFBeta : 0.259233\n",
      "Threshold : 0.35\tFBeta : 0.262099\n",
      "Threshold : 0.40\tFBeta : 0.264825\n",
      "Threshold : 0.45\tFBeta : 0.267606\n",
      "Threshold : 0.50\tFBeta : 0.270666\n",
      "Threshold : 0.55\tFBeta : 0.273940\n",
      "Threshold : 0.60\tFBeta : 0.277619\n",
      "Threshold : 0.65\tFBeta : 0.281566\n",
      "Threshold : 0.70\tFBeta : 0.285746\n",
      "Threshold : 0.75\tFBeta : 0.290323\n",
      "Threshold : 0.80\tFBeta : 0.295821\n",
      "\n"
     ]
    },
    {
     "name": "stderr",
     "output_type": "stream",
     "text": [
      "Epoch 312/500  Mem : 19.8GB  LR : 7.01E-05  Loss: 0.2946: 100%|██████████| 8/8 [00:31<00:00,  3.95s/it]                                                                                                                                                      \n",
      "Val Loss: 0.6510: 100%|██████████| 3/3 [00:08<00:00,  2.90s/it]                                                                                                                                                                                              \n"
     ]
    },
    {
     "name": "stdout",
     "output_type": "stream",
     "text": [
      "Threshold : 0.20\tFBeta : 0.268298\n",
      "Threshold : 0.25\tFBeta : 0.276435\n",
      "Threshold : 0.30\tFBeta : 0.283281\n",
      "Threshold : 0.35\tFBeta : 0.289600\n",
      "Threshold : 0.40\tFBeta : 0.294567\n",
      "Threshold : 0.45\tFBeta : 0.298440\n",
      "Threshold : 0.50\tFBeta : 0.301687\n",
      "Threshold : 0.55\tFBeta : 0.305082\n",
      "Threshold : 0.60\tFBeta : 0.308386\n",
      "Threshold : 0.65\tFBeta : 0.311209\n",
      "Threshold : 0.70\tFBeta : 0.314630\n",
      "Threshold : 0.75\tFBeta : 0.318730\n",
      "Threshold : 0.80\tFBeta : 0.323653\n",
      "\n"
     ]
    },
    {
     "name": "stderr",
     "output_type": "stream",
     "text": [
      "Epoch 313/500  Mem : 19.8GB  LR : 7.04E-05  Loss: 0.3015: 100%|██████████| 8/8 [00:31<00:00,  3.90s/it]                                                                                                                                                      \n",
      "Val Loss: 0.8839: 100%|██████████| 3/3 [00:08<00:00,  2.85s/it]                                                                                                                                                                                              \n"
     ]
    },
    {
     "name": "stdout",
     "output_type": "stream",
     "text": [
      "Threshold : 0.20\tFBeta : 0.252611\n",
      "Threshold : 0.25\tFBeta : 0.255756\n",
      "Threshold : 0.30\tFBeta : 0.258476\n",
      "Threshold : 0.35\tFBeta : 0.261042\n",
      "Threshold : 0.40\tFBeta : 0.263583\n",
      "Threshold : 0.45\tFBeta : 0.266012\n",
      "Threshold : 0.50\tFBeta : 0.268387\n",
      "Threshold : 0.55\tFBeta : 0.270865\n",
      "Threshold : 0.60\tFBeta : 0.273416\n",
      "Threshold : 0.65\tFBeta : 0.276379\n",
      "Threshold : 0.70\tFBeta : 0.279777\n",
      "Threshold : 0.75\tFBeta : 0.284053\n",
      "Threshold : 0.80\tFBeta : 0.289294\n",
      "\n"
     ]
    },
    {
     "name": "stderr",
     "output_type": "stream",
     "text": [
      "Epoch 314/500  Mem : 19.8GB  LR : 7.07E-05  Loss: 0.2959: 100%|██████████| 8/8 [00:31<00:00,  3.93s/it]                                                                                                                                                      \n",
      "Val Loss: 0.6446: 100%|██████████| 3/3 [00:08<00:00,  2.91s/it]                                                                                                                                                                                              \n"
     ]
    },
    {
     "name": "stdout",
     "output_type": "stream",
     "text": [
      "Threshold : 0.20\tFBeta : 0.274418\n",
      "Threshold : 0.25\tFBeta : 0.280895\n",
      "Threshold : 0.30\tFBeta : 0.286222\n",
      "Threshold : 0.35\tFBeta : 0.291094\n",
      "Threshold : 0.40\tFBeta : 0.295556\n",
      "Threshold : 0.45\tFBeta : 0.299887\n",
      "Threshold : 0.50\tFBeta : 0.304189\n",
      "Threshold : 0.55\tFBeta : 0.308017\n",
      "Threshold : 0.60\tFBeta : 0.311494\n",
      "Threshold : 0.65\tFBeta : 0.314577\n",
      "Threshold : 0.70\tFBeta : 0.317407\n",
      "Threshold : 0.75\tFBeta : 0.319937\n",
      "Threshold : 0.80\tFBeta : 0.323005\n",
      "\n"
     ]
    },
    {
     "name": "stderr",
     "output_type": "stream",
     "text": [
      "Epoch 315/500  Mem : 19.8GB  LR : 7.10E-05  Loss: 0.2950: 100%|██████████| 8/8 [00:31<00:00,  3.89s/it]                                                                                                                                                      \n",
      "Val Loss: 0.6727: 100%|██████████| 3/3 [00:08<00:00,  2.91s/it]                                                                                                                                                                                              \n"
     ]
    },
    {
     "name": "stdout",
     "output_type": "stream",
     "text": [
      "Threshold : 0.20\tFBeta : 0.269094\n",
      "Threshold : 0.25\tFBeta : 0.274303\n",
      "Threshold : 0.30\tFBeta : 0.278425\n",
      "Threshold : 0.35\tFBeta : 0.281860\n",
      "Threshold : 0.40\tFBeta : 0.284624\n",
      "Threshold : 0.45\tFBeta : 0.287059\n",
      "Threshold : 0.50\tFBeta : 0.289757\n",
      "Threshold : 0.55\tFBeta : 0.292434\n",
      "Threshold : 0.60\tFBeta : 0.294832\n",
      "Threshold : 0.65\tFBeta : 0.297184\n",
      "Threshold : 0.70\tFBeta : 0.299573\n",
      "Threshold : 0.75\tFBeta : 0.302086\n",
      "Threshold : 0.80\tFBeta : 0.305351\n",
      "\n"
     ]
    },
    {
     "name": "stderr",
     "output_type": "stream",
     "text": [
      "Epoch 316/500  Mem : 19.8GB  LR : 7.12E-05  Loss: 0.2797: 100%|██████████| 8/8 [00:30<00:00,  3.84s/it]                                                                                                                                                      \n",
      "Val Loss: 0.5926: 100%|██████████| 3/3 [00:08<00:00,  2.85s/it]                                                                                                                                                                                              \n"
     ]
    },
    {
     "name": "stdout",
     "output_type": "stream",
     "text": [
      "Threshold : 0.20\tFBeta : 0.282542\n",
      "Threshold : 0.25\tFBeta : 0.286648\n",
      "Threshold : 0.30\tFBeta : 0.290608\n",
      "Threshold : 0.35\tFBeta : 0.294321\n",
      "Threshold : 0.40\tFBeta : 0.297313\n",
      "Threshold : 0.45\tFBeta : 0.300181\n",
      "Threshold : 0.50\tFBeta : 0.302691\n",
      "Threshold : 0.55\tFBeta : 0.304884\n",
      "Threshold : 0.60\tFBeta : 0.306511\n",
      "Threshold : 0.65\tFBeta : 0.307832\n",
      "Threshold : 0.70\tFBeta : 0.309476\n",
      "Threshold : 0.75\tFBeta : 0.310804\n",
      "Threshold : 0.80\tFBeta : 0.309771\n",
      "\n"
     ]
    },
    {
     "name": "stderr",
     "output_type": "stream",
     "text": [
      "Epoch 317/500  Mem : 19.8GB  LR : 7.15E-05  Loss: 0.3015: 100%|██████████| 8/8 [00:31<00:00,  3.99s/it]                                                                                                                                                      \n",
      "Val Loss: 0.6470: 100%|██████████| 3/3 [00:08<00:00,  2.87s/it]                                                                                                                                                                                              \n"
     ]
    },
    {
     "name": "stdout",
     "output_type": "stream",
     "text": [
      "Threshold : 0.20\tFBeta : 0.284443\n",
      "Threshold : 0.25\tFBeta : 0.289468\n",
      "Threshold : 0.30\tFBeta : 0.293272\n",
      "Threshold : 0.35\tFBeta : 0.296279\n",
      "Threshold : 0.40\tFBeta : 0.298784\n",
      "Threshold : 0.45\tFBeta : 0.301298\n",
      "Threshold : 0.50\tFBeta : 0.303772\n",
      "Threshold : 0.55\tFBeta : 0.306262\n",
      "Threshold : 0.60\tFBeta : 0.308480\n",
      "Threshold : 0.65\tFBeta : 0.310547\n",
      "Threshold : 0.70\tFBeta : 0.313086\n",
      "Threshold : 0.75\tFBeta : 0.315852\n",
      "Threshold : 0.80\tFBeta : 0.318466\n",
      "\n"
     ]
    },
    {
     "name": "stderr",
     "output_type": "stream",
     "text": [
      "Epoch 318/500  Mem : 19.8GB  LR : 7.18E-05  Loss: 0.3076: 100%|██████████| 8/8 [00:31<00:00,  3.88s/it]                                                                                                                                                      \n",
      "Val Loss: 0.7723: 100%|██████████| 3/3 [00:08<00:00,  2.86s/it]                                                                                                                                                                                              \n"
     ]
    },
    {
     "name": "stdout",
     "output_type": "stream",
     "text": [
      "Threshold : 0.20\tFBeta : 0.257690\n",
      "Threshold : 0.25\tFBeta : 0.265350\n",
      "Threshold : 0.30\tFBeta : 0.271718\n",
      "Threshold : 0.35\tFBeta : 0.277032\n",
      "Threshold : 0.40\tFBeta : 0.282184\n",
      "Threshold : 0.45\tFBeta : 0.287372\n",
      "Threshold : 0.50\tFBeta : 0.292560\n",
      "Threshold : 0.55\tFBeta : 0.297135\n",
      "Threshold : 0.60\tFBeta : 0.301812\n",
      "Threshold : 0.65\tFBeta : 0.306926\n",
      "Threshold : 0.70\tFBeta : 0.312505\n",
      "Threshold : 0.75\tFBeta : 0.319017\n",
      "Threshold : 0.80\tFBeta : 0.326556\n",
      "\n"
     ]
    },
    {
     "name": "stderr",
     "output_type": "stream",
     "text": [
      "Epoch 319/500  Mem : 19.8GB  LR : 7.21E-05  Loss: 0.2978: 100%|██████████| 8/8 [00:31<00:00,  3.99s/it]                                                                                                                                                      \n",
      "Val Loss: 0.6310: 100%|██████████| 3/3 [00:08<00:00,  2.86s/it]                                                                                                                                                                                              \n"
     ]
    },
    {
     "name": "stdout",
     "output_type": "stream",
     "text": [
      "Threshold : 0.20\tFBeta : 0.268299\n",
      "Threshold : 0.25\tFBeta : 0.274937\n",
      "Threshold : 0.30\tFBeta : 0.280130\n",
      "Threshold : 0.35\tFBeta : 0.285196\n",
      "Threshold : 0.40\tFBeta : 0.289696\n",
      "Threshold : 0.45\tFBeta : 0.293508\n",
      "Threshold : 0.50\tFBeta : 0.297442\n",
      "Threshold : 0.55\tFBeta : 0.301311\n",
      "Threshold : 0.60\tFBeta : 0.305520\n",
      "Threshold : 0.65\tFBeta : 0.309890\n",
      "Threshold : 0.70\tFBeta : 0.315193\n",
      "Threshold : 0.75\tFBeta : 0.321047\n",
      "Threshold : 0.80\tFBeta : 0.326961\n",
      "\n"
     ]
    },
    {
     "name": "stderr",
     "output_type": "stream",
     "text": [
      "Epoch 320/500  Mem : 19.8GB  LR : 7.23E-05  Loss: 0.2939: 100%|██████████| 8/8 [00:31<00:00,  3.89s/it]                                                                                                                                                      \n",
      "Val Loss: 1.3378: 100%|██████████| 3/3 [00:08<00:00,  2.91s/it]                                                                                                                                                                                              \n"
     ]
    },
    {
     "name": "stdout",
     "output_type": "stream",
     "text": [
      "Threshold : 0.20\tFBeta : 0.235967\n",
      "Threshold : 0.25\tFBeta : 0.237498\n",
      "Threshold : 0.30\tFBeta : 0.238730\n",
      "Threshold : 0.35\tFBeta : 0.239812\n",
      "Threshold : 0.40\tFBeta : 0.240808\n",
      "Threshold : 0.45\tFBeta : 0.241785\n",
      "Threshold : 0.50\tFBeta : 0.242730\n",
      "Threshold : 0.55\tFBeta : 0.243774\n",
      "Threshold : 0.60\tFBeta : 0.244947\n",
      "Threshold : 0.65\tFBeta : 0.246207\n",
      "Threshold : 0.70\tFBeta : 0.247761\n",
      "Threshold : 0.75\tFBeta : 0.249584\n",
      "Threshold : 0.80\tFBeta : 0.251908\n",
      "\n"
     ]
    },
    {
     "name": "stderr",
     "output_type": "stream",
     "text": [
      "Epoch 321/500  Mem : 19.8GB  LR : 7.26E-05  Loss: 0.2987: 100%|██████████| 8/8 [00:30<00:00,  3.86s/it]                                                                                                                                                      \n",
      "Val Loss: 1.0136: 100%|██████████| 3/3 [00:08<00:00,  2.87s/it]                                                                                                                                                                                              \n"
     ]
    },
    {
     "name": "stdout",
     "output_type": "stream",
     "text": [
      "Threshold : 0.20\tFBeta : 0.245167\n",
      "Threshold : 0.25\tFBeta : 0.247321\n",
      "Threshold : 0.30\tFBeta : 0.249239\n",
      "Threshold : 0.35\tFBeta : 0.251076\n",
      "Threshold : 0.40\tFBeta : 0.252852\n",
      "Threshold : 0.45\tFBeta : 0.254757\n",
      "Threshold : 0.50\tFBeta : 0.256811\n",
      "Threshold : 0.55\tFBeta : 0.258995\n",
      "Threshold : 0.60\tFBeta : 0.261314\n",
      "Threshold : 0.65\tFBeta : 0.263936\n",
      "Threshold : 0.70\tFBeta : 0.266986\n",
      "Threshold : 0.75\tFBeta : 0.270607\n",
      "Threshold : 0.80\tFBeta : 0.274949\n",
      "\n"
     ]
    },
    {
     "name": "stderr",
     "output_type": "stream",
     "text": [
      "Epoch 322/500  Mem : 19.8GB  LR : 7.29E-05  Loss: 0.2862: 100%|██████████| 8/8 [00:31<00:00,  3.96s/it]                                                                                                                                                      \n",
      "Val Loss: 0.9099: 100%|██████████| 3/3 [00:08<00:00,  2.90s/it]                                                                                                                                                                                              \n"
     ]
    },
    {
     "name": "stdout",
     "output_type": "stream",
     "text": [
      "Threshold : 0.20\tFBeta : 0.249456\n",
      "Threshold : 0.25\tFBeta : 0.252454\n",
      "Threshold : 0.30\tFBeta : 0.254810\n",
      "Threshold : 0.35\tFBeta : 0.256965\n",
      "Threshold : 0.40\tFBeta : 0.259072\n",
      "Threshold : 0.45\tFBeta : 0.261239\n",
      "Threshold : 0.50\tFBeta : 0.263456\n",
      "Threshold : 0.55\tFBeta : 0.265809\n",
      "Threshold : 0.60\tFBeta : 0.268227\n",
      "Threshold : 0.65\tFBeta : 0.270750\n",
      "Threshold : 0.70\tFBeta : 0.273836\n",
      "Threshold : 0.75\tFBeta : 0.277872\n",
      "Threshold : 0.80\tFBeta : 0.282753\n",
      "\n"
     ]
    },
    {
     "name": "stderr",
     "output_type": "stream",
     "text": [
      "Epoch 323/500  Mem : 19.8GB  LR : 7.32E-05  Loss: 0.2869: 100%|██████████| 8/8 [00:31<00:00,  3.93s/it]                                                                                                                                                      \n",
      "Val Loss: 0.5438: 100%|██████████| 3/3 [00:08<00:00,  2.88s/it]                                                                                                                                                                                              \n"
     ]
    },
    {
     "name": "stdout",
     "output_type": "stream",
     "text": [
      "Threshold : 0.20\tFBeta : 0.310968\n",
      "Threshold : 0.25\tFBeta : 0.314490\n",
      "Threshold : 0.30\tFBeta : 0.315336\n",
      "Threshold : 0.35\tFBeta : 0.317127\n",
      "Threshold : 0.40\tFBeta : 0.318735\n",
      "Threshold : 0.45\tFBeta : 0.319383\n",
      "Threshold : 0.50\tFBeta : 0.319052\n",
      "Threshold : 0.55\tFBeta : 0.318134\n",
      "Threshold : 0.60\tFBeta : 0.316545\n",
      "Threshold : 0.65\tFBeta : 0.313819\n",
      "Threshold : 0.70\tFBeta : 0.308466\n",
      "Threshold : 0.75\tFBeta : 0.299527\n",
      "Threshold : 0.80\tFBeta : 0.286466\n",
      "\n"
     ]
    },
    {
     "name": "stderr",
     "output_type": "stream",
     "text": [
      "Epoch 324/500  Mem : 19.8GB  LR : 7.34E-05  Loss: 0.2780: 100%|██████████| 8/8 [00:30<00:00,  3.79s/it]                                                                                                                                                      \n",
      "Val Loss: 0.6344: 100%|██████████| 3/3 [00:08<00:00,  2.85s/it]                                                                                                                                                                                              \n"
     ]
    },
    {
     "name": "stdout",
     "output_type": "stream",
     "text": [
      "Threshold : 0.20\tFBeta : 0.277758\n",
      "Threshold : 0.25\tFBeta : 0.283924\n",
      "Threshold : 0.30\tFBeta : 0.288181\n",
      "Threshold : 0.35\tFBeta : 0.291254\n",
      "Threshold : 0.40\tFBeta : 0.293553\n",
      "Threshold : 0.45\tFBeta : 0.295476\n",
      "Threshold : 0.50\tFBeta : 0.297310\n",
      "Threshold : 0.55\tFBeta : 0.299385\n",
      "Threshold : 0.60\tFBeta : 0.301504\n",
      "Threshold : 0.65\tFBeta : 0.303657\n",
      "Threshold : 0.70\tFBeta : 0.306738\n",
      "Threshold : 0.75\tFBeta : 0.309791\n",
      "Threshold : 0.80\tFBeta : 0.312214\n",
      "\n"
     ]
    },
    {
     "name": "stderr",
     "output_type": "stream",
     "text": [
      "Epoch 325/500  Mem : 19.8GB  LR : 7.37E-05  Loss: 0.2870: 100%|██████████| 8/8 [00:31<00:00,  3.97s/it]                                                                                                                                                      \n",
      "Val Loss: 0.7074: 100%|██████████| 3/3 [00:08<00:00,  2.86s/it]                                                                                                                                                                                              \n"
     ]
    },
    {
     "name": "stdout",
     "output_type": "stream",
     "text": [
      "Threshold : 0.20\tFBeta : 0.262493\n",
      "Threshold : 0.25\tFBeta : 0.267387\n",
      "Threshold : 0.30\tFBeta : 0.271626\n",
      "Threshold : 0.35\tFBeta : 0.275463\n",
      "Threshold : 0.40\tFBeta : 0.278716\n",
      "Threshold : 0.45\tFBeta : 0.281943\n",
      "Threshold : 0.50\tFBeta : 0.284921\n",
      "Threshold : 0.55\tFBeta : 0.288008\n",
      "Threshold : 0.60\tFBeta : 0.290955\n",
      "Threshold : 0.65\tFBeta : 0.293770\n",
      "Threshold : 0.70\tFBeta : 0.296656\n",
      "Threshold : 0.75\tFBeta : 0.300025\n",
      "Threshold : 0.80\tFBeta : 0.304139\n",
      "\n"
     ]
    },
    {
     "name": "stderr",
     "output_type": "stream",
     "text": [
      "Epoch 326/500  Mem : 19.8GB  LR : 7.40E-05  Loss: 0.2852: 100%|██████████| 8/8 [00:30<00:00,  3.76s/it]                                                                                                                                                      \n",
      "Val Loss: 0.7184: 100%|██████████| 3/3 [00:08<00:00,  2.87s/it]                                                                                                                                                                                              \n"
     ]
    },
    {
     "name": "stdout",
     "output_type": "stream",
     "text": [
      "Threshold : 0.20\tFBeta : 0.268445\n",
      "Threshold : 0.25\tFBeta : 0.273177\n",
      "Threshold : 0.30\tFBeta : 0.277283\n",
      "Threshold : 0.35\tFBeta : 0.280973\n",
      "Threshold : 0.40\tFBeta : 0.284042\n",
      "Threshold : 0.45\tFBeta : 0.287132\n",
      "Threshold : 0.50\tFBeta : 0.290448\n",
      "Threshold : 0.55\tFBeta : 0.293789\n",
      "Threshold : 0.60\tFBeta : 0.297255\n",
      "Threshold : 0.65\tFBeta : 0.300728\n",
      "Threshold : 0.70\tFBeta : 0.304433\n",
      "Threshold : 0.75\tFBeta : 0.308479\n",
      "Threshold : 0.80\tFBeta : 0.312939\n",
      "\n"
     ]
    },
    {
     "name": "stderr",
     "output_type": "stream",
     "text": [
      "Epoch 327/500  Mem : 19.8GB  LR : 7.42E-05  Loss: 0.2951: 100%|██████████| 8/8 [00:30<00:00,  3.86s/it]                                                                                                                                                      \n",
      "Val Loss: 0.6876: 100%|██████████| 3/3 [00:08<00:00,  2.88s/it]                                                                                                                                                                                              \n"
     ]
    },
    {
     "name": "stdout",
     "output_type": "stream",
     "text": [
      "Threshold : 0.20\tFBeta : 0.285024\n",
      "Threshold : 0.25\tFBeta : 0.292061\n",
      "Threshold : 0.30\tFBeta : 0.298029\n",
      "Threshold : 0.35\tFBeta : 0.303208\n",
      "Threshold : 0.40\tFBeta : 0.308060\n",
      "Threshold : 0.45\tFBeta : 0.312676\n",
      "Threshold : 0.50\tFBeta : 0.317438\n",
      "Threshold : 0.55\tFBeta : 0.322099\n",
      "Threshold : 0.60\tFBeta : 0.326983\n",
      "Threshold : 0.65\tFBeta : 0.331647\n",
      "Threshold : 0.70\tFBeta : 0.336698\n",
      "Threshold : 0.75\tFBeta : 0.342473\n",
      "Threshold : 0.80\tFBeta : 0.349438\n",
      "\n"
     ]
    },
    {
     "name": "stderr",
     "output_type": "stream",
     "text": [
      "Epoch 328/500  Mem : 19.8GB  LR : 7.45E-05  Loss: 0.2953: 100%|██████████| 8/8 [00:31<00:00,  3.97s/it]                                                                                                                                                      \n",
      "Val Loss: 1.1757: 100%|██████████| 3/3 [00:08<00:00,  2.85s/it]                                                                                                                                                                                              \n"
     ]
    },
    {
     "name": "stdout",
     "output_type": "stream",
     "text": [
      "Threshold : 0.20\tFBeta : 0.242100\n",
      "Threshold : 0.25\tFBeta : 0.243419\n",
      "Threshold : 0.30\tFBeta : 0.244557\n",
      "Threshold : 0.35\tFBeta : 0.245506\n",
      "Threshold : 0.40\tFBeta : 0.246458\n",
      "Threshold : 0.45\tFBeta : 0.247464\n",
      "Threshold : 0.50\tFBeta : 0.248508\n",
      "Threshold : 0.55\tFBeta : 0.249654\n",
      "Threshold : 0.60\tFBeta : 0.250825\n",
      "Threshold : 0.65\tFBeta : 0.252080\n",
      "Threshold : 0.70\tFBeta : 0.253551\n",
      "Threshold : 0.75\tFBeta : 0.255428\n",
      "Threshold : 0.80\tFBeta : 0.257688\n",
      "\n"
     ]
    },
    {
     "name": "stderr",
     "output_type": "stream",
     "text": [
      "Epoch 329/500  Mem : 19.8GB  LR : 7.48E-05  Loss: 0.2970: 100%|██████████| 8/8 [00:30<00:00,  3.85s/it]                                                                                                                                                      \n",
      "Val Loss: 0.5231: 100%|██████████| 3/3 [00:08<00:00,  2.87s/it]                                                                                                                                                                                              \n"
     ]
    },
    {
     "name": "stdout",
     "output_type": "stream",
     "text": [
      "Threshold : 0.20\tFBeta : 0.326929\n",
      "Threshold : 0.25\tFBeta : 0.335969\n",
      "Threshold : 0.30\tFBeta : 0.342399\n",
      "Threshold : 0.35\tFBeta : 0.347259\n",
      "Threshold : 0.40\tFBeta : 0.351430\n",
      "Threshold : 0.45\tFBeta : 0.355652\n",
      "Threshold : 0.50\tFBeta : 0.359268\n",
      "Threshold : 0.55\tFBeta : 0.361967\n",
      "Threshold : 0.60\tFBeta : 0.363923\n",
      "Threshold : 0.65\tFBeta : 0.366116\n",
      "Threshold : 0.70\tFBeta : 0.368267\n",
      "Threshold : 0.75\tFBeta : 0.369865\n",
      "Threshold : 0.80\tFBeta : 0.368532\n",
      "\n"
     ]
    },
    {
     "name": "stderr",
     "output_type": "stream",
     "text": [
      "Epoch 330/500  Mem : 19.8GB  LR : 7.50E-05  Loss: 0.2867: 100%|██████████| 8/8 [00:31<00:00,  3.97s/it]                                                                                                                                                      \n",
      "Val Loss: 0.5162: 100%|██████████| 3/3 [00:08<00:00,  2.86s/it]                                                                                                                                                                                              \n"
     ]
    },
    {
     "name": "stdout",
     "output_type": "stream",
     "text": [
      "Threshold : 0.20\tFBeta : 0.326922\n",
      "Threshold : 0.25\tFBeta : 0.338043\n",
      "Threshold : 0.30\tFBeta : 0.346694\n",
      "Threshold : 0.35\tFBeta : 0.354008\n",
      "Threshold : 0.40\tFBeta : 0.360436\n",
      "Threshold : 0.45\tFBeta : 0.365811\n",
      "Threshold : 0.50\tFBeta : 0.370200\n",
      "Threshold : 0.55\tFBeta : 0.373327\n",
      "Threshold : 0.60\tFBeta : 0.376104\n",
      "Threshold : 0.65\tFBeta : 0.378434\n",
      "Threshold : 0.70\tFBeta : 0.379100\n",
      "Threshold : 0.75\tFBeta : 0.376815\n",
      "Threshold : 0.80\tFBeta : 0.372192\n",
      "\n"
     ]
    },
    {
     "name": "stderr",
     "output_type": "stream",
     "text": [
      "Epoch 331/500  Mem : 19.8GB  LR : 7.53E-05  Loss: 0.2682: 100%|██████████| 8/8 [00:31<00:00,  3.98s/it]                                                                                                                                                      \n",
      "Val Loss: 0.7843: 100%|██████████| 3/3 [00:08<00:00,  2.87s/it]                                                                                                                                                                                              \n"
     ]
    },
    {
     "name": "stdout",
     "output_type": "stream",
     "text": [
      "Threshold : 0.20\tFBeta : 0.257809\n",
      "Threshold : 0.25\tFBeta : 0.261245\n",
      "Threshold : 0.30\tFBeta : 0.263876\n",
      "Threshold : 0.35\tFBeta : 0.266310\n",
      "Threshold : 0.40\tFBeta : 0.268652\n",
      "Threshold : 0.45\tFBeta : 0.270795\n",
      "Threshold : 0.50\tFBeta : 0.272959\n",
      "Threshold : 0.55\tFBeta : 0.275261\n",
      "Threshold : 0.60\tFBeta : 0.277538\n",
      "Threshold : 0.65\tFBeta : 0.280009\n",
      "Threshold : 0.70\tFBeta : 0.282982\n",
      "Threshold : 0.75\tFBeta : 0.286418\n",
      "Threshold : 0.80\tFBeta : 0.290341\n",
      "\n"
     ]
    },
    {
     "name": "stderr",
     "output_type": "stream",
     "text": [
      "Epoch 332/500  Mem : 19.8GB  LR : 7.56E-05  Loss: 0.2996: 100%|██████████| 8/8 [00:31<00:00,  3.92s/it]                                                                                                                                                      \n",
      "Val Loss: 0.7840: 100%|██████████| 3/3 [00:08<00:00,  2.87s/it]                                                                                                                                                                                              \n"
     ]
    },
    {
     "name": "stdout",
     "output_type": "stream",
     "text": [
      "Threshold : 0.20\tFBeta : 0.258628\n",
      "Threshold : 0.25\tFBeta : 0.263892\n",
      "Threshold : 0.30\tFBeta : 0.268208\n",
      "Threshold : 0.35\tFBeta : 0.272055\n",
      "Threshold : 0.40\tFBeta : 0.275616\n",
      "Threshold : 0.45\tFBeta : 0.279085\n",
      "Threshold : 0.50\tFBeta : 0.282868\n",
      "Threshold : 0.55\tFBeta : 0.286759\n",
      "Threshold : 0.60\tFBeta : 0.290765\n",
      "Threshold : 0.65\tFBeta : 0.294913\n",
      "Threshold : 0.70\tFBeta : 0.299702\n",
      "Threshold : 0.75\tFBeta : 0.305367\n",
      "Threshold : 0.80\tFBeta : 0.311836\n",
      "\n"
     ]
    },
    {
     "name": "stderr",
     "output_type": "stream",
     "text": [
      "Epoch 333/500  Mem : 19.8GB  LR : 7.58E-05  Loss: 0.2750: 100%|██████████| 8/8 [00:31<00:00,  3.96s/it]                                                                                                                                                      \n",
      "Val Loss: 0.5551: 100%|██████████| 3/3 [00:08<00:00,  2.87s/it]                                                                                                                                                                                              \n"
     ]
    },
    {
     "name": "stdout",
     "output_type": "stream",
     "text": [
      "Threshold : 0.20\tFBeta : 0.300667\n",
      "Threshold : 0.25\tFBeta : 0.307481\n",
      "Threshold : 0.30\tFBeta : 0.313063\n",
      "Threshold : 0.35\tFBeta : 0.317573\n",
      "Threshold : 0.40\tFBeta : 0.320847\n",
      "Threshold : 0.45\tFBeta : 0.323127\n",
      "Threshold : 0.50\tFBeta : 0.325176\n",
      "Threshold : 0.55\tFBeta : 0.326814\n",
      "Threshold : 0.60\tFBeta : 0.327655\n",
      "Threshold : 0.65\tFBeta : 0.327432\n",
      "Threshold : 0.70\tFBeta : 0.327028\n",
      "Threshold : 0.75\tFBeta : 0.325119\n",
      "Threshold : 0.80\tFBeta : 0.319442\n",
      "\n"
     ]
    },
    {
     "name": "stderr",
     "output_type": "stream",
     "text": [
      "Epoch 334/500  Mem : 19.8GB  LR : 7.61E-05  Loss: 0.2686: 100%|██████████| 8/8 [00:31<00:00,  3.93s/it]                                                                                                                                                      \n",
      "Val Loss: 0.7220: 100%|██████████| 3/3 [00:08<00:00,  2.87s/it]                                                                                                                                                                                              \n"
     ]
    },
    {
     "name": "stdout",
     "output_type": "stream",
     "text": [
      "Threshold : 0.20\tFBeta : 0.265568\n",
      "Threshold : 0.25\tFBeta : 0.270052\n",
      "Threshold : 0.30\tFBeta : 0.273795\n",
      "Threshold : 0.35\tFBeta : 0.277268\n",
      "Threshold : 0.40\tFBeta : 0.280447\n",
      "Threshold : 0.45\tFBeta : 0.283694\n",
      "Threshold : 0.50\tFBeta : 0.286862\n",
      "Threshold : 0.55\tFBeta : 0.289755\n",
      "Threshold : 0.60\tFBeta : 0.292305\n",
      "Threshold : 0.65\tFBeta : 0.294712\n",
      "Threshold : 0.70\tFBeta : 0.297187\n",
      "Threshold : 0.75\tFBeta : 0.300074\n",
      "Threshold : 0.80\tFBeta : 0.303452\n",
      "\n"
     ]
    },
    {
     "name": "stderr",
     "output_type": "stream",
     "text": [
      "Epoch 335/500  Mem : 19.8GB  LR : 7.63E-05  Loss: 0.2732: 100%|██████████| 8/8 [00:32<00:00,  4.00s/it]                                                                                                                                                      \n",
      "Val Loss: 0.5637: 100%|██████████| 3/3 [00:08<00:00,  2.85s/it]                                                                                                                                                                                              \n"
     ]
    },
    {
     "name": "stdout",
     "output_type": "stream",
     "text": [
      "Threshold : 0.20\tFBeta : 0.299589\n",
      "Threshold : 0.25\tFBeta : 0.305835\n",
      "Threshold : 0.30\tFBeta : 0.311177\n",
      "Threshold : 0.35\tFBeta : 0.315602\n",
      "Threshold : 0.40\tFBeta : 0.319830\n",
      "Threshold : 0.45\tFBeta : 0.324143\n",
      "Threshold : 0.50\tFBeta : 0.328658\n",
      "Threshold : 0.55\tFBeta : 0.333258\n",
      "Threshold : 0.60\tFBeta : 0.337493\n",
      "Threshold : 0.65\tFBeta : 0.341740\n",
      "Threshold : 0.70\tFBeta : 0.345579\n",
      "Threshold : 0.75\tFBeta : 0.347711\n",
      "Threshold : 0.80\tFBeta : 0.348508\n",
      "\n"
     ]
    },
    {
     "name": "stderr",
     "output_type": "stream",
     "text": [
      "Epoch 336/500  Mem : 19.8GB  LR : 7.66E-05  Loss: 0.2700: 100%|██████████| 8/8 [00:31<00:00,  3.91s/it]                                                                                                                                                      \n",
      "Val Loss: 0.6000: 100%|██████████| 3/3 [00:08<00:00,  2.86s/it]                                                                                                                                                                                              \n"
     ]
    },
    {
     "name": "stdout",
     "output_type": "stream",
     "text": [
      "Threshold : 0.20\tFBeta : 0.293756\n",
      "Threshold : 0.25\tFBeta : 0.299206\n",
      "Threshold : 0.30\tFBeta : 0.303605\n",
      "Threshold : 0.35\tFBeta : 0.307395\n",
      "Threshold : 0.40\tFBeta : 0.310760\n",
      "Threshold : 0.45\tFBeta : 0.314416\n",
      "Threshold : 0.50\tFBeta : 0.317843\n",
      "Threshold : 0.55\tFBeta : 0.321320\n",
      "Threshold : 0.60\tFBeta : 0.324878\n",
      "Threshold : 0.65\tFBeta : 0.328644\n",
      "Threshold : 0.70\tFBeta : 0.332793\n",
      "Threshold : 0.75\tFBeta : 0.338015\n",
      "Threshold : 0.80\tFBeta : 0.344098\n",
      "\n"
     ]
    },
    {
     "name": "stderr",
     "output_type": "stream",
     "text": [
      "Epoch 337/500  Mem : 19.8GB  LR : 7.69E-05  Loss: 0.2595: 100%|██████████| 8/8 [00:31<00:00,  3.92s/it]                                                                                                                                                      \n",
      "Val Loss: 0.7094: 100%|██████████| 3/3 [00:08<00:00,  2.87s/it]                                                                                                                                                                                              \n"
     ]
    },
    {
     "name": "stdout",
     "output_type": "stream",
     "text": [
      "Threshold : 0.20\tFBeta : 0.256534\n",
      "Threshold : 0.25\tFBeta : 0.260602\n",
      "Threshold : 0.30\tFBeta : 0.264033\n",
      "Threshold : 0.35\tFBeta : 0.267541\n",
      "Threshold : 0.40\tFBeta : 0.270910\n",
      "Threshold : 0.45\tFBeta : 0.274324\n",
      "Threshold : 0.50\tFBeta : 0.277577\n",
      "Threshold : 0.55\tFBeta : 0.280674\n",
      "Threshold : 0.60\tFBeta : 0.283502\n",
      "Threshold : 0.65\tFBeta : 0.286270\n",
      "Threshold : 0.70\tFBeta : 0.288848\n",
      "Threshold : 0.75\tFBeta : 0.291502\n",
      "Threshold : 0.80\tFBeta : 0.295406\n",
      "\n"
     ]
    },
    {
     "name": "stderr",
     "output_type": "stream",
     "text": [
      "Epoch 338/500  Mem : 19.8GB  LR : 7.71E-05  Loss: 0.2756: 100%|██████████| 8/8 [00:30<00:00,  3.85s/it]                                                                                                                                                      \n",
      "Val Loss: 0.5908: 100%|██████████| 3/3 [00:08<00:00,  2.89s/it]                                                                                                                                                                                              \n"
     ]
    },
    {
     "name": "stdout",
     "output_type": "stream",
     "text": [
      "Threshold : 0.20\tFBeta : 0.284647\n",
      "Threshold : 0.25\tFBeta : 0.291730\n",
      "Threshold : 0.30\tFBeta : 0.297684\n",
      "Threshold : 0.35\tFBeta : 0.303037\n",
      "Threshold : 0.40\tFBeta : 0.307649\n",
      "Threshold : 0.45\tFBeta : 0.312352\n",
      "Threshold : 0.50\tFBeta : 0.317216\n",
      "Threshold : 0.55\tFBeta : 0.322117\n",
      "Threshold : 0.60\tFBeta : 0.327224\n",
      "Threshold : 0.65\tFBeta : 0.332405\n",
      "Threshold : 0.70\tFBeta : 0.337669\n",
      "Threshold : 0.75\tFBeta : 0.343637\n",
      "Threshold : 0.80\tFBeta : 0.350491\n",
      "\n"
     ]
    },
    {
     "name": "stderr",
     "output_type": "stream",
     "text": [
      "Epoch 339/500  Mem : 19.8GB  LR : 7.74E-05  Loss: 0.2704: 100%|██████████| 8/8 [00:31<00:00,  3.96s/it]                                                                                                                                                      \n",
      "Val Loss: 0.5660: 100%|██████████| 3/3 [00:08<00:00,  2.87s/it]                                                                                                                                                                                              \n"
     ]
    },
    {
     "name": "stdout",
     "output_type": "stream",
     "text": [
      "Threshold : 0.20\tFBeta : 0.288012\n",
      "Threshold : 0.25\tFBeta : 0.292274\n",
      "Threshold : 0.30\tFBeta : 0.295763\n",
      "Threshold : 0.35\tFBeta : 0.298074\n",
      "Threshold : 0.40\tFBeta : 0.299814\n",
      "Threshold : 0.45\tFBeta : 0.300988\n",
      "Threshold : 0.50\tFBeta : 0.302095\n",
      "Threshold : 0.55\tFBeta : 0.302268\n",
      "Threshold : 0.60\tFBeta : 0.302233\n",
      "Threshold : 0.65\tFBeta : 0.301796\n",
      "Threshold : 0.70\tFBeta : 0.300661\n",
      "Threshold : 0.75\tFBeta : 0.297634\n",
      "Threshold : 0.80\tFBeta : 0.292291\n",
      "\n"
     ]
    },
    {
     "name": "stderr",
     "output_type": "stream",
     "text": [
      "Epoch 340/500  Mem : 19.8GB  LR : 7.76E-05  Loss: 0.2684: 100%|██████████| 8/8 [00:30<00:00,  3.85s/it]                                                                                                                                                      \n",
      "Val Loss: 0.7914: 100%|██████████| 3/3 [00:08<00:00,  2.90s/it]                                                                                                                                                                                              \n"
     ]
    },
    {
     "name": "stdout",
     "output_type": "stream",
     "text": [
      "Threshold : 0.20\tFBeta : 0.252801\n",
      "Threshold : 0.25\tFBeta : 0.255473\n",
      "Threshold : 0.30\tFBeta : 0.257850\n",
      "Threshold : 0.35\tFBeta : 0.260063\n",
      "Threshold : 0.40\tFBeta : 0.262141\n",
      "Threshold : 0.45\tFBeta : 0.264117\n",
      "Threshold : 0.50\tFBeta : 0.265995\n",
      "Threshold : 0.55\tFBeta : 0.267830\n",
      "Threshold : 0.60\tFBeta : 0.269633\n",
      "Threshold : 0.65\tFBeta : 0.271302\n",
      "Threshold : 0.70\tFBeta : 0.273268\n",
      "Threshold : 0.75\tFBeta : 0.275366\n",
      "Threshold : 0.80\tFBeta : 0.277460\n",
      "\n"
     ]
    },
    {
     "name": "stderr",
     "output_type": "stream",
     "text": [
      "Epoch 341/500  Mem : 19.8GB  LR : 7.79E-05  Loss: 0.2609: 100%|██████████| 8/8 [00:31<00:00,  3.89s/it]                                                                                                                                                      \n",
      "Val Loss: 0.7485: 100%|██████████| 3/3 [00:08<00:00,  2.85s/it]                                                                                                                                                                                              \n"
     ]
    },
    {
     "name": "stdout",
     "output_type": "stream",
     "text": [
      "Threshold : 0.20\tFBeta : 0.263170\n",
      "Threshold : 0.25\tFBeta : 0.266599\n",
      "Threshold : 0.30\tFBeta : 0.269520\n",
      "Threshold : 0.35\tFBeta : 0.271997\n",
      "Threshold : 0.40\tFBeta : 0.274490\n",
      "Threshold : 0.45\tFBeta : 0.277227\n",
      "Threshold : 0.50\tFBeta : 0.280149\n",
      "Threshold : 0.55\tFBeta : 0.282998\n",
      "Threshold : 0.60\tFBeta : 0.285897\n",
      "Threshold : 0.65\tFBeta : 0.288880\n",
      "Threshold : 0.70\tFBeta : 0.291768\n",
      "Threshold : 0.75\tFBeta : 0.294871\n",
      "Threshold : 0.80\tFBeta : 0.299018\n",
      "\n"
     ]
    },
    {
     "name": "stderr",
     "output_type": "stream",
     "text": [
      "Epoch 342/500  Mem : 19.8GB  LR : 7.81E-05  Loss: 0.2794: 100%|██████████| 8/8 [00:31<00:00,  3.95s/it]                                                                                                                                                      \n",
      "Val Loss: 0.8917: 100%|██████████| 3/3 [00:08<00:00,  2.87s/it]                                                                                                                                                                                              \n"
     ]
    },
    {
     "name": "stdout",
     "output_type": "stream",
     "text": [
      "Threshold : 0.20\tFBeta : 0.249276\n",
      "Threshold : 0.25\tFBeta : 0.251689\n",
      "Threshold : 0.30\tFBeta : 0.253982\n",
      "Threshold : 0.35\tFBeta : 0.256285\n",
      "Threshold : 0.40\tFBeta : 0.258656\n",
      "Threshold : 0.45\tFBeta : 0.261084\n",
      "Threshold : 0.50\tFBeta : 0.263658\n",
      "Threshold : 0.55\tFBeta : 0.266305\n",
      "Threshold : 0.60\tFBeta : 0.269094\n",
      "Threshold : 0.65\tFBeta : 0.272067\n",
      "Threshold : 0.70\tFBeta : 0.275325\n",
      "Threshold : 0.75\tFBeta : 0.279014\n",
      "Threshold : 0.80\tFBeta : 0.283113\n",
      "\n"
     ]
    },
    {
     "name": "stderr",
     "output_type": "stream",
     "text": [
      "Epoch 343/500  Mem : 19.8GB  LR : 7.84E-05  Loss: 0.2679: 100%|██████████| 8/8 [00:31<00:00,  3.97s/it]                                                                                                                                                      \n",
      "Val Loss: 0.7139: 100%|██████████| 3/3 [00:08<00:00,  2.89s/it]                                                                                                                                                                                              \n"
     ]
    },
    {
     "name": "stdout",
     "output_type": "stream",
     "text": [
      "Threshold : 0.20\tFBeta : 0.262333\n",
      "Threshold : 0.25\tFBeta : 0.266965\n",
      "Threshold : 0.30\tFBeta : 0.270787\n",
      "Threshold : 0.35\tFBeta : 0.274212\n",
      "Threshold : 0.40\tFBeta : 0.277422\n",
      "Threshold : 0.45\tFBeta : 0.280391\n",
      "Threshold : 0.50\tFBeta : 0.283179\n",
      "Threshold : 0.55\tFBeta : 0.285870\n",
      "Threshold : 0.60\tFBeta : 0.288870\n",
      "Threshold : 0.65\tFBeta : 0.292002\n",
      "Threshold : 0.70\tFBeta : 0.295732\n",
      "Threshold : 0.75\tFBeta : 0.299920\n",
      "Threshold : 0.80\tFBeta : 0.304814\n",
      "\n"
     ]
    },
    {
     "name": "stderr",
     "output_type": "stream",
     "text": [
      "Epoch 344/500  Mem : 19.8GB  LR : 7.87E-05  Loss: 0.2787: 100%|██████████| 8/8 [00:31<00:00,  3.92s/it]                                                                                                                                                      \n",
      "Val Loss: 0.6383: 100%|██████████| 3/3 [00:08<00:00,  2.87s/it]                                                                                                                                                                                              \n"
     ]
    },
    {
     "name": "stdout",
     "output_type": "stream",
     "text": [
      "Threshold : 0.20\tFBeta : 0.269812\n",
      "Threshold : 0.25\tFBeta : 0.274085\n",
      "Threshold : 0.30\tFBeta : 0.277430\n",
      "Threshold : 0.35\tFBeta : 0.280493\n",
      "Threshold : 0.40\tFBeta : 0.283423\n",
      "Threshold : 0.45\tFBeta : 0.286213\n",
      "Threshold : 0.50\tFBeta : 0.288950\n",
      "Threshold : 0.55\tFBeta : 0.291825\n",
      "Threshold : 0.60\tFBeta : 0.294637\n",
      "Threshold : 0.65\tFBeta : 0.297782\n",
      "Threshold : 0.70\tFBeta : 0.300678\n",
      "Threshold : 0.75\tFBeta : 0.302994\n",
      "Threshold : 0.80\tFBeta : 0.304976\n",
      "\n"
     ]
    },
    {
     "name": "stderr",
     "output_type": "stream",
     "text": [
      "Epoch 345/500  Mem : 19.8GB  LR : 7.89E-05  Loss: 0.2723: 100%|██████████| 8/8 [00:31<00:00,  3.97s/it]                                                                                                                                                      \n",
      "Val Loss: 1.3146: 100%|██████████| 3/3 [00:08<00:00,  2.87s/it]                                                                                                                                                                                              \n"
     ]
    },
    {
     "name": "stdout",
     "output_type": "stream",
     "text": [
      "Threshold : 0.20\tFBeta : 0.240312\n",
      "Threshold : 0.25\tFBeta : 0.241296\n",
      "Threshold : 0.30\tFBeta : 0.242050\n",
      "Threshold : 0.35\tFBeta : 0.242736\n",
      "Threshold : 0.40\tFBeta : 0.243445\n",
      "Threshold : 0.45\tFBeta : 0.244178\n",
      "Threshold : 0.50\tFBeta : 0.244945\n",
      "Threshold : 0.55\tFBeta : 0.245750\n",
      "Threshold : 0.60\tFBeta : 0.246648\n",
      "Threshold : 0.65\tFBeta : 0.247739\n",
      "Threshold : 0.70\tFBeta : 0.248974\n",
      "Threshold : 0.75\tFBeta : 0.250483\n",
      "Threshold : 0.80\tFBeta : 0.252541\n",
      "\n"
     ]
    },
    {
     "name": "stderr",
     "output_type": "stream",
     "text": [
      "Epoch 346/500  Mem : 19.8GB  LR : 7.92E-05  Loss: 0.2766: 100%|██████████| 8/8 [00:31<00:00,  3.99s/it]                                                                                                                                                      \n",
      "Val Loss: 0.5713: 100%|██████████| 3/3 [00:08<00:00,  2.87s/it]                                                                                                                                                                                              \n"
     ]
    },
    {
     "name": "stdout",
     "output_type": "stream",
     "text": [
      "Threshold : 0.20\tFBeta : 0.328216\n",
      "Threshold : 0.25\tFBeta : 0.322482\n",
      "Threshold : 0.30\tFBeta : 0.314184\n",
      "Threshold : 0.35\tFBeta : 0.304112\n",
      "Threshold : 0.40\tFBeta : 0.293246\n",
      "Threshold : 0.45\tFBeta : 0.281877\n",
      "Threshold : 0.50\tFBeta : 0.269441\n",
      "Threshold : 0.55\tFBeta : 0.256178\n",
      "Threshold : 0.60\tFBeta : 0.241623\n",
      "Threshold : 0.65\tFBeta : 0.225759\n",
      "Threshold : 0.70\tFBeta : 0.207407\n",
      "Threshold : 0.75\tFBeta : 0.187760\n",
      "Threshold : 0.80\tFBeta : 0.164337\n",
      "\n"
     ]
    },
    {
     "name": "stderr",
     "output_type": "stream",
     "text": [
      "Epoch 347/500  Mem : 19.8GB  LR : 7.94E-05  Loss: 0.2550: 100%|██████████| 8/8 [00:30<00:00,  3.86s/it]                                                                                                                                                      \n",
      "Val Loss: 0.9992: 100%|██████████| 3/3 [00:08<00:00,  2.86s/it]                                                                                                                                                                                              \n"
     ]
    },
    {
     "name": "stdout",
     "output_type": "stream",
     "text": [
      "Threshold : 0.20\tFBeta : 0.244161\n",
      "Threshold : 0.25\tFBeta : 0.245994\n",
      "Threshold : 0.30\tFBeta : 0.247706\n",
      "Threshold : 0.35\tFBeta : 0.249263\n",
      "Threshold : 0.40\tFBeta : 0.250874\n",
      "Threshold : 0.45\tFBeta : 0.252545\n",
      "Threshold : 0.50\tFBeta : 0.254086\n",
      "Threshold : 0.55\tFBeta : 0.255682\n",
      "Threshold : 0.60\tFBeta : 0.257447\n",
      "Threshold : 0.65\tFBeta : 0.259486\n",
      "Threshold : 0.70\tFBeta : 0.261818\n",
      "Threshold : 0.75\tFBeta : 0.264506\n",
      "Threshold : 0.80\tFBeta : 0.267735\n",
      "\n"
     ]
    },
    {
     "name": "stderr",
     "output_type": "stream",
     "text": [
      "Epoch 348/500  Mem : 19.8GB  LR : 7.96E-05  Loss: 0.2671: 100%|██████████| 8/8 [00:31<00:00,  3.90s/it]                                                                                                                                                      \n",
      "Val Loss: 0.5892: 100%|██████████| 3/3 [00:08<00:00,  2.90s/it]                                                                                                                                                                                              \n"
     ]
    },
    {
     "name": "stdout",
     "output_type": "stream",
     "text": [
      "Threshold : 0.20\tFBeta : 0.285209\n",
      "Threshold : 0.25\tFBeta : 0.290176\n",
      "Threshold : 0.30\tFBeta : 0.293772\n",
      "Threshold : 0.35\tFBeta : 0.297582\n",
      "Threshold : 0.40\tFBeta : 0.301275\n",
      "Threshold : 0.45\tFBeta : 0.304699\n",
      "Threshold : 0.50\tFBeta : 0.307827\n",
      "Threshold : 0.55\tFBeta : 0.310937\n",
      "Threshold : 0.60\tFBeta : 0.313804\n",
      "Threshold : 0.65\tFBeta : 0.316728\n",
      "Threshold : 0.70\tFBeta : 0.319387\n",
      "Threshold : 0.75\tFBeta : 0.321493\n",
      "Threshold : 0.80\tFBeta : 0.322644\n",
      "\n"
     ]
    },
    {
     "name": "stderr",
     "output_type": "stream",
     "text": [
      "Epoch 349/500  Mem : 19.8GB  LR : 7.99E-05  Loss: 0.2543: 100%|██████████| 8/8 [00:31<00:00,  3.88s/it]                                                                                                                                                      \n",
      "Val Loss: 0.9167: 100%|██████████| 3/3 [00:08<00:00,  2.86s/it]                                                                                                                                                                                              \n"
     ]
    },
    {
     "name": "stdout",
     "output_type": "stream",
     "text": [
      "Threshold : 0.20\tFBeta : 0.248583\n",
      "Threshold : 0.25\tFBeta : 0.250284\n",
      "Threshold : 0.30\tFBeta : 0.251850\n",
      "Threshold : 0.35\tFBeta : 0.253285\n",
      "Threshold : 0.40\tFBeta : 0.254642\n",
      "Threshold : 0.45\tFBeta : 0.256098\n",
      "Threshold : 0.50\tFBeta : 0.257519\n",
      "Threshold : 0.55\tFBeta : 0.259025\n",
      "Threshold : 0.60\tFBeta : 0.260660\n",
      "Threshold : 0.65\tFBeta : 0.262330\n",
      "Threshold : 0.70\tFBeta : 0.264155\n",
      "Threshold : 0.75\tFBeta : 0.266283\n",
      "Threshold : 0.80\tFBeta : 0.268939\n",
      "\n"
     ]
    },
    {
     "name": "stderr",
     "output_type": "stream",
     "text": [
      "Epoch 350/500  Mem : 19.8GB  LR : 8.01E-05  Loss: 0.2548: 100%|██████████| 8/8 [00:31<00:00,  3.92s/it]                                                                                                                                                      \n",
      "Val Loss: 0.7533: 100%|██████████| 3/3 [00:08<00:00,  2.88s/it]                                                                                                                                                                                              \n"
     ]
    },
    {
     "name": "stdout",
     "output_type": "stream",
     "text": [
      "Threshold : 0.20\tFBeta : 0.268750\n",
      "Threshold : 0.25\tFBeta : 0.273840\n",
      "Threshold : 0.30\tFBeta : 0.277959\n",
      "Threshold : 0.35\tFBeta : 0.281754\n",
      "Threshold : 0.40\tFBeta : 0.285010\n",
      "Threshold : 0.45\tFBeta : 0.288360\n",
      "Threshold : 0.50\tFBeta : 0.291787\n",
      "Threshold : 0.55\tFBeta : 0.295162\n",
      "Threshold : 0.60\tFBeta : 0.298623\n",
      "Threshold : 0.65\tFBeta : 0.302166\n",
      "Threshold : 0.70\tFBeta : 0.306208\n",
      "Threshold : 0.75\tFBeta : 0.310652\n",
      "Threshold : 0.80\tFBeta : 0.315862\n",
      "\n"
     ]
    },
    {
     "name": "stderr",
     "output_type": "stream",
     "text": [
      "Epoch 351/500  Mem : 19.8GB  LR : 8.04E-05  Loss: 0.2501: 100%|██████████| 8/8 [00:31<00:00,  3.95s/it]                                                                                                                                                      \n",
      "Val Loss: 0.5398: 100%|██████████| 3/3 [00:08<00:00,  2.86s/it]                                                                                                                                                                                              \n"
     ]
    },
    {
     "name": "stdout",
     "output_type": "stream",
     "text": [
      "Threshold : 0.20\tFBeta : 0.326433\n",
      "Threshold : 0.25\tFBeta : 0.334402\n",
      "Threshold : 0.30\tFBeta : 0.340787\n",
      "Threshold : 0.35\tFBeta : 0.346450\n",
      "Threshold : 0.40\tFBeta : 0.351709\n",
      "Threshold : 0.45\tFBeta : 0.356746\n",
      "Threshold : 0.50\tFBeta : 0.361580\n",
      "Threshold : 0.55\tFBeta : 0.366029\n",
      "Threshold : 0.60\tFBeta : 0.370231\n",
      "Threshold : 0.65\tFBeta : 0.375228\n",
      "Threshold : 0.70\tFBeta : 0.379928\n",
      "Threshold : 0.75\tFBeta : 0.384233\n",
      "Threshold : 0.80\tFBeta : 0.387195\n",
      "\n"
     ]
    },
    {
     "name": "stderr",
     "output_type": "stream",
     "text": [
      "Epoch 352/500  Mem : 19.8GB  LR : 8.06E-05  Loss: 0.2369: 100%|██████████| 8/8 [00:31<00:00,  3.90s/it]                                                                                                                                                      \n",
      "Val Loss: 0.5656: 100%|██████████| 3/3 [00:08<00:00,  2.86s/it]                                                                                                                                                                                              \n"
     ]
    },
    {
     "name": "stdout",
     "output_type": "stream",
     "text": [
      "Threshold : 0.20\tFBeta : 0.287541\n",
      "Threshold : 0.25\tFBeta : 0.290470\n",
      "Threshold : 0.30\tFBeta : 0.292634\n",
      "Threshold : 0.35\tFBeta : 0.293884\n",
      "Threshold : 0.40\tFBeta : 0.294699\n",
      "Threshold : 0.45\tFBeta : 0.295178\n",
      "Threshold : 0.50\tFBeta : 0.296014\n",
      "Threshold : 0.55\tFBeta : 0.296393\n",
      "Threshold : 0.60\tFBeta : 0.296468\n",
      "Threshold : 0.65\tFBeta : 0.296074\n",
      "Threshold : 0.70\tFBeta : 0.294649\n",
      "Threshold : 0.75\tFBeta : 0.290866\n",
      "Threshold : 0.80\tFBeta : 0.283662\n",
      "\n"
     ]
    },
    {
     "name": "stderr",
     "output_type": "stream",
     "text": [
      "Epoch 353/500  Mem : 19.8GB  LR : 8.09E-05  Loss: 0.2619: 100%|██████████| 8/8 [00:31<00:00,  3.90s/it]                                                                                                                                                      \n",
      "Val Loss: 0.7170: 100%|██████████| 3/3 [00:08<00:00,  2.88s/it]                                                                                                                                                                                              \n"
     ]
    },
    {
     "name": "stdout",
     "output_type": "stream",
     "text": [
      "Threshold : 0.20\tFBeta : 0.260712\n",
      "Threshold : 0.25\tFBeta : 0.264186\n",
      "Threshold : 0.30\tFBeta : 0.266913\n",
      "Threshold : 0.35\tFBeta : 0.269422\n",
      "Threshold : 0.40\tFBeta : 0.271747\n",
      "Threshold : 0.45\tFBeta : 0.273757\n",
      "Threshold : 0.50\tFBeta : 0.275614\n",
      "Threshold : 0.55\tFBeta : 0.277392\n",
      "Threshold : 0.60\tFBeta : 0.279465\n",
      "Threshold : 0.65\tFBeta : 0.281676\n",
      "Threshold : 0.70\tFBeta : 0.283701\n",
      "Threshold : 0.75\tFBeta : 0.285943\n",
      "Threshold : 0.80\tFBeta : 0.288214\n",
      "\n"
     ]
    },
    {
     "name": "stderr",
     "output_type": "stream",
     "text": [
      "Epoch 354/500  Mem : 19.8GB  LR : 8.11E-05  Loss: 0.2503: 100%|██████████| 8/8 [00:31<00:00,  3.91s/it]                                                                                                                                                      \n",
      "Val Loss: 0.8645: 100%|██████████| 3/3 [00:08<00:00,  2.86s/it]                                                                                                                                                                                              \n"
     ]
    },
    {
     "name": "stdout",
     "output_type": "stream",
     "text": [
      "Threshold : 0.20\tFBeta : 0.251712\n",
      "Threshold : 0.25\tFBeta : 0.254492\n",
      "Threshold : 0.30\tFBeta : 0.256921\n",
      "Threshold : 0.35\tFBeta : 0.259121\n",
      "Threshold : 0.40\tFBeta : 0.261306\n",
      "Threshold : 0.45\tFBeta : 0.263406\n",
      "Threshold : 0.50\tFBeta : 0.265407\n",
      "Threshold : 0.55\tFBeta : 0.267444\n",
      "Threshold : 0.60\tFBeta : 0.269588\n",
      "Threshold : 0.65\tFBeta : 0.271903\n",
      "Threshold : 0.70\tFBeta : 0.274425\n",
      "Threshold : 0.75\tFBeta : 0.276943\n",
      "Threshold : 0.80\tFBeta : 0.279514\n",
      "\n"
     ]
    },
    {
     "name": "stderr",
     "output_type": "stream",
     "text": [
      "Epoch 355/500  Mem : 19.8GB  LR : 8.14E-05  Loss: 0.2586: 100%|██████████| 8/8 [00:31<00:00,  3.97s/it]                                                                                                                                                      \n",
      "Val Loss: 0.5627: 100%|██████████| 3/3 [00:08<00:00,  2.84s/it]                                                                                                                                                                                              \n"
     ]
    },
    {
     "name": "stdout",
     "output_type": "stream",
     "text": [
      "Threshold : 0.20\tFBeta : 0.304564\n",
      "Threshold : 0.25\tFBeta : 0.308749\n",
      "Threshold : 0.30\tFBeta : 0.311854\n",
      "Threshold : 0.35\tFBeta : 0.314352\n",
      "Threshold : 0.40\tFBeta : 0.316663\n",
      "Threshold : 0.45\tFBeta : 0.318826\n",
      "Threshold : 0.50\tFBeta : 0.320201\n",
      "Threshold : 0.55\tFBeta : 0.321045\n",
      "Threshold : 0.60\tFBeta : 0.321622\n",
      "Threshold : 0.65\tFBeta : 0.322206\n",
      "Threshold : 0.70\tFBeta : 0.321775\n",
      "Threshold : 0.75\tFBeta : 0.320564\n",
      "Threshold : 0.80\tFBeta : 0.317109\n",
      "\n"
     ]
    },
    {
     "name": "stderr",
     "output_type": "stream",
     "text": [
      "Epoch 356/500  Mem : 19.8GB  LR : 8.16E-05  Loss: 0.2678: 100%|██████████| 8/8 [00:31<00:00,  3.93s/it]                                                                                                                                                      \n",
      "Val Loss: 0.8590: 100%|██████████| 3/3 [00:08<00:00,  2.86s/it]                                                                                                                                                                                              \n"
     ]
    },
    {
     "name": "stdout",
     "output_type": "stream",
     "text": [
      "Threshold : 0.20\tFBeta : 0.261414\n",
      "Threshold : 0.25\tFBeta : 0.263978\n",
      "Threshold : 0.30\tFBeta : 0.266182\n",
      "Threshold : 0.35\tFBeta : 0.268217\n",
      "Threshold : 0.40\tFBeta : 0.270219\n",
      "Threshold : 0.45\tFBeta : 0.272207\n",
      "Threshold : 0.50\tFBeta : 0.274153\n",
      "Threshold : 0.55\tFBeta : 0.276147\n",
      "Threshold : 0.60\tFBeta : 0.278190\n",
      "Threshold : 0.65\tFBeta : 0.280482\n",
      "Threshold : 0.70\tFBeta : 0.283232\n",
      "Threshold : 0.75\tFBeta : 0.286320\n",
      "Threshold : 0.80\tFBeta : 0.289771\n",
      "\n"
     ]
    },
    {
     "name": "stderr",
     "output_type": "stream",
     "text": [
      "Epoch 357/500  Mem : 19.8GB  LR : 8.18E-05  Loss: 0.2500: 100%|██████████| 8/8 [00:30<00:00,  3.85s/it]                                                                                                                                                      \n",
      "Val Loss: 0.6934: 100%|██████████| 3/3 [00:08<00:00,  2.92s/it]                                                                                                                                                                                              \n"
     ]
    },
    {
     "name": "stdout",
     "output_type": "stream",
     "text": [
      "Threshold : 0.20\tFBeta : 0.273965\n",
      "Threshold : 0.25\tFBeta : 0.277939\n",
      "Threshold : 0.30\tFBeta : 0.281302\n",
      "Threshold : 0.35\tFBeta : 0.284388\n",
      "Threshold : 0.40\tFBeta : 0.287544\n",
      "Threshold : 0.45\tFBeta : 0.290737\n",
      "Threshold : 0.50\tFBeta : 0.293874\n",
      "Threshold : 0.55\tFBeta : 0.296890\n",
      "Threshold : 0.60\tFBeta : 0.299712\n",
      "Threshold : 0.65\tFBeta : 0.302554\n",
      "Threshold : 0.70\tFBeta : 0.305389\n",
      "Threshold : 0.75\tFBeta : 0.308802\n",
      "Threshold : 0.80\tFBeta : 0.313288\n",
      "\n"
     ]
    },
    {
     "name": "stderr",
     "output_type": "stream",
     "text": [
      "Epoch 358/500  Mem : 19.8GB  LR : 8.21E-05  Loss: 0.2520: 100%|██████████| 8/8 [00:30<00:00,  3.86s/it]                                                                                                                                                      \n",
      "Val Loss: 0.6684: 100%|██████████| 3/3 [00:08<00:00,  2.86s/it]                                                                                                                                                                                              \n"
     ]
    },
    {
     "name": "stdout",
     "output_type": "stream",
     "text": [
      "Threshold : 0.20\tFBeta : 0.275976\n",
      "Threshold : 0.25\tFBeta : 0.280556\n",
      "Threshold : 0.30\tFBeta : 0.284271\n",
      "Threshold : 0.35\tFBeta : 0.287852\n",
      "Threshold : 0.40\tFBeta : 0.291368\n",
      "Threshold : 0.45\tFBeta : 0.294821\n",
      "Threshold : 0.50\tFBeta : 0.298394\n",
      "Threshold : 0.55\tFBeta : 0.302186\n",
      "Threshold : 0.60\tFBeta : 0.306158\n",
      "Threshold : 0.65\tFBeta : 0.310520\n",
      "Threshold : 0.70\tFBeta : 0.315009\n",
      "Threshold : 0.75\tFBeta : 0.319987\n",
      "Threshold : 0.80\tFBeta : 0.326060\n",
      "\n"
     ]
    },
    {
     "name": "stderr",
     "output_type": "stream",
     "text": [
      "Epoch 359/500  Mem : 19.8GB  LR : 8.23E-05  Loss: 0.2368: 100%|██████████| 8/8 [00:31<00:00,  3.88s/it]                                                                                                                                                      \n",
      "Val Loss: 0.7379: 100%|██████████| 3/3 [00:08<00:00,  2.86s/it]                                                                                                                                                                                              \n"
     ]
    },
    {
     "name": "stdout",
     "output_type": "stream",
     "text": [
      "Threshold : 0.20\tFBeta : 0.262847\n",
      "Threshold : 0.25\tFBeta : 0.265930\n",
      "Threshold : 0.30\tFBeta : 0.268321\n",
      "Threshold : 0.35\tFBeta : 0.270406\n",
      "Threshold : 0.40\tFBeta : 0.272486\n",
      "Threshold : 0.45\tFBeta : 0.274666\n",
      "Threshold : 0.50\tFBeta : 0.276736\n",
      "Threshold : 0.55\tFBeta : 0.278845\n",
      "Threshold : 0.60\tFBeta : 0.281419\n",
      "Threshold : 0.65\tFBeta : 0.284223\n",
      "Threshold : 0.70\tFBeta : 0.287534\n",
      "Threshold : 0.75\tFBeta : 0.291428\n",
      "Threshold : 0.80\tFBeta : 0.295812\n",
      "\n"
     ]
    },
    {
     "name": "stderr",
     "output_type": "stream",
     "text": [
      "Epoch 360/500  Mem : 19.8GB  LR : 8.25E-05  Loss: 0.2573: 100%|██████████| 8/8 [00:31<00:00,  3.94s/it]                                                                                                                                                      \n",
      "Val Loss: 0.6089: 100%|██████████| 3/3 [00:08<00:00,  2.86s/it]                                                                                                                                                                                              \n"
     ]
    },
    {
     "name": "stdout",
     "output_type": "stream",
     "text": [
      "Threshold : 0.20\tFBeta : 0.291127\n",
      "Threshold : 0.25\tFBeta : 0.297082\n",
      "Threshold : 0.30\tFBeta : 0.302240\n",
      "Threshold : 0.35\tFBeta : 0.307030\n",
      "Threshold : 0.40\tFBeta : 0.311911\n",
      "Threshold : 0.45\tFBeta : 0.316697\n",
      "Threshold : 0.50\tFBeta : 0.321285\n",
      "Threshold : 0.55\tFBeta : 0.326006\n",
      "Threshold : 0.60\tFBeta : 0.330983\n",
      "Threshold : 0.65\tFBeta : 0.335988\n",
      "Threshold : 0.70\tFBeta : 0.341495\n",
      "Threshold : 0.75\tFBeta : 0.347420\n",
      "Threshold : 0.80\tFBeta : 0.353568\n",
      "\n"
     ]
    },
    {
     "name": "stderr",
     "output_type": "stream",
     "text": [
      "Epoch 361/500  Mem : 19.8GB  LR : 8.28E-05  Loss: 0.2574: 100%|██████████| 8/8 [00:31<00:00,  3.92s/it]                                                                                                                                                      \n",
      "Val Loss: 0.5730: 100%|██████████| 3/3 [00:08<00:00,  2.87s/it]                                                                                                                                                                                              \n"
     ]
    },
    {
     "name": "stdout",
     "output_type": "stream",
     "text": [
      "Threshold : 0.20\tFBeta : 0.285570\n",
      "Threshold : 0.25\tFBeta : 0.288250\n",
      "Threshold : 0.30\tFBeta : 0.290249\n",
      "Threshold : 0.35\tFBeta : 0.292218\n",
      "Threshold : 0.40\tFBeta : 0.294377\n",
      "Threshold : 0.45\tFBeta : 0.296338\n",
      "Threshold : 0.50\tFBeta : 0.298277\n",
      "Threshold : 0.55\tFBeta : 0.299688\n",
      "Threshold : 0.60\tFBeta : 0.301008\n",
      "Threshold : 0.65\tFBeta : 0.302080\n",
      "Threshold : 0.70\tFBeta : 0.302225\n",
      "Threshold : 0.75\tFBeta : 0.301535\n",
      "Threshold : 0.80\tFBeta : 0.298635\n",
      "\n"
     ]
    },
    {
     "name": "stderr",
     "output_type": "stream",
     "text": [
      "Epoch 362/500  Mem : 19.8GB  LR : 8.30E-05  Loss: 0.2501: 100%|██████████| 8/8 [00:31<00:00,  3.94s/it]                                                                                                                                                      \n",
      "Val Loss: 0.8056: 100%|██████████| 3/3 [00:08<00:00,  2.87s/it]                                                                                                                                                                                              \n"
     ]
    },
    {
     "name": "stdout",
     "output_type": "stream",
     "text": [
      "Threshold : 0.20\tFBeta : 0.255773\n",
      "Threshold : 0.25\tFBeta : 0.259314\n",
      "Threshold : 0.30\tFBeta : 0.262408\n",
      "Threshold : 0.35\tFBeta : 0.265044\n",
      "Threshold : 0.40\tFBeta : 0.267316\n",
      "Threshold : 0.45\tFBeta : 0.269299\n",
      "Threshold : 0.50\tFBeta : 0.271163\n",
      "Threshold : 0.55\tFBeta : 0.273140\n",
      "Threshold : 0.60\tFBeta : 0.274926\n",
      "Threshold : 0.65\tFBeta : 0.276974\n",
      "Threshold : 0.70\tFBeta : 0.279552\n",
      "Threshold : 0.75\tFBeta : 0.282192\n",
      "Threshold : 0.80\tFBeta : 0.284992\n",
      "\n"
     ]
    },
    {
     "name": "stderr",
     "output_type": "stream",
     "text": [
      "Epoch 363/500  Mem : 19.8GB  LR : 8.32E-05  Loss: 0.2529: 100%|██████████| 8/8 [00:30<00:00,  3.87s/it]                                                                                                                                                      \n",
      "Val Loss: 0.6528: 100%|██████████| 3/3 [00:08<00:00,  2.91s/it]                                                                                                                                                                                              \n"
     ]
    },
    {
     "name": "stdout",
     "output_type": "stream",
     "text": [
      "Threshold : 0.20\tFBeta : 0.282097\n",
      "Threshold : 0.25\tFBeta : 0.286055\n",
      "Threshold : 0.30\tFBeta : 0.289270\n",
      "Threshold : 0.35\tFBeta : 0.292118\n",
      "Threshold : 0.40\tFBeta : 0.294902\n",
      "Threshold : 0.45\tFBeta : 0.297595\n",
      "Threshold : 0.50\tFBeta : 0.300380\n",
      "Threshold : 0.55\tFBeta : 0.302999\n",
      "Threshold : 0.60\tFBeta : 0.306002\n",
      "Threshold : 0.65\tFBeta : 0.309107\n",
      "Threshold : 0.70\tFBeta : 0.311947\n",
      "Threshold : 0.75\tFBeta : 0.314587\n",
      "Threshold : 0.80\tFBeta : 0.317379\n",
      "\n"
     ]
    },
    {
     "name": "stderr",
     "output_type": "stream",
     "text": [
      "Epoch 364/500  Mem : 19.8GB  LR : 8.35E-05  Loss: 0.2458: 100%|██████████| 8/8 [00:30<00:00,  3.87s/it]                                                                                                                                                      \n",
      "Val Loss: 0.7606: 100%|██████████| 3/3 [00:08<00:00,  2.86s/it]                                                                                                                                                                                              \n"
     ]
    },
    {
     "name": "stdout",
     "output_type": "stream",
     "text": [
      "Threshold : 0.20\tFBeta : 0.260393\n",
      "Threshold : 0.25\tFBeta : 0.261891\n",
      "Threshold : 0.30\tFBeta : 0.263242\n",
      "Threshold : 0.35\tFBeta : 0.264604\n",
      "Threshold : 0.40\tFBeta : 0.266086\n",
      "Threshold : 0.45\tFBeta : 0.267400\n",
      "Threshold : 0.50\tFBeta : 0.268731\n",
      "Threshold : 0.55\tFBeta : 0.270307\n",
      "Threshold : 0.60\tFBeta : 0.272153\n",
      "Threshold : 0.65\tFBeta : 0.274106\n",
      "Threshold : 0.70\tFBeta : 0.275954\n",
      "Threshold : 0.75\tFBeta : 0.277344\n",
      "Threshold : 0.80\tFBeta : 0.278246\n",
      "\n"
     ]
    },
    {
     "name": "stderr",
     "output_type": "stream",
     "text": [
      "Epoch 365/500  Mem : 19.8GB  LR : 8.37E-05  Loss: 0.2429: 100%|██████████| 8/8 [00:30<00:00,  3.87s/it]                                                                                                                                                      \n",
      "Val Loss: 0.6325: 100%|██████████| 3/3 [00:08<00:00,  2.88s/it]                                                                                                                                                                                              \n"
     ]
    },
    {
     "name": "stdout",
     "output_type": "stream",
     "text": [
      "Threshold : 0.20\tFBeta : 0.286482\n",
      "Threshold : 0.25\tFBeta : 0.290771\n",
      "Threshold : 0.30\tFBeta : 0.294621\n",
      "Threshold : 0.35\tFBeta : 0.298082\n",
      "Threshold : 0.40\tFBeta : 0.300757\n",
      "Threshold : 0.45\tFBeta : 0.302824\n",
      "Threshold : 0.50\tFBeta : 0.304932\n",
      "Threshold : 0.55\tFBeta : 0.307193\n",
      "Threshold : 0.60\tFBeta : 0.309645\n",
      "Threshold : 0.65\tFBeta : 0.312222\n",
      "Threshold : 0.70\tFBeta : 0.314745\n",
      "Threshold : 0.75\tFBeta : 0.317661\n",
      "Threshold : 0.80\tFBeta : 0.321503\n",
      "\n"
     ]
    },
    {
     "name": "stderr",
     "output_type": "stream",
     "text": [
      "Epoch 366/500  Mem : 19.8GB  LR : 8.39E-05  Loss: 0.2444: 100%|██████████| 8/8 [00:31<00:00,  3.94s/it]                                                                                                                                                      \n",
      "Val Loss: 0.8575: 100%|██████████| 3/3 [00:08<00:00,  2.91s/it]                                                                                                                                                                                              \n"
     ]
    },
    {
     "name": "stdout",
     "output_type": "stream",
     "text": [
      "Threshold : 0.20\tFBeta : 0.264517\n",
      "Threshold : 0.25\tFBeta : 0.266827\n",
      "Threshold : 0.30\tFBeta : 0.269099\n",
      "Threshold : 0.35\tFBeta : 0.271186\n",
      "Threshold : 0.40\tFBeta : 0.273449\n",
      "Threshold : 0.45\tFBeta : 0.275854\n",
      "Threshold : 0.50\tFBeta : 0.278215\n",
      "Threshold : 0.55\tFBeta : 0.280510\n",
      "Threshold : 0.60\tFBeta : 0.282904\n",
      "Threshold : 0.65\tFBeta : 0.285731\n",
      "Threshold : 0.70\tFBeta : 0.288788\n",
      "Threshold : 0.75\tFBeta : 0.292355\n",
      "Threshold : 0.80\tFBeta : 0.296312\n",
      "\n"
     ]
    },
    {
     "name": "stderr",
     "output_type": "stream",
     "text": [
      "Epoch 367/500  Mem : 19.8GB  LR : 8.41E-05  Loss: 0.2485: 100%|██████████| 8/8 [00:31<00:00,  3.98s/it]                                                                                                                                                      \n",
      "Val Loss: 0.6462: 100%|██████████| 3/3 [00:08<00:00,  2.85s/it]                                                                                                                                                                                              \n"
     ]
    },
    {
     "name": "stdout",
     "output_type": "stream",
     "text": [
      "Threshold : 0.20\tFBeta : 0.277985\n",
      "Threshold : 0.25\tFBeta : 0.281609\n",
      "Threshold : 0.30\tFBeta : 0.284520\n",
      "Threshold : 0.35\tFBeta : 0.287159\n",
      "Threshold : 0.40\tFBeta : 0.289807\n",
      "Threshold : 0.45\tFBeta : 0.292741\n",
      "Threshold : 0.50\tFBeta : 0.295980\n",
      "Threshold : 0.55\tFBeta : 0.299471\n",
      "Threshold : 0.60\tFBeta : 0.303034\n",
      "Threshold : 0.65\tFBeta : 0.306539\n",
      "Threshold : 0.70\tFBeta : 0.310174\n",
      "Threshold : 0.75\tFBeta : 0.313835\n",
      "Threshold : 0.80\tFBeta : 0.317893\n",
      "\n"
     ]
    },
    {
     "name": "stderr",
     "output_type": "stream",
     "text": [
      "Epoch 368/500  Mem : 19.8GB  LR : 8.44E-05  Loss: 0.2419: 100%|██████████| 8/8 [00:30<00:00,  3.82s/it]                                                                                                                                                      \n",
      "Val Loss: 0.8471: 100%|██████████| 3/3 [00:08<00:00,  2.87s/it]                                                                                                                                                                                              \n"
     ]
    },
    {
     "name": "stdout",
     "output_type": "stream",
     "text": [
      "Threshold : 0.20\tFBeta : 0.258827\n",
      "Threshold : 0.25\tFBeta : 0.261856\n",
      "Threshold : 0.30\tFBeta : 0.264740\n",
      "Threshold : 0.35\tFBeta : 0.267522\n",
      "Threshold : 0.40\tFBeta : 0.270087\n",
      "Threshold : 0.45\tFBeta : 0.272432\n",
      "Threshold : 0.50\tFBeta : 0.274695\n",
      "Threshold : 0.55\tFBeta : 0.276980\n",
      "Threshold : 0.60\tFBeta : 0.279430\n",
      "Threshold : 0.65\tFBeta : 0.282112\n",
      "Threshold : 0.70\tFBeta : 0.285153\n",
      "Threshold : 0.75\tFBeta : 0.288698\n",
      "Threshold : 0.80\tFBeta : 0.292793\n",
      "\n"
     ]
    },
    {
     "name": "stderr",
     "output_type": "stream",
     "text": [
      "Epoch 369/500  Mem : 19.8GB  LR : 8.46E-05  Loss: 0.2410: 100%|██████████| 8/8 [00:31<00:00,  3.92s/it]                                                                                                                                                      \n",
      "Val Loss: 0.6555: 100%|██████████| 3/3 [00:08<00:00,  2.87s/it]                                                                                                                                                                                              \n"
     ]
    },
    {
     "name": "stdout",
     "output_type": "stream",
     "text": [
      "Threshold : 0.20\tFBeta : 0.259333\n",
      "Threshold : 0.25\tFBeta : 0.263483\n",
      "Threshold : 0.30\tFBeta : 0.266695\n",
      "Threshold : 0.35\tFBeta : 0.269184\n",
      "Threshold : 0.40\tFBeta : 0.271367\n",
      "Threshold : 0.45\tFBeta : 0.273380\n",
      "Threshold : 0.50\tFBeta : 0.274965\n",
      "Threshold : 0.55\tFBeta : 0.276805\n",
      "Threshold : 0.60\tFBeta : 0.278621\n",
      "Threshold : 0.65\tFBeta : 0.280519\n",
      "Threshold : 0.70\tFBeta : 0.282730\n",
      "Threshold : 0.75\tFBeta : 0.284887\n",
      "Threshold : 0.80\tFBeta : 0.286800\n",
      "\n"
     ]
    },
    {
     "name": "stderr",
     "output_type": "stream",
     "text": [
      "Epoch 370/500  Mem : 19.8GB  LR : 8.48E-05  Loss: 0.2398: 100%|██████████| 8/8 [00:31<00:00,  3.90s/it]                                                                                                                                                      \n",
      "Val Loss: 0.5823: 100%|██████████| 3/3 [00:08<00:00,  2.86s/it]                                                                                                                                                                                              \n"
     ]
    },
    {
     "name": "stdout",
     "output_type": "stream",
     "text": [
      "Threshold : 0.20\tFBeta : 0.283944\n",
      "Threshold : 0.25\tFBeta : 0.286623\n",
      "Threshold : 0.30\tFBeta : 0.288602\n",
      "Threshold : 0.35\tFBeta : 0.290169\n",
      "Threshold : 0.40\tFBeta : 0.291693\n",
      "Threshold : 0.45\tFBeta : 0.292978\n",
      "Threshold : 0.50\tFBeta : 0.294703\n",
      "Threshold : 0.55\tFBeta : 0.296660\n",
      "Threshold : 0.60\tFBeta : 0.298244\n",
      "Threshold : 0.65\tFBeta : 0.299222\n",
      "Threshold : 0.70\tFBeta : 0.299900\n",
      "Threshold : 0.75\tFBeta : 0.299806\n",
      "Threshold : 0.80\tFBeta : 0.298871\n",
      "\n"
     ]
    },
    {
     "name": "stderr",
     "output_type": "stream",
     "text": [
      "Epoch 371/500  Mem : 19.8GB  LR : 8.50E-05  Loss: 0.2467: 100%|██████████| 8/8 [00:31<00:00,  3.96s/it]                                                                                                                                                      \n",
      "Val Loss: 0.7057: 100%|██████████| 3/3 [00:08<00:00,  2.87s/it]                                                                                                                                                                                              \n"
     ]
    },
    {
     "name": "stdout",
     "output_type": "stream",
     "text": [
      "Threshold : 0.20\tFBeta : 0.272733\n",
      "Threshold : 0.25\tFBeta : 0.277142\n",
      "Threshold : 0.30\tFBeta : 0.281097\n",
      "Threshold : 0.35\tFBeta : 0.284599\n",
      "Threshold : 0.40\tFBeta : 0.287793\n",
      "Threshold : 0.45\tFBeta : 0.290876\n",
      "Threshold : 0.50\tFBeta : 0.293956\n",
      "Threshold : 0.55\tFBeta : 0.297317\n",
      "Threshold : 0.60\tFBeta : 0.300702\n",
      "Threshold : 0.65\tFBeta : 0.304439\n",
      "Threshold : 0.70\tFBeta : 0.308542\n",
      "Threshold : 0.75\tFBeta : 0.312745\n",
      "Threshold : 0.80\tFBeta : 0.317469\n",
      "\n"
     ]
    },
    {
     "name": "stderr",
     "output_type": "stream",
     "text": [
      "Epoch 372/500  Mem : 19.8GB  LR : 8.52E-05  Loss: 0.2524: 100%|██████████| 8/8 [00:31<00:00,  3.93s/it]                                                                                                                                                      \n",
      "Val Loss: 0.5457: 100%|██████████| 3/3 [00:08<00:00,  2.92s/it]                                                                                                                                                                                              \n"
     ]
    },
    {
     "name": "stdout",
     "output_type": "stream",
     "text": [
      "Threshold : 0.20\tFBeta : 0.336555\n",
      "Threshold : 0.25\tFBeta : 0.342601\n",
      "Threshold : 0.30\tFBeta : 0.347662\n",
      "Threshold : 0.35\tFBeta : 0.351830\n",
      "Threshold : 0.40\tFBeta : 0.355566\n",
      "Threshold : 0.45\tFBeta : 0.359030\n",
      "Threshold : 0.50\tFBeta : 0.361989\n",
      "Threshold : 0.55\tFBeta : 0.365159\n",
      "Threshold : 0.60\tFBeta : 0.368074\n",
      "Threshold : 0.65\tFBeta : 0.370422\n",
      "Threshold : 0.70\tFBeta : 0.372656\n",
      "Threshold : 0.75\tFBeta : 0.374218\n",
      "Threshold : 0.80\tFBeta : 0.375547\n",
      "\n"
     ]
    },
    {
     "name": "stderr",
     "output_type": "stream",
     "text": [
      "Epoch 373/500  Mem : 19.8GB  LR : 8.55E-05  Loss: 0.2334: 100%|██████████| 8/8 [00:30<00:00,  3.83s/it]                                                                                                                                                      \n",
      "Val Loss: 0.6009: 100%|██████████| 3/3 [00:08<00:00,  2.92s/it]                                                                                                                                                                                              \n"
     ]
    },
    {
     "name": "stdout",
     "output_type": "stream",
     "text": [
      "Threshold : 0.20\tFBeta : 0.270140\n",
      "Threshold : 0.25\tFBeta : 0.263967\n",
      "Threshold : 0.30\tFBeta : 0.257447\n",
      "Threshold : 0.35\tFBeta : 0.250922\n",
      "Threshold : 0.40\tFBeta : 0.245130\n",
      "Threshold : 0.45\tFBeta : 0.238252\n",
      "Threshold : 0.50\tFBeta : 0.230374\n",
      "Threshold : 0.55\tFBeta : 0.221664\n",
      "Threshold : 0.60\tFBeta : 0.212591\n",
      "Threshold : 0.65\tFBeta : 0.202085\n",
      "Threshold : 0.70\tFBeta : 0.189284\n",
      "Threshold : 0.75\tFBeta : 0.173258\n",
      "Threshold : 0.80\tFBeta : 0.153592\n",
      "\n"
     ]
    },
    {
     "name": "stderr",
     "output_type": "stream",
     "text": [
      "Epoch 374/500  Mem : 19.8GB  LR : 8.57E-05  Loss: 0.2214: 100%|██████████| 8/8 [00:30<00:00,  3.83s/it]                                                                                                                                                      \n",
      "Val Loss: 0.6756: 100%|██████████| 3/3 [00:08<00:00,  2.86s/it]                                                                                                                                                                                              \n"
     ]
    },
    {
     "name": "stdout",
     "output_type": "stream",
     "text": [
      "Threshold : 0.20\tFBeta : 0.268579\n",
      "Threshold : 0.25\tFBeta : 0.271763\n",
      "Threshold : 0.30\tFBeta : 0.274401\n",
      "Threshold : 0.35\tFBeta : 0.276503\n",
      "Threshold : 0.40\tFBeta : 0.278379\n",
      "Threshold : 0.45\tFBeta : 0.280185\n",
      "Threshold : 0.50\tFBeta : 0.281659\n",
      "Threshold : 0.55\tFBeta : 0.283177\n",
      "Threshold : 0.60\tFBeta : 0.284613\n",
      "Threshold : 0.65\tFBeta : 0.285958\n",
      "Threshold : 0.70\tFBeta : 0.287376\n",
      "Threshold : 0.75\tFBeta : 0.288805\n",
      "Threshold : 0.80\tFBeta : 0.290415\n",
      "\n"
     ]
    },
    {
     "name": "stderr",
     "output_type": "stream",
     "text": [
      "Epoch 375/500  Mem : 19.8GB  LR : 8.59E-05  Loss: 0.2388: 100%|██████████| 8/8 [00:30<00:00,  3.83s/it]                                                                                                                                                      \n",
      "Val Loss: 0.7220: 100%|██████████| 3/3 [00:08<00:00,  2.86s/it]                                                                                                                                                                                              \n"
     ]
    },
    {
     "name": "stdout",
     "output_type": "stream",
     "text": [
      "Threshold : 0.20\tFBeta : 0.260624\n",
      "Threshold : 0.25\tFBeta : 0.262725\n",
      "Threshold : 0.30\tFBeta : 0.264356\n",
      "Threshold : 0.35\tFBeta : 0.265703\n",
      "Threshold : 0.40\tFBeta : 0.266882\n",
      "Threshold : 0.45\tFBeta : 0.268196\n",
      "Threshold : 0.50\tFBeta : 0.269367\n",
      "Threshold : 0.55\tFBeta : 0.270820\n",
      "Threshold : 0.60\tFBeta : 0.272087\n",
      "Threshold : 0.65\tFBeta : 0.273440\n",
      "Threshold : 0.70\tFBeta : 0.274765\n",
      "Threshold : 0.75\tFBeta : 0.275928\n",
      "Threshold : 0.80\tFBeta : 0.276667\n",
      "\n"
     ]
    },
    {
     "name": "stderr",
     "output_type": "stream",
     "text": [
      "Epoch 376/500  Mem : 19.8GB  LR : 8.61E-05  Loss: 0.2446: 100%|██████████| 8/8 [00:31<00:00,  3.88s/it]                                                                                                                                                      \n",
      "Val Loss: 0.6623: 100%|██████████| 3/3 [00:08<00:00,  2.87s/it]                                                                                                                                                                                              \n"
     ]
    },
    {
     "name": "stdout",
     "output_type": "stream",
     "text": [
      "Threshold : 0.20\tFBeta : 0.282952\n",
      "Threshold : 0.25\tFBeta : 0.288743\n",
      "Threshold : 0.30\tFBeta : 0.294109\n",
      "Threshold : 0.35\tFBeta : 0.298858\n",
      "Threshold : 0.40\tFBeta : 0.303198\n",
      "Threshold : 0.45\tFBeta : 0.307006\n",
      "Threshold : 0.50\tFBeta : 0.310704\n",
      "Threshold : 0.55\tFBeta : 0.314306\n",
      "Threshold : 0.60\tFBeta : 0.318019\n",
      "Threshold : 0.65\tFBeta : 0.321785\n",
      "Threshold : 0.70\tFBeta : 0.325510\n",
      "Threshold : 0.75\tFBeta : 0.329711\n",
      "Threshold : 0.80\tFBeta : 0.334636\n",
      "\n"
     ]
    },
    {
     "name": "stderr",
     "output_type": "stream",
     "text": [
      "Epoch 377/500  Mem : 19.8GB  LR : 8.63E-05  Loss: 0.2302: 100%|██████████| 8/8 [00:31<00:00,  3.94s/it]                                                                                                                                                      \n",
      "Val Loss: 0.8917: 100%|██████████| 3/3 [00:08<00:00,  2.87s/it]                                                                                                                                                                                              \n"
     ]
    },
    {
     "name": "stdout",
     "output_type": "stream",
     "text": [
      "Threshold : 0.20\tFBeta : 0.246166\n",
      "Threshold : 0.25\tFBeta : 0.248171\n",
      "Threshold : 0.30\tFBeta : 0.250039\n",
      "Threshold : 0.35\tFBeta : 0.251802\n",
      "Threshold : 0.40\tFBeta : 0.253496\n",
      "Threshold : 0.45\tFBeta : 0.255204\n",
      "Threshold : 0.50\tFBeta : 0.256903\n",
      "Threshold : 0.55\tFBeta : 0.258574\n",
      "Threshold : 0.60\tFBeta : 0.260184\n",
      "Threshold : 0.65\tFBeta : 0.261941\n",
      "Threshold : 0.70\tFBeta : 0.263917\n",
      "Threshold : 0.75\tFBeta : 0.266206\n",
      "Threshold : 0.80\tFBeta : 0.268919\n",
      "\n"
     ]
    },
    {
     "name": "stderr",
     "output_type": "stream",
     "text": [
      "Epoch 378/500  Mem : 19.8GB  LR : 8.65E-05  Loss: 0.2340: 100%|██████████| 8/8 [00:31<00:00,  3.98s/it]                                                                                                                                                      \n",
      "Val Loss: 0.8316: 100%|██████████| 3/3 [00:08<00:00,  2.88s/it]                                                                                                                                                                                              \n"
     ]
    },
    {
     "name": "stdout",
     "output_type": "stream",
     "text": [
      "Threshold : 0.20\tFBeta : 0.256035\n",
      "Threshold : 0.25\tFBeta : 0.259043\n",
      "Threshold : 0.30\tFBeta : 0.261687\n",
      "Threshold : 0.35\tFBeta : 0.264099\n",
      "Threshold : 0.40\tFBeta : 0.266402\n",
      "Threshold : 0.45\tFBeta : 0.268674\n",
      "Threshold : 0.50\tFBeta : 0.270865\n",
      "Threshold : 0.55\tFBeta : 0.273115\n",
      "Threshold : 0.60\tFBeta : 0.275465\n",
      "Threshold : 0.65\tFBeta : 0.277960\n",
      "Threshold : 0.70\tFBeta : 0.280551\n",
      "Threshold : 0.75\tFBeta : 0.283149\n",
      "Threshold : 0.80\tFBeta : 0.286343\n",
      "\n"
     ]
    },
    {
     "name": "stderr",
     "output_type": "stream",
     "text": [
      "Epoch 379/500  Mem : 19.8GB  LR : 8.67E-05  Loss: 0.2165: 100%|██████████| 8/8 [00:31<00:00,  3.97s/it]                                                                                                                                                      \n",
      "Val Loss: 0.8113: 100%|██████████| 3/3 [00:08<00:00,  2.88s/it]                                                                                                                                                                                              \n"
     ]
    },
    {
     "name": "stdout",
     "output_type": "stream",
     "text": [
      "Threshold : 0.20\tFBeta : 0.258944\n",
      "Threshold : 0.25\tFBeta : 0.261927\n",
      "Threshold : 0.30\tFBeta : 0.264711\n",
      "Threshold : 0.35\tFBeta : 0.267402\n",
      "Threshold : 0.40\tFBeta : 0.270058\n",
      "Threshold : 0.45\tFBeta : 0.272627\n",
      "Threshold : 0.50\tFBeta : 0.275101\n",
      "Threshold : 0.55\tFBeta : 0.277362\n",
      "Threshold : 0.60\tFBeta : 0.279596\n",
      "Threshold : 0.65\tFBeta : 0.282045\n",
      "Threshold : 0.70\tFBeta : 0.284660\n",
      "Threshold : 0.75\tFBeta : 0.287686\n",
      "Threshold : 0.80\tFBeta : 0.291200\n",
      "\n"
     ]
    },
    {
     "name": "stderr",
     "output_type": "stream",
     "text": [
      "Epoch 380/500  Mem : 19.8GB  LR : 8.69E-05  Loss: 0.2244: 100%|██████████| 8/8 [00:31<00:00,  3.88s/it]                                                                                                                                                      \n",
      "Val Loss: 0.8143: 100%|██████████| 3/3 [00:08<00:00,  2.91s/it]                                                                                                                                                                                              \n"
     ]
    },
    {
     "name": "stdout",
     "output_type": "stream",
     "text": [
      "Threshold : 0.20\tFBeta : 0.256144\n",
      "Threshold : 0.25\tFBeta : 0.258852\n",
      "Threshold : 0.30\tFBeta : 0.261344\n",
      "Threshold : 0.35\tFBeta : 0.263691\n",
      "Threshold : 0.40\tFBeta : 0.265857\n",
      "Threshold : 0.45\tFBeta : 0.268042\n",
      "Threshold : 0.50\tFBeta : 0.270119\n",
      "Threshold : 0.55\tFBeta : 0.271930\n",
      "Threshold : 0.60\tFBeta : 0.273573\n",
      "Threshold : 0.65\tFBeta : 0.275283\n",
      "Threshold : 0.70\tFBeta : 0.277282\n",
      "Threshold : 0.75\tFBeta : 0.279824\n",
      "Threshold : 0.80\tFBeta : 0.283132\n",
      "\n"
     ]
    },
    {
     "name": "stderr",
     "output_type": "stream",
     "text": [
      "Epoch 381/500  Mem : 19.8GB  LR : 8.71E-05  Loss: 0.2194: 100%|██████████| 8/8 [00:30<00:00,  3.87s/it]                                                                                                                                                      \n",
      "Val Loss: 0.5144: 100%|██████████| 3/3 [00:08<00:00,  2.86s/it]                                                                                                                                                                                              \n"
     ]
    },
    {
     "name": "stdout",
     "output_type": "stream",
     "text": [
      "Threshold : 0.20\tFBeta : 0.346846\n",
      "Threshold : 0.25\tFBeta : 0.354627\n",
      "Threshold : 0.30\tFBeta : 0.360740\n",
      "Threshold : 0.35\tFBeta : 0.366067\n",
      "Threshold : 0.40\tFBeta : 0.371058\n",
      "Threshold : 0.45\tFBeta : 0.375790\n",
      "Threshold : 0.50\tFBeta : 0.380213\n",
      "Threshold : 0.55\tFBeta : 0.384252\n",
      "Threshold : 0.60\tFBeta : 0.387497\n",
      "Threshold : 0.65\tFBeta : 0.390382\n",
      "Threshold : 0.70\tFBeta : 0.392524\n",
      "Threshold : 0.75\tFBeta : 0.393836\n",
      "Threshold : 0.80\tFBeta : 0.393103\n",
      "\n"
     ]
    },
    {
     "name": "stderr",
     "output_type": "stream",
     "text": [
      "Epoch 382/500  Mem : 19.8GB  LR : 8.74E-05  Loss: 0.2239: 100%|██████████| 8/8 [00:31<00:00,  3.91s/it]                                                                                                                                                      \n",
      "Val Loss: 0.6088: 100%|██████████| 3/3 [00:08<00:00,  2.86s/it]                                                                                                                                                                                              \n"
     ]
    },
    {
     "name": "stdout",
     "output_type": "stream",
     "text": [
      "Threshold : 0.20\tFBeta : 0.281960\n",
      "Threshold : 0.25\tFBeta : 0.284750\n",
      "Threshold : 0.30\tFBeta : 0.287517\n",
      "Threshold : 0.35\tFBeta : 0.290065\n",
      "Threshold : 0.40\tFBeta : 0.292589\n",
      "Threshold : 0.45\tFBeta : 0.295033\n",
      "Threshold : 0.50\tFBeta : 0.297350\n",
      "Threshold : 0.55\tFBeta : 0.299918\n",
      "Threshold : 0.60\tFBeta : 0.302538\n",
      "Threshold : 0.65\tFBeta : 0.305163\n",
      "Threshold : 0.70\tFBeta : 0.307804\n",
      "Threshold : 0.75\tFBeta : 0.310349\n",
      "Threshold : 0.80\tFBeta : 0.312915\n",
      "\n"
     ]
    },
    {
     "name": "stderr",
     "output_type": "stream",
     "text": [
      "Epoch 383/500  Mem : 19.8GB  LR : 8.76E-05  Loss: 0.2270: 100%|██████████| 8/8 [00:31<00:00,  3.92s/it]                                                                                                                                                      \n",
      "Val Loss: 0.7373: 100%|██████████| 3/3 [00:08<00:00,  2.86s/it]                                                                                                                                                                                              \n"
     ]
    },
    {
     "name": "stdout",
     "output_type": "stream",
     "text": [
      "Threshold : 0.20\tFBeta : 0.267021\n",
      "Threshold : 0.25\tFBeta : 0.270240\n",
      "Threshold : 0.30\tFBeta : 0.272773\n",
      "Threshold : 0.35\tFBeta : 0.274927\n",
      "Threshold : 0.40\tFBeta : 0.276819\n",
      "Threshold : 0.45\tFBeta : 0.278563\n",
      "Threshold : 0.50\tFBeta : 0.280400\n",
      "Threshold : 0.55\tFBeta : 0.282322\n",
      "Threshold : 0.60\tFBeta : 0.284288\n",
      "Threshold : 0.65\tFBeta : 0.286340\n",
      "Threshold : 0.70\tFBeta : 0.288566\n",
      "Threshold : 0.75\tFBeta : 0.290861\n",
      "Threshold : 0.80\tFBeta : 0.293660\n",
      "\n"
     ]
    },
    {
     "name": "stderr",
     "output_type": "stream",
     "text": [
      "Epoch 384/500  Mem : 19.8GB  LR : 8.78E-05  Loss: 0.2235: 100%|██████████| 8/8 [00:31<00:00,  3.98s/it]                                                                                                                                                      \n",
      "Val Loss: 0.7340: 100%|██████████| 3/3 [00:08<00:00,  2.85s/it]                                                                                                                                                                                              \n"
     ]
    },
    {
     "name": "stdout",
     "output_type": "stream",
     "text": [
      "Threshold : 0.20\tFBeta : 0.278649\n",
      "Threshold : 0.25\tFBeta : 0.282604\n",
      "Threshold : 0.30\tFBeta : 0.285718\n",
      "Threshold : 0.35\tFBeta : 0.288499\n",
      "Threshold : 0.40\tFBeta : 0.290949\n",
      "Threshold : 0.45\tFBeta : 0.293167\n",
      "Threshold : 0.50\tFBeta : 0.295268\n",
      "Threshold : 0.55\tFBeta : 0.297522\n",
      "Threshold : 0.60\tFBeta : 0.299904\n",
      "Threshold : 0.65\tFBeta : 0.302611\n",
      "Threshold : 0.70\tFBeta : 0.305524\n",
      "Threshold : 0.75\tFBeta : 0.308866\n",
      "Threshold : 0.80\tFBeta : 0.313211\n",
      "\n"
     ]
    },
    {
     "name": "stderr",
     "output_type": "stream",
     "text": [
      "Epoch 385/500  Mem : 19.8GB  LR : 8.80E-05  Loss: 0.2455: 100%|██████████| 8/8 [00:31<00:00,  3.94s/it]                                                                                                                                                      \n",
      "Val Loss: 0.6673: 100%|██████████| 3/3 [00:08<00:00,  2.86s/it]                                                                                                                                                                                              \n"
     ]
    },
    {
     "name": "stdout",
     "output_type": "stream",
     "text": [
      "Threshold : 0.20\tFBeta : 0.288494\n",
      "Threshold : 0.25\tFBeta : 0.292484\n",
      "Threshold : 0.30\tFBeta : 0.295767\n",
      "Threshold : 0.35\tFBeta : 0.298523\n",
      "Threshold : 0.40\tFBeta : 0.300915\n",
      "Threshold : 0.45\tFBeta : 0.303131\n",
      "Threshold : 0.50\tFBeta : 0.305317\n",
      "Threshold : 0.55\tFBeta : 0.307457\n",
      "Threshold : 0.60\tFBeta : 0.309743\n",
      "Threshold : 0.65\tFBeta : 0.312102\n",
      "Threshold : 0.70\tFBeta : 0.314701\n",
      "Threshold : 0.75\tFBeta : 0.317763\n",
      "Threshold : 0.80\tFBeta : 0.321377\n",
      "\n"
     ]
    },
    {
     "name": "stderr",
     "output_type": "stream",
     "text": [
      "Epoch 386/500  Mem : 19.8GB  LR : 8.82E-05  Loss: 0.2290: 100%|██████████| 8/8 [00:31<00:00,  3.90s/it]                                                                                                                                                      \n",
      "Val Loss: 0.6238: 100%|██████████| 3/3 [00:08<00:00,  2.85s/it]                                                                                                                                                                                              \n"
     ]
    },
    {
     "name": "stdout",
     "output_type": "stream",
     "text": [
      "Threshold : 0.20\tFBeta : 0.270836\n",
      "Threshold : 0.25\tFBeta : 0.273527\n",
      "Threshold : 0.30\tFBeta : 0.275580\n",
      "Threshold : 0.35\tFBeta : 0.277716\n",
      "Threshold : 0.40\tFBeta : 0.279791\n",
      "Threshold : 0.45\tFBeta : 0.281394\n",
      "Threshold : 0.50\tFBeta : 0.283030\n",
      "Threshold : 0.55\tFBeta : 0.284654\n",
      "Threshold : 0.60\tFBeta : 0.286326\n",
      "Threshold : 0.65\tFBeta : 0.288436\n",
      "Threshold : 0.70\tFBeta : 0.290477\n",
      "Threshold : 0.75\tFBeta : 0.292187\n",
      "Threshold : 0.80\tFBeta : 0.293722\n",
      "\n"
     ]
    },
    {
     "name": "stderr",
     "output_type": "stream",
     "text": [
      "Epoch 387/500  Mem : 19.8GB  LR : 8.84E-05  Loss: 0.2438: 100%|██████████| 8/8 [00:31<00:00,  3.89s/it]                                                                                                                                                      \n",
      "Val Loss: 0.6028: 100%|██████████| 3/3 [00:08<00:00,  2.86s/it]                                                                                                                                                                                              \n"
     ]
    },
    {
     "name": "stdout",
     "output_type": "stream",
     "text": [
      "Threshold : 0.20\tFBeta : 0.310063\n",
      "Threshold : 0.25\tFBeta : 0.316005\n",
      "Threshold : 0.30\tFBeta : 0.320854\n",
      "Threshold : 0.35\tFBeta : 0.324932\n",
      "Threshold : 0.40\tFBeta : 0.328927\n",
      "Threshold : 0.45\tFBeta : 0.332799\n",
      "Threshold : 0.50\tFBeta : 0.336567\n",
      "Threshold : 0.55\tFBeta : 0.340394\n",
      "Threshold : 0.60\tFBeta : 0.344236\n",
      "Threshold : 0.65\tFBeta : 0.348408\n",
      "Threshold : 0.70\tFBeta : 0.352716\n",
      "Threshold : 0.75\tFBeta : 0.357500\n",
      "Threshold : 0.80\tFBeta : 0.362178\n",
      "\n"
     ]
    },
    {
     "name": "stderr",
     "output_type": "stream",
     "text": [
      "Epoch 388/500  Mem : 19.8GB  LR : 8.86E-05  Loss: 0.2351: 100%|██████████| 8/8 [00:30<00:00,  3.87s/it]                                                                                                                                                      \n",
      "Val Loss: 0.5502: 100%|██████████| 3/3 [00:08<00:00,  2.85s/it]                                                                                                                                                                                              \n"
     ]
    },
    {
     "name": "stdout",
     "output_type": "stream",
     "text": [
      "Threshold : 0.20\tFBeta : 0.328567\n",
      "Threshold : 0.25\tFBeta : 0.330918\n",
      "Threshold : 0.30\tFBeta : 0.332483\n",
      "Threshold : 0.35\tFBeta : 0.333671\n",
      "Threshold : 0.40\tFBeta : 0.333975\n",
      "Threshold : 0.45\tFBeta : 0.334102\n",
      "Threshold : 0.50\tFBeta : 0.334001\n",
      "Threshold : 0.55\tFBeta : 0.333592\n",
      "Threshold : 0.60\tFBeta : 0.333152\n",
      "Threshold : 0.65\tFBeta : 0.332681\n",
      "Threshold : 0.70\tFBeta : 0.332266\n",
      "Threshold : 0.75\tFBeta : 0.331021\n",
      "Threshold : 0.80\tFBeta : 0.329407\n",
      "\n"
     ]
    },
    {
     "name": "stderr",
     "output_type": "stream",
     "text": [
      "Epoch 389/500  Mem : 19.8GB  LR : 8.87E-05  Loss: 0.2116: 100%|██████████| 8/8 [00:31<00:00,  3.94s/it]                                                                                                                                                      \n",
      "Val Loss: 0.9539: 100%|██████████| 3/3 [00:08<00:00,  2.88s/it]                                                                                                                                                                                              \n"
     ]
    },
    {
     "name": "stdout",
     "output_type": "stream",
     "text": [
      "Threshold : 0.20\tFBeta : 0.249370\n",
      "Threshold : 0.25\tFBeta : 0.251441\n",
      "Threshold : 0.30\tFBeta : 0.253223\n",
      "Threshold : 0.35\tFBeta : 0.254931\n",
      "Threshold : 0.40\tFBeta : 0.256575\n",
      "Threshold : 0.45\tFBeta : 0.258236\n",
      "Threshold : 0.50\tFBeta : 0.259927\n",
      "Threshold : 0.55\tFBeta : 0.261645\n",
      "Threshold : 0.60\tFBeta : 0.263602\n",
      "Threshold : 0.65\tFBeta : 0.265766\n",
      "Threshold : 0.70\tFBeta : 0.268138\n",
      "Threshold : 0.75\tFBeta : 0.270916\n",
      "Threshold : 0.80\tFBeta : 0.274318\n",
      "\n"
     ]
    },
    {
     "name": "stderr",
     "output_type": "stream",
     "text": [
      "Epoch 390/500  Mem : 19.8GB  LR : 8.89E-05  Loss: 0.2273: 100%|██████████| 8/8 [00:30<00:00,  3.87s/it]                                                                                                                                                      \n",
      "Val Loss: 0.8933: 100%|██████████| 3/3 [00:08<00:00,  2.86s/it]                                                                                                                                                                                              \n"
     ]
    },
    {
     "name": "stdout",
     "output_type": "stream",
     "text": [
      "Threshold : 0.20\tFBeta : 0.253260\n",
      "Threshold : 0.25\tFBeta : 0.255154\n",
      "Threshold : 0.30\tFBeta : 0.256827\n",
      "Threshold : 0.35\tFBeta : 0.258418\n",
      "Threshold : 0.40\tFBeta : 0.259906\n",
      "Threshold : 0.45\tFBeta : 0.261487\n",
      "Threshold : 0.50\tFBeta : 0.263185\n",
      "Threshold : 0.55\tFBeta : 0.264958\n",
      "Threshold : 0.60\tFBeta : 0.266800\n",
      "Threshold : 0.65\tFBeta : 0.268695\n",
      "Threshold : 0.70\tFBeta : 0.270824\n",
      "Threshold : 0.75\tFBeta : 0.273336\n",
      "Threshold : 0.80\tFBeta : 0.276346\n",
      "\n"
     ]
    },
    {
     "name": "stderr",
     "output_type": "stream",
     "text": [
      "Epoch 391/500  Mem : 19.8GB  LR : 8.91E-05  Loss: 0.2223: 100%|██████████| 8/8 [00:30<00:00,  3.87s/it]                                                                                                                                                      \n",
      "Val Loss: 0.8888: 100%|██████████| 3/3 [00:08<00:00,  2.85s/it]                                                                                                                                                                                              \n"
     ]
    },
    {
     "name": "stdout",
     "output_type": "stream",
     "text": [
      "Threshold : 0.20\tFBeta : 0.256945\n",
      "Threshold : 0.25\tFBeta : 0.259033\n",
      "Threshold : 0.30\tFBeta : 0.260915\n",
      "Threshold : 0.35\tFBeta : 0.262706\n",
      "Threshold : 0.40\tFBeta : 0.264444\n",
      "Threshold : 0.45\tFBeta : 0.266189\n",
      "Threshold : 0.50\tFBeta : 0.268080\n",
      "Threshold : 0.55\tFBeta : 0.269907\n",
      "Threshold : 0.60\tFBeta : 0.271772\n",
      "Threshold : 0.65\tFBeta : 0.273778\n",
      "Threshold : 0.70\tFBeta : 0.275826\n",
      "Threshold : 0.75\tFBeta : 0.278179\n",
      "Threshold : 0.80\tFBeta : 0.281267\n",
      "\n"
     ]
    },
    {
     "name": "stderr",
     "output_type": "stream",
     "text": [
      "Epoch 392/500  Mem : 19.8GB  LR : 8.93E-05  Loss: 0.2296: 100%|██████████| 8/8 [00:31<00:00,  3.91s/it]                                                                                                                                                      \n",
      "Val Loss: 0.8900: 100%|██████████| 3/3 [00:08<00:00,  2.86s/it]                                                                                                                                                                                              \n"
     ]
    },
    {
     "name": "stdout",
     "output_type": "stream",
     "text": [
      "Threshold : 0.20\tFBeta : 0.255796\n",
      "Threshold : 0.25\tFBeta : 0.257700\n",
      "Threshold : 0.30\tFBeta : 0.259343\n",
      "Threshold : 0.35\tFBeta : 0.260845\n",
      "Threshold : 0.40\tFBeta : 0.262214\n",
      "Threshold : 0.45\tFBeta : 0.263686\n",
      "Threshold : 0.50\tFBeta : 0.265174\n",
      "Threshold : 0.55\tFBeta : 0.266733\n",
      "Threshold : 0.60\tFBeta : 0.268246\n",
      "Threshold : 0.65\tFBeta : 0.269874\n",
      "Threshold : 0.70\tFBeta : 0.271685\n",
      "Threshold : 0.75\tFBeta : 0.273705\n",
      "Threshold : 0.80\tFBeta : 0.275889\n",
      "\n"
     ]
    },
    {
     "name": "stderr",
     "output_type": "stream",
     "text": [
      "Epoch 393/500  Mem : 19.8GB  LR : 8.95E-05  Loss: 0.2220: 100%|██████████| 8/8 [00:31<00:00,  3.94s/it]                                                                                                                                                      \n",
      "Val Loss: 0.5987: 100%|██████████| 3/3 [00:08<00:00,  2.86s/it]                                                                                                                                                                                              \n"
     ]
    },
    {
     "name": "stdout",
     "output_type": "stream",
     "text": [
      "Threshold : 0.20\tFBeta : 0.302808\n",
      "Threshold : 0.25\tFBeta : 0.306942\n",
      "Threshold : 0.30\tFBeta : 0.310749\n",
      "Threshold : 0.35\tFBeta : 0.314535\n",
      "Threshold : 0.40\tFBeta : 0.317858\n",
      "Threshold : 0.45\tFBeta : 0.320388\n",
      "Threshold : 0.50\tFBeta : 0.322639\n",
      "Threshold : 0.55\tFBeta : 0.324801\n",
      "Threshold : 0.60\tFBeta : 0.327055\n",
      "Threshold : 0.65\tFBeta : 0.329092\n",
      "Threshold : 0.70\tFBeta : 0.330859\n",
      "Threshold : 0.75\tFBeta : 0.332788\n",
      "Threshold : 0.80\tFBeta : 0.335102\n",
      "\n"
     ]
    },
    {
     "name": "stderr",
     "output_type": "stream",
     "text": [
      "Epoch 394/500  Mem : 19.8GB  LR : 8.97E-05  Loss: 0.2325: 100%|██████████| 8/8 [00:31<00:00,  3.95s/it]                                                                                                                                                      \n",
      "Val Loss: 0.9676: 100%|██████████| 3/3 [00:08<00:00,  2.85s/it]                                                                                                                                                                                              \n"
     ]
    },
    {
     "name": "stdout",
     "output_type": "stream",
     "text": [
      "Threshold : 0.20\tFBeta : 0.253037\n",
      "Threshold : 0.25\tFBeta : 0.254872\n",
      "Threshold : 0.30\tFBeta : 0.256448\n",
      "Threshold : 0.35\tFBeta : 0.257838\n",
      "Threshold : 0.40\tFBeta : 0.259150\n",
      "Threshold : 0.45\tFBeta : 0.260507\n",
      "Threshold : 0.50\tFBeta : 0.261987\n",
      "Threshold : 0.55\tFBeta : 0.263574\n",
      "Threshold : 0.60\tFBeta : 0.265179\n",
      "Threshold : 0.65\tFBeta : 0.266817\n",
      "Threshold : 0.70\tFBeta : 0.268649\n",
      "Threshold : 0.75\tFBeta : 0.270710\n",
      "Threshold : 0.80\tFBeta : 0.273267\n",
      "\n"
     ]
    },
    {
     "name": "stderr",
     "output_type": "stream",
     "text": [
      "Epoch 395/500  Mem : 19.8GB  LR : 8.99E-05  Loss: 0.2101: 100%|██████████| 8/8 [00:31<00:00,  3.94s/it]                                                                                                                                                      \n",
      "Val Loss: 0.5810: 100%|██████████| 3/3 [00:08<00:00,  2.87s/it]                                                                                                                                                                                              \n"
     ]
    },
    {
     "name": "stdout",
     "output_type": "stream",
     "text": [
      "Threshold : 0.20\tFBeta : 0.301818\n",
      "Threshold : 0.25\tFBeta : 0.308387\n",
      "Threshold : 0.30\tFBeta : 0.313749\n",
      "Threshold : 0.35\tFBeta : 0.318436\n",
      "Threshold : 0.40\tFBeta : 0.322864\n",
      "Threshold : 0.45\tFBeta : 0.327332\n",
      "Threshold : 0.50\tFBeta : 0.331542\n",
      "Threshold : 0.55\tFBeta : 0.335876\n",
      "Threshold : 0.60\tFBeta : 0.340545\n",
      "Threshold : 0.65\tFBeta : 0.345391\n",
      "Threshold : 0.70\tFBeta : 0.350228\n",
      "Threshold : 0.75\tFBeta : 0.355548\n",
      "Threshold : 0.80\tFBeta : 0.361738\n",
      "\n"
     ]
    },
    {
     "name": "stderr",
     "output_type": "stream",
     "text": [
      "Epoch 396/500  Mem : 19.8GB  LR : 9.01E-05  Loss: 0.2170: 100%|██████████| 8/8 [00:31<00:00,  3.96s/it]                                                                                                                                                      \n",
      "Val Loss: 0.5659: 100%|██████████| 3/3 [00:08<00:00,  2.87s/it]                                                                                                                                                                                              \n"
     ]
    },
    {
     "name": "stdout",
     "output_type": "stream",
     "text": [
      "Threshold : 0.20\tFBeta : 0.305085\n",
      "Threshold : 0.25\tFBeta : 0.311043\n",
      "Threshold : 0.30\tFBeta : 0.316364\n",
      "Threshold : 0.35\tFBeta : 0.320651\n",
      "Threshold : 0.40\tFBeta : 0.324982\n",
      "Threshold : 0.45\tFBeta : 0.329383\n",
      "Threshold : 0.50\tFBeta : 0.333532\n",
      "Threshold : 0.55\tFBeta : 0.337573\n",
      "Threshold : 0.60\tFBeta : 0.341220\n",
      "Threshold : 0.65\tFBeta : 0.344651\n",
      "Threshold : 0.70\tFBeta : 0.347918\n",
      "Threshold : 0.75\tFBeta : 0.351287\n",
      "Threshold : 0.80\tFBeta : 0.354669\n",
      "\n"
     ]
    },
    {
     "name": "stderr",
     "output_type": "stream",
     "text": [
      "Epoch 397/500  Mem : 19.8GB  LR : 9.03E-05  Loss: 0.2326: 100%|██████████| 8/8 [00:31<00:00,  3.99s/it]                                                                                                                                                      \n",
      "Val Loss: 0.6063: 100%|██████████| 3/3 [00:08<00:00,  2.87s/it]                                                                                                                                                                                              \n"
     ]
    },
    {
     "name": "stdout",
     "output_type": "stream",
     "text": [
      "Threshold : 0.20\tFBeta : 0.285015\n",
      "Threshold : 0.25\tFBeta : 0.289852\n",
      "Threshold : 0.30\tFBeta : 0.294081\n",
      "Threshold : 0.35\tFBeta : 0.298310\n",
      "Threshold : 0.40\tFBeta : 0.302453\n",
      "Threshold : 0.45\tFBeta : 0.306604\n",
      "Threshold : 0.50\tFBeta : 0.310967\n",
      "Threshold : 0.55\tFBeta : 0.315066\n",
      "Threshold : 0.60\tFBeta : 0.319618\n",
      "Threshold : 0.65\tFBeta : 0.324148\n",
      "Threshold : 0.70\tFBeta : 0.329246\n",
      "Threshold : 0.75\tFBeta : 0.335695\n",
      "Threshold : 0.80\tFBeta : 0.343770\n",
      "\n"
     ]
    },
    {
     "name": "stderr",
     "output_type": "stream",
     "text": [
      "Epoch 398/500  Mem : 19.8GB  LR : 9.04E-05  Loss: 0.2153: 100%|██████████| 8/8 [00:30<00:00,  3.80s/it]                                                                                                                                                      \n",
      "Val Loss: 1.0086: 100%|██████████| 3/3 [00:08<00:00,  2.90s/it]                                                                                                                                                                                              \n"
     ]
    },
    {
     "name": "stdout",
     "output_type": "stream",
     "text": [
      "Threshold : 0.20\tFBeta : 0.248467\n",
      "Threshold : 0.25\tFBeta : 0.249669\n",
      "Threshold : 0.30\tFBeta : 0.250642\n",
      "Threshold : 0.35\tFBeta : 0.251489\n",
      "Threshold : 0.40\tFBeta : 0.252256\n",
      "Threshold : 0.45\tFBeta : 0.252996\n",
      "Threshold : 0.50\tFBeta : 0.253812\n",
      "Threshold : 0.55\tFBeta : 0.254658\n",
      "Threshold : 0.60\tFBeta : 0.255593\n",
      "Threshold : 0.65\tFBeta : 0.256474\n",
      "Threshold : 0.70\tFBeta : 0.257552\n",
      "Threshold : 0.75\tFBeta : 0.258983\n",
      "Threshold : 0.80\tFBeta : 0.260915\n",
      "\n"
     ]
    },
    {
     "name": "stderr",
     "output_type": "stream",
     "text": [
      "Epoch 399/500  Mem : 19.8GB  LR : 9.06E-05  Loss: 0.2113: 100%|██████████| 8/8 [00:31<00:00,  3.90s/it]                                                                                                                                                      \n",
      "Val Loss: 0.7594: 100%|██████████| 3/3 [00:08<00:00,  2.86s/it]                                                                                                                                                                                              \n"
     ]
    },
    {
     "name": "stdout",
     "output_type": "stream",
     "text": [
      "Threshold : 0.20\tFBeta : 0.253810\n",
      "Threshold : 0.25\tFBeta : 0.255653\n",
      "Threshold : 0.30\tFBeta : 0.257392\n",
      "Threshold : 0.35\tFBeta : 0.259039\n",
      "Threshold : 0.40\tFBeta : 0.260583\n",
      "Threshold : 0.45\tFBeta : 0.261941\n",
      "Threshold : 0.50\tFBeta : 0.263376\n",
      "Threshold : 0.55\tFBeta : 0.264975\n",
      "Threshold : 0.60\tFBeta : 0.266714\n",
      "Threshold : 0.65\tFBeta : 0.268548\n",
      "Threshold : 0.70\tFBeta : 0.270621\n",
      "Threshold : 0.75\tFBeta : 0.272577\n",
      "Threshold : 0.80\tFBeta : 0.275361\n",
      "\n"
     ]
    },
    {
     "name": "stderr",
     "output_type": "stream",
     "text": [
      "Epoch 400/500  Mem : 19.8GB  LR : 9.08E-05  Loss: 0.2139: 100%|██████████| 8/8 [00:31<00:00,  3.95s/it]                                                                                                                                                      \n",
      "Val Loss: 0.8006: 100%|██████████| 3/3 [00:08<00:00,  2.86s/it]                                                                                                                                                                                              \n"
     ]
    },
    {
     "name": "stdout",
     "output_type": "stream",
     "text": [
      "Threshold : 0.20\tFBeta : 0.253850\n",
      "Threshold : 0.25\tFBeta : 0.256366\n",
      "Threshold : 0.30\tFBeta : 0.258556\n",
      "Threshold : 0.35\tFBeta : 0.260576\n",
      "Threshold : 0.40\tFBeta : 0.262444\n",
      "Threshold : 0.45\tFBeta : 0.264236\n",
      "Threshold : 0.50\tFBeta : 0.265946\n",
      "Threshold : 0.55\tFBeta : 0.267596\n",
      "Threshold : 0.60\tFBeta : 0.269201\n",
      "Threshold : 0.65\tFBeta : 0.270865\n",
      "Threshold : 0.70\tFBeta : 0.272650\n",
      "Threshold : 0.75\tFBeta : 0.274432\n",
      "Threshold : 0.80\tFBeta : 0.276240\n",
      "\n"
     ]
    },
    {
     "name": "stderr",
     "output_type": "stream",
     "text": [
      "Epoch 401/500  Mem : 19.8GB  LR : 9.10E-05  Loss: 0.2245: 100%|██████████| 8/8 [00:31<00:00,  3.96s/it]                                                                                                                                                      \n",
      "Val Loss: 0.7370: 100%|██████████| 3/3 [00:08<00:00,  2.86s/it]                                                                                                                                                                                              \n"
     ]
    },
    {
     "name": "stdout",
     "output_type": "stream",
     "text": [
      "Threshold : 0.20\tFBeta : 0.275638\n",
      "Threshold : 0.25\tFBeta : 0.279042\n",
      "Threshold : 0.30\tFBeta : 0.281963\n",
      "Threshold : 0.35\tFBeta : 0.284486\n",
      "Threshold : 0.40\tFBeta : 0.286707\n",
      "Threshold : 0.45\tFBeta : 0.289068\n",
      "Threshold : 0.50\tFBeta : 0.291645\n",
      "Threshold : 0.55\tFBeta : 0.294161\n",
      "Threshold : 0.60\tFBeta : 0.296764\n",
      "Threshold : 0.65\tFBeta : 0.299697\n",
      "Threshold : 0.70\tFBeta : 0.302962\n",
      "Threshold : 0.75\tFBeta : 0.306725\n",
      "Threshold : 0.80\tFBeta : 0.311394\n",
      "\n"
     ]
    },
    {
     "name": "stderr",
     "output_type": "stream",
     "text": [
      "Epoch 402/500  Mem : 19.8GB  LR : 9.12E-05  Loss: 0.2118: 100%|██████████| 8/8 [00:32<00:00,  4.04s/it]                                                                                                                                                      \n",
      "Val Loss: 0.6795: 100%|██████████| 3/3 [00:08<00:00,  2.91s/it]                                                                                                                                                                                              \n"
     ]
    },
    {
     "name": "stdout",
     "output_type": "stream",
     "text": [
      "Threshold : 0.20\tFBeta : 0.268399\n",
      "Threshold : 0.25\tFBeta : 0.271434\n",
      "Threshold : 0.30\tFBeta : 0.273977\n",
      "Threshold : 0.35\tFBeta : 0.276454\n",
      "Threshold : 0.40\tFBeta : 0.278866\n",
      "Threshold : 0.45\tFBeta : 0.281229\n",
      "Threshold : 0.50\tFBeta : 0.283667\n",
      "Threshold : 0.55\tFBeta : 0.285892\n",
      "Threshold : 0.60\tFBeta : 0.288354\n",
      "Threshold : 0.65\tFBeta : 0.291259\n",
      "Threshold : 0.70\tFBeta : 0.294491\n",
      "Threshold : 0.75\tFBeta : 0.298166\n",
      "Threshold : 0.80\tFBeta : 0.302120\n",
      "\n"
     ]
    },
    {
     "name": "stderr",
     "output_type": "stream",
     "text": [
      "Epoch 403/500  Mem : 19.8GB  LR : 9.13E-05  Loss: 0.2031: 100%|██████████| 8/8 [00:31<00:00,  3.97s/it]                                                                                                                                                      \n",
      "Val Loss: 0.6806: 100%|██████████| 3/3 [00:08<00:00,  2.88s/it]                                                                                                                                                                                              \n"
     ]
    },
    {
     "name": "stdout",
     "output_type": "stream",
     "text": [
      "Threshold : 0.20\tFBeta : 0.266455\n",
      "Threshold : 0.25\tFBeta : 0.268814\n",
      "Threshold : 0.30\tFBeta : 0.271125\n",
      "Threshold : 0.35\tFBeta : 0.273062\n",
      "Threshold : 0.40\tFBeta : 0.275098\n",
      "Threshold : 0.45\tFBeta : 0.277397\n",
      "Threshold : 0.50\tFBeta : 0.279784\n",
      "Threshold : 0.55\tFBeta : 0.282209\n",
      "Threshold : 0.60\tFBeta : 0.284755\n",
      "Threshold : 0.65\tFBeta : 0.287283\n",
      "Threshold : 0.70\tFBeta : 0.290012\n",
      "Threshold : 0.75\tFBeta : 0.292483\n",
      "Threshold : 0.80\tFBeta : 0.295032\n",
      "\n"
     ]
    },
    {
     "name": "stderr",
     "output_type": "stream",
     "text": [
      "Epoch 404/500  Mem : 19.8GB  LR : 9.15E-05  Loss: 0.2079: 100%|██████████| 8/8 [00:31<00:00,  3.99s/it]                                                                                                                                                      \n",
      "Val Loss: 0.7760: 100%|██████████| 3/3 [00:08<00:00,  2.88s/it]                                                                                                                                                                                              \n"
     ]
    },
    {
     "name": "stdout",
     "output_type": "stream",
     "text": [
      "Threshold : 0.20\tFBeta : 0.258769\n",
      "Threshold : 0.25\tFBeta : 0.260824\n",
      "Threshold : 0.30\tFBeta : 0.262795\n",
      "Threshold : 0.35\tFBeta : 0.264610\n",
      "Threshold : 0.40\tFBeta : 0.266285\n",
      "Threshold : 0.45\tFBeta : 0.267942\n",
      "Threshold : 0.50\tFBeta : 0.269554\n",
      "Threshold : 0.55\tFBeta : 0.271234\n",
      "Threshold : 0.60\tFBeta : 0.272934\n",
      "Threshold : 0.65\tFBeta : 0.274728\n",
      "Threshold : 0.70\tFBeta : 0.276428\n",
      "Threshold : 0.75\tFBeta : 0.278270\n",
      "Threshold : 0.80\tFBeta : 0.280362\n",
      "\n"
     ]
    },
    {
     "name": "stderr",
     "output_type": "stream",
     "text": [
      "Epoch 405/500  Mem : 19.8GB  LR : 9.17E-05  Loss: 0.2300: 100%|██████████| 8/8 [00:31<00:00,  3.94s/it]                                                                                                                                                      \n",
      "Val Loss: 0.8875: 100%|██████████| 3/3 [00:08<00:00,  2.85s/it]                                                                                                                                                                                              \n"
     ]
    },
    {
     "name": "stdout",
     "output_type": "stream",
     "text": [
      "Threshold : 0.20\tFBeta : 0.254784\n",
      "Threshold : 0.25\tFBeta : 0.257719\n",
      "Threshold : 0.30\tFBeta : 0.260336\n",
      "Threshold : 0.35\tFBeta : 0.262734\n",
      "Threshold : 0.40\tFBeta : 0.265137\n",
      "Threshold : 0.45\tFBeta : 0.267372\n",
      "Threshold : 0.50\tFBeta : 0.269616\n",
      "Threshold : 0.55\tFBeta : 0.271890\n",
      "Threshold : 0.60\tFBeta : 0.274418\n",
      "Threshold : 0.65\tFBeta : 0.277053\n",
      "Threshold : 0.70\tFBeta : 0.279840\n",
      "Threshold : 0.75\tFBeta : 0.282865\n",
      "Threshold : 0.80\tFBeta : 0.286669\n",
      "\n"
     ]
    },
    {
     "name": "stderr",
     "output_type": "stream",
     "text": [
      "Epoch 406/500  Mem : 19.8GB  LR : 9.18E-05  Loss: 0.2310: 100%|██████████| 8/8 [00:30<00:00,  3.87s/it]                                                                                                                                                      \n",
      "Val Loss: 0.6432: 100%|██████████| 3/3 [00:08<00:00,  2.88s/it]                                                                                                                                                                                              \n"
     ]
    },
    {
     "name": "stdout",
     "output_type": "stream",
     "text": [
      "Threshold : 0.20\tFBeta : 0.283065\n",
      "Threshold : 0.25\tFBeta : 0.287351\n",
      "Threshold : 0.30\tFBeta : 0.291266\n",
      "Threshold : 0.35\tFBeta : 0.294924\n",
      "Threshold : 0.40\tFBeta : 0.298486\n",
      "Threshold : 0.45\tFBeta : 0.302164\n",
      "Threshold : 0.50\tFBeta : 0.305910\n",
      "Threshold : 0.55\tFBeta : 0.309708\n",
      "Threshold : 0.60\tFBeta : 0.313462\n",
      "Threshold : 0.65\tFBeta : 0.317395\n",
      "Threshold : 0.70\tFBeta : 0.321466\n",
      "Threshold : 0.75\tFBeta : 0.326046\n",
      "Threshold : 0.80\tFBeta : 0.331414\n",
      "\n"
     ]
    },
    {
     "name": "stderr",
     "output_type": "stream",
     "text": [
      "Epoch 407/500  Mem : 19.8GB  LR : 9.20E-05  Loss: 0.2073: 100%|██████████| 8/8 [00:32<00:00,  4.06s/it]                                                                                                                                                      \n",
      "Val Loss: 0.7591: 100%|██████████| 3/3 [00:08<00:00,  2.85s/it]                                                                                                                                                                                              \n"
     ]
    },
    {
     "name": "stdout",
     "output_type": "stream",
     "text": [
      "Threshold : 0.20\tFBeta : 0.257743\n",
      "Threshold : 0.25\tFBeta : 0.260277\n",
      "Threshold : 0.30\tFBeta : 0.262321\n",
      "Threshold : 0.35\tFBeta : 0.263957\n",
      "Threshold : 0.40\tFBeta : 0.265450\n",
      "Threshold : 0.45\tFBeta : 0.266601\n",
      "Threshold : 0.50\tFBeta : 0.267663\n",
      "Threshold : 0.55\tFBeta : 0.268985\n",
      "Threshold : 0.60\tFBeta : 0.270368\n",
      "Threshold : 0.65\tFBeta : 0.271830\n",
      "Threshold : 0.70\tFBeta : 0.273310\n",
      "Threshold : 0.75\tFBeta : 0.274947\n",
      "Threshold : 0.80\tFBeta : 0.277690\n",
      "\n"
     ]
    },
    {
     "name": "stderr",
     "output_type": "stream",
     "text": [
      "Epoch 408/500  Mem : 19.8GB  LR : 9.22E-05  Loss: 0.2072: 100%|██████████| 8/8 [00:31<00:00,  3.91s/it]                                                                                                                                                      \n",
      "Val Loss: 0.8042: 100%|██████████| 3/3 [00:08<00:00,  2.87s/it]                                                                                                                                                                                              \n"
     ]
    },
    {
     "name": "stdout",
     "output_type": "stream",
     "text": [
      "Threshold : 0.20\tFBeta : 0.260368\n",
      "Threshold : 0.25\tFBeta : 0.262613\n",
      "Threshold : 0.30\tFBeta : 0.264478\n",
      "Threshold : 0.35\tFBeta : 0.266297\n",
      "Threshold : 0.40\tFBeta : 0.268074\n",
      "Threshold : 0.45\tFBeta : 0.269799\n",
      "Threshold : 0.50\tFBeta : 0.271532\n",
      "Threshold : 0.55\tFBeta : 0.273380\n",
      "Threshold : 0.60\tFBeta : 0.275301\n",
      "Threshold : 0.65\tFBeta : 0.277177\n",
      "Threshold : 0.70\tFBeta : 0.278789\n",
      "Threshold : 0.75\tFBeta : 0.280730\n",
      "Threshold : 0.80\tFBeta : 0.283137\n",
      "\n"
     ]
    },
    {
     "name": "stderr",
     "output_type": "stream",
     "text": [
      "Epoch 409/500  Mem : 19.8GB  LR : 9.23E-05  Loss: 0.2042: 100%|██████████| 8/8 [00:31<00:00,  3.89s/it]                                                                                                                                                      \n",
      "Val Loss: 0.5756: 100%|██████████| 3/3 [00:08<00:00,  2.90s/it]                                                                                                                                                                                              \n"
     ]
    },
    {
     "name": "stdout",
     "output_type": "stream",
     "text": [
      "Threshold : 0.20\tFBeta : 0.298143\n",
      "Threshold : 0.25\tFBeta : 0.301218\n",
      "Threshold : 0.30\tFBeta : 0.303769\n",
      "Threshold : 0.35\tFBeta : 0.306292\n",
      "Threshold : 0.40\tFBeta : 0.308585\n",
      "Threshold : 0.45\tFBeta : 0.311142\n",
      "Threshold : 0.50\tFBeta : 0.314007\n",
      "Threshold : 0.55\tFBeta : 0.317042\n",
      "Threshold : 0.60\tFBeta : 0.319791\n",
      "Threshold : 0.65\tFBeta : 0.322251\n",
      "Threshold : 0.70\tFBeta : 0.324553\n",
      "Threshold : 0.75\tFBeta : 0.326189\n",
      "Threshold : 0.80\tFBeta : 0.326718\n",
      "\n"
     ]
    },
    {
     "name": "stderr",
     "output_type": "stream",
     "text": [
      "Epoch 410/500  Mem : 19.8GB  LR : 9.25E-05  Loss: 0.2199: 100%|██████████| 8/8 [00:31<00:00,  3.91s/it]                                                                                                                                                      \n",
      "Val Loss: 0.6530: 100%|██████████| 3/3 [00:08<00:00,  2.84s/it]                                                                                                                                                                                              \n"
     ]
    },
    {
     "name": "stdout",
     "output_type": "stream",
     "text": [
      "Threshold : 0.20\tFBeta : 0.276818\n",
      "Threshold : 0.25\tFBeta : 0.281097\n",
      "Threshold : 0.30\tFBeta : 0.284699\n",
      "Threshold : 0.35\tFBeta : 0.287886\n",
      "Threshold : 0.40\tFBeta : 0.291098\n",
      "Threshold : 0.45\tFBeta : 0.294354\n",
      "Threshold : 0.50\tFBeta : 0.297421\n",
      "Threshold : 0.55\tFBeta : 0.300520\n",
      "Threshold : 0.60\tFBeta : 0.303617\n",
      "Threshold : 0.65\tFBeta : 0.306652\n",
      "Threshold : 0.70\tFBeta : 0.309953\n",
      "Threshold : 0.75\tFBeta : 0.313581\n",
      "Threshold : 0.80\tFBeta : 0.317584\n",
      "\n"
     ]
    },
    {
     "name": "stderr",
     "output_type": "stream",
     "text": [
      "Epoch 411/500  Mem : 19.8GB  LR : 9.27E-05  Loss: 0.2049: 100%|██████████| 8/8 [00:30<00:00,  3.86s/it]                                                                                                                                                      \n",
      "Val Loss: 0.8372: 100%|██████████| 3/3 [00:08<00:00,  2.89s/it]                                                                                                                                                                                              \n"
     ]
    },
    {
     "name": "stdout",
     "output_type": "stream",
     "text": [
      "Threshold : 0.20\tFBeta : 0.255567\n",
      "Threshold : 0.25\tFBeta : 0.257765\n",
      "Threshold : 0.30\tFBeta : 0.259735\n",
      "Threshold : 0.35\tFBeta : 0.261609\n",
      "Threshold : 0.40\tFBeta : 0.263312\n",
      "Threshold : 0.45\tFBeta : 0.265075\n",
      "Threshold : 0.50\tFBeta : 0.266936\n",
      "Threshold : 0.55\tFBeta : 0.268914\n",
      "Threshold : 0.60\tFBeta : 0.270977\n",
      "Threshold : 0.65\tFBeta : 0.272888\n",
      "Threshold : 0.70\tFBeta : 0.274988\n",
      "Threshold : 0.75\tFBeta : 0.277739\n",
      "Threshold : 0.80\tFBeta : 0.280992\n",
      "\n"
     ]
    },
    {
     "name": "stderr",
     "output_type": "stream",
     "text": [
      "Epoch 412/500  Mem : 19.8GB  LR : 9.28E-05  Loss: 0.2036: 100%|██████████| 8/8 [00:30<00:00,  3.81s/it]                                                                                                                                                      \n",
      "Val Loss: 0.7574: 100%|██████████| 3/3 [00:08<00:00,  2.86s/it]                                                                                                                                                                                              \n"
     ]
    },
    {
     "name": "stdout",
     "output_type": "stream",
     "text": [
      "Threshold : 0.20\tFBeta : 0.272590\n",
      "Threshold : 0.25\tFBeta : 0.276056\n",
      "Threshold : 0.30\tFBeta : 0.279060\n",
      "Threshold : 0.35\tFBeta : 0.281741\n",
      "Threshold : 0.40\tFBeta : 0.284409\n",
      "Threshold : 0.45\tFBeta : 0.287065\n",
      "Threshold : 0.50\tFBeta : 0.289684\n",
      "Threshold : 0.55\tFBeta : 0.292371\n",
      "Threshold : 0.60\tFBeta : 0.295082\n",
      "Threshold : 0.65\tFBeta : 0.297967\n",
      "Threshold : 0.70\tFBeta : 0.300878\n",
      "Threshold : 0.75\tFBeta : 0.304259\n",
      "Threshold : 0.80\tFBeta : 0.308250\n",
      "\n"
     ]
    },
    {
     "name": "stderr",
     "output_type": "stream",
     "text": [
      "Epoch 413/500  Mem : 19.8GB  LR : 9.30E-05  Loss: 0.2154: 100%|██████████| 8/8 [00:30<00:00,  3.85s/it]                                                                                                                                                      \n",
      "Val Loss: 0.6724: 100%|██████████| 3/3 [00:08<00:00,  2.87s/it]                                                                                                                                                                                              \n"
     ]
    },
    {
     "name": "stdout",
     "output_type": "stream",
     "text": [
      "Threshold : 0.20\tFBeta : 0.266319\n",
      "Threshold : 0.25\tFBeta : 0.269440\n",
      "Threshold : 0.30\tFBeta : 0.272124\n",
      "Threshold : 0.35\tFBeta : 0.274532\n",
      "Threshold : 0.40\tFBeta : 0.276938\n",
      "Threshold : 0.45\tFBeta : 0.279285\n",
      "Threshold : 0.50\tFBeta : 0.281709\n",
      "Threshold : 0.55\tFBeta : 0.284234\n",
      "Threshold : 0.60\tFBeta : 0.286943\n",
      "Threshold : 0.65\tFBeta : 0.289837\n",
      "Threshold : 0.70\tFBeta : 0.292728\n",
      "Threshold : 0.75\tFBeta : 0.295818\n",
      "Threshold : 0.80\tFBeta : 0.299528\n",
      "\n"
     ]
    },
    {
     "name": "stderr",
     "output_type": "stream",
     "text": [
      "Epoch 414/500  Mem : 19.8GB  LR : 9.31E-05  Loss: 0.2169: 100%|██████████| 8/8 [00:31<00:00,  3.96s/it]                                                                                                                                                      \n",
      "Val Loss: 0.6572: 100%|██████████| 3/3 [00:08<00:00,  2.87s/it]                                                                                                                                                                                              \n"
     ]
    },
    {
     "name": "stdout",
     "output_type": "stream",
     "text": [
      "Threshold : 0.20\tFBeta : 0.277922\n",
      "Threshold : 0.25\tFBeta : 0.279992\n",
      "Threshold : 0.30\tFBeta : 0.281843\n",
      "Threshold : 0.35\tFBeta : 0.283607\n",
      "Threshold : 0.40\tFBeta : 0.285175\n",
      "Threshold : 0.45\tFBeta : 0.287053\n",
      "Threshold : 0.50\tFBeta : 0.289033\n",
      "Threshold : 0.55\tFBeta : 0.291164\n",
      "Threshold : 0.60\tFBeta : 0.293140\n",
      "Threshold : 0.65\tFBeta : 0.295175\n",
      "Threshold : 0.70\tFBeta : 0.297114\n",
      "Threshold : 0.75\tFBeta : 0.299598\n",
      "Threshold : 0.80\tFBeta : 0.303156\n",
      "\n"
     ]
    },
    {
     "name": "stderr",
     "output_type": "stream",
     "text": [
      "Epoch 415/500  Mem : 19.8GB  LR : 9.33E-05  Loss: 0.2083: 100%|██████████| 8/8 [00:31<00:00,  3.98s/it]                                                                                                                                                      \n",
      "Val Loss: 0.7714: 100%|██████████| 3/3 [00:08<00:00,  2.91s/it]                                                                                                                                                                                              \n"
     ]
    },
    {
     "name": "stdout",
     "output_type": "stream",
     "text": [
      "Threshold : 0.20\tFBeta : 0.273004\n",
      "Threshold : 0.25\tFBeta : 0.276740\n",
      "Threshold : 0.30\tFBeta : 0.279943\n",
      "Threshold : 0.35\tFBeta : 0.282864\n",
      "Threshold : 0.40\tFBeta : 0.285773\n",
      "Threshold : 0.45\tFBeta : 0.288634\n",
      "Threshold : 0.50\tFBeta : 0.291614\n",
      "Threshold : 0.55\tFBeta : 0.294635\n",
      "Threshold : 0.60\tFBeta : 0.297987\n",
      "Threshold : 0.65\tFBeta : 0.301587\n",
      "Threshold : 0.70\tFBeta : 0.305567\n",
      "Threshold : 0.75\tFBeta : 0.309799\n",
      "Threshold : 0.80\tFBeta : 0.314618\n",
      "\n"
     ]
    },
    {
     "name": "stderr",
     "output_type": "stream",
     "text": [
      "Epoch 416/500  Mem : 19.8GB  LR : 9.34E-05  Loss: 0.2098: 100%|██████████| 8/8 [00:30<00:00,  3.87s/it]                                                                                                                                                      \n",
      "Val Loss: 0.6392: 100%|██████████| 3/3 [00:08<00:00,  2.91s/it]                                                                                                                                                                                              \n"
     ]
    },
    {
     "name": "stdout",
     "output_type": "stream",
     "text": [
      "Threshold : 0.20\tFBeta : 0.267927\n",
      "Threshold : 0.25\tFBeta : 0.270535\n",
      "Threshold : 0.30\tFBeta : 0.272633\n",
      "Threshold : 0.35\tFBeta : 0.274609\n",
      "Threshold : 0.40\tFBeta : 0.276363\n",
      "Threshold : 0.45\tFBeta : 0.278123\n",
      "Threshold : 0.50\tFBeta : 0.280009\n",
      "Threshold : 0.55\tFBeta : 0.281970\n",
      "Threshold : 0.60\tFBeta : 0.283938\n",
      "Threshold : 0.65\tFBeta : 0.285916\n",
      "Threshold : 0.70\tFBeta : 0.288211\n",
      "Threshold : 0.75\tFBeta : 0.290654\n",
      "Threshold : 0.80\tFBeta : 0.293501\n",
      "\n"
     ]
    },
    {
     "name": "stderr",
     "output_type": "stream",
     "text": [
      "Epoch 417/500  Mem : 19.8GB  LR : 9.36E-05  Loss: 0.2057: 100%|██████████| 8/8 [00:31<00:00,  3.98s/it]                                                                                                                                                      \n",
      "Val Loss: 0.7380: 100%|██████████| 3/3 [00:08<00:00,  2.86s/it]                                                                                                                                                                                              \n"
     ]
    },
    {
     "name": "stdout",
     "output_type": "stream",
     "text": [
      "Threshold : 0.20\tFBeta : 0.270244\n",
      "Threshold : 0.25\tFBeta : 0.272165\n",
      "Threshold : 0.30\tFBeta : 0.273985\n",
      "Threshold : 0.35\tFBeta : 0.275707\n",
      "Threshold : 0.40\tFBeta : 0.277313\n",
      "Threshold : 0.45\tFBeta : 0.278988\n",
      "Threshold : 0.50\tFBeta : 0.280719\n",
      "Threshold : 0.55\tFBeta : 0.282614\n",
      "Threshold : 0.60\tFBeta : 0.284610\n",
      "Threshold : 0.65\tFBeta : 0.286854\n",
      "Threshold : 0.70\tFBeta : 0.289288\n",
      "Threshold : 0.75\tFBeta : 0.292080\n",
      "Threshold : 0.80\tFBeta : 0.295431\n",
      "\n"
     ]
    },
    {
     "name": "stderr",
     "output_type": "stream",
     "text": [
      "Epoch 418/500  Mem : 19.8GB  LR : 9.37E-05  Loss: 0.2149: 100%|██████████| 8/8 [00:31<00:00,  3.94s/it]                                                                                                                                                      \n",
      "Val Loss: 1.2511: 100%|██████████| 3/3 [00:08<00:00,  2.91s/it]                                                                                                                                                                                              \n"
     ]
    },
    {
     "name": "stdout",
     "output_type": "stream",
     "text": [
      "Threshold : 0.20\tFBeta : 0.252397\n",
      "Threshold : 0.25\tFBeta : 0.253834\n",
      "Threshold : 0.30\tFBeta : 0.255018\n",
      "Threshold : 0.35\tFBeta : 0.256151\n",
      "Threshold : 0.40\tFBeta : 0.257278\n",
      "Threshold : 0.45\tFBeta : 0.258359\n",
      "Threshold : 0.50\tFBeta : 0.259390\n",
      "Threshold : 0.55\tFBeta : 0.260522\n",
      "Threshold : 0.60\tFBeta : 0.261687\n",
      "Threshold : 0.65\tFBeta : 0.262828\n",
      "Threshold : 0.70\tFBeta : 0.264156\n",
      "Threshold : 0.75\tFBeta : 0.265776\n",
      "Threshold : 0.80\tFBeta : 0.267791\n",
      "\n"
     ]
    },
    {
     "name": "stderr",
     "output_type": "stream",
     "text": [
      "Epoch 419/500  Mem : 19.8GB  LR : 9.39E-05  Loss: 0.1880: 100%|██████████| 8/8 [00:31<00:00,  3.93s/it]                                                                                                                                                      \n",
      "Val Loss: 0.8994: 100%|██████████| 3/3 [00:08<00:00,  2.85s/it]                                                                                                                                                                                              \n"
     ]
    },
    {
     "name": "stdout",
     "output_type": "stream",
     "text": [
      "Threshold : 0.20\tFBeta : 0.264164\n",
      "Threshold : 0.25\tFBeta : 0.266633\n",
      "Threshold : 0.30\tFBeta : 0.268809\n",
      "Threshold : 0.35\tFBeta : 0.270828\n",
      "Threshold : 0.40\tFBeta : 0.272803\n",
      "Threshold : 0.45\tFBeta : 0.274679\n",
      "Threshold : 0.50\tFBeta : 0.276615\n",
      "Threshold : 0.55\tFBeta : 0.278636\n",
      "Threshold : 0.60\tFBeta : 0.280656\n",
      "Threshold : 0.65\tFBeta : 0.282807\n",
      "Threshold : 0.70\tFBeta : 0.285142\n",
      "Threshold : 0.75\tFBeta : 0.287737\n",
      "Threshold : 0.80\tFBeta : 0.290933\n",
      "\n"
     ]
    },
    {
     "name": "stderr",
     "output_type": "stream",
     "text": [
      "Epoch 420/500  Mem : 19.8GB  LR : 9.40E-05  Loss: 0.2110: 100%|██████████| 8/8 [00:30<00:00,  3.82s/it]                                                                                                                                                      \n",
      "Val Loss: 0.5414: 100%|██████████| 3/3 [00:08<00:00,  2.85s/it]                                                                                                                                                                                              \n"
     ]
    },
    {
     "name": "stdout",
     "output_type": "stream",
     "text": [
      "Threshold : 0.20\tFBeta : 0.349584\n",
      "Threshold : 0.25\tFBeta : 0.353498\n",
      "Threshold : 0.30\tFBeta : 0.357009\n",
      "Threshold : 0.35\tFBeta : 0.359763\n",
      "Threshold : 0.40\tFBeta : 0.361338\n",
      "Threshold : 0.45\tFBeta : 0.362691\n",
      "Threshold : 0.50\tFBeta : 0.363464\n",
      "Threshold : 0.55\tFBeta : 0.364247\n",
      "Threshold : 0.60\tFBeta : 0.365000\n",
      "Threshold : 0.65\tFBeta : 0.365778\n",
      "Threshold : 0.70\tFBeta : 0.365835\n",
      "Threshold : 0.75\tFBeta : 0.365627\n",
      "Threshold : 0.80\tFBeta : 0.364069\n",
      "\n"
     ]
    },
    {
     "name": "stderr",
     "output_type": "stream",
     "text": [
      "Epoch 421/500  Mem : 19.8GB  LR : 9.42E-05  Loss: 0.2273: 100%|██████████| 8/8 [00:30<00:00,  3.86s/it]                                                                                                                                                      \n",
      "Val Loss: 0.5080: 100%|██████████| 3/3 [00:08<00:00,  2.88s/it]                                                                                                                                                                                              \n"
     ]
    },
    {
     "name": "stdout",
     "output_type": "stream",
     "text": [
      "Threshold : 0.20\tFBeta : 0.344577\n",
      "Threshold : 0.25\tFBeta : 0.353297\n",
      "Threshold : 0.30\tFBeta : 0.359900\n",
      "Threshold : 0.35\tFBeta : 0.365343\n",
      "Threshold : 0.40\tFBeta : 0.370133\n",
      "Threshold : 0.45\tFBeta : 0.374853\n",
      "Threshold : 0.50\tFBeta : 0.380147\n",
      "Threshold : 0.55\tFBeta : 0.385312\n",
      "Threshold : 0.60\tFBeta : 0.390015\n",
      "Threshold : 0.65\tFBeta : 0.394188\n",
      "Threshold : 0.70\tFBeta : 0.398155\n",
      "Threshold : 0.75\tFBeta : 0.400824\n",
      "Threshold : 0.80\tFBeta : 0.402383\n",
      "\n"
     ]
    },
    {
     "name": "stderr",
     "output_type": "stream",
     "text": [
      "Epoch 422/500  Mem : 19.8GB  LR : 9.43E-05  Loss: 0.2122: 100%|██████████| 8/8 [00:31<00:00,  3.98s/it]                                                                                                                                                      \n",
      "Val Loss: 0.6016: 100%|██████████| 3/3 [00:08<00:00,  2.87s/it]                                                                                                                                                                                              \n"
     ]
    },
    {
     "name": "stdout",
     "output_type": "stream",
     "text": [
      "Threshold : 0.20\tFBeta : 0.269377\n",
      "Threshold : 0.25\tFBeta : 0.271777\n",
      "Threshold : 0.30\tFBeta : 0.273724\n",
      "Threshold : 0.35\tFBeta : 0.275250\n",
      "Threshold : 0.40\tFBeta : 0.276654\n",
      "Threshold : 0.45\tFBeta : 0.278040\n",
      "Threshold : 0.50\tFBeta : 0.278810\n",
      "Threshold : 0.55\tFBeta : 0.279152\n",
      "Threshold : 0.60\tFBeta : 0.278986\n",
      "Threshold : 0.65\tFBeta : 0.278831\n",
      "Threshold : 0.70\tFBeta : 0.278645\n",
      "Threshold : 0.75\tFBeta : 0.278461\n",
      "Threshold : 0.80\tFBeta : 0.277108\n",
      "\n"
     ]
    },
    {
     "name": "stderr",
     "output_type": "stream",
     "text": [
      "Epoch 423/500  Mem : 19.8GB  LR : 9.45E-05  Loss: 0.2251: 100%|██████████| 8/8 [00:31<00:00,  3.94s/it]                                                                                                                                                      \n",
      "Val Loss: 0.8169: 100%|██████████| 3/3 [00:08<00:00,  2.86s/it]                                                                                                                                                                                              \n"
     ]
    },
    {
     "name": "stdout",
     "output_type": "stream",
     "text": [
      "Threshold : 0.20\tFBeta : 0.259717\n",
      "Threshold : 0.25\tFBeta : 0.262504\n",
      "Threshold : 0.30\tFBeta : 0.265052\n",
      "Threshold : 0.35\tFBeta : 0.267366\n",
      "Threshold : 0.40\tFBeta : 0.269659\n",
      "Threshold : 0.45\tFBeta : 0.271707\n",
      "Threshold : 0.50\tFBeta : 0.273686\n",
      "Threshold : 0.55\tFBeta : 0.275640\n",
      "Threshold : 0.60\tFBeta : 0.277555\n",
      "Threshold : 0.65\tFBeta : 0.279401\n",
      "Threshold : 0.70\tFBeta : 0.281443\n",
      "Threshold : 0.75\tFBeta : 0.283539\n",
      "Threshold : 0.80\tFBeta : 0.286469\n",
      "\n"
     ]
    },
    {
     "name": "stderr",
     "output_type": "stream",
     "text": [
      "Epoch 424/500  Mem : 19.8GB  LR : 9.46E-05  Loss: 0.2198: 100%|██████████| 8/8 [00:31<00:00,  3.98s/it]                                                                                                                                                      \n",
      "Val Loss: 0.6217: 100%|██████████| 3/3 [00:08<00:00,  2.86s/it]                                                                                                                                                                                              \n"
     ]
    },
    {
     "name": "stdout",
     "output_type": "stream",
     "text": [
      "Threshold : 0.20\tFBeta : 0.272579\n",
      "Threshold : 0.25\tFBeta : 0.274936\n",
      "Threshold : 0.30\tFBeta : 0.276931\n",
      "Threshold : 0.35\tFBeta : 0.279404\n",
      "Threshold : 0.40\tFBeta : 0.281681\n",
      "Threshold : 0.45\tFBeta : 0.283649\n",
      "Threshold : 0.50\tFBeta : 0.285445\n",
      "Threshold : 0.55\tFBeta : 0.287162\n",
      "Threshold : 0.60\tFBeta : 0.288853\n",
      "Threshold : 0.65\tFBeta : 0.290494\n",
      "Threshold : 0.70\tFBeta : 0.291739\n",
      "Threshold : 0.75\tFBeta : 0.293074\n",
      "Threshold : 0.80\tFBeta : 0.294389\n",
      "\n"
     ]
    },
    {
     "name": "stderr",
     "output_type": "stream",
     "text": [
      "Epoch 425/500  Mem : 19.8GB  LR : 9.47E-05  Loss: 0.2172: 100%|██████████| 8/8 [00:31<00:00,  3.95s/it]                                                                                                                                                      \n",
      "Val Loss: 0.8430: 100%|██████████| 3/3 [00:08<00:00,  2.86s/it]                                                                                                                                                                                              \n"
     ]
    },
    {
     "name": "stdout",
     "output_type": "stream",
     "text": [
      "Threshold : 0.20\tFBeta : 0.256744\n",
      "Threshold : 0.25\tFBeta : 0.258738\n",
      "Threshold : 0.30\tFBeta : 0.260561\n",
      "Threshold : 0.35\tFBeta : 0.262161\n",
      "Threshold : 0.40\tFBeta : 0.263700\n",
      "Threshold : 0.45\tFBeta : 0.265234\n",
      "Threshold : 0.50\tFBeta : 0.266851\n",
      "Threshold : 0.55\tFBeta : 0.268623\n",
      "Threshold : 0.60\tFBeta : 0.270597\n",
      "Threshold : 0.65\tFBeta : 0.272666\n",
      "Threshold : 0.70\tFBeta : 0.275032\n",
      "Threshold : 0.75\tFBeta : 0.277599\n",
      "Threshold : 0.80\tFBeta : 0.280481\n",
      "\n"
     ]
    },
    {
     "name": "stderr",
     "output_type": "stream",
     "text": [
      "Epoch 426/500  Mem : 19.8GB  LR : 9.49E-05  Loss: 0.1994: 100%|██████████| 8/8 [00:30<00:00,  3.87s/it]                                                                                                                                                      \n",
      "Val Loss: 0.5495: 100%|██████████| 3/3 [00:08<00:00,  2.86s/it]                                                                                                                                                                                              \n"
     ]
    },
    {
     "name": "stdout",
     "output_type": "stream",
     "text": [
      "Threshold : 0.20\tFBeta : 0.318780\n",
      "Threshold : 0.25\tFBeta : 0.324189\n",
      "Threshold : 0.30\tFBeta : 0.328350\n",
      "Threshold : 0.35\tFBeta : 0.331703\n",
      "Threshold : 0.40\tFBeta : 0.334747\n",
      "Threshold : 0.45\tFBeta : 0.337429\n",
      "Threshold : 0.50\tFBeta : 0.340016\n",
      "Threshold : 0.55\tFBeta : 0.342592\n",
      "Threshold : 0.60\tFBeta : 0.344936\n",
      "Threshold : 0.65\tFBeta : 0.346875\n",
      "Threshold : 0.70\tFBeta : 0.348753\n",
      "Threshold : 0.75\tFBeta : 0.350760\n",
      "Threshold : 0.80\tFBeta : 0.352548\n",
      "\n"
     ]
    },
    {
     "name": "stderr",
     "output_type": "stream",
     "text": [
      "Epoch 427/500  Mem : 19.8GB  LR : 9.50E-05  Loss: 0.2074: 100%|██████████| 8/8 [00:31<00:00,  3.88s/it]                                                                                                                                                      \n",
      "Val Loss: 0.8744: 100%|██████████| 3/3 [00:08<00:00,  2.85s/it]                                                                                                                                                                                              \n"
     ]
    },
    {
     "name": "stdout",
     "output_type": "stream",
     "text": [
      "Threshold : 0.20\tFBeta : 0.252414\n",
      "Threshold : 0.25\tFBeta : 0.253630\n",
      "Threshold : 0.30\tFBeta : 0.254544\n",
      "Threshold : 0.35\tFBeta : 0.255319\n",
      "Threshold : 0.40\tFBeta : 0.255889\n",
      "Threshold : 0.45\tFBeta : 0.256500\n",
      "Threshold : 0.50\tFBeta : 0.257172\n",
      "Threshold : 0.55\tFBeta : 0.257921\n",
      "Threshold : 0.60\tFBeta : 0.258657\n",
      "Threshold : 0.65\tFBeta : 0.259424\n",
      "Threshold : 0.70\tFBeta : 0.260208\n",
      "Threshold : 0.75\tFBeta : 0.261218\n",
      "Threshold : 0.80\tFBeta : 0.262068\n",
      "\n"
     ]
    },
    {
     "name": "stderr",
     "output_type": "stream",
     "text": [
      "Epoch 428/500  Mem : 19.8GB  LR : 9.52E-05  Loss: 0.2000: 100%|██████████| 8/8 [00:30<00:00,  3.81s/it]                                                                                                                                                      \n",
      "Val Loss: 0.7777: 100%|██████████| 3/3 [00:08<00:00,  2.87s/it]                                                                                                                                                                                              \n"
     ]
    },
    {
     "name": "stdout",
     "output_type": "stream",
     "text": [
      "Threshold : 0.20\tFBeta : 0.274475\n",
      "Threshold : 0.25\tFBeta : 0.278218\n",
      "Threshold : 0.30\tFBeta : 0.281417\n",
      "Threshold : 0.35\tFBeta : 0.284203\n",
      "Threshold : 0.40\tFBeta : 0.286795\n",
      "Threshold : 0.45\tFBeta : 0.289292\n",
      "Threshold : 0.50\tFBeta : 0.291633\n",
      "Threshold : 0.55\tFBeta : 0.293995\n",
      "Threshold : 0.60\tFBeta : 0.296532\n",
      "Threshold : 0.65\tFBeta : 0.299218\n",
      "Threshold : 0.70\tFBeta : 0.302391\n",
      "Threshold : 0.75\tFBeta : 0.306147\n",
      "Threshold : 0.80\tFBeta : 0.310616\n",
      "\n"
     ]
    },
    {
     "name": "stderr",
     "output_type": "stream",
     "text": [
      "Epoch 429/500  Mem : 19.8GB  LR : 9.53E-05  Loss: 0.2135: 100%|██████████| 8/8 [00:32<00:00,  4.03s/it]                                                                                                                                                      \n",
      "Val Loss: 0.7960: 100%|██████████| 3/3 [00:08<00:00,  2.87s/it]                                                                                                                                                                                              \n"
     ]
    },
    {
     "name": "stdout",
     "output_type": "stream",
     "text": [
      "Threshold : 0.20\tFBeta : 0.272097\n",
      "Threshold : 0.25\tFBeta : 0.275298\n",
      "Threshold : 0.30\tFBeta : 0.278064\n",
      "Threshold : 0.35\tFBeta : 0.280556\n",
      "Threshold : 0.40\tFBeta : 0.282858\n",
      "Threshold : 0.45\tFBeta : 0.284942\n",
      "Threshold : 0.50\tFBeta : 0.286905\n",
      "Threshold : 0.55\tFBeta : 0.288975\n",
      "Threshold : 0.60\tFBeta : 0.290992\n",
      "Threshold : 0.65\tFBeta : 0.292949\n",
      "Threshold : 0.70\tFBeta : 0.295078\n",
      "Threshold : 0.75\tFBeta : 0.297502\n",
      "Threshold : 0.80\tFBeta : 0.300535\n",
      "\n"
     ]
    },
    {
     "name": "stderr",
     "output_type": "stream",
     "text": [
      "Epoch 430/500  Mem : 19.8GB  LR : 9.54E-05  Loss: 0.2129: 100%|██████████| 8/8 [00:30<00:00,  3.85s/it]                                                                                                                                                      \n",
      "Val Loss: 0.8017: 100%|██████████| 3/3 [00:08<00:00,  2.87s/it]                                                                                                                                                                                              \n"
     ]
    },
    {
     "name": "stdout",
     "output_type": "stream",
     "text": [
      "Threshold : 0.20\tFBeta : 0.266809\n",
      "Threshold : 0.25\tFBeta : 0.268564\n",
      "Threshold : 0.30\tFBeta : 0.269824\n",
      "Threshold : 0.35\tFBeta : 0.271097\n",
      "Threshold : 0.40\tFBeta : 0.272234\n",
      "Threshold : 0.45\tFBeta : 0.273348\n",
      "Threshold : 0.50\tFBeta : 0.274499\n",
      "Threshold : 0.55\tFBeta : 0.275516\n",
      "Threshold : 0.60\tFBeta : 0.276458\n",
      "Threshold : 0.65\tFBeta : 0.277515\n",
      "Threshold : 0.70\tFBeta : 0.278557\n",
      "Threshold : 0.75\tFBeta : 0.279600\n",
      "Threshold : 0.80\tFBeta : 0.281045\n",
      "\n"
     ]
    },
    {
     "name": "stderr",
     "output_type": "stream",
     "text": [
      "Epoch 431/500  Mem : 19.8GB  LR : 9.55E-05  Loss: 0.2050: 100%|██████████| 8/8 [00:31<00:00,  3.93s/it]                                                                                                                                                      \n",
      "Val Loss: 0.5605: 100%|██████████| 3/3 [00:08<00:00,  2.86s/it]                                                                                                                                                                                              \n"
     ]
    },
    {
     "name": "stdout",
     "output_type": "stream",
     "text": [
      "Threshold : 0.20\tFBeta : 0.328683\n",
      "Threshold : 0.25\tFBeta : 0.330110\n",
      "Threshold : 0.30\tFBeta : 0.331128\n",
      "Threshold : 0.35\tFBeta : 0.331771\n",
      "Threshold : 0.40\tFBeta : 0.332014\n",
      "Threshold : 0.45\tFBeta : 0.331929\n",
      "Threshold : 0.50\tFBeta : 0.331100\n",
      "Threshold : 0.55\tFBeta : 0.330223\n",
      "Threshold : 0.60\tFBeta : 0.329151\n",
      "Threshold : 0.65\tFBeta : 0.328185\n",
      "Threshold : 0.70\tFBeta : 0.326851\n",
      "Threshold : 0.75\tFBeta : 0.324832\n",
      "Threshold : 0.80\tFBeta : 0.321147\n",
      "\n"
     ]
    },
    {
     "name": "stderr",
     "output_type": "stream",
     "text": [
      "Epoch 432/500  Mem : 19.8GB  LR : 9.57E-05  Loss: 0.1954: 100%|██████████| 8/8 [00:31<00:00,  3.95s/it]                                                                                                                                                      \n",
      "Val Loss: 0.5985: 100%|██████████| 3/3 [00:08<00:00,  2.84s/it]                                                                                                                                                                                              \n"
     ]
    },
    {
     "name": "stdout",
     "output_type": "stream",
     "text": [
      "Threshold : 0.20\tFBeta : 0.287084\n",
      "Threshold : 0.25\tFBeta : 0.288361\n",
      "Threshold : 0.30\tFBeta : 0.289467\n",
      "Threshold : 0.35\tFBeta : 0.290739\n",
      "Threshold : 0.40\tFBeta : 0.292026\n",
      "Threshold : 0.45\tFBeta : 0.293148\n",
      "Threshold : 0.50\tFBeta : 0.294126\n",
      "Threshold : 0.55\tFBeta : 0.295198\n",
      "Threshold : 0.60\tFBeta : 0.296376\n",
      "Threshold : 0.65\tFBeta : 0.297996\n",
      "Threshold : 0.70\tFBeta : 0.299743\n",
      "Threshold : 0.75\tFBeta : 0.301426\n",
      "Threshold : 0.80\tFBeta : 0.302806\n",
      "\n"
     ]
    },
    {
     "name": "stderr",
     "output_type": "stream",
     "text": [
      "Epoch 433/500  Mem : 19.8GB  LR : 9.58E-05  Loss: 0.2091: 100%|██████████| 8/8 [00:31<00:00,  3.98s/it]                                                                                                                                                      \n",
      "Val Loss: 0.7066: 100%|██████████| 3/3 [00:08<00:00,  2.86s/it]                                                                                                                                                                                              \n"
     ]
    },
    {
     "name": "stdout",
     "output_type": "stream",
     "text": [
      "Threshold : 0.20\tFBeta : 0.278576\n",
      "Threshold : 0.25\tFBeta : 0.282625\n",
      "Threshold : 0.30\tFBeta : 0.286211\n",
      "Threshold : 0.35\tFBeta : 0.289285\n",
      "Threshold : 0.40\tFBeta : 0.292023\n",
      "Threshold : 0.45\tFBeta : 0.294648\n",
      "Threshold : 0.50\tFBeta : 0.297136\n",
      "Threshold : 0.55\tFBeta : 0.299516\n",
      "Threshold : 0.60\tFBeta : 0.301909\n",
      "Threshold : 0.65\tFBeta : 0.304316\n",
      "Threshold : 0.70\tFBeta : 0.307049\n",
      "Threshold : 0.75\tFBeta : 0.310041\n",
      "Threshold : 0.80\tFBeta : 0.313512\n",
      "\n"
     ]
    },
    {
     "name": "stderr",
     "output_type": "stream",
     "text": [
      "Epoch 434/500  Mem : 19.8GB  LR : 9.59E-05  Loss: 0.2037: 100%|██████████| 8/8 [00:31<00:00,  3.97s/it]                                                                                                                                                      \n",
      "Val Loss: 0.6730: 100%|██████████| 3/3 [00:08<00:00,  2.85s/it]                                                                                                                                                                                              \n"
     ]
    },
    {
     "name": "stdout",
     "output_type": "stream",
     "text": [
      "Threshold : 0.20\tFBeta : 0.276887\n",
      "Threshold : 0.25\tFBeta : 0.280745\n",
      "Threshold : 0.30\tFBeta : 0.284082\n",
      "Threshold : 0.35\tFBeta : 0.287159\n",
      "Threshold : 0.40\tFBeta : 0.289723\n",
      "Threshold : 0.45\tFBeta : 0.292085\n",
      "Threshold : 0.50\tFBeta : 0.294646\n",
      "Threshold : 0.55\tFBeta : 0.297556\n",
      "Threshold : 0.60\tFBeta : 0.300390\n",
      "Threshold : 0.65\tFBeta : 0.303313\n",
      "Threshold : 0.70\tFBeta : 0.306309\n",
      "Threshold : 0.75\tFBeta : 0.309988\n",
      "Threshold : 0.80\tFBeta : 0.314277\n",
      "\n"
     ]
    },
    {
     "name": "stderr",
     "output_type": "stream",
     "text": [
      "Epoch 435/500  Mem : 19.8GB  LR : 9.60E-05  Loss: 0.1960: 100%|██████████| 8/8 [00:31<00:00,  3.90s/it]                                                                                                                                                      \n",
      "Val Loss: 0.9693: 100%|██████████| 3/3 [00:08<00:00,  2.88s/it]                                                                                                                                                                                              \n"
     ]
    },
    {
     "name": "stdout",
     "output_type": "stream",
     "text": [
      "Threshold : 0.20\tFBeta : 0.255295\n",
      "Threshold : 0.25\tFBeta : 0.257136\n",
      "Threshold : 0.30\tFBeta : 0.258811\n",
      "Threshold : 0.35\tFBeta : 0.260210\n",
      "Threshold : 0.40\tFBeta : 0.261530\n",
      "Threshold : 0.45\tFBeta : 0.262813\n",
      "Threshold : 0.50\tFBeta : 0.264131\n",
      "Threshold : 0.55\tFBeta : 0.265390\n",
      "Threshold : 0.60\tFBeta : 0.266717\n",
      "Threshold : 0.65\tFBeta : 0.268224\n",
      "Threshold : 0.70\tFBeta : 0.269806\n",
      "Threshold : 0.75\tFBeta : 0.271529\n",
      "Threshold : 0.80\tFBeta : 0.273819\n",
      "\n"
     ]
    },
    {
     "name": "stderr",
     "output_type": "stream",
     "text": [
      "Epoch 436/500  Mem : 19.8GB  LR : 9.62E-05  Loss: 0.1999: 100%|██████████| 8/8 [00:30<00:00,  3.86s/it]                                                                                                                                                      \n",
      "Val Loss: 0.5571: 100%|██████████| 3/3 [00:08<00:00,  2.86s/it]                                                                                                                                                                                              \n"
     ]
    },
    {
     "name": "stdout",
     "output_type": "stream",
     "text": [
      "Threshold : 0.20\tFBeta : 0.307815\n",
      "Threshold : 0.25\tFBeta : 0.309852\n",
      "Threshold : 0.30\tFBeta : 0.311192\n",
      "Threshold : 0.35\tFBeta : 0.311781\n",
      "Threshold : 0.40\tFBeta : 0.311943\n",
      "Threshold : 0.45\tFBeta : 0.312302\n",
      "Threshold : 0.50\tFBeta : 0.312444\n",
      "Threshold : 0.55\tFBeta : 0.312040\n",
      "Threshold : 0.60\tFBeta : 0.311042\n",
      "Threshold : 0.65\tFBeta : 0.309646\n",
      "Threshold : 0.70\tFBeta : 0.307236\n",
      "Threshold : 0.75\tFBeta : 0.304298\n",
      "Threshold : 0.80\tFBeta : 0.300848\n",
      "\n"
     ]
    },
    {
     "name": "stderr",
     "output_type": "stream",
     "text": [
      "Epoch 437/500  Mem : 19.8GB  LR : 9.63E-05  Loss: 0.2033: 100%|██████████| 8/8 [00:31<00:00,  3.89s/it]                                                                                                                                                      \n",
      "Val Loss: 0.5582: 100%|██████████| 3/3 [00:08<00:00,  2.91s/it]                                                                                                                                                                                              \n"
     ]
    },
    {
     "name": "stdout",
     "output_type": "stream",
     "text": [
      "Threshold : 0.20\tFBeta : 0.324310\n",
      "Threshold : 0.25\tFBeta : 0.329782\n",
      "Threshold : 0.30\tFBeta : 0.334265\n",
      "Threshold : 0.35\tFBeta : 0.337793\n",
      "Threshold : 0.40\tFBeta : 0.341017\n",
      "Threshold : 0.45\tFBeta : 0.343971\n",
      "Threshold : 0.50\tFBeta : 0.346970\n",
      "Threshold : 0.55\tFBeta : 0.349594\n",
      "Threshold : 0.60\tFBeta : 0.351646\n",
      "Threshold : 0.65\tFBeta : 0.353038\n",
      "Threshold : 0.70\tFBeta : 0.353835\n",
      "Threshold : 0.75\tFBeta : 0.353630\n",
      "Threshold : 0.80\tFBeta : 0.351571\n",
      "\n"
     ]
    },
    {
     "name": "stderr",
     "output_type": "stream",
     "text": [
      "Epoch 438/500  Mem : 19.8GB  LR : 9.64E-05  Loss: 0.2158: 100%|██████████| 8/8 [00:30<00:00,  3.86s/it]                                                                                                                                                      \n",
      "Val Loss: 0.7376: 100%|██████████| 3/3 [00:08<00:00,  2.87s/it]                                                                                                                                                                                              \n"
     ]
    },
    {
     "name": "stdout",
     "output_type": "stream",
     "text": [
      "Threshold : 0.20\tFBeta : 0.288387\n",
      "Threshold : 0.25\tFBeta : 0.291721\n",
      "Threshold : 0.30\tFBeta : 0.294577\n",
      "Threshold : 0.35\tFBeta : 0.297420\n",
      "Threshold : 0.40\tFBeta : 0.300153\n",
      "Threshold : 0.45\tFBeta : 0.302866\n",
      "Threshold : 0.50\tFBeta : 0.305553\n",
      "Threshold : 0.55\tFBeta : 0.308185\n",
      "Threshold : 0.60\tFBeta : 0.310891\n",
      "Threshold : 0.65\tFBeta : 0.313731\n",
      "Threshold : 0.70\tFBeta : 0.316768\n",
      "Threshold : 0.75\tFBeta : 0.320068\n",
      "Threshold : 0.80\tFBeta : 0.323666\n",
      "\n"
     ]
    },
    {
     "name": "stderr",
     "output_type": "stream",
     "text": [
      "Epoch 439/500  Mem : 19.8GB  LR : 9.65E-05  Loss: 0.1964: 100%|██████████| 8/8 [00:30<00:00,  3.81s/it]                                                                                                                                                      \n",
      "Val Loss: 0.8112: 100%|██████████| 3/3 [00:08<00:00,  2.87s/it]                                                                                                                                                                                              \n"
     ]
    },
    {
     "name": "stdout",
     "output_type": "stream",
     "text": [
      "Threshold : 0.20\tFBeta : 0.261189\n",
      "Threshold : 0.25\tFBeta : 0.263986\n",
      "Threshold : 0.30\tFBeta : 0.266668\n",
      "Threshold : 0.35\tFBeta : 0.269142\n",
      "Threshold : 0.40\tFBeta : 0.271534\n",
      "Threshold : 0.45\tFBeta : 0.273719\n",
      "Threshold : 0.50\tFBeta : 0.275684\n",
      "Threshold : 0.55\tFBeta : 0.277636\n",
      "Threshold : 0.60\tFBeta : 0.279654\n",
      "Threshold : 0.65\tFBeta : 0.281810\n",
      "Threshold : 0.70\tFBeta : 0.284334\n",
      "Threshold : 0.75\tFBeta : 0.287227\n",
      "Threshold : 0.80\tFBeta : 0.290559\n",
      "\n"
     ]
    },
    {
     "name": "stderr",
     "output_type": "stream",
     "text": [
      "Epoch 440/500  Mem : 19.8GB  LR : 9.66E-05  Loss: 0.2029: 100%|██████████| 8/8 [00:31<00:00,  3.91s/it]                                                                                                                                                      \n",
      "Val Loss: 0.5813: 100%|██████████| 3/3 [00:08<00:00,  2.90s/it]                                                                                                                                                                                              \n"
     ]
    },
    {
     "name": "stdout",
     "output_type": "stream",
     "text": [
      "Threshold : 0.20\tFBeta : 0.302903\n",
      "Threshold : 0.25\tFBeta : 0.307405\n",
      "Threshold : 0.30\tFBeta : 0.311242\n",
      "Threshold : 0.35\tFBeta : 0.314705\n",
      "Threshold : 0.40\tFBeta : 0.318213\n",
      "Threshold : 0.45\tFBeta : 0.322004\n",
      "Threshold : 0.50\tFBeta : 0.325639\n",
      "Threshold : 0.55\tFBeta : 0.329348\n",
      "Threshold : 0.60\tFBeta : 0.332964\n",
      "Threshold : 0.65\tFBeta : 0.336459\n",
      "Threshold : 0.70\tFBeta : 0.339846\n",
      "Threshold : 0.75\tFBeta : 0.343161\n",
      "Threshold : 0.80\tFBeta : 0.346722\n",
      "\n"
     ]
    },
    {
     "name": "stderr",
     "output_type": "stream",
     "text": [
      "Epoch 441/500  Mem : 19.8GB  LR : 9.67E-05  Loss: 0.2017: 100%|██████████| 8/8 [00:31<00:00,  3.92s/it]                                                                                                                                                      \n",
      "Val Loss: 0.5951: 100%|██████████| 3/3 [00:08<00:00,  2.91s/it]                                                                                                                                                                                              \n"
     ]
    },
    {
     "name": "stdout",
     "output_type": "stream",
     "text": [
      "Threshold : 0.20\tFBeta : 0.299882\n",
      "Threshold : 0.25\tFBeta : 0.302039\n",
      "Threshold : 0.30\tFBeta : 0.303642\n",
      "Threshold : 0.35\tFBeta : 0.304895\n",
      "Threshold : 0.40\tFBeta : 0.305833\n",
      "Threshold : 0.45\tFBeta : 0.306461\n",
      "Threshold : 0.50\tFBeta : 0.306765\n",
      "Threshold : 0.55\tFBeta : 0.306768\n",
      "Threshold : 0.60\tFBeta : 0.306141\n",
      "Threshold : 0.65\tFBeta : 0.304870\n",
      "Threshold : 0.70\tFBeta : 0.303077\n",
      "Threshold : 0.75\tFBeta : 0.300744\n",
      "Threshold : 0.80\tFBeta : 0.298253\n",
      "\n"
     ]
    },
    {
     "name": "stderr",
     "output_type": "stream",
     "text": [
      "Epoch 442/500  Mem : 19.8GB  LR : 9.68E-05  Loss: 0.2023: 100%|██████████| 8/8 [00:32<00:00,  4.03s/it]                                                                                                                                                      \n",
      "Val Loss: 0.9392: 100%|██████████| 3/3 [00:08<00:00,  2.86s/it]                                                                                                                                                                                              \n"
     ]
    },
    {
     "name": "stdout",
     "output_type": "stream",
     "text": [
      "Threshold : 0.20\tFBeta : 0.254898\n",
      "Threshold : 0.25\tFBeta : 0.257122\n",
      "Threshold : 0.30\tFBeta : 0.259077\n",
      "Threshold : 0.35\tFBeta : 0.260821\n",
      "Threshold : 0.40\tFBeta : 0.262507\n",
      "Threshold : 0.45\tFBeta : 0.264093\n",
      "Threshold : 0.50\tFBeta : 0.265689\n",
      "Threshold : 0.55\tFBeta : 0.267407\n",
      "Threshold : 0.60\tFBeta : 0.269325\n",
      "Threshold : 0.65\tFBeta : 0.271440\n",
      "Threshold : 0.70\tFBeta : 0.273795\n",
      "Threshold : 0.75\tFBeta : 0.276735\n",
      "Threshold : 0.80\tFBeta : 0.280223\n",
      "\n"
     ]
    },
    {
     "name": "stderr",
     "output_type": "stream",
     "text": [
      "Epoch 443/500  Mem : 19.8GB  LR : 9.69E-05  Loss: 0.1840: 100%|██████████| 8/8 [00:31<00:00,  3.93s/it]                                                                                                                                                      \n",
      "Val Loss: 0.5910: 100%|██████████| 3/3 [00:08<00:00,  2.87s/it]                                                                                                                                                                                              \n"
     ]
    },
    {
     "name": "stdout",
     "output_type": "stream",
     "text": [
      "Threshold : 0.20\tFBeta : 0.284902\n",
      "Threshold : 0.25\tFBeta : 0.286827\n",
      "Threshold : 0.30\tFBeta : 0.288349\n",
      "Threshold : 0.35\tFBeta : 0.289727\n",
      "Threshold : 0.40\tFBeta : 0.290633\n",
      "Threshold : 0.45\tFBeta : 0.291466\n",
      "Threshold : 0.50\tFBeta : 0.292140\n",
      "Threshold : 0.55\tFBeta : 0.292992\n",
      "Threshold : 0.60\tFBeta : 0.293593\n",
      "Threshold : 0.65\tFBeta : 0.293312\n",
      "Threshold : 0.70\tFBeta : 0.292441\n",
      "Threshold : 0.75\tFBeta : 0.290874\n",
      "Threshold : 0.80\tFBeta : 0.287923\n",
      "\n"
     ]
    },
    {
     "name": "stderr",
     "output_type": "stream",
     "text": [
      "Epoch 444/500  Mem : 19.8GB  LR : 9.70E-05  Loss: 0.2038: 100%|██████████| 8/8 [00:31<00:00,  3.91s/it]                                                                                                                                                      \n",
      "Val Loss: 0.5763: 100%|██████████| 3/3 [00:08<00:00,  2.87s/it]                                                                                                                                                                                              \n"
     ]
    },
    {
     "name": "stdout",
     "output_type": "stream",
     "text": [
      "Threshold : 0.20\tFBeta : 0.309776\n",
      "Threshold : 0.25\tFBeta : 0.313834\n",
      "Threshold : 0.30\tFBeta : 0.317021\n",
      "Threshold : 0.35\tFBeta : 0.320011\n",
      "Threshold : 0.40\tFBeta : 0.322974\n",
      "Threshold : 0.45\tFBeta : 0.325708\n",
      "Threshold : 0.50\tFBeta : 0.327836\n",
      "Threshold : 0.55\tFBeta : 0.330061\n",
      "Threshold : 0.60\tFBeta : 0.332249\n",
      "Threshold : 0.65\tFBeta : 0.334721\n",
      "Threshold : 0.70\tFBeta : 0.337444\n",
      "Threshold : 0.75\tFBeta : 0.340389\n",
      "Threshold : 0.80\tFBeta : 0.342909\n",
      "\n"
     ]
    },
    {
     "name": "stderr",
     "output_type": "stream",
     "text": [
      "Epoch 445/500  Mem : 19.8GB  LR : 9.72E-05  Loss: 0.1860: 100%|██████████| 8/8 [00:31<00:00,  4.00s/it]                                                                                                                                                      \n",
      "Val Loss: 0.6585: 100%|██████████| 3/3 [00:08<00:00,  2.85s/it]                                                                                                                                                                                              \n"
     ]
    },
    {
     "name": "stdout",
     "output_type": "stream",
     "text": [
      "Threshold : 0.20\tFBeta : 0.272591\n",
      "Threshold : 0.25\tFBeta : 0.275357\n",
      "Threshold : 0.30\tFBeta : 0.277929\n",
      "Threshold : 0.35\tFBeta : 0.280218\n",
      "Threshold : 0.40\tFBeta : 0.282370\n",
      "Threshold : 0.45\tFBeta : 0.284426\n",
      "Threshold : 0.50\tFBeta : 0.286387\n",
      "Threshold : 0.55\tFBeta : 0.288050\n",
      "Threshold : 0.60\tFBeta : 0.289707\n",
      "Threshold : 0.65\tFBeta : 0.291312\n",
      "Threshold : 0.70\tFBeta : 0.293041\n",
      "Threshold : 0.75\tFBeta : 0.294879\n",
      "Threshold : 0.80\tFBeta : 0.297412\n",
      "\n"
     ]
    },
    {
     "name": "stderr",
     "output_type": "stream",
     "text": [
      "Epoch 446/500  Mem : 19.8GB  LR : 9.73E-05  Loss: 0.2044: 100%|██████████| 8/8 [00:30<00:00,  3.87s/it]                                                                                                                                                      \n",
      "Val Loss: 1.1692: 100%|██████████| 3/3 [00:08<00:00,  2.85s/it]                                                                                                                                                                                              \n"
     ]
    },
    {
     "name": "stdout",
     "output_type": "stream",
     "text": [
      "Threshold : 0.20\tFBeta : 0.246879\n",
      "Threshold : 0.25\tFBeta : 0.247913\n",
      "Threshold : 0.30\tFBeta : 0.248908\n",
      "Threshold : 0.35\tFBeta : 0.249875\n",
      "Threshold : 0.40\tFBeta : 0.250821\n",
      "Threshold : 0.45\tFBeta : 0.251738\n",
      "Threshold : 0.50\tFBeta : 0.252671\n",
      "Threshold : 0.55\tFBeta : 0.253671\n",
      "Threshold : 0.60\tFBeta : 0.254818\n",
      "Threshold : 0.65\tFBeta : 0.256034\n",
      "Threshold : 0.70\tFBeta : 0.257209\n",
      "Threshold : 0.75\tFBeta : 0.258558\n",
      "Threshold : 0.80\tFBeta : 0.260256\n",
      "\n"
     ]
    },
    {
     "name": "stderr",
     "output_type": "stream",
     "text": [
      "Epoch 447/500  Mem : 19.8GB  LR : 9.74E-05  Loss: 0.1943: 100%|██████████| 8/8 [00:31<00:00,  3.94s/it]                                                                                                                                                      \n",
      "Val Loss: 0.8043: 100%|██████████| 3/3 [00:08<00:00,  2.86s/it]                                                                                                                                                                                              \n"
     ]
    },
    {
     "name": "stdout",
     "output_type": "stream",
     "text": [
      "Threshold : 0.20\tFBeta : 0.280813\n",
      "Threshold : 0.25\tFBeta : 0.284362\n",
      "Threshold : 0.30\tFBeta : 0.287306\n",
      "Threshold : 0.35\tFBeta : 0.289919\n",
      "Threshold : 0.40\tFBeta : 0.292426\n",
      "Threshold : 0.45\tFBeta : 0.294802\n",
      "Threshold : 0.50\tFBeta : 0.297103\n",
      "Threshold : 0.55\tFBeta : 0.299474\n",
      "Threshold : 0.60\tFBeta : 0.301757\n",
      "Threshold : 0.65\tFBeta : 0.304060\n",
      "Threshold : 0.70\tFBeta : 0.306535\n",
      "Threshold : 0.75\tFBeta : 0.309413\n",
      "Threshold : 0.80\tFBeta : 0.312795\n",
      "\n"
     ]
    },
    {
     "name": "stderr",
     "output_type": "stream",
     "text": [
      "Epoch 448/500  Mem : 19.8GB  LR : 9.75E-05  Loss: 0.1880: 100%|██████████| 8/8 [00:31<00:00,  3.90s/it]                                                                                                                                                      \n",
      "Val Loss: 1.0340: 100%|██████████| 3/3 [00:08<00:00,  2.84s/it]                                                                                                                                                                                              \n"
     ]
    },
    {
     "name": "stdout",
     "output_type": "stream",
     "text": [
      "Threshold : 0.20\tFBeta : 0.256777\n",
      "Threshold : 0.25\tFBeta : 0.258668\n",
      "Threshold : 0.30\tFBeta : 0.260366\n",
      "Threshold : 0.35\tFBeta : 0.261860\n",
      "Threshold : 0.40\tFBeta : 0.263232\n",
      "Threshold : 0.45\tFBeta : 0.264602\n",
      "Threshold : 0.50\tFBeta : 0.265948\n",
      "Threshold : 0.55\tFBeta : 0.267423\n",
      "Threshold : 0.60\tFBeta : 0.268940\n",
      "Threshold : 0.65\tFBeta : 0.270591\n",
      "Threshold : 0.70\tFBeta : 0.272447\n",
      "Threshold : 0.75\tFBeta : 0.274479\n",
      "Threshold : 0.80\tFBeta : 0.276892\n",
      "\n"
     ]
    },
    {
     "name": "stderr",
     "output_type": "stream",
     "text": [
      "Epoch 449/500  Mem : 19.8GB  LR : 9.75E-05  Loss: 0.2005: 100%|██████████| 8/8 [00:30<00:00,  3.81s/it]                                                                                                                                                      \n",
      "Val Loss: 1.0981: 100%|██████████| 3/3 [00:08<00:00,  2.90s/it]                                                                                                                                                                                              \n"
     ]
    },
    {
     "name": "stdout",
     "output_type": "stream",
     "text": [
      "Threshold : 0.20\tFBeta : 0.252694\n",
      "Threshold : 0.25\tFBeta : 0.254238\n",
      "Threshold : 0.30\tFBeta : 0.255588\n",
      "Threshold : 0.35\tFBeta : 0.256795\n",
      "Threshold : 0.40\tFBeta : 0.257919\n",
      "Threshold : 0.45\tFBeta : 0.259063\n",
      "Threshold : 0.50\tFBeta : 0.260181\n",
      "Threshold : 0.55\tFBeta : 0.261283\n",
      "Threshold : 0.60\tFBeta : 0.262371\n",
      "Threshold : 0.65\tFBeta : 0.263526\n",
      "Threshold : 0.70\tFBeta : 0.264930\n",
      "Threshold : 0.75\tFBeta : 0.266761\n",
      "Threshold : 0.80\tFBeta : 0.268806\n",
      "\n"
     ]
    },
    {
     "name": "stderr",
     "output_type": "stream",
     "text": [
      "Epoch 450/500  Mem : 19.8GB  LR : 9.76E-05  Loss: 0.1942: 100%|██████████| 8/8 [00:30<00:00,  3.84s/it]                                                                                                                                                      \n",
      "Val Loss: 0.5758: 100%|██████████| 3/3 [00:08<00:00,  2.86s/it]                                                                                                                                                                                              \n"
     ]
    },
    {
     "name": "stdout",
     "output_type": "stream",
     "text": [
      "Threshold : 0.20\tFBeta : 0.310542\n",
      "Threshold : 0.25\tFBeta : 0.315391\n",
      "Threshold : 0.30\tFBeta : 0.319602\n",
      "Threshold : 0.35\tFBeta : 0.323363\n",
      "Threshold : 0.40\tFBeta : 0.326896\n",
      "Threshold : 0.45\tFBeta : 0.330298\n",
      "Threshold : 0.50\tFBeta : 0.333625\n",
      "Threshold : 0.55\tFBeta : 0.336742\n",
      "Threshold : 0.60\tFBeta : 0.339660\n",
      "Threshold : 0.65\tFBeta : 0.342462\n",
      "Threshold : 0.70\tFBeta : 0.345211\n",
      "Threshold : 0.75\tFBeta : 0.347699\n",
      "Threshold : 0.80\tFBeta : 0.349042\n",
      "\n"
     ]
    },
    {
     "name": "stderr",
     "output_type": "stream",
     "text": [
      "Epoch 451/500  Mem : 19.8GB  LR : 9.77E-05  Loss: 0.1765: 100%|██████████| 8/8 [00:31<00:00,  3.98s/it]                                                                                                                                                      \n",
      "Val Loss: 0.6734: 100%|██████████| 3/3 [00:08<00:00,  2.86s/it]                                                                                                                                                                                              \n"
     ]
    },
    {
     "name": "stdout",
     "output_type": "stream",
     "text": [
      "Threshold : 0.20\tFBeta : 0.299980\n",
      "Threshold : 0.25\tFBeta : 0.303950\n",
      "Threshold : 0.30\tFBeta : 0.307394\n",
      "Threshold : 0.35\tFBeta : 0.310649\n",
      "Threshold : 0.40\tFBeta : 0.313664\n",
      "Threshold : 0.45\tFBeta : 0.316447\n",
      "Threshold : 0.50\tFBeta : 0.319135\n",
      "Threshold : 0.55\tFBeta : 0.321929\n",
      "Threshold : 0.60\tFBeta : 0.324817\n",
      "Threshold : 0.65\tFBeta : 0.327858\n",
      "Threshold : 0.70\tFBeta : 0.331168\n",
      "Threshold : 0.75\tFBeta : 0.335153\n",
      "Threshold : 0.80\tFBeta : 0.339862\n",
      "\n"
     ]
    },
    {
     "name": "stderr",
     "output_type": "stream",
     "text": [
      "Epoch 452/500  Mem : 19.8GB  LR : 9.78E-05  Loss: 0.1957: 100%|██████████| 8/8 [00:30<00:00,  3.83s/it]                                                                                                                                                      \n",
      "Val Loss: 0.5715: 100%|██████████| 3/3 [00:08<00:00,  2.85s/it]                                                                                                                                                                                              \n"
     ]
    },
    {
     "name": "stdout",
     "output_type": "stream",
     "text": [
      "Threshold : 0.20\tFBeta : 0.299284\n",
      "Threshold : 0.25\tFBeta : 0.303910\n",
      "Threshold : 0.30\tFBeta : 0.307870\n",
      "Threshold : 0.35\tFBeta : 0.311601\n",
      "Threshold : 0.40\tFBeta : 0.314962\n",
      "Threshold : 0.45\tFBeta : 0.318063\n",
      "Threshold : 0.50\tFBeta : 0.321273\n",
      "Threshold : 0.55\tFBeta : 0.324582\n",
      "Threshold : 0.60\tFBeta : 0.327654\n",
      "Threshold : 0.65\tFBeta : 0.330483\n",
      "Threshold : 0.70\tFBeta : 0.333552\n",
      "Threshold : 0.75\tFBeta : 0.336881\n",
      "Threshold : 0.80\tFBeta : 0.340375\n",
      "\n"
     ]
    },
    {
     "name": "stderr",
     "output_type": "stream",
     "text": [
      "Epoch 453/500  Mem : 19.8GB  LR : 9.79E-05  Loss: 0.2082: 100%|██████████| 8/8 [00:30<00:00,  3.87s/it]                                                                                                                                                      \n",
      "Val Loss: 1.0953: 100%|██████████| 3/3 [00:08<00:00,  2.86s/it]                                                                                                                                                                                              \n"
     ]
    },
    {
     "name": "stdout",
     "output_type": "stream",
     "text": [
      "Threshold : 0.20\tFBeta : 0.249336\n",
      "Threshold : 0.25\tFBeta : 0.251435\n",
      "Threshold : 0.30\tFBeta : 0.253327\n",
      "Threshold : 0.35\tFBeta : 0.255148\n",
      "Threshold : 0.40\tFBeta : 0.256884\n",
      "Threshold : 0.45\tFBeta : 0.258529\n",
      "Threshold : 0.50\tFBeta : 0.260273\n",
      "Threshold : 0.55\tFBeta : 0.262142\n",
      "Threshold : 0.60\tFBeta : 0.264180\n",
      "Threshold : 0.65\tFBeta : 0.266380\n",
      "Threshold : 0.70\tFBeta : 0.268819\n",
      "Threshold : 0.75\tFBeta : 0.271683\n",
      "Threshold : 0.80\tFBeta : 0.274993\n",
      "\n"
     ]
    },
    {
     "name": "stderr",
     "output_type": "stream",
     "text": [
      "Epoch 454/500  Mem : 19.8GB  LR : 9.80E-05  Loss: 0.2054: 100%|██████████| 8/8 [00:32<00:00,  4.00s/it]                                                                                                                                                      \n",
      "Val Loss: 0.7107: 100%|██████████| 3/3 [00:08<00:00,  2.87s/it]                                                                                                                                                                                              \n"
     ]
    },
    {
     "name": "stdout",
     "output_type": "stream",
     "text": [
      "Threshold : 0.20\tFBeta : 0.276743\n",
      "Threshold : 0.25\tFBeta : 0.279485\n",
      "Threshold : 0.30\tFBeta : 0.281831\n",
      "Threshold : 0.35\tFBeta : 0.284026\n",
      "Threshold : 0.40\tFBeta : 0.286346\n",
      "Threshold : 0.45\tFBeta : 0.288686\n",
      "Threshold : 0.50\tFBeta : 0.291001\n",
      "Threshold : 0.55\tFBeta : 0.293387\n",
      "Threshold : 0.60\tFBeta : 0.295847\n",
      "Threshold : 0.65\tFBeta : 0.298595\n",
      "Threshold : 0.70\tFBeta : 0.301572\n",
      "Threshold : 0.75\tFBeta : 0.304833\n",
      "Threshold : 0.80\tFBeta : 0.308676\n",
      "\n"
     ]
    },
    {
     "name": "stderr",
     "output_type": "stream",
     "text": [
      "Epoch 455/500  Mem : 19.8GB  LR : 9.81E-05  Loss: 0.1885: 100%|██████████| 8/8 [00:31<00:00,  3.96s/it]                                                                                                                                                      \n",
      "Val Loss: 0.7734: 100%|██████████| 3/3 [00:08<00:00,  2.88s/it]                                                                                                                                                                                              \n"
     ]
    },
    {
     "name": "stdout",
     "output_type": "stream",
     "text": [
      "Threshold : 0.20\tFBeta : 0.260302\n",
      "Threshold : 0.25\tFBeta : 0.262570\n",
      "Threshold : 0.30\tFBeta : 0.264564\n",
      "Threshold : 0.35\tFBeta : 0.266514\n",
      "Threshold : 0.40\tFBeta : 0.268437\n",
      "Threshold : 0.45\tFBeta : 0.270287\n",
      "Threshold : 0.50\tFBeta : 0.272021\n",
      "Threshold : 0.55\tFBeta : 0.273683\n",
      "Threshold : 0.60\tFBeta : 0.275433\n",
      "Threshold : 0.65\tFBeta : 0.277244\n",
      "Threshold : 0.70\tFBeta : 0.279204\n",
      "Threshold : 0.75\tFBeta : 0.281582\n",
      "Threshold : 0.80\tFBeta : 0.284122\n",
      "\n"
     ]
    },
    {
     "name": "stderr",
     "output_type": "stream",
     "text": [
      "Epoch 456/500  Mem : 19.8GB  LR : 9.82E-05  Loss: 0.1874: 100%|██████████| 8/8 [00:30<00:00,  3.86s/it]                                                                                                                                                      \n",
      "Val Loss: 0.6765: 100%|██████████| 3/3 [00:08<00:00,  2.91s/it]                                                                                                                                                                                              \n"
     ]
    },
    {
     "name": "stdout",
     "output_type": "stream",
     "text": [
      "Threshold : 0.20\tFBeta : 0.279179\n",
      "Threshold : 0.25\tFBeta : 0.283063\n",
      "Threshold : 0.30\tFBeta : 0.286349\n",
      "Threshold : 0.35\tFBeta : 0.289141\n",
      "Threshold : 0.40\tFBeta : 0.291784\n",
      "Threshold : 0.45\tFBeta : 0.294159\n",
      "Threshold : 0.50\tFBeta : 0.296485\n",
      "Threshold : 0.55\tFBeta : 0.298740\n",
      "Threshold : 0.60\tFBeta : 0.300940\n",
      "Threshold : 0.65\tFBeta : 0.303212\n",
      "Threshold : 0.70\tFBeta : 0.305612\n",
      "Threshold : 0.75\tFBeta : 0.307972\n",
      "Threshold : 0.80\tFBeta : 0.310653\n",
      "\n"
     ]
    },
    {
     "name": "stderr",
     "output_type": "stream",
     "text": [
      "Epoch 457/500  Mem : 19.8GB  LR : 9.83E-05  Loss: 0.1734: 100%|██████████| 8/8 [00:31<00:00,  3.96s/it]                                                                                                                                                      \n",
      "Val Loss: 0.8641: 100%|██████████| 3/3 [00:08<00:00,  2.91s/it]                                                                                                                                                                                              \n"
     ]
    },
    {
     "name": "stdout",
     "output_type": "stream",
     "text": [
      "Threshold : 0.20\tFBeta : 0.258770\n",
      "Threshold : 0.25\tFBeta : 0.260936\n",
      "Threshold : 0.30\tFBeta : 0.262760\n",
      "Threshold : 0.35\tFBeta : 0.264345\n",
      "Threshold : 0.40\tFBeta : 0.265845\n",
      "Threshold : 0.45\tFBeta : 0.267381\n",
      "Threshold : 0.50\tFBeta : 0.268885\n",
      "Threshold : 0.55\tFBeta : 0.270319\n",
      "Threshold : 0.60\tFBeta : 0.271812\n",
      "Threshold : 0.65\tFBeta : 0.273442\n",
      "Threshold : 0.70\tFBeta : 0.275241\n",
      "Threshold : 0.75\tFBeta : 0.277197\n",
      "Threshold : 0.80\tFBeta : 0.279441\n",
      "\n"
     ]
    },
    {
     "name": "stderr",
     "output_type": "stream",
     "text": [
      "Epoch 458/500  Mem : 19.8GB  LR : 9.83E-05  Loss: 0.1923: 100%|██████████| 8/8 [00:30<00:00,  3.86s/it]                                                                                                                                                      \n",
      "Val Loss: 0.6704: 100%|██████████| 3/3 [00:08<00:00,  2.85s/it]                                                                                                                                                                                              \n"
     ]
    },
    {
     "name": "stdout",
     "output_type": "stream",
     "text": [
      "Threshold : 0.20\tFBeta : 0.280618\n",
      "Threshold : 0.25\tFBeta : 0.283356\n",
      "Threshold : 0.30\tFBeta : 0.285867\n",
      "Threshold : 0.35\tFBeta : 0.288215\n",
      "Threshold : 0.40\tFBeta : 0.290356\n",
      "Threshold : 0.45\tFBeta : 0.292462\n",
      "Threshold : 0.50\tFBeta : 0.294683\n",
      "Threshold : 0.55\tFBeta : 0.296770\n",
      "Threshold : 0.60\tFBeta : 0.298828\n",
      "Threshold : 0.65\tFBeta : 0.300877\n",
      "Threshold : 0.70\tFBeta : 0.302942\n",
      "Threshold : 0.75\tFBeta : 0.305239\n",
      "Threshold : 0.80\tFBeta : 0.308249\n",
      "\n"
     ]
    },
    {
     "name": "stderr",
     "output_type": "stream",
     "text": [
      "Epoch 459/500  Mem : 19.8GB  LR : 9.84E-05  Loss: 0.1932: 100%|██████████| 8/8 [00:31<00:00,  3.90s/it]                                                                                                                                                      \n",
      "Val Loss: 0.5509: 100%|██████████| 3/3 [00:08<00:00,  2.87s/it]                                                                                                                                                                                              \n"
     ]
    },
    {
     "name": "stdout",
     "output_type": "stream",
     "text": [
      "Threshold : 0.20\tFBeta : 0.337726\n",
      "Threshold : 0.25\tFBeta : 0.343365\n",
      "Threshold : 0.30\tFBeta : 0.348736\n",
      "Threshold : 0.35\tFBeta : 0.353517\n",
      "Threshold : 0.40\tFBeta : 0.357915\n",
      "Threshold : 0.45\tFBeta : 0.362112\n",
      "Threshold : 0.50\tFBeta : 0.366150\n",
      "Threshold : 0.55\tFBeta : 0.370119\n",
      "Threshold : 0.60\tFBeta : 0.374049\n",
      "Threshold : 0.65\tFBeta : 0.377616\n",
      "Threshold : 0.70\tFBeta : 0.381141\n",
      "Threshold : 0.75\tFBeta : 0.384853\n",
      "Threshold : 0.80\tFBeta : 0.388954\n",
      "\n"
     ]
    },
    {
     "name": "stderr",
     "output_type": "stream",
     "text": [
      "Epoch 460/500  Mem : 19.8GB  LR : 9.85E-05  Loss: 0.1842: 100%|██████████| 8/8 [00:30<00:00,  3.86s/it]                                                                                                                                                      \n",
      "Val Loss: 0.9973: 100%|██████████| 3/3 [00:08<00:00,  2.86s/it]                                                                                                                                                                                              \n"
     ]
    },
    {
     "name": "stdout",
     "output_type": "stream",
     "text": [
      "Threshold : 0.20\tFBeta : 0.253803\n",
      "Threshold : 0.25\tFBeta : 0.255628\n",
      "Threshold : 0.30\tFBeta : 0.257151\n",
      "Threshold : 0.35\tFBeta : 0.258467\n",
      "Threshold : 0.40\tFBeta : 0.259714\n",
      "Threshold : 0.45\tFBeta : 0.260930\n",
      "Threshold : 0.50\tFBeta : 0.262170\n",
      "Threshold : 0.55\tFBeta : 0.263585\n",
      "Threshold : 0.60\tFBeta : 0.265135\n",
      "Threshold : 0.65\tFBeta : 0.266649\n",
      "Threshold : 0.70\tFBeta : 0.268210\n",
      "Threshold : 0.75\tFBeta : 0.269997\n",
      "Threshold : 0.80\tFBeta : 0.272092\n",
      "\n"
     ]
    },
    {
     "name": "stderr",
     "output_type": "stream",
     "text": [
      "Epoch 461/500  Mem : 19.8GB  LR : 9.86E-05  Loss: 0.1967: 100%|██████████| 8/8 [00:31<00:00,  3.94s/it]                                                                                                                                                      \n",
      "Val Loss: 0.5849: 100%|██████████| 3/3 [00:08<00:00,  2.86s/it]                                                                                                                                                                                              \n"
     ]
    },
    {
     "name": "stdout",
     "output_type": "stream",
     "text": [
      "Threshold : 0.20\tFBeta : 0.308326\n",
      "Threshold : 0.25\tFBeta : 0.313580\n",
      "Threshold : 0.30\tFBeta : 0.317961\n",
      "Threshold : 0.35\tFBeta : 0.321954\n",
      "Threshold : 0.40\tFBeta : 0.325994\n",
      "Threshold : 0.45\tFBeta : 0.329886\n",
      "Threshold : 0.50\tFBeta : 0.333533\n",
      "Threshold : 0.55\tFBeta : 0.337175\n",
      "Threshold : 0.60\tFBeta : 0.340935\n",
      "Threshold : 0.65\tFBeta : 0.344678\n",
      "Threshold : 0.70\tFBeta : 0.348541\n",
      "Threshold : 0.75\tFBeta : 0.352728\n",
      "Threshold : 0.80\tFBeta : 0.357276\n",
      "\n"
     ]
    },
    {
     "name": "stderr",
     "output_type": "stream",
     "text": [
      "Epoch 462/500  Mem : 19.8GB  LR : 9.86E-05  Loss: 0.1871: 100%|██████████| 8/8 [00:31<00:00,  3.98s/it]                                                                                                                                                      \n",
      "Val Loss: 1.0148: 100%|██████████| 3/3 [00:08<00:00,  2.91s/it]                                                                                                                                                                                              \n"
     ]
    },
    {
     "name": "stdout",
     "output_type": "stream",
     "text": [
      "Threshold : 0.20\tFBeta : 0.251559\n",
      "Threshold : 0.25\tFBeta : 0.252997\n",
      "Threshold : 0.30\tFBeta : 0.254318\n",
      "Threshold : 0.35\tFBeta : 0.255480\n",
      "Threshold : 0.40\tFBeta : 0.256523\n",
      "Threshold : 0.45\tFBeta : 0.257522\n",
      "Threshold : 0.50\tFBeta : 0.258516\n",
      "Threshold : 0.55\tFBeta : 0.259410\n",
      "Threshold : 0.60\tFBeta : 0.260503\n",
      "Threshold : 0.65\tFBeta : 0.261706\n",
      "Threshold : 0.70\tFBeta : 0.263062\n",
      "Threshold : 0.75\tFBeta : 0.264671\n",
      "Threshold : 0.80\tFBeta : 0.266464\n",
      "\n"
     ]
    },
    {
     "name": "stderr",
     "output_type": "stream",
     "text": [
      "Epoch 463/500  Mem : 19.8GB  LR : 9.87E-05  Loss: 0.1910: 100%|██████████| 8/8 [00:31<00:00,  3.96s/it]                                                                                                                                                      \n",
      "Val Loss: 0.6865: 100%|██████████| 3/3 [00:08<00:00,  2.84s/it]                                                                                                                                                                                              \n"
     ]
    },
    {
     "name": "stdout",
     "output_type": "stream",
     "text": [
      "Threshold : 0.20\tFBeta : 0.273803\n",
      "Threshold : 0.25\tFBeta : 0.275881\n",
      "Threshold : 0.30\tFBeta : 0.277650\n",
      "Threshold : 0.35\tFBeta : 0.279518\n",
      "Threshold : 0.40\tFBeta : 0.281269\n",
      "Threshold : 0.45\tFBeta : 0.282622\n",
      "Threshold : 0.50\tFBeta : 0.283844\n",
      "Threshold : 0.55\tFBeta : 0.285088\n",
      "Threshold : 0.60\tFBeta : 0.286339\n",
      "Threshold : 0.65\tFBeta : 0.287499\n",
      "Threshold : 0.70\tFBeta : 0.288590\n",
      "Threshold : 0.75\tFBeta : 0.289635\n",
      "Threshold : 0.80\tFBeta : 0.290735\n",
      "\n"
     ]
    },
    {
     "name": "stderr",
     "output_type": "stream",
     "text": [
      "Epoch 464/500  Mem : 19.8GB  LR : 9.88E-05  Loss: 0.1905: 100%|██████████| 8/8 [00:31<00:00,  3.89s/it]                                                                                                                                                      \n",
      "Val Loss: 0.5430: 100%|██████████| 3/3 [00:08<00:00,  2.86s/it]                                                                                                                                                                                              \n"
     ]
    },
    {
     "name": "stdout",
     "output_type": "stream",
     "text": [
      "Threshold : 0.20\tFBeta : 0.364464\n",
      "Threshold : 0.25\tFBeta : 0.369244\n",
      "Threshold : 0.30\tFBeta : 0.372675\n",
      "Threshold : 0.35\tFBeta : 0.375182\n",
      "Threshold : 0.40\tFBeta : 0.377174\n",
      "Threshold : 0.45\tFBeta : 0.378774\n",
      "Threshold : 0.50\tFBeta : 0.380098\n",
      "Threshold : 0.55\tFBeta : 0.381168\n",
      "Threshold : 0.60\tFBeta : 0.381930\n",
      "Threshold : 0.65\tFBeta : 0.382447\n",
      "Threshold : 0.70\tFBeta : 0.382221\n",
      "Threshold : 0.75\tFBeta : 0.381012\n",
      "Threshold : 0.80\tFBeta : 0.378385\n",
      "\n"
     ]
    },
    {
     "name": "stderr",
     "output_type": "stream",
     "text": [
      "Epoch 465/500  Mem : 19.8GB  LR : 9.88E-05  Loss: 0.1792: 100%|██████████| 8/8 [00:30<00:00,  3.84s/it]                                                                                                                                                      \n",
      "Val Loss: 0.7367: 100%|██████████| 3/3 [00:08<00:00,  2.86s/it]                                                                                                                                                                                              \n"
     ]
    },
    {
     "name": "stdout",
     "output_type": "stream",
     "text": [
      "Threshold : 0.20\tFBeta : 0.272424\n",
      "Threshold : 0.25\tFBeta : 0.275676\n",
      "Threshold : 0.30\tFBeta : 0.278482\n",
      "Threshold : 0.35\tFBeta : 0.280907\n",
      "Threshold : 0.40\tFBeta : 0.283160\n",
      "Threshold : 0.45\tFBeta : 0.285419\n",
      "Threshold : 0.50\tFBeta : 0.287559\n",
      "Threshold : 0.55\tFBeta : 0.289632\n",
      "Threshold : 0.60\tFBeta : 0.291705\n",
      "Threshold : 0.65\tFBeta : 0.293992\n",
      "Threshold : 0.70\tFBeta : 0.296546\n",
      "Threshold : 0.75\tFBeta : 0.299560\n",
      "Threshold : 0.80\tFBeta : 0.303136\n",
      "\n"
     ]
    },
    {
     "name": "stderr",
     "output_type": "stream",
     "text": [
      "Epoch 466/500  Mem : 19.8GB  LR : 9.89E-05  Loss: 0.1991: 100%|██████████| 8/8 [00:30<00:00,  3.87s/it]                                                                                                                                                      \n",
      "Val Loss: 0.5885: 100%|██████████| 3/3 [00:08<00:00,  2.85s/it]                                                                                                                                                                                              \n"
     ]
    },
    {
     "name": "stdout",
     "output_type": "stream",
     "text": [
      "Threshold : 0.20\tFBeta : 0.299450\n",
      "Threshold : 0.25\tFBeta : 0.302874\n",
      "Threshold : 0.30\tFBeta : 0.305148\n",
      "Threshold : 0.35\tFBeta : 0.307068\n",
      "Threshold : 0.40\tFBeta : 0.308850\n",
      "Threshold : 0.45\tFBeta : 0.310644\n",
      "Threshold : 0.50\tFBeta : 0.312340\n",
      "Threshold : 0.55\tFBeta : 0.313831\n",
      "Threshold : 0.60\tFBeta : 0.315088\n",
      "Threshold : 0.65\tFBeta : 0.316457\n",
      "Threshold : 0.70\tFBeta : 0.317539\n",
      "Threshold : 0.75\tFBeta : 0.318228\n",
      "Threshold : 0.80\tFBeta : 0.318407\n",
      "\n"
     ]
    },
    {
     "name": "stderr",
     "output_type": "stream",
     "text": [
      "Epoch 467/500  Mem : 19.8GB  LR : 9.90E-05  Loss: 0.2002: 100%|██████████| 8/8 [00:31<00:00,  3.98s/it]                                                                                                                                                      \n",
      "Val Loss: 0.9450: 100%|██████████| 3/3 [00:08<00:00,  2.85s/it]                                                                                                                                                                                              \n"
     ]
    },
    {
     "name": "stdout",
     "output_type": "stream",
     "text": [
      "Threshold : 0.20\tFBeta : 0.250520\n",
      "Threshold : 0.25\tFBeta : 0.252633\n",
      "Threshold : 0.30\tFBeta : 0.254402\n",
      "Threshold : 0.35\tFBeta : 0.256138\n",
      "Threshold : 0.40\tFBeta : 0.257672\n",
      "Threshold : 0.45\tFBeta : 0.259027\n",
      "Threshold : 0.50\tFBeta : 0.260389\n",
      "Threshold : 0.55\tFBeta : 0.261818\n",
      "Threshold : 0.60\tFBeta : 0.263174\n",
      "Threshold : 0.65\tFBeta : 0.264598\n",
      "Threshold : 0.70\tFBeta : 0.266054\n",
      "Threshold : 0.75\tFBeta : 0.267586\n",
      "Threshold : 0.80\tFBeta : 0.269216\n",
      "\n"
     ]
    },
    {
     "name": "stderr",
     "output_type": "stream",
     "text": [
      "Epoch 468/500  Mem : 19.8GB  LR : 9.90E-05  Loss: 0.1767: 100%|██████████| 8/8 [00:31<00:00,  3.88s/it]                                                                                                                                                      \n",
      "Val Loss: 0.9531: 100%|██████████| 3/3 [00:08<00:00,  2.90s/it]                                                                                                                                                                                              \n"
     ]
    },
    {
     "name": "stdout",
     "output_type": "stream",
     "text": [
      "Threshold : 0.20\tFBeta : 0.247522\n",
      "Threshold : 0.25\tFBeta : 0.249103\n",
      "Threshold : 0.30\tFBeta : 0.250556\n",
      "Threshold : 0.35\tFBeta : 0.251843\n",
      "Threshold : 0.40\tFBeta : 0.253097\n",
      "Threshold : 0.45\tFBeta : 0.254320\n",
      "Threshold : 0.50\tFBeta : 0.255557\n",
      "Threshold : 0.55\tFBeta : 0.256904\n",
      "Threshold : 0.60\tFBeta : 0.258301\n",
      "Threshold : 0.65\tFBeta : 0.259781\n",
      "Threshold : 0.70\tFBeta : 0.261346\n",
      "Threshold : 0.75\tFBeta : 0.262932\n",
      "Threshold : 0.80\tFBeta : 0.264959\n",
      "\n"
     ]
    },
    {
     "name": "stderr",
     "output_type": "stream",
     "text": [
      "Epoch 469/500  Mem : 19.8GB  LR : 9.91E-05  Loss: 0.1964: 100%|██████████| 8/8 [00:31<00:00,  3.97s/it]                                                                                                                                                      \n",
      "Val Loss: 0.6213: 100%|██████████| 3/3 [00:08<00:00,  2.86s/it]                                                                                                                                                                                              \n"
     ]
    },
    {
     "name": "stdout",
     "output_type": "stream",
     "text": [
      "Threshold : 0.20\tFBeta : 0.297156\n",
      "Threshold : 0.25\tFBeta : 0.301270\n",
      "Threshold : 0.30\tFBeta : 0.304711\n",
      "Threshold : 0.35\tFBeta : 0.307566\n",
      "Threshold : 0.40\tFBeta : 0.310076\n",
      "Threshold : 0.45\tFBeta : 0.312428\n",
      "Threshold : 0.50\tFBeta : 0.314666\n",
      "Threshold : 0.55\tFBeta : 0.316743\n",
      "Threshold : 0.60\tFBeta : 0.318694\n",
      "Threshold : 0.65\tFBeta : 0.320737\n",
      "Threshold : 0.70\tFBeta : 0.323078\n",
      "Threshold : 0.75\tFBeta : 0.325638\n",
      "Threshold : 0.80\tFBeta : 0.328118\n",
      "\n"
     ]
    },
    {
     "name": "stderr",
     "output_type": "stream",
     "text": [
      "Epoch 470/500  Mem : 19.8GB  LR : 9.91E-05  Loss: 0.1880: 100%|██████████| 8/8 [00:31<00:00,  3.89s/it]                                                                                                                                                      \n",
      "Val Loss: 0.7528: 100%|██████████| 3/3 [00:08<00:00,  2.86s/it]                                                                                                                                                                                              \n"
     ]
    },
    {
     "name": "stdout",
     "output_type": "stream",
     "text": [
      "Threshold : 0.20\tFBeta : 0.269086\n",
      "Threshold : 0.25\tFBeta : 0.271586\n",
      "Threshold : 0.30\tFBeta : 0.273893\n",
      "Threshold : 0.35\tFBeta : 0.275762\n",
      "Threshold : 0.40\tFBeta : 0.277561\n",
      "Threshold : 0.45\tFBeta : 0.279198\n",
      "Threshold : 0.50\tFBeta : 0.280744\n",
      "Threshold : 0.55\tFBeta : 0.282183\n",
      "Threshold : 0.60\tFBeta : 0.283779\n",
      "Threshold : 0.65\tFBeta : 0.285634\n",
      "Threshold : 0.70\tFBeta : 0.287736\n",
      "Threshold : 0.75\tFBeta : 0.290030\n",
      "Threshold : 0.80\tFBeta : 0.292888\n",
      "\n"
     ]
    },
    {
     "name": "stderr",
     "output_type": "stream",
     "text": [
      "Epoch 471/500  Mem : 19.8GB  LR : 9.92E-05  Loss: 0.1756: 100%|██████████| 8/8 [00:31<00:00,  3.91s/it]                                                                                                                                                      \n",
      "Val Loss: 0.7125: 100%|██████████| 3/3 [00:08<00:00,  2.85s/it]                                                                                                                                                                                              \n"
     ]
    },
    {
     "name": "stdout",
     "output_type": "stream",
     "text": [
      "Threshold : 0.20\tFBeta : 0.277034\n",
      "Threshold : 0.25\tFBeta : 0.279862\n",
      "Threshold : 0.30\tFBeta : 0.282439\n",
      "Threshold : 0.35\tFBeta : 0.284825\n",
      "Threshold : 0.40\tFBeta : 0.287056\n",
      "Threshold : 0.45\tFBeta : 0.289378\n",
      "Threshold : 0.50\tFBeta : 0.291717\n",
      "Threshold : 0.55\tFBeta : 0.294137\n",
      "Threshold : 0.60\tFBeta : 0.296562\n",
      "Threshold : 0.65\tFBeta : 0.298876\n",
      "Threshold : 0.70\tFBeta : 0.301310\n",
      "Threshold : 0.75\tFBeta : 0.304023\n",
      "Threshold : 0.80\tFBeta : 0.307617\n",
      "\n"
     ]
    },
    {
     "name": "stderr",
     "output_type": "stream",
     "text": [
      "Epoch 472/500  Mem : 19.8GB  LR : 9.93E-05  Loss: 0.1789: 100%|██████████| 8/8 [00:31<00:00,  3.99s/it]                                                                                                                                                      \n",
      "Val Loss: 0.8742: 100%|██████████| 3/3 [00:08<00:00,  2.86s/it]                                                                                                                                                                                              \n"
     ]
    },
    {
     "name": "stdout",
     "output_type": "stream",
     "text": [
      "Threshold : 0.20\tFBeta : 0.256016\n",
      "Threshold : 0.25\tFBeta : 0.258374\n",
      "Threshold : 0.30\tFBeta : 0.260456\n",
      "Threshold : 0.35\tFBeta : 0.262306\n",
      "Threshold : 0.40\tFBeta : 0.264046\n",
      "Threshold : 0.45\tFBeta : 0.265783\n",
      "Threshold : 0.50\tFBeta : 0.267529\n",
      "Threshold : 0.55\tFBeta : 0.269329\n",
      "Threshold : 0.60\tFBeta : 0.271281\n",
      "Threshold : 0.65\tFBeta : 0.273346\n",
      "Threshold : 0.70\tFBeta : 0.275498\n",
      "Threshold : 0.75\tFBeta : 0.277705\n",
      "Threshold : 0.80\tFBeta : 0.279975\n",
      "\n"
     ]
    },
    {
     "name": "stderr",
     "output_type": "stream",
     "text": [
      "Epoch 473/500  Mem : 19.8GB  LR : 9.93E-05  Loss: 0.1826: 100%|██████████| 8/8 [00:31<00:00,  3.89s/it]                                                                                                                                                      \n",
      "Val Loss: 0.5786: 100%|██████████| 3/3 [00:08<00:00,  2.85s/it]                                                                                                                                                                                              \n"
     ]
    },
    {
     "name": "stdout",
     "output_type": "stream",
     "text": [
      "Threshold : 0.20\tFBeta : 0.305072\n",
      "Threshold : 0.25\tFBeta : 0.309335\n",
      "Threshold : 0.30\tFBeta : 0.311949\n",
      "Threshold : 0.35\tFBeta : 0.314356\n",
      "Threshold : 0.40\tFBeta : 0.316932\n",
      "Threshold : 0.45\tFBeta : 0.319271\n",
      "Threshold : 0.50\tFBeta : 0.321371\n",
      "Threshold : 0.55\tFBeta : 0.323435\n",
      "Threshold : 0.60\tFBeta : 0.325051\n",
      "Threshold : 0.65\tFBeta : 0.327015\n",
      "Threshold : 0.70\tFBeta : 0.329413\n",
      "Threshold : 0.75\tFBeta : 0.332016\n",
      "Threshold : 0.80\tFBeta : 0.334641\n",
      "\n"
     ]
    },
    {
     "name": "stderr",
     "output_type": "stream",
     "text": [
      "Epoch 474/500  Mem : 19.8GB  LR : 9.94E-05  Loss: 0.1703: 100%|██████████| 8/8 [00:32<00:00,  4.02s/it]                                                                                                                                                      \n",
      "Val Loss: 0.9068: 100%|██████████| 3/3 [00:08<00:00,  2.86s/it]                                                                                                                                                                                              \n"
     ]
    },
    {
     "name": "stdout",
     "output_type": "stream",
     "text": [
      "Threshold : 0.20\tFBeta : 0.251315\n",
      "Threshold : 0.25\tFBeta : 0.253611\n",
      "Threshold : 0.30\tFBeta : 0.255611\n",
      "Threshold : 0.35\tFBeta : 0.257413\n",
      "Threshold : 0.40\tFBeta : 0.259078\n",
      "Threshold : 0.45\tFBeta : 0.260651\n",
      "Threshold : 0.50\tFBeta : 0.262143\n",
      "Threshold : 0.55\tFBeta : 0.263722\n",
      "Threshold : 0.60\tFBeta : 0.265358\n",
      "Threshold : 0.65\tFBeta : 0.267110\n",
      "Threshold : 0.70\tFBeta : 0.269113\n",
      "Threshold : 0.75\tFBeta : 0.271417\n",
      "Threshold : 0.80\tFBeta : 0.274334\n",
      "\n"
     ]
    },
    {
     "name": "stderr",
     "output_type": "stream",
     "text": [
      "Epoch 475/500  Mem : 19.8GB  LR : 9.94E-05  Loss: 0.1717: 100%|██████████| 8/8 [00:30<00:00,  3.83s/it]                                                                                                                                                      \n",
      "Val Loss: 0.7960: 100%|██████████| 3/3 [00:08<00:00,  2.86s/it]                                                                                                                                                                                              \n"
     ]
    },
    {
     "name": "stdout",
     "output_type": "stream",
     "text": [
      "Threshold : 0.20\tFBeta : 0.258545\n",
      "Threshold : 0.25\tFBeta : 0.260305\n",
      "Threshold : 0.30\tFBeta : 0.261793\n",
      "Threshold : 0.35\tFBeta : 0.263216\n",
      "Threshold : 0.40\tFBeta : 0.264578\n",
      "Threshold : 0.45\tFBeta : 0.265906\n",
      "Threshold : 0.50\tFBeta : 0.267168\n",
      "Threshold : 0.55\tFBeta : 0.268534\n",
      "Threshold : 0.60\tFBeta : 0.269959\n",
      "Threshold : 0.65\tFBeta : 0.271419\n",
      "Threshold : 0.70\tFBeta : 0.272894\n",
      "Threshold : 0.75\tFBeta : 0.274540\n",
      "Threshold : 0.80\tFBeta : 0.276617\n",
      "\n"
     ]
    },
    {
     "name": "stderr",
     "output_type": "stream",
     "text": [
      "Epoch 476/500  Mem : 19.8GB  LR : 9.95E-05  Loss: 0.1811: 100%|██████████| 8/8 [00:31<00:00,  3.88s/it]                                                                                                                                                      \n",
      "Val Loss: 0.9189: 100%|██████████| 3/3 [00:08<00:00,  2.86s/it]                                                                                                                                                                                              \n"
     ]
    },
    {
     "name": "stdout",
     "output_type": "stream",
     "text": [
      "Threshold : 0.20\tFBeta : 0.247297\n",
      "Threshold : 0.25\tFBeta : 0.249073\n",
      "Threshold : 0.30\tFBeta : 0.250639\n",
      "Threshold : 0.35\tFBeta : 0.251952\n",
      "Threshold : 0.40\tFBeta : 0.253078\n",
      "Threshold : 0.45\tFBeta : 0.254112\n",
      "Threshold : 0.50\tFBeta : 0.255187\n",
      "Threshold : 0.55\tFBeta : 0.256304\n",
      "Threshold : 0.60\tFBeta : 0.257422\n",
      "Threshold : 0.65\tFBeta : 0.258809\n",
      "Threshold : 0.70\tFBeta : 0.260457\n",
      "Threshold : 0.75\tFBeta : 0.262316\n",
      "Threshold : 0.80\tFBeta : 0.264793\n",
      "\n"
     ]
    },
    {
     "name": "stderr",
     "output_type": "stream",
     "text": [
      "Epoch 477/500  Mem : 19.8GB  LR : 9.95E-05  Loss: 0.1889: 100%|██████████| 8/8 [00:31<00:00,  3.96s/it]                                                                                                                                                      \n",
      "Val Loss: 0.9174: 100%|██████████| 3/3 [00:08<00:00,  2.86s/it]                                                                                                                                                                                              \n"
     ]
    },
    {
     "name": "stdout",
     "output_type": "stream",
     "text": [
      "Threshold : 0.20\tFBeta : 0.262916\n",
      "Threshold : 0.25\tFBeta : 0.265593\n",
      "Threshold : 0.30\tFBeta : 0.268018\n",
      "Threshold : 0.35\tFBeta : 0.270294\n",
      "Threshold : 0.40\tFBeta : 0.272492\n",
      "Threshold : 0.45\tFBeta : 0.274633\n",
      "Threshold : 0.50\tFBeta : 0.276820\n",
      "Threshold : 0.55\tFBeta : 0.279069\n",
      "Threshold : 0.60\tFBeta : 0.281410\n",
      "Threshold : 0.65\tFBeta : 0.283940\n",
      "Threshold : 0.70\tFBeta : 0.286642\n",
      "Threshold : 0.75\tFBeta : 0.289703\n",
      "Threshold : 0.80\tFBeta : 0.293570\n",
      "\n"
     ]
    },
    {
     "name": "stderr",
     "output_type": "stream",
     "text": [
      "Epoch 478/500  Mem : 19.8GB  LR : 9.95E-05  Loss: 0.1802: 100%|██████████| 8/8 [00:31<00:00,  3.96s/it]                                                                                                                                                      \n",
      "Val Loss: 0.8363: 100%|██████████| 3/3 [00:08<00:00,  2.86s/it]                                                                                                                                                                                              \n"
     ]
    },
    {
     "name": "stdout",
     "output_type": "stream",
     "text": [
      "Threshold : 0.20\tFBeta : 0.272304\n",
      "Threshold : 0.25\tFBeta : 0.274706\n",
      "Threshold : 0.30\tFBeta : 0.276967\n",
      "Threshold : 0.35\tFBeta : 0.279123\n",
      "Threshold : 0.40\tFBeta : 0.281115\n",
      "Threshold : 0.45\tFBeta : 0.283164\n",
      "Threshold : 0.50\tFBeta : 0.285253\n",
      "Threshold : 0.55\tFBeta : 0.287356\n",
      "Threshold : 0.60\tFBeta : 0.289504\n",
      "Threshold : 0.65\tFBeta : 0.291725\n",
      "Threshold : 0.70\tFBeta : 0.293780\n",
      "Threshold : 0.75\tFBeta : 0.296074\n",
      "Threshold : 0.80\tFBeta : 0.298789\n",
      "\n"
     ]
    },
    {
     "name": "stderr",
     "output_type": "stream",
     "text": [
      "Epoch 479/500  Mem : 19.8GB  LR : 9.96E-05  Loss: 0.1967: 100%|██████████| 8/8 [00:31<00:00,  3.97s/it]                                                                                                                                                      \n",
      "Val Loss: 1.1654: 100%|██████████| 3/3 [00:08<00:00,  2.85s/it]                                                                                                                                                                                              \n"
     ]
    },
    {
     "name": "stdout",
     "output_type": "stream",
     "text": [
      "Threshold : 0.20\tFBeta : 0.252394\n",
      "Threshold : 0.25\tFBeta : 0.253752\n",
      "Threshold : 0.30\tFBeta : 0.255010\n",
      "Threshold : 0.35\tFBeta : 0.256157\n",
      "Threshold : 0.40\tFBeta : 0.257269\n",
      "Threshold : 0.45\tFBeta : 0.258427\n",
      "Threshold : 0.50\tFBeta : 0.259597\n",
      "Threshold : 0.55\tFBeta : 0.260793\n",
      "Threshold : 0.60\tFBeta : 0.261976\n",
      "Threshold : 0.65\tFBeta : 0.263247\n",
      "Threshold : 0.70\tFBeta : 0.264603\n",
      "Threshold : 0.75\tFBeta : 0.266123\n",
      "Threshold : 0.80\tFBeta : 0.267806\n",
      "\n"
     ]
    },
    {
     "name": "stderr",
     "output_type": "stream",
     "text": [
      "Epoch 480/500  Mem : 19.8GB  LR : 9.96E-05  Loss: 0.1865: 100%|██████████| 8/8 [00:31<00:00,  3.94s/it]                                                                                                                                                      \n",
      "Val Loss: 0.5614: 100%|██████████| 3/3 [00:08<00:00,  2.91s/it]                                                                                                                                                                                              \n"
     ]
    },
    {
     "name": "stdout",
     "output_type": "stream",
     "text": [
      "Threshold : 0.20\tFBeta : 0.317688\n",
      "Threshold : 0.25\tFBeta : 0.322308\n",
      "Threshold : 0.30\tFBeta : 0.326697\n",
      "Threshold : 0.35\tFBeta : 0.330801\n",
      "Threshold : 0.40\tFBeta : 0.334782\n",
      "Threshold : 0.45\tFBeta : 0.338459\n",
      "Threshold : 0.50\tFBeta : 0.342050\n",
      "Threshold : 0.55\tFBeta : 0.345486\n",
      "Threshold : 0.60\tFBeta : 0.348898\n",
      "Threshold : 0.65\tFBeta : 0.352486\n",
      "Threshold : 0.70\tFBeta : 0.356073\n",
      "Threshold : 0.75\tFBeta : 0.359351\n",
      "Threshold : 0.80\tFBeta : 0.362780\n",
      "\n"
     ]
    },
    {
     "name": "stderr",
     "output_type": "stream",
     "text": [
      "Epoch 481/500  Mem : 19.8GB  LR : 9.97E-05  Loss: 0.1726: 100%|██████████| 8/8 [00:31<00:00,  3.96s/it]                                                                                                                                                      \n",
      "Val Loss: 1.0942: 100%|██████████| 3/3 [00:08<00:00,  2.86s/it]                                                                                                                                                                                              \n"
     ]
    },
    {
     "name": "stdout",
     "output_type": "stream",
     "text": [
      "Threshold : 0.20\tFBeta : 0.250104\n",
      "Threshold : 0.25\tFBeta : 0.251471\n",
      "Threshold : 0.30\tFBeta : 0.252703\n",
      "Threshold : 0.35\tFBeta : 0.253914\n",
      "Threshold : 0.40\tFBeta : 0.255126\n",
      "Threshold : 0.45\tFBeta : 0.256322\n",
      "Threshold : 0.50\tFBeta : 0.257476\n",
      "Threshold : 0.55\tFBeta : 0.258717\n",
      "Threshold : 0.60\tFBeta : 0.260034\n",
      "Threshold : 0.65\tFBeta : 0.261478\n",
      "Threshold : 0.70\tFBeta : 0.263132\n",
      "Threshold : 0.75\tFBeta : 0.265019\n",
      "Threshold : 0.80\tFBeta : 0.267362\n",
      "\n"
     ]
    },
    {
     "name": "stderr",
     "output_type": "stream",
     "text": [
      "Epoch 482/500  Mem : 19.8GB  LR : 9.97E-05  Loss: 0.1698: 100%|██████████| 8/8 [00:31<00:00,  3.99s/it]                                                                                                                                                      \n",
      "Val Loss: 0.7462: 100%|██████████| 3/3 [00:08<00:00,  2.88s/it]                                                                                                                                                                                              \n"
     ]
    },
    {
     "name": "stdout",
     "output_type": "stream",
     "text": [
      "Threshold : 0.20\tFBeta : 0.261750\n",
      "Threshold : 0.25\tFBeta : 0.263635\n",
      "Threshold : 0.30\tFBeta : 0.265196\n",
      "Threshold : 0.35\tFBeta : 0.266659\n",
      "Threshold : 0.40\tFBeta : 0.268029\n",
      "Threshold : 0.45\tFBeta : 0.269478\n",
      "Threshold : 0.50\tFBeta : 0.270877\n",
      "Threshold : 0.55\tFBeta : 0.272110\n",
      "Threshold : 0.60\tFBeta : 0.273310\n",
      "Threshold : 0.65\tFBeta : 0.274660\n",
      "Threshold : 0.70\tFBeta : 0.276118\n",
      "Threshold : 0.75\tFBeta : 0.278054\n",
      "Threshold : 0.80\tFBeta : 0.280384\n",
      "\n"
     ]
    },
    {
     "name": "stderr",
     "output_type": "stream",
     "text": [
      "Epoch 483/500  Mem : 19.8GB  LR : 9.97E-05  Loss: 0.1742: 100%|██████████| 8/8 [00:31<00:00,  3.98s/it]                                                                                                                                                      \n",
      "Val Loss: 0.7604: 100%|██████████| 3/3 [00:08<00:00,  2.90s/it]                                                                                                                                                                                              \n"
     ]
    },
    {
     "name": "stdout",
     "output_type": "stream",
     "text": [
      "Threshold : 0.20\tFBeta : 0.269349\n",
      "Threshold : 0.25\tFBeta : 0.271962\n",
      "Threshold : 0.30\tFBeta : 0.274176\n",
      "Threshold : 0.35\tFBeta : 0.276342\n",
      "Threshold : 0.40\tFBeta : 0.278389\n",
      "Threshold : 0.45\tFBeta : 0.280229\n",
      "Threshold : 0.50\tFBeta : 0.281831\n",
      "Threshold : 0.55\tFBeta : 0.283390\n",
      "Threshold : 0.60\tFBeta : 0.285052\n",
      "Threshold : 0.65\tFBeta : 0.286604\n",
      "Threshold : 0.70\tFBeta : 0.288308\n",
      "Threshold : 0.75\tFBeta : 0.290248\n",
      "Threshold : 0.80\tFBeta : 0.292286\n",
      "\n"
     ]
    },
    {
     "name": "stderr",
     "output_type": "stream",
     "text": [
      "Epoch 484/500  Mem : 19.8GB  LR : 9.98E-05  Loss: 0.1807: 100%|██████████| 8/8 [00:30<00:00,  3.79s/it]                                                                                                                                                      \n",
      "Val Loss: 0.6150: 100%|██████████| 3/3 [00:08<00:00,  2.90s/it]                                                                                                                                                                                              \n"
     ]
    },
    {
     "name": "stdout",
     "output_type": "stream",
     "text": [
      "Threshold : 0.20\tFBeta : 0.283951\n",
      "Threshold : 0.25\tFBeta : 0.287046\n",
      "Threshold : 0.30\tFBeta : 0.289742\n",
      "Threshold : 0.35\tFBeta : 0.292063\n",
      "Threshold : 0.40\tFBeta : 0.294216\n",
      "Threshold : 0.45\tFBeta : 0.296251\n",
      "Threshold : 0.50\tFBeta : 0.298320\n",
      "Threshold : 0.55\tFBeta : 0.300540\n",
      "Threshold : 0.60\tFBeta : 0.302661\n",
      "Threshold : 0.65\tFBeta : 0.304736\n",
      "Threshold : 0.70\tFBeta : 0.306364\n",
      "Threshold : 0.75\tFBeta : 0.307273\n",
      "Threshold : 0.80\tFBeta : 0.308370\n",
      "\n"
     ]
    },
    {
     "name": "stderr",
     "output_type": "stream",
     "text": [
      "Epoch 485/500  Mem : 19.8GB  LR : 9.98E-05  Loss: 0.1706: 100%|██████████| 8/8 [00:30<00:00,  3.84s/it]                                                                                                                                                      \n",
      "Val Loss: 0.6186: 100%|██████████| 3/3 [00:08<00:00,  2.86s/it]                                                                                                                                                                                              \n"
     ]
    },
    {
     "name": "stdout",
     "output_type": "stream",
     "text": [
      "Threshold : 0.20\tFBeta : 0.278481\n",
      "Threshold : 0.25\tFBeta : 0.281977\n",
      "Threshold : 0.30\tFBeta : 0.284709\n",
      "Threshold : 0.35\tFBeta : 0.287338\n",
      "Threshold : 0.40\tFBeta : 0.289578\n",
      "Threshold : 0.45\tFBeta : 0.291729\n",
      "Threshold : 0.50\tFBeta : 0.293705\n",
      "Threshold : 0.55\tFBeta : 0.295700\n",
      "Threshold : 0.60\tFBeta : 0.297666\n",
      "Threshold : 0.65\tFBeta : 0.299741\n",
      "Threshold : 0.70\tFBeta : 0.302018\n",
      "Threshold : 0.75\tFBeta : 0.304333\n",
      "Threshold : 0.80\tFBeta : 0.306244\n",
      "\n"
     ]
    },
    {
     "name": "stderr",
     "output_type": "stream",
     "text": [
      "Epoch 486/500  Mem : 19.8GB  LR : 9.98E-05  Loss: 0.1776: 100%|██████████| 8/8 [00:31<00:00,  3.98s/it]                                                                                                                                                      \n",
      "Val Loss: 0.7950: 100%|██████████| 3/3 [00:08<00:00,  2.90s/it]                                                                                                                                                                                              \n"
     ]
    },
    {
     "name": "stdout",
     "output_type": "stream",
     "text": [
      "Threshold : 0.20\tFBeta : 0.261075\n",
      "Threshold : 0.25\tFBeta : 0.262354\n",
      "Threshold : 0.30\tFBeta : 0.263309\n",
      "Threshold : 0.35\tFBeta : 0.264171\n",
      "Threshold : 0.40\tFBeta : 0.264908\n",
      "Threshold : 0.45\tFBeta : 0.265564\n",
      "Threshold : 0.50\tFBeta : 0.266129\n",
      "Threshold : 0.55\tFBeta : 0.266755\n",
      "Threshold : 0.60\tFBeta : 0.267354\n",
      "Threshold : 0.65\tFBeta : 0.267917\n",
      "Threshold : 0.70\tFBeta : 0.268502\n",
      "Threshold : 0.75\tFBeta : 0.269267\n",
      "Threshold : 0.80\tFBeta : 0.269886\n",
      "\n"
     ]
    },
    {
     "name": "stderr",
     "output_type": "stream",
     "text": [
      "Epoch 487/500  Mem : 19.8GB  LR : 9.98E-05  Loss: 0.1848: 100%|██████████| 8/8 [00:31<00:00,  3.90s/it]                                                                                                                                                      \n",
      "Val Loss: 1.1040: 100%|██████████| 3/3 [00:08<00:00,  2.86s/it]                                                                                                                                                                                              \n"
     ]
    },
    {
     "name": "stdout",
     "output_type": "stream",
     "text": [
      "Threshold : 0.20\tFBeta : 0.250759\n",
      "Threshold : 0.25\tFBeta : 0.251915\n",
      "Threshold : 0.30\tFBeta : 0.252918\n",
      "Threshold : 0.35\tFBeta : 0.253916\n",
      "Threshold : 0.40\tFBeta : 0.254920\n",
      "Threshold : 0.45\tFBeta : 0.255961\n",
      "Threshold : 0.50\tFBeta : 0.257002\n",
      "Threshold : 0.55\tFBeta : 0.258070\n",
      "Threshold : 0.60\tFBeta : 0.259124\n",
      "Threshold : 0.65\tFBeta : 0.260160\n",
      "Threshold : 0.70\tFBeta : 0.261365\n",
      "Threshold : 0.75\tFBeta : 0.262740\n",
      "Threshold : 0.80\tFBeta : 0.264206\n",
      "\n"
     ]
    },
    {
     "name": "stderr",
     "output_type": "stream",
     "text": [
      "Epoch 488/500  Mem : 19.8GB  LR : 9.99E-05  Loss: 0.1779: 100%|██████████| 8/8 [00:30<00:00,  3.80s/it]                                                                                                                                                      \n",
      "Val Loss: 0.6594: 100%|██████████| 3/3 [00:08<00:00,  2.85s/it]                                                                                                                                                                                              \n"
     ]
    },
    {
     "name": "stdout",
     "output_type": "stream",
     "text": [
      "Threshold : 0.20\tFBeta : 0.285967\n",
      "Threshold : 0.25\tFBeta : 0.288829\n",
      "Threshold : 0.30\tFBeta : 0.291318\n",
      "Threshold : 0.35\tFBeta : 0.293518\n",
      "Threshold : 0.40\tFBeta : 0.295546\n",
      "Threshold : 0.45\tFBeta : 0.297474\n",
      "Threshold : 0.50\tFBeta : 0.299412\n",
      "Threshold : 0.55\tFBeta : 0.301486\n",
      "Threshold : 0.60\tFBeta : 0.303689\n",
      "Threshold : 0.65\tFBeta : 0.305938\n",
      "Threshold : 0.70\tFBeta : 0.308297\n",
      "Threshold : 0.75\tFBeta : 0.310929\n",
      "Threshold : 0.80\tFBeta : 0.314005\n",
      "\n"
     ]
    },
    {
     "name": "stderr",
     "output_type": "stream",
     "text": [
      "Epoch 489/500  Mem : 19.8GB  LR : 9.99E-05  Loss: 0.1823: 100%|██████████| 8/8 [00:31<00:00,  3.93s/it]                                                                                                                                                      \n",
      "Val Loss: 0.7013: 100%|██████████| 3/3 [00:08<00:00,  2.87s/it]                                                                                                                                                                                              \n"
     ]
    },
    {
     "name": "stdout",
     "output_type": "stream",
     "text": [
      "Threshold : 0.20\tFBeta : 0.272447\n",
      "Threshold : 0.25\tFBeta : 0.274641\n",
      "Threshold : 0.30\tFBeta : 0.276766\n",
      "Threshold : 0.35\tFBeta : 0.278687\n",
      "Threshold : 0.40\tFBeta : 0.280439\n",
      "Threshold : 0.45\tFBeta : 0.282212\n",
      "Threshold : 0.50\tFBeta : 0.283783\n",
      "Threshold : 0.55\tFBeta : 0.285390\n",
      "Threshold : 0.60\tFBeta : 0.286991\n",
      "Threshold : 0.65\tFBeta : 0.288778\n",
      "Threshold : 0.70\tFBeta : 0.290885\n",
      "Threshold : 0.75\tFBeta : 0.292988\n",
      "Threshold : 0.80\tFBeta : 0.295073\n",
      "\n"
     ]
    },
    {
     "name": "stderr",
     "output_type": "stream",
     "text": [
      "Epoch 490/500  Mem : 19.8GB  LR : 9.99E-05  Loss: 0.1690: 100%|██████████| 8/8 [00:30<00:00,  3.84s/it]                                                                                                                                                      \n",
      "Val Loss: 0.9757: 100%|██████████| 3/3 [00:08<00:00,  2.91s/it]                                                                                                                                                                                              \n"
     ]
    },
    {
     "name": "stdout",
     "output_type": "stream",
     "text": [
      "Threshold : 0.20\tFBeta : 0.254164\n",
      "Threshold : 0.25\tFBeta : 0.255596\n",
      "Threshold : 0.30\tFBeta : 0.256927\n",
      "Threshold : 0.35\tFBeta : 0.258175\n",
      "Threshold : 0.40\tFBeta : 0.259420\n",
      "Threshold : 0.45\tFBeta : 0.260596\n",
      "Threshold : 0.50\tFBeta : 0.261779\n",
      "Threshold : 0.55\tFBeta : 0.263091\n",
      "Threshold : 0.60\tFBeta : 0.264451\n",
      "Threshold : 0.65\tFBeta : 0.265788\n",
      "Threshold : 0.70\tFBeta : 0.267139\n",
      "Threshold : 0.75\tFBeta : 0.268707\n",
      "Threshold : 0.80\tFBeta : 0.270574\n",
      "\n"
     ]
    },
    {
     "name": "stderr",
     "output_type": "stream",
     "text": [
      "Epoch 491/500  Mem : 19.8GB  LR : 9.99E-05  Loss: 0.1726: 100%|██████████| 8/8 [00:30<00:00,  3.83s/it]                                                                                                                                                      \n",
      "Val Loss: 0.6007: 100%|██████████| 3/3 [00:08<00:00,  2.87s/it]                                                                                                                                                                                              \n"
     ]
    },
    {
     "name": "stdout",
     "output_type": "stream",
     "text": [
      "Threshold : 0.20\tFBeta : 0.308156\n",
      "Threshold : 0.25\tFBeta : 0.312037\n",
      "Threshold : 0.30\tFBeta : 0.315089\n",
      "Threshold : 0.35\tFBeta : 0.317787\n",
      "Threshold : 0.40\tFBeta : 0.320247\n",
      "Threshold : 0.45\tFBeta : 0.322340\n",
      "Threshold : 0.50\tFBeta : 0.324012\n",
      "Threshold : 0.55\tFBeta : 0.325266\n",
      "Threshold : 0.60\tFBeta : 0.326232\n",
      "Threshold : 0.65\tFBeta : 0.327087\n",
      "Threshold : 0.70\tFBeta : 0.328197\n",
      "Threshold : 0.75\tFBeta : 0.329614\n",
      "Threshold : 0.80\tFBeta : 0.331050\n",
      "\n"
     ]
    },
    {
     "name": "stderr",
     "output_type": "stream",
     "text": [
      "Epoch 492/500  Mem : 19.8GB  LR : 9.99E-05  Loss: 0.1719: 100%|██████████| 8/8 [00:30<00:00,  3.87s/it]                                                                                                                                                      \n",
      "Val Loss: 0.9505: 100%|██████████| 3/3 [00:08<00:00,  2.88s/it]                                                                                                                                                                                              \n"
     ]
    },
    {
     "name": "stdout",
     "output_type": "stream",
     "text": [
      "Threshold : 0.20\tFBeta : 0.265271\n",
      "Threshold : 0.25\tFBeta : 0.267682\n",
      "Threshold : 0.30\tFBeta : 0.269814\n",
      "Threshold : 0.35\tFBeta : 0.271751\n",
      "Threshold : 0.40\tFBeta : 0.273585\n",
      "Threshold : 0.45\tFBeta : 0.275438\n",
      "Threshold : 0.50\tFBeta : 0.277288\n",
      "Threshold : 0.55\tFBeta : 0.279161\n",
      "Threshold : 0.60\tFBeta : 0.281127\n",
      "Threshold : 0.65\tFBeta : 0.283262\n",
      "Threshold : 0.70\tFBeta : 0.285547\n",
      "Threshold : 0.75\tFBeta : 0.287951\n",
      "Threshold : 0.80\tFBeta : 0.290840\n",
      "\n"
     ]
    },
    {
     "name": "stderr",
     "output_type": "stream",
     "text": [
      "Epoch 493/500  Mem : 19.8GB  LR : 1.00E-04  Loss: 0.1789: 100%|██████████| 8/8 [00:31<00:00,  3.96s/it]                                                                                                                                                      \n",
      "Val Loss: 0.7703: 100%|██████████| 3/3 [00:08<00:00,  2.86s/it]                                                                                                                                                                                              \n"
     ]
    },
    {
     "name": "stdout",
     "output_type": "stream",
     "text": [
      "Threshold : 0.20\tFBeta : 0.270821\n",
      "Threshold : 0.25\tFBeta : 0.273686\n",
      "Threshold : 0.30\tFBeta : 0.276176\n",
      "Threshold : 0.35\tFBeta : 0.278416\n",
      "Threshold : 0.40\tFBeta : 0.280564\n",
      "Threshold : 0.45\tFBeta : 0.282684\n",
      "Threshold : 0.50\tFBeta : 0.284613\n",
      "Threshold : 0.55\tFBeta : 0.286603\n",
      "Threshold : 0.60\tFBeta : 0.288588\n",
      "Threshold : 0.65\tFBeta : 0.290631\n",
      "Threshold : 0.70\tFBeta : 0.292850\n",
      "Threshold : 0.75\tFBeta : 0.295359\n",
      "Threshold : 0.80\tFBeta : 0.298001\n",
      "\n"
     ]
    },
    {
     "name": "stderr",
     "output_type": "stream",
     "text": [
      "Epoch 494/500  Mem : 19.8GB  LR : 1.00E-04  Loss: 0.1783: 100%|██████████| 8/8 [00:31<00:00,  3.97s/it]                                                                                                                                                      \n",
      "Val Loss: 0.6903: 100%|██████████| 3/3 [00:08<00:00,  2.91s/it]                                                                                                                                                                                              \n"
     ]
    },
    {
     "name": "stdout",
     "output_type": "stream",
     "text": [
      "Threshold : 0.20\tFBeta : 0.279032\n",
      "Threshold : 0.25\tFBeta : 0.281480\n",
      "Threshold : 0.30\tFBeta : 0.283745\n",
      "Threshold : 0.35\tFBeta : 0.285966\n",
      "Threshold : 0.40\tFBeta : 0.288096\n",
      "Threshold : 0.45\tFBeta : 0.290142\n",
      "Threshold : 0.50\tFBeta : 0.291959\n",
      "Threshold : 0.55\tFBeta : 0.293653\n",
      "Threshold : 0.60\tFBeta : 0.295351\n",
      "Threshold : 0.65\tFBeta : 0.297068\n",
      "Threshold : 0.70\tFBeta : 0.298817\n",
      "Threshold : 0.75\tFBeta : 0.300644\n",
      "Threshold : 0.80\tFBeta : 0.302784\n",
      "\n"
     ]
    },
    {
     "name": "stderr",
     "output_type": "stream",
     "text": [
      "Epoch 495/500  Mem : 19.8GB  LR : 1.00E-04  Loss: 0.1732: 100%|██████████| 8/8 [00:30<00:00,  3.78s/it]                                                                                                                                                      \n",
      "Val Loss: 0.9732: 100%|██████████| 3/3 [00:08<00:00,  2.85s/it]                                                                                                                                                                                              \n"
     ]
    },
    {
     "name": "stdout",
     "output_type": "stream",
     "text": [
      "Threshold : 0.20\tFBeta : 0.256986\n",
      "Threshold : 0.25\tFBeta : 0.258540\n",
      "Threshold : 0.30\tFBeta : 0.259819\n",
      "Threshold : 0.35\tFBeta : 0.261087\n",
      "Threshold : 0.40\tFBeta : 0.262343\n",
      "Threshold : 0.45\tFBeta : 0.263609\n",
      "Threshold : 0.50\tFBeta : 0.264828\n",
      "Threshold : 0.55\tFBeta : 0.266142\n",
      "Threshold : 0.60\tFBeta : 0.267466\n",
      "Threshold : 0.65\tFBeta : 0.268815\n",
      "Threshold : 0.70\tFBeta : 0.270396\n",
      "Threshold : 0.75\tFBeta : 0.271989\n",
      "Threshold : 0.80\tFBeta : 0.273872\n",
      "\n"
     ]
    },
    {
     "name": "stderr",
     "output_type": "stream",
     "text": [
      "Epoch 496/500  Mem : 19.8GB  LR : 1.00E-04  Loss: 0.1785: 100%|██████████| 8/8 [00:31<00:00,  3.88s/it]                                                                                                                                                      \n",
      "Val Loss: 0.5910: 100%|██████████| 3/3 [00:08<00:00,  2.90s/it]                                                                                                                                                                                              \n"
     ]
    },
    {
     "name": "stdout",
     "output_type": "stream",
     "text": [
      "Threshold : 0.20\tFBeta : 0.307366\n",
      "Threshold : 0.25\tFBeta : 0.309976\n",
      "Threshold : 0.30\tFBeta : 0.312360\n",
      "Threshold : 0.35\tFBeta : 0.314828\n",
      "Threshold : 0.40\tFBeta : 0.317027\n",
      "Threshold : 0.45\tFBeta : 0.319079\n",
      "Threshold : 0.50\tFBeta : 0.321042\n",
      "Threshold : 0.55\tFBeta : 0.322893\n",
      "Threshold : 0.60\tFBeta : 0.324529\n",
      "Threshold : 0.65\tFBeta : 0.325893\n",
      "Threshold : 0.70\tFBeta : 0.326693\n",
      "Threshold : 0.75\tFBeta : 0.327338\n",
      "Threshold : 0.80\tFBeta : 0.328043\n",
      "\n"
     ]
    },
    {
     "name": "stderr",
     "output_type": "stream",
     "text": [
      "Epoch 497/500  Mem : 19.8GB  LR : 1.00E-04  Loss: 0.1709: 100%|██████████| 8/8 [00:31<00:00,  3.88s/it]                                                                                                                                                      \n",
      "Val Loss: 0.7252: 100%|██████████| 3/3 [00:08<00:00,  2.91s/it]                                                                                                                                                                                              \n"
     ]
    },
    {
     "name": "stdout",
     "output_type": "stream",
     "text": [
      "Threshold : 0.20\tFBeta : 0.276686\n",
      "Threshold : 0.25\tFBeta : 0.279339\n",
      "Threshold : 0.30\tFBeta : 0.281521\n",
      "Threshold : 0.35\tFBeta : 0.283540\n",
      "Threshold : 0.40\tFBeta : 0.285493\n",
      "Threshold : 0.45\tFBeta : 0.287524\n",
      "Threshold : 0.50\tFBeta : 0.289597\n",
      "Threshold : 0.55\tFBeta : 0.291798\n",
      "Threshold : 0.60\tFBeta : 0.294070\n",
      "Threshold : 0.65\tFBeta : 0.296220\n",
      "Threshold : 0.70\tFBeta : 0.298231\n",
      "Threshold : 0.75\tFBeta : 0.300488\n",
      "Threshold : 0.80\tFBeta : 0.303322\n",
      "\n"
     ]
    },
    {
     "name": "stderr",
     "output_type": "stream",
     "text": [
      "Epoch 498/500  Mem : 19.8GB  LR : 1.00E-04  Loss: 0.1661: 100%|██████████| 8/8 [00:30<00:00,  3.80s/it]                                                                                                                                                      \n",
      "Val Loss: 0.8750: 100%|██████████| 3/3 [00:08<00:00,  2.86s/it]                                                                                                                                                                                              \n"
     ]
    },
    {
     "name": "stdout",
     "output_type": "stream",
     "text": [
      "Threshold : 0.20\tFBeta : 0.254862\n",
      "Threshold : 0.25\tFBeta : 0.256496\n",
      "Threshold : 0.30\tFBeta : 0.258118\n",
      "Threshold : 0.35\tFBeta : 0.259518\n",
      "Threshold : 0.40\tFBeta : 0.260877\n",
      "Threshold : 0.45\tFBeta : 0.262209\n",
      "Threshold : 0.50\tFBeta : 0.263516\n",
      "Threshold : 0.55\tFBeta : 0.264917\n",
      "Threshold : 0.60\tFBeta : 0.266395\n",
      "Threshold : 0.65\tFBeta : 0.267939\n",
      "Threshold : 0.70\tFBeta : 0.269753\n",
      "Threshold : 0.75\tFBeta : 0.271946\n",
      "Threshold : 0.80\tFBeta : 0.274409\n",
      "\n"
     ]
    },
    {
     "name": "stderr",
     "output_type": "stream",
     "text": [
      "Epoch 499/500  Mem : 19.8GB  LR : 1.00E-04  Loss: 0.1723: 100%|██████████| 8/8 [00:31<00:00,  3.99s/it]                                                                                                                                                      \n",
      "Val Loss: 0.6033: 100%|██████████| 3/3 [00:08<00:00,  2.86s/it]                                                                                                                                                                                              \n"
     ]
    },
    {
     "name": "stdout",
     "output_type": "stream",
     "text": [
      "Threshold : 0.20\tFBeta : 0.297041\n",
      "Threshold : 0.25\tFBeta : 0.298262\n",
      "Threshold : 0.30\tFBeta : 0.299089\n",
      "Threshold : 0.35\tFBeta : 0.299453\n",
      "Threshold : 0.40\tFBeta : 0.299392\n",
      "Threshold : 0.45\tFBeta : 0.299056\n",
      "Threshold : 0.50\tFBeta : 0.298576\n",
      "Threshold : 0.55\tFBeta : 0.298075\n",
      "Threshold : 0.60\tFBeta : 0.297267\n",
      "Threshold : 0.65\tFBeta : 0.296246\n",
      "Threshold : 0.70\tFBeta : 0.294697\n",
      "Threshold : 0.75\tFBeta : 0.292380\n",
      "Threshold : 0.80\tFBeta : 0.288236\n",
      "\n"
     ]
    },
    {
     "name": "stderr",
     "output_type": "stream",
     "text": [
      "Epoch 500/500  Mem : 19.8GB  LR : 1.00E-04  Loss: 0.1673: 100%|██████████| 8/8 [00:31<00:00,  3.93s/it]                                                                                                                                                      \n",
      "Val Loss: 0.8125: 100%|██████████| 3/3 [00:08<00:00,  2.87s/it]                                                                                                                                                                                              \n"
     ]
    },
    {
     "name": "stdout",
     "output_type": "stream",
     "text": [
      "Threshold : 0.20\tFBeta : 0.270512\n",
      "Threshold : 0.25\tFBeta : 0.273473\n",
      "Threshold : 0.30\tFBeta : 0.276109\n",
      "Threshold : 0.35\tFBeta : 0.278390\n",
      "Threshold : 0.40\tFBeta : 0.280468\n",
      "Threshold : 0.45\tFBeta : 0.282445\n",
      "Threshold : 0.50\tFBeta : 0.284313\n",
      "Threshold : 0.55\tFBeta : 0.286145\n",
      "Threshold : 0.60\tFBeta : 0.288119\n",
      "Threshold : 0.65\tFBeta : 0.290147\n",
      "Threshold : 0.70\tFBeta : 0.292342\n",
      "Threshold : 0.75\tFBeta : 0.294704\n",
      "Threshold : 0.80\tFBeta : 0.297301\n",
      "\n"
     ]
    }
   ],
   "source": [
    "fbeta_best = 0.0\n",
    "for epoch in range(1, EPOCHS+1):\n",
    "    model.train()\n",
    "    cur_lr = f\"LR : {scheduler.get_last_lr()[0]:.2E}\"\n",
    "    pbar_train = enumerate(dataloader_train)\n",
    "    pbar_train = tqdm(pbar_train, total=n_train, bar_format=\"{l_bar}{bar:10}{r_bar}{bar:-10b}\")\n",
    "    mloss_train, mloss_val, val_metric = 0.0, 0.0, 0.0\n",
    "\n",
    "    \n",
    "\n",
    "\n",
    "\n",
    "\n",
    "    for i, (fragments, masks) in pbar_train:\n",
    "        fragments, masks = fragments.cuda().half(), masks.cuda().half()\n",
    "        \n",
    "        \n",
    "        optimizer.zero_grad()\n",
    "        with amp.autocast():\n",
    "            pred_masks = model(fragments)\n",
    "            loss = criterion(pred_masks, masks)\n",
    "            scaler.scale(loss).backward()\n",
    "            scaler.step(optimizer)\n",
    "            scaler.update()\n",
    "            mloss_train += loss.detach().item()\n",
    "\n",
    "        gpu_mem = f\"Mem : {torch.cuda.memory_reserved() / 1E9:.3g}GB\"\n",
    "        pbar_train.set_description((\"%10s  \" * 3 + \"%10s\") % (f\"Epoch {epoch}/{EPOCHS}\", gpu_mem, cur_lr,\n",
    "                                                              f\"Loss: {mloss_train / (i + 1):.4f}\"))\n",
    "        \n",
    "    scheduler.step()\n",
    "    model.eval()\n",
    "    pbar_val = enumerate(dataloader_valid)\n",
    "    pbar_val = tqdm(pbar_val, total=n_valid, bar_format=\"{l_bar}{bar:10}{r_bar}{bar:-10b}\")\n",
    "    final_pred_mask = torch.zeros(gt_shape, dtype=torch.float32, device='cuda')\n",
    "    \n",
    "    for i, (fragments, masks, xys) in pbar_val:\n",
    "        fragments, masks = fragments.cuda(), masks.cuda()\n",
    "        \n",
    "        with torch.no_grad():\n",
    "            pred_masks = model(fragments)\n",
    "            mloss_val += criterion(pred_masks, masks).item()\n",
    "            pred_masks = torch.sigmoid(pred_masks)\n",
    "            # upsample 3 times\n",
    "            pred_masks = F.interpolate(pred_masks, scale_factor=3, mode=\"bilinear\")\n",
    "        \n",
    "        for j, xy in enumerate(xys):\n",
    "            final_pred_mask[xy[1]:xy[3], xy[0]:xy[2]] = pred_masks[j, 0]\n",
    "\n",
    "        pbar_val.set_description((\"%10s\") % (f\"Val Loss: {mloss_val / (i+1):.4f}\"))\n",
    "    \n",
    "    for threshold in np.arange(0.2, 0.85, 0.05):\n",
    "        fbeta = fbeta_score(final_pred_mask, gt_mask, threshold)\n",
    "        print(f\"Threshold : {threshold:.2f}\\tFBeta : {fbeta:.6f}\")\n",
    "        \n",
    "        if fbeta_best < fbeta:\n",
    "            fbeta_best = fbeta\n",
    "            torch.save(model.module.state_dict(), f\"./ckpts/resnet18_3d_seg_best_{fbeta_best:.4f}.pt\")\n",
    "    \n",
    "    \n",
    "    if epoch >= 10:\n",
    "        torch.save(model.module.state_dict(), f\"./ckpts/resnet18_3d_seg_epoch_{epoch}.pt\")\n",
    "\n",
    "    # if epoch == 30:\n",
    "    #     break\n",
    "\n",
    "    print()"
   ]
  },
  {
   "cell_type": "code",
   "execution_count": 23,
   "id": "2c48f344",
   "metadata": {
    "execution": {
     "iopub.execute_input": "2023-05-24T02:47:25.867205Z",
     "iopub.status.busy": "2023-05-24T02:47:25.865530Z",
     "iopub.status.idle": "2023-05-24T02:47:25.893356Z",
     "shell.execute_reply": "2023-05-24T02:47:25.892465Z"
    }
   },
   "outputs": [],
   "source": [
    "# import logging\n",
    "\n",
    "# logging.basicConfig(filename=\"training_log.txt\", level=logging.INFO)\n",
    "\n",
    "# console = logging.StreamHandler()\n",
    "# console.setLevel(logging.INFO)\n",
    "# logging.getLogger('').addHandler(console)\n",
    "\n",
    "# fbeta_best = 0.0\n",
    "# for epoch in range(1, EPOCHS+1):\n",
    "#     model.train()\n",
    "#     cur_lr = f\"LR : {scheduler.get_last_lr()[0]:.2E}\"\n",
    "#     pbar_train = enumerate(dataloader_train)\n",
    "#     pbar_train = tqdm(pbar_train, total=n_train, bar_format=\"{l_bar}{bar:10}{r_bar}{bar:-10b}\")\n",
    "#     mloss_train, mloss_val, val_metric = 0.0, 0.0, 0.0\n",
    "\n",
    "#     for i, (fragments, masks) in pbar_train:\n",
    "#         fragments, masks = fragments.cuda().half(), masks.cuda().half()\n",
    "        \n",
    "#         optimizer.zero_grad()\n",
    "#         with amp.autocast():\n",
    "#             pred_masks = model(fragments)\n",
    "#             loss = criterion(pred_masks, masks)\n",
    "#             scaler.scale(loss).backward()\n",
    "#             scaler.step(optimizer)\n",
    "#             scaler.update()\n",
    "#             mloss_train += loss.detach().item()\n",
    "\n",
    "#         gpu_mem = f\"Mem : {torch.cuda.memory_reserved() / 1E9:.3g}GB\"\n",
    "#         pbar_train.set_description((\"%10s  \" * 3 + \"%10s\") % (f\"Epoch {epoch}/{EPOCHS}\", gpu_mem, cur_lr,\n",
    "#                                                               f\"Loss: {mloss_train / (i + 1):.4f}\"))\n",
    "#         logging.info((\"%10s  \" * 3 + \"%10s\") % (f\"Epoch {epoch}/{EPOCHS}\", gpu_mem, cur_lr,\n",
    "#                                                 f\"Loss: {mloss_train / (i + 1):.4f}\"))\n",
    "#     scheduler.step()\n",
    "#     model.eval()\n",
    "#     pbar_val = enumerate(dataloader_valid)\n",
    "#     pbar_val = tqdm(pbar_val, total=n_valid, bar_format=\"{l_bar}{bar:10}{r_bar}{bar:-10b}\")\n",
    "#     final_pred_mask = torch.zeros(gt_shape, dtype=torch.float32, device='cuda')\n",
    "    \n",
    "#     for i, (fragments, masks, xys) in pbar_val:\n",
    "#         fragments, masks = fragments.cuda(), masks.cuda()\n",
    "        \n",
    "#         with torch.no_grad():\n",
    "#             pred_masks = model(fragments)\n",
    "#             mloss_val += criterion(pred_masks, masks).item()\n",
    "#             pred_masks = torch.sigmoid(pred_masks)\n",
    "        \n",
    "#         for j, xy in enumerate(xys):\n",
    "#             final_pred_mask[xy[1]:xy[3], xy[0]:xy[2]] = pred_masks[j, 0]\n",
    "\n",
    "#         pbar_val.set_description((\"%10s\") % (f\"Val Loss: {mloss_val / (i+1):.4f}\"))\n",
    "#         logging.info((\"%10s\") % (f\"Val Loss: {mloss_val / (i+1):.4f}\"))\n",
    "\n",
    "#     for threshold in np.arange(0.2, 0.85, 0.05):\n",
    "#         fbeta = fbeta_score(final_pred_mask, gt_mask, threshold)\n",
    "#         logging.info(f\"Threshold : {threshold:.2f}\\tFBeta : {fbeta:.6f}\")\n",
    "\n",
    "#         if fbeta_best < fbeta:\n",
    "#             fbeta_best = fbeta\n",
    "#             torch.save(model.module.state_dict(), f\"./ckpts/resnet18_3d_seg_best.pt\")\n",
    "    \n",
    "#     # if epoch >= 10:\n",
    "#     #     torch.save(model.module.state_dict(), f\"./ckpts/resnet18_3d_seg_epoch_{epoch}.pt\")\n"
   ]
  },
  {
   "cell_type": "code",
   "execution_count": null,
   "id": "89431087",
   "metadata": {
    "papermill": {
     "duration": 0.381515,
     "end_time": "2023-04-08T11:20:14.478012",
     "exception": false,
     "start_time": "2023-04-08T11:20:14.096497",
     "status": "completed"
    },
    "tags": []
   },
   "outputs": [],
   "source": []
  }
 ],
 "metadata": {
  "kernelspec": {
   "display_name": "Python 3",
   "language": "python",
   "name": "python3"
  },
  "language_info": {
   "codemirror_mode": {
    "name": "ipython",
    "version": 3
   },
   "file_extension": ".py",
   "mimetype": "text/x-python",
   "name": "python",
   "nbconvert_exporter": "python",
   "pygments_lexer": "ipython3",
   "version": "3.9.16"
  },
  "papermill": {
   "default_parameters": {},
   "duration": 4132.646938,
   "end_time": "2023-04-08T11:20:18.816611",
   "environment_variables": {},
   "exception": null,
   "input_path": "__notebook__.ipynb",
   "output_path": "__notebook__.ipynb",
   "parameters": {},
   "start_time": "2023-04-08T10:11:26.169673",
   "version": "2.4.0"
  }
 },
 "nbformat": 4,
 "nbformat_minor": 5
}
