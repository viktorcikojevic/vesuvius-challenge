{
 "cells": [
  {
   "attachments": {},
   "cell_type": "markdown",
   "id": "73dea9ca",
   "metadata": {
    "papermill": {
     "duration": 0.006587,
     "end_time": "2023-04-08T10:11:36.662576",
     "exception": false,
     "start_time": "2023-04-08T10:11:36.655989",
     "status": "completed"
    },
    "tags": []
   },
   "source": [
    "## Vesuvius Challenge - Ink Detection Training Notebook"
   ]
  },
  {
   "attachments": {},
   "cell_type": "markdown",
   "id": "8cdbb7ff",
   "metadata": {
    "papermill": {
     "duration": 0.004951,
     "end_time": "2023-04-08T10:11:36.672955",
     "exception": false,
     "start_time": "2023-04-08T10:11:36.668004",
     "status": "completed"
    },
    "tags": []
   },
   "source": [
    "### Setup"
   ]
  },
  {
   "cell_type": "code",
   "execution_count": 1,
   "id": "ae445317",
   "metadata": {
    "_kg_hide-input": false,
    "_kg_hide-output": true,
    "execution": {
     "iopub.execute_input": "2023-05-23T10:15:01.430531Z",
     "iopub.status.busy": "2023-05-23T10:15:01.430114Z",
     "iopub.status.idle": "2023-05-23T10:15:01.608157Z",
     "shell.execute_reply": "2023-05-23T10:15:01.606347Z"
    },
    "papermill": {
     "duration": 29.297355,
     "end_time": "2023-04-08T10:12:05.976007",
     "exception": false,
     "start_time": "2023-04-08T10:11:36.678652",
     "status": "completed"
    },
    "tags": []
   },
   "outputs": [],
   "source": [
    "# # Pretrained weights\n",
    "# # ref - https://github.com/kenshohara/3D-ResNets-PyTorch\n",
    "# !pip install gdown\n",
    "# !gdown 1Nb4abvIkkp_ydPFA9sNPT1WakoVKA8Fa\n",
    "\n",
    "# # Utility packages for reading and visualizing volumes\n",
    "# !pip install zarr imageio-ffmpeg\n",
    "\n",
    "# save model checkpoints\n",
    "!mkdir ./ckpts"
   ]
  },
  {
   "cell_type": "code",
   "execution_count": 2,
   "id": "0d956f5c",
   "metadata": {
    "execution": {
     "iopub.execute_input": "2023-05-23T10:15:01.613574Z",
     "iopub.status.busy": "2023-05-23T10:15:01.613170Z",
     "iopub.status.idle": "2023-05-23T10:15:02.453805Z",
     "shell.execute_reply": "2023-05-23T10:15:02.453468Z"
    },
    "papermill": {
     "duration": 3.289261,
     "end_time": "2023-04-08T10:12:09.273534",
     "exception": false,
     "start_time": "2023-04-08T10:12:05.984273",
     "status": "completed"
    },
    "tags": []
   },
   "outputs": [],
   "source": [
    "import os\n",
    "import gc\n",
    "import sys\n",
    "import zarr\n",
    "import random\n",
    "import imageio\n",
    "import numpy as np\n",
    "import pandas as pd\n",
    "from tqdm import tqdm\n",
    "import matplotlib.pyplot as plt\n",
    "from IPython.display import Video\n",
    "\n",
    "import torch\n",
    "import torch.nn as nn\n",
    "import torch.nn.functional as F\n",
    "from torch.cuda import amp\n",
    "from torch.utils.data import Dataset, DataLoader\n",
    "\n",
    "sys.path.append(\"./resnet3d\")\n",
    "from resnet3d import generate_model"
   ]
  },
  {
   "attachments": {},
   "cell_type": "markdown",
   "id": "88b00fe4",
   "metadata": {
    "papermill": {
     "duration": 0.007297,
     "end_time": "2023-04-08T10:12:09.288770",
     "exception": false,
     "start_time": "2023-04-08T10:12:09.281473",
     "status": "completed"
    },
    "tags": []
   },
   "source": [
    "### Config"
   ]
  },
  {
   "cell_type": "code",
   "execution_count": 3,
   "id": "59e26b77",
   "metadata": {
    "execution": {
     "iopub.execute_input": "2023-05-23T10:15:02.455433Z",
     "iopub.status.busy": "2023-05-23T10:15:02.455241Z",
     "iopub.status.idle": "2023-05-23T10:15:02.457339Z",
     "shell.execute_reply": "2023-05-23T10:15:02.457041Z"
    },
    "papermill": {
     "duration": 0.016571,
     "end_time": "2023-04-08T10:12:09.312935",
     "exception": false,
     "start_time": "2023-04-08T10:12:09.296364",
     "status": "completed"
    },
    "tags": []
   },
   "outputs": [],
   "source": [
    "LR = 1e-4\n",
    "EPOCHS = 50\n",
    "BATCH_SIZE = 32\n",
    "CROP_SIZE = 192\n",
    "Z_START = 24\n",
    "Z_DIMS = 16\n",
    "TRAIN_FRAGMENTS = [\"1\", \"2\"]\n",
    "TEST_FRAGMENT = \"3\""
   ]
  },
  {
   "attachments": {},
   "cell_type": "markdown",
   "id": "9a1e0328",
   "metadata": {
    "papermill": {
     "duration": 0.007428,
     "end_time": "2023-04-08T10:12:09.328094",
     "exception": false,
     "start_time": "2023-04-08T10:12:09.320666",
     "status": "completed"
    },
    "tags": []
   },
   "source": [
    "### Load data"
   ]
  },
  {
   "cell_type": "code",
   "execution_count": 4,
   "id": "8c494d99",
   "metadata": {
    "execution": {
     "iopub.execute_input": "2023-05-23T10:15:02.458464Z",
     "iopub.status.busy": "2023-05-23T10:15:02.458389Z",
     "iopub.status.idle": "2023-05-23T10:15:02.466831Z",
     "shell.execute_reply": "2023-05-23T10:15:02.466646Z"
    },
    "papermill": {
     "duration": 0.054715,
     "end_time": "2023-04-08T10:12:09.391635",
     "exception": false,
     "start_time": "2023-04-08T10:12:09.336920",
     "status": "completed"
    },
    "tags": []
   },
   "outputs": [],
   "source": [
    "\n",
    "\n",
    "FRAGMENTS_ZARR = {\n",
    "    \"1\" : zarr.open(\"/home/viktor/Documents/kaggle/vesuvius-challenge/kaggle-data/train-1.zarr\", mode=\"r\"),\n",
    "    \"2\" : zarr.open(\"/home/viktor/Documents/kaggle/vesuvius-challenge/kaggle-data/train-2.zarr\", mode=\"r\"),\n",
    "    \"3\" : zarr.open(\"/home/viktor/Documents/kaggle/vesuvius-challenge/kaggle-data/train-3.zarr\", mode=\"r\")\n",
    "}\n",
    "\n",
    "FRAGMENTS_SHAPE = {k : v.mask.shape for k, v in FRAGMENTS_ZARR.items()}"
   ]
  },
  {
   "attachments": {},
   "cell_type": "markdown",
   "id": "97a51afa",
   "metadata": {
    "papermill": {
     "duration": 0.007406,
     "end_time": "2023-04-08T10:12:09.406465",
     "exception": false,
     "start_time": "2023-04-08T10:12:09.399059",
     "status": "completed"
    },
    "tags": []
   },
   "source": [
    "### Visualise input"
   ]
  },
  {
   "cell_type": "code",
   "execution_count": 5,
   "id": "6d33b9f8",
   "metadata": {
    "execution": {
     "iopub.execute_input": "2023-05-23T10:15:02.467965Z",
     "iopub.status.busy": "2023-05-23T10:15:02.467845Z",
     "iopub.status.idle": "2023-05-23T10:15:02.603740Z",
     "shell.execute_reply": "2023-05-23T10:15:02.603521Z"
    },
    "papermill": {
     "duration": 1.68744,
     "end_time": "2023-04-08T10:12:11.101290",
     "exception": false,
     "start_time": "2023-04-08T10:12:09.413850",
     "status": "completed"
    },
    "tags": []
   },
   "outputs": [
    {
     "name": "stderr",
     "output_type": "stream",
     "text": [
      "Lossy conversion from uint16 to uint8. Losing 8 bits of resolution. Convert image to uint8 prior to saving to suppress this warning.\n",
      "Lossy conversion from uint16 to uint8. Losing 8 bits of resolution. Convert image to uint8 prior to saving to suppress this warning.\n",
      "Lossy conversion from uint16 to uint8. Losing 8 bits of resolution. Convert image to uint8 prior to saving to suppress this warning.\n",
      "Lossy conversion from uint16 to uint8. Losing 8 bits of resolution. Convert image to uint8 prior to saving to suppress this warning.\n",
      "Lossy conversion from uint16 to uint8. Losing 8 bits of resolution. Convert image to uint8 prior to saving to suppress this warning.\n",
      "Lossy conversion from uint16 to uint8. Losing 8 bits of resolution. Convert image to uint8 prior to saving to suppress this warning.\n",
      "Lossy conversion from uint16 to uint8. Losing 8 bits of resolution. Convert image to uint8 prior to saving to suppress this warning.\n",
      "Lossy conversion from uint16 to uint8. Losing 8 bits of resolution. Convert image to uint8 prior to saving to suppress this warning.\n",
      "Lossy conversion from uint16 to uint8. Losing 8 bits of resolution. Convert image to uint8 prior to saving to suppress this warning.\n",
      "Lossy conversion from uint16 to uint8. Losing 8 bits of resolution. Convert image to uint8 prior to saving to suppress this warning.\n",
      "Lossy conversion from uint16 to uint8. Losing 8 bits of resolution. Convert image to uint8 prior to saving to suppress this warning.\n",
      "Lossy conversion from uint16 to uint8. Losing 8 bits of resolution. Convert image to uint8 prior to saving to suppress this warning.\n",
      "Lossy conversion from uint16 to uint8. Losing 8 bits of resolution. Convert image to uint8 prior to saving to suppress this warning.\n",
      "Lossy conversion from uint16 to uint8. Losing 8 bits of resolution. Convert image to uint8 prior to saving to suppress this warning.\n",
      "Lossy conversion from uint16 to uint8. Losing 8 bits of resolution. Convert image to uint8 prior to saving to suppress this warning.\n",
      "Lossy conversion from uint16 to uint8. Losing 8 bits of resolution. Convert image to uint8 prior to saving to suppress this warning.\n"
     ]
    },
    {
     "data": {
      "text/html": [
       "<video src=\"fragment_crop.mp4\" controls  width=\"256\"  height=\"256\">\n",
       "      Your browser does not support the <code>video</code> element.\n",
       "    </video>"
      ],
      "text/plain": [
       "<IPython.core.display.Video object>"
      ]
     },
     "execution_count": 5,
     "metadata": {},
     "output_type": "execute_result"
    }
   ],
   "source": [
    "fragment = FRAGMENTS_ZARR[\"1\"]\n",
    "x, y = 2000, 2000\n",
    "\n",
    "fragment_cropped = fragment.surface_volume[y:y+CROP_SIZE, x:x+CROP_SIZE, Z_START:Z_START+Z_DIMS]\n",
    "imageio.mimwrite(\"fragment_crop.mp4\", fragment_cropped.transpose(2, 0, 1), \"ffmpeg\")\n",
    "Video(\"fragment_crop.mp4\", height=256, width=256)"
   ]
  },
  {
   "cell_type": "code",
   "execution_count": 6,
   "id": "46203a93",
   "metadata": {
    "execution": {
     "iopub.execute_input": "2023-05-23T10:15:02.605011Z",
     "iopub.status.busy": "2023-05-23T10:15:02.604914Z",
     "iopub.status.idle": "2023-05-23T10:15:02.646425Z",
     "shell.execute_reply": "2023-05-23T10:15:02.646239Z"
    },
    "papermill": {
     "duration": 0.258785,
     "end_time": "2023-04-08T10:12:11.368608",
     "exception": false,
     "start_time": "2023-04-08T10:12:11.109823",
     "status": "completed"
    },
    "tags": []
   },
   "outputs": [
    {
     "data": {
      "image/png": "[encoded data removed]",
      "text/plain": [
       "<Figure size 600x300 with 2 Axes>"
      ]
     },
     "metadata": {},
     "output_type": "display_data"
    }
   ],
   "source": [
    "mask_cropped = fragment.truth[y:y+CROP_SIZE, x:x+CROP_SIZE]\n",
    "ir_cropped = fragment.infrared[y:y+CROP_SIZE, x:x+CROP_SIZE]\n",
    "\n",
    "plt.figure(figsize=(6, 3))\n",
    "plt.subplot(1, 2, 1)\n",
    "plt.imshow(mask_cropped, cmap=\"gray\")\n",
    "plt.axis(\"off\")\n",
    "\n",
    "plt.subplot(1, 2, 2)\n",
    "plt.imshow(ir_cropped, cmap=\"gray\")\n",
    "plt.axis(\"off\")\n",
    "plt.show()"
   ]
  },
  {
   "cell_type": "code",
   "execution_count": 7,
   "id": "6462d25d",
   "metadata": {
    "execution": {
     "iopub.execute_input": "2023-05-23T10:15:02.647499Z",
     "iopub.status.busy": "2023-05-23T10:15:02.647418Z",
     "iopub.status.idle": "2023-05-23T10:15:02.693984Z",
     "shell.execute_reply": "2023-05-23T10:15:02.693786Z"
    },
    "papermill": {
     "duration": 0.17287,
     "end_time": "2023-04-08T10:12:11.562933",
     "exception": false,
     "start_time": "2023-04-08T10:12:11.390063",
     "status": "completed"
    },
    "tags": []
   },
   "outputs": [
    {
     "data": {
      "text/plain": [
       "4093"
      ]
     },
     "execution_count": 7,
     "metadata": {},
     "output_type": "execute_result"
    }
   ],
   "source": [
    "del fragment, fragment_cropped, mask_cropped, ir_cropped\n",
    "gc.collect()"
   ]
  },
  {
   "attachments": {},
   "cell_type": "markdown",
   "id": "ff9cd3e8",
   "metadata": {
    "papermill": {
     "duration": 0.008474,
     "end_time": "2023-04-08T10:12:11.580070",
     "exception": false,
     "start_time": "2023-04-08T10:12:11.571596",
     "status": "completed"
    },
    "tags": []
   },
   "source": [
    "### Dataloaders"
   ]
  },
  {
   "cell_type": "code",
   "execution_count": 8,
   "id": "162ec4e8",
   "metadata": {
    "execution": {
     "iopub.execute_input": "2023-05-23T10:15:02.695279Z",
     "iopub.status.busy": "2023-05-23T10:15:02.695170Z",
     "iopub.status.idle": "2023-05-23T10:15:02.697066Z",
     "shell.execute_reply": "2023-05-23T10:15:02.696894Z"
    },
    "papermill": {
     "duration": 0.024571,
     "end_time": "2023-04-08T10:12:11.612905",
     "exception": false,
     "start_time": "2023-04-08T10:12:11.588334",
     "status": "completed"
    },
    "tags": []
   },
   "outputs": [],
   "source": [
    "# import albumentations as A\n",
    "# from albumentations.pytorch import ToTensorV2\n",
    "\n",
    "# class VesuviusTrain(Dataset):\n",
    "#     def __init__(self, fragments):\n",
    "#         self.fragments = fragments\n",
    "#         self.xys = []\n",
    "        \n",
    "#         for fragment in fragments:\n",
    "#             H, W = FRAGMENTS_SHAPE[fragment]\n",
    "#             for y in range(0, H-CROP_SIZE+1, CROP_SIZE):\n",
    "#                 for x in range(0, W-CROP_SIZE+1, CROP_SIZE):\n",
    "#                     self.xys.append((fragment, x, y, W, H))\n",
    "        \n",
    "#         train_aug_list = [\n",
    "#                 # A.RandomResizedCrop(\n",
    "#                 #     size, size, scale=(0.85, 1.0)),\n",
    "#                 A.HorizontalFlip(p=0.5),\n",
    "#                 A.VerticalFlip(p=0.5),\n",
    "#                 A.RandomBrightnessContrast(p=0.75),\n",
    "#                 A.CoarseDropout(max_holes=1, max_width=int(CROP_SIZE * 0.1), max_height=int(size * 0.1), \n",
    "#                                 mask_fill_value=0, p=0.5),\n",
    "#                 A.ShiftScaleRotate(p=0.75),\n",
    "#                 A.Rotate(limit=90, p=0.9), \n",
    "#                 A.OneOf([\n",
    "#                         A.GaussNoise(var_limit=[10, 50]),\n",
    "#                         A.GaussianBlur(),\n",
    "#                         A.MotionBlur(),\n",
    "#                         ], p=0.4),\n",
    "#                 A.GridDistortion(num_steps=1, distort_limit=0.3, p=0.5),\n",
    "                \n",
    "#                 A.Cutout(max_h_size=int(size * 0.6),\n",
    "#                          max_w_size=int(size * 0.6), num_holes=1, p=1.0),\n",
    "#                 A.Normalize(\n",
    "#                     mean= [0] * Z_DIMS,\n",
    "#                     std= [1] * Z_DIMS\n",
    "#                 ),\n",
    "#                 ToTensorV2(transpose_mask=True),\n",
    "#             ]\n",
    "        \n",
    "        \n",
    "        \n",
    "#     def __getitem__(self, i):\n",
    "#         fragment, x1, y1, W, H = self.xys[i]\n",
    "#         z1, z2 = Z_START, Z_START+Z_DIMS\n",
    "        \n",
    "#         x_offset = random.randint(-32 if x1 != 0 else 0, 32)\n",
    "#         y_offset = random.randint(-32 if y1 != 0 else 0, 32)\n",
    "        \n",
    "#         x1 += x_offset\n",
    "#         y1 += y_offset\n",
    "        \n",
    "#         x2 = x1 + CROP_SIZE\n",
    "#         y2 = y1 + CROP_SIZE\n",
    "        \n",
    "#         if x2 > W:\n",
    "#             x1 -= x_offset\n",
    "#             x2 -= x_offset\n",
    "            \n",
    "#         if y2 > H:\n",
    "#             y1 -= y_offset\n",
    "#             y2 -= y_offset\n",
    "        \n",
    "#         frag_crop = FRAGMENTS_ZARR[fragment].surface_volume[y1:y2, x1:x2, z1:z2]\n",
    "#         mask_crop = FRAGMENTS_ZARR[fragment].truth[y1:y2, x1:x2]\n",
    "        \n",
    "#         if random.random() > 0.5:\n",
    "#             frag_crop = np.flip(frag_crop, axis=1).copy()\n",
    "#             mask_crop = np.flip(mask_crop, axis=1).copy()\n",
    "\n",
    "#         frag_crop = torch.from_numpy(frag_crop.astype(np.float32)).unsqueeze(0).permute(0, 3, 1, 2)\n",
    "#         frag_crop = frag_crop/65535.0\n",
    "#         frag_crop = (frag_crop - 0.45)/0.225\n",
    "        \n",
    "#         mask_crop = torch.from_numpy(mask_crop.astype(np.float32)).unsqueeze(0)\n",
    "        \n",
    "        \n",
    "        \n",
    "        \n",
    "        \n",
    "        \n",
    "        \n",
    "        \n",
    "#         return frag_crop, mask_crop\n",
    "\n",
    "#     def __len__(self):\n",
    "#         return len(self.xys)"
   ]
  },
  {
   "cell_type": "code",
   "execution_count": 9,
   "id": "c2c0c6d5",
   "metadata": {
    "execution": {
     "iopub.execute_input": "2023-05-23T10:15:02.698216Z",
     "iopub.status.busy": "2023-05-23T10:15:02.698135Z",
     "iopub.status.idle": "2023-05-23T10:15:03.022742Z",
     "shell.execute_reply": "2023-05-23T10:15:03.022305Z"
    }
   },
   "outputs": [],
   "source": [
    "import albumentations as A\n",
    "from albumentations.pytorch import ToTensorV2\n",
    "\n",
    "class VesuviusTrain(Dataset):\n",
    "    def __init__(self, fragments):\n",
    "        self.fragments = fragments\n",
    "        self.xys = []\n",
    "        \n",
    "        for fragment in fragments:\n",
    "            H, W = FRAGMENTS_SHAPE[fragment]\n",
    "            for y in range(0, H-CROP_SIZE+1, CROP_SIZE):\n",
    "                for x in range(0, W-CROP_SIZE+1, CROP_SIZE):\n",
    "                    surface = FRAGMENTS_ZARR[fragment].surface_volume[y:y+CROP_SIZE, x:x+CROP_SIZE, 0]\n",
    "                    if np.sum(surface) / (CROP_SIZE * CROP_SIZE) > 0.2:\n",
    "                        self.xys.append((fragment, x, y, W, H))\n",
    "        \n",
    "        self.train_aug_list = [\n",
    "                # A.RandomResizedCrop(\n",
    "                #     size, size, scale=(0.85, 1.0)),\n",
    "                \n",
    "                A.HorizontalFlip(p=0.5),\n",
    "                A.VerticalFlip(p=0.5),\n",
    "                \n",
    "                # A.RandomBrightnessContrast(p=0.75),\n",
    "                # A.CoarseDropout(max_holes=1, max_width=int(CROP_SIZE * 0.1), max_height=int(CROP_SIZE * 0.1), \n",
    "                #                 mask_fill_value=0, p=0.5),\n",
    "                # A.ShiftScaleRotate(p=0.75),\n",
    "                \n",
    "                A.Rotate(limit=90, p=0.9), \n",
    "                \n",
    "                # A.OneOf([\n",
    "                #         A.GaussNoise(var_limit=[1, 5]),\n",
    "                #         A.GaussianBlur(),\n",
    "                #         A.MotionBlur(),\n",
    "                #         ], p=0.4),\n",
    "                # A.GridDistortion(num_steps=1, distort_limit=0.3, p=0.5),\n",
    "                \n",
    "                # A.Cutout(max_h_size=int(CROP_SIZE * 0.2),\n",
    "                #          max_w_size=int(CROP_SIZE * 0.2), num_holes=1, p=1.0),\n",
    "                # A.Normalize(\n",
    "                #     mean= [0] * Z_DIMS,\n",
    "                #     std= [1] * Z_DIMS\n",
    "                # ),\n",
    "                \n",
    "                \n",
    "                ToTensorV2(transpose_mask=True),\n",
    "            ]\n",
    "        \n",
    "        # Create the augmentation pipeline\n",
    "        self.augmentations = A.Compose(self.train_aug_list)\n",
    "        \n",
    "        \n",
    "        \n",
    "    def __getitem__(self, i):\n",
    "        fragment, x1, y1, W, H = self.xys[i]\n",
    "        z1, z2 = Z_START, Z_START+Z_DIMS\n",
    "        \n",
    "        x_offset = random.randint(-192 if x1 != 0 else 0, 192)\n",
    "        y_offset = random.randint(-192 if y1 != 0 else 0, 192)\n",
    "        \n",
    "        x1 += x_offset\n",
    "        y1 += y_offset\n",
    "        \n",
    "        x2 = x1 + CROP_SIZE\n",
    "        y2 = y1 + CROP_SIZE\n",
    "        \n",
    "        if x2 > W:\n",
    "            x1 -= x_offset\n",
    "            x2 -= x_offset\n",
    "            \n",
    "        if y2 > H:\n",
    "            y1 -= y_offset\n",
    "            y2 -= y_offset\n",
    "        \n",
    "        frag_crop = FRAGMENTS_ZARR[fragment].surface_volume[y1:y2, x1:x2, z1:z2]\n",
    "        mask_crop = FRAGMENTS_ZARR[fragment].truth[y1:y2, x1:x2]\n",
    "        \n",
    "        # if random.random() > 0.5:\n",
    "        #     frag_crop = np.flip(frag_crop, axis=1).copy()\n",
    "        #     mask_crop = np.flip(mask_crop, axis=1).copy()\n",
    "\n",
    "        # Perform train augmentations\n",
    "\n",
    "        frag_crop = frag_crop/65535.0\n",
    "        \n",
    "\n",
    "        # Apply the augmentations\n",
    "        augmented = self.augmentations(image=frag_crop, mask=mask_crop)\n",
    "\n",
    "        # Separate the image and mask\n",
    "        frag_crop, mask_crop = augmented[\"image\"], augmented[\"mask\"]\n",
    "\n",
    "        # normalize\n",
    "        \n",
    "        # frag_crop = (frag_crop - 0.45)/0.225\n",
    "        \n",
    "        frag_crop = frag_crop.unsqueeze(0)\n",
    "        mask_crop = mask_crop.float().unsqueeze(0)\n",
    "        \n",
    "        \n",
    "        return frag_crop, mask_crop\n",
    "\n",
    "    def __len__(self):\n",
    "        return len(self.xys)"
   ]
  },
  {
   "cell_type": "code",
   "execution_count": 10,
   "id": "f172c2ad",
   "metadata": {
    "execution": {
     "iopub.execute_input": "2023-05-23T10:15:03.024307Z",
     "iopub.status.busy": "2023-05-23T10:15:03.024120Z",
     "iopub.status.idle": "2023-05-23T10:15:03.027400Z",
     "shell.execute_reply": "2023-05-23T10:15:03.027131Z"
    },
    "papermill": {
     "duration": 0.022963,
     "end_time": "2023-04-08T10:12:11.644387",
     "exception": false,
     "start_time": "2023-04-08T10:12:11.621424",
     "status": "completed"
    },
    "tags": []
   },
   "outputs": [],
   "source": [
    "class VesuviusVal(Dataset):\n",
    "    def __init__(self, fragment):\n",
    "        self.fragment = FRAGMENTS_ZARR[fragment]\n",
    "        self.xys = []\n",
    "        \n",
    "        H, W = FRAGMENTS_SHAPE[fragment]\n",
    "        for y in range(0, H-CROP_SIZE+1, CROP_SIZE):\n",
    "            for x in range(0, W-CROP_SIZE+1, CROP_SIZE):\n",
    "                self.xys.append((x, y))\n",
    "                \n",
    "    def __getitem__(self, i):\n",
    "        x1, y1 = self.xys[i]\n",
    "        x2, y2 = x1+CROP_SIZE, y1+CROP_SIZE\n",
    "        z1, z2 = Z_START, Z_START+Z_DIMS\n",
    "        \n",
    "        frag_crop = self.fragment.surface_volume[y1:y2, x1:x2, z1:z2]\n",
    "        mask_crop = self.fragment.truth[y1:y2, x1:x2]\n",
    "\n",
    "        frag_crop = torch.from_numpy(frag_crop.astype(np.float32)).unsqueeze(0).permute(0, 3, 1, 2)\n",
    "        frag_crop = frag_crop/65535.0\n",
    "        # frag_crop = (frag_crop - 0.45)/0.225\n",
    "        \n",
    "        mask_crop = torch.from_numpy(mask_crop.astype(np.float32)).unsqueeze(0)\n",
    "        return frag_crop, mask_crop, torch.tensor([x1, y1, x2, y2], dtype=torch.int32)\n",
    "\n",
    "    def __len__(self):\n",
    "        return len(self.xys)"
   ]
  },
  {
   "cell_type": "code",
   "execution_count": 11,
   "id": "4282f924",
   "metadata": {
    "execution": {
     "iopub.execute_input": "2023-05-23T10:15:03.028557Z",
     "iopub.status.busy": "2023-05-23T10:15:03.028474Z",
     "iopub.status.idle": "2023-05-23T10:15:15.764355Z",
     "shell.execute_reply": "2023-05-23T10:15:15.764114Z"
    },
    "papermill": {
     "duration": 0.019671,
     "end_time": "2023-04-08T10:12:11.672490",
     "exception": false,
     "start_time": "2023-04-08T10:12:11.652819",
     "status": "completed"
    },
    "tags": []
   },
   "outputs": [],
   "source": [
    "dataset_train = VesuviusTrain(TRAIN_FRAGMENTS)\n",
    "dataloader_train = DataLoader(dataset_train, batch_size=BATCH_SIZE, num_workers=2,\n",
    "                              shuffle=True, pin_memory=True, drop_last=True)\n",
    "n_train = len(dataloader_train)\n",
    "\n",
    "dataset_valid = VesuviusVal(TEST_FRAGMENT)\n",
    "dataloader_valid = DataLoader(dataset_valid, batch_size=BATCH_SIZE, num_workers=2,\n",
    "                              shuffle=False, pin_memory=True, drop_last=False)\n",
    "n_valid = len(dataloader_valid)"
   ]
  },
  {
   "cell_type": "code",
   "execution_count": 12,
   "id": "0577f1a6",
   "metadata": {
    "execution": {
     "iopub.execute_input": "2023-05-23T10:15:15.765959Z",
     "iopub.status.busy": "2023-05-23T10:15:15.765845Z",
     "iopub.status.idle": "2023-05-23T10:15:15.800990Z",
     "shell.execute_reply": "2023-05-23T10:15:15.800782Z"
    }
   },
   "outputs": [
    {
     "data": {
      "text/plain": [
       "(tensor(0., dtype=torch.float64), tensor(1., dtype=torch.float64))"
      ]
     },
     "execution_count": 12,
     "metadata": {},
     "output_type": "execute_result"
    }
   ],
   "source": [
    "i = random.randint(0, len(dataset_train))\n",
    "img = dataset_train[i][0]\n",
    "img.min(), img.max()"
   ]
  },
  {
   "cell_type": "code",
   "execution_count": null,
   "id": "40a15748",
   "metadata": {},
   "outputs": [],
   "source": []
  },
  {
   "cell_type": "code",
   "execution_count": null,
   "id": "a792af0c",
   "metadata": {},
   "outputs": [],
   "source": []
  },
  {
   "attachments": {},
   "cell_type": "markdown",
   "id": "cdcc7e0b",
   "metadata": {
    "papermill": {
     "duration": 0.008028,
     "end_time": "2023-04-08T10:12:11.688860",
     "exception": false,
     "start_time": "2023-04-08T10:12:11.680832",
     "status": "completed"
    },
    "tags": []
   },
   "source": [
    "### Model\n",
    "* Encoder is a 3D ResNet model. The architecture has been modified to remove temporal downsampling between blocks.\n",
    "* A 2D decoder is used for predicting the segmentation map.\n",
    "* The encoder feature maps are average pooled over the Z dimension before passing it to the decoder."
   ]
  },
  {
   "cell_type": "code",
   "execution_count": 13,
   "id": "ff7cc8a3",
   "metadata": {
    "execution": {
     "iopub.execute_input": "2023-05-23T10:15:15.802151Z",
     "iopub.status.busy": "2023-05-23T10:15:15.802034Z",
     "iopub.status.idle": "2023-05-23T10:15:15.806035Z",
     "shell.execute_reply": "2023-05-23T10:15:15.805822Z"
    },
    "papermill": {
     "duration": 0.023714,
     "end_time": "2023-04-08T10:12:11.721140",
     "exception": false,
     "start_time": "2023-04-08T10:12:11.697426",
     "status": "completed"
    },
    "tags": []
   },
   "outputs": [],
   "source": [
    "class Decoder(nn.Module):\n",
    "    def __init__(self, encoder_dims, upscale):\n",
    "        super().__init__()\n",
    "        self.convs = nn.ModuleList([\n",
    "            nn.Sequential(\n",
    "                nn.Conv2d(encoder_dims[i]+encoder_dims[i-1], encoder_dims[i-1], 3, 1, 1, bias=False),\n",
    "                nn.BatchNorm2d(encoder_dims[i-1]),\n",
    "                nn.ReLU(inplace=True)\n",
    "            ) for i in range(1, len(encoder_dims))])\n",
    "\n",
    "        self.logit = nn.Conv2d(encoder_dims[0], 1, 1, 1, 0)\n",
    "        self.up = nn.Upsample(scale_factor=upscale, mode=\"bilinear\")\n",
    "\n",
    "    def forward(self, feature_maps):\n",
    "        for i in range(len(feature_maps)-1, 0, -1):\n",
    "            f_up = F.interpolate(feature_maps[i], scale_factor=2, mode=\"bilinear\")\n",
    "            f = torch.cat([feature_maps[i-1], f_up], dim=1)\n",
    "            f_down = self.convs[i-1](f)\n",
    "            feature_maps[i-1] = f_down\n",
    "\n",
    "        x = self.logit(feature_maps[0])\n",
    "        mask = self.up(x)\n",
    "        return mask\n",
    "\n",
    "\n",
    "class SegModel(nn.Module):\n",
    "    def __init__(self):\n",
    "        super().__init__()\n",
    "        self.encoder = generate_model(model_depth=18, n_input_channels=1)\n",
    "        self.decoder = Decoder(encoder_dims=[64, 128, 256, 512], upscale=4)\n",
    "        \n",
    "    def forward(self, x):\n",
    "        feat_maps = self.encoder(x)\n",
    "        feat_maps_pooled = [torch.mean(f, dim=2) for f in feat_maps]\n",
    "        pred_mask = self.decoder(feat_maps_pooled)\n",
    "        return pred_mask\n",
    "    \n",
    "    def load_pretrained_weights(self, state_dict):\n",
    "        # Convert 3 channel weights to single channel\n",
    "        # ref - https://timm.fast.ai/models#Case-1:-When-the-number-of-input-channels-is-1\n",
    "        conv1_weight = state_dict['conv1.weight']\n",
    "        state_dict['conv1.weight'] = conv1_weight.sum(dim=1, keepdim=True)\n",
    "        print(self.encoder.load_state_dict(state_dict, strict=False))"
   ]
  },
  {
   "cell_type": "code",
   "execution_count": 14,
   "id": "67e4a0f1",
   "metadata": {
    "execution": {
     "iopub.execute_input": "2023-05-23T10:15:15.806943Z",
     "iopub.status.busy": "2023-05-23T10:15:15.806795Z",
     "iopub.status.idle": "2023-05-23T10:15:16.752963Z",
     "shell.execute_reply": "2023-05-23T10:15:16.752504Z"
    },
    "papermill": {
     "duration": 3.891528,
     "end_time": "2023-04-08T10:12:15.621016",
     "exception": false,
     "start_time": "2023-04-08T10:12:11.729488",
     "status": "completed"
    },
    "tags": []
   },
   "outputs": [
    {
     "name": "stdout",
     "output_type": "stream",
     "text": [
      "_IncompatibleKeys(missing_keys=[], unexpected_keys=['fc.weight', 'fc.bias'])\n"
     ]
    }
   ],
   "source": [
    "model = SegModel()\n",
    "model.load_pretrained_weights(torch.load(\"/home/viktor/Documents/kaggle/vesuvius-challenge/experiments/3D-resnet/r3d18_K_200ep.pth\")[\"state_dict\"])\n",
    "model = nn.DataParallel(model, device_ids=[0])\n",
    "\n",
    "model = model.cuda()"
   ]
  },
  {
   "cell_type": "code",
   "execution_count": 15,
   "id": "491e9288",
   "metadata": {
    "execution": {
     "iopub.execute_input": "2023-05-23T10:15:16.754614Z",
     "iopub.status.busy": "2023-05-23T10:15:16.754514Z",
     "iopub.status.idle": "2023-05-23T10:15:17.620485Z",
     "shell.execute_reply": "2023-05-23T10:15:17.620139Z"
    }
   },
   "outputs": [
    {
     "data": {
      "text/plain": [
       "torch.Size([5, 1, 256, 256])"
      ]
     },
     "execution_count": 15,
     "metadata": {},
     "output_type": "execute_result"
    }
   ],
   "source": [
    "x = torch.randn(5, 1, 16, 256, 256).cuda()\n",
    "with torch.no_grad():\n",
    "    y = model(x)\n",
    "y.shape"
   ]
  },
  {
   "attachments": {},
   "cell_type": "markdown",
   "id": "d84d7c0e",
   "metadata": {
    "papermill": {
     "duration": 0.008816,
     "end_time": "2023-04-08T10:12:15.638951",
     "exception": false,
     "start_time": "2023-04-08T10:12:15.630135",
     "status": "completed"
    },
    "tags": []
   },
   "source": [
    "### Competition metric (F0.5 Score)"
   ]
  },
  {
   "cell_type": "code",
   "execution_count": 16,
   "id": "61dbeb5c",
   "metadata": {
    "execution": {
     "iopub.execute_input": "2023-05-23T10:15:17.621798Z",
     "iopub.status.busy": "2023-05-23T10:15:17.621704Z",
     "iopub.status.idle": "2023-05-23T10:15:17.624011Z",
     "shell.execute_reply": "2023-05-23T10:15:17.623820Z"
    },
    "papermill": {
     "duration": 0.020268,
     "end_time": "2023-04-08T10:12:15.668008",
     "exception": false,
     "start_time": "2023-04-08T10:12:15.647740",
     "status": "completed"
    },
    "tags": []
   },
   "outputs": [],
   "source": [
    "# ref - https://www.kaggle.com/competitions/vesuvius-challenge-ink-detection/discussion/397288\n",
    "def fbeta_score(preds, targets, threshold, beta=0.5, smooth=1e-5):\n",
    "    preds_t = torch.where(preds > threshold, 1.0, 0.0).float()\n",
    "    y_true_count = targets.sum()\n",
    "    \n",
    "    ctp = preds_t[targets==1].sum()\n",
    "    cfp = preds_t[targets==0].sum()\n",
    "    beta_squared = beta * beta\n",
    "\n",
    "    c_precision = ctp / (ctp + cfp + smooth)\n",
    "    c_recall = ctp / (y_true_count + smooth)\n",
    "    dice = (1 + beta_squared) * (c_precision * c_recall) / (beta_squared * c_precision + c_recall + smooth)\n",
    "\n",
    "    return dice"
   ]
  },
  {
   "attachments": {},
   "cell_type": "markdown",
   "id": "639c9148",
   "metadata": {
    "papermill": {
     "duration": 0.008498,
     "end_time": "2023-04-08T10:12:15.685205",
     "exception": false,
     "start_time": "2023-04-08T10:12:15.676707",
     "status": "completed"
    },
    "tags": []
   },
   "source": [
    "### Training"
   ]
  },
  {
   "cell_type": "code",
   "execution_count": 17,
   "id": "0cca2e6e",
   "metadata": {
    "execution": {
     "iopub.execute_input": "2023-05-23T10:15:17.625233Z",
     "iopub.status.busy": "2023-05-23T10:15:17.625076Z",
     "iopub.status.idle": "2023-05-23T10:15:17.627011Z",
     "shell.execute_reply": "2023-05-23T10:15:17.626823Z"
    },
    "papermill": {
     "duration": 0.019067,
     "end_time": "2023-04-08T10:12:15.713237",
     "exception": false,
     "start_time": "2023-04-08T10:12:15.694170",
     "status": "completed"
    },
    "tags": []
   },
   "outputs": [],
   "source": [
    "scaler = amp.GradScaler()\n",
    "# criterion = nn.BCEWithLogitsLoss()\n",
    "\n",
    "\n",
    "optimizer = torch.optim.AdamW(model.parameters(), lr=LR)\n",
    "scheduler = torch.optim.lr_scheduler.OneCycleLR(optimizer, max_lr=LR,\n",
    "                                                steps_per_epoch=10, epochs=EPOCHS//10,\n",
    "                                                pct_start=0.1)"
   ]
  },
  {
   "cell_type": "code",
   "execution_count": 18,
   "id": "2a77a022",
   "metadata": {
    "execution": {
     "iopub.execute_input": "2023-05-23T10:15:17.628136Z",
     "iopub.status.busy": "2023-05-23T10:15:17.628001Z",
     "iopub.status.idle": "2023-05-23T10:15:18.406705Z",
     "shell.execute_reply": "2023-05-23T10:15:18.406323Z"
    }
   },
   "outputs": [],
   "source": [
    "import segmentation_models_pytorch as smp\n",
    "DiceLoss = smp.losses.DiceLoss(mode='binary')\n",
    "BCELoss = smp.losses.SoftBCEWithLogitsLoss()\n",
    "\n",
    "\n",
    "def criterion(y_pred, y_true):\n",
    "    return 0.5 * BCELoss(y_pred, y_true) + 0.5 * DiceLoss(y_pred, y_true)"
   ]
  },
  {
   "cell_type": "code",
   "execution_count": 19,
   "id": "7304e1fd",
   "metadata": {
    "execution": {
     "iopub.execute_input": "2023-05-23T10:15:18.408345Z",
     "iopub.status.busy": "2023-05-23T10:15:18.408249Z",
     "iopub.status.idle": "2023-05-23T10:15:18.439511Z",
     "shell.execute_reply": "2023-05-23T10:15:18.439123Z"
    },
    "papermill": {
     "duration": 0.385175,
     "end_time": "2023-04-08T10:12:16.107159",
     "exception": false,
     "start_time": "2023-04-08T10:12:15.721984",
     "status": "completed"
    },
    "tags": []
   },
   "outputs": [],
   "source": [
    "gt_mask = torch.from_numpy(np.asarray(FRAGMENTS_ZARR[TEST_FRAGMENT].truth)).float().cuda()\n",
    "gt_shape = FRAGMENTS_SHAPE[TEST_FRAGMENT]"
   ]
  },
  {
   "cell_type": "code",
   "execution_count": 20,
   "id": "c0b85bf1",
   "metadata": {
    "execution": {
     "iopub.execute_input": "2023-05-23T10:15:18.440927Z",
     "iopub.status.busy": "2023-05-23T10:15:18.440844Z",
     "iopub.status.idle": "2023-05-23T10:15:18.442614Z",
     "shell.execute_reply": "2023-05-23T10:15:18.442427Z"
    }
   },
   "outputs": [],
   "source": [
    "import logging\n",
    "\n",
    "logging.basicConfig(filename=\"training_log.txt\", level=logging.INFO)\n"
   ]
  },
  {
   "cell_type": "code",
   "execution_count": 21,
   "id": "00067c9c",
   "metadata": {
    "execution": {
     "iopub.execute_input": "2023-05-23T10:15:18.443878Z",
     "iopub.status.busy": "2023-05-23T10:15:18.443751Z",
     "iopub.status.idle": "2023-05-23T11:03:31.423169Z",
     "shell.execute_reply": "2023-05-23T11:03:31.422823Z"
    },
    "papermill": {
     "duration": 4077.588277,
     "end_time": "2023-04-08T11:20:13.706513",
     "exception": false,
     "start_time": "2023-04-08T10:12:16.118236",
     "status": "completed"
    },
    "tags": []
   },
   "outputs": [
    {
     "name": "stderr",
     "output_type": "stream",
     "text": [
      "Epoch 1/50  Mem : 6.79GB  LR : 4.00E-06  Loss: 0.6970: 100%|██████████| 114/114 [00:48<00:00,  2.34it/s]                                                                                                                                                                       \n",
      "Val Loss: 0.5993: 100%|██████████| 33/33 [00:08<00:00,  3.96it/s]                                                                                                                                                                                                              \n"
     ]
    },
    {
     "name": "stdout",
     "output_type": "stream",
     "text": [
      "Threshold : 0.20\tFBeta : 0.103194\n",
      "Threshold : 0.25\tFBeta : 0.108176\n",
      "Threshold : 0.30\tFBeta : 0.126730\n",
      "Threshold : 0.35\tFBeta : 0.152706\n",
      "Threshold : 0.40\tFBeta : 0.168906\n",
      "Threshold : 0.45\tFBeta : 0.188303\n",
      "Threshold : 0.50\tFBeta : 0.213637\n",
      "Threshold : 0.55\tFBeta : 0.235485\n",
      "Threshold : 0.60\tFBeta : 0.234742\n",
      "Threshold : 0.65\tFBeta : 0.179445\n",
      "Threshold : 0.70\tFBeta : 0.069798\n",
      "Threshold : 0.75\tFBeta : 0.011696\n",
      "Threshold : 0.80\tFBeta : 0.000049\n",
      "\n"
     ]
    },
    {
     "name": "stderr",
     "output_type": "stream",
     "text": [
      "Epoch 2/50  Mem : 9.29GB  LR : 1.81E-05  Loss: 0.6441: 100%|██████████| 114/114 [00:49<00:00,  2.30it/s]                                                                                                                                                                       \n",
      "Val Loss: 0.5282: 100%|██████████| 33/33 [00:08<00:00,  3.96it/s]                                                                                                                                                                                                              \n"
     ]
    },
    {
     "name": "stdout",
     "output_type": "stream",
     "text": [
      "Threshold : 0.20\tFBeta : 0.160565\n",
      "Threshold : 0.25\tFBeta : 0.168521\n",
      "Threshold : 0.30\tFBeta : 0.178836\n",
      "Threshold : 0.35\tFBeta : 0.193597\n",
      "Threshold : 0.40\tFBeta : 0.209435\n",
      "Threshold : 0.45\tFBeta : 0.223104\n",
      "Threshold : 0.50\tFBeta : 0.239734\n",
      "Threshold : 0.55\tFBeta : 0.254330\n",
      "Threshold : 0.60\tFBeta : 0.270205\n",
      "Threshold : 0.65\tFBeta : 0.281970\n",
      "Threshold : 0.70\tFBeta : 0.273303\n",
      "Threshold : 0.75\tFBeta : 0.212307\n",
      "Threshold : 0.80\tFBeta : 0.080886\n",
      "\n"
     ]
    },
    {
     "name": "stderr",
     "output_type": "stream",
     "text": [
      "Epoch 3/50  Mem : 9.29GB  LR : 5.20E-05  Loss: 0.6064: 100%|██████████| 114/114 [00:49<00:00,  2.29it/s]                                                                                                                                                                       \n",
      "Val Loss: 0.4686: 100%|██████████| 33/33 [00:08<00:00,  3.96it/s]                                                                                                                                                                                                              \n"
     ]
    },
    {
     "name": "stdout",
     "output_type": "stream",
     "text": [
      "Threshold : 0.20\tFBeta : 0.179376\n",
      "Threshold : 0.25\tFBeta : 0.232243\n",
      "Threshold : 0.30\tFBeta : 0.281094\n",
      "Threshold : 0.35\tFBeta : 0.305077\n",
      "Threshold : 0.40\tFBeta : 0.312798\n",
      "Threshold : 0.45\tFBeta : 0.311722\n",
      "Threshold : 0.50\tFBeta : 0.290382\n",
      "Threshold : 0.55\tFBeta : 0.255008\n",
      "Threshold : 0.60\tFBeta : 0.217650\n",
      "Threshold : 0.65\tFBeta : 0.171572\n",
      "Threshold : 0.70\tFBeta : 0.114448\n",
      "Threshold : 0.75\tFBeta : 0.054134\n",
      "Threshold : 0.80\tFBeta : 0.019175\n",
      "\n"
     ]
    },
    {
     "name": "stderr",
     "output_type": "stream",
     "text": [
      "Epoch 4/50  Mem : 9.29GB  LR : 8.59E-05  Loss: 0.5885: 100%|██████████| 114/114 [00:49<00:00,  2.30it/s]                                                                                                                                                                       \n",
      "Val Loss: 0.5221: 100%|██████████| 33/33 [00:08<00:00,  3.92it/s]                                                                                                                                                                                                              \n"
     ]
    },
    {
     "name": "stdout",
     "output_type": "stream",
     "text": [
      "Threshold : 0.20\tFBeta : 0.166256\n",
      "Threshold : 0.25\tFBeta : 0.177167\n",
      "Threshold : 0.30\tFBeta : 0.187196\n",
      "Threshold : 0.35\tFBeta : 0.197134\n",
      "Threshold : 0.40\tFBeta : 0.207953\n",
      "Threshold : 0.45\tFBeta : 0.223555\n",
      "Threshold : 0.50\tFBeta : 0.250347\n",
      "Threshold : 0.55\tFBeta : 0.280818\n",
      "Threshold : 0.60\tFBeta : 0.315686\n",
      "Threshold : 0.65\tFBeta : 0.350392\n",
      "Threshold : 0.70\tFBeta : 0.377561\n",
      "Threshold : 0.75\tFBeta : 0.374712\n",
      "Threshold : 0.80\tFBeta : 0.310154\n",
      "\n"
     ]
    },
    {
     "name": "stderr",
     "output_type": "stream",
     "text": [
      "Epoch 5/50  Mem : 9.29GB  LR : 1.00E-04  Loss: 0.5584: 100%|██████████| 114/114 [00:49<00:00,  2.31it/s]                                                                                                                                                                       \n",
      "Val Loss: 0.4448: 100%|██████████| 33/33 [00:08<00:00,  3.96it/s]                                                                                                                                                                                                              \n"
     ]
    },
    {
     "name": "stdout",
     "output_type": "stream",
     "text": [
      "Threshold : 0.20\tFBeta : 0.304512\n",
      "Threshold : 0.25\tFBeta : 0.366067\n",
      "Threshold : 0.30\tFBeta : 0.380232\n",
      "Threshold : 0.35\tFBeta : 0.387633\n",
      "Threshold : 0.40\tFBeta : 0.382110\n",
      "Threshold : 0.45\tFBeta : 0.371128\n",
      "Threshold : 0.50\tFBeta : 0.347345\n",
      "Threshold : 0.55\tFBeta : 0.316733\n",
      "Threshold : 0.60\tFBeta : 0.270892\n",
      "Threshold : 0.65\tFBeta : 0.219388\n",
      "Threshold : 0.70\tFBeta : 0.173509\n",
      "Threshold : 0.75\tFBeta : 0.123708\n",
      "Threshold : 0.80\tFBeta : 0.081607\n",
      "\n"
     ]
    },
    {
     "name": "stderr",
     "output_type": "stream",
     "text": [
      "Epoch 6/50  Mem : 9.29GB  LR : 9.99E-05  Loss: 0.5271: 100%|██████████| 114/114 [00:49<00:00,  2.32it/s]                                                                                                                                                                       \n",
      "Val Loss: 0.4741: 100%|██████████| 33/33 [00:08<00:00,  3.95it/s]                                                                                                                                                                                                              \n"
     ]
    },
    {
     "name": "stdout",
     "output_type": "stream",
     "text": [
      "Threshold : 0.20\tFBeta : 0.217052\n",
      "Threshold : 0.25\tFBeta : 0.231431\n",
      "Threshold : 0.30\tFBeta : 0.242969\n",
      "Threshold : 0.35\tFBeta : 0.253314\n",
      "Threshold : 0.40\tFBeta : 0.264396\n",
      "Threshold : 0.45\tFBeta : 0.279960\n",
      "Threshold : 0.50\tFBeta : 0.302246\n",
      "Threshold : 0.55\tFBeta : 0.322287\n",
      "Threshold : 0.60\tFBeta : 0.342318\n",
      "Threshold : 0.65\tFBeta : 0.360876\n",
      "Threshold : 0.70\tFBeta : 0.380946\n",
      "Threshold : 0.75\tFBeta : 0.401481\n",
      "Threshold : 0.80\tFBeta : 0.419657\n",
      "\n"
     ]
    },
    {
     "name": "stderr",
     "output_type": "stream",
     "text": [
      "Epoch 7/50  Mem : 9.29GB  LR : 9.95E-05  Loss: 0.5130: 100%|██████████| 114/114 [00:49<00:00,  2.32it/s]                                                                                                                                                                       \n",
      "Val Loss: 0.5028: 100%|██████████| 33/33 [00:08<00:00,  3.94it/s]                                                                                                                                                                                                              \n"
     ]
    },
    {
     "name": "stdout",
     "output_type": "stream",
     "text": [
      "Threshold : 0.20\tFBeta : 0.218470\n",
      "Threshold : 0.25\tFBeta : 0.229669\n",
      "Threshold : 0.30\tFBeta : 0.239501\n",
      "Threshold : 0.35\tFBeta : 0.248333\n",
      "Threshold : 0.40\tFBeta : 0.256915\n",
      "Threshold : 0.45\tFBeta : 0.266363\n",
      "Threshold : 0.50\tFBeta : 0.278059\n",
      "Threshold : 0.55\tFBeta : 0.292116\n",
      "Threshold : 0.60\tFBeta : 0.308412\n",
      "Threshold : 0.65\tFBeta : 0.326361\n",
      "Threshold : 0.70\tFBeta : 0.345342\n",
      "Threshold : 0.75\tFBeta : 0.364435\n",
      "Threshold : 0.80\tFBeta : 0.386716\n",
      "\n"
     ]
    },
    {
     "name": "stderr",
     "output_type": "stream",
     "text": [
      "Epoch 8/50  Mem : 9.29GB  LR : 9.89E-05  Loss: 0.4940: 100%|██████████| 114/114 [00:49<00:00,  2.32it/s]                                                                                                                                                                       \n",
      "Val Loss: 0.4189: 100%|██████████| 33/33 [00:08<00:00,  3.93it/s]                                                                                                                                                                                                              \n"
     ]
    },
    {
     "name": "stdout",
     "output_type": "stream",
     "text": [
      "Threshold : 0.20\tFBeta : 0.292781\n",
      "Threshold : 0.25\tFBeta : 0.303384\n",
      "Threshold : 0.30\tFBeta : 0.313579\n",
      "Threshold : 0.35\tFBeta : 0.321886\n",
      "Threshold : 0.40\tFBeta : 0.330490\n",
      "Threshold : 0.45\tFBeta : 0.341025\n",
      "Threshold : 0.50\tFBeta : 0.354804\n",
      "Threshold : 0.55\tFBeta : 0.371823\n",
      "Threshold : 0.60\tFBeta : 0.389277\n",
      "Threshold : 0.65\tFBeta : 0.407056\n",
      "Threshold : 0.70\tFBeta : 0.421416\n",
      "Threshold : 0.75\tFBeta : 0.430437\n",
      "Threshold : 0.80\tFBeta : 0.434038\n",
      "\n"
     ]
    },
    {
     "name": "stderr",
     "output_type": "stream",
     "text": [
      "Epoch 9/50  Mem : 9.29GB  LR : 9.81E-05  Loss: 0.4845: 100%|██████████| 114/114 [00:49<00:00,  2.31it/s]                                                                                                                                                                       \n",
      "Val Loss: 0.3871: 100%|██████████| 33/33 [00:08<00:00,  3.98it/s]                                                                                                                                                                                                              \n"
     ]
    },
    {
     "name": "stdout",
     "output_type": "stream",
     "text": [
      "Threshold : 0.20\tFBeta : 0.354458\n",
      "Threshold : 0.25\tFBeta : 0.376255\n",
      "Threshold : 0.30\tFBeta : 0.394420\n",
      "Threshold : 0.35\tFBeta : 0.410389\n",
      "Threshold : 0.40\tFBeta : 0.425151\n",
      "Threshold : 0.45\tFBeta : 0.439548\n",
      "Threshold : 0.50\tFBeta : 0.451429\n",
      "Threshold : 0.55\tFBeta : 0.457168\n",
      "Threshold : 0.60\tFBeta : 0.461777\n",
      "Threshold : 0.65\tFBeta : 0.465956\n",
      "Threshold : 0.70\tFBeta : 0.464329\n",
      "Threshold : 0.75\tFBeta : 0.455963\n",
      "Threshold : 0.80\tFBeta : 0.441962\n",
      "\n"
     ]
    },
    {
     "name": "stderr",
     "output_type": "stream",
     "text": [
      "Epoch 10/50  Mem : 9.29GB  LR : 9.70E-05  Loss: 0.4661: 100%|██████████| 114/114 [00:48<00:00,  2.34it/s]                                                                                                                                                                      \n",
      "Val Loss: 0.4811: 100%|██████████| 33/33 [00:08<00:00,  3.96it/s]                                                                                                                                                                                                              \n"
     ]
    },
    {
     "name": "stdout",
     "output_type": "stream",
     "text": [
      "Threshold : 0.20\tFBeta : 0.243780\n",
      "Threshold : 0.25\tFBeta : 0.254663\n",
      "Threshold : 0.30\tFBeta : 0.264744\n",
      "Threshold : 0.35\tFBeta : 0.274645\n",
      "Threshold : 0.40\tFBeta : 0.284999\n",
      "Threshold : 0.45\tFBeta : 0.298019\n",
      "Threshold : 0.50\tFBeta : 0.312685\n",
      "Threshold : 0.55\tFBeta : 0.324677\n",
      "Threshold : 0.60\tFBeta : 0.337521\n",
      "Threshold : 0.65\tFBeta : 0.351009\n",
      "Threshold : 0.70\tFBeta : 0.365912\n",
      "Threshold : 0.75\tFBeta : 0.383326\n",
      "Threshold : 0.80\tFBeta : 0.402777\n",
      "\n"
     ]
    },
    {
     "name": "stderr",
     "output_type": "stream",
     "text": [
      "Epoch 11/50  Mem : 9.29GB  LR : 9.57E-05  Loss: 0.4628: 100%|██████████| 114/114 [00:49<00:00,  2.32it/s]                                                                                                                                                                      \n",
      "Val Loss: 0.4237: 100%|██████████| 33/33 [00:08<00:00,  3.96it/s]                                                                                                                                                                                                              \n"
     ]
    },
    {
     "name": "stdout",
     "output_type": "stream",
     "text": [
      "Threshold : 0.20\tFBeta : 0.417789\n",
      "Threshold : 0.25\tFBeta : 0.425583\n",
      "Threshold : 0.30\tFBeta : 0.430361\n",
      "Threshold : 0.35\tFBeta : 0.431808\n",
      "Threshold : 0.40\tFBeta : 0.430791\n",
      "Threshold : 0.45\tFBeta : 0.424862\n",
      "Threshold : 0.50\tFBeta : 0.415139\n",
      "Threshold : 0.55\tFBeta : 0.403853\n",
      "Threshold : 0.60\tFBeta : 0.388719\n",
      "Threshold : 0.65\tFBeta : 0.367413\n",
      "Threshold : 0.70\tFBeta : 0.339681\n",
      "Threshold : 0.75\tFBeta : 0.302447\n",
      "Threshold : 0.80\tFBeta : 0.251465\n",
      "\n"
     ]
    },
    {
     "name": "stderr",
     "output_type": "stream",
     "text": [
      "Epoch 12/50  Mem : 9.29GB  LR : 9.41E-05  Loss: 0.4519: 100%|██████████| 114/114 [00:48<00:00,  2.33it/s]                                                                                                                                                                      \n",
      "Val Loss: 0.3879: 100%|██████████| 33/33 [00:08<00:00,  3.94it/s]                                                                                                                                                                                                              \n"
     ]
    },
    {
     "name": "stdout",
     "output_type": "stream",
     "text": [
      "Threshold : 0.20\tFBeta : 0.521312\n",
      "Threshold : 0.25\tFBeta : 0.529394\n",
      "Threshold : 0.30\tFBeta : 0.533224\n",
      "Threshold : 0.35\tFBeta : 0.533598\n",
      "Threshold : 0.40\tFBeta : 0.532023\n",
      "Threshold : 0.45\tFBeta : 0.528532\n",
      "Threshold : 0.50\tFBeta : 0.523539\n",
      "Threshold : 0.55\tFBeta : 0.513714\n",
      "Threshold : 0.60\tFBeta : 0.500555\n",
      "Threshold : 0.65\tFBeta : 0.476680\n",
      "Threshold : 0.70\tFBeta : 0.441249\n",
      "Threshold : 0.75\tFBeta : 0.398227\n",
      "Threshold : 0.80\tFBeta : 0.338322\n",
      "\n"
     ]
    },
    {
     "name": "stderr",
     "output_type": "stream",
     "text": [
      "Epoch 13/50  Mem : 9.29GB  LR : 9.24E-05  Loss: 0.4480: 100%|██████████| 114/114 [00:49<00:00,  2.31it/s]                                                                                                                                                                      \n",
      "Val Loss: 0.3825: 100%|██████████| 33/33 [00:08<00:00,  3.94it/s]                                                                                                                                                                                                              \n"
     ]
    },
    {
     "name": "stdout",
     "output_type": "stream",
     "text": [
      "Threshold : 0.20\tFBeta : 0.450516\n",
      "Threshold : 0.25\tFBeta : 0.464490\n",
      "Threshold : 0.30\tFBeta : 0.476993\n",
      "Threshold : 0.35\tFBeta : 0.485142\n",
      "Threshold : 0.40\tFBeta : 0.492108\n",
      "Threshold : 0.45\tFBeta : 0.497059\n",
      "Threshold : 0.50\tFBeta : 0.500671\n",
      "Threshold : 0.55\tFBeta : 0.504295\n",
      "Threshold : 0.60\tFBeta : 0.507883\n",
      "Threshold : 0.65\tFBeta : 0.508626\n",
      "Threshold : 0.70\tFBeta : 0.508927\n",
      "Threshold : 0.75\tFBeta : 0.507510\n",
      "Threshold : 0.80\tFBeta : 0.497577\n",
      "\n"
     ]
    },
    {
     "name": "stderr",
     "output_type": "stream",
     "text": [
      "Epoch 14/50  Mem : 9.29GB  LR : 9.05E-05  Loss: 0.4418: 100%|██████████| 114/114 [00:49<00:00,  2.33it/s]                                                                                                                                                                      \n",
      "Val Loss: 0.5359: 100%|██████████| 33/33 [00:08<00:00,  3.95it/s]                                                                                                                                                                                                              \n"
     ]
    },
    {
     "name": "stdout",
     "output_type": "stream",
     "text": [
      "Threshold : 0.20\tFBeta : 0.238402\n",
      "Threshold : 0.25\tFBeta : 0.249094\n",
      "Threshold : 0.30\tFBeta : 0.257925\n",
      "Threshold : 0.35\tFBeta : 0.265323\n",
      "Threshold : 0.40\tFBeta : 0.272508\n",
      "Threshold : 0.45\tFBeta : 0.280236\n",
      "Threshold : 0.50\tFBeta : 0.288189\n",
      "Threshold : 0.55\tFBeta : 0.296657\n",
      "Threshold : 0.60\tFBeta : 0.305615\n",
      "Threshold : 0.65\tFBeta : 0.316370\n",
      "Threshold : 0.70\tFBeta : 0.329056\n",
      "Threshold : 0.75\tFBeta : 0.344198\n",
      "Threshold : 0.80\tFBeta : 0.362640\n",
      "\n"
     ]
    },
    {
     "name": "stderr",
     "output_type": "stream",
     "text": [
      "Epoch 15/50  Mem : 9.29GB  LR : 8.83E-05  Loss: 0.4349: 100%|██████████| 114/114 [00:48<00:00,  2.33it/s]                                                                                                                                                                      \n",
      "Val Loss: 0.3695: 100%|██████████| 33/33 [00:08<00:00,  3.96it/s]                                                                                                                                                                                                              \n"
     ]
    },
    {
     "name": "stdout",
     "output_type": "stream",
     "text": [
      "Threshold : 0.20\tFBeta : 0.484341\n",
      "Threshold : 0.25\tFBeta : 0.501336\n",
      "Threshold : 0.30\tFBeta : 0.514072\n",
      "Threshold : 0.35\tFBeta : 0.522644\n",
      "Threshold : 0.40\tFBeta : 0.527818\n",
      "Threshold : 0.45\tFBeta : 0.531423\n",
      "Threshold : 0.50\tFBeta : 0.533857\n",
      "Threshold : 0.55\tFBeta : 0.536453\n",
      "Threshold : 0.60\tFBeta : 0.535918\n",
      "Threshold : 0.65\tFBeta : 0.528587\n",
      "Threshold : 0.70\tFBeta : 0.518220\n",
      "Threshold : 0.75\tFBeta : 0.496199\n",
      "Threshold : 0.80\tFBeta : 0.459806\n",
      "\n"
     ]
    },
    {
     "name": "stderr",
     "output_type": "stream",
     "text": [
      "Epoch 16/50  Mem : 9.29GB  LR : 8.60E-05  Loss: 0.4351: 100%|██████████| 114/114 [00:49<00:00,  2.31it/s]                                                                                                                                                                      \n",
      "Val Loss: 0.4008: 100%|██████████| 33/33 [00:08<00:00,  3.93it/s]                                                                                                                                                                                                              \n"
     ]
    },
    {
     "name": "stdout",
     "output_type": "stream",
     "text": [
      "Threshold : 0.20\tFBeta : 0.283843\n",
      "Threshold : 0.25\tFBeta : 0.301597\n",
      "Threshold : 0.30\tFBeta : 0.317591\n",
      "Threshold : 0.35\tFBeta : 0.331726\n",
      "Threshold : 0.40\tFBeta : 0.344880\n",
      "Threshold : 0.45\tFBeta : 0.358140\n",
      "Threshold : 0.50\tFBeta : 0.371456\n",
      "Threshold : 0.55\tFBeta : 0.386883\n",
      "Threshold : 0.60\tFBeta : 0.405824\n",
      "Threshold : 0.65\tFBeta : 0.429026\n",
      "Threshold : 0.70\tFBeta : 0.457355\n",
      "Threshold : 0.75\tFBeta : 0.488501\n",
      "Threshold : 0.80\tFBeta : 0.518444\n",
      "\n"
     ]
    },
    {
     "name": "stderr",
     "output_type": "stream",
     "text": [
      "Epoch 17/50  Mem : 9.29GB  LR : 8.35E-05  Loss: 0.4231: 100%|██████████| 114/114 [00:49<00:00,  2.32it/s]                                                                                                                                                                      \n",
      "Val Loss: 0.3609: 100%|██████████| 33/33 [00:08<00:00,  3.94it/s]                                                                                                                                                                                                              \n"
     ]
    },
    {
     "name": "stdout",
     "output_type": "stream",
     "text": [
      "Threshold : 0.20\tFBeta : 0.386300\n",
      "Threshold : 0.25\tFBeta : 0.406418\n",
      "Threshold : 0.30\tFBeta : 0.423136\n",
      "Threshold : 0.35\tFBeta : 0.437304\n",
      "Threshold : 0.40\tFBeta : 0.449048\n",
      "Threshold : 0.45\tFBeta : 0.459994\n",
      "Threshold : 0.50\tFBeta : 0.470004\n",
      "Threshold : 0.55\tFBeta : 0.480257\n",
      "Threshold : 0.60\tFBeta : 0.491245\n",
      "Threshold : 0.65\tFBeta : 0.502266\n",
      "Threshold : 0.70\tFBeta : 0.514619\n",
      "Threshold : 0.75\tFBeta : 0.527665\n",
      "Threshold : 0.80\tFBeta : 0.541770\n",
      "\n"
     ]
    },
    {
     "name": "stderr",
     "output_type": "stream",
     "text": [
      "Epoch 18/50  Mem : 9.29GB  LR : 8.08E-05  Loss: 0.4120: 100%|██████████| 114/114 [00:49<00:00,  2.32it/s]                                                                                                                                                                      \n",
      "Val Loss: 0.4410: 100%|██████████| 33/33 [00:08<00:00,  3.94it/s]                                                                                                                                                                                                              \n"
     ]
    },
    {
     "name": "stdout",
     "output_type": "stream",
     "text": [
      "Threshold : 0.20\tFBeta : 0.276822\n",
      "Threshold : 0.25\tFBeta : 0.289359\n",
      "Threshold : 0.30\tFBeta : 0.300048\n",
      "Threshold : 0.35\tFBeta : 0.309302\n",
      "Threshold : 0.40\tFBeta : 0.317739\n",
      "Threshold : 0.45\tFBeta : 0.325865\n",
      "Threshold : 0.50\tFBeta : 0.334847\n",
      "Threshold : 0.55\tFBeta : 0.345575\n",
      "Threshold : 0.60\tFBeta : 0.358364\n",
      "Threshold : 0.65\tFBeta : 0.373748\n",
      "Threshold : 0.70\tFBeta : 0.391979\n",
      "Threshold : 0.75\tFBeta : 0.412994\n",
      "Threshold : 0.80\tFBeta : 0.437932\n",
      "\n"
     ]
    },
    {
     "name": "stderr",
     "output_type": "stream",
     "text": [
      "Epoch 19/50  Mem : 9.29GB  LR : 7.80E-05  Loss: 0.4271: 100%|██████████| 114/114 [00:49<00:00,  2.31it/s]                                                                                                                                                                      \n",
      "Val Loss: 0.3680: 100%|██████████| 33/33 [00:08<00:00,  3.98it/s]                                                                                                                                                                                                              \n"
     ]
    },
    {
     "name": "stdout",
     "output_type": "stream",
     "text": [
      "Threshold : 0.20\tFBeta : 0.370471\n",
      "Threshold : 0.25\tFBeta : 0.384575\n",
      "Threshold : 0.30\tFBeta : 0.396082\n",
      "Threshold : 0.35\tFBeta : 0.407150\n",
      "Threshold : 0.40\tFBeta : 0.416759\n",
      "Threshold : 0.45\tFBeta : 0.425798\n",
      "Threshold : 0.50\tFBeta : 0.435010\n",
      "Threshold : 0.55\tFBeta : 0.446174\n",
      "Threshold : 0.60\tFBeta : 0.457130\n",
      "Threshold : 0.65\tFBeta : 0.467591\n",
      "Threshold : 0.70\tFBeta : 0.478302\n",
      "Threshold : 0.75\tFBeta : 0.489508\n",
      "Threshold : 0.80\tFBeta : 0.500533\n",
      "\n"
     ]
    },
    {
     "name": "stderr",
     "output_type": "stream",
     "text": [
      "Epoch 20/50  Mem : 9.29GB  LR : 7.50E-05  Loss: 0.4054: 100%|██████████| 114/114 [00:48<00:00,  2.34it/s]                                                                                                                                                                      \n",
      "Val Loss: 0.4129: 100%|██████████| 33/33 [00:08<00:00,  3.97it/s]                                                                                                                                                                                                              \n"
     ]
    },
    {
     "name": "stdout",
     "output_type": "stream",
     "text": [
      "Threshold : 0.20\tFBeta : 0.283130\n",
      "Threshold : 0.25\tFBeta : 0.298643\n",
      "Threshold : 0.30\tFBeta : 0.312992\n",
      "Threshold : 0.35\tFBeta : 0.326652\n",
      "Threshold : 0.40\tFBeta : 0.338948\n",
      "Threshold : 0.45\tFBeta : 0.350007\n",
      "Threshold : 0.50\tFBeta : 0.361054\n",
      "Threshold : 0.55\tFBeta : 0.373188\n",
      "Threshold : 0.60\tFBeta : 0.387779\n",
      "Threshold : 0.65\tFBeta : 0.405271\n",
      "Threshold : 0.70\tFBeta : 0.426257\n",
      "Threshold : 0.75\tFBeta : 0.453388\n",
      "Threshold : 0.80\tFBeta : 0.486955\n",
      "\n"
     ]
    },
    {
     "name": "stderr",
     "output_type": "stream",
     "text": [
      "Epoch 21/50  Mem : 9.29GB  LR : 7.19E-05  Loss: 0.3988: 100%|██████████| 114/114 [00:49<00:00,  2.32it/s]                                                                                                                                                                      \n",
      "Val Loss: 0.3484: 100%|██████████| 33/33 [00:08<00:00,  3.94it/s]                                                                                                                                                                                                              \n"
     ]
    },
    {
     "name": "stdout",
     "output_type": "stream",
     "text": [
      "Threshold : 0.20\tFBeta : 0.431799\n",
      "Threshold : 0.25\tFBeta : 0.448961\n",
      "Threshold : 0.30\tFBeta : 0.466022\n",
      "Threshold : 0.35\tFBeta : 0.481134\n",
      "Threshold : 0.40\tFBeta : 0.492859\n",
      "Threshold : 0.45\tFBeta : 0.503691\n",
      "Threshold : 0.50\tFBeta : 0.514200\n",
      "Threshold : 0.55\tFBeta : 0.525232\n",
      "Threshold : 0.60\tFBeta : 0.536242\n",
      "Threshold : 0.65\tFBeta : 0.545272\n",
      "Threshold : 0.70\tFBeta : 0.553341\n",
      "Threshold : 0.75\tFBeta : 0.559634\n",
      "Threshold : 0.80\tFBeta : 0.557009\n",
      "\n"
     ]
    },
    {
     "name": "stderr",
     "output_type": "stream",
     "text": [
      "Epoch 22/50  Mem : 9.29GB  LR : 6.87E-05  Loss: 0.3944: 100%|██████████| 114/114 [00:49<00:00,  2.30it/s]                                                                                                                                                                      \n",
      "Val Loss: 0.3907: 100%|██████████| 33/33 [00:08<00:00,  3.95it/s]                                                                                                                                                                                                              \n"
     ]
    },
    {
     "name": "stdout",
     "output_type": "stream",
     "text": [
      "Threshold : 0.20\tFBeta : 0.316668\n",
      "Threshold : 0.25\tFBeta : 0.331311\n",
      "Threshold : 0.30\tFBeta : 0.344148\n",
      "Threshold : 0.35\tFBeta : 0.354740\n",
      "Threshold : 0.40\tFBeta : 0.364391\n",
      "Threshold : 0.45\tFBeta : 0.373977\n",
      "Threshold : 0.50\tFBeta : 0.384865\n",
      "Threshold : 0.55\tFBeta : 0.396895\n",
      "Threshold : 0.60\tFBeta : 0.412194\n",
      "Threshold : 0.65\tFBeta : 0.430876\n",
      "Threshold : 0.70\tFBeta : 0.451665\n",
      "Threshold : 0.75\tFBeta : 0.476053\n",
      "Threshold : 0.80\tFBeta : 0.503993\n",
      "\n"
     ]
    },
    {
     "name": "stderr",
     "output_type": "stream",
     "text": [
      "Epoch 23/50  Mem : 9.29GB  LR : 6.55E-05  Loss: 0.4025: 100%|██████████| 114/114 [00:49<00:00,  2.32it/s]                                                                                                                                                                      \n",
      "Val Loss: 0.3744: 100%|██████████| 33/33 [00:08<00:00,  3.95it/s]                                                                                                                                                                                                              \n"
     ]
    },
    {
     "name": "stdout",
     "output_type": "stream",
     "text": [
      "Threshold : 0.20\tFBeta : 0.352422\n",
      "Threshold : 0.25\tFBeta : 0.371812\n",
      "Threshold : 0.30\tFBeta : 0.387549\n",
      "Threshold : 0.35\tFBeta : 0.401340\n",
      "Threshold : 0.40\tFBeta : 0.413695\n",
      "Threshold : 0.45\tFBeta : 0.424832\n",
      "Threshold : 0.50\tFBeta : 0.435748\n",
      "Threshold : 0.55\tFBeta : 0.446793\n",
      "Threshold : 0.60\tFBeta : 0.458396\n",
      "Threshold : 0.65\tFBeta : 0.470729\n",
      "Threshold : 0.70\tFBeta : 0.485266\n",
      "Threshold : 0.75\tFBeta : 0.500293\n",
      "Threshold : 0.80\tFBeta : 0.516742\n",
      "\n"
     ]
    },
    {
     "name": "stderr",
     "output_type": "stream",
     "text": [
      "Epoch 24/50  Mem : 9.29GB  LR : 6.21E-05  Loss: 0.3834: 100%|██████████| 114/114 [00:49<00:00,  2.30it/s]                                                                                                                                                                      \n",
      "Val Loss: 0.3730: 100%|██████████| 33/33 [00:08<00:00,  3.97it/s]                                                                                                                                                                                                              \n"
     ]
    },
    {
     "name": "stdout",
     "output_type": "stream",
     "text": [
      "Threshold : 0.20\tFBeta : 0.592610\n",
      "Threshold : 0.25\tFBeta : 0.598966\n",
      "Threshold : 0.30\tFBeta : 0.599740\n",
      "Threshold : 0.35\tFBeta : 0.598235\n",
      "Threshold : 0.40\tFBeta : 0.595466\n",
      "Threshold : 0.45\tFBeta : 0.591892\n",
      "Threshold : 0.50\tFBeta : 0.585546\n",
      "Threshold : 0.55\tFBeta : 0.578980\n",
      "Threshold : 0.60\tFBeta : 0.570387\n",
      "Threshold : 0.65\tFBeta : 0.560187\n",
      "Threshold : 0.70\tFBeta : 0.548318\n",
      "Threshold : 0.75\tFBeta : 0.529690\n",
      "Threshold : 0.80\tFBeta : 0.496334\n",
      "\n"
     ]
    },
    {
     "name": "stderr",
     "output_type": "stream",
     "text": [
      "Epoch 25/50  Mem : 9.29GB  LR : 5.87E-05  Loss: 0.3926: 100%|██████████| 114/114 [00:49<00:00,  2.33it/s]                                                                                                                                                                      \n",
      "Val Loss: 0.3414: 100%|██████████| 33/33 [00:08<00:00,  3.94it/s]                                                                                                                                                                                                              \n"
     ]
    },
    {
     "name": "stdout",
     "output_type": "stream",
     "text": [
      "Threshold : 0.20\tFBeta : 0.474903\n",
      "Threshold : 0.25\tFBeta : 0.493732\n",
      "Threshold : 0.30\tFBeta : 0.508399\n",
      "Threshold : 0.35\tFBeta : 0.519394\n",
      "Threshold : 0.40\tFBeta : 0.526715\n",
      "Threshold : 0.45\tFBeta : 0.533099\n",
      "Threshold : 0.50\tFBeta : 0.539674\n",
      "Threshold : 0.55\tFBeta : 0.544840\n",
      "Threshold : 0.60\tFBeta : 0.549666\n",
      "Threshold : 0.65\tFBeta : 0.556170\n",
      "Threshold : 0.70\tFBeta : 0.562785\n",
      "Threshold : 0.75\tFBeta : 0.570415\n",
      "Threshold : 0.80\tFBeta : 0.577893\n",
      "\n"
     ]
    },
    {
     "name": "stderr",
     "output_type": "stream",
     "text": [
      "Epoch 26/50  Mem : 9.29GB  LR : 5.52E-05  Loss: 0.3764: 100%|██████████| 114/114 [00:48<00:00,  2.33it/s]                                                                                                                                                                      \n",
      "Val Loss: 0.4000: 100%|██████████| 33/33 [00:08<00:00,  3.97it/s]                                                                                                                                                                                                              \n"
     ]
    },
    {
     "name": "stdout",
     "output_type": "stream",
     "text": [
      "Threshold : 0.20\tFBeta : 0.310266\n",
      "Threshold : 0.25\tFBeta : 0.329156\n",
      "Threshold : 0.30\tFBeta : 0.345715\n",
      "Threshold : 0.35\tFBeta : 0.359482\n",
      "Threshold : 0.40\tFBeta : 0.370493\n",
      "Threshold : 0.45\tFBeta : 0.379785\n",
      "Threshold : 0.50\tFBeta : 0.388312\n",
      "Threshold : 0.55\tFBeta : 0.397374\n",
      "Threshold : 0.60\tFBeta : 0.407835\n",
      "Threshold : 0.65\tFBeta : 0.420750\n",
      "Threshold : 0.70\tFBeta : 0.436262\n",
      "Threshold : 0.75\tFBeta : 0.455770\n",
      "Threshold : 0.80\tFBeta : 0.479722\n",
      "\n"
     ]
    },
    {
     "name": "stderr",
     "output_type": "stream",
     "text": [
      "Epoch 27/50  Mem : 9.29GB  LR : 5.17E-05  Loss: 0.3736: 100%|██████████| 114/114 [00:49<00:00,  2.32it/s]                                                                                                                                                                      \n",
      "Val Loss: 0.4806: 100%|██████████| 33/33 [00:08<00:00,  3.96it/s]                                                                                                                                                                                                              \n"
     ]
    },
    {
     "name": "stdout",
     "output_type": "stream",
     "text": [
      "Threshold : 0.20\tFBeta : 0.257577\n",
      "Threshold : 0.25\tFBeta : 0.269161\n",
      "Threshold : 0.30\tFBeta : 0.279849\n",
      "Threshold : 0.35\tFBeta : 0.289387\n",
      "Threshold : 0.40\tFBeta : 0.297629\n",
      "Threshold : 0.45\tFBeta : 0.305277\n",
      "Threshold : 0.50\tFBeta : 0.313306\n",
      "Threshold : 0.55\tFBeta : 0.322070\n",
      "Threshold : 0.60\tFBeta : 0.332187\n",
      "Threshold : 0.65\tFBeta : 0.343924\n",
      "Threshold : 0.70\tFBeta : 0.358564\n",
      "Threshold : 0.75\tFBeta : 0.377369\n",
      "Threshold : 0.80\tFBeta : 0.402246\n",
      "\n"
     ]
    },
    {
     "name": "stderr",
     "output_type": "stream",
     "text": [
      "Epoch 28/50  Mem : 9.29GB  LR : 4.83E-05  Loss: 0.3742: 100%|██████████| 114/114 [00:49<00:00,  2.31it/s]                                                                                                                                                                      \n",
      "Val Loss: 0.3469: 100%|██████████| 33/33 [00:08<00:00,  3.96it/s]                                                                                                                                                                                                              \n"
     ]
    },
    {
     "name": "stdout",
     "output_type": "stream",
     "text": [
      "Threshold : 0.20\tFBeta : 0.464322\n",
      "Threshold : 0.25\tFBeta : 0.481242\n",
      "Threshold : 0.30\tFBeta : 0.494791\n",
      "Threshold : 0.35\tFBeta : 0.505423\n",
      "Threshold : 0.40\tFBeta : 0.515478\n",
      "Threshold : 0.45\tFBeta : 0.524553\n",
      "Threshold : 0.50\tFBeta : 0.532270\n",
      "Threshold : 0.55\tFBeta : 0.538793\n",
      "Threshold : 0.60\tFBeta : 0.544924\n",
      "Threshold : 0.65\tFBeta : 0.550116\n",
      "Threshold : 0.70\tFBeta : 0.551829\n",
      "Threshold : 0.75\tFBeta : 0.549198\n",
      "Threshold : 0.80\tFBeta : 0.536196\n",
      "\n"
     ]
    },
    {
     "name": "stderr",
     "output_type": "stream",
     "text": [
      "Epoch 29/50  Mem : 9.29GB  LR : 4.48E-05  Loss: 0.3774: 100%|██████████| 114/114 [00:48<00:00,  2.33it/s]                                                                                                                                                                      \n",
      "Val Loss: 0.3557: 100%|██████████| 33/33 [00:08<00:00,  3.91it/s]                                                                                                                                                                                                              \n"
     ]
    },
    {
     "name": "stdout",
     "output_type": "stream",
     "text": [
      "Threshold : 0.20\tFBeta : 0.383097\n",
      "Threshold : 0.25\tFBeta : 0.403152\n",
      "Threshold : 0.30\tFBeta : 0.419281\n",
      "Threshold : 0.35\tFBeta : 0.432130\n",
      "Threshold : 0.40\tFBeta : 0.443150\n",
      "Threshold : 0.45\tFBeta : 0.453075\n",
      "Threshold : 0.50\tFBeta : 0.463557\n",
      "Threshold : 0.55\tFBeta : 0.475493\n",
      "Threshold : 0.60\tFBeta : 0.488377\n",
      "Threshold : 0.65\tFBeta : 0.501733\n",
      "Threshold : 0.70\tFBeta : 0.516256\n",
      "Threshold : 0.75\tFBeta : 0.532100\n",
      "Threshold : 0.80\tFBeta : 0.549482\n",
      "\n"
     ]
    },
    {
     "name": "stderr",
     "output_type": "stream",
     "text": [
      "Epoch 30/50  Mem : 9.29GB  LR : 4.13E-05  Loss: 0.3692: 100%|██████████| 114/114 [00:49<00:00,  2.30it/s]                                                                                                                                                                      \n",
      "Val Loss: 0.3300: 100%|██████████| 33/33 [00:08<00:00,  3.94it/s]                                                                                                                                                                                                              \n"
     ]
    },
    {
     "name": "stdout",
     "output_type": "stream",
     "text": [
      "Threshold : 0.20\tFBeta : 0.513067\n",
      "Threshold : 0.25\tFBeta : 0.531821\n",
      "Threshold : 0.30\tFBeta : 0.547312\n",
      "Threshold : 0.35\tFBeta : 0.558309\n",
      "Threshold : 0.40\tFBeta : 0.567663\n",
      "Threshold : 0.45\tFBeta : 0.575529\n",
      "Threshold : 0.50\tFBeta : 0.581998\n",
      "Threshold : 0.55\tFBeta : 0.587061\n",
      "Threshold : 0.60\tFBeta : 0.592583\n",
      "Threshold : 0.65\tFBeta : 0.597480\n",
      "Threshold : 0.70\tFBeta : 0.602672\n",
      "Threshold : 0.75\tFBeta : 0.607878\n",
      "Threshold : 0.80\tFBeta : 0.607790\n",
      "\n"
     ]
    },
    {
     "name": "stderr",
     "output_type": "stream",
     "text": [
      "Epoch 31/50  Mem : 9.29GB  LR : 3.79E-05  Loss: 0.3634: 100%|██████████| 114/114 [00:49<00:00,  2.29it/s]                                                                                                                                                                      \n",
      "Val Loss: 0.3337: 100%|██████████| 33/33 [00:08<00:00,  3.98it/s]                                                                                                                                                                                                              \n"
     ]
    },
    {
     "name": "stdout",
     "output_type": "stream",
     "text": [
      "Threshold : 0.20\tFBeta : 0.417709\n",
      "Threshold : 0.25\tFBeta : 0.444066\n",
      "Threshold : 0.30\tFBeta : 0.465252\n",
      "Threshold : 0.35\tFBeta : 0.484065\n",
      "Threshold : 0.40\tFBeta : 0.501127\n",
      "Threshold : 0.45\tFBeta : 0.515686\n",
      "Threshold : 0.50\tFBeta : 0.528582\n",
      "Threshold : 0.55\tFBeta : 0.540814\n",
      "Threshold : 0.60\tFBeta : 0.552429\n",
      "Threshold : 0.65\tFBeta : 0.564156\n",
      "Threshold : 0.70\tFBeta : 0.576329\n",
      "Threshold : 0.75\tFBeta : 0.591145\n",
      "Threshold : 0.80\tFBeta : 0.606398\n",
      "\n"
     ]
    },
    {
     "name": "stderr",
     "output_type": "stream",
     "text": [
      "Epoch 32/50  Mem : 9.29GB  LR : 3.45E-05  Loss: 0.3628: 100%|██████████| 114/114 [00:49<00:00,  2.30it/s]                                                                                                                                                                      \n",
      "Val Loss: 0.3354: 100%|██████████| 33/33 [00:08<00:00,  3.94it/s]                                                                                                                                                                                                              \n"
     ]
    },
    {
     "name": "stdout",
     "output_type": "stream",
     "text": [
      "Threshold : 0.20\tFBeta : 0.432835\n",
      "Threshold : 0.25\tFBeta : 0.454217\n",
      "Threshold : 0.30\tFBeta : 0.472009\n",
      "Threshold : 0.35\tFBeta : 0.487009\n",
      "Threshold : 0.40\tFBeta : 0.499964\n",
      "Threshold : 0.45\tFBeta : 0.511565\n",
      "Threshold : 0.50\tFBeta : 0.522263\n",
      "Threshold : 0.55\tFBeta : 0.533343\n",
      "Threshold : 0.60\tFBeta : 0.544875\n",
      "Threshold : 0.65\tFBeta : 0.556908\n",
      "Threshold : 0.70\tFBeta : 0.569376\n",
      "Threshold : 0.75\tFBeta : 0.582231\n",
      "Threshold : 0.80\tFBeta : 0.594372\n",
      "\n"
     ]
    },
    {
     "name": "stderr",
     "output_type": "stream",
     "text": [
      "Epoch 33/50  Mem : 9.29GB  LR : 3.13E-05  Loss: 0.3724: 100%|██████████| 114/114 [00:49<00:00,  2.31it/s]                                                                                                                                                                      \n",
      "Val Loss: 0.3376: 100%|██████████| 33/33 [00:08<00:00,  3.95it/s]                                                                                                                                                                                                              \n"
     ]
    },
    {
     "name": "stdout",
     "output_type": "stream",
     "text": [
      "Threshold : 0.20\tFBeta : 0.472989\n",
      "Threshold : 0.25\tFBeta : 0.493698\n",
      "Threshold : 0.30\tFBeta : 0.509331\n",
      "Threshold : 0.35\tFBeta : 0.521758\n",
      "Threshold : 0.40\tFBeta : 0.531906\n",
      "Threshold : 0.45\tFBeta : 0.540219\n",
      "Threshold : 0.50\tFBeta : 0.548923\n",
      "Threshold : 0.55\tFBeta : 0.556808\n",
      "Threshold : 0.60\tFBeta : 0.564245\n",
      "Threshold : 0.65\tFBeta : 0.573346\n",
      "Threshold : 0.70\tFBeta : 0.581477\n",
      "Threshold : 0.75\tFBeta : 0.589811\n",
      "Threshold : 0.80\tFBeta : 0.593550\n",
      "\n"
     ]
    },
    {
     "name": "stderr",
     "output_type": "stream",
     "text": [
      "Epoch 34/50  Mem : 9.29GB  LR : 2.81E-05  Loss: 0.3512: 100%|██████████| 114/114 [00:49<00:00,  2.31it/s]                                                                                                                                                                      \n",
      "Val Loss: 0.3376: 100%|██████████| 33/33 [00:08<00:00,  3.94it/s]                                                                                                                                                                                                              \n"
     ]
    },
    {
     "name": "stdout",
     "output_type": "stream",
     "text": [
      "Threshold : 0.20\tFBeta : 0.462602\n",
      "Threshold : 0.25\tFBeta : 0.478578\n",
      "Threshold : 0.30\tFBeta : 0.491284\n",
      "Threshold : 0.35\tFBeta : 0.502234\n",
      "Threshold : 0.40\tFBeta : 0.512025\n",
      "Threshold : 0.45\tFBeta : 0.519731\n",
      "Threshold : 0.50\tFBeta : 0.527095\n",
      "Threshold : 0.55\tFBeta : 0.534618\n",
      "Threshold : 0.60\tFBeta : 0.541918\n",
      "Threshold : 0.65\tFBeta : 0.548981\n",
      "Threshold : 0.70\tFBeta : 0.556651\n",
      "Threshold : 0.75\tFBeta : 0.564580\n",
      "Threshold : 0.80\tFBeta : 0.572997\n",
      "\n"
     ]
    },
    {
     "name": "stderr",
     "output_type": "stream",
     "text": [
      "Epoch 35/50  Mem : 9.29GB  LR : 2.50E-05  Loss: 0.3529: 100%|██████████| 114/114 [00:49<00:00,  2.30it/s]                                                                                                                                                                      \n",
      "Val Loss: 0.3252: 100%|██████████| 33/33 [00:08<00:00,  3.94it/s]                                                                                                                                                                                                              \n"
     ]
    },
    {
     "name": "stdout",
     "output_type": "stream",
     "text": [
      "Threshold : 0.20\tFBeta : 0.497050\n",
      "Threshold : 0.25\tFBeta : 0.516720\n",
      "Threshold : 0.30\tFBeta : 0.531138\n",
      "Threshold : 0.35\tFBeta : 0.542716\n",
      "Threshold : 0.40\tFBeta : 0.550897\n",
      "Threshold : 0.45\tFBeta : 0.558216\n",
      "Threshold : 0.50\tFBeta : 0.564910\n",
      "Threshold : 0.55\tFBeta : 0.571678\n",
      "Threshold : 0.60\tFBeta : 0.579209\n",
      "Threshold : 0.65\tFBeta : 0.587431\n",
      "Threshold : 0.70\tFBeta : 0.596828\n",
      "Threshold : 0.75\tFBeta : 0.607247\n",
      "Threshold : 0.80\tFBeta : 0.619407\n",
      "\n"
     ]
    },
    {
     "name": "stderr",
     "output_type": "stream",
     "text": [
      "Epoch 36/50  Mem : 9.29GB  LR : 2.20E-05  Loss: 0.3567: 100%|██████████| 114/114 [00:49<00:00,  2.31it/s]                                                                                                                                                                      \n",
      "Val Loss: 0.3512: 100%|██████████| 33/33 [00:08<00:00,  3.94it/s]                                                                                                                                                                                                              \n"
     ]
    },
    {
     "name": "stdout",
     "output_type": "stream",
     "text": [
      "Threshold : 0.20\tFBeta : 0.393118\n",
      "Threshold : 0.25\tFBeta : 0.411990\n",
      "Threshold : 0.30\tFBeta : 0.427183\n",
      "Threshold : 0.35\tFBeta : 0.440118\n",
      "Threshold : 0.40\tFBeta : 0.451414\n",
      "Threshold : 0.45\tFBeta : 0.461679\n",
      "Threshold : 0.50\tFBeta : 0.471072\n",
      "Threshold : 0.55\tFBeta : 0.480451\n",
      "Threshold : 0.60\tFBeta : 0.490406\n",
      "Threshold : 0.65\tFBeta : 0.502230\n",
      "Threshold : 0.70\tFBeta : 0.516468\n",
      "Threshold : 0.75\tFBeta : 0.534222\n",
      "Threshold : 0.80\tFBeta : 0.554421\n",
      "\n"
     ]
    },
    {
     "name": "stderr",
     "output_type": "stream",
     "text": [
      "Epoch 37/50  Mem : 9.29GB  LR : 1.92E-05  Loss: 0.3512: 100%|██████████| 114/114 [00:49<00:00,  2.31it/s]                                                                                                                                                                      \n",
      "Val Loss: 0.3368: 100%|██████████| 33/33 [00:08<00:00,  3.97it/s]                                                                                                                                                                                                              \n"
     ]
    },
    {
     "name": "stdout",
     "output_type": "stream",
     "text": [
      "Threshold : 0.20\tFBeta : 0.481308\n",
      "Threshold : 0.25\tFBeta : 0.500120\n",
      "Threshold : 0.30\tFBeta : 0.514395\n",
      "Threshold : 0.35\tFBeta : 0.525271\n",
      "Threshold : 0.40\tFBeta : 0.534976\n",
      "Threshold : 0.45\tFBeta : 0.542943\n",
      "Threshold : 0.50\tFBeta : 0.550231\n",
      "Threshold : 0.55\tFBeta : 0.557597\n",
      "Threshold : 0.60\tFBeta : 0.565022\n",
      "Threshold : 0.65\tFBeta : 0.571642\n",
      "Threshold : 0.70\tFBeta : 0.577833\n",
      "Threshold : 0.75\tFBeta : 0.585623\n",
      "Threshold : 0.80\tFBeta : 0.593361\n",
      "\n"
     ]
    },
    {
     "name": "stderr",
     "output_type": "stream",
     "text": [
      "Epoch 38/50  Mem : 9.29GB  LR : 1.65E-05  Loss: 0.3416: 100%|██████████| 114/114 [00:48<00:00,  2.33it/s]                                                                                                                                                                      \n",
      "Val Loss: 0.3394: 100%|██████████| 33/33 [00:08<00:00,  3.97it/s]                                                                                                                                                                                                              \n"
     ]
    },
    {
     "name": "stdout",
     "output_type": "stream",
     "text": [
      "Threshold : 0.20\tFBeta : 0.446641\n",
      "Threshold : 0.25\tFBeta : 0.464663\n",
      "Threshold : 0.30\tFBeta : 0.479478\n",
      "Threshold : 0.35\tFBeta : 0.491724\n",
      "Threshold : 0.40\tFBeta : 0.501934\n",
      "Threshold : 0.45\tFBeta : 0.510590\n",
      "Threshold : 0.50\tFBeta : 0.519139\n",
      "Threshold : 0.55\tFBeta : 0.527618\n",
      "Threshold : 0.60\tFBeta : 0.536526\n",
      "Threshold : 0.65\tFBeta : 0.546301\n",
      "Threshold : 0.70\tFBeta : 0.556502\n",
      "Threshold : 0.75\tFBeta : 0.567636\n",
      "Threshold : 0.80\tFBeta : 0.579920\n",
      "\n"
     ]
    },
    {
     "name": "stderr",
     "output_type": "stream",
     "text": [
      "Epoch 39/50  Mem : 9.29GB  LR : 1.40E-05  Loss: 0.3456: 100%|██████████| 114/114 [00:49<00:00,  2.30it/s]                                                                                                                                                                      \n",
      "Val Loss: 0.3346: 100%|██████████| 33/33 [00:08<00:00,  3.95it/s]                                                                                                                                                                                                              \n"
     ]
    },
    {
     "name": "stdout",
     "output_type": "stream",
     "text": [
      "Threshold : 0.20\tFBeta : 0.455279\n",
      "Threshold : 0.25\tFBeta : 0.477416\n",
      "Threshold : 0.30\tFBeta : 0.494813\n",
      "Threshold : 0.35\tFBeta : 0.508331\n",
      "Threshold : 0.40\tFBeta : 0.520144\n",
      "Threshold : 0.45\tFBeta : 0.530735\n",
      "Threshold : 0.50\tFBeta : 0.540808\n",
      "Threshold : 0.55\tFBeta : 0.550576\n",
      "Threshold : 0.60\tFBeta : 0.559281\n",
      "Threshold : 0.65\tFBeta : 0.566980\n",
      "Threshold : 0.70\tFBeta : 0.575580\n",
      "Threshold : 0.75\tFBeta : 0.585556\n",
      "Threshold : 0.80\tFBeta : 0.595372\n",
      "\n"
     ]
    },
    {
     "name": "stderr",
     "output_type": "stream",
     "text": [
      "Epoch 40/50  Mem : 9.29GB  LR : 1.17E-05  Loss: 0.3391: 100%|██████████| 114/114 [00:49<00:00,  2.32it/s]                                                                                                                                                                      \n",
      "Val Loss: 0.3338: 100%|██████████| 33/33 [00:08<00:00,  3.96it/s]                                                                                                                                                                                                              \n"
     ]
    },
    {
     "name": "stdout",
     "output_type": "stream",
     "text": [
      "Threshold : 0.20\tFBeta : 0.464605\n",
      "Threshold : 0.25\tFBeta : 0.482770\n",
      "Threshold : 0.30\tFBeta : 0.497198\n",
      "Threshold : 0.35\tFBeta : 0.508658\n",
      "Threshold : 0.40\tFBeta : 0.518402\n",
      "Threshold : 0.45\tFBeta : 0.527038\n",
      "Threshold : 0.50\tFBeta : 0.535581\n",
      "Threshold : 0.55\tFBeta : 0.543597\n",
      "Threshold : 0.60\tFBeta : 0.551696\n",
      "Threshold : 0.65\tFBeta : 0.559098\n",
      "Threshold : 0.70\tFBeta : 0.567713\n",
      "Threshold : 0.75\tFBeta : 0.575826\n",
      "Threshold : 0.80\tFBeta : 0.584522\n",
      "\n"
     ]
    },
    {
     "name": "stderr",
     "output_type": "stream",
     "text": [
      "Epoch 41/50  Mem : 9.29GB  LR : 9.55E-06  Loss: 0.3406: 100%|██████████| 114/114 [00:48<00:00,  2.33it/s]                                                                                                                                                                      \n",
      "Val Loss: 0.3339: 100%|██████████| 33/33 [00:08<00:00,  3.98it/s]                                                                                                                                                                                                              \n"
     ]
    },
    {
     "name": "stdout",
     "output_type": "stream",
     "text": [
      "Threshold : 0.20\tFBeta : 0.455472\n",
      "Threshold : 0.25\tFBeta : 0.474909\n",
      "Threshold : 0.30\tFBeta : 0.489482\n",
      "Threshold : 0.35\tFBeta : 0.501198\n",
      "Threshold : 0.40\tFBeta : 0.511499\n",
      "Threshold : 0.45\tFBeta : 0.520914\n",
      "Threshold : 0.50\tFBeta : 0.529591\n",
      "Threshold : 0.55\tFBeta : 0.538109\n",
      "Threshold : 0.60\tFBeta : 0.546278\n",
      "Threshold : 0.65\tFBeta : 0.554716\n",
      "Threshold : 0.70\tFBeta : 0.563889\n",
      "Threshold : 0.75\tFBeta : 0.573012\n",
      "Threshold : 0.80\tFBeta : 0.582689\n",
      "\n"
     ]
    },
    {
     "name": "stderr",
     "output_type": "stream",
     "text": [
      "Epoch 42/50  Mem : 9.29GB  LR : 7.60E-06  Loss: 0.3315: 100%|██████████| 114/114 [00:49<00:00,  2.30it/s]                                                                                                                                                                      \n",
      "Val Loss: 0.3287: 100%|██████████| 33/33 [00:08<00:00,  3.95it/s]                                                                                                                                                                                                              \n"
     ]
    },
    {
     "name": "stdout",
     "output_type": "stream",
     "text": [
      "Threshold : 0.20\tFBeta : 0.502724\n",
      "Threshold : 0.25\tFBeta : 0.520130\n",
      "Threshold : 0.30\tFBeta : 0.534654\n",
      "Threshold : 0.35\tFBeta : 0.545066\n",
      "Threshold : 0.40\tFBeta : 0.553896\n",
      "Threshold : 0.45\tFBeta : 0.561744\n",
      "Threshold : 0.50\tFBeta : 0.569122\n",
      "Threshold : 0.55\tFBeta : 0.576162\n",
      "Threshold : 0.60\tFBeta : 0.582869\n",
      "Threshold : 0.65\tFBeta : 0.589370\n",
      "Threshold : 0.70\tFBeta : 0.596173\n",
      "Threshold : 0.75\tFBeta : 0.601926\n",
      "Threshold : 0.80\tFBeta : 0.607482\n",
      "\n"
     ]
    },
    {
     "name": "stderr",
     "output_type": "stream",
     "text": [
      "Epoch 43/50  Mem : 9.29GB  LR : 5.85E-06  Loss: 0.3416: 100%|██████████| 114/114 [00:48<00:00,  2.34it/s]                                                                                                                                                                      \n",
      "Val Loss: 0.3322: 100%|██████████| 33/33 [00:08<00:00,  3.97it/s]                                                                                                                                                                                                              \n"
     ]
    },
    {
     "name": "stdout",
     "output_type": "stream",
     "text": [
      "Threshold : 0.20\tFBeta : 0.457571\n",
      "Threshold : 0.25\tFBeta : 0.478861\n",
      "Threshold : 0.30\tFBeta : 0.496311\n",
      "Threshold : 0.35\tFBeta : 0.509291\n",
      "Threshold : 0.40\tFBeta : 0.518790\n",
      "Threshold : 0.45\tFBeta : 0.527633\n",
      "Threshold : 0.50\tFBeta : 0.536145\n",
      "Threshold : 0.55\tFBeta : 0.545389\n",
      "Threshold : 0.60\tFBeta : 0.554504\n",
      "Threshold : 0.65\tFBeta : 0.563220\n",
      "Threshold : 0.70\tFBeta : 0.572454\n",
      "Threshold : 0.75\tFBeta : 0.581844\n",
      "Threshold : 0.80\tFBeta : 0.590861\n",
      "\n"
     ]
    },
    {
     "name": "stderr",
     "output_type": "stream",
     "text": [
      "Epoch 44/50  Mem : 9.29GB  LR : 4.32E-06  Loss: 0.3223: 100%|██████████| 114/114 [00:49<00:00,  2.32it/s]                                                                                                                                                                      \n",
      "Val Loss: 0.3307: 100%|██████████| 33/33 [00:08<00:00,  3.98it/s]                                                                                                                                                                                                              \n"
     ]
    },
    {
     "name": "stdout",
     "output_type": "stream",
     "text": [
      "Threshold : 0.20\tFBeta : 0.461946\n",
      "Threshold : 0.25\tFBeta : 0.482201\n",
      "Threshold : 0.30\tFBeta : 0.497667\n",
      "Threshold : 0.35\tFBeta : 0.510175\n",
      "Threshold : 0.40\tFBeta : 0.520643\n",
      "Threshold : 0.45\tFBeta : 0.529640\n",
      "Threshold : 0.50\tFBeta : 0.537745\n",
      "Threshold : 0.55\tFBeta : 0.546840\n",
      "Threshold : 0.60\tFBeta : 0.556349\n",
      "Threshold : 0.65\tFBeta : 0.566288\n",
      "Threshold : 0.70\tFBeta : 0.575185\n",
      "Threshold : 0.75\tFBeta : 0.583882\n",
      "Threshold : 0.80\tFBeta : 0.593751\n",
      "\n"
     ]
    },
    {
     "name": "stderr",
     "output_type": "stream",
     "text": [
      "Epoch 45/50  Mem : 9.29GB  LR : 3.02E-06  Loss: 0.3334: 100%|██████████| 114/114 [00:49<00:00,  2.30it/s]                                                                                                                                                                      \n",
      "Val Loss: 0.3268: 100%|██████████| 33/33 [00:08<00:00,  3.97it/s]                                                                                                                                                                                                              \n"
     ]
    },
    {
     "name": "stdout",
     "output_type": "stream",
     "text": [
      "Threshold : 0.20\tFBeta : 0.502539\n",
      "Threshold : 0.25\tFBeta : 0.520117\n",
      "Threshold : 0.30\tFBeta : 0.533669\n",
      "Threshold : 0.35\tFBeta : 0.543956\n",
      "Threshold : 0.40\tFBeta : 0.552265\n",
      "Threshold : 0.45\tFBeta : 0.560427\n",
      "Threshold : 0.50\tFBeta : 0.568120\n",
      "Threshold : 0.55\tFBeta : 0.574927\n",
      "Threshold : 0.60\tFBeta : 0.581110\n",
      "Threshold : 0.65\tFBeta : 0.586413\n",
      "Threshold : 0.70\tFBeta : 0.592962\n",
      "Threshold : 0.75\tFBeta : 0.600356\n",
      "Threshold : 0.80\tFBeta : 0.605577\n",
      "\n"
     ]
    },
    {
     "name": "stderr",
     "output_type": "stream",
     "text": [
      "Epoch 46/50  Mem : 9.29GB  LR : 1.94E-06  Loss: 0.3301: 100%|██████████| 114/114 [00:49<00:00,  2.31it/s]                                                                                                                                                                      \n",
      "Val Loss: 0.3303: 100%|██████████| 33/33 [00:08<00:00,  3.93it/s]                                                                                                                                                                                                              \n"
     ]
    },
    {
     "name": "stdout",
     "output_type": "stream",
     "text": [
      "Threshold : 0.20\tFBeta : 0.476964\n",
      "Threshold : 0.25\tFBeta : 0.496285\n",
      "Threshold : 0.30\tFBeta : 0.510715\n",
      "Threshold : 0.35\tFBeta : 0.522379\n",
      "Threshold : 0.40\tFBeta : 0.532110\n",
      "Threshold : 0.45\tFBeta : 0.541625\n",
      "Threshold : 0.50\tFBeta : 0.550344\n",
      "Threshold : 0.55\tFBeta : 0.558294\n",
      "Threshold : 0.60\tFBeta : 0.566287\n",
      "Threshold : 0.65\tFBeta : 0.573553\n",
      "Threshold : 0.70\tFBeta : 0.581860\n",
      "Threshold : 0.75\tFBeta : 0.589565\n",
      "Threshold : 0.80\tFBeta : 0.598474\n",
      "\n"
     ]
    },
    {
     "name": "stderr",
     "output_type": "stream",
     "text": [
      "Epoch 47/50  Mem : 9.29GB  LR : 1.09E-06  Loss: 0.3257: 100%|██████████| 114/114 [00:49<00:00,  2.33it/s]                                                                                                                                                                      \n",
      "Val Loss: 0.3290: 100%|██████████| 33/33 [00:08<00:00,  3.95it/s]                                                                                                                                                                                                              \n"
     ]
    },
    {
     "name": "stdout",
     "output_type": "stream",
     "text": [
      "Threshold : 0.20\tFBeta : 0.481355\n",
      "Threshold : 0.25\tFBeta : 0.500298\n",
      "Threshold : 0.30\tFBeta : 0.514285\n",
      "Threshold : 0.35\tFBeta : 0.524510\n",
      "Threshold : 0.40\tFBeta : 0.533613\n",
      "Threshold : 0.45\tFBeta : 0.542616\n",
      "Threshold : 0.50\tFBeta : 0.550921\n",
      "Threshold : 0.55\tFBeta : 0.558077\n",
      "Threshold : 0.60\tFBeta : 0.564881\n",
      "Threshold : 0.65\tFBeta : 0.571721\n",
      "Threshold : 0.70\tFBeta : 0.580214\n",
      "Threshold : 0.75\tFBeta : 0.588395\n",
      "Threshold : 0.80\tFBeta : 0.595772\n",
      "\n"
     ]
    },
    {
     "name": "stderr",
     "output_type": "stream",
     "text": [
      "Epoch 48/50  Mem : 9.29GB  LR : 4.87E-07  Loss: 0.3269: 100%|██████████| 114/114 [00:49<00:00,  2.31it/s]                                                                                                                                                                      \n",
      "Val Loss: 0.3277: 100%|██████████| 33/33 [00:08<00:00,  3.97it/s]                                                                                                                                                                                                              \n"
     ]
    },
    {
     "name": "stdout",
     "output_type": "stream",
     "text": [
      "Threshold : 0.20\tFBeta : 0.504650\n",
      "Threshold : 0.25\tFBeta : 0.521740\n",
      "Threshold : 0.30\tFBeta : 0.535188\n",
      "Threshold : 0.35\tFBeta : 0.545762\n",
      "Threshold : 0.40\tFBeta : 0.553616\n",
      "Threshold : 0.45\tFBeta : 0.559805\n",
      "Threshold : 0.50\tFBeta : 0.566120\n",
      "Threshold : 0.55\tFBeta : 0.572626\n",
      "Threshold : 0.60\tFBeta : 0.579027\n",
      "Threshold : 0.65\tFBeta : 0.585234\n",
      "Threshold : 0.70\tFBeta : 0.591339\n",
      "Threshold : 0.75\tFBeta : 0.597553\n",
      "Threshold : 0.80\tFBeta : 0.603851\n",
      "\n"
     ]
    },
    {
     "name": "stderr",
     "output_type": "stream",
     "text": [
      "Epoch 49/50  Mem : 9.29GB  LR : 1.22E-07  Loss: 0.3251: 100%|██████████| 114/114 [00:49<00:00,  2.32it/s]                                                                                                                                                                      \n",
      "Val Loss: 0.3335: 100%|██████████| 33/33 [00:08<00:00,  3.95it/s]                                                                                                                                                                                                              \n"
     ]
    },
    {
     "name": "stdout",
     "output_type": "stream",
     "text": [
      "Threshold : 0.20\tFBeta : 0.468245\n",
      "Threshold : 0.25\tFBeta : 0.486446\n",
      "Threshold : 0.30\tFBeta : 0.501060\n",
      "Threshold : 0.35\tFBeta : 0.512416\n",
      "Threshold : 0.40\tFBeta : 0.521362\n",
      "Threshold : 0.45\tFBeta : 0.530030\n",
      "Threshold : 0.50\tFBeta : 0.538728\n",
      "Threshold : 0.55\tFBeta : 0.546837\n",
      "Threshold : 0.60\tFBeta : 0.554686\n",
      "Threshold : 0.65\tFBeta : 0.562276\n",
      "Threshold : 0.70\tFBeta : 0.571132\n",
      "Threshold : 0.75\tFBeta : 0.580652\n",
      "Threshold : 0.80\tFBeta : 0.589653\n",
      "\n"
     ]
    },
    {
     "name": "stderr",
     "output_type": "stream",
     "text": [
      "Epoch 50/50  Mem : 9.29GB  LR : 4.00E-10  Loss: 0.3281: 100%|██████████| 114/114 [00:49<00:00,  2.32it/s]                                                                                                                                                                      \n",
      "Val Loss: 0.3292: 100%|██████████| 33/33 [00:08<00:00,  3.98it/s]                                                                                                                                                                                                              \n"
     ]
    },
    {
     "name": "stdout",
     "output_type": "stream",
     "text": [
      "Threshold : 0.20\tFBeta : 0.497982\n",
      "Threshold : 0.25\tFBeta : 0.515425\n",
      "Threshold : 0.30\tFBeta : 0.527417\n",
      "Threshold : 0.35\tFBeta : 0.537585\n",
      "Threshold : 0.40\tFBeta : 0.546279\n",
      "Threshold : 0.45\tFBeta : 0.553440\n",
      "Threshold : 0.50\tFBeta : 0.560676\n",
      "Threshold : 0.55\tFBeta : 0.567866\n",
      "Threshold : 0.60\tFBeta : 0.574330\n",
      "Threshold : 0.65\tFBeta : 0.580197\n",
      "Threshold : 0.70\tFBeta : 0.587098\n",
      "Threshold : 0.75\tFBeta : 0.592423\n",
      "Threshold : 0.80\tFBeta : 0.598161\n",
      "\n"
     ]
    }
   ],
   "source": [
    "fbeta_best = 0.0\n",
    "for epoch in range(1, EPOCHS+1):\n",
    "    model.train()\n",
    "    cur_lr = f\"LR : {scheduler.get_last_lr()[0]:.2E}\"\n",
    "    pbar_train = enumerate(dataloader_train)\n",
    "    pbar_train = tqdm(pbar_train, total=n_train, bar_format=\"{l_bar}{bar:10}{r_bar}{bar:-10b}\")\n",
    "    mloss_train, mloss_val, val_metric = 0.0, 0.0, 0.0\n",
    "\n",
    "    \n",
    "\n",
    "\n",
    "\n",
    "\n",
    "    for i, (fragments, masks) in pbar_train:\n",
    "        fragments, masks = fragments.cuda().half(), masks.cuda().half()\n",
    "        \n",
    "        \n",
    "        optimizer.zero_grad()\n",
    "        with amp.autocast():\n",
    "            pred_masks = model(fragments)\n",
    "            loss = criterion(pred_masks, masks)\n",
    "            scaler.scale(loss).backward()\n",
    "            scaler.step(optimizer)\n",
    "            scaler.update()\n",
    "            mloss_train += loss.detach().item()\n",
    "\n",
    "        gpu_mem = f\"Mem : {torch.cuda.memory_reserved() / 1E9:.3g}GB\"\n",
    "        pbar_train.set_description((\"%10s  \" * 3 + \"%10s\") % (f\"Epoch {epoch}/{EPOCHS}\", gpu_mem, cur_lr,\n",
    "                                                              f\"Loss: {mloss_train / (i + 1):.4f}\"))\n",
    "        \n",
    "    scheduler.step()\n",
    "    model.eval()\n",
    "    pbar_val = enumerate(dataloader_valid)\n",
    "    pbar_val = tqdm(pbar_val, total=n_valid, bar_format=\"{l_bar}{bar:10}{r_bar}{bar:-10b}\")\n",
    "    final_pred_mask = torch.zeros(gt_shape, dtype=torch.float32, device='cuda')\n",
    "    \n",
    "    for i, (fragments, masks, xys) in pbar_val:\n",
    "        fragments, masks = fragments.cuda(), masks.cuda()\n",
    "        \n",
    "        with torch.no_grad():\n",
    "            pred_masks = model(fragments)\n",
    "            mloss_val += criterion(pred_masks, masks).item()\n",
    "            pred_masks = torch.sigmoid(pred_masks)\n",
    "        \n",
    "        for j, xy in enumerate(xys):\n",
    "            final_pred_mask[xy[1]:xy[3], xy[0]:xy[2]] = pred_masks[j, 0]\n",
    "\n",
    "        pbar_val.set_description((\"%10s\") % (f\"Val Loss: {mloss_val / (i+1):.4f}\"))\n",
    "    \n",
    "    for threshold in np.arange(0.2, 0.85, 0.05):\n",
    "        fbeta = fbeta_score(final_pred_mask, gt_mask, threshold)\n",
    "        print(f\"Threshold : {threshold:.2f}\\tFBeta : {fbeta:.6f}\")\n",
    "        \n",
    "        if fbeta_best < fbeta:\n",
    "            fbeta_best = fbeta\n",
    "            torch.save(model.module.state_dict(), f\"./ckpts/resnet18_3d_seg_best_{fbeta_best:.4f}.pt\")\n",
    "    \n",
    "    \n",
    "    # if epoch >= 10:\n",
    "    #     torch.save(model.module.state_dict(), f\"./ckpts/resnet18_3d_seg_epoch_{epoch}.pt\")\n",
    "\n",
    "    # if epoch == 30:\n",
    "    #     break\n",
    "\n",
    "    print()"
   ]
  },
  {
   "cell_type": "code",
   "execution_count": 22,
   "id": "2c48f344",
   "metadata": {
    "execution": {
     "iopub.execute_input": "2023-05-23T11:03:31.424643Z",
     "iopub.status.busy": "2023-05-23T11:03:31.424541Z",
     "iopub.status.idle": "2023-05-23T11:03:31.426856Z",
     "shell.execute_reply": "2023-05-23T11:03:31.426664Z"
    }
   },
   "outputs": [],
   "source": [
    "# import logging\n",
    "\n",
    "# logging.basicConfig(filename=\"training_log.txt\", level=logging.INFO)\n",
    "\n",
    "# console = logging.StreamHandler()\n",
    "# console.setLevel(logging.INFO)\n",
    "# logging.getLogger('').addHandler(console)\n",
    "\n",
    "# fbeta_best = 0.0\n",
    "# for epoch in range(1, EPOCHS+1):\n",
    "#     model.train()\n",
    "#     cur_lr = f\"LR : {scheduler.get_last_lr()[0]:.2E}\"\n",
    "#     pbar_train = enumerate(dataloader_train)\n",
    "#     pbar_train = tqdm(pbar_train, total=n_train, bar_format=\"{l_bar}{bar:10}{r_bar}{bar:-10b}\")\n",
    "#     mloss_train, mloss_val, val_metric = 0.0, 0.0, 0.0\n",
    "\n",
    "#     for i, (fragments, masks) in pbar_train:\n",
    "#         fragments, masks = fragments.cuda().half(), masks.cuda().half()\n",
    "        \n",
    "#         optimizer.zero_grad()\n",
    "#         with amp.autocast():\n",
    "#             pred_masks = model(fragments)\n",
    "#             loss = criterion(pred_masks, masks)\n",
    "#             scaler.scale(loss).backward()\n",
    "#             scaler.step(optimizer)\n",
    "#             scaler.update()\n",
    "#             mloss_train += loss.detach().item()\n",
    "\n",
    "#         gpu_mem = f\"Mem : {torch.cuda.memory_reserved() / 1E9:.3g}GB\"\n",
    "#         pbar_train.set_description((\"%10s  \" * 3 + \"%10s\") % (f\"Epoch {epoch}/{EPOCHS}\", gpu_mem, cur_lr,\n",
    "#                                                               f\"Loss: {mloss_train / (i + 1):.4f}\"))\n",
    "#         logging.info((\"%10s  \" * 3 + \"%10s\") % (f\"Epoch {epoch}/{EPOCHS}\", gpu_mem, cur_lr,\n",
    "#                                                 f\"Loss: {mloss_train / (i + 1):.4f}\"))\n",
    "#     scheduler.step()\n",
    "#     model.eval()\n",
    "#     pbar_val = enumerate(dataloader_valid)\n",
    "#     pbar_val = tqdm(pbar_val, total=n_valid, bar_format=\"{l_bar}{bar:10}{r_bar}{bar:-10b}\")\n",
    "#     final_pred_mask = torch.zeros(gt_shape, dtype=torch.float32, device='cuda')\n",
    "    \n",
    "#     for i, (fragments, masks, xys) in pbar_val:\n",
    "#         fragments, masks = fragments.cuda(), masks.cuda()\n",
    "        \n",
    "#         with torch.no_grad():\n",
    "#             pred_masks = model(fragments)\n",
    "#             mloss_val += criterion(pred_masks, masks).item()\n",
    "#             pred_masks = torch.sigmoid(pred_masks)\n",
    "        \n",
    "#         for j, xy in enumerate(xys):\n",
    "#             final_pred_mask[xy[1]:xy[3], xy[0]:xy[2]] = pred_masks[j, 0]\n",
    "\n",
    "#         pbar_val.set_description((\"%10s\") % (f\"Val Loss: {mloss_val / (i+1):.4f}\"))\n",
    "#         logging.info((\"%10s\") % (f\"Val Loss: {mloss_val / (i+1):.4f}\"))\n",
    "\n",
    "#     for threshold in np.arange(0.2, 0.85, 0.05):\n",
    "#         fbeta = fbeta_score(final_pred_mask, gt_mask, threshold)\n",
    "#         logging.info(f\"Threshold : {threshold:.2f}\\tFBeta : {fbeta:.6f}\")\n",
    "\n",
    "#         if fbeta_best < fbeta:\n",
    "#             fbeta_best = fbeta\n",
    "#             torch.save(model.module.state_dict(), f\"./ckpts/resnet18_3d_seg_best.pt\")\n",
    "    \n",
    "#     # if epoch >= 10:\n",
    "#     #     torch.save(model.module.state_dict(), f\"./ckpts/resnet18_3d_seg_epoch_{epoch}.pt\")\n"
   ]
  },
  {
   "cell_type": "code",
   "execution_count": null,
   "id": "89431087",
   "metadata": {
    "papermill": {
     "duration": 0.381515,
     "end_time": "2023-04-08T11:20:14.478012",
     "exception": false,
     "start_time": "2023-04-08T11:20:14.096497",
     "status": "completed"
    },
    "tags": []
   },
   "outputs": [],
   "source": []
  }
 ],
 "metadata": {
  "kernelspec": {
   "display_name": "Python 3",
   "language": "python",
   "name": "python3"
  },
  "language_info": {
   "codemirror_mode": {
    "name": "ipython",
    "version": 3
   },
   "file_extension": ".py",
   "mimetype": "text/x-python",
   "name": "python",
   "nbconvert_exporter": "python",
   "pygments_lexer": "ipython3",
   "version": "3.9.16"
  },
  "papermill": {
   "default_parameters": {},
   "duration": 4132.646938,
   "end_time": "2023-04-08T11:20:18.816611",
   "environment_variables": {},
   "exception": null,
   "input_path": "__notebook__.ipynb",
   "output_path": "__notebook__.ipynb",
   "parameters": {},
   "start_time": "2023-04-08T10:11:26.169673",
   "version": "2.4.0"
  }
 },
 "nbformat": 4,
 "nbformat_minor": 5
}
