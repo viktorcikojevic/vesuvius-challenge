{
 "cells": [
  {
   "attachments": {},
   "cell_type": "markdown",
   "id": "73dea9ca",
   "metadata": {
    "papermill": {
     "duration": 0.006587,
     "end_time": "2023-04-08T10:11:36.662576",
     "exception": false,
     "start_time": "2023-04-08T10:11:36.655989",
     "status": "completed"
    },
    "tags": []
   },
   "source": [
    "## Vesuvius Challenge - Ink Detection Training Notebook"
   ]
  },
  {
   "attachments": {},
   "cell_type": "markdown",
   "id": "8cdbb7ff",
   "metadata": {
    "papermill": {
     "duration": 0.004951,
     "end_time": "2023-04-08T10:11:36.672955",
     "exception": false,
     "start_time": "2023-04-08T10:11:36.668004",
     "status": "completed"
    },
    "tags": []
   },
   "source": [
    "### Setup"
   ]
  },
  {
   "cell_type": "code",
   "execution_count": 1,
   "id": "ae445317",
   "metadata": {
    "_kg_hide-input": false,
    "_kg_hide-output": true,
    "execution": {
     "iopub.execute_input": "2023-05-22T07:17:52.385277Z",
     "iopub.status.busy": "2023-05-22T07:17:52.384889Z",
     "iopub.status.idle": "2023-05-22T07:17:52.562201Z",
     "shell.execute_reply": "2023-05-22T07:17:52.560239Z"
    },
    "papermill": {
     "duration": 29.297355,
     "end_time": "2023-04-08T10:12:05.976007",
     "exception": false,
     "start_time": "2023-04-08T10:11:36.678652",
     "status": "completed"
    },
    "tags": []
   },
   "outputs": [],
   "source": [
    "# # Pretrained weights\n",
    "# # ref - https://github.com/kenshohara/3D-ResNets-PyTorch\n",
    "# !pip install gdown\n",
    "# !gdown 1Nb4abvIkkp_ydPFA9sNPT1WakoVKA8Fa\n",
    "\n",
    "# # Utility packages for reading and visualizing volumes\n",
    "# !pip install zarr imageio-ffmpeg\n",
    "\n",
    "# save model checkpoints\n",
    "!mkdir ./ckpts"
   ]
  },
  {
   "cell_type": "code",
   "execution_count": 2,
   "id": "0d956f5c",
   "metadata": {
    "execution": {
     "iopub.execute_input": "2023-05-22T07:17:52.567634Z",
     "iopub.status.busy": "2023-05-22T07:17:52.567248Z",
     "iopub.status.idle": "2023-05-22T07:17:53.365562Z",
     "shell.execute_reply": "2023-05-22T07:17:53.365188Z"
    },
    "papermill": {
     "duration": 3.289261,
     "end_time": "2023-04-08T10:12:09.273534",
     "exception": false,
     "start_time": "2023-04-08T10:12:05.984273",
     "status": "completed"
    },
    "tags": []
   },
   "outputs": [],
   "source": [
    "import os\n",
    "import gc\n",
    "import sys\n",
    "import zarr\n",
    "import random\n",
    "import imageio\n",
    "import numpy as np\n",
    "import pandas as pd\n",
    "from tqdm import tqdm\n",
    "import matplotlib.pyplot as plt\n",
    "from IPython.display import Video\n",
    "\n",
    "import torch\n",
    "import torch.nn as nn\n",
    "import torch.nn.functional as F\n",
    "from torch.cuda import amp\n",
    "from torch.utils.data import Dataset, DataLoader\n",
    "\n",
    "sys.path.append(\"./resnet3d\")\n",
    "from resnet3d import generate_model"
   ]
  },
  {
   "attachments": {},
   "cell_type": "markdown",
   "id": "88b00fe4",
   "metadata": {
    "papermill": {
     "duration": 0.007297,
     "end_time": "2023-04-08T10:12:09.288770",
     "exception": false,
     "start_time": "2023-04-08T10:12:09.281473",
     "status": "completed"
    },
    "tags": []
   },
   "source": [
    "### Config"
   ]
  },
  {
   "cell_type": "code",
   "execution_count": 3,
   "id": "59e26b77",
   "metadata": {
    "execution": {
     "iopub.execute_input": "2023-05-22T07:17:53.367117Z",
     "iopub.status.busy": "2023-05-22T07:17:53.366962Z",
     "iopub.status.idle": "2023-05-22T07:17:53.368802Z",
     "shell.execute_reply": "2023-05-22T07:17:53.368613Z"
    },
    "papermill": {
     "duration": 0.016571,
     "end_time": "2023-04-08T10:12:09.312935",
     "exception": false,
     "start_time": "2023-04-08T10:12:09.296364",
     "status": "completed"
    },
    "tags": []
   },
   "outputs": [],
   "source": [
    "LR = 1e-4\n",
    "EPOCHS = 50\n",
    "BATCH_SIZE = 32\n",
    "CROP_SIZE = 256\n",
    "Z_START = 24\n",
    "Z_DIMS = 16\n",
    "TRAIN_FRAGMENTS = [\"2\", \"3\"]\n",
    "TEST_FRAGMENT = \"1\""
   ]
  },
  {
   "attachments": {},
   "cell_type": "markdown",
   "id": "9a1e0328",
   "metadata": {
    "papermill": {
     "duration": 0.007428,
     "end_time": "2023-04-08T10:12:09.328094",
     "exception": false,
     "start_time": "2023-04-08T10:12:09.320666",
     "status": "completed"
    },
    "tags": []
   },
   "source": [
    "### Load data"
   ]
  },
  {
   "cell_type": "code",
   "execution_count": 4,
   "id": "8c494d99",
   "metadata": {
    "execution": {
     "iopub.execute_input": "2023-05-22T07:17:53.369932Z",
     "iopub.status.busy": "2023-05-22T07:17:53.369855Z",
     "iopub.status.idle": "2023-05-22T07:17:53.377930Z",
     "shell.execute_reply": "2023-05-22T07:17:53.377722Z"
    },
    "papermill": {
     "duration": 0.054715,
     "end_time": "2023-04-08T10:12:09.391635",
     "exception": false,
     "start_time": "2023-04-08T10:12:09.336920",
     "status": "completed"
    },
    "tags": []
   },
   "outputs": [],
   "source": [
    "\n",
    "\n",
    "FRAGMENTS_ZARR = {\n",
    "    \"1\" : zarr.open(\"/home/viktor/Documents/kaggle/vesuvius-challenge/kaggle-data/train-1.zarr\", mode=\"r\"),\n",
    "    \"2\" : zarr.open(\"/home/viktor/Documents/kaggle/vesuvius-challenge/kaggle-data/train-2.zarr\", mode=\"r\"),\n",
    "    \"3\" : zarr.open(\"/home/viktor/Documents/kaggle/vesuvius-challenge/kaggle-data/train-3.zarr\", mode=\"r\")\n",
    "}\n",
    "\n",
    "FRAGMENTS_SHAPE = {k : v.mask.shape for k, v in FRAGMENTS_ZARR.items()}"
   ]
  },
  {
   "attachments": {},
   "cell_type": "markdown",
   "id": "97a51afa",
   "metadata": {
    "papermill": {
     "duration": 0.007406,
     "end_time": "2023-04-08T10:12:09.406465",
     "exception": false,
     "start_time": "2023-04-08T10:12:09.399059",
     "status": "completed"
    },
    "tags": []
   },
   "source": [
    "### Visualise input"
   ]
  },
  {
   "cell_type": "code",
   "execution_count": 5,
   "id": "6d33b9f8",
   "metadata": {
    "execution": {
     "iopub.execute_input": "2023-05-22T07:17:53.379094Z",
     "iopub.status.busy": "2023-05-22T07:17:53.378949Z",
     "iopub.status.idle": "2023-05-22T07:17:53.529336Z",
     "shell.execute_reply": "2023-05-22T07:17:53.529120Z"
    },
    "papermill": {
     "duration": 1.68744,
     "end_time": "2023-04-08T10:12:11.101290",
     "exception": false,
     "start_time": "2023-04-08T10:12:09.413850",
     "status": "completed"
    },
    "tags": []
   },
   "outputs": [
    {
     "name": "stderr",
     "output_type": "stream",
     "text": [
      "Lossy conversion from uint16 to uint8. Losing 8 bits of resolution. Convert image to uint8 prior to saving to suppress this warning.\n",
      "Lossy conversion from uint16 to uint8. Losing 8 bits of resolution. Convert image to uint8 prior to saving to suppress this warning.\n",
      "Lossy conversion from uint16 to uint8. Losing 8 bits of resolution. Convert image to uint8 prior to saving to suppress this warning.\n",
      "Lossy conversion from uint16 to uint8. Losing 8 bits of resolution. Convert image to uint8 prior to saving to suppress this warning.\n",
      "Lossy conversion from uint16 to uint8. Losing 8 bits of resolution. Convert image to uint8 prior to saving to suppress this warning.\n",
      "Lossy conversion from uint16 to uint8. Losing 8 bits of resolution. Convert image to uint8 prior to saving to suppress this warning.\n",
      "Lossy conversion from uint16 to uint8. Losing 8 bits of resolution. Convert image to uint8 prior to saving to suppress this warning.\n",
      "Lossy conversion from uint16 to uint8. Losing 8 bits of resolution. Convert image to uint8 prior to saving to suppress this warning.\n",
      "Lossy conversion from uint16 to uint8. Losing 8 bits of resolution. Convert image to uint8 prior to saving to suppress this warning.\n",
      "Lossy conversion from uint16 to uint8. Losing 8 bits of resolution. Convert image to uint8 prior to saving to suppress this warning.\n",
      "Lossy conversion from uint16 to uint8. Losing 8 bits of resolution. Convert image to uint8 prior to saving to suppress this warning.\n",
      "Lossy conversion from uint16 to uint8. Losing 8 bits of resolution. Convert image to uint8 prior to saving to suppress this warning.\n",
      "Lossy conversion from uint16 to uint8. Losing 8 bits of resolution. Convert image to uint8 prior to saving to suppress this warning.\n",
      "Lossy conversion from uint16 to uint8. Losing 8 bits of resolution. Convert image to uint8 prior to saving to suppress this warning.\n",
      "Lossy conversion from uint16 to uint8. Losing 8 bits of resolution. Convert image to uint8 prior to saving to suppress this warning.\n",
      "Lossy conversion from uint16 to uint8. Losing 8 bits of resolution. Convert image to uint8 prior to saving to suppress this warning.\n"
     ]
    },
    {
     "data": {
      "text/html": [
       "<video src=\"fragment_crop.mp4\" controls  width=\"256\"  height=\"256\">\n",
       "      Your browser does not support the <code>video</code> element.\n",
       "    </video>"
      ],
      "text/plain": [
       "<IPython.core.display.Video object>"
      ]
     },
     "execution_count": 5,
     "metadata": {},
     "output_type": "execute_result"
    }
   ],
   "source": [
    "fragment = FRAGMENTS_ZARR[\"1\"]\n",
    "x, y = 2000, 2000\n",
    "\n",
    "fragment_cropped = fragment.surface_volume[y:y+CROP_SIZE, x:x+CROP_SIZE, Z_START:Z_START+Z_DIMS]\n",
    "imageio.mimwrite(\"fragment_crop.mp4\", fragment_cropped.transpose(2, 0, 1), \"ffmpeg\")\n",
    "Video(\"fragment_crop.mp4\", height=256, width=256)"
   ]
  },
  {
   "cell_type": "code",
   "execution_count": 6,
   "id": "46203a93",
   "metadata": {
    "execution": {
     "iopub.execute_input": "2023-05-22T07:17:53.530469Z",
     "iopub.status.busy": "2023-05-22T07:17:53.530357Z",
     "iopub.status.idle": "2023-05-22T07:17:53.569484Z",
     "shell.execute_reply": "2023-05-22T07:17:53.569104Z"
    },
    "papermill": {
     "duration": 0.258785,
     "end_time": "2023-04-08T10:12:11.368608",
     "exception": false,
     "start_time": "2023-04-08T10:12:11.109823",
     "status": "completed"
    },
    "tags": []
   },
   "outputs": [
    {
     "data": {
      "image/png": "[encoded data removed]",
      "text/plain": [
       "<Figure size 600x300 with 2 Axes>"
      ]
     },
     "metadata": {},
     "output_type": "display_data"
    }
   ],
   "source": [
    "mask_cropped = fragment.truth[y:y+CROP_SIZE, x:x+CROP_SIZE]\n",
    "ir_cropped = fragment.infrared[y:y+CROP_SIZE, x:x+CROP_SIZE]\n",
    "\n",
    "plt.figure(figsize=(6, 3))\n",
    "plt.subplot(1, 2, 1)\n",
    "plt.imshow(mask_cropped, cmap=\"gray\")\n",
    "plt.axis(\"off\")\n",
    "\n",
    "plt.subplot(1, 2, 2)\n",
    "plt.imshow(ir_cropped, cmap=\"gray\")\n",
    "plt.axis(\"off\")\n",
    "plt.show()"
   ]
  },
  {
   "cell_type": "code",
   "execution_count": 7,
   "id": "6462d25d",
   "metadata": {
    "execution": {
     "iopub.execute_input": "2023-05-22T07:17:53.570976Z",
     "iopub.status.busy": "2023-05-22T07:17:53.570621Z",
     "iopub.status.idle": "2023-05-22T07:17:53.618666Z",
     "shell.execute_reply": "2023-05-22T07:17:53.618466Z"
    },
    "papermill": {
     "duration": 0.17287,
     "end_time": "2023-04-08T10:12:11.562933",
     "exception": false,
     "start_time": "2023-04-08T10:12:11.390063",
     "status": "completed"
    },
    "tags": []
   },
   "outputs": [
    {
     "data": {
      "text/plain": [
       "4093"
      ]
     },
     "execution_count": 7,
     "metadata": {},
     "output_type": "execute_result"
    }
   ],
   "source": [
    "del fragment, fragment_cropped, mask_cropped, ir_cropped\n",
    "gc.collect()"
   ]
  },
  {
   "attachments": {},
   "cell_type": "markdown",
   "id": "ff9cd3e8",
   "metadata": {
    "papermill": {
     "duration": 0.008474,
     "end_time": "2023-04-08T10:12:11.580070",
     "exception": false,
     "start_time": "2023-04-08T10:12:11.571596",
     "status": "completed"
    },
    "tags": []
   },
   "source": [
    "### Dataloaders"
   ]
  },
  {
   "cell_type": "code",
   "execution_count": 8,
   "id": "162ec4e8",
   "metadata": {
    "execution": {
     "iopub.execute_input": "2023-05-22T07:17:53.619873Z",
     "iopub.status.busy": "2023-05-22T07:17:53.619764Z",
     "iopub.status.idle": "2023-05-22T07:17:53.621723Z",
     "shell.execute_reply": "2023-05-22T07:17:53.621535Z"
    },
    "papermill": {
     "duration": 0.024571,
     "end_time": "2023-04-08T10:12:11.612905",
     "exception": false,
     "start_time": "2023-04-08T10:12:11.588334",
     "status": "completed"
    },
    "tags": []
   },
   "outputs": [],
   "source": [
    "# import albumentations as A\n",
    "# from albumentations.pytorch import ToTensorV2\n",
    "\n",
    "# class VesuviusTrain(Dataset):\n",
    "#     def __init__(self, fragments):\n",
    "#         self.fragments = fragments\n",
    "#         self.xys = []\n",
    "        \n",
    "#         for fragment in fragments:\n",
    "#             H, W = FRAGMENTS_SHAPE[fragment]\n",
    "#             for y in range(0, H-CROP_SIZE+1, CROP_SIZE):\n",
    "#                 for x in range(0, W-CROP_SIZE+1, CROP_SIZE):\n",
    "#                     self.xys.append((fragment, x, y, W, H))\n",
    "        \n",
    "#         train_aug_list = [\n",
    "#                 # A.RandomResizedCrop(\n",
    "#                 #     size, size, scale=(0.85, 1.0)),\n",
    "#                 A.HorizontalFlip(p=0.5),\n",
    "#                 A.VerticalFlip(p=0.5),\n",
    "#                 A.RandomBrightnessContrast(p=0.75),\n",
    "#                 A.CoarseDropout(max_holes=1, max_width=int(CROP_SIZE * 0.1), max_height=int(size * 0.1), \n",
    "#                                 mask_fill_value=0, p=0.5),\n",
    "#                 A.ShiftScaleRotate(p=0.75),\n",
    "#                 A.Rotate(limit=90, p=0.9), \n",
    "#                 A.OneOf([\n",
    "#                         A.GaussNoise(var_limit=[10, 50]),\n",
    "#                         A.GaussianBlur(),\n",
    "#                         A.MotionBlur(),\n",
    "#                         ], p=0.4),\n",
    "#                 A.GridDistortion(num_steps=1, distort_limit=0.3, p=0.5),\n",
    "                \n",
    "#                 A.Cutout(max_h_size=int(size * 0.6),\n",
    "#                          max_w_size=int(size * 0.6), num_holes=1, p=1.0),\n",
    "#                 A.Normalize(\n",
    "#                     mean= [0] * Z_DIMS,\n",
    "#                     std= [1] * Z_DIMS\n",
    "#                 ),\n",
    "#                 ToTensorV2(transpose_mask=True),\n",
    "#             ]\n",
    "        \n",
    "        \n",
    "        \n",
    "#     def __getitem__(self, i):\n",
    "#         fragment, x1, y1, W, H = self.xys[i]\n",
    "#         z1, z2 = Z_START, Z_START+Z_DIMS\n",
    "        \n",
    "#         x_offset = random.randint(-32 if x1 != 0 else 0, 32)\n",
    "#         y_offset = random.randint(-32 if y1 != 0 else 0, 32)\n",
    "        \n",
    "#         x1 += x_offset\n",
    "#         y1 += y_offset\n",
    "        \n",
    "#         x2 = x1 + CROP_SIZE\n",
    "#         y2 = y1 + CROP_SIZE\n",
    "        \n",
    "#         if x2 > W:\n",
    "#             x1 -= x_offset\n",
    "#             x2 -= x_offset\n",
    "            \n",
    "#         if y2 > H:\n",
    "#             y1 -= y_offset\n",
    "#             y2 -= y_offset\n",
    "        \n",
    "#         frag_crop = FRAGMENTS_ZARR[fragment].surface_volume[y1:y2, x1:x2, z1:z2]\n",
    "#         mask_crop = FRAGMENTS_ZARR[fragment].truth[y1:y2, x1:x2]\n",
    "        \n",
    "#         if random.random() > 0.5:\n",
    "#             frag_crop = np.flip(frag_crop, axis=1).copy()\n",
    "#             mask_crop = np.flip(mask_crop, axis=1).copy()\n",
    "\n",
    "#         frag_crop = torch.from_numpy(frag_crop.astype(np.float32)).unsqueeze(0).permute(0, 3, 1, 2)\n",
    "#         frag_crop = frag_crop/65535.0\n",
    "#         frag_crop = (frag_crop - 0.45)/0.225\n",
    "        \n",
    "#         mask_crop = torch.from_numpy(mask_crop.astype(np.float32)).unsqueeze(0)\n",
    "        \n",
    "        \n",
    "        \n",
    "        \n",
    "        \n",
    "        \n",
    "        \n",
    "        \n",
    "#         return frag_crop, mask_crop\n",
    "\n",
    "#     def __len__(self):\n",
    "#         return len(self.xys)"
   ]
  },
  {
   "cell_type": "code",
   "execution_count": 9,
   "id": "c2c0c6d5",
   "metadata": {
    "execution": {
     "iopub.execute_input": "2023-05-22T07:17:53.622873Z",
     "iopub.status.busy": "2023-05-22T07:17:53.622785Z",
     "iopub.status.idle": "2023-05-22T07:17:53.922962Z",
     "shell.execute_reply": "2023-05-22T07:17:53.922686Z"
    }
   },
   "outputs": [],
   "source": [
    "import albumentations as A\n",
    "from albumentations.pytorch import ToTensorV2\n",
    "\n",
    "class VesuviusTrain(Dataset):\n",
    "    def __init__(self, fragments):\n",
    "        self.fragments = fragments\n",
    "        self.xys = []\n",
    "        \n",
    "        for fragment in fragments:\n",
    "            H, W = FRAGMENTS_SHAPE[fragment]\n",
    "            for y in range(0, H-CROP_SIZE+1, CROP_SIZE):\n",
    "                for x in range(0, W-CROP_SIZE+1, CROP_SIZE):\n",
    "                    surface = FRAGMENTS_ZARR[fragment].surface_volume[y:y+CROP_SIZE, x:x+CROP_SIZE, 0]\n",
    "                    if np.sum(surface) / (CROP_SIZE * CROP_SIZE) > 0.2:\n",
    "                        self.xys.append((fragment, x, y, W, H))\n",
    "        \n",
    "        self.train_aug_list = [\n",
    "                # A.RandomResizedCrop(\n",
    "                #     size, size, scale=(0.85, 1.0)),\n",
    "                \n",
    "                A.HorizontalFlip(p=0.5),\n",
    "                A.VerticalFlip(p=0.5),\n",
    "                \n",
    "                # A.RandomBrightnessContrast(p=0.75),\n",
    "                A.CoarseDropout(max_holes=1, max_width=int(CROP_SIZE * 0.1), max_height=int(CROP_SIZE * 0.1), \n",
    "                                mask_fill_value=0, p=0.5),\n",
    "                # A.ShiftScaleRotate(p=0.75),\n",
    "                \n",
    "                A.Rotate(limit=90, p=0.9), \n",
    "                \n",
    "                A.OneOf([\n",
    "                        A.GaussNoise(var_limit=[0.01, 0.05]),\n",
    "                        A.GaussianBlur(blur_limit=(3, 5), sigma_limit=0),\n",
    "                        A.MotionBlur(blur_limit=3),\n",
    "                        ], p=0.4),\n",
    "                # A.GridDistortion(num_steps=1, distort_limit=0.1, p=0.5),\n",
    "                A.MultiplicativeNoise(per_channel=True, multiplier=(0.95, 1.05)),\n",
    "                \n",
    "                # A.Cutout(max_h_size=int(CROP_SIZE * 0.2),\n",
    "                #          max_w_size=int(CROP_SIZE * 0.2), num_holes=1, p=1.0),\n",
    "                \n",
    "                ToTensorV2(transpose_mask=True),\n",
    "            ]\n",
    "        \n",
    "        # Create the augmentation pipeline\n",
    "        self.augmentations = A.Compose(self.train_aug_list)\n",
    "        \n",
    "        \n",
    "        \n",
    "    def __getitem__(self, i):\n",
    "        fragment, x1, y1, W, H = self.xys[i]\n",
    "        z1, z2 = Z_START, Z_START+Z_DIMS\n",
    "        \n",
    "        x_offset = random.randint(-128 if x1 != 0 else 0, 128)\n",
    "        y_offset = random.randint(-128 if y1 != 0 else 0, 128)\n",
    "        \n",
    "        x1 += x_offset\n",
    "        y1 += y_offset\n",
    "        \n",
    "        x2 = x1 + CROP_SIZE\n",
    "        y2 = y1 + CROP_SIZE\n",
    "        \n",
    "        if x2 > W:\n",
    "            x1 -= x_offset\n",
    "            x2 -= x_offset\n",
    "            \n",
    "        if y2 > H:\n",
    "            y1 -= y_offset\n",
    "            y2 -= y_offset\n",
    "        \n",
    "        frag_crop = FRAGMENTS_ZARR[fragment].surface_volume[y1:y2, x1:x2, z1:z2]\n",
    "        mask_crop = FRAGMENTS_ZARR[fragment].truth[y1:y2, x1:x2]\n",
    "        \n",
    "        # if random.random() > 0.5:\n",
    "        #     frag_crop = np.flip(frag_crop, axis=1).copy()\n",
    "        #     mask_crop = np.flip(mask_crop, axis=1).copy()\n",
    "\n",
    "        # Perform train augmentations\n",
    "\n",
    "        frag_crop = frag_crop/65535.0\n",
    "        \n",
    "        \n",
    "        # Apply the augmentations\n",
    "        augmented = self.augmentations(image=frag_crop, mask=mask_crop)\n",
    "\n",
    "        # Separate the image and mask\n",
    "        frag_crop, mask_crop = augmented[\"image\"], augmented[\"mask\"]\n",
    "\n",
    "        # normalize\n",
    "        \n",
    "        # frag_crop = (frag_crop - 0.45)/0.225\n",
    "        \n",
    "        frag_crop = frag_crop.unsqueeze(0) \n",
    "        mask_crop = mask_crop.float().unsqueeze(0)\n",
    "        \n",
    "        \n",
    "        return frag_crop, mask_crop\n",
    "\n",
    "    def __len__(self):\n",
    "        return len(self.xys)"
   ]
  },
  {
   "cell_type": "code",
   "execution_count": 10,
   "id": "f172c2ad",
   "metadata": {
    "execution": {
     "iopub.execute_input": "2023-05-22T07:17:53.924600Z",
     "iopub.status.busy": "2023-05-22T07:17:53.924396Z",
     "iopub.status.idle": "2023-05-22T07:17:53.927981Z",
     "shell.execute_reply": "2023-05-22T07:17:53.927796Z"
    },
    "papermill": {
     "duration": 0.022963,
     "end_time": "2023-04-08T10:12:11.644387",
     "exception": false,
     "start_time": "2023-04-08T10:12:11.621424",
     "status": "completed"
    },
    "tags": []
   },
   "outputs": [],
   "source": [
    "class VesuviusVal(Dataset):\n",
    "    def __init__(self, fragment):\n",
    "        self.fragment = FRAGMENTS_ZARR[fragment]\n",
    "        self.xys = []\n",
    "        \n",
    "        H, W = FRAGMENTS_SHAPE[fragment]\n",
    "        for y in range(0, H-CROP_SIZE+1, CROP_SIZE):\n",
    "            for x in range(0, W-CROP_SIZE+1, CROP_SIZE):\n",
    "                self.xys.append((x, y))\n",
    "                \n",
    "    def __getitem__(self, i):\n",
    "        x1, y1 = self.xys[i]\n",
    "        x2, y2 = x1+CROP_SIZE, y1+CROP_SIZE\n",
    "        z1, z2 = Z_START, Z_START+Z_DIMS\n",
    "        \n",
    "        frag_crop = self.fragment.surface_volume[y1:y2, x1:x2, z1:z2]\n",
    "        mask_crop = self.fragment.truth[y1:y2, x1:x2]\n",
    "\n",
    "        frag_crop = torch.from_numpy(frag_crop.astype(np.float32)).unsqueeze(0).permute(0, 3, 1, 2)\n",
    "        frag_crop = frag_crop/65535.0\n",
    "        # frag_crop = (frag_crop - 0.45)/0.225\n",
    "        \n",
    "        mask_crop = torch.from_numpy(mask_crop.astype(np.float32)).unsqueeze(0)\n",
    "        return frag_crop, mask_crop, torch.tensor([x1, y1, x2, y2], dtype=torch.int32)\n",
    "\n",
    "    def __len__(self):\n",
    "        return len(self.xys)"
   ]
  },
  {
   "cell_type": "code",
   "execution_count": 11,
   "id": "4282f924",
   "metadata": {
    "execution": {
     "iopub.execute_input": "2023-05-22T07:17:53.929170Z",
     "iopub.status.busy": "2023-05-22T07:17:53.929020Z",
     "iopub.status.idle": "2023-05-22T07:17:59.516302Z",
     "shell.execute_reply": "2023-05-22T07:17:59.515970Z"
    },
    "papermill": {
     "duration": 0.019671,
     "end_time": "2023-04-08T10:12:11.672490",
     "exception": false,
     "start_time": "2023-04-08T10:12:11.652819",
     "status": "completed"
    },
    "tags": []
   },
   "outputs": [],
   "source": [
    "dataset_train = VesuviusTrain(TRAIN_FRAGMENTS)\n",
    "dataloader_train = DataLoader(dataset_train, batch_size=BATCH_SIZE, num_workers=2,\n",
    "                              shuffle=True, pin_memory=True, drop_last=True)\n",
    "n_train = len(dataloader_train)\n",
    "\n",
    "dataset_valid = VesuviusVal(TEST_FRAGMENT)\n",
    "dataloader_valid = DataLoader(dataset_valid, batch_size=BATCH_SIZE, num_workers=2,\n",
    "                              shuffle=False, pin_memory=True, drop_last=False)\n",
    "n_valid = len(dataloader_valid)"
   ]
  },
  {
   "cell_type": "code",
   "execution_count": 12,
   "id": "0577f1a6",
   "metadata": {
    "execution": {
     "iopub.execute_input": "2023-05-22T07:17:59.517561Z",
     "iopub.status.busy": "2023-05-22T07:17:59.517449Z",
     "iopub.status.idle": "2023-05-22T07:17:59.539280Z",
     "shell.execute_reply": "2023-05-22T07:17:59.539073Z"
    }
   },
   "outputs": [
    {
     "data": {
      "text/plain": [
       "(tensor(0.0157, dtype=torch.float64), tensor(1., dtype=torch.float64))"
      ]
     },
     "execution_count": 12,
     "metadata": {},
     "output_type": "execute_result"
    }
   ],
   "source": [
    "i = random.randint(0, len(dataset_train))\n",
    "i=30\n",
    "img = dataset_train[i][0]\n",
    "img.min(), img.max()"
   ]
  },
  {
   "cell_type": "code",
   "execution_count": 13,
   "id": "40a15748",
   "metadata": {
    "execution": {
     "iopub.execute_input": "2023-05-22T07:17:59.540247Z",
     "iopub.status.busy": "2023-05-22T07:17:59.540135Z",
     "iopub.status.idle": "2023-05-22T07:17:59.620678Z",
     "shell.execute_reply": "2023-05-22T07:17:59.620386Z"
    }
   },
   "outputs": [
    {
     "data": {
      "text/plain": [
       "<matplotlib.image.AxesImage at 0x7f37cf632d90>"
      ]
     },
     "execution_count": 13,
     "metadata": {},
     "output_type": "execute_result"
    },
    {
     "data": {
      "image/png": "[encoded data removed]",
      "text/plain": [
       "<Figure size 640x480 with 1 Axes>"
      ]
     },
     "metadata": {},
     "output_type": "display_data"
    }
   ],
   "source": [
    "img_2 = img.squeeze(0).permute(1, 2, 0).numpy()\n",
    "plt.imshow(img_2[:, :, 0], cmap=\"gray\")"
   ]
  },
  {
   "cell_type": "code",
   "execution_count": null,
   "id": "e07b120a",
   "metadata": {},
   "outputs": [],
   "source": []
  },
  {
   "cell_type": "code",
   "execution_count": null,
   "id": "a792af0c",
   "metadata": {},
   "outputs": [],
   "source": []
  },
  {
   "attachments": {},
   "cell_type": "markdown",
   "id": "cdcc7e0b",
   "metadata": {
    "papermill": {
     "duration": 0.008028,
     "end_time": "2023-04-08T10:12:11.688860",
     "exception": false,
     "start_time": "2023-04-08T10:12:11.680832",
     "status": "completed"
    },
    "tags": []
   },
   "source": [
    "### Model\n",
    "* Encoder is a 3D ResNet model. The architecture has been modified to remove temporal downsampling between blocks.\n",
    "* A 2D decoder is used for predicting the segmentation map.\n",
    "* The encoder feature maps are average pooled over the Z dimension before passing it to the decoder."
   ]
  },
  {
   "cell_type": "code",
   "execution_count": 14,
   "id": "ff7cc8a3",
   "metadata": {
    "execution": {
     "iopub.execute_input": "2023-05-22T07:17:59.622039Z",
     "iopub.status.busy": "2023-05-22T07:17:59.621943Z",
     "iopub.status.idle": "2023-05-22T07:17:59.625899Z",
     "shell.execute_reply": "2023-05-22T07:17:59.625691Z"
    },
    "papermill": {
     "duration": 0.023714,
     "end_time": "2023-04-08T10:12:11.721140",
     "exception": false,
     "start_time": "2023-04-08T10:12:11.697426",
     "status": "completed"
    },
    "tags": []
   },
   "outputs": [],
   "source": [
    "class Decoder(nn.Module):\n",
    "    def __init__(self, encoder_dims, upscale):\n",
    "        super().__init__()\n",
    "        self.convs = nn.ModuleList([\n",
    "            nn.Sequential(\n",
    "                nn.Conv2d(encoder_dims[i]+encoder_dims[i-1], encoder_dims[i-1], 3, 1, 1, bias=False),\n",
    "                nn.BatchNorm2d(encoder_dims[i-1]),\n",
    "                nn.ReLU(inplace=True)\n",
    "            ) for i in range(1, len(encoder_dims))])\n",
    "\n",
    "        self.logit = nn.Conv2d(encoder_dims[0], 1, 1, 1, 0)\n",
    "        self.up = nn.Upsample(scale_factor=upscale, mode=\"bilinear\")\n",
    "\n",
    "    def forward(self, feature_maps):\n",
    "        for i in range(len(feature_maps)-1, 0, -1):\n",
    "            f_up = F.interpolate(feature_maps[i], scale_factor=2, mode=\"bilinear\")\n",
    "            f = torch.cat([feature_maps[i-1], f_up], dim=1)\n",
    "            f_down = self.convs[i-1](f)\n",
    "            feature_maps[i-1] = f_down\n",
    "\n",
    "        x = self.logit(feature_maps[0])\n",
    "        mask = self.up(x)\n",
    "        return mask\n",
    "\n",
    "\n",
    "class SegModel(nn.Module):\n",
    "    def __init__(self):\n",
    "        super().__init__()\n",
    "        self.encoder = generate_model(model_depth=18, n_input_channels=1)\n",
    "        self.decoder = Decoder(encoder_dims=[64, 128, 256, 512], upscale=4)\n",
    "        \n",
    "    def forward(self, x):\n",
    "        feat_maps = self.encoder(x)\n",
    "        feat_maps_pooled = [torch.mean(f, dim=2) for f in feat_maps]\n",
    "        pred_mask = self.decoder(feat_maps_pooled)\n",
    "        return pred_mask\n",
    "    \n",
    "    def load_pretrained_weights(self, state_dict):\n",
    "        # Convert 3 channel weights to single channel\n",
    "        # ref - https://timm.fast.ai/models#Case-1:-When-the-number-of-input-channels-is-1\n",
    "        conv1_weight = state_dict['conv1.weight']\n",
    "        state_dict['conv1.weight'] = conv1_weight.sum(dim=1, keepdim=True)\n",
    "        print(self.encoder.load_state_dict(state_dict, strict=False))"
   ]
  },
  {
   "cell_type": "code",
   "execution_count": 15,
   "id": "67e4a0f1",
   "metadata": {
    "execution": {
     "iopub.execute_input": "2023-05-22T07:17:59.626939Z",
     "iopub.status.busy": "2023-05-22T07:17:59.626863Z",
     "iopub.status.idle": "2023-05-22T07:18:00.527895Z",
     "shell.execute_reply": "2023-05-22T07:18:00.527408Z"
    },
    "papermill": {
     "duration": 3.891528,
     "end_time": "2023-04-08T10:12:15.621016",
     "exception": false,
     "start_time": "2023-04-08T10:12:11.729488",
     "status": "completed"
    },
    "tags": []
   },
   "outputs": [
    {
     "name": "stdout",
     "output_type": "stream",
     "text": [
      "_IncompatibleKeys(missing_keys=[], unexpected_keys=['fc.weight', 'fc.bias'])\n"
     ]
    }
   ],
   "source": [
    "model = SegModel()\n",
    "model.load_pretrained_weights(torch.load(\"/home/viktor/Documents/kaggle/vesuvius-challenge/experiments/3D-resnet/r3d18_K_200ep.pth\")[\"state_dict\"])\n",
    "model = nn.DataParallel(model, device_ids=[0])\n",
    "\n",
    "model = model.cuda()"
   ]
  },
  {
   "cell_type": "code",
   "execution_count": 16,
   "id": "491e9288",
   "metadata": {
    "execution": {
     "iopub.execute_input": "2023-05-22T07:18:00.529549Z",
     "iopub.status.busy": "2023-05-22T07:18:00.529452Z",
     "iopub.status.idle": "2023-05-22T07:18:01.374530Z",
     "shell.execute_reply": "2023-05-22T07:18:01.374216Z"
    }
   },
   "outputs": [
    {
     "data": {
      "text/plain": [
       "torch.Size([5, 1, 256, 256])"
      ]
     },
     "execution_count": 16,
     "metadata": {},
     "output_type": "execute_result"
    }
   ],
   "source": [
    "x = torch.randn(5, 1, 16, 256, 256).cuda()\n",
    "with torch.no_grad():\n",
    "    y = model(x)\n",
    "y.shape"
   ]
  },
  {
   "attachments": {},
   "cell_type": "markdown",
   "id": "d84d7c0e",
   "metadata": {
    "papermill": {
     "duration": 0.008816,
     "end_time": "2023-04-08T10:12:15.638951",
     "exception": false,
     "start_time": "2023-04-08T10:12:15.630135",
     "status": "completed"
    },
    "tags": []
   },
   "source": [
    "### Competition metric (F0.5 Score)"
   ]
  },
  {
   "cell_type": "code",
   "execution_count": 17,
   "id": "61dbeb5c",
   "metadata": {
    "execution": {
     "iopub.execute_input": "2023-05-22T07:18:01.375865Z",
     "iopub.status.busy": "2023-05-22T07:18:01.375766Z",
     "iopub.status.idle": "2023-05-22T07:18:01.377970Z",
     "shell.execute_reply": "2023-05-22T07:18:01.377762Z"
    },
    "papermill": {
     "duration": 0.020268,
     "end_time": "2023-04-08T10:12:15.668008",
     "exception": false,
     "start_time": "2023-04-08T10:12:15.647740",
     "status": "completed"
    },
    "tags": []
   },
   "outputs": [],
   "source": [
    "# ref - https://www.kaggle.com/competitions/vesuvius-challenge-ink-detection/discussion/397288\n",
    "def fbeta_score(preds, targets, threshold, beta=0.5, smooth=1e-5):\n",
    "    preds_t = torch.where(preds > threshold, 1.0, 0.0).float()\n",
    "    y_true_count = targets.sum()\n",
    "    \n",
    "    ctp = preds_t[targets==1].sum()\n",
    "    cfp = preds_t[targets==0].sum()\n",
    "    beta_squared = beta * beta\n",
    "\n",
    "    c_precision = ctp / (ctp + cfp + smooth)\n",
    "    c_recall = ctp / (y_true_count + smooth)\n",
    "    dice = (1 + beta_squared) * (c_precision * c_recall) / (beta_squared * c_precision + c_recall + smooth)\n",
    "\n",
    "    return dice"
   ]
  },
  {
   "attachments": {},
   "cell_type": "markdown",
   "id": "639c9148",
   "metadata": {
    "papermill": {
     "duration": 0.008498,
     "end_time": "2023-04-08T10:12:15.685205",
     "exception": false,
     "start_time": "2023-04-08T10:12:15.676707",
     "status": "completed"
    },
    "tags": []
   },
   "source": [
    "### Training"
   ]
  },
  {
   "cell_type": "code",
   "execution_count": 18,
   "id": "0cca2e6e",
   "metadata": {
    "execution": {
     "iopub.execute_input": "2023-05-22T07:18:01.379165Z",
     "iopub.status.busy": "2023-05-22T07:18:01.379019Z",
     "iopub.status.idle": "2023-05-22T07:18:01.380964Z",
     "shell.execute_reply": "2023-05-22T07:18:01.380764Z"
    },
    "papermill": {
     "duration": 0.019067,
     "end_time": "2023-04-08T10:12:15.713237",
     "exception": false,
     "start_time": "2023-04-08T10:12:15.694170",
     "status": "completed"
    },
    "tags": []
   },
   "outputs": [],
   "source": [
    "scaler = amp.GradScaler()\n",
    "criterion = nn.BCEWithLogitsLoss()\n",
    "optimizer = torch.optim.AdamW(model.parameters(), lr=LR)\n",
    "scheduler = torch.optim.lr_scheduler.OneCycleLR(optimizer, max_lr=LR,\n",
    "                                                steps_per_epoch=10, epochs=EPOCHS//10,\n",
    "                                                pct_start=0.1)"
   ]
  },
  {
   "cell_type": "code",
   "execution_count": 19,
   "id": "7304e1fd",
   "metadata": {
    "execution": {
     "iopub.execute_input": "2023-05-22T07:18:01.382139Z",
     "iopub.status.busy": "2023-05-22T07:18:01.382023Z",
     "iopub.status.idle": "2023-05-22T07:18:01.418497Z",
     "shell.execute_reply": "2023-05-22T07:18:01.418223Z"
    },
    "papermill": {
     "duration": 0.385175,
     "end_time": "2023-04-08T10:12:16.107159",
     "exception": false,
     "start_time": "2023-04-08T10:12:15.721984",
     "status": "completed"
    },
    "tags": []
   },
   "outputs": [],
   "source": [
    "gt_mask = torch.from_numpy(np.asarray(FRAGMENTS_ZARR[TEST_FRAGMENT].truth)).float().cuda()\n",
    "gt_shape = FRAGMENTS_SHAPE[TEST_FRAGMENT]"
   ]
  },
  {
   "cell_type": "code",
   "execution_count": 20,
   "id": "c0b85bf1",
   "metadata": {
    "execution": {
     "iopub.execute_input": "2023-05-22T07:18:01.419877Z",
     "iopub.status.busy": "2023-05-22T07:18:01.419776Z",
     "iopub.status.idle": "2023-05-22T07:18:01.421680Z",
     "shell.execute_reply": "2023-05-22T07:18:01.421488Z"
    }
   },
   "outputs": [],
   "source": [
    "import logging\n",
    "\n",
    "logging.basicConfig(filename=\"training_log.txt\", level=logging.INFO)\n"
   ]
  },
  {
   "cell_type": "code",
   "execution_count": 21,
   "id": "00067c9c",
   "metadata": {
    "execution": {
     "iopub.execute_input": "2023-05-22T07:18:01.422620Z",
     "iopub.status.busy": "2023-05-22T07:18:01.422522Z",
     "iopub.status.idle": "2023-05-22T07:58:52.973569Z",
     "shell.execute_reply": "2023-05-22T07:58:52.973170Z"
    },
    "papermill": {
     "duration": 4077.588277,
     "end_time": "2023-04-08T11:20:13.706513",
     "exception": false,
     "start_time": "2023-04-08T10:12:16.118236",
     "status": "completed"
    },
    "tags": []
   },
   "outputs": [
    {
     "name": "stderr",
     "output_type": "stream",
     "text": [
      "Epoch 1/50  Mem : 14GB  LR : 4.00E-06  Loss: 0.7377: 100%|██████████| 62/62 [00:43<00:00,  1.42it/s]                                                                                                                                                                                 \n",
      "Val Loss: 0.6949: 100%|██████████| 24/24 [00:05<00:00,  4.01it/s]                                                                                                                                                                                                                    \n"
     ]
    },
    {
     "name": "stdout",
     "output_type": "stream",
     "text": [
      "Threshold : 0.20\tFBeta : 0.133235\n",
      "Threshold : 0.25\tFBeta : 0.133554\n",
      "Threshold : 0.30\tFBeta : 0.134138\n",
      "Threshold : 0.35\tFBeta : 0.138940\n",
      "Threshold : 0.40\tFBeta : 0.156246\n",
      "Threshold : 0.45\tFBeta : 0.170577\n",
      "Threshold : 0.50\tFBeta : 0.182187\n",
      "Threshold : 0.55\tFBeta : 0.182607\n",
      "Threshold : 0.60\tFBeta : 0.132345\n",
      "Threshold : 0.65\tFBeta : 0.036453\n",
      "Threshold : 0.70\tFBeta : 0.001594\n",
      "Threshold : 0.75\tFBeta : 0.000013\n",
      "Threshold : 0.80\tFBeta : 0.000000\n",
      "\n"
     ]
    },
    {
     "name": "stderr",
     "output_type": "stream",
     "text": [
      "Epoch 2/50  Mem : 18.5GB  LR : 1.81E-05  Loss: 0.6292: 100%|██████████| 62/62 [00:42<00:00,  1.46it/s]                                                                                                                                                                               \n",
      "Val Loss: 0.6084: 100%|██████████| 24/24 [00:05<00:00,  4.03it/s]                                                                                                                                                                                                                    "
     ]
    },
    {
     "name": "stdout",
     "output_type": "stream",
     "text": [
      "Threshold : 0.20\tFBeta : 0.133346\n",
      "Threshold : 0.25\tFBeta : 0.135992\n",
      "Threshold : 0.30\tFBeta : 0.143912\n",
      "Threshold : 0.35\tFBeta : 0.158762\n",
      "Threshold : 0.40\tFBeta : 0.170308\n",
      "Threshold : 0.45\tFBeta : 0.154638\n",
      "Threshold : 0.50\tFBeta : 0.086731\n",
      "Threshold : 0.55\tFBeta : 0.014893\n",
      "Threshold : 0.60\tFBeta : 0.000169\n",
      "Threshold : 0.65\tFBeta : 0.000000\n",
      "Threshold : 0.70\tFBeta : 0.000000\n",
      "Threshold : 0.75\tFBeta : 0.000000\n",
      "Threshold : 0.80\tFBeta : 0.000000\n",
      "\n"
     ]
    },
    {
     "name": "stderr",
     "output_type": "stream",
     "text": [
      "\n",
      "Epoch 3/50  Mem : 18.5GB  LR : 5.20E-05  Loss: 0.5542: 100%|██████████| 62/62 [00:41<00:00,  1.48it/s]                                                                                                                                                                               \n",
      "Val Loss: 0.4470: 100%|██████████| 24/24 [00:05<00:00,  4.06it/s]                                                                                                                                                                                                                    \n"
     ]
    },
    {
     "name": "stdout",
     "output_type": "stream",
     "text": [
      "Threshold : 0.20\tFBeta : 0.148070\n",
      "Threshold : 0.25\tFBeta : 0.185284\n",
      "Threshold : 0.30\tFBeta : 0.215025\n",
      "Threshold : 0.35\tFBeta : 0.239873\n",
      "Threshold : 0.40\tFBeta : 0.292429\n",
      "Threshold : 0.45\tFBeta : 0.353480\n",
      "Threshold : 0.50\tFBeta : 0.364554\n",
      "Threshold : 0.55\tFBeta : 0.310328\n",
      "Threshold : 0.60\tFBeta : 0.037372\n",
      "Threshold : 0.65\tFBeta : 0.000000\n",
      "Threshold : 0.70\tFBeta : 0.000000\n",
      "Threshold : 0.75\tFBeta : 0.000000\n",
      "Threshold : 0.80\tFBeta : 0.000000\n",
      "\n"
     ]
    },
    {
     "name": "stderr",
     "output_type": "stream",
     "text": [
      "Epoch 4/50  Mem : 18.5GB  LR : 8.59E-05  Loss: 0.5113: 100%|██████████| 62/62 [00:43<00:00,  1.44it/s]                                                                                                                                                                               \n",
      "Val Loss: 0.3946: 100%|██████████| 24/24 [00:06<00:00,  4.00it/s]                                                                                                                                                                                                                    "
     ]
    },
    {
     "name": "stdout",
     "output_type": "stream",
     "text": [
      "Threshold : 0.20\tFBeta : 0.197227\n",
      "Threshold : 0.25\tFBeta : 0.218096\n",
      "Threshold : 0.30\tFBeta : 0.232681\n",
      "Threshold : 0.35\tFBeta : 0.288317\n",
      "Threshold : 0.40\tFBeta : 0.339473\n",
      "Threshold : 0.45\tFBeta : 0.360701\n",
      "Threshold : 0.50\tFBeta : 0.349907\n",
      "Threshold : 0.55\tFBeta : 0.306283\n",
      "Threshold : 0.60\tFBeta : 0.061577\n",
      "Threshold : 0.65\tFBeta : 0.000000\n",
      "Threshold : 0.70\tFBeta : 0.000000\n",
      "Threshold : 0.75\tFBeta : 0.000000\n",
      "Threshold : 0.80\tFBeta : 0.000000\n",
      "\n"
     ]
    },
    {
     "name": "stderr",
     "output_type": "stream",
     "text": [
      "\n",
      "Epoch 5/50  Mem : 18.5GB  LR : 1.00E-04  Loss: 0.4746: 100%|██████████| 62/62 [00:43<00:00,  1.44it/s]                                                                                                                                                                               \n",
      "Val Loss: 0.3745: 100%|██████████| 24/24 [00:05<00:00,  4.04it/s]                                                                                                                                                                                                                    \n"
     ]
    },
    {
     "name": "stdout",
     "output_type": "stream",
     "text": [
      "Threshold : 0.20\tFBeta : 0.211294\n",
      "Threshold : 0.25\tFBeta : 0.253207\n",
      "Threshold : 0.30\tFBeta : 0.320017\n",
      "Threshold : 0.35\tFBeta : 0.355339\n",
      "Threshold : 0.40\tFBeta : 0.368840\n",
      "Threshold : 0.45\tFBeta : 0.373190\n",
      "Threshold : 0.50\tFBeta : 0.371044\n",
      "Threshold : 0.55\tFBeta : 0.358092\n",
      "Threshold : 0.60\tFBeta : 0.319669\n",
      "Threshold : 0.65\tFBeta : 0.185368\n",
      "Threshold : 0.70\tFBeta : 0.062784\n",
      "Threshold : 0.75\tFBeta : 0.008777\n",
      "Threshold : 0.80\tFBeta : 0.000000\n",
      "\n"
     ]
    },
    {
     "name": "stderr",
     "output_type": "stream",
     "text": [
      "Epoch 6/50  Mem : 18.5GB  LR : 9.99E-05  Loss: 0.4492: 100%|██████████| 62/62 [00:43<00:00,  1.44it/s]                                                                                                                                                                               \n",
      "Val Loss: 0.4308: 100%|██████████| 24/24 [00:05<00:00,  4.10it/s]                                                                                                                                                                                                                    "
     ]
    },
    {
     "name": "stdout",
     "output_type": "stream",
     "text": [
      "Threshold : 0.20\tFBeta : 0.211905\n",
      "Threshold : 0.25\tFBeta : 0.247577\n",
      "Threshold : 0.30\tFBeta : 0.287846\n",
      "Threshold : 0.35\tFBeta : 0.290445\n",
      "Threshold : 0.40\tFBeta : 0.281834\n",
      "Threshold : 0.45\tFBeta : 0.267129\n",
      "Threshold : 0.50\tFBeta : 0.242790\n",
      "Threshold : 0.55\tFBeta : 0.203358\n",
      "Threshold : 0.60\tFBeta : 0.124116\n",
      "Threshold : 0.65\tFBeta : 0.038505\n",
      "Threshold : 0.70\tFBeta : 0.008622\n",
      "Threshold : 0.75\tFBeta : 0.000000\n",
      "Threshold : 0.80\tFBeta : 0.000000\n",
      "\n"
     ]
    },
    {
     "name": "stderr",
     "output_type": "stream",
     "text": [
      "\n",
      "Epoch 7/50  Mem : 18.5GB  LR : 9.95E-05  Loss: 0.4257: 100%|██████████| 62/62 [00:41<00:00,  1.49it/s]                                                                                                                                                                               \n",
      "Val Loss: 0.3229: 100%|██████████| 24/24 [00:05<00:00,  4.01it/s]                                                                                                                                                                                                                    "
     ]
    },
    {
     "name": "stdout",
     "output_type": "stream",
     "text": [
      "Threshold : 0.20\tFBeta : 0.290571\n",
      "Threshold : 0.25\tFBeta : 0.327010\n",
      "Threshold : 0.30\tFBeta : 0.335966\n",
      "Threshold : 0.35\tFBeta : 0.338917\n",
      "Threshold : 0.40\tFBeta : 0.331427\n",
      "Threshold : 0.45\tFBeta : 0.317205\n",
      "Threshold : 0.50\tFBeta : 0.297317\n",
      "Threshold : 0.55\tFBeta : 0.244215\n",
      "Threshold : 0.60\tFBeta : 0.144693\n",
      "Threshold : 0.65\tFBeta : 0.062526\n",
      "Threshold : 0.70\tFBeta : 0.026490\n",
      "Threshold : 0.75\tFBeta : 0.003657\n",
      "Threshold : 0.80\tFBeta : 0.000000\n",
      "\n"
     ]
    },
    {
     "name": "stderr",
     "output_type": "stream",
     "text": [
      "\n",
      "Epoch 8/50  Mem : 18.5GB  LR : 9.89E-05  Loss: 0.4084: 100%|██████████| 62/62 [00:42<00:00,  1.46it/s]                                                                                                                                                                               \n",
      "Val Loss: 0.4228: 100%|██████████| 24/24 [00:05<00:00,  4.05it/s]                                                                                                                                                                                                                    \n"
     ]
    },
    {
     "name": "stdout",
     "output_type": "stream",
     "text": [
      "Threshold : 0.20\tFBeta : 0.219875\n",
      "Threshold : 0.25\tFBeta : 0.257017\n",
      "Threshold : 0.30\tFBeta : 0.286709\n",
      "Threshold : 0.35\tFBeta : 0.311188\n",
      "Threshold : 0.40\tFBeta : 0.326263\n",
      "Threshold : 0.45\tFBeta : 0.340141\n",
      "Threshold : 0.50\tFBeta : 0.354975\n",
      "Threshold : 0.55\tFBeta : 0.371994\n",
      "Threshold : 0.60\tFBeta : 0.392520\n",
      "Threshold : 0.65\tFBeta : 0.413038\n",
      "Threshold : 0.70\tFBeta : 0.431989\n",
      "Threshold : 0.75\tFBeta : 0.431172\n",
      "Threshold : 0.80\tFBeta : 0.403522\n",
      "\n"
     ]
    },
    {
     "name": "stderr",
     "output_type": "stream",
     "text": [
      "Epoch 9/50  Mem : 18.5GB  LR : 9.81E-05  Loss: 0.4000: 100%|██████████| 62/62 [00:42<00:00,  1.45it/s]                                                                                                                                                                               \n",
      "Val Loss: 0.3039: 100%|██████████| 24/24 [00:06<00:00,  3.99it/s]                                                                                                                                                                                                                    \n"
     ]
    },
    {
     "name": "stdout",
     "output_type": "stream",
     "text": [
      "Threshold : 0.20\tFBeta : 0.323724\n",
      "Threshold : 0.25\tFBeta : 0.371783\n",
      "Threshold : 0.30\tFBeta : 0.400212\n",
      "Threshold : 0.35\tFBeta : 0.417199\n",
      "Threshold : 0.40\tFBeta : 0.427750\n",
      "Threshold : 0.45\tFBeta : 0.434191\n",
      "Threshold : 0.50\tFBeta : 0.437985\n",
      "Threshold : 0.55\tFBeta : 0.439253\n",
      "Threshold : 0.60\tFBeta : 0.436581\n",
      "Threshold : 0.65\tFBeta : 0.428321\n",
      "Threshold : 0.70\tFBeta : 0.402092\n",
      "Threshold : 0.75\tFBeta : 0.360588\n",
      "Threshold : 0.80\tFBeta : 0.307002\n",
      "\n"
     ]
    },
    {
     "name": "stderr",
     "output_type": "stream",
     "text": [
      "Epoch 10/50  Mem : 18.5GB  LR : 9.70E-05  Loss: 0.3839: 100%|██████████| 62/62 [00:42<00:00,  1.45it/s]                                                                                                                                                                              \n",
      "Val Loss: 0.4085: 100%|██████████| 24/24 [00:05<00:00,  4.03it/s]                                                                                                                                                                                                                    \n"
     ]
    },
    {
     "name": "stdout",
     "output_type": "stream",
     "text": [
      "Threshold : 0.20\tFBeta : 0.290038\n",
      "Threshold : 0.25\tFBeta : 0.317605\n",
      "Threshold : 0.30\tFBeta : 0.315400\n",
      "Threshold : 0.35\tFBeta : 0.298279\n",
      "Threshold : 0.40\tFBeta : 0.264256\n",
      "Threshold : 0.45\tFBeta : 0.228008\n",
      "Threshold : 0.50\tFBeta : 0.194497\n",
      "Threshold : 0.55\tFBeta : 0.159992\n",
      "Threshold : 0.60\tFBeta : 0.122769\n",
      "Threshold : 0.65\tFBeta : 0.082052\n",
      "Threshold : 0.70\tFBeta : 0.045089\n",
      "Threshold : 0.75\tFBeta : 0.023489\n",
      "Threshold : 0.80\tFBeta : 0.012608\n",
      "\n"
     ]
    },
    {
     "name": "stderr",
     "output_type": "stream",
     "text": [
      "Epoch 11/50  Mem : 18.5GB  LR : 9.57E-05  Loss: 0.3721: 100%|██████████| 62/62 [00:43<00:00,  1.44it/s]                                                                                                                                                                              \n",
      "Val Loss: 0.3600: 100%|██████████| 24/24 [00:05<00:00,  4.09it/s]                                                                                                                                                                                                                    \n"
     ]
    },
    {
     "name": "stdout",
     "output_type": "stream",
     "text": [
      "Threshold : 0.20\tFBeta : 0.269314\n",
      "Threshold : 0.25\tFBeta : 0.291390\n",
      "Threshold : 0.30\tFBeta : 0.309203\n",
      "Threshold : 0.35\tFBeta : 0.326812\n",
      "Threshold : 0.40\tFBeta : 0.344784\n",
      "Threshold : 0.45\tFBeta : 0.365216\n",
      "Threshold : 0.50\tFBeta : 0.387154\n",
      "Threshold : 0.55\tFBeta : 0.405307\n",
      "Threshold : 0.60\tFBeta : 0.416437\n",
      "Threshold : 0.65\tFBeta : 0.414911\n",
      "Threshold : 0.70\tFBeta : 0.401851\n",
      "Threshold : 0.75\tFBeta : 0.372789\n",
      "Threshold : 0.80\tFBeta : 0.324471\n",
      "\n"
     ]
    },
    {
     "name": "stderr",
     "output_type": "stream",
     "text": [
      "Epoch 12/50  Mem : 18.5GB  LR : 9.41E-05  Loss: 0.3638: 100%|██████████| 62/62 [00:43<00:00,  1.43it/s]                                                                                                                                                                              \n",
      "Val Loss: 0.2704: 100%|██████████| 24/24 [00:05<00:00,  4.06it/s]                                                                                                                                                                                                                    \n"
     ]
    },
    {
     "name": "stdout",
     "output_type": "stream",
     "text": [
      "Threshold : 0.20\tFBeta : 0.426584\n",
      "Threshold : 0.25\tFBeta : 0.468902\n",
      "Threshold : 0.30\tFBeta : 0.493151\n",
      "Threshold : 0.35\tFBeta : 0.503507\n",
      "Threshold : 0.40\tFBeta : 0.505104\n",
      "Threshold : 0.45\tFBeta : 0.500543\n",
      "Threshold : 0.50\tFBeta : 0.487089\n",
      "Threshold : 0.55\tFBeta : 0.465472\n",
      "Threshold : 0.60\tFBeta : 0.424579\n",
      "Threshold : 0.65\tFBeta : 0.370675\n",
      "Threshold : 0.70\tFBeta : 0.307556\n",
      "Threshold : 0.75\tFBeta : 0.237773\n",
      "Threshold : 0.80\tFBeta : 0.163614\n",
      "\n"
     ]
    },
    {
     "name": "stderr",
     "output_type": "stream",
     "text": [
      "Epoch 13/50  Mem : 18.5GB  LR : 9.24E-05  Loss: 0.3590: 100%|██████████| 62/62 [00:42<00:00,  1.45it/s]                                                                                                                                                                              \n",
      "Val Loss: 0.7140: 100%|██████████| 24/24 [00:05<00:00,  4.07it/s]                                                                                                                                                                                                                    \n"
     ]
    },
    {
     "name": "stdout",
     "output_type": "stream",
     "text": [
      "Threshold : 0.20\tFBeta : 0.240803\n",
      "Threshold : 0.25\tFBeta : 0.246148\n",
      "Threshold : 0.30\tFBeta : 0.248745\n",
      "Threshold : 0.35\tFBeta : 0.251893\n",
      "Threshold : 0.40\tFBeta : 0.255620\n",
      "Threshold : 0.45\tFBeta : 0.259531\n",
      "Threshold : 0.50\tFBeta : 0.263873\n",
      "Threshold : 0.55\tFBeta : 0.268734\n",
      "Threshold : 0.60\tFBeta : 0.274653\n",
      "Threshold : 0.65\tFBeta : 0.282316\n",
      "Threshold : 0.70\tFBeta : 0.292001\n",
      "Threshold : 0.75\tFBeta : 0.305464\n",
      "Threshold : 0.80\tFBeta : 0.320263\n",
      "\n"
     ]
    },
    {
     "name": "stderr",
     "output_type": "stream",
     "text": [
      "Epoch 14/50  Mem : 18.5GB  LR : 9.05E-05  Loss: 0.3540: 100%|██████████| 62/62 [00:42<00:00,  1.46it/s]                                                                                                                                                                              \n",
      "Val Loss: 0.3461: 100%|██████████| 24/24 [00:05<00:00,  4.08it/s]                                                                                                                                                                                                                    \n"
     ]
    },
    {
     "name": "stdout",
     "output_type": "stream",
     "text": [
      "Threshold : 0.20\tFBeta : 0.290661\n",
      "Threshold : 0.25\tFBeta : 0.300673\n",
      "Threshold : 0.30\tFBeta : 0.311352\n",
      "Threshold : 0.35\tFBeta : 0.321436\n",
      "Threshold : 0.40\tFBeta : 0.333027\n",
      "Threshold : 0.45\tFBeta : 0.343514\n",
      "Threshold : 0.50\tFBeta : 0.353046\n",
      "Threshold : 0.55\tFBeta : 0.361120\n",
      "Threshold : 0.60\tFBeta : 0.368452\n",
      "Threshold : 0.65\tFBeta : 0.373604\n",
      "Threshold : 0.70\tFBeta : 0.371011\n",
      "Threshold : 0.75\tFBeta : 0.359672\n",
      "Threshold : 0.80\tFBeta : 0.335812\n",
      "\n"
     ]
    },
    {
     "name": "stderr",
     "output_type": "stream",
     "text": [
      "Epoch 15/50  Mem : 18.5GB  LR : 8.83E-05  Loss: 0.3516: 100%|██████████| 62/62 [00:43<00:00,  1.44it/s]                                                                                                                                                                              \n",
      "Val Loss: 0.2650: 100%|██████████| 24/24 [00:05<00:00,  4.08it/s]                                                                                                                                                                                                                    \n"
     ]
    },
    {
     "name": "stdout",
     "output_type": "stream",
     "text": [
      "Threshold : 0.20\tFBeta : 0.418402\n",
      "Threshold : 0.25\tFBeta : 0.434261\n",
      "Threshold : 0.30\tFBeta : 0.446016\n",
      "Threshold : 0.35\tFBeta : 0.452026\n",
      "Threshold : 0.40\tFBeta : 0.458288\n",
      "Threshold : 0.45\tFBeta : 0.462513\n",
      "Threshold : 0.50\tFBeta : 0.459799\n",
      "Threshold : 0.55\tFBeta : 0.443063\n",
      "Threshold : 0.60\tFBeta : 0.410881\n",
      "Threshold : 0.65\tFBeta : 0.365756\n",
      "Threshold : 0.70\tFBeta : 0.319615\n",
      "Threshold : 0.75\tFBeta : 0.261171\n",
      "Threshold : 0.80\tFBeta : 0.187351\n",
      "\n"
     ]
    },
    {
     "name": "stderr",
     "output_type": "stream",
     "text": [
      "Epoch 16/50  Mem : 18.5GB  LR : 8.60E-05  Loss: 0.3367: 100%|██████████| 62/62 [00:42<00:00,  1.46it/s]                                                                                                                                                                              \n",
      "Val Loss: 0.2653: 100%|██████████| 24/24 [00:05<00:00,  4.08it/s]                                                                                                                                                                                                                    \n"
     ]
    },
    {
     "name": "stdout",
     "output_type": "stream",
     "text": [
      "Threshold : 0.20\tFBeta : 0.487439\n",
      "Threshold : 0.25\tFBeta : 0.508453\n",
      "Threshold : 0.30\tFBeta : 0.504332\n",
      "Threshold : 0.35\tFBeta : 0.487537\n",
      "Threshold : 0.40\tFBeta : 0.466298\n",
      "Threshold : 0.45\tFBeta : 0.438939\n",
      "Threshold : 0.50\tFBeta : 0.408356\n",
      "Threshold : 0.55\tFBeta : 0.370932\n",
      "Threshold : 0.60\tFBeta : 0.327641\n",
      "Threshold : 0.65\tFBeta : 0.280178\n",
      "Threshold : 0.70\tFBeta : 0.232606\n",
      "Threshold : 0.75\tFBeta : 0.177440\n",
      "Threshold : 0.80\tFBeta : 0.115863\n",
      "\n"
     ]
    },
    {
     "name": "stderr",
     "output_type": "stream",
     "text": [
      "Epoch 17/50  Mem : 18.5GB  LR : 8.35E-05  Loss: 0.3299: 100%|██████████| 62/62 [00:43<00:00,  1.44it/s]                                                                                                                                                                              \n",
      "Val Loss: 0.2615: 100%|██████████| 24/24 [00:06<00:00,  3.98it/s]                                                                                                                                                                                                                    \n"
     ]
    },
    {
     "name": "stdout",
     "output_type": "stream",
     "text": [
      "Threshold : 0.20\tFBeta : 0.446442\n",
      "Threshold : 0.25\tFBeta : 0.464684\n",
      "Threshold : 0.30\tFBeta : 0.473059\n",
      "Threshold : 0.35\tFBeta : 0.471997\n",
      "Threshold : 0.40\tFBeta : 0.466934\n",
      "Threshold : 0.45\tFBeta : 0.455162\n",
      "Threshold : 0.50\tFBeta : 0.438056\n",
      "Threshold : 0.55\tFBeta : 0.413352\n",
      "Threshold : 0.60\tFBeta : 0.379001\n",
      "Threshold : 0.65\tFBeta : 0.334124\n",
      "Threshold : 0.70\tFBeta : 0.284120\n",
      "Threshold : 0.75\tFBeta : 0.231031\n",
      "Threshold : 0.80\tFBeta : 0.173240\n",
      "\n"
     ]
    },
    {
     "name": "stderr",
     "output_type": "stream",
     "text": [
      "Epoch 18/50  Mem : 18.5GB  LR : 8.08E-05  Loss: 0.3279: 100%|██████████| 62/62 [00:41<00:00,  1.48it/s]                                                                                                                                                                              \n",
      "Val Loss: 0.2556: 100%|██████████| 24/24 [00:05<00:00,  4.09it/s]                                                                                                                                                                                                                    \n"
     ]
    },
    {
     "name": "stdout",
     "output_type": "stream",
     "text": [
      "Threshold : 0.20\tFBeta : 0.387884\n",
      "Threshold : 0.25\tFBeta : 0.410116\n",
      "Threshold : 0.30\tFBeta : 0.425393\n",
      "Threshold : 0.35\tFBeta : 0.436938\n",
      "Threshold : 0.40\tFBeta : 0.445071\n",
      "Threshold : 0.45\tFBeta : 0.452364\n",
      "Threshold : 0.50\tFBeta : 0.457858\n",
      "Threshold : 0.55\tFBeta : 0.453267\n",
      "Threshold : 0.60\tFBeta : 0.436356\n",
      "Threshold : 0.65\tFBeta : 0.400532\n",
      "Threshold : 0.70\tFBeta : 0.347839\n",
      "Threshold : 0.75\tFBeta : 0.268312\n",
      "Threshold : 0.80\tFBeta : 0.175446\n",
      "\n"
     ]
    },
    {
     "name": "stderr",
     "output_type": "stream",
     "text": [
      "Epoch 19/50  Mem : 18.5GB  LR : 7.80E-05  Loss: 0.3354: 100%|██████████| 62/62 [00:42<00:00,  1.46it/s]                                                                                                                                                                              \n",
      "Val Loss: 0.2842: 100%|██████████| 24/24 [00:05<00:00,  4.09it/s]                                                                                                                                                                                                                    \n"
     ]
    },
    {
     "name": "stdout",
     "output_type": "stream",
     "text": [
      "Threshold : 0.20\tFBeta : 0.420760\n",
      "Threshold : 0.25\tFBeta : 0.420184\n",
      "Threshold : 0.30\tFBeta : 0.406831\n",
      "Threshold : 0.35\tFBeta : 0.392166\n",
      "Threshold : 0.40\tFBeta : 0.375374\n",
      "Threshold : 0.45\tFBeta : 0.356062\n",
      "Threshold : 0.50\tFBeta : 0.336194\n",
      "Threshold : 0.55\tFBeta : 0.313408\n",
      "Threshold : 0.60\tFBeta : 0.286791\n",
      "Threshold : 0.65\tFBeta : 0.251037\n",
      "Threshold : 0.70\tFBeta : 0.211423\n",
      "Threshold : 0.75\tFBeta : 0.170794\n",
      "Threshold : 0.80\tFBeta : 0.126703\n",
      "\n"
     ]
    },
    {
     "name": "stderr",
     "output_type": "stream",
     "text": [
      "Epoch 20/50  Mem : 18.5GB  LR : 7.50E-05  Loss: 0.3170: 100%|██████████| 62/62 [00:42<00:00,  1.45it/s]                                                                                                                                                                              \n",
      "Val Loss: 0.3903: 100%|██████████| 24/24 [00:05<00:00,  4.09it/s]                                                                                                                                                                                                                    \n"
     ]
    },
    {
     "name": "stdout",
     "output_type": "stream",
     "text": [
      "Threshold : 0.20\tFBeta : 0.272358\n",
      "Threshold : 0.25\tFBeta : 0.286420\n",
      "Threshold : 0.30\tFBeta : 0.298949\n",
      "Threshold : 0.35\tFBeta : 0.311231\n",
      "Threshold : 0.40\tFBeta : 0.325340\n",
      "Threshold : 0.45\tFBeta : 0.341119\n",
      "Threshold : 0.50\tFBeta : 0.356101\n",
      "Threshold : 0.55\tFBeta : 0.371985\n",
      "Threshold : 0.60\tFBeta : 0.389654\n",
      "Threshold : 0.65\tFBeta : 0.409015\n",
      "Threshold : 0.70\tFBeta : 0.430271\n",
      "Threshold : 0.75\tFBeta : 0.448417\n",
      "Threshold : 0.80\tFBeta : 0.462880\n",
      "\n"
     ]
    },
    {
     "name": "stderr",
     "output_type": "stream",
     "text": [
      "Epoch 21/50  Mem : 18.5GB  LR : 7.19E-05  Loss: 0.3169: 100%|██████████| 62/62 [00:42<00:00,  1.45it/s]                                                                                                                                                                              \n",
      "Val Loss: 0.3258: 100%|██████████| 24/24 [00:05<00:00,  4.04it/s]                                                                                                                                                                                                                    \n"
     ]
    },
    {
     "name": "stdout",
     "output_type": "stream",
     "text": [
      "Threshold : 0.20\tFBeta : 0.328062\n",
      "Threshold : 0.25\tFBeta : 0.342972\n",
      "Threshold : 0.30\tFBeta : 0.354203\n",
      "Threshold : 0.35\tFBeta : 0.360376\n",
      "Threshold : 0.40\tFBeta : 0.361478\n",
      "Threshold : 0.45\tFBeta : 0.360331\n",
      "Threshold : 0.50\tFBeta : 0.358562\n",
      "Threshold : 0.55\tFBeta : 0.354420\n",
      "Threshold : 0.60\tFBeta : 0.344698\n",
      "Threshold : 0.65\tFBeta : 0.327821\n",
      "Threshold : 0.70\tFBeta : 0.298954\n",
      "Threshold : 0.75\tFBeta : 0.259103\n",
      "Threshold : 0.80\tFBeta : 0.213661\n",
      "\n"
     ]
    },
    {
     "name": "stderr",
     "output_type": "stream",
     "text": [
      "Epoch 22/50  Mem : 18.5GB  LR : 6.87E-05  Loss: 0.3174: 100%|██████████| 62/62 [00:42<00:00,  1.46it/s]                                                                                                                                                                              \n",
      "Val Loss: 0.4244: 100%|██████████| 24/24 [00:05<00:00,  4.06it/s]                                                                                                                                                                                                                    \n"
     ]
    },
    {
     "name": "stdout",
     "output_type": "stream",
     "text": [
      "Threshold : 0.20\tFBeta : 0.282701\n",
      "Threshold : 0.25\tFBeta : 0.293901\n",
      "Threshold : 0.30\tFBeta : 0.303641\n",
      "Threshold : 0.35\tFBeta : 0.312806\n",
      "Threshold : 0.40\tFBeta : 0.322499\n",
      "Threshold : 0.45\tFBeta : 0.333037\n",
      "Threshold : 0.50\tFBeta : 0.344249\n",
      "Threshold : 0.55\tFBeta : 0.358097\n",
      "Threshold : 0.60\tFBeta : 0.367466\n",
      "Threshold : 0.65\tFBeta : 0.376536\n",
      "Threshold : 0.70\tFBeta : 0.386339\n",
      "Threshold : 0.75\tFBeta : 0.395285\n",
      "Threshold : 0.80\tFBeta : 0.401879\n",
      "\n"
     ]
    },
    {
     "name": "stderr",
     "output_type": "stream",
     "text": [
      "Epoch 23/50  Mem : 18.5GB  LR : 6.55E-05  Loss: 0.3089: 100%|██████████| 62/62 [00:42<00:00,  1.45it/s]                                                                                                                                                                              \n",
      "Val Loss: 0.2736: 100%|██████████| 24/24 [00:05<00:00,  4.01it/s]                                                                                                                                                                                                                    \n"
     ]
    },
    {
     "name": "stdout",
     "output_type": "stream",
     "text": [
      "Threshold : 0.20\tFBeta : 0.381669\n",
      "Threshold : 0.25\tFBeta : 0.395600\n",
      "Threshold : 0.30\tFBeta : 0.400257\n",
      "Threshold : 0.35\tFBeta : 0.399094\n",
      "Threshold : 0.40\tFBeta : 0.395663\n",
      "Threshold : 0.45\tFBeta : 0.392909\n",
      "Threshold : 0.50\tFBeta : 0.389810\n",
      "Threshold : 0.55\tFBeta : 0.384931\n",
      "Threshold : 0.60\tFBeta : 0.374513\n",
      "Threshold : 0.65\tFBeta : 0.353449\n",
      "Threshold : 0.70\tFBeta : 0.326670\n",
      "Threshold : 0.75\tFBeta : 0.292649\n",
      "Threshold : 0.80\tFBeta : 0.252614\n",
      "\n"
     ]
    },
    {
     "name": "stderr",
     "output_type": "stream",
     "text": [
      "Epoch 24/50  Mem : 18.5GB  LR : 6.21E-05  Loss: 0.3087: 100%|██████████| 62/62 [00:43<00:00,  1.44it/s]                                                                                                                                                                              \n",
      "Val Loss: 0.2951: 100%|██████████| 24/24 [00:05<00:00,  4.06it/s]                                                                                                                                                                                                                    \n"
     ]
    },
    {
     "name": "stdout",
     "output_type": "stream",
     "text": [
      "Threshold : 0.20\tFBeta : 0.413919\n",
      "Threshold : 0.25\tFBeta : 0.399754\n",
      "Threshold : 0.30\tFBeta : 0.365752\n",
      "Threshold : 0.35\tFBeta : 0.337299\n",
      "Threshold : 0.40\tFBeta : 0.308253\n",
      "Threshold : 0.45\tFBeta : 0.276767\n",
      "Threshold : 0.50\tFBeta : 0.243718\n",
      "Threshold : 0.55\tFBeta : 0.204827\n",
      "Threshold : 0.60\tFBeta : 0.156917\n",
      "Threshold : 0.65\tFBeta : 0.104592\n",
      "Threshold : 0.70\tFBeta : 0.053791\n",
      "Threshold : 0.75\tFBeta : 0.020525\n",
      "Threshold : 0.80\tFBeta : 0.004180\n",
      "\n"
     ]
    },
    {
     "name": "stderr",
     "output_type": "stream",
     "text": [
      "Epoch 25/50  Mem : 18.5GB  LR : 5.87E-05  Loss: 0.3037: 100%|██████████| 62/62 [00:42<00:00,  1.45it/s]                                                                                                                                                                              \n",
      "Val Loss: 0.2660: 100%|██████████| 24/24 [00:06<00:00,  3.95it/s]                                                                                                                                                                                                                    \n"
     ]
    },
    {
     "name": "stdout",
     "output_type": "stream",
     "text": [
      "Threshold : 0.20\tFBeta : 0.423900\n",
      "Threshold : 0.25\tFBeta : 0.438929\n",
      "Threshold : 0.30\tFBeta : 0.448120\n",
      "Threshold : 0.35\tFBeta : 0.453382\n",
      "Threshold : 0.40\tFBeta : 0.458372\n",
      "Threshold : 0.45\tFBeta : 0.460956\n",
      "Threshold : 0.50\tFBeta : 0.461966\n",
      "Threshold : 0.55\tFBeta : 0.459579\n",
      "Threshold : 0.60\tFBeta : 0.451603\n",
      "Threshold : 0.65\tFBeta : 0.432258\n",
      "Threshold : 0.70\tFBeta : 0.407147\n",
      "Threshold : 0.75\tFBeta : 0.372287\n",
      "Threshold : 0.80\tFBeta : 0.330012\n",
      "\n"
     ]
    },
    {
     "name": "stderr",
     "output_type": "stream",
     "text": [
      "Epoch 26/50  Mem : 18.5GB  LR : 5.52E-05  Loss: 0.3020: 100%|██████████| 62/62 [00:43<00:00,  1.44it/s]                                                                                                                                                                              \n",
      "Val Loss: 0.2889: 100%|██████████| 24/24 [00:06<00:00,  3.95it/s]                                                                                                                                                                                                                    \n"
     ]
    },
    {
     "name": "stdout",
     "output_type": "stream",
     "text": [
      "Threshold : 0.20\tFBeta : 0.384564\n",
      "Threshold : 0.25\tFBeta : 0.375503\n",
      "Threshold : 0.30\tFBeta : 0.360074\n",
      "Threshold : 0.35\tFBeta : 0.341320\n",
      "Threshold : 0.40\tFBeta : 0.319498\n",
      "Threshold : 0.45\tFBeta : 0.292535\n",
      "Threshold : 0.50\tFBeta : 0.257676\n",
      "Threshold : 0.55\tFBeta : 0.208697\n",
      "Threshold : 0.60\tFBeta : 0.151106\n",
      "Threshold : 0.65\tFBeta : 0.110257\n",
      "Threshold : 0.70\tFBeta : 0.079103\n",
      "Threshold : 0.75\tFBeta : 0.051184\n",
      "Threshold : 0.80\tFBeta : 0.021698\n",
      "\n"
     ]
    },
    {
     "name": "stderr",
     "output_type": "stream",
     "text": [
      "Epoch 27/50  Mem : 18.5GB  LR : 5.17E-05  Loss: 0.3015: 100%|██████████| 62/62 [00:42<00:00,  1.44it/s]                                                                                                                                                                              \n",
      "Val Loss: 0.2584: 100%|██████████| 24/24 [00:06<00:00,  3.99it/s]                                                                                                                                                                                                                    \n"
     ]
    },
    {
     "name": "stdout",
     "output_type": "stream",
     "text": [
      "Threshold : 0.20\tFBeta : 0.362850\n",
      "Threshold : 0.25\tFBeta : 0.385941\n",
      "Threshold : 0.30\tFBeta : 0.406310\n",
      "Threshold : 0.35\tFBeta : 0.421630\n",
      "Threshold : 0.40\tFBeta : 0.433928\n",
      "Threshold : 0.45\tFBeta : 0.446913\n",
      "Threshold : 0.50\tFBeta : 0.457399\n",
      "Threshold : 0.55\tFBeta : 0.465521\n",
      "Threshold : 0.60\tFBeta : 0.468840\n",
      "Threshold : 0.65\tFBeta : 0.466513\n",
      "Threshold : 0.70\tFBeta : 0.458783\n",
      "Threshold : 0.75\tFBeta : 0.445934\n",
      "Threshold : 0.80\tFBeta : 0.418148\n",
      "\n"
     ]
    },
    {
     "name": "stderr",
     "output_type": "stream",
     "text": [
      "Epoch 28/50  Mem : 18.5GB  LR : 4.83E-05  Loss: 0.3004: 100%|██████████| 62/62 [00:42<00:00,  1.45it/s]                                                                                                                                                                              \n",
      "Val Loss: 0.2443: 100%|██████████| 24/24 [00:05<00:00,  4.05it/s]                                                                                                                                                                                                                    \n"
     ]
    },
    {
     "name": "stdout",
     "output_type": "stream",
     "text": [
      "Threshold : 0.20\tFBeta : 0.400078\n",
      "Threshold : 0.25\tFBeta : 0.424642\n",
      "Threshold : 0.30\tFBeta : 0.446199\n",
      "Threshold : 0.35\tFBeta : 0.465728\n",
      "Threshold : 0.40\tFBeta : 0.483890\n",
      "Threshold : 0.45\tFBeta : 0.495708\n",
      "Threshold : 0.50\tFBeta : 0.501935\n",
      "Threshold : 0.55\tFBeta : 0.500174\n",
      "Threshold : 0.60\tFBeta : 0.491456\n",
      "Threshold : 0.65\tFBeta : 0.471890\n",
      "Threshold : 0.70\tFBeta : 0.433311\n",
      "Threshold : 0.75\tFBeta : 0.374440\n",
      "Threshold : 0.80\tFBeta : 0.291796\n",
      "\n"
     ]
    },
    {
     "name": "stderr",
     "output_type": "stream",
     "text": [
      "Epoch 29/50  Mem : 18.5GB  LR : 4.48E-05  Loss: 0.2976: 100%|██████████| 62/62 [00:42<00:00,  1.45it/s]                                                                                                                                                                              \n",
      "Val Loss: 0.2473: 100%|██████████| 24/24 [00:05<00:00,  4.01it/s]                                                                                                                                                                                                                    \n"
     ]
    },
    {
     "name": "stdout",
     "output_type": "stream",
     "text": [
      "Threshold : 0.20\tFBeta : 0.470922\n",
      "Threshold : 0.25\tFBeta : 0.484812\n",
      "Threshold : 0.30\tFBeta : 0.493823\n",
      "Threshold : 0.35\tFBeta : 0.502083\n",
      "Threshold : 0.40\tFBeta : 0.507295\n",
      "Threshold : 0.45\tFBeta : 0.506995\n",
      "Threshold : 0.50\tFBeta : 0.503119\n",
      "Threshold : 0.55\tFBeta : 0.493862\n",
      "Threshold : 0.60\tFBeta : 0.474638\n",
      "Threshold : 0.65\tFBeta : 0.445526\n",
      "Threshold : 0.70\tFBeta : 0.411766\n",
      "Threshold : 0.75\tFBeta : 0.364158\n",
      "Threshold : 0.80\tFBeta : 0.308832\n",
      "\n"
     ]
    },
    {
     "name": "stderr",
     "output_type": "stream",
     "text": [
      "Epoch 30/50  Mem : 18.5GB  LR : 4.13E-05  Loss: 0.2933: 100%|██████████| 62/62 [00:42<00:00,  1.46it/s]                                                                                                                                                                              \n",
      "Val Loss: 0.2634: 100%|██████████| 24/24 [00:05<00:00,  4.08it/s]                                                                                                                                                                                                                    \n"
     ]
    },
    {
     "name": "stdout",
     "output_type": "stream",
     "text": [
      "Threshold : 0.20\tFBeta : 0.494301\n",
      "Threshold : 0.25\tFBeta : 0.497811\n",
      "Threshold : 0.30\tFBeta : 0.491906\n",
      "Threshold : 0.35\tFBeta : 0.473053\n",
      "Threshold : 0.40\tFBeta : 0.442523\n",
      "Threshold : 0.45\tFBeta : 0.407673\n",
      "Threshold : 0.50\tFBeta : 0.371844\n",
      "Threshold : 0.55\tFBeta : 0.328253\n",
      "Threshold : 0.60\tFBeta : 0.282688\n",
      "Threshold : 0.65\tFBeta : 0.222271\n",
      "Threshold : 0.70\tFBeta : 0.162417\n",
      "Threshold : 0.75\tFBeta : 0.101642\n",
      "Threshold : 0.80\tFBeta : 0.052678\n",
      "\n"
     ]
    },
    {
     "name": "stderr",
     "output_type": "stream",
     "text": [
      "Epoch 31/50  Mem : 18.5GB  LR : 3.79E-05  Loss: 0.2827: 100%|██████████| 62/62 [00:42<00:00,  1.45it/s]                                                                                                                                                                              \n",
      "Val Loss: 0.2404: 100%|██████████| 24/24 [00:06<00:00,  3.97it/s]                                                                                                                                                                                                                    \n"
     ]
    },
    {
     "name": "stdout",
     "output_type": "stream",
     "text": [
      "Threshold : 0.20\tFBeta : 0.461232\n",
      "Threshold : 0.25\tFBeta : 0.476517\n",
      "Threshold : 0.30\tFBeta : 0.488383\n",
      "Threshold : 0.35\tFBeta : 0.493773\n",
      "Threshold : 0.40\tFBeta : 0.495152\n",
      "Threshold : 0.45\tFBeta : 0.493402\n",
      "Threshold : 0.50\tFBeta : 0.486985\n",
      "Threshold : 0.55\tFBeta : 0.474143\n",
      "Threshold : 0.60\tFBeta : 0.452626\n",
      "Threshold : 0.65\tFBeta : 0.421536\n",
      "Threshold : 0.70\tFBeta : 0.381181\n",
      "Threshold : 0.75\tFBeta : 0.327168\n",
      "Threshold : 0.80\tFBeta : 0.263788\n",
      "\n"
     ]
    },
    {
     "name": "stderr",
     "output_type": "stream",
     "text": [
      "Epoch 32/50  Mem : 18.5GB  LR : 3.45E-05  Loss: 0.2864: 100%|██████████| 62/62 [00:42<00:00,  1.46it/s]                                                                                                                                                                              \n",
      "Val Loss: 0.2458: 100%|██████████| 24/24 [00:05<00:00,  4.07it/s]                                                                                                                                                                                                                    \n"
     ]
    },
    {
     "name": "stdout",
     "output_type": "stream",
     "text": [
      "Threshold : 0.20\tFBeta : 0.438467\n",
      "Threshold : 0.25\tFBeta : 0.458834\n",
      "Threshold : 0.30\tFBeta : 0.473909\n",
      "Threshold : 0.35\tFBeta : 0.483673\n",
      "Threshold : 0.40\tFBeta : 0.491042\n",
      "Threshold : 0.45\tFBeta : 0.495176\n",
      "Threshold : 0.50\tFBeta : 0.495324\n",
      "Threshold : 0.55\tFBeta : 0.492678\n",
      "Threshold : 0.60\tFBeta : 0.489064\n",
      "Threshold : 0.65\tFBeta : 0.479832\n",
      "Threshold : 0.70\tFBeta : 0.462064\n",
      "Threshold : 0.75\tFBeta : 0.433967\n",
      "Threshold : 0.80\tFBeta : 0.396432\n",
      "\n"
     ]
    },
    {
     "name": "stderr",
     "output_type": "stream",
     "text": [
      "Epoch 33/50  Mem : 18.5GB  LR : 3.13E-05  Loss: 0.2878: 100%|██████████| 62/62 [00:42<00:00,  1.45it/s]                                                                                                                                                                              \n",
      "Val Loss: 0.2754: 100%|██████████| 24/24 [00:05<00:00,  4.08it/s]                                                                                                                                                                                                                    \n"
     ]
    },
    {
     "name": "stdout",
     "output_type": "stream",
     "text": [
      "Threshold : 0.20\tFBeta : 0.455291\n",
      "Threshold : 0.25\tFBeta : 0.447381\n",
      "Threshold : 0.30\tFBeta : 0.429371\n",
      "Threshold : 0.35\tFBeta : 0.404210\n",
      "Threshold : 0.40\tFBeta : 0.368412\n",
      "Threshold : 0.45\tFBeta : 0.328007\n",
      "Threshold : 0.50\tFBeta : 0.286408\n",
      "Threshold : 0.55\tFBeta : 0.246801\n",
      "Threshold : 0.60\tFBeta : 0.204709\n",
      "Threshold : 0.65\tFBeta : 0.159404\n",
      "Threshold : 0.70\tFBeta : 0.108681\n",
      "Threshold : 0.75\tFBeta : 0.067217\n",
      "Threshold : 0.80\tFBeta : 0.033600\n",
      "\n"
     ]
    },
    {
     "name": "stderr",
     "output_type": "stream",
     "text": [
      "Epoch 34/50  Mem : 18.5GB  LR : 2.81E-05  Loss: 0.2774: 100%|██████████| 62/62 [00:42<00:00,  1.46it/s]                                                                                                                                                                              \n",
      "Val Loss: 0.2660: 100%|██████████| 24/24 [00:05<00:00,  4.07it/s]                                                                                                                                                                                                                    \n"
     ]
    },
    {
     "name": "stdout",
     "output_type": "stream",
     "text": [
      "Threshold : 0.20\tFBeta : 0.380850\n",
      "Threshold : 0.25\tFBeta : 0.404610\n",
      "Threshold : 0.30\tFBeta : 0.420835\n",
      "Threshold : 0.35\tFBeta : 0.431857\n",
      "Threshold : 0.40\tFBeta : 0.440495\n",
      "Threshold : 0.45\tFBeta : 0.446175\n",
      "Threshold : 0.50\tFBeta : 0.450283\n",
      "Threshold : 0.55\tFBeta : 0.451699\n",
      "Threshold : 0.60\tFBeta : 0.447026\n",
      "Threshold : 0.65\tFBeta : 0.441150\n",
      "Threshold : 0.70\tFBeta : 0.431239\n",
      "Threshold : 0.75\tFBeta : 0.414311\n",
      "Threshold : 0.80\tFBeta : 0.386865\n",
      "\n"
     ]
    },
    {
     "name": "stderr",
     "output_type": "stream",
     "text": [
      "Epoch 35/50  Mem : 18.5GB  LR : 2.50E-05  Loss: 0.2847: 100%|██████████| 62/62 [00:42<00:00,  1.45it/s]                                                                                                                                                                              \n",
      "Val Loss: 0.2396: 100%|██████████| 24/24 [00:05<00:00,  4.03it/s]                                                                                                                                                                                                                    \n"
     ]
    },
    {
     "name": "stdout",
     "output_type": "stream",
     "text": [
      "Threshold : 0.20\tFBeta : 0.455785\n",
      "Threshold : 0.25\tFBeta : 0.470766\n",
      "Threshold : 0.30\tFBeta : 0.481634\n",
      "Threshold : 0.35\tFBeta : 0.487969\n",
      "Threshold : 0.40\tFBeta : 0.493363\n",
      "Threshold : 0.45\tFBeta : 0.499373\n",
      "Threshold : 0.50\tFBeta : 0.499884\n",
      "Threshold : 0.55\tFBeta : 0.494107\n",
      "Threshold : 0.60\tFBeta : 0.481663\n",
      "Threshold : 0.65\tFBeta : 0.462147\n",
      "Threshold : 0.70\tFBeta : 0.433652\n",
      "Threshold : 0.75\tFBeta : 0.388395\n",
      "Threshold : 0.80\tFBeta : 0.327293\n",
      "\n"
     ]
    },
    {
     "name": "stderr",
     "output_type": "stream",
     "text": [
      "Epoch 36/50  Mem : 18.5GB  LR : 2.20E-05  Loss: 0.2714: 100%|██████████| 62/62 [00:42<00:00,  1.45it/s]                                                                                                                                                                              \n",
      "Val Loss: 0.2443: 100%|██████████| 24/24 [00:05<00:00,  4.09it/s]                                                                                                                                                                                                                    \n"
     ]
    },
    {
     "name": "stdout",
     "output_type": "stream",
     "text": [
      "Threshold : 0.20\tFBeta : 0.410674\n",
      "Threshold : 0.25\tFBeta : 0.432604\n",
      "Threshold : 0.30\tFBeta : 0.448003\n",
      "Threshold : 0.35\tFBeta : 0.458363\n",
      "Threshold : 0.40\tFBeta : 0.467402\n",
      "Threshold : 0.45\tFBeta : 0.475564\n",
      "Threshold : 0.50\tFBeta : 0.481792\n",
      "Threshold : 0.55\tFBeta : 0.484159\n",
      "Threshold : 0.60\tFBeta : 0.480782\n",
      "Threshold : 0.65\tFBeta : 0.470732\n",
      "Threshold : 0.70\tFBeta : 0.446245\n",
      "Threshold : 0.75\tFBeta : 0.405032\n",
      "Threshold : 0.80\tFBeta : 0.343640\n",
      "\n"
     ]
    },
    {
     "name": "stderr",
     "output_type": "stream",
     "text": [
      "Epoch 37/50  Mem : 18.5GB  LR : 1.92E-05  Loss: 0.2782: 100%|██████████| 62/62 [00:43<00:00,  1.44it/s]                                                                                                                                                                              \n",
      "Val Loss: 0.2413: 100%|██████████| 24/24 [00:05<00:00,  4.05it/s]                                                                                                                                                                                                                    \n"
     ]
    },
    {
     "name": "stdout",
     "output_type": "stream",
     "text": [
      "Threshold : 0.20\tFBeta : 0.459656\n",
      "Threshold : 0.25\tFBeta : 0.474199\n",
      "Threshold : 0.30\tFBeta : 0.483169\n",
      "Threshold : 0.35\tFBeta : 0.490067\n",
      "Threshold : 0.40\tFBeta : 0.494392\n",
      "Threshold : 0.45\tFBeta : 0.498280\n",
      "Threshold : 0.50\tFBeta : 0.498252\n",
      "Threshold : 0.55\tFBeta : 0.494946\n",
      "Threshold : 0.60\tFBeta : 0.480513\n",
      "Threshold : 0.65\tFBeta : 0.458194\n",
      "Threshold : 0.70\tFBeta : 0.430646\n",
      "Threshold : 0.75\tFBeta : 0.391336\n",
      "Threshold : 0.80\tFBeta : 0.337278\n",
      "\n"
     ]
    },
    {
     "name": "stderr",
     "output_type": "stream",
     "text": [
      "Epoch 38/50  Mem : 18.5GB  LR : 1.65E-05  Loss: 0.2744: 100%|██████████| 62/62 [00:42<00:00,  1.44it/s]                                                                                                                                                                              \n",
      "Val Loss: 0.2419: 100%|██████████| 24/24 [00:05<00:00,  4.08it/s]                                                                                                                                                                                                                    \n"
     ]
    },
    {
     "name": "stdout",
     "output_type": "stream",
     "text": [
      "Threshold : 0.20\tFBeta : 0.426806\n",
      "Threshold : 0.25\tFBeta : 0.451464\n",
      "Threshold : 0.30\tFBeta : 0.464727\n",
      "Threshold : 0.35\tFBeta : 0.474052\n",
      "Threshold : 0.40\tFBeta : 0.480073\n",
      "Threshold : 0.45\tFBeta : 0.486176\n",
      "Threshold : 0.50\tFBeta : 0.491924\n",
      "Threshold : 0.55\tFBeta : 0.493873\n",
      "Threshold : 0.60\tFBeta : 0.493402\n",
      "Threshold : 0.65\tFBeta : 0.486304\n",
      "Threshold : 0.70\tFBeta : 0.470390\n",
      "Threshold : 0.75\tFBeta : 0.444324\n",
      "Threshold : 0.80\tFBeta : 0.410670\n",
      "\n"
     ]
    },
    {
     "name": "stderr",
     "output_type": "stream",
     "text": [
      "Epoch 39/50  Mem : 18.5GB  LR : 1.40E-05  Loss: 0.2713: 100%|██████████| 62/62 [00:42<00:00,  1.46it/s]                                                                                                                                                                              \n",
      "Val Loss: 0.2380: 100%|██████████| 24/24 [00:05<00:00,  4.08it/s]                                                                                                                                                                                                                    \n"
     ]
    },
    {
     "name": "stdout",
     "output_type": "stream",
     "text": [
      "Threshold : 0.20\tFBeta : 0.447000\n",
      "Threshold : 0.25\tFBeta : 0.465809\n",
      "Threshold : 0.30\tFBeta : 0.480688\n",
      "Threshold : 0.35\tFBeta : 0.492443\n",
      "Threshold : 0.40\tFBeta : 0.501986\n",
      "Threshold : 0.45\tFBeta : 0.508068\n",
      "Threshold : 0.50\tFBeta : 0.509475\n",
      "Threshold : 0.55\tFBeta : 0.497196\n",
      "Threshold : 0.60\tFBeta : 0.482948\n",
      "Threshold : 0.65\tFBeta : 0.465007\n",
      "Threshold : 0.70\tFBeta : 0.437424\n",
      "Threshold : 0.75\tFBeta : 0.395304\n",
      "Threshold : 0.80\tFBeta : 0.338454\n",
      "\n"
     ]
    },
    {
     "name": "stderr",
     "output_type": "stream",
     "text": [
      "Epoch 40/50  Mem : 18.5GB  LR : 1.17E-05  Loss: 0.2685: 100%|██████████| 62/62 [00:42<00:00,  1.46it/s]                                                                                                                                                                              \n",
      "Val Loss: 0.2385: 100%|██████████| 24/24 [00:05<00:00,  4.05it/s]                                                                                                                                                                                                                    \n"
     ]
    },
    {
     "name": "stdout",
     "output_type": "stream",
     "text": [
      "Threshold : 0.20\tFBeta : 0.459042\n",
      "Threshold : 0.25\tFBeta : 0.475006\n",
      "Threshold : 0.30\tFBeta : 0.483961\n",
      "Threshold : 0.35\tFBeta : 0.490369\n",
      "Threshold : 0.40\tFBeta : 0.493712\n",
      "Threshold : 0.45\tFBeta : 0.495071\n",
      "Threshold : 0.50\tFBeta : 0.492579\n",
      "Threshold : 0.55\tFBeta : 0.484494\n",
      "Threshold : 0.60\tFBeta : 0.469791\n",
      "Threshold : 0.65\tFBeta : 0.445457\n",
      "Threshold : 0.70\tFBeta : 0.412078\n",
      "Threshold : 0.75\tFBeta : 0.367211\n",
      "Threshold : 0.80\tFBeta : 0.312967\n",
      "\n"
     ]
    },
    {
     "name": "stderr",
     "output_type": "stream",
     "text": [
      "Epoch 41/50  Mem : 18.5GB  LR : 9.55E-06  Loss: 0.2649: 100%|██████████| 62/62 [00:42<00:00,  1.45it/s]                                                                                                                                                                              \n",
      "Val Loss: 0.2352: 100%|██████████| 24/24 [00:05<00:00,  4.01it/s]                                                                                                                                                                                                                    \n"
     ]
    },
    {
     "name": "stdout",
     "output_type": "stream",
     "text": [
      "Threshold : 0.20\tFBeta : 0.466922\n",
      "Threshold : 0.25\tFBeta : 0.486288\n",
      "Threshold : 0.30\tFBeta : 0.499944\n",
      "Threshold : 0.35\tFBeta : 0.507782\n",
      "Threshold : 0.40\tFBeta : 0.514275\n",
      "Threshold : 0.45\tFBeta : 0.518826\n",
      "Threshold : 0.50\tFBeta : 0.520467\n",
      "Threshold : 0.55\tFBeta : 0.516728\n",
      "Threshold : 0.60\tFBeta : 0.506912\n",
      "Threshold : 0.65\tFBeta : 0.491963\n",
      "Threshold : 0.70\tFBeta : 0.470048\n",
      "Threshold : 0.75\tFBeta : 0.437646\n",
      "Threshold : 0.80\tFBeta : 0.392606\n",
      "\n"
     ]
    },
    {
     "name": "stderr",
     "output_type": "stream",
     "text": [
      "Epoch 42/50  Mem : 18.5GB  LR : 7.60E-06  Loss: 0.2720: 100%|██████████| 62/62 [00:42<00:00,  1.45it/s]                                                                                                                                                                              \n",
      "Val Loss: 0.2434: 100%|██████████| 24/24 [00:05<00:00,  4.08it/s]                                                                                                                                                                                                                    \n"
     ]
    },
    {
     "name": "stdout",
     "output_type": "stream",
     "text": [
      "Threshold : 0.20\tFBeta : 0.477755\n",
      "Threshold : 0.25\tFBeta : 0.492069\n",
      "Threshold : 0.30\tFBeta : 0.494722\n",
      "Threshold : 0.35\tFBeta : 0.493884\n",
      "Threshold : 0.40\tFBeta : 0.489559\n",
      "Threshold : 0.45\tFBeta : 0.482357\n",
      "Threshold : 0.50\tFBeta : 0.467386\n",
      "Threshold : 0.55\tFBeta : 0.445433\n",
      "Threshold : 0.60\tFBeta : 0.414527\n",
      "Threshold : 0.65\tFBeta : 0.381676\n",
      "Threshold : 0.70\tFBeta : 0.341857\n",
      "Threshold : 0.75\tFBeta : 0.291516\n",
      "Threshold : 0.80\tFBeta : 0.227232\n",
      "\n"
     ]
    },
    {
     "name": "stderr",
     "output_type": "stream",
     "text": [
      "Epoch 43/50  Mem : 18.5GB  LR : 5.85E-06  Loss: 0.2687: 100%|██████████| 62/62 [00:42<00:00,  1.45it/s]                                                                                                                                                                              \n",
      "Val Loss: 0.2402: 100%|██████████| 24/24 [00:05<00:00,  4.04it/s]                                                                                                                                                                                                                    \n"
     ]
    },
    {
     "name": "stdout",
     "output_type": "stream",
     "text": [
      "Threshold : 0.20\tFBeta : 0.432503\n",
      "Threshold : 0.25\tFBeta : 0.454835\n",
      "Threshold : 0.30\tFBeta : 0.468937\n",
      "Threshold : 0.35\tFBeta : 0.479634\n",
      "Threshold : 0.40\tFBeta : 0.484893\n",
      "Threshold : 0.45\tFBeta : 0.488621\n",
      "Threshold : 0.50\tFBeta : 0.491699\n",
      "Threshold : 0.55\tFBeta : 0.491243\n",
      "Threshold : 0.60\tFBeta : 0.484815\n",
      "Threshold : 0.65\tFBeta : 0.468792\n",
      "Threshold : 0.70\tFBeta : 0.444422\n",
      "Threshold : 0.75\tFBeta : 0.411199\n",
      "Threshold : 0.80\tFBeta : 0.367355\n",
      "\n"
     ]
    },
    {
     "name": "stderr",
     "output_type": "stream",
     "text": [
      "Epoch 44/50  Mem : 18.5GB  LR : 4.32E-06  Loss: 0.2679: 100%|██████████| 62/62 [00:42<00:00,  1.47it/s]                                                                                                                                                                              \n",
      "Val Loss: 0.2413: 100%|██████████| 24/24 [00:05<00:00,  4.07it/s]                                                                                                                                                                                                                    \n"
     ]
    },
    {
     "name": "stdout",
     "output_type": "stream",
     "text": [
      "Threshold : 0.20\tFBeta : 0.416860\n",
      "Threshold : 0.25\tFBeta : 0.440488\n",
      "Threshold : 0.30\tFBeta : 0.457155\n",
      "Threshold : 0.35\tFBeta : 0.469063\n",
      "Threshold : 0.40\tFBeta : 0.478389\n",
      "Threshold : 0.45\tFBeta : 0.482144\n",
      "Threshold : 0.50\tFBeta : 0.484692\n",
      "Threshold : 0.55\tFBeta : 0.483179\n",
      "Threshold : 0.60\tFBeta : 0.476543\n",
      "Threshold : 0.65\tFBeta : 0.458128\n",
      "Threshold : 0.70\tFBeta : 0.428574\n",
      "Threshold : 0.75\tFBeta : 0.389046\n",
      "Threshold : 0.80\tFBeta : 0.340101\n",
      "\n"
     ]
    },
    {
     "name": "stderr",
     "output_type": "stream",
     "text": [
      "Epoch 45/50  Mem : 18.5GB  LR : 3.02E-06  Loss: 0.2635: 100%|██████████| 62/62 [00:42<00:00,  1.45it/s]                                                                                                                                                                              \n",
      "Val Loss: 0.2376: 100%|██████████| 24/24 [00:05<00:00,  4.07it/s]                                                                                                                                                                                                                    \n"
     ]
    },
    {
     "name": "stdout",
     "output_type": "stream",
     "text": [
      "Threshold : 0.20\tFBeta : 0.435108\n",
      "Threshold : 0.25\tFBeta : 0.456407\n",
      "Threshold : 0.30\tFBeta : 0.471499\n",
      "Threshold : 0.35\tFBeta : 0.482338\n",
      "Threshold : 0.40\tFBeta : 0.489708\n",
      "Threshold : 0.45\tFBeta : 0.492986\n",
      "Threshold : 0.50\tFBeta : 0.495487\n",
      "Threshold : 0.55\tFBeta : 0.494904\n",
      "Threshold : 0.60\tFBeta : 0.485307\n",
      "Threshold : 0.65\tFBeta : 0.467282\n",
      "Threshold : 0.70\tFBeta : 0.438030\n",
      "Threshold : 0.75\tFBeta : 0.398519\n",
      "Threshold : 0.80\tFBeta : 0.349126\n",
      "\n"
     ]
    },
    {
     "name": "stderr",
     "output_type": "stream",
     "text": [
      "Epoch 46/50  Mem : 18.5GB  LR : 1.94E-06  Loss: 0.2625: 100%|██████████| 62/62 [00:42<00:00,  1.45it/s]                                                                                                                                                                              \n",
      "Val Loss: 0.2417: 100%|██████████| 24/24 [00:05<00:00,  4.07it/s]                                                                                                                                                                                                                    \n"
     ]
    },
    {
     "name": "stdout",
     "output_type": "stream",
     "text": [
      "Threshold : 0.20\tFBeta : 0.428707\n",
      "Threshold : 0.25\tFBeta : 0.451984\n",
      "Threshold : 0.30\tFBeta : 0.466795\n",
      "Threshold : 0.35\tFBeta : 0.476872\n",
      "Threshold : 0.40\tFBeta : 0.483031\n",
      "Threshold : 0.45\tFBeta : 0.485493\n",
      "Threshold : 0.50\tFBeta : 0.487309\n",
      "Threshold : 0.55\tFBeta : 0.485707\n",
      "Threshold : 0.60\tFBeta : 0.479850\n",
      "Threshold : 0.65\tFBeta : 0.466144\n",
      "Threshold : 0.70\tFBeta : 0.444261\n",
      "Threshold : 0.75\tFBeta : 0.410563\n",
      "Threshold : 0.80\tFBeta : 0.365677\n",
      "\n"
     ]
    },
    {
     "name": "stderr",
     "output_type": "stream",
     "text": [
      "Epoch 47/50  Mem : 18.5GB  LR : 1.09E-06  Loss: 0.2638: 100%|██████████| 62/62 [00:44<00:00,  1.41it/s]                                                                                                                                                                              \n",
      "Val Loss: 0.2448: 100%|██████████| 24/24 [00:06<00:00,  3.78it/s]                                                                                                                                                                                                                    \n"
     ]
    },
    {
     "name": "stdout",
     "output_type": "stream",
     "text": [
      "Threshold : 0.20\tFBeta : 0.412295\n",
      "Threshold : 0.25\tFBeta : 0.435907\n",
      "Threshold : 0.30\tFBeta : 0.454561\n",
      "Threshold : 0.35\tFBeta : 0.467044\n",
      "Threshold : 0.40\tFBeta : 0.475943\n",
      "Threshold : 0.45\tFBeta : 0.481924\n",
      "Threshold : 0.50\tFBeta : 0.483388\n",
      "Threshold : 0.55\tFBeta : 0.485955\n",
      "Threshold : 0.60\tFBeta : 0.481200\n",
      "Threshold : 0.65\tFBeta : 0.474622\n",
      "Threshold : 0.70\tFBeta : 0.458299\n",
      "Threshold : 0.75\tFBeta : 0.431143\n",
      "Threshold : 0.80\tFBeta : 0.391216\n",
      "\n"
     ]
    },
    {
     "name": "stderr",
     "output_type": "stream",
     "text": [
      "Epoch 48/50  Mem : 18.5GB  LR : 4.87E-07  Loss: 0.2644: 100%|██████████| 62/62 [00:44<00:00,  1.41it/s]                                                                                                                                                                              \n",
      "Val Loss: 0.2404: 100%|██████████| 24/24 [00:05<00:00,  4.03it/s]                                                                                                                                                                                                                    \n"
     ]
    },
    {
     "name": "stdout",
     "output_type": "stream",
     "text": [
      "Threshold : 0.20\tFBeta : 0.436117\n",
      "Threshold : 0.25\tFBeta : 0.457336\n",
      "Threshold : 0.30\tFBeta : 0.471105\n",
      "Threshold : 0.35\tFBeta : 0.481039\n",
      "Threshold : 0.40\tFBeta : 0.486750\n",
      "Threshold : 0.45\tFBeta : 0.487728\n",
      "Threshold : 0.50\tFBeta : 0.489840\n",
      "Threshold : 0.55\tFBeta : 0.488790\n",
      "Threshold : 0.60\tFBeta : 0.481468\n",
      "Threshold : 0.65\tFBeta : 0.465611\n",
      "Threshold : 0.70\tFBeta : 0.440045\n",
      "Threshold : 0.75\tFBeta : 0.404412\n",
      "Threshold : 0.80\tFBeta : 0.358214\n",
      "\n"
     ]
    },
    {
     "name": "stderr",
     "output_type": "stream",
     "text": [
      "Epoch 49/50  Mem : 18.5GB  LR : 1.22E-07  Loss: 0.2668: 100%|██████████| 62/62 [00:43<00:00,  1.44it/s]                                                                                                                                                                              \n",
      "Val Loss: 0.2395: 100%|██████████| 24/24 [00:05<00:00,  4.02it/s]                                                                                                                                                                                                                \n"
     ]
    },
    {
     "name": "stdout",
     "output_type": "stream",
     "text": [
      "Threshold : 0.20\tFBeta : 0.434067\n",
      "Threshold : 0.25\tFBeta : 0.455979\n",
      "Threshold : 0.30\tFBeta : 0.470363\n",
      "Threshold : 0.35\tFBeta : 0.480985\n",
      "Threshold : 0.40\tFBeta : 0.487025\n",
      "Threshold : 0.45\tFBeta : 0.488291\n",
      "Threshold : 0.50\tFBeta : 0.491661\n",
      "Threshold : 0.55\tFBeta : 0.491532\n",
      "Threshold : 0.60\tFBeta : 0.482567\n",
      "Threshold : 0.65\tFBeta : 0.464649\n",
      "Threshold : 0.70\tFBeta : 0.436753\n",
      "Threshold : 0.75\tFBeta : 0.400208\n",
      "Threshold : 0.80\tFBeta : 0.353783\n",
      "\n"
     ]
    },
    {
     "name": "stderr",
     "output_type": "stream",
     "text": [
      "Epoch 50/50  Mem : 18.5GB  LR : 4.00E-10  Loss: 0.2632: 100%|██████████| 62/62 [00:42<00:00,  1.46it/s]                                                                                                                                                                          \n",
      "Val Loss: 0.2410: 100%|██████████| 24/24 [00:05<00:00,  4.05it/s]                                                                                                                                                                                                                \n"
     ]
    },
    {
     "name": "stdout",
     "output_type": "stream",
     "text": [
      "Threshold : 0.20\tFBeta : 0.428068\n",
      "Threshold : 0.25\tFBeta : 0.451731\n",
      "Threshold : 0.30\tFBeta : 0.467654\n",
      "Threshold : 0.35\tFBeta : 0.477867\n",
      "Threshold : 0.40\tFBeta : 0.484723\n",
      "Threshold : 0.45\tFBeta : 0.489124\n",
      "Threshold : 0.50\tFBeta : 0.490111\n",
      "Threshold : 0.55\tFBeta : 0.489686\n",
      "Threshold : 0.60\tFBeta : 0.484658\n",
      "Threshold : 0.65\tFBeta : 0.473003\n",
      "Threshold : 0.70\tFBeta : 0.452101\n",
      "Threshold : 0.75\tFBeta : 0.419911\n",
      "Threshold : 0.80\tFBeta : 0.375931\n",
      "\n"
     ]
    }
   ],
   "source": [
    "fbeta_best = 0.0\n",
    "for epoch in range(1, EPOCHS+1):\n",
    "    model.train()\n",
    "    cur_lr = f\"LR : {scheduler.get_last_lr()[0]:.2E}\"\n",
    "    pbar_train = enumerate(dataloader_train)\n",
    "    pbar_train = tqdm(pbar_train, total=n_train, bar_format=\"{l_bar}{bar:10}{r_bar}{bar:-10b}\")\n",
    "    mloss_train, mloss_val, val_metric = 0.0, 0.0, 0.0\n",
    "\n",
    "    \n",
    "\n",
    "\n",
    "\n",
    "\n",
    "    for i, (fragments, masks) in pbar_train:\n",
    "        fragments, masks = fragments.cuda().half(), masks.cuda().half()\n",
    "        \n",
    "        \n",
    "        optimizer.zero_grad()\n",
    "        with amp.autocast():\n",
    "            pred_masks = model(fragments)\n",
    "            loss = criterion(pred_masks, masks)\n",
    "            scaler.scale(loss).backward()\n",
    "            scaler.step(optimizer)\n",
    "            scaler.update()\n",
    "            mloss_train += loss.detach().item()\n",
    "\n",
    "        gpu_mem = f\"Mem : {torch.cuda.memory_reserved() / 1E9:.3g}GB\"\n",
    "        pbar_train.set_description((\"%10s  \" * 3 + \"%10s\") % (f\"Epoch {epoch}/{EPOCHS}\", gpu_mem, cur_lr,\n",
    "                                                              f\"Loss: {mloss_train / (i + 1):.4f}\"))\n",
    "        \n",
    "    scheduler.step()\n",
    "    model.eval()\n",
    "    pbar_val = enumerate(dataloader_valid)\n",
    "    pbar_val = tqdm(pbar_val, total=n_valid, bar_format=\"{l_bar}{bar:10}{r_bar}{bar:-10b}\")\n",
    "    final_pred_mask = torch.zeros(gt_shape, dtype=torch.float32, device='cuda')\n",
    "    \n",
    "    for i, (fragments, masks, xys) in pbar_val:\n",
    "        fragments, masks = fragments.cuda(), masks.cuda()\n",
    "        \n",
    "        with torch.no_grad():\n",
    "            pred_masks = model(fragments)\n",
    "            mloss_val += criterion(pred_masks, masks).item()\n",
    "            pred_masks = torch.sigmoid(pred_masks)\n",
    "        \n",
    "        for j, xy in enumerate(xys):\n",
    "            final_pred_mask[xy[1]:xy[3], xy[0]:xy[2]] = pred_masks[j, 0]\n",
    "\n",
    "        pbar_val.set_description((\"%10s\") % (f\"Val Loss: {mloss_val / (i+1):.4f}\"))\n",
    "    \n",
    "    for threshold in np.arange(0.2, 0.85, 0.05):\n",
    "        fbeta = fbeta_score(final_pred_mask, gt_mask, threshold)\n",
    "        print(f\"Threshold : {threshold:.2f}\\tFBeta : {fbeta:.6f}\")\n",
    "        \n",
    "        if fbeta_best < fbeta:\n",
    "            fbeta_best = fbeta\n",
    "            torch.save(model.module.state_dict(), f\"./ckpts/resnet18_3d_seg_best_{fbeta_best:.4f}.pt\")\n",
    "    \n",
    "    \n",
    "    if epoch >= 10:\n",
    "        torch.save(model.module.state_dict(), f\"./ckpts/resnet18_3d_seg_epoch_{epoch}.pt\")\n",
    "\n",
    "    # if epoch == 30:\n",
    "    #     break\n",
    "\n",
    "    print()"
   ]
  },
  {
   "cell_type": "code",
   "execution_count": 22,
   "id": "2c48f344",
   "metadata": {
    "execution": {
     "iopub.execute_input": "2023-05-22T07:58:52.975153Z",
     "iopub.status.busy": "2023-05-22T07:58:52.975061Z",
     "iopub.status.idle": "2023-05-22T07:58:52.977292Z",
     "shell.execute_reply": "2023-05-22T07:58:52.977102Z"
    }
   },
   "outputs": [],
   "source": [
    "# import logging\n",
    "\n",
    "# logging.basicConfig(filename=\"training_log.txt\", level=logging.INFO)\n",
    "\n",
    "# console = logging.StreamHandler()\n",
    "# console.setLevel(logging.INFO)\n",
    "# logging.getLogger('').addHandler(console)\n",
    "\n",
    "# fbeta_best = 0.0\n",
    "# for epoch in range(1, EPOCHS+1):\n",
    "#     model.train()\n",
    "#     cur_lr = f\"LR : {scheduler.get_last_lr()[0]:.2E}\"\n",
    "#     pbar_train = enumerate(dataloader_train)\n",
    "#     pbar_train = tqdm(pbar_train, total=n_train, bar_format=\"{l_bar}{bar:10}{r_bar}{bar:-10b}\")\n",
    "#     mloss_train, mloss_val, val_metric = 0.0, 0.0, 0.0\n",
    "\n",
    "#     for i, (fragments, masks) in pbar_train:\n",
    "#         fragments, masks = fragments.cuda().half(), masks.cuda().half()\n",
    "        \n",
    "#         optimizer.zero_grad()\n",
    "#         with amp.autocast():\n",
    "#             pred_masks = model(fragments)\n",
    "#             loss = criterion(pred_masks, masks)\n",
    "#             scaler.scale(loss).backward()\n",
    "#             scaler.step(optimizer)\n",
    "#             scaler.update()\n",
    "#             mloss_train += loss.detach().item()\n",
    "\n",
    "#         gpu_mem = f\"Mem : {torch.cuda.memory_reserved() / 1E9:.3g}GB\"\n",
    "#         pbar_train.set_description((\"%10s  \" * 3 + \"%10s\") % (f\"Epoch {epoch}/{EPOCHS}\", gpu_mem, cur_lr,\n",
    "#                                                               f\"Loss: {mloss_train / (i + 1):.4f}\"))\n",
    "#         logging.info((\"%10s  \" * 3 + \"%10s\") % (f\"Epoch {epoch}/{EPOCHS}\", gpu_mem, cur_lr,\n",
    "#                                                 f\"Loss: {mloss_train / (i + 1):.4f}\"))\n",
    "#     scheduler.step()\n",
    "#     model.eval()\n",
    "#     pbar_val = enumerate(dataloader_valid)\n",
    "#     pbar_val = tqdm(pbar_val, total=n_valid, bar_format=\"{l_bar}{bar:10}{r_bar}{bar:-10b}\")\n",
    "#     final_pred_mask = torch.zeros(gt_shape, dtype=torch.float32, device='cuda')\n",
    "    \n",
    "#     for i, (fragments, masks, xys) in pbar_val:\n",
    "#         fragments, masks = fragments.cuda(), masks.cuda()\n",
    "        \n",
    "#         with torch.no_grad():\n",
    "#             pred_masks = model(fragments)\n",
    "#             mloss_val += criterion(pred_masks, masks).item()\n",
    "#             pred_masks = torch.sigmoid(pred_masks)\n",
    "        \n",
    "#         for j, xy in enumerate(xys):\n",
    "#             final_pred_mask[xy[1]:xy[3], xy[0]:xy[2]] = pred_masks[j, 0]\n",
    "\n",
    "#         pbar_val.set_description((\"%10s\") % (f\"Val Loss: {mloss_val / (i+1):.4f}\"))\n",
    "#         logging.info((\"%10s\") % (f\"Val Loss: {mloss_val / (i+1):.4f}\"))\n",
    "\n",
    "#     for threshold in np.arange(0.2, 0.85, 0.05):\n",
    "#         fbeta = fbeta_score(final_pred_mask, gt_mask, threshold)\n",
    "#         logging.info(f\"Threshold : {threshold:.2f}\\tFBeta : {fbeta:.6f}\")\n",
    "\n",
    "#         if fbeta_best < fbeta:\n",
    "#             fbeta_best = fbeta\n",
    "#             torch.save(model.module.state_dict(), f\"./ckpts/resnet18_3d_seg_best.pt\")\n",
    "    \n",
    "#     # if epoch >= 10:\n",
    "#     #     torch.save(model.module.state_dict(), f\"./ckpts/resnet18_3d_seg_epoch_{epoch}.pt\")\n"
   ]
  },
  {
   "cell_type": "code",
   "execution_count": null,
   "id": "89431087",
   "metadata": {
    "papermill": {
     "duration": 0.381515,
     "end_time": "2023-04-08T11:20:14.478012",
     "exception": false,
     "start_time": "2023-04-08T11:20:14.096497",
     "status": "completed"
    },
    "tags": []
   },
   "outputs": [],
   "source": []
  }
 ],
 "metadata": {
  "kernelspec": {
   "display_name": "Python 3",
   "language": "python",
   "name": "python3"
  },
  "language_info": {
   "codemirror_mode": {
    "name": "ipython",
    "version": 3
   },
   "file_extension": ".py",
   "mimetype": "text/x-python",
   "name": "python",
   "nbconvert_exporter": "python",
   "pygments_lexer": "ipython3",
   "version": "3.9.16"
  },
  "papermill": {
   "default_parameters": {},
   "duration": 4132.646938,
   "end_time": "2023-04-08T11:20:18.816611",
   "environment_variables": {},
   "exception": null,
   "input_path": "__notebook__.ipynb",
   "output_path": "__notebook__.ipynb",
   "parameters": {},
   "start_time": "2023-04-08T10:11:26.169673",
   "version": "2.4.0"
  }
 },
 "nbformat": 4,
 "nbformat_minor": 5
}
