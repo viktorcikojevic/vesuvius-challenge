{
 "cells": [
  {
   "attachments": {},
   "cell_type": "markdown",
   "id": "73dea9ca",
   "metadata": {
    "papermill": {
     "duration": 0.006587,
     "end_time": "2023-04-08T10:11:36.662576",
     "exception": false,
     "start_time": "2023-04-08T10:11:36.655989",
     "status": "completed"
    },
    "tags": []
   },
   "source": [
    "## Vesuvius Challenge - Ink Detection Training Notebook"
   ]
  },
  {
   "attachments": {},
   "cell_type": "markdown",
   "id": "8cdbb7ff",
   "metadata": {
    "papermill": {
     "duration": 0.004951,
     "end_time": "2023-04-08T10:11:36.672955",
     "exception": false,
     "start_time": "2023-04-08T10:11:36.668004",
     "status": "completed"
    },
    "tags": []
   },
   "source": [
    "### Setup"
   ]
  },
  {
   "cell_type": "code",
   "execution_count": 1,
   "id": "ae445317",
   "metadata": {
    "_kg_hide-input": false,
    "_kg_hide-output": true,
    "execution": {
     "iopub.execute_input": "2023-05-22T09:13:32.828987Z",
     "iopub.status.busy": "2023-05-22T09:13:32.828625Z",
     "iopub.status.idle": "2023-05-22T09:13:33.009062Z",
     "shell.execute_reply": "2023-05-22T09:13:33.007079Z"
    },
    "papermill": {
     "duration": 29.297355,
     "end_time": "2023-04-08T10:12:05.976007",
     "exception": false,
     "start_time": "2023-04-08T10:11:36.678652",
     "status": "completed"
    },
    "tags": []
   },
   "outputs": [],
   "source": [
    "# # Pretrained weights\n",
    "# # ref - https://github.com/kenshohara/3D-ResNets-PyTorch\n",
    "# !pip install gdown\n",
    "# !gdown 1Nb4abvIkkp_ydPFA9sNPT1WakoVKA8Fa\n",
    "\n",
    "# # Utility packages for reading and visualizing volumes\n",
    "# !pip install zarr imageio-ffmpeg\n",
    "\n",
    "# save model checkpoints\n",
    "!mkdir ./ckpts"
   ]
  },
  {
   "cell_type": "code",
   "execution_count": 2,
   "id": "0d956f5c",
   "metadata": {
    "execution": {
     "iopub.execute_input": "2023-05-22T09:13:33.014356Z",
     "iopub.status.busy": "2023-05-22T09:13:33.013970Z",
     "iopub.status.idle": "2023-05-22T09:13:33.788604Z",
     "shell.execute_reply": "2023-05-22T09:13:33.788235Z"
    },
    "papermill": {
     "duration": 3.289261,
     "end_time": "2023-04-08T10:12:09.273534",
     "exception": false,
     "start_time": "2023-04-08T10:12:05.984273",
     "status": "completed"
    },
    "tags": []
   },
   "outputs": [],
   "source": [
    "import os\n",
    "import gc\n",
    "import sys\n",
    "import zarr\n",
    "import random\n",
    "import imageio\n",
    "import numpy as np\n",
    "import pandas as pd\n",
    "from tqdm import tqdm\n",
    "import matplotlib.pyplot as plt\n",
    "from IPython.display import Video\n",
    "\n",
    "import torch\n",
    "import torch.nn as nn\n",
    "import torch.nn.functional as F\n",
    "from torch.cuda import amp\n",
    "from torch.utils.data import Dataset, DataLoader\n",
    "\n",
    "sys.path.append(\"./resnet3d\")\n",
    "from resnet3d import generate_model"
   ]
  },
  {
   "attachments": {},
   "cell_type": "markdown",
   "id": "88b00fe4",
   "metadata": {
    "papermill": {
     "duration": 0.007297,
     "end_time": "2023-04-08T10:12:09.288770",
     "exception": false,
     "start_time": "2023-04-08T10:12:09.281473",
     "status": "completed"
    },
    "tags": []
   },
   "source": [
    "### Config"
   ]
  },
  {
   "cell_type": "code",
   "execution_count": 3,
   "id": "59e26b77",
   "metadata": {
    "execution": {
     "iopub.execute_input": "2023-05-22T09:13:33.790338Z",
     "iopub.status.busy": "2023-05-22T09:13:33.790129Z",
     "iopub.status.idle": "2023-05-22T09:13:33.792197Z",
     "shell.execute_reply": "2023-05-22T09:13:33.791999Z"
    },
    "papermill": {
     "duration": 0.016571,
     "end_time": "2023-04-08T10:12:09.312935",
     "exception": false,
     "start_time": "2023-04-08T10:12:09.296364",
     "status": "completed"
    },
    "tags": []
   },
   "outputs": [],
   "source": [
    "LR = 1e-4\n",
    "EPOCHS = 50\n",
    "BATCH_SIZE = 32\n",
    "CROP_SIZE = 256\n",
    "Z_START = 24\n",
    "Z_DIMS = 16\n",
    "TRAIN_FRAGMENTS = [\"1\", \"3\"]\n",
    "TEST_FRAGMENT = \"2\""
   ]
  },
  {
   "attachments": {},
   "cell_type": "markdown",
   "id": "9a1e0328",
   "metadata": {
    "papermill": {
     "duration": 0.007428,
     "end_time": "2023-04-08T10:12:09.328094",
     "exception": false,
     "start_time": "2023-04-08T10:12:09.320666",
     "status": "completed"
    },
    "tags": []
   },
   "source": [
    "### Load data"
   ]
  },
  {
   "cell_type": "code",
   "execution_count": 4,
   "id": "8c494d99",
   "metadata": {
    "execution": {
     "iopub.execute_input": "2023-05-22T09:13:33.793285Z",
     "iopub.status.busy": "2023-05-22T09:13:33.793138Z",
     "iopub.status.idle": "2023-05-22T09:13:33.800927Z",
     "shell.execute_reply": "2023-05-22T09:13:33.800746Z"
    },
    "papermill": {
     "duration": 0.054715,
     "end_time": "2023-04-08T10:12:09.391635",
     "exception": false,
     "start_time": "2023-04-08T10:12:09.336920",
     "status": "completed"
    },
    "tags": []
   },
   "outputs": [],
   "source": [
    "\n",
    "\n",
    "FRAGMENTS_ZARR = {\n",
    "    \"1\" : zarr.open(\"/home/viktor/Documents/kaggle/vesuvius-challenge/kaggle-data/train-1.zarr\", mode=\"r\"),\n",
    "    \"2\" : zarr.open(\"/home/viktor/Documents/kaggle/vesuvius-challenge/kaggle-data/train-2.zarr\", mode=\"r\"),\n",
    "    \"3\" : zarr.open(\"/home/viktor/Documents/kaggle/vesuvius-challenge/kaggle-data/train-3.zarr\", mode=\"r\")\n",
    "}\n",
    "\n",
    "FRAGMENTS_SHAPE = {k : v.mask.shape for k, v in FRAGMENTS_ZARR.items()}"
   ]
  },
  {
   "attachments": {},
   "cell_type": "markdown",
   "id": "97a51afa",
   "metadata": {
    "papermill": {
     "duration": 0.007406,
     "end_time": "2023-04-08T10:12:09.406465",
     "exception": false,
     "start_time": "2023-04-08T10:12:09.399059",
     "status": "completed"
    },
    "tags": []
   },
   "source": [
    "### Visualise input"
   ]
  },
  {
   "cell_type": "code",
   "execution_count": 5,
   "id": "6d33b9f8",
   "metadata": {
    "execution": {
     "iopub.execute_input": "2023-05-22T09:13:33.802160Z",
     "iopub.status.busy": "2023-05-22T09:13:33.802023Z",
     "iopub.status.idle": "2023-05-22T09:13:33.946431Z",
     "shell.execute_reply": "2023-05-22T09:13:33.946204Z"
    },
    "papermill": {
     "duration": 1.68744,
     "end_time": "2023-04-08T10:12:11.101290",
     "exception": false,
     "start_time": "2023-04-08T10:12:09.413850",
     "status": "completed"
    },
    "tags": []
   },
   "outputs": [
    {
     "name": "stderr",
     "output_type": "stream",
     "text": [
      "Lossy conversion from uint16 to uint8. Losing 8 bits of resolution. Convert image to uint8 prior to saving to suppress this warning.\n",
      "Lossy conversion from uint16 to uint8. Losing 8 bits of resolution. Convert image to uint8 prior to saving to suppress this warning.\n",
      "Lossy conversion from uint16 to uint8. Losing 8 bits of resolution. Convert image to uint8 prior to saving to suppress this warning.\n",
      "Lossy conversion from uint16 to uint8. Losing 8 bits of resolution. Convert image to uint8 prior to saving to suppress this warning.\n",
      "Lossy conversion from uint16 to uint8. Losing 8 bits of resolution. Convert image to uint8 prior to saving to suppress this warning.\n",
      "Lossy conversion from uint16 to uint8. Losing 8 bits of resolution. Convert image to uint8 prior to saving to suppress this warning.\n",
      "Lossy conversion from uint16 to uint8. Losing 8 bits of resolution. Convert image to uint8 prior to saving to suppress this warning.\n",
      "Lossy conversion from uint16 to uint8. Losing 8 bits of resolution. Convert image to uint8 prior to saving to suppress this warning.\n",
      "Lossy conversion from uint16 to uint8. Losing 8 bits of resolution. Convert image to uint8 prior to saving to suppress this warning.\n",
      "Lossy conversion from uint16 to uint8. Losing 8 bits of resolution. Convert image to uint8 prior to saving to suppress this warning.\n",
      "Lossy conversion from uint16 to uint8. Losing 8 bits of resolution. Convert image to uint8 prior to saving to suppress this warning.\n",
      "Lossy conversion from uint16 to uint8. Losing 8 bits of resolution. Convert image to uint8 prior to saving to suppress this warning.\n",
      "Lossy conversion from uint16 to uint8. Losing 8 bits of resolution. Convert image to uint8 prior to saving to suppress this warning.\n",
      "Lossy conversion from uint16 to uint8. Losing 8 bits of resolution. Convert image to uint8 prior to saving to suppress this warning.\n",
      "Lossy conversion from uint16 to uint8. Losing 8 bits of resolution. Convert image to uint8 prior to saving to suppress this warning.\n",
      "Lossy conversion from uint16 to uint8. Losing 8 bits of resolution. Convert image to uint8 prior to saving to suppress this warning.\n"
     ]
    },
    {
     "data": {
      "text/html": [
       "<video src=\"fragment_crop.mp4\" controls  width=\"256\"  height=\"256\">\n",
       "      Your browser does not support the <code>video</code> element.\n",
       "    </video>"
      ],
      "text/plain": [
       "<IPython.core.display.Video object>"
      ]
     },
     "execution_count": 5,
     "metadata": {},
     "output_type": "execute_result"
    }
   ],
   "source": [
    "fragment = FRAGMENTS_ZARR[\"1\"]\n",
    "x, y = 2000, 2000\n",
    "\n",
    "fragment_cropped = fragment.surface_volume[y:y+CROP_SIZE, x:x+CROP_SIZE, Z_START:Z_START+Z_DIMS]\n",
    "imageio.mimwrite(\"fragment_crop.mp4\", fragment_cropped.transpose(2, 0, 1), \"ffmpeg\")\n",
    "Video(\"fragment_crop.mp4\", height=256, width=256)"
   ]
  },
  {
   "cell_type": "code",
   "execution_count": 6,
   "id": "46203a93",
   "metadata": {
    "execution": {
     "iopub.execute_input": "2023-05-22T09:13:33.947716Z",
     "iopub.status.busy": "2023-05-22T09:13:33.947631Z",
     "iopub.status.idle": "2023-05-22T09:13:33.987445Z",
     "shell.execute_reply": "2023-05-22T09:13:33.987225Z"
    },
    "papermill": {
     "duration": 0.258785,
     "end_time": "2023-04-08T10:12:11.368608",
     "exception": false,
     "start_time": "2023-04-08T10:12:11.109823",
     "status": "completed"
    },
    "tags": []
   },
   "outputs": [
    {
     "data": {
      "image/png": "[encoded data removed]",
      "text/plain": [
       "<Figure size 600x300 with 2 Axes>"
      ]
     },
     "metadata": {},
     "output_type": "display_data"
    }
   ],
   "source": [
    "mask_cropped = fragment.truth[y:y+CROP_SIZE, x:x+CROP_SIZE]\n",
    "ir_cropped = fragment.infrared[y:y+CROP_SIZE, x:x+CROP_SIZE]\n",
    "\n",
    "plt.figure(figsize=(6, 3))\n",
    "plt.subplot(1, 2, 1)\n",
    "plt.imshow(mask_cropped, cmap=\"gray\")\n",
    "plt.axis(\"off\")\n",
    "\n",
    "plt.subplot(1, 2, 2)\n",
    "plt.imshow(ir_cropped, cmap=\"gray\")\n",
    "plt.axis(\"off\")\n",
    "plt.show()"
   ]
  },
  {
   "cell_type": "code",
   "execution_count": 7,
   "id": "6462d25d",
   "metadata": {
    "execution": {
     "iopub.execute_input": "2023-05-22T09:13:33.988541Z",
     "iopub.status.busy": "2023-05-22T09:13:33.988460Z",
     "iopub.status.idle": "2023-05-22T09:13:34.036512Z",
     "shell.execute_reply": "2023-05-22T09:13:34.036310Z"
    },
    "papermill": {
     "duration": 0.17287,
     "end_time": "2023-04-08T10:12:11.562933",
     "exception": false,
     "start_time": "2023-04-08T10:12:11.390063",
     "status": "completed"
    },
    "tags": []
   },
   "outputs": [
    {
     "data": {
      "text/plain": [
       "4093"
      ]
     },
     "execution_count": 7,
     "metadata": {},
     "output_type": "execute_result"
    }
   ],
   "source": [
    "del fragment, fragment_cropped, mask_cropped, ir_cropped\n",
    "gc.collect()"
   ]
  },
  {
   "attachments": {},
   "cell_type": "markdown",
   "id": "ff9cd3e8",
   "metadata": {
    "papermill": {
     "duration": 0.008474,
     "end_time": "2023-04-08T10:12:11.580070",
     "exception": false,
     "start_time": "2023-04-08T10:12:11.571596",
     "status": "completed"
    },
    "tags": []
   },
   "source": [
    "### Dataloaders"
   ]
  },
  {
   "cell_type": "code",
   "execution_count": 8,
   "id": "162ec4e8",
   "metadata": {
    "execution": {
     "iopub.execute_input": "2023-05-22T09:13:34.037764Z",
     "iopub.status.busy": "2023-05-22T09:13:34.037651Z",
     "iopub.status.idle": "2023-05-22T09:13:34.039553Z",
     "shell.execute_reply": "2023-05-22T09:13:34.039370Z"
    },
    "papermill": {
     "duration": 0.024571,
     "end_time": "2023-04-08T10:12:11.612905",
     "exception": false,
     "start_time": "2023-04-08T10:12:11.588334",
     "status": "completed"
    },
    "tags": []
   },
   "outputs": [],
   "source": [
    "# import albumentations as A\n",
    "# from albumentations.pytorch import ToTensorV2\n",
    "\n",
    "# class VesuviusTrain(Dataset):\n",
    "#     def __init__(self, fragments):\n",
    "#         self.fragments = fragments\n",
    "#         self.xys = []\n",
    "        \n",
    "#         for fragment in fragments:\n",
    "#             H, W = FRAGMENTS_SHAPE[fragment]\n",
    "#             for y in range(0, H-CROP_SIZE+1, CROP_SIZE):\n",
    "#                 for x in range(0, W-CROP_SIZE+1, CROP_SIZE):\n",
    "#                     self.xys.append((fragment, x, y, W, H))\n",
    "        \n",
    "#         train_aug_list = [\n",
    "#                 # A.RandomResizedCrop(\n",
    "#                 #     size, size, scale=(0.85, 1.0)),\n",
    "#                 A.HorizontalFlip(p=0.5),\n",
    "#                 A.VerticalFlip(p=0.5),\n",
    "#                 A.RandomBrightnessContrast(p=0.75),\n",
    "#                 A.CoarseDropout(max_holes=1, max_width=int(CROP_SIZE * 0.1), max_height=int(size * 0.1), \n",
    "#                                 mask_fill_value=0, p=0.5),\n",
    "#                 A.ShiftScaleRotate(p=0.75),\n",
    "#                 A.Rotate(limit=90, p=0.9), \n",
    "#                 A.OneOf([\n",
    "#                         A.GaussNoise(var_limit=[10, 50]),\n",
    "#                         A.GaussianBlur(),\n",
    "#                         A.MotionBlur(),\n",
    "#                         ], p=0.4),\n",
    "#                 A.GridDistortion(num_steps=1, distort_limit=0.3, p=0.5),\n",
    "                \n",
    "#                 A.Cutout(max_h_size=int(size * 0.6),\n",
    "#                          max_w_size=int(size * 0.6), num_holes=1, p=1.0),\n",
    "#                 A.Normalize(\n",
    "#                     mean= [0] * Z_DIMS,\n",
    "#                     std= [1] * Z_DIMS\n",
    "#                 ),\n",
    "#                 ToTensorV2(transpose_mask=True),\n",
    "#             ]\n",
    "        \n",
    "        \n",
    "        \n",
    "#     def __getitem__(self, i):\n",
    "#         fragment, x1, y1, W, H = self.xys[i]\n",
    "#         z1, z2 = Z_START, Z_START+Z_DIMS\n",
    "        \n",
    "#         x_offset = random.randint(-32 if x1 != 0 else 0, 32)\n",
    "#         y_offset = random.randint(-32 if y1 != 0 else 0, 32)\n",
    "        \n",
    "#         x1 += x_offset\n",
    "#         y1 += y_offset\n",
    "        \n",
    "#         x2 = x1 + CROP_SIZE\n",
    "#         y2 = y1 + CROP_SIZE\n",
    "        \n",
    "#         if x2 > W:\n",
    "#             x1 -= x_offset\n",
    "#             x2 -= x_offset\n",
    "            \n",
    "#         if y2 > H:\n",
    "#             y1 -= y_offset\n",
    "#             y2 -= y_offset\n",
    "        \n",
    "#         frag_crop = FRAGMENTS_ZARR[fragment].surface_volume[y1:y2, x1:x2, z1:z2]\n",
    "#         mask_crop = FRAGMENTS_ZARR[fragment].truth[y1:y2, x1:x2]\n",
    "        \n",
    "#         if random.random() > 0.5:\n",
    "#             frag_crop = np.flip(frag_crop, axis=1).copy()\n",
    "#             mask_crop = np.flip(mask_crop, axis=1).copy()\n",
    "\n",
    "#         frag_crop = torch.from_numpy(frag_crop.astype(np.float32)).unsqueeze(0).permute(0, 3, 1, 2)\n",
    "#         frag_crop = frag_crop/65535.0\n",
    "#         frag_crop = (frag_crop - 0.45)/0.225\n",
    "        \n",
    "#         mask_crop = torch.from_numpy(mask_crop.astype(np.float32)).unsqueeze(0)\n",
    "        \n",
    "        \n",
    "        \n",
    "        \n",
    "        \n",
    "        \n",
    "        \n",
    "        \n",
    "#         return frag_crop, mask_crop\n",
    "\n",
    "#     def __len__(self):\n",
    "#         return len(self.xys)"
   ]
  },
  {
   "cell_type": "code",
   "execution_count": 9,
   "id": "c2c0c6d5",
   "metadata": {
    "execution": {
     "iopub.execute_input": "2023-05-22T09:13:34.040468Z",
     "iopub.status.busy": "2023-05-22T09:13:34.040378Z",
     "iopub.status.idle": "2023-05-22T09:13:34.334148Z",
     "shell.execute_reply": "2023-05-22T09:13:34.333819Z"
    }
   },
   "outputs": [],
   "source": [
    "import albumentations as A\n",
    "from albumentations.pytorch import ToTensorV2\n",
    "\n",
    "class VesuviusTrain(Dataset):\n",
    "    def __init__(self, fragments):\n",
    "        self.fragments = fragments\n",
    "        self.xys = []\n",
    "        \n",
    "        for fragment in fragments:\n",
    "            H, W = FRAGMENTS_SHAPE[fragment]\n",
    "            for y in range(0, H-CROP_SIZE+1, CROP_SIZE):\n",
    "                for x in range(0, W-CROP_SIZE+1, CROP_SIZE):\n",
    "                    surface = FRAGMENTS_ZARR[fragment].surface_volume[y:y+CROP_SIZE, x:x+CROP_SIZE, 0]\n",
    "                    if np.sum(surface) / (CROP_SIZE * CROP_SIZE) > 0.2:\n",
    "                        self.xys.append((fragment, x, y, W, H))\n",
    "        \n",
    "        self.train_aug_list = [\n",
    "                # A.RandomResizedCrop(\n",
    "                #     size, size, scale=(0.85, 1.0)),\n",
    "                \n",
    "                A.HorizontalFlip(p=0.5),\n",
    "                A.VerticalFlip(p=0.5),\n",
    "                \n",
    "                # A.RandomBrightnessContrast(p=0.75),\n",
    "                A.CoarseDropout(max_holes=1, max_width=int(CROP_SIZE * 0.1), max_height=int(CROP_SIZE * 0.1), \n",
    "                                mask_fill_value=0, p=0.5),\n",
    "                # A.ShiftScaleRotate(p=0.75),\n",
    "                \n",
    "                A.Rotate(limit=90, p=0.9), \n",
    "                \n",
    "                # A.OneOf([\n",
    "                #         A.GaussNoise(var_limit=[0.01, 0.05]),\n",
    "                #         A.GaussianBlur(blur_limit=(3, 5), sigma_limit=0),\n",
    "                #         A.MotionBlur(blur_limit=3),\n",
    "                #         ], p=0.4),\n",
    "                # A.GridDistortion(num_steps=1, distort_limit=0.1, p=0.5),\n",
    "                # A.MultiplicativeNoise(per_channel=True, multiplier=(0.95, 1.05)),\n",
    "                \n",
    "                # A.Cutout(max_h_size=int(CROP_SIZE * 0.2),\n",
    "                #          max_w_size=int(CROP_SIZE * 0.2), num_holes=1, p=1.0),\n",
    "                \n",
    "                ToTensorV2(transpose_mask=True),\n",
    "            ]\n",
    "        \n",
    "        # Create the augmentation pipeline\n",
    "        self.augmentations = A.Compose(self.train_aug_list)\n",
    "        \n",
    "        \n",
    "        \n",
    "    def __getitem__(self, i):\n",
    "        fragment, x1, y1, W, H = self.xys[i]\n",
    "        z1, z2 = Z_START, Z_START+Z_DIMS\n",
    "        \n",
    "        x_offset = random.randint(-128 if x1 != 0 else 0, 128)\n",
    "        y_offset = random.randint(-128 if y1 != 0 else 0, 128)\n",
    "        \n",
    "        x1 += x_offset\n",
    "        y1 += y_offset\n",
    "        \n",
    "        x2 = x1 + CROP_SIZE\n",
    "        y2 = y1 + CROP_SIZE\n",
    "        \n",
    "        if x2 > W:\n",
    "            x1 -= x_offset\n",
    "            x2 -= x_offset\n",
    "            \n",
    "        if y2 > H:\n",
    "            y1 -= y_offset\n",
    "            y2 -= y_offset\n",
    "        \n",
    "        frag_crop = FRAGMENTS_ZARR[fragment].surface_volume[y1:y2, x1:x2, z1:z2]\n",
    "        mask_crop = FRAGMENTS_ZARR[fragment].truth[y1:y2, x1:x2]\n",
    "        \n",
    "        # if random.random() > 0.5:\n",
    "        #     frag_crop = np.flip(frag_crop, axis=1).copy()\n",
    "        #     mask_crop = np.flip(mask_crop, axis=1).copy()\n",
    "\n",
    "        # Perform train augmentations\n",
    "\n",
    "        frag_crop = frag_crop/65535.0\n",
    "        \n",
    "        \n",
    "        # Apply the augmentations\n",
    "        augmented = self.augmentations(image=frag_crop, mask=mask_crop)\n",
    "\n",
    "        # Separate the image and mask\n",
    "        frag_crop, mask_crop = augmented[\"image\"], augmented[\"mask\"]\n",
    "\n",
    "        # normalize\n",
    "        \n",
    "        # frag_crop = (frag_crop - 0.45)/0.225\n",
    "        \n",
    "        frag_crop = frag_crop.unsqueeze(0) \n",
    "        mask_crop = mask_crop.float().unsqueeze(0)\n",
    "        \n",
    "        \n",
    "        return frag_crop, mask_crop\n",
    "\n",
    "    def __len__(self):\n",
    "        return len(self.xys)"
   ]
  },
  {
   "cell_type": "code",
   "execution_count": 10,
   "id": "f172c2ad",
   "metadata": {
    "execution": {
     "iopub.execute_input": "2023-05-22T09:13:34.335646Z",
     "iopub.status.busy": "2023-05-22T09:13:34.335475Z",
     "iopub.status.idle": "2023-05-22T09:13:34.338957Z",
     "shell.execute_reply": "2023-05-22T09:13:34.338744Z"
    },
    "papermill": {
     "duration": 0.022963,
     "end_time": "2023-04-08T10:12:11.644387",
     "exception": false,
     "start_time": "2023-04-08T10:12:11.621424",
     "status": "completed"
    },
    "tags": []
   },
   "outputs": [],
   "source": [
    "class VesuviusVal(Dataset):\n",
    "    def __init__(self, fragment):\n",
    "        self.fragment = FRAGMENTS_ZARR[fragment]\n",
    "        self.xys = []\n",
    "        \n",
    "        H, W = FRAGMENTS_SHAPE[fragment]\n",
    "        for y in range(0, H-CROP_SIZE+1, CROP_SIZE):\n",
    "            for x in range(0, W-CROP_SIZE+1, CROP_SIZE):\n",
    "                self.xys.append((x, y))\n",
    "                \n",
    "    def __getitem__(self, i):\n",
    "        x1, y1 = self.xys[i]\n",
    "        x2, y2 = x1+CROP_SIZE, y1+CROP_SIZE\n",
    "        z1, z2 = Z_START, Z_START+Z_DIMS\n",
    "        \n",
    "        frag_crop = self.fragment.surface_volume[y1:y2, x1:x2, z1:z2]\n",
    "        mask_crop = self.fragment.truth[y1:y2, x1:x2]\n",
    "\n",
    "        frag_crop = torch.from_numpy(frag_crop.astype(np.float32)).unsqueeze(0).permute(0, 3, 1, 2)\n",
    "        frag_crop = frag_crop/65535.0\n",
    "        # frag_crop = (frag_crop - 0.45)/0.225\n",
    "        \n",
    "        mask_crop = torch.from_numpy(mask_crop.astype(np.float32)).unsqueeze(0)\n",
    "        return frag_crop, mask_crop, torch.tensor([x1, y1, x2, y2], dtype=torch.int32)\n",
    "\n",
    "    def __len__(self):\n",
    "        return len(self.xys)"
   ]
  },
  {
   "cell_type": "code",
   "execution_count": 11,
   "id": "4282f924",
   "metadata": {
    "execution": {
     "iopub.execute_input": "2023-05-22T09:13:34.340002Z",
     "iopub.status.busy": "2023-05-22T09:13:34.339917Z",
     "iopub.status.idle": "2023-05-22T09:13:36.633703Z",
     "shell.execute_reply": "2023-05-22T09:13:36.633448Z"
    },
    "papermill": {
     "duration": 0.019671,
     "end_time": "2023-04-08T10:12:11.672490",
     "exception": false,
     "start_time": "2023-04-08T10:12:11.652819",
     "status": "completed"
    },
    "tags": []
   },
   "outputs": [],
   "source": [
    "dataset_train = VesuviusTrain(TRAIN_FRAGMENTS)\n",
    "dataloader_train = DataLoader(dataset_train, batch_size=BATCH_SIZE, num_workers=2,\n",
    "                              shuffle=True, pin_memory=True, drop_last=True)\n",
    "n_train = len(dataloader_train)\n",
    "\n",
    "dataset_valid = VesuviusVal(TEST_FRAGMENT)\n",
    "dataloader_valid = DataLoader(dataset_valid, batch_size=BATCH_SIZE, num_workers=2,\n",
    "                              shuffle=False, pin_memory=True, drop_last=False)\n",
    "n_valid = len(dataloader_valid)"
   ]
  },
  {
   "cell_type": "code",
   "execution_count": 12,
   "id": "0577f1a6",
   "metadata": {
    "execution": {
     "iopub.execute_input": "2023-05-22T09:13:36.635239Z",
     "iopub.status.busy": "2023-05-22T09:13:36.635020Z",
     "iopub.status.idle": "2023-05-22T09:13:36.655593Z",
     "shell.execute_reply": "2023-05-22T09:13:36.655382Z"
    }
   },
   "outputs": [
    {
     "data": {
      "text/plain": [
       "(tensor(0.0005, dtype=torch.float64), tensor(1., dtype=torch.float64))"
      ]
     },
     "execution_count": 12,
     "metadata": {},
     "output_type": "execute_result"
    }
   ],
   "source": [
    "i = random.randint(0, len(dataset_train))\n",
    "i=30\n",
    "img = dataset_train[i][0]\n",
    "img.min(), img.max()"
   ]
  },
  {
   "cell_type": "code",
   "execution_count": 13,
   "id": "40a15748",
   "metadata": {
    "execution": {
     "iopub.execute_input": "2023-05-22T09:13:36.656538Z",
     "iopub.status.busy": "2023-05-22T09:13:36.656432Z",
     "iopub.status.idle": "2023-05-22T09:13:36.731629Z",
     "shell.execute_reply": "2023-05-22T09:13:36.731414Z"
    }
   },
   "outputs": [
    {
     "data": {
      "text/plain": [
       "<matplotlib.image.AxesImage at 0x7f257b8238b0>"
      ]
     },
     "execution_count": 13,
     "metadata": {},
     "output_type": "execute_result"
    },
    {
     "data": {
      "image/png": "[encoded data removed]",
      "text/plain": [
       "<Figure size 640x480 with 1 Axes>"
      ]
     },
     "metadata": {},
     "output_type": "display_data"
    }
   ],
   "source": [
    "img_2 = img.squeeze(0).permute(1, 2, 0).numpy()\n",
    "plt.imshow(img_2[:, :, 0], cmap=\"gray\")"
   ]
  },
  {
   "cell_type": "code",
   "execution_count": null,
   "id": "e07b120a",
   "metadata": {},
   "outputs": [],
   "source": []
  },
  {
   "cell_type": "code",
   "execution_count": null,
   "id": "a792af0c",
   "metadata": {},
   "outputs": [],
   "source": []
  },
  {
   "attachments": {},
   "cell_type": "markdown",
   "id": "cdcc7e0b",
   "metadata": {
    "papermill": {
     "duration": 0.008028,
     "end_time": "2023-04-08T10:12:11.688860",
     "exception": false,
     "start_time": "2023-04-08T10:12:11.680832",
     "status": "completed"
    },
    "tags": []
   },
   "source": [
    "### Model\n",
    "* Encoder is a 3D ResNet model. The architecture has been modified to remove temporal downsampling between blocks.\n",
    "* A 2D decoder is used for predicting the segmentation map.\n",
    "* The encoder feature maps are average pooled over the Z dimension before passing it to the decoder."
   ]
  },
  {
   "cell_type": "code",
   "execution_count": 14,
   "id": "ff7cc8a3",
   "metadata": {
    "execution": {
     "iopub.execute_input": "2023-05-22T09:13:36.732888Z",
     "iopub.status.busy": "2023-05-22T09:13:36.732787Z",
     "iopub.status.idle": "2023-05-22T09:13:36.736539Z",
     "shell.execute_reply": "2023-05-22T09:13:36.736355Z"
    },
    "papermill": {
     "duration": 0.023714,
     "end_time": "2023-04-08T10:12:11.721140",
     "exception": false,
     "start_time": "2023-04-08T10:12:11.697426",
     "status": "completed"
    },
    "tags": []
   },
   "outputs": [],
   "source": [
    "class Decoder(nn.Module):\n",
    "    def __init__(self, encoder_dims, upscale):\n",
    "        super().__init__()\n",
    "        self.convs = nn.ModuleList([\n",
    "            nn.Sequential(\n",
    "                nn.Conv2d(encoder_dims[i]+encoder_dims[i-1], encoder_dims[i-1], 3, 1, 1, bias=False),\n",
    "                nn.BatchNorm2d(encoder_dims[i-1]),\n",
    "                nn.ReLU(inplace=True)\n",
    "            ) for i in range(1, len(encoder_dims))])\n",
    "\n",
    "        self.logit = nn.Conv2d(encoder_dims[0], 1, 1, 1, 0)\n",
    "        self.up = nn.Upsample(scale_factor=upscale, mode=\"bilinear\")\n",
    "\n",
    "    def forward(self, feature_maps):\n",
    "        for i in range(len(feature_maps)-1, 0, -1):\n",
    "            f_up = F.interpolate(feature_maps[i], scale_factor=2, mode=\"bilinear\")\n",
    "            f = torch.cat([feature_maps[i-1], f_up], dim=1)\n",
    "            f_down = self.convs[i-1](f)\n",
    "            feature_maps[i-1] = f_down\n",
    "\n",
    "        x = self.logit(feature_maps[0])\n",
    "        mask = self.up(x)\n",
    "        return mask\n",
    "\n",
    "\n",
    "class SegModel(nn.Module):\n",
    "    def __init__(self):\n",
    "        super().__init__()\n",
    "        self.encoder = generate_model(model_depth=18, n_input_channels=1)\n",
    "        self.decoder = Decoder(encoder_dims=[64, 128, 256, 512], upscale=4)\n",
    "        \n",
    "    def forward(self, x):\n",
    "        feat_maps = self.encoder(x)\n",
    "        feat_maps_pooled = [torch.mean(f, dim=2) for f in feat_maps]\n",
    "        pred_mask = self.decoder(feat_maps_pooled)\n",
    "        return pred_mask\n",
    "    \n",
    "    def load_pretrained_weights(self, state_dict):\n",
    "        # Convert 3 channel weights to single channel\n",
    "        # ref - https://timm.fast.ai/models#Case-1:-When-the-number-of-input-channels-is-1\n",
    "        conv1_weight = state_dict['conv1.weight']\n",
    "        state_dict['conv1.weight'] = conv1_weight.sum(dim=1, keepdim=True)\n",
    "        print(self.encoder.load_state_dict(state_dict, strict=False))"
   ]
  },
  {
   "cell_type": "code",
   "execution_count": 15,
   "id": "67e4a0f1",
   "metadata": {
    "execution": {
     "iopub.execute_input": "2023-05-22T09:13:36.737771Z",
     "iopub.status.busy": "2023-05-22T09:13:36.737619Z",
     "iopub.status.idle": "2023-05-22T09:13:37.618061Z",
     "shell.execute_reply": "2023-05-22T09:13:37.617709Z"
    },
    "papermill": {
     "duration": 3.891528,
     "end_time": "2023-04-08T10:12:15.621016",
     "exception": false,
     "start_time": "2023-04-08T10:12:11.729488",
     "status": "completed"
    },
    "tags": []
   },
   "outputs": [
    {
     "name": "stdout",
     "output_type": "stream",
     "text": [
      "_IncompatibleKeys(missing_keys=[], unexpected_keys=['fc.weight', 'fc.bias'])\n"
     ]
    }
   ],
   "source": [
    "model = SegModel()\n",
    "model.load_pretrained_weights(torch.load(\"/home/viktor/Documents/kaggle/vesuvius-challenge/experiments/3D-resnet/r3d18_K_200ep.pth\")[\"state_dict\"])\n",
    "model = nn.DataParallel(model, device_ids=[0])\n",
    "\n",
    "model = model.cuda()"
   ]
  },
  {
   "cell_type": "code",
   "execution_count": 16,
   "id": "491e9288",
   "metadata": {
    "execution": {
     "iopub.execute_input": "2023-05-22T09:13:37.619566Z",
     "iopub.status.busy": "2023-05-22T09:13:37.619485Z",
     "iopub.status.idle": "2023-05-22T09:13:38.475332Z",
     "shell.execute_reply": "2023-05-22T09:13:38.475020Z"
    }
   },
   "outputs": [
    {
     "data": {
      "text/plain": [
       "torch.Size([5, 1, 256, 256])"
      ]
     },
     "execution_count": 16,
     "metadata": {},
     "output_type": "execute_result"
    }
   ],
   "source": [
    "x = torch.randn(5, 1, 16, 256, 256).cuda()\n",
    "with torch.no_grad():\n",
    "    y = model(x)\n",
    "y.shape"
   ]
  },
  {
   "attachments": {},
   "cell_type": "markdown",
   "id": "d84d7c0e",
   "metadata": {
    "papermill": {
     "duration": 0.008816,
     "end_time": "2023-04-08T10:12:15.638951",
     "exception": false,
     "start_time": "2023-04-08T10:12:15.630135",
     "status": "completed"
    },
    "tags": []
   },
   "source": [
    "### Competition metric (F0.5 Score)"
   ]
  },
  {
   "cell_type": "code",
   "execution_count": 17,
   "id": "61dbeb5c",
   "metadata": {
    "execution": {
     "iopub.execute_input": "2023-05-22T09:13:38.476600Z",
     "iopub.status.busy": "2023-05-22T09:13:38.476504Z",
     "iopub.status.idle": "2023-05-22T09:13:38.478970Z",
     "shell.execute_reply": "2023-05-22T09:13:38.478747Z"
    },
    "papermill": {
     "duration": 0.020268,
     "end_time": "2023-04-08T10:12:15.668008",
     "exception": false,
     "start_time": "2023-04-08T10:12:15.647740",
     "status": "completed"
    },
    "tags": []
   },
   "outputs": [],
   "source": [
    "# ref - https://www.kaggle.com/competitions/vesuvius-challenge-ink-detection/discussion/397288\n",
    "def fbeta_score(preds, targets, threshold, beta=0.5, smooth=1e-5):\n",
    "    preds_t = torch.where(preds > threshold, 1.0, 0.0).float()\n",
    "    y_true_count = targets.sum()\n",
    "    \n",
    "    ctp = preds_t[targets==1].sum()\n",
    "    cfp = preds_t[targets==0].sum()\n",
    "    beta_squared = beta * beta\n",
    "\n",
    "    c_precision = ctp / (ctp + cfp + smooth)\n",
    "    c_recall = ctp / (y_true_count + smooth)\n",
    "    dice = (1 + beta_squared) * (c_precision * c_recall) / (beta_squared * c_precision + c_recall + smooth)\n",
    "\n",
    "    return dice"
   ]
  },
  {
   "attachments": {},
   "cell_type": "markdown",
   "id": "639c9148",
   "metadata": {
    "papermill": {
     "duration": 0.008498,
     "end_time": "2023-04-08T10:12:15.685205",
     "exception": false,
     "start_time": "2023-04-08T10:12:15.676707",
     "status": "completed"
    },
    "tags": []
   },
   "source": [
    "### Training"
   ]
  },
  {
   "cell_type": "code",
   "execution_count": 18,
   "id": "0cca2e6e",
   "metadata": {
    "execution": {
     "iopub.execute_input": "2023-05-22T09:13:38.480098Z",
     "iopub.status.busy": "2023-05-22T09:13:38.479965Z",
     "iopub.status.idle": "2023-05-22T09:13:38.481994Z",
     "shell.execute_reply": "2023-05-22T09:13:38.481788Z"
    },
    "papermill": {
     "duration": 0.019067,
     "end_time": "2023-04-08T10:12:15.713237",
     "exception": false,
     "start_time": "2023-04-08T10:12:15.694170",
     "status": "completed"
    },
    "tags": []
   },
   "outputs": [],
   "source": [
    "scaler = amp.GradScaler()\n",
    "criterion = nn.BCEWithLogitsLoss()\n",
    "optimizer = torch.optim.AdamW(model.parameters(), lr=LR)\n",
    "scheduler = torch.optim.lr_scheduler.OneCycleLR(optimizer, max_lr=LR,\n",
    "                                                steps_per_epoch=10, epochs=EPOCHS//10,\n",
    "                                                pct_start=0.1)"
   ]
  },
  {
   "cell_type": "code",
   "execution_count": 19,
   "id": "7304e1fd",
   "metadata": {
    "execution": {
     "iopub.execute_input": "2023-05-22T09:13:38.482995Z",
     "iopub.status.busy": "2023-05-22T09:13:38.482926Z",
     "iopub.status.idle": "2023-05-22T09:13:38.577294Z",
     "shell.execute_reply": "2023-05-22T09:13:38.576928Z"
    },
    "papermill": {
     "duration": 0.385175,
     "end_time": "2023-04-08T10:12:16.107159",
     "exception": false,
     "start_time": "2023-04-08T10:12:15.721984",
     "status": "completed"
    },
    "tags": []
   },
   "outputs": [],
   "source": [
    "gt_mask = torch.from_numpy(np.asarray(FRAGMENTS_ZARR[TEST_FRAGMENT].truth)).float().cuda()\n",
    "gt_shape = FRAGMENTS_SHAPE[TEST_FRAGMENT]"
   ]
  },
  {
   "cell_type": "code",
   "execution_count": 20,
   "id": "c0b85bf1",
   "metadata": {
    "execution": {
     "iopub.execute_input": "2023-05-22T09:13:38.578686Z",
     "iopub.status.busy": "2023-05-22T09:13:38.578605Z",
     "iopub.status.idle": "2023-05-22T09:13:38.580385Z",
     "shell.execute_reply": "2023-05-22T09:13:38.580166Z"
    }
   },
   "outputs": [],
   "source": [
    "import logging\n",
    "\n",
    "logging.basicConfig(filename=\"training_log.txt\", level=logging.INFO)\n"
   ]
  },
  {
   "cell_type": "code",
   "execution_count": 21,
   "id": "00067c9c",
   "metadata": {
    "execution": {
     "iopub.execute_input": "2023-05-22T09:13:38.581476Z",
     "iopub.status.busy": "2023-05-22T09:13:38.581390Z",
     "iopub.status.idle": "2023-05-22T09:42:05.110691Z",
     "shell.execute_reply": "2023-05-22T09:42:05.110227Z"
    },
    "papermill": {
     "duration": 4077.588277,
     "end_time": "2023-04-08T11:20:13.706513",
     "exception": false,
     "start_time": "2023-04-08T10:12:16.118236",
     "status": "completed"
    },
    "tags": []
   },
   "outputs": [
    {
     "name": "stderr",
     "output_type": "stream",
     "text": [
      "Epoch 1/50  Mem : 13.6GB  LR : 4.00E-06  Loss: 0.6791: 100%|██████████| 28/28 [00:16<00:00,  1.69it/s]                                                                                                                                                                           \n",
      "Val Loss: 0.5945: 100%|██████████| 66/66 [00:16<00:00,  3.91it/s]                                                                                                                                                                                                                \n"
     ]
    },
    {
     "name": "stdout",
     "output_type": "stream",
     "text": [
      "Threshold : 0.20\tFBeta : 0.148011\n",
      "Threshold : 0.25\tFBeta : 0.148048\n",
      "Threshold : 0.30\tFBeta : 0.148364\n",
      "Threshold : 0.35\tFBeta : 0.152803\n",
      "Threshold : 0.40\tFBeta : 0.179325\n",
      "Threshold : 0.45\tFBeta : 0.210130\n",
      "Threshold : 0.50\tFBeta : 0.152582\n",
      "Threshold : 0.55\tFBeta : 0.022675\n",
      "Threshold : 0.60\tFBeta : 0.001306\n",
      "Threshold : 0.65\tFBeta : 0.000000\n",
      "Threshold : 0.70\tFBeta : 0.000000\n",
      "Threshold : 0.75\tFBeta : 0.000000\n",
      "Threshold : 0.80\tFBeta : 0.000000\n",
      "\n"
     ]
    },
    {
     "name": "stderr",
     "output_type": "stream",
     "text": [
      "Epoch 2/50  Mem : 18GB  LR : 1.81E-05  Loss: 0.6130: 100%|██████████| 28/28 [00:17<00:00,  1.63it/s]                                                                                                                                                                             \n",
      "Val Loss: 0.5327: 100%|██████████| 66/66 [00:16<00:00,  3.90it/s]                                                                                                                                                                                                                \n"
     ]
    },
    {
     "name": "stdout",
     "output_type": "stream",
     "text": [
      "Threshold : 0.20\tFBeta : 0.149294\n",
      "Threshold : 0.25\tFBeta : 0.154188\n",
      "Threshold : 0.30\tFBeta : 0.166721\n",
      "Threshold : 0.35\tFBeta : 0.174745\n",
      "Threshold : 0.40\tFBeta : 0.160498\n",
      "Threshold : 0.45\tFBeta : 0.075046\n",
      "Threshold : 0.50\tFBeta : 0.013991\n",
      "Threshold : 0.55\tFBeta : 0.002215\n",
      "Threshold : 0.60\tFBeta : 0.000091\n",
      "Threshold : 0.65\tFBeta : 0.000000\n",
      "Threshold : 0.70\tFBeta : 0.000000\n",
      "Threshold : 0.75\tFBeta : 0.000000\n",
      "Threshold : 0.80\tFBeta : 0.000000\n",
      "\n"
     ]
    },
    {
     "name": "stderr",
     "output_type": "stream",
     "text": [
      "Epoch 3/50  Mem : 18GB  LR : 5.20E-05  Loss: 0.5329: 100%|██████████| 28/28 [00:17<00:00,  1.64it/s]                                                                                                                                                                             \n",
      "Val Loss: 0.4692: 100%|██████████| 66/66 [00:17<00:00,  3.87it/s]                                                                                                                                                                                                                \n"
     ]
    },
    {
     "name": "stdout",
     "output_type": "stream",
     "text": [
      "Threshold : 0.20\tFBeta : 0.156260\n",
      "Threshold : 0.25\tFBeta : 0.168113\n",
      "Threshold : 0.30\tFBeta : 0.201197\n",
      "Threshold : 0.35\tFBeta : 0.223203\n",
      "Threshold : 0.40\tFBeta : 0.167174\n",
      "Threshold : 0.45\tFBeta : 0.092942\n",
      "Threshold : 0.50\tFBeta : 0.042550\n",
      "Threshold : 0.55\tFBeta : 0.013848\n",
      "Threshold : 0.60\tFBeta : 0.001528\n",
      "Threshold : 0.65\tFBeta : 0.000000\n",
      "Threshold : 0.70\tFBeta : 0.000000\n",
      "Threshold : 0.75\tFBeta : 0.000000\n",
      "Threshold : 0.80\tFBeta : 0.000000\n",
      "\n"
     ]
    },
    {
     "name": "stderr",
     "output_type": "stream",
     "text": [
      "Epoch 4/50  Mem : 18GB  LR : 8.59E-05  Loss: 0.4993: 100%|██████████| 28/28 [00:16<00:00,  1.68it/s]                                                                                                                                                                             \n",
      "Val Loss: 0.4233: 100%|██████████| 66/66 [00:16<00:00,  3.90it/s]                                                                                                                                                                                                                \n"
     ]
    },
    {
     "name": "stdout",
     "output_type": "stream",
     "text": [
      "Threshold : 0.20\tFBeta : 0.152391\n",
      "Threshold : 0.25\tFBeta : 0.200386\n",
      "Threshold : 0.30\tFBeta : 0.245133\n",
      "Threshold : 0.35\tFBeta : 0.235066\n",
      "Threshold : 0.40\tFBeta : 0.093318\n",
      "Threshold : 0.45\tFBeta : 0.015779\n",
      "Threshold : 0.50\tFBeta : 0.002555\n",
      "Threshold : 0.55\tFBeta : 0.000020\n",
      "Threshold : 0.60\tFBeta : 0.000000\n",
      "Threshold : 0.65\tFBeta : 0.000000\n",
      "Threshold : 0.70\tFBeta : 0.000000\n",
      "Threshold : 0.75\tFBeta : 0.000000\n",
      "Threshold : 0.80\tFBeta : 0.000000\n",
      "\n"
     ]
    },
    {
     "name": "stderr",
     "output_type": "stream",
     "text": [
      "Epoch 5/50  Mem : 18GB  LR : 1.00E-04  Loss: 0.4643: 100%|██████████| 28/28 [00:16<00:00,  1.66it/s]                                                                                                                                                                             \n",
      "Val Loss: 0.4052: 100%|██████████| 66/66 [00:16<00:00,  3.92it/s]                                                                                                                                                                                                                \n"
     ]
    },
    {
     "name": "stdout",
     "output_type": "stream",
     "text": [
      "Threshold : 0.20\tFBeta : 0.165920\n",
      "Threshold : 0.25\tFBeta : 0.243841\n",
      "Threshold : 0.30\tFBeta : 0.286666\n",
      "Threshold : 0.35\tFBeta : 0.318894\n",
      "Threshold : 0.40\tFBeta : 0.311846\n",
      "Threshold : 0.45\tFBeta : 0.248652\n",
      "Threshold : 0.50\tFBeta : 0.155394\n",
      "Threshold : 0.55\tFBeta : 0.035381\n",
      "Threshold : 0.60\tFBeta : 0.001157\n",
      "Threshold : 0.65\tFBeta : 0.000000\n",
      "Threshold : 0.70\tFBeta : 0.000000\n",
      "Threshold : 0.75\tFBeta : 0.000000\n",
      "Threshold : 0.80\tFBeta : 0.000000\n",
      "\n"
     ]
    },
    {
     "name": "stderr",
     "output_type": "stream",
     "text": [
      "Epoch 6/50  Mem : 18GB  LR : 9.99E-05  Loss: 0.4392: 100%|██████████| 28/28 [00:16<00:00,  1.66it/s]                                                                                                                                                                             \n",
      "Val Loss: 0.3719: 100%|██████████| 66/66 [00:16<00:00,  3.89it/s]                                                                                                                                                                                                                \n"
     ]
    },
    {
     "name": "stdout",
     "output_type": "stream",
     "text": [
      "Threshold : 0.20\tFBeta : 0.236743\n",
      "Threshold : 0.25\tFBeta : 0.291983\n",
      "Threshold : 0.30\tFBeta : 0.336328\n",
      "Threshold : 0.35\tFBeta : 0.312998\n",
      "Threshold : 0.40\tFBeta : 0.261881\n",
      "Threshold : 0.45\tFBeta : 0.202517\n",
      "Threshold : 0.50\tFBeta : 0.131936\n",
      "Threshold : 0.55\tFBeta : 0.063806\n",
      "Threshold : 0.60\tFBeta : 0.021768\n",
      "Threshold : 0.65\tFBeta : 0.006433\n",
      "Threshold : 0.70\tFBeta : 0.000690\n",
      "Threshold : 0.75\tFBeta : 0.000009\n",
      "Threshold : 0.80\tFBeta : 0.000000\n",
      "\n"
     ]
    },
    {
     "name": "stderr",
     "output_type": "stream",
     "text": [
      "Epoch 7/50  Mem : 18GB  LR : 9.95E-05  Loss: 0.4162: 100%|██████████| 28/28 [00:16<00:00,  1.67it/s]                                                                                                                                                                             \n",
      "Val Loss: 0.4120: 100%|██████████| 66/66 [00:16<00:00,  3.92it/s]                                                                                                                                                                                                                \n"
     ]
    },
    {
     "name": "stdout",
     "output_type": "stream",
     "text": [
      "Threshold : 0.20\tFBeta : 0.225343\n",
      "Threshold : 0.25\tFBeta : 0.253817\n",
      "Threshold : 0.30\tFBeta : 0.280545\n",
      "Threshold : 0.35\tFBeta : 0.296109\n",
      "Threshold : 0.40\tFBeta : 0.304699\n",
      "Threshold : 0.45\tFBeta : 0.309520\n",
      "Threshold : 0.50\tFBeta : 0.310176\n",
      "Threshold : 0.55\tFBeta : 0.306826\n",
      "Threshold : 0.60\tFBeta : 0.293926\n",
      "Threshold : 0.65\tFBeta : 0.267590\n",
      "Threshold : 0.70\tFBeta : 0.228073\n",
      "Threshold : 0.75\tFBeta : 0.176013\n",
      "Threshold : 0.80\tFBeta : 0.116157\n",
      "\n"
     ]
    },
    {
     "name": "stderr",
     "output_type": "stream",
     "text": [
      "Epoch 8/50  Mem : 18GB  LR : 9.89E-05  Loss: 0.4041: 100%|██████████| 28/28 [00:17<00:00,  1.65it/s]                                                                                                                                                                             \n",
      "Val Loss: 0.5089: 100%|██████████| 66/66 [00:16<00:00,  3.92it/s]                                                                                                                                                                                                                \n"
     ]
    },
    {
     "name": "stdout",
     "output_type": "stream",
     "text": [
      "Threshold : 0.20\tFBeta : 0.185077\n",
      "Threshold : 0.25\tFBeta : 0.204833\n",
      "Threshold : 0.30\tFBeta : 0.185135\n",
      "Threshold : 0.35\tFBeta : 0.156919\n",
      "Threshold : 0.40\tFBeta : 0.125285\n",
      "Threshold : 0.45\tFBeta : 0.095487\n",
      "Threshold : 0.50\tFBeta : 0.067391\n",
      "Threshold : 0.55\tFBeta : 0.041667\n",
      "Threshold : 0.60\tFBeta : 0.021447\n",
      "Threshold : 0.65\tFBeta : 0.010531\n",
      "Threshold : 0.70\tFBeta : 0.005420\n",
      "Threshold : 0.75\tFBeta : 0.002509\n",
      "Threshold : 0.80\tFBeta : 0.000484\n",
      "\n"
     ]
    },
    {
     "name": "stderr",
     "output_type": "stream",
     "text": [
      "Epoch 9/50  Mem : 18GB  LR : 9.81E-05  Loss: 0.3921: 100%|██████████| 28/28 [00:16<00:00,  1.65it/s]                                                                                                                                                                             \n",
      "Val Loss: 0.3658: 100%|██████████| 66/66 [00:16<00:00,  3.95it/s]                                                                                                                                                                                                                \n"
     ]
    },
    {
     "name": "stdout",
     "output_type": "stream",
     "text": [
      "Threshold : 0.20\tFBeta : 0.262803\n",
      "Threshold : 0.25\tFBeta : 0.213578\n",
      "Threshold : 0.30\tFBeta : 0.098465\n",
      "Threshold : 0.35\tFBeta : 0.057199\n",
      "Threshold : 0.40\tFBeta : 0.037717\n",
      "Threshold : 0.45\tFBeta : 0.026809\n",
      "Threshold : 0.50\tFBeta : 0.019667\n",
      "Threshold : 0.55\tFBeta : 0.014827\n",
      "Threshold : 0.60\tFBeta : 0.011635\n",
      "Threshold : 0.65\tFBeta : 0.009396\n",
      "Threshold : 0.70\tFBeta : 0.006703\n",
      "Threshold : 0.75\tFBeta : 0.004269\n",
      "Threshold : 0.80\tFBeta : 0.002414\n",
      "\n"
     ]
    },
    {
     "name": "stderr",
     "output_type": "stream",
     "text": [
      "Epoch 10/50  Mem : 18GB  LR : 9.70E-05  Loss: 0.3783: 100%|██████████| 28/28 [00:16<00:00,  1.66it/s]                                                                                                                                                                            \n",
      "Val Loss: 0.3511: 100%|██████████| 66/66 [00:16<00:00,  3.93it/s]                                                                                                                                                                                                                \n"
     ]
    },
    {
     "name": "stdout",
     "output_type": "stream",
     "text": [
      "Threshold : 0.20\tFBeta : 0.323308\n",
      "Threshold : 0.25\tFBeta : 0.388647\n",
      "Threshold : 0.30\tFBeta : 0.395478\n",
      "Threshold : 0.35\tFBeta : 0.371911\n",
      "Threshold : 0.40\tFBeta : 0.323333\n",
      "Threshold : 0.45\tFBeta : 0.265145\n",
      "Threshold : 0.50\tFBeta : 0.198456\n",
      "Threshold : 0.55\tFBeta : 0.136321\n",
      "Threshold : 0.60\tFBeta : 0.085247\n",
      "Threshold : 0.65\tFBeta : 0.052316\n",
      "Threshold : 0.70\tFBeta : 0.033752\n",
      "Threshold : 0.75\tFBeta : 0.020915\n",
      "Threshold : 0.80\tFBeta : 0.012276\n",
      "\n"
     ]
    },
    {
     "name": "stderr",
     "output_type": "stream",
     "text": [
      "Epoch 11/50  Mem : 18GB  LR : 9.57E-05  Loss: 0.3624: 100%|██████████| 28/28 [00:16<00:00,  1.65it/s]                                                                                                                                                                            \n",
      "Val Loss: 0.3646: 100%|██████████| 66/66 [00:16<00:00,  3.90it/s]                                                                                                                                                                                                                \n"
     ]
    },
    {
     "name": "stdout",
     "output_type": "stream",
     "text": [
      "Threshold : 0.20\tFBeta : 0.265057\n",
      "Threshold : 0.25\tFBeta : 0.120224\n",
      "Threshold : 0.30\tFBeta : 0.071711\n",
      "Threshold : 0.35\tFBeta : 0.047101\n",
      "Threshold : 0.40\tFBeta : 0.030626\n",
      "Threshold : 0.45\tFBeta : 0.019948\n",
      "Threshold : 0.50\tFBeta : 0.013940\n",
      "Threshold : 0.55\tFBeta : 0.009414\n",
      "Threshold : 0.60\tFBeta : 0.006795\n",
      "Threshold : 0.65\tFBeta : 0.005127\n",
      "Threshold : 0.70\tFBeta : 0.003626\n",
      "Threshold : 0.75\tFBeta : 0.002182\n",
      "Threshold : 0.80\tFBeta : 0.001062\n",
      "\n"
     ]
    },
    {
     "name": "stderr",
     "output_type": "stream",
     "text": [
      "Epoch 12/50  Mem : 18GB  LR : 9.41E-05  Loss: 0.3522: 100%|██████████| 28/28 [00:16<00:00,  1.68it/s]                                                                                                                                                                            \n",
      "Val Loss: 0.3596: 100%|██████████| 66/66 [00:16<00:00,  3.95it/s]                                                                                                                                                                                                                \n"
     ]
    },
    {
     "name": "stdout",
     "output_type": "stream",
     "text": [
      "Threshold : 0.20\tFBeta : 0.297827\n",
      "Threshold : 0.25\tFBeta : 0.352853\n",
      "Threshold : 0.30\tFBeta : 0.363801\n",
      "Threshold : 0.35\tFBeta : 0.360894\n",
      "Threshold : 0.40\tFBeta : 0.347413\n",
      "Threshold : 0.45\tFBeta : 0.328599\n",
      "Threshold : 0.50\tFBeta : 0.305861\n",
      "Threshold : 0.55\tFBeta : 0.279702\n",
      "Threshold : 0.60\tFBeta : 0.251229\n",
      "Threshold : 0.65\tFBeta : 0.220311\n",
      "Threshold : 0.70\tFBeta : 0.187072\n",
      "Threshold : 0.75\tFBeta : 0.151378\n",
      "Threshold : 0.80\tFBeta : 0.114614\n",
      "\n"
     ]
    },
    {
     "name": "stderr",
     "output_type": "stream",
     "text": [
      "Epoch 13/50  Mem : 18GB  LR : 9.24E-05  Loss: 0.3482: 100%|██████████| 28/28 [00:16<00:00,  1.69it/s]                                                                                                                                                                            \n",
      "Val Loss: 0.3692: 100%|██████████| 66/66 [00:16<00:00,  3.92it/s]                                                                                                                                                                                                                \n"
     ]
    },
    {
     "name": "stdout",
     "output_type": "stream",
     "text": [
      "Threshold : 0.20\tFBeta : 0.288946\n",
      "Threshold : 0.25\tFBeta : 0.279912\n",
      "Threshold : 0.30\tFBeta : 0.250395\n",
      "Threshold : 0.35\tFBeta : 0.210530\n",
      "Threshold : 0.40\tFBeta : 0.168025\n",
      "Threshold : 0.45\tFBeta : 0.115529\n",
      "Threshold : 0.50\tFBeta : 0.056337\n",
      "Threshold : 0.55\tFBeta : 0.037256\n",
      "Threshold : 0.60\tFBeta : 0.025363\n",
      "Threshold : 0.65\tFBeta : 0.016672\n",
      "Threshold : 0.70\tFBeta : 0.010412\n",
      "Threshold : 0.75\tFBeta : 0.006904\n",
      "Threshold : 0.80\tFBeta : 0.004846\n",
      "\n"
     ]
    },
    {
     "name": "stderr",
     "output_type": "stream",
     "text": [
      "Epoch 14/50  Mem : 18GB  LR : 9.05E-05  Loss: 0.3438: 100%|██████████| 28/28 [00:16<00:00,  1.68it/s]                                                                                                                                                                            \n",
      "Val Loss: 0.3368: 100%|██████████| 66/66 [00:16<00:00,  3.94it/s]                                                                                                                                                                                                                \n"
     ]
    },
    {
     "name": "stdout",
     "output_type": "stream",
     "text": [
      "Threshold : 0.20\tFBeta : 0.378150\n",
      "Threshold : 0.25\tFBeta : 0.397787\n",
      "Threshold : 0.30\tFBeta : 0.394808\n",
      "Threshold : 0.35\tFBeta : 0.378125\n",
      "Threshold : 0.40\tFBeta : 0.353571\n",
      "Threshold : 0.45\tFBeta : 0.325587\n",
      "Threshold : 0.50\tFBeta : 0.292951\n",
      "Threshold : 0.55\tFBeta : 0.255960\n",
      "Threshold : 0.60\tFBeta : 0.215023\n",
      "Threshold : 0.65\tFBeta : 0.177407\n",
      "Threshold : 0.70\tFBeta : 0.141575\n",
      "Threshold : 0.75\tFBeta : 0.106723\n",
      "Threshold : 0.80\tFBeta : 0.073212\n",
      "\n"
     ]
    },
    {
     "name": "stderr",
     "output_type": "stream",
     "text": [
      "Epoch 15/50  Mem : 18GB  LR : 8.83E-05  Loss: 0.3439: 100%|██████████| 28/28 [00:17<00:00,  1.64it/s]                                                                                                                                                                            \n",
      "Val Loss: 2.4956: 100%|██████████| 66/66 [00:16<00:00,  3.89it/s]                                                                                                                                                                                                                \n"
     ]
    },
    {
     "name": "stdout",
     "output_type": "stream",
     "text": [
      "Threshold : 0.20\tFBeta : 0.156949\n",
      "Threshold : 0.25\tFBeta : 0.118912\n",
      "Threshold : 0.30\tFBeta : 0.096233\n",
      "Threshold : 0.35\tFBeta : 0.078218\n",
      "Threshold : 0.40\tFBeta : 0.061921\n",
      "Threshold : 0.45\tFBeta : 0.044884\n",
      "Threshold : 0.50\tFBeta : 0.024318\n",
      "Threshold : 0.55\tFBeta : 0.017654\n",
      "Threshold : 0.60\tFBeta : 0.012787\n",
      "Threshold : 0.65\tFBeta : 0.008880\n",
      "Threshold : 0.70\tFBeta : 0.005992\n",
      "Threshold : 0.75\tFBeta : 0.004176\n",
      "Threshold : 0.80\tFBeta : 0.002835\n",
      "\n"
     ]
    },
    {
     "name": "stderr",
     "output_type": "stream",
     "text": [
      "Epoch 16/50  Mem : 18GB  LR : 8.60E-05  Loss: 0.3358: 100%|██████████| 28/28 [00:16<00:00,  1.68it/s]                                                                                                                                                                            \n",
      "Val Loss: 0.3438: 100%|██████████| 66/66 [00:16<00:00,  3.92it/s]                                                                                                                                                                                                                \n"
     ]
    },
    {
     "name": "stdout",
     "output_type": "stream",
     "text": [
      "Threshold : 0.20\tFBeta : 0.333644\n",
      "Threshold : 0.25\tFBeta : 0.349220\n",
      "Threshold : 0.30\tFBeta : 0.352746\n",
      "Threshold : 0.35\tFBeta : 0.352248\n",
      "Threshold : 0.40\tFBeta : 0.344944\n",
      "Threshold : 0.45\tFBeta : 0.331970\n",
      "Threshold : 0.50\tFBeta : 0.312648\n",
      "Threshold : 0.55\tFBeta : 0.276152\n",
      "Threshold : 0.60\tFBeta : 0.232619\n",
      "Threshold : 0.65\tFBeta : 0.189025\n",
      "Threshold : 0.70\tFBeta : 0.148158\n",
      "Threshold : 0.75\tFBeta : 0.111984\n",
      "Threshold : 0.80\tFBeta : 0.079132\n",
      "\n"
     ]
    },
    {
     "name": "stderr",
     "output_type": "stream",
     "text": [
      "Epoch 17/50  Mem : 18GB  LR : 8.35E-05  Loss: 0.3356: 100%|██████████| 28/28 [00:16<00:00,  1.69it/s]                                                                                                                                                                            \n",
      "Val Loss: 0.3851: 100%|██████████| 66/66 [00:16<00:00,  3.92it/s]                                                                                                                                                                                                                \n"
     ]
    },
    {
     "name": "stdout",
     "output_type": "stream",
     "text": [
      "Threshold : 0.20\tFBeta : 0.119187\n",
      "Threshold : 0.25\tFBeta : 0.077434\n",
      "Threshold : 0.30\tFBeta : 0.057748\n",
      "Threshold : 0.35\tFBeta : 0.043793\n",
      "Threshold : 0.40\tFBeta : 0.031086\n",
      "Threshold : 0.45\tFBeta : 0.021995\n",
      "Threshold : 0.50\tFBeta : 0.013941\n",
      "Threshold : 0.55\tFBeta : 0.009578\n",
      "Threshold : 0.60\tFBeta : 0.006944\n",
      "Threshold : 0.65\tFBeta : 0.005880\n",
      "Threshold : 0.70\tFBeta : 0.005232\n",
      "Threshold : 0.75\tFBeta : 0.004682\n",
      "Threshold : 0.80\tFBeta : 0.003322\n",
      "\n"
     ]
    },
    {
     "name": "stderr",
     "output_type": "stream",
     "text": [
      "Epoch 18/50  Mem : 18GB  LR : 8.08E-05  Loss: 0.3149: 100%|██████████| 28/28 [00:16<00:00,  1.67it/s]                                                                                                                                                                            \n",
      "Val Loss: 0.3336: 100%|██████████| 66/66 [00:16<00:00,  3.92it/s]                                                                                                                                                                                                                \n"
     ]
    },
    {
     "name": "stdout",
     "output_type": "stream",
     "text": [
      "Threshold : 0.20\tFBeta : 0.321217\n",
      "Threshold : 0.25\tFBeta : 0.352198\n",
      "Threshold : 0.30\tFBeta : 0.372277\n",
      "Threshold : 0.35\tFBeta : 0.386066\n",
      "Threshold : 0.40\tFBeta : 0.395675\n",
      "Threshold : 0.45\tFBeta : 0.399632\n",
      "Threshold : 0.50\tFBeta : 0.396649\n",
      "Threshold : 0.55\tFBeta : 0.382538\n",
      "Threshold : 0.60\tFBeta : 0.363041\n",
      "Threshold : 0.65\tFBeta : 0.336855\n",
      "Threshold : 0.70\tFBeta : 0.306759\n",
      "Threshold : 0.75\tFBeta : 0.271753\n",
      "Threshold : 0.80\tFBeta : 0.230002\n",
      "\n"
     ]
    },
    {
     "name": "stderr",
     "output_type": "stream",
     "text": [
      "Epoch 19/50  Mem : 18GB  LR : 7.80E-05  Loss: 0.3180: 100%|██████████| 28/28 [00:16<00:00,  1.69it/s]                                                                                                                                                                            \n",
      "Val Loss: 0.3354: 100%|██████████| 66/66 [00:17<00:00,  3.88it/s]                                                                                                                                                                                                                \n"
     ]
    },
    {
     "name": "stdout",
     "output_type": "stream",
     "text": [
      "Threshold : 0.20\tFBeta : 0.382891\n",
      "Threshold : 0.25\tFBeta : 0.360193\n",
      "Threshold : 0.30\tFBeta : 0.325366\n",
      "Threshold : 0.35\tFBeta : 0.288768\n",
      "Threshold : 0.40\tFBeta : 0.246890\n",
      "Threshold : 0.45\tFBeta : 0.198943\n",
      "Threshold : 0.50\tFBeta : 0.140114\n",
      "Threshold : 0.55\tFBeta : 0.112447\n",
      "Threshold : 0.60\tFBeta : 0.088464\n",
      "Threshold : 0.65\tFBeta : 0.068910\n",
      "Threshold : 0.70\tFBeta : 0.053263\n",
      "Threshold : 0.75\tFBeta : 0.040320\n",
      "Threshold : 0.80\tFBeta : 0.030157\n",
      "\n"
     ]
    },
    {
     "name": "stderr",
     "output_type": "stream",
     "text": [
      "Epoch 20/50  Mem : 18GB  LR : 7.50E-05  Loss: 0.3136: 100%|██████████| 28/28 [00:16<00:00,  1.66it/s]                                                                                                                                                                            \n",
      "Val Loss: 0.3418: 100%|██████████| 66/66 [00:16<00:00,  3.89it/s]                                                                                                                                                                                                                \n"
     ]
    },
    {
     "name": "stdout",
     "output_type": "stream",
     "text": [
      "Threshold : 0.20\tFBeta : 0.299834\n",
      "Threshold : 0.25\tFBeta : 0.267614\n",
      "Threshold : 0.30\tFBeta : 0.230944\n",
      "Threshold : 0.35\tFBeta : 0.187111\n",
      "Threshold : 0.40\tFBeta : 0.145587\n",
      "Threshold : 0.45\tFBeta : 0.104159\n",
      "Threshold : 0.50\tFBeta : 0.067022\n",
      "Threshold : 0.55\tFBeta : 0.044789\n",
      "Threshold : 0.60\tFBeta : 0.029324\n",
      "Threshold : 0.65\tFBeta : 0.020423\n",
      "Threshold : 0.70\tFBeta : 0.015115\n",
      "Threshold : 0.75\tFBeta : 0.010595\n",
      "Threshold : 0.80\tFBeta : 0.006618\n",
      "\n"
     ]
    },
    {
     "name": "stderr",
     "output_type": "stream",
     "text": [
      "Epoch 21/50  Mem : 18GB  LR : 7.19E-05  Loss: 0.2982: 100%|██████████| 28/28 [00:16<00:00,  1.69it/s]                                                                                                                                                                            \n",
      "Val Loss: 0.3428: 100%|██████████| 66/66 [00:16<00:00,  3.93it/s]                                                                                                                                                                                                                \n"
     ]
    },
    {
     "name": "stdout",
     "output_type": "stream",
     "text": [
      "Threshold : 0.20\tFBeta : 0.338951\n",
      "Threshold : 0.25\tFBeta : 0.288205\n",
      "Threshold : 0.30\tFBeta : 0.241553\n",
      "Threshold : 0.35\tFBeta : 0.199967\n",
      "Threshold : 0.40\tFBeta : 0.159321\n",
      "Threshold : 0.45\tFBeta : 0.113198\n",
      "Threshold : 0.50\tFBeta : 0.071412\n",
      "Threshold : 0.55\tFBeta : 0.050890\n",
      "Threshold : 0.60\tFBeta : 0.036160\n",
      "Threshold : 0.65\tFBeta : 0.026920\n",
      "Threshold : 0.70\tFBeta : 0.018615\n",
      "Threshold : 0.75\tFBeta : 0.011541\n",
      "Threshold : 0.80\tFBeta : 0.006908\n",
      "\n"
     ]
    },
    {
     "name": "stderr",
     "output_type": "stream",
     "text": [
      "Epoch 22/50  Mem : 18GB  LR : 6.87E-05  Loss: 0.3105: 100%|██████████| 28/28 [00:16<00:00,  1.66it/s]                                                                                                                                                                            \n",
      "Val Loss: 0.3433: 100%|██████████| 66/66 [00:16<00:00,  3.90it/s]                                                                                                                                                                                                                \n"
     ]
    },
    {
     "name": "stdout",
     "output_type": "stream",
     "text": [
      "Threshold : 0.20\tFBeta : 0.338366\n",
      "Threshold : 0.25\tFBeta : 0.292725\n",
      "Threshold : 0.30\tFBeta : 0.251218\n",
      "Threshold : 0.35\tFBeta : 0.217308\n",
      "Threshold : 0.40\tFBeta : 0.188025\n",
      "Threshold : 0.45\tFBeta : 0.158151\n",
      "Threshold : 0.50\tFBeta : 0.129116\n",
      "Threshold : 0.55\tFBeta : 0.104476\n",
      "Threshold : 0.60\tFBeta : 0.082872\n",
      "Threshold : 0.65\tFBeta : 0.061484\n",
      "Threshold : 0.70\tFBeta : 0.044729\n",
      "Threshold : 0.75\tFBeta : 0.030663\n",
      "Threshold : 0.80\tFBeta : 0.019590\n",
      "\n"
     ]
    },
    {
     "name": "stderr",
     "output_type": "stream",
     "text": [
      "Epoch 23/50  Mem : 18GB  LR : 6.55E-05  Loss: 0.3061: 100%|██████████| 28/28 [00:16<00:00,  1.67it/s]                                                                                                                                                                            \n",
      "Val Loss: 0.3357: 100%|██████████| 66/66 [00:16<00:00,  3.92it/s]                                                                                                                                                                                                                \n"
     ]
    },
    {
     "name": "stdout",
     "output_type": "stream",
     "text": [
      "Threshold : 0.20\tFBeta : 0.345626\n",
      "Threshold : 0.25\tFBeta : 0.338957\n",
      "Threshold : 0.30\tFBeta : 0.324413\n",
      "Threshold : 0.35\tFBeta : 0.291714\n",
      "Threshold : 0.40\tFBeta : 0.254249\n",
      "Threshold : 0.45\tFBeta : 0.214083\n",
      "Threshold : 0.50\tFBeta : 0.159805\n",
      "Threshold : 0.55\tFBeta : 0.126668\n",
      "Threshold : 0.60\tFBeta : 0.099847\n",
      "Threshold : 0.65\tFBeta : 0.075009\n",
      "Threshold : 0.70\tFBeta : 0.051455\n",
      "Threshold : 0.75\tFBeta : 0.032506\n",
      "Threshold : 0.80\tFBeta : 0.020488\n",
      "\n"
     ]
    },
    {
     "name": "stderr",
     "output_type": "stream",
     "text": [
      "Epoch 24/50  Mem : 18GB  LR : 6.21E-05  Loss: 0.2945: 100%|██████████| 28/28 [00:16<00:00,  1.66it/s]                                                                                                                                                                            \n",
      "Val Loss: 0.3454: 100%|██████████| 66/66 [00:16<00:00,  3.94it/s]                                                                                                                                                                                                                \n"
     ]
    },
    {
     "name": "stdout",
     "output_type": "stream",
     "text": [
      "Threshold : 0.20\tFBeta : 0.304183\n",
      "Threshold : 0.25\tFBeta : 0.242893\n",
      "Threshold : 0.30\tFBeta : 0.196624\n",
      "Threshold : 0.35\tFBeta : 0.160123\n",
      "Threshold : 0.40\tFBeta : 0.132115\n",
      "Threshold : 0.45\tFBeta : 0.107707\n",
      "Threshold : 0.50\tFBeta : 0.087127\n",
      "Threshold : 0.55\tFBeta : 0.068393\n",
      "Threshold : 0.60\tFBeta : 0.052559\n",
      "Threshold : 0.65\tFBeta : 0.039279\n",
      "Threshold : 0.70\tFBeta : 0.028601\n",
      "Threshold : 0.75\tFBeta : 0.021198\n",
      "Threshold : 0.80\tFBeta : 0.015353\n",
      "\n"
     ]
    },
    {
     "name": "stderr",
     "output_type": "stream",
     "text": [
      "Epoch 25/50  Mem : 18GB  LR : 5.87E-05  Loss: 0.2927: 100%|██████████| 28/28 [00:16<00:00,  1.67it/s]                                                                                                                                                                            \n",
      "Val Loss: 0.3421: 100%|██████████| 66/66 [00:16<00:00,  3.90it/s]                                                                                                                                                                                                                \n"
     ]
    },
    {
     "name": "stdout",
     "output_type": "stream",
     "text": [
      "Threshold : 0.20\tFBeta : 0.288008\n",
      "Threshold : 0.25\tFBeta : 0.255803\n",
      "Threshold : 0.30\tFBeta : 0.227029\n",
      "Threshold : 0.35\tFBeta : 0.199436\n",
      "Threshold : 0.40\tFBeta : 0.165521\n",
      "Threshold : 0.45\tFBeta : 0.134520\n",
      "Threshold : 0.50\tFBeta : 0.105590\n",
      "Threshold : 0.55\tFBeta : 0.081593\n",
      "Threshold : 0.60\tFBeta : 0.063829\n",
      "Threshold : 0.65\tFBeta : 0.049113\n",
      "Threshold : 0.70\tFBeta : 0.035559\n",
      "Threshold : 0.75\tFBeta : 0.025370\n",
      "Threshold : 0.80\tFBeta : 0.016369\n",
      "\n"
     ]
    },
    {
     "name": "stderr",
     "output_type": "stream",
     "text": [
      "Epoch 26/50  Mem : 18GB  LR : 5.52E-05  Loss: 0.2932: 100%|██████████| 28/28 [00:16<00:00,  1.65it/s]                                                                                                                                                                            \n",
      "Val Loss: 0.3261: 100%|██████████| 66/66 [00:16<00:00,  3.91it/s]                                                                                                                                                                                                                \n"
     ]
    },
    {
     "name": "stdout",
     "output_type": "stream",
     "text": [
      "Threshold : 0.20\tFBeta : 0.401534\n",
      "Threshold : 0.25\tFBeta : 0.397969\n",
      "Threshold : 0.30\tFBeta : 0.382823\n",
      "Threshold : 0.35\tFBeta : 0.361898\n",
      "Threshold : 0.40\tFBeta : 0.336928\n",
      "Threshold : 0.45\tFBeta : 0.303544\n",
      "Threshold : 0.50\tFBeta : 0.266585\n",
      "Threshold : 0.55\tFBeta : 0.234626\n",
      "Threshold : 0.60\tFBeta : 0.202881\n",
      "Threshold : 0.65\tFBeta : 0.171801\n",
      "Threshold : 0.70\tFBeta : 0.142711\n",
      "Threshold : 0.75\tFBeta : 0.113801\n",
      "Threshold : 0.80\tFBeta : 0.086100\n",
      "\n"
     ]
    },
    {
     "name": "stderr",
     "output_type": "stream",
     "text": [
      "Epoch 27/50  Mem : 18GB  LR : 5.17E-05  Loss: 0.2824: 100%|██████████| 28/28 [00:16<00:00,  1.68it/s]                                                                                                                                                                            \n",
      "Val Loss: 0.3490: 100%|██████████| 66/66 [00:17<00:00,  3.87it/s]                                                                                                                                                                                                                \n"
     ]
    },
    {
     "name": "stdout",
     "output_type": "stream",
     "text": [
      "Threshold : 0.20\tFBeta : 0.246435\n",
      "Threshold : 0.25\tFBeta : 0.199136\n",
      "Threshold : 0.30\tFBeta : 0.156725\n",
      "Threshold : 0.35\tFBeta : 0.122664\n",
      "Threshold : 0.40\tFBeta : 0.095858\n",
      "Threshold : 0.45\tFBeta : 0.070937\n",
      "Threshold : 0.50\tFBeta : 0.053254\n",
      "Threshold : 0.55\tFBeta : 0.039793\n",
      "Threshold : 0.60\tFBeta : 0.029035\n",
      "Threshold : 0.65\tFBeta : 0.020960\n",
      "Threshold : 0.70\tFBeta : 0.015033\n",
      "Threshold : 0.75\tFBeta : 0.009940\n",
      "Threshold : 0.80\tFBeta : 0.005981\n",
      "\n"
     ]
    },
    {
     "name": "stderr",
     "output_type": "stream",
     "text": [
      "Epoch 28/50  Mem : 18GB  LR : 4.83E-05  Loss: 0.2775: 100%|██████████| 28/28 [00:16<00:00,  1.67it/s]                                                                                                                                                                            \n",
      "Val Loss: 0.3200: 100%|██████████| 66/66 [00:16<00:00,  3.90it/s]                                                                                                                                                                                                                \n"
     ]
    },
    {
     "name": "stdout",
     "output_type": "stream",
     "text": [
      "Threshold : 0.20\tFBeta : 0.357285\n",
      "Threshold : 0.25\tFBeta : 0.382463\n",
      "Threshold : 0.30\tFBeta : 0.401036\n",
      "Threshold : 0.35\tFBeta : 0.411800\n",
      "Threshold : 0.40\tFBeta : 0.415140\n",
      "Threshold : 0.45\tFBeta : 0.408426\n",
      "Threshold : 0.50\tFBeta : 0.383039\n",
      "Threshold : 0.55\tFBeta : 0.363561\n",
      "Threshold : 0.60\tFBeta : 0.338246\n",
      "Threshold : 0.65\tFBeta : 0.310954\n",
      "Threshold : 0.70\tFBeta : 0.280310\n",
      "Threshold : 0.75\tFBeta : 0.247458\n",
      "Threshold : 0.80\tFBeta : 0.210696\n",
      "\n"
     ]
    },
    {
     "name": "stderr",
     "output_type": "stream",
     "text": [
      "Epoch 29/50  Mem : 18GB  LR : 4.48E-05  Loss: 0.2813: 100%|██████████| 28/28 [00:17<00:00,  1.64it/s]                                                                                                                                                                            \n",
      "Val Loss: 0.3285: 100%|██████████| 66/66 [00:16<00:00,  3.89it/s]                                                                                                                                                                                                                \n"
     ]
    },
    {
     "name": "stdout",
     "output_type": "stream",
     "text": [
      "Threshold : 0.20\tFBeta : 0.410635\n",
      "Threshold : 0.25\tFBeta : 0.389642\n",
      "Threshold : 0.30\tFBeta : 0.364178\n",
      "Threshold : 0.35\tFBeta : 0.336745\n",
      "Threshold : 0.40\tFBeta : 0.308284\n",
      "Threshold : 0.45\tFBeta : 0.278149\n",
      "Threshold : 0.50\tFBeta : 0.247824\n",
      "Threshold : 0.55\tFBeta : 0.219469\n",
      "Threshold : 0.60\tFBeta : 0.193826\n",
      "Threshold : 0.65\tFBeta : 0.169428\n",
      "Threshold : 0.70\tFBeta : 0.145091\n",
      "Threshold : 0.75\tFBeta : 0.120510\n",
      "Threshold : 0.80\tFBeta : 0.094342\n",
      "\n"
     ]
    },
    {
     "name": "stderr",
     "output_type": "stream",
     "text": [
      "Epoch 30/50  Mem : 18GB  LR : 4.13E-05  Loss: 0.2736: 100%|██████████| 28/28 [00:16<00:00,  1.67it/s]                                                                                                                                                                            \n",
      "Val Loss: 0.3490: 100%|██████████| 66/66 [00:16<00:00,  3.93it/s]                                                                                                                                                                                                                \n"
     ]
    },
    {
     "name": "stdout",
     "output_type": "stream",
     "text": [
      "Threshold : 0.20\tFBeta : 0.280341\n",
      "Threshold : 0.25\tFBeta : 0.243297\n",
      "Threshold : 0.30\tFBeta : 0.211776\n",
      "Threshold : 0.35\tFBeta : 0.188792\n",
      "Threshold : 0.40\tFBeta : 0.167299\n",
      "Threshold : 0.45\tFBeta : 0.142208\n",
      "Threshold : 0.50\tFBeta : 0.112407\n",
      "Threshold : 0.55\tFBeta : 0.088984\n",
      "Threshold : 0.60\tFBeta : 0.068424\n",
      "Threshold : 0.65\tFBeta : 0.050431\n",
      "Threshold : 0.70\tFBeta : 0.038172\n",
      "Threshold : 0.75\tFBeta : 0.028185\n",
      "Threshold : 0.80\tFBeta : 0.018934\n",
      "\n"
     ]
    },
    {
     "name": "stderr",
     "output_type": "stream",
     "text": [
      "Epoch 31/50  Mem : 18GB  LR : 3.79E-05  Loss: 0.2648: 100%|██████████| 28/28 [00:16<00:00,  1.67it/s]                                                                                                                                                                            \n",
      "Val Loss: 0.3518: 100%|██████████| 66/66 [00:16<00:00,  3.93it/s]                                                                                                                                                                                                                \n"
     ]
    },
    {
     "name": "stdout",
     "output_type": "stream",
     "text": [
      "Threshold : 0.20\tFBeta : 0.271043\n",
      "Threshold : 0.25\tFBeta : 0.237900\n",
      "Threshold : 0.30\tFBeta : 0.211200\n",
      "Threshold : 0.35\tFBeta : 0.185281\n",
      "Threshold : 0.40\tFBeta : 0.157571\n",
      "Threshold : 0.45\tFBeta : 0.132877\n",
      "Threshold : 0.50\tFBeta : 0.107954\n",
      "Threshold : 0.55\tFBeta : 0.087757\n",
      "Threshold : 0.60\tFBeta : 0.070874\n",
      "Threshold : 0.65\tFBeta : 0.056019\n",
      "Threshold : 0.70\tFBeta : 0.043189\n",
      "Threshold : 0.75\tFBeta : 0.032619\n",
      "Threshold : 0.80\tFBeta : 0.021403\n",
      "\n"
     ]
    },
    {
     "name": "stderr",
     "output_type": "stream",
     "text": [
      "Epoch 32/50  Mem : 18GB  LR : 3.45E-05  Loss: 0.2781: 100%|██████████| 28/28 [00:16<00:00,  1.65it/s]                                                                                                                                                                            \n",
      "Val Loss: 0.3362: 100%|██████████| 66/66 [00:16<00:00,  3.93it/s]                                                                                                                                                                                                                \n"
     ]
    },
    {
     "name": "stdout",
     "output_type": "stream",
     "text": [
      "Threshold : 0.20\tFBeta : 0.351939\n",
      "Threshold : 0.25\tFBeta : 0.326410\n",
      "Threshold : 0.30\tFBeta : 0.299349\n",
      "Threshold : 0.35\tFBeta : 0.271773\n",
      "Threshold : 0.40\tFBeta : 0.239669\n",
      "Threshold : 0.45\tFBeta : 0.205648\n",
      "Threshold : 0.50\tFBeta : 0.165793\n",
      "Threshold : 0.55\tFBeta : 0.133003\n",
      "Threshold : 0.60\tFBeta : 0.105809\n",
      "Threshold : 0.65\tFBeta : 0.083848\n",
      "Threshold : 0.70\tFBeta : 0.065364\n",
      "Threshold : 0.75\tFBeta : 0.050640\n",
      "Threshold : 0.80\tFBeta : 0.037115\n",
      "\n"
     ]
    },
    {
     "name": "stderr",
     "output_type": "stream",
     "text": [
      "Epoch 33/50  Mem : 18GB  LR : 3.13E-05  Loss: 0.2717: 100%|██████████| 28/28 [00:16<00:00,  1.68it/s]                                                                                                                                                                            \n",
      "Val Loss: 0.3176: 100%|██████████| 66/66 [00:16<00:00,  3.93it/s]                                                                                                                                                                                                                \n"
     ]
    },
    {
     "name": "stdout",
     "output_type": "stream",
     "text": [
      "Threshold : 0.20\tFBeta : 0.424949\n",
      "Threshold : 0.25\tFBeta : 0.439945\n",
      "Threshold : 0.30\tFBeta : 0.430271\n",
      "Threshold : 0.35\tFBeta : 0.414859\n",
      "Threshold : 0.40\tFBeta : 0.391196\n",
      "Threshold : 0.45\tFBeta : 0.360851\n",
      "Threshold : 0.50\tFBeta : 0.318695\n",
      "Threshold : 0.55\tFBeta : 0.281076\n",
      "Threshold : 0.60\tFBeta : 0.243411\n",
      "Threshold : 0.65\tFBeta : 0.208031\n",
      "Threshold : 0.70\tFBeta : 0.171538\n",
      "Threshold : 0.75\tFBeta : 0.135827\n",
      "Threshold : 0.80\tFBeta : 0.099694\n",
      "\n"
     ]
    },
    {
     "name": "stderr",
     "output_type": "stream",
     "text": [
      "Epoch 34/50  Mem : 18GB  LR : 2.81E-05  Loss: 0.2705: 100%|██████████| 28/28 [00:16<00:00,  1.70it/s]                                                                                                                                                                            \n",
      "Val Loss: 0.3419: 100%|██████████| 66/66 [00:16<00:00,  3.92it/s]                                                                                                                                                                                                                \n"
     ]
    },
    {
     "name": "stdout",
     "output_type": "stream",
     "text": [
      "Threshold : 0.20\tFBeta : 0.334218\n",
      "Threshold : 0.25\tFBeta : 0.276260\n",
      "Threshold : 0.30\tFBeta : 0.228476\n",
      "Threshold : 0.35\tFBeta : 0.190106\n",
      "Threshold : 0.40\tFBeta : 0.158298\n",
      "Threshold : 0.45\tFBeta : 0.127612\n",
      "Threshold : 0.50\tFBeta : 0.103158\n",
      "Threshold : 0.55\tFBeta : 0.084352\n",
      "Threshold : 0.60\tFBeta : 0.066063\n",
      "Threshold : 0.65\tFBeta : 0.052340\n",
      "Threshold : 0.70\tFBeta : 0.040636\n",
      "Threshold : 0.75\tFBeta : 0.030325\n",
      "Threshold : 0.80\tFBeta : 0.021417\n",
      "\n"
     ]
    },
    {
     "name": "stderr",
     "output_type": "stream",
     "text": [
      "Epoch 35/50  Mem : 18GB  LR : 2.50E-05  Loss: 0.2676: 100%|██████████| 28/28 [00:16<00:00,  1.66it/s]                                                                                                                                                                            \n",
      "Val Loss: 0.3331: 100%|██████████| 66/66 [00:17<00:00,  3.85it/s]                                                                                                                                                                                                                \n"
     ]
    },
    {
     "name": "stdout",
     "output_type": "stream",
     "text": [
      "Threshold : 0.20\tFBeta : 0.395028\n",
      "Threshold : 0.25\tFBeta : 0.368374\n",
      "Threshold : 0.30\tFBeta : 0.339944\n",
      "Threshold : 0.35\tFBeta : 0.308363\n",
      "Threshold : 0.40\tFBeta : 0.275822\n",
      "Threshold : 0.45\tFBeta : 0.240125\n",
      "Threshold : 0.50\tFBeta : 0.203165\n",
      "Threshold : 0.55\tFBeta : 0.171675\n",
      "Threshold : 0.60\tFBeta : 0.142434\n",
      "Threshold : 0.65\tFBeta : 0.116796\n",
      "Threshold : 0.70\tFBeta : 0.092962\n",
      "Threshold : 0.75\tFBeta : 0.073407\n",
      "Threshold : 0.80\tFBeta : 0.054777\n",
      "\n"
     ]
    },
    {
     "name": "stderr",
     "output_type": "stream",
     "text": [
      "Epoch 36/50  Mem : 18GB  LR : 2.20E-05  Loss: 0.2621: 100%|██████████| 28/28 [00:16<00:00,  1.67it/s]                                                                                                                                                                            \n",
      "Val Loss: 0.3311: 100%|██████████| 66/66 [00:16<00:00,  3.92it/s]                                                                                                                                                                                                                \n"
     ]
    },
    {
     "name": "stdout",
     "output_type": "stream",
     "text": [
      "Threshold : 0.20\tFBeta : 0.379131\n",
      "Threshold : 0.25\tFBeta : 0.368101\n",
      "Threshold : 0.30\tFBeta : 0.340810\n",
      "Threshold : 0.35\tFBeta : 0.305563\n",
      "Threshold : 0.40\tFBeta : 0.270509\n",
      "Threshold : 0.45\tFBeta : 0.233567\n",
      "Threshold : 0.50\tFBeta : 0.193170\n",
      "Threshold : 0.55\tFBeta : 0.163013\n",
      "Threshold : 0.60\tFBeta : 0.135497\n",
      "Threshold : 0.65\tFBeta : 0.110691\n",
      "Threshold : 0.70\tFBeta : 0.088721\n",
      "Threshold : 0.75\tFBeta : 0.069215\n",
      "Threshold : 0.80\tFBeta : 0.051210\n",
      "\n"
     ]
    },
    {
     "name": "stderr",
     "output_type": "stream",
     "text": [
      "Epoch 37/50  Mem : 18GB  LR : 1.92E-05  Loss: 0.2560: 100%|██████████| 28/28 [00:16<00:00,  1.65it/s]                                                                                                                                                                            \n",
      "Val Loss: 0.3254: 100%|██████████| 66/66 [00:16<00:00,  3.91it/s]                                                                                                                                                                                                                \n"
     ]
    },
    {
     "name": "stdout",
     "output_type": "stream",
     "text": [
      "Threshold : 0.20\tFBeta : 0.383344\n",
      "Threshold : 0.25\tFBeta : 0.379419\n",
      "Threshold : 0.30\tFBeta : 0.378996\n",
      "Threshold : 0.35\tFBeta : 0.369817\n",
      "Threshold : 0.40\tFBeta : 0.349164\n",
      "Threshold : 0.45\tFBeta : 0.305310\n",
      "Threshold : 0.50\tFBeta : 0.252414\n",
      "Threshold : 0.55\tFBeta : 0.220821\n",
      "Threshold : 0.60\tFBeta : 0.191961\n",
      "Threshold : 0.65\tFBeta : 0.163328\n",
      "Threshold : 0.70\tFBeta : 0.135849\n",
      "Threshold : 0.75\tFBeta : 0.110398\n",
      "Threshold : 0.80\tFBeta : 0.085792\n",
      "\n"
     ]
    },
    {
     "name": "stderr",
     "output_type": "stream",
     "text": [
      "Epoch 38/50  Mem : 18GB  LR : 1.65E-05  Loss: 0.2545: 100%|██████████| 28/28 [00:16<00:00,  1.67it/s]                                                                                                                                                                            \n",
      "Val Loss: 0.3312: 100%|██████████| 66/66 [00:16<00:00,  3.92it/s]                                                                                                                                                                                                                \n"
     ]
    },
    {
     "name": "stdout",
     "output_type": "stream",
     "text": [
      "Threshold : 0.20\tFBeta : 0.420397\n",
      "Threshold : 0.25\tFBeta : 0.390038\n",
      "Threshold : 0.30\tFBeta : 0.350738\n",
      "Threshold : 0.35\tFBeta : 0.309484\n",
      "Threshold : 0.40\tFBeta : 0.263417\n",
      "Threshold : 0.45\tFBeta : 0.209342\n",
      "Threshold : 0.50\tFBeta : 0.153479\n",
      "Threshold : 0.55\tFBeta : 0.124407\n",
      "Threshold : 0.60\tFBeta : 0.102408\n",
      "Threshold : 0.65\tFBeta : 0.083227\n",
      "Threshold : 0.70\tFBeta : 0.065499\n",
      "Threshold : 0.75\tFBeta : 0.050325\n",
      "Threshold : 0.80\tFBeta : 0.037292\n",
      "\n"
     ]
    },
    {
     "name": "stderr",
     "output_type": "stream",
     "text": [
      "Epoch 39/50  Mem : 18GB  LR : 1.40E-05  Loss: 0.2541: 100%|██████████| 28/28 [00:16<00:00,  1.65it/s]                                                                                                                                                                            \n",
      "Val Loss: 0.3354: 100%|██████████| 66/66 [00:16<00:00,  3.95it/s]                                                                                                                                                                                                                \n"
     ]
    },
    {
     "name": "stdout",
     "output_type": "stream",
     "text": [
      "Threshold : 0.20\tFBeta : 0.396829\n",
      "Threshold : 0.25\tFBeta : 0.367059\n",
      "Threshold : 0.30\tFBeta : 0.336631\n",
      "Threshold : 0.35\tFBeta : 0.301741\n",
      "Threshold : 0.40\tFBeta : 0.263392\n",
      "Threshold : 0.45\tFBeta : 0.225014\n",
      "Threshold : 0.50\tFBeta : 0.182248\n",
      "Threshold : 0.55\tFBeta : 0.150826\n",
      "Threshold : 0.60\tFBeta : 0.124929\n",
      "Threshold : 0.65\tFBeta : 0.103041\n",
      "Threshold : 0.70\tFBeta : 0.083698\n",
      "Threshold : 0.75\tFBeta : 0.066441\n",
      "Threshold : 0.80\tFBeta : 0.050526\n",
      "\n"
     ]
    },
    {
     "name": "stderr",
     "output_type": "stream",
     "text": [
      "Epoch 40/50  Mem : 18GB  LR : 1.17E-05  Loss: 0.2478: 100%|██████████| 28/28 [00:16<00:00,  1.66it/s]                                                                                                                                                                            \n",
      "Val Loss: 0.3436: 100%|██████████| 66/66 [00:17<00:00,  3.87it/s]                                                                                                                                                                                                                \n"
     ]
    },
    {
     "name": "stdout",
     "output_type": "stream",
     "text": [
      "Threshold : 0.20\tFBeta : 0.367366\n",
      "Threshold : 0.25\tFBeta : 0.333690\n",
      "Threshold : 0.30\tFBeta : 0.300559\n",
      "Threshold : 0.35\tFBeta : 0.268290\n",
      "Threshold : 0.40\tFBeta : 0.236592\n",
      "Threshold : 0.45\tFBeta : 0.207095\n",
      "Threshold : 0.50\tFBeta : 0.177518\n",
      "Threshold : 0.55\tFBeta : 0.154340\n",
      "Threshold : 0.60\tFBeta : 0.131599\n",
      "Threshold : 0.65\tFBeta : 0.110150\n",
      "Threshold : 0.70\tFBeta : 0.091605\n",
      "Threshold : 0.75\tFBeta : 0.074516\n",
      "Threshold : 0.80\tFBeta : 0.058489\n",
      "\n"
     ]
    },
    {
     "name": "stderr",
     "output_type": "stream",
     "text": [
      "Epoch 41/50  Mem : 18GB  LR : 9.55E-06  Loss: 0.2566: 100%|██████████| 28/28 [00:16<00:00,  1.68it/s]                                                                                                                                                                            \n",
      "Val Loss: 0.3422: 100%|██████████| 66/66 [00:16<00:00,  3.96it/s]                                                                                                                                                                                                                \n"
     ]
    },
    {
     "name": "stdout",
     "output_type": "stream",
     "text": [
      "Threshold : 0.20\tFBeta : 0.332691\n",
      "Threshold : 0.25\tFBeta : 0.310651\n",
      "Threshold : 0.30\tFBeta : 0.285583\n",
      "Threshold : 0.35\tFBeta : 0.260008\n",
      "Threshold : 0.40\tFBeta : 0.233303\n",
      "Threshold : 0.45\tFBeta : 0.200837\n",
      "Threshold : 0.50\tFBeta : 0.159931\n",
      "Threshold : 0.55\tFBeta : 0.131651\n",
      "Threshold : 0.60\tFBeta : 0.108917\n",
      "Threshold : 0.65\tFBeta : 0.089452\n",
      "Threshold : 0.70\tFBeta : 0.072521\n",
      "Threshold : 0.75\tFBeta : 0.056898\n",
      "Threshold : 0.80\tFBeta : 0.042745\n",
      "\n"
     ]
    },
    {
     "name": "stderr",
     "output_type": "stream",
     "text": [
      "Epoch 42/50  Mem : 18GB  LR : 7.60E-06  Loss: 0.2530: 100%|██████████| 28/28 [00:17<00:00,  1.63it/s]                                                                                                                                                                            \n",
      "Val Loss: 0.3340: 100%|██████████| 66/66 [00:16<00:00,  3.89it/s]                                                                                                                                                                                                                \n"
     ]
    },
    {
     "name": "stdout",
     "output_type": "stream",
     "text": [
      "Threshold : 0.20\tFBeta : 0.403177\n",
      "Threshold : 0.25\tFBeta : 0.380021\n",
      "Threshold : 0.30\tFBeta : 0.354953\n",
      "Threshold : 0.35\tFBeta : 0.326863\n",
      "Threshold : 0.40\tFBeta : 0.296341\n",
      "Threshold : 0.45\tFBeta : 0.264556\n",
      "Threshold : 0.50\tFBeta : 0.228479\n",
      "Threshold : 0.55\tFBeta : 0.197578\n",
      "Threshold : 0.60\tFBeta : 0.168674\n",
      "Threshold : 0.65\tFBeta : 0.141020\n",
      "Threshold : 0.70\tFBeta : 0.116289\n",
      "Threshold : 0.75\tFBeta : 0.094646\n",
      "Threshold : 0.80\tFBeta : 0.074607\n",
      "\n"
     ]
    },
    {
     "name": "stderr",
     "output_type": "stream",
     "text": [
      "Epoch 43/50  Mem : 18GB  LR : 5.85E-06  Loss: 0.2496: 100%|██████████| 28/28 [00:16<00:00,  1.65it/s]                                                                                                                                                                            \n",
      "Val Loss: 0.3434: 100%|██████████| 66/66 [00:16<00:00,  3.90it/s]                                                                                                                                                                                                                \n"
     ]
    },
    {
     "name": "stdout",
     "output_type": "stream",
     "text": [
      "Threshold : 0.20\tFBeta : 0.354011\n",
      "Threshold : 0.25\tFBeta : 0.313202\n",
      "Threshold : 0.30\tFBeta : 0.269081\n",
      "Threshold : 0.35\tFBeta : 0.227479\n",
      "Threshold : 0.40\tFBeta : 0.192944\n",
      "Threshold : 0.45\tFBeta : 0.163627\n",
      "Threshold : 0.50\tFBeta : 0.134340\n",
      "Threshold : 0.55\tFBeta : 0.110294\n",
      "Threshold : 0.60\tFBeta : 0.090199\n",
      "Threshold : 0.65\tFBeta : 0.071968\n",
      "Threshold : 0.70\tFBeta : 0.055916\n",
      "Threshold : 0.75\tFBeta : 0.042244\n",
      "Threshold : 0.80\tFBeta : 0.031684\n",
      "\n"
     ]
    },
    {
     "name": "stderr",
     "output_type": "stream",
     "text": [
      "Epoch 44/50  Mem : 18GB  LR : 4.32E-06  Loss: 0.2487: 100%|██████████| 28/28 [00:16<00:00,  1.65it/s]                                                                                                                                                                            \n",
      "Val Loss: 0.3472: 100%|██████████| 66/66 [00:16<00:00,  3.93it/s]                                                                                                                                                                                                                \n"
     ]
    },
    {
     "name": "stdout",
     "output_type": "stream",
     "text": [
      "Threshold : 0.20\tFBeta : 0.331135\n",
      "Threshold : 0.25\tFBeta : 0.286655\n",
      "Threshold : 0.30\tFBeta : 0.248516\n",
      "Threshold : 0.35\tFBeta : 0.212270\n",
      "Threshold : 0.40\tFBeta : 0.179527\n",
      "Threshold : 0.45\tFBeta : 0.149551\n",
      "Threshold : 0.50\tFBeta : 0.123137\n",
      "Threshold : 0.55\tFBeta : 0.104050\n",
      "Threshold : 0.60\tFBeta : 0.086759\n",
      "Threshold : 0.65\tFBeta : 0.070957\n",
      "Threshold : 0.70\tFBeta : 0.057206\n",
      "Threshold : 0.75\tFBeta : 0.043726\n",
      "Threshold : 0.80\tFBeta : 0.032765\n",
      "\n"
     ]
    },
    {
     "name": "stderr",
     "output_type": "stream",
     "text": [
      "Epoch 45/50  Mem : 18GB  LR : 3.02E-06  Loss: 0.2438: 100%|██████████| 28/28 [00:16<00:00,  1.67it/s]                                                                                                                                                                            \n",
      "Val Loss: 0.3361: 100%|██████████| 66/66 [00:16<00:00,  3.89it/s]                                                                                                                                                                                                                \n"
     ]
    },
    {
     "name": "stdout",
     "output_type": "stream",
     "text": [
      "Threshold : 0.20\tFBeta : 0.388097\n",
      "Threshold : 0.25\tFBeta : 0.361817\n",
      "Threshold : 0.30\tFBeta : 0.330681\n",
      "Threshold : 0.35\tFBeta : 0.294957\n",
      "Threshold : 0.40\tFBeta : 0.257482\n",
      "Threshold : 0.45\tFBeta : 0.221579\n",
      "Threshold : 0.50\tFBeta : 0.188150\n",
      "Threshold : 0.55\tFBeta : 0.157953\n",
      "Threshold : 0.60\tFBeta : 0.130419\n",
      "Threshold : 0.65\tFBeta : 0.105643\n",
      "Threshold : 0.70\tFBeta : 0.085914\n",
      "Threshold : 0.75\tFBeta : 0.068190\n",
      "Threshold : 0.80\tFBeta : 0.051965\n",
      "\n"
     ]
    },
    {
     "name": "stderr",
     "output_type": "stream",
     "text": [
      "Epoch 46/50  Mem : 18GB  LR : 1.94E-06  Loss: 0.2514: 100%|██████████| 28/28 [00:17<00:00,  1.64it/s]                                                                                                                                                                            \n",
      "Val Loss: 0.3360: 100%|██████████| 66/66 [00:16<00:00,  3.94it/s]                                                                                                                                                                                                                \n"
     ]
    },
    {
     "name": "stdout",
     "output_type": "stream",
     "text": [
      "Threshold : 0.20\tFBeta : 0.388547\n",
      "Threshold : 0.25\tFBeta : 0.365266\n",
      "Threshold : 0.30\tFBeta : 0.334818\n",
      "Threshold : 0.35\tFBeta : 0.300207\n",
      "Threshold : 0.40\tFBeta : 0.265564\n",
      "Threshold : 0.45\tFBeta : 0.231281\n",
      "Threshold : 0.50\tFBeta : 0.196742\n",
      "Threshold : 0.55\tFBeta : 0.167007\n",
      "Threshold : 0.60\tFBeta : 0.141353\n",
      "Threshold : 0.65\tFBeta : 0.117568\n",
      "Threshold : 0.70\tFBeta : 0.096907\n",
      "Threshold : 0.75\tFBeta : 0.078675\n",
      "Threshold : 0.80\tFBeta : 0.060529\n",
      "\n"
     ]
    },
    {
     "name": "stderr",
     "output_type": "stream",
     "text": [
      "Epoch 47/50  Mem : 18GB  LR : 1.09E-06  Loss: 0.2462: 100%|██████████| 28/28 [00:16<00:00,  1.67it/s]                                                                                                                                                                            \n",
      "Val Loss: 0.3382: 100%|██████████| 66/66 [00:16<00:00,  3.89it/s]                                                                                                                                                                                                                \n"
     ]
    },
    {
     "name": "stdout",
     "output_type": "stream",
     "text": [
      "Threshold : 0.20\tFBeta : 0.375272\n",
      "Threshold : 0.25\tFBeta : 0.351939\n",
      "Threshold : 0.30\tFBeta : 0.318167\n",
      "Threshold : 0.35\tFBeta : 0.280641\n",
      "Threshold : 0.40\tFBeta : 0.242335\n",
      "Threshold : 0.45\tFBeta : 0.206738\n",
      "Threshold : 0.50\tFBeta : 0.171373\n",
      "Threshold : 0.55\tFBeta : 0.143427\n",
      "Threshold : 0.60\tFBeta : 0.120248\n",
      "Threshold : 0.65\tFBeta : 0.099105\n",
      "Threshold : 0.70\tFBeta : 0.080411\n",
      "Threshold : 0.75\tFBeta : 0.063186\n",
      "Threshold : 0.80\tFBeta : 0.048071\n",
      "\n"
     ]
    },
    {
     "name": "stderr",
     "output_type": "stream",
     "text": [
      "Epoch 48/50  Mem : 18GB  LR : 4.87E-07  Loss: 0.2420: 100%|██████████| 28/28 [00:16<00:00,  1.65it/s]                                                                                                                                                                            \n",
      "Val Loss: 0.3379: 100%|██████████| 66/66 [00:16<00:00,  3.90it/s]                                                                                                                                                                                                                \n"
     ]
    },
    {
     "name": "stdout",
     "output_type": "stream",
     "text": [
      "Threshold : 0.20\tFBeta : 0.383693\n",
      "Threshold : 0.25\tFBeta : 0.357696\n",
      "Threshold : 0.30\tFBeta : 0.323796\n",
      "Threshold : 0.35\tFBeta : 0.287579\n",
      "Threshold : 0.40\tFBeta : 0.252417\n",
      "Threshold : 0.45\tFBeta : 0.216968\n",
      "Threshold : 0.50\tFBeta : 0.183210\n",
      "Threshold : 0.55\tFBeta : 0.155000\n",
      "Threshold : 0.60\tFBeta : 0.131115\n",
      "Threshold : 0.65\tFBeta : 0.109423\n",
      "Threshold : 0.70\tFBeta : 0.089604\n",
      "Threshold : 0.75\tFBeta : 0.072275\n",
      "Threshold : 0.80\tFBeta : 0.055495\n",
      "\n"
     ]
    },
    {
     "name": "stderr",
     "output_type": "stream",
     "text": [
      "Epoch 49/50  Mem : 18GB  LR : 1.22E-07  Loss: 0.2473: 100%|██████████| 28/28 [00:16<00:00,  1.68it/s]                                                                                                                                                                            \n",
      "Val Loss: 0.3388: 100%|██████████| 66/66 [00:16<00:00,  3.94it/s]                                                                                                                                                                                                                \n"
     ]
    },
    {
     "name": "stdout",
     "output_type": "stream",
     "text": [
      "Threshold : 0.20\tFBeta : 0.342983\n",
      "Threshold : 0.25\tFBeta : 0.331746\n",
      "Threshold : 0.30\tFBeta : 0.315111\n",
      "Threshold : 0.35\tFBeta : 0.284770\n",
      "Threshold : 0.40\tFBeta : 0.248463\n",
      "Threshold : 0.45\tFBeta : 0.212121\n",
      "Threshold : 0.50\tFBeta : 0.175699\n",
      "Threshold : 0.55\tFBeta : 0.147020\n",
      "Threshold : 0.60\tFBeta : 0.122650\n",
      "Threshold : 0.65\tFBeta : 0.101396\n",
      "Threshold : 0.70\tFBeta : 0.081944\n",
      "Threshold : 0.75\tFBeta : 0.064113\n",
      "Threshold : 0.80\tFBeta : 0.048806\n",
      "\n"
     ]
    },
    {
     "name": "stderr",
     "output_type": "stream",
     "text": [
      "Epoch 50/50  Mem : 18GB  LR : 4.00E-10  Loss: 0.2424: 100%|██████████| 28/28 [00:16<00:00,  1.65it/s]                                                                                                                                                                            \n",
      "Val Loss: 0.3378: 100%|██████████| 66/66 [00:16<00:00,  3.92it/s]                                                                                                                                                                                                                \n"
     ]
    },
    {
     "name": "stdout",
     "output_type": "stream",
     "text": [
      "Threshold : 0.20\tFBeta : 0.379857\n",
      "Threshold : 0.25\tFBeta : 0.355452\n",
      "Threshold : 0.30\tFBeta : 0.322003\n",
      "Threshold : 0.35\tFBeta : 0.284867\n",
      "Threshold : 0.40\tFBeta : 0.247596\n",
      "Threshold : 0.45\tFBeta : 0.211272\n",
      "Threshold : 0.50\tFBeta : 0.174981\n",
      "Threshold : 0.55\tFBeta : 0.146639\n",
      "Threshold : 0.60\tFBeta : 0.123031\n",
      "Threshold : 0.65\tFBeta : 0.101181\n",
      "Threshold : 0.70\tFBeta : 0.082288\n",
      "Threshold : 0.75\tFBeta : 0.064460\n",
      "Threshold : 0.80\tFBeta : 0.049026\n",
      "\n"
     ]
    }
   ],
   "source": [
    "fbeta_best = 0.0\n",
    "for epoch in range(1, EPOCHS+1):\n",
    "    model.train()\n",
    "    cur_lr = f\"LR : {scheduler.get_last_lr()[0]:.2E}\"\n",
    "    pbar_train = enumerate(dataloader_train)\n",
    "    pbar_train = tqdm(pbar_train, total=n_train, bar_format=\"{l_bar}{bar:10}{r_bar}{bar:-10b}\")\n",
    "    mloss_train, mloss_val, val_metric = 0.0, 0.0, 0.0\n",
    "\n",
    "    \n",
    "\n",
    "\n",
    "\n",
    "\n",
    "    for i, (fragments, masks) in pbar_train:\n",
    "        fragments, masks = fragments.cuda().half(), masks.cuda().half()\n",
    "        \n",
    "        \n",
    "        optimizer.zero_grad()\n",
    "        with amp.autocast():\n",
    "            pred_masks = model(fragments)\n",
    "            loss = criterion(pred_masks, masks)\n",
    "            scaler.scale(loss).backward()\n",
    "            scaler.step(optimizer)\n",
    "            scaler.update()\n",
    "            mloss_train += loss.detach().item()\n",
    "\n",
    "        gpu_mem = f\"Mem : {torch.cuda.memory_reserved() / 1E9:.3g}GB\"\n",
    "        pbar_train.set_description((\"%10s  \" * 3 + \"%10s\") % (f\"Epoch {epoch}/{EPOCHS}\", gpu_mem, cur_lr,\n",
    "                                                              f\"Loss: {mloss_train / (i + 1):.4f}\"))\n",
    "        \n",
    "    scheduler.step()\n",
    "    model.eval()\n",
    "    pbar_val = enumerate(dataloader_valid)\n",
    "    pbar_val = tqdm(pbar_val, total=n_valid, bar_format=\"{l_bar}{bar:10}{r_bar}{bar:-10b}\")\n",
    "    final_pred_mask = torch.zeros(gt_shape, dtype=torch.float32, device='cuda')\n",
    "    \n",
    "    for i, (fragments, masks, xys) in pbar_val:\n",
    "        fragments, masks = fragments.cuda(), masks.cuda()\n",
    "        \n",
    "        with torch.no_grad():\n",
    "            pred_masks = model(fragments)\n",
    "            mloss_val += criterion(pred_masks, masks).item()\n",
    "            pred_masks = torch.sigmoid(pred_masks)\n",
    "        \n",
    "        for j, xy in enumerate(xys):\n",
    "            final_pred_mask[xy[1]:xy[3], xy[0]:xy[2]] = pred_masks[j, 0]\n",
    "\n",
    "        pbar_val.set_description((\"%10s\") % (f\"Val Loss: {mloss_val / (i+1):.4f}\"))\n",
    "    \n",
    "    for threshold in np.arange(0.2, 0.85, 0.05):\n",
    "        fbeta = fbeta_score(final_pred_mask, gt_mask, threshold)\n",
    "        print(f\"Threshold : {threshold:.2f}\\tFBeta : {fbeta:.6f}\")\n",
    "        \n",
    "        if fbeta_best < fbeta:\n",
    "            fbeta_best = fbeta\n",
    "            torch.save(model.module.state_dict(), f\"./ckpts/resnet18_3d_seg_best_{fbeta_best:.4f}.pt\")\n",
    "    \n",
    "    \n",
    "    if epoch >= 10:\n",
    "        torch.save(model.module.state_dict(), f\"./ckpts/resnet18_3d_seg_epoch_{epoch}.pt\")\n",
    "\n",
    "    # if epoch == 30:\n",
    "    #     break\n",
    "\n",
    "    print()"
   ]
  },
  {
   "cell_type": "code",
   "execution_count": 22,
   "id": "2c48f344",
   "metadata": {
    "execution": {
     "iopub.execute_input": "2023-05-22T09:42:05.112263Z",
     "iopub.status.busy": "2023-05-22T09:42:05.112163Z",
     "iopub.status.idle": "2023-05-22T09:42:05.114324Z",
     "shell.execute_reply": "2023-05-22T09:42:05.114137Z"
    }
   },
   "outputs": [],
   "source": [
    "# import logging\n",
    "\n",
    "# logging.basicConfig(filename=\"training_log.txt\", level=logging.INFO)\n",
    "\n",
    "# console = logging.StreamHandler()\n",
    "# console.setLevel(logging.INFO)\n",
    "# logging.getLogger('').addHandler(console)\n",
    "\n",
    "# fbeta_best = 0.0\n",
    "# for epoch in range(1, EPOCHS+1):\n",
    "#     model.train()\n",
    "#     cur_lr = f\"LR : {scheduler.get_last_lr()[0]:.2E}\"\n",
    "#     pbar_train = enumerate(dataloader_train)\n",
    "#     pbar_train = tqdm(pbar_train, total=n_train, bar_format=\"{l_bar}{bar:10}{r_bar}{bar:-10b}\")\n",
    "#     mloss_train, mloss_val, val_metric = 0.0, 0.0, 0.0\n",
    "\n",
    "#     for i, (fragments, masks) in pbar_train:\n",
    "#         fragments, masks = fragments.cuda().half(), masks.cuda().half()\n",
    "        \n",
    "#         optimizer.zero_grad()\n",
    "#         with amp.autocast():\n",
    "#             pred_masks = model(fragments)\n",
    "#             loss = criterion(pred_masks, masks)\n",
    "#             scaler.scale(loss).backward()\n",
    "#             scaler.step(optimizer)\n",
    "#             scaler.update()\n",
    "#             mloss_train += loss.detach().item()\n",
    "\n",
    "#         gpu_mem = f\"Mem : {torch.cuda.memory_reserved() / 1E9:.3g}GB\"\n",
    "#         pbar_train.set_description((\"%10s  \" * 3 + \"%10s\") % (f\"Epoch {epoch}/{EPOCHS}\", gpu_mem, cur_lr,\n",
    "#                                                               f\"Loss: {mloss_train / (i + 1):.4f}\"))\n",
    "#         logging.info((\"%10s  \" * 3 + \"%10s\") % (f\"Epoch {epoch}/{EPOCHS}\", gpu_mem, cur_lr,\n",
    "#                                                 f\"Loss: {mloss_train / (i + 1):.4f}\"))\n",
    "#     scheduler.step()\n",
    "#     model.eval()\n",
    "#     pbar_val = enumerate(dataloader_valid)\n",
    "#     pbar_val = tqdm(pbar_val, total=n_valid, bar_format=\"{l_bar}{bar:10}{r_bar}{bar:-10b}\")\n",
    "#     final_pred_mask = torch.zeros(gt_shape, dtype=torch.float32, device='cuda')\n",
    "    \n",
    "#     for i, (fragments, masks, xys) in pbar_val:\n",
    "#         fragments, masks = fragments.cuda(), masks.cuda()\n",
    "        \n",
    "#         with torch.no_grad():\n",
    "#             pred_masks = model(fragments)\n",
    "#             mloss_val += criterion(pred_masks, masks).item()\n",
    "#             pred_masks = torch.sigmoid(pred_masks)\n",
    "        \n",
    "#         for j, xy in enumerate(xys):\n",
    "#             final_pred_mask[xy[1]:xy[3], xy[0]:xy[2]] = pred_masks[j, 0]\n",
    "\n",
    "#         pbar_val.set_description((\"%10s\") % (f\"Val Loss: {mloss_val / (i+1):.4f}\"))\n",
    "#         logging.info((\"%10s\") % (f\"Val Loss: {mloss_val / (i+1):.4f}\"))\n",
    "\n",
    "#     for threshold in np.arange(0.2, 0.85, 0.05):\n",
    "#         fbeta = fbeta_score(final_pred_mask, gt_mask, threshold)\n",
    "#         logging.info(f\"Threshold : {threshold:.2f}\\tFBeta : {fbeta:.6f}\")\n",
    "\n",
    "#         if fbeta_best < fbeta:\n",
    "#             fbeta_best = fbeta\n",
    "#             torch.save(model.module.state_dict(), f\"./ckpts/resnet18_3d_seg_best.pt\")\n",
    "    \n",
    "#     # if epoch >= 10:\n",
    "#     #     torch.save(model.module.state_dict(), f\"./ckpts/resnet18_3d_seg_epoch_{epoch}.pt\")\n"
   ]
  },
  {
   "cell_type": "code",
   "execution_count": null,
   "id": "89431087",
   "metadata": {
    "papermill": {
     "duration": 0.381515,
     "end_time": "2023-04-08T11:20:14.478012",
     "exception": false,
     "start_time": "2023-04-08T11:20:14.096497",
     "status": "completed"
    },
    "tags": []
   },
   "outputs": [],
   "source": []
  }
 ],
 "metadata": {
  "kernelspec": {
   "display_name": "Python 3",
   "language": "python",
   "name": "python3"
  },
  "language_info": {
   "codemirror_mode": {
    "name": "ipython",
    "version": 3
   },
   "file_extension": ".py",
   "mimetype": "text/x-python",
   "name": "python",
   "nbconvert_exporter": "python",
   "pygments_lexer": "ipython3",
   "version": "3.9.16"
  },
  "papermill": {
   "default_parameters": {},
   "duration": 4132.646938,
   "end_time": "2023-04-08T11:20:18.816611",
   "environment_variables": {},
   "exception": null,
   "input_path": "__notebook__.ipynb",
   "output_path": "__notebook__.ipynb",
   "parameters": {},
   "start_time": "2023-04-08T10:11:26.169673",
   "version": "2.4.0"
  }
 },
 "nbformat": 4,
 "nbformat_minor": 5
}
