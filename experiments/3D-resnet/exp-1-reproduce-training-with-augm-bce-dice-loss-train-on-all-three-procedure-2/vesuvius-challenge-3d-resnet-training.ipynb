{
 "cells": [
  {
   "attachments": {},
   "cell_type": "markdown",
   "id": "73dea9ca",
   "metadata": {
    "papermill": {
     "duration": 0.006587,
     "end_time": "2023-04-08T10:11:36.662576",
     "exception": false,
     "start_time": "2023-04-08T10:11:36.655989",
     "status": "completed"
    },
    "tags": []
   },
   "source": [
    "## Vesuvius Challenge - Ink Detection Training Notebook"
   ]
  },
  {
   "attachments": {},
   "cell_type": "markdown",
   "id": "8cdbb7ff",
   "metadata": {
    "papermill": {
     "duration": 0.004951,
     "end_time": "2023-04-08T10:11:36.672955",
     "exception": false,
     "start_time": "2023-04-08T10:11:36.668004",
     "status": "completed"
    },
    "tags": []
   },
   "source": [
    "### Setup"
   ]
  },
  {
   "cell_type": "code",
   "execution_count": 1,
   "id": "ae445317",
   "metadata": {
    "_kg_hide-input": false,
    "_kg_hide-output": true,
    "execution": {
     "iopub.execute_input": "2023-05-22T06:41:56.562618Z",
     "iopub.status.busy": "2023-05-22T06:41:56.562204Z",
     "iopub.status.idle": "2023-05-22T06:41:56.745666Z",
     "shell.execute_reply": "2023-05-22T06:41:56.744216Z"
    },
    "papermill": {
     "duration": 29.297355,
     "end_time": "2023-04-08T10:12:05.976007",
     "exception": false,
     "start_time": "2023-04-08T10:11:36.678652",
     "status": "completed"
    },
    "tags": []
   },
   "outputs": [],
   "source": [
    "# # Pretrained weights\n",
    "# # ref - https://github.com/kenshohara/3D-ResNets-PyTorch\n",
    "# !pip install gdown\n",
    "# !gdown 1Nb4abvIkkp_ydPFA9sNPT1WakoVKA8Fa\n",
    "\n",
    "# # Utility packages for reading and visualizing volumes\n",
    "# !pip install zarr imageio-ffmpeg\n",
    "\n",
    "# save model checkpoints\n",
    "!mkdir ./ckpts"
   ]
  },
  {
   "cell_type": "code",
   "execution_count": 2,
   "id": "0d956f5c",
   "metadata": {
    "execution": {
     "iopub.execute_input": "2023-05-22T06:41:56.750986Z",
     "iopub.status.busy": "2023-05-22T06:41:56.750598Z",
     "iopub.status.idle": "2023-05-22T06:41:57.542432Z",
     "shell.execute_reply": "2023-05-22T06:41:57.542100Z"
    },
    "papermill": {
     "duration": 3.289261,
     "end_time": "2023-04-08T10:12:09.273534",
     "exception": false,
     "start_time": "2023-04-08T10:12:05.984273",
     "status": "completed"
    },
    "tags": []
   },
   "outputs": [],
   "source": [
    "import os\n",
    "import gc\n",
    "import sys\n",
    "import zarr\n",
    "import random\n",
    "import imageio\n",
    "import numpy as np\n",
    "import pandas as pd\n",
    "from tqdm import tqdm\n",
    "import matplotlib.pyplot as plt\n",
    "from IPython.display import Video\n",
    "\n",
    "import torch\n",
    "import torch.nn as nn\n",
    "import torch.nn.functional as F\n",
    "from torch.cuda import amp\n",
    "from torch.utils.data import Dataset, DataLoader\n",
    "\n",
    "sys.path.append(\"./resnet3d\")\n",
    "from resnet3d import generate_model"
   ]
  },
  {
   "attachments": {},
   "cell_type": "markdown",
   "id": "88b00fe4",
   "metadata": {
    "papermill": {
     "duration": 0.007297,
     "end_time": "2023-04-08T10:12:09.288770",
     "exception": false,
     "start_time": "2023-04-08T10:12:09.281473",
     "status": "completed"
    },
    "tags": []
   },
   "source": [
    "### Config"
   ]
  },
  {
   "cell_type": "code",
   "execution_count": 3,
   "id": "59e26b77",
   "metadata": {
    "execution": {
     "iopub.execute_input": "2023-05-22T06:41:57.544038Z",
     "iopub.status.busy": "2023-05-22T06:41:57.543868Z",
     "iopub.status.idle": "2023-05-22T06:41:57.545714Z",
     "shell.execute_reply": "2023-05-22T06:41:57.545537Z"
    },
    "papermill": {
     "duration": 0.016571,
     "end_time": "2023-04-08T10:12:09.312935",
     "exception": false,
     "start_time": "2023-04-08T10:12:09.296364",
     "status": "completed"
    },
    "tags": []
   },
   "outputs": [],
   "source": [
    "LR = 1e-4\n",
    "EPOCHS = 50\n",
    "BATCH_SIZE = 32\n",
    "CROP_SIZE = 768\n",
    "Z_START = 24\n",
    "Z_DIMS = 16\n",
    "TRAIN_FRAGMENTS = [\"1\", \"2\", \"3\"]\n",
    "TEST_FRAGMENT = \"1\""
   ]
  },
  {
   "attachments": {},
   "cell_type": "markdown",
   "id": "9a1e0328",
   "metadata": {
    "papermill": {
     "duration": 0.007428,
     "end_time": "2023-04-08T10:12:09.328094",
     "exception": false,
     "start_time": "2023-04-08T10:12:09.320666",
     "status": "completed"
    },
    "tags": []
   },
   "source": [
    "### Load data"
   ]
  },
  {
   "cell_type": "code",
   "execution_count": 4,
   "id": "8c494d99",
   "metadata": {
    "execution": {
     "iopub.execute_input": "2023-05-22T06:41:57.546858Z",
     "iopub.status.busy": "2023-05-22T06:41:57.546771Z",
     "iopub.status.idle": "2023-05-22T06:41:57.554808Z",
     "shell.execute_reply": "2023-05-22T06:41:57.554598Z"
    },
    "papermill": {
     "duration": 0.054715,
     "end_time": "2023-04-08T10:12:09.391635",
     "exception": false,
     "start_time": "2023-04-08T10:12:09.336920",
     "status": "completed"
    },
    "tags": []
   },
   "outputs": [],
   "source": [
    "\n",
    "\n",
    "FRAGMENTS_ZARR = {\n",
    "    \"1\" : zarr.open(\"/home/viktor/Documents/kaggle/vesuvius-challenge/kaggle-data/train-1.zarr\", mode=\"r\"),\n",
    "    \"2\" : zarr.open(\"/home/viktor/Documents/kaggle/vesuvius-challenge/kaggle-data/train-2.zarr\", mode=\"r\"),\n",
    "    \"3\" : zarr.open(\"/home/viktor/Documents/kaggle/vesuvius-challenge/kaggle-data/train-3.zarr\", mode=\"r\")\n",
    "}\n",
    "\n",
    "FRAGMENTS_SHAPE = {k : v.mask.shape for k, v in FRAGMENTS_ZARR.items()}"
   ]
  },
  {
   "attachments": {},
   "cell_type": "markdown",
   "id": "97a51afa",
   "metadata": {
    "papermill": {
     "duration": 0.007406,
     "end_time": "2023-04-08T10:12:09.406465",
     "exception": false,
     "start_time": "2023-04-08T10:12:09.399059",
     "status": "completed"
    },
    "tags": []
   },
   "source": [
    "### Visualise input"
   ]
  },
  {
   "cell_type": "code",
   "execution_count": 5,
   "id": "6d33b9f8",
   "metadata": {
    "execution": {
     "iopub.execute_input": "2023-05-22T06:41:57.556001Z",
     "iopub.status.busy": "2023-05-22T06:41:57.555900Z",
     "iopub.status.idle": "2023-05-22T06:41:57.856701Z",
     "shell.execute_reply": "2023-05-22T06:41:57.856486Z"
    },
    "papermill": {
     "duration": 1.68744,
     "end_time": "2023-04-08T10:12:11.101290",
     "exception": false,
     "start_time": "2023-04-08T10:12:09.413850",
     "status": "completed"
    },
    "tags": []
   },
   "outputs": [
    {
     "name": "stderr",
     "output_type": "stream",
     "text": [
      "Lossy conversion from uint16 to uint8. Losing 8 bits of resolution. Convert image to uint8 prior to saving to suppress this warning.\n",
      "Lossy conversion from uint16 to uint8. Losing 8 bits of resolution. Convert image to uint8 prior to saving to suppress this warning.\n",
      "Lossy conversion from uint16 to uint8. Losing 8 bits of resolution. Convert image to uint8 prior to saving to suppress this warning.\n",
      "Lossy conversion from uint16 to uint8. Losing 8 bits of resolution. Convert image to uint8 prior to saving to suppress this warning.\n",
      "Lossy conversion from uint16 to uint8. Losing 8 bits of resolution. Convert image to uint8 prior to saving to suppress this warning.\n",
      "Lossy conversion from uint16 to uint8. Losing 8 bits of resolution. Convert image to uint8 prior to saving to suppress this warning.\n",
      "Lossy conversion from uint16 to uint8. Losing 8 bits of resolution. Convert image to uint8 prior to saving to suppress this warning.\n",
      "Lossy conversion from uint16 to uint8. Losing 8 bits of resolution. Convert image to uint8 prior to saving to suppress this warning.\n",
      "Lossy conversion from uint16 to uint8. Losing 8 bits of resolution. Convert image to uint8 prior to saving to suppress this warning.\n",
      "Lossy conversion from uint16 to uint8. Losing 8 bits of resolution. Convert image to uint8 prior to saving to suppress this warning.\n",
      "Lossy conversion from uint16 to uint8. Losing 8 bits of resolution. Convert image to uint8 prior to saving to suppress this warning.\n",
      "Lossy conversion from uint16 to uint8. Losing 8 bits of resolution. Convert image to uint8 prior to saving to suppress this warning.\n",
      "Lossy conversion from uint16 to uint8. Losing 8 bits of resolution. Convert image to uint8 prior to saving to suppress this warning.\n",
      "Lossy conversion from uint16 to uint8. Losing 8 bits of resolution. Convert image to uint8 prior to saving to suppress this warning.\n",
      "Lossy conversion from uint16 to uint8. Losing 8 bits of resolution. Convert image to uint8 prior to saving to suppress this warning.\n",
      "Lossy conversion from uint16 to uint8. Losing 8 bits of resolution. Convert image to uint8 prior to saving to suppress this warning.\n"
     ]
    },
    {
     "data": {
      "text/html": [
       "<video src=\"fragment_crop.mp4\" controls  width=\"256\"  height=\"256\">\n",
       "      Your browser does not support the <code>video</code> element.\n",
       "    </video>"
      ],
      "text/plain": [
       "<IPython.core.display.Video object>"
      ]
     },
     "execution_count": 5,
     "metadata": {},
     "output_type": "execute_result"
    }
   ],
   "source": [
    "fragment = FRAGMENTS_ZARR[\"1\"]\n",
    "x, y = 2000, 2000\n",
    "\n",
    "fragment_cropped = fragment.surface_volume[y:y+CROP_SIZE, x:x+CROP_SIZE, Z_START:Z_START+Z_DIMS]\n",
    "imageio.mimwrite(\"fragment_crop.mp4\", fragment_cropped.transpose(2, 0, 1), \"ffmpeg\")\n",
    "Video(\"fragment_crop.mp4\", height=256, width=256)"
   ]
  },
  {
   "cell_type": "code",
   "execution_count": 6,
   "id": "46203a93",
   "metadata": {
    "execution": {
     "iopub.execute_input": "2023-05-22T06:41:57.858009Z",
     "iopub.status.busy": "2023-05-22T06:41:57.857895Z",
     "iopub.status.idle": "2023-05-22T06:41:57.897963Z",
     "shell.execute_reply": "2023-05-22T06:41:57.897754Z"
    },
    "papermill": {
     "duration": 0.258785,
     "end_time": "2023-04-08T10:12:11.368608",
     "exception": false,
     "start_time": "2023-04-08T10:12:11.109823",
     "status": "completed"
    },
    "tags": []
   },
   "outputs": [
    {
     "data": {
      "image/png": "[encoded data removed]",
      "text/plain": [
       "<Figure size 600x300 with 2 Axes>"
      ]
     },
     "metadata": {},
     "output_type": "display_data"
    }
   ],
   "source": [
    "mask_cropped = fragment.truth[y:y+CROP_SIZE, x:x+CROP_SIZE]\n",
    "ir_cropped = fragment.infrared[y:y+CROP_SIZE, x:x+CROP_SIZE]\n",
    "\n",
    "plt.figure(figsize=(6, 3))\n",
    "plt.subplot(1, 2, 1)\n",
    "plt.imshow(mask_cropped, cmap=\"gray\")\n",
    "plt.axis(\"off\")\n",
    "\n",
    "plt.subplot(1, 2, 2)\n",
    "plt.imshow(ir_cropped, cmap=\"gray\")\n",
    "plt.axis(\"off\")\n",
    "plt.show()"
   ]
  },
  {
   "cell_type": "code",
   "execution_count": 7,
   "id": "6462d25d",
   "metadata": {
    "execution": {
     "iopub.execute_input": "2023-05-22T06:41:57.899106Z",
     "iopub.status.busy": "2023-05-22T06:41:57.898999Z",
     "iopub.status.idle": "2023-05-22T06:41:57.945889Z",
     "shell.execute_reply": "2023-05-22T06:41:57.945691Z"
    },
    "papermill": {
     "duration": 0.17287,
     "end_time": "2023-04-08T10:12:11.562933",
     "exception": false,
     "start_time": "2023-04-08T10:12:11.390063",
     "status": "completed"
    },
    "tags": []
   },
   "outputs": [
    {
     "data": {
      "text/plain": [
       "4083"
      ]
     },
     "execution_count": 7,
     "metadata": {},
     "output_type": "execute_result"
    }
   ],
   "source": [
    "del fragment, fragment_cropped, mask_cropped, ir_cropped\n",
    "gc.collect()"
   ]
  },
  {
   "attachments": {},
   "cell_type": "markdown",
   "id": "ff9cd3e8",
   "metadata": {
    "papermill": {
     "duration": 0.008474,
     "end_time": "2023-04-08T10:12:11.580070",
     "exception": false,
     "start_time": "2023-04-08T10:12:11.571596",
     "status": "completed"
    },
    "tags": []
   },
   "source": [
    "### Dataloaders"
   ]
  },
  {
   "cell_type": "code",
   "execution_count": 8,
   "id": "162ec4e8",
   "metadata": {
    "execution": {
     "iopub.execute_input": "2023-05-22T06:41:57.947130Z",
     "iopub.status.busy": "2023-05-22T06:41:57.947034Z",
     "iopub.status.idle": "2023-05-22T06:41:57.949221Z",
     "shell.execute_reply": "2023-05-22T06:41:57.949040Z"
    },
    "papermill": {
     "duration": 0.024571,
     "end_time": "2023-04-08T10:12:11.612905",
     "exception": false,
     "start_time": "2023-04-08T10:12:11.588334",
     "status": "completed"
    },
    "tags": []
   },
   "outputs": [],
   "source": [
    "# import albumentations as A\n",
    "# from albumentations.pytorch import ToTensorV2\n",
    "\n",
    "# class VesuviusTrain(Dataset):\n",
    "#     def __init__(self, fragments):\n",
    "#         self.fragments = fragments\n",
    "#         self.xys = []\n",
    "        \n",
    "#         for fragment in fragments:\n",
    "#             H, W = FRAGMENTS_SHAPE[fragment]\n",
    "#             for y in range(0, H-CROP_SIZE+1, CROP_SIZE):\n",
    "#                 for x in range(0, W-CROP_SIZE+1, CROP_SIZE):\n",
    "#                     self.xys.append((fragment, x, y, W, H))\n",
    "        \n",
    "#         train_aug_list = [\n",
    "#                 # A.RandomResizedCrop(\n",
    "#                 #     size, size, scale=(0.85, 1.0)),\n",
    "#                 A.HorizontalFlip(p=0.5),\n",
    "#                 A.VerticalFlip(p=0.5),\n",
    "#                 A.RandomBrightnessContrast(p=0.75),\n",
    "#                 A.CoarseDropout(max_holes=1, max_width=int(CROP_SIZE * 0.1), max_height=int(size * 0.1), \n",
    "#                                 mask_fill_value=0, p=0.5),\n",
    "#                 A.ShiftScaleRotate(p=0.75),\n",
    "#                 A.Rotate(limit=90, p=0.9), \n",
    "#                 A.OneOf([\n",
    "#                         A.GaussNoise(var_limit=[10, 50]),\n",
    "#                         A.GaussianBlur(),\n",
    "#                         A.MotionBlur(),\n",
    "#                         ], p=0.4),\n",
    "#                 A.GridDistortion(num_steps=1, distort_limit=0.3, p=0.5),\n",
    "                \n",
    "#                 A.Cutout(max_h_size=int(size * 0.6),\n",
    "#                          max_w_size=int(size * 0.6), num_holes=1, p=1.0),\n",
    "#                 A.Normalize(\n",
    "#                     mean= [0] * Z_DIMS,\n",
    "#                     std= [1] * Z_DIMS\n",
    "#                 ),\n",
    "#                 ToTensorV2(transpose_mask=True),\n",
    "#             ]\n",
    "        \n",
    "        \n",
    "        \n",
    "#     def __getitem__(self, i):\n",
    "#         fragment, x1, y1, W, H = self.xys[i]\n",
    "#         z1, z2 = Z_START, Z_START+Z_DIMS\n",
    "        \n",
    "#         x_offset = random.randint(-32 if x1 != 0 else 0, 32)\n",
    "#         y_offset = random.randint(-32 if y1 != 0 else 0, 32)\n",
    "        \n",
    "#         x1 += x_offset\n",
    "#         y1 += y_offset\n",
    "        \n",
    "#         x2 = x1 + CROP_SIZE\n",
    "#         y2 = y1 + CROP_SIZE\n",
    "        \n",
    "#         if x2 > W:\n",
    "#             x1 -= x_offset\n",
    "#             x2 -= x_offset\n",
    "            \n",
    "#         if y2 > H:\n",
    "#             y1 -= y_offset\n",
    "#             y2 -= y_offset\n",
    "        \n",
    "#         frag_crop = FRAGMENTS_ZARR[fragment].surface_volume[y1:y2, x1:x2, z1:z2]\n",
    "#         mask_crop = FRAGMENTS_ZARR[fragment].truth[y1:y2, x1:x2]\n",
    "        \n",
    "#         if random.random() > 0.5:\n",
    "#             frag_crop = np.flip(frag_crop, axis=1).copy()\n",
    "#             mask_crop = np.flip(mask_crop, axis=1).copy()\n",
    "\n",
    "#         frag_crop = torch.from_numpy(frag_crop.astype(np.float32)).unsqueeze(0).permute(0, 3, 1, 2)\n",
    "#         frag_crop = frag_crop/65535.0\n",
    "#         frag_crop = (frag_crop - 0.45)/0.225\n",
    "        \n",
    "#         mask_crop = torch.from_numpy(mask_crop.astype(np.float32)).unsqueeze(0)\n",
    "        \n",
    "        \n",
    "        \n",
    "        \n",
    "        \n",
    "        \n",
    "        \n",
    "        \n",
    "#         return frag_crop, mask_crop\n",
    "\n",
    "#     def __len__(self):\n",
    "#         return len(self.xys)"
   ]
  },
  {
   "cell_type": "code",
   "execution_count": 45,
   "id": "c2c0c6d5",
   "metadata": {
    "execution": {
     "iopub.execute_input": "2023-05-22T06:41:57.950403Z",
     "iopub.status.busy": "2023-05-22T06:41:57.950295Z",
     "iopub.status.idle": "2023-05-22T06:41:58.278632Z",
     "shell.execute_reply": "2023-05-22T06:41:58.278305Z"
    }
   },
   "outputs": [],
   "source": [
    "import albumentations as A\n",
    "from albumentations.pytorch import ToTensorV2\n",
    "\n",
    "class VesuviusTrain(Dataset):\n",
    "    def __init__(self, fragments):\n",
    "        self.fragments = fragments\n",
    "        self.xys = []\n",
    "        \n",
    "        for fragment in fragments:\n",
    "            H, W = FRAGMENTS_SHAPE[fragment]\n",
    "            \n",
    "            for y in range(0, H-CROP_SIZE+1, CROP_SIZE):\n",
    "                for x in range(0, W-CROP_SIZE+1, CROP_SIZE):\n",
    "                    surface = FRAGMENTS_ZARR[fragment].surface_volume[y:y+CROP_SIZE, x:x+CROP_SIZE, 0]\n",
    "                    if np.sum(surface>0) / (CROP_SIZE * CROP_SIZE) > 0.2:\n",
    "                        self.xys.append((fragment, x, y, W, H))\n",
    "        \n",
    "        self.train_aug_list = [\n",
    "                # A.RandomResizedCrop(\n",
    "                #     size, size, scale=(0.85, 1.0)),\n",
    "                \n",
    "                A.HorizontalFlip(p=0.5),\n",
    "                A.VerticalFlip(p=0.5),\n",
    "                \n",
    "                # A.RandomBrightnessContrast(p=0.75),\n",
    "                # A.CoarseDropout(max_holes=1, max_width=int(CROP_SIZE * 0.1), max_height=int(CROP_SIZE * 0.1), \n",
    "                #                 mask_fill_value=0, p=0.5),\n",
    "                # A.ShiftScaleRotate(p=0.75),\n",
    "                \n",
    "                A.Rotate(limit=90, p=0.9), \n",
    "                \n",
    "                # A.OneOf([\n",
    "                #         A.GaussNoise(var_limit=[1, 5]),\n",
    "                #         A.GaussianBlur(),\n",
    "                #         A.MotionBlur(),\n",
    "                #         ], p=0.4),\n",
    "                # A.GridDistortion(num_steps=1, distort_limit=0.3, p=0.5),\n",
    "                \n",
    "                # A.Cutout(max_h_size=int(CROP_SIZE * 0.2),\n",
    "                #          max_w_size=int(CROP_SIZE * 0.2), num_holes=1, p=1.0),\n",
    "                # A.Normalize(\n",
    "                #     mean= [0] * Z_DIMS,\n",
    "                #     std= [1] * Z_DIMS\n",
    "                # ),\n",
    "                \n",
    "                \n",
    "                ToTensorV2(transpose_mask=True),\n",
    "            ]\n",
    "        \n",
    "        # Create the augmentation pipeline\n",
    "        self.augmentations = A.Compose(self.train_aug_list)\n",
    "        \n",
    "        \n",
    "        \n",
    "    def __getitem__(self, i):\n",
    "        fragment, x1, y1, W, H = self.xys[i]\n",
    "        z1, z2 = Z_START, Z_START+Z_DIMS\n",
    "        \n",
    "        x_offset = random.randint(-384 if x1 != 0 else 0, 384)\n",
    "        y_offset = random.randint(-384 if y1 != 0 else 0, 384)\n",
    "        \n",
    "        x1 += x_offset\n",
    "        y1 += y_offset\n",
    "        \n",
    "        x2 = x1 + CROP_SIZE\n",
    "        y2 = y1 + CROP_SIZE\n",
    "        \n",
    "        if x2 > W:\n",
    "            x1 -= x_offset\n",
    "            x2 -= x_offset\n",
    "            \n",
    "        if y2 > H:\n",
    "            y1 -= y_offset\n",
    "            y2 -= y_offset\n",
    "        \n",
    "        frag_crop = FRAGMENTS_ZARR[fragment].surface_volume[y1:y2, x1:x2, z1:z2]\n",
    "        mask_crop = FRAGMENTS_ZARR[fragment].truth[y1:y2, x1:x2]\n",
    "        \n",
    "        # if random.random() > 0.5:\n",
    "        #     frag_crop = np.flip(frag_crop, axis=1).copy()\n",
    "        #     mask_crop = np.flip(mask_crop, axis=1).copy()\n",
    "\n",
    "        # Perform train augmentations\n",
    "\n",
    "        frag_crop = frag_crop/65535.0\n",
    "        \n",
    "        \n",
    "        # take the central 256 x 256 image and the mask\n",
    "        frag_crop_central = frag_crop[128:384, 128:384, :]\n",
    "        mask_crop_central = mask_crop[128:384, 128:384]\n",
    "       \n",
    "        \n",
    "        # take each 3 pixels\n",
    "        frag_crop = frag_crop[::3, ::3]\n",
    "        mask_crop = mask_crop[::3, ::3]\n",
    "        \n",
    "\n",
    "        # Use ReplayCompose to apply the exact same augmentations to the full and central crops\n",
    "        self.augmentations = A.ReplayCompose(self.train_aug_list)\n",
    "\n",
    "        # Apply augmentations to the full crop and save the parameters\n",
    "        augmented_full = self.augmentations(image=frag_crop, mask=mask_crop)\n",
    "        params = augmented_full[\"replay\"]\n",
    "\n",
    "        # Apply the same augmentations to the central crop using the saved parameters\n",
    "        augmented_central = self.augmentations.replay(params, image=frag_crop_central, mask=mask_crop_central)\n",
    "\n",
    "        # Separate the image and mask for the full and central crops\n",
    "        frag_crop, mask_crop = augmented_full[\"image\"], augmented_full[\"mask\"]\n",
    "        frag_crop_central, mask_crop_central = augmented_central[\"image\"], augmented_central[\"mask\"]\n",
    "        \n",
    "        frag_crop = frag_crop.unsqueeze(0)\n",
    "        mask_crop = mask_crop.float().unsqueeze(0)\n",
    "        \n",
    "        frag_crop_central = frag_crop_central.unsqueeze(0)\n",
    "        mask_crop_central = mask_crop_central.float().unsqueeze(0)\n",
    "        \n",
    "        return frag_crop, mask_crop, frag_crop_central, mask_crop_central\n",
    "\n",
    "    def __len__(self):\n",
    "        return len(self.xys)"
   ]
  },
  {
   "cell_type": "code",
   "execution_count": 46,
   "id": "f172c2ad",
   "metadata": {
    "execution": {
     "iopub.execute_input": "2023-05-22T06:41:58.280206Z",
     "iopub.status.busy": "2023-05-22T06:41:58.280017Z",
     "iopub.status.idle": "2023-05-22T06:41:58.283229Z",
     "shell.execute_reply": "2023-05-22T06:41:58.283034Z"
    },
    "papermill": {
     "duration": 0.022963,
     "end_time": "2023-04-08T10:12:11.644387",
     "exception": false,
     "start_time": "2023-04-08T10:12:11.621424",
     "status": "completed"
    },
    "tags": []
   },
   "outputs": [],
   "source": [
    "class VesuviusVal(Dataset):\n",
    "    def __init__(self, fragment):\n",
    "        self.fragment = FRAGMENTS_ZARR[fragment]\n",
    "        self.xys = []\n",
    "        \n",
    "        H, W = FRAGMENTS_SHAPE[fragment]\n",
    "        for y in range(0, H-CROP_SIZE+1, CROP_SIZE):\n",
    "            for x in range(0, W-CROP_SIZE+1, CROP_SIZE):\n",
    "                self.xys.append((x, y))\n",
    "                \n",
    "    def __getitem__(self, i):\n",
    "        x1, y1 = self.xys[i]\n",
    "        x2, y2 = x1+CROP_SIZE, y1+CROP_SIZE\n",
    "        z1, z2 = Z_START, Z_START+Z_DIMS\n",
    "        \n",
    "        frag_crop = self.fragment.surface_volume[y1:y2, x1:x2, z1:z2]\n",
    "        mask_crop = self.fragment.truth[y1:y2, x1:x2]\n",
    "\n",
    "        frag_crop = torch.from_numpy(frag_crop.astype(np.float32)).unsqueeze(0).permute(0, 3, 1, 2)\n",
    "        frag_crop = frag_crop/65535.0\n",
    "        # frag_crop = (frag_crop - 0.45)/0.225\n",
    "        \n",
    "        mask_crop = torch.from_numpy(mask_crop.astype(np.float32)).unsqueeze(0)\n",
    "        \n",
    "        # take the central 256 x 256 image and the mask\n",
    "        frag_crop_central = frag_crop[:, :, 128:384, 128:384]\n",
    "        mask_crop_central = mask_crop[:, 128:384, 128:384]\n",
    "        \n",
    "        # take each 3 pixels\n",
    "        frag_crop = frag_crop[:, :, ::3, ::3]\n",
    "        mask_crop = mask_crop[:, ::3, ::3]\n",
    "        \n",
    "        \n",
    "        return frag_crop, mask_crop, frag_crop_central, mask_crop_central, torch.tensor([x1, y1, x2, y2], dtype=torch.int32)\n",
    "\n",
    "    def __len__(self):\n",
    "        return len(self.xys)"
   ]
  },
  {
   "cell_type": "code",
   "execution_count": 47,
   "id": "4282f924",
   "metadata": {
    "execution": {
     "iopub.execute_input": "2023-05-22T06:41:58.284363Z",
     "iopub.status.busy": "2023-05-22T06:41:58.284278Z",
     "iopub.status.idle": "2023-05-22T06:42:04.148748Z",
     "shell.execute_reply": "2023-05-22T06:42:04.148508Z"
    },
    "papermill": {
     "duration": 0.019671,
     "end_time": "2023-04-08T10:12:11.672490",
     "exception": false,
     "start_time": "2023-04-08T10:12:11.652819",
     "status": "completed"
    },
    "tags": []
   },
   "outputs": [],
   "source": [
    "dataset_train = VesuviusTrain(TRAIN_FRAGMENTS)\n",
    "dataloader_train = DataLoader(dataset_train, batch_size=BATCH_SIZE, num_workers=2,\n",
    "                              shuffle=True, pin_memory=True, drop_last=True)\n",
    "n_train = len(dataloader_train)\n",
    "\n",
    "dataset_valid = VesuviusVal(TEST_FRAGMENT)\n",
    "dataloader_valid = DataLoader(dataset_valid, batch_size=BATCH_SIZE, num_workers=2,\n",
    "                              shuffle=False, pin_memory=True, drop_last=False)\n",
    "n_valid = len(dataloader_valid)"
   ]
  },
  {
   "cell_type": "code",
   "execution_count": 50,
   "id": "0577f1a6",
   "metadata": {
    "execution": {
     "iopub.execute_input": "2023-05-22T06:42:04.150133Z",
     "iopub.status.busy": "2023-05-22T06:42:04.150011Z",
     "iopub.status.idle": "2023-05-22T06:42:04.177255Z",
     "shell.execute_reply": "2023-05-22T06:42:04.177050Z"
    }
   },
   "outputs": [
    {
     "data": {
      "text/plain": [
       "(tensor(0.0017, dtype=torch.float64), tensor(1., dtype=torch.float64))"
      ]
     },
     "execution_count": 50,
     "metadata": {},
     "output_type": "execute_result"
    }
   ],
   "source": [
    "i = random.randint(0, len(dataset_train))\n",
    "img = dataset_train[i][0]\n",
    "img.min(), img.max()"
   ]
  },
  {
   "attachments": {},
   "cell_type": "markdown",
   "id": "cdcc7e0b",
   "metadata": {
    "papermill": {
     "duration": 0.008028,
     "end_time": "2023-04-08T10:12:11.688860",
     "exception": false,
     "start_time": "2023-04-08T10:12:11.680832",
     "status": "completed"
    },
    "tags": []
   },
   "source": [
    "### Model\n",
    "* Encoder is a 3D ResNet model. The architecture has been modified to remove temporal downsampling between blocks.\n",
    "* A 2D decoder is used for predicting the segmentation map.\n",
    "* The encoder feature maps are average pooled over the Z dimension before passing it to the decoder."
   ]
  },
  {
   "cell_type": "code",
   "execution_count": 36,
   "id": "ff7cc8a3",
   "metadata": {
    "execution": {
     "iopub.execute_input": "2023-05-22T06:42:04.178408Z",
     "iopub.status.busy": "2023-05-22T06:42:04.178287Z",
     "iopub.status.idle": "2023-05-22T06:42:04.182253Z",
     "shell.execute_reply": "2023-05-22T06:42:04.182045Z"
    },
    "papermill": {
     "duration": 0.023714,
     "end_time": "2023-04-08T10:12:11.721140",
     "exception": false,
     "start_time": "2023-04-08T10:12:11.697426",
     "status": "completed"
    },
    "tags": []
   },
   "outputs": [],
   "source": [
    "class Decoder(nn.Module):\n",
    "    def __init__(self, encoder_dims, upscale):\n",
    "        super().__init__()\n",
    "        self.convs = nn.ModuleList([\n",
    "            nn.Sequential(\n",
    "                nn.Conv2d(encoder_dims[i]+encoder_dims[i-1], encoder_dims[i-1], 3, 1, 1, bias=False),\n",
    "                nn.BatchNorm2d(encoder_dims[i-1]),\n",
    "                nn.ReLU(inplace=True)\n",
    "            ) for i in range(1, len(encoder_dims))])\n",
    "\n",
    "        self.logit = nn.Conv2d(encoder_dims[0], 1, 1, 1, 0)\n",
    "        self.up = nn.Upsample(scale_factor=upscale, mode=\"bilinear\")\n",
    "\n",
    "    def forward(self, feature_maps):\n",
    "        for i in range(len(feature_maps)-1, 0, -1):\n",
    "            f_up = F.interpolate(feature_maps[i], scale_factor=2, mode=\"bilinear\")\n",
    "            f = torch.cat([feature_maps[i-1], f_up], dim=1)\n",
    "            f_down = self.convs[i-1](f)\n",
    "            feature_maps[i-1] = f_down\n",
    "\n",
    "        x = self.logit(feature_maps[0])\n",
    "        mask = self.up(x)\n",
    "        return mask\n",
    "\n",
    "\n",
    "class SegModel(nn.Module):\n",
    "    def __init__(self):\n",
    "        super().__init__()\n",
    "        self.encoder = generate_model(model_depth=18, n_input_channels=1)\n",
    "        self.decoder = Decoder(encoder_dims=[64, 128, 256, 512], upscale=4)\n",
    "        \n",
    "    def forward(self, x):\n",
    "        feat_maps = self.encoder(x)\n",
    "        feat_maps_pooled = [torch.mean(f, dim=2) for f in feat_maps]\n",
    "        pred_mask = self.decoder(feat_maps_pooled)\n",
    "        return pred_mask, feat_maps_pooled\n",
    "    \n",
    "    def load_pretrained_weights(self, state_dict):\n",
    "        # Convert 3 channel weights to single channel\n",
    "        # ref - https://timm.fast.ai/models#Case-1:-When-the-number-of-input-channels-is-1\n",
    "        conv1_weight = state_dict['conv1.weight']\n",
    "        state_dict['conv1.weight'] = conv1_weight.sum(dim=1, keepdim=True)\n",
    "        print(self.encoder.load_state_dict(state_dict, strict=False))"
   ]
  },
  {
   "cell_type": "code",
   "execution_count": 34,
   "id": "44aa25d7",
   "metadata": {},
   "outputs": [
    {
     "name": "stdout",
     "output_type": "stream",
     "text": [
      "_IncompatibleKeys(missing_keys=[], unexpected_keys=['fc.weight', 'fc.bias'])\n"
     ]
    }
   ],
   "source": [
    "model = SegModel()\n",
    "model.load_pretrained_weights(torch.load(\"/home/viktor/Documents/kaggle/vesuvius-challenge/experiments/3D-resnet/r3d18_K_200ep.pth\")[\"state_dict\"])\n",
    "model = nn.DataParallel(model, device_ids=[0])"
   ]
  },
  {
   "cell_type": "code",
   "execution_count": null,
   "id": "19adabd0",
   "metadata": {},
   "outputs": [],
   "source": [
    "# take one example of dataloader_train\n",
    "img, mask, img_central, mask_central = next(iter(dataloader_train))\n"
   ]
  },
  {
   "cell_type": "code",
   "execution_count": null,
   "id": "0a52793a",
   "metadata": {},
   "outputs": [],
   "source": []
  },
  {
   "cell_type": "code",
   "execution_count": null,
   "id": "a6d5d3aa",
   "metadata": {},
   "outputs": [],
   "source": []
  },
  {
   "cell_type": "code",
   "execution_count": 14,
   "id": "67e4a0f1",
   "metadata": {
    "execution": {
     "iopub.execute_input": "2023-05-22T06:42:04.183233Z",
     "iopub.status.busy": "2023-05-22T06:42:04.183111Z",
     "iopub.status.idle": "2023-05-22T06:42:05.077203Z",
     "shell.execute_reply": "2023-05-22T06:42:05.076856Z"
    },
    "papermill": {
     "duration": 3.891528,
     "end_time": "2023-04-08T10:12:15.621016",
     "exception": false,
     "start_time": "2023-04-08T10:12:11.729488",
     "status": "completed"
    },
    "tags": []
   },
   "outputs": [
    {
     "name": "stdout",
     "output_type": "stream",
     "text": [
      "_IncompatibleKeys(missing_keys=[], unexpected_keys=['fc.weight', 'fc.bias'])\n"
     ]
    }
   ],
   "source": [
    "model = SegModel()\n",
    "model.load_pretrained_weights(torch.load(\"/home/viktor/Documents/kaggle/vesuvius-challenge/experiments/3D-resnet/r3d18_K_200ep.pth\")[\"state_dict\"])\n",
    "model = nn.DataParallel(model, device_ids=[0])\n",
    "\n",
    "model = model.cuda()"
   ]
  },
  {
   "cell_type": "code",
   "execution_count": 15,
   "id": "491e9288",
   "metadata": {
    "execution": {
     "iopub.execute_input": "2023-05-22T06:42:05.078784Z",
     "iopub.status.busy": "2023-05-22T06:42:05.078687Z",
     "iopub.status.idle": "2023-05-22T06:42:05.944933Z",
     "shell.execute_reply": "2023-05-22T06:42:05.944614Z"
    }
   },
   "outputs": [
    {
     "data": {
      "text/plain": [
       "torch.Size([5, 1, 256, 256])"
      ]
     },
     "execution_count": 15,
     "metadata": {},
     "output_type": "execute_result"
    }
   ],
   "source": [
    "x = torch.randn(5, 1, 16, 256, 256).cuda()\n",
    "with torch.no_grad():\n",
    "    y = model(x)\n",
    "y.shape"
   ]
  },
  {
   "attachments": {},
   "cell_type": "markdown",
   "id": "d84d7c0e",
   "metadata": {
    "papermill": {
     "duration": 0.008816,
     "end_time": "2023-04-08T10:12:15.638951",
     "exception": false,
     "start_time": "2023-04-08T10:12:15.630135",
     "status": "completed"
    },
    "tags": []
   },
   "source": [
    "### Competition metric (F0.5 Score)"
   ]
  },
  {
   "cell_type": "code",
   "execution_count": 16,
   "id": "61dbeb5c",
   "metadata": {
    "execution": {
     "iopub.execute_input": "2023-05-22T06:42:05.946397Z",
     "iopub.status.busy": "2023-05-22T06:42:05.946270Z",
     "iopub.status.idle": "2023-05-22T06:42:05.948956Z",
     "shell.execute_reply": "2023-05-22T06:42:05.948618Z"
    },
    "papermill": {
     "duration": 0.020268,
     "end_time": "2023-04-08T10:12:15.668008",
     "exception": false,
     "start_time": "2023-04-08T10:12:15.647740",
     "status": "completed"
    },
    "tags": []
   },
   "outputs": [],
   "source": [
    "# ref - https://www.kaggle.com/competitions/vesuvius-challenge-ink-detection/discussion/397288\n",
    "def fbeta_score(preds, targets, threshold, beta=0.5, smooth=1e-5):\n",
    "    preds_t = torch.where(preds > threshold, 1.0, 0.0).float()\n",
    "    y_true_count = targets.sum()\n",
    "    \n",
    "    ctp = preds_t[targets==1].sum()\n",
    "    cfp = preds_t[targets==0].sum()\n",
    "    beta_squared = beta * beta\n",
    "\n",
    "    c_precision = ctp / (ctp + cfp + smooth)\n",
    "    c_recall = ctp / (y_true_count + smooth)\n",
    "    dice = (1 + beta_squared) * (c_precision * c_recall) / (beta_squared * c_precision + c_recall + smooth)\n",
    "\n",
    "    return dice"
   ]
  },
  {
   "attachments": {},
   "cell_type": "markdown",
   "id": "639c9148",
   "metadata": {
    "papermill": {
     "duration": 0.008498,
     "end_time": "2023-04-08T10:12:15.685205",
     "exception": false,
     "start_time": "2023-04-08T10:12:15.676707",
     "status": "completed"
    },
    "tags": []
   },
   "source": [
    "### Training"
   ]
  },
  {
   "cell_type": "code",
   "execution_count": 17,
   "id": "0cca2e6e",
   "metadata": {
    "execution": {
     "iopub.execute_input": "2023-05-22T06:42:05.950104Z",
     "iopub.status.busy": "2023-05-22T06:42:05.950025Z",
     "iopub.status.idle": "2023-05-22T06:42:05.951954Z",
     "shell.execute_reply": "2023-05-22T06:42:05.951776Z"
    },
    "papermill": {
     "duration": 0.019067,
     "end_time": "2023-04-08T10:12:15.713237",
     "exception": false,
     "start_time": "2023-04-08T10:12:15.694170",
     "status": "completed"
    },
    "tags": []
   },
   "outputs": [],
   "source": [
    "scaler = amp.GradScaler()\n",
    "# criterion = nn.BCEWithLogitsLoss()\n",
    "\n",
    "\n",
    "optimizer = torch.optim.AdamW(model.parameters(), lr=LR)\n",
    "scheduler = torch.optim.lr_scheduler.OneCycleLR(optimizer, max_lr=LR,\n",
    "                                                steps_per_epoch=10, epochs=EPOCHS//10,\n",
    "                                                pct_start=0.1)"
   ]
  },
  {
   "cell_type": "code",
   "execution_count": 18,
   "id": "2a77a022",
   "metadata": {
    "execution": {
     "iopub.execute_input": "2023-05-22T06:42:05.953009Z",
     "iopub.status.busy": "2023-05-22T06:42:05.952868Z",
     "iopub.status.idle": "2023-05-22T06:42:06.661767Z",
     "shell.execute_reply": "2023-05-22T06:42:06.661379Z"
    }
   },
   "outputs": [],
   "source": [
    "import segmentation_models_pytorch as smp\n",
    "DiceLoss = smp.losses.DiceLoss(mode='binary')\n",
    "BCELoss = smp.losses.SoftBCEWithLogitsLoss()\n",
    "\n",
    "\n",
    "def criterion(y_pred, y_true):\n",
    "    return 0.5 * BCELoss(y_pred, y_true) + 0.5 * DiceLoss(y_pred, y_true)"
   ]
  },
  {
   "cell_type": "code",
   "execution_count": 19,
   "id": "7304e1fd",
   "metadata": {
    "execution": {
     "iopub.execute_input": "2023-05-22T06:42:06.663361Z",
     "iopub.status.busy": "2023-05-22T06:42:06.663263Z",
     "iopub.status.idle": "2023-05-22T06:42:06.704910Z",
     "shell.execute_reply": "2023-05-22T06:42:06.704440Z"
    },
    "papermill": {
     "duration": 0.385175,
     "end_time": "2023-04-08T10:12:16.107159",
     "exception": false,
     "start_time": "2023-04-08T10:12:15.721984",
     "status": "completed"
    },
    "tags": []
   },
   "outputs": [],
   "source": [
    "gt_mask = torch.from_numpy(np.asarray(FRAGMENTS_ZARR[TEST_FRAGMENT].truth)).float().cuda()\n",
    "gt_shape = FRAGMENTS_SHAPE[TEST_FRAGMENT]"
   ]
  },
  {
   "cell_type": "code",
   "execution_count": 20,
   "id": "c0b85bf1",
   "metadata": {
    "execution": {
     "iopub.execute_input": "2023-05-22T06:42:06.706569Z",
     "iopub.status.busy": "2023-05-22T06:42:06.706476Z",
     "iopub.status.idle": "2023-05-22T06:42:06.708618Z",
     "shell.execute_reply": "2023-05-22T06:42:06.708438Z"
    }
   },
   "outputs": [],
   "source": [
    "import logging\n",
    "\n",
    "logging.basicConfig(filename=\"training_log.txt\", level=logging.INFO)\n"
   ]
  },
  {
   "cell_type": "code",
   "execution_count": 21,
   "id": "00067c9c",
   "metadata": {
    "execution": {
     "iopub.execute_input": "2023-05-22T06:42:06.709870Z",
     "iopub.status.busy": "2023-05-22T06:42:06.709767Z",
     "iopub.status.idle": "2023-05-22T07:17:50.005257Z",
     "shell.execute_reply": "2023-05-22T07:17:50.004887Z"
    },
    "papermill": {
     "duration": 4077.588277,
     "end_time": "2023-04-08T11:20:13.706513",
     "exception": false,
     "start_time": "2023-04-08T10:12:16.118236",
     "status": "completed"
    },
    "tags": []
   },
   "outputs": [
    {
     "name": "stderr",
     "output_type": "stream",
     "text": [
      "Epoch 1/50  Mem : 14GB  LR : 4.00E-06  Loss: 0.6960: 100%|██████████| 62/62 [00:36<00:00,  1.69it/s]                                                                                                                                                                                 \n",
      "Val Loss: 0.6080: 100%|██████████| 24/24 [00:06<00:00,  3.98it/s]                                                                                                                                                                                                                    \n"
     ]
    },
    {
     "name": "stdout",
     "output_type": "stream",
     "text": [
      "Threshold : 0.20\tFBeta : 0.175485\n",
      "Threshold : 0.25\tFBeta : 0.209685\n",
      "Threshold : 0.30\tFBeta : 0.222789\n",
      "Threshold : 0.35\tFBeta : 0.230315\n",
      "Threshold : 0.40\tFBeta : 0.238874\n",
      "Threshold : 0.45\tFBeta : 0.256248\n",
      "Threshold : 0.50\tFBeta : 0.284678\n",
      "Threshold : 0.55\tFBeta : 0.304024\n",
      "Threshold : 0.60\tFBeta : 0.255992\n",
      "Threshold : 0.65\tFBeta : 0.095058\n",
      "Threshold : 0.70\tFBeta : 0.007477\n",
      "Threshold : 0.75\tFBeta : 0.000000\n",
      "Threshold : 0.80\tFBeta : 0.000000\n",
      "\n"
     ]
    },
    {
     "name": "stderr",
     "output_type": "stream",
     "text": [
      "Epoch 2/50  Mem : 18.5GB  LR : 1.81E-05  Loss: 0.6525: 100%|██████████| 62/62 [00:36<00:00,  1.71it/s]                                                                                                                                                                               \n",
      "Val Loss: 0.6202: 100%|██████████| 24/24 [00:05<00:00,  4.01it/s]                                                                                                                                                                                                                    "
     ]
    },
    {
     "name": "stdout",
     "output_type": "stream",
     "text": [
      "Threshold : 0.20\tFBeta : 0.166052\n",
      "Threshold : 0.25\tFBeta : 0.192965\n",
      "Threshold : 0.30\tFBeta : 0.215997\n",
      "Threshold : 0.35\tFBeta : 0.238361\n",
      "Threshold : 0.40\tFBeta : 0.244246\n",
      "Threshold : 0.45\tFBeta : 0.252718\n",
      "Threshold : 0.50\tFBeta : 0.265253\n",
      "Threshold : 0.55\tFBeta : 0.282184\n",
      "Threshold : 0.60\tFBeta : 0.289336\n",
      "Threshold : 0.65\tFBeta : 0.265212\n",
      "Threshold : 0.70\tFBeta : 0.190549\n",
      "Threshold : 0.75\tFBeta : 0.078216\n",
      "Threshold : 0.80\tFBeta : 0.015088\n",
      "\n"
     ]
    },
    {
     "name": "stderr",
     "output_type": "stream",
     "text": [
      "\n",
      "Epoch 3/50  Mem : 18.5GB  LR : 5.20E-05  Loss: 0.6214: 100%|██████████| 62/62 [00:36<00:00,  1.71it/s]                                                                                                                                                                               \n",
      "Val Loss: 0.5549: 100%|██████████| 24/24 [00:05<00:00,  4.04it/s]                                                                                                                                                                                                                    \n"
     ]
    },
    {
     "name": "stdout",
     "output_type": "stream",
     "text": [
      "Threshold : 0.20\tFBeta : 0.196957\n",
      "Threshold : 0.25\tFBeta : 0.229623\n",
      "Threshold : 0.30\tFBeta : 0.262862\n",
      "Threshold : 0.35\tFBeta : 0.289844\n",
      "Threshold : 0.40\tFBeta : 0.314283\n",
      "Threshold : 0.45\tFBeta : 0.343646\n",
      "Threshold : 0.50\tFBeta : 0.368804\n",
      "Threshold : 0.55\tFBeta : 0.366027\n",
      "Threshold : 0.60\tFBeta : 0.347328\n",
      "Threshold : 0.65\tFBeta : 0.316066\n",
      "Threshold : 0.70\tFBeta : 0.271649\n",
      "Threshold : 0.75\tFBeta : 0.206594\n",
      "Threshold : 0.80\tFBeta : 0.118531\n",
      "\n"
     ]
    },
    {
     "name": "stderr",
     "output_type": "stream",
     "text": [
      "Epoch 4/50  Mem : 18.5GB  LR : 8.59E-05  Loss: 0.5821: 100%|██████████| 62/62 [00:36<00:00,  1.69it/s]                                                                                                                                                                               \n",
      "Val Loss: 0.5410: 100%|██████████| 24/24 [00:05<00:00,  4.06it/s]                                                                                                                                                                                                                    \n"
     ]
    },
    {
     "name": "stdout",
     "output_type": "stream",
     "text": [
      "Threshold : 0.20\tFBeta : 0.314095\n",
      "Threshold : 0.25\tFBeta : 0.340899\n",
      "Threshold : 0.30\tFBeta : 0.362594\n",
      "Threshold : 0.35\tFBeta : 0.383633\n",
      "Threshold : 0.40\tFBeta : 0.411169\n",
      "Threshold : 0.45\tFBeta : 0.404556\n",
      "Threshold : 0.50\tFBeta : 0.384223\n",
      "Threshold : 0.55\tFBeta : 0.356850\n",
      "Threshold : 0.60\tFBeta : 0.320971\n",
      "Threshold : 0.65\tFBeta : 0.272948\n",
      "Threshold : 0.70\tFBeta : 0.218502\n",
      "Threshold : 0.75\tFBeta : 0.161885\n",
      "Threshold : 0.80\tFBeta : 0.113814\n",
      "\n"
     ]
    },
    {
     "name": "stderr",
     "output_type": "stream",
     "text": [
      "Epoch 5/50  Mem : 18.5GB  LR : 1.00E-04  Loss: 0.5602: 100%|██████████| 62/62 [00:36<00:00,  1.71it/s]                                                                                                                                                                               \n",
      "Val Loss: 0.6580: 100%|██████████| 24/24 [00:05<00:00,  4.06it/s]                                                                                                                                                                                                                    "
     ]
    },
    {
     "name": "stdout",
     "output_type": "stream",
     "text": [
      "Threshold : 0.20\tFBeta : 0.245741\n",
      "Threshold : 0.25\tFBeta : 0.251519\n",
      "Threshold : 0.30\tFBeta : 0.257115\n",
      "Threshold : 0.35\tFBeta : 0.263840\n",
      "Threshold : 0.40\tFBeta : 0.270985\n",
      "Threshold : 0.45\tFBeta : 0.279066\n",
      "Threshold : 0.50\tFBeta : 0.287828\n",
      "Threshold : 0.55\tFBeta : 0.297321\n",
      "Threshold : 0.60\tFBeta : 0.307985\n",
      "Threshold : 0.65\tFBeta : 0.319963\n",
      "Threshold : 0.70\tFBeta : 0.333881\n",
      "Threshold : 0.75\tFBeta : 0.348742\n",
      "Threshold : 0.80\tFBeta : 0.364688\n",
      "\n"
     ]
    },
    {
     "name": "stderr",
     "output_type": "stream",
     "text": [
      "\n",
      "Epoch 6/50  Mem : 18.5GB  LR : 9.99E-05  Loss: 0.5193: 100%|██████████| 62/62 [00:36<00:00,  1.69it/s]                                                                                                                                                                               \n",
      "Val Loss: 0.5191: 100%|██████████| 24/24 [00:06<00:00,  3.75it/s]                                                                                                                                                                                                                    "
     ]
    },
    {
     "name": "stdout",
     "output_type": "stream",
     "text": [
      "Threshold : 0.20\tFBeta : 0.374574\n",
      "Threshold : 0.25\tFBeta : 0.386590\n",
      "Threshold : 0.30\tFBeta : 0.386443\n",
      "Threshold : 0.35\tFBeta : 0.374895\n",
      "Threshold : 0.40\tFBeta : 0.361442\n",
      "Threshold : 0.45\tFBeta : 0.341296\n",
      "Threshold : 0.50\tFBeta : 0.315660\n",
      "Threshold : 0.55\tFBeta : 0.288363\n",
      "Threshold : 0.60\tFBeta : 0.262271\n",
      "Threshold : 0.65\tFBeta : 0.233290\n",
      "Threshold : 0.70\tFBeta : 0.198522\n",
      "Threshold : 0.75\tFBeta : 0.164621\n",
      "Threshold : 0.80\tFBeta : 0.126186\n",
      "\n"
     ]
    },
    {
     "name": "stderr",
     "output_type": "stream",
     "text": [
      "\n",
      "Epoch 7/50  Mem : 18.5GB  LR : 9.95E-05  Loss: 0.5025: 100%|██████████| 62/62 [00:37<00:00,  1.67it/s]                                                                                                                                                                               \n",
      "Val Loss: 0.6093: 100%|██████████| 24/24 [00:05<00:00,  4.02it/s]                                                                                                                                                                                                                    "
     ]
    },
    {
     "name": "stdout",
     "output_type": "stream",
     "text": [
      "Threshold : 0.20\tFBeta : 0.009084\n",
      "Threshold : 0.25\tFBeta : 0.006659\n",
      "Threshold : 0.30\tFBeta : 0.005706\n",
      "Threshold : 0.35\tFBeta : 0.004141\n",
      "Threshold : 0.40\tFBeta : 0.001724\n",
      "Threshold : 0.45\tFBeta : 0.000466\n",
      "Threshold : 0.50\tFBeta : 0.000060\n",
      "Threshold : 0.55\tFBeta : 0.000000\n",
      "Threshold : 0.60\tFBeta : 0.000000\n",
      "Threshold : 0.65\tFBeta : 0.000000\n",
      "Threshold : 0.70\tFBeta : 0.000000\n",
      "Threshold : 0.75\tFBeta : 0.000000\n",
      "Threshold : 0.80\tFBeta : 0.000000\n",
      "\n"
     ]
    },
    {
     "name": "stderr",
     "output_type": "stream",
     "text": [
      "\n",
      "Epoch 8/50  Mem : 18.5GB  LR : 9.89E-05  Loss: 0.5009: 100%|██████████| 62/62 [00:36<00:00,  1.69it/s]                                                                                                                                                                               \n",
      "Val Loss: 0.4854: 100%|██████████| 24/24 [00:06<00:00,  3.95it/s]                                                                                                                                                                                                                    \n"
     ]
    },
    {
     "name": "stdout",
     "output_type": "stream",
     "text": [
      "Threshold : 0.20\tFBeta : 0.371629\n",
      "Threshold : 0.25\tFBeta : 0.389736\n",
      "Threshold : 0.30\tFBeta : 0.399840\n",
      "Threshold : 0.35\tFBeta : 0.406627\n",
      "Threshold : 0.40\tFBeta : 0.408965\n",
      "Threshold : 0.45\tFBeta : 0.409712\n",
      "Threshold : 0.50\tFBeta : 0.417412\n",
      "Threshold : 0.55\tFBeta : 0.412016\n",
      "Threshold : 0.60\tFBeta : 0.401544\n",
      "Threshold : 0.65\tFBeta : 0.388782\n",
      "Threshold : 0.70\tFBeta : 0.371579\n",
      "Threshold : 0.75\tFBeta : 0.347941\n",
      "Threshold : 0.80\tFBeta : 0.317451\n",
      "\n"
     ]
    },
    {
     "name": "stderr",
     "output_type": "stream",
     "text": [
      "Epoch 9/50  Mem : 18.5GB  LR : 9.81E-05  Loss: 0.4788: 100%|██████████| 62/62 [00:37<00:00,  1.67it/s]                                                                                                                                                                               \n",
      "Val Loss: 0.5107: 100%|██████████| 24/24 [00:05<00:00,  4.04it/s]                                                                                                                                                                                                                    \n"
     ]
    },
    {
     "name": "stdout",
     "output_type": "stream",
     "text": [
      "Threshold : 0.20\tFBeta : 0.416303\n",
      "Threshold : 0.25\tFBeta : 0.423194\n",
      "Threshold : 0.30\tFBeta : 0.426561\n",
      "Threshold : 0.35\tFBeta : 0.426359\n",
      "Threshold : 0.40\tFBeta : 0.424973\n",
      "Threshold : 0.45\tFBeta : 0.416803\n",
      "Threshold : 0.50\tFBeta : 0.400327\n",
      "Threshold : 0.55\tFBeta : 0.381409\n",
      "Threshold : 0.60\tFBeta : 0.359232\n",
      "Threshold : 0.65\tFBeta : 0.332055\n",
      "Threshold : 0.70\tFBeta : 0.303581\n",
      "Threshold : 0.75\tFBeta : 0.271099\n",
      "Threshold : 0.80\tFBeta : 0.234779\n",
      "\n"
     ]
    },
    {
     "name": "stderr",
     "output_type": "stream",
     "text": [
      "Epoch 10/50  Mem : 18.5GB  LR : 9.70E-05  Loss: 0.4650: 100%|██████████| 62/62 [00:35<00:00,  1.73it/s]                                                                                                                                                                              \n",
      "Val Loss: 0.5178: 100%|██████████| 24/24 [00:06<00:00,  3.99it/s]                                                                                                                                                                                                                    \n"
     ]
    },
    {
     "name": "stdout",
     "output_type": "stream",
     "text": [
      "Threshold : 0.20\tFBeta : 0.499767\n",
      "Threshold : 0.25\tFBeta : 0.493164\n",
      "Threshold : 0.30\tFBeta : 0.478595\n",
      "Threshold : 0.35\tFBeta : 0.456367\n",
      "Threshold : 0.40\tFBeta : 0.428143\n",
      "Threshold : 0.45\tFBeta : 0.390927\n",
      "Threshold : 0.50\tFBeta : 0.320100\n",
      "Threshold : 0.55\tFBeta : 0.278843\n",
      "Threshold : 0.60\tFBeta : 0.243161\n",
      "Threshold : 0.65\tFBeta : 0.208407\n",
      "Threshold : 0.70\tFBeta : 0.173526\n",
      "Threshold : 0.75\tFBeta : 0.137813\n",
      "Threshold : 0.80\tFBeta : 0.105371\n",
      "\n"
     ]
    },
    {
     "name": "stderr",
     "output_type": "stream",
     "text": [
      "Epoch 11/50  Mem : 18.5GB  LR : 9.57E-05  Loss: 0.4571: 100%|██████████| 62/62 [00:36<00:00,  1.70it/s]                                                                                                                                                                              \n",
      "Val Loss: 0.4863: 100%|██████████| 24/24 [00:05<00:00,  4.03it/s]                                                                                                                                                                                                                    \n"
     ]
    },
    {
     "name": "stdout",
     "output_type": "stream",
     "text": [
      "Threshold : 0.20\tFBeta : 0.437964\n",
      "Threshold : 0.25\tFBeta : 0.445986\n",
      "Threshold : 0.30\tFBeta : 0.451133\n",
      "Threshold : 0.35\tFBeta : 0.453521\n",
      "Threshold : 0.40\tFBeta : 0.453693\n",
      "Threshold : 0.45\tFBeta : 0.449813\n",
      "Threshold : 0.50\tFBeta : 0.443840\n",
      "Threshold : 0.55\tFBeta : 0.435401\n",
      "Threshold : 0.60\tFBeta : 0.420257\n",
      "Threshold : 0.65\tFBeta : 0.398955\n",
      "Threshold : 0.70\tFBeta : 0.374920\n",
      "Threshold : 0.75\tFBeta : 0.342940\n",
      "Threshold : 0.80\tFBeta : 0.299243\n",
      "\n"
     ]
    },
    {
     "name": "stderr",
     "output_type": "stream",
     "text": [
      "Epoch 12/50  Mem : 18.5GB  LR : 9.41E-05  Loss: 0.4609: 100%|██████████| 62/62 [00:36<00:00,  1.69it/s]                                                                                                                                                                              \n",
      "Val Loss: 0.5318: 100%|██████████| 24/24 [00:05<00:00,  4.06it/s]                                                                                                                                                                                                                    \n"
     ]
    },
    {
     "name": "stdout",
     "output_type": "stream",
     "text": [
      "Threshold : 0.20\tFBeta : 0.299083\n",
      "Threshold : 0.25\tFBeta : 0.307749\n",
      "Threshold : 0.30\tFBeta : 0.315570\n",
      "Threshold : 0.35\tFBeta : 0.322913\n",
      "Threshold : 0.40\tFBeta : 0.330009\n",
      "Threshold : 0.45\tFBeta : 0.337516\n",
      "Threshold : 0.50\tFBeta : 0.346652\n",
      "Threshold : 0.55\tFBeta : 0.357605\n",
      "Threshold : 0.60\tFBeta : 0.368285\n",
      "Threshold : 0.65\tFBeta : 0.378739\n",
      "Threshold : 0.70\tFBeta : 0.390115\n",
      "Threshold : 0.75\tFBeta : 0.403284\n",
      "Threshold : 0.80\tFBeta : 0.418081\n",
      "\n"
     ]
    },
    {
     "name": "stderr",
     "output_type": "stream",
     "text": [
      "Epoch 13/50  Mem : 18.5GB  LR : 9.24E-05  Loss: 0.4505: 100%|██████████| 62/62 [00:36<00:00,  1.71it/s]                                                                                                                                                                              \n",
      "Val Loss: 0.4671: 100%|██████████| 24/24 [00:05<00:00,  4.07it/s]                                                                                                                                                                                                                    \n"
     ]
    },
    {
     "name": "stdout",
     "output_type": "stream",
     "text": [
      "Threshold : 0.20\tFBeta : 0.393223\n",
      "Threshold : 0.25\tFBeta : 0.406204\n",
      "Threshold : 0.30\tFBeta : 0.417157\n",
      "Threshold : 0.35\tFBeta : 0.425995\n",
      "Threshold : 0.40\tFBeta : 0.433364\n",
      "Threshold : 0.45\tFBeta : 0.442834\n",
      "Threshold : 0.50\tFBeta : 0.451374\n",
      "Threshold : 0.55\tFBeta : 0.458100\n",
      "Threshold : 0.60\tFBeta : 0.463769\n",
      "Threshold : 0.65\tFBeta : 0.467689\n",
      "Threshold : 0.70\tFBeta : 0.465612\n",
      "Threshold : 0.75\tFBeta : 0.458199\n",
      "Threshold : 0.80\tFBeta : 0.438093\n",
      "\n"
     ]
    },
    {
     "name": "stderr",
     "output_type": "stream",
     "text": [
      "Epoch 14/50  Mem : 18.5GB  LR : 9.05E-05  Loss: 0.4348: 100%|██████████| 62/62 [00:36<00:00,  1.72it/s]                                                                                                                                                                              \n",
      "Val Loss: 0.5631: 100%|██████████| 24/24 [00:05<00:00,  4.01it/s]                                                                                                                                                                                                                    \n"
     ]
    },
    {
     "name": "stdout",
     "output_type": "stream",
     "text": [
      "Threshold : 0.20\tFBeta : 0.373956\n",
      "Threshold : 0.25\tFBeta : 0.348298\n",
      "Threshold : 0.30\tFBeta : 0.322623\n",
      "Threshold : 0.35\tFBeta : 0.298238\n",
      "Threshold : 0.40\tFBeta : 0.273857\n",
      "Threshold : 0.45\tFBeta : 0.248172\n",
      "Threshold : 0.50\tFBeta : 0.218533\n",
      "Threshold : 0.55\tFBeta : 0.192869\n",
      "Threshold : 0.60\tFBeta : 0.168666\n",
      "Threshold : 0.65\tFBeta : 0.143464\n",
      "Threshold : 0.70\tFBeta : 0.119160\n",
      "Threshold : 0.75\tFBeta : 0.098001\n",
      "Threshold : 0.80\tFBeta : 0.077921\n",
      "\n"
     ]
    },
    {
     "name": "stderr",
     "output_type": "stream",
     "text": [
      "Epoch 15/50  Mem : 18.5GB  LR : 8.83E-05  Loss: 0.4288: 100%|██████████| 62/62 [00:36<00:00,  1.69it/s]                                                                                                                                                                              \n",
      "Val Loss: 0.5682: 100%|██████████| 24/24 [00:06<00:00,  3.97it/s]                                                                                                                                                                                                                    \n"
     ]
    },
    {
     "name": "stdout",
     "output_type": "stream",
     "text": [
      "Threshold : 0.20\tFBeta : 0.324751\n",
      "Threshold : 0.25\tFBeta : 0.332701\n",
      "Threshold : 0.30\tFBeta : 0.339934\n",
      "Threshold : 0.35\tFBeta : 0.346094\n",
      "Threshold : 0.40\tFBeta : 0.350968\n",
      "Threshold : 0.45\tFBeta : 0.355505\n",
      "Threshold : 0.50\tFBeta : 0.359493\n",
      "Threshold : 0.55\tFBeta : 0.363710\n",
      "Threshold : 0.60\tFBeta : 0.368486\n",
      "Threshold : 0.65\tFBeta : 0.373725\n",
      "Threshold : 0.70\tFBeta : 0.378918\n",
      "Threshold : 0.75\tFBeta : 0.384815\n",
      "Threshold : 0.80\tFBeta : 0.392141\n",
      "\n"
     ]
    },
    {
     "name": "stderr",
     "output_type": "stream",
     "text": [
      "Epoch 16/50  Mem : 18.5GB  LR : 8.60E-05  Loss: 0.4258: 100%|██████████| 62/62 [00:36<00:00,  1.70it/s]                                                                                                                                                                              \n",
      "Val Loss: 0.4574: 100%|██████████| 24/24 [00:05<00:00,  4.03it/s]                                                                                                                                                                                                                    \n"
     ]
    },
    {
     "name": "stdout",
     "output_type": "stream",
     "text": [
      "Threshold : 0.20\tFBeta : 0.437182\n",
      "Threshold : 0.25\tFBeta : 0.446466\n",
      "Threshold : 0.30\tFBeta : 0.452941\n",
      "Threshold : 0.35\tFBeta : 0.457492\n",
      "Threshold : 0.40\tFBeta : 0.461214\n",
      "Threshold : 0.45\tFBeta : 0.464128\n",
      "Threshold : 0.50\tFBeta : 0.461856\n",
      "Threshold : 0.55\tFBeta : 0.454934\n",
      "Threshold : 0.60\tFBeta : 0.446518\n",
      "Threshold : 0.65\tFBeta : 0.438343\n",
      "Threshold : 0.70\tFBeta : 0.422783\n",
      "Threshold : 0.75\tFBeta : 0.396899\n",
      "Threshold : 0.80\tFBeta : 0.361864\n",
      "\n"
     ]
    },
    {
     "name": "stderr",
     "output_type": "stream",
     "text": [
      "Epoch 17/50  Mem : 18.5GB  LR : 8.35E-05  Loss: 0.4088: 100%|██████████| 62/62 [00:36<00:00,  1.68it/s]                                                                                                                                                                              \n",
      "Val Loss: 0.4342: 100%|██████████| 24/24 [00:05<00:00,  4.05it/s]                                                                                                                                                                                                                    \n"
     ]
    },
    {
     "name": "stdout",
     "output_type": "stream",
     "text": [
      "Threshold : 0.20\tFBeta : 0.444815\n",
      "Threshold : 0.25\tFBeta : 0.453371\n",
      "Threshold : 0.30\tFBeta : 0.459566\n",
      "Threshold : 0.35\tFBeta : 0.464095\n",
      "Threshold : 0.40\tFBeta : 0.468419\n",
      "Threshold : 0.45\tFBeta : 0.473278\n",
      "Threshold : 0.50\tFBeta : 0.477471\n",
      "Threshold : 0.55\tFBeta : 0.481333\n",
      "Threshold : 0.60\tFBeta : 0.485498\n",
      "Threshold : 0.65\tFBeta : 0.488849\n",
      "Threshold : 0.70\tFBeta : 0.491420\n",
      "Threshold : 0.75\tFBeta : 0.490402\n",
      "Threshold : 0.80\tFBeta : 0.486711\n",
      "\n"
     ]
    },
    {
     "name": "stderr",
     "output_type": "stream",
     "text": [
      "Epoch 18/50  Mem : 18.5GB  LR : 8.08E-05  Loss: 0.4177: 100%|██████████| 62/62 [00:36<00:00,  1.70it/s]                                                                                                                                                                              \n",
      "Val Loss: 0.4931: 100%|██████████| 24/24 [00:05<00:00,  4.07it/s]                                                                                                                                                                                                                    \n"
     ]
    },
    {
     "name": "stdout",
     "output_type": "stream",
     "text": [
      "Threshold : 0.20\tFBeta : 0.353968\n",
      "Threshold : 0.25\tFBeta : 0.362449\n",
      "Threshold : 0.30\tFBeta : 0.369385\n",
      "Threshold : 0.35\tFBeta : 0.374992\n",
      "Threshold : 0.40\tFBeta : 0.380769\n",
      "Threshold : 0.45\tFBeta : 0.386356\n",
      "Threshold : 0.50\tFBeta : 0.390960\n",
      "Threshold : 0.55\tFBeta : 0.394977\n",
      "Threshold : 0.60\tFBeta : 0.398382\n",
      "Threshold : 0.65\tFBeta : 0.401665\n",
      "Threshold : 0.70\tFBeta : 0.405304\n",
      "Threshold : 0.75\tFBeta : 0.408574\n",
      "Threshold : 0.80\tFBeta : 0.411213\n",
      "\n"
     ]
    },
    {
     "name": "stderr",
     "output_type": "stream",
     "text": [
      "Epoch 19/50  Mem : 18.5GB  LR : 7.80E-05  Loss: 0.3914: 100%|██████████| 62/62 [00:36<00:00,  1.69it/s]                                                                                                                                                                              \n",
      "Val Loss: 0.5317: 100%|██████████| 24/24 [00:05<00:00,  4.06it/s]                                                                                                                                                                                                                    \n"
     ]
    },
    {
     "name": "stdout",
     "output_type": "stream",
     "text": [
      "Threshold : 0.20\tFBeta : 0.461311\n",
      "Threshold : 0.25\tFBeta : 0.453061\n",
      "Threshold : 0.30\tFBeta : 0.441420\n",
      "Threshold : 0.35\tFBeta : 0.430624\n",
      "Threshold : 0.40\tFBeta : 0.419241\n",
      "Threshold : 0.45\tFBeta : 0.405767\n",
      "Threshold : 0.50\tFBeta : 0.393034\n",
      "Threshold : 0.55\tFBeta : 0.379518\n",
      "Threshold : 0.60\tFBeta : 0.364013\n",
      "Threshold : 0.65\tFBeta : 0.347260\n",
      "Threshold : 0.70\tFBeta : 0.331509\n",
      "Threshold : 0.75\tFBeta : 0.313564\n",
      "Threshold : 0.80\tFBeta : 0.288447\n",
      "\n"
     ]
    },
    {
     "name": "stderr",
     "output_type": "stream",
     "text": [
      "Epoch 20/50  Mem : 18.5GB  LR : 7.50E-05  Loss: 0.3997: 100%|██████████| 62/62 [00:36<00:00,  1.69it/s]                                                                                                                                                                              \n",
      "Val Loss: 0.5289: 100%|██████████| 24/24 [00:06<00:00,  4.00it/s]                                                                                                                                                                                                                    \n"
     ]
    },
    {
     "name": "stdout",
     "output_type": "stream",
     "text": [
      "Threshold : 0.20\tFBeta : 0.306092\n",
      "Threshold : 0.25\tFBeta : 0.313907\n",
      "Threshold : 0.30\tFBeta : 0.321161\n",
      "Threshold : 0.35\tFBeta : 0.326789\n",
      "Threshold : 0.40\tFBeta : 0.332258\n",
      "Threshold : 0.45\tFBeta : 0.338194\n",
      "Threshold : 0.50\tFBeta : 0.343331\n",
      "Threshold : 0.55\tFBeta : 0.348402\n",
      "Threshold : 0.60\tFBeta : 0.353234\n",
      "Threshold : 0.65\tFBeta : 0.358260\n",
      "Threshold : 0.70\tFBeta : 0.363181\n",
      "Threshold : 0.75\tFBeta : 0.367579\n",
      "Threshold : 0.80\tFBeta : 0.371839\n",
      "\n"
     ]
    },
    {
     "name": "stderr",
     "output_type": "stream",
     "text": [
      "Epoch 21/50  Mem : 18.5GB  LR : 7.19E-05  Loss: 0.3947: 100%|██████████| 62/62 [00:36<00:00,  1.69it/s]                                                                                                                                                                              \n",
      "Val Loss: 0.4638: 100%|██████████| 24/24 [00:05<00:00,  4.02it/s]                                                                                                                                                                                                                    \n"
     ]
    },
    {
     "name": "stdout",
     "output_type": "stream",
     "text": [
      "Threshold : 0.20\tFBeta : 0.376151\n",
      "Threshold : 0.25\tFBeta : 0.385550\n",
      "Threshold : 0.30\tFBeta : 0.392534\n",
      "Threshold : 0.35\tFBeta : 0.397838\n",
      "Threshold : 0.40\tFBeta : 0.402256\n",
      "Threshold : 0.45\tFBeta : 0.405562\n",
      "Threshold : 0.50\tFBeta : 0.408835\n",
      "Threshold : 0.55\tFBeta : 0.411902\n",
      "Threshold : 0.60\tFBeta : 0.413574\n",
      "Threshold : 0.65\tFBeta : 0.414298\n",
      "Threshold : 0.70\tFBeta : 0.416321\n",
      "Threshold : 0.75\tFBeta : 0.417737\n",
      "Threshold : 0.80\tFBeta : 0.418824\n",
      "\n"
     ]
    },
    {
     "name": "stderr",
     "output_type": "stream",
     "text": [
      "Epoch 22/50  Mem : 18.5GB  LR : 6.87E-05  Loss: 0.3961: 100%|██████████| 62/62 [00:36<00:00,  1.68it/s]                                                                                                                                                                              \n",
      "Val Loss: 0.7039: 100%|██████████| 24/24 [00:05<00:00,  4.06it/s]                                                                                                                                                                                                                    \n"
     ]
    },
    {
     "name": "stdout",
     "output_type": "stream",
     "text": [
      "Threshold : 0.20\tFBeta : 0.267531\n",
      "Threshold : 0.25\tFBeta : 0.272298\n",
      "Threshold : 0.30\tFBeta : 0.276725\n",
      "Threshold : 0.35\tFBeta : 0.280952\n",
      "Threshold : 0.40\tFBeta : 0.284734\n",
      "Threshold : 0.45\tFBeta : 0.288472\n",
      "Threshold : 0.50\tFBeta : 0.292105\n",
      "Threshold : 0.55\tFBeta : 0.296056\n",
      "Threshold : 0.60\tFBeta : 0.300785\n",
      "Threshold : 0.65\tFBeta : 0.306255\n",
      "Threshold : 0.70\tFBeta : 0.312951\n",
      "Threshold : 0.75\tFBeta : 0.321767\n",
      "Threshold : 0.80\tFBeta : 0.333245\n",
      "\n"
     ]
    },
    {
     "name": "stderr",
     "output_type": "stream",
     "text": [
      "Epoch 23/50  Mem : 18.5GB  LR : 6.55E-05  Loss: 0.3745: 100%|██████████| 62/62 [00:36<00:00,  1.69it/s]                                                                                                                                                                              \n",
      "Val Loss: 0.5362: 100%|██████████| 24/24 [00:06<00:00,  3.98it/s]                                                                                                                                                                                                                    \n"
     ]
    },
    {
     "name": "stdout",
     "output_type": "stream",
     "text": [
      "Threshold : 0.20\tFBeta : 0.329289\n",
      "Threshold : 0.25\tFBeta : 0.334857\n",
      "Threshold : 0.30\tFBeta : 0.339225\n",
      "Threshold : 0.35\tFBeta : 0.343012\n",
      "Threshold : 0.40\tFBeta : 0.346274\n",
      "Threshold : 0.45\tFBeta : 0.349274\n",
      "Threshold : 0.50\tFBeta : 0.352227\n",
      "Threshold : 0.55\tFBeta : 0.355733\n",
      "Threshold : 0.60\tFBeta : 0.359853\n",
      "Threshold : 0.65\tFBeta : 0.364807\n",
      "Threshold : 0.70\tFBeta : 0.370052\n",
      "Threshold : 0.75\tFBeta : 0.375332\n",
      "Threshold : 0.80\tFBeta : 0.380572\n",
      "\n"
     ]
    },
    {
     "name": "stderr",
     "output_type": "stream",
     "text": [
      "Epoch 24/50  Mem : 18.5GB  LR : 6.21E-05  Loss: 0.3864: 100%|██████████| 62/62 [00:36<00:00,  1.70it/s]                                                                                                                                                                              \n",
      "Val Loss: 0.4419: 100%|██████████| 24/24 [00:05<00:00,  4.00it/s]                                                                                                                                                                                                                    \n"
     ]
    },
    {
     "name": "stdout",
     "output_type": "stream",
     "text": [
      "Threshold : 0.20\tFBeta : 0.434029\n",
      "Threshold : 0.25\tFBeta : 0.442528\n",
      "Threshold : 0.30\tFBeta : 0.449904\n",
      "Threshold : 0.35\tFBeta : 0.454428\n",
      "Threshold : 0.40\tFBeta : 0.457951\n",
      "Threshold : 0.45\tFBeta : 0.461544\n",
      "Threshold : 0.50\tFBeta : 0.465489\n",
      "Threshold : 0.55\tFBeta : 0.469799\n",
      "Threshold : 0.60\tFBeta : 0.474372\n",
      "Threshold : 0.65\tFBeta : 0.479130\n",
      "Threshold : 0.70\tFBeta : 0.483671\n",
      "Threshold : 0.75\tFBeta : 0.487757\n",
      "Threshold : 0.80\tFBeta : 0.491089\n",
      "\n"
     ]
    },
    {
     "name": "stderr",
     "output_type": "stream",
     "text": [
      "Epoch 25/50  Mem : 18.5GB  LR : 5.87E-05  Loss: 0.3730: 100%|██████████| 62/62 [00:36<00:00,  1.68it/s]                                                                                                                                                                              \n",
      "Val Loss: 0.4523: 100%|██████████| 24/24 [00:05<00:00,  4.00it/s]                                                                                                                                                                                                                    \n"
     ]
    },
    {
     "name": "stdout",
     "output_type": "stream",
     "text": [
      "Threshold : 0.20\tFBeta : 0.476279\n",
      "Threshold : 0.25\tFBeta : 0.483915\n",
      "Threshold : 0.30\tFBeta : 0.488945\n",
      "Threshold : 0.35\tFBeta : 0.492999\n",
      "Threshold : 0.40\tFBeta : 0.495436\n",
      "Threshold : 0.45\tFBeta : 0.496736\n",
      "Threshold : 0.50\tFBeta : 0.497873\n",
      "Threshold : 0.55\tFBeta : 0.497131\n",
      "Threshold : 0.60\tFBeta : 0.494703\n",
      "Threshold : 0.65\tFBeta : 0.492007\n",
      "Threshold : 0.70\tFBeta : 0.487861\n",
      "Threshold : 0.75\tFBeta : 0.479451\n",
      "Threshold : 0.80\tFBeta : 0.467364\n",
      "\n"
     ]
    },
    {
     "name": "stderr",
     "output_type": "stream",
     "text": [
      "Epoch 26/50  Mem : 18.5GB  LR : 5.52E-05  Loss: 0.3723: 100%|██████████| 62/62 [00:36<00:00,  1.70it/s]                                                                                                                                                                              \n",
      "Val Loss: 0.4369: 100%|██████████| 24/24 [00:05<00:00,  4.07it/s]                                                                                                                                                                                                                    \n"
     ]
    },
    {
     "name": "stdout",
     "output_type": "stream",
     "text": [
      "Threshold : 0.20\tFBeta : 0.398076\n",
      "Threshold : 0.25\tFBeta : 0.409642\n",
      "Threshold : 0.30\tFBeta : 0.419360\n",
      "Threshold : 0.35\tFBeta : 0.427137\n",
      "Threshold : 0.40\tFBeta : 0.433807\n",
      "Threshold : 0.45\tFBeta : 0.439966\n",
      "Threshold : 0.50\tFBeta : 0.445407\n",
      "Threshold : 0.55\tFBeta : 0.450973\n",
      "Threshold : 0.60\tFBeta : 0.458147\n",
      "Threshold : 0.65\tFBeta : 0.466179\n",
      "Threshold : 0.70\tFBeta : 0.474155\n",
      "Threshold : 0.75\tFBeta : 0.484975\n",
      "Threshold : 0.80\tFBeta : 0.496112\n",
      "\n"
     ]
    },
    {
     "name": "stderr",
     "output_type": "stream",
     "text": [
      "Epoch 27/50  Mem : 18.5GB  LR : 5.17E-05  Loss: 0.3670: 100%|██████████| 62/62 [00:36<00:00,  1.70it/s]                                                                                                                                                                              \n",
      "Val Loss: 0.4226: 100%|██████████| 24/24 [00:05<00:00,  4.03it/s]                                                                                                                                                                                                                    \n"
     ]
    },
    {
     "name": "stdout",
     "output_type": "stream",
     "text": [
      "Threshold : 0.20\tFBeta : 0.518512\n",
      "Threshold : 0.25\tFBeta : 0.527943\n",
      "Threshold : 0.30\tFBeta : 0.534909\n",
      "Threshold : 0.35\tFBeta : 0.540506\n",
      "Threshold : 0.40\tFBeta : 0.544695\n",
      "Threshold : 0.45\tFBeta : 0.548947\n",
      "Threshold : 0.50\tFBeta : 0.551487\n",
      "Threshold : 0.55\tFBeta : 0.552409\n",
      "Threshold : 0.60\tFBeta : 0.552568\n",
      "Threshold : 0.65\tFBeta : 0.551214\n",
      "Threshold : 0.70\tFBeta : 0.549391\n",
      "Threshold : 0.75\tFBeta : 0.542494\n",
      "Threshold : 0.80\tFBeta : 0.527004\n",
      "\n"
     ]
    },
    {
     "name": "stderr",
     "output_type": "stream",
     "text": [
      "Epoch 28/50  Mem : 18.5GB  LR : 4.83E-05  Loss: 0.3801: 100%|██████████| 62/62 [00:36<00:00,  1.70it/s]                                                                                                                                                                              \n",
      "Val Loss: 0.4302: 100%|██████████| 24/24 [00:05<00:00,  4.07it/s]                                                                                                                                                                                                                    \n"
     ]
    },
    {
     "name": "stdout",
     "output_type": "stream",
     "text": [
      "Threshold : 0.20\tFBeta : 0.421485\n",
      "Threshold : 0.25\tFBeta : 0.431355\n",
      "Threshold : 0.30\tFBeta : 0.440453\n",
      "Threshold : 0.35\tFBeta : 0.447648\n",
      "Threshold : 0.40\tFBeta : 0.453857\n",
      "Threshold : 0.45\tFBeta : 0.458678\n",
      "Threshold : 0.50\tFBeta : 0.462722\n",
      "Threshold : 0.55\tFBeta : 0.467265\n",
      "Threshold : 0.60\tFBeta : 0.472070\n",
      "Threshold : 0.65\tFBeta : 0.478003\n",
      "Threshold : 0.70\tFBeta : 0.484730\n",
      "Threshold : 0.75\tFBeta : 0.491154\n",
      "Threshold : 0.80\tFBeta : 0.497861\n",
      "\n"
     ]
    },
    {
     "name": "stderr",
     "output_type": "stream",
     "text": [
      "Epoch 29/50  Mem : 18.5GB  LR : 4.48E-05  Loss: 0.3563: 100%|██████████| 62/62 [00:36<00:00,  1.69it/s]                                                                                                                                                                              \n",
      "Val Loss: 0.4383: 100%|██████████| 24/24 [00:05<00:00,  4.02it/s]                                                                                                                                                                                                                    \n"
     ]
    },
    {
     "name": "stdout",
     "output_type": "stream",
     "text": [
      "Threshold : 0.20\tFBeta : 0.447481\n",
      "Threshold : 0.25\tFBeta : 0.453375\n",
      "Threshold : 0.30\tFBeta : 0.457876\n",
      "Threshold : 0.35\tFBeta : 0.461305\n",
      "Threshold : 0.40\tFBeta : 0.464519\n",
      "Threshold : 0.45\tFBeta : 0.467374\n",
      "Threshold : 0.50\tFBeta : 0.470219\n",
      "Threshold : 0.55\tFBeta : 0.474175\n",
      "Threshold : 0.60\tFBeta : 0.478086\n",
      "Threshold : 0.65\tFBeta : 0.481410\n",
      "Threshold : 0.70\tFBeta : 0.483783\n",
      "Threshold : 0.75\tFBeta : 0.483493\n",
      "Threshold : 0.80\tFBeta : 0.479511\n",
      "\n"
     ]
    },
    {
     "name": "stderr",
     "output_type": "stream",
     "text": [
      "Epoch 30/50  Mem : 18.5GB  LR : 4.13E-05  Loss: 0.3626: 100%|██████████| 62/62 [00:36<00:00,  1.68it/s]                                                                                                                                                                              \n",
      "Val Loss: 0.5628: 100%|██████████| 24/24 [00:05<00:00,  4.06it/s]                                                                                                                                                                                                                    \n"
     ]
    },
    {
     "name": "stdout",
     "output_type": "stream",
     "text": [
      "Threshold : 0.20\tFBeta : 0.321779\n",
      "Threshold : 0.25\tFBeta : 0.327638\n",
      "Threshold : 0.30\tFBeta : 0.333252\n",
      "Threshold : 0.35\tFBeta : 0.338863\n",
      "Threshold : 0.40\tFBeta : 0.344059\n",
      "Threshold : 0.45\tFBeta : 0.349029\n",
      "Threshold : 0.50\tFBeta : 0.353574\n",
      "Threshold : 0.55\tFBeta : 0.358438\n",
      "Threshold : 0.60\tFBeta : 0.363864\n",
      "Threshold : 0.65\tFBeta : 0.369906\n",
      "Threshold : 0.70\tFBeta : 0.377090\n",
      "Threshold : 0.75\tFBeta : 0.385820\n",
      "Threshold : 0.80\tFBeta : 0.397035\n",
      "\n"
     ]
    },
    {
     "name": "stderr",
     "output_type": "stream",
     "text": [
      "Epoch 31/50  Mem : 18.5GB  LR : 3.79E-05  Loss: 0.3510: 100%|██████████| 62/62 [00:36<00:00,  1.70it/s]                                                                                                                                                                              \n",
      "Val Loss: 0.4270: 100%|██████████| 24/24 [00:06<00:00,  4.00it/s]                                                                                                                                                                                                                    \n"
     ]
    },
    {
     "name": "stdout",
     "output_type": "stream",
     "text": [
      "Threshold : 0.20\tFBeta : 0.443857\n",
      "Threshold : 0.25\tFBeta : 0.451864\n",
      "Threshold : 0.30\tFBeta : 0.458827\n",
      "Threshold : 0.35\tFBeta : 0.464498\n",
      "Threshold : 0.40\tFBeta : 0.469353\n",
      "Threshold : 0.45\tFBeta : 0.473063\n",
      "Threshold : 0.50\tFBeta : 0.476343\n",
      "Threshold : 0.55\tFBeta : 0.479866\n",
      "Threshold : 0.60\tFBeta : 0.484260\n",
      "Threshold : 0.65\tFBeta : 0.489564\n",
      "Threshold : 0.70\tFBeta : 0.495081\n",
      "Threshold : 0.75\tFBeta : 0.499857\n",
      "Threshold : 0.80\tFBeta : 0.503324\n",
      "\n"
     ]
    },
    {
     "name": "stderr",
     "output_type": "stream",
     "text": [
      "Epoch 32/50  Mem : 18.5GB  LR : 3.45E-05  Loss: 0.3523: 100%|██████████| 62/62 [00:35<00:00,  1.72it/s]                                                                                                                                                                              \n",
      "Val Loss: 0.4253: 100%|██████████| 24/24 [00:05<00:00,  4.05it/s]                                                                                                                                                                                                                    \n"
     ]
    },
    {
     "name": "stdout",
     "output_type": "stream",
     "text": [
      "Threshold : 0.20\tFBeta : 0.452554\n",
      "Threshold : 0.25\tFBeta : 0.462227\n",
      "Threshold : 0.30\tFBeta : 0.469848\n",
      "Threshold : 0.35\tFBeta : 0.474903\n",
      "Threshold : 0.40\tFBeta : 0.479219\n",
      "Threshold : 0.45\tFBeta : 0.483246\n",
      "Threshold : 0.50\tFBeta : 0.486331\n",
      "Threshold : 0.55\tFBeta : 0.488761\n",
      "Threshold : 0.60\tFBeta : 0.491151\n",
      "Threshold : 0.65\tFBeta : 0.492446\n",
      "Threshold : 0.70\tFBeta : 0.492036\n",
      "Threshold : 0.75\tFBeta : 0.486808\n",
      "Threshold : 0.80\tFBeta : 0.478312\n",
      "\n"
     ]
    },
    {
     "name": "stderr",
     "output_type": "stream",
     "text": [
      "Epoch 33/50  Mem : 18.5GB  LR : 3.13E-05  Loss: 0.3495: 100%|██████████| 62/62 [00:36<00:00,  1.70it/s]                                                                                                                                                                              \n",
      "Val Loss: 0.4388: 100%|██████████| 24/24 [00:06<00:00,  3.96it/s]                                                                                                                                                                                                                    \n"
     ]
    },
    {
     "name": "stdout",
     "output_type": "stream",
     "text": [
      "Threshold : 0.20\tFBeta : 0.447463\n",
      "Threshold : 0.25\tFBeta : 0.454775\n",
      "Threshold : 0.30\tFBeta : 0.459303\n",
      "Threshold : 0.35\tFBeta : 0.462704\n",
      "Threshold : 0.40\tFBeta : 0.465182\n",
      "Threshold : 0.45\tFBeta : 0.467473\n",
      "Threshold : 0.50\tFBeta : 0.469165\n",
      "Threshold : 0.55\tFBeta : 0.471334\n",
      "Threshold : 0.60\tFBeta : 0.473719\n",
      "Threshold : 0.65\tFBeta : 0.475903\n",
      "Threshold : 0.70\tFBeta : 0.477767\n",
      "Threshold : 0.75\tFBeta : 0.478791\n",
      "Threshold : 0.80\tFBeta : 0.476959\n",
      "\n"
     ]
    },
    {
     "name": "stderr",
     "output_type": "stream",
     "text": [
      "Epoch 34/50  Mem : 18.5GB  LR : 2.81E-05  Loss: 0.3340: 100%|██████████| 62/62 [00:36<00:00,  1.69it/s]                                                                                                                                                                              \n",
      "Val Loss: 0.4509: 100%|██████████| 24/24 [00:05<00:00,  4.07it/s]                                                                                                                                                                                                                    \n"
     ]
    },
    {
     "name": "stdout",
     "output_type": "stream",
     "text": [
      "Threshold : 0.20\tFBeta : 0.480831\n",
      "Threshold : 0.25\tFBeta : 0.486666\n",
      "Threshold : 0.30\tFBeta : 0.491025\n",
      "Threshold : 0.35\tFBeta : 0.494442\n",
      "Threshold : 0.40\tFBeta : 0.496379\n",
      "Threshold : 0.45\tFBeta : 0.497185\n",
      "Threshold : 0.50\tFBeta : 0.497605\n",
      "Threshold : 0.55\tFBeta : 0.496991\n",
      "Threshold : 0.60\tFBeta : 0.495321\n",
      "Threshold : 0.65\tFBeta : 0.491662\n",
      "Threshold : 0.70\tFBeta : 0.485407\n",
      "Threshold : 0.75\tFBeta : 0.477611\n",
      "Threshold : 0.80\tFBeta : 0.464860\n",
      "\n"
     ]
    },
    {
     "name": "stderr",
     "output_type": "stream",
     "text": [
      "Epoch 35/50  Mem : 18.5GB  LR : 2.50E-05  Loss: 0.3520: 100%|██████████| 62/62 [00:36<00:00,  1.70it/s]                                                                                                                                                                              \n",
      "Val Loss: 0.4176: 100%|██████████| 24/24 [00:05<00:00,  4.07it/s]                                                                                                                                                                                                                    \n"
     ]
    },
    {
     "name": "stdout",
     "output_type": "stream",
     "text": [
      "Threshold : 0.20\tFBeta : 0.440033\n",
      "Threshold : 0.25\tFBeta : 0.447840\n",
      "Threshold : 0.30\tFBeta : 0.454677\n",
      "Threshold : 0.35\tFBeta : 0.460723\n",
      "Threshold : 0.40\tFBeta : 0.466293\n",
      "Threshold : 0.45\tFBeta : 0.471566\n",
      "Threshold : 0.50\tFBeta : 0.476624\n",
      "Threshold : 0.55\tFBeta : 0.481654\n",
      "Threshold : 0.60\tFBeta : 0.487097\n",
      "Threshold : 0.65\tFBeta : 0.492287\n",
      "Threshold : 0.70\tFBeta : 0.498094\n",
      "Threshold : 0.75\tFBeta : 0.504142\n",
      "Threshold : 0.80\tFBeta : 0.510214\n",
      "\n"
     ]
    },
    {
     "name": "stderr",
     "output_type": "stream",
     "text": [
      "Epoch 36/50  Mem : 18.5GB  LR : 2.20E-05  Loss: 0.3418: 100%|██████████| 62/62 [00:36<00:00,  1.69it/s]                                                                                                                                                                              \n",
      "Val Loss: 0.4551: 100%|██████████| 24/24 [00:05<00:00,  4.03it/s]                                                                                                                                                                                                                    \n"
     ]
    },
    {
     "name": "stdout",
     "output_type": "stream",
     "text": [
      "Threshold : 0.20\tFBeta : 0.473377\n",
      "Threshold : 0.25\tFBeta : 0.476325\n",
      "Threshold : 0.30\tFBeta : 0.478817\n",
      "Threshold : 0.35\tFBeta : 0.480526\n",
      "Threshold : 0.40\tFBeta : 0.481350\n",
      "Threshold : 0.45\tFBeta : 0.481384\n",
      "Threshold : 0.50\tFBeta : 0.481636\n",
      "Threshold : 0.55\tFBeta : 0.481443\n",
      "Threshold : 0.60\tFBeta : 0.480620\n",
      "Threshold : 0.65\tFBeta : 0.478770\n",
      "Threshold : 0.70\tFBeta : 0.475093\n",
      "Threshold : 0.75\tFBeta : 0.470813\n",
      "Threshold : 0.80\tFBeta : 0.463107\n",
      "\n"
     ]
    },
    {
     "name": "stderr",
     "output_type": "stream",
     "text": [
      "Epoch 37/50  Mem : 18.5GB  LR : 1.92E-05  Loss: 0.3318: 100%|██████████| 62/62 [00:36<00:00,  1.68it/s]                                                                                                                                                                              \n",
      "Val Loss: 0.4235: 100%|██████████| 24/24 [00:05<00:00,  4.05it/s]                                                                                                                                                                                                                    \n"
     ]
    },
    {
     "name": "stdout",
     "output_type": "stream",
     "text": [
      "Threshold : 0.20\tFBeta : 0.428586\n",
      "Threshold : 0.25\tFBeta : 0.437555\n",
      "Threshold : 0.30\tFBeta : 0.444976\n",
      "Threshold : 0.35\tFBeta : 0.451355\n",
      "Threshold : 0.40\tFBeta : 0.456549\n",
      "Threshold : 0.45\tFBeta : 0.460831\n",
      "Threshold : 0.50\tFBeta : 0.465106\n",
      "Threshold : 0.55\tFBeta : 0.469662\n",
      "Threshold : 0.60\tFBeta : 0.474781\n",
      "Threshold : 0.65\tFBeta : 0.480327\n",
      "Threshold : 0.70\tFBeta : 0.485637\n",
      "Threshold : 0.75\tFBeta : 0.490685\n",
      "Threshold : 0.80\tFBeta : 0.493873\n",
      "\n"
     ]
    },
    {
     "name": "stderr",
     "output_type": "stream",
     "text": [
      "Epoch 38/50  Mem : 18.5GB  LR : 1.65E-05  Loss: 0.3235: 100%|██████████| 62/62 [00:36<00:00,  1.71it/s]                                                                                                                                                                              \n",
      "Val Loss: 0.4365: 100%|██████████| 24/24 [00:05<00:00,  4.04it/s]                                                                                                                                                                                                                    \n"
     ]
    },
    {
     "name": "stdout",
     "output_type": "stream",
     "text": [
      "Threshold : 0.20\tFBeta : 0.419470\n",
      "Threshold : 0.25\tFBeta : 0.428405\n",
      "Threshold : 0.30\tFBeta : 0.435590\n",
      "Threshold : 0.35\tFBeta : 0.441460\n",
      "Threshold : 0.40\tFBeta : 0.446927\n",
      "Threshold : 0.45\tFBeta : 0.451686\n",
      "Threshold : 0.50\tFBeta : 0.455854\n",
      "Threshold : 0.55\tFBeta : 0.460044\n",
      "Threshold : 0.60\tFBeta : 0.464473\n",
      "Threshold : 0.65\tFBeta : 0.469124\n",
      "Threshold : 0.70\tFBeta : 0.473815\n",
      "Threshold : 0.75\tFBeta : 0.478523\n",
      "Threshold : 0.80\tFBeta : 0.481819\n",
      "\n"
     ]
    },
    {
     "name": "stderr",
     "output_type": "stream",
     "text": [
      "Epoch 39/50  Mem : 18.5GB  LR : 1.40E-05  Loss: 0.3295: 100%|██████████| 62/62 [00:36<00:00,  1.69it/s]                                                                                                                                                                              \n",
      "Val Loss: 0.4496: 100%|██████████| 24/24 [00:06<00:00,  4.00it/s]                                                                                                                                                                                                                    \n"
     ]
    },
    {
     "name": "stdout",
     "output_type": "stream",
     "text": [
      "Threshold : 0.20\tFBeta : 0.475439\n",
      "Threshold : 0.25\tFBeta : 0.481149\n",
      "Threshold : 0.30\tFBeta : 0.486429\n",
      "Threshold : 0.35\tFBeta : 0.490558\n",
      "Threshold : 0.40\tFBeta : 0.493066\n",
      "Threshold : 0.45\tFBeta : 0.493761\n",
      "Threshold : 0.50\tFBeta : 0.494482\n",
      "Threshold : 0.55\tFBeta : 0.495510\n",
      "Threshold : 0.60\tFBeta : 0.495147\n",
      "Threshold : 0.65\tFBeta : 0.492962\n",
      "Threshold : 0.70\tFBeta : 0.488808\n",
      "Threshold : 0.75\tFBeta : 0.481909\n",
      "Threshold : 0.80\tFBeta : 0.466165\n",
      "\n"
     ]
    },
    {
     "name": "stderr",
     "output_type": "stream",
     "text": [
      "Epoch 40/50  Mem : 18.5GB  LR : 1.17E-05  Loss: 0.3193: 100%|██████████| 62/62 [00:36<00:00,  1.70it/s]                                                                                                                                                                              \n",
      "Val Loss: 0.4338: 100%|██████████| 24/24 [00:05<00:00,  4.04it/s]                                                                                                                                                                                                                    \n"
     ]
    },
    {
     "name": "stdout",
     "output_type": "stream",
     "text": [
      "Threshold : 0.20\tFBeta : 0.458456\n",
      "Threshold : 0.25\tFBeta : 0.465441\n",
      "Threshold : 0.30\tFBeta : 0.470377\n",
      "Threshold : 0.35\tFBeta : 0.474537\n",
      "Threshold : 0.40\tFBeta : 0.477796\n",
      "Threshold : 0.45\tFBeta : 0.480665\n",
      "Threshold : 0.50\tFBeta : 0.483052\n",
      "Threshold : 0.55\tFBeta : 0.486094\n",
      "Threshold : 0.60\tFBeta : 0.488993\n",
      "Threshold : 0.65\tFBeta : 0.491536\n",
      "Threshold : 0.70\tFBeta : 0.493219\n",
      "Threshold : 0.75\tFBeta : 0.494469\n",
      "Threshold : 0.80\tFBeta : 0.492803\n",
      "\n"
     ]
    },
    {
     "name": "stderr",
     "output_type": "stream",
     "text": [
      "Epoch 41/50  Mem : 18.5GB  LR : 9.55E-06  Loss: 0.3180: 100%|██████████| 62/62 [00:36<00:00,  1.70it/s]                                                                                                                                                                              \n",
      "Val Loss: 0.4251: 100%|██████████| 24/24 [00:06<00:00,  3.99it/s]                                                                                                                                                                                                                    \n"
     ]
    },
    {
     "name": "stdout",
     "output_type": "stream",
     "text": [
      "Threshold : 0.20\tFBeta : 0.478319\n",
      "Threshold : 0.25\tFBeta : 0.486364\n",
      "Threshold : 0.30\tFBeta : 0.492249\n",
      "Threshold : 0.35\tFBeta : 0.497596\n",
      "Threshold : 0.40\tFBeta : 0.502043\n",
      "Threshold : 0.45\tFBeta : 0.505356\n",
      "Threshold : 0.50\tFBeta : 0.508356\n",
      "Threshold : 0.55\tFBeta : 0.510473\n",
      "Threshold : 0.60\tFBeta : 0.511796\n",
      "Threshold : 0.65\tFBeta : 0.512315\n",
      "Threshold : 0.70\tFBeta : 0.512792\n",
      "Threshold : 0.75\tFBeta : 0.511963\n",
      "Threshold : 0.80\tFBeta : 0.509516\n",
      "\n"
     ]
    },
    {
     "name": "stderr",
     "output_type": "stream",
     "text": [
      "Epoch 42/50  Mem : 18.5GB  LR : 7.60E-06  Loss: 0.3247: 100%|██████████| 62/62 [00:36<00:00,  1.68it/s]                                                                                                                                                                              \n",
      "Val Loss: 0.4235: 100%|██████████| 24/24 [00:06<00:00,  3.97it/s]                                                                                                                                                                                                                    \n"
     ]
    },
    {
     "name": "stdout",
     "output_type": "stream",
     "text": [
      "Threshold : 0.20\tFBeta : 0.468474\n",
      "Threshold : 0.25\tFBeta : 0.477534\n",
      "Threshold : 0.30\tFBeta : 0.484459\n",
      "Threshold : 0.35\tFBeta : 0.490286\n",
      "Threshold : 0.40\tFBeta : 0.494675\n",
      "Threshold : 0.45\tFBeta : 0.498468\n",
      "Threshold : 0.50\tFBeta : 0.501637\n",
      "Threshold : 0.55\tFBeta : 0.504681\n",
      "Threshold : 0.60\tFBeta : 0.506178\n",
      "Threshold : 0.65\tFBeta : 0.506533\n",
      "Threshold : 0.70\tFBeta : 0.507207\n",
      "Threshold : 0.75\tFBeta : 0.507604\n",
      "Threshold : 0.80\tFBeta : 0.507587\n",
      "\n"
     ]
    },
    {
     "name": "stderr",
     "output_type": "stream",
     "text": [
      "Epoch 43/50  Mem : 18.5GB  LR : 5.85E-06  Loss: 0.3269: 100%|██████████| 62/62 [00:36<00:00,  1.69it/s]                                                                                                                                                                              \n",
      "Val Loss: 0.4257: 100%|██████████| 24/24 [00:06<00:00,  3.96it/s]                                                                                                                                                                                                                    \n"
     ]
    },
    {
     "name": "stdout",
     "output_type": "stream",
     "text": [
      "Threshold : 0.20\tFBeta : 0.477166\n",
      "Threshold : 0.25\tFBeta : 0.485385\n",
      "Threshold : 0.30\tFBeta : 0.490388\n",
      "Threshold : 0.35\tFBeta : 0.494557\n",
      "Threshold : 0.40\tFBeta : 0.498679\n",
      "Threshold : 0.45\tFBeta : 0.501746\n",
      "Threshold : 0.50\tFBeta : 0.504236\n",
      "Threshold : 0.55\tFBeta : 0.505814\n",
      "Threshold : 0.60\tFBeta : 0.506139\n",
      "Threshold : 0.65\tFBeta : 0.506131\n",
      "Threshold : 0.70\tFBeta : 0.505248\n",
      "Threshold : 0.75\tFBeta : 0.503035\n",
      "Threshold : 0.80\tFBeta : 0.500414\n",
      "\n"
     ]
    },
    {
     "name": "stderr",
     "output_type": "stream",
     "text": [
      "Epoch 44/50  Mem : 18.5GB  LR : 4.32E-06  Loss: 0.3289: 100%|██████████| 62/62 [00:36<00:00,  1.70it/s]                                                                                                                                                                              \n",
      "Val Loss: 0.4333: 100%|██████████| 24/24 [00:05<00:00,  4.01it/s]                                                                                                                                                                                                                    \n"
     ]
    },
    {
     "name": "stdout",
     "output_type": "stream",
     "text": [
      "Threshold : 0.20\tFBeta : 0.467066\n",
      "Threshold : 0.25\tFBeta : 0.474480\n",
      "Threshold : 0.30\tFBeta : 0.478747\n",
      "Threshold : 0.35\tFBeta : 0.482520\n",
      "Threshold : 0.40\tFBeta : 0.485544\n",
      "Threshold : 0.45\tFBeta : 0.487610\n",
      "Threshold : 0.50\tFBeta : 0.489626\n",
      "Threshold : 0.55\tFBeta : 0.492057\n",
      "Threshold : 0.60\tFBeta : 0.494641\n",
      "Threshold : 0.65\tFBeta : 0.495905\n",
      "Threshold : 0.70\tFBeta : 0.495928\n",
      "Threshold : 0.75\tFBeta : 0.493420\n",
      "Threshold : 0.80\tFBeta : 0.489995\n",
      "\n"
     ]
    },
    {
     "name": "stderr",
     "output_type": "stream",
     "text": [
      "Epoch 45/50  Mem : 18.5GB  LR : 3.02E-06  Loss: 0.3192: 100%|██████████| 62/62 [00:36<00:00,  1.68it/s]                                                                                                                                                                              \n",
      "Val Loss: 0.4274: 100%|██████████| 24/24 [00:06<00:00,  3.99it/s]                                                                                                                                                                                                                    \n"
     ]
    },
    {
     "name": "stdout",
     "output_type": "stream",
     "text": [
      "Threshold : 0.20\tFBeta : 0.454281\n",
      "Threshold : 0.25\tFBeta : 0.462272\n",
      "Threshold : 0.30\tFBeta : 0.468927\n",
      "Threshold : 0.35\tFBeta : 0.473786\n",
      "Threshold : 0.40\tFBeta : 0.478047\n",
      "Threshold : 0.45\tFBeta : 0.481546\n",
      "Threshold : 0.50\tFBeta : 0.484540\n",
      "Threshold : 0.55\tFBeta : 0.487624\n",
      "Threshold : 0.60\tFBeta : 0.490643\n",
      "Threshold : 0.65\tFBeta : 0.493461\n",
      "Threshold : 0.70\tFBeta : 0.495062\n",
      "Threshold : 0.75\tFBeta : 0.495149\n",
      "Threshold : 0.80\tFBeta : 0.493374\n",
      "\n"
     ]
    },
    {
     "name": "stderr",
     "output_type": "stream",
     "text": [
      "Epoch 46/50  Mem : 18.5GB  LR : 1.94E-06  Loss: 0.3245: 100%|██████████| 62/62 [00:36<00:00,  1.69it/s]                                                                                                                                                                              \n",
      "Val Loss: 0.4328: 100%|██████████| 24/24 [00:05<00:00,  4.04it/s]                                                                                                                                                                                                                    \n"
     ]
    },
    {
     "name": "stdout",
     "output_type": "stream",
     "text": [
      "Threshold : 0.20\tFBeta : 0.456753\n",
      "Threshold : 0.25\tFBeta : 0.464021\n",
      "Threshold : 0.30\tFBeta : 0.469909\n",
      "Threshold : 0.35\tFBeta : 0.473355\n",
      "Threshold : 0.40\tFBeta : 0.476163\n",
      "Threshold : 0.45\tFBeta : 0.477944\n",
      "Threshold : 0.50\tFBeta : 0.479865\n",
      "Threshold : 0.55\tFBeta : 0.482099\n",
      "Threshold : 0.60\tFBeta : 0.485465\n",
      "Threshold : 0.65\tFBeta : 0.487855\n",
      "Threshold : 0.70\tFBeta : 0.489275\n",
      "Threshold : 0.75\tFBeta : 0.488219\n",
      "Threshold : 0.80\tFBeta : 0.483652\n",
      "\n"
     ]
    },
    {
     "name": "stderr",
     "output_type": "stream",
     "text": [
      "Epoch 47/50  Mem : 18.5GB  LR : 1.09E-06  Loss: 0.3272: 100%|██████████| 62/62 [00:36<00:00,  1.68it/s]                                                                                                                                                                              \n",
      "Val Loss: 0.4300: 100%|██████████| 24/24 [00:05<00:00,  4.05it/s]                                                                                                                                                                                                                    \n"
     ]
    },
    {
     "name": "stdout",
     "output_type": "stream",
     "text": [
      "Threshold : 0.20\tFBeta : 0.454413\n",
      "Threshold : 0.25\tFBeta : 0.462678\n",
      "Threshold : 0.30\tFBeta : 0.468950\n",
      "Threshold : 0.35\tFBeta : 0.474089\n",
      "Threshold : 0.40\tFBeta : 0.477577\n",
      "Threshold : 0.45\tFBeta : 0.479860\n",
      "Threshold : 0.50\tFBeta : 0.482004\n",
      "Threshold : 0.55\tFBeta : 0.484096\n",
      "Threshold : 0.60\tFBeta : 0.485865\n",
      "Threshold : 0.65\tFBeta : 0.487529\n",
      "Threshold : 0.70\tFBeta : 0.490073\n",
      "Threshold : 0.75\tFBeta : 0.492122\n",
      "Threshold : 0.80\tFBeta : 0.493308\n",
      "\n"
     ]
    },
    {
     "name": "stderr",
     "output_type": "stream",
     "text": [
      "Epoch 48/50  Mem : 18.5GB  LR : 4.87E-07  Loss: 0.3215: 100%|██████████| 62/62 [00:36<00:00,  1.69it/s]                                                                                                                                                                              \n",
      "Val Loss: 0.4335: 100%|██████████| 24/24 [00:05<00:00,  4.05it/s]                                                                                                                                                                                                                    \n"
     ]
    },
    {
     "name": "stdout",
     "output_type": "stream",
     "text": [
      "Threshold : 0.20\tFBeta : 0.465115\n",
      "Threshold : 0.25\tFBeta : 0.471923\n",
      "Threshold : 0.30\tFBeta : 0.476010\n",
      "Threshold : 0.35\tFBeta : 0.478088\n",
      "Threshold : 0.40\tFBeta : 0.479947\n",
      "Threshold : 0.45\tFBeta : 0.481252\n",
      "Threshold : 0.50\tFBeta : 0.482841\n",
      "Threshold : 0.55\tFBeta : 0.484620\n",
      "Threshold : 0.60\tFBeta : 0.486928\n",
      "Threshold : 0.65\tFBeta : 0.489039\n",
      "Threshold : 0.70\tFBeta : 0.489987\n",
      "Threshold : 0.75\tFBeta : 0.489378\n",
      "Threshold : 0.80\tFBeta : 0.485393\n",
      "\n"
     ]
    },
    {
     "name": "stderr",
     "output_type": "stream",
     "text": [
      "Epoch 49/50  Mem : 18.5GB  LR : 1.22E-07  Loss: 0.3156: 100%|██████████| 62/62 [00:36<00:00,  1.72it/s]                                                                                                                                                                              \n",
      "Val Loss: 0.4339: 100%|██████████| 24/24 [00:06<00:00,  3.99it/s]                                                                                                                                                                                                                    \n"
     ]
    },
    {
     "name": "stdout",
     "output_type": "stream",
     "text": [
      "Threshold : 0.20\tFBeta : 0.474452\n",
      "Threshold : 0.25\tFBeta : 0.479746\n",
      "Threshold : 0.30\tFBeta : 0.482504\n",
      "Threshold : 0.35\tFBeta : 0.484902\n",
      "Threshold : 0.40\tFBeta : 0.487098\n",
      "Threshold : 0.45\tFBeta : 0.489331\n",
      "Threshold : 0.50\tFBeta : 0.491658\n",
      "Threshold : 0.55\tFBeta : 0.493749\n",
      "Threshold : 0.60\tFBeta : 0.496145\n",
      "Threshold : 0.65\tFBeta : 0.497626\n",
      "Threshold : 0.70\tFBeta : 0.496973\n",
      "Threshold : 0.75\tFBeta : 0.494372\n",
      "Threshold : 0.80\tFBeta : 0.489421\n",
      "\n"
     ]
    },
    {
     "name": "stderr",
     "output_type": "stream",
     "text": [
      "Epoch 50/50  Mem : 18.5GB  LR : 4.00E-10  Loss: 0.3207: 100%|██████████| 62/62 [00:36<00:00,  1.70it/s]                                                                                                                                                                              \n",
      "Val Loss: 0.4351: 100%|██████████| 24/24 [00:05<00:00,  4.08it/s]                                                                                                                                                                                                                    \n"
     ]
    },
    {
     "name": "stdout",
     "output_type": "stream",
     "text": [
      "Threshold : 0.20\tFBeta : 0.464056\n",
      "Threshold : 0.25\tFBeta : 0.470501\n",
      "Threshold : 0.30\tFBeta : 0.473626\n",
      "Threshold : 0.35\tFBeta : 0.475772\n",
      "Threshold : 0.40\tFBeta : 0.477754\n",
      "Threshold : 0.45\tFBeta : 0.479547\n",
      "Threshold : 0.50\tFBeta : 0.481526\n",
      "Threshold : 0.55\tFBeta : 0.484132\n",
      "Threshold : 0.60\tFBeta : 0.486341\n",
      "Threshold : 0.65\tFBeta : 0.487360\n",
      "Threshold : 0.70\tFBeta : 0.487833\n",
      "Threshold : 0.75\tFBeta : 0.486373\n",
      "Threshold : 0.80\tFBeta : 0.481223\n",
      "\n"
     ]
    }
   ],
   "source": [
    "fbeta_best = 0.0\n",
    "for epoch in range(1, EPOCHS+1):\n",
    "    model.train()\n",
    "    cur_lr = f\"LR : {scheduler.get_last_lr()[0]:.2E}\"\n",
    "    pbar_train = enumerate(dataloader_train)\n",
    "    pbar_train = tqdm(pbar_train, total=n_train, bar_format=\"{l_bar}{bar:10}{r_bar}{bar:-10b}\")\n",
    "    mloss_train, mloss_val, val_metric = 0.0, 0.0, 0.0\n",
    "\n",
    "    \n",
    "\n",
    "\n",
    "\n",
    "\n",
    "    for i, (fragments, masks) in pbar_train:\n",
    "        fragments, masks = fragments.cuda().half(), masks.cuda().half()\n",
    "        \n",
    "        \n",
    "        optimizer.zero_grad()\n",
    "        with amp.autocast():\n",
    "            pred_masks = model(fragments)\n",
    "            loss = criterion(pred_masks, masks)\n",
    "            scaler.scale(loss).backward()\n",
    "            scaler.step(optimizer)\n",
    "            scaler.update()\n",
    "            mloss_train += loss.detach().item()\n",
    "\n",
    "        gpu_mem = f\"Mem : {torch.cuda.memory_reserved() / 1E9:.3g}GB\"\n",
    "        pbar_train.set_description((\"%10s  \" * 3 + \"%10s\") % (f\"Epoch {epoch}/{EPOCHS}\", gpu_mem, cur_lr,\n",
    "                                                              f\"Loss: {mloss_train / (i + 1):.4f}\"))\n",
    "        \n",
    "    scheduler.step()\n",
    "    model.eval()\n",
    "    pbar_val = enumerate(dataloader_valid)\n",
    "    pbar_val = tqdm(pbar_val, total=n_valid, bar_format=\"{l_bar}{bar:10}{r_bar}{bar:-10b}\")\n",
    "    final_pred_mask = torch.zeros(gt_shape, dtype=torch.float32, device='cuda')\n",
    "    \n",
    "    for i, (fragments, masks, xys) in pbar_val:\n",
    "        fragments, masks = fragments.cuda(), masks.cuda()\n",
    "        \n",
    "        with torch.no_grad():\n",
    "            pred_masks = model(fragments)\n",
    "            mloss_val += criterion(pred_masks, masks).item()\n",
    "            pred_masks = torch.sigmoid(pred_masks)\n",
    "        \n",
    "        for j, xy in enumerate(xys):\n",
    "            final_pred_mask[xy[1]:xy[3], xy[0]:xy[2]] = pred_masks[j, 0]\n",
    "\n",
    "        pbar_val.set_description((\"%10s\") % (f\"Val Loss: {mloss_val / (i+1):.4f}\"))\n",
    "    \n",
    "    for threshold in np.arange(0.2, 0.85, 0.05):\n",
    "        fbeta = fbeta_score(final_pred_mask, gt_mask, threshold)\n",
    "        print(f\"Threshold : {threshold:.2f}\\tFBeta : {fbeta:.6f}\")\n",
    "        \n",
    "        if fbeta_best < fbeta:\n",
    "            fbeta_best = fbeta\n",
    "            torch.save(model.module.state_dict(), f\"./ckpts/resnet18_3d_seg_best_{fbeta_best:.4f}.pt\")\n",
    "    \n",
    "    \n",
    "    if epoch >= 10:\n",
    "        torch.save(model.module.state_dict(), f\"./ckpts/resnet18_3d_seg_epoch_{epoch}.pt\")\n",
    "\n",
    "    # if epoch == 30:\n",
    "    #     break\n",
    "\n",
    "    print()"
   ]
  },
  {
   "cell_type": "code",
   "execution_count": 22,
   "id": "2c48f344",
   "metadata": {
    "execution": {
     "iopub.execute_input": "2023-05-22T07:17:50.006806Z",
     "iopub.status.busy": "2023-05-22T07:17:50.006702Z",
     "iopub.status.idle": "2023-05-22T07:17:50.008982Z",
     "shell.execute_reply": "2023-05-22T07:17:50.008797Z"
    }
   },
   "outputs": [],
   "source": [
    "# import logging\n",
    "\n",
    "# logging.basicConfig(filename=\"training_log.txt\", level=logging.INFO)\n",
    "\n",
    "# console = logging.StreamHandler()\n",
    "# console.setLevel(logging.INFO)\n",
    "# logging.getLogger('').addHandler(console)\n",
    "\n",
    "# fbeta_best = 0.0\n",
    "# for epoch in range(1, EPOCHS+1):\n",
    "#     model.train()\n",
    "#     cur_lr = f\"LR : {scheduler.get_last_lr()[0]:.2E}\"\n",
    "#     pbar_train = enumerate(dataloader_train)\n",
    "#     pbar_train = tqdm(pbar_train, total=n_train, bar_format=\"{l_bar}{bar:10}{r_bar}{bar:-10b}\")\n",
    "#     mloss_train, mloss_val, val_metric = 0.0, 0.0, 0.0\n",
    "\n",
    "#     for i, (fragments, masks) in pbar_train:\n",
    "#         fragments, masks = fragments.cuda().half(), masks.cuda().half()\n",
    "        \n",
    "#         optimizer.zero_grad()\n",
    "#         with amp.autocast():\n",
    "#             pred_masks = model(fragments)\n",
    "#             loss = criterion(pred_masks, masks)\n",
    "#             scaler.scale(loss).backward()\n",
    "#             scaler.step(optimizer)\n",
    "#             scaler.update()\n",
    "#             mloss_train += loss.detach().item()\n",
    "\n",
    "#         gpu_mem = f\"Mem : {torch.cuda.memory_reserved() / 1E9:.3g}GB\"\n",
    "#         pbar_train.set_description((\"%10s  \" * 3 + \"%10s\") % (f\"Epoch {epoch}/{EPOCHS}\", gpu_mem, cur_lr,\n",
    "#                                                               f\"Loss: {mloss_train / (i + 1):.4f}\"))\n",
    "#         logging.info((\"%10s  \" * 3 + \"%10s\") % (f\"Epoch {epoch}/{EPOCHS}\", gpu_mem, cur_lr,\n",
    "#                                                 f\"Loss: {mloss_train / (i + 1):.4f}\"))\n",
    "#     scheduler.step()\n",
    "#     model.eval()\n",
    "#     pbar_val = enumerate(dataloader_valid)\n",
    "#     pbar_val = tqdm(pbar_val, total=n_valid, bar_format=\"{l_bar}{bar:10}{r_bar}{bar:-10b}\")\n",
    "#     final_pred_mask = torch.zeros(gt_shape, dtype=torch.float32, device='cuda')\n",
    "    \n",
    "#     for i, (fragments, masks, xys) in pbar_val:\n",
    "#         fragments, masks = fragments.cuda(), masks.cuda()\n",
    "        \n",
    "#         with torch.no_grad():\n",
    "#             pred_masks = model(fragments)\n",
    "#             mloss_val += criterion(pred_masks, masks).item()\n",
    "#             pred_masks = torch.sigmoid(pred_masks)\n",
    "        \n",
    "#         for j, xy in enumerate(xys):\n",
    "#             final_pred_mask[xy[1]:xy[3], xy[0]:xy[2]] = pred_masks[j, 0]\n",
    "\n",
    "#         pbar_val.set_description((\"%10s\") % (f\"Val Loss: {mloss_val / (i+1):.4f}\"))\n",
    "#         logging.info((\"%10s\") % (f\"Val Loss: {mloss_val / (i+1):.4f}\"))\n",
    "\n",
    "#     for threshold in np.arange(0.2, 0.85, 0.05):\n",
    "#         fbeta = fbeta_score(final_pred_mask, gt_mask, threshold)\n",
    "#         logging.info(f\"Threshold : {threshold:.2f}\\tFBeta : {fbeta:.6f}\")\n",
    "\n",
    "#         if fbeta_best < fbeta:\n",
    "#             fbeta_best = fbeta\n",
    "#             torch.save(model.module.state_dict(), f\"./ckpts/resnet18_3d_seg_best.pt\")\n",
    "    \n",
    "#     # if epoch >= 10:\n",
    "#     #     torch.save(model.module.state_dict(), f\"./ckpts/resnet18_3d_seg_epoch_{epoch}.pt\")\n"
   ]
  },
  {
   "cell_type": "code",
   "execution_count": null,
   "id": "89431087",
   "metadata": {
    "papermill": {
     "duration": 0.381515,
     "end_time": "2023-04-08T11:20:14.478012",
     "exception": false,
     "start_time": "2023-04-08T11:20:14.096497",
     "status": "completed"
    },
    "tags": []
   },
   "outputs": [],
   "source": []
  }
 ],
 "metadata": {
  "kernelspec": {
   "display_name": "Python 3",
   "language": "python",
   "name": "python3"
  },
  "language_info": {
   "codemirror_mode": {
    "name": "ipython",
    "version": 3
   },
   "file_extension": ".py",
   "mimetype": "text/x-python",
   "name": "python",
   "nbconvert_exporter": "python",
   "pygments_lexer": "ipython3",
   "version": "3.9.16"
  },
  "papermill": {
   "default_parameters": {},
   "duration": 4132.646938,
   "end_time": "2023-04-08T11:20:18.816611",
   "environment_variables": {},
   "exception": null,
   "input_path": "__notebook__.ipynb",
   "output_path": "__notebook__.ipynb",
   "parameters": {},
   "start_time": "2023-04-08T10:11:26.169673",
   "version": "2.4.0"
  }
 },
 "nbformat": 4,
 "nbformat_minor": 5
}
