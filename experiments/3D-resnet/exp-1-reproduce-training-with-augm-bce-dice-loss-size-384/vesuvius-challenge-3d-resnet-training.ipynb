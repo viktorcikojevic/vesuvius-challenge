{
 "cells": [
  {
   "attachments": {},
   "cell_type": "markdown",
   "id": "73dea9ca",
   "metadata": {
    "papermill": {
     "duration": 0.006587,
     "end_time": "2023-04-08T10:11:36.662576",
     "exception": false,
     "start_time": "2023-04-08T10:11:36.655989",
     "status": "completed"
    },
    "tags": []
   },
   "source": [
    "## Vesuvius Challenge - Ink Detection Training Notebook"
   ]
  },
  {
   "attachments": {},
   "cell_type": "markdown",
   "id": "8cdbb7ff",
   "metadata": {
    "papermill": {
     "duration": 0.004951,
     "end_time": "2023-04-08T10:11:36.672955",
     "exception": false,
     "start_time": "2023-04-08T10:11:36.668004",
     "status": "completed"
    },
    "tags": []
   },
   "source": [
    "### Setup"
   ]
  },
  {
   "cell_type": "code",
   "execution_count": 1,
   "id": "ae445317",
   "metadata": {
    "_kg_hide-input": false,
    "_kg_hide-output": true,
    "execution": {
     "iopub.execute_input": "2023-05-22T15:19:13.260351Z",
     "iopub.status.busy": "2023-05-22T15:19:13.259976Z",
     "iopub.status.idle": "2023-05-22T15:19:13.441616Z",
     "shell.execute_reply": "2023-05-22T15:19:13.439804Z"
    },
    "papermill": {
     "duration": 29.297355,
     "end_time": "2023-04-08T10:12:05.976007",
     "exception": false,
     "start_time": "2023-04-08T10:11:36.678652",
     "status": "completed"
    },
    "tags": []
   },
   "outputs": [
    {
     "name": "stdout",
     "output_type": "stream",
     "text": [
      "mkdir: cannot create directory ‘./ckpts’: File exists\r\n"
     ]
    }
   ],
   "source": [
    "# # Pretrained weights\n",
    "# # ref - https://github.com/kenshohara/3D-ResNets-PyTorch\n",
    "# !pip install gdown\n",
    "# !gdown 1Nb4abvIkkp_ydPFA9sNPT1WakoVKA8Fa\n",
    "\n",
    "# # Utility packages for reading and visualizing volumes\n",
    "# !pip install zarr imageio-ffmpeg\n",
    "\n",
    "# save model checkpoints\n",
    "!mkdir ./ckpts"
   ]
  },
  {
   "cell_type": "code",
   "execution_count": 2,
   "id": "0d956f5c",
   "metadata": {
    "execution": {
     "iopub.execute_input": "2023-05-22T15:19:13.447137Z",
     "iopub.status.busy": "2023-05-22T15:19:13.446755Z",
     "iopub.status.idle": "2023-05-22T15:19:14.221250Z",
     "shell.execute_reply": "2023-05-22T15:19:14.220927Z"
    },
    "papermill": {
     "duration": 3.289261,
     "end_time": "2023-04-08T10:12:09.273534",
     "exception": false,
     "start_time": "2023-04-08T10:12:05.984273",
     "status": "completed"
    },
    "tags": []
   },
   "outputs": [],
   "source": [
    "import os\n",
    "import gc\n",
    "import sys\n",
    "import zarr\n",
    "import random\n",
    "import imageio\n",
    "import numpy as np\n",
    "import pandas as pd\n",
    "from tqdm import tqdm\n",
    "import matplotlib.pyplot as plt\n",
    "from IPython.display import Video\n",
    "\n",
    "import torch\n",
    "import torch.nn as nn\n",
    "import torch.nn.functional as F\n",
    "from torch.cuda import amp\n",
    "from torch.utils.data import Dataset, DataLoader\n",
    "\n",
    "sys.path.append(\"./resnet3d\")\n",
    "from resnet3d import generate_model"
   ]
  },
  {
   "attachments": {},
   "cell_type": "markdown",
   "id": "88b00fe4",
   "metadata": {
    "papermill": {
     "duration": 0.007297,
     "end_time": "2023-04-08T10:12:09.288770",
     "exception": false,
     "start_time": "2023-04-08T10:12:09.281473",
     "status": "completed"
    },
    "tags": []
   },
   "source": [
    "### Config"
   ]
  },
  {
   "cell_type": "code",
   "execution_count": 3,
   "id": "59e26b77",
   "metadata": {
    "execution": {
     "iopub.execute_input": "2023-05-22T15:19:14.222919Z",
     "iopub.status.busy": "2023-05-22T15:19:14.222729Z",
     "iopub.status.idle": "2023-05-22T15:19:14.224625Z",
     "shell.execute_reply": "2023-05-22T15:19:14.224447Z"
    },
    "papermill": {
     "duration": 0.016571,
     "end_time": "2023-04-08T10:12:09.312935",
     "exception": false,
     "start_time": "2023-04-08T10:12:09.296364",
     "status": "completed"
    },
    "tags": []
   },
   "outputs": [],
   "source": [
    "LR = 1e-4\n",
    "EPOCHS = 50\n",
    "BATCH_SIZE = 20\n",
    "CROP_SIZE = 384\n",
    "Z_START = 24\n",
    "Z_DIMS = 16\n",
    "TRAIN_FRAGMENTS = [\"2\", \"3\"]\n",
    "TEST_FRAGMENT = \"1\""
   ]
  },
  {
   "attachments": {},
   "cell_type": "markdown",
   "id": "9a1e0328",
   "metadata": {
    "papermill": {
     "duration": 0.007428,
     "end_time": "2023-04-08T10:12:09.328094",
     "exception": false,
     "start_time": "2023-04-08T10:12:09.320666",
     "status": "completed"
    },
    "tags": []
   },
   "source": [
    "### Load data"
   ]
  },
  {
   "cell_type": "code",
   "execution_count": 4,
   "id": "8c494d99",
   "metadata": {
    "execution": {
     "iopub.execute_input": "2023-05-22T15:19:14.225853Z",
     "iopub.status.busy": "2023-05-22T15:19:14.225701Z",
     "iopub.status.idle": "2023-05-22T15:19:14.233668Z",
     "shell.execute_reply": "2023-05-22T15:19:14.233487Z"
    },
    "papermill": {
     "duration": 0.054715,
     "end_time": "2023-04-08T10:12:09.391635",
     "exception": false,
     "start_time": "2023-04-08T10:12:09.336920",
     "status": "completed"
    },
    "tags": []
   },
   "outputs": [],
   "source": [
    "\n",
    "\n",
    "FRAGMENTS_ZARR = {\n",
    "    \"1\" : zarr.open(\"/home/viktor/Documents/kaggle/vesuvius-challenge/kaggle-data/train-1.zarr\", mode=\"r\"),\n",
    "    \"2\" : zarr.open(\"/home/viktor/Documents/kaggle/vesuvius-challenge/kaggle-data/train-2.zarr\", mode=\"r\"),\n",
    "    \"3\" : zarr.open(\"/home/viktor/Documents/kaggle/vesuvius-challenge/kaggle-data/train-3.zarr\", mode=\"r\")\n",
    "}\n",
    "\n",
    "FRAGMENTS_SHAPE = {k : v.mask.shape for k, v in FRAGMENTS_ZARR.items()}"
   ]
  },
  {
   "attachments": {},
   "cell_type": "markdown",
   "id": "97a51afa",
   "metadata": {
    "papermill": {
     "duration": 0.007406,
     "end_time": "2023-04-08T10:12:09.406465",
     "exception": false,
     "start_time": "2023-04-08T10:12:09.399059",
     "status": "completed"
    },
    "tags": []
   },
   "source": [
    "### Visualise input"
   ]
  },
  {
   "cell_type": "code",
   "execution_count": 5,
   "id": "6d33b9f8",
   "metadata": {
    "execution": {
     "iopub.execute_input": "2023-05-22T15:19:14.234929Z",
     "iopub.status.busy": "2023-05-22T15:19:14.234816Z",
     "iopub.status.idle": "2023-05-22T15:19:14.433259Z",
     "shell.execute_reply": "2023-05-22T15:19:14.432938Z"
    },
    "papermill": {
     "duration": 1.68744,
     "end_time": "2023-04-08T10:12:11.101290",
     "exception": false,
     "start_time": "2023-04-08T10:12:09.413850",
     "status": "completed"
    },
    "tags": []
   },
   "outputs": [
    {
     "name": "stderr",
     "output_type": "stream",
     "text": [
      "Lossy conversion from uint16 to uint8. Losing 8 bits of resolution. Convert image to uint8 prior to saving to suppress this warning.\n",
      "Lossy conversion from uint16 to uint8. Losing 8 bits of resolution. Convert image to uint8 prior to saving to suppress this warning.\n",
      "Lossy conversion from uint16 to uint8. Losing 8 bits of resolution. Convert image to uint8 prior to saving to suppress this warning.\n",
      "Lossy conversion from uint16 to uint8. Losing 8 bits of resolution. Convert image to uint8 prior to saving to suppress this warning.\n",
      "Lossy conversion from uint16 to uint8. Losing 8 bits of resolution. Convert image to uint8 prior to saving to suppress this warning.\n",
      "Lossy conversion from uint16 to uint8. Losing 8 bits of resolution. Convert image to uint8 prior to saving to suppress this warning.\n",
      "Lossy conversion from uint16 to uint8. Losing 8 bits of resolution. Convert image to uint8 prior to saving to suppress this warning.\n",
      "Lossy conversion from uint16 to uint8. Losing 8 bits of resolution. Convert image to uint8 prior to saving to suppress this warning.\n",
      "Lossy conversion from uint16 to uint8. Losing 8 bits of resolution. Convert image to uint8 prior to saving to suppress this warning.\n",
      "Lossy conversion from uint16 to uint8. Losing 8 bits of resolution. Convert image to uint8 prior to saving to suppress this warning.\n",
      "Lossy conversion from uint16 to uint8. Losing 8 bits of resolution. Convert image to uint8 prior to saving to suppress this warning.\n",
      "Lossy conversion from uint16 to uint8. Losing 8 bits of resolution. Convert image to uint8 prior to saving to suppress this warning.\n",
      "Lossy conversion from uint16 to uint8. Losing 8 bits of resolution. Convert image to uint8 prior to saving to suppress this warning.\n",
      "Lossy conversion from uint16 to uint8. Losing 8 bits of resolution. Convert image to uint8 prior to saving to suppress this warning.\n",
      "Lossy conversion from uint16 to uint8. Losing 8 bits of resolution. Convert image to uint8 prior to saving to suppress this warning.\n",
      "Lossy conversion from uint16 to uint8. Losing 8 bits of resolution. Convert image to uint8 prior to saving to suppress this warning.\n"
     ]
    },
    {
     "data": {
      "text/html": [
       "<video src=\"fragment_crop.mp4\" controls  width=\"256\"  height=\"256\">\n",
       "      Your browser does not support the <code>video</code> element.\n",
       "    </video>"
      ],
      "text/plain": [
       "<IPython.core.display.Video object>"
      ]
     },
     "execution_count": 5,
     "metadata": {},
     "output_type": "execute_result"
    }
   ],
   "source": [
    "fragment = FRAGMENTS_ZARR[\"1\"]\n",
    "x, y = 2000, 2000\n",
    "\n",
    "fragment_cropped = fragment.surface_volume[y:y+CROP_SIZE, x:x+CROP_SIZE, Z_START:Z_START+Z_DIMS]\n",
    "imageio.mimwrite(\"fragment_crop.mp4\", fragment_cropped.transpose(2, 0, 1), \"ffmpeg\")\n",
    "Video(\"fragment_crop.mp4\", height=256, width=256)"
   ]
  },
  {
   "cell_type": "code",
   "execution_count": 6,
   "id": "46203a93",
   "metadata": {
    "execution": {
     "iopub.execute_input": "2023-05-22T15:19:14.434396Z",
     "iopub.status.busy": "2023-05-22T15:19:14.434304Z",
     "iopub.status.idle": "2023-05-22T15:19:14.479072Z",
     "shell.execute_reply": "2023-05-22T15:19:14.478882Z"
    },
    "papermill": {
     "duration": 0.258785,
     "end_time": "2023-04-08T10:12:11.368608",
     "exception": false,
     "start_time": "2023-04-08T10:12:11.109823",
     "status": "completed"
    },
    "tags": []
   },
   "outputs": [
    {
     "data": {
      "image/png": "[encoded data removed]",
      "text/plain": [
       "<Figure size 600x300 with 2 Axes>"
      ]
     },
     "metadata": {},
     "output_type": "display_data"
    }
   ],
   "source": [
    "mask_cropped = fragment.truth[y:y+CROP_SIZE, x:x+CROP_SIZE]\n",
    "ir_cropped = fragment.infrared[y:y+CROP_SIZE, x:x+CROP_SIZE]\n",
    "\n",
    "plt.figure(figsize=(6, 3))\n",
    "plt.subplot(1, 2, 1)\n",
    "plt.imshow(mask_cropped, cmap=\"gray\")\n",
    "plt.axis(\"off\")\n",
    "\n",
    "plt.subplot(1, 2, 2)\n",
    "plt.imshow(ir_cropped, cmap=\"gray\")\n",
    "plt.axis(\"off\")\n",
    "plt.show()"
   ]
  },
  {
   "cell_type": "code",
   "execution_count": 7,
   "id": "6462d25d",
   "metadata": {
    "execution": {
     "iopub.execute_input": "2023-05-22T15:19:14.480162Z",
     "iopub.status.busy": "2023-05-22T15:19:14.480077Z",
     "iopub.status.idle": "2023-05-22T15:19:14.526424Z",
     "shell.execute_reply": "2023-05-22T15:19:14.526220Z"
    },
    "papermill": {
     "duration": 0.17287,
     "end_time": "2023-04-08T10:12:11.562933",
     "exception": false,
     "start_time": "2023-04-08T10:12:11.390063",
     "status": "completed"
    },
    "tags": []
   },
   "outputs": [
    {
     "data": {
      "text/plain": [
       "4093"
      ]
     },
     "execution_count": 7,
     "metadata": {},
     "output_type": "execute_result"
    }
   ],
   "source": [
    "del fragment, fragment_cropped, mask_cropped, ir_cropped\n",
    "gc.collect()"
   ]
  },
  {
   "attachments": {},
   "cell_type": "markdown",
   "id": "ff9cd3e8",
   "metadata": {
    "papermill": {
     "duration": 0.008474,
     "end_time": "2023-04-08T10:12:11.580070",
     "exception": false,
     "start_time": "2023-04-08T10:12:11.571596",
     "status": "completed"
    },
    "tags": []
   },
   "source": [
    "### Dataloaders"
   ]
  },
  {
   "cell_type": "code",
   "execution_count": 8,
   "id": "162ec4e8",
   "metadata": {
    "execution": {
     "iopub.execute_input": "2023-05-22T15:19:14.527699Z",
     "iopub.status.busy": "2023-05-22T15:19:14.527603Z",
     "iopub.status.idle": "2023-05-22T15:19:14.529480Z",
     "shell.execute_reply": "2023-05-22T15:19:14.529287Z"
    },
    "papermill": {
     "duration": 0.024571,
     "end_time": "2023-04-08T10:12:11.612905",
     "exception": false,
     "start_time": "2023-04-08T10:12:11.588334",
     "status": "completed"
    },
    "tags": []
   },
   "outputs": [],
   "source": [
    "# import albumentations as A\n",
    "# from albumentations.pytorch import ToTensorV2\n",
    "\n",
    "# class VesuviusTrain(Dataset):\n",
    "#     def __init__(self, fragments):\n",
    "#         self.fragments = fragments\n",
    "#         self.xys = []\n",
    "        \n",
    "#         for fragment in fragments:\n",
    "#             H, W = FRAGMENTS_SHAPE[fragment]\n",
    "#             for y in range(0, H-CROP_SIZE+1, CROP_SIZE):\n",
    "#                 for x in range(0, W-CROP_SIZE+1, CROP_SIZE):\n",
    "#                     self.xys.append((fragment, x, y, W, H))\n",
    "        \n",
    "#         train_aug_list = [\n",
    "#                 # A.RandomResizedCrop(\n",
    "#                 #     size, size, scale=(0.85, 1.0)),\n",
    "#                 A.HorizontalFlip(p=0.5),\n",
    "#                 A.VerticalFlip(p=0.5),\n",
    "#                 A.RandomBrightnessContrast(p=0.75),\n",
    "#                 A.CoarseDropout(max_holes=1, max_width=int(CROP_SIZE * 0.1), max_height=int(size * 0.1), \n",
    "#                                 mask_fill_value=0, p=0.5),\n",
    "#                 A.ShiftScaleRotate(p=0.75),\n",
    "#                 A.Rotate(limit=90, p=0.9), \n",
    "#                 A.OneOf([\n",
    "#                         A.GaussNoise(var_limit=[10, 50]),\n",
    "#                         A.GaussianBlur(),\n",
    "#                         A.MotionBlur(),\n",
    "#                         ], p=0.4),\n",
    "#                 A.GridDistortion(num_steps=1, distort_limit=0.3, p=0.5),\n",
    "                \n",
    "#                 A.Cutout(max_h_size=int(size * 0.6),\n",
    "#                          max_w_size=int(size * 0.6), num_holes=1, p=1.0),\n",
    "#                 A.Normalize(\n",
    "#                     mean= [0] * Z_DIMS,\n",
    "#                     std= [1] * Z_DIMS\n",
    "#                 ),\n",
    "#                 ToTensorV2(transpose_mask=True),\n",
    "#             ]\n",
    "        \n",
    "        \n",
    "        \n",
    "#     def __getitem__(self, i):\n",
    "#         fragment, x1, y1, W, H = self.xys[i]\n",
    "#         z1, z2 = Z_START, Z_START+Z_DIMS\n",
    "        \n",
    "#         x_offset = random.randint(-32 if x1 != 0 else 0, 32)\n",
    "#         y_offset = random.randint(-32 if y1 != 0 else 0, 32)\n",
    "        \n",
    "#         x1 += x_offset\n",
    "#         y1 += y_offset\n",
    "        \n",
    "#         x2 = x1 + CROP_SIZE\n",
    "#         y2 = y1 + CROP_SIZE\n",
    "        \n",
    "#         if x2 > W:\n",
    "#             x1 -= x_offset\n",
    "#             x2 -= x_offset\n",
    "            \n",
    "#         if y2 > H:\n",
    "#             y1 -= y_offset\n",
    "#             y2 -= y_offset\n",
    "        \n",
    "#         frag_crop = FRAGMENTS_ZARR[fragment].surface_volume[y1:y2, x1:x2, z1:z2]\n",
    "#         mask_crop = FRAGMENTS_ZARR[fragment].truth[y1:y2, x1:x2]\n",
    "        \n",
    "#         if random.random() > 0.5:\n",
    "#             frag_crop = np.flip(frag_crop, axis=1).copy()\n",
    "#             mask_crop = np.flip(mask_crop, axis=1).copy()\n",
    "\n",
    "#         frag_crop = torch.from_numpy(frag_crop.astype(np.float32)).unsqueeze(0).permute(0, 3, 1, 2)\n",
    "#         frag_crop = frag_crop/65535.0\n",
    "#         frag_crop = (frag_crop - 0.45)/0.225\n",
    "        \n",
    "#         mask_crop = torch.from_numpy(mask_crop.astype(np.float32)).unsqueeze(0)\n",
    "        \n",
    "        \n",
    "        \n",
    "        \n",
    "        \n",
    "        \n",
    "        \n",
    "        \n",
    "#         return frag_crop, mask_crop\n",
    "\n",
    "#     def __len__(self):\n",
    "#         return len(self.xys)"
   ]
  },
  {
   "cell_type": "code",
   "execution_count": 9,
   "id": "c2c0c6d5",
   "metadata": {
    "execution": {
     "iopub.execute_input": "2023-05-22T15:19:14.530581Z",
     "iopub.status.busy": "2023-05-22T15:19:14.530464Z",
     "iopub.status.idle": "2023-05-22T15:19:14.829198Z",
     "shell.execute_reply": "2023-05-22T15:19:14.828882Z"
    }
   },
   "outputs": [],
   "source": [
    "import albumentations as A\n",
    "from albumentations.pytorch import ToTensorV2\n",
    "\n",
    "class VesuviusTrain(Dataset):\n",
    "    def __init__(self, fragments):\n",
    "        self.fragments = fragments\n",
    "        self.xys = []\n",
    "        \n",
    "        for fragment in fragments:\n",
    "            H, W = FRAGMENTS_SHAPE[fragment]\n",
    "            for y in range(0, H-CROP_SIZE+1, CROP_SIZE):\n",
    "                for x in range(0, W-CROP_SIZE+1, CROP_SIZE):\n",
    "                    surface = FRAGMENTS_ZARR[fragment].surface_volume[y:y+CROP_SIZE, x:x+CROP_SIZE, 0]\n",
    "                    if np.sum(surface) / (CROP_SIZE * CROP_SIZE) > 0.2:\n",
    "                        self.xys.append((fragment, x, y, W, H))\n",
    "        \n",
    "        self.train_aug_list = [\n",
    "                # A.RandomResizedCrop(\n",
    "                #     size, size, scale=(0.85, 1.0)),\n",
    "                \n",
    "                A.HorizontalFlip(p=0.5),\n",
    "                A.VerticalFlip(p=0.5),\n",
    "                \n",
    "                # A.RandomBrightnessContrast(p=0.75),\n",
    "                # A.CoarseDropout(max_holes=1, max_width=int(CROP_SIZE * 0.1), max_height=int(CROP_SIZE * 0.1), \n",
    "                #                 mask_fill_value=0, p=0.5),\n",
    "                # A.ShiftScaleRotate(p=0.75),\n",
    "                \n",
    "                A.Rotate(limit=90, p=0.9), \n",
    "                \n",
    "                # A.OneOf([\n",
    "                #         A.GaussNoise(var_limit=[1, 5]),\n",
    "                #         A.GaussianBlur(),\n",
    "                #         A.MotionBlur(),\n",
    "                #         ], p=0.4),\n",
    "                # A.GridDistortion(num_steps=1, distort_limit=0.3, p=0.5),\n",
    "                \n",
    "                # A.Cutout(max_h_size=int(CROP_SIZE * 0.2),\n",
    "                #          max_w_size=int(CROP_SIZE * 0.2), num_holes=1, p=1.0),\n",
    "                # A.Normalize(\n",
    "                #     mean= [0] * Z_DIMS,\n",
    "                #     std= [1] * Z_DIMS\n",
    "                # ),\n",
    "                \n",
    "                \n",
    "                ToTensorV2(transpose_mask=True),\n",
    "            ]\n",
    "        \n",
    "        # Create the augmentation pipeline\n",
    "        self.augmentations = A.Compose(self.train_aug_list)\n",
    "        \n",
    "        \n",
    "        \n",
    "    def __getitem__(self, i):\n",
    "        fragment, x1, y1, W, H = self.xys[i]\n",
    "        z1, z2 = Z_START, Z_START+Z_DIMS\n",
    "        \n",
    "        x_offset = random.randint(-192 if x1 != 0 else 0, 192)\n",
    "        y_offset = random.randint(-192 if y1 != 0 else 0, 192)\n",
    "        \n",
    "        x1 += x_offset\n",
    "        y1 += y_offset\n",
    "        \n",
    "        x2 = x1 + CROP_SIZE\n",
    "        y2 = y1 + CROP_SIZE\n",
    "        \n",
    "        if x2 > W:\n",
    "            x1 -= x_offset\n",
    "            x2 -= x_offset\n",
    "            \n",
    "        if y2 > H:\n",
    "            y1 -= y_offset\n",
    "            y2 -= y_offset\n",
    "        \n",
    "        frag_crop = FRAGMENTS_ZARR[fragment].surface_volume[y1:y2, x1:x2, z1:z2]\n",
    "        mask_crop = FRAGMENTS_ZARR[fragment].truth[y1:y2, x1:x2]\n",
    "        \n",
    "        # if random.random() > 0.5:\n",
    "        #     frag_crop = np.flip(frag_crop, axis=1).copy()\n",
    "        #     mask_crop = np.flip(mask_crop, axis=1).copy()\n",
    "\n",
    "        # Perform train augmentations\n",
    "\n",
    "        frag_crop = frag_crop/65535.0\n",
    "        \n",
    "\n",
    "        # Apply the augmentations\n",
    "        augmented = self.augmentations(image=frag_crop, mask=mask_crop)\n",
    "\n",
    "        # Separate the image and mask\n",
    "        frag_crop, mask_crop = augmented[\"image\"], augmented[\"mask\"]\n",
    "\n",
    "        # normalize\n",
    "        \n",
    "        # frag_crop = (frag_crop - 0.45)/0.225\n",
    "        \n",
    "        frag_crop = frag_crop.unsqueeze(0)\n",
    "        mask_crop = mask_crop.float().unsqueeze(0)\n",
    "        \n",
    "        \n",
    "        return frag_crop, mask_crop\n",
    "\n",
    "    def __len__(self):\n",
    "        return len(self.xys)"
   ]
  },
  {
   "cell_type": "code",
   "execution_count": 10,
   "id": "f172c2ad",
   "metadata": {
    "execution": {
     "iopub.execute_input": "2023-05-22T15:19:14.830830Z",
     "iopub.status.busy": "2023-05-22T15:19:14.830623Z",
     "iopub.status.idle": "2023-05-22T15:19:14.833824Z",
     "shell.execute_reply": "2023-05-22T15:19:14.833636Z"
    },
    "papermill": {
     "duration": 0.022963,
     "end_time": "2023-04-08T10:12:11.644387",
     "exception": false,
     "start_time": "2023-04-08T10:12:11.621424",
     "status": "completed"
    },
    "tags": []
   },
   "outputs": [],
   "source": [
    "class VesuviusVal(Dataset):\n",
    "    def __init__(self, fragment):\n",
    "        self.fragment = FRAGMENTS_ZARR[fragment]\n",
    "        self.xys = []\n",
    "        \n",
    "        H, W = FRAGMENTS_SHAPE[fragment]\n",
    "        for y in range(0, H-CROP_SIZE+1, CROP_SIZE):\n",
    "            for x in range(0, W-CROP_SIZE+1, CROP_SIZE):\n",
    "                self.xys.append((x, y))\n",
    "                \n",
    "    def __getitem__(self, i):\n",
    "        x1, y1 = self.xys[i]\n",
    "        x2, y2 = x1+CROP_SIZE, y1+CROP_SIZE\n",
    "        z1, z2 = Z_START, Z_START+Z_DIMS\n",
    "        \n",
    "        frag_crop = self.fragment.surface_volume[y1:y2, x1:x2, z1:z2]\n",
    "        mask_crop = self.fragment.truth[y1:y2, x1:x2]\n",
    "\n",
    "        frag_crop = torch.from_numpy(frag_crop.astype(np.float32)).unsqueeze(0).permute(0, 3, 1, 2)\n",
    "        frag_crop = frag_crop/65535.0\n",
    "        # frag_crop = (frag_crop - 0.45)/0.225\n",
    "        \n",
    "        mask_crop = torch.from_numpy(mask_crop.astype(np.float32)).unsqueeze(0)\n",
    "        return frag_crop, mask_crop, torch.tensor([x1, y1, x2, y2], dtype=torch.int32)\n",
    "\n",
    "    def __len__(self):\n",
    "        return len(self.xys)"
   ]
  },
  {
   "cell_type": "code",
   "execution_count": 11,
   "id": "4282f924",
   "metadata": {
    "execution": {
     "iopub.execute_input": "2023-05-22T15:19:14.835003Z",
     "iopub.status.busy": "2023-05-22T15:19:14.834854Z",
     "iopub.status.idle": "2023-05-22T15:19:18.753710Z",
     "shell.execute_reply": "2023-05-22T15:19:18.753470Z"
    },
    "papermill": {
     "duration": 0.019671,
     "end_time": "2023-04-08T10:12:11.672490",
     "exception": false,
     "start_time": "2023-04-08T10:12:11.652819",
     "status": "completed"
    },
    "tags": []
   },
   "outputs": [],
   "source": [
    "dataset_train = VesuviusTrain(TRAIN_FRAGMENTS)\n",
    "dataloader_train = DataLoader(dataset_train, batch_size=BATCH_SIZE, num_workers=2,\n",
    "                              shuffle=True, pin_memory=True, drop_last=True)\n",
    "n_train = len(dataloader_train)\n",
    "\n",
    "dataset_valid = VesuviusVal(TEST_FRAGMENT)\n",
    "dataloader_valid = DataLoader(dataset_valid, batch_size=BATCH_SIZE, num_workers=2,\n",
    "                              shuffle=False, pin_memory=True, drop_last=False)\n",
    "n_valid = len(dataloader_valid)"
   ]
  },
  {
   "cell_type": "code",
   "execution_count": 12,
   "id": "0577f1a6",
   "metadata": {
    "execution": {
     "iopub.execute_input": "2023-05-22T15:19:18.755094Z",
     "iopub.status.busy": "2023-05-22T15:19:18.754980Z",
     "iopub.status.idle": "2023-05-22T15:19:18.802862Z",
     "shell.execute_reply": "2023-05-22T15:19:18.802648Z"
    }
   },
   "outputs": [
    {
     "data": {
      "text/plain": [
       "(tensor(0., dtype=torch.float64), tensor(1., dtype=torch.float64))"
      ]
     },
     "execution_count": 12,
     "metadata": {},
     "output_type": "execute_result"
    }
   ],
   "source": [
    "i = random.randint(0, len(dataset_train))\n",
    "img = dataset_train[i][0]\n",
    "img.min(), img.max()"
   ]
  },
  {
   "cell_type": "code",
   "execution_count": null,
   "id": "40a15748",
   "metadata": {},
   "outputs": [],
   "source": []
  },
  {
   "cell_type": "code",
   "execution_count": null,
   "id": "a792af0c",
   "metadata": {},
   "outputs": [],
   "source": []
  },
  {
   "attachments": {},
   "cell_type": "markdown",
   "id": "cdcc7e0b",
   "metadata": {
    "papermill": {
     "duration": 0.008028,
     "end_time": "2023-04-08T10:12:11.688860",
     "exception": false,
     "start_time": "2023-04-08T10:12:11.680832",
     "status": "completed"
    },
    "tags": []
   },
   "source": [
    "### Model\n",
    "* Encoder is a 3D ResNet model. The architecture has been modified to remove temporal downsampling between blocks.\n",
    "* A 2D decoder is used for predicting the segmentation map.\n",
    "* The encoder feature maps are average pooled over the Z dimension before passing it to the decoder."
   ]
  },
  {
   "cell_type": "code",
   "execution_count": 13,
   "id": "ff7cc8a3",
   "metadata": {
    "execution": {
     "iopub.execute_input": "2023-05-22T15:19:18.804051Z",
     "iopub.status.busy": "2023-05-22T15:19:18.803936Z",
     "iopub.status.idle": "2023-05-22T15:19:18.807874Z",
     "shell.execute_reply": "2023-05-22T15:19:18.807665Z"
    },
    "papermill": {
     "duration": 0.023714,
     "end_time": "2023-04-08T10:12:11.721140",
     "exception": false,
     "start_time": "2023-04-08T10:12:11.697426",
     "status": "completed"
    },
    "tags": []
   },
   "outputs": [],
   "source": [
    "class Decoder(nn.Module):\n",
    "    def __init__(self, encoder_dims, upscale):\n",
    "        super().__init__()\n",
    "        self.convs = nn.ModuleList([\n",
    "            nn.Sequential(\n",
    "                nn.Conv2d(encoder_dims[i]+encoder_dims[i-1], encoder_dims[i-1], 3, 1, 1, bias=False),\n",
    "                nn.BatchNorm2d(encoder_dims[i-1]),\n",
    "                nn.ReLU(inplace=True)\n",
    "            ) for i in range(1, len(encoder_dims))])\n",
    "\n",
    "        self.logit = nn.Conv2d(encoder_dims[0], 1, 1, 1, 0)\n",
    "        self.up = nn.Upsample(scale_factor=upscale, mode=\"bilinear\")\n",
    "\n",
    "    def forward(self, feature_maps):\n",
    "        for i in range(len(feature_maps)-1, 0, -1):\n",
    "            f_up = F.interpolate(feature_maps[i], scale_factor=2, mode=\"bilinear\")\n",
    "            f = torch.cat([feature_maps[i-1], f_up], dim=1)\n",
    "            f_down = self.convs[i-1](f)\n",
    "            feature_maps[i-1] = f_down\n",
    "\n",
    "        x = self.logit(feature_maps[0])\n",
    "        mask = self.up(x)\n",
    "        return mask\n",
    "\n",
    "\n",
    "class SegModel(nn.Module):\n",
    "    def __init__(self):\n",
    "        super().__init__()\n",
    "        self.encoder = generate_model(model_depth=18, n_input_channels=1)\n",
    "        self.decoder = Decoder(encoder_dims=[64, 128, 256, 512], upscale=4)\n",
    "        \n",
    "    def forward(self, x):\n",
    "        feat_maps = self.encoder(x)\n",
    "        feat_maps_pooled = [torch.mean(f, dim=2) for f in feat_maps]\n",
    "        pred_mask = self.decoder(feat_maps_pooled)\n",
    "        return pred_mask\n",
    "    \n",
    "    def load_pretrained_weights(self, state_dict):\n",
    "        # Convert 3 channel weights to single channel\n",
    "        # ref - https://timm.fast.ai/models#Case-1:-When-the-number-of-input-channels-is-1\n",
    "        conv1_weight = state_dict['conv1.weight']\n",
    "        state_dict['conv1.weight'] = conv1_weight.sum(dim=1, keepdim=True)\n",
    "        print(self.encoder.load_state_dict(state_dict, strict=False))"
   ]
  },
  {
   "cell_type": "code",
   "execution_count": 14,
   "id": "67e4a0f1",
   "metadata": {
    "execution": {
     "iopub.execute_input": "2023-05-22T15:19:18.808831Z",
     "iopub.status.busy": "2023-05-22T15:19:18.808754Z",
     "iopub.status.idle": "2023-05-22T15:19:19.948272Z",
     "shell.execute_reply": "2023-05-22T15:19:19.947908Z"
    },
    "papermill": {
     "duration": 3.891528,
     "end_time": "2023-04-08T10:12:15.621016",
     "exception": false,
     "start_time": "2023-04-08T10:12:11.729488",
     "status": "completed"
    },
    "tags": []
   },
   "outputs": [
    {
     "name": "stdout",
     "output_type": "stream",
     "text": [
      "_IncompatibleKeys(missing_keys=[], unexpected_keys=['fc.weight', 'fc.bias'])\n"
     ]
    }
   ],
   "source": [
    "model = SegModel()\n",
    "model.load_pretrained_weights(torch.load(\"/home/viktor/Documents/kaggle/vesuvius-challenge/experiments/3D-resnet/r3d18_K_200ep.pth\")[\"state_dict\"])\n",
    "model = nn.DataParallel(model, device_ids=[0])\n",
    "\n",
    "model = model.cuda()"
   ]
  },
  {
   "cell_type": "code",
   "execution_count": 15,
   "id": "491e9288",
   "metadata": {
    "execution": {
     "iopub.execute_input": "2023-05-22T15:19:19.950331Z",
     "iopub.status.busy": "2023-05-22T15:19:19.950205Z",
     "iopub.status.idle": "2023-05-22T15:19:20.915384Z",
     "shell.execute_reply": "2023-05-22T15:19:20.915058Z"
    }
   },
   "outputs": [
    {
     "data": {
      "text/plain": [
       "torch.Size([5, 1, 256, 256])"
      ]
     },
     "execution_count": 15,
     "metadata": {},
     "output_type": "execute_result"
    }
   ],
   "source": [
    "x = torch.randn(5, 1, 16, 256, 256).cuda()\n",
    "with torch.no_grad():\n",
    "    y = model(x)\n",
    "y.shape"
   ]
  },
  {
   "attachments": {},
   "cell_type": "markdown",
   "id": "d84d7c0e",
   "metadata": {
    "papermill": {
     "duration": 0.008816,
     "end_time": "2023-04-08T10:12:15.638951",
     "exception": false,
     "start_time": "2023-04-08T10:12:15.630135",
     "status": "completed"
    },
    "tags": []
   },
   "source": [
    "### Competition metric (F0.5 Score)"
   ]
  },
  {
   "cell_type": "code",
   "execution_count": 16,
   "id": "61dbeb5c",
   "metadata": {
    "execution": {
     "iopub.execute_input": "2023-05-22T15:19:20.916793Z",
     "iopub.status.busy": "2023-05-22T15:19:20.916703Z",
     "iopub.status.idle": "2023-05-22T15:19:20.919097Z",
     "shell.execute_reply": "2023-05-22T15:19:20.918897Z"
    },
    "papermill": {
     "duration": 0.020268,
     "end_time": "2023-04-08T10:12:15.668008",
     "exception": false,
     "start_time": "2023-04-08T10:12:15.647740",
     "status": "completed"
    },
    "tags": []
   },
   "outputs": [],
   "source": [
    "# ref - https://www.kaggle.com/competitions/vesuvius-challenge-ink-detection/discussion/397288\n",
    "def fbeta_score(preds, targets, threshold, beta=0.5, smooth=1e-5):\n",
    "    preds_t = torch.where(preds > threshold, 1.0, 0.0).float()\n",
    "    y_true_count = targets.sum()\n",
    "    \n",
    "    ctp = preds_t[targets==1].sum()\n",
    "    cfp = preds_t[targets==0].sum()\n",
    "    beta_squared = beta * beta\n",
    "\n",
    "    c_precision = ctp / (ctp + cfp + smooth)\n",
    "    c_recall = ctp / (y_true_count + smooth)\n",
    "    dice = (1 + beta_squared) * (c_precision * c_recall) / (beta_squared * c_precision + c_recall + smooth)\n",
    "\n",
    "    return dice"
   ]
  },
  {
   "attachments": {},
   "cell_type": "markdown",
   "id": "639c9148",
   "metadata": {
    "papermill": {
     "duration": 0.008498,
     "end_time": "2023-04-08T10:12:15.685205",
     "exception": false,
     "start_time": "2023-04-08T10:12:15.676707",
     "status": "completed"
    },
    "tags": []
   },
   "source": [
    "### Training"
   ]
  },
  {
   "cell_type": "code",
   "execution_count": 17,
   "id": "0cca2e6e",
   "metadata": {
    "execution": {
     "iopub.execute_input": "2023-05-22T15:19:20.920350Z",
     "iopub.status.busy": "2023-05-22T15:19:20.920197Z",
     "iopub.status.idle": "2023-05-22T15:19:20.922350Z",
     "shell.execute_reply": "2023-05-22T15:19:20.922060Z"
    },
    "papermill": {
     "duration": 0.019067,
     "end_time": "2023-04-08T10:12:15.713237",
     "exception": false,
     "start_time": "2023-04-08T10:12:15.694170",
     "status": "completed"
    },
    "tags": []
   },
   "outputs": [],
   "source": [
    "scaler = amp.GradScaler()\n",
    "# criterion = nn.BCEWithLogitsLoss()\n",
    "\n",
    "\n",
    "optimizer = torch.optim.AdamW(model.parameters(), lr=LR)\n",
    "scheduler = torch.optim.lr_scheduler.OneCycleLR(optimizer, max_lr=LR,\n",
    "                                                steps_per_epoch=10, epochs=EPOCHS//10,\n",
    "                                                pct_start=0.1)"
   ]
  },
  {
   "cell_type": "code",
   "execution_count": 18,
   "id": "2a77a022",
   "metadata": {
    "execution": {
     "iopub.execute_input": "2023-05-22T15:19:20.923488Z",
     "iopub.status.busy": "2023-05-22T15:19:20.923371Z",
     "iopub.status.idle": "2023-05-22T15:19:21.755443Z",
     "shell.execute_reply": "2023-05-22T15:19:21.755093Z"
    }
   },
   "outputs": [],
   "source": [
    "import segmentation_models_pytorch as smp\n",
    "DiceLoss = smp.losses.DiceLoss(mode='binary')\n",
    "BCELoss = smp.losses.SoftBCEWithLogitsLoss()\n",
    "\n",
    "\n",
    "def criterion(y_pred, y_true):\n",
    "    return 0.5 * BCELoss(y_pred, y_true) + 0.5 * DiceLoss(y_pred, y_true)"
   ]
  },
  {
   "cell_type": "code",
   "execution_count": 19,
   "id": "7304e1fd",
   "metadata": {
    "execution": {
     "iopub.execute_input": "2023-05-22T15:19:21.757058Z",
     "iopub.status.busy": "2023-05-22T15:19:21.756961Z",
     "iopub.status.idle": "2023-05-22T15:19:21.794864Z",
     "shell.execute_reply": "2023-05-22T15:19:21.794410Z"
    },
    "papermill": {
     "duration": 0.385175,
     "end_time": "2023-04-08T10:12:16.107159",
     "exception": false,
     "start_time": "2023-04-08T10:12:15.721984",
     "status": "completed"
    },
    "tags": []
   },
   "outputs": [],
   "source": [
    "gt_mask = torch.from_numpy(np.asarray(FRAGMENTS_ZARR[TEST_FRAGMENT].truth)).float().cuda()\n",
    "gt_shape = FRAGMENTS_SHAPE[TEST_FRAGMENT]"
   ]
  },
  {
   "cell_type": "code",
   "execution_count": 20,
   "id": "c0b85bf1",
   "metadata": {
    "execution": {
     "iopub.execute_input": "2023-05-22T15:19:21.796496Z",
     "iopub.status.busy": "2023-05-22T15:19:21.796409Z",
     "iopub.status.idle": "2023-05-22T15:19:21.798283Z",
     "shell.execute_reply": "2023-05-22T15:19:21.798091Z"
    }
   },
   "outputs": [],
   "source": [
    "import logging\n",
    "\n",
    "logging.basicConfig(filename=\"training_log.txt\", level=logging.INFO)\n"
   ]
  },
  {
   "cell_type": "code",
   "execution_count": 21,
   "id": "00067c9c",
   "metadata": {
    "execution": {
     "iopub.execute_input": "2023-05-22T15:19:21.799518Z",
     "iopub.status.busy": "2023-05-22T15:19:21.799436Z",
     "iopub.status.idle": "2023-05-22T15:49:45.657000Z",
     "shell.execute_reply": "2023-05-22T15:49:45.656631Z"
    },
    "papermill": {
     "duration": 4077.588277,
     "end_time": "2023-04-08T11:20:13.706513",
     "exception": false,
     "start_time": "2023-04-08T10:12:16.118236",
     "status": "completed"
    },
    "tags": []
   },
   "outputs": [
    {
     "name": "stderr",
     "output_type": "stream",
     "text": [
      "Epoch 1/50  Mem : 19.6GB  LR : 4.00E-06  Loss: 0.6703: 100%|██████████| 44/44 [00:30<00:00,  1.43it/s]                                                                                                                                                            \n",
      "Val Loss: 0.6185: 100%|██████████| 17/17 [00:05<00:00,  3.10it/s]                                                                                                                                                                                                 \n"
     ]
    },
    {
     "name": "stdout",
     "output_type": "stream",
     "text": [
      "Threshold : 0.20\tFBeta : 0.162402\n",
      "Threshold : 0.25\tFBeta : 0.209348\n",
      "Threshold : 0.30\tFBeta : 0.227892\n",
      "Threshold : 0.35\tFBeta : 0.242407\n",
      "Threshold : 0.40\tFBeta : 0.255850\n",
      "Threshold : 0.45\tFBeta : 0.242488\n",
      "Threshold : 0.50\tFBeta : 0.127058\n",
      "Threshold : 0.55\tFBeta : 0.020451\n",
      "Threshold : 0.60\tFBeta : 0.002706\n",
      "Threshold : 0.65\tFBeta : 0.000556\n",
      "Threshold : 0.70\tFBeta : 0.000000\n",
      "Threshold : 0.75\tFBeta : 0.000000\n",
      "Threshold : 0.80\tFBeta : 0.000000\n",
      "\n"
     ]
    },
    {
     "name": "stderr",
     "output_type": "stream",
     "text": [
      "Epoch 2/50  Mem : 14.1GB  LR : 1.81E-05  Loss: 0.6497: 100%|██████████| 44/44 [00:30<00:00,  1.45it/s]                                                                                                                                                            \n",
      "Val Loss: 0.5853: 100%|██████████| 17/17 [00:05<00:00,  3.04it/s]                                                                                                                                                                                                 \n"
     ]
    },
    {
     "name": "stdout",
     "output_type": "stream",
     "text": [
      "Threshold : 0.20\tFBeta : 0.229461\n",
      "Threshold : 0.25\tFBeta : 0.238301\n",
      "Threshold : 0.30\tFBeta : 0.248666\n",
      "Threshold : 0.35\tFBeta : 0.263026\n",
      "Threshold : 0.40\tFBeta : 0.275203\n",
      "Threshold : 0.45\tFBeta : 0.286150\n",
      "Threshold : 0.50\tFBeta : 0.284768\n",
      "Threshold : 0.55\tFBeta : 0.262700\n",
      "Threshold : 0.60\tFBeta : 0.218299\n",
      "Threshold : 0.65\tFBeta : 0.147598\n",
      "Threshold : 0.70\tFBeta : 0.084885\n",
      "Threshold : 0.75\tFBeta : 0.026113\n",
      "Threshold : 0.80\tFBeta : 0.001916\n",
      "\n"
     ]
    },
    {
     "name": "stderr",
     "output_type": "stream",
     "text": [
      "Epoch 3/50  Mem : 14.1GB  LR : 5.20E-05  Loss: 0.6171: 100%|██████████| 44/44 [00:30<00:00,  1.44it/s]                                                                                                                                                            \n",
      "Val Loss: 0.6720: 100%|██████████| 17/17 [00:05<00:00,  3.02it/s]                                                                                                                                                                                                 \n"
     ]
    },
    {
     "name": "stdout",
     "output_type": "stream",
     "text": [
      "Threshold : 0.20\tFBeta : 0.153972\n",
      "Threshold : 0.25\tFBeta : 0.164902\n",
      "Threshold : 0.30\tFBeta : 0.178145\n",
      "Threshold : 0.35\tFBeta : 0.197855\n",
      "Threshold : 0.40\tFBeta : 0.234105\n",
      "Threshold : 0.45\tFBeta : 0.299058\n",
      "Threshold : 0.50\tFBeta : 0.326193\n",
      "Threshold : 0.55\tFBeta : 0.338938\n",
      "Threshold : 0.60\tFBeta : 0.351912\n",
      "Threshold : 0.65\tFBeta : 0.364337\n",
      "Threshold : 0.70\tFBeta : 0.374417\n",
      "Threshold : 0.75\tFBeta : 0.379077\n",
      "Threshold : 0.80\tFBeta : 0.376791\n",
      "\n"
     ]
    },
    {
     "name": "stderr",
     "output_type": "stream",
     "text": [
      "Epoch 4/50  Mem : 14.1GB  LR : 8.59E-05  Loss: 0.5980: 100%|██████████| 44/44 [00:31<00:00,  1.42it/s]                                                                                                                                                            \n",
      "Val Loss: 0.6038: 100%|██████████| 17/17 [00:05<00:00,  3.09it/s]                                                                                                                                                                                                 "
     ]
    },
    {
     "name": "stdout",
     "output_type": "stream",
     "text": [
      "Threshold : 0.20\tFBeta : 0.157248\n",
      "Threshold : 0.25\tFBeta : 0.021193\n",
      "Threshold : 0.30\tFBeta : 0.000553\n",
      "Threshold : 0.35\tFBeta : 0.000000\n",
      "Threshold : 0.40\tFBeta : 0.000000\n",
      "Threshold : 0.45\tFBeta : 0.000000\n",
      "Threshold : 0.50\tFBeta : 0.000000\n",
      "Threshold : 0.55\tFBeta : 0.000000\n",
      "Threshold : 0.60\tFBeta : 0.000000\n",
      "Threshold : 0.65\tFBeta : 0.000000\n",
      "Threshold : 0.70\tFBeta : 0.000000\n",
      "Threshold : 0.75\tFBeta : 0.000000\n",
      "Threshold : 0.80\tFBeta : 0.000000\n",
      "\n"
     ]
    },
    {
     "name": "stderr",
     "output_type": "stream",
     "text": [
      "\n",
      "Epoch 5/50  Mem : 14.1GB  LR : 1.00E-04  Loss: 0.5677: 100%|██████████| 44/44 [00:30<00:00,  1.44it/s]                                                                                                                                                            \n",
      "Val Loss: 0.5336: 100%|██████████| 17/17 [00:05<00:00,  3.09it/s]                                                                                                                                                                                                 \n"
     ]
    },
    {
     "name": "stdout",
     "output_type": "stream",
     "text": [
      "Threshold : 0.20\tFBeta : 0.256570\n",
      "Threshold : 0.25\tFBeta : 0.283489\n",
      "Threshold : 0.30\tFBeta : 0.306534\n",
      "Threshold : 0.35\tFBeta : 0.328452\n",
      "Threshold : 0.40\tFBeta : 0.347995\n",
      "Threshold : 0.45\tFBeta : 0.365169\n",
      "Threshold : 0.50\tFBeta : 0.384884\n",
      "Threshold : 0.55\tFBeta : 0.405017\n",
      "Threshold : 0.60\tFBeta : 0.421410\n",
      "Threshold : 0.65\tFBeta : 0.430315\n",
      "Threshold : 0.70\tFBeta : 0.433346\n",
      "Threshold : 0.75\tFBeta : 0.425427\n",
      "Threshold : 0.80\tFBeta : 0.402538\n",
      "\n"
     ]
    },
    {
     "name": "stderr",
     "output_type": "stream",
     "text": [
      "Epoch 6/50  Mem : 14.1GB  LR : 9.99E-05  Loss: 0.5343: 100%|██████████| 44/44 [00:30<00:00,  1.42it/s]                                                                                                                                                            \n",
      "Val Loss: 0.5973: 100%|██████████| 17/17 [00:05<00:00,  3.04it/s]                                                                                                                                                                                                 "
     ]
    },
    {
     "name": "stdout",
     "output_type": "stream",
     "text": [
      "Threshold : 0.20\tFBeta : 0.197590\n",
      "Threshold : 0.25\tFBeta : 0.124228\n",
      "Threshold : 0.30\tFBeta : 0.093332\n",
      "Threshold : 0.35\tFBeta : 0.075455\n",
      "Threshold : 0.40\tFBeta : 0.061224\n",
      "Threshold : 0.45\tFBeta : 0.047571\n",
      "Threshold : 0.50\tFBeta : 0.035717\n",
      "Threshold : 0.55\tFBeta : 0.025741\n",
      "Threshold : 0.60\tFBeta : 0.016749\n",
      "Threshold : 0.65\tFBeta : 0.008905\n",
      "Threshold : 0.70\tFBeta : 0.003683\n",
      "Threshold : 0.75\tFBeta : 0.001058\n",
      "Threshold : 0.80\tFBeta : 0.000000\n",
      "\n"
     ]
    },
    {
     "name": "stderr",
     "output_type": "stream",
     "text": [
      "\n",
      "Epoch 7/50  Mem : 14.1GB  LR : 9.95E-05  Loss: 0.5189: 100%|██████████| 44/44 [00:30<00:00,  1.44it/s]                                                                                                                                                            \n",
      "Val Loss: 0.5933: 100%|██████████| 17/17 [00:05<00:00,  3.06it/s]                                                                                                                                                                                                 "
     ]
    },
    {
     "name": "stdout",
     "output_type": "stream",
     "text": [
      "Threshold : 0.20\tFBeta : 0.264257\n",
      "Threshold : 0.25\tFBeta : 0.239849\n",
      "Threshold : 0.30\tFBeta : 0.218258\n",
      "Threshold : 0.35\tFBeta : 0.200843\n",
      "Threshold : 0.40\tFBeta : 0.181401\n",
      "Threshold : 0.45\tFBeta : 0.164284\n",
      "Threshold : 0.50\tFBeta : 0.143437\n",
      "Threshold : 0.55\tFBeta : 0.113047\n",
      "Threshold : 0.60\tFBeta : 0.078576\n",
      "Threshold : 0.65\tFBeta : 0.056125\n",
      "Threshold : 0.70\tFBeta : 0.040070\n",
      "Threshold : 0.75\tFBeta : 0.024747\n",
      "Threshold : 0.80\tFBeta : 0.011196\n",
      "\n"
     ]
    },
    {
     "name": "stderr",
     "output_type": "stream",
     "text": [
      "\n",
      "Epoch 8/50  Mem : 14.1GB  LR : 9.89E-05  Loss: 0.5041: 100%|██████████| 44/44 [00:30<00:00,  1.45it/s]                                                                                                                                                            \n",
      "Val Loss: 0.5864: 100%|██████████| 17/17 [00:05<00:00,  3.07it/s]                                                                                                                                                                                                 "
     ]
    },
    {
     "name": "stdout",
     "output_type": "stream",
     "text": [
      "Threshold : 0.20\tFBeta : 0.322183\n",
      "Threshold : 0.25\tFBeta : 0.274597\n",
      "Threshold : 0.30\tFBeta : 0.241644\n",
      "Threshold : 0.35\tFBeta : 0.217264\n",
      "Threshold : 0.40\tFBeta : 0.196138\n",
      "Threshold : 0.45\tFBeta : 0.175881\n",
      "Threshold : 0.50\tFBeta : 0.154548\n",
      "Threshold : 0.55\tFBeta : 0.129982\n",
      "Threshold : 0.60\tFBeta : 0.101447\n",
      "Threshold : 0.65\tFBeta : 0.069621\n",
      "Threshold : 0.70\tFBeta : 0.043926\n",
      "Threshold : 0.75\tFBeta : 0.029490\n",
      "Threshold : 0.80\tFBeta : 0.019318\n",
      "\n"
     ]
    },
    {
     "name": "stderr",
     "output_type": "stream",
     "text": [
      "\n",
      "Epoch 9/50  Mem : 14.1GB  LR : 9.81E-05  Loss: 0.4938: 100%|██████████| 44/44 [00:30<00:00,  1.45it/s]                                                                                                                                                            \n",
      "Val Loss: 0.5304: 100%|██████████| 17/17 [00:05<00:00,  3.07it/s]                                                                                                                                                                                                 "
     ]
    },
    {
     "name": "stdout",
     "output_type": "stream",
     "text": [
      "Threshold : 0.20\tFBeta : 0.382397\n",
      "Threshold : 0.25\tFBeta : 0.390163\n",
      "Threshold : 0.30\tFBeta : 0.393912\n",
      "Threshold : 0.35\tFBeta : 0.391018\n",
      "Threshold : 0.40\tFBeta : 0.385666\n",
      "Threshold : 0.45\tFBeta : 0.375340\n",
      "Threshold : 0.50\tFBeta : 0.354359\n",
      "Threshold : 0.55\tFBeta : 0.324876\n",
      "Threshold : 0.60\tFBeta : 0.293454\n",
      "Threshold : 0.65\tFBeta : 0.260503\n",
      "Threshold : 0.70\tFBeta : 0.218689\n",
      "Threshold : 0.75\tFBeta : 0.174195\n",
      "Threshold : 0.80\tFBeta : 0.133901\n",
      "\n"
     ]
    },
    {
     "name": "stderr",
     "output_type": "stream",
     "text": [
      "\n",
      "Epoch 10/50  Mem : 14.1GB  LR : 9.70E-05  Loss: 0.4847: 100%|██████████| 44/44 [00:30<00:00,  1.42it/s]                                                                                                                                                           \n",
      "Val Loss: 0.5044: 100%|██████████| 17/17 [00:05<00:00,  3.04it/s]                                                                                                                                                                                                 \n"
     ]
    },
    {
     "name": "stdout",
     "output_type": "stream",
     "text": [
      "Threshold : 0.20\tFBeta : 0.343677\n",
      "Threshold : 0.25\tFBeta : 0.358939\n",
      "Threshold : 0.30\tFBeta : 0.369985\n",
      "Threshold : 0.35\tFBeta : 0.378969\n",
      "Threshold : 0.40\tFBeta : 0.387401\n",
      "Threshold : 0.45\tFBeta : 0.396010\n",
      "Threshold : 0.50\tFBeta : 0.406918\n",
      "Threshold : 0.55\tFBeta : 0.422395\n",
      "Threshold : 0.60\tFBeta : 0.435212\n",
      "Threshold : 0.65\tFBeta : 0.445713\n",
      "Threshold : 0.70\tFBeta : 0.453479\n",
      "Threshold : 0.75\tFBeta : 0.462214\n",
      "Threshold : 0.80\tFBeta : 0.467903\n",
      "\n"
     ]
    },
    {
     "name": "stderr",
     "output_type": "stream",
     "text": [
      "Epoch 11/50  Mem : 14.1GB  LR : 9.57E-05  Loss: 0.4614: 100%|██████████| 44/44 [00:30<00:00,  1.43it/s]                                                                                                                                                           \n",
      "Val Loss: 0.4921: 100%|██████████| 17/17 [00:05<00:00,  3.06it/s]                                                                                                                                                                                                 "
     ]
    },
    {
     "name": "stdout",
     "output_type": "stream",
     "text": [
      "Threshold : 0.20\tFBeta : 0.399288\n",
      "Threshold : 0.25\tFBeta : 0.417849\n",
      "Threshold : 0.30\tFBeta : 0.433649\n",
      "Threshold : 0.35\tFBeta : 0.443490\n",
      "Threshold : 0.40\tFBeta : 0.451343\n",
      "Threshold : 0.45\tFBeta : 0.457724\n",
      "Threshold : 0.50\tFBeta : 0.460131\n",
      "Threshold : 0.55\tFBeta : 0.460712\n",
      "Threshold : 0.60\tFBeta : 0.456225\n",
      "Threshold : 0.65\tFBeta : 0.447600\n",
      "Threshold : 0.70\tFBeta : 0.431581\n",
      "Threshold : 0.75\tFBeta : 0.406031\n",
      "Threshold : 0.80\tFBeta : 0.376204\n",
      "\n"
     ]
    },
    {
     "name": "stderr",
     "output_type": "stream",
     "text": [
      "\n",
      "Epoch 12/50  Mem : 14.1GB  LR : 9.41E-05  Loss: 0.4579: 100%|██████████| 44/44 [00:30<00:00,  1.42it/s]                                                                                                                                                           \n",
      "Val Loss: 0.5738: 100%|██████████| 17/17 [00:05<00:00,  3.08it/s]                                                                                                                                                                                                 "
     ]
    },
    {
     "name": "stdout",
     "output_type": "stream",
     "text": [
      "Threshold : 0.20\tFBeta : 0.335093\n",
      "Threshold : 0.25\tFBeta : 0.282845\n",
      "Threshold : 0.30\tFBeta : 0.244032\n",
      "Threshold : 0.35\tFBeta : 0.210827\n",
      "Threshold : 0.40\tFBeta : 0.180212\n",
      "Threshold : 0.45\tFBeta : 0.150559\n",
      "Threshold : 0.50\tFBeta : 0.128250\n",
      "Threshold : 0.55\tFBeta : 0.109577\n",
      "Threshold : 0.60\tFBeta : 0.095624\n",
      "Threshold : 0.65\tFBeta : 0.080235\n",
      "Threshold : 0.70\tFBeta : 0.065781\n",
      "Threshold : 0.75\tFBeta : 0.050672\n",
      "Threshold : 0.80\tFBeta : 0.034354\n",
      "\n"
     ]
    },
    {
     "name": "stderr",
     "output_type": "stream",
     "text": [
      "\n",
      "Epoch 13/50  Mem : 14.1GB  LR : 9.24E-05  Loss: 0.4561: 100%|██████████| 44/44 [00:30<00:00,  1.43it/s]                                                                                                                                                           \n",
      "Val Loss: 0.5365: 100%|██████████| 17/17 [00:05<00:00,  3.07it/s]                                                                                                                                                                                                 "
     ]
    },
    {
     "name": "stdout",
     "output_type": "stream",
     "text": [
      "Threshold : 0.20\tFBeta : 0.422548\n",
      "Threshold : 0.25\tFBeta : 0.419298\n",
      "Threshold : 0.30\tFBeta : 0.411362\n",
      "Threshold : 0.35\tFBeta : 0.399797\n",
      "Threshold : 0.40\tFBeta : 0.386054\n",
      "Threshold : 0.45\tFBeta : 0.370180\n",
      "Threshold : 0.50\tFBeta : 0.346319\n",
      "Threshold : 0.55\tFBeta : 0.322697\n",
      "Threshold : 0.60\tFBeta : 0.290725\n",
      "Threshold : 0.65\tFBeta : 0.259389\n",
      "Threshold : 0.70\tFBeta : 0.227965\n",
      "Threshold : 0.75\tFBeta : 0.193500\n",
      "Threshold : 0.80\tFBeta : 0.154531\n",
      "\n"
     ]
    },
    {
     "name": "stderr",
     "output_type": "stream",
     "text": [
      "\n",
      "Epoch 14/50  Mem : 14.1GB  LR : 9.05E-05  Loss: 0.4396: 100%|██████████| 44/44 [00:30<00:00,  1.44it/s]                                                                                                                                                           \n",
      "Val Loss: 0.4872: 100%|██████████| 17/17 [00:05<00:00,  3.06it/s]                                                                                                                                                                                                 "
     ]
    },
    {
     "name": "stdout",
     "output_type": "stream",
     "text": [
      "Threshold : 0.20\tFBeta : 0.405733\n",
      "Threshold : 0.25\tFBeta : 0.417290\n",
      "Threshold : 0.30\tFBeta : 0.424964\n",
      "Threshold : 0.35\tFBeta : 0.431504\n",
      "Threshold : 0.40\tFBeta : 0.436323\n",
      "Threshold : 0.45\tFBeta : 0.441249\n",
      "Threshold : 0.50\tFBeta : 0.447360\n",
      "Threshold : 0.55\tFBeta : 0.453255\n",
      "Threshold : 0.60\tFBeta : 0.459305\n",
      "Threshold : 0.65\tFBeta : 0.463125\n",
      "Threshold : 0.70\tFBeta : 0.464709\n",
      "Threshold : 0.75\tFBeta : 0.463444\n",
      "Threshold : 0.80\tFBeta : 0.456272\n",
      "\n"
     ]
    },
    {
     "name": "stderr",
     "output_type": "stream",
     "text": [
      "\n",
      "Epoch 15/50  Mem : 14.1GB  LR : 8.83E-05  Loss: 0.4319: 100%|██████████| 44/44 [00:30<00:00,  1.46it/s]                                                                                                                                                           \n",
      "Val Loss: 0.4812: 100%|██████████| 17/17 [00:05<00:00,  3.07it/s]                                                                                                                                                                                                 "
     ]
    },
    {
     "name": "stdout",
     "output_type": "stream",
     "text": [
      "Threshold : 0.20\tFBeta : 0.364037\n",
      "Threshold : 0.25\tFBeta : 0.373746\n",
      "Threshold : 0.30\tFBeta : 0.382096\n",
      "Threshold : 0.35\tFBeta : 0.390175\n",
      "Threshold : 0.40\tFBeta : 0.398477\n",
      "Threshold : 0.45\tFBeta : 0.407400\n",
      "Threshold : 0.50\tFBeta : 0.417817\n",
      "Threshold : 0.55\tFBeta : 0.427563\n",
      "Threshold : 0.60\tFBeta : 0.434799\n",
      "Threshold : 0.65\tFBeta : 0.441408\n",
      "Threshold : 0.70\tFBeta : 0.447417\n",
      "Threshold : 0.75\tFBeta : 0.453140\n",
      "Threshold : 0.80\tFBeta : 0.454183\n",
      "\n"
     ]
    },
    {
     "name": "stderr",
     "output_type": "stream",
     "text": [
      "\n",
      "Epoch 16/50  Mem : 14.1GB  LR : 8.60E-05  Loss: 0.4291: 100%|██████████| 44/44 [00:30<00:00,  1.44it/s]                                                                                                                                                           \n",
      "Val Loss: 0.5815: 100%|██████████| 17/17 [00:05<00:00,  3.06it/s]                                                                                                                                                                                                 "
     ]
    },
    {
     "name": "stdout",
     "output_type": "stream",
     "text": [
      "Threshold : 0.20\tFBeta : 0.394682\n",
      "Threshold : 0.25\tFBeta : 0.376208\n",
      "Threshold : 0.30\tFBeta : 0.363132\n",
      "Threshold : 0.35\tFBeta : 0.351005\n",
      "Threshold : 0.40\tFBeta : 0.337472\n",
      "Threshold : 0.45\tFBeta : 0.322971\n",
      "Threshold : 0.50\tFBeta : 0.308354\n",
      "Threshold : 0.55\tFBeta : 0.292373\n",
      "Threshold : 0.60\tFBeta : 0.271808\n",
      "Threshold : 0.65\tFBeta : 0.244074\n",
      "Threshold : 0.70\tFBeta : 0.211844\n",
      "Threshold : 0.75\tFBeta : 0.182394\n",
      "Threshold : 0.80\tFBeta : 0.153008\n",
      "\n"
     ]
    },
    {
     "name": "stderr",
     "output_type": "stream",
     "text": [
      "\n",
      "Epoch 17/50  Mem : 14.1GB  LR : 8.35E-05  Loss: 0.4182: 100%|██████████| 44/44 [00:30<00:00,  1.44it/s]                                                                                                                                                           \n",
      "Val Loss: 0.8920: 100%|██████████| 17/17 [00:05<00:00,  3.06it/s]                                                                                                                                                                                                 "
     ]
    },
    {
     "name": "stdout",
     "output_type": "stream",
     "text": [
      "Threshold : 0.20\tFBeta : 0.244027\n",
      "Threshold : 0.25\tFBeta : 0.248178\n",
      "Threshold : 0.30\tFBeta : 0.251481\n",
      "Threshold : 0.35\tFBeta : 0.254610\n",
      "Threshold : 0.40\tFBeta : 0.257799\n",
      "Threshold : 0.45\tFBeta : 0.262066\n",
      "Threshold : 0.50\tFBeta : 0.271071\n",
      "Threshold : 0.55\tFBeta : 0.277135\n",
      "Threshold : 0.60\tFBeta : 0.282951\n",
      "Threshold : 0.65\tFBeta : 0.289020\n",
      "Threshold : 0.70\tFBeta : 0.295286\n",
      "Threshold : 0.75\tFBeta : 0.302439\n",
      "Threshold : 0.80\tFBeta : 0.310691\n",
      "\n"
     ]
    },
    {
     "name": "stderr",
     "output_type": "stream",
     "text": [
      "\n",
      "Epoch 18/50  Mem : 14.1GB  LR : 8.08E-05  Loss: 0.4213: 100%|██████████| 44/44 [00:30<00:00,  1.44it/s]                                                                                                                                                           \n",
      "Val Loss: 0.4723: 100%|██████████| 17/17 [00:05<00:00,  3.03it/s]                                                                                                                                                                                                 \n"
     ]
    },
    {
     "name": "stdout",
     "output_type": "stream",
     "text": [
      "Threshold : 0.20\tFBeta : 0.400818\n",
      "Threshold : 0.25\tFBeta : 0.418665\n",
      "Threshold : 0.30\tFBeta : 0.431114\n",
      "Threshold : 0.35\tFBeta : 0.440983\n",
      "Threshold : 0.40\tFBeta : 0.451084\n",
      "Threshold : 0.45\tFBeta : 0.461118\n",
      "Threshold : 0.50\tFBeta : 0.470312\n",
      "Threshold : 0.55\tFBeta : 0.475245\n",
      "Threshold : 0.60\tFBeta : 0.479121\n",
      "Threshold : 0.65\tFBeta : 0.483280\n",
      "Threshold : 0.70\tFBeta : 0.484995\n",
      "Threshold : 0.75\tFBeta : 0.482359\n",
      "Threshold : 0.80\tFBeta : 0.469333\n",
      "\n"
     ]
    },
    {
     "name": "stderr",
     "output_type": "stream",
     "text": [
      "Epoch 19/50  Mem : 14.1GB  LR : 7.80E-05  Loss: 0.4130: 100%|██████████| 44/44 [00:30<00:00,  1.44it/s]                                                                                                                                                           \n",
      "Val Loss: 0.5558: 100%|██████████| 17/17 [00:05<00:00,  3.08it/s]                                                                                                                                                                                                 "
     ]
    },
    {
     "name": "stdout",
     "output_type": "stream",
     "text": [
      "Threshold : 0.20\tFBeta : 0.322026\n",
      "Threshold : 0.25\tFBeta : 0.329014\n",
      "Threshold : 0.30\tFBeta : 0.334405\n",
      "Threshold : 0.35\tFBeta : 0.338669\n",
      "Threshold : 0.40\tFBeta : 0.343080\n",
      "Threshold : 0.45\tFBeta : 0.349968\n",
      "Threshold : 0.50\tFBeta : 0.358481\n",
      "Threshold : 0.55\tFBeta : 0.364495\n",
      "Threshold : 0.60\tFBeta : 0.370301\n",
      "Threshold : 0.65\tFBeta : 0.375821\n",
      "Threshold : 0.70\tFBeta : 0.381177\n",
      "Threshold : 0.75\tFBeta : 0.386527\n",
      "Threshold : 0.80\tFBeta : 0.392146\n",
      "\n"
     ]
    },
    {
     "name": "stderr",
     "output_type": "stream",
     "text": [
      "\n",
      "Epoch 20/50  Mem : 14.1GB  LR : 7.50E-05  Loss: 0.4111: 100%|██████████| 44/44 [00:30<00:00,  1.44it/s]                                                                                                                                                           \n",
      "Val Loss: 0.5286: 100%|██████████| 17/17 [00:05<00:00,  3.06it/s]                                                                                                                                                                                                 "
     ]
    },
    {
     "name": "stdout",
     "output_type": "stream",
     "text": [
      "Threshold : 0.20\tFBeta : 0.431784\n",
      "Threshold : 0.25\tFBeta : 0.423671\n",
      "Threshold : 0.30\tFBeta : 0.416631\n",
      "Threshold : 0.35\tFBeta : 0.409785\n",
      "Threshold : 0.40\tFBeta : 0.403157\n",
      "Threshold : 0.45\tFBeta : 0.397099\n",
      "Threshold : 0.50\tFBeta : 0.390877\n",
      "Threshold : 0.55\tFBeta : 0.380255\n",
      "Threshold : 0.60\tFBeta : 0.367127\n",
      "Threshold : 0.65\tFBeta : 0.353006\n",
      "Threshold : 0.70\tFBeta : 0.338126\n",
      "Threshold : 0.75\tFBeta : 0.317989\n",
      "Threshold : 0.80\tFBeta : 0.290903\n",
      "\n"
     ]
    },
    {
     "name": "stderr",
     "output_type": "stream",
     "text": [
      "\n",
      "Epoch 21/50  Mem : 14.1GB  LR : 7.19E-05  Loss: 0.3966: 100%|██████████| 44/44 [00:30<00:00,  1.44it/s]                                                                                                                                                           \n",
      "Val Loss: 0.5205: 100%|██████████| 17/17 [00:05<00:00,  3.08it/s]                                                                                                                                                                                                 "
     ]
    },
    {
     "name": "stdout",
     "output_type": "stream",
     "text": [
      "Threshold : 0.20\tFBeta : 0.351328\n",
      "Threshold : 0.25\tFBeta : 0.358236\n",
      "Threshold : 0.30\tFBeta : 0.363341\n",
      "Threshold : 0.35\tFBeta : 0.366693\n",
      "Threshold : 0.40\tFBeta : 0.370571\n",
      "Threshold : 0.45\tFBeta : 0.374053\n",
      "Threshold : 0.50\tFBeta : 0.378975\n",
      "Threshold : 0.55\tFBeta : 0.383934\n",
      "Threshold : 0.60\tFBeta : 0.387731\n",
      "Threshold : 0.65\tFBeta : 0.389999\n",
      "Threshold : 0.70\tFBeta : 0.392093\n",
      "Threshold : 0.75\tFBeta : 0.391838\n",
      "Threshold : 0.80\tFBeta : 0.388015\n",
      "\n"
     ]
    },
    {
     "name": "stderr",
     "output_type": "stream",
     "text": [
      "\n",
      "Epoch 22/50  Mem : 14.1GB  LR : 6.87E-05  Loss: 0.4139: 100%|██████████| 44/44 [00:30<00:00,  1.43it/s]                                                                                                                                                           \n",
      "Val Loss: 0.6023: 100%|██████████| 17/17 [00:05<00:00,  3.10it/s]                                                                                                                                                                                                 "
     ]
    },
    {
     "name": "stdout",
     "output_type": "stream",
     "text": [
      "Threshold : 0.20\tFBeta : 0.395382\n",
      "Threshold : 0.25\tFBeta : 0.374473\n",
      "Threshold : 0.30\tFBeta : 0.354854\n",
      "Threshold : 0.35\tFBeta : 0.337586\n",
      "Threshold : 0.40\tFBeta : 0.322459\n",
      "Threshold : 0.45\tFBeta : 0.307895\n",
      "Threshold : 0.50\tFBeta : 0.291852\n",
      "Threshold : 0.55\tFBeta : 0.274661\n",
      "Threshold : 0.60\tFBeta : 0.255306\n",
      "Threshold : 0.65\tFBeta : 0.233571\n",
      "Threshold : 0.70\tFBeta : 0.209984\n",
      "Threshold : 0.75\tFBeta : 0.183133\n",
      "Threshold : 0.80\tFBeta : 0.156911\n",
      "\n"
     ]
    },
    {
     "name": "stderr",
     "output_type": "stream",
     "text": [
      "\n",
      "Epoch 23/50  Mem : 14.1GB  LR : 6.55E-05  Loss: 0.3882: 100%|██████████| 44/44 [00:30<00:00,  1.42it/s]                                                                                                                                                           \n",
      "Val Loss: 0.5970: 100%|██████████| 17/17 [00:05<00:00,  3.05it/s]                                                                                                                                                                                                 "
     ]
    },
    {
     "name": "stdout",
     "output_type": "stream",
     "text": [
      "Threshold : 0.20\tFBeta : 0.304265\n",
      "Threshold : 0.25\tFBeta : 0.312189\n",
      "Threshold : 0.30\tFBeta : 0.319049\n",
      "Threshold : 0.35\tFBeta : 0.325597\n",
      "Threshold : 0.40\tFBeta : 0.331608\n",
      "Threshold : 0.45\tFBeta : 0.338210\n",
      "Threshold : 0.50\tFBeta : 0.346105\n",
      "Threshold : 0.55\tFBeta : 0.353099\n",
      "Threshold : 0.60\tFBeta : 0.359601\n",
      "Threshold : 0.65\tFBeta : 0.366910\n",
      "Threshold : 0.70\tFBeta : 0.374552\n",
      "Threshold : 0.75\tFBeta : 0.383223\n",
      "Threshold : 0.80\tFBeta : 0.393240\n",
      "\n"
     ]
    },
    {
     "name": "stderr",
     "output_type": "stream",
     "text": [
      "\n",
      "Epoch 24/50  Mem : 14.1GB  LR : 6.21E-05  Loss: 0.3807: 100%|██████████| 44/44 [00:30<00:00,  1.45it/s]                                                                                                                                                           \n",
      "Val Loss: 0.4959: 100%|██████████| 17/17 [00:05<00:00,  3.05it/s]                                                                                                                                                                                                 "
     ]
    },
    {
     "name": "stdout",
     "output_type": "stream",
     "text": [
      "Threshold : 0.20\tFBeta : 0.462556\n",
      "Threshold : 0.25\tFBeta : 0.467552\n",
      "Threshold : 0.30\tFBeta : 0.469226\n",
      "Threshold : 0.35\tFBeta : 0.468596\n",
      "Threshold : 0.40\tFBeta : 0.467386\n",
      "Threshold : 0.45\tFBeta : 0.466023\n",
      "Threshold : 0.50\tFBeta : 0.465238\n",
      "Threshold : 0.55\tFBeta : 0.462224\n",
      "Threshold : 0.60\tFBeta : 0.457378\n",
      "Threshold : 0.65\tFBeta : 0.451139\n",
      "Threshold : 0.70\tFBeta : 0.443130\n",
      "Threshold : 0.75\tFBeta : 0.432455\n",
      "Threshold : 0.80\tFBeta : 0.415490\n",
      "\n"
     ]
    },
    {
     "name": "stderr",
     "output_type": "stream",
     "text": [
      "\n",
      "Epoch 25/50  Mem : 14.1GB  LR : 5.87E-05  Loss: 0.3766: 100%|██████████| 44/44 [00:30<00:00,  1.44it/s]                                                                                                                                                           \n",
      "Val Loss: 0.4967: 100%|██████████| 17/17 [00:05<00:00,  3.10it/s]                                                                                                                                                                                                 "
     ]
    },
    {
     "name": "stdout",
     "output_type": "stream",
     "text": [
      "Threshold : 0.20\tFBeta : 0.365434\n",
      "Threshold : 0.25\tFBeta : 0.377514\n",
      "Threshold : 0.30\tFBeta : 0.387868\n",
      "Threshold : 0.35\tFBeta : 0.397017\n",
      "Threshold : 0.40\tFBeta : 0.405174\n",
      "Threshold : 0.45\tFBeta : 0.412875\n",
      "Threshold : 0.50\tFBeta : 0.421018\n",
      "Threshold : 0.55\tFBeta : 0.429580\n",
      "Threshold : 0.60\tFBeta : 0.438441\n",
      "Threshold : 0.65\tFBeta : 0.447745\n",
      "Threshold : 0.70\tFBeta : 0.458036\n",
      "Threshold : 0.75\tFBeta : 0.469817\n",
      "Threshold : 0.80\tFBeta : 0.482245\n",
      "\n"
     ]
    },
    {
     "name": "stderr",
     "output_type": "stream",
     "text": [
      "\n",
      "Epoch 26/50  Mem : 14.1GB  LR : 5.52E-05  Loss: 0.3855: 100%|██████████| 44/44 [00:30<00:00,  1.44it/s]                                                                                                                                                           \n",
      "Val Loss: 0.5751: 100%|██████████| 17/17 [00:05<00:00,  3.05it/s]                                                                                                                                                                                                 "
     ]
    },
    {
     "name": "stdout",
     "output_type": "stream",
     "text": [
      "Threshold : 0.20\tFBeta : 0.317925\n",
      "Threshold : 0.25\tFBeta : 0.324445\n",
      "Threshold : 0.30\tFBeta : 0.330250\n",
      "Threshold : 0.35\tFBeta : 0.335671\n",
      "Threshold : 0.40\tFBeta : 0.341500\n",
      "Threshold : 0.45\tFBeta : 0.349356\n",
      "Threshold : 0.50\tFBeta : 0.363599\n",
      "Threshold : 0.55\tFBeta : 0.370618\n",
      "Threshold : 0.60\tFBeta : 0.376698\n",
      "Threshold : 0.65\tFBeta : 0.382975\n",
      "Threshold : 0.70\tFBeta : 0.390740\n",
      "Threshold : 0.75\tFBeta : 0.399698\n",
      "Threshold : 0.80\tFBeta : 0.408918\n",
      "\n"
     ]
    },
    {
     "name": "stderr",
     "output_type": "stream",
     "text": [
      "\n",
      "Epoch 27/50  Mem : 14.1GB  LR : 5.17E-05  Loss: 0.3751: 100%|██████████| 44/44 [00:30<00:00,  1.43it/s]                                                                                                                                                           \n",
      "Val Loss: 0.4378: 100%|██████████| 17/17 [00:05<00:00,  3.08it/s]                                                                                                                                                                                                 \n"
     ]
    },
    {
     "name": "stdout",
     "output_type": "stream",
     "text": [
      "Threshold : 0.20\tFBeta : 0.467439\n",
      "Threshold : 0.25\tFBeta : 0.478879\n",
      "Threshold : 0.30\tFBeta : 0.488424\n",
      "Threshold : 0.35\tFBeta : 0.496877\n",
      "Threshold : 0.40\tFBeta : 0.504134\n",
      "Threshold : 0.45\tFBeta : 0.511309\n",
      "Threshold : 0.50\tFBeta : 0.517596\n",
      "Threshold : 0.55\tFBeta : 0.521549\n",
      "Threshold : 0.60\tFBeta : 0.525754\n",
      "Threshold : 0.65\tFBeta : 0.529621\n",
      "Threshold : 0.70\tFBeta : 0.532214\n",
      "Threshold : 0.75\tFBeta : 0.534472\n",
      "Threshold : 0.80\tFBeta : 0.532513\n",
      "\n"
     ]
    },
    {
     "name": "stderr",
     "output_type": "stream",
     "text": [
      "Epoch 28/50  Mem : 14.1GB  LR : 4.83E-05  Loss: 0.3661: 100%|██████████| 44/44 [00:31<00:00,  1.41it/s]                                                                                                                                                           \n",
      "Val Loss: 0.4673: 100%|██████████| 17/17 [00:05<00:00,  3.08it/s]                                                                                                                                                                                                 "
     ]
    },
    {
     "name": "stdout",
     "output_type": "stream",
     "text": [
      "Threshold : 0.20\tFBeta : 0.411371\n",
      "Threshold : 0.25\tFBeta : 0.422886\n",
      "Threshold : 0.30\tFBeta : 0.431299\n",
      "Threshold : 0.35\tFBeta : 0.437424\n",
      "Threshold : 0.40\tFBeta : 0.442563\n",
      "Threshold : 0.45\tFBeta : 0.447583\n",
      "Threshold : 0.50\tFBeta : 0.451987\n",
      "Threshold : 0.55\tFBeta : 0.456516\n",
      "Threshold : 0.60\tFBeta : 0.461249\n",
      "Threshold : 0.65\tFBeta : 0.465599\n",
      "Threshold : 0.70\tFBeta : 0.469857\n",
      "Threshold : 0.75\tFBeta : 0.472636\n",
      "Threshold : 0.80\tFBeta : 0.473938\n",
      "\n"
     ]
    },
    {
     "name": "stderr",
     "output_type": "stream",
     "text": [
      "\n",
      "Epoch 29/50  Mem : 14.1GB  LR : 4.48E-05  Loss: 0.3704: 100%|██████████| 44/44 [00:30<00:00,  1.43it/s]                                                                                                                                                           \n",
      "Val Loss: 0.4750: 100%|██████████| 17/17 [00:05<00:00,  3.07it/s]                                                                                                                                                                                                 "
     ]
    },
    {
     "name": "stdout",
     "output_type": "stream",
     "text": [
      "Threshold : 0.20\tFBeta : 0.374627\n",
      "Threshold : 0.25\tFBeta : 0.388046\n",
      "Threshold : 0.30\tFBeta : 0.399045\n",
      "Threshold : 0.35\tFBeta : 0.408085\n",
      "Threshold : 0.40\tFBeta : 0.416296\n",
      "Threshold : 0.45\tFBeta : 0.424295\n",
      "Threshold : 0.50\tFBeta : 0.431974\n",
      "Threshold : 0.55\tFBeta : 0.439824\n",
      "Threshold : 0.60\tFBeta : 0.448529\n",
      "Threshold : 0.65\tFBeta : 0.458255\n",
      "Threshold : 0.70\tFBeta : 0.469068\n",
      "Threshold : 0.75\tFBeta : 0.480326\n",
      "Threshold : 0.80\tFBeta : 0.493317\n",
      "\n"
     ]
    },
    {
     "name": "stderr",
     "output_type": "stream",
     "text": [
      "\n",
      "Epoch 30/50  Mem : 14.1GB  LR : 4.13E-05  Loss: 0.3627: 100%|██████████| 44/44 [00:30<00:00,  1.46it/s]                                                                                                                                                           \n",
      "Val Loss: 0.4618: 100%|██████████| 17/17 [00:05<00:00,  3.04it/s]                                                                                                                                                                                                 "
     ]
    },
    {
     "name": "stdout",
     "output_type": "stream",
     "text": [
      "Threshold : 0.20\tFBeta : 0.422081\n",
      "Threshold : 0.25\tFBeta : 0.430910\n",
      "Threshold : 0.30\tFBeta : 0.437915\n",
      "Threshold : 0.35\tFBeta : 0.442780\n",
      "Threshold : 0.40\tFBeta : 0.445842\n",
      "Threshold : 0.45\tFBeta : 0.447265\n",
      "Threshold : 0.50\tFBeta : 0.448317\n",
      "Threshold : 0.55\tFBeta : 0.449750\n",
      "Threshold : 0.60\tFBeta : 0.450220\n",
      "Threshold : 0.65\tFBeta : 0.450390\n",
      "Threshold : 0.70\tFBeta : 0.449699\n",
      "Threshold : 0.75\tFBeta : 0.447748\n",
      "Threshold : 0.80\tFBeta : 0.442633\n",
      "\n"
     ]
    },
    {
     "name": "stderr",
     "output_type": "stream",
     "text": [
      "\n",
      "Epoch 31/50  Mem : 14.1GB  LR : 3.79E-05  Loss: 0.3551: 100%|██████████| 44/44 [00:30<00:00,  1.45it/s]                                                                                                                                                           \n",
      "Val Loss: 0.5091: 100%|██████████| 17/17 [00:05<00:00,  3.08it/s]                                                                                                                                                                                                 "
     ]
    },
    {
     "name": "stdout",
     "output_type": "stream",
     "text": [
      "Threshold : 0.20\tFBeta : 0.366998\n",
      "Threshold : 0.25\tFBeta : 0.376636\n",
      "Threshold : 0.30\tFBeta : 0.384532\n",
      "Threshold : 0.35\tFBeta : 0.390880\n",
      "Threshold : 0.40\tFBeta : 0.396164\n",
      "Threshold : 0.45\tFBeta : 0.401776\n",
      "Threshold : 0.50\tFBeta : 0.408244\n",
      "Threshold : 0.55\tFBeta : 0.414006\n",
      "Threshold : 0.60\tFBeta : 0.419018\n",
      "Threshold : 0.65\tFBeta : 0.424323\n",
      "Threshold : 0.70\tFBeta : 0.429774\n",
      "Threshold : 0.75\tFBeta : 0.435367\n",
      "Threshold : 0.80\tFBeta : 0.441418\n",
      "\n"
     ]
    },
    {
     "name": "stderr",
     "output_type": "stream",
     "text": [
      "\n",
      "Epoch 32/50  Mem : 14.1GB  LR : 3.45E-05  Loss: 0.3622: 100%|██████████| 44/44 [00:30<00:00,  1.44it/s]                                                                                                                                                           \n",
      "Val Loss: 0.4731: 100%|██████████| 17/17 [00:05<00:00,  3.07it/s]                                                                                                                                                                                                 "
     ]
    },
    {
     "name": "stdout",
     "output_type": "stream",
     "text": [
      "Threshold : 0.20\tFBeta : 0.473287\n",
      "Threshold : 0.25\tFBeta : 0.478860\n",
      "Threshold : 0.30\tFBeta : 0.482744\n",
      "Threshold : 0.35\tFBeta : 0.485597\n",
      "Threshold : 0.40\tFBeta : 0.488229\n",
      "Threshold : 0.45\tFBeta : 0.489958\n",
      "Threshold : 0.50\tFBeta : 0.491933\n",
      "Threshold : 0.55\tFBeta : 0.493100\n",
      "Threshold : 0.60\tFBeta : 0.491082\n",
      "Threshold : 0.65\tFBeta : 0.487841\n",
      "Threshold : 0.70\tFBeta : 0.482017\n",
      "Threshold : 0.75\tFBeta : 0.473409\n",
      "Threshold : 0.80\tFBeta : 0.460616\n",
      "\n"
     ]
    },
    {
     "name": "stderr",
     "output_type": "stream",
     "text": [
      "\n",
      "Epoch 33/50  Mem : 14.1GB  LR : 3.13E-05  Loss: 0.3527: 100%|██████████| 44/44 [00:30<00:00,  1.44it/s]                                                                                                                                                           \n",
      "Val Loss: 0.4445: 100%|██████████| 17/17 [00:05<00:00,  3.07it/s]                                                                                                                                                                                                 "
     ]
    },
    {
     "name": "stdout",
     "output_type": "stream",
     "text": [
      "Threshold : 0.20\tFBeta : 0.458903\n",
      "Threshold : 0.25\tFBeta : 0.467715\n",
      "Threshold : 0.30\tFBeta : 0.476792\n",
      "Threshold : 0.35\tFBeta : 0.485387\n",
      "Threshold : 0.40\tFBeta : 0.492062\n",
      "Threshold : 0.45\tFBeta : 0.497696\n",
      "Threshold : 0.50\tFBeta : 0.503884\n",
      "Threshold : 0.55\tFBeta : 0.508383\n",
      "Threshold : 0.60\tFBeta : 0.512397\n",
      "Threshold : 0.65\tFBeta : 0.517101\n",
      "Threshold : 0.70\tFBeta : 0.522336\n",
      "Threshold : 0.75\tFBeta : 0.526607\n",
      "Threshold : 0.80\tFBeta : 0.526082\n",
      "\n"
     ]
    },
    {
     "name": "stderr",
     "output_type": "stream",
     "text": [
      "\n",
      "Epoch 34/50  Mem : 14.1GB  LR : 2.81E-05  Loss: 0.3515: 100%|██████████| 44/44 [00:30<00:00,  1.44it/s]                                                                                                                                                           \n",
      "Val Loss: 0.4496: 100%|██████████| 17/17 [00:05<00:00,  3.06it/s]                                                                                                                                                                                                 "
     ]
    },
    {
     "name": "stdout",
     "output_type": "stream",
     "text": [
      "Threshold : 0.20\tFBeta : 0.418794\n",
      "Threshold : 0.25\tFBeta : 0.427408\n",
      "Threshold : 0.30\tFBeta : 0.434712\n",
      "Threshold : 0.35\tFBeta : 0.440993\n",
      "Threshold : 0.40\tFBeta : 0.446548\n",
      "Threshold : 0.45\tFBeta : 0.451898\n",
      "Threshold : 0.50\tFBeta : 0.457121\n",
      "Threshold : 0.55\tFBeta : 0.463122\n",
      "Threshold : 0.60\tFBeta : 0.469241\n",
      "Threshold : 0.65\tFBeta : 0.475682\n",
      "Threshold : 0.70\tFBeta : 0.482495\n",
      "Threshold : 0.75\tFBeta : 0.490480\n",
      "Threshold : 0.80\tFBeta : 0.499193\n",
      "\n"
     ]
    },
    {
     "name": "stderr",
     "output_type": "stream",
     "text": [
      "\n",
      "Epoch 35/50  Mem : 14.1GB  LR : 2.50E-05  Loss: 0.3467: 100%|██████████| 44/44 [00:30<00:00,  1.45it/s]                                                                                                                                                           \n",
      "Val Loss: 0.4656: 100%|██████████| 17/17 [00:05<00:00,  3.05it/s]                                                                                                                                                                                                 "
     ]
    },
    {
     "name": "stdout",
     "output_type": "stream",
     "text": [
      "Threshold : 0.20\tFBeta : 0.454561\n",
      "Threshold : 0.25\tFBeta : 0.460272\n",
      "Threshold : 0.30\tFBeta : 0.465369\n",
      "Threshold : 0.35\tFBeta : 0.470530\n",
      "Threshold : 0.40\tFBeta : 0.475050\n",
      "Threshold : 0.45\tFBeta : 0.478766\n",
      "Threshold : 0.50\tFBeta : 0.481784\n",
      "Threshold : 0.55\tFBeta : 0.485365\n",
      "Threshold : 0.60\tFBeta : 0.489667\n",
      "Threshold : 0.65\tFBeta : 0.493253\n",
      "Threshold : 0.70\tFBeta : 0.496105\n",
      "Threshold : 0.75\tFBeta : 0.497900\n",
      "Threshold : 0.80\tFBeta : 0.495353\n",
      "\n"
     ]
    },
    {
     "name": "stderr",
     "output_type": "stream",
     "text": [
      "\n",
      "Epoch 36/50  Mem : 14.1GB  LR : 2.20E-05  Loss: 0.3327: 100%|██████████| 44/44 [00:30<00:00,  1.43it/s]                                                                                                                                                           \n",
      "Val Loss: 0.4728: 100%|██████████| 17/17 [00:05<00:00,  3.05it/s]                                                                                                                                                                                                 "
     ]
    },
    {
     "name": "stdout",
     "output_type": "stream",
     "text": [
      "Threshold : 0.20\tFBeta : 0.400930\n",
      "Threshold : 0.25\tFBeta : 0.408003\n",
      "Threshold : 0.30\tFBeta : 0.413358\n",
      "Threshold : 0.35\tFBeta : 0.417746\n",
      "Threshold : 0.40\tFBeta : 0.421545\n",
      "Threshold : 0.45\tFBeta : 0.424990\n",
      "Threshold : 0.50\tFBeta : 0.428095\n",
      "Threshold : 0.55\tFBeta : 0.430883\n",
      "Threshold : 0.60\tFBeta : 0.433482\n",
      "Threshold : 0.65\tFBeta : 0.436490\n",
      "Threshold : 0.70\tFBeta : 0.440208\n",
      "Threshold : 0.75\tFBeta : 0.444593\n",
      "Threshold : 0.80\tFBeta : 0.448635\n",
      "\n"
     ]
    },
    {
     "name": "stderr",
     "output_type": "stream",
     "text": [
      "\n",
      "Epoch 37/50  Mem : 14.1GB  LR : 1.92E-05  Loss: 0.3429: 100%|██████████| 44/44 [00:30<00:00,  1.44it/s]                                                                                                                                                           \n",
      "Val Loss: 0.4969: 100%|██████████| 17/17 [00:05<00:00,  3.05it/s]                                                                                                                                                                                                 "
     ]
    },
    {
     "name": "stdout",
     "output_type": "stream",
     "text": [
      "Threshold : 0.20\tFBeta : 0.508208\n",
      "Threshold : 0.25\tFBeta : 0.508304\n",
      "Threshold : 0.30\tFBeta : 0.507278\n",
      "Threshold : 0.35\tFBeta : 0.505798\n",
      "Threshold : 0.40\tFBeta : 0.504532\n",
      "Threshold : 0.45\tFBeta : 0.502894\n",
      "Threshold : 0.50\tFBeta : 0.500815\n",
      "Threshold : 0.55\tFBeta : 0.497526\n",
      "Threshold : 0.60\tFBeta : 0.492201\n",
      "Threshold : 0.65\tFBeta : 0.485136\n",
      "Threshold : 0.70\tFBeta : 0.474920\n",
      "Threshold : 0.75\tFBeta : 0.460151\n",
      "Threshold : 0.80\tFBeta : 0.438850\n",
      "\n"
     ]
    },
    {
     "name": "stderr",
     "output_type": "stream",
     "text": [
      "\n",
      "Epoch 38/50  Mem : 14.1GB  LR : 1.65E-05  Loss: 0.3301: 100%|██████████| 44/44 [00:30<00:00,  1.44it/s]                                                                                                                                                           \n",
      "Val Loss: 0.4637: 100%|██████████| 17/17 [00:05<00:00,  3.06it/s]                                                                                                                                                                                                 "
     ]
    },
    {
     "name": "stdout",
     "output_type": "stream",
     "text": [
      "Threshold : 0.20\tFBeta : 0.450135\n",
      "Threshold : 0.25\tFBeta : 0.458629\n",
      "Threshold : 0.30\tFBeta : 0.464726\n",
      "Threshold : 0.35\tFBeta : 0.470089\n",
      "Threshold : 0.40\tFBeta : 0.475504\n",
      "Threshold : 0.45\tFBeta : 0.480622\n",
      "Threshold : 0.50\tFBeta : 0.485508\n",
      "Threshold : 0.55\tFBeta : 0.489708\n",
      "Threshold : 0.60\tFBeta : 0.493442\n",
      "Threshold : 0.65\tFBeta : 0.496983\n",
      "Threshold : 0.70\tFBeta : 0.499686\n",
      "Threshold : 0.75\tFBeta : 0.501944\n",
      "Threshold : 0.80\tFBeta : 0.504521\n",
      "\n"
     ]
    },
    {
     "name": "stderr",
     "output_type": "stream",
     "text": [
      "\n",
      "Epoch 39/50  Mem : 14.1GB  LR : 1.40E-05  Loss: 0.3377: 100%|██████████| 44/44 [00:31<00:00,  1.42it/s]                                                                                                                                                           \n",
      "Val Loss: 0.5049: 100%|██████████| 17/17 [00:05<00:00,  3.07it/s]                                                                                                                                                                                                 "
     ]
    },
    {
     "name": "stdout",
     "output_type": "stream",
     "text": [
      "Threshold : 0.20\tFBeta : 0.506269\n",
      "Threshold : 0.25\tFBeta : 0.507640\n",
      "Threshold : 0.30\tFBeta : 0.507263\n",
      "Threshold : 0.35\tFBeta : 0.505440\n",
      "Threshold : 0.40\tFBeta : 0.503026\n",
      "Threshold : 0.45\tFBeta : 0.499697\n",
      "Threshold : 0.50\tFBeta : 0.495742\n",
      "Threshold : 0.55\tFBeta : 0.490687\n",
      "Threshold : 0.60\tFBeta : 0.482310\n",
      "Threshold : 0.65\tFBeta : 0.471328\n",
      "Threshold : 0.70\tFBeta : 0.457999\n",
      "Threshold : 0.75\tFBeta : 0.441184\n",
      "Threshold : 0.80\tFBeta : 0.418161\n",
      "\n"
     ]
    },
    {
     "name": "stderr",
     "output_type": "stream",
     "text": [
      "\n",
      "Epoch 40/50  Mem : 14.1GB  LR : 1.17E-05  Loss: 0.3296: 100%|██████████| 44/44 [00:30<00:00,  1.45it/s]                                                                                                                                                           \n",
      "Val Loss: 0.4655: 100%|██████████| 17/17 [00:05<00:00,  3.07it/s]                                                                                                                                                                                                 "
     ]
    },
    {
     "name": "stdout",
     "output_type": "stream",
     "text": [
      "Threshold : 0.20\tFBeta : 0.455475\n",
      "Threshold : 0.25\tFBeta : 0.460693\n",
      "Threshold : 0.30\tFBeta : 0.464754\n",
      "Threshold : 0.35\tFBeta : 0.468801\n",
      "Threshold : 0.40\tFBeta : 0.473191\n",
      "Threshold : 0.45\tFBeta : 0.476996\n",
      "Threshold : 0.50\tFBeta : 0.480197\n",
      "Threshold : 0.55\tFBeta : 0.483607\n",
      "Threshold : 0.60\tFBeta : 0.486451\n",
      "Threshold : 0.65\tFBeta : 0.487503\n",
      "Threshold : 0.70\tFBeta : 0.487990\n",
      "Threshold : 0.75\tFBeta : 0.487727\n",
      "Threshold : 0.80\tFBeta : 0.486541\n",
      "\n"
     ]
    },
    {
     "name": "stderr",
     "output_type": "stream",
     "text": [
      "\n",
      "Epoch 41/50  Mem : 14.1GB  LR : 9.55E-06  Loss: 0.3366: 100%|██████████| 44/44 [00:30<00:00,  1.46it/s]                                                                                                                                                           \n",
      "Val Loss: 0.4805: 100%|██████████| 17/17 [00:05<00:00,  3.05it/s]                                                                                                                                                                                                 "
     ]
    },
    {
     "name": "stdout",
     "output_type": "stream",
     "text": [
      "Threshold : 0.20\tFBeta : 0.497342\n",
      "Threshold : 0.25\tFBeta : 0.501971\n",
      "Threshold : 0.30\tFBeta : 0.506653\n",
      "Threshold : 0.35\tFBeta : 0.511259\n",
      "Threshold : 0.40\tFBeta : 0.513075\n",
      "Threshold : 0.45\tFBeta : 0.513776\n",
      "Threshold : 0.50\tFBeta : 0.514467\n",
      "Threshold : 0.55\tFBeta : 0.514814\n",
      "Threshold : 0.60\tFBeta : 0.513771\n",
      "Threshold : 0.65\tFBeta : 0.510647\n",
      "Threshold : 0.70\tFBeta : 0.503342\n",
      "Threshold : 0.75\tFBeta : 0.491152\n",
      "Threshold : 0.80\tFBeta : 0.474402\n",
      "\n"
     ]
    },
    {
     "name": "stderr",
     "output_type": "stream",
     "text": [
      "\n",
      "Epoch 42/50  Mem : 14.1GB  LR : 7.60E-06  Loss: 0.3172: 100%|██████████| 44/44 [00:30<00:00,  1.45it/s]                                                                                                                                                           \n",
      "Val Loss: 0.4724: 100%|██████████| 17/17 [00:05<00:00,  3.09it/s]                                                                                                                                                                                                 "
     ]
    },
    {
     "name": "stdout",
     "output_type": "stream",
     "text": [
      "Threshold : 0.20\tFBeta : 0.465348\n",
      "Threshold : 0.25\tFBeta : 0.470125\n",
      "Threshold : 0.30\tFBeta : 0.474871\n",
      "Threshold : 0.35\tFBeta : 0.478920\n",
      "Threshold : 0.40\tFBeta : 0.482421\n",
      "Threshold : 0.45\tFBeta : 0.485042\n",
      "Threshold : 0.50\tFBeta : 0.487141\n",
      "Threshold : 0.55\tFBeta : 0.487798\n",
      "Threshold : 0.60\tFBeta : 0.488279\n",
      "Threshold : 0.65\tFBeta : 0.488336\n",
      "Threshold : 0.70\tFBeta : 0.487389\n",
      "Threshold : 0.75\tFBeta : 0.484247\n",
      "Threshold : 0.80\tFBeta : 0.476670\n",
      "\n"
     ]
    },
    {
     "name": "stderr",
     "output_type": "stream",
     "text": [
      "\n",
      "Epoch 43/50  Mem : 14.1GB  LR : 5.85E-06  Loss: 0.3272: 100%|██████████| 44/44 [00:30<00:00,  1.45it/s]                                                                                                                                                           \n",
      "Val Loss: 0.4780: 100%|██████████| 17/17 [00:05<00:00,  3.05it/s]                                                                                                                                                                                                 "
     ]
    },
    {
     "name": "stdout",
     "output_type": "stream",
     "text": [
      "Threshold : 0.20\tFBeta : 0.469900\n",
      "Threshold : 0.25\tFBeta : 0.477451\n",
      "Threshold : 0.30\tFBeta : 0.483404\n",
      "Threshold : 0.35\tFBeta : 0.486547\n",
      "Threshold : 0.40\tFBeta : 0.488292\n",
      "Threshold : 0.45\tFBeta : 0.489744\n",
      "Threshold : 0.50\tFBeta : 0.491075\n",
      "Threshold : 0.55\tFBeta : 0.491476\n",
      "Threshold : 0.60\tFBeta : 0.491907\n",
      "Threshold : 0.65\tFBeta : 0.491960\n",
      "Threshold : 0.70\tFBeta : 0.488779\n",
      "Threshold : 0.75\tFBeta : 0.482676\n",
      "Threshold : 0.80\tFBeta : 0.472215\n",
      "\n"
     ]
    },
    {
     "name": "stderr",
     "output_type": "stream",
     "text": [
      "\n",
      "Epoch 44/50  Mem : 14.1GB  LR : 4.32E-06  Loss: 0.3155: 100%|██████████| 44/44 [00:30<00:00,  1.42it/s]                                                                                                                                                           \n",
      "Val Loss: 0.4794: 100%|██████████| 17/17 [00:05<00:00,  3.07it/s]                                                                                                                                                                                                 "
     ]
    },
    {
     "name": "stdout",
     "output_type": "stream",
     "text": [
      "Threshold : 0.20\tFBeta : 0.495242\n",
      "Threshold : 0.25\tFBeta : 0.501780\n",
      "Threshold : 0.30\tFBeta : 0.504346\n",
      "Threshold : 0.35\tFBeta : 0.505225\n",
      "Threshold : 0.40\tFBeta : 0.505753\n",
      "Threshold : 0.45\tFBeta : 0.505647\n",
      "Threshold : 0.50\tFBeta : 0.506100\n",
      "Threshold : 0.55\tFBeta : 0.505729\n",
      "Threshold : 0.60\tFBeta : 0.505180\n",
      "Threshold : 0.65\tFBeta : 0.502637\n",
      "Threshold : 0.70\tFBeta : 0.497443\n",
      "Threshold : 0.75\tFBeta : 0.489191\n",
      "Threshold : 0.80\tFBeta : 0.476431\n",
      "\n"
     ]
    },
    {
     "name": "stderr",
     "output_type": "stream",
     "text": [
      "\n",
      "Epoch 45/50  Mem : 14.1GB  LR : 3.02E-06  Loss: 0.3203: 100%|██████████| 44/44 [00:30<00:00,  1.44it/s]                                                                                                                                                           \n",
      "Val Loss: 0.4848: 100%|██████████| 17/17 [00:05<00:00,  3.07it/s]                                                                                                                                                                                                 "
     ]
    },
    {
     "name": "stdout",
     "output_type": "stream",
     "text": [
      "Threshold : 0.20\tFBeta : 0.491972\n",
      "Threshold : 0.25\tFBeta : 0.496709\n",
      "Threshold : 0.30\tFBeta : 0.498190\n",
      "Threshold : 0.35\tFBeta : 0.498477\n",
      "Threshold : 0.40\tFBeta : 0.498677\n",
      "Threshold : 0.45\tFBeta : 0.498921\n",
      "Threshold : 0.50\tFBeta : 0.498463\n",
      "Threshold : 0.55\tFBeta : 0.496853\n",
      "Threshold : 0.60\tFBeta : 0.494525\n",
      "Threshold : 0.65\tFBeta : 0.490615\n",
      "Threshold : 0.70\tFBeta : 0.483990\n",
      "Threshold : 0.75\tFBeta : 0.474685\n",
      "Threshold : 0.80\tFBeta : 0.461829\n",
      "\n"
     ]
    },
    {
     "name": "stderr",
     "output_type": "stream",
     "text": [
      "\n",
      "Epoch 46/50  Mem : 14.1GB  LR : 1.94E-06  Loss: 0.3153: 100%|██████████| 44/44 [00:30<00:00,  1.42it/s]                                                                                                                                                           \n",
      "Val Loss: 0.4761: 100%|██████████| 17/17 [00:05<00:00,  3.05it/s]                                                                                                                                                                                                 "
     ]
    },
    {
     "name": "stdout",
     "output_type": "stream",
     "text": [
      "Threshold : 0.20\tFBeta : 0.456823\n",
      "Threshold : 0.25\tFBeta : 0.463489\n",
      "Threshold : 0.30\tFBeta : 0.468425\n",
      "Threshold : 0.35\tFBeta : 0.472556\n",
      "Threshold : 0.40\tFBeta : 0.475386\n",
      "Threshold : 0.45\tFBeta : 0.477227\n",
      "Threshold : 0.50\tFBeta : 0.479332\n",
      "Threshold : 0.55\tFBeta : 0.481165\n",
      "Threshold : 0.60\tFBeta : 0.482100\n",
      "Threshold : 0.65\tFBeta : 0.483077\n",
      "Threshold : 0.70\tFBeta : 0.483129\n",
      "Threshold : 0.75\tFBeta : 0.480969\n",
      "Threshold : 0.80\tFBeta : 0.474898\n",
      "\n"
     ]
    },
    {
     "name": "stderr",
     "output_type": "stream",
     "text": [
      "\n",
      "Epoch 47/50  Mem : 14.1GB  LR : 1.09E-06  Loss: 0.3167: 100%|██████████| 44/44 [00:30<00:00,  1.42it/s]                                                                                                                                                           \n",
      "Val Loss: 0.4808: 100%|██████████| 17/17 [00:05<00:00,  3.05it/s]                                                                                                                                                                                                 "
     ]
    },
    {
     "name": "stdout",
     "output_type": "stream",
     "text": [
      "Threshold : 0.20\tFBeta : 0.480288\n",
      "Threshold : 0.25\tFBeta : 0.487189\n",
      "Threshold : 0.30\tFBeta : 0.491027\n",
      "Threshold : 0.35\tFBeta : 0.493080\n",
      "Threshold : 0.40\tFBeta : 0.494185\n",
      "Threshold : 0.45\tFBeta : 0.495227\n",
      "Threshold : 0.50\tFBeta : 0.496458\n",
      "Threshold : 0.55\tFBeta : 0.497214\n",
      "Threshold : 0.60\tFBeta : 0.496991\n",
      "Threshold : 0.65\tFBeta : 0.494605\n",
      "Threshold : 0.70\tFBeta : 0.490475\n",
      "Threshold : 0.75\tFBeta : 0.483655\n",
      "Threshold : 0.80\tFBeta : 0.471990\n",
      "\n"
     ]
    },
    {
     "name": "stderr",
     "output_type": "stream",
     "text": [
      "\n",
      "Epoch 48/50  Mem : 14.1GB  LR : 4.87E-07  Loss: 0.3329: 100%|██████████| 44/44 [00:30<00:00,  1.43it/s]                                                                                                                                                           \n",
      "Val Loss: 0.4745: 100%|██████████| 17/17 [00:05<00:00,  3.05it/s]                                                                                                                                                                                                 "
     ]
    },
    {
     "name": "stdout",
     "output_type": "stream",
     "text": [
      "Threshold : 0.20\tFBeta : 0.478646\n",
      "Threshold : 0.25\tFBeta : 0.484997\n",
      "Threshold : 0.30\tFBeta : 0.489558\n",
      "Threshold : 0.35\tFBeta : 0.492760\n",
      "Threshold : 0.40\tFBeta : 0.494900\n",
      "Threshold : 0.45\tFBeta : 0.496451\n",
      "Threshold : 0.50\tFBeta : 0.497392\n",
      "Threshold : 0.55\tFBeta : 0.498123\n",
      "Threshold : 0.60\tFBeta : 0.498747\n",
      "Threshold : 0.65\tFBeta : 0.498256\n",
      "Threshold : 0.70\tFBeta : 0.495524\n",
      "Threshold : 0.75\tFBeta : 0.489540\n",
      "Threshold : 0.80\tFBeta : 0.479245\n",
      "\n"
     ]
    },
    {
     "name": "stderr",
     "output_type": "stream",
     "text": [
      "\n",
      "Epoch 49/50  Mem : 14.1GB  LR : 1.22E-07  Loss: 0.3206: 100%|██████████| 44/44 [00:30<00:00,  1.42it/s]                                                                                                                                                           \n",
      "Val Loss: 0.4673: 100%|██████████| 17/17 [00:05<00:00,  3.07it/s]                                                                                                                                                                                                 "
     ]
    },
    {
     "name": "stdout",
     "output_type": "stream",
     "text": [
      "Threshold : 0.20\tFBeta : 0.469374\n",
      "Threshold : 0.25\tFBeta : 0.476715\n",
      "Threshold : 0.30\tFBeta : 0.482716\n",
      "Threshold : 0.35\tFBeta : 0.487563\n",
      "Threshold : 0.40\tFBeta : 0.491462\n",
      "Threshold : 0.45\tFBeta : 0.494436\n",
      "Threshold : 0.50\tFBeta : 0.496391\n",
      "Threshold : 0.55\tFBeta : 0.496762\n",
      "Threshold : 0.60\tFBeta : 0.496934\n",
      "Threshold : 0.65\tFBeta : 0.497088\n",
      "Threshold : 0.70\tFBeta : 0.496986\n",
      "Threshold : 0.75\tFBeta : 0.494766\n",
      "Threshold : 0.80\tFBeta : 0.488210\n",
      "\n"
     ]
    },
    {
     "name": "stderr",
     "output_type": "stream",
     "text": [
      "\n",
      "Epoch 50/50  Mem : 14.1GB  LR : 4.00E-10  Loss: 0.3295: 100%|██████████| 44/44 [00:30<00:00,  1.44it/s]                                                                                                                                                           \n",
      "Val Loss: 0.4742: 100%|██████████| 17/17 [00:05<00:00,  3.06it/s]                                                                                                                                                                                                 "
     ]
    },
    {
     "name": "stdout",
     "output_type": "stream",
     "text": [
      "Threshold : 0.20\tFBeta : 0.474523\n",
      "Threshold : 0.25\tFBeta : 0.481923\n",
      "Threshold : 0.30\tFBeta : 0.487565\n",
      "Threshold : 0.35\tFBeta : 0.491275\n",
      "Threshold : 0.40\tFBeta : 0.493262\n",
      "Threshold : 0.45\tFBeta : 0.494862\n",
      "Threshold : 0.50\tFBeta : 0.496038\n",
      "Threshold : 0.55\tFBeta : 0.496623\n",
      "Threshold : 0.60\tFBeta : 0.497062\n",
      "Threshold : 0.65\tFBeta : 0.496627\n",
      "Threshold : 0.70\tFBeta : 0.494285\n",
      "Threshold : 0.75\tFBeta : 0.489330\n",
      "Threshold : 0.80\tFBeta : 0.480401\n",
      "\n"
     ]
    },
    {
     "name": "stderr",
     "output_type": "stream",
     "text": [
      "\n"
     ]
    }
   ],
   "source": [
    "fbeta_best = 0.0\n",
    "for epoch in range(1, EPOCHS+1):\n",
    "    model.train()\n",
    "    cur_lr = f\"LR : {scheduler.get_last_lr()[0]:.2E}\"\n",
    "    pbar_train = enumerate(dataloader_train)\n",
    "    pbar_train = tqdm(pbar_train, total=n_train, bar_format=\"{l_bar}{bar:10}{r_bar}{bar:-10b}\")\n",
    "    mloss_train, mloss_val, val_metric = 0.0, 0.0, 0.0\n",
    "\n",
    "    \n",
    "\n",
    "\n",
    "\n",
    "\n",
    "    for i, (fragments, masks) in pbar_train:\n",
    "        fragments, masks = fragments.cuda().half(), masks.cuda().half()\n",
    "        \n",
    "        \n",
    "        optimizer.zero_grad()\n",
    "        with amp.autocast():\n",
    "            pred_masks = model(fragments)\n",
    "            loss = criterion(pred_masks, masks)\n",
    "            scaler.scale(loss).backward()\n",
    "            scaler.step(optimizer)\n",
    "            scaler.update()\n",
    "            mloss_train += loss.detach().item()\n",
    "\n",
    "        gpu_mem = f\"Mem : {torch.cuda.memory_reserved() / 1E9:.3g}GB\"\n",
    "        pbar_train.set_description((\"%10s  \" * 3 + \"%10s\") % (f\"Epoch {epoch}/{EPOCHS}\", gpu_mem, cur_lr,\n",
    "                                                              f\"Loss: {mloss_train / (i + 1):.4f}\"))\n",
    "        \n",
    "    scheduler.step()\n",
    "    model.eval()\n",
    "    pbar_val = enumerate(dataloader_valid)\n",
    "    pbar_val = tqdm(pbar_val, total=n_valid, bar_format=\"{l_bar}{bar:10}{r_bar}{bar:-10b}\")\n",
    "    final_pred_mask = torch.zeros(gt_shape, dtype=torch.float32, device='cuda')\n",
    "    \n",
    "    for i, (fragments, masks, xys) in pbar_val:\n",
    "        fragments, masks = fragments.cuda(), masks.cuda()\n",
    "        \n",
    "        with torch.no_grad():\n",
    "            pred_masks = model(fragments)\n",
    "            mloss_val += criterion(pred_masks, masks).item()\n",
    "            pred_masks = torch.sigmoid(pred_masks)\n",
    "        \n",
    "        for j, xy in enumerate(xys):\n",
    "            final_pred_mask[xy[1]:xy[3], xy[0]:xy[2]] = pred_masks[j, 0]\n",
    "\n",
    "        pbar_val.set_description((\"%10s\") % (f\"Val Loss: {mloss_val / (i+1):.4f}\"))\n",
    "    \n",
    "    for threshold in np.arange(0.2, 0.85, 0.05):\n",
    "        fbeta = fbeta_score(final_pred_mask, gt_mask, threshold)\n",
    "        print(f\"Threshold : {threshold:.2f}\\tFBeta : {fbeta:.6f}\")\n",
    "        \n",
    "        if fbeta_best < fbeta:\n",
    "            fbeta_best = fbeta\n",
    "            torch.save(model.module.state_dict(), f\"./ckpts/resnet18_3d_seg_best_{fbeta_best:.4f}.pt\")\n",
    "    \n",
    "    \n",
    "    # if epoch >= 10:\n",
    "    #     torch.save(model.module.state_dict(), f\"./ckpts/resnet18_3d_seg_epoch_{epoch}.pt\")\n",
    "\n",
    "    # if epoch == 30:\n",
    "    #     break\n",
    "\n",
    "    print()"
   ]
  },
  {
   "cell_type": "code",
   "execution_count": 22,
   "id": "2c48f344",
   "metadata": {
    "execution": {
     "iopub.execute_input": "2023-05-22T15:49:45.658484Z",
     "iopub.status.busy": "2023-05-22T15:49:45.658380Z",
     "iopub.status.idle": "2023-05-22T15:49:45.660733Z",
     "shell.execute_reply": "2023-05-22T15:49:45.660551Z"
    }
   },
   "outputs": [],
   "source": [
    "# import logging\n",
    "\n",
    "# logging.basicConfig(filename=\"training_log.txt\", level=logging.INFO)\n",
    "\n",
    "# console = logging.StreamHandler()\n",
    "# console.setLevel(logging.INFO)\n",
    "# logging.getLogger('').addHandler(console)\n",
    "\n",
    "# fbeta_best = 0.0\n",
    "# for epoch in range(1, EPOCHS+1):\n",
    "#     model.train()\n",
    "#     cur_lr = f\"LR : {scheduler.get_last_lr()[0]:.2E}\"\n",
    "#     pbar_train = enumerate(dataloader_train)\n",
    "#     pbar_train = tqdm(pbar_train, total=n_train, bar_format=\"{l_bar}{bar:10}{r_bar}{bar:-10b}\")\n",
    "#     mloss_train, mloss_val, val_metric = 0.0, 0.0, 0.0\n",
    "\n",
    "#     for i, (fragments, masks) in pbar_train:\n",
    "#         fragments, masks = fragments.cuda().half(), masks.cuda().half()\n",
    "        \n",
    "#         optimizer.zero_grad()\n",
    "#         with amp.autocast():\n",
    "#             pred_masks = model(fragments)\n",
    "#             loss = criterion(pred_masks, masks)\n",
    "#             scaler.scale(loss).backward()\n",
    "#             scaler.step(optimizer)\n",
    "#             scaler.update()\n",
    "#             mloss_train += loss.detach().item()\n",
    "\n",
    "#         gpu_mem = f\"Mem : {torch.cuda.memory_reserved() / 1E9:.3g}GB\"\n",
    "#         pbar_train.set_description((\"%10s  \" * 3 + \"%10s\") % (f\"Epoch {epoch}/{EPOCHS}\", gpu_mem, cur_lr,\n",
    "#                                                               f\"Loss: {mloss_train / (i + 1):.4f}\"))\n",
    "#         logging.info((\"%10s  \" * 3 + \"%10s\") % (f\"Epoch {epoch}/{EPOCHS}\", gpu_mem, cur_lr,\n",
    "#                                                 f\"Loss: {mloss_train / (i + 1):.4f}\"))\n",
    "#     scheduler.step()\n",
    "#     model.eval()\n",
    "#     pbar_val = enumerate(dataloader_valid)\n",
    "#     pbar_val = tqdm(pbar_val, total=n_valid, bar_format=\"{l_bar}{bar:10}{r_bar}{bar:-10b}\")\n",
    "#     final_pred_mask = torch.zeros(gt_shape, dtype=torch.float32, device='cuda')\n",
    "    \n",
    "#     for i, (fragments, masks, xys) in pbar_val:\n",
    "#         fragments, masks = fragments.cuda(), masks.cuda()\n",
    "        \n",
    "#         with torch.no_grad():\n",
    "#             pred_masks = model(fragments)\n",
    "#             mloss_val += criterion(pred_masks, masks).item()\n",
    "#             pred_masks = torch.sigmoid(pred_masks)\n",
    "        \n",
    "#         for j, xy in enumerate(xys):\n",
    "#             final_pred_mask[xy[1]:xy[3], xy[0]:xy[2]] = pred_masks[j, 0]\n",
    "\n",
    "#         pbar_val.set_description((\"%10s\") % (f\"Val Loss: {mloss_val / (i+1):.4f}\"))\n",
    "#         logging.info((\"%10s\") % (f\"Val Loss: {mloss_val / (i+1):.4f}\"))\n",
    "\n",
    "#     for threshold in np.arange(0.2, 0.85, 0.05):\n",
    "#         fbeta = fbeta_score(final_pred_mask, gt_mask, threshold)\n",
    "#         logging.info(f\"Threshold : {threshold:.2f}\\tFBeta : {fbeta:.6f}\")\n",
    "\n",
    "#         if fbeta_best < fbeta:\n",
    "#             fbeta_best = fbeta\n",
    "#             torch.save(model.module.state_dict(), f\"./ckpts/resnet18_3d_seg_best.pt\")\n",
    "    \n",
    "#     # if epoch >= 10:\n",
    "#     #     torch.save(model.module.state_dict(), f\"./ckpts/resnet18_3d_seg_epoch_{epoch}.pt\")\n"
   ]
  },
  {
   "cell_type": "code",
   "execution_count": null,
   "id": "89431087",
   "metadata": {
    "papermill": {
     "duration": 0.381515,
     "end_time": "2023-04-08T11:20:14.478012",
     "exception": false,
     "start_time": "2023-04-08T11:20:14.096497",
     "status": "completed"
    },
    "tags": []
   },
   "outputs": [],
   "source": []
  }
 ],
 "metadata": {
  "kernelspec": {
   "display_name": "Python 3",
   "language": "python",
   "name": "python3"
  },
  "language_info": {
   "codemirror_mode": {
    "name": "ipython",
    "version": 3
   },
   "file_extension": ".py",
   "mimetype": "text/x-python",
   "name": "python",
   "nbconvert_exporter": "python",
   "pygments_lexer": "ipython3",
   "version": "3.9.16"
  },
  "papermill": {
   "default_parameters": {},
   "duration": 4132.646938,
   "end_time": "2023-04-08T11:20:18.816611",
   "environment_variables": {},
   "exception": null,
   "input_path": "__notebook__.ipynb",
   "output_path": "__notebook__.ipynb",
   "parameters": {},
   "start_time": "2023-04-08T10:11:26.169673",
   "version": "2.4.0"
  }
 },
 "nbformat": 4,
 "nbformat_minor": 5
}
