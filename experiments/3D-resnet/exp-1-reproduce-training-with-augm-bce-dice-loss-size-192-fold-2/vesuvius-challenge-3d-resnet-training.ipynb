{
 "cells": [
  {
   "attachments": {},
   "cell_type": "markdown",
   "id": "73dea9ca",
   "metadata": {
    "papermill": {
     "duration": 0.006587,
     "end_time": "2023-04-08T10:11:36.662576",
     "exception": false,
     "start_time": "2023-04-08T10:11:36.655989",
     "status": "completed"
    },
    "tags": []
   },
   "source": [
    "## Vesuvius Challenge - Ink Detection Training Notebook"
   ]
  },
  {
   "attachments": {},
   "cell_type": "markdown",
   "id": "8cdbb7ff",
   "metadata": {
    "papermill": {
     "duration": 0.004951,
     "end_time": "2023-04-08T10:11:36.672955",
     "exception": false,
     "start_time": "2023-04-08T10:11:36.668004",
     "status": "completed"
    },
    "tags": []
   },
   "source": [
    "### Setup"
   ]
  },
  {
   "cell_type": "code",
   "execution_count": 1,
   "id": "ae445317",
   "metadata": {
    "_kg_hide-input": false,
    "_kg_hide-output": true,
    "execution": {
     "iopub.execute_input": "2023-05-23T08:43:54.283121Z",
     "iopub.status.busy": "2023-05-23T08:43:54.282724Z",
     "iopub.status.idle": "2023-05-23T08:43:54.463100Z",
     "shell.execute_reply": "2023-05-23T08:43:54.461018Z"
    },
    "papermill": {
     "duration": 29.297355,
     "end_time": "2023-04-08T10:12:05.976007",
     "exception": false,
     "start_time": "2023-04-08T10:11:36.678652",
     "status": "completed"
    },
    "tags": []
   },
   "outputs": [],
   "source": [
    "# # Pretrained weights\n",
    "# # ref - https://github.com/kenshohara/3D-ResNets-PyTorch\n",
    "# !pip install gdown\n",
    "# !gdown 1Nb4abvIkkp_ydPFA9sNPT1WakoVKA8Fa\n",
    "\n",
    "# # Utility packages for reading and visualizing volumes\n",
    "# !pip install zarr imageio-ffmpeg\n",
    "\n",
    "# save model checkpoints\n",
    "!mkdir ./ckpts"
   ]
  },
  {
   "cell_type": "code",
   "execution_count": 2,
   "id": "0d956f5c",
   "metadata": {
    "execution": {
     "iopub.execute_input": "2023-05-23T08:43:54.468606Z",
     "iopub.status.busy": "2023-05-23T08:43:54.468209Z",
     "iopub.status.idle": "2023-05-23T08:43:55.272418Z",
     "shell.execute_reply": "2023-05-23T08:43:55.271974Z"
    },
    "papermill": {
     "duration": 3.289261,
     "end_time": "2023-04-08T10:12:09.273534",
     "exception": false,
     "start_time": "2023-04-08T10:12:05.984273",
     "status": "completed"
    },
    "tags": []
   },
   "outputs": [],
   "source": [
    "import os\n",
    "import gc\n",
    "import sys\n",
    "import zarr\n",
    "import random\n",
    "import imageio\n",
    "import numpy as np\n",
    "import pandas as pd\n",
    "from tqdm import tqdm\n",
    "import matplotlib.pyplot as plt\n",
    "from IPython.display import Video\n",
    "\n",
    "import torch\n",
    "import torch.nn as nn\n",
    "import torch.nn.functional as F\n",
    "from torch.cuda import amp\n",
    "from torch.utils.data import Dataset, DataLoader\n",
    "\n",
    "sys.path.append(\"./resnet3d\")\n",
    "from resnet3d import generate_model"
   ]
  },
  {
   "attachments": {},
   "cell_type": "markdown",
   "id": "88b00fe4",
   "metadata": {
    "papermill": {
     "duration": 0.007297,
     "end_time": "2023-04-08T10:12:09.288770",
     "exception": false,
     "start_time": "2023-04-08T10:12:09.281473",
     "status": "completed"
    },
    "tags": []
   },
   "source": [
    "### Config"
   ]
  },
  {
   "cell_type": "code",
   "execution_count": 3,
   "id": "59e26b77",
   "metadata": {
    "execution": {
     "iopub.execute_input": "2023-05-23T08:43:55.274032Z",
     "iopub.status.busy": "2023-05-23T08:43:55.273824Z",
     "iopub.status.idle": "2023-05-23T08:43:55.276079Z",
     "shell.execute_reply": "2023-05-23T08:43:55.275765Z"
    },
    "papermill": {
     "duration": 0.016571,
     "end_time": "2023-04-08T10:12:09.312935",
     "exception": false,
     "start_time": "2023-04-08T10:12:09.296364",
     "status": "completed"
    },
    "tags": []
   },
   "outputs": [],
   "source": [
    "LR = 1e-4\n",
    "EPOCHS = 50\n",
    "BATCH_SIZE = 32\n",
    "CROP_SIZE = 192\n",
    "Z_START = 24\n",
    "Z_DIMS = 16\n",
    "TRAIN_FRAGMENTS = [\"3\", \"1\"]\n",
    "TEST_FRAGMENT = \"2\""
   ]
  },
  {
   "attachments": {},
   "cell_type": "markdown",
   "id": "9a1e0328",
   "metadata": {
    "papermill": {
     "duration": 0.007428,
     "end_time": "2023-04-08T10:12:09.328094",
     "exception": false,
     "start_time": "2023-04-08T10:12:09.320666",
     "status": "completed"
    },
    "tags": []
   },
   "source": [
    "### Load data"
   ]
  },
  {
   "cell_type": "code",
   "execution_count": 4,
   "id": "8c494d99",
   "metadata": {
    "execution": {
     "iopub.execute_input": "2023-05-23T08:43:55.277259Z",
     "iopub.status.busy": "2023-05-23T08:43:55.277165Z",
     "iopub.status.idle": "2023-05-23T08:43:55.285010Z",
     "shell.execute_reply": "2023-05-23T08:43:55.284763Z"
    },
    "papermill": {
     "duration": 0.054715,
     "end_time": "2023-04-08T10:12:09.391635",
     "exception": false,
     "start_time": "2023-04-08T10:12:09.336920",
     "status": "completed"
    },
    "tags": []
   },
   "outputs": [],
   "source": [
    "\n",
    "\n",
    "FRAGMENTS_ZARR = {\n",
    "    \"1\" : zarr.open(\"/home/viktor/Documents/kaggle/vesuvius-challenge/kaggle-data/train-1.zarr\", mode=\"r\"),\n",
    "    \"2\" : zarr.open(\"/home/viktor/Documents/kaggle/vesuvius-challenge/kaggle-data/train-2.zarr\", mode=\"r\"),\n",
    "    \"3\" : zarr.open(\"/home/viktor/Documents/kaggle/vesuvius-challenge/kaggle-data/train-3.zarr\", mode=\"r\")\n",
    "}\n",
    "\n",
    "FRAGMENTS_SHAPE = {k : v.mask.shape for k, v in FRAGMENTS_ZARR.items()}"
   ]
  },
  {
   "attachments": {},
   "cell_type": "markdown",
   "id": "97a51afa",
   "metadata": {
    "papermill": {
     "duration": 0.007406,
     "end_time": "2023-04-08T10:12:09.406465",
     "exception": false,
     "start_time": "2023-04-08T10:12:09.399059",
     "status": "completed"
    },
    "tags": []
   },
   "source": [
    "### Visualise input"
   ]
  },
  {
   "cell_type": "code",
   "execution_count": 5,
   "id": "6d33b9f8",
   "metadata": {
    "execution": {
     "iopub.execute_input": "2023-05-23T08:43:55.286236Z",
     "iopub.status.busy": "2023-05-23T08:43:55.286109Z",
     "iopub.status.idle": "2023-05-23T08:43:55.425471Z",
     "shell.execute_reply": "2023-05-23T08:43:55.425258Z"
    },
    "papermill": {
     "duration": 1.68744,
     "end_time": "2023-04-08T10:12:11.101290",
     "exception": false,
     "start_time": "2023-04-08T10:12:09.413850",
     "status": "completed"
    },
    "tags": []
   },
   "outputs": [
    {
     "name": "stderr",
     "output_type": "stream",
     "text": [
      "Lossy conversion from uint16 to uint8. Losing 8 bits of resolution. Convert image to uint8 prior to saving to suppress this warning.\n",
      "Lossy conversion from uint16 to uint8. Losing 8 bits of resolution. Convert image to uint8 prior to saving to suppress this warning.\n",
      "Lossy conversion from uint16 to uint8. Losing 8 bits of resolution. Convert image to uint8 prior to saving to suppress this warning.\n",
      "Lossy conversion from uint16 to uint8. Losing 8 bits of resolution. Convert image to uint8 prior to saving to suppress this warning.\n",
      "Lossy conversion from uint16 to uint8. Losing 8 bits of resolution. Convert image to uint8 prior to saving to suppress this warning.\n",
      "Lossy conversion from uint16 to uint8. Losing 8 bits of resolution. Convert image to uint8 prior to saving to suppress this warning.\n",
      "Lossy conversion from uint16 to uint8. Losing 8 bits of resolution. Convert image to uint8 prior to saving to suppress this warning.\n",
      "Lossy conversion from uint16 to uint8. Losing 8 bits of resolution. Convert image to uint8 prior to saving to suppress this warning.\n",
      "Lossy conversion from uint16 to uint8. Losing 8 bits of resolution. Convert image to uint8 prior to saving to suppress this warning.\n",
      "Lossy conversion from uint16 to uint8. Losing 8 bits of resolution. Convert image to uint8 prior to saving to suppress this warning.\n",
      "Lossy conversion from uint16 to uint8. Losing 8 bits of resolution. Convert image to uint8 prior to saving to suppress this warning.\n",
      "Lossy conversion from uint16 to uint8. Losing 8 bits of resolution. Convert image to uint8 prior to saving to suppress this warning.\n",
      "Lossy conversion from uint16 to uint8. Losing 8 bits of resolution. Convert image to uint8 prior to saving to suppress this warning.\n",
      "Lossy conversion from uint16 to uint8. Losing 8 bits of resolution. Convert image to uint8 prior to saving to suppress this warning.\n",
      "Lossy conversion from uint16 to uint8. Losing 8 bits of resolution. Convert image to uint8 prior to saving to suppress this warning.\n",
      "Lossy conversion from uint16 to uint8. Losing 8 bits of resolution. Convert image to uint8 prior to saving to suppress this warning.\n"
     ]
    },
    {
     "data": {
      "text/html": [
       "<video src=\"fragment_crop.mp4\" controls  width=\"256\"  height=\"256\">\n",
       "      Your browser does not support the <code>video</code> element.\n",
       "    </video>"
      ],
      "text/plain": [
       "<IPython.core.display.Video object>"
      ]
     },
     "execution_count": 5,
     "metadata": {},
     "output_type": "execute_result"
    }
   ],
   "source": [
    "fragment = FRAGMENTS_ZARR[\"1\"]\n",
    "x, y = 2000, 2000\n",
    "\n",
    "fragment_cropped = fragment.surface_volume[y:y+CROP_SIZE, x:x+CROP_SIZE, Z_START:Z_START+Z_DIMS]\n",
    "imageio.mimwrite(\"fragment_crop.mp4\", fragment_cropped.transpose(2, 0, 1), \"ffmpeg\")\n",
    "Video(\"fragment_crop.mp4\", height=256, width=256)"
   ]
  },
  {
   "cell_type": "code",
   "execution_count": 6,
   "id": "46203a93",
   "metadata": {
    "execution": {
     "iopub.execute_input": "2023-05-23T08:43:55.426479Z",
     "iopub.status.busy": "2023-05-23T08:43:55.426371Z",
     "iopub.status.idle": "2023-05-23T08:43:55.466694Z",
     "shell.execute_reply": "2023-05-23T08:43:55.466511Z"
    },
    "papermill": {
     "duration": 0.258785,
     "end_time": "2023-04-08T10:12:11.368608",
     "exception": false,
     "start_time": "2023-04-08T10:12:11.109823",
     "status": "completed"
    },
    "tags": []
   },
   "outputs": [
    {
     "data": {
      "image/png": "[encoded data removed]",
      "text/plain": [
       "<Figure size 600x300 with 2 Axes>"
      ]
     },
     "metadata": {},
     "output_type": "display_data"
    }
   ],
   "source": [
    "mask_cropped = fragment.truth[y:y+CROP_SIZE, x:x+CROP_SIZE]\n",
    "ir_cropped = fragment.infrared[y:y+CROP_SIZE, x:x+CROP_SIZE]\n",
    "\n",
    "plt.figure(figsize=(6, 3))\n",
    "plt.subplot(1, 2, 1)\n",
    "plt.imshow(mask_cropped, cmap=\"gray\")\n",
    "plt.axis(\"off\")\n",
    "\n",
    "plt.subplot(1, 2, 2)\n",
    "plt.imshow(ir_cropped, cmap=\"gray\")\n",
    "plt.axis(\"off\")\n",
    "plt.show()"
   ]
  },
  {
   "cell_type": "code",
   "execution_count": 7,
   "id": "6462d25d",
   "metadata": {
    "execution": {
     "iopub.execute_input": "2023-05-23T08:43:55.467936Z",
     "iopub.status.busy": "2023-05-23T08:43:55.467775Z",
     "iopub.status.idle": "2023-05-23T08:43:55.514269Z",
     "shell.execute_reply": "2023-05-23T08:43:55.514075Z"
    },
    "papermill": {
     "duration": 0.17287,
     "end_time": "2023-04-08T10:12:11.562933",
     "exception": false,
     "start_time": "2023-04-08T10:12:11.390063",
     "status": "completed"
    },
    "tags": []
   },
   "outputs": [
    {
     "data": {
      "text/plain": [
       "4093"
      ]
     },
     "execution_count": 7,
     "metadata": {},
     "output_type": "execute_result"
    }
   ],
   "source": [
    "del fragment, fragment_cropped, mask_cropped, ir_cropped\n",
    "gc.collect()"
   ]
  },
  {
   "attachments": {},
   "cell_type": "markdown",
   "id": "ff9cd3e8",
   "metadata": {
    "papermill": {
     "duration": 0.008474,
     "end_time": "2023-04-08T10:12:11.580070",
     "exception": false,
     "start_time": "2023-04-08T10:12:11.571596",
     "status": "completed"
    },
    "tags": []
   },
   "source": [
    "### Dataloaders"
   ]
  },
  {
   "cell_type": "code",
   "execution_count": 8,
   "id": "162ec4e8",
   "metadata": {
    "execution": {
     "iopub.execute_input": "2023-05-23T08:43:55.515536Z",
     "iopub.status.busy": "2023-05-23T08:43:55.515448Z",
     "iopub.status.idle": "2023-05-23T08:43:55.517717Z",
     "shell.execute_reply": "2023-05-23T08:43:55.517539Z"
    },
    "papermill": {
     "duration": 0.024571,
     "end_time": "2023-04-08T10:12:11.612905",
     "exception": false,
     "start_time": "2023-04-08T10:12:11.588334",
     "status": "completed"
    },
    "tags": []
   },
   "outputs": [],
   "source": [
    "# import albumentations as A\n",
    "# from albumentations.pytorch import ToTensorV2\n",
    "\n",
    "# class VesuviusTrain(Dataset):\n",
    "#     def __init__(self, fragments):\n",
    "#         self.fragments = fragments\n",
    "#         self.xys = []\n",
    "        \n",
    "#         for fragment in fragments:\n",
    "#             H, W = FRAGMENTS_SHAPE[fragment]\n",
    "#             for y in range(0, H-CROP_SIZE+1, CROP_SIZE):\n",
    "#                 for x in range(0, W-CROP_SIZE+1, CROP_SIZE):\n",
    "#                     self.xys.append((fragment, x, y, W, H))\n",
    "        \n",
    "#         train_aug_list = [\n",
    "#                 # A.RandomResizedCrop(\n",
    "#                 #     size, size, scale=(0.85, 1.0)),\n",
    "#                 A.HorizontalFlip(p=0.5),\n",
    "#                 A.VerticalFlip(p=0.5),\n",
    "#                 A.RandomBrightnessContrast(p=0.75),\n",
    "#                 A.CoarseDropout(max_holes=1, max_width=int(CROP_SIZE * 0.1), max_height=int(size * 0.1), \n",
    "#                                 mask_fill_value=0, p=0.5),\n",
    "#                 A.ShiftScaleRotate(p=0.75),\n",
    "#                 A.Rotate(limit=90, p=0.9), \n",
    "#                 A.OneOf([\n",
    "#                         A.GaussNoise(var_limit=[10, 50]),\n",
    "#                         A.GaussianBlur(),\n",
    "#                         A.MotionBlur(),\n",
    "#                         ], p=0.4),\n",
    "#                 A.GridDistortion(num_steps=1, distort_limit=0.3, p=0.5),\n",
    "                \n",
    "#                 A.Cutout(max_h_size=int(size * 0.6),\n",
    "#                          max_w_size=int(size * 0.6), num_holes=1, p=1.0),\n",
    "#                 A.Normalize(\n",
    "#                     mean= [0] * Z_DIMS,\n",
    "#                     std= [1] * Z_DIMS\n",
    "#                 ),\n",
    "#                 ToTensorV2(transpose_mask=True),\n",
    "#             ]\n",
    "        \n",
    "        \n",
    "        \n",
    "#     def __getitem__(self, i):\n",
    "#         fragment, x1, y1, W, H = self.xys[i]\n",
    "#         z1, z2 = Z_START, Z_START+Z_DIMS\n",
    "        \n",
    "#         x_offset = random.randint(-32 if x1 != 0 else 0, 32)\n",
    "#         y_offset = random.randint(-32 if y1 != 0 else 0, 32)\n",
    "        \n",
    "#         x1 += x_offset\n",
    "#         y1 += y_offset\n",
    "        \n",
    "#         x2 = x1 + CROP_SIZE\n",
    "#         y2 = y1 + CROP_SIZE\n",
    "        \n",
    "#         if x2 > W:\n",
    "#             x1 -= x_offset\n",
    "#             x2 -= x_offset\n",
    "            \n",
    "#         if y2 > H:\n",
    "#             y1 -= y_offset\n",
    "#             y2 -= y_offset\n",
    "        \n",
    "#         frag_crop = FRAGMENTS_ZARR[fragment].surface_volume[y1:y2, x1:x2, z1:z2]\n",
    "#         mask_crop = FRAGMENTS_ZARR[fragment].truth[y1:y2, x1:x2]\n",
    "        \n",
    "#         if random.random() > 0.5:\n",
    "#             frag_crop = np.flip(frag_crop, axis=1).copy()\n",
    "#             mask_crop = np.flip(mask_crop, axis=1).copy()\n",
    "\n",
    "#         frag_crop = torch.from_numpy(frag_crop.astype(np.float32)).unsqueeze(0).permute(0, 3, 1, 2)\n",
    "#         frag_crop = frag_crop/65535.0\n",
    "#         frag_crop = (frag_crop - 0.45)/0.225\n",
    "        \n",
    "#         mask_crop = torch.from_numpy(mask_crop.astype(np.float32)).unsqueeze(0)\n",
    "        \n",
    "        \n",
    "        \n",
    "        \n",
    "        \n",
    "        \n",
    "        \n",
    "        \n",
    "#         return frag_crop, mask_crop\n",
    "\n",
    "#     def __len__(self):\n",
    "#         return len(self.xys)"
   ]
  },
  {
   "cell_type": "code",
   "execution_count": 9,
   "id": "c2c0c6d5",
   "metadata": {
    "execution": {
     "iopub.execute_input": "2023-05-23T08:43:55.518951Z",
     "iopub.status.busy": "2023-05-23T08:43:55.518804Z",
     "iopub.status.idle": "2023-05-23T08:43:55.842617Z",
     "shell.execute_reply": "2023-05-23T08:43:55.842314Z"
    }
   },
   "outputs": [],
   "source": [
    "import albumentations as A\n",
    "from albumentations.pytorch import ToTensorV2\n",
    "\n",
    "class VesuviusTrain(Dataset):\n",
    "    def __init__(self, fragments):\n",
    "        self.fragments = fragments\n",
    "        self.xys = []\n",
    "        \n",
    "        for fragment in fragments:\n",
    "            H, W = FRAGMENTS_SHAPE[fragment]\n",
    "            for y in range(0, H-CROP_SIZE+1, CROP_SIZE):\n",
    "                for x in range(0, W-CROP_SIZE+1, CROP_SIZE):\n",
    "                    surface = FRAGMENTS_ZARR[fragment].surface_volume[y:y+CROP_SIZE, x:x+CROP_SIZE, 0]\n",
    "                    if np.sum(surface) / (CROP_SIZE * CROP_SIZE) > 0.2:\n",
    "                        self.xys.append((fragment, x, y, W, H))\n",
    "        \n",
    "        self.train_aug_list = [\n",
    "                # A.RandomResizedCrop(\n",
    "                #     size, size, scale=(0.85, 1.0)),\n",
    "                \n",
    "                A.HorizontalFlip(p=0.5),\n",
    "                A.VerticalFlip(p=0.5),\n",
    "                \n",
    "                # A.RandomBrightnessContrast(p=0.75),\n",
    "                # A.CoarseDropout(max_holes=1, max_width=int(CROP_SIZE * 0.1), max_height=int(CROP_SIZE * 0.1), \n",
    "                #                 mask_fill_value=0, p=0.5),\n",
    "                # A.ShiftScaleRotate(p=0.75),\n",
    "                \n",
    "                A.Rotate(limit=90, p=0.9), \n",
    "                \n",
    "                # A.OneOf([\n",
    "                #         A.GaussNoise(var_limit=[1, 5]),\n",
    "                #         A.GaussianBlur(),\n",
    "                #         A.MotionBlur(),\n",
    "                #         ], p=0.4),\n",
    "                # A.GridDistortion(num_steps=1, distort_limit=0.3, p=0.5),\n",
    "                \n",
    "                # A.Cutout(max_h_size=int(CROP_SIZE * 0.2),\n",
    "                #          max_w_size=int(CROP_SIZE * 0.2), num_holes=1, p=1.0),\n",
    "                # A.Normalize(\n",
    "                #     mean= [0] * Z_DIMS,\n",
    "                #     std= [1] * Z_DIMS\n",
    "                # ),\n",
    "                \n",
    "                \n",
    "                ToTensorV2(transpose_mask=True),\n",
    "            ]\n",
    "        \n",
    "        # Create the augmentation pipeline\n",
    "        self.augmentations = A.Compose(self.train_aug_list)\n",
    "        \n",
    "        \n",
    "        \n",
    "    def __getitem__(self, i):\n",
    "        fragment, x1, y1, W, H = self.xys[i]\n",
    "        z1, z2 = Z_START, Z_START+Z_DIMS\n",
    "        \n",
    "        x_offset = random.randint(-192 if x1 != 0 else 0, 192)\n",
    "        y_offset = random.randint(-192 if y1 != 0 else 0, 192)\n",
    "        \n",
    "        x1 += x_offset\n",
    "        y1 += y_offset\n",
    "        \n",
    "        x2 = x1 + CROP_SIZE\n",
    "        y2 = y1 + CROP_SIZE\n",
    "        \n",
    "        if x2 > W:\n",
    "            x1 -= x_offset\n",
    "            x2 -= x_offset\n",
    "            \n",
    "        if y2 > H:\n",
    "            y1 -= y_offset\n",
    "            y2 -= y_offset\n",
    "        \n",
    "        frag_crop = FRAGMENTS_ZARR[fragment].surface_volume[y1:y2, x1:x2, z1:z2]\n",
    "        mask_crop = FRAGMENTS_ZARR[fragment].truth[y1:y2, x1:x2]\n",
    "        \n",
    "        # if random.random() > 0.5:\n",
    "        #     frag_crop = np.flip(frag_crop, axis=1).copy()\n",
    "        #     mask_crop = np.flip(mask_crop, axis=1).copy()\n",
    "\n",
    "        # Perform train augmentations\n",
    "\n",
    "        frag_crop = frag_crop/65535.0\n",
    "        \n",
    "\n",
    "        # Apply the augmentations\n",
    "        augmented = self.augmentations(image=frag_crop, mask=mask_crop)\n",
    "\n",
    "        # Separate the image and mask\n",
    "        frag_crop, mask_crop = augmented[\"image\"], augmented[\"mask\"]\n",
    "\n",
    "        # normalize\n",
    "        \n",
    "        # frag_crop = (frag_crop - 0.45)/0.225\n",
    "        \n",
    "        frag_crop = frag_crop.unsqueeze(0)\n",
    "        mask_crop = mask_crop.float().unsqueeze(0)\n",
    "        \n",
    "        \n",
    "        return frag_crop, mask_crop\n",
    "\n",
    "    def __len__(self):\n",
    "        return len(self.xys)"
   ]
  },
  {
   "cell_type": "code",
   "execution_count": 10,
   "id": "f172c2ad",
   "metadata": {
    "execution": {
     "iopub.execute_input": "2023-05-23T08:43:55.844407Z",
     "iopub.status.busy": "2023-05-23T08:43:55.843958Z",
     "iopub.status.idle": "2023-05-23T08:43:55.847375Z",
     "shell.execute_reply": "2023-05-23T08:43:55.847193Z"
    },
    "papermill": {
     "duration": 0.022963,
     "end_time": "2023-04-08T10:12:11.644387",
     "exception": false,
     "start_time": "2023-04-08T10:12:11.621424",
     "status": "completed"
    },
    "tags": []
   },
   "outputs": [],
   "source": [
    "class VesuviusVal(Dataset):\n",
    "    def __init__(self, fragment):\n",
    "        self.fragment = FRAGMENTS_ZARR[fragment]\n",
    "        self.xys = []\n",
    "        \n",
    "        H, W = FRAGMENTS_SHAPE[fragment]\n",
    "        for y in range(0, H-CROP_SIZE+1, CROP_SIZE):\n",
    "            for x in range(0, W-CROP_SIZE+1, CROP_SIZE):\n",
    "                self.xys.append((x, y))\n",
    "                \n",
    "    def __getitem__(self, i):\n",
    "        x1, y1 = self.xys[i]\n",
    "        x2, y2 = x1+CROP_SIZE, y1+CROP_SIZE\n",
    "        z1, z2 = Z_START, Z_START+Z_DIMS\n",
    "        \n",
    "        frag_crop = self.fragment.surface_volume[y1:y2, x1:x2, z1:z2]\n",
    "        mask_crop = self.fragment.truth[y1:y2, x1:x2]\n",
    "\n",
    "        frag_crop = torch.from_numpy(frag_crop.astype(np.float32)).unsqueeze(0).permute(0, 3, 1, 2)\n",
    "        frag_crop = frag_crop/65535.0\n",
    "        # frag_crop = (frag_crop - 0.45)/0.225\n",
    "        \n",
    "        mask_crop = torch.from_numpy(mask_crop.astype(np.float32)).unsqueeze(0)\n",
    "        return frag_crop, mask_crop, torch.tensor([x1, y1, x2, y2], dtype=torch.int32)\n",
    "\n",
    "    def __len__(self):\n",
    "        return len(self.xys)"
   ]
  },
  {
   "cell_type": "code",
   "execution_count": 11,
   "id": "4282f924",
   "metadata": {
    "execution": {
     "iopub.execute_input": "2023-05-23T08:43:55.848403Z",
     "iopub.status.busy": "2023-05-23T08:43:55.848291Z",
     "iopub.status.idle": "2023-05-23T08:44:00.414232Z",
     "shell.execute_reply": "2023-05-23T08:44:00.413985Z"
    },
    "papermill": {
     "duration": 0.019671,
     "end_time": "2023-04-08T10:12:11.672490",
     "exception": false,
     "start_time": "2023-04-08T10:12:11.652819",
     "status": "completed"
    },
    "tags": []
   },
   "outputs": [],
   "source": [
    "dataset_train = VesuviusTrain(TRAIN_FRAGMENTS)\n",
    "dataloader_train = DataLoader(dataset_train, batch_size=BATCH_SIZE, num_workers=2,\n",
    "                              shuffle=True, pin_memory=True, drop_last=True)\n",
    "n_train = len(dataloader_train)\n",
    "\n",
    "dataset_valid = VesuviusVal(TEST_FRAGMENT)\n",
    "dataloader_valid = DataLoader(dataset_valid, batch_size=BATCH_SIZE, num_workers=2,\n",
    "                              shuffle=False, pin_memory=True, drop_last=False)\n",
    "n_valid = len(dataloader_valid)"
   ]
  },
  {
   "cell_type": "code",
   "execution_count": 12,
   "id": "0577f1a6",
   "metadata": {
    "execution": {
     "iopub.execute_input": "2023-05-23T08:44:00.415451Z",
     "iopub.status.busy": "2023-05-23T08:44:00.415343Z",
     "iopub.status.idle": "2023-05-23T08:44:00.426507Z",
     "shell.execute_reply": "2023-05-23T08:44:00.426286Z"
    }
   },
   "outputs": [
    {
     "data": {
      "text/plain": [
       "(tensor(0., dtype=torch.float64), tensor(1., dtype=torch.float64))"
      ]
     },
     "execution_count": 12,
     "metadata": {},
     "output_type": "execute_result"
    }
   ],
   "source": [
    "i = random.randint(0, len(dataset_train))\n",
    "img = dataset_train[i][0]\n",
    "img.min(), img.max()"
   ]
  },
  {
   "cell_type": "code",
   "execution_count": null,
   "id": "40a15748",
   "metadata": {},
   "outputs": [],
   "source": []
  },
  {
   "cell_type": "code",
   "execution_count": null,
   "id": "a792af0c",
   "metadata": {},
   "outputs": [],
   "source": []
  },
  {
   "attachments": {},
   "cell_type": "markdown",
   "id": "cdcc7e0b",
   "metadata": {
    "papermill": {
     "duration": 0.008028,
     "end_time": "2023-04-08T10:12:11.688860",
     "exception": false,
     "start_time": "2023-04-08T10:12:11.680832",
     "status": "completed"
    },
    "tags": []
   },
   "source": [
    "### Model\n",
    "* Encoder is a 3D ResNet model. The architecture has been modified to remove temporal downsampling between blocks.\n",
    "* A 2D decoder is used for predicting the segmentation map.\n",
    "* The encoder feature maps are average pooled over the Z dimension before passing it to the decoder."
   ]
  },
  {
   "cell_type": "code",
   "execution_count": 13,
   "id": "ff7cc8a3",
   "metadata": {
    "execution": {
     "iopub.execute_input": "2023-05-23T08:44:00.427493Z",
     "iopub.status.busy": "2023-05-23T08:44:00.427389Z",
     "iopub.status.idle": "2023-05-23T08:44:00.431484Z",
     "shell.execute_reply": "2023-05-23T08:44:00.431295Z"
    },
    "papermill": {
     "duration": 0.023714,
     "end_time": "2023-04-08T10:12:11.721140",
     "exception": false,
     "start_time": "2023-04-08T10:12:11.697426",
     "status": "completed"
    },
    "tags": []
   },
   "outputs": [],
   "source": [
    "class Decoder(nn.Module):\n",
    "    def __init__(self, encoder_dims, upscale):\n",
    "        super().__init__()\n",
    "        self.convs = nn.ModuleList([\n",
    "            nn.Sequential(\n",
    "                nn.Conv2d(encoder_dims[i]+encoder_dims[i-1], encoder_dims[i-1], 3, 1, 1, bias=False),\n",
    "                nn.BatchNorm2d(encoder_dims[i-1]),\n",
    "                nn.ReLU(inplace=True)\n",
    "            ) for i in range(1, len(encoder_dims))])\n",
    "\n",
    "        self.logit = nn.Conv2d(encoder_dims[0], 1, 1, 1, 0)\n",
    "        self.up = nn.Upsample(scale_factor=upscale, mode=\"bilinear\")\n",
    "\n",
    "    def forward(self, feature_maps):\n",
    "        for i in range(len(feature_maps)-1, 0, -1):\n",
    "            f_up = F.interpolate(feature_maps[i], scale_factor=2, mode=\"bilinear\")\n",
    "            f = torch.cat([feature_maps[i-1], f_up], dim=1)\n",
    "            f_down = self.convs[i-1](f)\n",
    "            feature_maps[i-1] = f_down\n",
    "\n",
    "        x = self.logit(feature_maps[0])\n",
    "        mask = self.up(x)\n",
    "        return mask\n",
    "\n",
    "\n",
    "class SegModel(nn.Module):\n",
    "    def __init__(self):\n",
    "        super().__init__()\n",
    "        self.encoder = generate_model(model_depth=18, n_input_channels=1)\n",
    "        self.decoder = Decoder(encoder_dims=[64, 128, 256, 512], upscale=4)\n",
    "        \n",
    "    def forward(self, x):\n",
    "        feat_maps = self.encoder(x)\n",
    "        feat_maps_pooled = [torch.mean(f, dim=2) for f in feat_maps]\n",
    "        pred_mask = self.decoder(feat_maps_pooled)\n",
    "        return pred_mask\n",
    "    \n",
    "    def load_pretrained_weights(self, state_dict):\n",
    "        # Convert 3 channel weights to single channel\n",
    "        # ref - https://timm.fast.ai/models#Case-1:-When-the-number-of-input-channels-is-1\n",
    "        conv1_weight = state_dict['conv1.weight']\n",
    "        state_dict['conv1.weight'] = conv1_weight.sum(dim=1, keepdim=True)\n",
    "        print(self.encoder.load_state_dict(state_dict, strict=False))"
   ]
  },
  {
   "cell_type": "code",
   "execution_count": 14,
   "id": "67e4a0f1",
   "metadata": {
    "execution": {
     "iopub.execute_input": "2023-05-23T08:44:00.432342Z",
     "iopub.status.busy": "2023-05-23T08:44:00.432195Z",
     "iopub.status.idle": "2023-05-23T08:44:01.326049Z",
     "shell.execute_reply": "2023-05-23T08:44:01.325709Z"
    },
    "papermill": {
     "duration": 3.891528,
     "end_time": "2023-04-08T10:12:15.621016",
     "exception": false,
     "start_time": "2023-04-08T10:12:11.729488",
     "status": "completed"
    },
    "tags": []
   },
   "outputs": [
    {
     "name": "stdout",
     "output_type": "stream",
     "text": [
      "_IncompatibleKeys(missing_keys=[], unexpected_keys=['fc.weight', 'fc.bias'])\n"
     ]
    }
   ],
   "source": [
    "model = SegModel()\n",
    "model.load_pretrained_weights(torch.load(\"/home/viktor/Documents/kaggle/vesuvius-challenge/experiments/3D-resnet/r3d18_K_200ep.pth\")[\"state_dict\"])\n",
    "model = nn.DataParallel(model, device_ids=[0])\n",
    "\n",
    "model = model.cuda()"
   ]
  },
  {
   "cell_type": "code",
   "execution_count": 15,
   "id": "491e9288",
   "metadata": {
    "execution": {
     "iopub.execute_input": "2023-05-23T08:44:01.327614Z",
     "iopub.status.busy": "2023-05-23T08:44:01.327490Z",
     "iopub.status.idle": "2023-05-23T08:44:02.191140Z",
     "shell.execute_reply": "2023-05-23T08:44:02.190782Z"
    }
   },
   "outputs": [
    {
     "data": {
      "text/plain": [
       "torch.Size([5, 1, 256, 256])"
      ]
     },
     "execution_count": 15,
     "metadata": {},
     "output_type": "execute_result"
    }
   ],
   "source": [
    "x = torch.randn(5, 1, 16, 256, 256).cuda()\n",
    "with torch.no_grad():\n",
    "    y = model(x)\n",
    "y.shape"
   ]
  },
  {
   "attachments": {},
   "cell_type": "markdown",
   "id": "d84d7c0e",
   "metadata": {
    "papermill": {
     "duration": 0.008816,
     "end_time": "2023-04-08T10:12:15.638951",
     "exception": false,
     "start_time": "2023-04-08T10:12:15.630135",
     "status": "completed"
    },
    "tags": []
   },
   "source": [
    "### Competition metric (F0.5 Score)"
   ]
  },
  {
   "cell_type": "code",
   "execution_count": 16,
   "id": "61dbeb5c",
   "metadata": {
    "execution": {
     "iopub.execute_input": "2023-05-23T08:44:02.192494Z",
     "iopub.status.busy": "2023-05-23T08:44:02.192389Z",
     "iopub.status.idle": "2023-05-23T08:44:02.194736Z",
     "shell.execute_reply": "2023-05-23T08:44:02.194537Z"
    },
    "papermill": {
     "duration": 0.020268,
     "end_time": "2023-04-08T10:12:15.668008",
     "exception": false,
     "start_time": "2023-04-08T10:12:15.647740",
     "status": "completed"
    },
    "tags": []
   },
   "outputs": [],
   "source": [
    "# ref - https://www.kaggle.com/competitions/vesuvius-challenge-ink-detection/discussion/397288\n",
    "def fbeta_score(preds, targets, threshold, beta=0.5, smooth=1e-5):\n",
    "    preds_t = torch.where(preds > threshold, 1.0, 0.0).float()\n",
    "    y_true_count = targets.sum()\n",
    "    \n",
    "    ctp = preds_t[targets==1].sum()\n",
    "    cfp = preds_t[targets==0].sum()\n",
    "    beta_squared = beta * beta\n",
    "\n",
    "    c_precision = ctp / (ctp + cfp + smooth)\n",
    "    c_recall = ctp / (y_true_count + smooth)\n",
    "    dice = (1 + beta_squared) * (c_precision * c_recall) / (beta_squared * c_precision + c_recall + smooth)\n",
    "\n",
    "    return dice"
   ]
  },
  {
   "attachments": {},
   "cell_type": "markdown",
   "id": "639c9148",
   "metadata": {
    "papermill": {
     "duration": 0.008498,
     "end_time": "2023-04-08T10:12:15.685205",
     "exception": false,
     "start_time": "2023-04-08T10:12:15.676707",
     "status": "completed"
    },
    "tags": []
   },
   "source": [
    "### Training"
   ]
  },
  {
   "cell_type": "code",
   "execution_count": 17,
   "id": "0cca2e6e",
   "metadata": {
    "execution": {
     "iopub.execute_input": "2023-05-23T08:44:02.195832Z",
     "iopub.status.busy": "2023-05-23T08:44:02.195708Z",
     "iopub.status.idle": "2023-05-23T08:44:02.197799Z",
     "shell.execute_reply": "2023-05-23T08:44:02.197486Z"
    },
    "papermill": {
     "duration": 0.019067,
     "end_time": "2023-04-08T10:12:15.713237",
     "exception": false,
     "start_time": "2023-04-08T10:12:15.694170",
     "status": "completed"
    },
    "tags": []
   },
   "outputs": [],
   "source": [
    "scaler = amp.GradScaler()\n",
    "# criterion = nn.BCEWithLogitsLoss()\n",
    "\n",
    "\n",
    "optimizer = torch.optim.AdamW(model.parameters(), lr=LR)\n",
    "scheduler = torch.optim.lr_scheduler.OneCycleLR(optimizer, max_lr=LR,\n",
    "                                                steps_per_epoch=10, epochs=EPOCHS//10,\n",
    "                                                pct_start=0.1)"
   ]
  },
  {
   "cell_type": "code",
   "execution_count": 18,
   "id": "2a77a022",
   "metadata": {
    "execution": {
     "iopub.execute_input": "2023-05-23T08:44:02.198803Z",
     "iopub.status.busy": "2023-05-23T08:44:02.198686Z",
     "iopub.status.idle": "2023-05-23T08:44:02.955441Z",
     "shell.execute_reply": "2023-05-23T08:44:02.954920Z"
    }
   },
   "outputs": [],
   "source": [
    "import segmentation_models_pytorch as smp\n",
    "DiceLoss = smp.losses.DiceLoss(mode='binary')\n",
    "BCELoss = smp.losses.SoftBCEWithLogitsLoss()\n",
    "\n",
    "\n",
    "def criterion(y_pred, y_true):\n",
    "    return 0.5 * BCELoss(y_pred, y_true) + 0.5 * DiceLoss(y_pred, y_true)"
   ]
  },
  {
   "cell_type": "code",
   "execution_count": 19,
   "id": "7304e1fd",
   "metadata": {
    "execution": {
     "iopub.execute_input": "2023-05-23T08:44:02.957137Z",
     "iopub.status.busy": "2023-05-23T08:44:02.957034Z",
     "iopub.status.idle": "2023-05-23T08:44:03.054980Z",
     "shell.execute_reply": "2023-05-23T08:44:03.054433Z"
    },
    "papermill": {
     "duration": 0.385175,
     "end_time": "2023-04-08T10:12:16.107159",
     "exception": false,
     "start_time": "2023-04-08T10:12:15.721984",
     "status": "completed"
    },
    "tags": []
   },
   "outputs": [],
   "source": [
    "gt_mask = torch.from_numpy(np.asarray(FRAGMENTS_ZARR[TEST_FRAGMENT].truth)).float().cuda()\n",
    "gt_shape = FRAGMENTS_SHAPE[TEST_FRAGMENT]"
   ]
  },
  {
   "cell_type": "code",
   "execution_count": 20,
   "id": "c0b85bf1",
   "metadata": {
    "execution": {
     "iopub.execute_input": "2023-05-23T08:44:03.056582Z",
     "iopub.status.busy": "2023-05-23T08:44:03.056485Z",
     "iopub.status.idle": "2023-05-23T08:44:03.058556Z",
     "shell.execute_reply": "2023-05-23T08:44:03.058369Z"
    }
   },
   "outputs": [],
   "source": [
    "import logging\n",
    "\n",
    "logging.basicConfig(filename=\"training_log.txt\", level=logging.INFO)\n"
   ]
  },
  {
   "cell_type": "code",
   "execution_count": 21,
   "id": "00067c9c",
   "metadata": {
    "execution": {
     "iopub.execute_input": "2023-05-23T08:44:03.059689Z",
     "iopub.status.busy": "2023-05-23T08:44:03.059581Z",
     "iopub.status.idle": "2023-05-23T09:26:42.368238Z",
     "shell.execute_reply": "2023-05-23T09:26:42.367885Z"
    },
    "papermill": {
     "duration": 4077.588277,
     "end_time": "2023-04-08T11:20:13.706513",
     "exception": false,
     "start_time": "2023-04-08T10:12:16.118236",
     "status": "completed"
    },
    "tags": []
   },
   "outputs": [
    {
     "name": "stderr",
     "output_type": "stream",
     "text": [
      "Epoch 1/50  Mem : 7.21GB  LR : 4.00E-06  Loss: 0.7005: 100%|██████████| 50/50 [00:21<00:00,  2.32it/s]                                                                                                                                                                         \n",
      "Val Loss: 0.5973: 100%|██████████| 118/118 [00:29<00:00,  4.01it/s]                                                                                                                                                                                                            \n"
     ]
    },
    {
     "name": "stdout",
     "output_type": "stream",
     "text": [
      "Threshold : 0.20\tFBeta : 0.155611\n",
      "Threshold : 0.25\tFBeta : 0.173697\n",
      "Threshold : 0.30\tFBeta : 0.206933\n",
      "Threshold : 0.35\tFBeta : 0.231565\n",
      "Threshold : 0.40\tFBeta : 0.243342\n",
      "Threshold : 0.45\tFBeta : 0.226486\n",
      "Threshold : 0.50\tFBeta : 0.153302\n",
      "Threshold : 0.55\tFBeta : 0.053802\n",
      "Threshold : 0.60\tFBeta : 0.010942\n",
      "Threshold : 0.65\tFBeta : 0.001248\n",
      "Threshold : 0.70\tFBeta : 0.000006\n",
      "Threshold : 0.75\tFBeta : 0.000000\n",
      "Threshold : 0.80\tFBeta : 0.000000\n",
      "\n"
     ]
    },
    {
     "name": "stderr",
     "output_type": "stream",
     "text": [
      "Epoch 2/50  Mem : 11.7GB  LR : 1.81E-05  Loss: 0.6612: 100%|██████████| 50/50 [00:21<00:00,  2.35it/s]                                                                                                                                                                         \n",
      "Val Loss: 0.6308: 100%|██████████| 118/118 [00:29<00:00,  4.00it/s]                                                                                                                                                                                                            \n"
     ]
    },
    {
     "name": "stdout",
     "output_type": "stream",
     "text": [
      "Threshold : 0.20\tFBeta : 0.158176\n",
      "Threshold : 0.25\tFBeta : 0.166386\n",
      "Threshold : 0.30\tFBeta : 0.177275\n",
      "Threshold : 0.35\tFBeta : 0.186517\n",
      "Threshold : 0.40\tFBeta : 0.193708\n",
      "Threshold : 0.45\tFBeta : 0.193924\n",
      "Threshold : 0.50\tFBeta : 0.182597\n",
      "Threshold : 0.55\tFBeta : 0.157357\n",
      "Threshold : 0.60\tFBeta : 0.120540\n",
      "Threshold : 0.65\tFBeta : 0.081720\n",
      "Threshold : 0.70\tFBeta : 0.051692\n",
      "Threshold : 0.75\tFBeta : 0.022644\n",
      "Threshold : 0.80\tFBeta : 0.004813\n",
      "\n"
     ]
    },
    {
     "name": "stderr",
     "output_type": "stream",
     "text": [
      "Epoch 3/50  Mem : 11.7GB  LR : 5.20E-05  Loss: 0.6206: 100%|██████████| 50/50 [00:21<00:00,  2.38it/s]                                                                                                                                                                         \n",
      "Val Loss: 0.6110: 100%|██████████| 118/118 [00:29<00:00,  3.99it/s]                                                                                                                                                                                                            \n"
     ]
    },
    {
     "name": "stdout",
     "output_type": "stream",
     "text": [
      "Threshold : 0.20\tFBeta : 0.177782\n",
      "Threshold : 0.25\tFBeta : 0.187320\n",
      "Threshold : 0.30\tFBeta : 0.190693\n",
      "Threshold : 0.35\tFBeta : 0.186623\n",
      "Threshold : 0.40\tFBeta : 0.172269\n",
      "Threshold : 0.45\tFBeta : 0.144020\n",
      "Threshold : 0.50\tFBeta : 0.082329\n",
      "Threshold : 0.55\tFBeta : 0.024490\n",
      "Threshold : 0.60\tFBeta : 0.010504\n",
      "Threshold : 0.65\tFBeta : 0.004536\n",
      "Threshold : 0.70\tFBeta : 0.000937\n",
      "Threshold : 0.75\tFBeta : 0.000102\n",
      "Threshold : 0.80\tFBeta : 0.000000\n",
      "\n"
     ]
    },
    {
     "name": "stderr",
     "output_type": "stream",
     "text": [
      "Epoch 4/50  Mem : 11.7GB  LR : 8.59E-05  Loss: 0.5956: 100%|██████████| 50/50 [00:20<00:00,  2.40it/s]                                                                                                                                                                         \n",
      "Val Loss: 0.5617: 100%|██████████| 118/118 [00:29<00:00,  4.01it/s]                                                                                                                                                                                                            \n"
     ]
    },
    {
     "name": "stdout",
     "output_type": "stream",
     "text": [
      "Threshold : 0.20\tFBeta : 0.225162\n",
      "Threshold : 0.25\tFBeta : 0.240660\n",
      "Threshold : 0.30\tFBeta : 0.253155\n",
      "Threshold : 0.35\tFBeta : 0.244876\n",
      "Threshold : 0.40\tFBeta : 0.219460\n",
      "Threshold : 0.45\tFBeta : 0.164002\n",
      "Threshold : 0.50\tFBeta : 0.089439\n",
      "Threshold : 0.55\tFBeta : 0.044653\n",
      "Threshold : 0.60\tFBeta : 0.022989\n",
      "Threshold : 0.65\tFBeta : 0.009529\n",
      "Threshold : 0.70\tFBeta : 0.004603\n",
      "Threshold : 0.75\tFBeta : 0.002514\n",
      "Threshold : 0.80\tFBeta : 0.001201\n",
      "\n"
     ]
    },
    {
     "name": "stderr",
     "output_type": "stream",
     "text": [
      "Epoch 5/50  Mem : 11.7GB  LR : 1.00E-04  Loss: 0.5797: 100%|██████████| 50/50 [00:21<00:00,  2.34it/s]                                                                                                                                                                         \n",
      "Val Loss: 0.5518: 100%|██████████| 118/118 [00:29<00:00,  3.97it/s]                                                                                                                                                                                                            \n"
     ]
    },
    {
     "name": "stdout",
     "output_type": "stream",
     "text": [
      "Threshold : 0.20\tFBeta : 0.238837\n",
      "Threshold : 0.25\tFBeta : 0.255099\n",
      "Threshold : 0.30\tFBeta : 0.267591\n",
      "Threshold : 0.35\tFBeta : 0.275526\n",
      "Threshold : 0.40\tFBeta : 0.283422\n",
      "Threshold : 0.45\tFBeta : 0.289597\n",
      "Threshold : 0.50\tFBeta : 0.287842\n",
      "Threshold : 0.55\tFBeta : 0.282760\n",
      "Threshold : 0.60\tFBeta : 0.274354\n",
      "Threshold : 0.65\tFBeta : 0.263134\n",
      "Threshold : 0.70\tFBeta : 0.245461\n",
      "Threshold : 0.75\tFBeta : 0.222560\n",
      "Threshold : 0.80\tFBeta : 0.192301\n",
      "\n"
     ]
    },
    {
     "name": "stderr",
     "output_type": "stream",
     "text": [
      "Epoch 6/50  Mem : 11.7GB  LR : 9.99E-05  Loss: 0.5417: 100%|██████████| 50/50 [00:21<00:00,  2.37it/s]                                                                                                                                                                         \n",
      "Val Loss: 0.5445: 100%|██████████| 118/118 [00:29<00:00,  3.99it/s]                                                                                                                                                                                                            \n"
     ]
    },
    {
     "name": "stdout",
     "output_type": "stream",
     "text": [
      "Threshold : 0.20\tFBeta : 0.274456\n",
      "Threshold : 0.25\tFBeta : 0.287669\n",
      "Threshold : 0.30\tFBeta : 0.289857\n",
      "Threshold : 0.35\tFBeta : 0.290855\n",
      "Threshold : 0.40\tFBeta : 0.290112\n",
      "Threshold : 0.45\tFBeta : 0.282757\n",
      "Threshold : 0.50\tFBeta : 0.270848\n",
      "Threshold : 0.55\tFBeta : 0.254541\n",
      "Threshold : 0.60\tFBeta : 0.227256\n",
      "Threshold : 0.65\tFBeta : 0.197125\n",
      "Threshold : 0.70\tFBeta : 0.165493\n",
      "Threshold : 0.75\tFBeta : 0.132688\n",
      "Threshold : 0.80\tFBeta : 0.098733\n",
      "\n"
     ]
    },
    {
     "name": "stderr",
     "output_type": "stream",
     "text": [
      "Epoch 7/50  Mem : 11.7GB  LR : 9.95E-05  Loss: 0.5207: 100%|██████████| 50/50 [00:21<00:00,  2.35it/s]                                                                                                                                                                         \n",
      "Val Loss: 0.5608: 100%|██████████| 118/118 [00:29<00:00,  3.98it/s]                                                                                                                                                                                                            \n"
     ]
    },
    {
     "name": "stdout",
     "output_type": "stream",
     "text": [
      "Threshold : 0.20\tFBeta : 0.226825\n",
      "Threshold : 0.25\tFBeta : 0.233436\n",
      "Threshold : 0.30\tFBeta : 0.236283\n",
      "Threshold : 0.35\tFBeta : 0.237987\n",
      "Threshold : 0.40\tFBeta : 0.238823\n",
      "Threshold : 0.45\tFBeta : 0.238883\n",
      "Threshold : 0.50\tFBeta : 0.238690\n",
      "Threshold : 0.55\tFBeta : 0.236579\n",
      "Threshold : 0.60\tFBeta : 0.231269\n",
      "Threshold : 0.65\tFBeta : 0.222032\n",
      "Threshold : 0.70\tFBeta : 0.208541\n",
      "Threshold : 0.75\tFBeta : 0.191722\n",
      "Threshold : 0.80\tFBeta : 0.170404\n",
      "\n"
     ]
    },
    {
     "name": "stderr",
     "output_type": "stream",
     "text": [
      "Epoch 8/50  Mem : 11.7GB  LR : 9.89E-05  Loss: 0.5017: 100%|██████████| 50/50 [00:21<00:00,  2.35it/s]                                                                                                                                                                         \n",
      "Val Loss: 0.5383: 100%|██████████| 118/118 [00:29<00:00,  3.96it/s]                                                                                                                                                                                                            \n"
     ]
    },
    {
     "name": "stdout",
     "output_type": "stream",
     "text": [
      "Threshold : 0.20\tFBeta : 0.304578\n",
      "Threshold : 0.25\tFBeta : 0.302866\n",
      "Threshold : 0.30\tFBeta : 0.297311\n",
      "Threshold : 0.35\tFBeta : 0.287204\n",
      "Threshold : 0.40\tFBeta : 0.272342\n",
      "Threshold : 0.45\tFBeta : 0.250001\n",
      "Threshold : 0.50\tFBeta : 0.216381\n",
      "Threshold : 0.55\tFBeta : 0.196124\n",
      "Threshold : 0.60\tFBeta : 0.176679\n",
      "Threshold : 0.65\tFBeta : 0.155341\n",
      "Threshold : 0.70\tFBeta : 0.132793\n",
      "Threshold : 0.75\tFBeta : 0.111311\n",
      "Threshold : 0.80\tFBeta : 0.088963\n",
      "\n"
     ]
    },
    {
     "name": "stderr",
     "output_type": "stream",
     "text": [
      "Epoch 9/50  Mem : 11.7GB  LR : 9.81E-05  Loss: 0.4842: 100%|██████████| 50/50 [00:20<00:00,  2.39it/s]                                                                                                                                                                         \n",
      "Val Loss: 0.5440: 100%|██████████| 118/118 [00:29<00:00,  3.99it/s]                                                                                                                                                                                                            \n"
     ]
    },
    {
     "name": "stdout",
     "output_type": "stream",
     "text": [
      "Threshold : 0.20\tFBeta : 0.280581\n",
      "Threshold : 0.25\tFBeta : 0.283004\n",
      "Threshold : 0.30\tFBeta : 0.284494\n",
      "Threshold : 0.35\tFBeta : 0.283589\n",
      "Threshold : 0.40\tFBeta : 0.281546\n",
      "Threshold : 0.45\tFBeta : 0.278766\n",
      "Threshold : 0.50\tFBeta : 0.273943\n",
      "Threshold : 0.55\tFBeta : 0.267535\n",
      "Threshold : 0.60\tFBeta : 0.258416\n",
      "Threshold : 0.65\tFBeta : 0.246688\n",
      "Threshold : 0.70\tFBeta : 0.229212\n",
      "Threshold : 0.75\tFBeta : 0.203708\n",
      "Threshold : 0.80\tFBeta : 0.174562\n",
      "\n"
     ]
    },
    {
     "name": "stderr",
     "output_type": "stream",
     "text": [
      "Epoch 10/50  Mem : 11.7GB  LR : 9.70E-05  Loss: 0.4772: 100%|██████████| 50/50 [00:21<00:00,  2.34it/s]                                                                                                                                                                        \n",
      "Val Loss: 0.5148: 100%|██████████| 118/118 [00:29<00:00,  4.00it/s]                                                                                                                                                                                                            \n"
     ]
    },
    {
     "name": "stdout",
     "output_type": "stream",
     "text": [
      "Threshold : 0.20\tFBeta : 0.333626\n",
      "Threshold : 0.25\tFBeta : 0.350129\n",
      "Threshold : 0.30\tFBeta : 0.355857\n",
      "Threshold : 0.35\tFBeta : 0.358905\n",
      "Threshold : 0.40\tFBeta : 0.355468\n",
      "Threshold : 0.45\tFBeta : 0.344293\n",
      "Threshold : 0.50\tFBeta : 0.322487\n",
      "Threshold : 0.55\tFBeta : 0.309303\n",
      "Threshold : 0.60\tFBeta : 0.295411\n",
      "Threshold : 0.65\tFBeta : 0.281139\n",
      "Threshold : 0.70\tFBeta : 0.263670\n",
      "Threshold : 0.75\tFBeta : 0.243810\n",
      "Threshold : 0.80\tFBeta : 0.220019\n",
      "\n"
     ]
    },
    {
     "name": "stderr",
     "output_type": "stream",
     "text": [
      "Epoch 11/50  Mem : 11.7GB  LR : 9.57E-05  Loss: 0.4601: 100%|██████████| 50/50 [00:21<00:00,  2.32it/s]                                                                                                                                                                        \n",
      "Val Loss: 0.5603: 100%|██████████| 118/118 [00:29<00:00,  3.95it/s]                                                                                                                                                                                                            \n"
     ]
    },
    {
     "name": "stdout",
     "output_type": "stream",
     "text": [
      "Threshold : 0.20\tFBeta : 0.326338\n",
      "Threshold : 0.25\tFBeta : 0.299132\n",
      "Threshold : 0.30\tFBeta : 0.276320\n",
      "Threshold : 0.35\tFBeta : 0.256674\n",
      "Threshold : 0.40\tFBeta : 0.235128\n",
      "Threshold : 0.45\tFBeta : 0.209850\n",
      "Threshold : 0.50\tFBeta : 0.178364\n",
      "Threshold : 0.55\tFBeta : 0.156674\n",
      "Threshold : 0.60\tFBeta : 0.136123\n",
      "Threshold : 0.65\tFBeta : 0.114996\n",
      "Threshold : 0.70\tFBeta : 0.094776\n",
      "Threshold : 0.75\tFBeta : 0.073953\n",
      "Threshold : 0.80\tFBeta : 0.055356\n",
      "\n"
     ]
    },
    {
     "name": "stderr",
     "output_type": "stream",
     "text": [
      "Epoch 12/50  Mem : 11.7GB  LR : 9.41E-05  Loss: 0.4631: 100%|██████████| 50/50 [00:21<00:00,  2.38it/s]                                                                                                                                                                        \n",
      "Val Loss: 0.5368: 100%|██████████| 118/118 [00:29<00:00,  3.97it/s]                                                                                                                                                                                                            \n"
     ]
    },
    {
     "name": "stdout",
     "output_type": "stream",
     "text": [
      "Threshold : 0.20\tFBeta : 0.376143\n",
      "Threshold : 0.25\tFBeta : 0.372260\n",
      "Threshold : 0.30\tFBeta : 0.367482\n",
      "Threshold : 0.35\tFBeta : 0.361554\n",
      "Threshold : 0.40\tFBeta : 0.351182\n",
      "Threshold : 0.45\tFBeta : 0.336761\n",
      "Threshold : 0.50\tFBeta : 0.319631\n",
      "Threshold : 0.55\tFBeta : 0.304559\n",
      "Threshold : 0.60\tFBeta : 0.287081\n",
      "Threshold : 0.65\tFBeta : 0.266629\n",
      "Threshold : 0.70\tFBeta : 0.243325\n",
      "Threshold : 0.75\tFBeta : 0.217083\n",
      "Threshold : 0.80\tFBeta : 0.186568\n",
      "\n"
     ]
    },
    {
     "name": "stderr",
     "output_type": "stream",
     "text": [
      "Epoch 13/50  Mem : 11.7GB  LR : 9.24E-05  Loss: 0.4487: 100%|██████████| 50/50 [00:21<00:00,  2.37it/s]                                                                                                                                                                        \n",
      "Val Loss: 0.5541: 100%|██████████| 118/118 [00:29<00:00,  3.98it/s]                                                                                                                                                                                                            \n"
     ]
    },
    {
     "name": "stdout",
     "output_type": "stream",
     "text": [
      "Threshold : 0.20\tFBeta : 0.351642\n",
      "Threshold : 0.25\tFBeta : 0.330234\n",
      "Threshold : 0.30\tFBeta : 0.310383\n",
      "Threshold : 0.35\tFBeta : 0.291586\n",
      "Threshold : 0.40\tFBeta : 0.270346\n",
      "Threshold : 0.45\tFBeta : 0.249437\n",
      "Threshold : 0.50\tFBeta : 0.227366\n",
      "Threshold : 0.55\tFBeta : 0.204508\n",
      "Threshold : 0.60\tFBeta : 0.181912\n",
      "Threshold : 0.65\tFBeta : 0.158097\n",
      "Threshold : 0.70\tFBeta : 0.135481\n",
      "Threshold : 0.75\tFBeta : 0.113537\n",
      "Threshold : 0.80\tFBeta : 0.091751\n",
      "\n"
     ]
    },
    {
     "name": "stderr",
     "output_type": "stream",
     "text": [
      "Epoch 14/50  Mem : 11.7GB  LR : 9.05E-05  Loss: 0.4402: 100%|██████████| 50/50 [00:20<00:00,  2.38it/s]                                                                                                                                                                        \n",
      "Val Loss: 0.5935: 100%|██████████| 118/118 [00:29<00:00,  3.98it/s]                                                                                                                                                                                                            \n"
     ]
    },
    {
     "name": "stdout",
     "output_type": "stream",
     "text": [
      "Threshold : 0.20\tFBeta : 0.140978\n",
      "Threshold : 0.25\tFBeta : 0.086391\n",
      "Threshold : 0.30\tFBeta : 0.064343\n",
      "Threshold : 0.35\tFBeta : 0.049632\n",
      "Threshold : 0.40\tFBeta : 0.037451\n",
      "Threshold : 0.45\tFBeta : 0.026927\n",
      "Threshold : 0.50\tFBeta : 0.018079\n",
      "Threshold : 0.55\tFBeta : 0.013918\n",
      "Threshold : 0.60\tFBeta : 0.010650\n",
      "Threshold : 0.65\tFBeta : 0.008203\n",
      "Threshold : 0.70\tFBeta : 0.006200\n",
      "Threshold : 0.75\tFBeta : 0.004307\n",
      "Threshold : 0.80\tFBeta : 0.002921\n",
      "\n"
     ]
    },
    {
     "name": "stderr",
     "output_type": "stream",
     "text": [
      "Epoch 15/50  Mem : 11.7GB  LR : 8.83E-05  Loss: 0.4253: 100%|██████████| 50/50 [00:21<00:00,  2.36it/s]                                                                                                                                                                        \n",
      "Val Loss: 0.5749: 100%|██████████| 118/118 [00:29<00:00,  4.00it/s]                                                                                                                                                                                                            \n"
     ]
    },
    {
     "name": "stdout",
     "output_type": "stream",
     "text": [
      "Threshold : 0.20\tFBeta : 0.260695\n",
      "Threshold : 0.25\tFBeta : 0.229174\n",
      "Threshold : 0.30\tFBeta : 0.206583\n",
      "Threshold : 0.35\tFBeta : 0.187426\n",
      "Threshold : 0.40\tFBeta : 0.167385\n",
      "Threshold : 0.45\tFBeta : 0.148506\n",
      "Threshold : 0.50\tFBeta : 0.131861\n",
      "Threshold : 0.55\tFBeta : 0.119017\n",
      "Threshold : 0.60\tFBeta : 0.105138\n",
      "Threshold : 0.65\tFBeta : 0.091393\n",
      "Threshold : 0.70\tFBeta : 0.077958\n",
      "Threshold : 0.75\tFBeta : 0.064712\n",
      "Threshold : 0.80\tFBeta : 0.051621\n",
      "\n"
     ]
    },
    {
     "name": "stderr",
     "output_type": "stream",
     "text": [
      "Epoch 16/50  Mem : 11.7GB  LR : 8.60E-05  Loss: 0.4201: 100%|██████████| 50/50 [00:21<00:00,  2.37it/s]                                                                                                                                                                        \n",
      "Val Loss: 0.6059: 100%|██████████| 118/118 [00:29<00:00,  3.97it/s]                                                                                                                                                                                                            \n"
     ]
    },
    {
     "name": "stdout",
     "output_type": "stream",
     "text": [
      "Threshold : 0.20\tFBeta : 0.154215\n",
      "Threshold : 0.25\tFBeta : 0.131183\n",
      "Threshold : 0.30\tFBeta : 0.115239\n",
      "Threshold : 0.35\tFBeta : 0.103278\n",
      "Threshold : 0.40\tFBeta : 0.091535\n",
      "Threshold : 0.45\tFBeta : 0.080997\n",
      "Threshold : 0.50\tFBeta : 0.071376\n",
      "Threshold : 0.55\tFBeta : 0.061420\n",
      "Threshold : 0.60\tFBeta : 0.051404\n",
      "Threshold : 0.65\tFBeta : 0.042031\n",
      "Threshold : 0.70\tFBeta : 0.033738\n",
      "Threshold : 0.75\tFBeta : 0.026517\n",
      "Threshold : 0.80\tFBeta : 0.020117\n",
      "\n"
     ]
    },
    {
     "name": "stderr",
     "output_type": "stream",
     "text": [
      "Epoch 17/50  Mem : 11.7GB  LR : 8.35E-05  Loss: 0.4197: 100%|██████████| 50/50 [00:21<00:00,  2.36it/s]                                                                                                                                                                        \n",
      "Val Loss: 0.5095: 100%|██████████| 118/118 [00:29<00:00,  4.01it/s]                                                                                                                                                                                                            \n"
     ]
    },
    {
     "name": "stdout",
     "output_type": "stream",
     "text": [
      "Threshold : 0.20\tFBeta : 0.433580\n",
      "Threshold : 0.25\tFBeta : 0.438782\n",
      "Threshold : 0.30\tFBeta : 0.439829\n",
      "Threshold : 0.35\tFBeta : 0.438262\n",
      "Threshold : 0.40\tFBeta : 0.433370\n",
      "Threshold : 0.45\tFBeta : 0.425547\n",
      "Threshold : 0.50\tFBeta : 0.416129\n",
      "Threshold : 0.55\tFBeta : 0.404551\n",
      "Threshold : 0.60\tFBeta : 0.389281\n",
      "Threshold : 0.65\tFBeta : 0.367280\n",
      "Threshold : 0.70\tFBeta : 0.339835\n",
      "Threshold : 0.75\tFBeta : 0.304124\n",
      "Threshold : 0.80\tFBeta : 0.263661\n",
      "\n"
     ]
    },
    {
     "name": "stderr",
     "output_type": "stream",
     "text": [
      "Epoch 18/50  Mem : 11.7GB  LR : 8.08E-05  Loss: 0.4066: 100%|██████████| 50/50 [00:20<00:00,  2.39it/s]                                                                                                                                                                        \n",
      "Val Loss: 0.5160: 100%|██████████| 118/118 [00:29<00:00,  3.97it/s]                                                                                                                                                                                                            \n"
     ]
    },
    {
     "name": "stdout",
     "output_type": "stream",
     "text": [
      "Threshold : 0.20\tFBeta : 0.330598\n",
      "Threshold : 0.25\tFBeta : 0.341602\n",
      "Threshold : 0.30\tFBeta : 0.348602\n",
      "Threshold : 0.35\tFBeta : 0.353355\n",
      "Threshold : 0.40\tFBeta : 0.356475\n",
      "Threshold : 0.45\tFBeta : 0.358414\n",
      "Threshold : 0.50\tFBeta : 0.359864\n",
      "Threshold : 0.55\tFBeta : 0.361853\n",
      "Threshold : 0.60\tFBeta : 0.362623\n",
      "Threshold : 0.65\tFBeta : 0.361011\n",
      "Threshold : 0.70\tFBeta : 0.357443\n",
      "Threshold : 0.75\tFBeta : 0.352330\n",
      "Threshold : 0.80\tFBeta : 0.343836\n",
      "\n"
     ]
    },
    {
     "name": "stderr",
     "output_type": "stream",
     "text": [
      "Epoch 19/50  Mem : 11.7GB  LR : 7.80E-05  Loss: 0.4189: 100%|██████████| 50/50 [00:21<00:00,  2.36it/s]                                                                                                                                                                        \n",
      "Val Loss: 0.5836: 100%|██████████| 118/118 [00:29<00:00,  3.99it/s]                                                                                                                                                                                                            \n"
     ]
    },
    {
     "name": "stdout",
     "output_type": "stream",
     "text": [
      "Threshold : 0.20\tFBeta : 0.259729\n",
      "Threshold : 0.25\tFBeta : 0.239199\n",
      "Threshold : 0.30\tFBeta : 0.221721\n",
      "Threshold : 0.35\tFBeta : 0.207393\n",
      "Threshold : 0.40\tFBeta : 0.193045\n",
      "Threshold : 0.45\tFBeta : 0.179331\n",
      "Threshold : 0.50\tFBeta : 0.165635\n",
      "Threshold : 0.55\tFBeta : 0.151248\n",
      "Threshold : 0.60\tFBeta : 0.136013\n",
      "Threshold : 0.65\tFBeta : 0.120790\n",
      "Threshold : 0.70\tFBeta : 0.105166\n",
      "Threshold : 0.75\tFBeta : 0.088134\n",
      "Threshold : 0.80\tFBeta : 0.069841\n",
      "\n"
     ]
    },
    {
     "name": "stderr",
     "output_type": "stream",
     "text": [
      "Epoch 20/50  Mem : 11.7GB  LR : 7.50E-05  Loss: 0.4060: 100%|██████████| 50/50 [00:21<00:00,  2.34it/s]                                                                                                                                                                        \n",
      "Val Loss: 0.5759: 100%|██████████| 118/118 [00:29<00:00,  4.00it/s]                                                                                                                                                                                                            \n"
     ]
    },
    {
     "name": "stdout",
     "output_type": "stream",
     "text": [
      "Threshold : 0.20\tFBeta : 0.299228\n",
      "Threshold : 0.25\tFBeta : 0.284919\n",
      "Threshold : 0.30\tFBeta : 0.272474\n",
      "Threshold : 0.35\tFBeta : 0.259843\n",
      "Threshold : 0.40\tFBeta : 0.246313\n",
      "Threshold : 0.45\tFBeta : 0.233806\n",
      "Threshold : 0.50\tFBeta : 0.222175\n",
      "Threshold : 0.55\tFBeta : 0.207841\n",
      "Threshold : 0.60\tFBeta : 0.190338\n",
      "Threshold : 0.65\tFBeta : 0.170564\n",
      "Threshold : 0.70\tFBeta : 0.149020\n",
      "Threshold : 0.75\tFBeta : 0.126296\n",
      "Threshold : 0.80\tFBeta : 0.101168\n",
      "\n"
     ]
    },
    {
     "name": "stderr",
     "output_type": "stream",
     "text": [
      "Epoch 21/50  Mem : 11.7GB  LR : 7.19E-05  Loss: 0.3810: 100%|██████████| 50/50 [00:21<00:00,  2.37it/s]                                                                                                                                                                        \n",
      "Val Loss: 0.5572: 100%|██████████| 118/118 [00:29<00:00,  3.98it/s]                                                                                                                                                                                                            \n"
     ]
    },
    {
     "name": "stdout",
     "output_type": "stream",
     "text": [
      "Threshold : 0.20\tFBeta : 0.379889\n",
      "Threshold : 0.25\tFBeta : 0.356642\n",
      "Threshold : 0.30\tFBeta : 0.336243\n",
      "Threshold : 0.35\tFBeta : 0.313563\n",
      "Threshold : 0.40\tFBeta : 0.289054\n",
      "Threshold : 0.45\tFBeta : 0.264607\n",
      "Threshold : 0.50\tFBeta : 0.238412\n",
      "Threshold : 0.55\tFBeta : 0.216273\n",
      "Threshold : 0.60\tFBeta : 0.196302\n",
      "Threshold : 0.65\tFBeta : 0.176483\n",
      "Threshold : 0.70\tFBeta : 0.155688\n",
      "Threshold : 0.75\tFBeta : 0.131370\n",
      "Threshold : 0.80\tFBeta : 0.106405\n",
      "\n"
     ]
    },
    {
     "name": "stderr",
     "output_type": "stream",
     "text": [
      "Epoch 22/50  Mem : 11.7GB  LR : 6.87E-05  Loss: 0.3833: 100%|██████████| 50/50 [00:21<00:00,  2.34it/s]                                                                                                                                                                        \n",
      "Val Loss: 0.5726: 100%|██████████| 118/118 [00:29<00:00,  4.00it/s]                                                                                                                                                                                                            \n"
     ]
    },
    {
     "name": "stdout",
     "output_type": "stream",
     "text": [
      "Threshold : 0.20\tFBeta : 0.332541\n",
      "Threshold : 0.25\tFBeta : 0.310917\n",
      "Threshold : 0.30\tFBeta : 0.291824\n",
      "Threshold : 0.35\tFBeta : 0.274317\n",
      "Threshold : 0.40\tFBeta : 0.258040\n",
      "Threshold : 0.45\tFBeta : 0.243615\n",
      "Threshold : 0.50\tFBeta : 0.230239\n",
      "Threshold : 0.55\tFBeta : 0.217331\n",
      "Threshold : 0.60\tFBeta : 0.202802\n",
      "Threshold : 0.65\tFBeta : 0.186391\n",
      "Threshold : 0.70\tFBeta : 0.168093\n",
      "Threshold : 0.75\tFBeta : 0.147966\n",
      "Threshold : 0.80\tFBeta : 0.128283\n",
      "\n"
     ]
    },
    {
     "name": "stderr",
     "output_type": "stream",
     "text": [
      "Epoch 23/50  Mem : 11.7GB  LR : 6.55E-05  Loss: 0.3795: 100%|██████████| 50/50 [00:21<00:00,  2.34it/s]                                                                                                                                                                        \n",
      "Val Loss: 0.5882: 100%|██████████| 118/118 [00:29<00:00,  3.97it/s]                                                                                                                                                                                                            \n"
     ]
    },
    {
     "name": "stdout",
     "output_type": "stream",
     "text": [
      "Threshold : 0.20\tFBeta : 0.271955\n",
      "Threshold : 0.25\tFBeta : 0.251273\n",
      "Threshold : 0.30\tFBeta : 0.234171\n",
      "Threshold : 0.35\tFBeta : 0.218460\n",
      "Threshold : 0.40\tFBeta : 0.203762\n",
      "Threshold : 0.45\tFBeta : 0.190914\n",
      "Threshold : 0.50\tFBeta : 0.180603\n",
      "Threshold : 0.55\tFBeta : 0.170346\n",
      "Threshold : 0.60\tFBeta : 0.159196\n",
      "Threshold : 0.65\tFBeta : 0.146488\n",
      "Threshold : 0.70\tFBeta : 0.132663\n",
      "Threshold : 0.75\tFBeta : 0.116504\n",
      "Threshold : 0.80\tFBeta : 0.097925\n",
      "\n"
     ]
    },
    {
     "name": "stderr",
     "output_type": "stream",
     "text": [
      "Epoch 24/50  Mem : 11.7GB  LR : 6.21E-05  Loss: 0.3918: 100%|██████████| 50/50 [00:21<00:00,  2.36it/s]                                                                                                                                                                        \n",
      "Val Loss: 0.5432: 100%|██████████| 118/118 [00:29<00:00,  3.98it/s]                                                                                                                                                                                                            \n"
     ]
    },
    {
     "name": "stdout",
     "output_type": "stream",
     "text": [
      "Threshold : 0.20\tFBeta : 0.406798\n",
      "Threshold : 0.25\tFBeta : 0.396748\n",
      "Threshold : 0.30\tFBeta : 0.384922\n",
      "Threshold : 0.35\tFBeta : 0.373054\n",
      "Threshold : 0.40\tFBeta : 0.361325\n",
      "Threshold : 0.45\tFBeta : 0.350014\n",
      "Threshold : 0.50\tFBeta : 0.338656\n",
      "Threshold : 0.55\tFBeta : 0.326896\n",
      "Threshold : 0.60\tFBeta : 0.313769\n",
      "Threshold : 0.65\tFBeta : 0.298557\n",
      "Threshold : 0.70\tFBeta : 0.281365\n",
      "Threshold : 0.75\tFBeta : 0.260336\n",
      "Threshold : 0.80\tFBeta : 0.235697\n",
      "\n"
     ]
    },
    {
     "name": "stderr",
     "output_type": "stream",
     "text": [
      "Epoch 25/50  Mem : 11.7GB  LR : 5.87E-05  Loss: 0.3666: 100%|██████████| 50/50 [00:21<00:00,  2.30it/s]                                                                                                                                                                        \n",
      "Val Loss: 0.5752: 100%|██████████| 118/118 [00:29<00:00,  3.96it/s]                                                                                                                                                                                                            \n"
     ]
    },
    {
     "name": "stdout",
     "output_type": "stream",
     "text": [
      "Threshold : 0.20\tFBeta : 0.324957\n",
      "Threshold : 0.25\tFBeta : 0.301769\n",
      "Threshold : 0.30\tFBeta : 0.282732\n",
      "Threshold : 0.35\tFBeta : 0.264714\n",
      "Threshold : 0.40\tFBeta : 0.248813\n",
      "Threshold : 0.45\tFBeta : 0.235398\n",
      "Threshold : 0.50\tFBeta : 0.223353\n",
      "Threshold : 0.55\tFBeta : 0.211840\n",
      "Threshold : 0.60\tFBeta : 0.199441\n",
      "Threshold : 0.65\tFBeta : 0.185586\n",
      "Threshold : 0.70\tFBeta : 0.169634\n",
      "Threshold : 0.75\tFBeta : 0.151105\n",
      "Threshold : 0.80\tFBeta : 0.130927\n",
      "\n"
     ]
    },
    {
     "name": "stderr",
     "output_type": "stream",
     "text": [
      "Epoch 26/50  Mem : 11.7GB  LR : 5.52E-05  Loss: 0.3602: 100%|██████████| 50/50 [00:21<00:00,  2.35it/s]                                                                                                                                                                        \n",
      "Val Loss: 0.5539: 100%|██████████| 118/118 [00:29<00:00,  3.97it/s]                                                                                                                                                                                                            \n"
     ]
    },
    {
     "name": "stdout",
     "output_type": "stream",
     "text": [
      "Threshold : 0.20\tFBeta : 0.410619\n",
      "Threshold : 0.25\tFBeta : 0.391926\n",
      "Threshold : 0.30\tFBeta : 0.377098\n",
      "Threshold : 0.35\tFBeta : 0.362716\n",
      "Threshold : 0.40\tFBeta : 0.349818\n",
      "Threshold : 0.45\tFBeta : 0.337641\n",
      "Threshold : 0.50\tFBeta : 0.325777\n",
      "Threshold : 0.55\tFBeta : 0.313453\n",
      "Threshold : 0.60\tFBeta : 0.299962\n",
      "Threshold : 0.65\tFBeta : 0.283675\n",
      "Threshold : 0.70\tFBeta : 0.263228\n",
      "Threshold : 0.75\tFBeta : 0.237064\n",
      "Threshold : 0.80\tFBeta : 0.203794\n",
      "\n"
     ]
    },
    {
     "name": "stderr",
     "output_type": "stream",
     "text": [
      "Epoch 27/50  Mem : 11.7GB  LR : 5.17E-05  Loss: 0.3764: 100%|██████████| 50/50 [00:21<00:00,  2.34it/s]                                                                                                                                                                        \n",
      "Val Loss: 0.5968: 100%|██████████| 118/118 [00:29<00:00,  3.97it/s]                                                                                                                                                                                                            \n"
     ]
    },
    {
     "name": "stdout",
     "output_type": "stream",
     "text": [
      "Threshold : 0.20\tFBeta : 0.294424\n",
      "Threshold : 0.25\tFBeta : 0.274656\n",
      "Threshold : 0.30\tFBeta : 0.258411\n",
      "Threshold : 0.35\tFBeta : 0.244936\n",
      "Threshold : 0.40\tFBeta : 0.231849\n",
      "Threshold : 0.45\tFBeta : 0.219350\n",
      "Threshold : 0.50\tFBeta : 0.206654\n",
      "Threshold : 0.55\tFBeta : 0.193160\n",
      "Threshold : 0.60\tFBeta : 0.177754\n",
      "Threshold : 0.65\tFBeta : 0.160005\n",
      "Threshold : 0.70\tFBeta : 0.142123\n",
      "Threshold : 0.75\tFBeta : 0.122186\n",
      "Threshold : 0.80\tFBeta : 0.099717\n",
      "\n"
     ]
    },
    {
     "name": "stderr",
     "output_type": "stream",
     "text": [
      "Epoch 28/50  Mem : 11.7GB  LR : 4.83E-05  Loss: 0.3851: 100%|██████████| 50/50 [00:21<00:00,  2.35it/s]                                                                                                                                                                        \n",
      "Val Loss: 0.6003: 100%|██████████| 118/118 [00:29<00:00,  3.96it/s]                                                                                                                                                                                                            \n"
     ]
    },
    {
     "name": "stdout",
     "output_type": "stream",
     "text": [
      "Threshold : 0.20\tFBeta : 0.277225\n",
      "Threshold : 0.25\tFBeta : 0.260328\n",
      "Threshold : 0.30\tFBeta : 0.247317\n",
      "Threshold : 0.35\tFBeta : 0.235794\n",
      "Threshold : 0.40\tFBeta : 0.224665\n",
      "Threshold : 0.45\tFBeta : 0.213734\n",
      "Threshold : 0.50\tFBeta : 0.202729\n",
      "Threshold : 0.55\tFBeta : 0.191815\n",
      "Threshold : 0.60\tFBeta : 0.179378\n",
      "Threshold : 0.65\tFBeta : 0.164904\n",
      "Threshold : 0.70\tFBeta : 0.148374\n",
      "Threshold : 0.75\tFBeta : 0.129290\n",
      "Threshold : 0.80\tFBeta : 0.108331\n",
      "\n"
     ]
    },
    {
     "name": "stderr",
     "output_type": "stream",
     "text": [
      "Epoch 29/50  Mem : 11.7GB  LR : 4.48E-05  Loss: 0.3659: 100%|██████████| 50/50 [00:21<00:00,  2.35it/s]                                                                                                                                                                        \n",
      "Val Loss: 0.6062: 100%|██████████| 118/118 [00:29<00:00,  3.98it/s]                                                                                                                                                                                                            \n"
     ]
    },
    {
     "name": "stdout",
     "output_type": "stream",
     "text": [
      "Threshold : 0.20\tFBeta : 0.257259\n",
      "Threshold : 0.25\tFBeta : 0.237502\n",
      "Threshold : 0.30\tFBeta : 0.221426\n",
      "Threshold : 0.35\tFBeta : 0.207271\n",
      "Threshold : 0.40\tFBeta : 0.194237\n",
      "Threshold : 0.45\tFBeta : 0.182989\n",
      "Threshold : 0.50\tFBeta : 0.172699\n",
      "Threshold : 0.55\tFBeta : 0.161760\n",
      "Threshold : 0.60\tFBeta : 0.150006\n",
      "Threshold : 0.65\tFBeta : 0.137227\n",
      "Threshold : 0.70\tFBeta : 0.123935\n",
      "Threshold : 0.75\tFBeta : 0.108896\n",
      "Threshold : 0.80\tFBeta : 0.093051\n",
      "\n"
     ]
    },
    {
     "name": "stderr",
     "output_type": "stream",
     "text": [
      "Epoch 30/50  Mem : 11.7GB  LR : 4.13E-05  Loss: 0.3534: 100%|██████████| 50/50 [00:21<00:00,  2.36it/s]                                                                                                                                                                        \n",
      "Val Loss: 0.6095: 100%|██████████| 118/118 [00:29<00:00,  3.96it/s]                                                                                                                                                                                                            \n"
     ]
    },
    {
     "name": "stdout",
     "output_type": "stream",
     "text": [
      "Threshold : 0.20\tFBeta : 0.268580\n",
      "Threshold : 0.25\tFBeta : 0.247313\n",
      "Threshold : 0.30\tFBeta : 0.230357\n",
      "Threshold : 0.35\tFBeta : 0.214748\n",
      "Threshold : 0.40\tFBeta : 0.200881\n",
      "Threshold : 0.45\tFBeta : 0.187993\n",
      "Threshold : 0.50\tFBeta : 0.176298\n",
      "Threshold : 0.55\tFBeta : 0.164058\n",
      "Threshold : 0.60\tFBeta : 0.150528\n",
      "Threshold : 0.65\tFBeta : 0.136360\n",
      "Threshold : 0.70\tFBeta : 0.120546\n",
      "Threshold : 0.75\tFBeta : 0.104023\n",
      "Threshold : 0.80\tFBeta : 0.085136\n",
      "\n"
     ]
    },
    {
     "name": "stderr",
     "output_type": "stream",
     "text": [
      "Epoch 31/50  Mem : 11.7GB  LR : 3.79E-05  Loss: 0.3613: 100%|██████████| 50/50 [00:20<00:00,  2.39it/s]                                                                                                                                                                        \n",
      "Val Loss: 0.5568: 100%|██████████| 118/118 [00:29<00:00,  4.01it/s]                                                                                                                                                                                                            \n"
     ]
    },
    {
     "name": "stdout",
     "output_type": "stream",
     "text": [
      "Threshold : 0.20\tFBeta : 0.394565\n",
      "Threshold : 0.25\tFBeta : 0.377435\n",
      "Threshold : 0.30\tFBeta : 0.362265\n",
      "Threshold : 0.35\tFBeta : 0.347784\n",
      "Threshold : 0.40\tFBeta : 0.332821\n",
      "Threshold : 0.45\tFBeta : 0.318881\n",
      "Threshold : 0.50\tFBeta : 0.305360\n",
      "Threshold : 0.55\tFBeta : 0.291390\n",
      "Threshold : 0.60\tFBeta : 0.275778\n",
      "Threshold : 0.65\tFBeta : 0.259407\n",
      "Threshold : 0.70\tFBeta : 0.240536\n",
      "Threshold : 0.75\tFBeta : 0.218680\n",
      "Threshold : 0.80\tFBeta : 0.191832\n",
      "\n"
     ]
    },
    {
     "name": "stderr",
     "output_type": "stream",
     "text": [
      "Epoch 32/50  Mem : 11.7GB  LR : 3.45E-05  Loss: 0.3589: 100%|██████████| 50/50 [00:20<00:00,  2.40it/s]                                                                                                                                                                        \n",
      "Val Loss: 0.5802: 100%|██████████| 118/118 [00:29<00:00,  3.97it/s]                                                                                                                                                                                                            \n"
     ]
    },
    {
     "name": "stdout",
     "output_type": "stream",
     "text": [
      "Threshold : 0.20\tFBeta : 0.345241\n",
      "Threshold : 0.25\tFBeta : 0.321206\n",
      "Threshold : 0.30\tFBeta : 0.302223\n",
      "Threshold : 0.35\tFBeta : 0.285062\n",
      "Threshold : 0.40\tFBeta : 0.268064\n",
      "Threshold : 0.45\tFBeta : 0.251967\n",
      "Threshold : 0.50\tFBeta : 0.237435\n",
      "Threshold : 0.55\tFBeta : 0.222549\n",
      "Threshold : 0.60\tFBeta : 0.206703\n",
      "Threshold : 0.65\tFBeta : 0.189648\n",
      "Threshold : 0.70\tFBeta : 0.171156\n",
      "Threshold : 0.75\tFBeta : 0.150860\n",
      "Threshold : 0.80\tFBeta : 0.128508\n",
      "\n"
     ]
    },
    {
     "name": "stderr",
     "output_type": "stream",
     "text": [
      "Epoch 33/50  Mem : 11.7GB  LR : 3.13E-05  Loss: 0.3343: 100%|██████████| 50/50 [00:21<00:00,  2.36it/s]                                                                                                                                                                        \n",
      "Val Loss: 0.5876: 100%|██████████| 118/118 [00:29<00:00,  3.96it/s]                                                                                                                                                                                                            \n"
     ]
    },
    {
     "name": "stdout",
     "output_type": "stream",
     "text": [
      "Threshold : 0.20\tFBeta : 0.330983\n",
      "Threshold : 0.25\tFBeta : 0.310761\n",
      "Threshold : 0.30\tFBeta : 0.293425\n",
      "Threshold : 0.35\tFBeta : 0.278091\n",
      "Threshold : 0.40\tFBeta : 0.264135\n",
      "Threshold : 0.45\tFBeta : 0.250901\n",
      "Threshold : 0.50\tFBeta : 0.237604\n",
      "Threshold : 0.55\tFBeta : 0.224072\n",
      "Threshold : 0.60\tFBeta : 0.210439\n",
      "Threshold : 0.65\tFBeta : 0.195441\n",
      "Threshold : 0.70\tFBeta : 0.179166\n",
      "Threshold : 0.75\tFBeta : 0.161254\n",
      "Threshold : 0.80\tFBeta : 0.140940\n",
      "\n"
     ]
    },
    {
     "name": "stderr",
     "output_type": "stream",
     "text": [
      "Epoch 34/50  Mem : 11.7GB  LR : 2.81E-05  Loss: 0.3387: 100%|██████████| 50/50 [00:20<00:00,  2.38it/s]                                                                                                                                                                        \n",
      "Val Loss: 0.5942: 100%|██████████| 118/118 [00:29<00:00,  3.98it/s]                                                                                                                                                                                                            \n"
     ]
    },
    {
     "name": "stdout",
     "output_type": "stream",
     "text": [
      "Threshold : 0.20\tFBeta : 0.318686\n",
      "Threshold : 0.25\tFBeta : 0.300866\n",
      "Threshold : 0.30\tFBeta : 0.285416\n",
      "Threshold : 0.35\tFBeta : 0.271140\n",
      "Threshold : 0.40\tFBeta : 0.258425\n",
      "Threshold : 0.45\tFBeta : 0.245879\n",
      "Threshold : 0.50\tFBeta : 0.233536\n",
      "Threshold : 0.55\tFBeta : 0.220891\n",
      "Threshold : 0.60\tFBeta : 0.207414\n",
      "Threshold : 0.65\tFBeta : 0.192351\n",
      "Threshold : 0.70\tFBeta : 0.174587\n",
      "Threshold : 0.75\tFBeta : 0.154638\n",
      "Threshold : 0.80\tFBeta : 0.133508\n",
      "\n"
     ]
    },
    {
     "name": "stderr",
     "output_type": "stream",
     "text": [
      "Epoch 35/50  Mem : 11.7GB  LR : 2.50E-05  Loss: 0.3389: 100%|██████████| 50/50 [00:21<00:00,  2.34it/s]                                                                                                                                                                        \n",
      "Val Loss: 0.5770: 100%|██████████| 118/118 [00:29<00:00,  4.00it/s]                                                                                                                                                                                                            \n"
     ]
    },
    {
     "name": "stdout",
     "output_type": "stream",
     "text": [
      "Threshold : 0.20\tFBeta : 0.352504\n",
      "Threshold : 0.25\tFBeta : 0.333909\n",
      "Threshold : 0.30\tFBeta : 0.318387\n",
      "Threshold : 0.35\tFBeta : 0.303823\n",
      "Threshold : 0.40\tFBeta : 0.290700\n",
      "Threshold : 0.45\tFBeta : 0.278110\n",
      "Threshold : 0.50\tFBeta : 0.265246\n",
      "Threshold : 0.55\tFBeta : 0.251713\n",
      "Threshold : 0.60\tFBeta : 0.237486\n",
      "Threshold : 0.65\tFBeta : 0.221119\n",
      "Threshold : 0.70\tFBeta : 0.202401\n",
      "Threshold : 0.75\tFBeta : 0.180131\n",
      "Threshold : 0.80\tFBeta : 0.154152\n",
      "\n"
     ]
    },
    {
     "name": "stderr",
     "output_type": "stream",
     "text": [
      "Epoch 36/50  Mem : 11.7GB  LR : 2.20E-05  Loss: 0.3225: 100%|██████████| 50/50 [00:20<00:00,  2.39it/s]                                                                                                                                                                        \n",
      "Val Loss: 0.5512: 100%|██████████| 118/118 [00:29<00:00,  4.01it/s]                                                                                                                                                                                                            \n"
     ]
    },
    {
     "name": "stdout",
     "output_type": "stream",
     "text": [
      "Threshold : 0.20\tFBeta : 0.415729\n",
      "Threshold : 0.25\tFBeta : 0.402367\n",
      "Threshold : 0.30\tFBeta : 0.389601\n",
      "Threshold : 0.35\tFBeta : 0.377241\n",
      "Threshold : 0.40\tFBeta : 0.364238\n",
      "Threshold : 0.45\tFBeta : 0.351823\n",
      "Threshold : 0.50\tFBeta : 0.338680\n",
      "Threshold : 0.55\tFBeta : 0.323289\n",
      "Threshold : 0.60\tFBeta : 0.306238\n",
      "Threshold : 0.65\tFBeta : 0.287308\n",
      "Threshold : 0.70\tFBeta : 0.264708\n",
      "Threshold : 0.75\tFBeta : 0.239323\n",
      "Threshold : 0.80\tFBeta : 0.209769\n",
      "\n"
     ]
    },
    {
     "name": "stderr",
     "output_type": "stream",
     "text": [
      "Epoch 37/50  Mem : 11.7GB  LR : 1.92E-05  Loss: 0.3383: 100%|██████████| 50/50 [00:20<00:00,  2.40it/s]                                                                                                                                                                        \n",
      "Val Loss: 0.5893: 100%|██████████| 118/118 [00:29<00:00,  3.95it/s]                                                                                                                                                                                                            \n"
     ]
    },
    {
     "name": "stdout",
     "output_type": "stream",
     "text": [
      "Threshold : 0.20\tFBeta : 0.333865\n",
      "Threshold : 0.25\tFBeta : 0.310233\n",
      "Threshold : 0.30\tFBeta : 0.290794\n",
      "Threshold : 0.35\tFBeta : 0.272758\n",
      "Threshold : 0.40\tFBeta : 0.255945\n",
      "Threshold : 0.45\tFBeta : 0.241976\n",
      "Threshold : 0.50\tFBeta : 0.229262\n",
      "Threshold : 0.55\tFBeta : 0.215987\n",
      "Threshold : 0.60\tFBeta : 0.201822\n",
      "Threshold : 0.65\tFBeta : 0.186457\n",
      "Threshold : 0.70\tFBeta : 0.169404\n",
      "Threshold : 0.75\tFBeta : 0.150500\n",
      "Threshold : 0.80\tFBeta : 0.130972\n",
      "\n"
     ]
    },
    {
     "name": "stderr",
     "output_type": "stream",
     "text": [
      "Epoch 38/50  Mem : 11.7GB  LR : 1.65E-05  Loss: 0.3267: 100%|██████████| 50/50 [00:21<00:00,  2.37it/s]                                                                                                                                                                        \n",
      "Val Loss: 0.6009: 100%|██████████| 118/118 [00:29<00:00,  3.97it/s]                                                                                                                                                                                                            \n"
     ]
    },
    {
     "name": "stdout",
     "output_type": "stream",
     "text": [
      "Threshold : 0.20\tFBeta : 0.305482\n",
      "Threshold : 0.25\tFBeta : 0.283159\n",
      "Threshold : 0.30\tFBeta : 0.265873\n",
      "Threshold : 0.35\tFBeta : 0.251737\n",
      "Threshold : 0.40\tFBeta : 0.239087\n",
      "Threshold : 0.45\tFBeta : 0.227925\n",
      "Threshold : 0.50\tFBeta : 0.217122\n",
      "Threshold : 0.55\tFBeta : 0.206687\n",
      "Threshold : 0.60\tFBeta : 0.196001\n",
      "Threshold : 0.65\tFBeta : 0.184212\n",
      "Threshold : 0.70\tFBeta : 0.169893\n",
      "Threshold : 0.75\tFBeta : 0.152991\n",
      "Threshold : 0.80\tFBeta : 0.133443\n",
      "\n"
     ]
    },
    {
     "name": "stderr",
     "output_type": "stream",
     "text": [
      "Epoch 39/50  Mem : 11.7GB  LR : 1.40E-05  Loss: 0.3167: 100%|██████████| 50/50 [00:21<00:00,  2.35it/s]                                                                                                                                                                        \n",
      "Val Loss: 0.5729: 100%|██████████| 118/118 [00:29<00:00,  3.94it/s]                                                                                                                                                                                                            \n"
     ]
    },
    {
     "name": "stdout",
     "output_type": "stream",
     "text": [
      "Threshold : 0.20\tFBeta : 0.361872\n",
      "Threshold : 0.25\tFBeta : 0.342316\n",
      "Threshold : 0.30\tFBeta : 0.327442\n",
      "Threshold : 0.35\tFBeta : 0.314216\n",
      "Threshold : 0.40\tFBeta : 0.302320\n",
      "Threshold : 0.45\tFBeta : 0.291510\n",
      "Threshold : 0.50\tFBeta : 0.281476\n",
      "Threshold : 0.55\tFBeta : 0.271210\n",
      "Threshold : 0.60\tFBeta : 0.259878\n",
      "Threshold : 0.65\tFBeta : 0.246467\n",
      "Threshold : 0.70\tFBeta : 0.230192\n",
      "Threshold : 0.75\tFBeta : 0.211034\n",
      "Threshold : 0.80\tFBeta : 0.188263\n",
      "\n"
     ]
    },
    {
     "name": "stderr",
     "output_type": "stream",
     "text": [
      "Epoch 40/50  Mem : 11.7GB  LR : 1.17E-05  Loss: 0.3255: 100%|██████████| 50/50 [00:21<00:00,  2.35it/s]                                                                                                                                                                        \n",
      "Val Loss: 0.5667: 100%|██████████| 118/118 [00:29<00:00,  3.98it/s]                                                                                                                                                                                                            \n"
     ]
    },
    {
     "name": "stdout",
     "output_type": "stream",
     "text": [
      "Threshold : 0.20\tFBeta : 0.397544\n",
      "Threshold : 0.25\tFBeta : 0.383598\n",
      "Threshold : 0.30\tFBeta : 0.370269\n",
      "Threshold : 0.35\tFBeta : 0.358072\n",
      "Threshold : 0.40\tFBeta : 0.346697\n",
      "Threshold : 0.45\tFBeta : 0.335994\n",
      "Threshold : 0.50\tFBeta : 0.325431\n",
      "Threshold : 0.55\tFBeta : 0.314547\n",
      "Threshold : 0.60\tFBeta : 0.302079\n",
      "Threshold : 0.65\tFBeta : 0.286933\n",
      "Threshold : 0.70\tFBeta : 0.267239\n",
      "Threshold : 0.75\tFBeta : 0.244554\n",
      "Threshold : 0.80\tFBeta : 0.218465\n",
      "\n"
     ]
    },
    {
     "name": "stderr",
     "output_type": "stream",
     "text": [
      "Epoch 41/50  Mem : 11.7GB  LR : 9.55E-06  Loss: 0.3187: 100%|██████████| 50/50 [00:21<00:00,  2.37it/s]                                                                                                                                                                        \n",
      "Val Loss: 0.5720: 100%|██████████| 118/118 [00:29<00:00,  4.00it/s]                                                                                                                                                                                                            \n"
     ]
    },
    {
     "name": "stdout",
     "output_type": "stream",
     "text": [
      "Threshold : 0.20\tFBeta : 0.394156\n",
      "Threshold : 0.25\tFBeta : 0.379328\n",
      "Threshold : 0.30\tFBeta : 0.367584\n",
      "Threshold : 0.35\tFBeta : 0.356629\n",
      "Threshold : 0.40\tFBeta : 0.345782\n",
      "Threshold : 0.45\tFBeta : 0.335414\n",
      "Threshold : 0.50\tFBeta : 0.324678\n",
      "Threshold : 0.55\tFBeta : 0.313604\n",
      "Threshold : 0.60\tFBeta : 0.300425\n",
      "Threshold : 0.65\tFBeta : 0.285617\n",
      "Threshold : 0.70\tFBeta : 0.268911\n",
      "Threshold : 0.75\tFBeta : 0.248949\n",
      "Threshold : 0.80\tFBeta : 0.225066\n",
      "\n"
     ]
    },
    {
     "name": "stderr",
     "output_type": "stream",
     "text": [
      "Epoch 42/50  Mem : 11.7GB  LR : 7.60E-06  Loss: 0.3195: 100%|██████████| 50/50 [00:20<00:00,  2.39it/s]                                                                                                                                                                        \n",
      "Val Loss: 0.5805: 100%|██████████| 118/118 [00:29<00:00,  3.96it/s]                                                                                                                                                                                                            \n"
     ]
    },
    {
     "name": "stdout",
     "output_type": "stream",
     "text": [
      "Threshold : 0.20\tFBeta : 0.351024\n",
      "Threshold : 0.25\tFBeta : 0.332264\n",
      "Threshold : 0.30\tFBeta : 0.317307\n",
      "Threshold : 0.35\tFBeta : 0.304270\n",
      "Threshold : 0.40\tFBeta : 0.292554\n",
      "Threshold : 0.45\tFBeta : 0.281201\n",
      "Threshold : 0.50\tFBeta : 0.270004\n",
      "Threshold : 0.55\tFBeta : 0.258142\n",
      "Threshold : 0.60\tFBeta : 0.245702\n",
      "Threshold : 0.65\tFBeta : 0.232419\n",
      "Threshold : 0.70\tFBeta : 0.216615\n",
      "Threshold : 0.75\tFBeta : 0.198726\n",
      "Threshold : 0.80\tFBeta : 0.175790\n",
      "\n"
     ]
    },
    {
     "name": "stderr",
     "output_type": "stream",
     "text": [
      "Epoch 43/50  Mem : 11.7GB  LR : 5.85E-06  Loss: 0.3186: 100%|██████████| 50/50 [00:20<00:00,  2.39it/s]                                                                                                                                                                        \n",
      "Val Loss: 0.5709: 100%|██████████| 118/118 [00:29<00:00,  4.01it/s]                                                                                                                                                                                                            \n"
     ]
    },
    {
     "name": "stdout",
     "output_type": "stream",
     "text": [
      "Threshold : 0.20\tFBeta : 0.382348\n",
      "Threshold : 0.25\tFBeta : 0.367263\n",
      "Threshold : 0.30\tFBeta : 0.354458\n",
      "Threshold : 0.35\tFBeta : 0.342713\n",
      "Threshold : 0.40\tFBeta : 0.331645\n",
      "Threshold : 0.45\tFBeta : 0.321136\n",
      "Threshold : 0.50\tFBeta : 0.310613\n",
      "Threshold : 0.55\tFBeta : 0.299564\n",
      "Threshold : 0.60\tFBeta : 0.287160\n",
      "Threshold : 0.65\tFBeta : 0.272600\n",
      "Threshold : 0.70\tFBeta : 0.256152\n",
      "Threshold : 0.75\tFBeta : 0.236581\n",
      "Threshold : 0.80\tFBeta : 0.213412\n",
      "\n"
     ]
    },
    {
     "name": "stderr",
     "output_type": "stream",
     "text": [
      "Epoch 44/50  Mem : 11.7GB  LR : 4.32E-06  Loss: 0.3124: 100%|██████████| 50/50 [00:21<00:00,  2.35it/s]                                                                                                                                                                        \n",
      "Val Loss: 0.5737: 100%|██████████| 118/118 [00:29<00:00,  3.98it/s]                                                                                                                                                                                                            \n"
     ]
    },
    {
     "name": "stdout",
     "output_type": "stream",
     "text": [
      "Threshold : 0.20\tFBeta : 0.377940\n",
      "Threshold : 0.25\tFBeta : 0.362110\n",
      "Threshold : 0.30\tFBeta : 0.348766\n",
      "Threshold : 0.35\tFBeta : 0.336792\n",
      "Threshold : 0.40\tFBeta : 0.325241\n",
      "Threshold : 0.45\tFBeta : 0.314027\n",
      "Threshold : 0.50\tFBeta : 0.302632\n",
      "Threshold : 0.55\tFBeta : 0.291236\n",
      "Threshold : 0.60\tFBeta : 0.278953\n",
      "Threshold : 0.65\tFBeta : 0.265272\n",
      "Threshold : 0.70\tFBeta : 0.248576\n",
      "Threshold : 0.75\tFBeta : 0.229438\n",
      "Threshold : 0.80\tFBeta : 0.206289\n",
      "\n"
     ]
    },
    {
     "name": "stderr",
     "output_type": "stream",
     "text": [
      "Epoch 45/50  Mem : 11.7GB  LR : 3.02E-06  Loss: 0.3180: 100%|██████████| 50/50 [00:21<00:00,  2.32it/s]                                                                                                                                                                        \n",
      "Val Loss: 0.5842: 100%|██████████| 118/118 [00:29<00:00,  3.98it/s]                                                                                                                                                                                                            \n"
     ]
    },
    {
     "name": "stdout",
     "output_type": "stream",
     "text": [
      "Threshold : 0.20\tFBeta : 0.354365\n",
      "Threshold : 0.25\tFBeta : 0.336388\n",
      "Threshold : 0.30\tFBeta : 0.321310\n",
      "Threshold : 0.35\tFBeta : 0.307572\n",
      "Threshold : 0.40\tFBeta : 0.295626\n",
      "Threshold : 0.45\tFBeta : 0.284421\n",
      "Threshold : 0.50\tFBeta : 0.273837\n",
      "Threshold : 0.55\tFBeta : 0.263020\n",
      "Threshold : 0.60\tFBeta : 0.251588\n",
      "Threshold : 0.65\tFBeta : 0.238512\n",
      "Threshold : 0.70\tFBeta : 0.224144\n",
      "Threshold : 0.75\tFBeta : 0.207641\n",
      "Threshold : 0.80\tFBeta : 0.186785\n",
      "\n"
     ]
    },
    {
     "name": "stderr",
     "output_type": "stream",
     "text": [
      "Epoch 46/50  Mem : 11.7GB  LR : 1.94E-06  Loss: 0.3136: 100%|██████████| 50/50 [00:20<00:00,  2.40it/s]                                                                                                                                                                        \n",
      "Val Loss: 0.5839: 100%|██████████| 118/118 [00:29<00:00,  4.01it/s]                                                                                                                                                                                                            \n"
     ]
    },
    {
     "name": "stdout",
     "output_type": "stream",
     "text": [
      "Threshold : 0.20\tFBeta : 0.350052\n",
      "Threshold : 0.25\tFBeta : 0.330400\n",
      "Threshold : 0.30\tFBeta : 0.315163\n",
      "Threshold : 0.35\tFBeta : 0.301828\n",
      "Threshold : 0.40\tFBeta : 0.289363\n",
      "Threshold : 0.45\tFBeta : 0.278136\n",
      "Threshold : 0.50\tFBeta : 0.267550\n",
      "Threshold : 0.55\tFBeta : 0.256502\n",
      "Threshold : 0.60\tFBeta : 0.244196\n",
      "Threshold : 0.65\tFBeta : 0.231566\n",
      "Threshold : 0.70\tFBeta : 0.217446\n",
      "Threshold : 0.75\tFBeta : 0.200186\n",
      "Threshold : 0.80\tFBeta : 0.178098\n",
      "\n"
     ]
    },
    {
     "name": "stderr",
     "output_type": "stream",
     "text": [
      "Epoch 47/50  Mem : 11.7GB  LR : 1.09E-06  Loss: 0.3060: 100%|██████████| 50/50 [00:21<00:00,  2.37it/s]                                                                                                                                                                        \n",
      "Val Loss: 0.5701: 100%|██████████| 118/118 [00:29<00:00,  4.00it/s]                                                                                                                                                                                                            \n"
     ]
    },
    {
     "name": "stdout",
     "output_type": "stream",
     "text": [
      "Threshold : 0.20\tFBeta : 0.377421\n",
      "Threshold : 0.25\tFBeta : 0.361424\n",
      "Threshold : 0.30\tFBeta : 0.347777\n",
      "Threshold : 0.35\tFBeta : 0.334846\n",
      "Threshold : 0.40\tFBeta : 0.323061\n",
      "Threshold : 0.45\tFBeta : 0.312616\n",
      "Threshold : 0.50\tFBeta : 0.302605\n",
      "Threshold : 0.55\tFBeta : 0.291756\n",
      "Threshold : 0.60\tFBeta : 0.280189\n",
      "Threshold : 0.65\tFBeta : 0.266835\n",
      "Threshold : 0.70\tFBeta : 0.250882\n",
      "Threshold : 0.75\tFBeta : 0.232310\n",
      "Threshold : 0.80\tFBeta : 0.210731\n",
      "\n"
     ]
    },
    {
     "name": "stderr",
     "output_type": "stream",
     "text": [
      "Epoch 48/50  Mem : 11.7GB  LR : 4.87E-07  Loss: 0.3121: 100%|██████████| 50/50 [00:20<00:00,  2.40it/s]                                                                                                                                                                        \n",
      "Val Loss: 0.5738: 100%|██████████| 118/118 [00:29<00:00,  3.97it/s]                                                                                                                                                                                                            \n"
     ]
    },
    {
     "name": "stdout",
     "output_type": "stream",
     "text": [
      "Threshold : 0.20\tFBeta : 0.368097\n",
      "Threshold : 0.25\tFBeta : 0.350479\n",
      "Threshold : 0.30\tFBeta : 0.335860\n",
      "Threshold : 0.35\tFBeta : 0.322747\n",
      "Threshold : 0.40\tFBeta : 0.311786\n",
      "Threshold : 0.45\tFBeta : 0.301505\n",
      "Threshold : 0.50\tFBeta : 0.290700\n",
      "Threshold : 0.55\tFBeta : 0.279882\n",
      "Threshold : 0.60\tFBeta : 0.268133\n",
      "Threshold : 0.65\tFBeta : 0.254203\n",
      "Threshold : 0.70\tFBeta : 0.238102\n",
      "Threshold : 0.75\tFBeta : 0.220459\n",
      "Threshold : 0.80\tFBeta : 0.198784\n",
      "\n"
     ]
    },
    {
     "name": "stderr",
     "output_type": "stream",
     "text": [
      "Epoch 49/50  Mem : 11.7GB  LR : 1.22E-07  Loss: 0.3115: 100%|██████████| 50/50 [00:21<00:00,  2.38it/s]                                                                                                                                                                        \n",
      "Val Loss: 0.5696: 100%|██████████| 118/118 [00:29<00:00,  4.01it/s]                                                                                                                                                                                                            \n"
     ]
    },
    {
     "name": "stdout",
     "output_type": "stream",
     "text": [
      "Threshold : 0.20\tFBeta : 0.382870\n",
      "Threshold : 0.25\tFBeta : 0.368016\n",
      "Threshold : 0.30\tFBeta : 0.354496\n",
      "Threshold : 0.35\tFBeta : 0.342242\n",
      "Threshold : 0.40\tFBeta : 0.330350\n",
      "Threshold : 0.45\tFBeta : 0.319233\n",
      "Threshold : 0.50\tFBeta : 0.308406\n",
      "Threshold : 0.55\tFBeta : 0.297751\n",
      "Threshold : 0.60\tFBeta : 0.286388\n",
      "Threshold : 0.65\tFBeta : 0.272446\n",
      "Threshold : 0.70\tFBeta : 0.256137\n",
      "Threshold : 0.75\tFBeta : 0.236447\n",
      "Threshold : 0.80\tFBeta : 0.213466\n",
      "\n"
     ]
    },
    {
     "name": "stderr",
     "output_type": "stream",
     "text": [
      "Epoch 50/50  Mem : 11.7GB  LR : 4.00E-10  Loss: 0.3094: 100%|██████████| 50/50 [00:21<00:00,  2.32it/s]                                                                                                                                                                        \n",
      "Val Loss: 0.5794: 100%|██████████| 118/118 [00:29<00:00,  3.99it/s]                                                                                                                                                                                                            \n"
     ]
    },
    {
     "name": "stdout",
     "output_type": "stream",
     "text": [
      "Threshold : 0.20\tFBeta : 0.356044\n",
      "Threshold : 0.25\tFBeta : 0.336652\n",
      "Threshold : 0.30\tFBeta : 0.320513\n",
      "Threshold : 0.35\tFBeta : 0.306418\n",
      "Threshold : 0.40\tFBeta : 0.293670\n",
      "Threshold : 0.45\tFBeta : 0.281767\n",
      "Threshold : 0.50\tFBeta : 0.270065\n",
      "Threshold : 0.55\tFBeta : 0.258208\n",
      "Threshold : 0.60\tFBeta : 0.245465\n",
      "Threshold : 0.65\tFBeta : 0.231388\n",
      "Threshold : 0.70\tFBeta : 0.215607\n",
      "Threshold : 0.75\tFBeta : 0.196427\n",
      "Threshold : 0.80\tFBeta : 0.172953\n",
      "\n"
     ]
    }
   ],
   "source": [
    "fbeta_best = 0.0\n",
    "for epoch in range(1, EPOCHS+1):\n",
    "    model.train()\n",
    "    cur_lr = f\"LR : {scheduler.get_last_lr()[0]:.2E}\"\n",
    "    pbar_train = enumerate(dataloader_train)\n",
    "    pbar_train = tqdm(pbar_train, total=n_train, bar_format=\"{l_bar}{bar:10}{r_bar}{bar:-10b}\")\n",
    "    mloss_train, mloss_val, val_metric = 0.0, 0.0, 0.0\n",
    "\n",
    "    \n",
    "\n",
    "\n",
    "\n",
    "\n",
    "    for i, (fragments, masks) in pbar_train:\n",
    "        fragments, masks = fragments.cuda().half(), masks.cuda().half()\n",
    "        \n",
    "        \n",
    "        optimizer.zero_grad()\n",
    "        with amp.autocast():\n",
    "            pred_masks = model(fragments)\n",
    "            loss = criterion(pred_masks, masks)\n",
    "            scaler.scale(loss).backward()\n",
    "            scaler.step(optimizer)\n",
    "            scaler.update()\n",
    "            mloss_train += loss.detach().item()\n",
    "\n",
    "        gpu_mem = f\"Mem : {torch.cuda.memory_reserved() / 1E9:.3g}GB\"\n",
    "        pbar_train.set_description((\"%10s  \" * 3 + \"%10s\") % (f\"Epoch {epoch}/{EPOCHS}\", gpu_mem, cur_lr,\n",
    "                                                              f\"Loss: {mloss_train / (i + 1):.4f}\"))\n",
    "        \n",
    "    scheduler.step()\n",
    "    model.eval()\n",
    "    pbar_val = enumerate(dataloader_valid)\n",
    "    pbar_val = tqdm(pbar_val, total=n_valid, bar_format=\"{l_bar}{bar:10}{r_bar}{bar:-10b}\")\n",
    "    final_pred_mask = torch.zeros(gt_shape, dtype=torch.float32, device='cuda')\n",
    "    \n",
    "    for i, (fragments, masks, xys) in pbar_val:\n",
    "        fragments, masks = fragments.cuda(), masks.cuda()\n",
    "        \n",
    "        with torch.no_grad():\n",
    "            pred_masks = model(fragments)\n",
    "            mloss_val += criterion(pred_masks, masks).item()\n",
    "            pred_masks = torch.sigmoid(pred_masks)\n",
    "        \n",
    "        for j, xy in enumerate(xys):\n",
    "            final_pred_mask[xy[1]:xy[3], xy[0]:xy[2]] = pred_masks[j, 0]\n",
    "\n",
    "        pbar_val.set_description((\"%10s\") % (f\"Val Loss: {mloss_val / (i+1):.4f}\"))\n",
    "    \n",
    "    for threshold in np.arange(0.2, 0.85, 0.05):\n",
    "        fbeta = fbeta_score(final_pred_mask, gt_mask, threshold)\n",
    "        print(f\"Threshold : {threshold:.2f}\\tFBeta : {fbeta:.6f}\")\n",
    "        \n",
    "        if fbeta_best < fbeta:\n",
    "            fbeta_best = fbeta\n",
    "            torch.save(model.module.state_dict(), f\"./ckpts/resnet18_3d_seg_best_{fbeta_best:.4f}.pt\")\n",
    "    \n",
    "    \n",
    "    # if epoch >= 10:\n",
    "    #     torch.save(model.module.state_dict(), f\"./ckpts/resnet18_3d_seg_epoch_{epoch}.pt\")\n",
    "\n",
    "    # if epoch == 30:\n",
    "    #     break\n",
    "\n",
    "    print()"
   ]
  },
  {
   "cell_type": "code",
   "execution_count": 22,
   "id": "2c48f344",
   "metadata": {
    "execution": {
     "iopub.execute_input": "2023-05-23T09:26:42.369609Z",
     "iopub.status.busy": "2023-05-23T09:26:42.369503Z",
     "iopub.status.idle": "2023-05-23T09:26:42.371791Z",
     "shell.execute_reply": "2023-05-23T09:26:42.371602Z"
    }
   },
   "outputs": [],
   "source": [
    "# import logging\n",
    "\n",
    "# logging.basicConfig(filename=\"training_log.txt\", level=logging.INFO)\n",
    "\n",
    "# console = logging.StreamHandler()\n",
    "# console.setLevel(logging.INFO)\n",
    "# logging.getLogger('').addHandler(console)\n",
    "\n",
    "# fbeta_best = 0.0\n",
    "# for epoch in range(1, EPOCHS+1):\n",
    "#     model.train()\n",
    "#     cur_lr = f\"LR : {scheduler.get_last_lr()[0]:.2E}\"\n",
    "#     pbar_train = enumerate(dataloader_train)\n",
    "#     pbar_train = tqdm(pbar_train, total=n_train, bar_format=\"{l_bar}{bar:10}{r_bar}{bar:-10b}\")\n",
    "#     mloss_train, mloss_val, val_metric = 0.0, 0.0, 0.0\n",
    "\n",
    "#     for i, (fragments, masks) in pbar_train:\n",
    "#         fragments, masks = fragments.cuda().half(), masks.cuda().half()\n",
    "        \n",
    "#         optimizer.zero_grad()\n",
    "#         with amp.autocast():\n",
    "#             pred_masks = model(fragments)\n",
    "#             loss = criterion(pred_masks, masks)\n",
    "#             scaler.scale(loss).backward()\n",
    "#             scaler.step(optimizer)\n",
    "#             scaler.update()\n",
    "#             mloss_train += loss.detach().item()\n",
    "\n",
    "#         gpu_mem = f\"Mem : {torch.cuda.memory_reserved() / 1E9:.3g}GB\"\n",
    "#         pbar_train.set_description((\"%10s  \" * 3 + \"%10s\") % (f\"Epoch {epoch}/{EPOCHS}\", gpu_mem, cur_lr,\n",
    "#                                                               f\"Loss: {mloss_train / (i + 1):.4f}\"))\n",
    "#         logging.info((\"%10s  \" * 3 + \"%10s\") % (f\"Epoch {epoch}/{EPOCHS}\", gpu_mem, cur_lr,\n",
    "#                                                 f\"Loss: {mloss_train / (i + 1):.4f}\"))\n",
    "#     scheduler.step()\n",
    "#     model.eval()\n",
    "#     pbar_val = enumerate(dataloader_valid)\n",
    "#     pbar_val = tqdm(pbar_val, total=n_valid, bar_format=\"{l_bar}{bar:10}{r_bar}{bar:-10b}\")\n",
    "#     final_pred_mask = torch.zeros(gt_shape, dtype=torch.float32, device='cuda')\n",
    "    \n",
    "#     for i, (fragments, masks, xys) in pbar_val:\n",
    "#         fragments, masks = fragments.cuda(), masks.cuda()\n",
    "        \n",
    "#         with torch.no_grad():\n",
    "#             pred_masks = model(fragments)\n",
    "#             mloss_val += criterion(pred_masks, masks).item()\n",
    "#             pred_masks = torch.sigmoid(pred_masks)\n",
    "        \n",
    "#         for j, xy in enumerate(xys):\n",
    "#             final_pred_mask[xy[1]:xy[3], xy[0]:xy[2]] = pred_masks[j, 0]\n",
    "\n",
    "#         pbar_val.set_description((\"%10s\") % (f\"Val Loss: {mloss_val / (i+1):.4f}\"))\n",
    "#         logging.info((\"%10s\") % (f\"Val Loss: {mloss_val / (i+1):.4f}\"))\n",
    "\n",
    "#     for threshold in np.arange(0.2, 0.85, 0.05):\n",
    "#         fbeta = fbeta_score(final_pred_mask, gt_mask, threshold)\n",
    "#         logging.info(f\"Threshold : {threshold:.2f}\\tFBeta : {fbeta:.6f}\")\n",
    "\n",
    "#         if fbeta_best < fbeta:\n",
    "#             fbeta_best = fbeta\n",
    "#             torch.save(model.module.state_dict(), f\"./ckpts/resnet18_3d_seg_best.pt\")\n",
    "    \n",
    "#     # if epoch >= 10:\n",
    "#     #     torch.save(model.module.state_dict(), f\"./ckpts/resnet18_3d_seg_epoch_{epoch}.pt\")\n"
   ]
  },
  {
   "cell_type": "code",
   "execution_count": null,
   "id": "89431087",
   "metadata": {
    "papermill": {
     "duration": 0.381515,
     "end_time": "2023-04-08T11:20:14.478012",
     "exception": false,
     "start_time": "2023-04-08T11:20:14.096497",
     "status": "completed"
    },
    "tags": []
   },
   "outputs": [],
   "source": []
  }
 ],
 "metadata": {
  "kernelspec": {
   "display_name": "Python 3",
   "language": "python",
   "name": "python3"
  },
  "language_info": {
   "codemirror_mode": {
    "name": "ipython",
    "version": 3
   },
   "file_extension": ".py",
   "mimetype": "text/x-python",
   "name": "python",
   "nbconvert_exporter": "python",
   "pygments_lexer": "ipython3",
   "version": "3.9.16"
  },
  "papermill": {
   "default_parameters": {},
   "duration": 4132.646938,
   "end_time": "2023-04-08T11:20:18.816611",
   "environment_variables": {},
   "exception": null,
   "input_path": "__notebook__.ipynb",
   "output_path": "__notebook__.ipynb",
   "parameters": {},
   "start_time": "2023-04-08T10:11:26.169673",
   "version": "2.4.0"
  }
 },
 "nbformat": 4,
 "nbformat_minor": 5
}
