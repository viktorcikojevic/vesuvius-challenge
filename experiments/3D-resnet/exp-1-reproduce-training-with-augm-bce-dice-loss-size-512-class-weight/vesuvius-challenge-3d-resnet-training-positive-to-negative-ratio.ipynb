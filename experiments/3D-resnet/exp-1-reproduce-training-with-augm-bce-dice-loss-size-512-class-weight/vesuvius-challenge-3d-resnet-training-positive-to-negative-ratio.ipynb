{
 "cells": [
  {
   "attachments": {},
   "cell_type": "markdown",
   "id": "73dea9ca",
   "metadata": {
    "papermill": {
     "duration": 0.006587,
     "end_time": "2023-04-08T10:11:36.662576",
     "exception": false,
     "start_time": "2023-04-08T10:11:36.655989",
     "status": "completed"
    },
    "tags": []
   },
   "source": [
    "## Vesuvius Challenge - Ink Detection Training Notebook"
   ]
  },
  {
   "attachments": {},
   "cell_type": "markdown",
   "id": "8cdbb7ff",
   "metadata": {
    "papermill": {
     "duration": 0.004951,
     "end_time": "2023-04-08T10:11:36.672955",
     "exception": false,
     "start_time": "2023-04-08T10:11:36.668004",
     "status": "completed"
    },
    "tags": []
   },
   "source": [
    "### Setup"
   ]
  },
  {
   "cell_type": "code",
   "execution_count": 1,
   "id": "ae445317",
   "metadata": {
    "_kg_hide-input": false,
    "_kg_hide-output": true,
    "execution": {
     "iopub.execute_input": "2023-05-28T06:21:30.224482Z",
     "iopub.status.busy": "2023-05-28T06:21:30.223942Z",
     "iopub.status.idle": "2023-05-28T06:21:30.400103Z",
     "shell.execute_reply": "2023-05-28T06:21:30.398246Z"
    },
    "papermill": {
     "duration": 29.297355,
     "end_time": "2023-04-08T10:12:05.976007",
     "exception": false,
     "start_time": "2023-04-08T10:11:36.678652",
     "status": "completed"
    },
    "tags": []
   },
   "outputs": [
    {
     "name": "stdout",
     "output_type": "stream",
     "text": [
      "mkdir: cannot create directory ‘./ckpts’: File exists\n"
     ]
    }
   ],
   "source": [
    "# # Pretrained weights\n",
    "# # ref - https://github.com/kenshohara/3D-ResNets-PyTorch\n",
    "# !pip install gdown\n",
    "# !gdown 1Nb4abvIkkp_ydPFA9sNPT1WakoVKA8Fa\n",
    "\n",
    "# # Utility packages for reading and visualizing volumes\n",
    "# !pip install zarr imageio-ffmpeg\n",
    "\n",
    "# save model checkpoints\n",
    "!mkdir ./ckpts"
   ]
  },
  {
   "cell_type": "code",
   "execution_count": 2,
   "id": "0d956f5c",
   "metadata": {
    "execution": {
     "iopub.execute_input": "2023-05-28T06:21:30.405547Z",
     "iopub.status.busy": "2023-05-28T06:21:30.405127Z",
     "iopub.status.idle": "2023-05-28T06:21:31.245492Z",
     "shell.execute_reply": "2023-05-28T06:21:31.245161Z"
    },
    "papermill": {
     "duration": 3.289261,
     "end_time": "2023-04-08T10:12:09.273534",
     "exception": false,
     "start_time": "2023-04-08T10:12:05.984273",
     "status": "completed"
    },
    "tags": []
   },
   "outputs": [],
   "source": [
    "import os\n",
    "import gc\n",
    "import sys\n",
    "import zarr\n",
    "import random\n",
    "import imageio\n",
    "import numpy as np\n",
    "import pandas as pd\n",
    "from tqdm import tqdm\n",
    "import matplotlib.pyplot as plt\n",
    "from IPython.display import Video\n",
    "\n",
    "import torch\n",
    "import torch.nn as nn\n",
    "import torch.nn.functional as F\n",
    "from torch.cuda import amp\n",
    "from torch.utils.data import Dataset, DataLoader\n",
    "\n",
    "sys.path.append(\"./resnet3d\")\n",
    "from resnet3d import generate_model"
   ]
  },
  {
   "attachments": {},
   "cell_type": "markdown",
   "id": "88b00fe4",
   "metadata": {
    "papermill": {
     "duration": 0.007297,
     "end_time": "2023-04-08T10:12:09.288770",
     "exception": false,
     "start_time": "2023-04-08T10:12:09.281473",
     "status": "completed"
    },
    "tags": []
   },
   "source": [
    "### Config"
   ]
  },
  {
   "cell_type": "code",
   "execution_count": 3,
   "id": "59e26b77",
   "metadata": {
    "execution": {
     "iopub.execute_input": "2023-05-28T06:21:31.247151Z",
     "iopub.status.busy": "2023-05-28T06:21:31.246949Z",
     "iopub.status.idle": "2023-05-28T06:21:31.248838Z",
     "shell.execute_reply": "2023-05-28T06:21:31.248666Z"
    },
    "papermill": {
     "duration": 0.016571,
     "end_time": "2023-04-08T10:12:09.312935",
     "exception": false,
     "start_time": "2023-04-08T10:12:09.296364",
     "status": "completed"
    },
    "tags": []
   },
   "outputs": [],
   "source": [
    "LR = 1e-4\n",
    "EPOCHS = 50\n",
    "BATCH_SIZE = 8\n",
    "CROP_SIZE = 768\n",
    "Z_START = 24\n",
    "Z_DIMS = 16\n",
    "TRAIN_FRAGMENTS = [\"1\", \"2\", \"3\"]\n",
    "TEST_FRAGMENT = \"1\""
   ]
  },
  {
   "attachments": {},
   "cell_type": "markdown",
   "id": "9a1e0328",
   "metadata": {
    "papermill": {
     "duration": 0.007428,
     "end_time": "2023-04-08T10:12:09.328094",
     "exception": false,
     "start_time": "2023-04-08T10:12:09.320666",
     "status": "completed"
    },
    "tags": []
   },
   "source": [
    "### Load data"
   ]
  },
  {
   "cell_type": "code",
   "execution_count": 4,
   "id": "8c494d99",
   "metadata": {
    "execution": {
     "iopub.execute_input": "2023-05-28T06:21:31.250110Z",
     "iopub.status.busy": "2023-05-28T06:21:31.250027Z",
     "iopub.status.idle": "2023-05-28T06:21:31.258496Z",
     "shell.execute_reply": "2023-05-28T06:21:31.258179Z"
    },
    "papermill": {
     "duration": 0.054715,
     "end_time": "2023-04-08T10:12:09.391635",
     "exception": false,
     "start_time": "2023-04-08T10:12:09.336920",
     "status": "completed"
    },
    "tags": []
   },
   "outputs": [],
   "source": [
    "\n",
    "\n",
    "FRAGMENTS_ZARR = {\n",
    "    \"1\" : zarr.open(\"/home/viktor/Documents/kaggle/vesuvius-challenge/kaggle-data/train-1.zarr\", mode=\"r\"),\n",
    "    \"2\" : zarr.open(\"/home/viktor/Documents/kaggle/vesuvius-challenge/kaggle-data/train-2.zarr\", mode=\"r\"),\n",
    "    \"3\" : zarr.open(\"/home/viktor/Documents/kaggle/vesuvius-challenge/kaggle-data/train-3.zarr\", mode=\"r\")\n",
    "}\n",
    "\n",
    "FRAGMENTS_SHAPE = {k : v.mask.shape for k, v in FRAGMENTS_ZARR.items()}"
   ]
  },
  {
   "attachments": {},
   "cell_type": "markdown",
   "id": "97a51afa",
   "metadata": {
    "papermill": {
     "duration": 0.007406,
     "end_time": "2023-04-08T10:12:09.406465",
     "exception": false,
     "start_time": "2023-04-08T10:12:09.399059",
     "status": "completed"
    },
    "tags": []
   },
   "source": [
    "### Visualise input"
   ]
  },
  {
   "cell_type": "code",
   "execution_count": 5,
   "id": "6d33b9f8",
   "metadata": {
    "execution": {
     "iopub.execute_input": "2023-05-28T06:21:31.259781Z",
     "iopub.status.busy": "2023-05-28T06:21:31.259502Z",
     "iopub.status.idle": "2023-05-28T06:21:31.760348Z",
     "shell.execute_reply": "2023-05-28T06:21:31.759956Z"
    },
    "papermill": {
     "duration": 1.68744,
     "end_time": "2023-04-08T10:12:11.101290",
     "exception": false,
     "start_time": "2023-04-08T10:12:09.413850",
     "status": "completed"
    },
    "tags": []
   },
   "outputs": [
    {
     "name": "stderr",
     "output_type": "stream",
     "text": [
      "Lossy conversion from uint16 to uint8. Losing 8 bits of resolution. Convert image to uint8 prior to saving to suppress this warning.\n",
      "Lossy conversion from uint16 to uint8. Losing 8 bits of resolution. Convert image to uint8 prior to saving to suppress this warning.\n",
      "Lossy conversion from uint16 to uint8. Losing 8 bits of resolution. Convert image to uint8 prior to saving to suppress this warning.\n",
      "Lossy conversion from uint16 to uint8. Losing 8 bits of resolution. Convert image to uint8 prior to saving to suppress this warning.\n",
      "Lossy conversion from uint16 to uint8. Losing 8 bits of resolution. Convert image to uint8 prior to saving to suppress this warning.\n",
      "Lossy conversion from uint16 to uint8. Losing 8 bits of resolution. Convert image to uint8 prior to saving to suppress this warning.\n",
      "Lossy conversion from uint16 to uint8. Losing 8 bits of resolution. Convert image to uint8 prior to saving to suppress this warning.\n",
      "Lossy conversion from uint16 to uint8. Losing 8 bits of resolution. Convert image to uint8 prior to saving to suppress this warning.\n",
      "Lossy conversion from uint16 to uint8. Losing 8 bits of resolution. Convert image to uint8 prior to saving to suppress this warning.\n",
      "Lossy conversion from uint16 to uint8. Losing 8 bits of resolution. Convert image to uint8 prior to saving to suppress this warning.\n",
      "Lossy conversion from uint16 to uint8. Losing 8 bits of resolution. Convert image to uint8 prior to saving to suppress this warning.\n",
      "Lossy conversion from uint16 to uint8. Losing 8 bits of resolution. Convert image to uint8 prior to saving to suppress this warning.\n",
      "Lossy conversion from uint16 to uint8. Losing 8 bits of resolution. Convert image to uint8 prior to saving to suppress this warning.\n",
      "Lossy conversion from uint16 to uint8. Losing 8 bits of resolution. Convert image to uint8 prior to saving to suppress this warning.\n",
      "Lossy conversion from uint16 to uint8. Losing 8 bits of resolution. Convert image to uint8 prior to saving to suppress this warning.\n",
      "Lossy conversion from uint16 to uint8. Losing 8 bits of resolution. Convert image to uint8 prior to saving to suppress this warning.\n"
     ]
    },
    {
     "data": {
      "text/html": [
       "<video src=\"fragment_crop.mp4\" controls  width=\"256\"  height=\"256\">\n",
       "      Your browser does not support the <code>video</code> element.\n",
       "    </video>"
      ],
      "text/plain": [
       "<IPython.core.display.Video object>"
      ]
     },
     "execution_count": 5,
     "metadata": {},
     "output_type": "execute_result"
    }
   ],
   "source": [
    "fragment = FRAGMENTS_ZARR[\"1\"]\n",
    "x, y = 2000, 2000\n",
    "\n",
    "fragment_cropped = fragment.surface_volume[y:y+CROP_SIZE, x:x+CROP_SIZE, Z_START:Z_START+Z_DIMS]\n",
    "imageio.mimwrite(\"fragment_crop.mp4\", fragment_cropped.transpose(2, 0, 1), \"ffmpeg\")\n",
    "Video(\"fragment_crop.mp4\", height=256, width=256)"
   ]
  },
  {
   "cell_type": "code",
   "execution_count": 6,
   "id": "46203a93",
   "metadata": {
    "execution": {
     "iopub.execute_input": "2023-05-28T06:21:31.761823Z",
     "iopub.status.busy": "2023-05-28T06:21:31.761743Z",
     "iopub.status.idle": "2023-05-28T06:21:31.825538Z",
     "shell.execute_reply": "2023-05-28T06:21:31.825340Z"
    },
    "papermill": {
     "duration": 0.258785,
     "end_time": "2023-04-08T10:12:11.368608",
     "exception": false,
     "start_time": "2023-04-08T10:12:11.109823",
     "status": "completed"
    },
    "tags": []
   },
   "outputs": [
    {
     "data": {
      "image/png": "[encoded data removed]",
      "text/plain": [
       "<Figure size 600x300 with 2 Axes>"
      ]
     },
     "metadata": {},
     "output_type": "display_data"
    }
   ],
   "source": [
    "mask_cropped = fragment.truth[y:y+CROP_SIZE, x:x+CROP_SIZE]\n",
    "ir_cropped = fragment.infrared[y:y+CROP_SIZE, x:x+CROP_SIZE]\n",
    "\n",
    "plt.figure(figsize=(6, 3))\n",
    "plt.subplot(1, 2, 1)\n",
    "plt.imshow(mask_cropped, cmap=\"gray\")\n",
    "plt.axis(\"off\")\n",
    "\n",
    "plt.subplot(1, 2, 2)\n",
    "plt.imshow(ir_cropped, cmap=\"gray\")\n",
    "plt.axis(\"off\")\n",
    "plt.show()"
   ]
  },
  {
   "cell_type": "code",
   "execution_count": 7,
   "id": "6462d25d",
   "metadata": {
    "execution": {
     "iopub.execute_input": "2023-05-28T06:21:31.826717Z",
     "iopub.status.busy": "2023-05-28T06:21:31.826642Z",
     "iopub.status.idle": "2023-05-28T06:21:31.873510Z",
     "shell.execute_reply": "2023-05-28T06:21:31.873288Z"
    },
    "papermill": {
     "duration": 0.17287,
     "end_time": "2023-04-08T10:12:11.562933",
     "exception": false,
     "start_time": "2023-04-08T10:12:11.390063",
     "status": "completed"
    },
    "tags": []
   },
   "outputs": [
    {
     "data": {
      "text/plain": [
       "4083"
      ]
     },
     "execution_count": 7,
     "metadata": {},
     "output_type": "execute_result"
    }
   ],
   "source": [
    "del fragment, fragment_cropped, mask_cropped, ir_cropped\n",
    "gc.collect()"
   ]
  },
  {
   "attachments": {},
   "cell_type": "markdown",
   "id": "ff9cd3e8",
   "metadata": {
    "papermill": {
     "duration": 0.008474,
     "end_time": "2023-04-08T10:12:11.580070",
     "exception": false,
     "start_time": "2023-04-08T10:12:11.571596",
     "status": "completed"
    },
    "tags": []
   },
   "source": [
    "### Dataloaders"
   ]
  },
  {
   "cell_type": "code",
   "execution_count": 8,
   "id": "162ec4e8",
   "metadata": {
    "execution": {
     "iopub.execute_input": "2023-05-28T06:21:31.874869Z",
     "iopub.status.busy": "2023-05-28T06:21:31.874766Z",
     "iopub.status.idle": "2023-05-28T06:21:31.876645Z",
     "shell.execute_reply": "2023-05-28T06:21:31.876474Z"
    },
    "papermill": {
     "duration": 0.024571,
     "end_time": "2023-04-08T10:12:11.612905",
     "exception": false,
     "start_time": "2023-04-08T10:12:11.588334",
     "status": "completed"
    },
    "tags": []
   },
   "outputs": [],
   "source": [
    "# import albumentations as A\n",
    "# from albumentations.pytorch import ToTensorV2\n",
    "\n",
    "# class VesuviusTrain(Dataset):\n",
    "#     def __init__(self, fragments):\n",
    "#         self.fragments = fragments\n",
    "#         self.xys = []\n",
    "        \n",
    "#         for fragment in fragments:\n",
    "#             H, W = FRAGMENTS_SHAPE[fragment]\n",
    "#             for y in range(0, H-CROP_SIZE+1, CROP_SIZE):\n",
    "#                 for x in range(0, W-CROP_SIZE+1, CROP_SIZE):\n",
    "#                     self.xys.append((fragment, x, y, W, H))\n",
    "        \n",
    "#         train_aug_list = [\n",
    "#                 # A.RandomResizedCrop(\n",
    "#                 #     size, size, scale=(0.85, 1.0)),\n",
    "#                 A.HorizontalFlip(p=0.5),\n",
    "#                 A.VerticalFlip(p=0.5),\n",
    "#                 A.RandomBrightnessContrast(p=0.75),\n",
    "#                 A.CoarseDropout(max_holes=1, max_width=int(CROP_SIZE * 0.1), max_height=int(size * 0.1), \n",
    "#                                 mask_fill_value=0, p=0.5),\n",
    "#                 A.ShiftScaleRotate(p=0.75),\n",
    "#                 A.Rotate(limit=90, p=0.9), \n",
    "#                 A.OneOf([\n",
    "#                         A.GaussNoise(var_limit=[10, 50]),\n",
    "#                         A.GaussianBlur(),\n",
    "#                         A.MotionBlur(),\n",
    "#                         ], p=0.4),\n",
    "#                 A.GridDistortion(num_steps=1, distort_limit=0.3, p=0.5),\n",
    "                \n",
    "#                 A.Cutout(max_h_size=int(size * 0.6),\n",
    "#                          max_w_size=int(size * 0.6), num_holes=1, p=1.0),\n",
    "#                 A.Normalize(\n",
    "#                     mean= [0] * Z_DIMS,\n",
    "#                     std= [1] * Z_DIMS\n",
    "#                 ),\n",
    "#                 ToTensorV2(transpose_mask=True),\n",
    "#             ]\n",
    "        \n",
    "        \n",
    "        \n",
    "#     def __getitem__(self, i):\n",
    "#         fragment, x1, y1, W, H = self.xys[i]\n",
    "#         z1, z2 = Z_START, Z_START+Z_DIMS\n",
    "        \n",
    "#         x_offset = random.randint(-32 if x1 != 0 else 0, 32)\n",
    "#         y_offset = random.randint(-32 if y1 != 0 else 0, 32)\n",
    "        \n",
    "#         x1 += x_offset\n",
    "#         y1 += y_offset\n",
    "        \n",
    "#         x2 = x1 + CROP_SIZE\n",
    "#         y2 = y1 + CROP_SIZE\n",
    "        \n",
    "#         if x2 > W:\n",
    "#             x1 -= x_offset\n",
    "#             x2 -= x_offset\n",
    "            \n",
    "#         if y2 > H:\n",
    "#             y1 -= y_offset\n",
    "#             y2 -= y_offset\n",
    "        \n",
    "#         frag_crop = FRAGMENTS_ZARR[fragment].surface_volume[y1:y2, x1:x2, z1:z2]\n",
    "#         mask_crop = FRAGMENTS_ZARR[fragment].truth[y1:y2, x1:x2]\n",
    "        \n",
    "#         if random.random() > 0.5:\n",
    "#             frag_crop = np.flip(frag_crop, axis=1).copy()\n",
    "#             mask_crop = np.flip(mask_crop, axis=1).copy()\n",
    "\n",
    "#         frag_crop = torch.from_numpy(frag_crop.astype(np.float32)).unsqueeze(0).permute(0, 3, 1, 2)\n",
    "#         frag_crop = frag_crop/65535.0\n",
    "#         frag_crop = (frag_crop - 0.45)/0.225\n",
    "        \n",
    "#         mask_crop = torch.from_numpy(mask_crop.astype(np.float32)).unsqueeze(0)\n",
    "        \n",
    "        \n",
    "        \n",
    "        \n",
    "        \n",
    "        \n",
    "        \n",
    "        \n",
    "#         return frag_crop, mask_crop\n",
    "\n",
    "#     def __len__(self):\n",
    "#         return len(self.xys)"
   ]
  },
  {
   "cell_type": "code",
   "execution_count": 9,
   "id": "c2c0c6d5",
   "metadata": {
    "execution": {
     "iopub.execute_input": "2023-05-28T06:21:31.877827Z",
     "iopub.status.busy": "2023-05-28T06:21:31.877744Z",
     "iopub.status.idle": "2023-05-28T06:21:32.185286Z",
     "shell.execute_reply": "2023-05-28T06:21:32.184962Z"
    }
   },
   "outputs": [],
   "source": [
    "import albumentations as A\n",
    "from albumentations.pytorch import ToTensorV2\n",
    "\n",
    "class VesuviusTrain(Dataset):\n",
    "    def __init__(self, fragments):\n",
    "        self.fragments = fragments\n",
    "        self.xys = []\n",
    "        \n",
    "        for fragment in fragments:\n",
    "            H, W = FRAGMENTS_SHAPE[fragment]\n",
    "            for y in range(0, H-CROP_SIZE+1, CROP_SIZE):\n",
    "                for x in range(0, W-CROP_SIZE+1, CROP_SIZE):\n",
    "                    surface = FRAGMENTS_ZARR[fragment].surface_volume[y:y+CROP_SIZE, x:x+CROP_SIZE, 0]\n",
    "                    if np.sum(surface>0.001) / (CROP_SIZE * CROP_SIZE) > 0.2:\n",
    "                        self.xys.append((fragment, x, y, W, H))\n",
    "        \n",
    "        self.train_aug_list = [\n",
    "                # A.RandomResizedCrop(\n",
    "                #     size, size, scale=(0.85, 1.0)),\n",
    "                \n",
    "                A.HorizontalFlip(p=0.5),\n",
    "                A.VerticalFlip(p=0.5),\n",
    "                \n",
    "                # A.RandomBrightnessContrast(p=0.75),\n",
    "                # A.CoarseDropout(max_holes=1, max_width=int(CROP_SIZE * 0.1), max_height=int(CROP_SIZE * 0.1), \n",
    "                #                 mask_fill_value=0, p=0.5),\n",
    "                # A.ShiftScaleRotate(p=0.75),\n",
    "                \n",
    "                A.Rotate(limit=90, p=0.9), \n",
    "                \n",
    "                # A.OneOf([\n",
    "                #         A.GaussNoise(var_limit=[1, 5]),\n",
    "                #         A.GaussianBlur(),\n",
    "                #         A.MotionBlur(),\n",
    "                #         ], p=0.4),\n",
    "                # A.GridDistortion(num_steps=1, distort_limit=0.3, p=0.5),\n",
    "                \n",
    "                # A.Cutout(max_h_size=int(CROP_SIZE * 0.2),\n",
    "                #          max_w_size=int(CROP_SIZE * 0.2), num_holes=1, p=1.0),\n",
    "                # A.Normalize(\n",
    "                #     mean= [0] * Z_DIMS,\n",
    "                #     std= [1] * Z_DIMS\n",
    "                # ),\n",
    "                \n",
    "                \n",
    "                ToTensorV2(transpose_mask=True),\n",
    "            ]\n",
    "        \n",
    "        # Create the augmentation pipeline\n",
    "        self.augmentations = A.Compose(self.train_aug_list)\n",
    "        \n",
    "        \n",
    "        \n",
    "    def __getitem__(self, i):\n",
    "        fragment, x1, y1, W, H = self.xys[i]\n",
    "        z1, z2 = Z_START, Z_START+Z_DIMS\n",
    "        \n",
    "        x_offset = random.randint(-384 if x1 != 0 else 0, 384)\n",
    "        y_offset = random.randint(-384 if y1 != 0 else 0, 384)\n",
    "        \n",
    "        x1 += x_offset\n",
    "        y1 += y_offset\n",
    "        \n",
    "        x2 = x1 + CROP_SIZE\n",
    "        y2 = y1 + CROP_SIZE\n",
    "        \n",
    "        if x2 > W:\n",
    "            x1 -= x_offset\n",
    "            x2 -= x_offset\n",
    "            \n",
    "        if y2 > H:\n",
    "            y1 -= y_offset\n",
    "            y2 -= y_offset\n",
    "        \n",
    "        frag_crop = FRAGMENTS_ZARR[fragment].surface_volume[y1:y2, x1:x2, z1:z2]\n",
    "        mask_crop = FRAGMENTS_ZARR[fragment].truth[y1:y2, x1:x2]\n",
    "        \n",
    "        # if random.random() > 0.5:\n",
    "        #     frag_crop = np.flip(frag_crop, axis=1).copy()\n",
    "        #     mask_crop = np.flip(mask_crop, axis=1).copy()\n",
    "\n",
    "        # Perform train augmentations\n",
    "\n",
    "        frag_crop = frag_crop/65535.0\n",
    "        \n",
    "        \n",
    "        \n",
    "\n",
    "        # Apply the augmentations\n",
    "        augmented = self.augmentations(image=frag_crop, mask=mask_crop)\n",
    "\n",
    "        # Separate the image and mask\n",
    "        frag_crop, mask_crop = augmented[\"image\"], augmented[\"mask\"]\n",
    "\n",
    "        # normalize\n",
    "        \n",
    "        # frag_crop = (frag_crop - 0.45)/0.225\n",
    "        \n",
    "        frag_crop = frag_crop.unsqueeze(0)\n",
    "        mask_crop = mask_crop.float().unsqueeze(0)\n",
    "        \n",
    "        \n",
    "        return frag_crop, mask_crop\n",
    "\n",
    "    def __len__(self):\n",
    "        return len(self.xys)"
   ]
  },
  {
   "cell_type": "code",
   "execution_count": 10,
   "id": "f172c2ad",
   "metadata": {
    "execution": {
     "iopub.execute_input": "2023-05-28T06:21:32.186920Z",
     "iopub.status.busy": "2023-05-28T06:21:32.186718Z",
     "iopub.status.idle": "2023-05-28T06:21:32.189970Z",
     "shell.execute_reply": "2023-05-28T06:21:32.189778Z"
    },
    "papermill": {
     "duration": 0.022963,
     "end_time": "2023-04-08T10:12:11.644387",
     "exception": false,
     "start_time": "2023-04-08T10:12:11.621424",
     "status": "completed"
    },
    "tags": []
   },
   "outputs": [],
   "source": [
    "class VesuviusVal(Dataset):\n",
    "    def __init__(self, fragment):\n",
    "        self.fragment = FRAGMENTS_ZARR[fragment]\n",
    "        self.xys = []\n",
    "        \n",
    "        H, W = FRAGMENTS_SHAPE[fragment]\n",
    "        for y in range(0, H-CROP_SIZE+1, CROP_SIZE):\n",
    "            for x in range(0, W-CROP_SIZE+1, CROP_SIZE):\n",
    "                self.xys.append((x, y))\n",
    "                \n",
    "    def __getitem__(self, i):\n",
    "        x1, y1 = self.xys[i]\n",
    "        x2, y2 = x1+CROP_SIZE, y1+CROP_SIZE\n",
    "        z1, z2 = Z_START, Z_START+Z_DIMS\n",
    "        \n",
    "        frag_crop = self.fragment.surface_volume[y1:y2, x1:x2, z1:z2]\n",
    "        mask_crop = self.fragment.truth[y1:y2, x1:x2]\n",
    "\n",
    "        frag_crop = torch.from_numpy(frag_crop.astype(np.float32)).unsqueeze(0).permute(0, 3, 1, 2)\n",
    "        frag_crop = frag_crop/65535.0\n",
    "        # frag_crop = (frag_crop - 0.45)/0.225\n",
    "        \n",
    "        mask_crop = torch.from_numpy(mask_crop.astype(np.float32)).unsqueeze(0)\n",
    "        return frag_crop, mask_crop, torch.tensor([x1, y1, x2, y2], dtype=torch.int32)\n",
    "\n",
    "    def __len__(self):\n",
    "        return len(self.xys)"
   ]
  },
  {
   "cell_type": "code",
   "execution_count": 11,
   "id": "4282f924",
   "metadata": {
    "execution": {
     "iopub.execute_input": "2023-05-28T06:21:32.191086Z",
     "iopub.status.busy": "2023-05-28T06:21:32.190938Z",
     "iopub.status.idle": "2023-05-28T06:21:32.993494Z",
     "shell.execute_reply": "2023-05-28T06:21:32.993231Z"
    },
    "papermill": {
     "duration": 0.019671,
     "end_time": "2023-04-08T10:12:11.672490",
     "exception": false,
     "start_time": "2023-04-08T10:12:11.652819",
     "status": "completed"
    },
    "tags": []
   },
   "outputs": [],
   "source": [
    "dataset_train = VesuviusTrain(TRAIN_FRAGMENTS)\n",
    "dataloader_train = DataLoader(dataset_train, batch_size=BATCH_SIZE, num_workers=2,\n",
    "                              shuffle=True, pin_memory=True, drop_last=True)\n",
    "n_train = len(dataloader_train)\n",
    "\n",
    "dataset_valid = VesuviusVal(TEST_FRAGMENT)\n",
    "dataloader_valid = DataLoader(dataset_valid, batch_size=BATCH_SIZE, num_workers=2,\n",
    "                              shuffle=False, pin_memory=True, drop_last=False)\n",
    "n_valid = len(dataloader_valid)"
   ]
  },
  {
   "cell_type": "code",
   "execution_count": 18,
   "id": "0577f1a6",
   "metadata": {
    "execution": {
     "iopub.execute_input": "2023-05-28T06:21:32.994809Z",
     "iopub.status.busy": "2023-05-28T06:21:32.994694Z",
     "iopub.status.idle": "2023-05-28T06:21:33.099015Z",
     "shell.execute_reply": "2023-05-28T06:21:33.098708Z"
    }
   },
   "outputs": [
    {
     "data": {
      "text/plain": [
       "(tensor(0., dtype=torch.float64), tensor(1., dtype=torch.float64))"
      ]
     },
     "execution_count": 18,
     "metadata": {},
     "output_type": "execute_result"
    }
   ],
   "source": [
    "i = random.randint(0, len(dataset_train))\n",
    "img, mask = dataset_train[i]\n",
    "img.min(), img.max()"
   ]
  },
  {
   "cell_type": "code",
   "execution_count": 26,
   "id": "40a15748",
   "metadata": {},
   "outputs": [
    {
     "name": "stderr",
     "output_type": "stream",
     "text": [
      "100%|██████████| 1000/1000 [01:36<00:00, 10.35it/s]\n"
     ]
    }
   ],
   "source": [
    "n_iter = 1000\n",
    "ratios=[]\n",
    "for i in tqdm(range(n_iter)):\n",
    "    idx = random.randint(0, len(dataset_train)-1)\n",
    "    img, mask = dataset_train[idx]\n",
    "    ratio = mask.sum() / (mask.shape[1] * mask.shape[2])\n",
    "    ratios.append(ratio)"
   ]
  },
  {
   "cell_type": "code",
   "execution_count": 27,
   "id": "a792af0c",
   "metadata": {},
   "outputs": [
    {
     "data": {
      "text/plain": [
       "(array([167.,  67.,  66.,  78.,  79.,  70.,  90.,  68.,  61.,  49.,  44.,\n",
       "         47.,  27.,  31.,  25.,  15.,   9.,   2.,   1.,   4.]),\n",
       " array([0.        , 0.02616594, 0.05233188, 0.07849783, 0.10466377,\n",
       "        0.13082971, 0.15699565, 0.18316159, 0.20932753, 0.23549347,\n",
       "        0.26165941, 0.28782535, 0.31399131, 0.34015724, 0.36632317,\n",
       "        0.39248914, 0.41865507, 0.444821  , 0.47098693, 0.49715289,\n",
       "        0.52331883]),\n",
       " <BarContainer object of 20 artists>)"
      ]
     },
     "execution_count": 27,
     "metadata": {},
     "output_type": "execute_result"
    },
    {
     "data": {
      "image/png": "[encoded data removed]",
      "text/plain": [
       "<Figure size 640x480 with 1 Axes>"
      ]
     },
     "metadata": {},
     "output_type": "display_data"
    }
   ],
   "source": [
    "plt.hist(ratios, bins=20)"
   ]
  },
  {
   "attachments": {},
   "cell_type": "markdown",
   "id": "cdcc7e0b",
   "metadata": {
    "papermill": {
     "duration": 0.008028,
     "end_time": "2023-04-08T10:12:11.688860",
     "exception": false,
     "start_time": "2023-04-08T10:12:11.680832",
     "status": "completed"
    },
    "tags": []
   },
   "source": [
    "### Model\n",
    "* Encoder is a 3D ResNet model. The architecture has been modified to remove temporal downsampling between blocks.\n",
    "* A 2D decoder is used for predicting the segmentation map.\n",
    "* The encoder feature maps are average pooled over the Z dimension before passing it to the decoder."
   ]
  },
  {
   "cell_type": "code",
   "execution_count": 13,
   "id": "ff7cc8a3",
   "metadata": {
    "execution": {
     "iopub.execute_input": "2023-05-28T06:21:33.100307Z",
     "iopub.status.busy": "2023-05-28T06:21:33.100201Z",
     "iopub.status.idle": "2023-05-28T06:21:33.104161Z",
     "shell.execute_reply": "2023-05-28T06:21:33.103948Z"
    },
    "papermill": {
     "duration": 0.023714,
     "end_time": "2023-04-08T10:12:11.721140",
     "exception": false,
     "start_time": "2023-04-08T10:12:11.697426",
     "status": "completed"
    },
    "tags": []
   },
   "outputs": [],
   "source": [
    "class Decoder(nn.Module):\n",
    "    def __init__(self, encoder_dims, upscale):\n",
    "        super().__init__()\n",
    "        self.convs = nn.ModuleList([\n",
    "            nn.Sequential(\n",
    "                nn.Conv2d(encoder_dims[i]+encoder_dims[i-1], encoder_dims[i-1], 3, 1, 1, bias=False),\n",
    "                nn.BatchNorm2d(encoder_dims[i-1]),\n",
    "                nn.ReLU(inplace=True)\n",
    "            ) for i in range(1, len(encoder_dims))])\n",
    "\n",
    "        self.logit = nn.Conv2d(encoder_dims[0], 1, 1, 1, 0)\n",
    "        self.up = nn.Upsample(scale_factor=upscale, mode=\"bilinear\")\n",
    "\n",
    "    def forward(self, feature_maps):\n",
    "        for i in range(len(feature_maps)-1, 0, -1):\n",
    "            f_up = F.interpolate(feature_maps[i], scale_factor=2, mode=\"bilinear\")\n",
    "            f = torch.cat([feature_maps[i-1], f_up], dim=1)\n",
    "            f_down = self.convs[i-1](f)\n",
    "            feature_maps[i-1] = f_down\n",
    "\n",
    "        x = self.logit(feature_maps[0])\n",
    "        mask = self.up(x)\n",
    "        return mask\n",
    "\n",
    "\n",
    "class SegModel(nn.Module):\n",
    "    def __init__(self):\n",
    "        super().__init__()\n",
    "        self.encoder = generate_model(model_depth=18, n_input_channels=1)\n",
    "        self.decoder = Decoder(encoder_dims=[64, 128, 256, 512], upscale=4)\n",
    "        \n",
    "    def forward(self, x):\n",
    "        feat_maps = self.encoder(x)\n",
    "        feat_maps_pooled = [torch.mean(f, dim=2) for f in feat_maps]\n",
    "        pred_mask = self.decoder(feat_maps_pooled)\n",
    "        return pred_mask\n",
    "    \n",
    "    def load_pretrained_weights(self, state_dict):\n",
    "        # Convert 3 channel weights to single channel\n",
    "        # ref - https://timm.fast.ai/models#Case-1:-When-the-number-of-input-channels-is-1\n",
    "        conv1_weight = state_dict['conv1.weight']\n",
    "        state_dict['conv1.weight'] = conv1_weight.sum(dim=1, keepdim=True)\n",
    "        print(self.encoder.load_state_dict(state_dict, strict=False))"
   ]
  },
  {
   "cell_type": "code",
   "execution_count": 14,
   "id": "67e4a0f1",
   "metadata": {
    "execution": {
     "iopub.execute_input": "2023-05-28T06:21:33.105213Z",
     "iopub.status.busy": "2023-05-28T06:21:33.105096Z",
     "iopub.status.idle": "2023-05-28T06:21:34.004994Z",
     "shell.execute_reply": "2023-05-28T06:21:34.004640Z"
    },
    "papermill": {
     "duration": 3.891528,
     "end_time": "2023-04-08T10:12:15.621016",
     "exception": false,
     "start_time": "2023-04-08T10:12:11.729488",
     "status": "completed"
    },
    "tags": []
   },
   "outputs": [
    {
     "name": "stdout",
     "output_type": "stream",
     "text": [
      "_IncompatibleKeys(missing_keys=[], unexpected_keys=['fc.weight', 'fc.bias'])\n"
     ]
    }
   ],
   "source": [
    "model = SegModel()\n",
    "model.load_pretrained_weights(torch.load(\"/home/viktor/Documents/kaggle/vesuvius-challenge/experiments/3D-resnet/r3d18_K_200ep.pth\")[\"state_dict\"])\n",
    "model = nn.DataParallel(model, device_ids=[0])\n",
    "\n",
    "model = model.cuda()"
   ]
  },
  {
   "cell_type": "code",
   "execution_count": 15,
   "id": "491e9288",
   "metadata": {
    "execution": {
     "iopub.execute_input": "2023-05-28T06:21:34.006702Z",
     "iopub.status.busy": "2023-05-28T06:21:34.006560Z",
     "iopub.status.idle": "2023-05-28T06:21:34.895145Z",
     "shell.execute_reply": "2023-05-28T06:21:34.894686Z"
    }
   },
   "outputs": [
    {
     "data": {
      "text/plain": [
       "torch.Size([5, 1, 256, 256])"
      ]
     },
     "execution_count": 15,
     "metadata": {},
     "output_type": "execute_result"
    }
   ],
   "source": [
    "x = torch.randn(5, 1, 16, 256, 256).cuda()\n",
    "with torch.no_grad():\n",
    "    y = model(x)\n",
    "y.shape"
   ]
  },
  {
   "attachments": {},
   "cell_type": "markdown",
   "id": "d84d7c0e",
   "metadata": {
    "papermill": {
     "duration": 0.008816,
     "end_time": "2023-04-08T10:12:15.638951",
     "exception": false,
     "start_time": "2023-04-08T10:12:15.630135",
     "status": "completed"
    },
    "tags": []
   },
   "source": [
    "### Competition metric (F0.5 Score)"
   ]
  },
  {
   "cell_type": "code",
   "execution_count": 16,
   "id": "61dbeb5c",
   "metadata": {
    "execution": {
     "iopub.execute_input": "2023-05-28T06:21:34.896524Z",
     "iopub.status.busy": "2023-05-28T06:21:34.896433Z",
     "iopub.status.idle": "2023-05-28T06:21:34.898722Z",
     "shell.execute_reply": "2023-05-28T06:21:34.898522Z"
    },
    "papermill": {
     "duration": 0.020268,
     "end_time": "2023-04-08T10:12:15.668008",
     "exception": false,
     "start_time": "2023-04-08T10:12:15.647740",
     "status": "completed"
    },
    "tags": []
   },
   "outputs": [],
   "source": [
    "# ref - https://www.kaggle.com/competitions/vesuvius-challenge-ink-detection/discussion/397288\n",
    "def fbeta_score(preds, targets, threshold, beta=0.5, smooth=1e-5):\n",
    "    preds_t = torch.where(preds > threshold, 1.0, 0.0).float()\n",
    "    y_true_count = targets.sum()\n",
    "    \n",
    "    ctp = preds_t[targets==1].sum()\n",
    "    cfp = preds_t[targets==0].sum()\n",
    "    beta_squared = beta * beta\n",
    "\n",
    "    c_precision = ctp / (ctp + cfp + smooth)\n",
    "    c_recall = ctp / (y_true_count + smooth)\n",
    "    dice = (1 + beta_squared) * (c_precision * c_recall) / (beta_squared * c_precision + c_recall + smooth)\n",
    "\n",
    "    return dice"
   ]
  },
  {
   "attachments": {},
   "cell_type": "markdown",
   "id": "639c9148",
   "metadata": {
    "papermill": {
     "duration": 0.008498,
     "end_time": "2023-04-08T10:12:15.685205",
     "exception": false,
     "start_time": "2023-04-08T10:12:15.676707",
     "status": "completed"
    },
    "tags": []
   },
   "source": [
    "### Training"
   ]
  },
  {
   "cell_type": "code",
   "execution_count": 17,
   "id": "0cca2e6e",
   "metadata": {
    "execution": {
     "iopub.execute_input": "2023-05-28T06:21:34.899832Z",
     "iopub.status.busy": "2023-05-28T06:21:34.899701Z",
     "iopub.status.idle": "2023-05-28T06:21:34.901870Z",
     "shell.execute_reply": "2023-05-28T06:21:34.901589Z"
    },
    "papermill": {
     "duration": 0.019067,
     "end_time": "2023-04-08T10:12:15.713237",
     "exception": false,
     "start_time": "2023-04-08T10:12:15.694170",
     "status": "completed"
    },
    "tags": []
   },
   "outputs": [],
   "source": [
    "scaler = amp.GradScaler()\n",
    "# criterion = nn.BCEWithLogitsLoss()\n",
    "\n",
    "\n",
    "optimizer = torch.optim.AdamW(model.parameters(), lr=LR)\n",
    "scheduler = torch.optim.lr_scheduler.OneCycleLR(optimizer, max_lr=LR,\n",
    "                                                steps_per_epoch=20, epochs=EPOCHS//10,\n",
    "                                                pct_start=0.1)"
   ]
  },
  {
   "cell_type": "code",
   "execution_count": 18,
   "id": "2a77a022",
   "metadata": {
    "execution": {
     "iopub.execute_input": "2023-05-28T06:21:34.902968Z",
     "iopub.status.busy": "2023-05-28T06:21:34.902875Z",
     "iopub.status.idle": "2023-05-28T06:21:35.697788Z",
     "shell.execute_reply": "2023-05-28T06:21:35.697395Z"
    }
   },
   "outputs": [],
   "source": [
    "import segmentation_models_pytorch as smp\n",
    "DiceLoss = smp.losses.DiceLoss(mode='binary')\n",
    "BCELoss = smp.losses.SoftBCEWithLogitsLoss()\n",
    "\n",
    "\n",
    "def criterion(y_pred, y_true):\n",
    "    return 0.5 * BCELoss(y_pred, y_true) + 0.5 * DiceLoss(y_pred, y_true)"
   ]
  },
  {
   "cell_type": "code",
   "execution_count": 19,
   "id": "7304e1fd",
   "metadata": {
    "execution": {
     "iopub.execute_input": "2023-05-28T06:21:35.699339Z",
     "iopub.status.busy": "2023-05-28T06:21:35.699222Z",
     "iopub.status.idle": "2023-05-28T06:21:35.737752Z",
     "shell.execute_reply": "2023-05-28T06:21:35.737410Z"
    },
    "papermill": {
     "duration": 0.385175,
     "end_time": "2023-04-08T10:12:16.107159",
     "exception": false,
     "start_time": "2023-04-08T10:12:15.721984",
     "status": "completed"
    },
    "tags": []
   },
   "outputs": [],
   "source": [
    "gt_mask = torch.from_numpy(np.asarray(FRAGMENTS_ZARR[TEST_FRAGMENT].truth)).float().cuda()\n",
    "gt_shape = FRAGMENTS_SHAPE[TEST_FRAGMENT]"
   ]
  },
  {
   "cell_type": "code",
   "execution_count": 20,
   "id": "c0b85bf1",
   "metadata": {
    "execution": {
     "iopub.execute_input": "2023-05-28T06:21:35.739626Z",
     "iopub.status.busy": "2023-05-28T06:21:35.739515Z",
     "iopub.status.idle": "2023-05-28T06:21:35.741416Z",
     "shell.execute_reply": "2023-05-28T06:21:35.741197Z"
    }
   },
   "outputs": [],
   "source": [
    "import logging\n",
    "\n",
    "logging.basicConfig(filename=\"training_log.txt\", level=logging.INFO)\n"
   ]
  },
  {
   "cell_type": "code",
   "execution_count": 21,
   "id": "00067c9c",
   "metadata": {
    "execution": {
     "iopub.execute_input": "2023-05-28T06:21:35.743029Z",
     "iopub.status.busy": "2023-05-28T06:21:35.742947Z",
     "iopub.status.idle": "2023-05-28T07:43:13.511753Z",
     "shell.execute_reply": "2023-05-28T07:43:13.506385Z"
    },
    "papermill": {
     "duration": 4077.588277,
     "end_time": "2023-04-08T11:20:13.706513",
     "exception": false,
     "start_time": "2023-04-08T10:12:16.118236",
     "status": "completed"
    },
    "tags": []
   },
   "outputs": [
    {
     "name": "stderr",
     "output_type": "stream",
     "text": [
      "Epoch 1/50  Mem : 20GB  LR : 4.00E-06  Loss: 0.7951: 100%|██████████| 29/29 [00:34<00:00,  1.18s/it]                                                                                                                                                                 \n",
      "Val Loss: 0.7034: 100%|██████████| 10/10 [00:05<00:00,  1.85it/s]                                                                                                                                                                                                    \n"
     ]
    },
    {
     "name": "stdout",
     "output_type": "stream",
     "text": [
      "Threshold : 0.20\tFBeta : 0.137125\n",
      "Threshold : 0.25\tFBeta : 0.137168\n",
      "Threshold : 0.30\tFBeta : 0.143233\n",
      "Threshold : 0.35\tFBeta : 0.200955\n",
      "Threshold : 0.40\tFBeta : 0.214909\n",
      "Threshold : 0.45\tFBeta : 0.224236\n",
      "Threshold : 0.50\tFBeta : 0.229067\n",
      "Threshold : 0.55\tFBeta : 0.216252\n",
      "Threshold : 0.60\tFBeta : 0.179206\n",
      "Threshold : 0.65\tFBeta : 0.092475\n",
      "Threshold : 0.70\tFBeta : 0.009449\n",
      "Threshold : 0.75\tFBeta : 0.000510\n",
      "Threshold : 0.80\tFBeta : 0.000000\n",
      "\n"
     ]
    },
    {
     "name": "stderr",
     "output_type": "stream",
     "text": [
      "Epoch 2/50  Mem : 22.2GB  LR : 6.89E-06  Loss: 0.7747: 100%|██████████| 29/29 [05:16<00:00, 10.92s/it]                                                                                                                                                               \n",
      "Val Loss: 0.7233: 100%|██████████| 10/10 [00:04<00:00,  2.01it/s]                                                                                                                                                                                                    \n"
     ]
    },
    {
     "name": "stdout",
     "output_type": "stream",
     "text": [
      "Threshold : 0.20\tFBeta : 0.137140\n",
      "Threshold : 0.25\tFBeta : 0.137298\n",
      "Threshold : 0.30\tFBeta : 0.138087\n",
      "Threshold : 0.35\tFBeta : 0.153560\n",
      "Threshold : 0.40\tFBeta : 0.213278\n",
      "Threshold : 0.45\tFBeta : 0.232427\n",
      "Threshold : 0.50\tFBeta : 0.245758\n",
      "Threshold : 0.55\tFBeta : 0.260760\n",
      "Threshold : 0.60\tFBeta : 0.277770\n",
      "Threshold : 0.65\tFBeta : 0.277870\n",
      "Threshold : 0.70\tFBeta : 0.234664\n",
      "Threshold : 0.75\tFBeta : 0.128653\n",
      "Threshold : 0.80\tFBeta : 0.033359\n",
      "\n"
     ]
    },
    {
     "name": "stderr",
     "output_type": "stream",
     "text": [
      "Epoch 3/50  Mem : 22.2GB  LR : 1.52E-05  Loss: 0.7571: 100%|██████████| 29/29 [05:23<00:00, 11.17s/it]                                                                                                                                                               \n",
      "Val Loss: 0.6887: 100%|██████████| 10/10 [00:04<00:00,  2.01it/s]                                                                                                                                                                                                    \n"
     ]
    },
    {
     "name": "stdout",
     "output_type": "stream",
     "text": [
      "Threshold : 0.20\tFBeta : 0.138099\n",
      "Threshold : 0.25\tFBeta : 0.182606\n",
      "Threshold : 0.30\tFBeta : 0.196555\n",
      "Threshold : 0.35\tFBeta : 0.205991\n",
      "Threshold : 0.40\tFBeta : 0.218110\n",
      "Threshold : 0.45\tFBeta : 0.230813\n",
      "Threshold : 0.50\tFBeta : 0.246299\n",
      "Threshold : 0.55\tFBeta : 0.275126\n",
      "Threshold : 0.60\tFBeta : 0.308421\n",
      "Threshold : 0.65\tFBeta : 0.325218\n",
      "Threshold : 0.70\tFBeta : 0.312795\n",
      "Threshold : 0.75\tFBeta : 0.258811\n",
      "Threshold : 0.80\tFBeta : 0.164688\n",
      "\n"
     ]
    },
    {
     "name": "stderr",
     "output_type": "stream",
     "text": [
      "Epoch 4/50  Mem : 22.2GB  LR : 2.80E-05  Loss: 0.7266: 100%|██████████| 29/29 [03:55<00:00,  8.12s/it]                                                                                                                                                               \n",
      "Val Loss: 0.6890: 100%|██████████| 10/10 [00:05<00:00,  1.99it/s]                                                                                                                                                                                                    \n"
     ]
    },
    {
     "name": "stdout",
     "output_type": "stream",
     "text": [
      "Threshold : 0.20\tFBeta : 0.137375\n",
      "Threshold : 0.25\tFBeta : 0.187968\n",
      "Threshold : 0.30\tFBeta : 0.203790\n",
      "Threshold : 0.35\tFBeta : 0.211168\n",
      "Threshold : 0.40\tFBeta : 0.222588\n",
      "Threshold : 0.45\tFBeta : 0.233064\n",
      "Threshold : 0.50\tFBeta : 0.247635\n",
      "Threshold : 0.55\tFBeta : 0.276296\n",
      "Threshold : 0.60\tFBeta : 0.308012\n",
      "Threshold : 0.65\tFBeta : 0.333408\n",
      "Threshold : 0.70\tFBeta : 0.344934\n",
      "Threshold : 0.75\tFBeta : 0.339890\n",
      "Threshold : 0.80\tFBeta : 0.307304\n",
      "\n"
     ]
    },
    {
     "name": "stderr",
     "output_type": "stream",
     "text": [
      "Epoch 5/50  Mem : 22.2GB  LR : 4.37E-05  Loss: 0.6867: 100%|██████████| 29/29 [03:17<00:00,  6.81s/it]                                                                                                                                                               \n",
      "Val Loss: 0.8165: 100%|██████████| 10/10 [00:05<00:00,  1.95it/s]                                                                                                                                                                                                    "
     ]
    },
    {
     "name": "stdout",
     "output_type": "stream",
     "text": [
      "Threshold : 0.20\tFBeta : 0.137135\n",
      "Threshold : 0.25\tFBeta : 0.137252\n",
      "Threshold : 0.30\tFBeta : 0.164311\n",
      "Threshold : 0.35\tFBeta : 0.205460\n",
      "Threshold : 0.40\tFBeta : 0.215836\n",
      "Threshold : 0.45\tFBeta : 0.222497\n",
      "Threshold : 0.50\tFBeta : 0.236390\n",
      "Threshold : 0.55\tFBeta : 0.244152\n",
      "Threshold : 0.60\tFBeta : 0.252916\n",
      "Threshold : 0.65\tFBeta : 0.264400\n",
      "Threshold : 0.70\tFBeta : 0.279943\n",
      "Threshold : 0.75\tFBeta : 0.297851\n",
      "Threshold : 0.80\tFBeta : 0.321959\n",
      "\n"
     ]
    },
    {
     "name": "stderr",
     "output_type": "stream",
     "text": [
      "\n",
      "Epoch 6/50  Mem : 22.2GB  LR : 6.03E-05  Loss: 0.6535: 100%|██████████| 29/29 [02:52<00:00,  5.93s/it]                                                                                                                                                               \n",
      "Val Loss: 0.6567: 100%|██████████| 10/10 [00:04<00:00,  2.03it/s]                                                                                                                                                                                                    \n"
     ]
    },
    {
     "name": "stdout",
     "output_type": "stream",
     "text": [
      "Threshold : 0.20\tFBeta : 0.218664\n",
      "Threshold : 0.25\tFBeta : 0.230440\n",
      "Threshold : 0.30\tFBeta : 0.238888\n",
      "Threshold : 0.35\tFBeta : 0.246523\n",
      "Threshold : 0.40\tFBeta : 0.259809\n",
      "Threshold : 0.45\tFBeta : 0.274443\n",
      "Threshold : 0.50\tFBeta : 0.291308\n",
      "Threshold : 0.55\tFBeta : 0.310664\n",
      "Threshold : 0.60\tFBeta : 0.331173\n",
      "Threshold : 0.65\tFBeta : 0.351831\n",
      "Threshold : 0.70\tFBeta : 0.372810\n",
      "Threshold : 0.75\tFBeta : 0.389324\n",
      "Threshold : 0.80\tFBeta : 0.401928\n",
      "\n"
     ]
    },
    {
     "name": "stderr",
     "output_type": "stream",
     "text": [
      "Epoch 7/50  Mem : 22.2GB  LR : 7.60E-05  Loss: 0.6395: 100%|██████████| 29/29 [02:21<00:00,  4.88s/it]                                                                                                                                                               \n",
      "Val Loss: 0.6376: 100%|██████████| 10/10 [00:05<00:00,  1.99it/s]                                                                                                                                                                                                    "
     ]
    },
    {
     "name": "stdout",
     "output_type": "stream",
     "text": [
      "Threshold : 0.20\tFBeta : 0.129215\n",
      "Threshold : 0.25\tFBeta : 0.197528\n",
      "Threshold : 0.30\tFBeta : 0.204711\n",
      "Threshold : 0.35\tFBeta : 0.188991\n",
      "Threshold : 0.40\tFBeta : 0.168807\n",
      "Threshold : 0.45\tFBeta : 0.145646\n",
      "Threshold : 0.50\tFBeta : 0.127281\n",
      "Threshold : 0.55\tFBeta : 0.114671\n",
      "Threshold : 0.60\tFBeta : 0.101384\n",
      "Threshold : 0.65\tFBeta : 0.084604\n",
      "Threshold : 0.70\tFBeta : 0.066523\n",
      "Threshold : 0.75\tFBeta : 0.045501\n",
      "Threshold : 0.80\tFBeta : 0.026609\n",
      "\n"
     ]
    },
    {
     "name": "stderr",
     "output_type": "stream",
     "text": [
      "\n",
      "Epoch 8/50  Mem : 22.2GB  LR : 8.88E-05  Loss: 0.6022: 100%|██████████| 29/29 [02:21<00:00,  4.89s/it]                                                                                                                                                               \n",
      "Val Loss: 1.0277: 100%|██████████| 10/10 [00:04<00:00,  2.03it/s]                                                                                                                                                                                                    "
     ]
    },
    {
     "name": "stdout",
     "output_type": "stream",
     "text": [
      "Threshold : 0.20\tFBeta : 0.137566\n",
      "Threshold : 0.25\tFBeta : 0.214822\n",
      "Threshold : 0.30\tFBeta : 0.226581\n",
      "Threshold : 0.35\tFBeta : 0.234505\n",
      "Threshold : 0.40\tFBeta : 0.238844\n",
      "Threshold : 0.45\tFBeta : 0.243569\n",
      "Threshold : 0.50\tFBeta : 0.247567\n",
      "Threshold : 0.55\tFBeta : 0.252558\n",
      "Threshold : 0.60\tFBeta : 0.260012\n",
      "Threshold : 0.65\tFBeta : 0.265847\n",
      "Threshold : 0.70\tFBeta : 0.269790\n",
      "Threshold : 0.75\tFBeta : 0.275477\n",
      "Threshold : 0.80\tFBeta : 0.279091\n",
      "\n"
     ]
    },
    {
     "name": "stderr",
     "output_type": "stream",
     "text": [
      "\n",
      "Epoch 9/50  Mem : 22.2GB  LR : 9.71E-05  Loss: 0.5810: 100%|██████████| 29/29 [02:15<00:00,  4.66s/it]                                                                                                                                                               \n",
      "Val Loss: 0.5627: 100%|██████████| 10/10 [00:04<00:00,  2.00it/s]                                                                                                                                                                                                    "
     ]
    },
    {
     "name": "stdout",
     "output_type": "stream",
     "text": [
      "Threshold : 0.20\tFBeta : 0.248608\n",
      "Threshold : 0.25\tFBeta : 0.294667\n",
      "Threshold : 0.30\tFBeta : 0.356012\n",
      "Threshold : 0.35\tFBeta : 0.366245\n",
      "Threshold : 0.40\tFBeta : 0.306902\n",
      "Threshold : 0.45\tFBeta : 0.243354\n",
      "Threshold : 0.50\tFBeta : 0.180880\n",
      "Threshold : 0.55\tFBeta : 0.095059\n",
      "Threshold : 0.60\tFBeta : 0.058597\n",
      "Threshold : 0.65\tFBeta : 0.039044\n",
      "Threshold : 0.70\tFBeta : 0.026331\n",
      "Threshold : 0.75\tFBeta : 0.016895\n",
      "Threshold : 0.80\tFBeta : 0.008180\n",
      "\n"
     ]
    },
    {
     "name": "stderr",
     "output_type": "stream",
     "text": [
      "\n",
      "Epoch 10/50  Mem : 22.2GB  LR : 1.00E-04  Loss: 0.5629: 100%|██████████| 29/29 [01:36<00:00,  3.33s/it]                                                                                                                                                              \n",
      "Val Loss: 0.5597: 100%|██████████| 10/10 [00:04<00:00,  2.01it/s]                                                                                                                                                                                                    \n"
     ]
    },
    {
     "name": "stdout",
     "output_type": "stream",
     "text": [
      "Threshold : 0.20\tFBeta : 0.224990\n",
      "Threshold : 0.25\tFBeta : 0.269038\n",
      "Threshold : 0.30\tFBeta : 0.315156\n",
      "Threshold : 0.35\tFBeta : 0.354108\n",
      "Threshold : 0.40\tFBeta : 0.380546\n",
      "Threshold : 0.45\tFBeta : 0.398651\n",
      "Threshold : 0.50\tFBeta : 0.417668\n",
      "Threshold : 0.55\tFBeta : 0.453686\n",
      "Threshold : 0.60\tFBeta : 0.463242\n",
      "Threshold : 0.65\tFBeta : 0.464468\n",
      "Threshold : 0.70\tFBeta : 0.469309\n",
      "Threshold : 0.75\tFBeta : 0.465225\n",
      "Threshold : 0.80\tFBeta : 0.438295\n",
      "\n"
     ]
    },
    {
     "name": "stderr",
     "output_type": "stream",
     "text": [
      "Epoch 11/50  Mem : 22.2GB  LR : 1.00E-04  Loss: 0.5576: 100%|██████████| 29/29 [01:44<00:00,  3.60s/it]                                                                                                                                                              \n",
      "Val Loss: 0.5539: 100%|██████████| 10/10 [00:05<00:00,  2.00it/s]                                                                                                                                                                                                    "
     ]
    },
    {
     "name": "stdout",
     "output_type": "stream",
     "text": [
      "Threshold : 0.20\tFBeta : 0.286989\n",
      "Threshold : 0.25\tFBeta : 0.366213\n",
      "Threshold : 0.30\tFBeta : 0.384292\n",
      "Threshold : 0.35\tFBeta : 0.385744\n",
      "Threshold : 0.40\tFBeta : 0.382184\n",
      "Threshold : 0.45\tFBeta : 0.379246\n",
      "Threshold : 0.50\tFBeta : 0.376772\n",
      "Threshold : 0.55\tFBeta : 0.372338\n",
      "Threshold : 0.60\tFBeta : 0.359369\n",
      "Threshold : 0.65\tFBeta : 0.339241\n",
      "Threshold : 0.70\tFBeta : 0.315230\n",
      "Threshold : 0.75\tFBeta : 0.296729\n",
      "Threshold : 0.80\tFBeta : 0.279655\n",
      "\n"
     ]
    },
    {
     "name": "stderr",
     "output_type": "stream",
     "text": [
      "\n",
      "Epoch 12/50  Mem : 22.2GB  LR : 9.99E-05  Loss: 0.5465: 100%|██████████| 29/29 [01:18<00:00,  2.70s/it]                                                                                                                                                              \n",
      "Val Loss: 0.8597: 100%|██████████| 10/10 [00:05<00:00,  2.00it/s]                                                                                                                                                                                                    "
     ]
    },
    {
     "name": "stdout",
     "output_type": "stream",
     "text": [
      "Threshold : 0.20\tFBeta : 0.230416\n",
      "Threshold : 0.25\tFBeta : 0.235644\n",
      "Threshold : 0.30\tFBeta : 0.242130\n",
      "Threshold : 0.35\tFBeta : 0.247779\n",
      "Threshold : 0.40\tFBeta : 0.253201\n",
      "Threshold : 0.45\tFBeta : 0.258784\n",
      "Threshold : 0.50\tFBeta : 0.263654\n",
      "Threshold : 0.55\tFBeta : 0.274423\n",
      "Threshold : 0.60\tFBeta : 0.284103\n",
      "Threshold : 0.65\tFBeta : 0.293016\n",
      "Threshold : 0.70\tFBeta : 0.302668\n",
      "Threshold : 0.75\tFBeta : 0.314661\n",
      "Threshold : 0.80\tFBeta : 0.328810\n",
      "\n"
     ]
    },
    {
     "name": "stderr",
     "output_type": "stream",
     "text": [
      "\n",
      "Epoch 13/50  Mem : 22.2GB  LR : 9.97E-05  Loss: 0.5404: 100%|██████████| 29/29 [02:24<00:00,  4.98s/it]                                                                                                                                                              \n",
      "Val Loss: 0.5682: 100%|██████████| 10/10 [00:05<00:00,  1.80it/s]                                                                                                                                                                                                    "
     ]
    },
    {
     "name": "stdout",
     "output_type": "stream",
     "text": [
      "Threshold : 0.20\tFBeta : 0.235303\n",
      "Threshold : 0.25\tFBeta : 0.266199\n",
      "Threshold : 0.30\tFBeta : 0.304703\n",
      "Threshold : 0.35\tFBeta : 0.330987\n",
      "Threshold : 0.40\tFBeta : 0.347026\n",
      "Threshold : 0.45\tFBeta : 0.360031\n",
      "Threshold : 0.50\tFBeta : 0.376329\n",
      "Threshold : 0.55\tFBeta : 0.411163\n",
      "Threshold : 0.60\tFBeta : 0.428842\n",
      "Threshold : 0.65\tFBeta : 0.443937\n",
      "Threshold : 0.70\tFBeta : 0.455842\n",
      "Threshold : 0.75\tFBeta : 0.463528\n",
      "Threshold : 0.80\tFBeta : 0.465990\n",
      "\n"
     ]
    },
    {
     "name": "stderr",
     "output_type": "stream",
     "text": [
      "\n",
      "Epoch 14/50  Mem : 22.2GB  LR : 9.95E-05  Loss: 0.5262: 100%|██████████| 29/29 [03:07<00:00,  6.47s/it]                                                                                                                                                              \n",
      "Val Loss: 0.5650: 100%|██████████| 10/10 [00:05<00:00,  1.99it/s]                                                                                                                                                                                                    "
     ]
    },
    {
     "name": "stdout",
     "output_type": "stream",
     "text": [
      "Threshold : 0.20\tFBeta : 0.260059\n",
      "Threshold : 0.25\tFBeta : 0.294868\n",
      "Threshold : 0.30\tFBeta : 0.311037\n",
      "Threshold : 0.35\tFBeta : 0.321089\n",
      "Threshold : 0.40\tFBeta : 0.329118\n",
      "Threshold : 0.45\tFBeta : 0.335986\n",
      "Threshold : 0.50\tFBeta : 0.346207\n",
      "Threshold : 0.55\tFBeta : 0.364150\n",
      "Threshold : 0.60\tFBeta : 0.374708\n",
      "Threshold : 0.65\tFBeta : 0.382087\n",
      "Threshold : 0.70\tFBeta : 0.388154\n",
      "Threshold : 0.75\tFBeta : 0.392087\n",
      "Threshold : 0.80\tFBeta : 0.400749\n",
      "\n"
     ]
    },
    {
     "name": "stderr",
     "output_type": "stream",
     "text": [
      "\n",
      "Epoch 15/50  Mem : 22.2GB  LR : 9.92E-05  Loss: 0.5173: 100%|██████████| 29/29 [02:36<00:00,  5.41s/it]                                                                                                                                                              \n",
      "Val Loss: 0.5514: 100%|██████████| 10/10 [00:05<00:00,  1.99it/s]                                                                                                                                                                                                    "
     ]
    },
    {
     "name": "stdout",
     "output_type": "stream",
     "text": [
      "Threshold : 0.20\tFBeta : 0.298295\n",
      "Threshold : 0.25\tFBeta : 0.329037\n",
      "Threshold : 0.30\tFBeta : 0.339001\n",
      "Threshold : 0.35\tFBeta : 0.344479\n",
      "Threshold : 0.40\tFBeta : 0.352998\n",
      "Threshold : 0.45\tFBeta : 0.360265\n",
      "Threshold : 0.50\tFBeta : 0.375632\n",
      "Threshold : 0.55\tFBeta : 0.375930\n",
      "Threshold : 0.60\tFBeta : 0.378055\n",
      "Threshold : 0.65\tFBeta : 0.368879\n",
      "Threshold : 0.70\tFBeta : 0.349429\n",
      "Threshold : 0.75\tFBeta : 0.324960\n",
      "Threshold : 0.80\tFBeta : 0.294409\n",
      "\n"
     ]
    },
    {
     "name": "stderr",
     "output_type": "stream",
     "text": [
      "\n",
      "Epoch 16/50  Mem : 22.2GB  LR : 9.89E-05  Loss: 0.5086: 100%|██████████| 29/29 [01:37<00:00,  3.35s/it]                                                                                                                                                              \n",
      "Val Loss: 0.5566: 100%|██████████| 10/10 [00:04<00:00,  2.01it/s]                                                                                                                                                                                                    "
     ]
    },
    {
     "name": "stdout",
     "output_type": "stream",
     "text": [
      "Threshold : 0.20\tFBeta : 0.284117\n",
      "Threshold : 0.25\tFBeta : 0.326468\n",
      "Threshold : 0.30\tFBeta : 0.344850\n",
      "Threshold : 0.35\tFBeta : 0.356935\n",
      "Threshold : 0.40\tFBeta : 0.364731\n",
      "Threshold : 0.45\tFBeta : 0.374050\n",
      "Threshold : 0.50\tFBeta : 0.386213\n",
      "Threshold : 0.55\tFBeta : 0.406753\n",
      "Threshold : 0.60\tFBeta : 0.406546\n",
      "Threshold : 0.65\tFBeta : 0.404960\n",
      "Threshold : 0.70\tFBeta : 0.397530\n",
      "Threshold : 0.75\tFBeta : 0.387660\n",
      "Threshold : 0.80\tFBeta : 0.370897\n",
      "\n"
     ]
    },
    {
     "name": "stderr",
     "output_type": "stream",
     "text": [
      "\n",
      "Epoch 17/50  Mem : 22.2GB  LR : 9.85E-05  Loss: 0.5004: 100%|██████████| 29/29 [01:42<00:00,  3.54s/it]                                                                                                                                                              \n",
      "Val Loss: 0.5058: 100%|██████████| 10/10 [00:04<00:00,  2.00it/s]                                                                                                                                                                                                    \n"
     ]
    },
    {
     "name": "stdout",
     "output_type": "stream",
     "text": [
      "Threshold : 0.20\tFBeta : 0.341908\n",
      "Threshold : 0.25\tFBeta : 0.375448\n",
      "Threshold : 0.30\tFBeta : 0.393960\n",
      "Threshold : 0.35\tFBeta : 0.404860\n",
      "Threshold : 0.40\tFBeta : 0.414385\n",
      "Threshold : 0.45\tFBeta : 0.423086\n",
      "Threshold : 0.50\tFBeta : 0.435011\n",
      "Threshold : 0.55\tFBeta : 0.452638\n",
      "Threshold : 0.60\tFBeta : 0.464042\n",
      "Threshold : 0.65\tFBeta : 0.473946\n",
      "Threshold : 0.70\tFBeta : 0.484847\n",
      "Threshold : 0.75\tFBeta : 0.493133\n",
      "Threshold : 0.80\tFBeta : 0.498429\n",
      "\n"
     ]
    },
    {
     "name": "stderr",
     "output_type": "stream",
     "text": [
      "Epoch 18/50  Mem : 22.2GB  LR : 9.81E-05  Loss: 0.5089: 100%|██████████| 29/29 [01:00<00:00,  2.07s/it]                                                                                                                                                              \n",
      "Val Loss: 0.5395: 100%|██████████| 10/10 [00:04<00:00,  2.01it/s]                                                                                                                                                                                                    "
     ]
    },
    {
     "name": "stdout",
     "output_type": "stream",
     "text": [
      "Threshold : 0.20\tFBeta : 0.299855\n",
      "Threshold : 0.25\tFBeta : 0.324311\n",
      "Threshold : 0.30\tFBeta : 0.336416\n",
      "Threshold : 0.35\tFBeta : 0.344220\n",
      "Threshold : 0.40\tFBeta : 0.351454\n",
      "Threshold : 0.45\tFBeta : 0.361110\n",
      "Threshold : 0.50\tFBeta : 0.377904\n",
      "Threshold : 0.55\tFBeta : 0.412685\n",
      "Threshold : 0.60\tFBeta : 0.426745\n",
      "Threshold : 0.65\tFBeta : 0.439770\n",
      "Threshold : 0.70\tFBeta : 0.452132\n",
      "Threshold : 0.75\tFBeta : 0.463271\n",
      "Threshold : 0.80\tFBeta : 0.471911\n",
      "\n"
     ]
    },
    {
     "name": "stderr",
     "output_type": "stream",
     "text": [
      "\n",
      "Epoch 19/50  Mem : 22.2GB  LR : 9.76E-05  Loss: 0.4917: 100%|██████████| 29/29 [01:31<00:00,  3.16s/it]                                                                                                                                                              \n",
      "Val Loss: 0.5406: 100%|██████████| 10/10 [00:05<00:00,  1.99it/s]                                                                                                                                                                                                    "
     ]
    },
    {
     "name": "stdout",
     "output_type": "stream",
     "text": [
      "Threshold : 0.20\tFBeta : 0.291821\n",
      "Threshold : 0.25\tFBeta : 0.316884\n",
      "Threshold : 0.30\tFBeta : 0.330990\n",
      "Threshold : 0.35\tFBeta : 0.340116\n",
      "Threshold : 0.40\tFBeta : 0.346316\n",
      "Threshold : 0.45\tFBeta : 0.354151\n",
      "Threshold : 0.50\tFBeta : 0.363455\n",
      "Threshold : 0.55\tFBeta : 0.376158\n",
      "Threshold : 0.60\tFBeta : 0.382827\n",
      "Threshold : 0.65\tFBeta : 0.385898\n",
      "Threshold : 0.70\tFBeta : 0.380801\n",
      "Threshold : 0.75\tFBeta : 0.366434\n",
      "Threshold : 0.80\tFBeta : 0.339359\n",
      "\n"
     ]
    },
    {
     "name": "stderr",
     "output_type": "stream",
     "text": [
      "\n",
      "Epoch 20/50  Mem : 22.2GB  LR : 9.70E-05  Loss: 0.4819: 100%|██████████| 29/29 [01:17<00:00,  2.67s/it]                                                                                                                                                              \n",
      "Val Loss: 1.0009: 100%|██████████| 10/10 [00:05<00:00,  1.99it/s]                                                                                                                                                                                                    "
     ]
    },
    {
     "name": "stdout",
     "output_type": "stream",
     "text": [
      "Threshold : 0.20\tFBeta : 0.245703\n",
      "Threshold : 0.25\tFBeta : 0.253970\n",
      "Threshold : 0.30\tFBeta : 0.259641\n",
      "Threshold : 0.35\tFBeta : 0.263754\n",
      "Threshold : 0.40\tFBeta : 0.266680\n",
      "Threshold : 0.45\tFBeta : 0.269208\n",
      "Threshold : 0.50\tFBeta : 0.272157\n",
      "Threshold : 0.55\tFBeta : 0.278744\n",
      "Threshold : 0.60\tFBeta : 0.286010\n",
      "Threshold : 0.65\tFBeta : 0.293305\n",
      "Threshold : 0.70\tFBeta : 0.300983\n",
      "Threshold : 0.75\tFBeta : 0.309476\n",
      "Threshold : 0.80\tFBeta : 0.319834\n",
      "\n"
     ]
    },
    {
     "name": "stderr",
     "output_type": "stream",
     "text": [
      "\n",
      "Epoch 21/50  Mem : 22.2GB  LR : 9.64E-05  Loss: 0.4767: 100%|██████████| 29/29 [01:39<00:00,  3.41s/it]                                                                                                                                                              \n",
      "Val Loss: 0.4955: 100%|██████████| 10/10 [00:05<00:00,  1.99it/s]                                                                                                                                                                                                    "
     ]
    },
    {
     "name": "stdout",
     "output_type": "stream",
     "text": [
      "Threshold : 0.20\tFBeta : 0.360345\n",
      "Threshold : 0.25\tFBeta : 0.387197\n",
      "Threshold : 0.30\tFBeta : 0.402523\n",
      "Threshold : 0.35\tFBeta : 0.412431\n",
      "Threshold : 0.40\tFBeta : 0.420700\n",
      "Threshold : 0.45\tFBeta : 0.429969\n",
      "Threshold : 0.50\tFBeta : 0.441465\n",
      "Threshold : 0.55\tFBeta : 0.457819\n",
      "Threshold : 0.60\tFBeta : 0.467847\n",
      "Threshold : 0.65\tFBeta : 0.474449\n",
      "Threshold : 0.70\tFBeta : 0.479853\n",
      "Threshold : 0.75\tFBeta : 0.483514\n",
      "Threshold : 0.80\tFBeta : 0.486569\n",
      "\n"
     ]
    },
    {
     "name": "stderr",
     "output_type": "stream",
     "text": [
      "\n",
      "Epoch 22/50  Mem : 22.2GB  LR : 9.57E-05  Loss: 0.4644: 100%|██████████| 29/29 [01:03<00:00,  2.19s/it]                                                                                                                                                              \n",
      "Val Loss: 0.5494: 100%|██████████| 10/10 [00:05<00:00,  1.99it/s]                                                                                                                                                                                                    "
     ]
    },
    {
     "name": "stdout",
     "output_type": "stream",
     "text": [
      "Threshold : 0.20\tFBeta : 0.305635\n",
      "Threshold : 0.25\tFBeta : 0.346382\n",
      "Threshold : 0.30\tFBeta : 0.357481\n",
      "Threshold : 0.35\tFBeta : 0.362313\n",
      "Threshold : 0.40\tFBeta : 0.366139\n",
      "Threshold : 0.45\tFBeta : 0.370550\n",
      "Threshold : 0.50\tFBeta : 0.376174\n",
      "Threshold : 0.55\tFBeta : 0.384039\n",
      "Threshold : 0.60\tFBeta : 0.385381\n",
      "Threshold : 0.65\tFBeta : 0.385897\n",
      "Threshold : 0.70\tFBeta : 0.386629\n",
      "Threshold : 0.75\tFBeta : 0.384805\n",
      "Threshold : 0.80\tFBeta : 0.381770\n",
      "\n"
     ]
    },
    {
     "name": "stderr",
     "output_type": "stream",
     "text": [
      "\n",
      "Epoch 23/50  Mem : 22.2GB  LR : 9.49E-05  Loss: 0.4595: 100%|██████████| 29/29 [01:21<00:00,  2.80s/it]                                                                                                                                                              \n",
      "Val Loss: 0.5502: 100%|██████████| 10/10 [00:05<00:00,  2.00it/s]                                                                                                                                                                                                    "
     ]
    },
    {
     "name": "stdout",
     "output_type": "stream",
     "text": [
      "Threshold : 0.20\tFBeta : 0.292203\n",
      "Threshold : 0.25\tFBeta : 0.310431\n",
      "Threshold : 0.30\tFBeta : 0.322750\n",
      "Threshold : 0.35\tFBeta : 0.331438\n",
      "Threshold : 0.40\tFBeta : 0.339743\n",
      "Threshold : 0.45\tFBeta : 0.345811\n",
      "Threshold : 0.50\tFBeta : 0.352827\n",
      "Threshold : 0.55\tFBeta : 0.364480\n",
      "Threshold : 0.60\tFBeta : 0.368253\n",
      "Threshold : 0.65\tFBeta : 0.371924\n",
      "Threshold : 0.70\tFBeta : 0.373448\n",
      "Threshold : 0.75\tFBeta : 0.372498\n",
      "Threshold : 0.80\tFBeta : 0.368355\n",
      "\n"
     ]
    },
    {
     "name": "stderr",
     "output_type": "stream",
     "text": [
      "\n",
      "Epoch 24/50  Mem : 22.2GB  LR : 9.41E-05  Loss: 0.4530: 100%|██████████| 29/29 [01:12<00:00,  2.50s/it]                                                                                                                                                              \n",
      "Val Loss: 0.4988: 100%|██████████| 10/10 [00:05<00:00,  1.99it/s]                                                                                                                                                                                                    "
     ]
    },
    {
     "name": "stdout",
     "output_type": "stream",
     "text": [
      "Threshold : 0.20\tFBeta : 0.425801\n",
      "Threshold : 0.25\tFBeta : 0.458695\n",
      "Threshold : 0.30\tFBeta : 0.468984\n",
      "Threshold : 0.35\tFBeta : 0.473109\n",
      "Threshold : 0.40\tFBeta : 0.475116\n",
      "Threshold : 0.45\tFBeta : 0.476409\n",
      "Threshold : 0.50\tFBeta : 0.474647\n",
      "Threshold : 0.55\tFBeta : 0.460729\n",
      "Threshold : 0.60\tFBeta : 0.446048\n",
      "Threshold : 0.65\tFBeta : 0.430884\n",
      "Threshold : 0.70\tFBeta : 0.412416\n",
      "Threshold : 0.75\tFBeta : 0.390623\n",
      "Threshold : 0.80\tFBeta : 0.362846\n",
      "\n"
     ]
    },
    {
     "name": "stderr",
     "output_type": "stream",
     "text": [
      "\n",
      "Epoch 25/50  Mem : 22.2GB  LR : 9.33E-05  Loss: 0.4627: 100%|██████████| 29/29 [00:44<00:00,  1.54s/it]                                                                                                                                                              \n",
      "Val Loss: 0.4811: 100%|██████████| 10/10 [00:05<00:00,  1.99it/s]                                                                                                                                                                                                    \n"
     ]
    },
    {
     "name": "stdout",
     "output_type": "stream",
     "text": [
      "Threshold : 0.20\tFBeta : 0.417875\n",
      "Threshold : 0.25\tFBeta : 0.445740\n",
      "Threshold : 0.30\tFBeta : 0.466841\n",
      "Threshold : 0.35\tFBeta : 0.480150\n",
      "Threshold : 0.40\tFBeta : 0.497081\n",
      "Threshold : 0.45\tFBeta : 0.505267\n",
      "Threshold : 0.50\tFBeta : 0.513430\n",
      "Threshold : 0.55\tFBeta : 0.529329\n",
      "Threshold : 0.60\tFBeta : 0.532516\n",
      "Threshold : 0.65\tFBeta : 0.530667\n",
      "Threshold : 0.70\tFBeta : 0.521754\n",
      "Threshold : 0.75\tFBeta : 0.505989\n",
      "Threshold : 0.80\tFBeta : 0.477773\n",
      "\n"
     ]
    },
    {
     "name": "stderr",
     "output_type": "stream",
     "text": [
      "Epoch 26/50  Mem : 22.2GB  LR : 9.24E-05  Loss: 0.4520: 100%|██████████| 29/29 [00:53<00:00,  1.84s/it]                                                                                                                                                              \n",
      "Val Loss: 0.7056: 100%|██████████| 10/10 [00:05<00:00,  2.00it/s]                                                                                                                                                                                                    "
     ]
    },
    {
     "name": "stdout",
     "output_type": "stream",
     "text": [
      "Threshold : 0.20\tFBeta : 0.291515\n",
      "Threshold : 0.25\tFBeta : 0.304519\n",
      "Threshold : 0.30\tFBeta : 0.313139\n",
      "Threshold : 0.35\tFBeta : 0.319646\n",
      "Threshold : 0.40\tFBeta : 0.325434\n",
      "Threshold : 0.45\tFBeta : 0.331730\n",
      "Threshold : 0.50\tFBeta : 0.340545\n",
      "Threshold : 0.55\tFBeta : 0.358438\n",
      "Threshold : 0.60\tFBeta : 0.367876\n",
      "Threshold : 0.65\tFBeta : 0.375849\n",
      "Threshold : 0.70\tFBeta : 0.383755\n",
      "Threshold : 0.75\tFBeta : 0.392168\n",
      "Threshold : 0.80\tFBeta : 0.401222\n",
      "\n"
     ]
    },
    {
     "name": "stderr",
     "output_type": "stream",
     "text": [
      "\n",
      "Epoch 27/50  Mem : 22.2GB  LR : 9.15E-05  Loss: 0.4607: 100%|██████████| 29/29 [01:01<00:00,  2.13s/it]                                                                                                                                                              \n",
      "Val Loss: 0.5185: 100%|██████████| 10/10 [00:05<00:00,  1.99it/s]                                                                                                                                                                                                    "
     ]
    },
    {
     "name": "stdout",
     "output_type": "stream",
     "text": [
      "Threshold : 0.20\tFBeta : 0.320031\n",
      "Threshold : 0.25\tFBeta : 0.333029\n",
      "Threshold : 0.30\tFBeta : 0.342773\n",
      "Threshold : 0.35\tFBeta : 0.351401\n",
      "Threshold : 0.40\tFBeta : 0.360271\n",
      "Threshold : 0.45\tFBeta : 0.370779\n",
      "Threshold : 0.50\tFBeta : 0.388556\n",
      "Threshold : 0.55\tFBeta : 0.413627\n",
      "Threshold : 0.60\tFBeta : 0.426875\n",
      "Threshold : 0.65\tFBeta : 0.438751\n",
      "Threshold : 0.70\tFBeta : 0.450343\n",
      "Threshold : 0.75\tFBeta : 0.464939\n",
      "Threshold : 0.80\tFBeta : 0.479545\n",
      "\n"
     ]
    },
    {
     "name": "stderr",
     "output_type": "stream",
     "text": [
      "\n",
      "Epoch 28/50  Mem : 22.2GB  LR : 9.05E-05  Loss: 0.4468: 100%|██████████| 29/29 [01:12<00:00,  2.49s/it]                                                                                                                                                              \n",
      "Val Loss: 0.5678: 100%|██████████| 10/10 [00:04<00:00,  2.01it/s]                                                                                                                                                                                                    "
     ]
    },
    {
     "name": "stdout",
     "output_type": "stream",
     "text": [
      "Threshold : 0.20\tFBeta : 0.324347\n",
      "Threshold : 0.25\tFBeta : 0.335739\n",
      "Threshold : 0.30\tFBeta : 0.345022\n",
      "Threshold : 0.35\tFBeta : 0.352759\n",
      "Threshold : 0.40\tFBeta : 0.360096\n",
      "Threshold : 0.45\tFBeta : 0.367514\n",
      "Threshold : 0.50\tFBeta : 0.375984\n",
      "Threshold : 0.55\tFBeta : 0.387221\n",
      "Threshold : 0.60\tFBeta : 0.393384\n",
      "Threshold : 0.65\tFBeta : 0.399272\n",
      "Threshold : 0.70\tFBeta : 0.404379\n",
      "Threshold : 0.75\tFBeta : 0.409800\n",
      "Threshold : 0.80\tFBeta : 0.416133\n",
      "\n"
     ]
    },
    {
     "name": "stderr",
     "output_type": "stream",
     "text": [
      "\n",
      "Epoch 29/50  Mem : 22.2GB  LR : 8.94E-05  Loss: 0.4430: 100%|██████████| 29/29 [00:48<00:00,  1.66s/it]                                                                                                                                                              \n",
      "Val Loss: 0.5619: 100%|██████████| 10/10 [00:05<00:00,  2.00it/s]                                                                                                                                                                                                    "
     ]
    },
    {
     "name": "stdout",
     "output_type": "stream",
     "text": [
      "Threshold : 0.20\tFBeta : 0.321906\n",
      "Threshold : 0.25\tFBeta : 0.331124\n",
      "Threshold : 0.30\tFBeta : 0.338424\n",
      "Threshold : 0.35\tFBeta : 0.344731\n",
      "Threshold : 0.40\tFBeta : 0.350964\n",
      "Threshold : 0.45\tFBeta : 0.357913\n",
      "Threshold : 0.50\tFBeta : 0.366333\n",
      "Threshold : 0.55\tFBeta : 0.379725\n",
      "Threshold : 0.60\tFBeta : 0.388545\n",
      "Threshold : 0.65\tFBeta : 0.397047\n",
      "Threshold : 0.70\tFBeta : 0.404415\n",
      "Threshold : 0.75\tFBeta : 0.413118\n",
      "Threshold : 0.80\tFBeta : 0.423597\n",
      "\n"
     ]
    },
    {
     "name": "stderr",
     "output_type": "stream",
     "text": [
      "\n",
      "Epoch 30/50  Mem : 22.2GB  LR : 8.83E-05  Loss: 0.4245: 100%|██████████| 29/29 [01:01<00:00,  2.11s/it]                                                                                                                                                              \n",
      "Val Loss: 0.5480: 100%|██████████| 10/10 [00:05<00:00,  1.86it/s]                                                                                                                                                                                                    "
     ]
    },
    {
     "name": "stdout",
     "output_type": "stream",
     "text": [
      "Threshold : 0.20\tFBeta : 0.320813\n",
      "Threshold : 0.25\tFBeta : 0.332220\n",
      "Threshold : 0.30\tFBeta : 0.339774\n",
      "Threshold : 0.35\tFBeta : 0.346280\n",
      "Threshold : 0.40\tFBeta : 0.352494\n",
      "Threshold : 0.45\tFBeta : 0.358561\n",
      "Threshold : 0.50\tFBeta : 0.367846\n",
      "Threshold : 0.55\tFBeta : 0.383804\n",
      "Threshold : 0.60\tFBeta : 0.393323\n",
      "Threshold : 0.65\tFBeta : 0.402842\n",
      "Threshold : 0.70\tFBeta : 0.413548\n",
      "Threshold : 0.75\tFBeta : 0.425934\n",
      "Threshold : 0.80\tFBeta : 0.440885\n",
      "\n"
     ]
    },
    {
     "name": "stderr",
     "output_type": "stream",
     "text": [
      "\n",
      "Epoch 31/50  Mem : 22.2GB  LR : 8.72E-05  Loss: 0.4306: 100%|██████████| 29/29 [00:49<00:00,  1.72s/it]                                                                                                                                                              \n",
      "Val Loss: 0.5148: 100%|██████████| 10/10 [00:05<00:00,  1.95it/s]                                                                                                                                                                                                    "
     ]
    },
    {
     "name": "stdout",
     "output_type": "stream",
     "text": [
      "Threshold : 0.20\tFBeta : 0.448649\n",
      "Threshold : 0.25\tFBeta : 0.455242\n",
      "Threshold : 0.30\tFBeta : 0.461398\n",
      "Threshold : 0.35\tFBeta : 0.473674\n",
      "Threshold : 0.40\tFBeta : 0.485787\n",
      "Threshold : 0.45\tFBeta : 0.481893\n",
      "Threshold : 0.50\tFBeta : 0.474526\n",
      "Threshold : 0.55\tFBeta : 0.464532\n",
      "Threshold : 0.60\tFBeta : 0.452892\n",
      "Threshold : 0.65\tFBeta : 0.441369\n",
      "Threshold : 0.70\tFBeta : 0.427063\n",
      "Threshold : 0.75\tFBeta : 0.407469\n",
      "Threshold : 0.80\tFBeta : 0.380128\n",
      "\n"
     ]
    },
    {
     "name": "stderr",
     "output_type": "stream",
     "text": [
      "\n",
      "Epoch 32/50  Mem : 22.2GB  LR : 8.60E-05  Loss: 0.4322: 100%|██████████| 29/29 [01:06<00:00,  2.31s/it]                                                                                                                                                              \n",
      "Val Loss: 0.5497: 100%|██████████| 10/10 [00:05<00:00,  1.98it/s]                                                                                                                                                                                                    "
     ]
    },
    {
     "name": "stdout",
     "output_type": "stream",
     "text": [
      "Threshold : 0.20\tFBeta : 0.489829\n",
      "Threshold : 0.25\tFBeta : 0.486795\n",
      "Threshold : 0.30\tFBeta : 0.481895\n",
      "Threshold : 0.35\tFBeta : 0.474919\n",
      "Threshold : 0.40\tFBeta : 0.465559\n",
      "Threshold : 0.45\tFBeta : 0.455890\n",
      "Threshold : 0.50\tFBeta : 0.441305\n",
      "Threshold : 0.55\tFBeta : 0.418964\n",
      "Threshold : 0.60\tFBeta : 0.398840\n",
      "Threshold : 0.65\tFBeta : 0.377094\n",
      "Threshold : 0.70\tFBeta : 0.352497\n",
      "Threshold : 0.75\tFBeta : 0.322560\n",
      "Threshold : 0.80\tFBeta : 0.287719\n",
      "\n"
     ]
    },
    {
     "name": "stderr",
     "output_type": "stream",
     "text": [
      "\n",
      "Epoch 33/50  Mem : 22.2GB  LR : 8.47E-05  Loss: 0.4070: 100%|██████████| 29/29 [01:07<00:00,  2.31s/it]                                                                                                                                                              \n",
      "Val Loss: 0.6600: 100%|██████████| 10/10 [00:05<00:00,  1.96it/s]                                                                                                                                                                                                    "
     ]
    },
    {
     "name": "stdout",
     "output_type": "stream",
     "text": [
      "Threshold : 0.20\tFBeta : 0.282845\n",
      "Threshold : 0.25\tFBeta : 0.289472\n",
      "Threshold : 0.30\tFBeta : 0.295205\n",
      "Threshold : 0.35\tFBeta : 0.300443\n",
      "Threshold : 0.40\tFBeta : 0.306029\n",
      "Threshold : 0.45\tFBeta : 0.311955\n",
      "Threshold : 0.50\tFBeta : 0.321827\n",
      "Threshold : 0.55\tFBeta : 0.333769\n",
      "Threshold : 0.60\tFBeta : 0.341412\n",
      "Threshold : 0.65\tFBeta : 0.348935\n",
      "Threshold : 0.70\tFBeta : 0.356895\n",
      "Threshold : 0.75\tFBeta : 0.365156\n",
      "Threshold : 0.80\tFBeta : 0.374529\n",
      "\n"
     ]
    },
    {
     "name": "stderr",
     "output_type": "stream",
     "text": [
      "\n",
      "Epoch 34/50  Mem : 22.2GB  LR : 8.35E-05  Loss: 0.4164: 100%|██████████| 29/29 [00:43<00:00,  1.49s/it]                                                                                                                                                              \n",
      "Val Loss: 0.5639: 100%|██████████| 10/10 [00:05<00:00,  1.98it/s]                                                                                                                                                                                                    "
     ]
    },
    {
     "name": "stdout",
     "output_type": "stream",
     "text": [
      "Threshold : 0.20\tFBeta : 0.323411\n",
      "Threshold : 0.25\tFBeta : 0.327293\n",
      "Threshold : 0.30\tFBeta : 0.329786\n",
      "Threshold : 0.35\tFBeta : 0.332366\n",
      "Threshold : 0.40\tFBeta : 0.334852\n",
      "Threshold : 0.45\tFBeta : 0.337430\n",
      "Threshold : 0.50\tFBeta : 0.340329\n",
      "Threshold : 0.55\tFBeta : 0.339382\n",
      "Threshold : 0.60\tFBeta : 0.334663\n",
      "Threshold : 0.65\tFBeta : 0.329842\n",
      "Threshold : 0.70\tFBeta : 0.324045\n",
      "Threshold : 0.75\tFBeta : 0.317381\n",
      "Threshold : 0.80\tFBeta : 0.307819\n",
      "\n"
     ]
    },
    {
     "name": "stderr",
     "output_type": "stream",
     "text": [
      "\n",
      "Epoch 35/50  Mem : 22.2GB  LR : 8.21E-05  Loss: 0.4002: 100%|██████████| 29/29 [00:37<00:00,  1.28s/it]                                                                                                                                                              \n",
      "Val Loss: 0.5034: 100%|██████████| 10/10 [00:04<00:00,  2.03it/s]                                                                                                                                                                                                    "
     ]
    },
    {
     "name": "stdout",
     "output_type": "stream",
     "text": [
      "Threshold : 0.20\tFBeta : 0.363741\n",
      "Threshold : 0.25\tFBeta : 0.367282\n",
      "Threshold : 0.30\tFBeta : 0.370376\n",
      "Threshold : 0.35\tFBeta : 0.375271\n",
      "Threshold : 0.40\tFBeta : 0.381026\n",
      "Threshold : 0.45\tFBeta : 0.387106\n",
      "Threshold : 0.50\tFBeta : 0.392925\n",
      "Threshold : 0.55\tFBeta : 0.397904\n",
      "Threshold : 0.60\tFBeta : 0.400367\n",
      "Threshold : 0.65\tFBeta : 0.400485\n",
      "Threshold : 0.70\tFBeta : 0.397608\n",
      "Threshold : 0.75\tFBeta : 0.391596\n",
      "Threshold : 0.80\tFBeta : 0.379803\n",
      "\n"
     ]
    },
    {
     "name": "stderr",
     "output_type": "stream",
     "text": [
      "\n",
      "Epoch 36/50  Mem : 22.2GB  LR : 8.08E-05  Loss: 0.4021: 100%|██████████| 29/29 [00:59<00:00,  2.05s/it]                                                                                                                                                              \n",
      "Val Loss: 0.4677: 100%|██████████| 10/10 [00:05<00:00,  1.97it/s]                                                                                                                                                                                                    "
     ]
    },
    {
     "name": "stdout",
     "output_type": "stream",
     "text": [
      "Threshold : 0.20\tFBeta : 0.489422\n",
      "Threshold : 0.25\tFBeta : 0.501224\n",
      "Threshold : 0.30\tFBeta : 0.506252\n",
      "Threshold : 0.35\tFBeta : 0.510214\n",
      "Threshold : 0.40\tFBeta : 0.513536\n",
      "Threshold : 0.45\tFBeta : 0.516258\n",
      "Threshold : 0.50\tFBeta : 0.518979\n",
      "Threshold : 0.55\tFBeta : 0.518035\n",
      "Threshold : 0.60\tFBeta : 0.513706\n",
      "Threshold : 0.65\tFBeta : 0.508312\n",
      "Threshold : 0.70\tFBeta : 0.500708\n",
      "Threshold : 0.75\tFBeta : 0.488239\n",
      "Threshold : 0.80\tFBeta : 0.467677\n",
      "\n"
     ]
    },
    {
     "name": "stderr",
     "output_type": "stream",
     "text": [
      "\n",
      "Epoch 37/50  Mem : 22.2GB  LR : 7.94E-05  Loss: 0.4064: 100%|██████████| 29/29 [00:38<00:00,  1.34s/it]                                                                                                                                                              \n",
      "Val Loss: 1.1072: 100%|██████████| 10/10 [00:05<00:00,  1.85it/s]                                                                                                                                                                                                    "
     ]
    },
    {
     "name": "stdout",
     "output_type": "stream",
     "text": [
      "Threshold : 0.20\tFBeta : 0.254389\n",
      "Threshold : 0.25\tFBeta : 0.256925\n",
      "Threshold : 0.30\tFBeta : 0.258988\n",
      "Threshold : 0.35\tFBeta : 0.260793\n",
      "Threshold : 0.40\tFBeta : 0.262450\n",
      "Threshold : 0.45\tFBeta : 0.264207\n",
      "Threshold : 0.50\tFBeta : 0.266471\n",
      "Threshold : 0.55\tFBeta : 0.270230\n",
      "Threshold : 0.60\tFBeta : 0.273549\n",
      "Threshold : 0.65\tFBeta : 0.276829\n",
      "Threshold : 0.70\tFBeta : 0.280507\n",
      "Threshold : 0.75\tFBeta : 0.284876\n",
      "Threshold : 0.80\tFBeta : 0.290305\n",
      "\n"
     ]
    },
    {
     "name": "stderr",
     "output_type": "stream",
     "text": [
      "\n",
      "Epoch 38/50  Mem : 22.2GB  LR : 7.80E-05  Loss: 0.4067: 100%|██████████| 29/29 [00:53<00:00,  1.85s/it]                                                                                                                                                              \n",
      "Val Loss: 0.4642: 100%|██████████| 10/10 [00:04<00:00,  2.00it/s]                                                                                                                                                                                                    "
     ]
    },
    {
     "name": "stdout",
     "output_type": "stream",
     "text": [
      "Threshold : 0.20\tFBeta : 0.410882\n",
      "Threshold : 0.25\tFBeta : 0.425178\n",
      "Threshold : 0.30\tFBeta : 0.435617\n",
      "Threshold : 0.35\tFBeta : 0.445019\n",
      "Threshold : 0.40\tFBeta : 0.453698\n",
      "Threshold : 0.45\tFBeta : 0.461585\n",
      "Threshold : 0.50\tFBeta : 0.472186\n",
      "Threshold : 0.55\tFBeta : 0.477113\n",
      "Threshold : 0.60\tFBeta : 0.481298\n",
      "Threshold : 0.65\tFBeta : 0.484432\n",
      "Threshold : 0.70\tFBeta : 0.485514\n",
      "Threshold : 0.75\tFBeta : 0.484086\n",
      "Threshold : 0.80\tFBeta : 0.480202\n",
      "\n"
     ]
    },
    {
     "name": "stderr",
     "output_type": "stream",
     "text": [
      "\n",
      "Epoch 39/50  Mem : 22.2GB  LR : 7.65E-05  Loss: 0.3952: 100%|██████████| 29/29 [00:44<00:00,  1.55s/it]                                                                                                                                                              \n",
      "Val Loss: 0.5148: 100%|██████████| 10/10 [00:05<00:00,  1.97it/s]                                                                                                                                                                                                    "
     ]
    },
    {
     "name": "stdout",
     "output_type": "stream",
     "text": [
      "Threshold : 0.20\tFBeta : 0.496763\n",
      "Threshold : 0.25\tFBeta : 0.495075\n",
      "Threshold : 0.30\tFBeta : 0.492425\n",
      "Threshold : 0.35\tFBeta : 0.486904\n",
      "Threshold : 0.40\tFBeta : 0.479727\n",
      "Threshold : 0.45\tFBeta : 0.470957\n",
      "Threshold : 0.50\tFBeta : 0.457106\n",
      "Threshold : 0.55\tFBeta : 0.438536\n",
      "Threshold : 0.60\tFBeta : 0.418087\n",
      "Threshold : 0.65\tFBeta : 0.397207\n",
      "Threshold : 0.70\tFBeta : 0.374391\n",
      "Threshold : 0.75\tFBeta : 0.347497\n",
      "Threshold : 0.80\tFBeta : 0.316253\n",
      "\n"
     ]
    },
    {
     "name": "stderr",
     "output_type": "stream",
     "text": [
      "\n",
      "Epoch 40/50  Mem : 22.2GB  LR : 7.50E-05  Loss: 0.3943: 100%|██████████| 29/29 [00:45<00:00,  1.59s/it]                                                                                                                                                              \n",
      "Val Loss: 0.4712: 100%|██████████| 10/10 [00:05<00:00,  1.97it/s]                                                                                                                                                                                                    "
     ]
    },
    {
     "name": "stdout",
     "output_type": "stream",
     "text": [
      "Threshold : 0.20\tFBeta : 0.427777\n",
      "Threshold : 0.25\tFBeta : 0.436518\n",
      "Threshold : 0.30\tFBeta : 0.442681\n",
      "Threshold : 0.35\tFBeta : 0.447200\n",
      "Threshold : 0.40\tFBeta : 0.452870\n",
      "Threshold : 0.45\tFBeta : 0.460607\n",
      "Threshold : 0.50\tFBeta : 0.468568\n",
      "Threshold : 0.55\tFBeta : 0.475922\n",
      "Threshold : 0.60\tFBeta : 0.480481\n",
      "Threshold : 0.65\tFBeta : 0.483530\n",
      "Threshold : 0.70\tFBeta : 0.485330\n",
      "Threshold : 0.75\tFBeta : 0.485414\n",
      "Threshold : 0.80\tFBeta : 0.483503\n",
      "\n"
     ]
    },
    {
     "name": "stderr",
     "output_type": "stream",
     "text": [
      "\n",
      "Epoch 41/50  Mem : 22.2GB  LR : 7.35E-05  Loss: 0.3898: 100%|██████████| 29/29 [00:42<00:00,  1.46s/it]                                                                                                                                                              \n",
      "Val Loss: 0.5069: 100%|██████████| 10/10 [00:04<00:00,  2.00it/s]                                                                                                                                                                                                    "
     ]
    },
    {
     "name": "stdout",
     "output_type": "stream",
     "text": [
      "Threshold : 0.20\tFBeta : 0.381962\n",
      "Threshold : 0.25\tFBeta : 0.393579\n",
      "Threshold : 0.30\tFBeta : 0.400340\n",
      "Threshold : 0.35\tFBeta : 0.405459\n",
      "Threshold : 0.40\tFBeta : 0.410480\n",
      "Threshold : 0.45\tFBeta : 0.415737\n",
      "Threshold : 0.50\tFBeta : 0.421534\n",
      "Threshold : 0.55\tFBeta : 0.426592\n",
      "Threshold : 0.60\tFBeta : 0.430629\n",
      "Threshold : 0.65\tFBeta : 0.434128\n",
      "Threshold : 0.70\tFBeta : 0.437707\n",
      "Threshold : 0.75\tFBeta : 0.440895\n",
      "Threshold : 0.80\tFBeta : 0.443512\n",
      "\n"
     ]
    },
    {
     "name": "stderr",
     "output_type": "stream",
     "text": [
      "\n",
      "Epoch 42/50  Mem : 22.2GB  LR : 7.19E-05  Loss: 0.3903: 100%|██████████| 29/29 [01:17<00:00,  2.67s/it]                                                                                                                                                              \n",
      "Val Loss: 0.4823: 100%|██████████| 10/10 [00:05<00:00,  1.93it/s]                                                                                                                                                                                                    "
     ]
    },
    {
     "name": "stdout",
     "output_type": "stream",
     "text": [
      "Threshold : 0.20\tFBeta : 0.493025\n",
      "Threshold : 0.25\tFBeta : 0.496999\n",
      "Threshold : 0.30\tFBeta : 0.500258\n",
      "Threshold : 0.35\tFBeta : 0.502883\n",
      "Threshold : 0.40\tFBeta : 0.504883\n",
      "Threshold : 0.45\tFBeta : 0.505981\n",
      "Threshold : 0.50\tFBeta : 0.505874\n",
      "Threshold : 0.55\tFBeta : 0.503987\n",
      "Threshold : 0.60\tFBeta : 0.502353\n",
      "Threshold : 0.65\tFBeta : 0.499643\n",
      "Threshold : 0.70\tFBeta : 0.495540\n",
      "Threshold : 0.75\tFBeta : 0.488839\n",
      "Threshold : 0.80\tFBeta : 0.476540\n",
      "\n"
     ]
    },
    {
     "name": "stderr",
     "output_type": "stream",
     "text": [
      "\n",
      "Epoch 43/50  Mem : 22.2GB  LR : 7.03E-05  Loss: 0.3784: 100%|██████████| 29/29 [00:39<00:00,  1.37s/it]                                                                                                                                                              \n",
      "Val Loss: 0.4592: 100%|██████████| 10/10 [00:05<00:00,  1.89it/s]                                                                                                                                                                                                    "
     ]
    },
    {
     "name": "stdout",
     "output_type": "stream",
     "text": [
      "Threshold : 0.20\tFBeta : 0.471793\n",
      "Threshold : 0.25\tFBeta : 0.479893\n",
      "Threshold : 0.30\tFBeta : 0.485646\n",
      "Threshold : 0.35\tFBeta : 0.489496\n",
      "Threshold : 0.40\tFBeta : 0.492791\n",
      "Threshold : 0.45\tFBeta : 0.496041\n",
      "Threshold : 0.50\tFBeta : 0.498417\n",
      "Threshold : 0.55\tFBeta : 0.497971\n",
      "Threshold : 0.60\tFBeta : 0.497209\n",
      "Threshold : 0.65\tFBeta : 0.496250\n",
      "Threshold : 0.70\tFBeta : 0.493986\n",
      "Threshold : 0.75\tFBeta : 0.486741\n",
      "Threshold : 0.80\tFBeta : 0.471856\n",
      "\n"
     ]
    },
    {
     "name": "stderr",
     "output_type": "stream",
     "text": [
      "\n",
      "Epoch 44/50  Mem : 22.2GB  LR : 6.87E-05  Loss: 0.3679: 100%|██████████| 29/29 [01:00<00:00,  2.09s/it]                                                                                                                                                              \n",
      "Val Loss: 0.4766: 100%|██████████| 10/10 [00:05<00:00,  1.97it/s]                                                                                                                                                                                                    "
     ]
    },
    {
     "name": "stdout",
     "output_type": "stream",
     "text": [
      "Threshold : 0.20\tFBeta : 0.493776\n",
      "Threshold : 0.25\tFBeta : 0.495997\n",
      "Threshold : 0.30\tFBeta : 0.497947\n",
      "Threshold : 0.35\tFBeta : 0.499588\n",
      "Threshold : 0.40\tFBeta : 0.501130\n",
      "Threshold : 0.45\tFBeta : 0.502873\n",
      "Threshold : 0.50\tFBeta : 0.502301\n",
      "Threshold : 0.55\tFBeta : 0.496423\n",
      "Threshold : 0.60\tFBeta : 0.490491\n",
      "Threshold : 0.65\tFBeta : 0.482915\n",
      "Threshold : 0.70\tFBeta : 0.472993\n",
      "Threshold : 0.75\tFBeta : 0.460548\n",
      "Threshold : 0.80\tFBeta : 0.443236\n",
      "\n"
     ]
    },
    {
     "name": "stderr",
     "output_type": "stream",
     "text": [
      "\n",
      "Epoch 45/50  Mem : 22.2GB  LR : 6.71E-05  Loss: 0.3719: 100%|██████████| 29/29 [00:54<00:00,  1.89s/it]                                                                                                                                                              \n",
      "Val Loss: 0.4933: 100%|██████████| 10/10 [00:05<00:00,  1.96it/s]                                                                                                                                                                                                    "
     ]
    },
    {
     "name": "stdout",
     "output_type": "stream",
     "text": [
      "Threshold : 0.20\tFBeta : 0.472122\n",
      "Threshold : 0.25\tFBeta : 0.476231\n",
      "Threshold : 0.30\tFBeta : 0.478842\n",
      "Threshold : 0.35\tFBeta : 0.481298\n",
      "Threshold : 0.40\tFBeta : 0.482509\n",
      "Threshold : 0.45\tFBeta : 0.482803\n",
      "Threshold : 0.50\tFBeta : 0.481241\n",
      "Threshold : 0.55\tFBeta : 0.473975\n",
      "Threshold : 0.60\tFBeta : 0.467023\n",
      "Threshold : 0.65\tFBeta : 0.459943\n",
      "Threshold : 0.70\tFBeta : 0.451094\n",
      "Threshold : 0.75\tFBeta : 0.439985\n",
      "Threshold : 0.80\tFBeta : 0.425757\n",
      "\n"
     ]
    },
    {
     "name": "stderr",
     "output_type": "stream",
     "text": [
      "\n",
      "Epoch 46/50  Mem : 22.2GB  LR : 6.55E-05  Loss: 0.3754: 100%|██████████| 29/29 [01:08<00:00,  2.37s/it]                                                                                                                                                              \n",
      "Val Loss: 0.5478: 100%|██████████| 10/10 [00:05<00:00,  1.98it/s]                                                                                                                                                                                                    "
     ]
    },
    {
     "name": "stdout",
     "output_type": "stream",
     "text": [
      "Threshold : 0.20\tFBeta : 0.337970\n",
      "Threshold : 0.25\tFBeta : 0.345428\n",
      "Threshold : 0.30\tFBeta : 0.350943\n",
      "Threshold : 0.35\tFBeta : 0.355637\n",
      "Threshold : 0.40\tFBeta : 0.360005\n",
      "Threshold : 0.45\tFBeta : 0.364680\n",
      "Threshold : 0.50\tFBeta : 0.372546\n",
      "Threshold : 0.55\tFBeta : 0.382813\n",
      "Threshold : 0.60\tFBeta : 0.390527\n",
      "Threshold : 0.65\tFBeta : 0.397627\n",
      "Threshold : 0.70\tFBeta : 0.405594\n",
      "Threshold : 0.75\tFBeta : 0.414816\n",
      "Threshold : 0.80\tFBeta : 0.424948\n",
      "\n"
     ]
    },
    {
     "name": "stderr",
     "output_type": "stream",
     "text": [
      "\n",
      "Epoch 47/50  Mem : 22.2GB  LR : 6.38E-05  Loss: 0.3675: 100%|██████████| 29/29 [00:51<00:00,  1.77s/it]                                                                                                                                                              \n",
      "Val Loss: 0.5117: 100%|██████████| 10/10 [00:05<00:00,  1.96it/s]                                                                                                                                                                                                    "
     ]
    },
    {
     "name": "stdout",
     "output_type": "stream",
     "text": [
      "Threshold : 0.20\tFBeta : 0.477010\n",
      "Threshold : 0.25\tFBeta : 0.471896\n",
      "Threshold : 0.30\tFBeta : 0.468608\n",
      "Threshold : 0.35\tFBeta : 0.467232\n",
      "Threshold : 0.40\tFBeta : 0.466971\n",
      "Threshold : 0.45\tFBeta : 0.466345\n",
      "Threshold : 0.50\tFBeta : 0.463905\n",
      "Threshold : 0.55\tFBeta : 0.458442\n",
      "Threshold : 0.60\tFBeta : 0.450221\n",
      "Threshold : 0.65\tFBeta : 0.439241\n",
      "Threshold : 0.70\tFBeta : 0.426053\n",
      "Threshold : 0.75\tFBeta : 0.409754\n",
      "Threshold : 0.80\tFBeta : 0.387209\n",
      "\n"
     ]
    },
    {
     "name": "stderr",
     "output_type": "stream",
     "text": [
      "\n",
      "Epoch 48/50  Mem : 22.2GB  LR : 6.21E-05  Loss: 0.3728: 100%|██████████| 29/29 [01:07<00:00,  2.33s/it]                                                                                                                                                              \n",
      "Val Loss: 0.4524: 100%|██████████| 10/10 [00:05<00:00,  1.92it/s]                                                                                                                                                                                                    "
     ]
    },
    {
     "name": "stdout",
     "output_type": "stream",
     "text": [
      "Threshold : 0.20\tFBeta : 0.470201\n",
      "Threshold : 0.25\tFBeta : 0.474955\n",
      "Threshold : 0.30\tFBeta : 0.478435\n",
      "Threshold : 0.35\tFBeta : 0.481288\n",
      "Threshold : 0.40\tFBeta : 0.484016\n",
      "Threshold : 0.45\tFBeta : 0.487442\n",
      "Threshold : 0.50\tFBeta : 0.493493\n",
      "Threshold : 0.55\tFBeta : 0.498909\n",
      "Threshold : 0.60\tFBeta : 0.501078\n",
      "Threshold : 0.65\tFBeta : 0.500954\n",
      "Threshold : 0.70\tFBeta : 0.501530\n",
      "Threshold : 0.75\tFBeta : 0.499945\n",
      "Threshold : 0.80\tFBeta : 0.493488\n",
      "\n"
     ]
    },
    {
     "name": "stderr",
     "output_type": "stream",
     "text": [
      "\n",
      "Epoch 49/50  Mem : 22.2GB  LR : 6.04E-05  Loss: 0.3557: 100%|██████████| 29/29 [00:47<00:00,  1.63s/it]                                                                                                                                                              \n",
      "Val Loss: 1.0999: 100%|██████████| 10/10 [00:05<00:00,  1.97it/s]                                                                                                                                                                                                    "
     ]
    },
    {
     "name": "stdout",
     "output_type": "stream",
     "text": [
      "Threshold : 0.20\tFBeta : 0.257804\n",
      "Threshold : 0.25\tFBeta : 0.260874\n",
      "Threshold : 0.30\tFBeta : 0.263134\n",
      "Threshold : 0.35\tFBeta : 0.265257\n",
      "Threshold : 0.40\tFBeta : 0.267304\n",
      "Threshold : 0.45\tFBeta : 0.269512\n",
      "Threshold : 0.50\tFBeta : 0.272204\n",
      "Threshold : 0.55\tFBeta : 0.275583\n",
      "Threshold : 0.60\tFBeta : 0.278876\n",
      "Threshold : 0.65\tFBeta : 0.282486\n",
      "Threshold : 0.70\tFBeta : 0.286743\n",
      "Threshold : 0.75\tFBeta : 0.291829\n",
      "Threshold : 0.80\tFBeta : 0.298038\n",
      "\n"
     ]
    },
    {
     "name": "stderr",
     "output_type": "stream",
     "text": [
      "\n",
      "Epoch 50/50  Mem : 22.2GB  LR : 5.87E-05  Loss: 0.3743: 100%|██████████| 29/29 [00:58<00:00,  2.01s/it]                                                                                                                                                              \n",
      "Val Loss: 0.4314: 100%|██████████| 10/10 [00:04<00:00,  2.00it/s]                                                                                                                                                                                                    \n"
     ]
    },
    {
     "name": "stdout",
     "output_type": "stream",
     "text": [
      "Threshold : 0.20\tFBeta : 0.421086\n",
      "Threshold : 0.25\tFBeta : 0.437134\n",
      "Threshold : 0.30\tFBeta : 0.450631\n",
      "Threshold : 0.35\tFBeta : 0.463439\n",
      "Threshold : 0.40\tFBeta : 0.476328\n",
      "Threshold : 0.45\tFBeta : 0.489184\n",
      "Threshold : 0.50\tFBeta : 0.501524\n",
      "Threshold : 0.55\tFBeta : 0.510398\n",
      "Threshold : 0.60\tFBeta : 0.519090\n",
      "Threshold : 0.65\tFBeta : 0.526397\n",
      "Threshold : 0.70\tFBeta : 0.532483\n",
      "Threshold : 0.75\tFBeta : 0.536351\n",
      "Threshold : 0.80\tFBeta : 0.536901\n",
      "\n"
     ]
    }
   ],
   "source": [
    "fbeta_best = 0.0\n",
    "for epoch in range(1, EPOCHS+1):\n",
    "    model.train()\n",
    "    cur_lr = f\"LR : {scheduler.get_last_lr()[0]:.2E}\"\n",
    "    pbar_train = enumerate(dataloader_train)\n",
    "    pbar_train = tqdm(pbar_train, total=n_train, bar_format=\"{l_bar}{bar:10}{r_bar}{bar:-10b}\")\n",
    "    mloss_train, mloss_val, val_metric = 0.0, 0.0, 0.0\n",
    "\n",
    "    \n",
    "\n",
    "\n",
    "\n",
    "\n",
    "    for i, (fragments, masks) in pbar_train:\n",
    "        fragments, masks = fragments.cuda().half(), masks.cuda().half()\n",
    "        \n",
    "        \n",
    "        optimizer.zero_grad()\n",
    "        with amp.autocast():\n",
    "            pred_masks = model(fragments)\n",
    "            loss = criterion(pred_masks, masks)\n",
    "            scaler.scale(loss).backward()\n",
    "            scaler.step(optimizer)\n",
    "            scaler.update()\n",
    "            mloss_train += loss.detach().item()\n",
    "\n",
    "        gpu_mem = f\"Mem : {torch.cuda.memory_reserved() / 1E9:.3g}GB\"\n",
    "        pbar_train.set_description((\"%10s  \" * 3 + \"%10s\") % (f\"Epoch {epoch}/{EPOCHS}\", gpu_mem, cur_lr,\n",
    "                                                              f\"Loss: {mloss_train / (i + 1):.4f}\"))\n",
    "        \n",
    "    scheduler.step()\n",
    "    model.eval()\n",
    "    pbar_val = enumerate(dataloader_valid)\n",
    "    pbar_val = tqdm(pbar_val, total=n_valid, bar_format=\"{l_bar}{bar:10}{r_bar}{bar:-10b}\")\n",
    "    final_pred_mask = torch.zeros(gt_shape, dtype=torch.float32, device='cuda')\n",
    "    \n",
    "    for i, (fragments, masks, xys) in pbar_val:\n",
    "        fragments, masks = fragments.cuda(), masks.cuda()\n",
    "        \n",
    "        with torch.no_grad():\n",
    "            pred_masks = model(fragments)\n",
    "            mloss_val += criterion(pred_masks, masks).item()\n",
    "            pred_masks = torch.sigmoid(pred_masks)\n",
    "        \n",
    "        for j, xy in enumerate(xys):\n",
    "            final_pred_mask[xy[1]:xy[3], xy[0]:xy[2]] = pred_masks[j, 0]\n",
    "\n",
    "        pbar_val.set_description((\"%10s\") % (f\"Val Loss: {mloss_val / (i+1):.4f}\"))\n",
    "    \n",
    "    for threshold in np.arange(0.2, 0.85, 0.05):\n",
    "        fbeta = fbeta_score(final_pred_mask, gt_mask, threshold)\n",
    "        print(f\"Threshold : {threshold:.2f}\\tFBeta : {fbeta:.6f}\")\n",
    "        \n",
    "        if fbeta_best < fbeta:\n",
    "            fbeta_best = fbeta\n",
    "            torch.save(model.module.state_dict(), f\"./ckpts/resnet18_3d_seg_best_{fbeta_best:.4f}.pt\")\n",
    "    \n",
    "    \n",
    "    # if epoch >= 10:\n",
    "    #     torch.save(model.module.state_dict(), f\"./ckpts/resnet18_3d_seg_epoch_{epoch}.pt\")\n",
    "\n",
    "    # if epoch == 30:\n",
    "    #     break\n",
    "\n",
    "    print()"
   ]
  },
  {
   "cell_type": "code",
   "execution_count": 22,
   "id": "2c48f344",
   "metadata": {
    "execution": {
     "iopub.execute_input": "2023-05-28T07:43:13.528091Z",
     "iopub.status.busy": "2023-05-28T07:43:13.526757Z",
     "iopub.status.idle": "2023-05-28T07:43:13.550962Z",
     "shell.execute_reply": "2023-05-28T07:43:13.549715Z"
    }
   },
   "outputs": [],
   "source": [
    "# import logging\n",
    "\n",
    "# logging.basicConfig(filename=\"training_log.txt\", level=logging.INFO)\n",
    "\n",
    "# console = logging.StreamHandler()\n",
    "# console.setLevel(logging.INFO)\n",
    "# logging.getLogger('').addHandler(console)\n",
    "\n",
    "# fbeta_best = 0.0\n",
    "# for epoch in range(1, EPOCHS+1):\n",
    "#     model.train()\n",
    "#     cur_lr = f\"LR : {scheduler.get_last_lr()[0]:.2E}\"\n",
    "#     pbar_train = enumerate(dataloader_train)\n",
    "#     pbar_train = tqdm(pbar_train, total=n_train, bar_format=\"{l_bar}{bar:10}{r_bar}{bar:-10b}\")\n",
    "#     mloss_train, mloss_val, val_metric = 0.0, 0.0, 0.0\n",
    "\n",
    "#     for i, (fragments, masks) in pbar_train:\n",
    "#         fragments, masks = fragments.cuda().half(), masks.cuda().half()\n",
    "        \n",
    "#         optimizer.zero_grad()\n",
    "#         with amp.autocast():\n",
    "#             pred_masks = model(fragments)\n",
    "#             loss = criterion(pred_masks, masks)\n",
    "#             scaler.scale(loss).backward()\n",
    "#             scaler.step(optimizer)\n",
    "#             scaler.update()\n",
    "#             mloss_train += loss.detach().item()\n",
    "\n",
    "#         gpu_mem = f\"Mem : {torch.cuda.memory_reserved() / 1E9:.3g}GB\"\n",
    "#         pbar_train.set_description((\"%10s  \" * 3 + \"%10s\") % (f\"Epoch {epoch}/{EPOCHS}\", gpu_mem, cur_lr,\n",
    "#                                                               f\"Loss: {mloss_train / (i + 1):.4f}\"))\n",
    "#         logging.info((\"%10s  \" * 3 + \"%10s\") % (f\"Epoch {epoch}/{EPOCHS}\", gpu_mem, cur_lr,\n",
    "#                                                 f\"Loss: {mloss_train / (i + 1):.4f}\"))\n",
    "#     scheduler.step()\n",
    "#     model.eval()\n",
    "#     pbar_val = enumerate(dataloader_valid)\n",
    "#     pbar_val = tqdm(pbar_val, total=n_valid, bar_format=\"{l_bar}{bar:10}{r_bar}{bar:-10b}\")\n",
    "#     final_pred_mask = torch.zeros(gt_shape, dtype=torch.float32, device='cuda')\n",
    "    \n",
    "#     for i, (fragments, masks, xys) in pbar_val:\n",
    "#         fragments, masks = fragments.cuda(), masks.cuda()\n",
    "        \n",
    "#         with torch.no_grad():\n",
    "#             pred_masks = model(fragments)\n",
    "#             mloss_val += criterion(pred_masks, masks).item()\n",
    "#             pred_masks = torch.sigmoid(pred_masks)\n",
    "        \n",
    "#         for j, xy in enumerate(xys):\n",
    "#             final_pred_mask[xy[1]:xy[3], xy[0]:xy[2]] = pred_masks[j, 0]\n",
    "\n",
    "#         pbar_val.set_description((\"%10s\") % (f\"Val Loss: {mloss_val / (i+1):.4f}\"))\n",
    "#         logging.info((\"%10s\") % (f\"Val Loss: {mloss_val / (i+1):.4f}\"))\n",
    "\n",
    "#     for threshold in np.arange(0.2, 0.85, 0.05):\n",
    "#         fbeta = fbeta_score(final_pred_mask, gt_mask, threshold)\n",
    "#         logging.info(f\"Threshold : {threshold:.2f}\\tFBeta : {fbeta:.6f}\")\n",
    "\n",
    "#         if fbeta_best < fbeta:\n",
    "#             fbeta_best = fbeta\n",
    "#             torch.save(model.module.state_dict(), f\"./ckpts/resnet18_3d_seg_best.pt\")\n",
    "    \n",
    "#     # if epoch >= 10:\n",
    "#     #     torch.save(model.module.state_dict(), f\"./ckpts/resnet18_3d_seg_epoch_{epoch}.pt\")\n"
   ]
  },
  {
   "cell_type": "code",
   "execution_count": null,
   "id": "89431087",
   "metadata": {
    "papermill": {
     "duration": 0.381515,
     "end_time": "2023-04-08T11:20:14.478012",
     "exception": false,
     "start_time": "2023-04-08T11:20:14.096497",
     "status": "completed"
    },
    "tags": []
   },
   "outputs": [],
   "source": []
  }
 ],
 "metadata": {
  "kernelspec": {
   "display_name": "Python 3",
   "language": "python",
   "name": "python3"
  },
  "language_info": {
   "codemirror_mode": {
    "name": "ipython",
    "version": 3
   },
   "file_extension": ".py",
   "mimetype": "text/x-python",
   "name": "python",
   "nbconvert_exporter": "python",
   "pygments_lexer": "ipython3",
   "version": "3.9.16"
  },
  "papermill": {
   "default_parameters": {},
   "duration": 4132.646938,
   "end_time": "2023-04-08T11:20:18.816611",
   "environment_variables": {},
   "exception": null,
   "input_path": "__notebook__.ipynb",
   "output_path": "__notebook__.ipynb",
   "parameters": {},
   "start_time": "2023-04-08T10:11:26.169673",
   "version": "2.4.0"
  }
 },
 "nbformat": 4,
 "nbformat_minor": 5
}
