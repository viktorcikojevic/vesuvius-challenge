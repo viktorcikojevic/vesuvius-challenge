{
 "cells": [
  {
   "attachments": {},
   "cell_type": "markdown",
   "id": "73dea9ca",
   "metadata": {
    "papermill": {
     "duration": 0.006587,
     "end_time": "2023-04-08T10:11:36.662576",
     "exception": false,
     "start_time": "2023-04-08T10:11:36.655989",
     "status": "completed"
    },
    "tags": []
   },
   "source": [
    "## Vesuvius Challenge - Ink Detection Training Notebook"
   ]
  },
  {
   "attachments": {},
   "cell_type": "markdown",
   "id": "8cdbb7ff",
   "metadata": {
    "papermill": {
     "duration": 0.004951,
     "end_time": "2023-04-08T10:11:36.672955",
     "exception": false,
     "start_time": "2023-04-08T10:11:36.668004",
     "status": "completed"
    },
    "tags": []
   },
   "source": [
    "### Setup"
   ]
  },
  {
   "cell_type": "code",
   "execution_count": 1,
   "id": "ae445317",
   "metadata": {
    "_kg_hide-input": false,
    "_kg_hide-output": true,
    "execution": {
     "iopub.execute_input": "2023-05-22T21:48:10.405477Z",
     "iopub.status.busy": "2023-05-22T21:48:10.405069Z",
     "iopub.status.idle": "2023-05-22T21:48:10.587930Z",
     "shell.execute_reply": "2023-05-22T21:48:10.586077Z"
    },
    "papermill": {
     "duration": 29.297355,
     "end_time": "2023-04-08T10:12:05.976007",
     "exception": false,
     "start_time": "2023-04-08T10:11:36.678652",
     "status": "completed"
    },
    "tags": []
   },
   "outputs": [],
   "source": [
    "# # Pretrained weights\n",
    "# # ref - https://github.com/kenshohara/3D-ResNets-PyTorch\n",
    "# !pip install gdown\n",
    "# !gdown 1Nb4abvIkkp_ydPFA9sNPT1WakoVKA8Fa\n",
    "\n",
    "# # Utility packages for reading and visualizing volumes\n",
    "# !pip install zarr imageio-ffmpeg\n",
    "\n",
    "# save model checkpoints\n",
    "!mkdir ./ckpts"
   ]
  },
  {
   "cell_type": "code",
   "execution_count": 2,
   "id": "0d956f5c",
   "metadata": {
    "execution": {
     "iopub.execute_input": "2023-05-22T21:48:10.593641Z",
     "iopub.status.busy": "2023-05-22T21:48:10.593231Z",
     "iopub.status.idle": "2023-05-22T21:48:11.463767Z",
     "shell.execute_reply": "2023-05-22T21:48:11.463423Z"
    },
    "papermill": {
     "duration": 3.289261,
     "end_time": "2023-04-08T10:12:09.273534",
     "exception": false,
     "start_time": "2023-04-08T10:12:05.984273",
     "status": "completed"
    },
    "tags": []
   },
   "outputs": [],
   "source": [
    "import os\n",
    "import gc\n",
    "import sys\n",
    "import zarr\n",
    "import random\n",
    "import imageio\n",
    "import numpy as np\n",
    "import pandas as pd\n",
    "from tqdm import tqdm\n",
    "import matplotlib.pyplot as plt\n",
    "from IPython.display import Video\n",
    "\n",
    "import torch\n",
    "import torch.nn as nn\n",
    "import torch.nn.functional as F\n",
    "from torch.cuda import amp\n",
    "from torch.utils.data import Dataset, DataLoader\n",
    "\n",
    "sys.path.append(\"./resnet3d\")\n",
    "from resnet3d import generate_model"
   ]
  },
  {
   "attachments": {},
   "cell_type": "markdown",
   "id": "88b00fe4",
   "metadata": {
    "papermill": {
     "duration": 0.007297,
     "end_time": "2023-04-08T10:12:09.288770",
     "exception": false,
     "start_time": "2023-04-08T10:12:09.281473",
     "status": "completed"
    },
    "tags": []
   },
   "source": [
    "### Config"
   ]
  },
  {
   "cell_type": "code",
   "execution_count": 3,
   "id": "59e26b77",
   "metadata": {
    "execution": {
     "iopub.execute_input": "2023-05-22T21:48:11.465381Z",
     "iopub.status.busy": "2023-05-22T21:48:11.465197Z",
     "iopub.status.idle": "2023-05-22T21:48:11.467324Z",
     "shell.execute_reply": "2023-05-22T21:48:11.467148Z"
    },
    "papermill": {
     "duration": 0.016571,
     "end_time": "2023-04-08T10:12:09.312935",
     "exception": false,
     "start_time": "2023-04-08T10:12:09.296364",
     "status": "completed"
    },
    "tags": []
   },
   "outputs": [],
   "source": [
    "LR = 1e-4\n",
    "EPOCHS = 70\n",
    "BATCH_SIZE = 32\n",
    "CROP_SIZE = 256\n",
    "Z_START = 24\n",
    "Z_DIMS = 16\n",
    "TRAIN_FRAGMENTS = [\"2\", \"1\"]\n",
    "TEST_FRAGMENT = \"3\""
   ]
  },
  {
   "attachments": {},
   "cell_type": "markdown",
   "id": "9a1e0328",
   "metadata": {
    "papermill": {
     "duration": 0.007428,
     "end_time": "2023-04-08T10:12:09.328094",
     "exception": false,
     "start_time": "2023-04-08T10:12:09.320666",
     "status": "completed"
    },
    "tags": []
   },
   "source": [
    "### Load data"
   ]
  },
  {
   "cell_type": "code",
   "execution_count": 4,
   "id": "8c494d99",
   "metadata": {
    "execution": {
     "iopub.execute_input": "2023-05-22T21:48:11.468443Z",
     "iopub.status.busy": "2023-05-22T21:48:11.468342Z",
     "iopub.status.idle": "2023-05-22T21:48:11.476393Z",
     "shell.execute_reply": "2023-05-22T21:48:11.476214Z"
    },
    "papermill": {
     "duration": 0.054715,
     "end_time": "2023-04-08T10:12:09.391635",
     "exception": false,
     "start_time": "2023-04-08T10:12:09.336920",
     "status": "completed"
    },
    "tags": []
   },
   "outputs": [],
   "source": [
    "\n",
    "\n",
    "FRAGMENTS_ZARR = {\n",
    "    \"1\" : zarr.open(\"/home/viktor/Documents/kaggle/vesuvius-challenge/kaggle-data/train-1.zarr\", mode=\"r\"),\n",
    "    \"2\" : zarr.open(\"/home/viktor/Documents/kaggle/vesuvius-challenge/kaggle-data/train-2.zarr\", mode=\"r\"),\n",
    "    \"3\" : zarr.open(\"/home/viktor/Documents/kaggle/vesuvius-challenge/kaggle-data/train-3.zarr\", mode=\"r\")\n",
    "}\n",
    "\n",
    "FRAGMENTS_SHAPE = {k : v.mask.shape for k, v in FRAGMENTS_ZARR.items()}"
   ]
  },
  {
   "attachments": {},
   "cell_type": "markdown",
   "id": "97a51afa",
   "metadata": {
    "papermill": {
     "duration": 0.007406,
     "end_time": "2023-04-08T10:12:09.406465",
     "exception": false,
     "start_time": "2023-04-08T10:12:09.399059",
     "status": "completed"
    },
    "tags": []
   },
   "source": [
    "### Visualise input"
   ]
  },
  {
   "cell_type": "code",
   "execution_count": 5,
   "id": "6d33b9f8",
   "metadata": {
    "execution": {
     "iopub.execute_input": "2023-05-22T21:48:11.477629Z",
     "iopub.status.busy": "2023-05-22T21:48:11.477513Z",
     "iopub.status.idle": "2023-05-22T21:48:11.632091Z",
     "shell.execute_reply": "2023-05-22T21:48:11.631868Z"
    },
    "papermill": {
     "duration": 1.68744,
     "end_time": "2023-04-08T10:12:11.101290",
     "exception": false,
     "start_time": "2023-04-08T10:12:09.413850",
     "status": "completed"
    },
    "tags": []
   },
   "outputs": [
    {
     "name": "stderr",
     "output_type": "stream",
     "text": [
      "Lossy conversion from uint16 to uint8. Losing 8 bits of resolution. Convert image to uint8 prior to saving to suppress this warning.\n",
      "Lossy conversion from uint16 to uint8. Losing 8 bits of resolution. Convert image to uint8 prior to saving to suppress this warning.\n",
      "Lossy conversion from uint16 to uint8. Losing 8 bits of resolution. Convert image to uint8 prior to saving to suppress this warning.\n",
      "Lossy conversion from uint16 to uint8. Losing 8 bits of resolution. Convert image to uint8 prior to saving to suppress this warning.\n",
      "Lossy conversion from uint16 to uint8. Losing 8 bits of resolution. Convert image to uint8 prior to saving to suppress this warning.\n",
      "Lossy conversion from uint16 to uint8. Losing 8 bits of resolution. Convert image to uint8 prior to saving to suppress this warning.\n",
      "Lossy conversion from uint16 to uint8. Losing 8 bits of resolution. Convert image to uint8 prior to saving to suppress this warning.\n",
      "Lossy conversion from uint16 to uint8. Losing 8 bits of resolution. Convert image to uint8 prior to saving to suppress this warning.\n",
      "Lossy conversion from uint16 to uint8. Losing 8 bits of resolution. Convert image to uint8 prior to saving to suppress this warning.\n",
      "Lossy conversion from uint16 to uint8. Losing 8 bits of resolution. Convert image to uint8 prior to saving to suppress this warning.\n",
      "Lossy conversion from uint16 to uint8. Losing 8 bits of resolution. Convert image to uint8 prior to saving to suppress this warning.\n",
      "Lossy conversion from uint16 to uint8. Losing 8 bits of resolution. Convert image to uint8 prior to saving to suppress this warning.\n",
      "Lossy conversion from uint16 to uint8. Losing 8 bits of resolution. Convert image to uint8 prior to saving to suppress this warning.\n",
      "Lossy conversion from uint16 to uint8. Losing 8 bits of resolution. Convert image to uint8 prior to saving to suppress this warning.\n",
      "Lossy conversion from uint16 to uint8. Losing 8 bits of resolution. Convert image to uint8 prior to saving to suppress this warning.\n",
      "Lossy conversion from uint16 to uint8. Losing 8 bits of resolution. Convert image to uint8 prior to saving to suppress this warning.\n"
     ]
    },
    {
     "data": {
      "text/html": [
       "<video src=\"fragment_crop.mp4\" controls  width=\"256\"  height=\"256\">\n",
       "      Your browser does not support the <code>video</code> element.\n",
       "    </video>"
      ],
      "text/plain": [
       "<IPython.core.display.Video object>"
      ]
     },
     "execution_count": 5,
     "metadata": {},
     "output_type": "execute_result"
    }
   ],
   "source": [
    "fragment = FRAGMENTS_ZARR[\"1\"]\n",
    "x, y = 2000, 2000\n",
    "\n",
    "fragment_cropped = fragment.surface_volume[y:y+CROP_SIZE, x:x+CROP_SIZE, Z_START:Z_START+Z_DIMS]\n",
    "imageio.mimwrite(\"fragment_crop.mp4\", fragment_cropped.transpose(2, 0, 1), \"ffmpeg\")\n",
    "Video(\"fragment_crop.mp4\", height=256, width=256)"
   ]
  },
  {
   "cell_type": "code",
   "execution_count": 6,
   "id": "46203a93",
   "metadata": {
    "execution": {
     "iopub.execute_input": "2023-05-22T21:48:11.633193Z",
     "iopub.status.busy": "2023-05-22T21:48:11.633109Z",
     "iopub.status.idle": "2023-05-22T21:48:11.674194Z",
     "shell.execute_reply": "2023-05-22T21:48:11.674004Z"
    },
    "papermill": {
     "duration": 0.258785,
     "end_time": "2023-04-08T10:12:11.368608",
     "exception": false,
     "start_time": "2023-04-08T10:12:11.109823",
     "status": "completed"
    },
    "tags": []
   },
   "outputs": [
    {
     "data": {
      "image/png": "[encoded data removed]",
      "text/plain": [
       "<Figure size 600x300 with 2 Axes>"
      ]
     },
     "metadata": {},
     "output_type": "display_data"
    }
   ],
   "source": [
    "mask_cropped = fragment.truth[y:y+CROP_SIZE, x:x+CROP_SIZE]\n",
    "ir_cropped = fragment.infrared[y:y+CROP_SIZE, x:x+CROP_SIZE]\n",
    "\n",
    "plt.figure(figsize=(6, 3))\n",
    "plt.subplot(1, 2, 1)\n",
    "plt.imshow(mask_cropped, cmap=\"gray\")\n",
    "plt.axis(\"off\")\n",
    "\n",
    "plt.subplot(1, 2, 2)\n",
    "plt.imshow(ir_cropped, cmap=\"gray\")\n",
    "plt.axis(\"off\")\n",
    "plt.show()"
   ]
  },
  {
   "cell_type": "code",
   "execution_count": 7,
   "id": "6462d25d",
   "metadata": {
    "execution": {
     "iopub.execute_input": "2023-05-22T21:48:11.675262Z",
     "iopub.status.busy": "2023-05-22T21:48:11.675188Z",
     "iopub.status.idle": "2023-05-22T21:48:11.723551Z",
     "shell.execute_reply": "2023-05-22T21:48:11.723351Z"
    },
    "papermill": {
     "duration": 0.17287,
     "end_time": "2023-04-08T10:12:11.562933",
     "exception": false,
     "start_time": "2023-04-08T10:12:11.390063",
     "status": "completed"
    },
    "tags": []
   },
   "outputs": [
    {
     "data": {
      "text/plain": [
       "4093"
      ]
     },
     "execution_count": 7,
     "metadata": {},
     "output_type": "execute_result"
    }
   ],
   "source": [
    "del fragment, fragment_cropped, mask_cropped, ir_cropped\n",
    "gc.collect()"
   ]
  },
  {
   "attachments": {},
   "cell_type": "markdown",
   "id": "ff9cd3e8",
   "metadata": {
    "papermill": {
     "duration": 0.008474,
     "end_time": "2023-04-08T10:12:11.580070",
     "exception": false,
     "start_time": "2023-04-08T10:12:11.571596",
     "status": "completed"
    },
    "tags": []
   },
   "source": [
    "### Dataloaders"
   ]
  },
  {
   "cell_type": "code",
   "execution_count": 8,
   "id": "162ec4e8",
   "metadata": {
    "execution": {
     "iopub.execute_input": "2023-05-22T21:48:11.724822Z",
     "iopub.status.busy": "2023-05-22T21:48:11.724722Z",
     "iopub.status.idle": "2023-05-22T21:48:11.726592Z",
     "shell.execute_reply": "2023-05-22T21:48:11.726420Z"
    },
    "papermill": {
     "duration": 0.024571,
     "end_time": "2023-04-08T10:12:11.612905",
     "exception": false,
     "start_time": "2023-04-08T10:12:11.588334",
     "status": "completed"
    },
    "tags": []
   },
   "outputs": [],
   "source": [
    "# import albumentations as A\n",
    "# from albumentations.pytorch import ToTensorV2\n",
    "\n",
    "# class VesuviusTrain(Dataset):\n",
    "#     def __init__(self, fragments):\n",
    "#         self.fragments = fragments\n",
    "#         self.xys = []\n",
    "        \n",
    "#         for fragment in fragments:\n",
    "#             H, W = FRAGMENTS_SHAPE[fragment]\n",
    "#             for y in range(0, H-CROP_SIZE+1, CROP_SIZE):\n",
    "#                 for x in range(0, W-CROP_SIZE+1, CROP_SIZE):\n",
    "#                     self.xys.append((fragment, x, y, W, H))\n",
    "        \n",
    "#         train_aug_list = [\n",
    "#                 # A.RandomResizedCrop(\n",
    "#                 #     size, size, scale=(0.85, 1.0)),\n",
    "#                 A.HorizontalFlip(p=0.5),\n",
    "#                 A.VerticalFlip(p=0.5),\n",
    "#                 A.RandomBrightnessContrast(p=0.75),\n",
    "#                 A.CoarseDropout(max_holes=1, max_width=int(CROP_SIZE * 0.1), max_height=int(size * 0.1), \n",
    "#                                 mask_fill_value=0, p=0.5),\n",
    "#                 A.ShiftScaleRotate(p=0.75),\n",
    "#                 A.Rotate(limit=90, p=0.9), \n",
    "#                 A.OneOf([\n",
    "#                         A.GaussNoise(var_limit=[10, 50]),\n",
    "#                         A.GaussianBlur(),\n",
    "#                         A.MotionBlur(),\n",
    "#                         ], p=0.4),\n",
    "#                 A.GridDistortion(num_steps=1, distort_limit=0.3, p=0.5),\n",
    "                \n",
    "#                 A.Cutout(max_h_size=int(size * 0.6),\n",
    "#                          max_w_size=int(size * 0.6), num_holes=1, p=1.0),\n",
    "#                 A.Normalize(\n",
    "#                     mean= [0] * Z_DIMS,\n",
    "#                     std= [1] * Z_DIMS\n",
    "#                 ),\n",
    "#                 ToTensorV2(transpose_mask=True),\n",
    "#             ]\n",
    "        \n",
    "        \n",
    "        \n",
    "#     def __getitem__(self, i):\n",
    "#         fragment, x1, y1, W, H = self.xys[i]\n",
    "#         z1, z2 = Z_START, Z_START+Z_DIMS\n",
    "        \n",
    "#         x_offset = random.randint(-32 if x1 != 0 else 0, 32)\n",
    "#         y_offset = random.randint(-32 if y1 != 0 else 0, 32)\n",
    "        \n",
    "#         x1 += x_offset\n",
    "#         y1 += y_offset\n",
    "        \n",
    "#         x2 = x1 + CROP_SIZE\n",
    "#         y2 = y1 + CROP_SIZE\n",
    "        \n",
    "#         if x2 > W:\n",
    "#             x1 -= x_offset\n",
    "#             x2 -= x_offset\n",
    "            \n",
    "#         if y2 > H:\n",
    "#             y1 -= y_offset\n",
    "#             y2 -= y_offset\n",
    "        \n",
    "#         frag_crop = FRAGMENTS_ZARR[fragment].surface_volume[y1:y2, x1:x2, z1:z2]\n",
    "#         mask_crop = FRAGMENTS_ZARR[fragment].truth[y1:y2, x1:x2]\n",
    "        \n",
    "#         if random.random() > 0.5:\n",
    "#             frag_crop = np.flip(frag_crop, axis=1).copy()\n",
    "#             mask_crop = np.flip(mask_crop, axis=1).copy()\n",
    "\n",
    "#         frag_crop = torch.from_numpy(frag_crop.astype(np.float32)).unsqueeze(0).permute(0, 3, 1, 2)\n",
    "#         frag_crop = frag_crop/65535.0\n",
    "#         frag_crop = (frag_crop - 0.45)/0.225\n",
    "        \n",
    "#         mask_crop = torch.from_numpy(mask_crop.astype(np.float32)).unsqueeze(0)\n",
    "        \n",
    "        \n",
    "        \n",
    "        \n",
    "        \n",
    "        \n",
    "        \n",
    "        \n",
    "#         return frag_crop, mask_crop\n",
    "\n",
    "#     def __len__(self):\n",
    "#         return len(self.xys)"
   ]
  },
  {
   "cell_type": "code",
   "execution_count": 9,
   "id": "c2c0c6d5",
   "metadata": {
    "execution": {
     "iopub.execute_input": "2023-05-22T21:48:11.727720Z",
     "iopub.status.busy": "2023-05-22T21:48:11.727650Z",
     "iopub.status.idle": "2023-05-22T21:48:12.094903Z",
     "shell.execute_reply": "2023-05-22T21:48:12.094451Z"
    }
   },
   "outputs": [],
   "source": [
    "import albumentations as A\n",
    "from albumentations.pytorch import ToTensorV2\n",
    "\n",
    "class VesuviusTrain(Dataset):\n",
    "    def __init__(self, fragments):\n",
    "        self.fragments = fragments\n",
    "        self.xys = []\n",
    "        \n",
    "        for fragment in fragments:\n",
    "            H, W = FRAGMENTS_SHAPE[fragment]\n",
    "            for y in range(0, H-CROP_SIZE+1, CROP_SIZE):\n",
    "                for x in range(0, W-CROP_SIZE+1, CROP_SIZE):\n",
    "                    surface = FRAGMENTS_ZARR[fragment].surface_volume[y:y+CROP_SIZE, x:x+CROP_SIZE, 0]\n",
    "                    if np.sum(surface) / (CROP_SIZE * CROP_SIZE) > 0.2:\n",
    "                        self.xys.append((fragment, x, y, W, H))\n",
    "        \n",
    "        self.train_aug_list = [\n",
    "                # A.RandomResizedCrop(\n",
    "                #     size, size, scale=(0.85, 1.0)),\n",
    "                \n",
    "                A.HorizontalFlip(p=0.5),\n",
    "                A.VerticalFlip(p=0.5),\n",
    "                \n",
    "                # A.RandomBrightnessContrast(p=0.75),\n",
    "                A.CoarseDropout(max_holes=1, max_width=int(CROP_SIZE * 0.1), max_height=int(CROP_SIZE * 0.1), \n",
    "                                mask_fill_value=0, p=0.5),\n",
    "                # A.ShiftScaleRotate(p=0.75),\n",
    "                \n",
    "                A.Rotate(limit=90, p=0.9), \n",
    "                \n",
    "                # A.OneOf([\n",
    "                #         A.GaussNoise(var_limit=[0.01, 0.05]),\n",
    "                #         A.GaussianBlur(blur_limit=(3, 5), sigma_limit=0),\n",
    "                #         A.MotionBlur(blur_limit=3),\n",
    "                #         ], p=0.8),\n",
    "                # A.GridDistortion(num_steps=1, distort_limit=0.1, p=0.5),\n",
    "                # A.MultiplicativeNoise(per_channel=True, multiplier=(0.95, 1.05)),\n",
    "                \n",
    "                # A.Cutout(max_h_size=int(CROP_SIZE * 0.2),\n",
    "                #          max_w_size=int(CROP_SIZE * 0.2), num_holes=1, p=1.0),\n",
    "                \n",
    "                ToTensorV2(transpose_mask=True),\n",
    "            ]\n",
    "        \n",
    "        # Create the augmentation pipeline\n",
    "        self.augmentations = A.Compose(self.train_aug_list)\n",
    "        \n",
    "        \n",
    "        \n",
    "    def __getitem__(self, i):\n",
    "        fragment, x1, y1, W, H = self.xys[i]\n",
    "        z1, z2 = Z_START, Z_START+Z_DIMS\n",
    "        \n",
    "        x_offset = random.randint(-128 if x1 != 0 else 0, 128)\n",
    "        y_offset = random.randint(-128 if y1 != 0 else 0, 128)\n",
    "        \n",
    "        x1 += x_offset\n",
    "        y1 += y_offset\n",
    "        \n",
    "        x2 = x1 + CROP_SIZE\n",
    "        y2 = y1 + CROP_SIZE\n",
    "        \n",
    "        if x2 > W:\n",
    "            x1 -= x_offset\n",
    "            x2 -= x_offset\n",
    "            \n",
    "        if y2 > H:\n",
    "            y1 -= y_offset\n",
    "            y2 -= y_offset\n",
    "        \n",
    "        frag_crop = FRAGMENTS_ZARR[fragment].surface_volume[y1:y2, x1:x2, z1:z2]\n",
    "        mask_crop = FRAGMENTS_ZARR[fragment].truth[y1:y2, x1:x2]\n",
    "        \n",
    "        # if random.random() > 0.5:\n",
    "        #     frag_crop = np.flip(frag_crop, axis=1).copy()\n",
    "        #     mask_crop = np.flip(mask_crop, axis=1).copy()\n",
    "\n",
    "        # Perform train augmentations\n",
    "\n",
    "        frag_crop = frag_crop/65535.0\n",
    "        \n",
    "        \n",
    "        # Apply the augmentations\n",
    "        augmented = self.augmentations(image=frag_crop, mask=mask_crop)\n",
    "\n",
    "        # Separate the image and mask\n",
    "        frag_crop, mask_crop = augmented[\"image\"], augmented[\"mask\"]\n",
    "\n",
    "        # normalize\n",
    "        \n",
    "        # frag_crop = (frag_crop - 0.45)/0.225\n",
    "        \n",
    "        frag_crop = frag_crop.unsqueeze(0) \n",
    "        mask_crop = mask_crop.float().unsqueeze(0)\n",
    "        \n",
    "        \n",
    "        return frag_crop, mask_crop\n",
    "\n",
    "    def __len__(self):\n",
    "        return len(self.xys)"
   ]
  },
  {
   "cell_type": "code",
   "execution_count": 10,
   "id": "f172c2ad",
   "metadata": {
    "execution": {
     "iopub.execute_input": "2023-05-22T21:48:12.096548Z",
     "iopub.status.busy": "2023-05-22T21:48:12.096359Z",
     "iopub.status.idle": "2023-05-22T21:48:12.099886Z",
     "shell.execute_reply": "2023-05-22T21:48:12.099687Z"
    },
    "papermill": {
     "duration": 0.022963,
     "end_time": "2023-04-08T10:12:11.644387",
     "exception": false,
     "start_time": "2023-04-08T10:12:11.621424",
     "status": "completed"
    },
    "tags": []
   },
   "outputs": [],
   "source": [
    "class VesuviusVal(Dataset):\n",
    "    def __init__(self, fragment):\n",
    "        self.fragment = FRAGMENTS_ZARR[fragment]\n",
    "        self.xys = []\n",
    "        \n",
    "        H, W = FRAGMENTS_SHAPE[fragment]\n",
    "        for y in range(0, H-CROP_SIZE+1, CROP_SIZE):\n",
    "            for x in range(0, W-CROP_SIZE+1, CROP_SIZE):\n",
    "                self.xys.append((x, y))\n",
    "                \n",
    "    def __getitem__(self, i):\n",
    "        x1, y1 = self.xys[i]\n",
    "        x2, y2 = x1+CROP_SIZE, y1+CROP_SIZE\n",
    "        z1, z2 = Z_START, Z_START+Z_DIMS\n",
    "        \n",
    "        frag_crop = self.fragment.surface_volume[y1:y2, x1:x2, z1:z2]\n",
    "        mask_crop = self.fragment.truth[y1:y2, x1:x2]\n",
    "\n",
    "        frag_crop = torch.from_numpy(frag_crop.astype(np.float32)).unsqueeze(0).permute(0, 3, 1, 2)\n",
    "        frag_crop = frag_crop/65535.0\n",
    "        # frag_crop = (frag_crop - 0.45)/0.225\n",
    "        \n",
    "        mask_crop = torch.from_numpy(mask_crop.astype(np.float32)).unsqueeze(0)\n",
    "        return frag_crop, mask_crop, torch.tensor([x1, y1, x2, y2], dtype=torch.int32)\n",
    "\n",
    "    def __len__(self):\n",
    "        return len(self.xys)"
   ]
  },
  {
   "cell_type": "code",
   "execution_count": 11,
   "id": "4282f924",
   "metadata": {
    "execution": {
     "iopub.execute_input": "2023-05-22T21:48:12.100937Z",
     "iopub.status.busy": "2023-05-22T21:48:12.100849Z",
     "iopub.status.idle": "2023-05-22T21:48:18.043747Z",
     "shell.execute_reply": "2023-05-22T21:48:18.043470Z"
    },
    "papermill": {
     "duration": 0.019671,
     "end_time": "2023-04-08T10:12:11.672490",
     "exception": false,
     "start_time": "2023-04-08T10:12:11.652819",
     "status": "completed"
    },
    "tags": []
   },
   "outputs": [],
   "source": [
    "dataset_train = VesuviusTrain(TRAIN_FRAGMENTS)\n",
    "dataloader_train = DataLoader(dataset_train, batch_size=BATCH_SIZE, num_workers=2,\n",
    "                              shuffle=True, pin_memory=True, drop_last=True)\n",
    "n_train = len(dataloader_train)\n",
    "\n",
    "dataset_valid = VesuviusVal(TEST_FRAGMENT)\n",
    "dataloader_valid = DataLoader(dataset_valid, batch_size=BATCH_SIZE, num_workers=2,\n",
    "                              shuffle=False, pin_memory=True, drop_last=False)\n",
    "n_valid = len(dataloader_valid)"
   ]
  },
  {
   "cell_type": "code",
   "execution_count": 12,
   "id": "0577f1a6",
   "metadata": {
    "execution": {
     "iopub.execute_input": "2023-05-22T21:48:18.045093Z",
     "iopub.status.busy": "2023-05-22T21:48:18.044963Z",
     "iopub.status.idle": "2023-05-22T21:48:18.060995Z",
     "shell.execute_reply": "2023-05-22T21:48:18.060766Z"
    }
   },
   "outputs": [
    {
     "data": {
      "text/plain": [
       "(tensor(0., dtype=torch.float64), tensor(1., dtype=torch.float64))"
      ]
     },
     "execution_count": 12,
     "metadata": {},
     "output_type": "execute_result"
    }
   ],
   "source": [
    "i = random.randint(0, len(dataset_train))\n",
    "i=30\n",
    "img = dataset_train[i][0]\n",
    "img.min(), img.max()"
   ]
  },
  {
   "cell_type": "code",
   "execution_count": 13,
   "id": "40a15748",
   "metadata": {
    "execution": {
     "iopub.execute_input": "2023-05-22T21:48:18.061996Z",
     "iopub.status.busy": "2023-05-22T21:48:18.061875Z",
     "iopub.status.idle": "2023-05-22T21:48:18.142970Z",
     "shell.execute_reply": "2023-05-22T21:48:18.142648Z"
    }
   },
   "outputs": [
    {
     "data": {
      "text/plain": [
       "<matplotlib.image.AxesImage at 0x7fe4063a10d0>"
      ]
     },
     "execution_count": 13,
     "metadata": {},
     "output_type": "execute_result"
    },
    {
     "data": {
      "image/png": "[encoded data removed]",
      "text/plain": [
       "<Figure size 640x480 with 1 Axes>"
      ]
     },
     "metadata": {},
     "output_type": "display_data"
    }
   ],
   "source": [
    "img_2 = img.squeeze(0).permute(1, 2, 0).numpy()\n",
    "plt.imshow(img_2[:, :, 0], cmap=\"gray\")"
   ]
  },
  {
   "cell_type": "code",
   "execution_count": null,
   "id": "e07b120a",
   "metadata": {},
   "outputs": [],
   "source": []
  },
  {
   "cell_type": "code",
   "execution_count": null,
   "id": "a792af0c",
   "metadata": {},
   "outputs": [],
   "source": []
  },
  {
   "attachments": {},
   "cell_type": "markdown",
   "id": "cdcc7e0b",
   "metadata": {
    "papermill": {
     "duration": 0.008028,
     "end_time": "2023-04-08T10:12:11.688860",
     "exception": false,
     "start_time": "2023-04-08T10:12:11.680832",
     "status": "completed"
    },
    "tags": []
   },
   "source": [
    "### Model\n",
    "* Encoder is a 3D ResNet model. The architecture has been modified to remove temporal downsampling between blocks.\n",
    "* A 2D decoder is used for predicting the segmentation map.\n",
    "* The encoder feature maps are average pooled over the Z dimension before passing it to the decoder."
   ]
  },
  {
   "cell_type": "code",
   "execution_count": 14,
   "id": "ff7cc8a3",
   "metadata": {
    "execution": {
     "iopub.execute_input": "2023-05-22T21:48:18.144163Z",
     "iopub.status.busy": "2023-05-22T21:48:18.144029Z",
     "iopub.status.idle": "2023-05-22T21:48:18.147917Z",
     "shell.execute_reply": "2023-05-22T21:48:18.147706Z"
    },
    "papermill": {
     "duration": 0.023714,
     "end_time": "2023-04-08T10:12:11.721140",
     "exception": false,
     "start_time": "2023-04-08T10:12:11.697426",
     "status": "completed"
    },
    "tags": []
   },
   "outputs": [],
   "source": [
    "class Decoder(nn.Module):\n",
    "    def __init__(self, encoder_dims, upscale):\n",
    "        super().__init__()\n",
    "        self.convs = nn.ModuleList([\n",
    "            nn.Sequential(\n",
    "                nn.Conv2d(encoder_dims[i]+encoder_dims[i-1], encoder_dims[i-1], 3, 1, 1, bias=False),\n",
    "                nn.BatchNorm2d(encoder_dims[i-1]),\n",
    "                nn.ReLU(inplace=True)\n",
    "            ) for i in range(1, len(encoder_dims))])\n",
    "\n",
    "        self.logit = nn.Conv2d(encoder_dims[0], 1, 1, 1, 0)\n",
    "        self.up = nn.Upsample(scale_factor=upscale, mode=\"bilinear\")\n",
    "\n",
    "    def forward(self, feature_maps):\n",
    "        for i in range(len(feature_maps)-1, 0, -1):\n",
    "            f_up = F.interpolate(feature_maps[i], scale_factor=2, mode=\"bilinear\")\n",
    "            f = torch.cat([feature_maps[i-1], f_up], dim=1)\n",
    "            f_down = self.convs[i-1](f)\n",
    "            feature_maps[i-1] = f_down\n",
    "\n",
    "        x = self.logit(feature_maps[0])\n",
    "        mask = self.up(x)\n",
    "        return mask\n",
    "\n",
    "\n",
    "class SegModel(nn.Module):\n",
    "    def __init__(self):\n",
    "        super().__init__()\n",
    "        self.encoder = generate_model(model_depth=34, n_input_channels=1)\n",
    "        self.decoder = Decoder(encoder_dims=[64, 128, 256, 512], upscale=4)\n",
    "        \n",
    "    def forward(self, x):\n",
    "        feat_maps = self.encoder(x)\n",
    "        feat_maps_pooled = [torch.mean(f, dim=2) for f in feat_maps]\n",
    "        pred_mask = self.decoder(feat_maps_pooled)\n",
    "        return pred_mask\n",
    "    \n",
    "    def load_pretrained_weights(self, state_dict):\n",
    "        # Convert 3 channel weights to single channel\n",
    "        # ref - https://timm.fast.ai/models#Case-1:-When-the-number-of-input-channels-is-1\n",
    "        conv1_weight = state_dict['conv1.weight']\n",
    "        state_dict['conv1.weight'] = conv1_weight.sum(dim=1, keepdim=True)\n",
    "        print(self.encoder.load_state_dict(state_dict, strict=False))"
   ]
  },
  {
   "cell_type": "code",
   "execution_count": 15,
   "id": "67e4a0f1",
   "metadata": {
    "execution": {
     "iopub.execute_input": "2023-05-22T21:48:18.148964Z",
     "iopub.status.busy": "2023-05-22T21:48:18.148818Z",
     "iopub.status.idle": "2023-05-22T21:48:19.463550Z",
     "shell.execute_reply": "2023-05-22T21:48:19.463078Z"
    },
    "papermill": {
     "duration": 3.891528,
     "end_time": "2023-04-08T10:12:15.621016",
     "exception": false,
     "start_time": "2023-04-08T10:12:11.729488",
     "status": "completed"
    },
    "tags": []
   },
   "outputs": [
    {
     "name": "stdout",
     "output_type": "stream",
     "text": [
      "_IncompatibleKeys(missing_keys=['layer1.2.conv1.weight', 'layer1.2.bn1.weight', 'layer1.2.bn1.bias', 'layer1.2.bn1.running_mean', 'layer1.2.bn1.running_var', 'layer1.2.conv2.weight', 'layer1.2.bn2.weight', 'layer1.2.bn2.bias', 'layer1.2.bn2.running_mean', 'layer1.2.bn2.running_var', 'layer2.2.conv1.weight', 'layer2.2.bn1.weight', 'layer2.2.bn1.bias', 'layer2.2.bn1.running_mean', 'layer2.2.bn1.running_var', 'layer2.2.conv2.weight', 'layer2.2.bn2.weight', 'layer2.2.bn2.bias', 'layer2.2.bn2.running_mean', 'layer2.2.bn2.running_var', 'layer2.3.conv1.weight', 'layer2.3.bn1.weight', 'layer2.3.bn1.bias', 'layer2.3.bn1.running_mean', 'layer2.3.bn1.running_var', 'layer2.3.conv2.weight', 'layer2.3.bn2.weight', 'layer2.3.bn2.bias', 'layer2.3.bn2.running_mean', 'layer2.3.bn2.running_var', 'layer3.2.conv1.weight', 'layer3.2.bn1.weight', 'layer3.2.bn1.bias', 'layer3.2.bn1.running_mean', 'layer3.2.bn1.running_var', 'layer3.2.conv2.weight', 'layer3.2.bn2.weight', 'layer3.2.bn2.bias', 'layer3.2.bn2.running_mean', 'layer3.2.bn2.running_var', 'layer3.3.conv1.weight', 'layer3.3.bn1.weight', 'layer3.3.bn1.bias', 'layer3.3.bn1.running_mean', 'layer3.3.bn1.running_var', 'layer3.3.conv2.weight', 'layer3.3.bn2.weight', 'layer3.3.bn2.bias', 'layer3.3.bn2.running_mean', 'layer3.3.bn2.running_var', 'layer3.4.conv1.weight', 'layer3.4.bn1.weight', 'layer3.4.bn1.bias', 'layer3.4.bn1.running_mean', 'layer3.4.bn1.running_var', 'layer3.4.conv2.weight', 'layer3.4.bn2.weight', 'layer3.4.bn2.bias', 'layer3.4.bn2.running_mean', 'layer3.4.bn2.running_var', 'layer3.5.conv1.weight', 'layer3.5.bn1.weight', 'layer3.5.bn1.bias', 'layer3.5.bn1.running_mean', 'layer3.5.bn1.running_var', 'layer3.5.conv2.weight', 'layer3.5.bn2.weight', 'layer3.5.bn2.bias', 'layer3.5.bn2.running_mean', 'layer3.5.bn2.running_var', 'layer4.2.conv1.weight', 'layer4.2.bn1.weight', 'layer4.2.bn1.bias', 'layer4.2.bn1.running_mean', 'layer4.2.bn1.running_var', 'layer4.2.conv2.weight', 'layer4.2.bn2.weight', 'layer4.2.bn2.bias', 'layer4.2.bn2.running_mean', 'layer4.2.bn2.running_var'], unexpected_keys=['fc.weight', 'fc.bias'])\n"
     ]
    }
   ],
   "source": [
    "model = SegModel()\n",
    "model.load_pretrained_weights(torch.load(\"/home/viktor/Documents/kaggle/vesuvius-challenge/experiments/3D-resnet/r3d18_K_200ep.pth\")[\"state_dict\"])\n",
    "model = nn.DataParallel(model, device_ids=[0])\n",
    "\n",
    "model = model.cuda()"
   ]
  },
  {
   "cell_type": "code",
   "execution_count": 16,
   "id": "491e9288",
   "metadata": {
    "execution": {
     "iopub.execute_input": "2023-05-22T21:48:19.465216Z",
     "iopub.status.busy": "2023-05-22T21:48:19.465081Z",
     "iopub.status.idle": "2023-05-22T21:48:20.328268Z",
     "shell.execute_reply": "2023-05-22T21:48:20.327936Z"
    }
   },
   "outputs": [
    {
     "data": {
      "text/plain": [
       "torch.Size([5, 1, 256, 256])"
      ]
     },
     "execution_count": 16,
     "metadata": {},
     "output_type": "execute_result"
    }
   ],
   "source": [
    "x = torch.randn(5, 1, 16, 256, 256).cuda()\n",
    "with torch.no_grad():\n",
    "    y = model(x)\n",
    "y.shape"
   ]
  },
  {
   "attachments": {},
   "cell_type": "markdown",
   "id": "d84d7c0e",
   "metadata": {
    "papermill": {
     "duration": 0.008816,
     "end_time": "2023-04-08T10:12:15.638951",
     "exception": false,
     "start_time": "2023-04-08T10:12:15.630135",
     "status": "completed"
    },
    "tags": []
   },
   "source": [
    "### Competition metric (F0.5 Score)"
   ]
  },
  {
   "cell_type": "code",
   "execution_count": 17,
   "id": "61dbeb5c",
   "metadata": {
    "execution": {
     "iopub.execute_input": "2023-05-22T21:48:20.329499Z",
     "iopub.status.busy": "2023-05-22T21:48:20.329400Z",
     "iopub.status.idle": "2023-05-22T21:48:20.331795Z",
     "shell.execute_reply": "2023-05-22T21:48:20.331578Z"
    },
    "papermill": {
     "duration": 0.020268,
     "end_time": "2023-04-08T10:12:15.668008",
     "exception": false,
     "start_time": "2023-04-08T10:12:15.647740",
     "status": "completed"
    },
    "tags": []
   },
   "outputs": [],
   "source": [
    "# ref - https://www.kaggle.com/competitions/vesuvius-challenge-ink-detection/discussion/397288\n",
    "def fbeta_score(preds, targets, threshold, beta=0.5, smooth=1e-5):\n",
    "    preds_t = torch.where(preds > threshold, 1.0, 0.0).float()\n",
    "    y_true_count = targets.sum()\n",
    "    \n",
    "    ctp = preds_t[targets==1].sum()\n",
    "    cfp = preds_t[targets==0].sum()\n",
    "    beta_squared = beta * beta\n",
    "\n",
    "    c_precision = ctp / (ctp + cfp + smooth)\n",
    "    c_recall = ctp / (y_true_count + smooth)\n",
    "    dice = (1 + beta_squared) * (c_precision * c_recall) / (beta_squared * c_precision + c_recall + smooth)\n",
    "\n",
    "    return dice"
   ]
  },
  {
   "attachments": {},
   "cell_type": "markdown",
   "id": "639c9148",
   "metadata": {
    "papermill": {
     "duration": 0.008498,
     "end_time": "2023-04-08T10:12:15.685205",
     "exception": false,
     "start_time": "2023-04-08T10:12:15.676707",
     "status": "completed"
    },
    "tags": []
   },
   "source": [
    "### Training"
   ]
  },
  {
   "cell_type": "code",
   "execution_count": 18,
   "id": "0cca2e6e",
   "metadata": {
    "execution": {
     "iopub.execute_input": "2023-05-22T21:48:20.332957Z",
     "iopub.status.busy": "2023-05-22T21:48:20.332794Z",
     "iopub.status.idle": "2023-05-22T21:48:20.334889Z",
     "shell.execute_reply": "2023-05-22T21:48:20.334686Z"
    },
    "papermill": {
     "duration": 0.019067,
     "end_time": "2023-04-08T10:12:15.713237",
     "exception": false,
     "start_time": "2023-04-08T10:12:15.694170",
     "status": "completed"
    },
    "tags": []
   },
   "outputs": [],
   "source": [
    "scaler = amp.GradScaler()\n",
    "criterion = nn.BCEWithLogitsLoss()\n",
    "optimizer = torch.optim.AdamW(model.parameters(), lr=LR)\n",
    "scheduler = torch.optim.lr_scheduler.OneCycleLR(optimizer, max_lr=LR,\n",
    "                                                steps_per_epoch=10, epochs=EPOCHS//10,\n",
    "                                                pct_start=0.1)"
   ]
  },
  {
   "cell_type": "code",
   "execution_count": 19,
   "id": "7304e1fd",
   "metadata": {
    "execution": {
     "iopub.execute_input": "2023-05-22T21:48:20.335913Z",
     "iopub.status.busy": "2023-05-22T21:48:20.335799Z",
     "iopub.status.idle": "2023-05-22T21:48:20.366089Z",
     "shell.execute_reply": "2023-05-22T21:48:20.365822Z"
    },
    "papermill": {
     "duration": 0.385175,
     "end_time": "2023-04-08T10:12:16.107159",
     "exception": false,
     "start_time": "2023-04-08T10:12:15.721984",
     "status": "completed"
    },
    "tags": []
   },
   "outputs": [],
   "source": [
    "gt_mask = torch.from_numpy(np.asarray(FRAGMENTS_ZARR[TEST_FRAGMENT].truth)).float().cuda()\n",
    "gt_shape = FRAGMENTS_SHAPE[TEST_FRAGMENT]"
   ]
  },
  {
   "cell_type": "code",
   "execution_count": 20,
   "id": "c0b85bf1",
   "metadata": {
    "execution": {
     "iopub.execute_input": "2023-05-22T21:48:20.367511Z",
     "iopub.status.busy": "2023-05-22T21:48:20.367362Z",
     "iopub.status.idle": "2023-05-22T21:48:20.369220Z",
     "shell.execute_reply": "2023-05-22T21:48:20.369012Z"
    }
   },
   "outputs": [],
   "source": [
    "import logging\n",
    "\n",
    "logging.basicConfig(filename=\"training_log.txt\", level=logging.INFO)\n"
   ]
  },
  {
   "cell_type": "code",
   "execution_count": 21,
   "id": "00067c9c",
   "metadata": {
    "execution": {
     "iopub.execute_input": "2023-05-22T21:48:20.370422Z",
     "iopub.status.busy": "2023-05-22T21:48:20.370276Z",
     "iopub.status.idle": "2023-05-22T22:41:47.381601Z",
     "shell.execute_reply": "2023-05-22T22:41:47.381177Z"
    },
    "papermill": {
     "duration": 4077.588277,
     "end_time": "2023-04-08T11:20:13.706513",
     "exception": false,
     "start_time": "2023-04-08T10:12:16.118236",
     "status": "completed"
    },
    "tags": []
   },
   "outputs": [
    {
     "name": "stderr",
     "output_type": "stream",
     "text": [
      "Epoch 1/70  Mem : 17.4GB  LR : 4.00E-06  Loss: 0.7242: 100%|██████████| 64/64 [00:40<00:00,  1.60it/s]                                                                                                                                                                         \n",
      "Val Loss: 0.6435: 100%|██████████| 19/19 [00:05<00:00,  3.29it/s]                                                                                                                                                                                                              \n"
     ]
    },
    {
     "name": "stdout",
     "output_type": "stream",
     "text": [
      "Threshold : 0.20\tFBeta : 0.102723\n",
      "Threshold : 0.25\tFBeta : 0.103443\n",
      "Threshold : 0.30\tFBeta : 0.104893\n",
      "Threshold : 0.35\tFBeta : 0.108259\n",
      "Threshold : 0.40\tFBeta : 0.114120\n",
      "Threshold : 0.45\tFBeta : 0.119880\n",
      "Threshold : 0.50\tFBeta : 0.117230\n",
      "Threshold : 0.55\tFBeta : 0.057474\n",
      "Threshold : 0.60\tFBeta : 0.004515\n",
      "Threshold : 0.65\tFBeta : 0.000071\n",
      "Threshold : 0.70\tFBeta : 0.000000\n",
      "Threshold : 0.75\tFBeta : 0.000000\n",
      "Threshold : 0.80\tFBeta : 0.000000\n",
      "\n"
     ]
    },
    {
     "name": "stderr",
     "output_type": "stream",
     "text": [
      "Epoch 2/70  Mem : 21.8GB  LR : 1.04E-05  Loss: 0.6251: 100%|██████████| 64/64 [00:39<00:00,  1.64it/s]                                                                                                                                                                         \n",
      "Val Loss: 0.5558: 100%|██████████| 19/19 [00:05<00:00,  3.25it/s]                                                                                                                                                                                                              \n"
     ]
    },
    {
     "name": "stdout",
     "output_type": "stream",
     "text": [
      "Threshold : 0.20\tFBeta : 0.107264\n",
      "Threshold : 0.25\tFBeta : 0.114192\n",
      "Threshold : 0.30\tFBeta : 0.123478\n",
      "Threshold : 0.35\tFBeta : 0.132802\n",
      "Threshold : 0.40\tFBeta : 0.141596\n",
      "Threshold : 0.45\tFBeta : 0.143208\n",
      "Threshold : 0.50\tFBeta : 0.086713\n",
      "Threshold : 0.55\tFBeta : 0.006810\n",
      "Threshold : 0.60\tFBeta : 0.000014\n",
      "Threshold : 0.65\tFBeta : 0.000000\n",
      "Threshold : 0.70\tFBeta : 0.000000\n",
      "Threshold : 0.75\tFBeta : 0.000000\n",
      "Threshold : 0.80\tFBeta : 0.000000\n",
      "\n"
     ]
    },
    {
     "name": "stderr",
     "output_type": "stream",
     "text": [
      "Epoch 3/70  Mem : 21.8GB  LR : 2.80E-05  Loss: 0.5508: 100%|██████████| 64/64 [00:39<00:00,  1.63it/s]                                                                                                                                                                         \n",
      "Val Loss: 13.6519: 100%|██████████| 19/19 [00:05<00:00,  3.31it/s]                                                                                                                                                                                                             "
     ]
    },
    {
     "name": "stdout",
     "output_type": "stream",
     "text": [
      "Threshold : 0.20\tFBeta : 0.104151\n",
      "Threshold : 0.25\tFBeta : 0.105860\n",
      "Threshold : 0.30\tFBeta : 0.107723\n",
      "Threshold : 0.35\tFBeta : 0.100461\n",
      "Threshold : 0.40\tFBeta : 0.074406\n",
      "Threshold : 0.45\tFBeta : 0.032919\n",
      "Threshold : 0.50\tFBeta : 0.013023\n",
      "Threshold : 0.55\tFBeta : 0.006533\n",
      "Threshold : 0.60\tFBeta : 0.004660\n",
      "Threshold : 0.65\tFBeta : 0.003193\n",
      "Threshold : 0.70\tFBeta : 0.002330\n",
      "Threshold : 0.75\tFBeta : 0.001283\n",
      "Threshold : 0.80\tFBeta : 0.000255\n",
      "\n"
     ]
    },
    {
     "name": "stderr",
     "output_type": "stream",
     "text": [
      "\n",
      "Epoch 4/70  Mem : 21.8GB  LR : 5.20E-05  Loss: 0.5148: 100%|██████████| 64/64 [00:39<00:00,  1.62it/s]                                                                                                                                                                         \n",
      "Val Loss: 0.4340: 100%|██████████| 19/19 [00:05<00:00,  3.28it/s]                                                                                                                                                                                                              \n"
     ]
    },
    {
     "name": "stdout",
     "output_type": "stream",
     "text": [
      "Threshold : 0.20\tFBeta : 0.103067\n",
      "Threshold : 0.25\tFBeta : 0.110072\n",
      "Threshold : 0.30\tFBeta : 0.139616\n",
      "Threshold : 0.35\tFBeta : 0.185554\n",
      "Threshold : 0.40\tFBeta : 0.215438\n",
      "Threshold : 0.45\tFBeta : 0.220431\n",
      "Threshold : 0.50\tFBeta : 0.055060\n",
      "Threshold : 0.55\tFBeta : 0.000000\n",
      "Threshold : 0.60\tFBeta : 0.000000\n",
      "Threshold : 0.65\tFBeta : 0.000000\n",
      "Threshold : 0.70\tFBeta : 0.000000\n",
      "Threshold : 0.75\tFBeta : 0.000000\n",
      "Threshold : 0.80\tFBeta : 0.000000\n",
      "\n"
     ]
    },
    {
     "name": "stderr",
     "output_type": "stream",
     "text": [
      "Epoch 5/70  Mem : 21.8GB  LR : 7.60E-05  Loss: 0.4901: 100%|██████████| 64/64 [00:39<00:00,  1.61it/s]                                                                                                                                                                         \n",
      "Val Loss: 0.3469: 100%|██████████| 19/19 [00:05<00:00,  3.27it/s]                                                                                                                                                                                                              \n"
     ]
    },
    {
     "name": "stdout",
     "output_type": "stream",
     "text": [
      "Threshold : 0.20\tFBeta : 0.162884\n",
      "Threshold : 0.25\tFBeta : 0.171442\n",
      "Threshold : 0.30\tFBeta : 0.189517\n",
      "Threshold : 0.35\tFBeta : 0.221840\n",
      "Threshold : 0.40\tFBeta : 0.235029\n",
      "Threshold : 0.45\tFBeta : 0.247518\n",
      "Threshold : 0.50\tFBeta : 0.038230\n",
      "Threshold : 0.55\tFBeta : 0.000000\n",
      "Threshold : 0.60\tFBeta : 0.000000\n",
      "Threshold : 0.65\tFBeta : 0.000000\n",
      "Threshold : 0.70\tFBeta : 0.000000\n",
      "Threshold : 0.75\tFBeta : 0.000000\n",
      "Threshold : 0.80\tFBeta : 0.000000\n",
      "\n"
     ]
    },
    {
     "name": "stderr",
     "output_type": "stream",
     "text": [
      "Epoch 6/70  Mem : 21.8GB  LR : 9.36E-05  Loss: 0.4751: 100%|██████████| 64/64 [00:39<00:00,  1.61it/s]                                                                                                                                                                         \n",
      "Val Loss: 0.4064: 100%|██████████| 19/19 [00:05<00:00,  3.29it/s]                                                                                                                                                                                                              "
     ]
    },
    {
     "name": "stdout",
     "output_type": "stream",
     "text": [
      "Threshold : 0.20\tFBeta : 0.131467\n",
      "Threshold : 0.25\tFBeta : 0.162745\n",
      "Threshold : 0.30\tFBeta : 0.180268\n",
      "Threshold : 0.35\tFBeta : 0.195583\n",
      "Threshold : 0.40\tFBeta : 0.204504\n",
      "Threshold : 0.45\tFBeta : 0.229847\n",
      "Threshold : 0.50\tFBeta : 0.060729\n",
      "Threshold : 0.55\tFBeta : 0.000000\n",
      "Threshold : 0.60\tFBeta : 0.000000\n",
      "Threshold : 0.65\tFBeta : 0.000000\n",
      "Threshold : 0.70\tFBeta : 0.000000\n",
      "Threshold : 0.75\tFBeta : 0.000000\n",
      "Threshold : 0.80\tFBeta : 0.000000\n",
      "\n"
     ]
    },
    {
     "name": "stderr",
     "output_type": "stream",
     "text": [
      "\n",
      "Epoch 7/70  Mem : 21.8GB  LR : 1.00E-04  Loss: 0.4608: 100%|██████████| 64/64 [00:39<00:00,  1.63it/s]                                                                                                                                                                         \n",
      "Val Loss: 0.3455: 100%|██████████| 19/19 [00:05<00:00,  3.28it/s]                                                                                                                                                                                                              \n"
     ]
    },
    {
     "name": "stdout",
     "output_type": "stream",
     "text": [
      "Threshold : 0.20\tFBeta : 0.162317\n",
      "Threshold : 0.25\tFBeta : 0.182397\n",
      "Threshold : 0.30\tFBeta : 0.213475\n",
      "Threshold : 0.35\tFBeta : 0.232783\n",
      "Threshold : 0.40\tFBeta : 0.249195\n",
      "Threshold : 0.45\tFBeta : 0.277064\n",
      "Threshold : 0.50\tFBeta : 0.270222\n",
      "Threshold : 0.55\tFBeta : 0.000000\n",
      "Threshold : 0.60\tFBeta : 0.000000\n",
      "Threshold : 0.65\tFBeta : 0.000000\n",
      "Threshold : 0.70\tFBeta : 0.000000\n",
      "Threshold : 0.75\tFBeta : 0.000000\n",
      "Threshold : 0.80\tFBeta : 0.000000\n",
      "\n"
     ]
    },
    {
     "name": "stderr",
     "output_type": "stream",
     "text": [
      "Epoch 8/70  Mem : 21.8GB  LR : 9.99E-05  Loss: 0.4552: 100%|██████████| 64/64 [00:39<00:00,  1.61it/s]                                                                                                                                                                         \n",
      "Val Loss: 0.4031: 100%|██████████| 19/19 [00:05<00:00,  3.28it/s]                                                                                                                                                                                                              "
     ]
    },
    {
     "name": "stdout",
     "output_type": "stream",
     "text": [
      "Threshold : 0.20\tFBeta : 0.157200\n",
      "Threshold : 0.25\tFBeta : 0.161245\n",
      "Threshold : 0.30\tFBeta : 0.167919\n",
      "Threshold : 0.35\tFBeta : 0.174522\n",
      "Threshold : 0.40\tFBeta : 0.198852\n",
      "Threshold : 0.45\tFBeta : 0.242079\n",
      "Threshold : 0.50\tFBeta : 0.222478\n",
      "Threshold : 0.55\tFBeta : 0.002350\n",
      "Threshold : 0.60\tFBeta : 0.000000\n",
      "Threshold : 0.65\tFBeta : 0.000000\n",
      "Threshold : 0.70\tFBeta : 0.000000\n",
      "Threshold : 0.75\tFBeta : 0.000000\n",
      "Threshold : 0.80\tFBeta : 0.000000\n",
      "\n"
     ]
    },
    {
     "name": "stderr",
     "output_type": "stream",
     "text": [
      "\n",
      "Epoch 9/70  Mem : 21.8GB  LR : 9.98E-05  Loss: 0.4342: 100%|██████████| 64/64 [00:39<00:00,  1.62it/s]                                                                                                                                                                         \n",
      "Val Loss: 0.2793: 100%|██████████| 19/19 [00:05<00:00,  3.29it/s]                                                                                                                                                                                                              \n"
     ]
    },
    {
     "name": "stdout",
     "output_type": "stream",
     "text": [
      "Threshold : 0.20\tFBeta : 0.227775\n",
      "Threshold : 0.25\tFBeta : 0.294599\n",
      "Threshold : 0.30\tFBeta : 0.342951\n",
      "Threshold : 0.35\tFBeta : 0.359073\n",
      "Threshold : 0.40\tFBeta : 0.357095\n",
      "Threshold : 0.45\tFBeta : 0.326776\n",
      "Threshold : 0.50\tFBeta : 0.241000\n",
      "Threshold : 0.55\tFBeta : 0.116738\n",
      "Threshold : 0.60\tFBeta : 0.024390\n",
      "Threshold : 0.65\tFBeta : 0.002130\n",
      "Threshold : 0.70\tFBeta : 0.000000\n",
      "Threshold : 0.75\tFBeta : 0.000000\n",
      "Threshold : 0.80\tFBeta : 0.000000\n",
      "\n"
     ]
    },
    {
     "name": "stderr",
     "output_type": "stream",
     "text": [
      "Epoch 10/70  Mem : 21.8GB  LR : 9.94E-05  Loss: 0.4252: 100%|██████████| 64/64 [00:39<00:00,  1.62it/s]                                                                                                                                                                        \n",
      "Val Loss: 0.2919: 100%|██████████| 19/19 [00:05<00:00,  3.26it/s]                                                                                                                                                                                                              \n"
     ]
    },
    {
     "name": "stdout",
     "output_type": "stream",
     "text": [
      "Threshold : 0.20\tFBeta : 0.215634\n",
      "Threshold : 0.25\tFBeta : 0.255860\n",
      "Threshold : 0.30\tFBeta : 0.292150\n",
      "Threshold : 0.35\tFBeta : 0.317873\n",
      "Threshold : 0.40\tFBeta : 0.334814\n",
      "Threshold : 0.45\tFBeta : 0.340228\n",
      "Threshold : 0.50\tFBeta : 0.330455\n",
      "Threshold : 0.55\tFBeta : 0.301764\n",
      "Threshold : 0.60\tFBeta : 0.235434\n",
      "Threshold : 0.65\tFBeta : 0.167612\n",
      "Threshold : 0.70\tFBeta : 0.092403\n",
      "Threshold : 0.75\tFBeta : 0.042535\n",
      "Threshold : 0.80\tFBeta : 0.017329\n",
      "\n"
     ]
    },
    {
     "name": "stderr",
     "output_type": "stream",
     "text": [
      "Epoch 11/70  Mem : 21.8GB  LR : 9.90E-05  Loss: 0.4144: 100%|██████████| 64/64 [00:39<00:00,  1.63it/s]                                                                                                                                                                        \n",
      "Val Loss: 0.2857: 100%|██████████| 19/19 [00:05<00:00,  3.29it/s]                                                                                                                                                                                                              \n"
     ]
    },
    {
     "name": "stdout",
     "output_type": "stream",
     "text": [
      "Threshold : 0.20\tFBeta : 0.211476\n",
      "Threshold : 0.25\tFBeta : 0.228875\n",
      "Threshold : 0.30\tFBeta : 0.251047\n",
      "Threshold : 0.35\tFBeta : 0.271742\n",
      "Threshold : 0.40\tFBeta : 0.299816\n",
      "Threshold : 0.45\tFBeta : 0.328158\n",
      "Threshold : 0.50\tFBeta : 0.346544\n",
      "Threshold : 0.55\tFBeta : 0.340388\n",
      "Threshold : 0.60\tFBeta : 0.283671\n",
      "Threshold : 0.65\tFBeta : 0.204421\n",
      "Threshold : 0.70\tFBeta : 0.121751\n",
      "Threshold : 0.75\tFBeta : 0.056234\n",
      "Threshold : 0.80\tFBeta : 0.023944\n",
      "\n"
     ]
    },
    {
     "name": "stderr",
     "output_type": "stream",
     "text": [
      "Epoch 12/70  Mem : 21.8GB  LR : 9.85E-05  Loss: 0.3995: 100%|██████████| 64/64 [00:39<00:00,  1.62it/s]                                                                                                                                                                        \n",
      "Val Loss: 0.3986: 100%|██████████| 19/19 [00:05<00:00,  3.27it/s]                                                                                                                                                                                                              \n"
     ]
    },
    {
     "name": "stdout",
     "output_type": "stream",
     "text": [
      "Threshold : 0.20\tFBeta : 0.187217\n",
      "Threshold : 0.25\tFBeta : 0.199517\n",
      "Threshold : 0.30\tFBeta : 0.208348\n",
      "Threshold : 0.35\tFBeta : 0.217096\n",
      "Threshold : 0.40\tFBeta : 0.236971\n",
      "Threshold : 0.45\tFBeta : 0.257869\n",
      "Threshold : 0.50\tFBeta : 0.278184\n",
      "Threshold : 0.55\tFBeta : 0.302319\n",
      "Threshold : 0.60\tFBeta : 0.327871\n",
      "Threshold : 0.65\tFBeta : 0.355613\n",
      "Threshold : 0.70\tFBeta : 0.378557\n",
      "Threshold : 0.75\tFBeta : 0.394978\n",
      "Threshold : 0.80\tFBeta : 0.397816\n",
      "\n"
     ]
    },
    {
     "name": "stderr",
     "output_type": "stream",
     "text": [
      "Epoch 13/70  Mem : 21.8GB  LR : 9.78E-05  Loss: 0.3928: 100%|██████████| 64/64 [00:39<00:00,  1.63it/s]                                                                                                                                                                        \n",
      "Val Loss: 0.2456: 100%|██████████| 19/19 [00:05<00:00,  3.30it/s]                                                                                                                                                                                                              \n"
     ]
    },
    {
     "name": "stdout",
     "output_type": "stream",
     "text": [
      "Threshold : 0.20\tFBeta : 0.316953\n",
      "Threshold : 0.25\tFBeta : 0.361683\n",
      "Threshold : 0.30\tFBeta : 0.387254\n",
      "Threshold : 0.35\tFBeta : 0.399740\n",
      "Threshold : 0.40\tFBeta : 0.415583\n",
      "Threshold : 0.45\tFBeta : 0.422016\n",
      "Threshold : 0.50\tFBeta : 0.421685\n",
      "Threshold : 0.55\tFBeta : 0.411185\n",
      "Threshold : 0.60\tFBeta : 0.386402\n",
      "Threshold : 0.65\tFBeta : 0.346557\n",
      "Threshold : 0.70\tFBeta : 0.289523\n",
      "Threshold : 0.75\tFBeta : 0.217849\n",
      "Threshold : 0.80\tFBeta : 0.153126\n",
      "\n"
     ]
    },
    {
     "name": "stderr",
     "output_type": "stream",
     "text": [
      "Epoch 14/70  Mem : 21.8GB  LR : 9.70E-05  Loss: 0.3769: 100%|██████████| 64/64 [00:39<00:00,  1.62it/s]                                                                                                                                                                        \n",
      "Val Loss: 0.3096: 100%|██████████| 19/19 [00:05<00:00,  3.25it/s]                                                                                                                                                                                                              \n"
     ]
    },
    {
     "name": "stdout",
     "output_type": "stream",
     "text": [
      "Threshold : 0.20\tFBeta : 0.193475\n",
      "Threshold : 0.25\tFBeta : 0.228098\n",
      "Threshold : 0.30\tFBeta : 0.259753\n",
      "Threshold : 0.35\tFBeta : 0.288043\n",
      "Threshold : 0.40\tFBeta : 0.334205\n",
      "Threshold : 0.45\tFBeta : 0.367551\n",
      "Threshold : 0.50\tFBeta : 0.393646\n",
      "Threshold : 0.55\tFBeta : 0.415106\n",
      "Threshold : 0.60\tFBeta : 0.441650\n",
      "Threshold : 0.65\tFBeta : 0.465339\n",
      "Threshold : 0.70\tFBeta : 0.473812\n",
      "Threshold : 0.75\tFBeta : 0.460683\n",
      "Threshold : 0.80\tFBeta : 0.399536\n",
      "\n"
     ]
    },
    {
     "name": "stderr",
     "output_type": "stream",
     "text": [
      "Epoch 15/70  Mem : 21.8GB  LR : 9.61E-05  Loss: 0.3735: 100%|██████████| 64/64 [00:40<00:00,  1.59it/s]                                                                                                                                                                        \n",
      "Val Loss: 0.2269: 100%|██████████| 19/19 [00:05<00:00,  3.25it/s]                                                                                                                                                                                                              \n"
     ]
    },
    {
     "name": "stdout",
     "output_type": "stream",
     "text": [
      "Threshold : 0.20\tFBeta : 0.443471\n",
      "Threshold : 0.25\tFBeta : 0.479115\n",
      "Threshold : 0.30\tFBeta : 0.487119\n",
      "Threshold : 0.35\tFBeta : 0.480789\n",
      "Threshold : 0.40\tFBeta : 0.458903\n",
      "Threshold : 0.45\tFBeta : 0.418570\n",
      "Threshold : 0.50\tFBeta : 0.358944\n",
      "Threshold : 0.55\tFBeta : 0.285517\n",
      "Threshold : 0.60\tFBeta : 0.220233\n",
      "Threshold : 0.65\tFBeta : 0.157762\n",
      "Threshold : 0.70\tFBeta : 0.095048\n",
      "Threshold : 0.75\tFBeta : 0.047951\n",
      "Threshold : 0.80\tFBeta : 0.015067\n",
      "\n"
     ]
    },
    {
     "name": "stderr",
     "output_type": "stream",
     "text": [
      "Epoch 16/70  Mem : 21.8GB  LR : 9.50E-05  Loss: 0.3713: 100%|██████████| 64/64 [00:39<00:00,  1.61it/s]                                                                                                                                                                        \n",
      "Val Loss: 0.2461: 100%|██████████| 19/19 [00:05<00:00,  3.28it/s]                                                                                                                                                                                                              \n"
     ]
    },
    {
     "name": "stdout",
     "output_type": "stream",
     "text": [
      "Threshold : 0.20\tFBeta : 0.273640\n",
      "Threshold : 0.25\tFBeta : 0.318782\n",
      "Threshold : 0.30\tFBeta : 0.360075\n",
      "Threshold : 0.35\tFBeta : 0.392300\n",
      "Threshold : 0.40\tFBeta : 0.423000\n",
      "Threshold : 0.45\tFBeta : 0.446957\n",
      "Threshold : 0.50\tFBeta : 0.465208\n",
      "Threshold : 0.55\tFBeta : 0.471535\n",
      "Threshold : 0.60\tFBeta : 0.461539\n",
      "Threshold : 0.65\tFBeta : 0.434831\n",
      "Threshold : 0.70\tFBeta : 0.383292\n",
      "Threshold : 0.75\tFBeta : 0.307665\n",
      "Threshold : 0.80\tFBeta : 0.216632\n",
      "\n"
     ]
    },
    {
     "name": "stderr",
     "output_type": "stream",
     "text": [
      "Epoch 17/70  Mem : 21.8GB  LR : 9.39E-05  Loss: 0.3564: 100%|██████████| 64/64 [00:39<00:00,  1.61it/s]                                                                                                                                                                        \n",
      "Val Loss: 0.2328: 100%|██████████| 19/19 [00:05<00:00,  3.28it/s]                                                                                                                                                                                                              \n"
     ]
    },
    {
     "name": "stdout",
     "output_type": "stream",
     "text": [
      "Threshold : 0.20\tFBeta : 0.476323\n",
      "Threshold : 0.25\tFBeta : 0.434493\n",
      "Threshold : 0.30\tFBeta : 0.379574\n",
      "Threshold : 0.35\tFBeta : 0.324524\n",
      "Threshold : 0.40\tFBeta : 0.276467\n",
      "Threshold : 0.45\tFBeta : 0.239366\n",
      "Threshold : 0.50\tFBeta : 0.205031\n",
      "Threshold : 0.55\tFBeta : 0.160932\n",
      "Threshold : 0.60\tFBeta : 0.116490\n",
      "Threshold : 0.65\tFBeta : 0.074982\n",
      "Threshold : 0.70\tFBeta : 0.046664\n",
      "Threshold : 0.75\tFBeta : 0.019718\n",
      "Threshold : 0.80\tFBeta : 0.006569\n",
      "\n"
     ]
    },
    {
     "name": "stderr",
     "output_type": "stream",
     "text": [
      "Epoch 18/70  Mem : 21.8GB  LR : 9.27E-05  Loss: 0.3568: 100%|██████████| 64/64 [00:39<00:00,  1.62it/s]                                                                                                                                                                        \n",
      "Val Loss: 0.2159: 100%|██████████| 19/19 [00:05<00:00,  3.28it/s]                                                                                                                                                                                                              \n"
     ]
    },
    {
     "name": "stdout",
     "output_type": "stream",
     "text": [
      "Threshold : 0.20\tFBeta : 0.517804\n",
      "Threshold : 0.25\tFBeta : 0.512814\n",
      "Threshold : 0.30\tFBeta : 0.476980\n",
      "Threshold : 0.35\tFBeta : 0.426019\n",
      "Threshold : 0.40\tFBeta : 0.368954\n",
      "Threshold : 0.45\tFBeta : 0.315933\n",
      "Threshold : 0.50\tFBeta : 0.278227\n",
      "Threshold : 0.55\tFBeta : 0.232775\n",
      "Threshold : 0.60\tFBeta : 0.184941\n",
      "Threshold : 0.65\tFBeta : 0.140803\n",
      "Threshold : 0.70\tFBeta : 0.096040\n",
      "Threshold : 0.75\tFBeta : 0.059921\n",
      "Threshold : 0.80\tFBeta : 0.032430\n",
      "\n"
     ]
    },
    {
     "name": "stderr",
     "output_type": "stream",
     "text": [
      "Epoch 19/70  Mem : 21.8GB  LR : 9.13E-05  Loss: 0.3480: 100%|██████████| 64/64 [00:40<00:00,  1.60it/s]                                                                                                                                                                        \n",
      "Val Loss: 0.2442: 100%|██████████| 19/19 [00:05<00:00,  3.31it/s]                                                                                                                                                                                                              \n"
     ]
    },
    {
     "name": "stdout",
     "output_type": "stream",
     "text": [
      "Threshold : 0.20\tFBeta : 0.254282\n",
      "Threshold : 0.25\tFBeta : 0.309149\n",
      "Threshold : 0.30\tFBeta : 0.349691\n",
      "Threshold : 0.35\tFBeta : 0.385834\n",
      "Threshold : 0.40\tFBeta : 0.420381\n",
      "Threshold : 0.45\tFBeta : 0.447628\n",
      "Threshold : 0.50\tFBeta : 0.469703\n",
      "Threshold : 0.55\tFBeta : 0.488948\n",
      "Threshold : 0.60\tFBeta : 0.510066\n",
      "Threshold : 0.65\tFBeta : 0.523294\n",
      "Threshold : 0.70\tFBeta : 0.515579\n",
      "Threshold : 0.75\tFBeta : 0.488221\n",
      "Threshold : 0.80\tFBeta : 0.440120\n",
      "\n"
     ]
    },
    {
     "name": "stderr",
     "output_type": "stream",
     "text": [
      "Epoch 20/70  Mem : 21.8GB  LR : 8.99E-05  Loss: 0.3402: 100%|██████████| 64/64 [00:39<00:00,  1.62it/s]                                                                                                                                                                        \n",
      "Val Loss: 0.2553: 100%|██████████| 19/19 [00:05<00:00,  3.29it/s]                                                                                                                                                                                                              \n"
     ]
    },
    {
     "name": "stdout",
     "output_type": "stream",
     "text": [
      "Threshold : 0.20\tFBeta : 0.254375\n",
      "Threshold : 0.25\tFBeta : 0.291381\n",
      "Threshold : 0.30\tFBeta : 0.323833\n",
      "Threshold : 0.35\tFBeta : 0.355778\n",
      "Threshold : 0.40\tFBeta : 0.389112\n",
      "Threshold : 0.45\tFBeta : 0.419338\n",
      "Threshold : 0.50\tFBeta : 0.452049\n",
      "Threshold : 0.55\tFBeta : 0.492257\n",
      "Threshold : 0.60\tFBeta : 0.522844\n",
      "Threshold : 0.65\tFBeta : 0.538102\n",
      "Threshold : 0.70\tFBeta : 0.527088\n",
      "Threshold : 0.75\tFBeta : 0.500812\n",
      "Threshold : 0.80\tFBeta : 0.448624\n",
      "\n"
     ]
    },
    {
     "name": "stderr",
     "output_type": "stream",
     "text": [
      "Epoch 21/70  Mem : 21.8GB  LR : 8.83E-05  Loss: 0.3350: 100%|██████████| 64/64 [00:39<00:00,  1.63it/s]                                                                                                                                                                        \n",
      "Val Loss: 0.2263: 100%|██████████| 19/19 [00:05<00:00,  3.29it/s]                                                                                                                                                                                                              \n"
     ]
    },
    {
     "name": "stdout",
     "output_type": "stream",
     "text": [
      "Threshold : 0.20\tFBeta : 0.453399\n",
      "Threshold : 0.25\tFBeta : 0.451243\n",
      "Threshold : 0.30\tFBeta : 0.441389\n",
      "Threshold : 0.35\tFBeta : 0.428758\n",
      "Threshold : 0.40\tFBeta : 0.409512\n",
      "Threshold : 0.45\tFBeta : 0.389233\n",
      "Threshold : 0.50\tFBeta : 0.360136\n",
      "Threshold : 0.55\tFBeta : 0.329217\n",
      "Threshold : 0.60\tFBeta : 0.296391\n",
      "Threshold : 0.65\tFBeta : 0.256466\n",
      "Threshold : 0.70\tFBeta : 0.209831\n",
      "Threshold : 0.75\tFBeta : 0.157707\n",
      "Threshold : 0.80\tFBeta : 0.107430\n",
      "\n"
     ]
    },
    {
     "name": "stderr",
     "output_type": "stream",
     "text": [
      "Epoch 22/70  Mem : 21.8GB  LR : 8.67E-05  Loss: 0.3346: 100%|██████████| 64/64 [00:39<00:00,  1.61it/s]                                                                                                                                                                        \n",
      "Val Loss: 0.2172: 100%|██████████| 19/19 [00:05<00:00,  3.26it/s]                                                                                                                                                                                                              \n"
     ]
    },
    {
     "name": "stdout",
     "output_type": "stream",
     "text": [
      "Threshold : 0.20\tFBeta : 0.509803\n",
      "Threshold : 0.25\tFBeta : 0.516217\n",
      "Threshold : 0.30\tFBeta : 0.514233\n",
      "Threshold : 0.35\tFBeta : 0.498089\n",
      "Threshold : 0.40\tFBeta : 0.459176\n",
      "Threshold : 0.45\tFBeta : 0.392088\n",
      "Threshold : 0.50\tFBeta : 0.305506\n",
      "Threshold : 0.55\tFBeta : 0.260115\n",
      "Threshold : 0.60\tFBeta : 0.212816\n",
      "Threshold : 0.65\tFBeta : 0.172940\n",
      "Threshold : 0.70\tFBeta : 0.134966\n",
      "Threshold : 0.75\tFBeta : 0.101867\n",
      "Threshold : 0.80\tFBeta : 0.070073\n",
      "\n"
     ]
    },
    {
     "name": "stderr",
     "output_type": "stream",
     "text": [
      "Epoch 23/70  Mem : 21.8GB  LR : 8.49E-05  Loss: 0.3364: 100%|██████████| 64/64 [00:39<00:00,  1.61it/s]                                                                                                                                                                        \n",
      "Val Loss: 0.1950: 100%|██████████| 19/19 [00:05<00:00,  3.28it/s]                                                                                                                                                                                                              \n"
     ]
    },
    {
     "name": "stdout",
     "output_type": "stream",
     "text": [
      "Threshold : 0.20\tFBeta : 0.485510\n",
      "Threshold : 0.25\tFBeta : 0.516892\n",
      "Threshold : 0.30\tFBeta : 0.536652\n",
      "Threshold : 0.35\tFBeta : 0.551224\n",
      "Threshold : 0.40\tFBeta : 0.559566\n",
      "Threshold : 0.45\tFBeta : 0.555643\n",
      "Threshold : 0.50\tFBeta : 0.536661\n",
      "Threshold : 0.55\tFBeta : 0.507294\n",
      "Threshold : 0.60\tFBeta : 0.464935\n",
      "Threshold : 0.65\tFBeta : 0.417961\n",
      "Threshold : 0.70\tFBeta : 0.357599\n",
      "Threshold : 0.75\tFBeta : 0.274382\n",
      "Threshold : 0.80\tFBeta : 0.188265\n",
      "\n"
     ]
    },
    {
     "name": "stderr",
     "output_type": "stream",
     "text": [
      "Epoch 24/70  Mem : 21.8GB  LR : 8.31E-05  Loss: 0.3257: 100%|██████████| 64/64 [00:39<00:00,  1.63it/s]                                                                                                                                                                        \n",
      "Val Loss: 0.2040: 100%|██████████| 19/19 [00:05<00:00,  3.31it/s]                                                                                                                                                                                                              \n"
     ]
    },
    {
     "name": "stdout",
     "output_type": "stream",
     "text": [
      "Threshold : 0.20\tFBeta : 0.375087\n",
      "Threshold : 0.25\tFBeta : 0.407855\n",
      "Threshold : 0.30\tFBeta : 0.438056\n",
      "Threshold : 0.35\tFBeta : 0.464976\n",
      "Threshold : 0.40\tFBeta : 0.487377\n",
      "Threshold : 0.45\tFBeta : 0.489895\n",
      "Threshold : 0.50\tFBeta : 0.472683\n",
      "Threshold : 0.55\tFBeta : 0.453428\n",
      "Threshold : 0.60\tFBeta : 0.424254\n",
      "Threshold : 0.65\tFBeta : 0.381199\n",
      "Threshold : 0.70\tFBeta : 0.331045\n",
      "Threshold : 0.75\tFBeta : 0.270890\n",
      "Threshold : 0.80\tFBeta : 0.186047\n",
      "\n"
     ]
    },
    {
     "name": "stderr",
     "output_type": "stream",
     "text": [
      "Epoch 25/70  Mem : 21.8GB  LR : 8.12E-05  Loss: 0.3258: 100%|██████████| 64/64 [00:39<00:00,  1.63it/s]                                                                                                                                                                        \n",
      "Val Loss: 0.1992: 100%|██████████| 19/19 [00:05<00:00,  3.28it/s]                                                                                                                                                                                                              \n"
     ]
    },
    {
     "name": "stdout",
     "output_type": "stream",
     "text": [
      "Threshold : 0.20\tFBeta : 0.573639\n",
      "Threshold : 0.25\tFBeta : 0.572169\n",
      "Threshold : 0.30\tFBeta : 0.565990\n",
      "Threshold : 0.35\tFBeta : 0.551855\n",
      "Threshold : 0.40\tFBeta : 0.525114\n",
      "Threshold : 0.45\tFBeta : 0.492529\n",
      "Threshold : 0.50\tFBeta : 0.454936\n",
      "Threshold : 0.55\tFBeta : 0.415610\n",
      "Threshold : 0.60\tFBeta : 0.364429\n",
      "Threshold : 0.65\tFBeta : 0.306290\n",
      "Threshold : 0.70\tFBeta : 0.236745\n",
      "Threshold : 0.75\tFBeta : 0.173618\n",
      "Threshold : 0.80\tFBeta : 0.118672\n",
      "\n"
     ]
    },
    {
     "name": "stderr",
     "output_type": "stream",
     "text": [
      "Epoch 26/70  Mem : 21.8GB  LR : 7.92E-05  Loss: 0.3214: 100%|██████████| 64/64 [00:39<00:00,  1.63it/s]                                                                                                                                                                        \n",
      "Val Loss: 0.1997: 100%|██████████| 19/19 [00:05<00:00,  3.27it/s]                                                                                                                                                                                                              \n"
     ]
    },
    {
     "name": "stdout",
     "output_type": "stream",
     "text": [
      "Threshold : 0.20\tFBeta : 0.524663\n",
      "Threshold : 0.25\tFBeta : 0.542892\n",
      "Threshold : 0.30\tFBeta : 0.554254\n",
      "Threshold : 0.35\tFBeta : 0.551964\n",
      "Threshold : 0.40\tFBeta : 0.540637\n",
      "Threshold : 0.45\tFBeta : 0.520294\n",
      "Threshold : 0.50\tFBeta : 0.485804\n",
      "Threshold : 0.55\tFBeta : 0.441059\n",
      "Threshold : 0.60\tFBeta : 0.384884\n",
      "Threshold : 0.65\tFBeta : 0.322796\n",
      "Threshold : 0.70\tFBeta : 0.257170\n",
      "Threshold : 0.75\tFBeta : 0.192016\n",
      "Threshold : 0.80\tFBeta : 0.130701\n",
      "\n"
     ]
    },
    {
     "name": "stderr",
     "output_type": "stream",
     "text": [
      "Epoch 27/70  Mem : 21.8GB  LR : 7.71E-05  Loss: 0.3176: 100%|██████████| 64/64 [00:39<00:00,  1.64it/s]                                                                                                                                                                        \n",
      "Val Loss: 0.1832: 100%|██████████| 19/19 [00:05<00:00,  3.29it/s]                                                                                                                                                                                                              \n"
     ]
    },
    {
     "name": "stdout",
     "output_type": "stream",
     "text": [
      "Threshold : 0.20\tFBeta : 0.475125\n",
      "Threshold : 0.25\tFBeta : 0.511905\n",
      "Threshold : 0.30\tFBeta : 0.536406\n",
      "Threshold : 0.35\tFBeta : 0.557520\n",
      "Threshold : 0.40\tFBeta : 0.572313\n",
      "Threshold : 0.45\tFBeta : 0.581883\n",
      "Threshold : 0.50\tFBeta : 0.586965\n",
      "Threshold : 0.55\tFBeta : 0.574736\n",
      "Threshold : 0.60\tFBeta : 0.552205\n",
      "Threshold : 0.65\tFBeta : 0.523768\n",
      "Threshold : 0.70\tFBeta : 0.484809\n",
      "Threshold : 0.75\tFBeta : 0.436291\n",
      "Threshold : 0.80\tFBeta : 0.369673\n",
      "\n"
     ]
    },
    {
     "name": "stderr",
     "output_type": "stream",
     "text": [
      "Epoch 28/70  Mem : 21.8GB  LR : 7.50E-05  Loss: 0.3167: 100%|██████████| 64/64 [00:39<00:00,  1.63it/s]                                                                                                                                                                        \n",
      "Val Loss: 0.2022: 100%|██████████| 19/19 [00:05<00:00,  3.26it/s]                                                                                                                                                                                                              \n"
     ]
    },
    {
     "name": "stdout",
     "output_type": "stream",
     "text": [
      "Threshold : 0.20\tFBeta : 0.364774\n",
      "Threshold : 0.25\tFBeta : 0.405297\n",
      "Threshold : 0.30\tFBeta : 0.431160\n",
      "Threshold : 0.35\tFBeta : 0.451450\n",
      "Threshold : 0.40\tFBeta : 0.470621\n",
      "Threshold : 0.45\tFBeta : 0.490980\n",
      "Threshold : 0.50\tFBeta : 0.511953\n",
      "Threshold : 0.55\tFBeta : 0.534108\n",
      "Threshold : 0.60\tFBeta : 0.551510\n",
      "Threshold : 0.65\tFBeta : 0.555015\n",
      "Threshold : 0.70\tFBeta : 0.540227\n",
      "Threshold : 0.75\tFBeta : 0.498159\n",
      "Threshold : 0.80\tFBeta : 0.429464\n",
      "\n"
     ]
    },
    {
     "name": "stderr",
     "output_type": "stream",
     "text": [
      "Epoch 29/70  Mem : 21.8GB  LR : 7.28E-05  Loss: 0.3160: 100%|██████████| 64/64 [00:39<00:00,  1.62it/s]                                                                                                                                                                        \n",
      "Val Loss: 0.2090: 100%|██████████| 19/19 [00:05<00:00,  3.30it/s]                                                                                                                                                                                                              \n"
     ]
    },
    {
     "name": "stdout",
     "output_type": "stream",
     "text": [
      "Threshold : 0.20\tFBeta : 0.502311\n",
      "Threshold : 0.25\tFBeta : 0.505294\n",
      "Threshold : 0.30\tFBeta : 0.493250\n",
      "Threshold : 0.35\tFBeta : 0.473262\n",
      "Threshold : 0.40\tFBeta : 0.440815\n",
      "Threshold : 0.45\tFBeta : 0.402603\n",
      "Threshold : 0.50\tFBeta : 0.354447\n",
      "Threshold : 0.55\tFBeta : 0.307560\n",
      "Threshold : 0.60\tFBeta : 0.261500\n",
      "Threshold : 0.65\tFBeta : 0.216688\n",
      "Threshold : 0.70\tFBeta : 0.170672\n",
      "Threshold : 0.75\tFBeta : 0.123066\n",
      "Threshold : 0.80\tFBeta : 0.081348\n",
      "\n"
     ]
    },
    {
     "name": "stderr",
     "output_type": "stream",
     "text": [
      "Epoch 30/70  Mem : 21.8GB  LR : 7.06E-05  Loss: 0.3121: 100%|██████████| 64/64 [00:39<00:00,  1.62it/s]                                                                                                                                                                        \n",
      "Val Loss: 0.1955: 100%|██████████| 19/19 [00:05<00:00,  3.26it/s]                                                                                                                                                                                                              \n"
     ]
    },
    {
     "name": "stdout",
     "output_type": "stream",
     "text": [
      "Threshold : 0.20\tFBeta : 0.513456\n",
      "Threshold : 0.25\tFBeta : 0.522859\n",
      "Threshold : 0.30\tFBeta : 0.525335\n",
      "Threshold : 0.35\tFBeta : 0.520704\n",
      "Threshold : 0.40\tFBeta : 0.511418\n",
      "Threshold : 0.45\tFBeta : 0.489220\n",
      "Threshold : 0.50\tFBeta : 0.466773\n",
      "Threshold : 0.55\tFBeta : 0.444084\n",
      "Threshold : 0.60\tFBeta : 0.419094\n",
      "Threshold : 0.65\tFBeta : 0.384989\n",
      "Threshold : 0.70\tFBeta : 0.342124\n",
      "Threshold : 0.75\tFBeta : 0.294004\n",
      "Threshold : 0.80\tFBeta : 0.242891\n",
      "\n"
     ]
    },
    {
     "name": "stderr",
     "output_type": "stream",
     "text": [
      "Epoch 31/70  Mem : 21.8GB  LR : 6.83E-05  Loss: 0.3134: 100%|██████████| 64/64 [00:39<00:00,  1.60it/s]                                                                                                                                                                        \n",
      "Val Loss: 0.1874: 100%|██████████| 19/19 [00:05<00:00,  3.28it/s]                                                                                                                                                                                                              \n"
     ]
    },
    {
     "name": "stdout",
     "output_type": "stream",
     "text": [
      "Threshold : 0.20\tFBeta : 0.452655\n",
      "Threshold : 0.25\tFBeta : 0.495207\n",
      "Threshold : 0.30\tFBeta : 0.526524\n",
      "Threshold : 0.35\tFBeta : 0.545913\n",
      "Threshold : 0.40\tFBeta : 0.559298\n",
      "Threshold : 0.45\tFBeta : 0.560665\n",
      "Threshold : 0.50\tFBeta : 0.555728\n",
      "Threshold : 0.55\tFBeta : 0.549845\n",
      "Threshold : 0.60\tFBeta : 0.540942\n",
      "Threshold : 0.65\tFBeta : 0.526338\n",
      "Threshold : 0.70\tFBeta : 0.496010\n",
      "Threshold : 0.75\tFBeta : 0.445432\n",
      "Threshold : 0.80\tFBeta : 0.387455\n",
      "\n"
     ]
    },
    {
     "name": "stderr",
     "output_type": "stream",
     "text": [
      "Epoch 32/70  Mem : 21.8GB  LR : 6.59E-05  Loss: 0.3105: 100%|██████████| 64/64 [00:39<00:00,  1.63it/s]                                                                                                                                                                        \n",
      "Val Loss: 0.1905: 100%|██████████| 19/19 [00:05<00:00,  3.33it/s]                                                                                                                                                                                                              \n"
     ]
    },
    {
     "name": "stdout",
     "output_type": "stream",
     "text": [
      "Threshold : 0.20\tFBeta : 0.397450\n",
      "Threshold : 0.25\tFBeta : 0.438843\n",
      "Threshold : 0.30\tFBeta : 0.471157\n",
      "Threshold : 0.35\tFBeta : 0.499284\n",
      "Threshold : 0.40\tFBeta : 0.521470\n",
      "Threshold : 0.45\tFBeta : 0.538863\n",
      "Threshold : 0.50\tFBeta : 0.539602\n",
      "Threshold : 0.55\tFBeta : 0.532375\n",
      "Threshold : 0.60\tFBeta : 0.515538\n",
      "Threshold : 0.65\tFBeta : 0.494668\n",
      "Threshold : 0.70\tFBeta : 0.469792\n",
      "Threshold : 0.75\tFBeta : 0.432113\n",
      "Threshold : 0.80\tFBeta : 0.391301\n",
      "\n"
     ]
    },
    {
     "name": "stderr",
     "output_type": "stream",
     "text": [
      "Epoch 33/70  Mem : 21.8GB  LR : 6.35E-05  Loss: 0.3027: 100%|██████████| 64/64 [00:39<00:00,  1.62it/s]                                                                                                                                                                        \n",
      "Val Loss: 0.1951: 100%|██████████| 19/19 [00:05<00:00,  3.31it/s]                                                                                                                                                                                                              \n"
     ]
    },
    {
     "name": "stdout",
     "output_type": "stream",
     "text": [
      "Threshold : 0.20\tFBeta : 0.350033\n",
      "Threshold : 0.25\tFBeta : 0.397282\n",
      "Threshold : 0.30\tFBeta : 0.437845\n",
      "Threshold : 0.35\tFBeta : 0.477262\n",
      "Threshold : 0.40\tFBeta : 0.515047\n",
      "Threshold : 0.45\tFBeta : 0.549745\n",
      "Threshold : 0.50\tFBeta : 0.575397\n",
      "Threshold : 0.55\tFBeta : 0.583661\n",
      "Threshold : 0.60\tFBeta : 0.580889\n",
      "Threshold : 0.65\tFBeta : 0.561620\n",
      "Threshold : 0.70\tFBeta : 0.524396\n",
      "Threshold : 0.75\tFBeta : 0.467233\n",
      "Threshold : 0.80\tFBeta : 0.383752\n",
      "\n"
     ]
    },
    {
     "name": "stderr",
     "output_type": "stream",
     "text": [
      "Epoch 34/70  Mem : 21.8GB  LR : 6.11E-05  Loss: 0.2998: 100%|██████████| 64/64 [00:39<00:00,  1.61it/s]                                                                                                                                                                        \n",
      "Val Loss: 0.2568: 100%|██████████| 19/19 [00:05<00:00,  3.31it/s]                                                                                                                                                                                                              \n"
     ]
    },
    {
     "name": "stdout",
     "output_type": "stream",
     "text": [
      "Threshold : 0.20\tFBeta : 0.266233\n",
      "Threshold : 0.25\tFBeta : 0.293705\n",
      "Threshold : 0.30\tFBeta : 0.318812\n",
      "Threshold : 0.35\tFBeta : 0.346004\n",
      "Threshold : 0.40\tFBeta : 0.374742\n",
      "Threshold : 0.45\tFBeta : 0.404503\n",
      "Threshold : 0.50\tFBeta : 0.429671\n",
      "Threshold : 0.55\tFBeta : 0.452934\n",
      "Threshold : 0.60\tFBeta : 0.476401\n",
      "Threshold : 0.65\tFBeta : 0.500839\n",
      "Threshold : 0.70\tFBeta : 0.524703\n",
      "Threshold : 0.75\tFBeta : 0.537855\n",
      "Threshold : 0.80\tFBeta : 0.542616\n",
      "\n"
     ]
    },
    {
     "name": "stderr",
     "output_type": "stream",
     "text": [
      "Epoch 35/70  Mem : 21.8GB  LR : 5.87E-05  Loss: 0.3002: 100%|██████████| 64/64 [00:38<00:00,  1.65it/s]                                                                                                                                                                        \n",
      "Val Loss: 0.1926: 100%|██████████| 19/19 [00:05<00:00,  3.31it/s]                                                                                                                                                                                                              \n"
     ]
    },
    {
     "name": "stdout",
     "output_type": "stream",
     "text": [
      "Threshold : 0.20\tFBeta : 0.493167\n",
      "Threshold : 0.25\tFBeta : 0.513056\n",
      "Threshold : 0.30\tFBeta : 0.525627\n",
      "Threshold : 0.35\tFBeta : 0.528814\n",
      "Threshold : 0.40\tFBeta : 0.524385\n",
      "Threshold : 0.45\tFBeta : 0.511710\n",
      "Threshold : 0.50\tFBeta : 0.490914\n",
      "Threshold : 0.55\tFBeta : 0.466340\n",
      "Threshold : 0.60\tFBeta : 0.433927\n",
      "Threshold : 0.65\tFBeta : 0.397237\n",
      "Threshold : 0.70\tFBeta : 0.353316\n",
      "Threshold : 0.75\tFBeta : 0.305955\n",
      "Threshold : 0.80\tFBeta : 0.248695\n",
      "\n"
     ]
    },
    {
     "name": "stderr",
     "output_type": "stream",
     "text": [
      "Epoch 36/70  Mem : 21.8GB  LR : 5.62E-05  Loss: 0.2992: 100%|██████████| 64/64 [00:39<00:00,  1.60it/s]                                                                                                                                                                        \n",
      "Val Loss: 0.2337: 100%|██████████| 19/19 [00:05<00:00,  3.33it/s]                                                                                                                                                                                                              \n"
     ]
    },
    {
     "name": "stdout",
     "output_type": "stream",
     "text": [
      "Threshold : 0.20\tFBeta : 0.267339\n",
      "Threshold : 0.25\tFBeta : 0.300050\n",
      "Threshold : 0.30\tFBeta : 0.338345\n",
      "Threshold : 0.35\tFBeta : 0.382676\n",
      "Threshold : 0.40\tFBeta : 0.423831\n",
      "Threshold : 0.45\tFBeta : 0.457390\n",
      "Threshold : 0.50\tFBeta : 0.484274\n",
      "Threshold : 0.55\tFBeta : 0.506663\n",
      "Threshold : 0.60\tFBeta : 0.527802\n",
      "Threshold : 0.65\tFBeta : 0.548141\n",
      "Threshold : 0.70\tFBeta : 0.565203\n",
      "Threshold : 0.75\tFBeta : 0.569875\n",
      "Threshold : 0.80\tFBeta : 0.551038\n",
      "\n"
     ]
    },
    {
     "name": "stderr",
     "output_type": "stream",
     "text": [
      "Epoch 37/70  Mem : 21.8GB  LR : 5.37E-05  Loss: 0.3011: 100%|██████████| 64/64 [00:39<00:00,  1.62it/s]                                                                                                                                                                        \n",
      "Val Loss: 0.1841: 100%|██████████| 19/19 [00:05<00:00,  3.31it/s]                                                                                                                                                                                                              \n"
     ]
    },
    {
     "name": "stdout",
     "output_type": "stream",
     "text": [
      "Threshold : 0.20\tFBeta : 0.449018\n",
      "Threshold : 0.25\tFBeta : 0.479635\n",
      "Threshold : 0.30\tFBeta : 0.506712\n",
      "Threshold : 0.35\tFBeta : 0.531101\n",
      "Threshold : 0.40\tFBeta : 0.548051\n",
      "Threshold : 0.45\tFBeta : 0.563704\n",
      "Threshold : 0.50\tFBeta : 0.573355\n",
      "Threshold : 0.55\tFBeta : 0.566437\n",
      "Threshold : 0.60\tFBeta : 0.551872\n",
      "Threshold : 0.65\tFBeta : 0.525935\n",
      "Threshold : 0.70\tFBeta : 0.484143\n",
      "Threshold : 0.75\tFBeta : 0.423812\n",
      "Threshold : 0.80\tFBeta : 0.344972\n",
      "\n"
     ]
    },
    {
     "name": "stderr",
     "output_type": "stream",
     "text": [
      "Epoch 38/70  Mem : 21.8GB  LR : 5.12E-05  Loss: 0.2886: 100%|██████████| 64/64 [00:39<00:00,  1.62it/s]                                                                                                                                                                        \n",
      "Val Loss: 0.1885: 100%|██████████| 19/19 [00:05<00:00,  3.27it/s]                                                                                                                                                                                                              \n"
     ]
    },
    {
     "name": "stdout",
     "output_type": "stream",
     "text": [
      "Threshold : 0.20\tFBeta : 0.389506\n",
      "Threshold : 0.25\tFBeta : 0.428191\n",
      "Threshold : 0.30\tFBeta : 0.463934\n",
      "Threshold : 0.35\tFBeta : 0.495163\n",
      "Threshold : 0.40\tFBeta : 0.521928\n",
      "Threshold : 0.45\tFBeta : 0.545199\n",
      "Threshold : 0.50\tFBeta : 0.562862\n",
      "Threshold : 0.55\tFBeta : 0.575853\n",
      "Threshold : 0.60\tFBeta : 0.586240\n",
      "Threshold : 0.65\tFBeta : 0.587049\n",
      "Threshold : 0.70\tFBeta : 0.578478\n",
      "Threshold : 0.75\tFBeta : 0.552569\n",
      "Threshold : 0.80\tFBeta : 0.502523\n",
      "\n"
     ]
    },
    {
     "name": "stderr",
     "output_type": "stream",
     "text": [
      "Epoch 39/70  Mem : 21.8GB  LR : 4.88E-05  Loss: 0.2842: 100%|██████████| 64/64 [00:39<00:00,  1.61it/s]                                                                                                                                                                        \n",
      "Val Loss: 0.1917: 100%|██████████| 19/19 [00:05<00:00,  3.27it/s]                                                                                                                                                                                                              \n"
     ]
    },
    {
     "name": "stdout",
     "output_type": "stream",
     "text": [
      "Threshold : 0.20\tFBeta : 0.392397\n",
      "Threshold : 0.25\tFBeta : 0.424386\n",
      "Threshold : 0.30\tFBeta : 0.453260\n",
      "Threshold : 0.35\tFBeta : 0.480336\n",
      "Threshold : 0.40\tFBeta : 0.505120\n",
      "Threshold : 0.45\tFBeta : 0.527055\n",
      "Threshold : 0.50\tFBeta : 0.547020\n",
      "Threshold : 0.55\tFBeta : 0.562643\n",
      "Threshold : 0.60\tFBeta : 0.578360\n",
      "Threshold : 0.65\tFBeta : 0.592853\n",
      "Threshold : 0.70\tFBeta : 0.598709\n",
      "Threshold : 0.75\tFBeta : 0.595163\n",
      "Threshold : 0.80\tFBeta : 0.575652\n",
      "\n"
     ]
    },
    {
     "name": "stderr",
     "output_type": "stream",
     "text": [
      "Epoch 40/70  Mem : 21.8GB  LR : 4.63E-05  Loss: 0.2889: 100%|██████████| 64/64 [00:39<00:00,  1.62it/s]                                                                                                                                                                        \n",
      "Val Loss: 0.2364: 100%|██████████| 19/19 [00:05<00:00,  3.29it/s]                                                                                                                                                                                                              \n"
     ]
    },
    {
     "name": "stdout",
     "output_type": "stream",
     "text": [
      "Threshold : 0.20\tFBeta : 0.273854\n",
      "Threshold : 0.25\tFBeta : 0.301160\n",
      "Threshold : 0.30\tFBeta : 0.325951\n",
      "Threshold : 0.35\tFBeta : 0.352099\n",
      "Threshold : 0.40\tFBeta : 0.381384\n",
      "Threshold : 0.45\tFBeta : 0.420807\n",
      "Threshold : 0.50\tFBeta : 0.475481\n",
      "Threshold : 0.55\tFBeta : 0.500901\n",
      "Threshold : 0.60\tFBeta : 0.520600\n",
      "Threshold : 0.65\tFBeta : 0.536061\n",
      "Threshold : 0.70\tFBeta : 0.543440\n",
      "Threshold : 0.75\tFBeta : 0.535161\n",
      "Threshold : 0.80\tFBeta : 0.508488\n",
      "\n"
     ]
    },
    {
     "name": "stderr",
     "output_type": "stream",
     "text": [
      "Epoch 41/70  Mem : 21.8GB  LR : 4.38E-05  Loss: 0.2835: 100%|██████████| 64/64 [00:39<00:00,  1.62it/s]                                                                                                                                                                        \n",
      "Val Loss: 0.1752: 100%|██████████| 19/19 [00:05<00:00,  3.32it/s]                                                                                                                                                                                                              \n"
     ]
    },
    {
     "name": "stdout",
     "output_type": "stream",
     "text": [
      "Threshold : 0.20\tFBeta : 0.472415\n",
      "Threshold : 0.25\tFBeta : 0.508321\n",
      "Threshold : 0.30\tFBeta : 0.536783\n",
      "Threshold : 0.35\tFBeta : 0.560745\n",
      "Threshold : 0.40\tFBeta : 0.574765\n",
      "Threshold : 0.45\tFBeta : 0.582177\n",
      "Threshold : 0.50\tFBeta : 0.586438\n",
      "Threshold : 0.55\tFBeta : 0.584246\n",
      "Threshold : 0.60\tFBeta : 0.566398\n",
      "Threshold : 0.65\tFBeta : 0.534741\n",
      "Threshold : 0.70\tFBeta : 0.489310\n",
      "Threshold : 0.75\tFBeta : 0.429984\n",
      "Threshold : 0.80\tFBeta : 0.361989\n",
      "\n"
     ]
    },
    {
     "name": "stderr",
     "output_type": "stream",
     "text": [
      "Epoch 42/70  Mem : 21.8GB  LR : 4.13E-05  Loss: 0.2898: 100%|██████████| 64/64 [00:39<00:00,  1.61it/s]                                                                                                                                                                        \n",
      "Val Loss: 0.1965: 100%|██████████| 19/19 [00:05<00:00,  3.28it/s]                                                                                                                                                                                                              \n"
     ]
    },
    {
     "name": "stdout",
     "output_type": "stream",
     "text": [
      "Threshold : 0.20\tFBeta : 0.372723\n",
      "Threshold : 0.25\tFBeta : 0.406129\n",
      "Threshold : 0.30\tFBeta : 0.435967\n",
      "Threshold : 0.35\tFBeta : 0.463783\n",
      "Threshold : 0.40\tFBeta : 0.489203\n",
      "Threshold : 0.45\tFBeta : 0.508315\n",
      "Threshold : 0.50\tFBeta : 0.527575\n",
      "Threshold : 0.55\tFBeta : 0.546103\n",
      "Threshold : 0.60\tFBeta : 0.562072\n",
      "Threshold : 0.65\tFBeta : 0.575436\n",
      "Threshold : 0.70\tFBeta : 0.587920\n",
      "Threshold : 0.75\tFBeta : 0.587163\n",
      "Threshold : 0.80\tFBeta : 0.566938\n",
      "\n"
     ]
    },
    {
     "name": "stderr",
     "output_type": "stream",
     "text": [
      "Epoch 43/70  Mem : 21.8GB  LR : 3.89E-05  Loss: 0.2807: 100%|██████████| 64/64 [00:39<00:00,  1.61it/s]                                                                                                                                                                        \n",
      "Val Loss: 0.1988: 100%|██████████| 19/19 [00:05<00:00,  3.25it/s]                                                                                                                                                                                                              \n"
     ]
    },
    {
     "name": "stdout",
     "output_type": "stream",
     "text": [
      "Threshold : 0.20\tFBeta : 0.361572\n",
      "Threshold : 0.25\tFBeta : 0.398755\n",
      "Threshold : 0.30\tFBeta : 0.429598\n",
      "Threshold : 0.35\tFBeta : 0.455970\n",
      "Threshold : 0.40\tFBeta : 0.482670\n",
      "Threshold : 0.45\tFBeta : 0.509847\n",
      "Threshold : 0.50\tFBeta : 0.539784\n",
      "Threshold : 0.55\tFBeta : 0.560396\n",
      "Threshold : 0.60\tFBeta : 0.576691\n",
      "Threshold : 0.65\tFBeta : 0.591888\n",
      "Threshold : 0.70\tFBeta : 0.602327\n",
      "Threshold : 0.75\tFBeta : 0.602446\n",
      "Threshold : 0.80\tFBeta : 0.587711\n",
      "\n"
     ]
    },
    {
     "name": "stderr",
     "output_type": "stream",
     "text": [
      "Epoch 44/70  Mem : 21.8GB  LR : 3.65E-05  Loss: 0.2733: 100%|██████████| 64/64 [00:39<00:00,  1.61it/s]                                                                                                                                                                        \n",
      "Val Loss: 0.1702: 100%|██████████| 19/19 [00:05<00:00,  3.33it/s]                                                                                                                                                                                                              \n"
     ]
    },
    {
     "name": "stdout",
     "output_type": "stream",
     "text": [
      "Threshold : 0.20\tFBeta : 0.488489\n",
      "Threshold : 0.25\tFBeta : 0.511662\n",
      "Threshold : 0.30\tFBeta : 0.530825\n",
      "Threshold : 0.35\tFBeta : 0.550751\n",
      "Threshold : 0.40\tFBeta : 0.569863\n",
      "Threshold : 0.45\tFBeta : 0.583322\n",
      "Threshold : 0.50\tFBeta : 0.597226\n",
      "Threshold : 0.55\tFBeta : 0.603082\n",
      "Threshold : 0.60\tFBeta : 0.598081\n",
      "Threshold : 0.65\tFBeta : 0.583495\n",
      "Threshold : 0.70\tFBeta : 0.560349\n",
      "Threshold : 0.75\tFBeta : 0.527388\n",
      "Threshold : 0.80\tFBeta : 0.477810\n",
      "\n"
     ]
    },
    {
     "name": "stderr",
     "output_type": "stream",
     "text": [
      "Epoch 45/70  Mem : 21.8GB  LR : 3.41E-05  Loss: 0.2780: 100%|██████████| 64/64 [00:39<00:00,  1.62it/s]                                                                                                                                                                        \n",
      "Val Loss: 0.1706: 100%|██████████| 19/19 [00:05<00:00,  3.29it/s]                                                                                                                                                                                                              \n"
     ]
    },
    {
     "name": "stdout",
     "output_type": "stream",
     "text": [
      "Threshold : 0.20\tFBeta : 0.470564\n",
      "Threshold : 0.25\tFBeta : 0.503724\n",
      "Threshold : 0.30\tFBeta : 0.531432\n",
      "Threshold : 0.35\tFBeta : 0.552222\n",
      "Threshold : 0.40\tFBeta : 0.570999\n",
      "Threshold : 0.45\tFBeta : 0.587089\n",
      "Threshold : 0.50\tFBeta : 0.594475\n",
      "Threshold : 0.55\tFBeta : 0.597868\n",
      "Threshold : 0.60\tFBeta : 0.596141\n",
      "Threshold : 0.65\tFBeta : 0.591872\n",
      "Threshold : 0.70\tFBeta : 0.575499\n",
      "Threshold : 0.75\tFBeta : 0.538567\n",
      "Threshold : 0.80\tFBeta : 0.483448\n",
      "\n"
     ]
    },
    {
     "name": "stderr",
     "output_type": "stream",
     "text": [
      "Epoch 46/70  Mem : 21.8GB  LR : 3.17E-05  Loss: 0.2799: 100%|██████████| 64/64 [00:39<00:00,  1.60it/s]                                                                                                                                                                        \n",
      "Val Loss: 0.1776: 100%|██████████| 19/19 [00:05<00:00,  3.32it/s]                                                                                                                                                                                                              \n"
     ]
    },
    {
     "name": "stdout",
     "output_type": "stream",
     "text": [
      "Threshold : 0.20\tFBeta : 0.416759\n",
      "Threshold : 0.25\tFBeta : 0.454497\n",
      "Threshold : 0.30\tFBeta : 0.484148\n",
      "Threshold : 0.35\tFBeta : 0.511733\n",
      "Threshold : 0.40\tFBeta : 0.536102\n",
      "Threshold : 0.45\tFBeta : 0.555323\n",
      "Threshold : 0.50\tFBeta : 0.575289\n",
      "Threshold : 0.55\tFBeta : 0.594995\n",
      "Threshold : 0.60\tFBeta : 0.613213\n",
      "Threshold : 0.65\tFBeta : 0.620898\n",
      "Threshold : 0.70\tFBeta : 0.620298\n",
      "Threshold : 0.75\tFBeta : 0.604738\n",
      "Threshold : 0.80\tFBeta : 0.571373\n",
      "\n"
     ]
    },
    {
     "name": "stderr",
     "output_type": "stream",
     "text": [
      "Epoch 47/70  Mem : 21.8GB  LR : 2.94E-05  Loss: 0.2737: 100%|██████████| 64/64 [00:39<00:00,  1.64it/s]                                                                                                                                                                        \n",
      "Val Loss: 0.1830: 100%|██████████| 19/19 [00:05<00:00,  3.28it/s]                                                                                                                                                                                                              \n"
     ]
    },
    {
     "name": "stdout",
     "output_type": "stream",
     "text": [
      "Threshold : 0.20\tFBeta : 0.390181\n",
      "Threshold : 0.25\tFBeta : 0.430691\n",
      "Threshold : 0.30\tFBeta : 0.465374\n",
      "Threshold : 0.35\tFBeta : 0.498303\n",
      "Threshold : 0.40\tFBeta : 0.528500\n",
      "Threshold : 0.45\tFBeta : 0.556445\n",
      "Threshold : 0.50\tFBeta : 0.585318\n",
      "Threshold : 0.55\tFBeta : 0.605445\n",
      "Threshold : 0.60\tFBeta : 0.609767\n",
      "Threshold : 0.65\tFBeta : 0.609481\n",
      "Threshold : 0.70\tFBeta : 0.605838\n",
      "Threshold : 0.75\tFBeta : 0.586902\n",
      "Threshold : 0.80\tFBeta : 0.549490\n",
      "\n"
     ]
    },
    {
     "name": "stderr",
     "output_type": "stream",
     "text": [
      "Epoch 48/70  Mem : 21.8GB  LR : 2.72E-05  Loss: 0.2734: 100%|██████████| 64/64 [00:39<00:00,  1.62it/s]                                                                                                                                                                        \n",
      "Val Loss: 0.1686: 100%|██████████| 19/19 [00:05<00:00,  3.31it/s]                                                                                                                                                                                                              \n"
     ]
    },
    {
     "name": "stdout",
     "output_type": "stream",
     "text": [
      "Threshold : 0.20\tFBeta : 0.466095\n",
      "Threshold : 0.25\tFBeta : 0.507781\n",
      "Threshold : 0.30\tFBeta : 0.542365\n",
      "Threshold : 0.35\tFBeta : 0.570175\n",
      "Threshold : 0.40\tFBeta : 0.592064\n",
      "Threshold : 0.45\tFBeta : 0.608522\n",
      "Threshold : 0.50\tFBeta : 0.616831\n",
      "Threshold : 0.55\tFBeta : 0.619901\n",
      "Threshold : 0.60\tFBeta : 0.613469\n",
      "Threshold : 0.65\tFBeta : 0.596402\n",
      "Threshold : 0.70\tFBeta : 0.565088\n",
      "Threshold : 0.75\tFBeta : 0.514900\n",
      "Threshold : 0.80\tFBeta : 0.448127\n",
      "\n"
     ]
    },
    {
     "name": "stderr",
     "output_type": "stream",
     "text": [
      "Epoch 49/70  Mem : 21.8GB  LR : 2.50E-05  Loss: 0.2711: 100%|██████████| 64/64 [00:39<00:00,  1.62it/s]                                                                                                                                                                        \n",
      "Val Loss: 0.1671: 100%|██████████| 19/19 [00:05<00:00,  3.29it/s]                                                                                                                                                                                                              \n"
     ]
    },
    {
     "name": "stdout",
     "output_type": "stream",
     "text": [
      "Threshold : 0.20\tFBeta : 0.481708\n",
      "Threshold : 0.25\tFBeta : 0.518674\n",
      "Threshold : 0.30\tFBeta : 0.549298\n",
      "Threshold : 0.35\tFBeta : 0.573167\n",
      "Threshold : 0.40\tFBeta : 0.589689\n",
      "Threshold : 0.45\tFBeta : 0.601029\n",
      "Threshold : 0.50\tFBeta : 0.608437\n",
      "Threshold : 0.55\tFBeta : 0.608320\n",
      "Threshold : 0.60\tFBeta : 0.601888\n",
      "Threshold : 0.65\tFBeta : 0.587523\n",
      "Threshold : 0.70\tFBeta : 0.554542\n",
      "Threshold : 0.75\tFBeta : 0.503421\n",
      "Threshold : 0.80\tFBeta : 0.430736\n",
      "\n"
     ]
    },
    {
     "name": "stderr",
     "output_type": "stream",
     "text": [
      "Epoch 50/70  Mem : 21.8GB  LR : 2.29E-05  Loss: 0.2713: 100%|██████████| 64/64 [00:39<00:00,  1.61it/s]                                                                                                                                                                        \n",
      "Val Loss: 0.1900: 100%|██████████| 19/19 [00:05<00:00,  3.26it/s]                                                                                                                                                                                                              \n"
     ]
    },
    {
     "name": "stdout",
     "output_type": "stream",
     "text": [
      "Threshold : 0.20\tFBeta : 0.371918\n",
      "Threshold : 0.25\tFBeta : 0.410325\n",
      "Threshold : 0.30\tFBeta : 0.443195\n",
      "Threshold : 0.35\tFBeta : 0.474241\n",
      "Threshold : 0.40\tFBeta : 0.504010\n",
      "Threshold : 0.45\tFBeta : 0.526939\n",
      "Threshold : 0.50\tFBeta : 0.544700\n",
      "Threshold : 0.55\tFBeta : 0.560004\n",
      "Threshold : 0.60\tFBeta : 0.575111\n",
      "Threshold : 0.65\tFBeta : 0.587519\n",
      "Threshold : 0.70\tFBeta : 0.594656\n",
      "Threshold : 0.75\tFBeta : 0.594194\n",
      "Threshold : 0.80\tFBeta : 0.579039\n",
      "\n"
     ]
    },
    {
     "name": "stderr",
     "output_type": "stream",
     "text": [
      "Epoch 51/70  Mem : 21.8GB  LR : 2.08E-05  Loss: 0.2679: 100%|██████████| 64/64 [00:40<00:00,  1.60it/s]                                                                                                                                                                        \n",
      "Val Loss: 0.1892: 100%|██████████| 19/19 [00:05<00:00,  3.32it/s]                                                                                                                                                                                                              \n"
     ]
    },
    {
     "name": "stdout",
     "output_type": "stream",
     "text": [
      "Threshold : 0.20\tFBeta : 0.376966\n",
      "Threshold : 0.25\tFBeta : 0.407850\n",
      "Threshold : 0.30\tFBeta : 0.435720\n",
      "Threshold : 0.35\tFBeta : 0.463138\n",
      "Threshold : 0.40\tFBeta : 0.488745\n",
      "Threshold : 0.45\tFBeta : 0.511093\n",
      "Threshold : 0.50\tFBeta : 0.532829\n",
      "Threshold : 0.55\tFBeta : 0.553434\n",
      "Threshold : 0.60\tFBeta : 0.571521\n",
      "Threshold : 0.65\tFBeta : 0.587956\n",
      "Threshold : 0.70\tFBeta : 0.597168\n",
      "Threshold : 0.75\tFBeta : 0.591765\n",
      "Threshold : 0.80\tFBeta : 0.569631\n",
      "\n"
     ]
    },
    {
     "name": "stderr",
     "output_type": "stream",
     "text": [
      "Epoch 52/70  Mem : 21.8GB  LR : 1.88E-05  Loss: 0.2658: 100%|██████████| 64/64 [00:40<00:00,  1.60it/s]                                                                                                                                                                        \n",
      "Val Loss: 0.1771: 100%|██████████| 19/19 [00:05<00:00,  3.25it/s]                                                                                                                                                                                                              \n"
     ]
    },
    {
     "name": "stdout",
     "output_type": "stream",
     "text": [
      "Threshold : 0.20\tFBeta : 0.422746\n",
      "Threshold : 0.25\tFBeta : 0.455627\n",
      "Threshold : 0.30\tFBeta : 0.483257\n",
      "Threshold : 0.35\tFBeta : 0.506312\n",
      "Threshold : 0.40\tFBeta : 0.527141\n",
      "Threshold : 0.45\tFBeta : 0.545967\n",
      "Threshold : 0.50\tFBeta : 0.564715\n",
      "Threshold : 0.55\tFBeta : 0.582478\n",
      "Threshold : 0.60\tFBeta : 0.593921\n",
      "Threshold : 0.65\tFBeta : 0.598076\n",
      "Threshold : 0.70\tFBeta : 0.596700\n",
      "Threshold : 0.75\tFBeta : 0.582533\n",
      "Threshold : 0.80\tFBeta : 0.548814\n",
      "\n"
     ]
    },
    {
     "name": "stderr",
     "output_type": "stream",
     "text": [
      "Epoch 53/70  Mem : 21.8GB  LR : 1.69E-05  Loss: 0.2631: 100%|██████████| 64/64 [00:40<00:00,  1.59it/s]                                                                                                                                                                        \n",
      "Val Loss: 0.1830: 100%|██████████| 19/19 [00:05<00:00,  3.27it/s]                                                                                                                                                                                                              \n"
     ]
    },
    {
     "name": "stdout",
     "output_type": "stream",
     "text": [
      "Threshold : 0.20\tFBeta : 0.394092\n",
      "Threshold : 0.25\tFBeta : 0.427762\n",
      "Threshold : 0.30\tFBeta : 0.458646\n",
      "Threshold : 0.35\tFBeta : 0.490420\n",
      "Threshold : 0.40\tFBeta : 0.518946\n",
      "Threshold : 0.45\tFBeta : 0.544989\n",
      "Threshold : 0.50\tFBeta : 0.564052\n",
      "Threshold : 0.55\tFBeta : 0.580957\n",
      "Threshold : 0.60\tFBeta : 0.598234\n",
      "Threshold : 0.65\tFBeta : 0.608362\n",
      "Threshold : 0.70\tFBeta : 0.607562\n",
      "Threshold : 0.75\tFBeta : 0.600190\n",
      "Threshold : 0.80\tFBeta : 0.582635\n",
      "\n"
     ]
    },
    {
     "name": "stderr",
     "output_type": "stream",
     "text": [
      "Epoch 54/70  Mem : 21.8GB  LR : 1.51E-05  Loss: 0.2600: 100%|██████████| 64/64 [00:39<00:00,  1.62it/s]                                                                                                                                                                        \n",
      "Val Loss: 0.1836: 100%|██████████| 19/19 [00:05<00:00,  3.31it/s]                                                                                                                                                                                                              \n"
     ]
    },
    {
     "name": "stdout",
     "output_type": "stream",
     "text": [
      "Threshold : 0.20\tFBeta : 0.402946\n",
      "Threshold : 0.25\tFBeta : 0.438453\n",
      "Threshold : 0.30\tFBeta : 0.469966\n",
      "Threshold : 0.35\tFBeta : 0.497601\n",
      "Threshold : 0.40\tFBeta : 0.523888\n",
      "Threshold : 0.45\tFBeta : 0.544008\n",
      "Threshold : 0.50\tFBeta : 0.560317\n",
      "Threshold : 0.55\tFBeta : 0.577540\n",
      "Threshold : 0.60\tFBeta : 0.590757\n",
      "Threshold : 0.65\tFBeta : 0.596547\n",
      "Threshold : 0.70\tFBeta : 0.597953\n",
      "Threshold : 0.75\tFBeta : 0.593409\n",
      "Threshold : 0.80\tFBeta : 0.578471\n",
      "\n"
     ]
    },
    {
     "name": "stderr",
     "output_type": "stream",
     "text": [
      "Epoch 55/70  Mem : 21.8GB  LR : 1.33E-05  Loss: 0.2653: 100%|██████████| 64/64 [00:39<00:00,  1.63it/s]                                                                                                                                                                        \n",
      "Val Loss: 0.1725: 100%|██████████| 19/19 [00:05<00:00,  3.25it/s]                                                                                                                                                                                                              \n"
     ]
    },
    {
     "name": "stdout",
     "output_type": "stream",
     "text": [
      "Threshold : 0.20\tFBeta : 0.427590\n",
      "Threshold : 0.25\tFBeta : 0.464700\n",
      "Threshold : 0.30\tFBeta : 0.495925\n",
      "Threshold : 0.35\tFBeta : 0.526174\n",
      "Threshold : 0.40\tFBeta : 0.551245\n",
      "Threshold : 0.45\tFBeta : 0.571856\n",
      "Threshold : 0.50\tFBeta : 0.590228\n",
      "Threshold : 0.55\tFBeta : 0.605583\n",
      "Threshold : 0.60\tFBeta : 0.611231\n",
      "Threshold : 0.65\tFBeta : 0.610777\n",
      "Threshold : 0.70\tFBeta : 0.600132\n",
      "Threshold : 0.75\tFBeta : 0.576971\n",
      "Threshold : 0.80\tFBeta : 0.529811\n",
      "\n"
     ]
    },
    {
     "name": "stderr",
     "output_type": "stream",
     "text": [
      "Epoch 56/70  Mem : 21.8GB  LR : 1.17E-05  Loss: 0.2631: 100%|██████████| 64/64 [00:39<00:00,  1.62it/s]                                                                                                                                                                        \n",
      "Val Loss: 0.1764: 100%|██████████| 19/19 [00:05<00:00,  3.27it/s]                                                                                                                                                                                                              \n"
     ]
    },
    {
     "name": "stdout",
     "output_type": "stream",
     "text": [
      "Threshold : 0.20\tFBeta : 0.415639\n",
      "Threshold : 0.25\tFBeta : 0.453433\n",
      "Threshold : 0.30\tFBeta : 0.487390\n",
      "Threshold : 0.35\tFBeta : 0.518116\n",
      "Threshold : 0.40\tFBeta : 0.542599\n",
      "Threshold : 0.45\tFBeta : 0.563722\n",
      "Threshold : 0.50\tFBeta : 0.581386\n",
      "Threshold : 0.55\tFBeta : 0.594686\n",
      "Threshold : 0.60\tFBeta : 0.602711\n",
      "Threshold : 0.65\tFBeta : 0.606267\n",
      "Threshold : 0.70\tFBeta : 0.597958\n",
      "Threshold : 0.75\tFBeta : 0.580986\n",
      "Threshold : 0.80\tFBeta : 0.546424\n",
      "\n"
     ]
    },
    {
     "name": "stderr",
     "output_type": "stream",
     "text": [
      "Epoch 57/70  Mem : 21.8GB  LR : 1.01E-05  Loss: 0.2532: 100%|██████████| 64/64 [00:39<00:00,  1.62it/s]                                                                                                                                                                        \n",
      "Val Loss: 0.1720: 100%|██████████| 19/19 [00:05<00:00,  3.28it/s]                                                                                                                                                                                                              \n"
     ]
    },
    {
     "name": "stdout",
     "output_type": "stream",
     "text": [
      "Threshold : 0.20\tFBeta : 0.452058\n",
      "Threshold : 0.25\tFBeta : 0.487688\n",
      "Threshold : 0.30\tFBeta : 0.514439\n",
      "Threshold : 0.35\tFBeta : 0.536181\n",
      "Threshold : 0.40\tFBeta : 0.554184\n",
      "Threshold : 0.45\tFBeta : 0.567809\n",
      "Threshold : 0.50\tFBeta : 0.581092\n",
      "Threshold : 0.55\tFBeta : 0.595460\n",
      "Threshold : 0.60\tFBeta : 0.603223\n",
      "Threshold : 0.65\tFBeta : 0.605774\n",
      "Threshold : 0.70\tFBeta : 0.601698\n",
      "Threshold : 0.75\tFBeta : 0.588185\n",
      "Threshold : 0.80\tFBeta : 0.554687\n",
      "\n"
     ]
    },
    {
     "name": "stderr",
     "output_type": "stream",
     "text": [
      "Epoch 58/70  Mem : 21.8GB  LR : 8.69E-06  Loss: 0.2586: 100%|██████████| 64/64 [00:39<00:00,  1.60it/s]                                                                                                                                                                        \n",
      "Val Loss: 0.1676: 100%|██████████| 19/19 [00:05<00:00,  3.28it/s]                                                                                                                                                                                                              \n"
     ]
    },
    {
     "name": "stdout",
     "output_type": "stream",
     "text": [
      "Threshold : 0.20\tFBeta : 0.465391\n",
      "Threshold : 0.25\tFBeta : 0.508001\n",
      "Threshold : 0.30\tFBeta : 0.539834\n",
      "Threshold : 0.35\tFBeta : 0.566939\n",
      "Threshold : 0.40\tFBeta : 0.588479\n",
      "Threshold : 0.45\tFBeta : 0.602074\n",
      "Threshold : 0.50\tFBeta : 0.609870\n",
      "Threshold : 0.55\tFBeta : 0.613637\n",
      "Threshold : 0.60\tFBeta : 0.613207\n",
      "Threshold : 0.65\tFBeta : 0.611207\n",
      "Threshold : 0.70\tFBeta : 0.602800\n",
      "Threshold : 0.75\tFBeta : 0.578821\n",
      "Threshold : 0.80\tFBeta : 0.528894\n",
      "\n"
     ]
    },
    {
     "name": "stderr",
     "output_type": "stream",
     "text": [
      "Epoch 59/70  Mem : 21.8GB  LR : 7.34E-06  Loss: 0.2573: 100%|██████████| 64/64 [00:39<00:00,  1.61it/s]                                                                                                                                                                        \n",
      "Val Loss: 0.1642: 100%|██████████| 19/19 [00:05<00:00,  3.28it/s]                                                                                                                                                                                                              \n"
     ]
    },
    {
     "name": "stdout",
     "output_type": "stream",
     "text": [
      "Threshold : 0.20\tFBeta : 0.523801\n",
      "Threshold : 0.25\tFBeta : 0.557350\n",
      "Threshold : 0.30\tFBeta : 0.584155\n",
      "Threshold : 0.35\tFBeta : 0.604191\n",
      "Threshold : 0.40\tFBeta : 0.614979\n",
      "Threshold : 0.45\tFBeta : 0.620058\n",
      "Threshold : 0.50\tFBeta : 0.625213\n",
      "Threshold : 0.55\tFBeta : 0.617851\n",
      "Threshold : 0.60\tFBeta : 0.597795\n",
      "Threshold : 0.65\tFBeta : 0.567348\n",
      "Threshold : 0.70\tFBeta : 0.528918\n",
      "Threshold : 0.75\tFBeta : 0.473640\n",
      "Threshold : 0.80\tFBeta : 0.404280\n",
      "\n"
     ]
    },
    {
     "name": "stderr",
     "output_type": "stream",
     "text": [
      "Epoch 60/70  Mem : 21.8GB  LR : 6.09E-06  Loss: 0.2480: 100%|██████████| 64/64 [00:39<00:00,  1.63it/s]                                                                                                                                                                        \n",
      "Val Loss: 0.1686: 100%|██████████| 19/19 [00:05<00:00,  3.33it/s]                                                                                                                                                                                                              \n"
     ]
    },
    {
     "name": "stdout",
     "output_type": "stream",
     "text": [
      "Threshold : 0.20\tFBeta : 0.474794\n",
      "Threshold : 0.25\tFBeta : 0.512547\n",
      "Threshold : 0.30\tFBeta : 0.538501\n",
      "Threshold : 0.35\tFBeta : 0.557377\n",
      "Threshold : 0.40\tFBeta : 0.574903\n",
      "Threshold : 0.45\tFBeta : 0.590065\n",
      "Threshold : 0.50\tFBeta : 0.603701\n",
      "Threshold : 0.55\tFBeta : 0.613224\n",
      "Threshold : 0.60\tFBeta : 0.621512\n",
      "Threshold : 0.65\tFBeta : 0.623605\n",
      "Threshold : 0.70\tFBeta : 0.617480\n",
      "Threshold : 0.75\tFBeta : 0.596986\n",
      "Threshold : 0.80\tFBeta : 0.557745\n",
      "\n"
     ]
    },
    {
     "name": "stderr",
     "output_type": "stream",
     "text": [
      "Epoch 61/70  Mem : 21.8GB  LR : 4.95E-06  Loss: 0.2434: 100%|██████████| 64/64 [00:39<00:00,  1.62it/s]                                                                                                                                                                        \n",
      "Val Loss: 0.1676: 100%|██████████| 19/19 [00:05<00:00,  3.28it/s]                                                                                                                                                                                                              \n"
     ]
    },
    {
     "name": "stdout",
     "output_type": "stream",
     "text": [
      "Threshold : 0.20\tFBeta : 0.478557\n",
      "Threshold : 0.25\tFBeta : 0.512762\n",
      "Threshold : 0.30\tFBeta : 0.536151\n",
      "Threshold : 0.35\tFBeta : 0.557625\n",
      "Threshold : 0.40\tFBeta : 0.576900\n",
      "Threshold : 0.45\tFBeta : 0.593272\n",
      "Threshold : 0.50\tFBeta : 0.604593\n",
      "Threshold : 0.55\tFBeta : 0.611928\n",
      "Threshold : 0.60\tFBeta : 0.618150\n",
      "Threshold : 0.65\tFBeta : 0.621781\n",
      "Threshold : 0.70\tFBeta : 0.616871\n",
      "Threshold : 0.75\tFBeta : 0.596627\n",
      "Threshold : 0.80\tFBeta : 0.556656\n",
      "\n"
     ]
    },
    {
     "name": "stderr",
     "output_type": "stream",
     "text": [
      "Epoch 62/70  Mem : 21.8GB  LR : 3.93E-06  Loss: 0.2542: 100%|██████████| 64/64 [00:39<00:00,  1.62it/s]                                                                                                                                                                        \n",
      "Val Loss: 0.1704: 100%|██████████| 19/19 [00:05<00:00,  3.28it/s]                                                                                                                                                                                                              \n"
     ]
    },
    {
     "name": "stdout",
     "output_type": "stream",
     "text": [
      "Threshold : 0.20\tFBeta : 0.458672\n",
      "Threshold : 0.25\tFBeta : 0.494225\n",
      "Threshold : 0.30\tFBeta : 0.520829\n",
      "Threshold : 0.35\tFBeta : 0.543720\n",
      "Threshold : 0.40\tFBeta : 0.563919\n",
      "Threshold : 0.45\tFBeta : 0.580315\n",
      "Threshold : 0.50\tFBeta : 0.596124\n",
      "Threshold : 0.55\tFBeta : 0.609092\n",
      "Threshold : 0.60\tFBeta : 0.618669\n",
      "Threshold : 0.65\tFBeta : 0.623281\n",
      "Threshold : 0.70\tFBeta : 0.622183\n",
      "Threshold : 0.75\tFBeta : 0.614077\n",
      "Threshold : 0.80\tFBeta : 0.594713\n",
      "\n"
     ]
    },
    {
     "name": "stderr",
     "output_type": "stream",
     "text": [
      "Epoch 63/70  Mem : 21.8GB  LR : 3.02E-06  Loss: 0.2563: 100%|██████████| 64/64 [00:40<00:00,  1.60it/s]                                                                                                                                                                        \n",
      "Val Loss: 0.1693: 100%|██████████| 19/19 [00:05<00:00,  3.30it/s]                                                                                                                                                                                                              \n"
     ]
    },
    {
     "name": "stdout",
     "output_type": "stream",
     "text": [
      "Threshold : 0.20\tFBeta : 0.457003\n",
      "Threshold : 0.25\tFBeta : 0.491975\n",
      "Threshold : 0.30\tFBeta : 0.521651\n",
      "Threshold : 0.35\tFBeta : 0.546606\n",
      "Threshold : 0.40\tFBeta : 0.566944\n",
      "Threshold : 0.45\tFBeta : 0.583426\n",
      "Threshold : 0.50\tFBeta : 0.599193\n",
      "Threshold : 0.55\tFBeta : 0.608701\n",
      "Threshold : 0.60\tFBeta : 0.615834\n",
      "Threshold : 0.65\tFBeta : 0.622204\n",
      "Threshold : 0.70\tFBeta : 0.622902\n",
      "Threshold : 0.75\tFBeta : 0.611592\n",
      "Threshold : 0.80\tFBeta : 0.584613\n",
      "\n"
     ]
    },
    {
     "name": "stderr",
     "output_type": "stream",
     "text": [
      "Epoch 64/70  Mem : 21.8GB  LR : 2.22E-06  Loss: 0.2504: 100%|██████████| 64/64 [00:39<00:00,  1.61it/s]                                                                                                                                                                        \n",
      "Val Loss: 0.1646: 100%|██████████| 19/19 [00:05<00:00,  3.28it/s]                                                                                                                                                                                                              \n"
     ]
    },
    {
     "name": "stdout",
     "output_type": "stream",
     "text": [
      "Threshold : 0.20\tFBeta : 0.486920\n",
      "Threshold : 0.25\tFBeta : 0.523392\n",
      "Threshold : 0.30\tFBeta : 0.548598\n",
      "Threshold : 0.35\tFBeta : 0.570912\n",
      "Threshold : 0.40\tFBeta : 0.589090\n",
      "Threshold : 0.45\tFBeta : 0.606627\n",
      "Threshold : 0.50\tFBeta : 0.619678\n",
      "Threshold : 0.55\tFBeta : 0.628041\n",
      "Threshold : 0.60\tFBeta : 0.632573\n",
      "Threshold : 0.65\tFBeta : 0.632343\n",
      "Threshold : 0.70\tFBeta : 0.622574\n",
      "Threshold : 0.75\tFBeta : 0.599180\n",
      "Threshold : 0.80\tFBeta : 0.556373\n",
      "\n"
     ]
    },
    {
     "name": "stderr",
     "output_type": "stream",
     "text": [
      "Epoch 65/70  Mem : 21.8GB  LR : 1.55E-06  Loss: 0.2515: 100%|██████████| 64/64 [00:39<00:00,  1.61it/s]                                                                                                                                                                        \n",
      "Val Loss: 0.1667: 100%|██████████| 19/19 [00:05<00:00,  3.31it/s]                                                                                                                                                                                                              \n"
     ]
    },
    {
     "name": "stdout",
     "output_type": "stream",
     "text": [
      "Threshold : 0.20\tFBeta : 0.476497\n",
      "Threshold : 0.25\tFBeta : 0.512613\n",
      "Threshold : 0.30\tFBeta : 0.542561\n",
      "Threshold : 0.35\tFBeta : 0.566205\n",
      "Threshold : 0.40\tFBeta : 0.585012\n",
      "Threshold : 0.45\tFBeta : 0.601171\n",
      "Threshold : 0.50\tFBeta : 0.612483\n",
      "Threshold : 0.55\tFBeta : 0.619556\n",
      "Threshold : 0.60\tFBeta : 0.625177\n",
      "Threshold : 0.65\tFBeta : 0.627373\n",
      "Threshold : 0.70\tFBeta : 0.617531\n",
      "Threshold : 0.75\tFBeta : 0.594526\n",
      "Threshold : 0.80\tFBeta : 0.550330\n",
      "\n"
     ]
    },
    {
     "name": "stderr",
     "output_type": "stream",
     "text": [
      "Epoch 66/70  Mem : 21.8GB  LR : 9.92E-07  Loss: 0.2493: 100%|██████████| 64/64 [00:39<00:00,  1.62it/s]                                                                                                                                                                        \n",
      "Val Loss: 0.1682: 100%|██████████| 19/19 [00:05<00:00,  3.27it/s]                                                                                                                                                                                                              \n"
     ]
    },
    {
     "name": "stdout",
     "output_type": "stream",
     "text": [
      "Threshold : 0.20\tFBeta : 0.468203\n",
      "Threshold : 0.25\tFBeta : 0.506615\n",
      "Threshold : 0.30\tFBeta : 0.535813\n",
      "Threshold : 0.35\tFBeta : 0.559472\n",
      "Threshold : 0.40\tFBeta : 0.578699\n",
      "Threshold : 0.45\tFBeta : 0.594820\n",
      "Threshold : 0.50\tFBeta : 0.607408\n",
      "Threshold : 0.55\tFBeta : 0.614228\n",
      "Threshold : 0.60\tFBeta : 0.621990\n",
      "Threshold : 0.65\tFBeta : 0.625587\n",
      "Threshold : 0.70\tFBeta : 0.617338\n",
      "Threshold : 0.75\tFBeta : 0.593183\n",
      "Threshold : 0.80\tFBeta : 0.547143\n",
      "\n"
     ]
    },
    {
     "name": "stderr",
     "output_type": "stream",
     "text": [
      "Epoch 67/70  Mem : 21.8GB  LR : 5.59E-07  Loss: 0.2545: 100%|██████████| 64/64 [00:39<00:00,  1.61it/s]                                                                                                                                                                        \n",
      "Val Loss: 0.1665: 100%|██████████| 19/19 [00:05<00:00,  3.32it/s]                                                                                                                                                                                                              \n"
     ]
    },
    {
     "name": "stdout",
     "output_type": "stream",
     "text": [
      "Threshold : 0.20\tFBeta : 0.483888\n",
      "Threshold : 0.25\tFBeta : 0.521431\n",
      "Threshold : 0.30\tFBeta : 0.549789\n",
      "Threshold : 0.35\tFBeta : 0.571119\n",
      "Threshold : 0.40\tFBeta : 0.588390\n",
      "Threshold : 0.45\tFBeta : 0.602992\n",
      "Threshold : 0.50\tFBeta : 0.611621\n",
      "Threshold : 0.55\tFBeta : 0.619551\n",
      "Threshold : 0.60\tFBeta : 0.624505\n",
      "Threshold : 0.65\tFBeta : 0.623175\n",
      "Threshold : 0.70\tFBeta : 0.609791\n",
      "Threshold : 0.75\tFBeta : 0.580922\n",
      "Threshold : 0.80\tFBeta : 0.531511\n",
      "\n"
     ]
    },
    {
     "name": "stderr",
     "output_type": "stream",
     "text": [
      "Epoch 68/70  Mem : 21.8GB  LR : 2.49E-07  Loss: 0.2489: 100%|██████████| 64/64 [00:39<00:00,  1.64it/s]                                                                                                                                                                        \n",
      "Val Loss: 0.1712: 100%|██████████| 19/19 [00:05<00:00,  3.30it/s]                                                                                                                                                                                                              \n"
     ]
    },
    {
     "name": "stdout",
     "output_type": "stream",
     "text": [
      "Threshold : 0.20\tFBeta : 0.449386\n",
      "Threshold : 0.25\tFBeta : 0.484708\n",
      "Threshold : 0.30\tFBeta : 0.513945\n",
      "Threshold : 0.35\tFBeta : 0.540500\n",
      "Threshold : 0.40\tFBeta : 0.562909\n",
      "Threshold : 0.45\tFBeta : 0.578577\n",
      "Threshold : 0.50\tFBeta : 0.593807\n",
      "Threshold : 0.55\tFBeta : 0.604053\n",
      "Threshold : 0.60\tFBeta : 0.610799\n",
      "Threshold : 0.65\tFBeta : 0.616746\n",
      "Threshold : 0.70\tFBeta : 0.619981\n",
      "Threshold : 0.75\tFBeta : 0.610584\n",
      "Threshold : 0.80\tFBeta : 0.583832\n",
      "\n"
     ]
    },
    {
     "name": "stderr",
     "output_type": "stream",
     "text": [
      "Epoch 69/70  Mem : 21.8GB  LR : 6.26E-08  Loss: 0.2516: 100%|██████████| 64/64 [00:39<00:00,  1.61it/s]                                                                                                                                                                        \n",
      "Val Loss: 0.1666: 100%|██████████| 19/19 [00:05<00:00,  3.33it/s]                                                                                                                                                                                                              \n"
     ]
    },
    {
     "name": "stdout",
     "output_type": "stream",
     "text": [
      "Threshold : 0.20\tFBeta : 0.482529\n",
      "Threshold : 0.25\tFBeta : 0.519395\n",
      "Threshold : 0.30\tFBeta : 0.546296\n",
      "Threshold : 0.35\tFBeta : 0.566541\n",
      "Threshold : 0.40\tFBeta : 0.582380\n",
      "Threshold : 0.45\tFBeta : 0.598439\n",
      "Threshold : 0.50\tFBeta : 0.609194\n",
      "Threshold : 0.55\tFBeta : 0.615995\n",
      "Threshold : 0.60\tFBeta : 0.620294\n",
      "Threshold : 0.65\tFBeta : 0.620336\n",
      "Threshold : 0.70\tFBeta : 0.611929\n",
      "Threshold : 0.75\tFBeta : 0.586442\n",
      "Threshold : 0.80\tFBeta : 0.540508\n",
      "\n"
     ]
    },
    {
     "name": "stderr",
     "output_type": "stream",
     "text": [
      "Epoch 70/70  Mem : 21.8GB  LR : 4.00E-10  Loss: 0.2498: 100%|██████████| 64/64 [00:39<00:00,  1.62it/s]                                                                                                                                                                        \n",
      "Val Loss: 0.1643: 100%|██████████| 19/19 [00:05<00:00,  3.28it/s]                                                                                                                                                                                                              \n"
     ]
    },
    {
     "name": "stdout",
     "output_type": "stream",
     "text": [
      "Threshold : 0.20\tFBeta : 0.497056\n",
      "Threshold : 0.25\tFBeta : 0.535904\n",
      "Threshold : 0.30\tFBeta : 0.560746\n",
      "Threshold : 0.35\tFBeta : 0.579338\n",
      "Threshold : 0.40\tFBeta : 0.595574\n",
      "Threshold : 0.45\tFBeta : 0.608726\n",
      "Threshold : 0.50\tFBeta : 0.615717\n",
      "Threshold : 0.55\tFBeta : 0.621772\n",
      "Threshold : 0.60\tFBeta : 0.624942\n",
      "Threshold : 0.65\tFBeta : 0.619283\n",
      "Threshold : 0.70\tFBeta : 0.602723\n",
      "Threshold : 0.75\tFBeta : 0.571318\n",
      "Threshold : 0.80\tFBeta : 0.517476\n",
      "\n"
     ]
    }
   ],
   "source": [
    "fbeta_best = 0.0\n",
    "for epoch in range(1, EPOCHS+1):\n",
    "    model.train()\n",
    "    cur_lr = f\"LR : {scheduler.get_last_lr()[0]:.2E}\"\n",
    "    pbar_train = enumerate(dataloader_train)\n",
    "    pbar_train = tqdm(pbar_train, total=n_train, bar_format=\"{l_bar}{bar:10}{r_bar}{bar:-10b}\")\n",
    "    mloss_train, mloss_val, val_metric = 0.0, 0.0, 0.0\n",
    "\n",
    "    \n",
    "\n",
    "\n",
    "\n",
    "\n",
    "    for i, (fragments, masks) in pbar_train:\n",
    "        fragments, masks = fragments.cuda().half(), masks.cuda().half()\n",
    "        \n",
    "        \n",
    "        optimizer.zero_grad()\n",
    "        with amp.autocast():\n",
    "            pred_masks = model(fragments)\n",
    "            loss = criterion(pred_masks, masks)\n",
    "            scaler.scale(loss).backward()\n",
    "            scaler.step(optimizer)\n",
    "            scaler.update()\n",
    "            mloss_train += loss.detach().item()\n",
    "\n",
    "        gpu_mem = f\"Mem : {torch.cuda.memory_reserved() / 1E9:.3g}GB\"\n",
    "        pbar_train.set_description((\"%10s  \" * 3 + \"%10s\") % (f\"Epoch {epoch}/{EPOCHS}\", gpu_mem, cur_lr,\n",
    "                                                              f\"Loss: {mloss_train / (i + 1):.4f}\"))\n",
    "        \n",
    "    scheduler.step()\n",
    "    model.eval()\n",
    "    pbar_val = enumerate(dataloader_valid)\n",
    "    pbar_val = tqdm(pbar_val, total=n_valid, bar_format=\"{l_bar}{bar:10}{r_bar}{bar:-10b}\")\n",
    "    final_pred_mask = torch.zeros(gt_shape, dtype=torch.float32, device='cuda')\n",
    "    \n",
    "    for i, (fragments, masks, xys) in pbar_val:\n",
    "        fragments, masks = fragments.cuda(), masks.cuda()\n",
    "        \n",
    "        with torch.no_grad():\n",
    "            pred_masks = model(fragments)\n",
    "            mloss_val += criterion(pred_masks, masks).item()\n",
    "            pred_masks = torch.sigmoid(pred_masks)\n",
    "        \n",
    "        for j, xy in enumerate(xys):\n",
    "            final_pred_mask[xy[1]:xy[3], xy[0]:xy[2]] = pred_masks[j, 0]\n",
    "\n",
    "        pbar_val.set_description((\"%10s\") % (f\"Val Loss: {mloss_val / (i+1):.4f}\"))\n",
    "    \n",
    "    for threshold in np.arange(0.2, 0.85, 0.05):\n",
    "        fbeta = fbeta_score(final_pred_mask, gt_mask, threshold)\n",
    "        print(f\"Threshold : {threshold:.2f}\\tFBeta : {fbeta:.6f}\")\n",
    "        \n",
    "        if fbeta_best < fbeta:\n",
    "            fbeta_best = fbeta\n",
    "            torch.save(model.module.state_dict(), f\"./ckpts/resnet18_3d_seg_best_{fbeta_best:.4f}.pt\")\n",
    "    \n",
    "    \n",
    "    if epoch >= 10:\n",
    "        torch.save(model.module.state_dict(), f\"./ckpts/resnet18_3d_seg_epoch_{epoch}.pt\")\n",
    "\n",
    "    # if epoch == 30:\n",
    "    #     break\n",
    "\n",
    "    print()"
   ]
  },
  {
   "cell_type": "code",
   "execution_count": 22,
   "id": "2c48f344",
   "metadata": {
    "execution": {
     "iopub.execute_input": "2023-05-22T22:41:47.383107Z",
     "iopub.status.busy": "2023-05-22T22:41:47.382972Z",
     "iopub.status.idle": "2023-05-22T22:41:47.385172Z",
     "shell.execute_reply": "2023-05-22T22:41:47.384923Z"
    }
   },
   "outputs": [],
   "source": [
    "# import logging\n",
    "\n",
    "# logging.basicConfig(filename=\"training_log.txt\", level=logging.INFO)\n",
    "\n",
    "# console = logging.StreamHandler()\n",
    "# console.setLevel(logging.INFO)\n",
    "# logging.getLogger('').addHandler(console)\n",
    "\n",
    "# fbeta_best = 0.0\n",
    "# for epoch in range(1, EPOCHS+1):\n",
    "#     model.train()\n",
    "#     cur_lr = f\"LR : {scheduler.get_last_lr()[0]:.2E}\"\n",
    "#     pbar_train = enumerate(dataloader_train)\n",
    "#     pbar_train = tqdm(pbar_train, total=n_train, bar_format=\"{l_bar}{bar:10}{r_bar}{bar:-10b}\")\n",
    "#     mloss_train, mloss_val, val_metric = 0.0, 0.0, 0.0\n",
    "\n",
    "#     for i, (fragments, masks) in pbar_train:\n",
    "#         fragments, masks = fragments.cuda().half(), masks.cuda().half()\n",
    "        \n",
    "#         optimizer.zero_grad()\n",
    "#         with amp.autocast():\n",
    "#             pred_masks = model(fragments)\n",
    "#             loss = criterion(pred_masks, masks)\n",
    "#             scaler.scale(loss).backward()\n",
    "#             scaler.step(optimizer)\n",
    "#             scaler.update()\n",
    "#             mloss_train += loss.detach().item()\n",
    "\n",
    "#         gpu_mem = f\"Mem : {torch.cuda.memory_reserved() / 1E9:.3g}GB\"\n",
    "#         pbar_train.set_description((\"%10s  \" * 3 + \"%10s\") % (f\"Epoch {epoch}/{EPOCHS}\", gpu_mem, cur_lr,\n",
    "#                                                               f\"Loss: {mloss_train / (i + 1):.4f}\"))\n",
    "#         logging.info((\"%10s  \" * 3 + \"%10s\") % (f\"Epoch {epoch}/{EPOCHS}\", gpu_mem, cur_lr,\n",
    "#                                                 f\"Loss: {mloss_train / (i + 1):.4f}\"))\n",
    "#     scheduler.step()\n",
    "#     model.eval()\n",
    "#     pbar_val = enumerate(dataloader_valid)\n",
    "#     pbar_val = tqdm(pbar_val, total=n_valid, bar_format=\"{l_bar}{bar:10}{r_bar}{bar:-10b}\")\n",
    "#     final_pred_mask = torch.zeros(gt_shape, dtype=torch.float32, device='cuda')\n",
    "    \n",
    "#     for i, (fragments, masks, xys) in pbar_val:\n",
    "#         fragments, masks = fragments.cuda(), masks.cuda()\n",
    "        \n",
    "#         with torch.no_grad():\n",
    "#             pred_masks = model(fragments)\n",
    "#             mloss_val += criterion(pred_masks, masks).item()\n",
    "#             pred_masks = torch.sigmoid(pred_masks)\n",
    "        \n",
    "#         for j, xy in enumerate(xys):\n",
    "#             final_pred_mask[xy[1]:xy[3], xy[0]:xy[2]] = pred_masks[j, 0]\n",
    "\n",
    "#         pbar_val.set_description((\"%10s\") % (f\"Val Loss: {mloss_val / (i+1):.4f}\"))\n",
    "#         logging.info((\"%10s\") % (f\"Val Loss: {mloss_val / (i+1):.4f}\"))\n",
    "\n",
    "#     for threshold in np.arange(0.2, 0.85, 0.05):\n",
    "#         fbeta = fbeta_score(final_pred_mask, gt_mask, threshold)\n",
    "#         logging.info(f\"Threshold : {threshold:.2f}\\tFBeta : {fbeta:.6f}\")\n",
    "\n",
    "#         if fbeta_best < fbeta:\n",
    "#             fbeta_best = fbeta\n",
    "#             torch.save(model.module.state_dict(), f\"./ckpts/resnet18_3d_seg_best.pt\")\n",
    "    \n",
    "#     # if epoch >= 10:\n",
    "#     #     torch.save(model.module.state_dict(), f\"./ckpts/resnet18_3d_seg_epoch_{epoch}.pt\")\n"
   ]
  },
  {
   "cell_type": "code",
   "execution_count": null,
   "id": "89431087",
   "metadata": {
    "papermill": {
     "duration": 0.381515,
     "end_time": "2023-04-08T11:20:14.478012",
     "exception": false,
     "start_time": "2023-04-08T11:20:14.096497",
     "status": "completed"
    },
    "tags": []
   },
   "outputs": [],
   "source": []
  }
 ],
 "metadata": {
  "kernelspec": {
   "display_name": "Python 3",
   "language": "python",
   "name": "python3"
  },
  "language_info": {
   "codemirror_mode": {
    "name": "ipython",
    "version": 3
   },
   "file_extension": ".py",
   "mimetype": "text/x-python",
   "name": "python",
   "nbconvert_exporter": "python",
   "pygments_lexer": "ipython3",
   "version": "3.9.16"
  },
  "papermill": {
   "default_parameters": {},
   "duration": 4132.646938,
   "end_time": "2023-04-08T11:20:18.816611",
   "environment_variables": {},
   "exception": null,
   "input_path": "__notebook__.ipynb",
   "output_path": "__notebook__.ipynb",
   "parameters": {},
   "start_time": "2023-04-08T10:11:26.169673",
   "version": "2.4.0"
  }
 },
 "nbformat": 4,
 "nbformat_minor": 5
}
