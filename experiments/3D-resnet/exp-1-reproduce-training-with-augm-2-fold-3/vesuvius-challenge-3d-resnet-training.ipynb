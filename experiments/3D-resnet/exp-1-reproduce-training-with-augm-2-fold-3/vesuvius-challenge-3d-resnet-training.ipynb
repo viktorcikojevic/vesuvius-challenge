{
 "cells": [
  {
   "attachments": {},
   "cell_type": "markdown",
   "id": "73dea9ca",
   "metadata": {
    "papermill": {
     "duration": 0.006587,
     "end_time": "2023-04-08T10:11:36.662576",
     "exception": false,
     "start_time": "2023-04-08T10:11:36.655989",
     "status": "completed"
    },
    "tags": []
   },
   "source": [
    "## Vesuvius Challenge - Ink Detection Training Notebook"
   ]
  },
  {
   "attachments": {},
   "cell_type": "markdown",
   "id": "8cdbb7ff",
   "metadata": {
    "papermill": {
     "duration": 0.004951,
     "end_time": "2023-04-08T10:11:36.672955",
     "exception": false,
     "start_time": "2023-04-08T10:11:36.668004",
     "status": "completed"
    },
    "tags": []
   },
   "source": [
    "### Setup"
   ]
  },
  {
   "cell_type": "code",
   "execution_count": 1,
   "id": "ae445317",
   "metadata": {
    "_kg_hide-input": false,
    "_kg_hide-output": true,
    "execution": {
     "iopub.execute_input": "2023-05-22T09:42:07.261596Z",
     "iopub.status.busy": "2023-05-22T09:42:07.261203Z",
     "iopub.status.idle": "2023-05-22T09:42:07.438713Z",
     "shell.execute_reply": "2023-05-22T09:42:07.436757Z"
    },
    "papermill": {
     "duration": 29.297355,
     "end_time": "2023-04-08T10:12:05.976007",
     "exception": false,
     "start_time": "2023-04-08T10:11:36.678652",
     "status": "completed"
    },
    "tags": []
   },
   "outputs": [],
   "source": [
    "# # Pretrained weights\n",
    "# # ref - https://github.com/kenshohara/3D-ResNets-PyTorch\n",
    "# !pip install gdown\n",
    "# !gdown 1Nb4abvIkkp_ydPFA9sNPT1WakoVKA8Fa\n",
    "\n",
    "# # Utility packages for reading and visualizing volumes\n",
    "# !pip install zarr imageio-ffmpeg\n",
    "\n",
    "# save model checkpoints\n",
    "!mkdir ./ckpts"
   ]
  },
  {
   "cell_type": "code",
   "execution_count": 2,
   "id": "0d956f5c",
   "metadata": {
    "execution": {
     "iopub.execute_input": "2023-05-22T09:42:07.444183Z",
     "iopub.status.busy": "2023-05-22T09:42:07.443805Z",
     "iopub.status.idle": "2023-05-22T09:42:08.250302Z",
     "shell.execute_reply": "2023-05-22T09:42:08.249972Z"
    },
    "papermill": {
     "duration": 3.289261,
     "end_time": "2023-04-08T10:12:09.273534",
     "exception": false,
     "start_time": "2023-04-08T10:12:05.984273",
     "status": "completed"
    },
    "tags": []
   },
   "outputs": [],
   "source": [
    "import os\n",
    "import gc\n",
    "import sys\n",
    "import zarr\n",
    "import random\n",
    "import imageio\n",
    "import numpy as np\n",
    "import pandas as pd\n",
    "from tqdm import tqdm\n",
    "import matplotlib.pyplot as plt\n",
    "from IPython.display import Video\n",
    "\n",
    "import torch\n",
    "import torch.nn as nn\n",
    "import torch.nn.functional as F\n",
    "from torch.cuda import amp\n",
    "from torch.utils.data import Dataset, DataLoader\n",
    "\n",
    "sys.path.append(\"./resnet3d\")\n",
    "from resnet3d import generate_model"
   ]
  },
  {
   "attachments": {},
   "cell_type": "markdown",
   "id": "88b00fe4",
   "metadata": {
    "papermill": {
     "duration": 0.007297,
     "end_time": "2023-04-08T10:12:09.288770",
     "exception": false,
     "start_time": "2023-04-08T10:12:09.281473",
     "status": "completed"
    },
    "tags": []
   },
   "source": [
    "### Config"
   ]
  },
  {
   "cell_type": "code",
   "execution_count": 3,
   "id": "59e26b77",
   "metadata": {
    "execution": {
     "iopub.execute_input": "2023-05-22T09:42:08.251888Z",
     "iopub.status.busy": "2023-05-22T09:42:08.251692Z",
     "iopub.status.idle": "2023-05-22T09:42:08.253627Z",
     "shell.execute_reply": "2023-05-22T09:42:08.253444Z"
    },
    "papermill": {
     "duration": 0.016571,
     "end_time": "2023-04-08T10:12:09.312935",
     "exception": false,
     "start_time": "2023-04-08T10:12:09.296364",
     "status": "completed"
    },
    "tags": []
   },
   "outputs": [],
   "source": [
    "LR = 1e-4\n",
    "EPOCHS = 50\n",
    "BATCH_SIZE = 32\n",
    "CROP_SIZE = 256\n",
    "Z_START = 24\n",
    "Z_DIMS = 16\n",
    "TRAIN_FRAGMENTS = [\"1\", \"2\"]\n",
    "TEST_FRAGMENT = \"3\""
   ]
  },
  {
   "attachments": {},
   "cell_type": "markdown",
   "id": "9a1e0328",
   "metadata": {
    "papermill": {
     "duration": 0.007428,
     "end_time": "2023-04-08T10:12:09.328094",
     "exception": false,
     "start_time": "2023-04-08T10:12:09.320666",
     "status": "completed"
    },
    "tags": []
   },
   "source": [
    "### Load data"
   ]
  },
  {
   "cell_type": "code",
   "execution_count": 4,
   "id": "8c494d99",
   "metadata": {
    "execution": {
     "iopub.execute_input": "2023-05-22T09:42:08.254663Z",
     "iopub.status.busy": "2023-05-22T09:42:08.254572Z",
     "iopub.status.idle": "2023-05-22T09:42:08.262580Z",
     "shell.execute_reply": "2023-05-22T09:42:08.262393Z"
    },
    "papermill": {
     "duration": 0.054715,
     "end_time": "2023-04-08T10:12:09.391635",
     "exception": false,
     "start_time": "2023-04-08T10:12:09.336920",
     "status": "completed"
    },
    "tags": []
   },
   "outputs": [],
   "source": [
    "\n",
    "\n",
    "FRAGMENTS_ZARR = {\n",
    "    \"1\" : zarr.open(\"/home/viktor/Documents/kaggle/vesuvius-challenge/kaggle-data/train-1.zarr\", mode=\"r\"),\n",
    "    \"2\" : zarr.open(\"/home/viktor/Documents/kaggle/vesuvius-challenge/kaggle-data/train-2.zarr\", mode=\"r\"),\n",
    "    \"3\" : zarr.open(\"/home/viktor/Documents/kaggle/vesuvius-challenge/kaggle-data/train-3.zarr\", mode=\"r\")\n",
    "}\n",
    "\n",
    "FRAGMENTS_SHAPE = {k : v.mask.shape for k, v in FRAGMENTS_ZARR.items()}"
   ]
  },
  {
   "attachments": {},
   "cell_type": "markdown",
   "id": "97a51afa",
   "metadata": {
    "papermill": {
     "duration": 0.007406,
     "end_time": "2023-04-08T10:12:09.406465",
     "exception": false,
     "start_time": "2023-04-08T10:12:09.399059",
     "status": "completed"
    },
    "tags": []
   },
   "source": [
    "### Visualise input"
   ]
  },
  {
   "cell_type": "code",
   "execution_count": 5,
   "id": "6d33b9f8",
   "metadata": {
    "execution": {
     "iopub.execute_input": "2023-05-22T09:42:08.263591Z",
     "iopub.status.busy": "2023-05-22T09:42:08.263501Z",
     "iopub.status.idle": "2023-05-22T09:42:08.404873Z",
     "shell.execute_reply": "2023-05-22T09:42:08.404655Z"
    },
    "papermill": {
     "duration": 1.68744,
     "end_time": "2023-04-08T10:12:11.101290",
     "exception": false,
     "start_time": "2023-04-08T10:12:09.413850",
     "status": "completed"
    },
    "tags": []
   },
   "outputs": [
    {
     "name": "stderr",
     "output_type": "stream",
     "text": [
      "Lossy conversion from uint16 to uint8. Losing 8 bits of resolution. Convert image to uint8 prior to saving to suppress this warning.\n",
      "Lossy conversion from uint16 to uint8. Losing 8 bits of resolution. Convert image to uint8 prior to saving to suppress this warning.\n",
      "Lossy conversion from uint16 to uint8. Losing 8 bits of resolution. Convert image to uint8 prior to saving to suppress this warning.\n",
      "Lossy conversion from uint16 to uint8. Losing 8 bits of resolution. Convert image to uint8 prior to saving to suppress this warning.\n",
      "Lossy conversion from uint16 to uint8. Losing 8 bits of resolution. Convert image to uint8 prior to saving to suppress this warning.\n",
      "Lossy conversion from uint16 to uint8. Losing 8 bits of resolution. Convert image to uint8 prior to saving to suppress this warning.\n",
      "Lossy conversion from uint16 to uint8. Losing 8 bits of resolution. Convert image to uint8 prior to saving to suppress this warning.\n",
      "Lossy conversion from uint16 to uint8. Losing 8 bits of resolution. Convert image to uint8 prior to saving to suppress this warning.\n",
      "Lossy conversion from uint16 to uint8. Losing 8 bits of resolution. Convert image to uint8 prior to saving to suppress this warning.\n",
      "Lossy conversion from uint16 to uint8. Losing 8 bits of resolution. Convert image to uint8 prior to saving to suppress this warning.\n",
      "Lossy conversion from uint16 to uint8. Losing 8 bits of resolution. Convert image to uint8 prior to saving to suppress this warning.\n",
      "Lossy conversion from uint16 to uint8. Losing 8 bits of resolution. Convert image to uint8 prior to saving to suppress this warning.\n",
      "Lossy conversion from uint16 to uint8. Losing 8 bits of resolution. Convert image to uint8 prior to saving to suppress this warning.\n",
      "Lossy conversion from uint16 to uint8. Losing 8 bits of resolution. Convert image to uint8 prior to saving to suppress this warning.\n",
      "Lossy conversion from uint16 to uint8. Losing 8 bits of resolution. Convert image to uint8 prior to saving to suppress this warning.\n",
      "Lossy conversion from uint16 to uint8. Losing 8 bits of resolution. Convert image to uint8 prior to saving to suppress this warning.\n"
     ]
    },
    {
     "data": {
      "text/html": [
       "<video src=\"fragment_crop.mp4\" controls  width=\"256\"  height=\"256\">\n",
       "      Your browser does not support the <code>video</code> element.\n",
       "    </video>"
      ],
      "text/plain": [
       "<IPython.core.display.Video object>"
      ]
     },
     "execution_count": 5,
     "metadata": {},
     "output_type": "execute_result"
    }
   ],
   "source": [
    "fragment = FRAGMENTS_ZARR[\"1\"]\n",
    "x, y = 2000, 2000\n",
    "\n",
    "fragment_cropped = fragment.surface_volume[y:y+CROP_SIZE, x:x+CROP_SIZE, Z_START:Z_START+Z_DIMS]\n",
    "imageio.mimwrite(\"fragment_crop.mp4\", fragment_cropped.transpose(2, 0, 1), \"ffmpeg\")\n",
    "Video(\"fragment_crop.mp4\", height=256, width=256)"
   ]
  },
  {
   "cell_type": "code",
   "execution_count": 6,
   "id": "46203a93",
   "metadata": {
    "execution": {
     "iopub.execute_input": "2023-05-22T09:42:08.406069Z",
     "iopub.status.busy": "2023-05-22T09:42:08.405989Z",
     "iopub.status.idle": "2023-05-22T09:42:08.445672Z",
     "shell.execute_reply": "2023-05-22T09:42:08.445483Z"
    },
    "papermill": {
     "duration": 0.258785,
     "end_time": "2023-04-08T10:12:11.368608",
     "exception": false,
     "start_time": "2023-04-08T10:12:11.109823",
     "status": "completed"
    },
    "tags": []
   },
   "outputs": [
    {
     "data": {
      "image/png": "[encoded data removed]",
      "text/plain": [
       "<Figure size 600x300 with 2 Axes>"
      ]
     },
     "metadata": {},
     "output_type": "display_data"
    }
   ],
   "source": [
    "mask_cropped = fragment.truth[y:y+CROP_SIZE, x:x+CROP_SIZE]\n",
    "ir_cropped = fragment.infrared[y:y+CROP_SIZE, x:x+CROP_SIZE]\n",
    "\n",
    "plt.figure(figsize=(6, 3))\n",
    "plt.subplot(1, 2, 1)\n",
    "plt.imshow(mask_cropped, cmap=\"gray\")\n",
    "plt.axis(\"off\")\n",
    "\n",
    "plt.subplot(1, 2, 2)\n",
    "plt.imshow(ir_cropped, cmap=\"gray\")\n",
    "plt.axis(\"off\")\n",
    "plt.show()"
   ]
  },
  {
   "cell_type": "code",
   "execution_count": 7,
   "id": "6462d25d",
   "metadata": {
    "execution": {
     "iopub.execute_input": "2023-05-22T09:42:08.446734Z",
     "iopub.status.busy": "2023-05-22T09:42:08.446659Z",
     "iopub.status.idle": "2023-05-22T09:42:08.493672Z",
     "shell.execute_reply": "2023-05-22T09:42:08.493461Z"
    },
    "papermill": {
     "duration": 0.17287,
     "end_time": "2023-04-08T10:12:11.562933",
     "exception": false,
     "start_time": "2023-04-08T10:12:11.390063",
     "status": "completed"
    },
    "tags": []
   },
   "outputs": [
    {
     "data": {
      "text/plain": [
       "4093"
      ]
     },
     "execution_count": 7,
     "metadata": {},
     "output_type": "execute_result"
    }
   ],
   "source": [
    "del fragment, fragment_cropped, mask_cropped, ir_cropped\n",
    "gc.collect()"
   ]
  },
  {
   "attachments": {},
   "cell_type": "markdown",
   "id": "ff9cd3e8",
   "metadata": {
    "papermill": {
     "duration": 0.008474,
     "end_time": "2023-04-08T10:12:11.580070",
     "exception": false,
     "start_time": "2023-04-08T10:12:11.571596",
     "status": "completed"
    },
    "tags": []
   },
   "source": [
    "### Dataloaders"
   ]
  },
  {
   "cell_type": "code",
   "execution_count": 8,
   "id": "162ec4e8",
   "metadata": {
    "execution": {
     "iopub.execute_input": "2023-05-22T09:42:08.494779Z",
     "iopub.status.busy": "2023-05-22T09:42:08.494699Z",
     "iopub.status.idle": "2023-05-22T09:42:08.496646Z",
     "shell.execute_reply": "2023-05-22T09:42:08.496471Z"
    },
    "papermill": {
     "duration": 0.024571,
     "end_time": "2023-04-08T10:12:11.612905",
     "exception": false,
     "start_time": "2023-04-08T10:12:11.588334",
     "status": "completed"
    },
    "tags": []
   },
   "outputs": [],
   "source": [
    "# import albumentations as A\n",
    "# from albumentations.pytorch import ToTensorV2\n",
    "\n",
    "# class VesuviusTrain(Dataset):\n",
    "#     def __init__(self, fragments):\n",
    "#         self.fragments = fragments\n",
    "#         self.xys = []\n",
    "        \n",
    "#         for fragment in fragments:\n",
    "#             H, W = FRAGMENTS_SHAPE[fragment]\n",
    "#             for y in range(0, H-CROP_SIZE+1, CROP_SIZE):\n",
    "#                 for x in range(0, W-CROP_SIZE+1, CROP_SIZE):\n",
    "#                     self.xys.append((fragment, x, y, W, H))\n",
    "        \n",
    "#         train_aug_list = [\n",
    "#                 # A.RandomResizedCrop(\n",
    "#                 #     size, size, scale=(0.85, 1.0)),\n",
    "#                 A.HorizontalFlip(p=0.5),\n",
    "#                 A.VerticalFlip(p=0.5),\n",
    "#                 A.RandomBrightnessContrast(p=0.75),\n",
    "#                 A.CoarseDropout(max_holes=1, max_width=int(CROP_SIZE * 0.1), max_height=int(size * 0.1), \n",
    "#                                 mask_fill_value=0, p=0.5),\n",
    "#                 A.ShiftScaleRotate(p=0.75),\n",
    "#                 A.Rotate(limit=90, p=0.9), \n",
    "#                 A.OneOf([\n",
    "#                         A.GaussNoise(var_limit=[10, 50]),\n",
    "#                         A.GaussianBlur(),\n",
    "#                         A.MotionBlur(),\n",
    "#                         ], p=0.4),\n",
    "#                 A.GridDistortion(num_steps=1, distort_limit=0.3, p=0.5),\n",
    "                \n",
    "#                 A.Cutout(max_h_size=int(size * 0.6),\n",
    "#                          max_w_size=int(size * 0.6), num_holes=1, p=1.0),\n",
    "#                 A.Normalize(\n",
    "#                     mean= [0] * Z_DIMS,\n",
    "#                     std= [1] * Z_DIMS\n",
    "#                 ),\n",
    "#                 ToTensorV2(transpose_mask=True),\n",
    "#             ]\n",
    "        \n",
    "        \n",
    "        \n",
    "#     def __getitem__(self, i):\n",
    "#         fragment, x1, y1, W, H = self.xys[i]\n",
    "#         z1, z2 = Z_START, Z_START+Z_DIMS\n",
    "        \n",
    "#         x_offset = random.randint(-32 if x1 != 0 else 0, 32)\n",
    "#         y_offset = random.randint(-32 if y1 != 0 else 0, 32)\n",
    "        \n",
    "#         x1 += x_offset\n",
    "#         y1 += y_offset\n",
    "        \n",
    "#         x2 = x1 + CROP_SIZE\n",
    "#         y2 = y1 + CROP_SIZE\n",
    "        \n",
    "#         if x2 > W:\n",
    "#             x1 -= x_offset\n",
    "#             x2 -= x_offset\n",
    "            \n",
    "#         if y2 > H:\n",
    "#             y1 -= y_offset\n",
    "#             y2 -= y_offset\n",
    "        \n",
    "#         frag_crop = FRAGMENTS_ZARR[fragment].surface_volume[y1:y2, x1:x2, z1:z2]\n",
    "#         mask_crop = FRAGMENTS_ZARR[fragment].truth[y1:y2, x1:x2]\n",
    "        \n",
    "#         if random.random() > 0.5:\n",
    "#             frag_crop = np.flip(frag_crop, axis=1).copy()\n",
    "#             mask_crop = np.flip(mask_crop, axis=1).copy()\n",
    "\n",
    "#         frag_crop = torch.from_numpy(frag_crop.astype(np.float32)).unsqueeze(0).permute(0, 3, 1, 2)\n",
    "#         frag_crop = frag_crop/65535.0\n",
    "#         frag_crop = (frag_crop - 0.45)/0.225\n",
    "        \n",
    "#         mask_crop = torch.from_numpy(mask_crop.astype(np.float32)).unsqueeze(0)\n",
    "        \n",
    "        \n",
    "        \n",
    "        \n",
    "        \n",
    "        \n",
    "        \n",
    "        \n",
    "#         return frag_crop, mask_crop\n",
    "\n",
    "#     def __len__(self):\n",
    "#         return len(self.xys)"
   ]
  },
  {
   "cell_type": "code",
   "execution_count": 9,
   "id": "c2c0c6d5",
   "metadata": {
    "execution": {
     "iopub.execute_input": "2023-05-22T09:42:08.497718Z",
     "iopub.status.busy": "2023-05-22T09:42:08.497647Z",
     "iopub.status.idle": "2023-05-22T09:42:08.797503Z",
     "shell.execute_reply": "2023-05-22T09:42:08.797224Z"
    }
   },
   "outputs": [],
   "source": [
    "import albumentations as A\n",
    "from albumentations.pytorch import ToTensorV2\n",
    "\n",
    "class VesuviusTrain(Dataset):\n",
    "    def __init__(self, fragments):\n",
    "        self.fragments = fragments\n",
    "        self.xys = []\n",
    "        \n",
    "        for fragment in fragments:\n",
    "            H, W = FRAGMENTS_SHAPE[fragment]\n",
    "            for y in range(0, H-CROP_SIZE+1, CROP_SIZE):\n",
    "                for x in range(0, W-CROP_SIZE+1, CROP_SIZE):\n",
    "                    surface = FRAGMENTS_ZARR[fragment].surface_volume[y:y+CROP_SIZE, x:x+CROP_SIZE, 0]\n",
    "                    if np.sum(surface) / (CROP_SIZE * CROP_SIZE) > 0.2:\n",
    "                        self.xys.append((fragment, x, y, W, H))\n",
    "        \n",
    "        self.train_aug_list = [\n",
    "                # A.RandomResizedCrop(\n",
    "                #     size, size, scale=(0.85, 1.0)),\n",
    "                \n",
    "                A.HorizontalFlip(p=0.5),\n",
    "                A.VerticalFlip(p=0.5),\n",
    "                \n",
    "                # A.RandomBrightnessContrast(p=0.75),\n",
    "                A.CoarseDropout(max_holes=1, max_width=int(CROP_SIZE * 0.1), max_height=int(CROP_SIZE * 0.1), \n",
    "                                mask_fill_value=0, p=0.5),\n",
    "                # A.ShiftScaleRotate(p=0.75),\n",
    "                \n",
    "                A.Rotate(limit=90, p=0.9), \n",
    "                \n",
    "                # A.OneOf([\n",
    "                #         A.GaussNoise(var_limit=[0.01, 0.05]),\n",
    "                #         A.GaussianBlur(blur_limit=(3, 5), sigma_limit=0),\n",
    "                #         A.MotionBlur(blur_limit=3),\n",
    "                #         ], p=0.4),\n",
    "                # A.GridDistortion(num_steps=1, distort_limit=0.1, p=0.5),\n",
    "                # A.MultiplicativeNoise(per_channel=True, multiplier=(0.95, 1.05)),\n",
    "                \n",
    "                # A.Cutout(max_h_size=int(CROP_SIZE * 0.2),\n",
    "                #          max_w_size=int(CROP_SIZE * 0.2), num_holes=1, p=1.0),\n",
    "                \n",
    "                ToTensorV2(transpose_mask=True),\n",
    "            ]\n",
    "        \n",
    "        # Create the augmentation pipeline\n",
    "        self.augmentations = A.Compose(self.train_aug_list)\n",
    "        \n",
    "        \n",
    "        \n",
    "    def __getitem__(self, i):\n",
    "        fragment, x1, y1, W, H = self.xys[i]\n",
    "        z1, z2 = Z_START, Z_START+Z_DIMS\n",
    "        \n",
    "        x_offset = random.randint(-128 if x1 != 0 else 0, 128)\n",
    "        y_offset = random.randint(-128 if y1 != 0 else 0, 128)\n",
    "        \n",
    "        x1 += x_offset\n",
    "        y1 += y_offset\n",
    "        \n",
    "        x2 = x1 + CROP_SIZE\n",
    "        y2 = y1 + CROP_SIZE\n",
    "        \n",
    "        if x2 > W:\n",
    "            x1 -= x_offset\n",
    "            x2 -= x_offset\n",
    "            \n",
    "        if y2 > H:\n",
    "            y1 -= y_offset\n",
    "            y2 -= y_offset\n",
    "        \n",
    "        frag_crop = FRAGMENTS_ZARR[fragment].surface_volume[y1:y2, x1:x2, z1:z2]\n",
    "        mask_crop = FRAGMENTS_ZARR[fragment].truth[y1:y2, x1:x2]\n",
    "        \n",
    "        # if random.random() > 0.5:\n",
    "        #     frag_crop = np.flip(frag_crop, axis=1).copy()\n",
    "        #     mask_crop = np.flip(mask_crop, axis=1).copy()\n",
    "\n",
    "        # Perform train augmentations\n",
    "\n",
    "        frag_crop = frag_crop/65535.0\n",
    "        \n",
    "        \n",
    "        # Apply the augmentations\n",
    "        augmented = self.augmentations(image=frag_crop, mask=mask_crop)\n",
    "\n",
    "        # Separate the image and mask\n",
    "        frag_crop, mask_crop = augmented[\"image\"], augmented[\"mask\"]\n",
    "\n",
    "        # normalize\n",
    "        \n",
    "        # frag_crop = (frag_crop - 0.45)/0.225\n",
    "        \n",
    "        frag_crop = frag_crop.unsqueeze(0) \n",
    "        mask_crop = mask_crop.float().unsqueeze(0)\n",
    "        \n",
    "        \n",
    "        return frag_crop, mask_crop\n",
    "\n",
    "    def __len__(self):\n",
    "        return len(self.xys)"
   ]
  },
  {
   "cell_type": "code",
   "execution_count": 10,
   "id": "f172c2ad",
   "metadata": {
    "execution": {
     "iopub.execute_input": "2023-05-22T09:42:08.799029Z",
     "iopub.status.busy": "2023-05-22T09:42:08.798857Z",
     "iopub.status.idle": "2023-05-22T09:42:08.802317Z",
     "shell.execute_reply": "2023-05-22T09:42:08.802103Z"
    },
    "papermill": {
     "duration": 0.022963,
     "end_time": "2023-04-08T10:12:11.644387",
     "exception": false,
     "start_time": "2023-04-08T10:12:11.621424",
     "status": "completed"
    },
    "tags": []
   },
   "outputs": [],
   "source": [
    "class VesuviusVal(Dataset):\n",
    "    def __init__(self, fragment):\n",
    "        self.fragment = FRAGMENTS_ZARR[fragment]\n",
    "        self.xys = []\n",
    "        \n",
    "        H, W = FRAGMENTS_SHAPE[fragment]\n",
    "        for y in range(0, H-CROP_SIZE+1, CROP_SIZE):\n",
    "            for x in range(0, W-CROP_SIZE+1, CROP_SIZE):\n",
    "                self.xys.append((x, y))\n",
    "                \n",
    "    def __getitem__(self, i):\n",
    "        x1, y1 = self.xys[i]\n",
    "        x2, y2 = x1+CROP_SIZE, y1+CROP_SIZE\n",
    "        z1, z2 = Z_START, Z_START+Z_DIMS\n",
    "        \n",
    "        frag_crop = self.fragment.surface_volume[y1:y2, x1:x2, z1:z2]\n",
    "        mask_crop = self.fragment.truth[y1:y2, x1:x2]\n",
    "\n",
    "        frag_crop = torch.from_numpy(frag_crop.astype(np.float32)).unsqueeze(0).permute(0, 3, 1, 2)\n",
    "        frag_crop = frag_crop/65535.0\n",
    "        # frag_crop = (frag_crop - 0.45)/0.225\n",
    "        \n",
    "        mask_crop = torch.from_numpy(mask_crop.astype(np.float32)).unsqueeze(0)\n",
    "        return frag_crop, mask_crop, torch.tensor([x1, y1, x2, y2], dtype=torch.int32)\n",
    "\n",
    "    def __len__(self):\n",
    "        return len(self.xys)"
   ]
  },
  {
   "cell_type": "code",
   "execution_count": 11,
   "id": "4282f924",
   "metadata": {
    "execution": {
     "iopub.execute_input": "2023-05-22T09:42:08.803417Z",
     "iopub.status.busy": "2023-05-22T09:42:08.803342Z",
     "iopub.status.idle": "2023-05-22T09:42:14.484897Z",
     "shell.execute_reply": "2023-05-22T09:42:14.484659Z"
    },
    "papermill": {
     "duration": 0.019671,
     "end_time": "2023-04-08T10:12:11.672490",
     "exception": false,
     "start_time": "2023-04-08T10:12:11.652819",
     "status": "completed"
    },
    "tags": []
   },
   "outputs": [],
   "source": [
    "dataset_train = VesuviusTrain(TRAIN_FRAGMENTS)\n",
    "dataloader_train = DataLoader(dataset_train, batch_size=BATCH_SIZE, num_workers=2,\n",
    "                              shuffle=True, pin_memory=True, drop_last=True)\n",
    "n_train = len(dataloader_train)\n",
    "\n",
    "dataset_valid = VesuviusVal(TEST_FRAGMENT)\n",
    "dataloader_valid = DataLoader(dataset_valid, batch_size=BATCH_SIZE, num_workers=2,\n",
    "                              shuffle=False, pin_memory=True, drop_last=False)\n",
    "n_valid = len(dataloader_valid)"
   ]
  },
  {
   "cell_type": "code",
   "execution_count": 12,
   "id": "0577f1a6",
   "metadata": {
    "execution": {
     "iopub.execute_input": "2023-05-22T09:42:14.486157Z",
     "iopub.status.busy": "2023-05-22T09:42:14.486048Z",
     "iopub.status.idle": "2023-05-22T09:42:14.504919Z",
     "shell.execute_reply": "2023-05-22T09:42:14.504716Z"
    }
   },
   "outputs": [
    {
     "data": {
      "text/plain": [
       "(tensor(0., dtype=torch.float64), tensor(1., dtype=torch.float64))"
      ]
     },
     "execution_count": 12,
     "metadata": {},
     "output_type": "execute_result"
    }
   ],
   "source": [
    "i = random.randint(0, len(dataset_train))\n",
    "i=30\n",
    "img = dataset_train[i][0]\n",
    "img.min(), img.max()"
   ]
  },
  {
   "cell_type": "code",
   "execution_count": 13,
   "id": "40a15748",
   "metadata": {
    "execution": {
     "iopub.execute_input": "2023-05-22T09:42:14.505983Z",
     "iopub.status.busy": "2023-05-22T09:42:14.505855Z",
     "iopub.status.idle": "2023-05-22T09:42:14.582407Z",
     "shell.execute_reply": "2023-05-22T09:42:14.582099Z"
    }
   },
   "outputs": [
    {
     "data": {
      "text/plain": [
       "<matplotlib.image.AxesImage at 0x7fed9bda9af0>"
      ]
     },
     "execution_count": 13,
     "metadata": {},
     "output_type": "execute_result"
    },
    {
     "data": {
      "image/png": "[encoded data removed]",
      "text/plain": [
       "<Figure size 640x480 with 1 Axes>"
      ]
     },
     "metadata": {},
     "output_type": "display_data"
    }
   ],
   "source": [
    "img_2 = img.squeeze(0).permute(1, 2, 0).numpy()\n",
    "plt.imshow(img_2[:, :, 0], cmap=\"gray\")"
   ]
  },
  {
   "cell_type": "code",
   "execution_count": null,
   "id": "e07b120a",
   "metadata": {},
   "outputs": [],
   "source": []
  },
  {
   "cell_type": "code",
   "execution_count": null,
   "id": "a792af0c",
   "metadata": {},
   "outputs": [],
   "source": []
  },
  {
   "attachments": {},
   "cell_type": "markdown",
   "id": "cdcc7e0b",
   "metadata": {
    "papermill": {
     "duration": 0.008028,
     "end_time": "2023-04-08T10:12:11.688860",
     "exception": false,
     "start_time": "2023-04-08T10:12:11.680832",
     "status": "completed"
    },
    "tags": []
   },
   "source": [
    "### Model\n",
    "* Encoder is a 3D ResNet model. The architecture has been modified to remove temporal downsampling between blocks.\n",
    "* A 2D decoder is used for predicting the segmentation map.\n",
    "* The encoder feature maps are average pooled over the Z dimension before passing it to the decoder."
   ]
  },
  {
   "cell_type": "code",
   "execution_count": 14,
   "id": "ff7cc8a3",
   "metadata": {
    "execution": {
     "iopub.execute_input": "2023-05-22T09:42:14.583680Z",
     "iopub.status.busy": "2023-05-22T09:42:14.583554Z",
     "iopub.status.idle": "2023-05-22T09:42:14.587791Z",
     "shell.execute_reply": "2023-05-22T09:42:14.587523Z"
    },
    "papermill": {
     "duration": 0.023714,
     "end_time": "2023-04-08T10:12:11.721140",
     "exception": false,
     "start_time": "2023-04-08T10:12:11.697426",
     "status": "completed"
    },
    "tags": []
   },
   "outputs": [],
   "source": [
    "class Decoder(nn.Module):\n",
    "    def __init__(self, encoder_dims, upscale):\n",
    "        super().__init__()\n",
    "        self.convs = nn.ModuleList([\n",
    "            nn.Sequential(\n",
    "                nn.Conv2d(encoder_dims[i]+encoder_dims[i-1], encoder_dims[i-1], 3, 1, 1, bias=False),\n",
    "                nn.BatchNorm2d(encoder_dims[i-1]),\n",
    "                nn.ReLU(inplace=True)\n",
    "            ) for i in range(1, len(encoder_dims))])\n",
    "\n",
    "        self.logit = nn.Conv2d(encoder_dims[0], 1, 1, 1, 0)\n",
    "        self.up = nn.Upsample(scale_factor=upscale, mode=\"bilinear\")\n",
    "\n",
    "    def forward(self, feature_maps):\n",
    "        for i in range(len(feature_maps)-1, 0, -1):\n",
    "            f_up = F.interpolate(feature_maps[i], scale_factor=2, mode=\"bilinear\")\n",
    "            f = torch.cat([feature_maps[i-1], f_up], dim=1)\n",
    "            f_down = self.convs[i-1](f)\n",
    "            feature_maps[i-1] = f_down\n",
    "\n",
    "        x = self.logit(feature_maps[0])\n",
    "        mask = self.up(x)\n",
    "        return mask\n",
    "\n",
    "\n",
    "class SegModel(nn.Module):\n",
    "    def __init__(self):\n",
    "        super().__init__()\n",
    "        self.encoder = generate_model(model_depth=18, n_input_channels=1)\n",
    "        self.decoder = Decoder(encoder_dims=[64, 128, 256, 512], upscale=4)\n",
    "        \n",
    "    def forward(self, x):\n",
    "        feat_maps = self.encoder(x)\n",
    "        feat_maps_pooled = [torch.mean(f, dim=2) for f in feat_maps]\n",
    "        pred_mask = self.decoder(feat_maps_pooled)\n",
    "        return pred_mask\n",
    "    \n",
    "    def load_pretrained_weights(self, state_dict):\n",
    "        # Convert 3 channel weights to single channel\n",
    "        # ref - https://timm.fast.ai/models#Case-1:-When-the-number-of-input-channels-is-1\n",
    "        conv1_weight = state_dict['conv1.weight']\n",
    "        state_dict['conv1.weight'] = conv1_weight.sum(dim=1, keepdim=True)\n",
    "        print(self.encoder.load_state_dict(state_dict, strict=False))"
   ]
  },
  {
   "cell_type": "code",
   "execution_count": 15,
   "id": "67e4a0f1",
   "metadata": {
    "execution": {
     "iopub.execute_input": "2023-05-22T09:42:14.588906Z",
     "iopub.status.busy": "2023-05-22T09:42:14.588754Z",
     "iopub.status.idle": "2023-05-22T09:42:15.477261Z",
     "shell.execute_reply": "2023-05-22T09:42:15.476828Z"
    },
    "papermill": {
     "duration": 3.891528,
     "end_time": "2023-04-08T10:12:15.621016",
     "exception": false,
     "start_time": "2023-04-08T10:12:11.729488",
     "status": "completed"
    },
    "tags": []
   },
   "outputs": [
    {
     "name": "stdout",
     "output_type": "stream",
     "text": [
      "_IncompatibleKeys(missing_keys=[], unexpected_keys=['fc.weight', 'fc.bias'])\n"
     ]
    }
   ],
   "source": [
    "model = SegModel()\n",
    "model.load_pretrained_weights(torch.load(\"/home/viktor/Documents/kaggle/vesuvius-challenge/experiments/3D-resnet/r3d18_K_200ep.pth\")[\"state_dict\"])\n",
    "model = nn.DataParallel(model, device_ids=[0])\n",
    "\n",
    "model = model.cuda()"
   ]
  },
  {
   "cell_type": "code",
   "execution_count": 16,
   "id": "491e9288",
   "metadata": {
    "execution": {
     "iopub.execute_input": "2023-05-22T09:42:15.478887Z",
     "iopub.status.busy": "2023-05-22T09:42:15.478793Z",
     "iopub.status.idle": "2023-05-22T09:42:16.328957Z",
     "shell.execute_reply": "2023-05-22T09:42:16.328525Z"
    }
   },
   "outputs": [
    {
     "data": {
      "text/plain": [
       "torch.Size([5, 1, 256, 256])"
      ]
     },
     "execution_count": 16,
     "metadata": {},
     "output_type": "execute_result"
    }
   ],
   "source": [
    "x = torch.randn(5, 1, 16, 256, 256).cuda()\n",
    "with torch.no_grad():\n",
    "    y = model(x)\n",
    "y.shape"
   ]
  },
  {
   "attachments": {},
   "cell_type": "markdown",
   "id": "d84d7c0e",
   "metadata": {
    "papermill": {
     "duration": 0.008816,
     "end_time": "2023-04-08T10:12:15.638951",
     "exception": false,
     "start_time": "2023-04-08T10:12:15.630135",
     "status": "completed"
    },
    "tags": []
   },
   "source": [
    "### Competition metric (F0.5 Score)"
   ]
  },
  {
   "cell_type": "code",
   "execution_count": 17,
   "id": "61dbeb5c",
   "metadata": {
    "execution": {
     "iopub.execute_input": "2023-05-22T09:42:16.330366Z",
     "iopub.status.busy": "2023-05-22T09:42:16.330250Z",
     "iopub.status.idle": "2023-05-22T09:42:16.332363Z",
     "shell.execute_reply": "2023-05-22T09:42:16.332184Z"
    },
    "papermill": {
     "duration": 0.020268,
     "end_time": "2023-04-08T10:12:15.668008",
     "exception": false,
     "start_time": "2023-04-08T10:12:15.647740",
     "status": "completed"
    },
    "tags": []
   },
   "outputs": [],
   "source": [
    "# ref - https://www.kaggle.com/competitions/vesuvius-challenge-ink-detection/discussion/397288\n",
    "def fbeta_score(preds, targets, threshold, beta=0.5, smooth=1e-5):\n",
    "    preds_t = torch.where(preds > threshold, 1.0, 0.0).float()\n",
    "    y_true_count = targets.sum()\n",
    "    \n",
    "    ctp = preds_t[targets==1].sum()\n",
    "    cfp = preds_t[targets==0].sum()\n",
    "    beta_squared = beta * beta\n",
    "\n",
    "    c_precision = ctp / (ctp + cfp + smooth)\n",
    "    c_recall = ctp / (y_true_count + smooth)\n",
    "    dice = (1 + beta_squared) * (c_precision * c_recall) / (beta_squared * c_precision + c_recall + smooth)\n",
    "\n",
    "    return dice"
   ]
  },
  {
   "attachments": {},
   "cell_type": "markdown",
   "id": "639c9148",
   "metadata": {
    "papermill": {
     "duration": 0.008498,
     "end_time": "2023-04-08T10:12:15.685205",
     "exception": false,
     "start_time": "2023-04-08T10:12:15.676707",
     "status": "completed"
    },
    "tags": []
   },
   "source": [
    "### Training"
   ]
  },
  {
   "cell_type": "code",
   "execution_count": 18,
   "id": "0cca2e6e",
   "metadata": {
    "execution": {
     "iopub.execute_input": "2023-05-22T09:42:16.333536Z",
     "iopub.status.busy": "2023-05-22T09:42:16.333429Z",
     "iopub.status.idle": "2023-05-22T09:42:16.335422Z",
     "shell.execute_reply": "2023-05-22T09:42:16.335245Z"
    },
    "papermill": {
     "duration": 0.019067,
     "end_time": "2023-04-08T10:12:15.713237",
     "exception": false,
     "start_time": "2023-04-08T10:12:15.694170",
     "status": "completed"
    },
    "tags": []
   },
   "outputs": [],
   "source": [
    "scaler = amp.GradScaler()\n",
    "criterion = nn.BCEWithLogitsLoss()\n",
    "optimizer = torch.optim.AdamW(model.parameters(), lr=LR)\n",
    "scheduler = torch.optim.lr_scheduler.OneCycleLR(optimizer, max_lr=LR,\n",
    "                                                steps_per_epoch=10, epochs=EPOCHS//10,\n",
    "                                                pct_start=0.1)"
   ]
  },
  {
   "cell_type": "code",
   "execution_count": 19,
   "id": "7304e1fd",
   "metadata": {
    "execution": {
     "iopub.execute_input": "2023-05-22T09:42:16.336578Z",
     "iopub.status.busy": "2023-05-22T09:42:16.336434Z",
     "iopub.status.idle": "2023-05-22T09:42:16.365726Z",
     "shell.execute_reply": "2023-05-22T09:42:16.365383Z"
    },
    "papermill": {
     "duration": 0.385175,
     "end_time": "2023-04-08T10:12:16.107159",
     "exception": false,
     "start_time": "2023-04-08T10:12:15.721984",
     "status": "completed"
    },
    "tags": []
   },
   "outputs": [],
   "source": [
    "gt_mask = torch.from_numpy(np.asarray(FRAGMENTS_ZARR[TEST_FRAGMENT].truth)).float().cuda()\n",
    "gt_shape = FRAGMENTS_SHAPE[TEST_FRAGMENT]"
   ]
  },
  {
   "cell_type": "code",
   "execution_count": 20,
   "id": "c0b85bf1",
   "metadata": {
    "execution": {
     "iopub.execute_input": "2023-05-22T09:42:16.367138Z",
     "iopub.status.busy": "2023-05-22T09:42:16.366939Z",
     "iopub.status.idle": "2023-05-22T09:42:16.368627Z",
     "shell.execute_reply": "2023-05-22T09:42:16.368429Z"
    }
   },
   "outputs": [],
   "source": [
    "import logging\n",
    "\n",
    "logging.basicConfig(filename=\"training_log.txt\", level=logging.INFO)\n"
   ]
  },
  {
   "cell_type": "code",
   "execution_count": 21,
   "id": "00067c9c",
   "metadata": {
    "execution": {
     "iopub.execute_input": "2023-05-22T09:42:16.369693Z",
     "iopub.status.busy": "2023-05-22T09:42:16.369586Z",
     "iopub.status.idle": "2023-05-22T10:18:30.781974Z",
     "shell.execute_reply": "2023-05-22T10:18:30.781619Z"
    },
    "papermill": {
     "duration": 4077.588277,
     "end_time": "2023-04-08T11:20:13.706513",
     "exception": false,
     "start_time": "2023-04-08T10:12:16.118236",
     "status": "completed"
    },
    "tags": []
   },
   "outputs": [
    {
     "name": "stderr",
     "output_type": "stream",
     "text": [
      "Epoch 1/50  Mem : 13.6GB  LR : 4.00E-06  Loss: 0.6626: 100%|██████████| 64/64 [00:38<00:00,  1.66it/s]                                                                                                                                                                           \n",
      "Val Loss: 0.5695: 100%|██████████| 19/19 [00:04<00:00,  3.81it/s]                                                                                                                                                                                                                \n"
     ]
    },
    {
     "name": "stdout",
     "output_type": "stream",
     "text": [
      "Threshold : 0.20\tFBeta : 0.102598\n",
      "Threshold : 0.25\tFBeta : 0.105903\n",
      "Threshold : 0.30\tFBeta : 0.117529\n",
      "Threshold : 0.35\tFBeta : 0.136118\n",
      "Threshold : 0.40\tFBeta : 0.156496\n",
      "Threshold : 0.45\tFBeta : 0.176064\n",
      "Threshold : 0.50\tFBeta : 0.194498\n",
      "Threshold : 0.55\tFBeta : 0.213281\n",
      "Threshold : 0.60\tFBeta : 0.191171\n",
      "Threshold : 0.65\tFBeta : 0.074808\n",
      "Threshold : 0.70\tFBeta : 0.005846\n",
      "Threshold : 0.75\tFBeta : 0.000145\n",
      "Threshold : 0.80\tFBeta : 0.000000\n",
      "\n"
     ]
    },
    {
     "name": "stderr",
     "output_type": "stream",
     "text": [
      "Epoch 2/50  Mem : 18GB  LR : 1.81E-05  Loss: 0.5718: 100%|██████████| 64/64 [00:38<00:00,  1.66it/s]                                                                                                                                                                             \n",
      "Val Loss: 0.4494: 100%|██████████| 19/19 [00:04<00:00,  3.81it/s]                                                                                                                                                                                                                \n"
     ]
    },
    {
     "name": "stdout",
     "output_type": "stream",
     "text": [
      "Threshold : 0.20\tFBeta : 0.142897\n",
      "Threshold : 0.25\tFBeta : 0.151398\n",
      "Threshold : 0.30\tFBeta : 0.157992\n",
      "Threshold : 0.35\tFBeta : 0.164983\n",
      "Threshold : 0.40\tFBeta : 0.179220\n",
      "Threshold : 0.45\tFBeta : 0.198288\n",
      "Threshold : 0.50\tFBeta : 0.215800\n",
      "Threshold : 0.55\tFBeta : 0.234938\n",
      "Threshold : 0.60\tFBeta : 0.115721\n",
      "Threshold : 0.65\tFBeta : 0.000183\n",
      "Threshold : 0.70\tFBeta : 0.000000\n",
      "Threshold : 0.75\tFBeta : 0.000000\n",
      "Threshold : 0.80\tFBeta : 0.000000\n",
      "\n"
     ]
    },
    {
     "name": "stderr",
     "output_type": "stream",
     "text": [
      "Epoch 3/50  Mem : 18GB  LR : 5.20E-05  Loss: 0.5116: 100%|██████████| 64/64 [00:38<00:00,  1.68it/s]                                                                                                                                                                             \n",
      "Val Loss: 0.3862: 100%|██████████| 19/19 [00:05<00:00,  3.78it/s]                                                                                                                                                                                                                \n"
     ]
    },
    {
     "name": "stdout",
     "output_type": "stream",
     "text": [
      "Threshold : 0.20\tFBeta : 0.149916\n",
      "Threshold : 0.25\tFBeta : 0.156413\n",
      "Threshold : 0.30\tFBeta : 0.168626\n",
      "Threshold : 0.35\tFBeta : 0.206889\n",
      "Threshold : 0.40\tFBeta : 0.238624\n",
      "Threshold : 0.45\tFBeta : 0.254332\n",
      "Threshold : 0.50\tFBeta : 0.260697\n",
      "Threshold : 0.55\tFBeta : 0.253757\n",
      "Threshold : 0.60\tFBeta : 0.153596\n",
      "Threshold : 0.65\tFBeta : 0.006463\n",
      "Threshold : 0.70\tFBeta : 0.000000\n",
      "Threshold : 0.75\tFBeta : 0.000000\n",
      "Threshold : 0.80\tFBeta : 0.000000\n",
      "\n"
     ]
    },
    {
     "name": "stderr",
     "output_type": "stream",
     "text": [
      "Epoch 4/50  Mem : 18GB  LR : 8.59E-05  Loss: 0.4799: 100%|██████████| 64/64 [00:38<00:00,  1.68it/s]                                                                                                                                                                             \n",
      "Val Loss: 0.5483: 100%|██████████| 19/19 [00:05<00:00,  3.80it/s]                                                                                                                                                                                                                "
     ]
    },
    {
     "name": "stdout",
     "output_type": "stream",
     "text": [
      "Threshold : 0.20\tFBeta : 0.137978\n",
      "Threshold : 0.25\tFBeta : 0.150817\n",
      "Threshold : 0.30\tFBeta : 0.168144\n",
      "Threshold : 0.35\tFBeta : 0.181331\n",
      "Threshold : 0.40\tFBeta : 0.190874\n",
      "Threshold : 0.45\tFBeta : 0.196640\n",
      "Threshold : 0.50\tFBeta : 0.198213\n",
      "Threshold : 0.55\tFBeta : 0.194476\n",
      "Threshold : 0.60\tFBeta : 0.103581\n",
      "Threshold : 0.65\tFBeta : 0.004043\n",
      "Threshold : 0.70\tFBeta : 0.000000\n",
      "Threshold : 0.75\tFBeta : 0.000000\n",
      "Threshold : 0.80\tFBeta : 0.000000\n",
      "\n"
     ]
    },
    {
     "name": "stderr",
     "output_type": "stream",
     "text": [
      "\n",
      "Epoch 5/50  Mem : 18GB  LR : 1.00E-04  Loss: 0.4509: 100%|██████████| 64/64 [00:37<00:00,  1.69it/s]                                                                                                                                                                             \n",
      "Val Loss: 0.3833: 100%|██████████| 19/19 [00:04<00:00,  3.80it/s]                                                                                                                                                                                                                \n"
     ]
    },
    {
     "name": "stdout",
     "output_type": "stream",
     "text": [
      "Threshold : 0.20\tFBeta : 0.163425\n",
      "Threshold : 0.25\tFBeta : 0.183778\n",
      "Threshold : 0.30\tFBeta : 0.214446\n",
      "Threshold : 0.35\tFBeta : 0.233848\n",
      "Threshold : 0.40\tFBeta : 0.250707\n",
      "Threshold : 0.45\tFBeta : 0.266581\n",
      "Threshold : 0.50\tFBeta : 0.284551\n",
      "Threshold : 0.55\tFBeta : 0.307628\n",
      "Threshold : 0.60\tFBeta : 0.327556\n",
      "Threshold : 0.65\tFBeta : 0.334744\n",
      "Threshold : 0.70\tFBeta : 0.252340\n",
      "Threshold : 0.75\tFBeta : 0.056756\n",
      "Threshold : 0.80\tFBeta : 0.005539\n",
      "\n"
     ]
    },
    {
     "name": "stderr",
     "output_type": "stream",
     "text": [
      "Epoch 6/50  Mem : 18GB  LR : 9.99E-05  Loss: 0.4260: 100%|██████████| 64/64 [00:38<00:00,  1.68it/s]                                                                                                                                                                             \n",
      "Val Loss: 0.3388: 100%|██████████| 19/19 [00:05<00:00,  3.79it/s]                                                                                                                                                                                                                \n"
     ]
    },
    {
     "name": "stdout",
     "output_type": "stream",
     "text": [
      "Threshold : 0.20\tFBeta : 0.157316\n",
      "Threshold : 0.25\tFBeta : 0.197854\n",
      "Threshold : 0.30\tFBeta : 0.249834\n",
      "Threshold : 0.35\tFBeta : 0.281169\n",
      "Threshold : 0.40\tFBeta : 0.306260\n",
      "Threshold : 0.45\tFBeta : 0.326338\n",
      "Threshold : 0.50\tFBeta : 0.343446\n",
      "Threshold : 0.55\tFBeta : 0.352883\n",
      "Threshold : 0.60\tFBeta : 0.338239\n",
      "Threshold : 0.65\tFBeta : 0.271258\n",
      "Threshold : 0.70\tFBeta : 0.157452\n",
      "Threshold : 0.75\tFBeta : 0.038101\n",
      "Threshold : 0.80\tFBeta : 0.000000\n",
      "\n"
     ]
    },
    {
     "name": "stderr",
     "output_type": "stream",
     "text": [
      "Epoch 7/50  Mem : 18GB  LR : 9.95E-05  Loss: 0.4023: 100%|██████████| 64/64 [00:37<00:00,  1.69it/s]                                                                                                                                                                             \n",
      "Val Loss: 0.3085: 100%|██████████| 19/19 [00:05<00:00,  3.73it/s]                                                                                                                                                                                                                \n"
     ]
    },
    {
     "name": "stdout",
     "output_type": "stream",
     "text": [
      "Threshold : 0.20\tFBeta : 0.195275\n",
      "Threshold : 0.25\tFBeta : 0.234389\n",
      "Threshold : 0.30\tFBeta : 0.269494\n",
      "Threshold : 0.35\tFBeta : 0.300624\n",
      "Threshold : 0.40\tFBeta : 0.334193\n",
      "Threshold : 0.45\tFBeta : 0.374840\n",
      "Threshold : 0.50\tFBeta : 0.414581\n",
      "Threshold : 0.55\tFBeta : 0.451039\n",
      "Threshold : 0.60\tFBeta : 0.475949\n",
      "Threshold : 0.65\tFBeta : 0.473339\n",
      "Threshold : 0.70\tFBeta : 0.416347\n",
      "Threshold : 0.75\tFBeta : 0.298719\n",
      "Threshold : 0.80\tFBeta : 0.158883\n",
      "\n"
     ]
    },
    {
     "name": "stderr",
     "output_type": "stream",
     "text": [
      "Epoch 8/50  Mem : 18GB  LR : 9.89E-05  Loss: 0.3976: 100%|██████████| 64/64 [00:38<00:00,  1.65it/s]                                                                                                                                                                             \n",
      "Val Loss: 0.2472: 100%|██████████| 19/19 [00:04<00:00,  3.80it/s]                                                                                                                                                                                                                \n"
     ]
    },
    {
     "name": "stdout",
     "output_type": "stream",
     "text": [
      "Threshold : 0.20\tFBeta : 0.292713\n",
      "Threshold : 0.25\tFBeta : 0.390492\n",
      "Threshold : 0.30\tFBeta : 0.452785\n",
      "Threshold : 0.35\tFBeta : 0.491487\n",
      "Threshold : 0.40\tFBeta : 0.513174\n",
      "Threshold : 0.45\tFBeta : 0.514682\n",
      "Threshold : 0.50\tFBeta : 0.485276\n",
      "Threshold : 0.55\tFBeta : 0.438134\n",
      "Threshold : 0.60\tFBeta : 0.367494\n",
      "Threshold : 0.65\tFBeta : 0.281233\n",
      "Threshold : 0.70\tFBeta : 0.194950\n",
      "Threshold : 0.75\tFBeta : 0.122774\n",
      "Threshold : 0.80\tFBeta : 0.068639\n",
      "\n"
     ]
    },
    {
     "name": "stderr",
     "output_type": "stream",
     "text": [
      "Epoch 9/50  Mem : 18GB  LR : 9.81E-05  Loss: 0.3748: 100%|██████████| 64/64 [00:38<00:00,  1.68it/s]                                                                                                                                                                             \n",
      "Val Loss: 0.2436: 100%|██████████| 19/19 [00:04<00:00,  3.82it/s]                                                                                                                                                                                                                "
     ]
    },
    {
     "name": "stdout",
     "output_type": "stream",
     "text": [
      "Threshold : 0.20\tFBeta : 0.412354\n",
      "Threshold : 0.25\tFBeta : 0.435557\n",
      "Threshold : 0.30\tFBeta : 0.425621\n",
      "Threshold : 0.35\tFBeta : 0.397112\n",
      "Threshold : 0.40\tFBeta : 0.351627\n",
      "Threshold : 0.45\tFBeta : 0.305371\n",
      "Threshold : 0.50\tFBeta : 0.257247\n",
      "Threshold : 0.55\tFBeta : 0.206184\n",
      "Threshold : 0.60\tFBeta : 0.144626\n",
      "Threshold : 0.65\tFBeta : 0.078840\n",
      "Threshold : 0.70\tFBeta : 0.030922\n",
      "Threshold : 0.75\tFBeta : 0.009306\n",
      "Threshold : 0.80\tFBeta : 0.001862\n",
      "\n"
     ]
    },
    {
     "name": "stderr",
     "output_type": "stream",
     "text": [
      "\n",
      "Epoch 10/50  Mem : 18GB  LR : 9.70E-05  Loss: 0.3724: 100%|██████████| 64/64 [00:38<00:00,  1.66it/s]                                                                                                                                                                            \n",
      "Val Loss: 0.2494: 100%|██████████| 19/19 [00:04<00:00,  3.80it/s]                                                                                                                                                                                                                \n"
     ]
    },
    {
     "name": "stdout",
     "output_type": "stream",
     "text": [
      "Threshold : 0.20\tFBeta : 0.301853\n",
      "Threshold : 0.25\tFBeta : 0.402002\n",
      "Threshold : 0.30\tFBeta : 0.445503\n",
      "Threshold : 0.35\tFBeta : 0.459008\n",
      "Threshold : 0.40\tFBeta : 0.437709\n",
      "Threshold : 0.45\tFBeta : 0.393150\n",
      "Threshold : 0.50\tFBeta : 0.316526\n",
      "Threshold : 0.55\tFBeta : 0.234168\n",
      "Threshold : 0.60\tFBeta : 0.160708\n",
      "Threshold : 0.65\tFBeta : 0.105673\n",
      "Threshold : 0.70\tFBeta : 0.058965\n",
      "Threshold : 0.75\tFBeta : 0.029659\n",
      "Threshold : 0.80\tFBeta : 0.010451\n",
      "\n"
     ]
    },
    {
     "name": "stderr",
     "output_type": "stream",
     "text": [
      "Epoch 11/50  Mem : 18GB  LR : 9.57E-05  Loss: 0.3639: 100%|██████████| 64/64 [00:38<00:00,  1.68it/s]                                                                                                                                                                            \n",
      "Val Loss: 0.2273: 100%|██████████| 19/19 [00:04<00:00,  3.80it/s]                                                                                                                                                                                                                \n"
     ]
    },
    {
     "name": "stdout",
     "output_type": "stream",
     "text": [
      "Threshold : 0.20\tFBeta : 0.451611\n",
      "Threshold : 0.25\tFBeta : 0.480946\n",
      "Threshold : 0.30\tFBeta : 0.492001\n",
      "Threshold : 0.35\tFBeta : 0.484230\n",
      "Threshold : 0.40\tFBeta : 0.467828\n",
      "Threshold : 0.45\tFBeta : 0.449236\n",
      "Threshold : 0.50\tFBeta : 0.426832\n",
      "Threshold : 0.55\tFBeta : 0.389775\n",
      "Threshold : 0.60\tFBeta : 0.325511\n",
      "Threshold : 0.65\tFBeta : 0.243239\n",
      "Threshold : 0.70\tFBeta : 0.164909\n",
      "Threshold : 0.75\tFBeta : 0.101874\n",
      "Threshold : 0.80\tFBeta : 0.062344\n",
      "\n"
     ]
    },
    {
     "name": "stderr",
     "output_type": "stream",
     "text": [
      "Epoch 12/50  Mem : 18GB  LR : 9.41E-05  Loss: 0.3521: 100%|██████████| 64/64 [00:37<00:00,  1.70it/s]                                                                                                                                                                            \n",
      "Val Loss: 0.2252: 100%|██████████| 19/19 [00:05<00:00,  3.76it/s]                                                                                                                                                                                                                \n"
     ]
    },
    {
     "name": "stdout",
     "output_type": "stream",
     "text": [
      "Threshold : 0.20\tFBeta : 0.495948\n",
      "Threshold : 0.25\tFBeta : 0.506536\n",
      "Threshold : 0.30\tFBeta : 0.499660\n",
      "Threshold : 0.35\tFBeta : 0.480581\n",
      "Threshold : 0.40\tFBeta : 0.451508\n",
      "Threshold : 0.45\tFBeta : 0.409715\n",
      "Threshold : 0.50\tFBeta : 0.364475\n",
      "Threshold : 0.55\tFBeta : 0.304821\n",
      "Threshold : 0.60\tFBeta : 0.238146\n",
      "Threshold : 0.65\tFBeta : 0.183026\n",
      "Threshold : 0.70\tFBeta : 0.127332\n",
      "Threshold : 0.75\tFBeta : 0.076794\n",
      "Threshold : 0.80\tFBeta : 0.036369\n",
      "\n"
     ]
    },
    {
     "name": "stderr",
     "output_type": "stream",
     "text": [
      "Epoch 13/50  Mem : 18GB  LR : 9.24E-05  Loss: 0.3403: 100%|██████████| 64/64 [00:38<00:00,  1.67it/s]                                                                                                                                                                            \n",
      "Val Loss: 0.2236: 100%|██████████| 19/19 [00:05<00:00,  3.80it/s]                                                                                                                                                                                                                \n"
     ]
    },
    {
     "name": "stdout",
     "output_type": "stream",
     "text": [
      "Threshold : 0.20\tFBeta : 0.370632\n",
      "Threshold : 0.25\tFBeta : 0.411579\n",
      "Threshold : 0.30\tFBeta : 0.439264\n",
      "Threshold : 0.35\tFBeta : 0.460065\n",
      "Threshold : 0.40\tFBeta : 0.482185\n",
      "Threshold : 0.45\tFBeta : 0.502959\n",
      "Threshold : 0.50\tFBeta : 0.514942\n",
      "Threshold : 0.55\tFBeta : 0.520044\n",
      "Threshold : 0.60\tFBeta : 0.525186\n",
      "Threshold : 0.65\tFBeta : 0.511857\n",
      "Threshold : 0.70\tFBeta : 0.476989\n",
      "Threshold : 0.75\tFBeta : 0.427611\n",
      "Threshold : 0.80\tFBeta : 0.364670\n",
      "\n"
     ]
    },
    {
     "name": "stderr",
     "output_type": "stream",
     "text": [
      "Epoch 14/50  Mem : 18GB  LR : 9.05E-05  Loss: 0.3390: 100%|██████████| 64/64 [00:38<00:00,  1.65it/s]                                                                                                                                                                            \n",
      "Val Loss: 0.2109: 100%|██████████| 19/19 [00:05<00:00,  3.80it/s]                                                                                                                                                                                                                \n"
     ]
    },
    {
     "name": "stdout",
     "output_type": "stream",
     "text": [
      "Threshold : 0.20\tFBeta : 0.371326\n",
      "Threshold : 0.25\tFBeta : 0.414847\n",
      "Threshold : 0.30\tFBeta : 0.448909\n",
      "Threshold : 0.35\tFBeta : 0.478968\n",
      "Threshold : 0.40\tFBeta : 0.504066\n",
      "Threshold : 0.45\tFBeta : 0.518692\n",
      "Threshold : 0.50\tFBeta : 0.521308\n",
      "Threshold : 0.55\tFBeta : 0.511671\n",
      "Threshold : 0.60\tFBeta : 0.484055\n",
      "Threshold : 0.65\tFBeta : 0.438038\n",
      "Threshold : 0.70\tFBeta : 0.378622\n",
      "Threshold : 0.75\tFBeta : 0.308211\n",
      "Threshold : 0.80\tFBeta : 0.228479\n",
      "\n"
     ]
    },
    {
     "name": "stderr",
     "output_type": "stream",
     "text": [
      "Epoch 15/50  Mem : 18GB  LR : 8.83E-05  Loss: 0.3306: 100%|██████████| 64/64 [00:38<00:00,  1.65it/s]                                                                                                                                                                            \n",
      "Val Loss: 0.2203: 100%|██████████| 19/19 [00:05<00:00,  3.70it/s]                                                                                                                                                                                                                \n"
     ]
    },
    {
     "name": "stdout",
     "output_type": "stream",
     "text": [
      "Threshold : 0.20\tFBeta : 0.496345\n",
      "Threshold : 0.25\tFBeta : 0.507328\n",
      "Threshold : 0.30\tFBeta : 0.489251\n",
      "Threshold : 0.35\tFBeta : 0.458311\n",
      "Threshold : 0.40\tFBeta : 0.433520\n",
      "Threshold : 0.45\tFBeta : 0.403553\n",
      "Threshold : 0.50\tFBeta : 0.370192\n",
      "Threshold : 0.55\tFBeta : 0.330134\n",
      "Threshold : 0.60\tFBeta : 0.278999\n",
      "Threshold : 0.65\tFBeta : 0.227442\n",
      "Threshold : 0.70\tFBeta : 0.178372\n",
      "Threshold : 0.75\tFBeta : 0.129631\n",
      "Threshold : 0.80\tFBeta : 0.077234\n",
      "\n"
     ]
    },
    {
     "name": "stderr",
     "output_type": "stream",
     "text": [
      "Epoch 16/50  Mem : 18GB  LR : 8.60E-05  Loss: 0.3286: 100%|██████████| 64/64 [00:38<00:00,  1.67it/s]                                                                                                                                                                            \n",
      "Val Loss: 0.2793: 100%|██████████| 19/19 [00:05<00:00,  3.79it/s]                                                                                                                                                                                                                \n"
     ]
    },
    {
     "name": "stdout",
     "output_type": "stream",
     "text": [
      "Threshold : 0.20\tFBeta : 0.223892\n",
      "Threshold : 0.25\tFBeta : 0.253351\n",
      "Threshold : 0.30\tFBeta : 0.280456\n",
      "Threshold : 0.35\tFBeta : 0.307474\n",
      "Threshold : 0.40\tFBeta : 0.335035\n",
      "Threshold : 0.45\tFBeta : 0.367975\n",
      "Threshold : 0.50\tFBeta : 0.404015\n",
      "Threshold : 0.55\tFBeta : 0.457812\n",
      "Threshold : 0.60\tFBeta : 0.497897\n",
      "Threshold : 0.65\tFBeta : 0.529294\n",
      "Threshold : 0.70\tFBeta : 0.545203\n",
      "Threshold : 0.75\tFBeta : 0.546947\n",
      "Threshold : 0.80\tFBeta : 0.527842\n",
      "\n"
     ]
    },
    {
     "name": "stderr",
     "output_type": "stream",
     "text": [
      "Epoch 17/50  Mem : 18GB  LR : 8.35E-05  Loss: 0.3203: 100%|██████████| 64/64 [00:38<00:00,  1.68it/s]                                                                                                                                                                            \n",
      "Val Loss: 0.2182: 100%|██████████| 19/19 [00:04<00:00,  3.81it/s]                                                                                                                                                                                                                \n"
     ]
    },
    {
     "name": "stdout",
     "output_type": "stream",
     "text": [
      "Threshold : 0.20\tFBeta : 0.536989\n",
      "Threshold : 0.25\tFBeta : 0.503408\n",
      "Threshold : 0.30\tFBeta : 0.453642\n",
      "Threshold : 0.35\tFBeta : 0.392702\n",
      "Threshold : 0.40\tFBeta : 0.327670\n",
      "Threshold : 0.45\tFBeta : 0.257084\n",
      "Threshold : 0.50\tFBeta : 0.176666\n",
      "Threshold : 0.55\tFBeta : 0.092799\n",
      "Threshold : 0.60\tFBeta : 0.047412\n",
      "Threshold : 0.65\tFBeta : 0.022630\n",
      "Threshold : 0.70\tFBeta : 0.012525\n",
      "Threshold : 0.75\tFBeta : 0.006449\n",
      "Threshold : 0.80\tFBeta : 0.003971\n",
      "\n"
     ]
    },
    {
     "name": "stderr",
     "output_type": "stream",
     "text": [
      "Epoch 18/50  Mem : 18GB  LR : 8.08E-05  Loss: 0.3207: 100%|██████████| 64/64 [00:38<00:00,  1.66it/s]                                                                                                                                                                            \n",
      "Val Loss: 0.2082: 100%|██████████| 19/19 [00:05<00:00,  3.75it/s]                                                                                                                                                                                                                \n"
     ]
    },
    {
     "name": "stdout",
     "output_type": "stream",
     "text": [
      "Threshold : 0.20\tFBeta : 0.361377\n",
      "Threshold : 0.25\tFBeta : 0.417638\n",
      "Threshold : 0.30\tFBeta : 0.460608\n",
      "Threshold : 0.35\tFBeta : 0.495729\n",
      "Threshold : 0.40\tFBeta : 0.525323\n",
      "Threshold : 0.45\tFBeta : 0.544699\n",
      "Threshold : 0.50\tFBeta : 0.545816\n",
      "Threshold : 0.55\tFBeta : 0.534353\n",
      "Threshold : 0.60\tFBeta : 0.509402\n",
      "Threshold : 0.65\tFBeta : 0.473742\n",
      "Threshold : 0.70\tFBeta : 0.425532\n",
      "Threshold : 0.75\tFBeta : 0.364251\n",
      "Threshold : 0.80\tFBeta : 0.295449\n",
      "\n"
     ]
    },
    {
     "name": "stderr",
     "output_type": "stream",
     "text": [
      "Epoch 19/50  Mem : 18GB  LR : 7.80E-05  Loss: 0.3099: 100%|██████████| 64/64 [00:37<00:00,  1.69it/s]                                                                                                                                                                            \n",
      "Val Loss: 0.1873: 100%|██████████| 19/19 [00:05<00:00,  3.79it/s]                                                                                                                                                                                                                \n"
     ]
    },
    {
     "name": "stdout",
     "output_type": "stream",
     "text": [
      "Threshold : 0.20\tFBeta : 0.516980\n",
      "Threshold : 0.25\tFBeta : 0.548895\n",
      "Threshold : 0.30\tFBeta : 0.573387\n",
      "Threshold : 0.35\tFBeta : 0.582899\n",
      "Threshold : 0.40\tFBeta : 0.584989\n",
      "Threshold : 0.45\tFBeta : 0.583582\n",
      "Threshold : 0.50\tFBeta : 0.574080\n",
      "Threshold : 0.55\tFBeta : 0.557282\n",
      "Threshold : 0.60\tFBeta : 0.520530\n",
      "Threshold : 0.65\tFBeta : 0.467125\n",
      "Threshold : 0.70\tFBeta : 0.395028\n",
      "Threshold : 0.75\tFBeta : 0.310836\n",
      "Threshold : 0.80\tFBeta : 0.221287\n",
      "\n"
     ]
    },
    {
     "name": "stderr",
     "output_type": "stream",
     "text": [
      "Epoch 20/50  Mem : 18GB  LR : 7.50E-05  Loss: 0.3136: 100%|██████████| 64/64 [00:38<00:00,  1.66it/s]                                                                                                                                                                            \n",
      "Val Loss: 0.1963: 100%|██████████| 19/19 [00:05<00:00,  3.75it/s]                                                                                                                                                                                                                \n"
     ]
    },
    {
     "name": "stdout",
     "output_type": "stream",
     "text": [
      "Threshold : 0.20\tFBeta : 0.529860\n",
      "Threshold : 0.25\tFBeta : 0.573240\n",
      "Threshold : 0.30\tFBeta : 0.590332\n",
      "Threshold : 0.35\tFBeta : 0.593575\n",
      "Threshold : 0.40\tFBeta : 0.586614\n",
      "Threshold : 0.45\tFBeta : 0.566620\n",
      "Threshold : 0.50\tFBeta : 0.531684\n",
      "Threshold : 0.55\tFBeta : 0.477844\n",
      "Threshold : 0.60\tFBeta : 0.422250\n",
      "Threshold : 0.65\tFBeta : 0.364523\n",
      "Threshold : 0.70\tFBeta : 0.300807\n",
      "Threshold : 0.75\tFBeta : 0.234803\n",
      "Threshold : 0.80\tFBeta : 0.168668\n",
      "\n"
     ]
    },
    {
     "name": "stderr",
     "output_type": "stream",
     "text": [
      "Epoch 21/50  Mem : 18GB  LR : 7.19E-05  Loss: 0.3109: 100%|██████████| 64/64 [00:37<00:00,  1.69it/s]                                                                                                                                                                            \n",
      "Val Loss: 0.1825: 100%|██████████| 19/19 [00:05<00:00,  3.76it/s]                                                                                                                                                                                                                \n"
     ]
    },
    {
     "name": "stdout",
     "output_type": "stream",
     "text": [
      "Threshold : 0.20\tFBeta : 0.450223\n",
      "Threshold : 0.25\tFBeta : 0.491857\n",
      "Threshold : 0.30\tFBeta : 0.520705\n",
      "Threshold : 0.35\tFBeta : 0.543686\n",
      "Threshold : 0.40\tFBeta : 0.563770\n",
      "Threshold : 0.45\tFBeta : 0.580870\n",
      "Threshold : 0.50\tFBeta : 0.590722\n",
      "Threshold : 0.55\tFBeta : 0.587154\n",
      "Threshold : 0.60\tFBeta : 0.575345\n",
      "Threshold : 0.65\tFBeta : 0.556069\n",
      "Threshold : 0.70\tFBeta : 0.526719\n",
      "Threshold : 0.75\tFBeta : 0.484689\n",
      "Threshold : 0.80\tFBeta : 0.421374\n",
      "\n"
     ]
    },
    {
     "name": "stderr",
     "output_type": "stream",
     "text": [
      "Epoch 22/50  Mem : 18GB  LR : 6.87E-05  Loss: 0.3029: 100%|██████████| 64/64 [00:38<00:00,  1.68it/s]                                                                                                                                                                            \n",
      "Val Loss: 0.2519: 100%|██████████| 19/19 [00:05<00:00,  3.80it/s]                                                                                                                                                                                                                \n"
     ]
    },
    {
     "name": "stdout",
     "output_type": "stream",
     "text": [
      "Threshold : 0.20\tFBeta : 0.274408\n",
      "Threshold : 0.25\tFBeta : 0.302457\n",
      "Threshold : 0.30\tFBeta : 0.328515\n",
      "Threshold : 0.35\tFBeta : 0.355449\n",
      "Threshold : 0.40\tFBeta : 0.382350\n",
      "Threshold : 0.45\tFBeta : 0.409859\n",
      "Threshold : 0.50\tFBeta : 0.440217\n",
      "Threshold : 0.55\tFBeta : 0.474902\n",
      "Threshold : 0.60\tFBeta : 0.503775\n",
      "Threshold : 0.65\tFBeta : 0.530848\n",
      "Threshold : 0.70\tFBeta : 0.547629\n",
      "Threshold : 0.75\tFBeta : 0.557328\n",
      "Threshold : 0.80\tFBeta : 0.556438\n",
      "\n"
     ]
    },
    {
     "name": "stderr",
     "output_type": "stream",
     "text": [
      "Epoch 23/50  Mem : 18GB  LR : 6.55E-05  Loss: 0.3010: 100%|██████████| 64/64 [00:37<00:00,  1.69it/s]                                                                                                                                                                            \n",
      "Val Loss: 0.1951: 100%|██████████| 19/19 [00:05<00:00,  3.80it/s]                                                                                                                                                                                                                \n"
     ]
    },
    {
     "name": "stdout",
     "output_type": "stream",
     "text": [
      "Threshold : 0.20\tFBeta : 0.382414\n",
      "Threshold : 0.25\tFBeta : 0.424116\n",
      "Threshold : 0.30\tFBeta : 0.455493\n",
      "Threshold : 0.35\tFBeta : 0.484947\n",
      "Threshold : 0.40\tFBeta : 0.508917\n",
      "Threshold : 0.45\tFBeta : 0.535050\n",
      "Threshold : 0.50\tFBeta : 0.554852\n",
      "Threshold : 0.55\tFBeta : 0.562257\n",
      "Threshold : 0.60\tFBeta : 0.560757\n",
      "Threshold : 0.65\tFBeta : 0.549206\n",
      "Threshold : 0.70\tFBeta : 0.522749\n",
      "Threshold : 0.75\tFBeta : 0.488607\n",
      "Threshold : 0.80\tFBeta : 0.445479\n",
      "\n"
     ]
    },
    {
     "name": "stderr",
     "output_type": "stream",
     "text": [
      "Epoch 24/50  Mem : 18GB  LR : 6.21E-05  Loss: 0.3050: 100%|██████████| 64/64 [00:37<00:00,  1.69it/s]                                                                                                                                                                            \n",
      "Val Loss: 0.2251: 100%|██████████| 19/19 [00:05<00:00,  3.77it/s]                                                                                                                                                                                                                \n"
     ]
    },
    {
     "name": "stdout",
     "output_type": "stream",
     "text": [
      "Threshold : 0.20\tFBeta : 0.304856\n",
      "Threshold : 0.25\tFBeta : 0.333547\n",
      "Threshold : 0.30\tFBeta : 0.358953\n",
      "Threshold : 0.35\tFBeta : 0.384006\n",
      "Threshold : 0.40\tFBeta : 0.411225\n",
      "Threshold : 0.45\tFBeta : 0.437937\n",
      "Threshold : 0.50\tFBeta : 0.469010\n",
      "Threshold : 0.55\tFBeta : 0.493895\n",
      "Threshold : 0.60\tFBeta : 0.515033\n",
      "Threshold : 0.65\tFBeta : 0.532007\n",
      "Threshold : 0.70\tFBeta : 0.544294\n",
      "Threshold : 0.75\tFBeta : 0.545044\n",
      "Threshold : 0.80\tFBeta : 0.525383\n",
      "\n"
     ]
    },
    {
     "name": "stderr",
     "output_type": "stream",
     "text": [
      "Epoch 25/50  Mem : 18GB  LR : 5.87E-05  Loss: 0.2957: 100%|██████████| 64/64 [00:37<00:00,  1.69it/s]                                                                                                                                                                            \n",
      "Val Loss: 0.2116: 100%|██████████| 19/19 [00:05<00:00,  3.80it/s]                                                                                                                                                                                                                \n"
     ]
    },
    {
     "name": "stdout",
     "output_type": "stream",
     "text": [
      "Threshold : 0.20\tFBeta : 0.327685\n",
      "Threshold : 0.25\tFBeta : 0.362472\n",
      "Threshold : 0.30\tFBeta : 0.391661\n",
      "Threshold : 0.35\tFBeta : 0.419016\n",
      "Threshold : 0.40\tFBeta : 0.445477\n",
      "Threshold : 0.45\tFBeta : 0.473552\n",
      "Threshold : 0.50\tFBeta : 0.502094\n",
      "Threshold : 0.55\tFBeta : 0.528418\n",
      "Threshold : 0.60\tFBeta : 0.549940\n",
      "Threshold : 0.65\tFBeta : 0.565787\n",
      "Threshold : 0.70\tFBeta : 0.570428\n",
      "Threshold : 0.75\tFBeta : 0.552563\n",
      "Threshold : 0.80\tFBeta : 0.510998\n",
      "\n"
     ]
    },
    {
     "name": "stderr",
     "output_type": "stream",
     "text": [
      "Epoch 26/50  Mem : 18GB  LR : 5.52E-05  Loss: 0.2916: 100%|██████████| 64/64 [00:37<00:00,  1.68it/s]                                                                                                                                                                            \n",
      "Val Loss: 0.2887: 100%|██████████| 19/19 [00:05<00:00,  3.80it/s]                                                                                                                                                                                                                \n"
     ]
    },
    {
     "name": "stdout",
     "output_type": "stream",
     "text": [
      "Threshold : 0.20\tFBeta : 0.247310\n",
      "Threshold : 0.25\tFBeta : 0.270091\n",
      "Threshold : 0.30\tFBeta : 0.292112\n",
      "Threshold : 0.35\tFBeta : 0.314964\n",
      "Threshold : 0.40\tFBeta : 0.339206\n",
      "Threshold : 0.45\tFBeta : 0.366154\n",
      "Threshold : 0.50\tFBeta : 0.399043\n",
      "Threshold : 0.55\tFBeta : 0.432330\n",
      "Threshold : 0.60\tFBeta : 0.462379\n",
      "Threshold : 0.65\tFBeta : 0.487226\n",
      "Threshold : 0.70\tFBeta : 0.509472\n",
      "Threshold : 0.75\tFBeta : 0.531661\n",
      "Threshold : 0.80\tFBeta : 0.550431\n",
      "\n"
     ]
    },
    {
     "name": "stderr",
     "output_type": "stream",
     "text": [
      "Epoch 27/50  Mem : 18GB  LR : 5.17E-05  Loss: 0.2907: 100%|██████████| 64/64 [00:37<00:00,  1.69it/s]                                                                                                                                                                            \n",
      "Val Loss: 0.2489: 100%|██████████| 19/19 [00:05<00:00,  3.75it/s]                                                                                                                                                                                                                \n"
     ]
    },
    {
     "name": "stdout",
     "output_type": "stream",
     "text": [
      "Threshold : 0.20\tFBeta : 0.294060\n",
      "Threshold : 0.25\tFBeta : 0.325963\n",
      "Threshold : 0.30\tFBeta : 0.354724\n",
      "Threshold : 0.35\tFBeta : 0.384801\n",
      "Threshold : 0.40\tFBeta : 0.414797\n",
      "Threshold : 0.45\tFBeta : 0.442599\n",
      "Threshold : 0.50\tFBeta : 0.468766\n",
      "Threshold : 0.55\tFBeta : 0.490878\n",
      "Threshold : 0.60\tFBeta : 0.511383\n",
      "Threshold : 0.65\tFBeta : 0.531042\n",
      "Threshold : 0.70\tFBeta : 0.548923\n",
      "Threshold : 0.75\tFBeta : 0.563330\n",
      "Threshold : 0.80\tFBeta : 0.571789\n",
      "\n"
     ]
    },
    {
     "name": "stderr",
     "output_type": "stream",
     "text": [
      "Epoch 28/50  Mem : 18GB  LR : 4.83E-05  Loss: 0.2854: 100%|██████████| 64/64 [00:38<00:00,  1.68it/s]                                                                                                                                                                            \n",
      "Val Loss: 0.1858: 100%|██████████| 19/19 [00:05<00:00,  3.79it/s]                                                                                                                                                                                                                \n"
     ]
    },
    {
     "name": "stdout",
     "output_type": "stream",
     "text": [
      "Threshold : 0.20\tFBeta : 0.453731\n",
      "Threshold : 0.25\tFBeta : 0.483245\n",
      "Threshold : 0.30\tFBeta : 0.504376\n",
      "Threshold : 0.35\tFBeta : 0.522810\n",
      "Threshold : 0.40\tFBeta : 0.538611\n",
      "Threshold : 0.45\tFBeta : 0.552669\n",
      "Threshold : 0.50\tFBeta : 0.563811\n",
      "Threshold : 0.55\tFBeta : 0.566135\n",
      "Threshold : 0.60\tFBeta : 0.560692\n",
      "Threshold : 0.65\tFBeta : 0.545927\n",
      "Threshold : 0.70\tFBeta : 0.522549\n",
      "Threshold : 0.75\tFBeta : 0.492110\n",
      "Threshold : 0.80\tFBeta : 0.446982\n",
      "\n"
     ]
    },
    {
     "name": "stderr",
     "output_type": "stream",
     "text": [
      "Epoch 29/50  Mem : 18GB  LR : 4.48E-05  Loss: 0.2853: 100%|██████████| 64/64 [00:37<00:00,  1.69it/s]                                                                                                                                                                            \n",
      "Val Loss: 0.2006: 100%|██████████| 19/19 [00:04<00:00,  3.80it/s]                                                                                                                                                                                                                \n"
     ]
    },
    {
     "name": "stdout",
     "output_type": "stream",
     "text": [
      "Threshold : 0.20\tFBeta : 0.371577\n",
      "Threshold : 0.25\tFBeta : 0.399337\n",
      "Threshold : 0.30\tFBeta : 0.421955\n",
      "Threshold : 0.35\tFBeta : 0.443187\n",
      "Threshold : 0.40\tFBeta : 0.466337\n",
      "Threshold : 0.45\tFBeta : 0.489852\n",
      "Threshold : 0.50\tFBeta : 0.509847\n",
      "Threshold : 0.55\tFBeta : 0.528831\n",
      "Threshold : 0.60\tFBeta : 0.546590\n",
      "Threshold : 0.65\tFBeta : 0.560676\n",
      "Threshold : 0.70\tFBeta : 0.565595\n",
      "Threshold : 0.75\tFBeta : 0.556656\n",
      "Threshold : 0.80\tFBeta : 0.530617\n",
      "\n"
     ]
    },
    {
     "name": "stderr",
     "output_type": "stream",
     "text": [
      "Epoch 30/50  Mem : 18GB  LR : 4.13E-05  Loss: 0.2852: 100%|██████████| 64/64 [00:38<00:00,  1.67it/s]                                                                                                                                                                            \n",
      "Val Loss: 0.2349: 100%|██████████| 19/19 [00:04<00:00,  3.80it/s]                                                                                                                                                                                                                \n"
     ]
    },
    {
     "name": "stdout",
     "output_type": "stream",
     "text": [
      "Threshold : 0.20\tFBeta : 0.314873\n",
      "Threshold : 0.25\tFBeta : 0.347876\n",
      "Threshold : 0.30\tFBeta : 0.378010\n",
      "Threshold : 0.35\tFBeta : 0.405372\n",
      "Threshold : 0.40\tFBeta : 0.430150\n",
      "Threshold : 0.45\tFBeta : 0.455489\n",
      "Threshold : 0.50\tFBeta : 0.482256\n",
      "Threshold : 0.55\tFBeta : 0.508066\n",
      "Threshold : 0.60\tFBeta : 0.530024\n",
      "Threshold : 0.65\tFBeta : 0.548259\n",
      "Threshold : 0.70\tFBeta : 0.566145\n",
      "Threshold : 0.75\tFBeta : 0.580150\n",
      "Threshold : 0.80\tFBeta : 0.585274\n",
      "\n"
     ]
    },
    {
     "name": "stderr",
     "output_type": "stream",
     "text": [
      "Epoch 31/50  Mem : 18GB  LR : 3.79E-05  Loss: 0.2790: 100%|██████████| 64/64 [00:38<00:00,  1.66it/s]                                                                                                                                                                            \n",
      "Val Loss: 0.1735: 100%|██████████| 19/19 [00:04<00:00,  3.80it/s]                                                                                                                                                                                                                \n"
     ]
    },
    {
     "name": "stdout",
     "output_type": "stream",
     "text": [
      "Threshold : 0.20\tFBeta : 0.505902\n",
      "Threshold : 0.25\tFBeta : 0.542002\n",
      "Threshold : 0.30\tFBeta : 0.571026\n",
      "Threshold : 0.35\tFBeta : 0.590614\n",
      "Threshold : 0.40\tFBeta : 0.599126\n",
      "Threshold : 0.45\tFBeta : 0.601466\n",
      "Threshold : 0.50\tFBeta : 0.599792\n",
      "Threshold : 0.55\tFBeta : 0.593905\n",
      "Threshold : 0.60\tFBeta : 0.582653\n",
      "Threshold : 0.65\tFBeta : 0.559003\n",
      "Threshold : 0.70\tFBeta : 0.528897\n",
      "Threshold : 0.75\tFBeta : 0.486673\n",
      "Threshold : 0.80\tFBeta : 0.423575\n",
      "\n"
     ]
    },
    {
     "name": "stderr",
     "output_type": "stream",
     "text": [
      "Epoch 32/50  Mem : 18GB  LR : 3.45E-05  Loss: 0.2673: 100%|██████████| 64/64 [00:38<00:00,  1.68it/s]                                                                                                                                                                            \n",
      "Val Loss: 0.1725: 100%|██████████| 19/19 [00:05<00:00,  3.77it/s]                                                                                                                                                                                                                \n"
     ]
    },
    {
     "name": "stdout",
     "output_type": "stream",
     "text": [
      "Threshold : 0.20\tFBeta : 0.461103\n",
      "Threshold : 0.25\tFBeta : 0.495272\n",
      "Threshold : 0.30\tFBeta : 0.522599\n",
      "Threshold : 0.35\tFBeta : 0.543510\n",
      "Threshold : 0.40\tFBeta : 0.563858\n",
      "Threshold : 0.45\tFBeta : 0.584237\n",
      "Threshold : 0.50\tFBeta : 0.605111\n",
      "Threshold : 0.55\tFBeta : 0.621265\n",
      "Threshold : 0.60\tFBeta : 0.625473\n",
      "Threshold : 0.65\tFBeta : 0.619850\n",
      "Threshold : 0.70\tFBeta : 0.604002\n",
      "Threshold : 0.75\tFBeta : 0.580550\n",
      "Threshold : 0.80\tFBeta : 0.545979\n",
      "\n"
     ]
    },
    {
     "name": "stderr",
     "output_type": "stream",
     "text": [
      "Epoch 33/50  Mem : 18GB  LR : 3.13E-05  Loss: 0.2725: 100%|██████████| 64/64 [00:38<00:00,  1.67it/s]                                                                                                                                                                            \n",
      "Val Loss: 0.1711: 100%|██████████| 19/19 [00:05<00:00,  3.79it/s]                                                                                                                                                                                                                \n"
     ]
    },
    {
     "name": "stdout",
     "output_type": "stream",
     "text": [
      "Threshold : 0.20\tFBeta : 0.520441\n",
      "Threshold : 0.25\tFBeta : 0.557229\n",
      "Threshold : 0.30\tFBeta : 0.581659\n",
      "Threshold : 0.35\tFBeta : 0.595579\n",
      "Threshold : 0.40\tFBeta : 0.605220\n",
      "Threshold : 0.45\tFBeta : 0.609824\n",
      "Threshold : 0.50\tFBeta : 0.612122\n",
      "Threshold : 0.55\tFBeta : 0.607651\n",
      "Threshold : 0.60\tFBeta : 0.598380\n",
      "Threshold : 0.65\tFBeta : 0.576749\n",
      "Threshold : 0.70\tFBeta : 0.546199\n",
      "Threshold : 0.75\tFBeta : 0.504265\n",
      "Threshold : 0.80\tFBeta : 0.445926\n",
      "\n"
     ]
    },
    {
     "name": "stderr",
     "output_type": "stream",
     "text": [
      "Epoch 34/50  Mem : 18GB  LR : 2.81E-05  Loss: 0.2685: 100%|██████████| 64/64 [00:38<00:00,  1.67it/s]                                                                                                                                                                            \n",
      "Val Loss: 0.1919: 100%|██████████| 19/19 [00:05<00:00,  3.79it/s]                                                                                                                                                                                                                \n"
     ]
    },
    {
     "name": "stdout",
     "output_type": "stream",
     "text": [
      "Threshold : 0.20\tFBeta : 0.386339\n",
      "Threshold : 0.25\tFBeta : 0.418632\n",
      "Threshold : 0.30\tFBeta : 0.446236\n",
      "Threshold : 0.35\tFBeta : 0.473840\n",
      "Threshold : 0.40\tFBeta : 0.500887\n",
      "Threshold : 0.45\tFBeta : 0.527840\n",
      "Threshold : 0.50\tFBeta : 0.556449\n",
      "Threshold : 0.55\tFBeta : 0.573972\n",
      "Threshold : 0.60\tFBeta : 0.583635\n",
      "Threshold : 0.65\tFBeta : 0.588319\n",
      "Threshold : 0.70\tFBeta : 0.590433\n",
      "Threshold : 0.75\tFBeta : 0.592577\n",
      "Threshold : 0.80\tFBeta : 0.584083\n",
      "\n"
     ]
    },
    {
     "name": "stderr",
     "output_type": "stream",
     "text": [
      "Epoch 35/50  Mem : 18GB  LR : 2.50E-05  Loss: 0.2669: 100%|██████████| 64/64 [00:38<00:00,  1.68it/s]                                                                                                                                                                            \n",
      "Val Loss: 0.1855: 100%|██████████| 19/19 [00:04<00:00,  3.80it/s]                                                                                                                                                                                                                \n"
     ]
    },
    {
     "name": "stdout",
     "output_type": "stream",
     "text": [
      "Threshold : 0.20\tFBeta : 0.393687\n",
      "Threshold : 0.25\tFBeta : 0.427832\n",
      "Threshold : 0.30\tFBeta : 0.456740\n",
      "Threshold : 0.35\tFBeta : 0.481165\n",
      "Threshold : 0.40\tFBeta : 0.503345\n",
      "Threshold : 0.45\tFBeta : 0.527125\n",
      "Threshold : 0.50\tFBeta : 0.551625\n",
      "Threshold : 0.55\tFBeta : 0.573635\n",
      "Threshold : 0.60\tFBeta : 0.592051\n",
      "Threshold : 0.65\tFBeta : 0.605490\n",
      "Threshold : 0.70\tFBeta : 0.611408\n",
      "Threshold : 0.75\tFBeta : 0.603006\n",
      "Threshold : 0.80\tFBeta : 0.579430\n",
      "\n"
     ]
    },
    {
     "name": "stderr",
     "output_type": "stream",
     "text": [
      "Epoch 36/50  Mem : 18GB  LR : 2.20E-05  Loss: 0.2663: 100%|██████████| 64/64 [00:38<00:00,  1.66it/s]                                                                                                                                                                            \n",
      "Val Loss: 0.1802: 100%|██████████| 19/19 [00:05<00:00,  3.80it/s]                                                                                                                                                                                                                \n"
     ]
    },
    {
     "name": "stdout",
     "output_type": "stream",
     "text": [
      "Threshold : 0.20\tFBeta : 0.428904\n",
      "Threshold : 0.25\tFBeta : 0.458952\n",
      "Threshold : 0.30\tFBeta : 0.483998\n",
      "Threshold : 0.35\tFBeta : 0.504440\n",
      "Threshold : 0.40\tFBeta : 0.523639\n",
      "Threshold : 0.45\tFBeta : 0.543913\n",
      "Threshold : 0.50\tFBeta : 0.562926\n",
      "Threshold : 0.55\tFBeta : 0.581995\n",
      "Threshold : 0.60\tFBeta : 0.594797\n",
      "Threshold : 0.65\tFBeta : 0.599663\n",
      "Threshold : 0.70\tFBeta : 0.598700\n",
      "Threshold : 0.75\tFBeta : 0.589902\n",
      "Threshold : 0.80\tFBeta : 0.573448\n",
      "\n"
     ]
    },
    {
     "name": "stderr",
     "output_type": "stream",
     "text": [
      "Epoch 37/50  Mem : 18GB  LR : 1.92E-05  Loss: 0.2605: 100%|██████████| 64/64 [00:37<00:00,  1.70it/s]                                                                                                                                                                            \n",
      "Val Loss: 0.1889: 100%|██████████| 19/19 [00:04<00:00,  3.81it/s]                                                                                                                                                                                                                \n"
     ]
    },
    {
     "name": "stdout",
     "output_type": "stream",
     "text": [
      "Threshold : 0.20\tFBeta : 0.402605\n",
      "Threshold : 0.25\tFBeta : 0.435150\n",
      "Threshold : 0.30\tFBeta : 0.460757\n",
      "Threshold : 0.35\tFBeta : 0.484365\n",
      "Threshold : 0.40\tFBeta : 0.506053\n",
      "Threshold : 0.45\tFBeta : 0.524788\n",
      "Threshold : 0.50\tFBeta : 0.545228\n",
      "Threshold : 0.55\tFBeta : 0.566860\n",
      "Threshold : 0.60\tFBeta : 0.584292\n",
      "Threshold : 0.65\tFBeta : 0.595706\n",
      "Threshold : 0.70\tFBeta : 0.597270\n",
      "Threshold : 0.75\tFBeta : 0.591718\n",
      "Threshold : 0.80\tFBeta : 0.576708\n",
      "\n"
     ]
    },
    {
     "name": "stderr",
     "output_type": "stream",
     "text": [
      "Epoch 38/50  Mem : 18GB  LR : 1.65E-05  Loss: 0.2559: 100%|██████████| 64/64 [00:38<00:00,  1.68it/s]                                                                                                                                                                            \n",
      "Val Loss: 0.1814: 100%|██████████| 19/19 [00:04<00:00,  3.82it/s]                                                                                                                                                                                                                \n"
     ]
    },
    {
     "name": "stdout",
     "output_type": "stream",
     "text": [
      "Threshold : 0.20\tFBeta : 0.410977\n",
      "Threshold : 0.25\tFBeta : 0.446369\n",
      "Threshold : 0.30\tFBeta : 0.475864\n",
      "Threshold : 0.35\tFBeta : 0.501444\n",
      "Threshold : 0.40\tFBeta : 0.525916\n",
      "Threshold : 0.45\tFBeta : 0.547190\n",
      "Threshold : 0.50\tFBeta : 0.566102\n",
      "Threshold : 0.55\tFBeta : 0.583448\n",
      "Threshold : 0.60\tFBeta : 0.594149\n",
      "Threshold : 0.65\tFBeta : 0.593084\n",
      "Threshold : 0.70\tFBeta : 0.586242\n",
      "Threshold : 0.75\tFBeta : 0.577376\n",
      "Threshold : 0.80\tFBeta : 0.550635\n",
      "\n"
     ]
    },
    {
     "name": "stderr",
     "output_type": "stream",
     "text": [
      "Epoch 39/50  Mem : 18GB  LR : 1.40E-05  Loss: 0.2618: 100%|██████████| 64/64 [00:38<00:00,  1.67it/s]                                                                                                                                                                            \n",
      "Val Loss: 0.1790: 100%|██████████| 19/19 [00:04<00:00,  3.82it/s]                                                                                                                                                                                                                \n"
     ]
    },
    {
     "name": "stdout",
     "output_type": "stream",
     "text": [
      "Threshold : 0.20\tFBeta : 0.430904\n",
      "Threshold : 0.25\tFBeta : 0.462343\n",
      "Threshold : 0.30\tFBeta : 0.490859\n",
      "Threshold : 0.35\tFBeta : 0.518197\n",
      "Threshold : 0.40\tFBeta : 0.541648\n",
      "Threshold : 0.45\tFBeta : 0.559449\n",
      "Threshold : 0.50\tFBeta : 0.574877\n",
      "Threshold : 0.55\tFBeta : 0.586367\n",
      "Threshold : 0.60\tFBeta : 0.597664\n",
      "Threshold : 0.65\tFBeta : 0.602500\n",
      "Threshold : 0.70\tFBeta : 0.603222\n",
      "Threshold : 0.75\tFBeta : 0.599669\n",
      "Threshold : 0.80\tFBeta : 0.585298\n",
      "\n"
     ]
    },
    {
     "name": "stderr",
     "output_type": "stream",
     "text": [
      "Epoch 40/50  Mem : 18GB  LR : 1.17E-05  Loss: 0.2488: 100%|██████████| 64/64 [00:37<00:00,  1.69it/s]                                                                                                                                                                            \n",
      "Val Loss: 0.1775: 100%|██████████| 19/19 [00:04<00:00,  3.81it/s]                                                                                                                                                                                                                \n"
     ]
    },
    {
     "name": "stdout",
     "output_type": "stream",
     "text": [
      "Threshold : 0.20\tFBeta : 0.446525\n",
      "Threshold : 0.25\tFBeta : 0.485890\n",
      "Threshold : 0.30\tFBeta : 0.514862\n",
      "Threshold : 0.35\tFBeta : 0.537600\n",
      "Threshold : 0.40\tFBeta : 0.557126\n",
      "Threshold : 0.45\tFBeta : 0.572344\n",
      "Threshold : 0.50\tFBeta : 0.583692\n",
      "Threshold : 0.55\tFBeta : 0.592473\n",
      "Threshold : 0.60\tFBeta : 0.592514\n",
      "Threshold : 0.65\tFBeta : 0.588330\n",
      "Threshold : 0.70\tFBeta : 0.581523\n",
      "Threshold : 0.75\tFBeta : 0.566661\n",
      "Threshold : 0.80\tFBeta : 0.540605\n",
      "\n"
     ]
    },
    {
     "name": "stderr",
     "output_type": "stream",
     "text": [
      "Epoch 41/50  Mem : 18GB  LR : 9.55E-06  Loss: 0.2438: 100%|██████████| 64/64 [00:38<00:00,  1.67it/s]                                                                                                                                                                            \n",
      "Val Loss: 0.1756: 100%|██████████| 19/19 [00:04<00:00,  3.81it/s]                                                                                                                                                                                                                \n"
     ]
    },
    {
     "name": "stdout",
     "output_type": "stream",
     "text": [
      "Threshold : 0.20\tFBeta : 0.450070\n",
      "Threshold : 0.25\tFBeta : 0.482890\n",
      "Threshold : 0.30\tFBeta : 0.512074\n",
      "Threshold : 0.35\tFBeta : 0.536891\n",
      "Threshold : 0.40\tFBeta : 0.559591\n",
      "Threshold : 0.45\tFBeta : 0.580233\n",
      "Threshold : 0.50\tFBeta : 0.596903\n",
      "Threshold : 0.55\tFBeta : 0.608568\n",
      "Threshold : 0.60\tFBeta : 0.613785\n",
      "Threshold : 0.65\tFBeta : 0.612000\n",
      "Threshold : 0.70\tFBeta : 0.606935\n",
      "Threshold : 0.75\tFBeta : 0.594540\n",
      "Threshold : 0.80\tFBeta : 0.570586\n",
      "\n"
     ]
    },
    {
     "name": "stderr",
     "output_type": "stream",
     "text": [
      "Epoch 42/50  Mem : 18GB  LR : 7.60E-06  Loss: 0.2494: 100%|██████████| 64/64 [00:37<00:00,  1.71it/s]                                                                                                                                                                            \n",
      "Val Loss: 0.1718: 100%|██████████| 19/19 [00:04<00:00,  3.81it/s]                                                                                                                                                                                                                \n"
     ]
    },
    {
     "name": "stdout",
     "output_type": "stream",
     "text": [
      "Threshold : 0.20\tFBeta : 0.475063\n",
      "Threshold : 0.25\tFBeta : 0.510977\n",
      "Threshold : 0.30\tFBeta : 0.539653\n",
      "Threshold : 0.35\tFBeta : 0.561439\n",
      "Threshold : 0.40\tFBeta : 0.579542\n",
      "Threshold : 0.45\tFBeta : 0.595641\n",
      "Threshold : 0.50\tFBeta : 0.607284\n",
      "Threshold : 0.55\tFBeta : 0.612559\n",
      "Threshold : 0.60\tFBeta : 0.613392\n",
      "Threshold : 0.65\tFBeta : 0.605917\n",
      "Threshold : 0.70\tFBeta : 0.594726\n",
      "Threshold : 0.75\tFBeta : 0.576980\n",
      "Threshold : 0.80\tFBeta : 0.549425\n",
      "\n"
     ]
    },
    {
     "name": "stderr",
     "output_type": "stream",
     "text": [
      "Epoch 43/50  Mem : 18GB  LR : 5.85E-06  Loss: 0.2443: 100%|██████████| 64/64 [00:38<00:00,  1.67it/s]                                                                                                                                                                            \n",
      "Val Loss: 0.1741: 100%|██████████| 19/19 [00:04<00:00,  3.81it/s]                                                                                                                                                                                                                \n"
     ]
    },
    {
     "name": "stdout",
     "output_type": "stream",
     "text": [
      "Threshold : 0.20\tFBeta : 0.458241\n",
      "Threshold : 0.25\tFBeta : 0.491333\n",
      "Threshold : 0.30\tFBeta : 0.517646\n",
      "Threshold : 0.35\tFBeta : 0.540141\n",
      "Threshold : 0.40\tFBeta : 0.560429\n",
      "Threshold : 0.45\tFBeta : 0.576998\n",
      "Threshold : 0.50\tFBeta : 0.593851\n",
      "Threshold : 0.55\tFBeta : 0.607620\n",
      "Threshold : 0.60\tFBeta : 0.612673\n",
      "Threshold : 0.65\tFBeta : 0.612488\n",
      "Threshold : 0.70\tFBeta : 0.606151\n",
      "Threshold : 0.75\tFBeta : 0.595445\n",
      "Threshold : 0.80\tFBeta : 0.573150\n",
      "\n"
     ]
    },
    {
     "name": "stderr",
     "output_type": "stream",
     "text": [
      "Epoch 44/50  Mem : 18GB  LR : 4.32E-06  Loss: 0.2443: 100%|██████████| 64/64 [00:37<00:00,  1.69it/s]                                                                                                                                                                            \n",
      "Val Loss: 0.1754: 100%|██████████| 19/19 [00:04<00:00,  3.81it/s]                                                                                                                                                                                                                \n"
     ]
    },
    {
     "name": "stdout",
     "output_type": "stream",
     "text": [
      "Threshold : 0.20\tFBeta : 0.459884\n",
      "Threshold : 0.25\tFBeta : 0.494595\n",
      "Threshold : 0.30\tFBeta : 0.522673\n",
      "Threshold : 0.35\tFBeta : 0.544979\n",
      "Threshold : 0.40\tFBeta : 0.564520\n",
      "Threshold : 0.45\tFBeta : 0.580989\n",
      "Threshold : 0.50\tFBeta : 0.595152\n",
      "Threshold : 0.55\tFBeta : 0.602381\n",
      "Threshold : 0.60\tFBeta : 0.605047\n",
      "Threshold : 0.65\tFBeta : 0.601507\n",
      "Threshold : 0.70\tFBeta : 0.593046\n",
      "Threshold : 0.75\tFBeta : 0.581407\n",
      "Threshold : 0.80\tFBeta : 0.565106\n",
      "\n"
     ]
    },
    {
     "name": "stderr",
     "output_type": "stream",
     "text": [
      "Epoch 45/50  Mem : 18GB  LR : 3.02E-06  Loss: 0.2498: 100%|██████████| 64/64 [00:37<00:00,  1.70it/s]                                                                                                                                                                            \n",
      "Val Loss: 0.1757: 100%|██████████| 19/19 [00:04<00:00,  3.80it/s]                                                                                                                                                                                                                \n"
     ]
    },
    {
     "name": "stdout",
     "output_type": "stream",
     "text": [
      "Threshold : 0.20\tFBeta : 0.454770\n",
      "Threshold : 0.25\tFBeta : 0.486949\n",
      "Threshold : 0.30\tFBeta : 0.515313\n",
      "Threshold : 0.35\tFBeta : 0.538724\n",
      "Threshold : 0.40\tFBeta : 0.557186\n",
      "Threshold : 0.45\tFBeta : 0.573719\n",
      "Threshold : 0.50\tFBeta : 0.590985\n",
      "Threshold : 0.55\tFBeta : 0.605219\n",
      "Threshold : 0.60\tFBeta : 0.610162\n",
      "Threshold : 0.65\tFBeta : 0.607582\n",
      "Threshold : 0.70\tFBeta : 0.601098\n",
      "Threshold : 0.75\tFBeta : 0.588503\n",
      "Threshold : 0.80\tFBeta : 0.566285\n",
      "\n"
     ]
    },
    {
     "name": "stderr",
     "output_type": "stream",
     "text": [
      "Epoch 46/50  Mem : 18GB  LR : 1.94E-06  Loss: 0.2399: 100%|██████████| 64/64 [00:38<00:00,  1.68it/s]                                                                                                                                                                            \n",
      "Val Loss: 0.1742: 100%|██████████| 19/19 [00:05<00:00,  3.77it/s]                                                                                                                                                                                                                \n"
     ]
    },
    {
     "name": "stdout",
     "output_type": "stream",
     "text": [
      "Threshold : 0.20\tFBeta : 0.459939\n",
      "Threshold : 0.25\tFBeta : 0.493302\n",
      "Threshold : 0.30\tFBeta : 0.519058\n",
      "Threshold : 0.35\tFBeta : 0.538962\n",
      "Threshold : 0.40\tFBeta : 0.557195\n",
      "Threshold : 0.45\tFBeta : 0.576963\n",
      "Threshold : 0.50\tFBeta : 0.593720\n",
      "Threshold : 0.55\tFBeta : 0.604499\n",
      "Threshold : 0.60\tFBeta : 0.610246\n",
      "Threshold : 0.65\tFBeta : 0.606961\n",
      "Threshold : 0.70\tFBeta : 0.598140\n",
      "Threshold : 0.75\tFBeta : 0.583552\n",
      "Threshold : 0.80\tFBeta : 0.561623\n",
      "\n"
     ]
    },
    {
     "name": "stderr",
     "output_type": "stream",
     "text": [
      "Epoch 47/50  Mem : 18GB  LR : 1.09E-06  Loss: 0.2426: 100%|██████████| 64/64 [00:38<00:00,  1.66it/s]                                                                                                                                                                            \n",
      "Val Loss: 0.1789: 100%|██████████| 19/19 [00:04<00:00,  3.81it/s]                                                                                                                                                                                                                \n"
     ]
    },
    {
     "name": "stdout",
     "output_type": "stream",
     "text": [
      "Threshold : 0.20\tFBeta : 0.443296\n",
      "Threshold : 0.25\tFBeta : 0.474096\n",
      "Threshold : 0.30\tFBeta : 0.501147\n",
      "Threshold : 0.35\tFBeta : 0.521946\n",
      "Threshold : 0.40\tFBeta : 0.540903\n",
      "Threshold : 0.45\tFBeta : 0.558879\n",
      "Threshold : 0.50\tFBeta : 0.577948\n",
      "Threshold : 0.55\tFBeta : 0.591825\n",
      "Threshold : 0.60\tFBeta : 0.599485\n",
      "Threshold : 0.65\tFBeta : 0.600002\n",
      "Threshold : 0.70\tFBeta : 0.595136\n",
      "Threshold : 0.75\tFBeta : 0.585238\n",
      "Threshold : 0.80\tFBeta : 0.567243\n",
      "\n"
     ]
    },
    {
     "name": "stderr",
     "output_type": "stream",
     "text": [
      "Epoch 48/50  Mem : 18GB  LR : 4.87E-07  Loss: 0.2378: 100%|██████████| 64/64 [00:38<00:00,  1.68it/s]                                                                                                                                                                            \n",
      "Val Loss: 0.1857: 100%|██████████| 19/19 [00:04<00:00,  3.82it/s]                                                                                                                                                                                                                \n"
     ]
    },
    {
     "name": "stdout",
     "output_type": "stream",
     "text": [
      "Threshold : 0.20\tFBeta : 0.426864\n",
      "Threshold : 0.25\tFBeta : 0.455173\n",
      "Threshold : 0.30\tFBeta : 0.480661\n",
      "Threshold : 0.35\tFBeta : 0.505282\n",
      "Threshold : 0.40\tFBeta : 0.525709\n",
      "Threshold : 0.45\tFBeta : 0.544359\n",
      "Threshold : 0.50\tFBeta : 0.562376\n",
      "Threshold : 0.55\tFBeta : 0.579328\n",
      "Threshold : 0.60\tFBeta : 0.593365\n",
      "Threshold : 0.65\tFBeta : 0.602954\n",
      "Threshold : 0.70\tFBeta : 0.605770\n",
      "Threshold : 0.75\tFBeta : 0.600903\n",
      "Threshold : 0.80\tFBeta : 0.589218\n",
      "\n"
     ]
    },
    {
     "name": "stderr",
     "output_type": "stream",
     "text": [
      "Epoch 49/50  Mem : 18GB  LR : 1.22E-07  Loss: 0.2417: 100%|██████████| 64/64 [00:38<00:00,  1.68it/s]                                                                                                                                                                            \n",
      "Val Loss: 0.1737: 100%|██████████| 19/19 [00:04<00:00,  3.81it/s]                                                                                                                                                                                                                \n"
     ]
    },
    {
     "name": "stdout",
     "output_type": "stream",
     "text": [
      "Threshold : 0.20\tFBeta : 0.471590\n",
      "Threshold : 0.25\tFBeta : 0.505797\n",
      "Threshold : 0.30\tFBeta : 0.530703\n",
      "Threshold : 0.35\tFBeta : 0.550699\n",
      "Threshold : 0.40\tFBeta : 0.569384\n",
      "Threshold : 0.45\tFBeta : 0.584753\n",
      "Threshold : 0.50\tFBeta : 0.597901\n",
      "Threshold : 0.55\tFBeta : 0.604635\n",
      "Threshold : 0.60\tFBeta : 0.606303\n",
      "Threshold : 0.65\tFBeta : 0.601600\n",
      "Threshold : 0.70\tFBeta : 0.592601\n",
      "Threshold : 0.75\tFBeta : 0.579038\n",
      "Threshold : 0.80\tFBeta : 0.560319\n",
      "\n"
     ]
    },
    {
     "name": "stderr",
     "output_type": "stream",
     "text": [
      "Epoch 50/50  Mem : 18GB  LR : 4.00E-10  Loss: 0.2471: 100%|██████████| 64/64 [00:38<00:00,  1.68it/s]                                                                                                                                                                            \n",
      "Val Loss: 0.1797: 100%|██████████| 19/19 [00:05<00:00,  3.75it/s]                                                                                                                                                                                                                \n"
     ]
    },
    {
     "name": "stdout",
     "output_type": "stream",
     "text": [
      "Threshold : 0.20\tFBeta : 0.445468\n",
      "Threshold : 0.25\tFBeta : 0.474750\n",
      "Threshold : 0.30\tFBeta : 0.503034\n",
      "Threshold : 0.35\tFBeta : 0.525697\n",
      "Threshold : 0.40\tFBeta : 0.544822\n",
      "Threshold : 0.45\tFBeta : 0.563140\n",
      "Threshold : 0.50\tFBeta : 0.580547\n",
      "Threshold : 0.55\tFBeta : 0.594727\n",
      "Threshold : 0.60\tFBeta : 0.604382\n",
      "Threshold : 0.65\tFBeta : 0.608209\n",
      "Threshold : 0.70\tFBeta : 0.603409\n",
      "Threshold : 0.75\tFBeta : 0.594452\n",
      "Threshold : 0.80\tFBeta : 0.578160\n",
      "\n"
     ]
    }
   ],
   "source": [
    "fbeta_best = 0.0\n",
    "for epoch in range(1, EPOCHS+1):\n",
    "    model.train()\n",
    "    cur_lr = f\"LR : {scheduler.get_last_lr()[0]:.2E}\"\n",
    "    pbar_train = enumerate(dataloader_train)\n",
    "    pbar_train = tqdm(pbar_train, total=n_train, bar_format=\"{l_bar}{bar:10}{r_bar}{bar:-10b}\")\n",
    "    mloss_train, mloss_val, val_metric = 0.0, 0.0, 0.0\n",
    "\n",
    "    \n",
    "\n",
    "\n",
    "\n",
    "\n",
    "    for i, (fragments, masks) in pbar_train:\n",
    "        fragments, masks = fragments.cuda().half(), masks.cuda().half()\n",
    "        \n",
    "        \n",
    "        optimizer.zero_grad()\n",
    "        with amp.autocast():\n",
    "            pred_masks = model(fragments)\n",
    "            loss = criterion(pred_masks, masks)\n",
    "            scaler.scale(loss).backward()\n",
    "            scaler.step(optimizer)\n",
    "            scaler.update()\n",
    "            mloss_train += loss.detach().item()\n",
    "\n",
    "        gpu_mem = f\"Mem : {torch.cuda.memory_reserved() / 1E9:.3g}GB\"\n",
    "        pbar_train.set_description((\"%10s  \" * 3 + \"%10s\") % (f\"Epoch {epoch}/{EPOCHS}\", gpu_mem, cur_lr,\n",
    "                                                              f\"Loss: {mloss_train / (i + 1):.4f}\"))\n",
    "        \n",
    "    scheduler.step()\n",
    "    model.eval()\n",
    "    pbar_val = enumerate(dataloader_valid)\n",
    "    pbar_val = tqdm(pbar_val, total=n_valid, bar_format=\"{l_bar}{bar:10}{r_bar}{bar:-10b}\")\n",
    "    final_pred_mask = torch.zeros(gt_shape, dtype=torch.float32, device='cuda')\n",
    "    \n",
    "    for i, (fragments, masks, xys) in pbar_val:\n",
    "        fragments, masks = fragments.cuda(), masks.cuda()\n",
    "        \n",
    "        with torch.no_grad():\n",
    "            pred_masks = model(fragments)\n",
    "            mloss_val += criterion(pred_masks, masks).item()\n",
    "            pred_masks = torch.sigmoid(pred_masks)\n",
    "        \n",
    "        for j, xy in enumerate(xys):\n",
    "            final_pred_mask[xy[1]:xy[3], xy[0]:xy[2]] = pred_masks[j, 0]\n",
    "\n",
    "        pbar_val.set_description((\"%10s\") % (f\"Val Loss: {mloss_val / (i+1):.4f}\"))\n",
    "    \n",
    "    for threshold in np.arange(0.2, 0.85, 0.05):\n",
    "        fbeta = fbeta_score(final_pred_mask, gt_mask, threshold)\n",
    "        print(f\"Threshold : {threshold:.2f}\\tFBeta : {fbeta:.6f}\")\n",
    "        \n",
    "        if fbeta_best < fbeta:\n",
    "            fbeta_best = fbeta\n",
    "            torch.save(model.module.state_dict(), f\"./ckpts/resnet18_3d_seg_best_{fbeta_best:.4f}.pt\")\n",
    "    \n",
    "    \n",
    "    if epoch >= 10:\n",
    "        torch.save(model.module.state_dict(), f\"./ckpts/resnet18_3d_seg_epoch_{epoch}.pt\")\n",
    "\n",
    "    # if epoch == 30:\n",
    "    #     break\n",
    "\n",
    "    print()"
   ]
  },
  {
   "cell_type": "code",
   "execution_count": 22,
   "id": "2c48f344",
   "metadata": {
    "execution": {
     "iopub.execute_input": "2023-05-22T10:18:30.783455Z",
     "iopub.status.busy": "2023-05-22T10:18:30.783354Z",
     "iopub.status.idle": "2023-05-22T10:18:30.785542Z",
     "shell.execute_reply": "2023-05-22T10:18:30.785357Z"
    }
   },
   "outputs": [],
   "source": [
    "# import logging\n",
    "\n",
    "# logging.basicConfig(filename=\"training_log.txt\", level=logging.INFO)\n",
    "\n",
    "# console = logging.StreamHandler()\n",
    "# console.setLevel(logging.INFO)\n",
    "# logging.getLogger('').addHandler(console)\n",
    "\n",
    "# fbeta_best = 0.0\n",
    "# for epoch in range(1, EPOCHS+1):\n",
    "#     model.train()\n",
    "#     cur_lr = f\"LR : {scheduler.get_last_lr()[0]:.2E}\"\n",
    "#     pbar_train = enumerate(dataloader_train)\n",
    "#     pbar_train = tqdm(pbar_train, total=n_train, bar_format=\"{l_bar}{bar:10}{r_bar}{bar:-10b}\")\n",
    "#     mloss_train, mloss_val, val_metric = 0.0, 0.0, 0.0\n",
    "\n",
    "#     for i, (fragments, masks) in pbar_train:\n",
    "#         fragments, masks = fragments.cuda().half(), masks.cuda().half()\n",
    "        \n",
    "#         optimizer.zero_grad()\n",
    "#         with amp.autocast():\n",
    "#             pred_masks = model(fragments)\n",
    "#             loss = criterion(pred_masks, masks)\n",
    "#             scaler.scale(loss).backward()\n",
    "#             scaler.step(optimizer)\n",
    "#             scaler.update()\n",
    "#             mloss_train += loss.detach().item()\n",
    "\n",
    "#         gpu_mem = f\"Mem : {torch.cuda.memory_reserved() / 1E9:.3g}GB\"\n",
    "#         pbar_train.set_description((\"%10s  \" * 3 + \"%10s\") % (f\"Epoch {epoch}/{EPOCHS}\", gpu_mem, cur_lr,\n",
    "#                                                               f\"Loss: {mloss_train / (i + 1):.4f}\"))\n",
    "#         logging.info((\"%10s  \" * 3 + \"%10s\") % (f\"Epoch {epoch}/{EPOCHS}\", gpu_mem, cur_lr,\n",
    "#                                                 f\"Loss: {mloss_train / (i + 1):.4f}\"))\n",
    "#     scheduler.step()\n",
    "#     model.eval()\n",
    "#     pbar_val = enumerate(dataloader_valid)\n",
    "#     pbar_val = tqdm(pbar_val, total=n_valid, bar_format=\"{l_bar}{bar:10}{r_bar}{bar:-10b}\")\n",
    "#     final_pred_mask = torch.zeros(gt_shape, dtype=torch.float32, device='cuda')\n",
    "    \n",
    "#     for i, (fragments, masks, xys) in pbar_val:\n",
    "#         fragments, masks = fragments.cuda(), masks.cuda()\n",
    "        \n",
    "#         with torch.no_grad():\n",
    "#             pred_masks = model(fragments)\n",
    "#             mloss_val += criterion(pred_masks, masks).item()\n",
    "#             pred_masks = torch.sigmoid(pred_masks)\n",
    "        \n",
    "#         for j, xy in enumerate(xys):\n",
    "#             final_pred_mask[xy[1]:xy[3], xy[0]:xy[2]] = pred_masks[j, 0]\n",
    "\n",
    "#         pbar_val.set_description((\"%10s\") % (f\"Val Loss: {mloss_val / (i+1):.4f}\"))\n",
    "#         logging.info((\"%10s\") % (f\"Val Loss: {mloss_val / (i+1):.4f}\"))\n",
    "\n",
    "#     for threshold in np.arange(0.2, 0.85, 0.05):\n",
    "#         fbeta = fbeta_score(final_pred_mask, gt_mask, threshold)\n",
    "#         logging.info(f\"Threshold : {threshold:.2f}\\tFBeta : {fbeta:.6f}\")\n",
    "\n",
    "#         if fbeta_best < fbeta:\n",
    "#             fbeta_best = fbeta\n",
    "#             torch.save(model.module.state_dict(), f\"./ckpts/resnet18_3d_seg_best.pt\")\n",
    "    \n",
    "#     # if epoch >= 10:\n",
    "#     #     torch.save(model.module.state_dict(), f\"./ckpts/resnet18_3d_seg_epoch_{epoch}.pt\")\n"
   ]
  },
  {
   "cell_type": "code",
   "execution_count": null,
   "id": "89431087",
   "metadata": {
    "papermill": {
     "duration": 0.381515,
     "end_time": "2023-04-08T11:20:14.478012",
     "exception": false,
     "start_time": "2023-04-08T11:20:14.096497",
     "status": "completed"
    },
    "tags": []
   },
   "outputs": [],
   "source": []
  }
 ],
 "metadata": {
  "kernelspec": {
   "display_name": "Python 3",
   "language": "python",
   "name": "python3"
  },
  "language_info": {
   "codemirror_mode": {
    "name": "ipython",
    "version": 3
   },
   "file_extension": ".py",
   "mimetype": "text/x-python",
   "name": "python",
   "nbconvert_exporter": "python",
   "pygments_lexer": "ipython3",
   "version": "3.9.16"
  },
  "papermill": {
   "default_parameters": {},
   "duration": 4132.646938,
   "end_time": "2023-04-08T11:20:18.816611",
   "environment_variables": {},
   "exception": null,
   "input_path": "__notebook__.ipynb",
   "output_path": "__notebook__.ipynb",
   "parameters": {},
   "start_time": "2023-04-08T10:11:26.169673",
   "version": "2.4.0"
  }
 },
 "nbformat": 4,
 "nbformat_minor": 5
}
