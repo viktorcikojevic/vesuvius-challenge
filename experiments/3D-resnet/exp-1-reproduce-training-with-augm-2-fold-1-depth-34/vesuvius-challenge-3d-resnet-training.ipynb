{
 "cells": [
  {
   "attachments": {},
   "cell_type": "markdown",
   "id": "73dea9ca",
   "metadata": {
    "papermill": {
     "duration": 0.006587,
     "end_time": "2023-04-08T10:11:36.662576",
     "exception": false,
     "start_time": "2023-04-08T10:11:36.655989",
     "status": "completed"
    },
    "tags": []
   },
   "source": [
    "## Vesuvius Challenge - Ink Detection Training Notebook"
   ]
  },
  {
   "attachments": {},
   "cell_type": "markdown",
   "id": "8cdbb7ff",
   "metadata": {
    "papermill": {
     "duration": 0.004951,
     "end_time": "2023-04-08T10:11:36.672955",
     "exception": false,
     "start_time": "2023-04-08T10:11:36.668004",
     "status": "completed"
    },
    "tags": []
   },
   "source": [
    "### Setup"
   ]
  },
  {
   "cell_type": "code",
   "execution_count": 1,
   "id": "ae445317",
   "metadata": {
    "_kg_hide-input": false,
    "_kg_hide-output": true,
    "execution": {
     "iopub.execute_input": "2023-05-22T07:58:55.381319Z",
     "iopub.status.busy": "2023-05-22T07:58:55.380895Z",
     "iopub.status.idle": "2023-05-22T07:58:55.559571Z",
     "shell.execute_reply": "2023-05-22T07:58:55.557669Z"
    },
    "papermill": {
     "duration": 29.297355,
     "end_time": "2023-04-08T10:12:05.976007",
     "exception": false,
     "start_time": "2023-04-08T10:11:36.678652",
     "status": "completed"
    },
    "tags": []
   },
   "outputs": [],
   "source": [
    "# # Pretrained weights\n",
    "# # ref - https://github.com/kenshohara/3D-ResNets-PyTorch\n",
    "# !pip install gdown\n",
    "# !gdown 1Nb4abvIkkp_ydPFA9sNPT1WakoVKA8Fa\n",
    "\n",
    "# # Utility packages for reading and visualizing volumes\n",
    "# !pip install zarr imageio-ffmpeg\n",
    "\n",
    "# save model checkpoints\n",
    "!mkdir ./ckpts"
   ]
  },
  {
   "cell_type": "code",
   "execution_count": 2,
   "id": "0d956f5c",
   "metadata": {
    "execution": {
     "iopub.execute_input": "2023-05-22T07:58:55.565078Z",
     "iopub.status.busy": "2023-05-22T07:58:55.564697Z",
     "iopub.status.idle": "2023-05-22T07:58:56.341093Z",
     "shell.execute_reply": "2023-05-22T07:58:56.340775Z"
    },
    "papermill": {
     "duration": 3.289261,
     "end_time": "2023-04-08T10:12:09.273534",
     "exception": false,
     "start_time": "2023-04-08T10:12:05.984273",
     "status": "completed"
    },
    "tags": []
   },
   "outputs": [],
   "source": [
    "import os\n",
    "import gc\n",
    "import sys\n",
    "import zarr\n",
    "import random\n",
    "import imageio\n",
    "import numpy as np\n",
    "import pandas as pd\n",
    "from tqdm import tqdm\n",
    "import matplotlib.pyplot as plt\n",
    "from IPython.display import Video\n",
    "\n",
    "import torch\n",
    "import torch.nn as nn\n",
    "import torch.nn.functional as F\n",
    "from torch.cuda import amp\n",
    "from torch.utils.data import Dataset, DataLoader\n",
    "\n",
    "sys.path.append(\"./resnet3d\")\n",
    "from resnet3d import generate_model"
   ]
  },
  {
   "attachments": {},
   "cell_type": "markdown",
   "id": "88b00fe4",
   "metadata": {
    "papermill": {
     "duration": 0.007297,
     "end_time": "2023-04-08T10:12:09.288770",
     "exception": false,
     "start_time": "2023-04-08T10:12:09.281473",
     "status": "completed"
    },
    "tags": []
   },
   "source": [
    "### Config"
   ]
  },
  {
   "cell_type": "code",
   "execution_count": 3,
   "id": "59e26b77",
   "metadata": {
    "execution": {
     "iopub.execute_input": "2023-05-22T07:58:56.342734Z",
     "iopub.status.busy": "2023-05-22T07:58:56.342561Z",
     "iopub.status.idle": "2023-05-22T07:58:56.344463Z",
     "shell.execute_reply": "2023-05-22T07:58:56.344262Z"
    },
    "papermill": {
     "duration": 0.016571,
     "end_time": "2023-04-08T10:12:09.312935",
     "exception": false,
     "start_time": "2023-04-08T10:12:09.296364",
     "status": "completed"
    },
    "tags": []
   },
   "outputs": [],
   "source": [
    "LR = 1e-4\n",
    "EPOCHS = 50\n",
    "BATCH_SIZE = 32\n",
    "CROP_SIZE = 256\n",
    "Z_START = 24\n",
    "Z_DIMS = 16\n",
    "TRAIN_FRAGMENTS = [\"2\", \"3\"]\n",
    "TEST_FRAGMENT = \"1\""
   ]
  },
  {
   "attachments": {},
   "cell_type": "markdown",
   "id": "9a1e0328",
   "metadata": {
    "papermill": {
     "duration": 0.007428,
     "end_time": "2023-04-08T10:12:09.328094",
     "exception": false,
     "start_time": "2023-04-08T10:12:09.320666",
     "status": "completed"
    },
    "tags": []
   },
   "source": [
    "### Load data"
   ]
  },
  {
   "cell_type": "code",
   "execution_count": 4,
   "id": "8c494d99",
   "metadata": {
    "execution": {
     "iopub.execute_input": "2023-05-22T07:58:56.345716Z",
     "iopub.status.busy": "2023-05-22T07:58:56.345558Z",
     "iopub.status.idle": "2023-05-22T07:58:56.353335Z",
     "shell.execute_reply": "2023-05-22T07:58:56.353146Z"
    },
    "papermill": {
     "duration": 0.054715,
     "end_time": "2023-04-08T10:12:09.391635",
     "exception": false,
     "start_time": "2023-04-08T10:12:09.336920",
     "status": "completed"
    },
    "tags": []
   },
   "outputs": [],
   "source": [
    "\n",
    "\n",
    "FRAGMENTS_ZARR = {\n",
    "    \"1\" : zarr.open(\"/home/viktor/Documents/kaggle/vesuvius-challenge/kaggle-data/train-1.zarr\", mode=\"r\"),\n",
    "    \"2\" : zarr.open(\"/home/viktor/Documents/kaggle/vesuvius-challenge/kaggle-data/train-2.zarr\", mode=\"r\"),\n",
    "    \"3\" : zarr.open(\"/home/viktor/Documents/kaggle/vesuvius-challenge/kaggle-data/train-3.zarr\", mode=\"r\")\n",
    "}\n",
    "\n",
    "FRAGMENTS_SHAPE = {k : v.mask.shape for k, v in FRAGMENTS_ZARR.items()}"
   ]
  },
  {
   "attachments": {},
   "cell_type": "markdown",
   "id": "97a51afa",
   "metadata": {
    "papermill": {
     "duration": 0.007406,
     "end_time": "2023-04-08T10:12:09.406465",
     "exception": false,
     "start_time": "2023-04-08T10:12:09.399059",
     "status": "completed"
    },
    "tags": []
   },
   "source": [
    "### Visualise input"
   ]
  },
  {
   "cell_type": "code",
   "execution_count": 5,
   "id": "6d33b9f8",
   "metadata": {
    "execution": {
     "iopub.execute_input": "2023-05-22T07:58:56.354593Z",
     "iopub.status.busy": "2023-05-22T07:58:56.354484Z",
     "iopub.status.idle": "2023-05-22T07:58:56.497153Z",
     "shell.execute_reply": "2023-05-22T07:58:56.496820Z"
    },
    "papermill": {
     "duration": 1.68744,
     "end_time": "2023-04-08T10:12:11.101290",
     "exception": false,
     "start_time": "2023-04-08T10:12:09.413850",
     "status": "completed"
    },
    "tags": []
   },
   "outputs": [
    {
     "name": "stderr",
     "output_type": "stream",
     "text": [
      "Lossy conversion from uint16 to uint8. Losing 8 bits of resolution. Convert image to uint8 prior to saving to suppress this warning.\n",
      "Lossy conversion from uint16 to uint8. Losing 8 bits of resolution. Convert image to uint8 prior to saving to suppress this warning.\n",
      "Lossy conversion from uint16 to uint8. Losing 8 bits of resolution. Convert image to uint8 prior to saving to suppress this warning.\n",
      "Lossy conversion from uint16 to uint8. Losing 8 bits of resolution. Convert image to uint8 prior to saving to suppress this warning.\n",
      "Lossy conversion from uint16 to uint8. Losing 8 bits of resolution. Convert image to uint8 prior to saving to suppress this warning.\n",
      "Lossy conversion from uint16 to uint8. Losing 8 bits of resolution. Convert image to uint8 prior to saving to suppress this warning.\n",
      "Lossy conversion from uint16 to uint8. Losing 8 bits of resolution. Convert image to uint8 prior to saving to suppress this warning.\n",
      "Lossy conversion from uint16 to uint8. Losing 8 bits of resolution. Convert image to uint8 prior to saving to suppress this warning.\n",
      "Lossy conversion from uint16 to uint8. Losing 8 bits of resolution. Convert image to uint8 prior to saving to suppress this warning.\n",
      "Lossy conversion from uint16 to uint8. Losing 8 bits of resolution. Convert image to uint8 prior to saving to suppress this warning.\n",
      "Lossy conversion from uint16 to uint8. Losing 8 bits of resolution. Convert image to uint8 prior to saving to suppress this warning.\n",
      "Lossy conversion from uint16 to uint8. Losing 8 bits of resolution. Convert image to uint8 prior to saving to suppress this warning.\n",
      "Lossy conversion from uint16 to uint8. Losing 8 bits of resolution. Convert image to uint8 prior to saving to suppress this warning.\n",
      "Lossy conversion from uint16 to uint8. Losing 8 bits of resolution. Convert image to uint8 prior to saving to suppress this warning.\n",
      "Lossy conversion from uint16 to uint8. Losing 8 bits of resolution. Convert image to uint8 prior to saving to suppress this warning.\n",
      "Lossy conversion from uint16 to uint8. Losing 8 bits of resolution. Convert image to uint8 prior to saving to suppress this warning.\n"
     ]
    },
    {
     "data": {
      "text/html": [
       "<video src=\"fragment_crop.mp4\" controls  width=\"256\"  height=\"256\">\n",
       "      Your browser does not support the <code>video</code> element.\n",
       "    </video>"
      ],
      "text/plain": [
       "<IPython.core.display.Video object>"
      ]
     },
     "execution_count": 5,
     "metadata": {},
     "output_type": "execute_result"
    }
   ],
   "source": [
    "fragment = FRAGMENTS_ZARR[\"1\"]\n",
    "x, y = 2000, 2000\n",
    "\n",
    "fragment_cropped = fragment.surface_volume[y:y+CROP_SIZE, x:x+CROP_SIZE, Z_START:Z_START+Z_DIMS]\n",
    "imageio.mimwrite(\"fragment_crop.mp4\", fragment_cropped.transpose(2, 0, 1), \"ffmpeg\")\n",
    "Video(\"fragment_crop.mp4\", height=256, width=256)"
   ]
  },
  {
   "cell_type": "code",
   "execution_count": 6,
   "id": "46203a93",
   "metadata": {
    "execution": {
     "iopub.execute_input": "2023-05-22T07:58:56.498553Z",
     "iopub.status.busy": "2023-05-22T07:58:56.498460Z",
     "iopub.status.idle": "2023-05-22T07:58:56.537973Z",
     "shell.execute_reply": "2023-05-22T07:58:56.537783Z"
    },
    "papermill": {
     "duration": 0.258785,
     "end_time": "2023-04-08T10:12:11.368608",
     "exception": false,
     "start_time": "2023-04-08T10:12:11.109823",
     "status": "completed"
    },
    "tags": []
   },
   "outputs": [
    {
     "data": {
      "image/png": "[encoded data removed]",
      "text/plain": [
       "<Figure size 600x300 with 2 Axes>"
      ]
     },
     "metadata": {},
     "output_type": "display_data"
    }
   ],
   "source": [
    "mask_cropped = fragment.truth[y:y+CROP_SIZE, x:x+CROP_SIZE]\n",
    "ir_cropped = fragment.infrared[y:y+CROP_SIZE, x:x+CROP_SIZE]\n",
    "\n",
    "plt.figure(figsize=(6, 3))\n",
    "plt.subplot(1, 2, 1)\n",
    "plt.imshow(mask_cropped, cmap=\"gray\")\n",
    "plt.axis(\"off\")\n",
    "\n",
    "plt.subplot(1, 2, 2)\n",
    "plt.imshow(ir_cropped, cmap=\"gray\")\n",
    "plt.axis(\"off\")\n",
    "plt.show()"
   ]
  },
  {
   "cell_type": "code",
   "execution_count": 7,
   "id": "6462d25d",
   "metadata": {
    "execution": {
     "iopub.execute_input": "2023-05-22T07:58:56.539237Z",
     "iopub.status.busy": "2023-05-22T07:58:56.539152Z",
     "iopub.status.idle": "2023-05-22T07:58:56.586824Z",
     "shell.execute_reply": "2023-05-22T07:58:56.586491Z"
    },
    "papermill": {
     "duration": 0.17287,
     "end_time": "2023-04-08T10:12:11.562933",
     "exception": false,
     "start_time": "2023-04-08T10:12:11.390063",
     "status": "completed"
    },
    "tags": []
   },
   "outputs": [
    {
     "data": {
      "text/plain": [
       "4093"
      ]
     },
     "execution_count": 7,
     "metadata": {},
     "output_type": "execute_result"
    }
   ],
   "source": [
    "del fragment, fragment_cropped, mask_cropped, ir_cropped\n",
    "gc.collect()"
   ]
  },
  {
   "attachments": {},
   "cell_type": "markdown",
   "id": "ff9cd3e8",
   "metadata": {
    "papermill": {
     "duration": 0.008474,
     "end_time": "2023-04-08T10:12:11.580070",
     "exception": false,
     "start_time": "2023-04-08T10:12:11.571596",
     "status": "completed"
    },
    "tags": []
   },
   "source": [
    "### Dataloaders"
   ]
  },
  {
   "cell_type": "code",
   "execution_count": 8,
   "id": "162ec4e8",
   "metadata": {
    "execution": {
     "iopub.execute_input": "2023-05-22T07:58:56.588149Z",
     "iopub.status.busy": "2023-05-22T07:58:56.588066Z",
     "iopub.status.idle": "2023-05-22T07:58:56.589911Z",
     "shell.execute_reply": "2023-05-22T07:58:56.589741Z"
    },
    "papermill": {
     "duration": 0.024571,
     "end_time": "2023-04-08T10:12:11.612905",
     "exception": false,
     "start_time": "2023-04-08T10:12:11.588334",
     "status": "completed"
    },
    "tags": []
   },
   "outputs": [],
   "source": [
    "# import albumentations as A\n",
    "# from albumentations.pytorch import ToTensorV2\n",
    "\n",
    "# class VesuviusTrain(Dataset):\n",
    "#     def __init__(self, fragments):\n",
    "#         self.fragments = fragments\n",
    "#         self.xys = []\n",
    "        \n",
    "#         for fragment in fragments:\n",
    "#             H, W = FRAGMENTS_SHAPE[fragment]\n",
    "#             for y in range(0, H-CROP_SIZE+1, CROP_SIZE):\n",
    "#                 for x in range(0, W-CROP_SIZE+1, CROP_SIZE):\n",
    "#                     self.xys.append((fragment, x, y, W, H))\n",
    "        \n",
    "#         train_aug_list = [\n",
    "#                 # A.RandomResizedCrop(\n",
    "#                 #     size, size, scale=(0.85, 1.0)),\n",
    "#                 A.HorizontalFlip(p=0.5),\n",
    "#                 A.VerticalFlip(p=0.5),\n",
    "#                 A.RandomBrightnessContrast(p=0.75),\n",
    "#                 A.CoarseDropout(max_holes=1, max_width=int(CROP_SIZE * 0.1), max_height=int(size * 0.1), \n",
    "#                                 mask_fill_value=0, p=0.5),\n",
    "#                 A.ShiftScaleRotate(p=0.75),\n",
    "#                 A.Rotate(limit=90, p=0.9), \n",
    "#                 A.OneOf([\n",
    "#                         A.GaussNoise(var_limit=[10, 50]),\n",
    "#                         A.GaussianBlur(),\n",
    "#                         A.MotionBlur(),\n",
    "#                         ], p=0.4),\n",
    "#                 A.GridDistortion(num_steps=1, distort_limit=0.3, p=0.5),\n",
    "                \n",
    "#                 A.Cutout(max_h_size=int(size * 0.6),\n",
    "#                          max_w_size=int(size * 0.6), num_holes=1, p=1.0),\n",
    "#                 A.Normalize(\n",
    "#                     mean= [0] * Z_DIMS,\n",
    "#                     std= [1] * Z_DIMS\n",
    "#                 ),\n",
    "#                 ToTensorV2(transpose_mask=True),\n",
    "#             ]\n",
    "        \n",
    "        \n",
    "        \n",
    "#     def __getitem__(self, i):\n",
    "#         fragment, x1, y1, W, H = self.xys[i]\n",
    "#         z1, z2 = Z_START, Z_START+Z_DIMS\n",
    "        \n",
    "#         x_offset = random.randint(-32 if x1 != 0 else 0, 32)\n",
    "#         y_offset = random.randint(-32 if y1 != 0 else 0, 32)\n",
    "        \n",
    "#         x1 += x_offset\n",
    "#         y1 += y_offset\n",
    "        \n",
    "#         x2 = x1 + CROP_SIZE\n",
    "#         y2 = y1 + CROP_SIZE\n",
    "        \n",
    "#         if x2 > W:\n",
    "#             x1 -= x_offset\n",
    "#             x2 -= x_offset\n",
    "            \n",
    "#         if y2 > H:\n",
    "#             y1 -= y_offset\n",
    "#             y2 -= y_offset\n",
    "        \n",
    "#         frag_crop = FRAGMENTS_ZARR[fragment].surface_volume[y1:y2, x1:x2, z1:z2]\n",
    "#         mask_crop = FRAGMENTS_ZARR[fragment].truth[y1:y2, x1:x2]\n",
    "        \n",
    "#         if random.random() > 0.5:\n",
    "#             frag_crop = np.flip(frag_crop, axis=1).copy()\n",
    "#             mask_crop = np.flip(mask_crop, axis=1).copy()\n",
    "\n",
    "#         frag_crop = torch.from_numpy(frag_crop.astype(np.float32)).unsqueeze(0).permute(0, 3, 1, 2)\n",
    "#         frag_crop = frag_crop/65535.0\n",
    "#         frag_crop = (frag_crop - 0.45)/0.225\n",
    "        \n",
    "#         mask_crop = torch.from_numpy(mask_crop.astype(np.float32)).unsqueeze(0)\n",
    "        \n",
    "        \n",
    "        \n",
    "        \n",
    "        \n",
    "        \n",
    "        \n",
    "        \n",
    "#         return frag_crop, mask_crop\n",
    "\n",
    "#     def __len__(self):\n",
    "#         return len(self.xys)"
   ]
  },
  {
   "cell_type": "code",
   "execution_count": 9,
   "id": "c2c0c6d5",
   "metadata": {
    "execution": {
     "iopub.execute_input": "2023-05-22T07:58:56.590993Z",
     "iopub.status.busy": "2023-05-22T07:58:56.590900Z",
     "iopub.status.idle": "2023-05-22T07:58:56.893679Z",
     "shell.execute_reply": "2023-05-22T07:58:56.893301Z"
    }
   },
   "outputs": [],
   "source": [
    "import albumentations as A\n",
    "from albumentations.pytorch import ToTensorV2\n",
    "\n",
    "class VesuviusTrain(Dataset):\n",
    "    def __init__(self, fragments):\n",
    "        self.fragments = fragments\n",
    "        self.xys = []\n",
    "        \n",
    "        for fragment in fragments:\n",
    "            H, W = FRAGMENTS_SHAPE[fragment]\n",
    "            for y in range(0, H-CROP_SIZE+1, CROP_SIZE):\n",
    "                for x in range(0, W-CROP_SIZE+1, CROP_SIZE):\n",
    "                    surface = FRAGMENTS_ZARR[fragment].surface_volume[y:y+CROP_SIZE, x:x+CROP_SIZE, 0]\n",
    "                    if np.sum(surface) / (CROP_SIZE * CROP_SIZE) > 0.2:\n",
    "                        self.xys.append((fragment, x, y, W, H))\n",
    "        \n",
    "        self.train_aug_list = [\n",
    "                # A.RandomResizedCrop(\n",
    "                #     size, size, scale=(0.85, 1.0)),\n",
    "                \n",
    "                A.HorizontalFlip(p=0.5),\n",
    "                A.VerticalFlip(p=0.5),\n",
    "                \n",
    "                # A.RandomBrightnessContrast(p=0.75),\n",
    "                A.CoarseDropout(max_holes=1, max_width=int(CROP_SIZE * 0.1), max_height=int(CROP_SIZE * 0.1), \n",
    "                                mask_fill_value=0, p=0.5),\n",
    "                # A.ShiftScaleRotate(p=0.75),\n",
    "                \n",
    "                A.Rotate(limit=90, p=0.9), \n",
    "                \n",
    "                # A.OneOf([\n",
    "                #         A.GaussNoise(var_limit=[0.01, 0.05]),\n",
    "                #         A.GaussianBlur(blur_limit=(3, 5), sigma_limit=0),\n",
    "                #         A.MotionBlur(blur_limit=3),\n",
    "                #         ], p=0.8),\n",
    "                # A.GridDistortion(num_steps=1, distort_limit=0.1, p=0.5),\n",
    "                # A.MultiplicativeNoise(per_channel=True, multiplier=(0.95, 1.05)),\n",
    "                \n",
    "                # A.Cutout(max_h_size=int(CROP_SIZE * 0.2),\n",
    "                #          max_w_size=int(CROP_SIZE * 0.2), num_holes=1, p=1.0),\n",
    "                \n",
    "                ToTensorV2(transpose_mask=True),\n",
    "            ]\n",
    "        \n",
    "        # Create the augmentation pipeline\n",
    "        self.augmentations = A.Compose(self.train_aug_list)\n",
    "        \n",
    "        \n",
    "        \n",
    "    def __getitem__(self, i):\n",
    "        fragment, x1, y1, W, H = self.xys[i]\n",
    "        z1, z2 = Z_START, Z_START+Z_DIMS\n",
    "        \n",
    "        x_offset = random.randint(-128 if x1 != 0 else 0, 128)\n",
    "        y_offset = random.randint(-128 if y1 != 0 else 0, 128)\n",
    "        \n",
    "        x1 += x_offset\n",
    "        y1 += y_offset\n",
    "        \n",
    "        x2 = x1 + CROP_SIZE\n",
    "        y2 = y1 + CROP_SIZE\n",
    "        \n",
    "        if x2 > W:\n",
    "            x1 -= x_offset\n",
    "            x2 -= x_offset\n",
    "            \n",
    "        if y2 > H:\n",
    "            y1 -= y_offset\n",
    "            y2 -= y_offset\n",
    "        \n",
    "        frag_crop = FRAGMENTS_ZARR[fragment].surface_volume[y1:y2, x1:x2, z1:z2]\n",
    "        mask_crop = FRAGMENTS_ZARR[fragment].truth[y1:y2, x1:x2]\n",
    "        \n",
    "        # if random.random() > 0.5:\n",
    "        #     frag_crop = np.flip(frag_crop, axis=1).copy()\n",
    "        #     mask_crop = np.flip(mask_crop, axis=1).copy()\n",
    "\n",
    "        # Perform train augmentations\n",
    "\n",
    "        frag_crop = frag_crop/65535.0\n",
    "        \n",
    "        \n",
    "        # Apply the augmentations\n",
    "        augmented = self.augmentations(image=frag_crop, mask=mask_crop)\n",
    "\n",
    "        # Separate the image and mask\n",
    "        frag_crop, mask_crop = augmented[\"image\"], augmented[\"mask\"]\n",
    "\n",
    "        # normalize\n",
    "        \n",
    "        # frag_crop = (frag_crop - 0.45)/0.225\n",
    "        \n",
    "        frag_crop = frag_crop.unsqueeze(0) \n",
    "        mask_crop = mask_crop.float().unsqueeze(0)\n",
    "        \n",
    "        \n",
    "        return frag_crop, mask_crop\n",
    "\n",
    "    def __len__(self):\n",
    "        return len(self.xys)"
   ]
  },
  {
   "cell_type": "code",
   "execution_count": 10,
   "id": "f172c2ad",
   "metadata": {
    "execution": {
     "iopub.execute_input": "2023-05-22T07:58:56.895374Z",
     "iopub.status.busy": "2023-05-22T07:58:56.895194Z",
     "iopub.status.idle": "2023-05-22T07:58:56.898762Z",
     "shell.execute_reply": "2023-05-22T07:58:56.898579Z"
    },
    "papermill": {
     "duration": 0.022963,
     "end_time": "2023-04-08T10:12:11.644387",
     "exception": false,
     "start_time": "2023-04-08T10:12:11.621424",
     "status": "completed"
    },
    "tags": []
   },
   "outputs": [],
   "source": [
    "class VesuviusVal(Dataset):\n",
    "    def __init__(self, fragment):\n",
    "        self.fragment = FRAGMENTS_ZARR[fragment]\n",
    "        self.xys = []\n",
    "        \n",
    "        H, W = FRAGMENTS_SHAPE[fragment]\n",
    "        for y in range(0, H-CROP_SIZE+1, CROP_SIZE):\n",
    "            for x in range(0, W-CROP_SIZE+1, CROP_SIZE):\n",
    "                self.xys.append((x, y))\n",
    "                \n",
    "    def __getitem__(self, i):\n",
    "        x1, y1 = self.xys[i]\n",
    "        x2, y2 = x1+CROP_SIZE, y1+CROP_SIZE\n",
    "        z1, z2 = Z_START, Z_START+Z_DIMS\n",
    "        \n",
    "        frag_crop = self.fragment.surface_volume[y1:y2, x1:x2, z1:z2]\n",
    "        mask_crop = self.fragment.truth[y1:y2, x1:x2]\n",
    "\n",
    "        frag_crop = torch.from_numpy(frag_crop.astype(np.float32)).unsqueeze(0).permute(0, 3, 1, 2)\n",
    "        frag_crop = frag_crop/65535.0\n",
    "        # frag_crop = (frag_crop - 0.45)/0.225\n",
    "        \n",
    "        mask_crop = torch.from_numpy(mask_crop.astype(np.float32)).unsqueeze(0)\n",
    "        return frag_crop, mask_crop, torch.tensor([x1, y1, x2, y2], dtype=torch.int32)\n",
    "\n",
    "    def __len__(self):\n",
    "        return len(self.xys)"
   ]
  },
  {
   "cell_type": "code",
   "execution_count": 11,
   "id": "4282f924",
   "metadata": {
    "execution": {
     "iopub.execute_input": "2023-05-22T07:58:56.899925Z",
     "iopub.status.busy": "2023-05-22T07:58:56.899832Z",
     "iopub.status.idle": "2023-05-22T07:59:02.375837Z",
     "shell.execute_reply": "2023-05-22T07:59:02.375597Z"
    },
    "papermill": {
     "duration": 0.019671,
     "end_time": "2023-04-08T10:12:11.672490",
     "exception": false,
     "start_time": "2023-04-08T10:12:11.652819",
     "status": "completed"
    },
    "tags": []
   },
   "outputs": [],
   "source": [
    "dataset_train = VesuviusTrain(TRAIN_FRAGMENTS)\n",
    "dataloader_train = DataLoader(dataset_train, batch_size=BATCH_SIZE, num_workers=2,\n",
    "                              shuffle=True, pin_memory=True, drop_last=True)\n",
    "n_train = len(dataloader_train)\n",
    "\n",
    "dataset_valid = VesuviusVal(TEST_FRAGMENT)\n",
    "dataloader_valid = DataLoader(dataset_valid, batch_size=BATCH_SIZE, num_workers=2,\n",
    "                              shuffle=False, pin_memory=True, drop_last=False)\n",
    "n_valid = len(dataloader_valid)"
   ]
  },
  {
   "cell_type": "code",
   "execution_count": 12,
   "id": "0577f1a6",
   "metadata": {
    "execution": {
     "iopub.execute_input": "2023-05-22T07:59:02.377136Z",
     "iopub.status.busy": "2023-05-22T07:59:02.377028Z",
     "iopub.status.idle": "2023-05-22T07:59:02.395359Z",
     "shell.execute_reply": "2023-05-22T07:59:02.395149Z"
    }
   },
   "outputs": [
    {
     "data": {
      "text/plain": [
       "(tensor(0., dtype=torch.float64), tensor(0.9980, dtype=torch.float64))"
      ]
     },
     "execution_count": 12,
     "metadata": {},
     "output_type": "execute_result"
    }
   ],
   "source": [
    "i = random.randint(0, len(dataset_train))\n",
    "i=30\n",
    "img = dataset_train[i][0]\n",
    "img.min(), img.max()"
   ]
  },
  {
   "cell_type": "code",
   "execution_count": 13,
   "id": "40a15748",
   "metadata": {
    "execution": {
     "iopub.execute_input": "2023-05-22T07:59:02.396478Z",
     "iopub.status.busy": "2023-05-22T07:59:02.396367Z",
     "iopub.status.idle": "2023-05-22T07:59:02.476419Z",
     "shell.execute_reply": "2023-05-22T07:59:02.476065Z"
    }
   },
   "outputs": [
    {
     "data": {
      "text/plain": [
       "<matplotlib.image.AxesImage at 0x7f1fadbf0b80>"
      ]
     },
     "execution_count": 13,
     "metadata": {},
     "output_type": "execute_result"
    },
    {
     "data": {
      "image/png": "[encoded data removed]",
      "text/plain": [
       "<Figure size 640x480 with 1 Axes>"
      ]
     },
     "metadata": {},
     "output_type": "display_data"
    }
   ],
   "source": [
    "img_2 = img.squeeze(0).permute(1, 2, 0).numpy()\n",
    "plt.imshow(img_2[:, :, 0], cmap=\"gray\")"
   ]
  },
  {
   "cell_type": "code",
   "execution_count": null,
   "id": "e07b120a",
   "metadata": {},
   "outputs": [],
   "source": []
  },
  {
   "cell_type": "code",
   "execution_count": null,
   "id": "a792af0c",
   "metadata": {},
   "outputs": [],
   "source": []
  },
  {
   "attachments": {},
   "cell_type": "markdown",
   "id": "cdcc7e0b",
   "metadata": {
    "papermill": {
     "duration": 0.008028,
     "end_time": "2023-04-08T10:12:11.688860",
     "exception": false,
     "start_time": "2023-04-08T10:12:11.680832",
     "status": "completed"
    },
    "tags": []
   },
   "source": [
    "### Model\n",
    "* Encoder is a 3D ResNet model. The architecture has been modified to remove temporal downsampling between blocks.\n",
    "* A 2D decoder is used for predicting the segmentation map.\n",
    "* The encoder feature maps are average pooled over the Z dimension before passing it to the decoder."
   ]
  },
  {
   "cell_type": "code",
   "execution_count": 14,
   "id": "ff7cc8a3",
   "metadata": {
    "execution": {
     "iopub.execute_input": "2023-05-22T07:59:02.477860Z",
     "iopub.status.busy": "2023-05-22T07:59:02.477736Z",
     "iopub.status.idle": "2023-05-22T07:59:02.481857Z",
     "shell.execute_reply": "2023-05-22T07:59:02.481535Z"
    },
    "papermill": {
     "duration": 0.023714,
     "end_time": "2023-04-08T10:12:11.721140",
     "exception": false,
     "start_time": "2023-04-08T10:12:11.697426",
     "status": "completed"
    },
    "tags": []
   },
   "outputs": [],
   "source": [
    "class Decoder(nn.Module):\n",
    "    def __init__(self, encoder_dims, upscale):\n",
    "        super().__init__()\n",
    "        self.convs = nn.ModuleList([\n",
    "            nn.Sequential(\n",
    "                nn.Conv2d(encoder_dims[i]+encoder_dims[i-1], encoder_dims[i-1], 3, 1, 1, bias=False),\n",
    "                nn.BatchNorm2d(encoder_dims[i-1]),\n",
    "                nn.ReLU(inplace=True)\n",
    "            ) for i in range(1, len(encoder_dims))])\n",
    "\n",
    "        self.logit = nn.Conv2d(encoder_dims[0], 1, 1, 1, 0)\n",
    "        self.up = nn.Upsample(scale_factor=upscale, mode=\"bilinear\")\n",
    "\n",
    "    def forward(self, feature_maps):\n",
    "        for i in range(len(feature_maps)-1, 0, -1):\n",
    "            f_up = F.interpolate(feature_maps[i], scale_factor=2, mode=\"bilinear\")\n",
    "            f = torch.cat([feature_maps[i-1], f_up], dim=1)\n",
    "            f_down = self.convs[i-1](f)\n",
    "            feature_maps[i-1] = f_down\n",
    "\n",
    "        x = self.logit(feature_maps[0])\n",
    "        mask = self.up(x)\n",
    "        return mask\n",
    "\n",
    "\n",
    "class SegModel(nn.Module):\n",
    "    def __init__(self):\n",
    "        super().__init__()\n",
    "        self.encoder = generate_model(model_depth=34, n_input_channels=1)\n",
    "        self.decoder = Decoder(encoder_dims=[64, 128, 256, 512], upscale=4)\n",
    "        \n",
    "    def forward(self, x):\n",
    "        feat_maps = self.encoder(x)\n",
    "        feat_maps_pooled = [torch.mean(f, dim=2) for f in feat_maps]\n",
    "        pred_mask = self.decoder(feat_maps_pooled)\n",
    "        return pred_mask\n",
    "    \n",
    "    def load_pretrained_weights(self, state_dict):\n",
    "        # Convert 3 channel weights to single channel\n",
    "        # ref - https://timm.fast.ai/models#Case-1:-When-the-number-of-input-channels-is-1\n",
    "        conv1_weight = state_dict['conv1.weight']\n",
    "        state_dict['conv1.weight'] = conv1_weight.sum(dim=1, keepdim=True)\n",
    "        print(self.encoder.load_state_dict(state_dict, strict=False))"
   ]
  },
  {
   "cell_type": "code",
   "execution_count": 15,
   "id": "67e4a0f1",
   "metadata": {
    "execution": {
     "iopub.execute_input": "2023-05-22T07:59:02.482950Z",
     "iopub.status.busy": "2023-05-22T07:59:02.482843Z",
     "iopub.status.idle": "2023-05-22T07:59:03.575823Z",
     "shell.execute_reply": "2023-05-22T07:59:03.575358Z"
    },
    "papermill": {
     "duration": 3.891528,
     "end_time": "2023-04-08T10:12:15.621016",
     "exception": false,
     "start_time": "2023-04-08T10:12:11.729488",
     "status": "completed"
    },
    "tags": []
   },
   "outputs": [
    {
     "name": "stdout",
     "output_type": "stream",
     "text": [
      "_IncompatibleKeys(missing_keys=['layer1.2.conv1.weight', 'layer1.2.bn1.weight', 'layer1.2.bn1.bias', 'layer1.2.bn1.running_mean', 'layer1.2.bn1.running_var', 'layer1.2.conv2.weight', 'layer1.2.bn2.weight', 'layer1.2.bn2.bias', 'layer1.2.bn2.running_mean', 'layer1.2.bn2.running_var', 'layer2.2.conv1.weight', 'layer2.2.bn1.weight', 'layer2.2.bn1.bias', 'layer2.2.bn1.running_mean', 'layer2.2.bn1.running_var', 'layer2.2.conv2.weight', 'layer2.2.bn2.weight', 'layer2.2.bn2.bias', 'layer2.2.bn2.running_mean', 'layer2.2.bn2.running_var', 'layer2.3.conv1.weight', 'layer2.3.bn1.weight', 'layer2.3.bn1.bias', 'layer2.3.bn1.running_mean', 'layer2.3.bn1.running_var', 'layer2.3.conv2.weight', 'layer2.3.bn2.weight', 'layer2.3.bn2.bias', 'layer2.3.bn2.running_mean', 'layer2.3.bn2.running_var', 'layer3.2.conv1.weight', 'layer3.2.bn1.weight', 'layer3.2.bn1.bias', 'layer3.2.bn1.running_mean', 'layer3.2.bn1.running_var', 'layer3.2.conv2.weight', 'layer3.2.bn2.weight', 'layer3.2.bn2.bias', 'layer3.2.bn2.running_mean', 'layer3.2.bn2.running_var', 'layer3.3.conv1.weight', 'layer3.3.bn1.weight', 'layer3.3.bn1.bias', 'layer3.3.bn1.running_mean', 'layer3.3.bn1.running_var', 'layer3.3.conv2.weight', 'layer3.3.bn2.weight', 'layer3.3.bn2.bias', 'layer3.3.bn2.running_mean', 'layer3.3.bn2.running_var', 'layer3.4.conv1.weight', 'layer3.4.bn1.weight', 'layer3.4.bn1.bias', 'layer3.4.bn1.running_mean', 'layer3.4.bn1.running_var', 'layer3.4.conv2.weight', 'layer3.4.bn2.weight', 'layer3.4.bn2.bias', 'layer3.4.bn2.running_mean', 'layer3.4.bn2.running_var', 'layer3.5.conv1.weight', 'layer3.5.bn1.weight', 'layer3.5.bn1.bias', 'layer3.5.bn1.running_mean', 'layer3.5.bn1.running_var', 'layer3.5.conv2.weight', 'layer3.5.bn2.weight', 'layer3.5.bn2.bias', 'layer3.5.bn2.running_mean', 'layer3.5.bn2.running_var', 'layer4.2.conv1.weight', 'layer4.2.bn1.weight', 'layer4.2.bn1.bias', 'layer4.2.bn1.running_mean', 'layer4.2.bn1.running_var', 'layer4.2.conv2.weight', 'layer4.2.bn2.weight', 'layer4.2.bn2.bias', 'layer4.2.bn2.running_mean', 'layer4.2.bn2.running_var'], unexpected_keys=['fc.weight', 'fc.bias'])\n"
     ]
    }
   ],
   "source": [
    "model = SegModel()\n",
    "model.load_pretrained_weights(torch.load(\"/home/viktor/Documents/kaggle/vesuvius-challenge/experiments/3D-resnet/r3d18_K_200ep.pth\")[\"state_dict\"])\n",
    "model = nn.DataParallel(model, device_ids=[0])\n",
    "\n",
    "model = model.cuda()"
   ]
  },
  {
   "cell_type": "code",
   "execution_count": 16,
   "id": "491e9288",
   "metadata": {
    "execution": {
     "iopub.execute_input": "2023-05-22T07:59:03.577433Z",
     "iopub.status.busy": "2023-05-22T07:59:03.577353Z",
     "iopub.status.idle": "2023-05-22T07:59:04.423132Z",
     "shell.execute_reply": "2023-05-22T07:59:04.422706Z"
    }
   },
   "outputs": [
    {
     "data": {
      "text/plain": [
       "torch.Size([5, 1, 256, 256])"
      ]
     },
     "execution_count": 16,
     "metadata": {},
     "output_type": "execute_result"
    }
   ],
   "source": [
    "x = torch.randn(5, 1, 16, 256, 256).cuda()\n",
    "with torch.no_grad():\n",
    "    y = model(x)\n",
    "y.shape"
   ]
  },
  {
   "attachments": {},
   "cell_type": "markdown",
   "id": "d84d7c0e",
   "metadata": {
    "papermill": {
     "duration": 0.008816,
     "end_time": "2023-04-08T10:12:15.638951",
     "exception": false,
     "start_time": "2023-04-08T10:12:15.630135",
     "status": "completed"
    },
    "tags": []
   },
   "source": [
    "### Competition metric (F0.5 Score)"
   ]
  },
  {
   "cell_type": "code",
   "execution_count": 17,
   "id": "61dbeb5c",
   "metadata": {
    "execution": {
     "iopub.execute_input": "2023-05-22T07:59:04.424554Z",
     "iopub.status.busy": "2023-05-22T07:59:04.424456Z",
     "iopub.status.idle": "2023-05-22T07:59:04.426817Z",
     "shell.execute_reply": "2023-05-22T07:59:04.426632Z"
    },
    "papermill": {
     "duration": 0.020268,
     "end_time": "2023-04-08T10:12:15.668008",
     "exception": false,
     "start_time": "2023-04-08T10:12:15.647740",
     "status": "completed"
    },
    "tags": []
   },
   "outputs": [],
   "source": [
    "# ref - https://www.kaggle.com/competitions/vesuvius-challenge-ink-detection/discussion/397288\n",
    "def fbeta_score(preds, targets, threshold, beta=0.5, smooth=1e-5):\n",
    "    preds_t = torch.where(preds > threshold, 1.0, 0.0).float()\n",
    "    y_true_count = targets.sum()\n",
    "    \n",
    "    ctp = preds_t[targets==1].sum()\n",
    "    cfp = preds_t[targets==0].sum()\n",
    "    beta_squared = beta * beta\n",
    "\n",
    "    c_precision = ctp / (ctp + cfp + smooth)\n",
    "    c_recall = ctp / (y_true_count + smooth)\n",
    "    dice = (1 + beta_squared) * (c_precision * c_recall) / (beta_squared * c_precision + c_recall + smooth)\n",
    "\n",
    "    return dice"
   ]
  },
  {
   "attachments": {},
   "cell_type": "markdown",
   "id": "639c9148",
   "metadata": {
    "papermill": {
     "duration": 0.008498,
     "end_time": "2023-04-08T10:12:15.685205",
     "exception": false,
     "start_time": "2023-04-08T10:12:15.676707",
     "status": "completed"
    },
    "tags": []
   },
   "source": [
    "### Training"
   ]
  },
  {
   "cell_type": "code",
   "execution_count": 18,
   "id": "0cca2e6e",
   "metadata": {
    "execution": {
     "iopub.execute_input": "2023-05-22T07:59:04.428087Z",
     "iopub.status.busy": "2023-05-22T07:59:04.427935Z",
     "iopub.status.idle": "2023-05-22T07:59:04.429968Z",
     "shell.execute_reply": "2023-05-22T07:59:04.429779Z"
    },
    "papermill": {
     "duration": 0.019067,
     "end_time": "2023-04-08T10:12:15.713237",
     "exception": false,
     "start_time": "2023-04-08T10:12:15.694170",
     "status": "completed"
    },
    "tags": []
   },
   "outputs": [],
   "source": [
    "scaler = amp.GradScaler()\n",
    "criterion = nn.BCEWithLogitsLoss()\n",
    "optimizer = torch.optim.AdamW(model.parameters(), lr=LR)\n",
    "scheduler = torch.optim.lr_scheduler.OneCycleLR(optimizer, max_lr=LR,\n",
    "                                                steps_per_epoch=10, epochs=EPOCHS//10,\n",
    "                                                pct_start=0.1)"
   ]
  },
  {
   "cell_type": "code",
   "execution_count": 19,
   "id": "7304e1fd",
   "metadata": {
    "execution": {
     "iopub.execute_input": "2023-05-22T07:59:04.431143Z",
     "iopub.status.busy": "2023-05-22T07:59:04.431033Z",
     "iopub.status.idle": "2023-05-22T07:59:04.467731Z",
     "shell.execute_reply": "2023-05-22T07:59:04.467324Z"
    },
    "papermill": {
     "duration": 0.385175,
     "end_time": "2023-04-08T10:12:16.107159",
     "exception": false,
     "start_time": "2023-04-08T10:12:15.721984",
     "status": "completed"
    },
    "tags": []
   },
   "outputs": [],
   "source": [
    "gt_mask = torch.from_numpy(np.asarray(FRAGMENTS_ZARR[TEST_FRAGMENT].truth)).float().cuda()\n",
    "gt_shape = FRAGMENTS_SHAPE[TEST_FRAGMENT]"
   ]
  },
  {
   "cell_type": "code",
   "execution_count": 20,
   "id": "c0b85bf1",
   "metadata": {
    "execution": {
     "iopub.execute_input": "2023-05-22T07:59:04.469220Z",
     "iopub.status.busy": "2023-05-22T07:59:04.469110Z",
     "iopub.status.idle": "2023-05-22T07:59:04.471130Z",
     "shell.execute_reply": "2023-05-22T07:59:04.470804Z"
    }
   },
   "outputs": [],
   "source": [
    "import logging\n",
    "\n",
    "logging.basicConfig(filename=\"training_log.txt\", level=logging.INFO)\n"
   ]
  },
  {
   "cell_type": "code",
   "execution_count": 21,
   "id": "00067c9c",
   "metadata": {
    "execution": {
     "iopub.execute_input": "2023-05-22T07:59:04.472283Z",
     "iopub.status.busy": "2023-05-22T07:59:04.472202Z",
     "iopub.status.idle": "2023-05-22T08:37:11.969608Z",
     "shell.execute_reply": "2023-05-22T08:37:11.969111Z"
    },
    "papermill": {
     "duration": 4077.588277,
     "end_time": "2023-04-08T11:20:13.706513",
     "exception": false,
     "start_time": "2023-04-08T10:12:16.118236",
     "status": "completed"
    },
    "tags": []
   },
   "outputs": [
    {
     "name": "stderr",
     "output_type": "stream",
     "text": [
      "Epoch 1/50  Mem : 17.5GB  LR : 4.00E-06  Loss: 0.6652: 100%|██████████| 62/62 [00:37<00:00,  1.63it/s]                                                                                                                                                                           \n",
      "Val Loss: 0.6775: 100%|██████████| 24/24 [00:07<00:00,  3.29it/s]                                                                                                                                                                                                                \n"
     ]
    },
    {
     "name": "stdout",
     "output_type": "stream",
     "text": [
      "Threshold : 0.20\tFBeta : 0.133450\n",
      "Threshold : 0.25\tFBeta : 0.135163\n",
      "Threshold : 0.30\tFBeta : 0.141194\n",
      "Threshold : 0.35\tFBeta : 0.152292\n",
      "Threshold : 0.40\tFBeta : 0.165090\n",
      "Threshold : 0.45\tFBeta : 0.172862\n",
      "Threshold : 0.50\tFBeta : 0.149327\n",
      "Threshold : 0.55\tFBeta : 0.075354\n",
      "Threshold : 0.60\tFBeta : 0.013948\n",
      "Threshold : 0.65\tFBeta : 0.000818\n",
      "Threshold : 0.70\tFBeta : 0.000004\n",
      "Threshold : 0.75\tFBeta : 0.000000\n",
      "Threshold : 0.80\tFBeta : 0.000000\n",
      "\n"
     ]
    },
    {
     "name": "stderr",
     "output_type": "stream",
     "text": [
      "Epoch 2/50  Mem : 22GB  LR : 1.81E-05  Loss: 0.5864: 100%|██████████| 62/62 [00:38<00:00,  1.61it/s]                                                                                                                                                                             \n",
      "Val Loss: 2.1243: 100%|██████████| 24/24 [00:07<00:00,  3.26it/s]                                                                                                                                                                                                                \n"
     ]
    },
    {
     "name": "stdout",
     "output_type": "stream",
     "text": [
      "Threshold : 0.20\tFBeta : 0.133296\n",
      "Threshold : 0.25\tFBeta : 0.135132\n",
      "Threshold : 0.30\tFBeta : 0.139019\n",
      "Threshold : 0.35\tFBeta : 0.144530\n",
      "Threshold : 0.40\tFBeta : 0.150209\n",
      "Threshold : 0.45\tFBeta : 0.149514\n",
      "Threshold : 0.50\tFBeta : 0.138429\n",
      "Threshold : 0.55\tFBeta : 0.102382\n",
      "Threshold : 0.60\tFBeta : 0.031463\n",
      "Threshold : 0.65\tFBeta : 0.000418\n",
      "Threshold : 0.70\tFBeta : 0.000000\n",
      "Threshold : 0.75\tFBeta : 0.000000\n",
      "Threshold : 0.80\tFBeta : 0.000000\n",
      "\n"
     ]
    },
    {
     "name": "stderr",
     "output_type": "stream",
     "text": [
      "Epoch 3/50  Mem : 22GB  LR : 5.20E-05  Loss: 0.5224: 100%|██████████| 62/62 [00:37<00:00,  1.64it/s]                                                                                                                                                                             \n",
      "Val Loss: 0.3835: 100%|██████████| 24/24 [00:07<00:00,  3.26it/s]                                                                                                                                                                                                                \n"
     ]
    },
    {
     "name": "stdout",
     "output_type": "stream",
     "text": [
      "Threshold : 0.20\tFBeta : 0.201891\n",
      "Threshold : 0.25\tFBeta : 0.222986\n",
      "Threshold : 0.30\tFBeta : 0.236337\n",
      "Threshold : 0.35\tFBeta : 0.238457\n",
      "Threshold : 0.40\tFBeta : 0.148218\n",
      "Threshold : 0.45\tFBeta : 0.007189\n",
      "Threshold : 0.50\tFBeta : 0.000003\n",
      "Threshold : 0.55\tFBeta : 0.000000\n",
      "Threshold : 0.60\tFBeta : 0.000000\n",
      "Threshold : 0.65\tFBeta : 0.000000\n",
      "Threshold : 0.70\tFBeta : 0.000000\n",
      "Threshold : 0.75\tFBeta : 0.000000\n",
      "Threshold : 0.80\tFBeta : 0.000000\n",
      "\n"
     ]
    },
    {
     "name": "stderr",
     "output_type": "stream",
     "text": [
      "Epoch 4/50  Mem : 22GB  LR : 8.59E-05  Loss: 0.4915: 100%|██████████| 62/62 [00:38<00:00,  1.61it/s]                                                                                                                                                                             \n",
      "Val Loss: 1.7911: 100%|██████████| 24/24 [00:07<00:00,  3.31it/s]                                                                                                                                                                                                                \n"
     ]
    },
    {
     "name": "stdout",
     "output_type": "stream",
     "text": [
      "Threshold : 0.20\tFBeta : 0.174808\n",
      "Threshold : 0.25\tFBeta : 0.191542\n",
      "Threshold : 0.30\tFBeta : 0.204118\n",
      "Threshold : 0.35\tFBeta : 0.212265\n",
      "Threshold : 0.40\tFBeta : 0.204366\n",
      "Threshold : 0.45\tFBeta : 0.169617\n",
      "Threshold : 0.50\tFBeta : 0.081649\n",
      "Threshold : 0.55\tFBeta : 0.003702\n",
      "Threshold : 0.60\tFBeta : 0.000705\n",
      "Threshold : 0.65\tFBeta : 0.000224\n",
      "Threshold : 0.70\tFBeta : 0.000000\n",
      "Threshold : 0.75\tFBeta : 0.000000\n",
      "Threshold : 0.80\tFBeta : 0.000000\n",
      "\n"
     ]
    },
    {
     "name": "stderr",
     "output_type": "stream",
     "text": [
      "Epoch 5/50  Mem : 22GB  LR : 1.00E-04  Loss: 0.4683: 100%|██████████| 62/62 [00:37<00:00,  1.65it/s]                                                                                                                                                                             \n",
      "Val Loss: 0.8450: 100%|██████████| 24/24 [00:07<00:00,  3.29it/s]                                                                                                                                                                                                                \n"
     ]
    },
    {
     "name": "stdout",
     "output_type": "stream",
     "text": [
      "Threshold : 0.20\tFBeta : 0.191084\n",
      "Threshold : 0.25\tFBeta : 0.204712\n",
      "Threshold : 0.30\tFBeta : 0.207502\n",
      "Threshold : 0.35\tFBeta : 0.116340\n",
      "Threshold : 0.40\tFBeta : 0.008685\n",
      "Threshold : 0.45\tFBeta : 0.000000\n",
      "Threshold : 0.50\tFBeta : 0.000000\n",
      "Threshold : 0.55\tFBeta : 0.000000\n",
      "Threshold : 0.60\tFBeta : 0.000000\n",
      "Threshold : 0.65\tFBeta : 0.000000\n",
      "Threshold : 0.70\tFBeta : 0.000000\n",
      "Threshold : 0.75\tFBeta : 0.000000\n",
      "Threshold : 0.80\tFBeta : 0.000000\n",
      "\n"
     ]
    },
    {
     "name": "stderr",
     "output_type": "stream",
     "text": [
      "Epoch 6/50  Mem : 22GB  LR : 9.99E-05  Loss: 0.4535: 100%|██████████| 62/62 [00:37<00:00,  1.64it/s]                                                                                                                                                                             \n",
      "Val Loss: 0.3428: 100%|██████████| 24/24 [00:07<00:00,  3.29it/s]                                                                                                                                                                                                                \n"
     ]
    },
    {
     "name": "stdout",
     "output_type": "stream",
     "text": [
      "Threshold : 0.20\tFBeta : 0.234647\n",
      "Threshold : 0.25\tFBeta : 0.297059\n",
      "Threshold : 0.30\tFBeta : 0.329784\n",
      "Threshold : 0.35\tFBeta : 0.286982\n",
      "Threshold : 0.40\tFBeta : 0.203054\n",
      "Threshold : 0.45\tFBeta : 0.122365\n",
      "Threshold : 0.50\tFBeta : 0.060894\n",
      "Threshold : 0.55\tFBeta : 0.006198\n",
      "Threshold : 0.60\tFBeta : 0.000000\n",
      "Threshold : 0.65\tFBeta : 0.000000\n",
      "Threshold : 0.70\tFBeta : 0.000000\n",
      "Threshold : 0.75\tFBeta : 0.000000\n",
      "Threshold : 0.80\tFBeta : 0.000000\n",
      "\n"
     ]
    },
    {
     "name": "stderr",
     "output_type": "stream",
     "text": [
      "Epoch 7/50  Mem : 22GB  LR : 9.95E-05  Loss: 0.4356: 100%|██████████| 62/62 [00:37<00:00,  1.64it/s]                                                                                                                                                                             \n",
      "Val Loss: 0.3265: 100%|██████████| 24/24 [00:07<00:00,  3.30it/s]                                                                                                                                                                                                                "
     ]
    },
    {
     "name": "stdout",
     "output_type": "stream",
     "text": [
      "Threshold : 0.20\tFBeta : 0.237157\n",
      "Threshold : 0.25\tFBeta : 0.249642\n",
      "Threshold : 0.30\tFBeta : 0.263281\n",
      "Threshold : 0.35\tFBeta : 0.226935\n",
      "Threshold : 0.40\tFBeta : 0.110765\n",
      "Threshold : 0.45\tFBeta : 0.043606\n",
      "Threshold : 0.50\tFBeta : 0.005884\n",
      "Threshold : 0.55\tFBeta : 0.000000\n",
      "Threshold : 0.60\tFBeta : 0.000000\n",
      "Threshold : 0.65\tFBeta : 0.000000\n",
      "Threshold : 0.70\tFBeta : 0.000000\n",
      "Threshold : 0.75\tFBeta : 0.000000\n",
      "Threshold : 0.80\tFBeta : 0.000000\n",
      "\n"
     ]
    },
    {
     "name": "stderr",
     "output_type": "stream",
     "text": [
      "\n",
      "Epoch 8/50  Mem : 22GB  LR : 9.89E-05  Loss: 0.4154: 100%|██████████| 62/62 [00:37<00:00,  1.64it/s]                                                                                                                                                                             \n",
      "Val Loss: 0.4064: 100%|██████████| 24/24 [00:07<00:00,  3.31it/s]                                                                                                                                                                                                                \n"
     ]
    },
    {
     "name": "stdout",
     "output_type": "stream",
     "text": [
      "Threshold : 0.20\tFBeta : 0.247575\n",
      "Threshold : 0.25\tFBeta : 0.285370\n",
      "Threshold : 0.30\tFBeta : 0.260350\n",
      "Threshold : 0.35\tFBeta : 0.234310\n",
      "Threshold : 0.40\tFBeta : 0.209070\n",
      "Threshold : 0.45\tFBeta : 0.181401\n",
      "Threshold : 0.50\tFBeta : 0.152086\n",
      "Threshold : 0.55\tFBeta : 0.109823\n",
      "Threshold : 0.60\tFBeta : 0.043505\n",
      "Threshold : 0.65\tFBeta : 0.003212\n",
      "Threshold : 0.70\tFBeta : 0.000000\n",
      "Threshold : 0.75\tFBeta : 0.000000\n",
      "Threshold : 0.80\tFBeta : 0.000000\n",
      "\n"
     ]
    },
    {
     "name": "stderr",
     "output_type": "stream",
     "text": [
      "Epoch 9/50  Mem : 22GB  LR : 9.81E-05  Loss: 0.3993: 100%|██████████| 62/62 [00:37<00:00,  1.63it/s]                                                                                                                                                                             \n",
      "Val Loss: 0.3157: 100%|██████████| 24/24 [00:07<00:00,  3.30it/s]                                                                                                                                                                                                                \n"
     ]
    },
    {
     "name": "stdout",
     "output_type": "stream",
     "text": [
      "Threshold : 0.20\tFBeta : 0.281752\n",
      "Threshold : 0.25\tFBeta : 0.296478\n",
      "Threshold : 0.30\tFBeta : 0.297055\n",
      "Threshold : 0.35\tFBeta : 0.291965\n",
      "Threshold : 0.40\tFBeta : 0.283459\n",
      "Threshold : 0.45\tFBeta : 0.271808\n",
      "Threshold : 0.50\tFBeta : 0.254905\n",
      "Threshold : 0.55\tFBeta : 0.216357\n",
      "Threshold : 0.60\tFBeta : 0.147466\n",
      "Threshold : 0.65\tFBeta : 0.062946\n",
      "Threshold : 0.70\tFBeta : 0.013917\n",
      "Threshold : 0.75\tFBeta : 0.000075\n",
      "Threshold : 0.80\tFBeta : 0.000000\n",
      "\n"
     ]
    },
    {
     "name": "stderr",
     "output_type": "stream",
     "text": [
      "Epoch 10/50  Mem : 22GB  LR : 9.70E-05  Loss: 0.3836: 100%|██████████| 62/62 [00:37<00:00,  1.63it/s]                                                                                                                                                                            \n",
      "Val Loss: 0.4106: 100%|██████████| 24/24 [00:07<00:00,  3.29it/s]                                                                                                                                                                                                                \n"
     ]
    },
    {
     "name": "stdout",
     "output_type": "stream",
     "text": [
      "Threshold : 0.20\tFBeta : 0.264267\n",
      "Threshold : 0.25\tFBeta : 0.285364\n",
      "Threshold : 0.30\tFBeta : 0.300734\n",
      "Threshold : 0.35\tFBeta : 0.313108\n",
      "Threshold : 0.40\tFBeta : 0.324359\n",
      "Threshold : 0.45\tFBeta : 0.336463\n",
      "Threshold : 0.50\tFBeta : 0.352632\n",
      "Threshold : 0.55\tFBeta : 0.376479\n",
      "Threshold : 0.60\tFBeta : 0.402539\n",
      "Threshold : 0.65\tFBeta : 0.427939\n",
      "Threshold : 0.70\tFBeta : 0.447187\n",
      "Threshold : 0.75\tFBeta : 0.457935\n",
      "Threshold : 0.80\tFBeta : 0.458665\n",
      "\n"
     ]
    },
    {
     "name": "stderr",
     "output_type": "stream",
     "text": [
      "Epoch 11/50  Mem : 22GB  LR : 9.57E-05  Loss: 0.3726: 100%|██████████| 62/62 [00:38<00:00,  1.62it/s]                                                                                                                                                                            \n",
      "Val Loss: 0.2788: 100%|██████████| 24/24 [00:07<00:00,  3.31it/s]                                                                                                                                                                                                                \n"
     ]
    },
    {
     "name": "stdout",
     "output_type": "stream",
     "text": [
      "Threshold : 0.20\tFBeta : 0.422763\n",
      "Threshold : 0.25\tFBeta : 0.452405\n",
      "Threshold : 0.30\tFBeta : 0.458474\n",
      "Threshold : 0.35\tFBeta : 0.447528\n",
      "Threshold : 0.40\tFBeta : 0.433145\n",
      "Threshold : 0.45\tFBeta : 0.411510\n",
      "Threshold : 0.50\tFBeta : 0.376605\n",
      "Threshold : 0.55\tFBeta : 0.331269\n",
      "Threshold : 0.60\tFBeta : 0.277462\n",
      "Threshold : 0.65\tFBeta : 0.223280\n",
      "Threshold : 0.70\tFBeta : 0.163823\n",
      "Threshold : 0.75\tFBeta : 0.107265\n",
      "Threshold : 0.80\tFBeta : 0.060050\n",
      "\n"
     ]
    },
    {
     "name": "stderr",
     "output_type": "stream",
     "text": [
      "Epoch 12/50  Mem : 22GB  LR : 9.41E-05  Loss: 0.3639: 100%|██████████| 62/62 [00:38<00:00,  1.62it/s]                                                                                                                                                                            \n",
      "Val Loss: 0.4863: 100%|██████████| 24/24 [00:07<00:00,  3.30it/s]                                                                                                                                                                                                                \n"
     ]
    },
    {
     "name": "stdout",
     "output_type": "stream",
     "text": [
      "Threshold : 0.20\tFBeta : 0.256921\n",
      "Threshold : 0.25\tFBeta : 0.264181\n",
      "Threshold : 0.30\tFBeta : 0.270860\n",
      "Threshold : 0.35\tFBeta : 0.276458\n",
      "Threshold : 0.40\tFBeta : 0.282801\n",
      "Threshold : 0.45\tFBeta : 0.291076\n",
      "Threshold : 0.50\tFBeta : 0.301775\n",
      "Threshold : 0.55\tFBeta : 0.316682\n",
      "Threshold : 0.60\tFBeta : 0.334785\n",
      "Threshold : 0.65\tFBeta : 0.352863\n",
      "Threshold : 0.70\tFBeta : 0.368428\n",
      "Threshold : 0.75\tFBeta : 0.382819\n",
      "Threshold : 0.80\tFBeta : 0.395575\n",
      "\n"
     ]
    },
    {
     "name": "stderr",
     "output_type": "stream",
     "text": [
      "Epoch 13/50  Mem : 22GB  LR : 9.24E-05  Loss: 0.3568: 100%|██████████| 62/62 [00:37<00:00,  1.65it/s]                                                                                                                                                                            \n",
      "Val Loss: 0.2969: 100%|██████████| 24/24 [00:07<00:00,  3.30it/s]                                                                                                                                                                                                                \n"
     ]
    },
    {
     "name": "stdout",
     "output_type": "stream",
     "text": [
      "Threshold : 0.20\tFBeta : 0.324966\n",
      "Threshold : 0.25\tFBeta : 0.341087\n",
      "Threshold : 0.30\tFBeta : 0.351759\n",
      "Threshold : 0.35\tFBeta : 0.358665\n",
      "Threshold : 0.40\tFBeta : 0.363822\n",
      "Threshold : 0.45\tFBeta : 0.367967\n",
      "Threshold : 0.50\tFBeta : 0.370878\n",
      "Threshold : 0.55\tFBeta : 0.368409\n",
      "Threshold : 0.60\tFBeta : 0.360778\n",
      "Threshold : 0.65\tFBeta : 0.348448\n",
      "Threshold : 0.70\tFBeta : 0.325468\n",
      "Threshold : 0.75\tFBeta : 0.292126\n",
      "Threshold : 0.80\tFBeta : 0.251957\n",
      "\n"
     ]
    },
    {
     "name": "stderr",
     "output_type": "stream",
     "text": [
      "Epoch 14/50  Mem : 22GB  LR : 9.05E-05  Loss: 0.3527: 100%|██████████| 62/62 [00:38<00:00,  1.63it/s]                                                                                                                                                                            \n",
      "Val Loss: 0.2771: 100%|██████████| 24/24 [00:07<00:00,  3.29it/s]                                                                                                                                                                                                                \n"
     ]
    },
    {
     "name": "stdout",
     "output_type": "stream",
     "text": [
      "Threshold : 0.20\tFBeta : 0.386540\n",
      "Threshold : 0.25\tFBeta : 0.398907\n",
      "Threshold : 0.30\tFBeta : 0.407835\n",
      "Threshold : 0.35\tFBeta : 0.409704\n",
      "Threshold : 0.40\tFBeta : 0.407606\n",
      "Threshold : 0.45\tFBeta : 0.401835\n",
      "Threshold : 0.50\tFBeta : 0.381740\n",
      "Threshold : 0.55\tFBeta : 0.343117\n",
      "Threshold : 0.60\tFBeta : 0.293847\n",
      "Threshold : 0.65\tFBeta : 0.242606\n",
      "Threshold : 0.70\tFBeta : 0.191357\n",
      "Threshold : 0.75\tFBeta : 0.146743\n",
      "Threshold : 0.80\tFBeta : 0.104344\n",
      "\n"
     ]
    },
    {
     "name": "stderr",
     "output_type": "stream",
     "text": [
      "Epoch 15/50  Mem : 22GB  LR : 8.83E-05  Loss: 0.3400: 100%|██████████| 62/62 [00:37<00:00,  1.64it/s]                                                                                                                                                                            \n",
      "Val Loss: 0.2724: 100%|██████████| 24/24 [00:07<00:00,  3.31it/s]                                                                                                                                                                                                                \n"
     ]
    },
    {
     "name": "stdout",
     "output_type": "stream",
     "text": [
      "Threshold : 0.20\tFBeta : 0.337131\n",
      "Threshold : 0.25\tFBeta : 0.370503\n",
      "Threshold : 0.30\tFBeta : 0.393007\n",
      "Threshold : 0.35\tFBeta : 0.410849\n",
      "Threshold : 0.40\tFBeta : 0.427198\n",
      "Threshold : 0.45\tFBeta : 0.443239\n",
      "Threshold : 0.50\tFBeta : 0.457968\n",
      "Threshold : 0.55\tFBeta : 0.474139\n",
      "Threshold : 0.60\tFBeta : 0.480137\n",
      "Threshold : 0.65\tFBeta : 0.474523\n",
      "Threshold : 0.70\tFBeta : 0.457998\n",
      "Threshold : 0.75\tFBeta : 0.424933\n",
      "Threshold : 0.80\tFBeta : 0.372997\n",
      "\n"
     ]
    },
    {
     "name": "stderr",
     "output_type": "stream",
     "text": [
      "Epoch 16/50  Mem : 22GB  LR : 8.60E-05  Loss: 0.3363: 100%|██████████| 62/62 [00:38<00:00,  1.62it/s]                                                                                                                                                                            \n",
      "Val Loss: 0.3416: 100%|██████████| 24/24 [00:07<00:00,  3.29it/s]                                                                                                                                                                                                                \n"
     ]
    },
    {
     "name": "stdout",
     "output_type": "stream",
     "text": [
      "Threshold : 0.20\tFBeta : 0.343236\n",
      "Threshold : 0.25\tFBeta : 0.361696\n",
      "Threshold : 0.30\tFBeta : 0.375835\n",
      "Threshold : 0.35\tFBeta : 0.387113\n",
      "Threshold : 0.40\tFBeta : 0.397675\n",
      "Threshold : 0.45\tFBeta : 0.408635\n",
      "Threshold : 0.50\tFBeta : 0.418433\n",
      "Threshold : 0.55\tFBeta : 0.428744\n",
      "Threshold : 0.60\tFBeta : 0.434884\n",
      "Threshold : 0.65\tFBeta : 0.435154\n",
      "Threshold : 0.70\tFBeta : 0.430735\n",
      "Threshold : 0.75\tFBeta : 0.421598\n",
      "Threshold : 0.80\tFBeta : 0.407112\n",
      "\n"
     ]
    },
    {
     "name": "stderr",
     "output_type": "stream",
     "text": [
      "Epoch 17/50  Mem : 22GB  LR : 8.35E-05  Loss: 0.3295: 100%|██████████| 62/62 [00:37<00:00,  1.63it/s]                                                                                                                                                                            \n",
      "Val Loss: 0.2637: 100%|██████████| 24/24 [00:07<00:00,  3.30it/s]                                                                                                                                                                                                                \n"
     ]
    },
    {
     "name": "stdout",
     "output_type": "stream",
     "text": [
      "Threshold : 0.20\tFBeta : 0.440348\n",
      "Threshold : 0.25\tFBeta : 0.456301\n",
      "Threshold : 0.30\tFBeta : 0.465469\n",
      "Threshold : 0.35\tFBeta : 0.471460\n",
      "Threshold : 0.40\tFBeta : 0.472742\n",
      "Threshold : 0.45\tFBeta : 0.471467\n",
      "Threshold : 0.50\tFBeta : 0.472699\n",
      "Threshold : 0.55\tFBeta : 0.476020\n",
      "Threshold : 0.60\tFBeta : 0.474271\n",
      "Threshold : 0.65\tFBeta : 0.464917\n",
      "Threshold : 0.70\tFBeta : 0.445961\n",
      "Threshold : 0.75\tFBeta : 0.416075\n",
      "Threshold : 0.80\tFBeta : 0.379063\n",
      "\n"
     ]
    },
    {
     "name": "stderr",
     "output_type": "stream",
     "text": [
      "Epoch 18/50  Mem : 22GB  LR : 8.08E-05  Loss: 0.3288: 100%|██████████| 62/62 [00:37<00:00,  1.64it/s]                                                                                                                                                                            \n",
      "Val Loss: 0.6117: 100%|██████████| 24/24 [00:07<00:00,  3.31it/s]                                                                                                                                                                                                                \n"
     ]
    },
    {
     "name": "stdout",
     "output_type": "stream",
     "text": [
      "Threshold : 0.20\tFBeta : 0.270984\n",
      "Threshold : 0.25\tFBeta : 0.279889\n",
      "Threshold : 0.30\tFBeta : 0.287516\n",
      "Threshold : 0.35\tFBeta : 0.294731\n",
      "Threshold : 0.40\tFBeta : 0.301158\n",
      "Threshold : 0.45\tFBeta : 0.307957\n",
      "Threshold : 0.50\tFBeta : 0.316753\n",
      "Threshold : 0.55\tFBeta : 0.329042\n",
      "Threshold : 0.60\tFBeta : 0.342653\n",
      "Threshold : 0.65\tFBeta : 0.356296\n",
      "Threshold : 0.70\tFBeta : 0.371014\n",
      "Threshold : 0.75\tFBeta : 0.385795\n",
      "Threshold : 0.80\tFBeta : 0.399834\n",
      "\n"
     ]
    },
    {
     "name": "stderr",
     "output_type": "stream",
     "text": [
      "Epoch 19/50  Mem : 22GB  LR : 7.80E-05  Loss: 0.3149: 100%|██████████| 62/62 [00:37<00:00,  1.63it/s]                                                                                                                                                                            \n",
      "Val Loss: 0.3263: 100%|██████████| 24/24 [00:07<00:00,  3.32it/s]                                                                                                                                                                                                                \n"
     ]
    },
    {
     "name": "stdout",
     "output_type": "stream",
     "text": [
      "Threshold : 0.20\tFBeta : 0.314269\n",
      "Threshold : 0.25\tFBeta : 0.326643\n",
      "Threshold : 0.30\tFBeta : 0.336196\n",
      "Threshold : 0.35\tFBeta : 0.347625\n",
      "Threshold : 0.40\tFBeta : 0.360288\n",
      "Threshold : 0.45\tFBeta : 0.373843\n",
      "Threshold : 0.50\tFBeta : 0.390364\n",
      "Threshold : 0.55\tFBeta : 0.408341\n",
      "Threshold : 0.60\tFBeta : 0.424427\n",
      "Threshold : 0.65\tFBeta : 0.438415\n",
      "Threshold : 0.70\tFBeta : 0.449869\n",
      "Threshold : 0.75\tFBeta : 0.459000\n",
      "Threshold : 0.80\tFBeta : 0.457902\n",
      "\n"
     ]
    },
    {
     "name": "stderr",
     "output_type": "stream",
     "text": [
      "Epoch 20/50  Mem : 22GB  LR : 7.50E-05  Loss: 0.3076: 100%|██████████| 62/62 [00:38<00:00,  1.61it/s]                                                                                                                                                                            \n",
      "Val Loss: 0.2581: 100%|██████████| 24/24 [00:07<00:00,  3.30it/s]                                                                                                                                                                                                                \n"
     ]
    },
    {
     "name": "stdout",
     "output_type": "stream",
     "text": [
      "Threshold : 0.20\tFBeta : 0.342329\n",
      "Threshold : 0.25\tFBeta : 0.367876\n",
      "Threshold : 0.30\tFBeta : 0.387395\n",
      "Threshold : 0.35\tFBeta : 0.403884\n",
      "Threshold : 0.40\tFBeta : 0.420967\n",
      "Threshold : 0.45\tFBeta : 0.438182\n",
      "Threshold : 0.50\tFBeta : 0.462232\n",
      "Threshold : 0.55\tFBeta : 0.478208\n",
      "Threshold : 0.60\tFBeta : 0.477250\n",
      "Threshold : 0.65\tFBeta : 0.455482\n",
      "Threshold : 0.70\tFBeta : 0.421106\n",
      "Threshold : 0.75\tFBeta : 0.372141\n",
      "Threshold : 0.80\tFBeta : 0.297306\n",
      "\n"
     ]
    },
    {
     "name": "stderr",
     "output_type": "stream",
     "text": [
      "Epoch 21/50  Mem : 22GB  LR : 7.19E-05  Loss: 0.3119: 100%|██████████| 62/62 [00:38<00:00,  1.63it/s]                                                                                                                                                                            \n",
      "Val Loss: 0.2842: 100%|██████████| 24/24 [00:07<00:00,  3.32it/s]                                                                                                                                                                                                                \n"
     ]
    },
    {
     "name": "stdout",
     "output_type": "stream",
     "text": [
      "Threshold : 0.20\tFBeta : 0.314384\n",
      "Threshold : 0.25\tFBeta : 0.335233\n",
      "Threshold : 0.30\tFBeta : 0.356972\n",
      "Threshold : 0.35\tFBeta : 0.380053\n",
      "Threshold : 0.40\tFBeta : 0.405841\n",
      "Threshold : 0.45\tFBeta : 0.427819\n",
      "Threshold : 0.50\tFBeta : 0.455487\n",
      "Threshold : 0.55\tFBeta : 0.478827\n",
      "Threshold : 0.60\tFBeta : 0.494266\n",
      "Threshold : 0.65\tFBeta : 0.507344\n",
      "Threshold : 0.70\tFBeta : 0.510626\n",
      "Threshold : 0.75\tFBeta : 0.502807\n",
      "Threshold : 0.80\tFBeta : 0.476185\n",
      "\n"
     ]
    },
    {
     "name": "stderr",
     "output_type": "stream",
     "text": [
      "Epoch 22/50  Mem : 22GB  LR : 6.87E-05  Loss: 0.3110: 100%|██████████| 62/62 [00:37<00:00,  1.63it/s]                                                                                                                                                                            \n",
      "Val Loss: 0.2454: 100%|██████████| 24/24 [00:07<00:00,  3.27it/s]                                                                                                                                                                                                                \n"
     ]
    },
    {
     "name": "stdout",
     "output_type": "stream",
     "text": [
      "Threshold : 0.20\tFBeta : 0.438593\n",
      "Threshold : 0.25\tFBeta : 0.459520\n",
      "Threshold : 0.30\tFBeta : 0.474908\n",
      "Threshold : 0.35\tFBeta : 0.485502\n",
      "Threshold : 0.40\tFBeta : 0.492705\n",
      "Threshold : 0.45\tFBeta : 0.494545\n",
      "Threshold : 0.50\tFBeta : 0.495092\n",
      "Threshold : 0.55\tFBeta : 0.484868\n",
      "Threshold : 0.60\tFBeta : 0.460376\n",
      "Threshold : 0.65\tFBeta : 0.425395\n",
      "Threshold : 0.70\tFBeta : 0.385409\n",
      "Threshold : 0.75\tFBeta : 0.333453\n",
      "Threshold : 0.80\tFBeta : 0.271622\n",
      "\n"
     ]
    },
    {
     "name": "stderr",
     "output_type": "stream",
     "text": [
      "Epoch 23/50  Mem : 22GB  LR : 6.55E-05  Loss: 0.2974: 100%|██████████| 62/62 [00:38<00:00,  1.62it/s]                                                                                                                                                                            \n",
      "Val Loss: 0.2752: 100%|██████████| 24/24 [00:07<00:00,  3.30it/s]                                                                                                                                                                                                                \n"
     ]
    },
    {
     "name": "stdout",
     "output_type": "stream",
     "text": [
      "Threshold : 0.20\tFBeta : 0.367366\n",
      "Threshold : 0.25\tFBeta : 0.393220\n",
      "Threshold : 0.30\tFBeta : 0.414573\n",
      "Threshold : 0.35\tFBeta : 0.434502\n",
      "Threshold : 0.40\tFBeta : 0.450353\n",
      "Threshold : 0.45\tFBeta : 0.464456\n",
      "Threshold : 0.50\tFBeta : 0.477277\n",
      "Threshold : 0.55\tFBeta : 0.492462\n",
      "Threshold : 0.60\tFBeta : 0.505213\n",
      "Threshold : 0.65\tFBeta : 0.514507\n",
      "Threshold : 0.70\tFBeta : 0.521664\n",
      "Threshold : 0.75\tFBeta : 0.524816\n",
      "Threshold : 0.80\tFBeta : 0.522794\n",
      "\n"
     ]
    },
    {
     "name": "stderr",
     "output_type": "stream",
     "text": [
      "Epoch 24/50  Mem : 22GB  LR : 6.21E-05  Loss: 0.2975: 100%|██████████| 62/62 [00:38<00:00,  1.63it/s]                                                                                                                                                                            \n",
      "Val Loss: 0.2599: 100%|██████████| 24/24 [00:07<00:00,  3.28it/s]                                                                                                                                                                                                                \n"
     ]
    },
    {
     "name": "stdout",
     "output_type": "stream",
     "text": [
      "Threshold : 0.20\tFBeta : 0.489824\n",
      "Threshold : 0.25\tFBeta : 0.493257\n",
      "Threshold : 0.30\tFBeta : 0.490223\n",
      "Threshold : 0.35\tFBeta : 0.483757\n",
      "Threshold : 0.40\tFBeta : 0.476959\n",
      "Threshold : 0.45\tFBeta : 0.465274\n",
      "Threshold : 0.50\tFBeta : 0.448226\n",
      "Threshold : 0.55\tFBeta : 0.423536\n",
      "Threshold : 0.60\tFBeta : 0.391527\n",
      "Threshold : 0.65\tFBeta : 0.350787\n",
      "Threshold : 0.70\tFBeta : 0.303930\n",
      "Threshold : 0.75\tFBeta : 0.249407\n",
      "Threshold : 0.80\tFBeta : 0.187010\n",
      "\n"
     ]
    },
    {
     "name": "stderr",
     "output_type": "stream",
     "text": [
      "Epoch 25/50  Mem : 22GB  LR : 5.87E-05  Loss: 0.3020: 100%|██████████| 62/62 [00:37<00:00,  1.64it/s]                                                                                                                                                                            \n",
      "Val Loss: 0.2650: 100%|██████████| 24/24 [00:07<00:00,  3.32it/s]                                                                                                                                                                                                                \n"
     ]
    },
    {
     "name": "stdout",
     "output_type": "stream",
     "text": [
      "Threshold : 0.20\tFBeta : 0.352428\n",
      "Threshold : 0.25\tFBeta : 0.373922\n",
      "Threshold : 0.30\tFBeta : 0.394184\n",
      "Threshold : 0.35\tFBeta : 0.413305\n",
      "Threshold : 0.40\tFBeta : 0.432977\n",
      "Threshold : 0.45\tFBeta : 0.453331\n",
      "Threshold : 0.50\tFBeta : 0.476164\n",
      "Threshold : 0.55\tFBeta : 0.497867\n",
      "Threshold : 0.60\tFBeta : 0.516347\n",
      "Threshold : 0.65\tFBeta : 0.530499\n",
      "Threshold : 0.70\tFBeta : 0.538048\n",
      "Threshold : 0.75\tFBeta : 0.536898\n",
      "Threshold : 0.80\tFBeta : 0.525207\n",
      "\n"
     ]
    },
    {
     "name": "stderr",
     "output_type": "stream",
     "text": [
      "Epoch 26/50  Mem : 22GB  LR : 5.52E-05  Loss: 0.2957: 100%|██████████| 62/62 [00:38<00:00,  1.62it/s]                                                                                                                                                                            \n",
      "Val Loss: 0.2713: 100%|██████████| 24/24 [00:07<00:00,  3.31it/s]                                                                                                                                                                                                                \n"
     ]
    },
    {
     "name": "stdout",
     "output_type": "stream",
     "text": [
      "Threshold : 0.20\tFBeta : 0.502887\n",
      "Threshold : 0.25\tFBeta : 0.494639\n",
      "Threshold : 0.30\tFBeta : 0.484988\n",
      "Threshold : 0.35\tFBeta : 0.472288\n",
      "Threshold : 0.40\tFBeta : 0.457247\n",
      "Threshold : 0.45\tFBeta : 0.436626\n",
      "Threshold : 0.50\tFBeta : 0.412729\n",
      "Threshold : 0.55\tFBeta : 0.386730\n",
      "Threshold : 0.60\tFBeta : 0.353159\n",
      "Threshold : 0.65\tFBeta : 0.308316\n",
      "Threshold : 0.70\tFBeta : 0.253283\n",
      "Threshold : 0.75\tFBeta : 0.189761\n",
      "Threshold : 0.80\tFBeta : 0.120421\n",
      "\n"
     ]
    },
    {
     "name": "stderr",
     "output_type": "stream",
     "text": [
      "Epoch 27/50  Mem : 22GB  LR : 5.17E-05  Loss: 0.2899: 100%|██████████| 62/62 [00:38<00:00,  1.63it/s]                                                                                                                                                                            \n",
      "Val Loss: 0.2496: 100%|██████████| 24/24 [00:07<00:00,  3.30it/s]                                                                                                                                                                                                                \n"
     ]
    },
    {
     "name": "stdout",
     "output_type": "stream",
     "text": [
      "Threshold : 0.20\tFBeta : 0.509066\n",
      "Threshold : 0.25\tFBeta : 0.513023\n",
      "Threshold : 0.30\tFBeta : 0.512944\n",
      "Threshold : 0.35\tFBeta : 0.511521\n",
      "Threshold : 0.40\tFBeta : 0.497967\n",
      "Threshold : 0.45\tFBeta : 0.475538\n",
      "Threshold : 0.50\tFBeta : 0.452027\n",
      "Threshold : 0.55\tFBeta : 0.423921\n",
      "Threshold : 0.60\tFBeta : 0.389888\n",
      "Threshold : 0.65\tFBeta : 0.350009\n",
      "Threshold : 0.70\tFBeta : 0.299232\n",
      "Threshold : 0.75\tFBeta : 0.249046\n",
      "Threshold : 0.80\tFBeta : 0.205566\n",
      "\n"
     ]
    },
    {
     "name": "stderr",
     "output_type": "stream",
     "text": [
      "Epoch 28/50  Mem : 22GB  LR : 4.83E-05  Loss: 0.2861: 100%|██████████| 62/62 [00:38<00:00,  1.62it/s]                                                                                                                                                                            \n",
      "Val Loss: 0.2796: 100%|██████████| 24/24 [00:07<00:00,  3.31it/s]                                                                                                                                                                                                                \n"
     ]
    },
    {
     "name": "stdout",
     "output_type": "stream",
     "text": [
      "Threshold : 0.20\tFBeta : 0.339574\n",
      "Threshold : 0.25\tFBeta : 0.358049\n",
      "Threshold : 0.30\tFBeta : 0.374496\n",
      "Threshold : 0.35\tFBeta : 0.392267\n",
      "Threshold : 0.40\tFBeta : 0.410312\n",
      "Threshold : 0.45\tFBeta : 0.426327\n",
      "Threshold : 0.50\tFBeta : 0.444269\n",
      "Threshold : 0.55\tFBeta : 0.460152\n",
      "Threshold : 0.60\tFBeta : 0.474952\n",
      "Threshold : 0.65\tFBeta : 0.485145\n",
      "Threshold : 0.70\tFBeta : 0.491027\n",
      "Threshold : 0.75\tFBeta : 0.489698\n",
      "Threshold : 0.80\tFBeta : 0.478283\n",
      "\n"
     ]
    },
    {
     "name": "stderr",
     "output_type": "stream",
     "text": [
      "Epoch 29/50  Mem : 22GB  LR : 4.48E-05  Loss: 0.2819: 100%|██████████| 62/62 [00:38<00:00,  1.62it/s]                                                                                                                                                                            \n",
      "Val Loss: 0.2682: 100%|██████████| 24/24 [00:07<00:00,  3.29it/s]                                                                                                                                                                                                                \n"
     ]
    },
    {
     "name": "stdout",
     "output_type": "stream",
     "text": [
      "Threshold : 0.20\tFBeta : 0.373082\n",
      "Threshold : 0.25\tFBeta : 0.392406\n",
      "Threshold : 0.30\tFBeta : 0.408615\n",
      "Threshold : 0.35\tFBeta : 0.424636\n",
      "Threshold : 0.40\tFBeta : 0.438829\n",
      "Threshold : 0.45\tFBeta : 0.453086\n",
      "Threshold : 0.50\tFBeta : 0.466863\n",
      "Threshold : 0.55\tFBeta : 0.480180\n",
      "Threshold : 0.60\tFBeta : 0.491537\n",
      "Threshold : 0.65\tFBeta : 0.499864\n",
      "Threshold : 0.70\tFBeta : 0.499280\n",
      "Threshold : 0.75\tFBeta : 0.491938\n",
      "Threshold : 0.80\tFBeta : 0.474592\n",
      "\n"
     ]
    },
    {
     "name": "stderr",
     "output_type": "stream",
     "text": [
      "Epoch 30/50  Mem : 22GB  LR : 4.13E-05  Loss: 0.2854: 100%|██████████| 62/62 [00:38<00:00,  1.62it/s]                                                                                                                                                                            \n",
      "Val Loss: 0.2873: 100%|██████████| 24/24 [00:07<00:00,  3.31it/s]                                                                                                                                                                                                                \n"
     ]
    },
    {
     "name": "stdout",
     "output_type": "stream",
     "text": [
      "Threshold : 0.20\tFBeta : 0.349696\n",
      "Threshold : 0.25\tFBeta : 0.369418\n",
      "Threshold : 0.30\tFBeta : 0.387219\n",
      "Threshold : 0.35\tFBeta : 0.403226\n",
      "Threshold : 0.40\tFBeta : 0.416934\n",
      "Threshold : 0.45\tFBeta : 0.429355\n",
      "Threshold : 0.50\tFBeta : 0.443418\n",
      "Threshold : 0.55\tFBeta : 0.457786\n",
      "Threshold : 0.60\tFBeta : 0.471384\n",
      "Threshold : 0.65\tFBeta : 0.481866\n",
      "Threshold : 0.70\tFBeta : 0.489207\n",
      "Threshold : 0.75\tFBeta : 0.491140\n",
      "Threshold : 0.80\tFBeta : 0.488603\n",
      "\n"
     ]
    },
    {
     "name": "stderr",
     "output_type": "stream",
     "text": [
      "Epoch 31/50  Mem : 22GB  LR : 3.79E-05  Loss: 0.2869: 100%|██████████| 62/62 [00:37<00:00,  1.65it/s]                                                                                                                                                                            \n",
      "Val Loss: 0.2371: 100%|██████████| 24/24 [00:07<00:00,  3.31it/s]                                                                                                                                                                                                                \n"
     ]
    },
    {
     "name": "stdout",
     "output_type": "stream",
     "text": [
      "Threshold : 0.20\tFBeta : 0.427075\n",
      "Threshold : 0.25\tFBeta : 0.448500\n",
      "Threshold : 0.30\tFBeta : 0.468370\n",
      "Threshold : 0.35\tFBeta : 0.484829\n",
      "Threshold : 0.40\tFBeta : 0.497321\n",
      "Threshold : 0.45\tFBeta : 0.505620\n",
      "Threshold : 0.50\tFBeta : 0.511786\n",
      "Threshold : 0.55\tFBeta : 0.517273\n",
      "Threshold : 0.60\tFBeta : 0.520163\n",
      "Threshold : 0.65\tFBeta : 0.516299\n",
      "Threshold : 0.70\tFBeta : 0.502226\n",
      "Threshold : 0.75\tFBeta : 0.473801\n",
      "Threshold : 0.80\tFBeta : 0.434556\n",
      "\n"
     ]
    },
    {
     "name": "stderr",
     "output_type": "stream",
     "text": [
      "Epoch 32/50  Mem : 22GB  LR : 3.45E-05  Loss: 0.2751: 100%|██████████| 62/62 [00:37<00:00,  1.63it/s]                                                                                                                                                                            \n",
      "Val Loss: 0.2599: 100%|██████████| 24/24 [00:07<00:00,  3.30it/s]                                                                                                                                                                                                                \n"
     ]
    },
    {
     "name": "stdout",
     "output_type": "stream",
     "text": [
      "Threshold : 0.20\tFBeta : 0.507252\n",
      "Threshold : 0.25\tFBeta : 0.509905\n",
      "Threshold : 0.30\tFBeta : 0.502302\n",
      "Threshold : 0.35\tFBeta : 0.492126\n",
      "Threshold : 0.40\tFBeta : 0.480529\n",
      "Threshold : 0.45\tFBeta : 0.470540\n",
      "Threshold : 0.50\tFBeta : 0.458621\n",
      "Threshold : 0.55\tFBeta : 0.444531\n",
      "Threshold : 0.60\tFBeta : 0.423757\n",
      "Threshold : 0.65\tFBeta : 0.392734\n",
      "Threshold : 0.70\tFBeta : 0.356046\n",
      "Threshold : 0.75\tFBeta : 0.311473\n",
      "Threshold : 0.80\tFBeta : 0.262692\n",
      "\n"
     ]
    },
    {
     "name": "stderr",
     "output_type": "stream",
     "text": [
      "Epoch 33/50  Mem : 22GB  LR : 3.13E-05  Loss: 0.2798: 100%|██████████| 62/62 [00:38<00:00,  1.63it/s]                                                                                                                                                                            \n",
      "Val Loss: 0.2349: 100%|██████████| 24/24 [00:07<00:00,  3.29it/s]                                                                                                                                                                                                                \n"
     ]
    },
    {
     "name": "stdout",
     "output_type": "stream",
     "text": [
      "Threshold : 0.20\tFBeta : 0.477834\n",
      "Threshold : 0.25\tFBeta : 0.496630\n",
      "Threshold : 0.30\tFBeta : 0.510024\n",
      "Threshold : 0.35\tFBeta : 0.516591\n",
      "Threshold : 0.40\tFBeta : 0.519120\n",
      "Threshold : 0.45\tFBeta : 0.524315\n",
      "Threshold : 0.50\tFBeta : 0.520718\n",
      "Threshold : 0.55\tFBeta : 0.507156\n",
      "Threshold : 0.60\tFBeta : 0.486927\n",
      "Threshold : 0.65\tFBeta : 0.462809\n",
      "Threshold : 0.70\tFBeta : 0.429053\n",
      "Threshold : 0.75\tFBeta : 0.385093\n",
      "Threshold : 0.80\tFBeta : 0.328141\n",
      "\n"
     ]
    },
    {
     "name": "stderr",
     "output_type": "stream",
     "text": [
      "Epoch 34/50  Mem : 22GB  LR : 2.81E-05  Loss: 0.2726: 100%|██████████| 62/62 [00:38<00:00,  1.62it/s]                                                                                                                                                                            \n",
      "Val Loss: 0.2334: 100%|██████████| 24/24 [00:07<00:00,  3.30it/s]                                                                                                                                                                                                                \n"
     ]
    },
    {
     "name": "stdout",
     "output_type": "stream",
     "text": [
      "Threshold : 0.20\tFBeta : 0.492168\n",
      "Threshold : 0.25\tFBeta : 0.513835\n",
      "Threshold : 0.30\tFBeta : 0.528840\n",
      "Threshold : 0.35\tFBeta : 0.536138\n",
      "Threshold : 0.40\tFBeta : 0.539192\n",
      "Threshold : 0.45\tFBeta : 0.537401\n",
      "Threshold : 0.50\tFBeta : 0.532319\n",
      "Threshold : 0.55\tFBeta : 0.526287\n",
      "Threshold : 0.60\tFBeta : 0.513498\n",
      "Threshold : 0.65\tFBeta : 0.493752\n",
      "Threshold : 0.70\tFBeta : 0.461645\n",
      "Threshold : 0.75\tFBeta : 0.420463\n",
      "Threshold : 0.80\tFBeta : 0.364466\n",
      "\n"
     ]
    },
    {
     "name": "stderr",
     "output_type": "stream",
     "text": [
      "Epoch 35/50  Mem : 22GB  LR : 2.50E-05  Loss: 0.2745: 100%|██████████| 62/62 [00:37<00:00,  1.64it/s]                                                                                                                                                                            \n",
      "Val Loss: 0.2858: 100%|██████████| 24/24 [00:07<00:00,  3.30it/s]                                                                                                                                                                                                                \n"
     ]
    },
    {
     "name": "stdout",
     "output_type": "stream",
     "text": [
      "Threshold : 0.20\tFBeta : 0.334806\n",
      "Threshold : 0.25\tFBeta : 0.353237\n",
      "Threshold : 0.30\tFBeta : 0.368774\n",
      "Threshold : 0.35\tFBeta : 0.384672\n",
      "Threshold : 0.40\tFBeta : 0.400812\n",
      "Threshold : 0.45\tFBeta : 0.418540\n",
      "Threshold : 0.50\tFBeta : 0.440518\n",
      "Threshold : 0.55\tFBeta : 0.464119\n",
      "Threshold : 0.60\tFBeta : 0.480629\n",
      "Threshold : 0.65\tFBeta : 0.490089\n",
      "Threshold : 0.70\tFBeta : 0.493186\n",
      "Threshold : 0.75\tFBeta : 0.488283\n",
      "Threshold : 0.80\tFBeta : 0.475739\n",
      "\n"
     ]
    },
    {
     "name": "stderr",
     "output_type": "stream",
     "text": [
      "Epoch 36/50  Mem : 22GB  LR : 2.20E-05  Loss: 0.2746: 100%|██████████| 62/62 [00:38<00:00,  1.63it/s]                                                                                                                                                                            \n",
      "Val Loss: 0.2291: 100%|██████████| 24/24 [00:07<00:00,  3.29it/s]                                                                                                                                                                                                                \n"
     ]
    },
    {
     "name": "stdout",
     "output_type": "stream",
     "text": [
      "Threshold : 0.20\tFBeta : 0.483718\n",
      "Threshold : 0.25\tFBeta : 0.508356\n",
      "Threshold : 0.30\tFBeta : 0.524395\n",
      "Threshold : 0.35\tFBeta : 0.536036\n",
      "Threshold : 0.40\tFBeta : 0.542720\n",
      "Threshold : 0.45\tFBeta : 0.545057\n",
      "Threshold : 0.50\tFBeta : 0.545386\n",
      "Threshold : 0.55\tFBeta : 0.541747\n",
      "Threshold : 0.60\tFBeta : 0.532883\n",
      "Threshold : 0.65\tFBeta : 0.521687\n",
      "Threshold : 0.70\tFBeta : 0.508327\n",
      "Threshold : 0.75\tFBeta : 0.488679\n",
      "Threshold : 0.80\tFBeta : 0.458355\n",
      "\n"
     ]
    },
    {
     "name": "stderr",
     "output_type": "stream",
     "text": [
      "Epoch 37/50  Mem : 22GB  LR : 1.92E-05  Loss: 0.2706: 100%|██████████| 62/62 [00:37<00:00,  1.63it/s]                                                                                                                                                                            \n",
      "Val Loss: 0.2333: 100%|██████████| 24/24 [00:07<00:00,  3.28it/s]                                                                                                                                                                                                                \n"
     ]
    },
    {
     "name": "stdout",
     "output_type": "stream",
     "text": [
      "Threshold : 0.20\tFBeta : 0.508932\n",
      "Threshold : 0.25\tFBeta : 0.524070\n",
      "Threshold : 0.30\tFBeta : 0.533454\n",
      "Threshold : 0.35\tFBeta : 0.536228\n",
      "Threshold : 0.40\tFBeta : 0.535063\n",
      "Threshold : 0.45\tFBeta : 0.533803\n",
      "Threshold : 0.50\tFBeta : 0.528082\n",
      "Threshold : 0.55\tFBeta : 0.519488\n",
      "Threshold : 0.60\tFBeta : 0.508224\n",
      "Threshold : 0.65\tFBeta : 0.492438\n",
      "Threshold : 0.70\tFBeta : 0.472956\n",
      "Threshold : 0.75\tFBeta : 0.441988\n",
      "Threshold : 0.80\tFBeta : 0.394074\n",
      "\n"
     ]
    },
    {
     "name": "stderr",
     "output_type": "stream",
     "text": [
      "Epoch 38/50  Mem : 22GB  LR : 1.65E-05  Loss: 0.2689: 100%|██████████| 62/62 [00:38<00:00,  1.62it/s]                                                                                                                                                                            \n",
      "Val Loss: 0.2284: 100%|██████████| 24/24 [00:07<00:00,  3.31it/s]                                                                                                                                                                                                                \n"
     ]
    },
    {
     "name": "stdout",
     "output_type": "stream",
     "text": [
      "Threshold : 0.20\tFBeta : 0.494143\n",
      "Threshold : 0.25\tFBeta : 0.514707\n",
      "Threshold : 0.30\tFBeta : 0.527943\n",
      "Threshold : 0.35\tFBeta : 0.537312\n",
      "Threshold : 0.40\tFBeta : 0.542162\n",
      "Threshold : 0.45\tFBeta : 0.542499\n",
      "Threshold : 0.50\tFBeta : 0.538819\n",
      "Threshold : 0.55\tFBeta : 0.528155\n",
      "Threshold : 0.60\tFBeta : 0.515365\n",
      "Threshold : 0.65\tFBeta : 0.500310\n",
      "Threshold : 0.70\tFBeta : 0.477397\n",
      "Threshold : 0.75\tFBeta : 0.444804\n",
      "Threshold : 0.80\tFBeta : 0.400180\n",
      "\n"
     ]
    },
    {
     "name": "stderr",
     "output_type": "stream",
     "text": [
      "Epoch 39/50  Mem : 22GB  LR : 1.40E-05  Loss: 0.2657: 100%|██████████| 62/62 [00:38<00:00,  1.63it/s]                                                                                                                                                                            \n",
      "Val Loss: 0.2264: 100%|██████████| 24/24 [00:07<00:00,  3.30it/s]                                                                                                                                                                                                                \n"
     ]
    },
    {
     "name": "stdout",
     "output_type": "stream",
     "text": [
      "Threshold : 0.20\tFBeta : 0.514899\n",
      "Threshold : 0.25\tFBeta : 0.535998\n",
      "Threshold : 0.30\tFBeta : 0.551794\n",
      "Threshold : 0.35\tFBeta : 0.559922\n",
      "Threshold : 0.40\tFBeta : 0.557693\n",
      "Threshold : 0.45\tFBeta : 0.548567\n",
      "Threshold : 0.50\tFBeta : 0.534744\n",
      "Threshold : 0.55\tFBeta : 0.517357\n",
      "Threshold : 0.60\tFBeta : 0.494351\n",
      "Threshold : 0.65\tFBeta : 0.469067\n",
      "Threshold : 0.70\tFBeta : 0.438121\n",
      "Threshold : 0.75\tFBeta : 0.393959\n",
      "Threshold : 0.80\tFBeta : 0.336967\n",
      "\n"
     ]
    },
    {
     "name": "stderr",
     "output_type": "stream",
     "text": [
      "Epoch 40/50  Mem : 22GB  LR : 1.17E-05  Loss: 0.2658: 100%|██████████| 62/62 [00:38<00:00,  1.63it/s]                                                                                                                                                                            \n",
      "Val Loss: 0.2275: 100%|██████████| 24/24 [00:07<00:00,  3.28it/s]                                                                                                                                                                                                                \n"
     ]
    },
    {
     "name": "stdout",
     "output_type": "stream",
     "text": [
      "Threshold : 0.20\tFBeta : 0.468656\n",
      "Threshold : 0.25\tFBeta : 0.496790\n",
      "Threshold : 0.30\tFBeta : 0.515721\n",
      "Threshold : 0.35\tFBeta : 0.528136\n",
      "Threshold : 0.40\tFBeta : 0.536177\n",
      "Threshold : 0.45\tFBeta : 0.538863\n",
      "Threshold : 0.50\tFBeta : 0.535606\n",
      "Threshold : 0.55\tFBeta : 0.529490\n",
      "Threshold : 0.60\tFBeta : 0.519823\n",
      "Threshold : 0.65\tFBeta : 0.502590\n",
      "Threshold : 0.70\tFBeta : 0.482422\n",
      "Threshold : 0.75\tFBeta : 0.454809\n",
      "Threshold : 0.80\tFBeta : 0.415560\n",
      "\n"
     ]
    },
    {
     "name": "stderr",
     "output_type": "stream",
     "text": [
      "Epoch 41/50  Mem : 22GB  LR : 9.55E-06  Loss: 0.2666: 100%|██████████| 62/62 [00:37<00:00,  1.63it/s]                                                                                                                                                                            \n",
      "Val Loss: 0.2356: 100%|██████████| 24/24 [00:07<00:00,  3.31it/s]                                                                                                                                                                                                                \n"
     ]
    },
    {
     "name": "stdout",
     "output_type": "stream",
     "text": [
      "Threshold : 0.20\tFBeta : 0.441915\n",
      "Threshold : 0.25\tFBeta : 0.468164\n",
      "Threshold : 0.30\tFBeta : 0.490584\n",
      "Threshold : 0.35\tFBeta : 0.507163\n",
      "Threshold : 0.40\tFBeta : 0.518157\n",
      "Threshold : 0.45\tFBeta : 0.523750\n",
      "Threshold : 0.50\tFBeta : 0.526237\n",
      "Threshold : 0.55\tFBeta : 0.525633\n",
      "Threshold : 0.60\tFBeta : 0.519988\n",
      "Threshold : 0.65\tFBeta : 0.510220\n",
      "Threshold : 0.70\tFBeta : 0.497286\n",
      "Threshold : 0.75\tFBeta : 0.477031\n",
      "Threshold : 0.80\tFBeta : 0.444994\n",
      "\n"
     ]
    },
    {
     "name": "stderr",
     "output_type": "stream",
     "text": [
      "Epoch 42/50  Mem : 22GB  LR : 7.60E-06  Loss: 0.2624: 100%|██████████| 62/62 [00:38<00:00,  1.63it/s]                                                                                                                                                                            \n",
      "Val Loss: 0.2310: 100%|██████████| 24/24 [00:07<00:00,  3.30it/s]                                                                                                                                                                                                                \n"
     ]
    },
    {
     "name": "stdout",
     "output_type": "stream",
     "text": [
      "Threshold : 0.20\tFBeta : 0.523637\n",
      "Threshold : 0.25\tFBeta : 0.539368\n",
      "Threshold : 0.30\tFBeta : 0.550940\n",
      "Threshold : 0.35\tFBeta : 0.557260\n",
      "Threshold : 0.40\tFBeta : 0.554238\n",
      "Threshold : 0.45\tFBeta : 0.545758\n",
      "Threshold : 0.50\tFBeta : 0.534342\n",
      "Threshold : 0.55\tFBeta : 0.520175\n",
      "Threshold : 0.60\tFBeta : 0.501443\n",
      "Threshold : 0.65\tFBeta : 0.474734\n",
      "Threshold : 0.70\tFBeta : 0.442649\n",
      "Threshold : 0.75\tFBeta : 0.399140\n",
      "Threshold : 0.80\tFBeta : 0.346610\n",
      "\n"
     ]
    },
    {
     "name": "stderr",
     "output_type": "stream",
     "text": [
      "Epoch 43/50  Mem : 22GB  LR : 5.85E-06  Loss: 0.2645: 100%|██████████| 62/62 [00:38<00:00,  1.62it/s]                                                                                                                                                                            \n",
      "Val Loss: 0.2283: 100%|██████████| 24/24 [00:07<00:00,  3.32it/s]                                                                                                                                                                                                                \n"
     ]
    },
    {
     "name": "stdout",
     "output_type": "stream",
     "text": [
      "Threshold : 0.20\tFBeta : 0.464573\n",
      "Threshold : 0.25\tFBeta : 0.493648\n",
      "Threshold : 0.30\tFBeta : 0.513265\n",
      "Threshold : 0.35\tFBeta : 0.525656\n",
      "Threshold : 0.40\tFBeta : 0.534026\n",
      "Threshold : 0.45\tFBeta : 0.539968\n",
      "Threshold : 0.50\tFBeta : 0.541990\n",
      "Threshold : 0.55\tFBeta : 0.541001\n",
      "Threshold : 0.60\tFBeta : 0.535100\n",
      "Threshold : 0.65\tFBeta : 0.525216\n",
      "Threshold : 0.70\tFBeta : 0.507989\n",
      "Threshold : 0.75\tFBeta : 0.481360\n",
      "Threshold : 0.80\tFBeta : 0.445602\n",
      "\n"
     ]
    },
    {
     "name": "stderr",
     "output_type": "stream",
     "text": [
      "Epoch 44/50  Mem : 22GB  LR : 4.32E-06  Loss: 0.2566: 100%|██████████| 62/62 [00:37<00:00,  1.63it/s]                                                                                                                                                                            \n",
      "Val Loss: 0.2240: 100%|██████████| 24/24 [00:07<00:00,  3.30it/s]                                                                                                                                                                                                                \n"
     ]
    },
    {
     "name": "stdout",
     "output_type": "stream",
     "text": [
      "Threshold : 0.20\tFBeta : 0.483459\n",
      "Threshold : 0.25\tFBeta : 0.511811\n",
      "Threshold : 0.30\tFBeta : 0.530196\n",
      "Threshold : 0.35\tFBeta : 0.543789\n",
      "Threshold : 0.40\tFBeta : 0.551706\n",
      "Threshold : 0.45\tFBeta : 0.556635\n",
      "Threshold : 0.50\tFBeta : 0.556690\n",
      "Threshold : 0.55\tFBeta : 0.548759\n",
      "Threshold : 0.60\tFBeta : 0.532345\n",
      "Threshold : 0.65\tFBeta : 0.512782\n",
      "Threshold : 0.70\tFBeta : 0.487097\n",
      "Threshold : 0.75\tFBeta : 0.454735\n",
      "Threshold : 0.80\tFBeta : 0.410584\n",
      "\n"
     ]
    },
    {
     "name": "stderr",
     "output_type": "stream",
     "text": [
      "Epoch 45/50  Mem : 22GB  LR : 3.02E-06  Loss: 0.2625: 100%|██████████| 62/62 [00:38<00:00,  1.63it/s]                                                                                                                                                                            \n",
      "Val Loss: 0.2253: 100%|██████████| 24/24 [00:07<00:00,  3.31it/s]                                                                                                                                                                                                                \n"
     ]
    },
    {
     "name": "stdout",
     "output_type": "stream",
     "text": [
      "Threshold : 0.20\tFBeta : 0.455102\n",
      "Threshold : 0.25\tFBeta : 0.483861\n",
      "Threshold : 0.30\tFBeta : 0.508612\n",
      "Threshold : 0.35\tFBeta : 0.526534\n",
      "Threshold : 0.40\tFBeta : 0.536771\n",
      "Threshold : 0.45\tFBeta : 0.546614\n",
      "Threshold : 0.50\tFBeta : 0.553419\n",
      "Threshold : 0.55\tFBeta : 0.554318\n",
      "Threshold : 0.60\tFBeta : 0.551166\n",
      "Threshold : 0.65\tFBeta : 0.540678\n",
      "Threshold : 0.70\tFBeta : 0.521260\n",
      "Threshold : 0.75\tFBeta : 0.492231\n",
      "Threshold : 0.80\tFBeta : 0.453709\n",
      "\n"
     ]
    },
    {
     "name": "stderr",
     "output_type": "stream",
     "text": [
      "Epoch 46/50  Mem : 22GB  LR : 1.94E-06  Loss: 0.2626: 100%|██████████| 62/62 [00:38<00:00,  1.63it/s]                                                                                                                                                                            \n",
      "Val Loss: 0.2259: 100%|██████████| 24/24 [00:07<00:00,  3.30it/s]                                                                                                                                                                                                                \n"
     ]
    },
    {
     "name": "stdout",
     "output_type": "stream",
     "text": [
      "Threshold : 0.20\tFBeta : 0.463512\n",
      "Threshold : 0.25\tFBeta : 0.492719\n",
      "Threshold : 0.30\tFBeta : 0.516150\n",
      "Threshold : 0.35\tFBeta : 0.529757\n",
      "Threshold : 0.40\tFBeta : 0.540337\n",
      "Threshold : 0.45\tFBeta : 0.548252\n",
      "Threshold : 0.50\tFBeta : 0.552256\n",
      "Threshold : 0.55\tFBeta : 0.552189\n",
      "Threshold : 0.60\tFBeta : 0.546753\n",
      "Threshold : 0.65\tFBeta : 0.534128\n",
      "Threshold : 0.70\tFBeta : 0.515443\n",
      "Threshold : 0.75\tFBeta : 0.486256\n",
      "Threshold : 0.80\tFBeta : 0.449849\n",
      "\n"
     ]
    },
    {
     "name": "stderr",
     "output_type": "stream",
     "text": [
      "Epoch 47/50  Mem : 22GB  LR : 1.09E-06  Loss: 0.2666: 100%|██████████| 62/62 [00:38<00:00,  1.63it/s]                                                                                                                                                                            \n",
      "Val Loss: 0.2245: 100%|██████████| 24/24 [00:07<00:00,  3.31it/s]                                                                                                                                                                                                                \n"
     ]
    },
    {
     "name": "stdout",
     "output_type": "stream",
     "text": [
      "Threshold : 0.20\tFBeta : 0.469408\n",
      "Threshold : 0.25\tFBeta : 0.500213\n",
      "Threshold : 0.30\tFBeta : 0.521721\n",
      "Threshold : 0.35\tFBeta : 0.533886\n",
      "Threshold : 0.40\tFBeta : 0.543839\n",
      "Threshold : 0.45\tFBeta : 0.551453\n",
      "Threshold : 0.50\tFBeta : 0.554930\n",
      "Threshold : 0.55\tFBeta : 0.553995\n",
      "Threshold : 0.60\tFBeta : 0.547525\n",
      "Threshold : 0.65\tFBeta : 0.534239\n",
      "Threshold : 0.70\tFBeta : 0.513351\n",
      "Threshold : 0.75\tFBeta : 0.482968\n",
      "Threshold : 0.80\tFBeta : 0.445334\n",
      "\n"
     ]
    },
    {
     "name": "stderr",
     "output_type": "stream",
     "text": [
      "Epoch 48/50  Mem : 22GB  LR : 4.87E-07  Loss: 0.2597: 100%|██████████| 62/62 [00:38<00:00,  1.62it/s]                                                                                                                                                                            \n",
      "Val Loss: 0.2278: 100%|██████████| 24/24 [00:07<00:00,  3.32it/s]                                                                                                                                                                                                                \n"
     ]
    },
    {
     "name": "stdout",
     "output_type": "stream",
     "text": [
      "Threshold : 0.20\tFBeta : 0.458532\n",
      "Threshold : 0.25\tFBeta : 0.487796\n",
      "Threshold : 0.30\tFBeta : 0.510908\n",
      "Threshold : 0.35\tFBeta : 0.525308\n",
      "Threshold : 0.40\tFBeta : 0.534066\n",
      "Threshold : 0.45\tFBeta : 0.542222\n",
      "Threshold : 0.50\tFBeta : 0.548323\n",
      "Threshold : 0.55\tFBeta : 0.549853\n",
      "Threshold : 0.60\tFBeta : 0.547113\n",
      "Threshold : 0.65\tFBeta : 0.539095\n",
      "Threshold : 0.70\tFBeta : 0.523495\n",
      "Threshold : 0.75\tFBeta : 0.498968\n",
      "Threshold : 0.80\tFBeta : 0.461563\n",
      "\n"
     ]
    },
    {
     "name": "stderr",
     "output_type": "stream",
     "text": [
      "Epoch 49/50  Mem : 22GB  LR : 1.22E-07  Loss: 0.2576: 100%|██████████| 62/62 [00:37<00:00,  1.64it/s]                                                                                                                                                                            \n",
      "Val Loss: 0.2260: 100%|██████████| 24/24 [00:07<00:00,  3.30it/s]                                                                                                                                                                                                                \n"
     ]
    },
    {
     "name": "stdout",
     "output_type": "stream",
     "text": [
      "Threshold : 0.20\tFBeta : 0.466775\n",
      "Threshold : 0.25\tFBeta : 0.494856\n",
      "Threshold : 0.30\tFBeta : 0.516548\n",
      "Threshold : 0.35\tFBeta : 0.529072\n",
      "Threshold : 0.40\tFBeta : 0.539219\n",
      "Threshold : 0.45\tFBeta : 0.547119\n",
      "Threshold : 0.50\tFBeta : 0.551531\n",
      "Threshold : 0.55\tFBeta : 0.551890\n",
      "Threshold : 0.60\tFBeta : 0.547117\n",
      "Threshold : 0.65\tFBeta : 0.534207\n",
      "Threshold : 0.70\tFBeta : 0.515371\n",
      "Threshold : 0.75\tFBeta : 0.485243\n",
      "Threshold : 0.80\tFBeta : 0.447168\n",
      "\n"
     ]
    },
    {
     "name": "stderr",
     "output_type": "stream",
     "text": [
      "Epoch 50/50  Mem : 22GB  LR : 4.00E-10  Loss: 0.2557: 100%|██████████| 62/62 [00:37<00:00,  1.64it/s]                                                                                                                                                                            \n",
      "Val Loss: 0.2264: 100%|██████████| 24/24 [00:07<00:00,  3.31it/s]                                                                                                                                                                                                                \n"
     ]
    },
    {
     "name": "stdout",
     "output_type": "stream",
     "text": [
      "Threshold : 0.20\tFBeta : 0.459682\n",
      "Threshold : 0.25\tFBeta : 0.489639\n",
      "Threshold : 0.30\tFBeta : 0.513938\n",
      "Threshold : 0.35\tFBeta : 0.528390\n",
      "Threshold : 0.40\tFBeta : 0.538554\n",
      "Threshold : 0.45\tFBeta : 0.546526\n",
      "Threshold : 0.50\tFBeta : 0.550186\n",
      "Threshold : 0.55\tFBeta : 0.549729\n",
      "Threshold : 0.60\tFBeta : 0.543623\n",
      "Threshold : 0.65\tFBeta : 0.529849\n",
      "Threshold : 0.70\tFBeta : 0.508308\n",
      "Threshold : 0.75\tFBeta : 0.476763\n",
      "Threshold : 0.80\tFBeta : 0.439038\n",
      "\n"
     ]
    }
   ],
   "source": [
    "fbeta_best = 0.0\n",
    "for epoch in range(1, EPOCHS+1):\n",
    "    model.train()\n",
    "    cur_lr = f\"LR : {scheduler.get_last_lr()[0]:.2E}\"\n",
    "    pbar_train = enumerate(dataloader_train)\n",
    "    pbar_train = tqdm(pbar_train, total=n_train, bar_format=\"{l_bar}{bar:10}{r_bar}{bar:-10b}\")\n",
    "    mloss_train, mloss_val, val_metric = 0.0, 0.0, 0.0\n",
    "\n",
    "    \n",
    "\n",
    "\n",
    "\n",
    "\n",
    "    for i, (fragments, masks) in pbar_train:\n",
    "        fragments, masks = fragments.cuda().half(), masks.cuda().half()\n",
    "        \n",
    "        \n",
    "        optimizer.zero_grad()\n",
    "        with amp.autocast():\n",
    "            pred_masks = model(fragments)\n",
    "            loss = criterion(pred_masks, masks)\n",
    "            scaler.scale(loss).backward()\n",
    "            scaler.step(optimizer)\n",
    "            scaler.update()\n",
    "            mloss_train += loss.detach().item()\n",
    "\n",
    "        gpu_mem = f\"Mem : {torch.cuda.memory_reserved() / 1E9:.3g}GB\"\n",
    "        pbar_train.set_description((\"%10s  \" * 3 + \"%10s\") % (f\"Epoch {epoch}/{EPOCHS}\", gpu_mem, cur_lr,\n",
    "                                                              f\"Loss: {mloss_train / (i + 1):.4f}\"))\n",
    "        \n",
    "    scheduler.step()\n",
    "    model.eval()\n",
    "    pbar_val = enumerate(dataloader_valid)\n",
    "    pbar_val = tqdm(pbar_val, total=n_valid, bar_format=\"{l_bar}{bar:10}{r_bar}{bar:-10b}\")\n",
    "    final_pred_mask = torch.zeros(gt_shape, dtype=torch.float32, device='cuda')\n",
    "    \n",
    "    for i, (fragments, masks, xys) in pbar_val:\n",
    "        fragments, masks = fragments.cuda(), masks.cuda()\n",
    "        \n",
    "        with torch.no_grad():\n",
    "            pred_masks = model(fragments)\n",
    "            mloss_val += criterion(pred_masks, masks).item()\n",
    "            pred_masks = torch.sigmoid(pred_masks)\n",
    "        \n",
    "        for j, xy in enumerate(xys):\n",
    "            final_pred_mask[xy[1]:xy[3], xy[0]:xy[2]] = pred_masks[j, 0]\n",
    "\n",
    "        pbar_val.set_description((\"%10s\") % (f\"Val Loss: {mloss_val / (i+1):.4f}\"))\n",
    "    \n",
    "    for threshold in np.arange(0.2, 0.85, 0.05):\n",
    "        fbeta = fbeta_score(final_pred_mask, gt_mask, threshold)\n",
    "        print(f\"Threshold : {threshold:.2f}\\tFBeta : {fbeta:.6f}\")\n",
    "        \n",
    "        if fbeta_best < fbeta:\n",
    "            fbeta_best = fbeta\n",
    "            torch.save(model.module.state_dict(), f\"./ckpts/resnet18_3d_seg_best_{fbeta_best:.4f}.pt\")\n",
    "    \n",
    "    \n",
    "    if epoch >= 10:\n",
    "        torch.save(model.module.state_dict(), f\"./ckpts/resnet18_3d_seg_epoch_{epoch}.pt\")\n",
    "\n",
    "    # if epoch == 30:\n",
    "    #     break\n",
    "\n",
    "    print()"
   ]
  },
  {
   "cell_type": "code",
   "execution_count": 22,
   "id": "2c48f344",
   "metadata": {
    "execution": {
     "iopub.execute_input": "2023-05-22T08:37:11.970959Z",
     "iopub.status.busy": "2023-05-22T08:37:11.970864Z",
     "iopub.status.idle": "2023-05-22T08:37:11.973122Z",
     "shell.execute_reply": "2023-05-22T08:37:11.972880Z"
    }
   },
   "outputs": [],
   "source": [
    "# import logging\n",
    "\n",
    "# logging.basicConfig(filename=\"training_log.txt\", level=logging.INFO)\n",
    "\n",
    "# console = logging.StreamHandler()\n",
    "# console.setLevel(logging.INFO)\n",
    "# logging.getLogger('').addHandler(console)\n",
    "\n",
    "# fbeta_best = 0.0\n",
    "# for epoch in range(1, EPOCHS+1):\n",
    "#     model.train()\n",
    "#     cur_lr = f\"LR : {scheduler.get_last_lr()[0]:.2E}\"\n",
    "#     pbar_train = enumerate(dataloader_train)\n",
    "#     pbar_train = tqdm(pbar_train, total=n_train, bar_format=\"{l_bar}{bar:10}{r_bar}{bar:-10b}\")\n",
    "#     mloss_train, mloss_val, val_metric = 0.0, 0.0, 0.0\n",
    "\n",
    "#     for i, (fragments, masks) in pbar_train:\n",
    "#         fragments, masks = fragments.cuda().half(), masks.cuda().half()\n",
    "        \n",
    "#         optimizer.zero_grad()\n",
    "#         with amp.autocast():\n",
    "#             pred_masks = model(fragments)\n",
    "#             loss = criterion(pred_masks, masks)\n",
    "#             scaler.scale(loss).backward()\n",
    "#             scaler.step(optimizer)\n",
    "#             scaler.update()\n",
    "#             mloss_train += loss.detach().item()\n",
    "\n",
    "#         gpu_mem = f\"Mem : {torch.cuda.memory_reserved() / 1E9:.3g}GB\"\n",
    "#         pbar_train.set_description((\"%10s  \" * 3 + \"%10s\") % (f\"Epoch {epoch}/{EPOCHS}\", gpu_mem, cur_lr,\n",
    "#                                                               f\"Loss: {mloss_train / (i + 1):.4f}\"))\n",
    "#         logging.info((\"%10s  \" * 3 + \"%10s\") % (f\"Epoch {epoch}/{EPOCHS}\", gpu_mem, cur_lr,\n",
    "#                                                 f\"Loss: {mloss_train / (i + 1):.4f}\"))\n",
    "#     scheduler.step()\n",
    "#     model.eval()\n",
    "#     pbar_val = enumerate(dataloader_valid)\n",
    "#     pbar_val = tqdm(pbar_val, total=n_valid, bar_format=\"{l_bar}{bar:10}{r_bar}{bar:-10b}\")\n",
    "#     final_pred_mask = torch.zeros(gt_shape, dtype=torch.float32, device='cuda')\n",
    "    \n",
    "#     for i, (fragments, masks, xys) in pbar_val:\n",
    "#         fragments, masks = fragments.cuda(), masks.cuda()\n",
    "        \n",
    "#         with torch.no_grad():\n",
    "#             pred_masks = model(fragments)\n",
    "#             mloss_val += criterion(pred_masks, masks).item()\n",
    "#             pred_masks = torch.sigmoid(pred_masks)\n",
    "        \n",
    "#         for j, xy in enumerate(xys):\n",
    "#             final_pred_mask[xy[1]:xy[3], xy[0]:xy[2]] = pred_masks[j, 0]\n",
    "\n",
    "#         pbar_val.set_description((\"%10s\") % (f\"Val Loss: {mloss_val / (i+1):.4f}\"))\n",
    "#         logging.info((\"%10s\") % (f\"Val Loss: {mloss_val / (i+1):.4f}\"))\n",
    "\n",
    "#     for threshold in np.arange(0.2, 0.85, 0.05):\n",
    "#         fbeta = fbeta_score(final_pred_mask, gt_mask, threshold)\n",
    "#         logging.info(f\"Threshold : {threshold:.2f}\\tFBeta : {fbeta:.6f}\")\n",
    "\n",
    "#         if fbeta_best < fbeta:\n",
    "#             fbeta_best = fbeta\n",
    "#             torch.save(model.module.state_dict(), f\"./ckpts/resnet18_3d_seg_best.pt\")\n",
    "    \n",
    "#     # if epoch >= 10:\n",
    "#     #     torch.save(model.module.state_dict(), f\"./ckpts/resnet18_3d_seg_epoch_{epoch}.pt\")\n"
   ]
  },
  {
   "cell_type": "code",
   "execution_count": null,
   "id": "89431087",
   "metadata": {
    "papermill": {
     "duration": 0.381515,
     "end_time": "2023-04-08T11:20:14.478012",
     "exception": false,
     "start_time": "2023-04-08T11:20:14.096497",
     "status": "completed"
    },
    "tags": []
   },
   "outputs": [],
   "source": []
  }
 ],
 "metadata": {
  "kernelspec": {
   "display_name": "Python 3",
   "language": "python",
   "name": "python3"
  },
  "language_info": {
   "codemirror_mode": {
    "name": "ipython",
    "version": 3
   },
   "file_extension": ".py",
   "mimetype": "text/x-python",
   "name": "python",
   "nbconvert_exporter": "python",
   "pygments_lexer": "ipython3",
   "version": "3.9.16"
  },
  "papermill": {
   "default_parameters": {},
   "duration": 4132.646938,
   "end_time": "2023-04-08T11:20:18.816611",
   "environment_variables": {},
   "exception": null,
   "input_path": "__notebook__.ipynb",
   "output_path": "__notebook__.ipynb",
   "parameters": {},
   "start_time": "2023-04-08T10:11:26.169673",
   "version": "2.4.0"
  }
 },
 "nbformat": 4,
 "nbformat_minor": 5
}
