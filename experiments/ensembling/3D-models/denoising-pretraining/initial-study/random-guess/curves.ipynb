{
 "cells": [
  {
   "cell_type": "code",
   "execution_count": 1,
   "metadata": {},
   "outputs": [
    {
     "data": {
      "text/html": [
       "<div>\n",
       "<style scoped>\n",
       "    .dataframe tbody tr th:only-of-type {\n",
       "        vertical-align: middle;\n",
       "    }\n",
       "\n",
       "    .dataframe tbody tr th {\n",
       "        vertical-align: top;\n",
       "    }\n",
       "\n",
       "    .dataframe thead th {\n",
       "        text-align: right;\n",
       "    }\n",
       "</style>\n",
       "<table border=\"1\" class=\"dataframe\">\n",
       "  <thead>\n",
       "    <tr style=\"text-align: right;\">\n",
       "      <th></th>\n",
       "      <th>epoch</th>\n",
       "      <th>lr</th>\n",
       "      <th>loss_train</th>\n",
       "      <th>loss_val</th>\n",
       "      <th>fbeta_0.20</th>\n",
       "      <th>fbeta_0.25</th>\n",
       "      <th>fbeta_0.30</th>\n",
       "      <th>fbeta_0.35</th>\n",
       "      <th>fbeta_0.40</th>\n",
       "      <th>fbeta_0.45</th>\n",
       "      <th>...</th>\n",
       "      <th>fbeta_0.55</th>\n",
       "      <th>fbeta_0.60</th>\n",
       "      <th>fbeta_0.65</th>\n",
       "      <th>fbeta_0.70</th>\n",
       "      <th>fbeta_0.75</th>\n",
       "      <th>fbeta_0.80</th>\n",
       "      <th>fbeta_0.85</th>\n",
       "      <th>fbeta_0.90</th>\n",
       "      <th>fbeta_0.95</th>\n",
       "      <th>accuracy</th>\n",
       "    </tr>\n",
       "  </thead>\n",
       "  <tbody>\n",
       "    <tr>\n",
       "      <th>0</th>\n",
       "      <td>1</td>\n",
       "      <td>0.000040</td>\n",
       "      <td>0.275464</td>\n",
       "      <td>0.259444</td>\n",
       "      <td>0.137125</td>\n",
       "      <td>0.137125</td>\n",
       "      <td>0.137125</td>\n",
       "      <td>0.137125</td>\n",
       "      <td>0.137146</td>\n",
       "      <td>0.137438</td>\n",
       "      <td>...</td>\n",
       "      <td>0.000400</td>\n",
       "      <td>0.000000</td>\n",
       "      <td>0.000000</td>\n",
       "      <td>0.000000</td>\n",
       "      <td>0.0</td>\n",
       "      <td>0.0</td>\n",
       "      <td>0.0</td>\n",
       "      <td>0.0</td>\n",
       "      <td>0.0</td>\n",
       "      <td>0.497085</td>\n",
       "    </tr>\n",
       "    <tr>\n",
       "      <th>1</th>\n",
       "      <td>2</td>\n",
       "      <td>0.000069</td>\n",
       "      <td>0.253612</td>\n",
       "      <td>0.279695</td>\n",
       "      <td>0.137125</td>\n",
       "      <td>0.137125</td>\n",
       "      <td>0.137125</td>\n",
       "      <td>0.137125</td>\n",
       "      <td>0.137125</td>\n",
       "      <td>0.137136</td>\n",
       "      <td>...</td>\n",
       "      <td>0.059150</td>\n",
       "      <td>0.000087</td>\n",
       "      <td>0.000000</td>\n",
       "      <td>0.000000</td>\n",
       "      <td>0.0</td>\n",
       "      <td>0.0</td>\n",
       "      <td>0.0</td>\n",
       "      <td>0.0</td>\n",
       "      <td>0.0</td>\n",
       "      <td>0.204007</td>\n",
       "    </tr>\n",
       "    <tr>\n",
       "      <th>2</th>\n",
       "      <td>3</td>\n",
       "      <td>0.000152</td>\n",
       "      <td>0.253643</td>\n",
       "      <td>0.331429</td>\n",
       "      <td>0.137125</td>\n",
       "      <td>0.137125</td>\n",
       "      <td>0.137125</td>\n",
       "      <td>0.137125</td>\n",
       "      <td>0.158002</td>\n",
       "      <td>0.183285</td>\n",
       "      <td>...</td>\n",
       "      <td>0.220360</td>\n",
       "      <td>0.030494</td>\n",
       "      <td>0.000007</td>\n",
       "      <td>0.000000</td>\n",
       "      <td>0.0</td>\n",
       "      <td>0.0</td>\n",
       "      <td>0.0</td>\n",
       "      <td>0.0</td>\n",
       "      <td>0.0</td>\n",
       "      <td>0.466977</td>\n",
       "    </tr>\n",
       "    <tr>\n",
       "      <th>3</th>\n",
       "      <td>4</td>\n",
       "      <td>0.000280</td>\n",
       "      <td>0.254350</td>\n",
       "      <td>0.392506</td>\n",
       "      <td>0.137125</td>\n",
       "      <td>0.137125</td>\n",
       "      <td>0.137125</td>\n",
       "      <td>0.137126</td>\n",
       "      <td>0.137127</td>\n",
       "      <td>0.137129</td>\n",
       "      <td>...</td>\n",
       "      <td>0.122943</td>\n",
       "      <td>0.040718</td>\n",
       "      <td>0.043444</td>\n",
       "      <td>0.004865</td>\n",
       "      <td>0.0</td>\n",
       "      <td>0.0</td>\n",
       "      <td>0.0</td>\n",
       "      <td>0.0</td>\n",
       "      <td>0.0</td>\n",
       "      <td>0.191450</td>\n",
       "    </tr>\n",
       "    <tr>\n",
       "      <th>4</th>\n",
       "      <td>5</td>\n",
       "      <td>0.000437</td>\n",
       "      <td>0.258889</td>\n",
       "      <td>0.576937</td>\n",
       "      <td>0.137125</td>\n",
       "      <td>0.137125</td>\n",
       "      <td>0.137125</td>\n",
       "      <td>0.137125</td>\n",
       "      <td>0.137125</td>\n",
       "      <td>0.137125</td>\n",
       "      <td>...</td>\n",
       "      <td>0.000265</td>\n",
       "      <td>0.000000</td>\n",
       "      <td>0.000000</td>\n",
       "      <td>0.000000</td>\n",
       "      <td>0.0</td>\n",
       "      <td>0.0</td>\n",
       "      <td>0.0</td>\n",
       "      <td>0.0</td>\n",
       "      <td>0.0</td>\n",
       "      <td>0.264145</td>\n",
       "    </tr>\n",
       "  </tbody>\n",
       "</table>\n",
       "<p>5 rows × 21 columns</p>\n",
       "</div>"
      ],
      "text/plain": [
       "   epoch        lr  loss_train  loss_val  fbeta_0.20  fbeta_0.25  fbeta_0.30   \n",
       "0      1  0.000040    0.275464  0.259444    0.137125    0.137125    0.137125  \\\n",
       "1      2  0.000069    0.253612  0.279695    0.137125    0.137125    0.137125   \n",
       "2      3  0.000152    0.253643  0.331429    0.137125    0.137125    0.137125   \n",
       "3      4  0.000280    0.254350  0.392506    0.137125    0.137125    0.137125   \n",
       "4      5  0.000437    0.258889  0.576937    0.137125    0.137125    0.137125   \n",
       "\n",
       "   fbeta_0.35  fbeta_0.40  fbeta_0.45  ...  fbeta_0.55  fbeta_0.60   \n",
       "0    0.137125    0.137146    0.137438  ...    0.000400    0.000000  \\\n",
       "1    0.137125    0.137125    0.137136  ...    0.059150    0.000087   \n",
       "2    0.137125    0.158002    0.183285  ...    0.220360    0.030494   \n",
       "3    0.137126    0.137127    0.137129  ...    0.122943    0.040718   \n",
       "4    0.137125    0.137125    0.137125  ...    0.000265    0.000000   \n",
       "\n",
       "   fbeta_0.65  fbeta_0.70  fbeta_0.75  fbeta_0.80  fbeta_0.85  fbeta_0.90   \n",
       "0    0.000000    0.000000         0.0         0.0         0.0         0.0  \\\n",
       "1    0.000000    0.000000         0.0         0.0         0.0         0.0   \n",
       "2    0.000007    0.000000         0.0         0.0         0.0         0.0   \n",
       "3    0.043444    0.004865         0.0         0.0         0.0         0.0   \n",
       "4    0.000000    0.000000         0.0         0.0         0.0         0.0   \n",
       "\n",
       "   fbeta_0.95  accuracy  \n",
       "0         0.0  0.497085  \n",
       "1         0.0  0.204007  \n",
       "2         0.0  0.466977  \n",
       "3         0.0  0.191450  \n",
       "4         0.0  0.264145  \n",
       "\n",
       "[5 rows x 21 columns]"
      ]
     },
     "execution_count": 1,
     "metadata": {},
     "output_type": "execute_result"
    }
   ],
   "source": [
    "import numpy as np\n",
    "import pandas as pd\n",
    "import matplotlib.pyplot as plt\n",
    "\n",
    "df = pd.read_csv(\"resnet34_3d_seg-round-2.csv\")\n",
    "df"
   ]
  },
  {
   "cell_type": "code",
   "execution_count": 2,
   "metadata": {},
   "outputs": [
    {
     "data": {
      "text/plain": [
       "(0.2, 0.3)"
      ]
     },
     "execution_count": 2,
     "metadata": {},
     "output_type": "execute_result"
    },
    {
     "data": {
      "image/png": "[encoded data removed]",
      "text/plain": [
       "<Figure size 640x480 with 1 Axes>"
      ]
     },
     "metadata": {},
     "output_type": "display_data"
    }
   ],
   "source": [
    "plt.plot(df[\"epoch\"], df[\"loss_train\"], label=\"train_loss\")\n",
    "plt.plot(df[\"epoch\"], df[\"loss_val\"], label=\"val_loss\")\n",
    "# plot the moving average of the validation loss\n",
    "# plt.plot(df[\"epoch\"], df[\"loss_train\"].rolling(2).mean(), label=\"val_loss\")\n",
    "\n",
    "plt.legend()\n",
    "plt.ylim(0.2, 0.3)"
   ]
  },
  {
   "cell_type": "code",
   "execution_count": 3,
   "metadata": {},
   "outputs": [
    {
     "name": "stderr",
     "output_type": "stream",
     "text": [
      "100%|██████████| 100000/100000 [00:00<00:00, 464886.03it/s]\n"
     ]
    },
    {
     "data": {
      "image/png": "[encoded data removed]",
      "text/plain": [
       "<Figure size 640x480 with 1 Axes>"
      ]
     },
     "metadata": {},
     "output_type": "display_data"
    }
   ],
   "source": [
    "import numpy as np\n",
    "import matplotlib.pyplot as plt\n",
    "from tqdm import tqdm\n",
    "\n",
    "arr = []\n",
    "for i in tqdm(range(100000)):\n",
    "    noise_sigma = np.random.uniform(0.0, 0.5)\n",
    "    x = np.abs(np.random.randn(1)*noise_sigma)\n",
    "    arr.append(x.item())\n",
    "    \n",
    "# put vertical line at x=0.2\n",
    "plt.axvline(x=0.2, color='r', linestyle='--')\n",
    "plt.axvline(x=0.28, color='r', linestyle='--')\n",
    "    \n",
    "plt.hist(arr, bins=100);"
   ]
  },
  {
   "cell_type": "code",
   "execution_count": 4,
   "metadata": {},
   "outputs": [
    {
     "data": {
      "text/plain": [
       "(0.19892181380182733, 0.20768008964349904)"
      ]
     },
     "execution_count": 4,
     "metadata": {},
     "output_type": "execute_result"
    }
   ],
   "source": [
    "np.average(arr), np.std(arr)"
   ]
  },
  {
   "cell_type": "code",
   "execution_count": 5,
   "metadata": {},
   "outputs": [
    {
     "name": "stderr",
     "output_type": "stream",
     "text": [
      "100%|██████████| 100000/100000 [00:00<00:00, 487469.43it/s]\n",
      "100%|██████████| 100000/100000 [00:00<00:00, 483612.56it/s]\n"
     ]
    }
   ],
   "source": [
    "import numpy as np\n",
    "import matplotlib.pyplot as plt\n",
    "from tqdm import tqdm\n",
    "\n",
    "arr = []\n",
    "for i in tqdm(range(100000)):\n",
    "    noise_sigma = np.random.uniform(0.0, 0.5)\n",
    "    x = np.abs(np.random.randn(1)*noise_sigma)\n",
    "    arr.append(x.item())\n",
    "\n",
    "arr_2 = []\n",
    "for i in tqdm(range(100000)):\n",
    "    noise_sigma = np.random.uniform(0.0, 0.5)\n",
    "    x = np.abs(np.random.randn(1)*noise_sigma)\n",
    "    arr_2.append(x.item())\n",
    "    "
   ]
  },
  {
   "cell_type": "code",
   "execution_count": 6,
   "metadata": {},
   "outputs": [
    {
     "name": "stdout",
     "output_type": "stream",
     "text": [
      "0.08302713023045816 0.17410268917800698\n"
     ]
    },
    {
     "data": {
      "text/plain": [
       "(0.0, 1.0)"
      ]
     },
     "execution_count": 6,
     "metadata": {},
     "output_type": "execute_result"
    },
    {
     "data": {
      "image/png": "[encoded data removed]",
      "text/plain": [
       "<Figure size 640x480 with 1 Axes>"
      ]
     },
     "metadata": {},
     "output_type": "display_data"
    }
   ],
   "source": [
    "x = (np.array(arr) - 0)**2\n",
    "\n",
    "\n",
    "print(np.average(x), np.std(x))\n",
    "plt.hist(np.abs(x), bins=100);\n",
    "plt.xlim(0, 1)"
   ]
  },
  {
   "cell_type": "code",
   "execution_count": 7,
   "metadata": {},
   "outputs": [
    {
     "data": {
      "text/plain": [
       "0.2944128894063991"
      ]
     },
     "execution_count": 7,
     "metadata": {},
     "output_type": "execute_result"
    }
   ],
   "source": [
    "x = (np.array(arr) - np.array(arr_2))\n",
    "np.sqrt(np.average(x**2))"
   ]
  }
 ],
 "metadata": {
  "kernelspec": {
   "display_name": "torch-env",
   "language": "python",
   "name": "python3"
  },
  "language_info": {
   "codemirror_mode": {
    "name": "ipython",
    "version": 3
   },
   "file_extension": ".py",
   "mimetype": "text/x-python",
   "name": "python",
   "nbconvert_exporter": "python",
   "pygments_lexer": "ipython3",
   "version": "3.9.16"
  },
  "orig_nbformat": 4
 },
 "nbformat": 4,
 "nbformat_minor": 2
}
