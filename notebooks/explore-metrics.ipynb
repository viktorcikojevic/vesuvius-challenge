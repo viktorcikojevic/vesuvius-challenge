{
 "cells": [
  {
   "cell_type": "code",
   "execution_count": 68,
   "metadata": {},
   "outputs": [],
   "source": [
    "import numpy as np\n",
    "\n",
    "\n",
    "# ref - https://www.kaggle.com/competitions/vesuvius-challenge-ink-detection/discussion/397288\n",
    "def fbeta_score(y_pred, y_true, beta=0.5, smooth=1e-5):\n",
    "    \n",
    "    y_true_count = np.sum(y_true)\n",
    "    \n",
    "    ctp = np.sum(y_pred * y_true)\n",
    "    cfp = np.sum(y_pred * (1 - y_true))\n",
    "    # False negatives\n",
    "    cfm = np.sum((1 - y_pred) * y_true)\n",
    "    beta_squared = beta * beta\n",
    "\n",
    "    c_precision = ctp / (ctp + cfp + smooth)\n",
    "    c_recall = ctp / (ctp + cfm + smooth)\n",
    "    fbeta = (1 + beta_squared) * (c_precision * c_recall) / (beta_squared * c_precision + c_recall + smooth)\n",
    "\n",
    "    return fbeta"
   ]
  },
  {
   "cell_type": "code",
   "execution_count": null,
   "metadata": {},
   "outputs": [],
   "source": []
  },
  {
   "cell_type": "code",
   "execution_count": 69,
   "metadata": {},
   "outputs": [],
   "source": [
    "n_el = 1000\n",
    "fbetas = []\n",
    "bces = []\n",
    "focals = []\n",
    "for indx in range(n_el):\n",
    "    y_pred = np.array([0] * (n_el-indx) + [1] * indx)\n",
    "    y_true = np.array([0] * (800) + [1] * (200))\n",
    "\n",
    "    fbeta = fbeta_score(y_pred, y_true, beta=0.5, smooth=1e-5)\n",
    "    fbetas.append(fbeta)\n",
    "    \n",
    "    # calculate bce loss\n",
    "    weights = [1, 2]\n",
    "    bce = -1 * (weights[1] * y_true * np.log(y_pred + 1e-5) + weights[0] * (1 - y_true) * np.log(1 - y_pred + 1e-5))\n",
    "    bce = np.mean(bce)\n",
    "    bces.append(-bce)\n",
    "    \n",
    "    # calculate the focal loss\n",
    "    gamma = 2\n",
    "    alpha = 0.35\n",
    "    focal = -1 * (alpha * (1 - y_pred) ** gamma * y_true * np.log(y_pred + 1e-5) + (1 - alpha) * y_pred ** gamma * (1 - y_true) * np.log(1 - y_pred + 1e-5))\n",
    "    focal = np.mean(-focal)\n",
    "    focals.append(focal)\n",
    "    "
   ]
  },
  {
   "cell_type": "code",
   "execution_count": 70,
   "metadata": {},
   "outputs": [
    {
     "name": "stdout",
     "output_type": "stream",
     "text": [
      "0.44544544544544545 1.3163163163163163\n"
     ]
    },
    {
     "name": "stderr",
     "output_type": "stream",
     "text": [
      "/tmp/ipykernel_689737/1980310074.py:8: UserWarning: color is redundantly defined by the 'color' keyword argument and the fmt string \"k-\" (-> color='k'). The keyword argument will take precedence.\n",
      "  plt.plot([0, 1], [0.8, 0.8], 'k-', lw=1, color='red')\n",
      "/tmp/ipykernel_689737/1980310074.py:17: UserWarning: color is redundantly defined by the 'color' keyword argument and the fmt string \"k-\" (-> color='k'). The keyword argument will take precedence.\n",
      "  plt.plot([x[indx], x[indx]], [0, 1], 'k-', lw=1, color='red')\n",
      "/tmp/ipykernel_689737/1980310074.py:19: UserWarning: color is redundantly defined by the 'color' keyword argument and the fmt string \"k-\" (-> color='k'). The keyword argument will take precedence.\n",
      "  plt.plot([x[indx_3], x[indx_3]], [0, 1], 'k-', lw=1, color='red')\n"
     ]
    },
    {
     "data": {
      "image/png": "[encoded data removed]",
      "text/plain": [
       "<Figure size 640x480 with 1 Axes>"
      ]
     },
     "metadata": {},
     "output_type": "display_data"
    }
   ],
   "source": [
    "import matplotlib.pyplot as plt\n",
    "\n",
    "x = np.arange(0, len(fbetas))\n",
    "x = x/np.max(x)\n",
    "plt.plot(x, fbetas)\n",
    "\n",
    "# put horizontal line at 0.8\n",
    "plt.plot([0, 1], [0.8, 0.8], 'k-', lw=1, color='red')\n",
    "\n",
    "# find where fbetas=0.8\n",
    "indx = np.where(np.array(fbetas) > 0.8)[0][0]\n",
    "# indx_2 = np.where(np.array(fbetas) > 0.7)[0][0]\n",
    "# find where fbetas=0.8 and x> 0.2\n",
    "indx_3 = np.where((np.array(fbetas) < 0.8) & (x>0.2))[0][0]\n",
    "\n",
    "# put vertical line at indx\n",
    "plt.plot([x[indx], x[indx]], [0, 1], 'k-', lw=1, color='red')\n",
    "# plt.plot([x[indx_2], x[indx_2]], [0, 1], 'k-', lw=1, color='red')\n",
    "plt.plot([x[indx_3], x[indx_3]], [0, 1], 'k-', lw=1, color='red')\n",
    "\n",
    "# print the value of x[indx]\n",
    "print(x[indx]/0.2, x[indx_3]/0.2)\n",
    "\n",
    "# if you predict 45% of the y_true=1 pixels, and rest of all pixels as 0, you get fbeta=0.8\n",
    "# if you predict 100% of the y_true=1 pixels, but you fail 32% of the y_true=0 pixels, you get fbeta=0.8"
   ]
  },
  {
   "cell_type": "code",
   "execution_count": 71,
   "metadata": {},
   "outputs": [
    {
     "data": {
      "text/plain": [
       "0.7291544381367667"
      ]
     },
     "execution_count": 71,
     "metadata": {},
     "output_type": "execute_result"
    }
   ],
   "source": [
    "y_pred = np.array([0] * (800) + [1] * 70 + [0] * 130)\n",
    "y_true = np.array([0] * (800) + [1] * (200))\n",
    "\n",
    "fbeta_score(y_pred, y_true, beta=0.5, smooth=1e-5)"
   ]
  },
  {
   "cell_type": "code",
   "execution_count": 72,
   "metadata": {},
   "outputs": [
    {
     "data": {
      "text/plain": [
       "0.7692188611290212"
      ]
     },
     "execution_count": 72,
     "metadata": {},
     "output_type": "execute_result"
    }
   ],
   "source": [
    "y_pred = np.array([0] * (800) + [1] * 80 + [0] * 120)\n",
    "y_true = np.array([0] * (800) + [1] * (200))\n",
    "\n",
    "fbeta_score(y_pred, y_true, beta=0.5, smooth=1e-5)"
   ]
  },
  {
   "cell_type": "code",
   "execution_count": 73,
   "metadata": {},
   "outputs": [
    {
     "data": {
      "text/plain": [
       "0.8035598773963416"
      ]
     },
     "execution_count": 73,
     "metadata": {},
     "output_type": "execute_result"
    }
   ],
   "source": [
    "y_pred = np.array([0] * (800) + [1] * 90 + [0] * 110)\n",
    "y_true = np.array([0] * (800) + [1] * (200))\n",
    "\n",
    "fbeta_score(y_pred, y_true, beta=0.5, smooth=1e-5)"
   ]
  },
  {
   "cell_type": "code",
   "execution_count": 74,
   "metadata": {},
   "outputs": [
    {
     "data": {
      "text/plain": [
       "0.8333221529261149"
      ]
     },
     "execution_count": 74,
     "metadata": {},
     "output_type": "execute_result"
    }
   ],
   "source": [
    "y_pred = np.array([0] * (800) + [1] * 100 + [0] * 100)\n",
    "y_true = np.array([0] * (800) + [1] * (200))\n",
    "\n",
    "fbeta_score(y_pred, y_true, beta=0.5, smooth=1e-5)"
   ]
  },
  {
   "cell_type": "code",
   "execution_count": 75,
   "metadata": {},
   "outputs": [
    {
     "data": {
      "text/plain": [
       "0.714274171103064"
      ]
     },
     "execution_count": 75,
     "metadata": {},
     "output_type": "execute_result"
    }
   ],
   "source": [
    "y_pred = np.array([0] * (790) + [1]*10 + [1] * 80 + [0] * 120)\n",
    "y_true = np.array([0] * (800) + [1] * (200))\n",
    "\n",
    "fbeta_score(y_pred, y_true, beta=0.5, smooth=1e-5)"
   ]
  },
  {
   "attachments": {},
   "cell_type": "markdown",
   "metadata": {},
   "source": [
    "Best case scenario: all positive pixels are correct"
   ]
  },
  {
   "cell_type": "code",
   "execution_count": 76,
   "metadata": {},
   "outputs": [
    {
     "data": {
      "text/plain": [
       "0.6249874221250049"
      ]
     },
     "execution_count": 76,
     "metadata": {},
     "output_type": "execute_result"
    }
   ],
   "source": [
    "# 5% of 1000 = 50\n",
    "\n",
    "y_pred = np.array([0] * (800) + [1] * 50 + [0] * 150)\n",
    "y_true = np.array([0] * (800) + [1] * (200))\n",
    "\n",
    "fbeta_score(y_pred, y_true, beta=0.5, smooth=1e-5)"
   ]
  },
  {
   "attachments": {},
   "cell_type": "markdown",
   "metadata": {},
   "source": [
    "What probably happened at the LB"
   ]
  },
  {
   "cell_type": "code",
   "execution_count": 87,
   "metadata": {},
   "outputs": [
    {
     "data": {
      "text/plain": [
       "0.46873820829995533"
      ]
     },
     "execution_count": 87,
     "metadata": {},
     "output_type": "execute_result"
    }
   ],
   "source": [
    "# 5% of 1000 = 50\n",
    "\n",
    "y_pred = np.array([0] * (800)+ [1] * 30 + [0] * 170)\n",
    "y_true = np.array([0] * (800) + [1] * (200))\n",
    "\n",
    "fbeta_score(y_pred, y_true, beta=0.5, smooth=1e-5)"
   ]
  },
  {
   "attachments": {},
   "cell_type": "markdown",
   "metadata": {},
   "source": [
    "Best case scenario: all positive pixels are correct"
   ]
  },
  {
   "cell_type": "code",
   "execution_count": 78,
   "metadata": {},
   "outputs": [
    {
     "data": {
      "text/plain": [
       "0.9374905665000808"
      ]
     },
     "execution_count": 78,
     "metadata": {},
     "output_type": "execute_result"
    }
   ],
   "source": [
    "# 15% of 1000 = 150\n",
    "\n",
    "y_pred = np.array([0] * (800) + [1] * 150 + [0] * 50)\n",
    "y_true = np.array([0] * (800) + [1] * (200))\n",
    "\n",
    "fbeta_score(y_pred, y_true, beta=0.5, smooth=1e-5)"
   ]
  },
  {
   "attachments": {},
   "cell_type": "markdown",
   "metadata": {},
   "source": [
    "What could happen at the LB if I maintain the ratio of true_positive/false_positive as before"
   ]
  },
  {
   "cell_type": "code",
   "execution_count": 83,
   "metadata": {},
   "outputs": [
    {
     "data": {
      "text/plain": [
       "0.2812406077344438"
      ]
     },
     "execution_count": 83,
     "metadata": {},
     "output_type": "execute_result"
    }
   ],
   "source": [
    "# 15% of 1000 = 150\n",
    "\n",
    "y_pred = np.array([0] * (695) + [1]*105 + [1] * 45 + [0] * 155)\n",
    "y_true = np.array([0] * (800) + [1] * (200))\n",
    "\n",
    "fbeta_score(y_pred, y_true, beta=0.5, smooth=1e-5)"
   ]
  },
  {
   "cell_type": "code",
   "execution_count": 65,
   "metadata": {},
   "outputs": [
    {
     "data": {
      "text/plain": [
       "0.749990578242267"
      ]
     },
     "execution_count": 65,
     "metadata": {},
     "output_type": "execute_result"
    }
   ],
   "source": [
    "# 15% of 1000 = 50\n",
    "\n",
    "y_pred = np.array([0] * (770) + [1]*30 + [1] * 120 + [0] * 80)\n",
    "y_true = np.array([0] * (800) + [1] * (200))\n",
    "\n",
    "# shuffle both arrays simultaneously    \n",
    "from sklearn.utils import shuffle\n",
    "y_pred, y_true = shuffle(y_pred, y_true)\n",
    "\n",
    "fbeta_score(y_pred, y_true, beta=0.5, smooth=1e-5)"
   ]
  },
  {
   "cell_type": "code",
   "execution_count": 84,
   "metadata": {},
   "outputs": [
    {
     "data": {
      "text/plain": [
       "0.3571325895752947"
      ]
     },
     "execution_count": 84,
     "metadata": {},
     "output_type": "execute_result"
    }
   ],
   "source": [
    "# 2% of 1000 = 20\n",
    "\n",
    "y_pred = np.array([0] * (800) + [1] * 20 + [0] * 180)\n",
    "y_true = np.array([0] * (800) + [1] * (200))\n",
    "\n",
    "fbeta_score(y_pred, y_true, beta=0.5, smooth=1e-5)"
   ]
  },
  {
   "cell_type": "code",
   "execution_count": 35,
   "metadata": {},
   "outputs": [
    {
     "data": {
      "text/plain": [
       "0.8035598773963416"
      ]
     },
     "execution_count": 35,
     "metadata": {},
     "output_type": "execute_result"
    }
   ],
   "source": []
  },
  {
   "cell_type": "code",
   "execution_count": 9,
   "metadata": {},
   "outputs": [
    {
     "data": {
      "text/plain": [
       "[<matplotlib.lines.Line2D at 0x7f33128beb80>]"
      ]
     },
     "execution_count": 9,
     "metadata": {},
     "output_type": "execute_result"
    },
    {
     "data": {
      "image/png": "[encoded data removed]",
      "text/plain": [
       "<Figure size 640x480 with 1 Axes>"
      ]
     },
     "metadata": {},
     "output_type": "display_data"
    }
   ],
   "source": [
    "import matplotlib.pyplot as plt\n",
    "\n",
    "plt.plot(fbetas)\n",
    "\n",
    "# rescale bces to be between 0 and 1\n",
    "bces = (bces - np.min(bces)) / (np.max(bces) - np.min(bces))\n",
    "plt.plot(bces)\n",
    "\n",
    "\n",
    "# rescale focals to be between 0 and 1\n",
    "focals = (focals - np.min(focals)) / (np.max(focals) - np.min(focals))\n",
    "x = np.arange(0, len(focals))\n",
    "plt.plot(x, focals)"
   ]
  },
  {
   "cell_type": "code",
   "execution_count": 5,
   "metadata": {},
   "outputs": [],
   "source": [
    "n_el = 256\n",
    "fbetas_2 = []\n",
    "bces = []\n",
    "focals = []\n",
    "for indx in range(n_el):\n",
    "    y_pred = np.array([0] * (n_el-indx) + [1] * indx)\n",
    "    y_true = np.array([0] * (n_el//2) + [1] * (n_el//2))\n",
    "    \n",
    "    random_indices = np.arange(0, n_el-indx)\n",
    "    random_indices = np.random.choice(random_indices, size=(n_el-indx)//2, replace=False)\n",
    "    y_pred[random_indices] = 1\n",
    "    \n",
    "    \n",
    "\n",
    "    fbeta = fbeta_score(y_pred, y_true, beta=0.5, smooth=1e-5)\n",
    "    fbetas_2.append(fbeta)\n",
    "    \n",
    "    # calculate bce loss\n",
    "    weights = [1, 2]\n",
    "    bce = -1 * (weights[1] * y_true * np.log(y_pred + 1e-5) + weights[0] * (1 - y_true) * np.log(1 - y_pred + 1e-5))\n",
    "    bce = np.mean(bce)\n",
    "    bces.append(-bce)\n",
    "    \n",
    "    # calculate the focal loss\n",
    "    gamma = 2\n",
    "    alpha = 0.35\n",
    "    focal = -1 * (alpha * (1 - y_pred) ** gamma * y_true * np.log(y_pred + 1e-5) + (1 - alpha) * y_pred ** gamma * (1 - y_true) * np.log(1 - y_pred + 1e-5))\n",
    "    focal = np.mean(-focal)\n",
    "    focals.append(focal)\n",
    "    "
   ]
  },
  {
   "cell_type": "code",
   "execution_count": 6,
   "metadata": {},
   "outputs": [
    {
     "data": {
      "text/plain": [
       "[<matplotlib.lines.Line2D at 0x7f3312945610>]"
      ]
     },
     "execution_count": 6,
     "metadata": {},
     "output_type": "execute_result"
    },
    {
     "data": {
      "image/png": "[encoded data removed]",
      "text/plain": [
       "<Figure size 640x480 with 1 Axes>"
      ]
     },
     "metadata": {},
     "output_type": "display_data"
    }
   ],
   "source": [
    "import matplotlib.pyplot as plt\n",
    "\n",
    "plt.plot(fbetas)\n",
    "plt.plot(fbetas_2)\n",
    "\n"
   ]
  },
  {
   "cell_type": "code",
   "execution_count": 7,
   "metadata": {},
   "outputs": [
    {
     "data": {
      "text/plain": [
       "0.8333219445934241"
      ]
     },
     "execution_count": 7,
     "metadata": {},
     "output_type": "execute_result"
    }
   ],
   "source": [
    "correct = [1] * 25 + [0] * 25\n",
    "y_pred = np.array([0] * 50 + correct)\n",
    "y_true = np.array([0] * 25 + [1] * 25 + correct)\n",
    "fbeta = fbeta_score(y_pred, y_true, beta=0.5, smooth=1e-5)\n",
    "fbeta"
   ]
  },
  {
   "cell_type": "code",
   "execution_count": 8,
   "metadata": {},
   "outputs": [
    {
     "data": {
      "text/plain": [
       "0.791128174719995"
      ]
     },
     "execution_count": 8,
     "metadata": {},
     "output_type": "execute_result"
    }
   ],
   "source": [
    "correct = [1] * 25 + [0] * 25\n",
    "\n",
    "\n",
    "x = np.array([0] * 50)\n",
    "# put 1 and 10 random places\n",
    "random_indices = np.arange(0, 50)\n",
    "random_indices = np.random.choice(random_indices, size=2, replace=False)\n",
    "x[random_indices] = 1\n",
    "\n",
    "\n",
    "y_pred = np.concatenate([x, correct])\n",
    "y_true = np.concatenate([np.array([0] * 25 + [1] * 25),  correct])\n",
    "fbeta = fbeta_score(y_pred, y_true, beta=0.5, smooth=1e-5)\n",
    "fbeta"
   ]
  },
  {
   "attachments": {},
   "cell_type": "markdown",
   "metadata": {},
   "source": [
    "OK, so fbeta values more if you have correct 0, than if you have correct 1. What loss function can simulate this?"
   ]
  }
 ],
 "metadata": {
  "kernelspec": {
   "display_name": "torch-env",
   "language": "python",
   "name": "python3"
  },
  "language_info": {
   "codemirror_mode": {
    "name": "ipython",
    "version": 3
   },
   "file_extension": ".py",
   "mimetype": "text/x-python",
   "name": "python",
   "nbconvert_exporter": "python",
   "pygments_lexer": "ipython3",
   "version": "3.9.16"
  },
  "orig_nbformat": 4
 },
 "nbformat": 4,
 "nbformat_minor": 2
}
