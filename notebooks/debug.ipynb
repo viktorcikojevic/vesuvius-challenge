{
 "cells": [
  {
   "cell_type": "code",
   "execution_count": 1,
   "metadata": {},
   "outputs": [],
   "source": [
    "import os\n",
    "import numpy as np\n",
    "import tifffile\n",
    "\n",
    "def load_into_3d_array(folder_path, z_start, z_end, new_img_size=3000):\n",
    "    # Initialize an empty list to hold 2D image slices\n",
    "    slices = []\n",
    "    \n",
    "    # Sort the files to load them in order\n",
    "    files = sorted(os.listdir(folder_path))\n",
    "    \n",
    "    # Load first one and check the shape\n",
    "    filepath = os.path.join(folder_path, files[z_start])\n",
    "    img_slice = tifffile.imread(filepath)\n",
    "    \n",
    "    new_img_size = 3000\n",
    "    img_size_x, img_size_y = img_slice.shape\n",
    "    random_offset_x = np.random.randint(0, img_size_x - new_img_size)\n",
    "    random_offset_y = np.random.randint(0, img_size_y - new_img_size)\n",
    "    slices = [img_slice[random_offset_x:random_offset_x+new_img_size, random_offset_y:random_offset_y+new_img_size]]\n",
    "    \n",
    "    for file in files[z_start+1:z_end]:\n",
    "        if file.endswith('.tif'):\n",
    "            filepath = os.path.join(folder_path, file)\n",
    "            \n",
    "            # Read a .tif image file\n",
    "            img_slice = tifffile.imread(filepath)[random_offset_x:random_offset_x+new_img_size, random_offset_y:random_offset_y+new_img_size]\n",
    "            \n",
    "            # Append to list\n",
    "            slices.append(img_slice)\n",
    "            \n",
    "    # Stack along a new third dimension to make a 3D array\n",
    "    stack = np.stack(slices, axis=2)\n",
    "    \n",
    "    return stack\n"
   ]
  },
  {
   "cell_type": "code",
   "execution_count": 2,
   "metadata": {},
   "outputs": [
    {
     "name": "stdout",
     "output_type": "stream",
     "text": [
      "494 ms ± 14.3 ms per loop (mean ± std. dev. of 7 runs, 1 loop each)\n"
     ]
    }
   ],
   "source": [
    "\n",
    "# Usage\n",
    "folder_path = '/home/viktor/Documents/kaggle/vesuvius-challenge/data/kaggle-data/train/1/surface_volume'  # Replace with the path to your 'surface_volume' folder\n",
    "%timeit three_d_array = load_into_3d_array(folder_path, z_start=8, z_end=18) # ~ 500ms per loop\n"
   ]
  },
  {
   "cell_type": "code",
   "execution_count": 8,
   "metadata": {},
   "outputs": [
    {
     "name": "stderr",
     "output_type": "stream",
     "text": [
      "/tmp/ipykernel_3778569/3872868104.py:13: DeprecationWarning: Starting with ImageIO v3 the behavior of this function will switch to that of iio.v3.imread. To keep the current behavior (and make this warning disappear) use `import imageio.v2 as imageio` or call `imageio.v2.imread` directly.\n",
      "  mask_data = imageio.imread(mask_path)\n"
     ]
    },
    {
     "name": "stdout",
     "output_type": "stream",
     "text": [
      "Processing 00.tif\n",
      "Processing 01.tif\n",
      "Processing 02.tif\n",
      "Processing 03.tif\n",
      "Processing 04.tif\n",
      "Processing 05.tif\n",
      "Processing 06.tif\n",
      "Processing 07.tif\n",
      "Processing 08.tif\n",
      "Processing 09.tif\n",
      "Processing 10.tif\n",
      "Processing 11.tif\n",
      "Processing 12.tif\n",
      "Processing 13.tif\n",
      "Processing 14.tif\n",
      "Processing 15.tif\n",
      "Processing 16.tif\n",
      "Processing 17.tif\n",
      "Processing 18.tif\n",
      "Processing 19.tif\n",
      "Processing 20.tif\n",
      "Processing 21.tif\n",
      "Processing 22.tif\n",
      "Processing 23.tif\n",
      "Processing 24.tif\n",
      "Processing 25.tif\n",
      "Processing 26.tif\n",
      "Processing 27.tif\n",
      "Processing 28.tif\n",
      "Processing 29.tif\n",
      "Processing 30.tif\n",
      "Processing 31.tif\n",
      "Processing 32.tif\n",
      "Processing 33.tif\n",
      "Processing 34.tif\n",
      "Processing 35.tif\n",
      "Processing 36.tif\n",
      "Processing 37.tif\n",
      "Processing 38.tif\n",
      "Processing 39.tif\n",
      "Processing 40.tif\n",
      "Processing 41.tif\n",
      "Processing 42.tif\n",
      "Processing 43.tif\n",
      "Processing 44.tif\n",
      "Processing 45.tif\n",
      "Processing 46.tif\n",
      "Processing 47.tif\n",
      "Processing 48.tif\n",
      "Processing 49.tif\n",
      "Processing 50.tif\n",
      "Processing 51.tif\n",
      "Processing 52.tif\n",
      "Processing 53.tif\n",
      "Processing 54.tif\n",
      "Processing 55.tif\n",
      "Processing 56.tif\n",
      "Processing 57.tif\n",
      "Processing 58.tif\n",
      "Processing 59.tif\n",
      "Processing 60.tif\n",
      "Processing 61.tif\n",
      "Processing 62.tif\n",
      "Processing 63.tif\n",
      "Processing 64.tif\n",
      "Zarr file output.zarr has been created with datasets .volume and .truth\n"
     ]
    }
   ],
   "source": [
    "import os\n",
    "import zarr\n",
    "import tifffile\n",
    "import numpy as np\n",
    "import imageio\n",
    "\n",
    "# Path to your TIFF files and mask\n",
    "root_dir = \"/home/viktor/Documents/kaggle/vesuvius-challenge/data/kaggle-data/train/1\"\n",
    "tif_folder = f\"{root_dir}/surface_volume\"\n",
    "mask_path = f\"{root_dir}/mask.png\"\n",
    "\n",
    "# Read mask image\n",
    "mask_data = imageio.imread(mask_path)\n",
    "\n",
    "# Initialize the Zarr file\n",
    "zarr_file = \"output.zarr\"\n",
    "root = zarr.open_group(zarr_file, mode='w')\n",
    "\n",
    "# Create 3D Zarr array for volume\n",
    "first_tif = tifffile.imread(os.path.join(tif_folder, \"00.tif\"))\n",
    "z_shape, y_shape, x_shape = len(os.listdir(tif_folder)), first_tif.shape[0], first_tif.shape[1]\n",
    "volume = root.create_dataset(\"volume\", shape=(z_shape, y_shape, x_shape), chunks=(1, y_shape, x_shape), dtype=first_tif.dtype)\n",
    "\n",
    "# Create 2D Zarr array for truth (mask)\n",
    "truth = root.create_dataset(\"truth\", shape=mask_data.shape, chunks=mask_data.shape, dtype=mask_data.dtype)\n",
    "truth[:] = mask_data  # Write mask data to Zarr array\n",
    "\n",
    "# Read each TIFF file and write to Zarr array\n",
    "print(f\"Reading TIFF files\")\n",
    "for i, filename in enumerate(sorted(os.listdir(tif_folder))):\n",
    "    if filename.endswith(\".tif\"):\n",
    "        tif_path = os.path.join(tif_folder, filename)\n",
    "        tif_data = tifffile.imread(tif_path)\n",
    "        \n",
    "        # Make sure to validate the shape and dtype of each TIFF if needed\n",
    "        assert tif_data.shape == (y_shape, x_shape)\n",
    "        assert tif_data.dtype == first_tif.dtype\n",
    "        \n",
    "        # Write the TIFF data to the Zarr array\n",
    "        volume[i, :, :] = tif_data\n",
    "\n",
    "print(f\"Zarr file {zarr_file} has been created with datasets .volume and .truth\")\n"
   ]
  },
  {
   "cell_type": "code",
   "execution_count": 14,
   "metadata": {},
   "outputs": [
    {
     "data": {
      "text/plain": [
       "array([0, 0, 0, 0, 0, 0, 0, 0, 0, 0], dtype=uint16)"
      ]
     },
     "execution_count": 14,
     "metadata": {},
     "output_type": "execute_result"
    }
   ],
   "source": [
    "root.volume[0, 0:10, 0]"
   ]
  },
  {
   "cell_type": "code",
   "execution_count": 9,
   "metadata": {},
   "outputs": [
    {
     "ename": "NameError",
     "evalue": "name 'output' is not defined",
     "output_type": "error",
     "traceback": [
      "\u001b[0;31m---------------------------------------------------------------------------\u001b[0m",
      "\u001b[0;31mNameError\u001b[0m                                 Traceback (most recent call last)",
      "\u001b[1;32m/home/viktor/Documents/kaggle/vesuvius-challenge/notebooks/efficient-data-loading.ipynb Cell 4\u001b[0m line \u001b[0;36m1\n\u001b[0;32m----> <a href='vscode-notebook-cell://ssh-remote%2B192.168.0.13/home/viktor/Documents/kaggle/vesuvius-challenge/notebooks/efficient-data-loading.ipynb#W3sdnNjb2RlLXJlbW90ZQ%3D%3D?line=0'>1</a>\u001b[0m output\u001b[39m.\u001b[39mvolume\n",
      "\u001b[0;31mNameError\u001b[0m: name 'output' is not defined"
     ]
    }
   ],
   "source": [
    "output.volume"
   ]
  },
  {
   "cell_type": "code",
   "execution_count": 10,
   "metadata": {},
   "outputs": [
    {
     "ename": "PathNotFoundError",
     "evalue": "nothing found at path ''",
     "output_type": "error",
     "traceback": [
      "\u001b[0;31m---------------------------------------------------------------------------\u001b[0m",
      "\u001b[0;31mPathNotFoundError\u001b[0m                         Traceback (most recent call last)",
      "\u001b[1;32m/home/viktor/Documents/kaggle/vesuvius-challenge/notebooks/efficient-data-loading.ipynb Cell 5\u001b[0m line \u001b[0;36m1\n\u001b[0;32m----> <a href='vscode-notebook-cell://ssh-remote%2B192.168.0.13/home/viktor/Documents/kaggle/vesuvius-challenge/notebooks/efficient-data-loading.ipynb#W4sdnNjb2RlLXJlbW90ZQ%3D%3D?line=0'>1</a>\u001b[0m x \u001b[39m=\u001b[39m zarr\u001b[39m.\u001b[39;49mopen(\u001b[39m\"\u001b[39;49m\u001b[39m/home/viktor/Documents/kaggle/vesuvius-challenge/kaggle-data/train-1.zarr\u001b[39;49m\u001b[39m\"\u001b[39;49m, mode\u001b[39m=\u001b[39;49m\u001b[39m\"\u001b[39;49m\u001b[39mr\u001b[39;49m\u001b[39m\"\u001b[39;49m)\n",
      "File \u001b[0;32m~/miniconda3/envs/torch-env/lib/python3.9/site-packages/zarr/convenience.py:122\u001b[0m, in \u001b[0;36mopen\u001b[0;34m(store, mode, zarr_version, path, **kwargs)\u001b[0m\n\u001b[1;32m    120\u001b[0m     \u001b[39mreturn\u001b[39;00m open_group(_store, mode\u001b[39m=\u001b[39mmode, \u001b[39m*\u001b[39m\u001b[39m*\u001b[39mkwargs)\n\u001b[1;32m    121\u001b[0m \u001b[39melse\u001b[39;00m:\n\u001b[0;32m--> 122\u001b[0m     \u001b[39mraise\u001b[39;00m PathNotFoundError(path)\n",
      "\u001b[0;31mPathNotFoundError\u001b[0m: nothing found at path ''"
     ]
    }
   ],
   "source": [
    "x = zarr.open(\"/home/viktor/Documents/kaggle/vesuvius-challenge/kaggle-data/train-1.zarr\", mode=\"r\")"
   ]
  },
  {
   "cell_type": "code",
   "execution_count": null,
   "metadata": {},
   "outputs": [],
   "source": []
  },
  {
   "cell_type": "code",
   "execution_count": 1,
   "metadata": {},
   "outputs": [],
   "source": [
    "from typing import *\n",
    "import albumentations as A\n",
    "from albumentations.pytorch import ToTensorV2\n",
    "from torch.utils.data import DataLoader\n",
    "import os\n",
    "import zarr\n",
    "import tifffile\n",
    "import imageio\n",
    "import numpy as np\n",
    "from tqdm import tqdm\n",
    "\n",
    "\n",
    "def get_zarr_file(folder: str, z_start: int = 0, z_end: int = None) -> zarr.core.Array:\n",
    "    \"\"\"\n",
    "    Create an in-memory Zarr store from a given folder.\n",
    "    zarr .volume is uint16, mask and label are uint8\n",
    "    \"\"\"\n",
    "\n",
    "    # Paths to TIFF, mask, and labels\n",
    "    tif_folder = f\"{folder}/surface_volume\"\n",
    "    mask_path = f\"{folder}/mask.png\"\n",
    "    label_path = f\"{folder}/inklabels.png\" if os.path.exists(f\"{folder}/inklabels.png\") else None\n",
    "\n",
    "    # Read mask and labels\n",
    "    mask_data = imageio.imread(mask_path, pilmode='L')\n",
    "    label_data = imageio.imread(label_path, pilmode='L') if label_path else None\n",
    "\n",
    "\n",
    "    # Initialize in-memory Zarr store\n",
    "    store = zarr.MemoryStore()\n",
    "    root = zarr.group(store=store)\n",
    "\n",
    "    # Create Zarr array for mask\n",
    "    mask_zarr = root.create_dataset(\"mask\", shape=mask_data.shape, chunks=mask_data.shape, dtype=mask_data.dtype)\n",
    "    mask_zarr[:] = mask_data\n",
    "\n",
    "    # Create Zarr array for label if it exists\n",
    "    if label_data is not None:\n",
    "        label_zarr = root.create_dataset(\"label\", shape=label_data.shape, chunks=label_data.shape, dtype=label_data.dtype)\n",
    "        label_zarr[:] = label_data\n",
    "\n",
    "    # Get list of TIFF files and apply slicing\n",
    "    tif_files = sorted([f for f in os.listdir(tif_folder) if f.endswith('.tif')])[z_start:z_end]\n",
    "\n",
    "    # Read first TIFF to determine shape and dtype\n",
    "    first_tif_path = os.path.join(tif_folder, tif_files[0])\n",
    "    first_tif = tifffile.imread(first_tif_path)\n",
    "\n",
    "    # Create 3D Zarr array for volume\n",
    "    z_shape, y_shape, x_shape = len(tif_files), first_tif.shape[0], first_tif.shape[1]\n",
    "    volume = root.create_dataset(\"volume\", shape=(z_shape, y_shape, x_shape), chunks=(1, y_shape, x_shape), dtype=first_tif.dtype)\n",
    "\n",
    "    # Read each TIFF file and write to Zarr array\n",
    "    print(f\"Reading TIFF files from folder {tif_folder}\")\n",
    "    for i, filename in tqdm(enumerate(tif_files), total=z_shape):\n",
    "        tif_path = os.path.join(tif_folder, filename)\n",
    "        tif_data = tifffile.imread(tif_path)\n",
    "\n",
    "        # Make sure to validate the shape and dtype of each TIFF if needed\n",
    "        assert tif_data.shape == (y_shape, x_shape)\n",
    "        assert tif_data.dtype == first_tif.dtype\n",
    "\n",
    "        # Write the TIFF data to the Zarr array\n",
    "        volume[i, :, :] = tif_data\n",
    "\n",
    "    return root"
   ]
  },
  {
   "cell_type": "code",
   "execution_count": 2,
   "metadata": {},
   "outputs": [
    {
     "name": "stderr",
     "output_type": "stream",
     "text": [
      "/tmp/ipykernel_4055017/1992781192.py:25: DeprecationWarning: Starting with ImageIO v3 the behavior of this function will switch to that of iio.v3.imread. To keep the current behavior (and make this warning disappear) use `import imageio.v2 as imageio` or call `imageio.v2.imread` directly.\n",
      "  mask_data = imageio.imread(mask_path, pilmode='L')\n",
      "/tmp/ipykernel_4055017/1992781192.py:26: DeprecationWarning: Starting with ImageIO v3 the behavior of this function will switch to that of iio.v3.imread. To keep the current behavior (and make this warning disappear) use `import imageio.v2 as imageio` or call `imageio.v2.imread` directly.\n",
      "  label_data = imageio.imread(label_path, pilmode='L') if label_path else None\n"
     ]
    },
    {
     "name": "stdout",
     "output_type": "stream",
     "text": [
      "Reading TIFF files from folder /home/viktor/Documents/kaggle/vesuvius-challenge/data/kaggle-data/train/1/surface_volume\n"
     ]
    },
    {
     "name": "stderr",
     "output_type": "stream",
     "text": [
      "100%|██████████| 10/10 [00:02<00:00,  4.48it/s]\n"
     ]
    }
   ],
   "source": [
    "\n",
    "root_dir = \"/home/viktor/Documents/kaggle/vesuvius-challenge/data/kaggle-data/train/1\"\n",
    "\n",
    "# Create Zarr store from folder\n",
    "root = get_zarr_file(root_dir, z_start=8, z_end=18)\n"
   ]
  },
  {
   "cell_type": "code",
   "execution_count": 7,
   "metadata": {},
   "outputs": [
    {
     "data": {
      "text/plain": [
       "(8181, 6330)"
      ]
     },
     "execution_count": 7,
     "metadata": {},
     "output_type": "execute_result"
    }
   ],
   "source": [
    "root.label[:].shape"
   ]
  },
  {
   "cell_type": "code",
   "execution_count": null,
   "metadata": {},
   "outputs": [],
   "source": []
  },
  {
   "cell_type": "code",
   "execution_count": 1,
   "metadata": {},
   "outputs": [
    {
     "name": "stdout",
     "output_type": "stream",
     "text": [
      "['1', '2', '3']\n",
      "[2 3]\n"
     ]
    },
    {
     "name": "stderr",
     "output_type": "stream",
     "text": [
      "/home/viktor/miniconda3/envs/torch-env/lib/python3.9/site-packages/PIL/Image.py:3167: DecompressionBombWarning: Image size (140973980 pixels) exceeds limit of 89478485 pixels, could be decompression bomb DOS attack.\n",
      "  warnings.warn(\n"
     ]
    },
    {
     "name": "stdout",
     "output_type": "stream",
     "text": [
      "Reading TIFF files from folder /home/viktor/Documents/kaggle/vesuvius-challenge/data/kaggle-data/train/2/surface_volume\n"
     ]
    },
    {
     "name": "stderr",
     "output_type": "stream",
     "text": [
      "100%|██████████| 8/8 [00:01<00:00,  5.78it/s]\n"
     ]
    },
    {
     "name": "stdout",
     "output_type": "stream",
     "text": [
      "Reading TIFF files from folder /home/viktor/Documents/kaggle/vesuvius-challenge/data/kaggle-data/train/3/surface_volume\n"
     ]
    },
    {
     "name": "stderr",
     "output_type": "stream",
     "text": [
      "100%|██████████| 8/8 [00:00<00:00, 19.23it/s]\n"
     ]
    },
    {
     "name": "stdout",
     "output_type": "stream",
     "text": [
      "{'2': (14830, 9506), '3': (7606, 5249)}\n",
      "Fragments shape is {'2': (14830, 9506), '3': (7606, 5249)}\n",
      "Creating train dataset\n"
     ]
    },
    {
     "name": "stderr",
     "output_type": "stream",
     "text": [
      "100%|██████████| 57/57 [00:26<00:00,  2.19it/s]\n",
      "100%|██████████| 29/29 [00:01<00:00, 18.64it/s]"
     ]
    },
    {
     "name": "stdout",
     "output_type": "stream",
     "text": [
      "Dataset created. In total, n_crops=1938\n"
     ]
    },
    {
     "name": "stderr",
     "output_type": "stream",
     "text": [
      "\n"
     ]
    }
   ],
   "source": [
    "import sys\n",
    "from kaggle_vesuvius.dataloaders import VesuviusDataset\n",
    "\n",
    "train_dataset = VesuviusDataset(mode='train',\n",
    "                                          data_dir='/home/viktor/Documents/kaggle/vesuvius-challenge/data/kaggle-data/train', \n",
    "                                          crop_size=256,\n",
    "                                          eval_on=1,\n",
    "                                          z_start=8,\n",
    "                                          z_end=16,\n",
    "                                          )"
   ]
  },
  {
   "cell_type": "code",
   "execution_count": 2,
   "metadata": {},
   "outputs": [
    {
     "name": "stdout",
     "output_type": "stream",
     "text": [
      "0.0\n",
      "tensor(0.0039)\n"
     ]
    },
    {
     "data": {
      "image/png": "[encoded data removed]",
      "text/plain": [
       "<Figure size 640x480 with 1 Axes>"
      ]
     },
     "metadata": {},
     "output_type": "display_data"
    }
   ],
   "source": [
    "import matplotlib.pyplot as plt\n",
    "import numpy as np\n",
    "\n",
    "\n",
    "indx = np.random.randint(0, len(train_dataset))\n",
    "x, y = train_dataset[indx]\n",
    "print(np.average(y))\n",
    "\n",
    "print(x.max())\n",
    "y2 = x.flatten()\n",
    "\n",
    "plt.hist(y2, bins=100);\n",
    "\n",
    "plt.yscale('log')"
   ]
  },
  {
   "cell_type": "code",
   "execution_count": null,
   "metadata": {},
   "outputs": [],
   "source": []
  },
  {
   "cell_type": "code",
   "execution_count": null,
   "metadata": {},
   "outputs": [],
   "source": []
  },
  {
   "cell_type": "code",
   "execution_count": null,
   "metadata": {},
   "outputs": [],
   "source": []
  },
  {
   "cell_type": "code",
   "execution_count": 27,
   "metadata": {},
   "outputs": [
    {
     "data": {
      "text/plain": [
       "<matplotlib.image.AxesImage at 0x7efd23fb3d30>"
      ]
     },
     "execution_count": 27,
     "metadata": {},
     "output_type": "execute_result"
    },
    {
     "data": {
      "image/png": "[encoded data removed]",
      "text/plain": [
       "<Figure size 640x480 with 1 Axes>"
      ]
     },
     "metadata": {},
     "output_type": "display_data"
    }
   ],
   "source": [
    "import matplotlib.pyplot as plt\n",
    "\n",
    "label = train_dataset.fragments_zarr['2'].label[0:1024*3, 2816:2816+1024*3]\n",
    "\n",
    "plt.imshow(label)"
   ]
  },
  {
   "cell_type": "code",
   "execution_count": 4,
   "metadata": {},
   "outputs": [
    {
     "name": "stdout",
     "output_type": "stream",
     "text": [
      "0.0\n",
      "tensor(0.0039)\n"
     ]
    },
    {
     "data": {
      "image/png": "[encoded data removed]",
      "text/plain": [
       "<Figure size 640x480 with 1 Axes>"
      ]
     },
     "metadata": {},
     "output_type": "display_data"
    }
   ],
   "source": []
  },
  {
   "cell_type": "code",
   "execution_count": 4,
   "metadata": {},
   "outputs": [],
   "source": [
    "import yaml\n",
    "\n",
    "config_path = \"/home/viktor/Documents/kaggle/vesuvius-challenge/experiments/baseline/config.yaml\"\n",
    "\n",
    "\n",
    "with open(config_path, \"rb\") as f:\n",
    "    config = yaml.load(f, yaml.FullLoader)\n",
    "\n",
    "from kaggle_vesuvius.model_builder import build_model\n",
    "model = build_model(config)"
   ]
  },
  {
   "cell_type": "code",
   "execution_count": null,
   "metadata": {},
   "outputs": [],
   "source": []
  },
  {
   "cell_type": "code",
   "execution_count": 5,
   "metadata": {},
   "outputs": [
    {
     "data": {
      "text/plain": [
       "torch.Size([256, 256])"
      ]
     },
     "execution_count": 5,
     "metadata": {},
     "output_type": "execute_result"
    }
   ],
   "source": [
    "x[0].shape"
   ]
  },
  {
   "cell_type": "code",
   "execution_count": 15,
   "metadata": {},
   "outputs": [],
   "source": [
    "import  torch\n",
    "\n",
    "indx = np.random.randint(0, len(train_dataset))\n",
    "x, y = train_dataset[indx]\n",
    "\n",
    "\n",
    "inputs = {'input_ids': x.unsqueeze(0)}\n",
    "# inputs = {'input_ids': torch.randn(1, 8, 256, 256)}\n",
    "y_pred = model(**inputs)"
   ]
  },
  {
   "cell_type": "code",
   "execution_count": 16,
   "metadata": {},
   "outputs": [
    {
     "data": {
      "image/png": "[encoded data removed]",
      "text/plain": [
       "<Figure size 640x480 with 1 Axes>"
      ]
     },
     "metadata": {},
     "output_type": "display_data"
    }
   ],
   "source": [
    "import matplotlib.pyplot as plt\n",
    "y2 = x[0].flatten().cpu().detach().numpy()\n",
    "\n",
    "plt.hist(y2, bins=100);\n",
    "\n",
    "plt.yscale('log')"
   ]
  },
  {
   "cell_type": "code",
   "execution_count": 26,
   "metadata": {},
   "outputs": [
    {
     "data": {
      "text/plain": [
       "array([0.], dtype=float32)"
      ]
     },
     "execution_count": 26,
     "metadata": {},
     "output_type": "execute_result"
    }
   ],
   "source": [
    "import matplotlib.pyplot as plt\n",
    "\n",
    "\n",
    "indx = np.random.randint(0, len(train_dataset))\n",
    "x, y = train_dataset[indx]\n",
    "\n",
    "y2 = y.flatten().cpu().detach().numpy()\n",
    "np.unique(y2)\n"
   ]
  },
  {
   "cell_type": "code",
   "execution_count": 14,
   "metadata": {},
   "outputs": [
    {
     "data": {
      "image/png": "[encoded data removed]",
      "text/plain": [
       "<Figure size 640x480 with 1 Axes>"
      ]
     },
     "metadata": {},
     "output_type": "display_data"
    }
   ],
   "source": [
    "import matplotlib.pyplot as plt\n",
    "y2 = y_pred.flatten().cpu().detach().numpy()\n",
    "\n",
    "plt.hist(y2, bins=100);"
   ]
  },
  {
   "cell_type": "code",
   "execution_count": 15,
   "metadata": {},
   "outputs": [
    {
     "ename": "AttributeError",
     "evalue": "'tuple' object has no attribute 'shape'",
     "output_type": "error",
     "traceback": [
      "\u001b[0;31m---------------------------------------------------------------------------\u001b[0m",
      "\u001b[0;31mAttributeError\u001b[0m                            Traceback (most recent call last)",
      "\u001b[1;32m/home/viktor/Documents/kaggle/vesuvius-challenge/notebooks/debug.ipynb Cell 14\u001b[0m line \u001b[0;36m1\n\u001b[0;32m----> <a href='vscode-notebook-cell://ssh-remote%2B192.168.0.13/home/viktor/Documents/kaggle/vesuvius-challenge/notebooks/debug.ipynb#X34sdnNjb2RlLXJlbW90ZQ%3D%3D?line=0'>1</a>\u001b[0m x\u001b[39m.\u001b[39;49mshape, y\u001b[39m.\u001b[39mshape\n",
      "\u001b[0;31mAttributeError\u001b[0m: 'tuple' object has no attribute 'shape'"
     ]
    }
   ],
   "source": [
    "x.shape, y.shape"
   ]
  },
  {
   "cell_type": "code",
   "execution_count": 16,
   "metadata": {},
   "outputs": [
    {
     "data": {
      "text/plain": [
       "(torch.Size([1, 8, 256, 256]), torch.Size([256, 256]))"
      ]
     },
     "execution_count": 16,
     "metadata": {},
     "output_type": "execute_result"
    }
   ],
   "source": [
    "x[0].shape, x[1].shape"
   ]
  },
  {
   "cell_type": "code",
   "execution_count": 19,
   "metadata": {},
   "outputs": [
    {
     "data": {
      "text/plain": [
       "<matplotlib.image.AxesImage at 0x7f5b75ecfa90>"
      ]
     },
     "execution_count": 19,
     "metadata": {},
     "output_type": "execute_result"
    },
    {
     "data": {
      "image/png": "[encoded data removed]",
      "text/plain": [
       "<Figure size 640x480 with 1 Axes>"
      ]
     },
     "metadata": {},
     "output_type": "display_data"
    }
   ],
   "source": [
    "img = x[0][0, 0, :, :].numpy()\n",
    "# visualize the image\n",
    "import matplotlib.pyplot as plt\n",
    "plt.imshow(img, cmap='gray')"
   ]
  },
  {
   "cell_type": "code",
   "execution_count": 22,
   "metadata": {},
   "outputs": [
    {
     "data": {
      "text/plain": [
       "<matplotlib.image.AxesImage at 0x7f5b74546190>"
      ]
     },
     "execution_count": 22,
     "metadata": {},
     "output_type": "execute_result"
    },
    {
     "data": {
      "image/png": "[encoded data removed]",
      "text/plain": [
       "<Figure size 640x480 with 1 Axes>"
      ]
     },
     "metadata": {},
     "output_type": "display_data"
    }
   ],
   "source": [
    "img = x[1][:, :].numpy()\n",
    "# visualize the image\n",
    "import matplotlib.pyplot as plt\n",
    "plt.imshow(img, cmap='gray')"
   ]
  },
  {
   "cell_type": "code",
   "execution_count": null,
   "metadata": {},
   "outputs": [],
   "source": []
  },
  {
   "cell_type": "code",
   "execution_count": null,
   "metadata": {},
   "outputs": [],
   "source": []
  },
  {
   "cell_type": "code",
   "execution_count": 1,
   "metadata": {},
   "outputs": [],
   "source": [
    "from kaggle_vesuvius.losses import get_loss_function\n",
    "\n",
    "loss_configs = [\n",
    "        {\n",
    "            \"name\": \"bce\",\n",
    "            \"params\": {\n",
    "                \"weight\": 0.5\n",
    "            }\n",
    "        },\n",
    "        {\n",
    "            \"name\": \"dice\",\n",
    "            \"params\": {\n",
    "                \"weight\": 0.5\n",
    "            }\n",
    "        }\n",
    "    ]\n",
    "criterion = get_loss_function(loss_configs)"
   ]
  },
  {
   "cell_type": "code",
   "execution_count": null,
   "metadata": {},
   "outputs": [],
   "source": []
  },
  {
   "cell_type": "code",
   "execution_count": 1,
   "metadata": {},
   "outputs": [],
   "source": [
    "\n",
    "from kaggle_vesuvius.models import resnet_3d, pvtv2\n",
    "\n",
    "\n",
    "img_size = 256\n",
    "in_chans = 8\n",
    "num_classes = 1\n",
    "model = pvtv2.PyramidVisionTransformerV2(img_size=img_size, \n",
    "                                            in_chans=in_chans, \n",
    "                                            num_classes=num_classes)"
   ]
  },
  {
   "cell_type": "code",
   "execution_count": 2,
   "metadata": {},
   "outputs": [],
   "source": [
    "import torch\n",
    "\n",
    "x = torch.randn(1, 8, 256, 256)\n",
    "y = model(x)\n"
   ]
  },
  {
   "cell_type": "code",
   "execution_count": 4,
   "metadata": {},
   "outputs": [
    {
     "data": {
      "text/plain": [
       "torch.Size([1, 1, 256, 256])"
      ]
     },
     "execution_count": 4,
     "metadata": {},
     "output_type": "execute_result"
    }
   ],
   "source": [
    "y.shape"
   ]
  },
  {
   "cell_type": "code",
   "execution_count": 3,
   "metadata": {},
   "outputs": [
    {
     "data": {
      "text/plain": [
       "[torch.Size([1, 64, 64, 64]),\n",
       " torch.Size([1, 128, 32, 32]),\n",
       " torch.Size([1, 256, 16, 16]),\n",
       " torch.Size([1, 512, 8, 8])]"
      ]
     },
     "execution_count": 3,
     "metadata": {},
     "output_type": "execute_result"
    }
   ],
   "source": [
    "[el.shape for el in y]"
   ]
  },
  {
   "cell_type": "code",
   "execution_count": 5,
   "metadata": {},
   "outputs": [],
   "source": [
    "import segmentation_models_pytorch as smp"
   ]
  },
  {
   "cell_type": "code",
   "execution_count": 11,
   "metadata": {},
   "outputs": [],
   "source": [
    "encoder = smp.FPN(encoder_name=\"inceptionv4\", encoder_weights=None, in_channels=8, classes=1).encoder\n",
    "\n",
    "x = torch.randn(1, 8, 256, 256)\n",
    "y = encoder(x)\n"
   ]
  },
  {
   "cell_type": "code",
   "execution_count": 12,
   "metadata": {},
   "outputs": [
    {
     "data": {
      "text/plain": [
       "[torch.Size([1, 8, 256, 256]),\n",
       " torch.Size([1, 64, 128, 128]),\n",
       " torch.Size([1, 192, 64, 64]),\n",
       " torch.Size([1, 384, 32, 32]),\n",
       " torch.Size([1, 1024, 16, 16]),\n",
       " torch.Size([1, 1536, 8, 8])]"
      ]
     },
     "execution_count": 12,
     "metadata": {},
     "output_type": "execute_result"
    }
   ],
   "source": [
    "[el.shape for el in y]"
   ]
  },
  {
   "cell_type": "code",
   "execution_count": 1,
   "metadata": {},
   "outputs": [],
   "source": [
    "\n",
    "from kaggle_vesuvius.models import inceptionv4\n",
    "\n",
    "\n",
    "img_size = 256\n",
    "in_chans = 8\n",
    "num_classes = 1\n",
    "model = inceptionv4.InceptionV4FPN3DResNet(in_channels=8)"
   ]
  },
  {
   "cell_type": "code",
   "execution_count": 2,
   "metadata": {},
   "outputs": [],
   "source": [
    "import torch\n",
    "x = torch.randn(1, 8, 256, 256)\n",
    "y = model(x)"
   ]
  },
  {
   "cell_type": "code",
   "execution_count": 3,
   "metadata": {},
   "outputs": [
    {
     "data": {
      "text/plain": [
       "torch.Size([1, 1, 256, 256])"
      ]
     },
     "execution_count": 3,
     "metadata": {},
     "output_type": "execute_result"
    }
   ],
   "source": [
    "y.shape"
   ]
  },
  {
   "cell_type": "code",
   "execution_count": null,
   "metadata": {},
   "outputs": [],
   "source": []
  },
  {
   "cell_type": "code",
   "execution_count": null,
   "metadata": {},
   "outputs": [],
   "source": []
  },
  {
   "cell_type": "code",
   "execution_count": 1,
   "metadata": {},
   "outputs": [
    {
     "name": "stdout",
     "output_type": "stream",
     "text": [
      "['1', '2', '3']\n",
      "[2 3]\n"
     ]
    },
    {
     "name": "stderr",
     "output_type": "stream",
     "text": [
      "/home/viktor/miniconda3/envs/torch-env/lib/python3.9/site-packages/PIL/Image.py:3167: DecompressionBombWarning: Image size (140973980 pixels) exceeds limit of 89478485 pixels, could be decompression bomb DOS attack.\n",
      "  warnings.warn(\n"
     ]
    },
    {
     "name": "stdout",
     "output_type": "stream",
     "text": [
      "Reading TIFF files from folder /home/viktor/Documents/kaggle/vesuvius-challenge/data/kaggle-data/train/2/surface_volume\n"
     ]
    },
    {
     "name": "stderr",
     "output_type": "stream",
     "text": [
      "100%|██████████| 8/8 [00:01<00:00,  6.09it/s]\n"
     ]
    },
    {
     "name": "stdout",
     "output_type": "stream",
     "text": [
      "Reading TIFF files from folder /home/viktor/Documents/kaggle/vesuvius-challenge/data/kaggle-data/train/3/surface_volume\n"
     ]
    },
    {
     "name": "stderr",
     "output_type": "stream",
     "text": [
      "100%|██████████| 8/8 [00:00<00:00, 22.29it/s]\n"
     ]
    },
    {
     "name": "stdout",
     "output_type": "stream",
     "text": [
      "{'2': (14830, 9506), '3': (7606, 5249)}\n",
      "Fragments shape is {'2': (14830, 9506), '3': (7606, 5249)}\n",
      "Creating train dataset\n"
     ]
    },
    {
     "name": "stderr",
     "output_type": "stream",
     "text": [
      "100%|██████████| 57/57 [00:25<00:00,  2.19it/s]\n",
      "100%|██████████| 29/29 [00:01<00:00, 18.26it/s]"
     ]
    },
    {
     "name": "stdout",
     "output_type": "stream",
     "text": [
      "Dataset created. In total, n_crops=1938\n"
     ]
    },
    {
     "name": "stderr",
     "output_type": "stream",
     "text": [
      "\n"
     ]
    }
   ],
   "source": [
    "import sys\n",
    "from kaggle_vesuvius.dataloaders import VesuviusDataset\n",
    "\n",
    "train_dataset = VesuviusDataset(mode='train',\n",
    "                                          data_dir='/home/viktor/Documents/kaggle/vesuvius-challenge/data/kaggle-data/train', \n",
    "                                          crop_size=256,\n",
    "                                          eval_on=1,\n",
    "                                          z_start=8,\n",
    "                                          z_end=16,\n",
    "                                          )"
   ]
  },
  {
   "cell_type": "code",
   "execution_count": 36,
   "metadata": {},
   "outputs": [
    {
     "data": {
      "text/plain": [
       "(254, 255, (8, 256, 256), (256, 256))"
      ]
     },
     "execution_count": 36,
     "metadata": {},
     "output_type": "execute_result"
    }
   ],
   "source": [
    "indx = 1\n",
    "\n",
    "fragment, x1, y1, W, H = train_dataset.xys[indx]\n",
    "x2 = x1 + train_dataset.crop_size\n",
    "y2 = y1 + train_dataset.crop_size\n",
    "\n",
    "frag_crop = (train_dataset.fragments_zarr[fragment].volume[:, y1:y2, x1:x2] / (256)**2 * 255).astype('uint8') # \"convert\" range 0-255\n",
    "mask_crop = train_dataset.fragments_zarr[fragment].label[y1:y2, x1:x2] \n",
    "\n",
    "frag_crop.max(), mask_crop.max(), frag_crop.shape, mask_crop.shape"
   ]
  },
  {
   "cell_type": "code",
   "execution_count": 3,
   "metadata": {},
   "outputs": [
    {
     "data": {
      "text/plain": [
       "(tensor(0.1243),\n",
       " tensor(0.),\n",
       " tensor(0.9412),\n",
       " tensor(0.9412),\n",
       " torch.Size([8, 256, 256]),\n",
       " torch.Size([8, 256, 256]),\n",
       " tensor(1.),\n",
       " torch.Size([256, 256]))"
      ]
     },
     "execution_count": 3,
     "metadata": {},
     "output_type": "execute_result"
    }
   ],
   "source": [
    "import albumentations as A\n",
    "from albumentations.pytorch import ToTensorV2\n",
    "import numpy as np\n",
    "\n",
    "\n",
    "\n",
    "\n",
    "indx = 1\n",
    "\n",
    "fragment, x1, y1, W, H = train_dataset.xys[indx]\n",
    "x2 = x1 + train_dataset.crop_size\n",
    "y2 = y1 + train_dataset.crop_size\n",
    "\n",
    "frag_crop = (train_dataset.fragments_zarr[fragment].volume[:, y1:y2, x1:x2] / (256)**2 * 255).astype('uint8') # \"convert\" range 0-255\n",
    "mask_crop = train_dataset.fragments_zarr[fragment].label[y1:y2, x1:x2] \n",
    "\n",
    "frag_crop.max(), mask_crop.max(), frag_crop.shape, mask_crop.shape\n",
    "\n",
    "\n",
    "size = 256\n",
    "\n",
    "train_aug_list = [\n",
    "                A.Resize(size, size, p=1.0),\n",
    "                A.HorizontalFlip(p=0.5),\n",
    "                A.VerticalFlip(p=0.5),\n",
    "                A.RandomBrightnessContrast(p=0.75),\n",
    "                A.ShiftScaleRotate(p=0.75),\n",
    "                A.OneOf([\n",
    "                        A.GaussNoise(var_limit=[10, 50]),\n",
    "                        A.GaussianBlur(),\n",
    "                        A.MotionBlur(),\n",
    "                        ], p=0.4),\n",
    "                A.GridDistortion(num_steps=5, distort_limit=0.3, p=0.5),\n",
    "                A.Normalize(\n",
    "                    mean= [0] * 8,\n",
    "                    std= [1] * 8\n",
    "                ),\n",
    "                ToTensorV2(transpose_mask=True),\n",
    "            ]\n",
    "augmentations = A.Compose(train_aug_list)\n",
    "\n",
    "# frag_crop_for_augm: frag_crop with (C, H, W) -> (H, W, C)\n",
    "frag_crop = np.moveaxis(frag_crop, 0, -1)\n",
    "\n",
    "augmented = augmentations(image=frag_crop, mask=mask_crop)\n",
    "frag_crop, mask_crop = augmented[\"image\"], augmented[\"mask\"]\n",
    "\n",
    "# make mask_crop binary (now is in range 0-255)\n",
    "mask_crop = mask_crop.float() / 255\n",
    "\n",
    "frag_crop.std(), frag_crop.min(), frag_crop.max(), frag_crop.max(), frag_crop.shape, frag_crop.shape, mask_crop.max(), mask_crop.shape"
   ]
  },
  {
   "cell_type": "code",
   "execution_count": null,
   "metadata": {},
   "outputs": [],
   "source": []
  },
  {
   "cell_type": "code",
   "execution_count": 2,
   "metadata": {},
   "outputs": [
    {
     "data": {
      "text/plain": [
       "(tensor(0.0353),\n",
       " tensor(1.),\n",
       " tensor(1.),\n",
       " torch.Size([8, 256, 256]),\n",
       " torch.Size([256, 256]))"
      ]
     },
     "execution_count": 2,
     "metadata": {},
     "output_type": "execute_result"
    }
   ],
   "source": [
    "import numpy as np\n",
    "indx = np.random.randint(0, 1000)\n",
    "\n",
    "frag_crop, mask_crop = train_dataset[1]\n",
    "\n",
    "frag_crop.min(), frag_crop.max(), mask_crop.max(), frag_crop.shape, mask_crop.shape"
   ]
  },
  {
   "cell_type": "code",
   "execution_count": null,
   "metadata": {},
   "outputs": [],
   "source": [
    " d"
   ]
  },
  {
   "cell_type": "code",
   "execution_count": null,
   "metadata": {},
   "outputs": [],
   "source": []
  },
  {
   "cell_type": "code",
   "execution_count": null,
   "metadata": {},
   "outputs": [],
   "source": []
  },
  {
   "cell_type": "code",
   "execution_count": null,
   "metadata": {},
   "outputs": [],
   "source": []
  },
  {
   "cell_type": "code",
   "execution_count": 1,
   "metadata": {},
   "outputs": [
    {
     "name": "stdout",
     "output_type": "stream",
     "text": [
      "['1', '2', '3']\n",
      "[2 3]\n"
     ]
    },
    {
     "name": "stderr",
     "output_type": "stream",
     "text": [
      "/home/viktor/miniconda3/envs/torch-env/lib/python3.9/site-packages/PIL/Image.py:3167: DecompressionBombWarning: Image size (140973980 pixels) exceeds limit of 89478485 pixels, could be decompression bomb DOS attack.\n",
      "  warnings.warn(\n"
     ]
    },
    {
     "name": "stdout",
     "output_type": "stream",
     "text": [
      "Reading TIFF files from folder /home/viktor/Documents/kaggle/vesuvius-challenge/data/kaggle-data/train/2/surface_volume\n"
     ]
    },
    {
     "name": "stderr",
     "output_type": "stream",
     "text": [
      "100%|██████████| 8/8 [00:02<00:00,  3.25it/s]\n"
     ]
    },
    {
     "name": "stdout",
     "output_type": "stream",
     "text": [
      "Reading TIFF files from folder /home/viktor/Documents/kaggle/vesuvius-challenge/data/kaggle-data/train/3/surface_volume\n"
     ]
    },
    {
     "name": "stderr",
     "output_type": "stream",
     "text": [
      "100%|██████████| 8/8 [00:00<00:00, 12.29it/s]\n"
     ]
    },
    {
     "name": "stdout",
     "output_type": "stream",
     "text": [
      "{'2': (14830, 9506), '3': (7606, 5249)}\n",
      "Fragments shape is {'2': (14830, 9506), '3': (7606, 5249)}\n",
      "Creating train dataset\n"
     ]
    },
    {
     "name": "stderr",
     "output_type": "stream",
     "text": [
      "100%|██████████| 57/57 [00:21<00:00,  2.65it/s]\n",
      "100%|██████████| 29/29 [00:01<00:00, 19.82it/s]"
     ]
    },
    {
     "name": "stdout",
     "output_type": "stream",
     "text": [
      "Dataset created. In total, n_crops=1938\n"
     ]
    },
    {
     "name": "stderr",
     "output_type": "stream",
     "text": [
      "\n"
     ]
    }
   ],
   "source": [
    "import sys\n",
    "from kaggle_vesuvius.dataloaders import VesuviusDataset\n",
    "\n",
    "train_dataset = VesuviusDataset(mode='train',\n",
    "                                          data_dir='/home/viktor/Documents/kaggle/vesuvius-challenge/data/kaggle-data/train', \n",
    "                                          crop_size=256,\n",
    "                                          eval_on=1,\n",
    "                                          z_start=8,\n",
    "                                          z_end=16,\n",
    "                                          )\n"
   ]
  },
  {
   "cell_type": "code",
   "execution_count": 2,
   "metadata": {},
   "outputs": [],
   "source": [
    "import kaggle_vesuvius.models.resnet_3d as resnet_3d\n",
    "model = resnet_3d.Resnet3DSegModel(resnet_depth=18)"
   ]
  },
  {
   "cell_type": "code",
   "execution_count": 3,
   "metadata": {},
   "outputs": [
    {
     "data": {
      "text/plain": [
       "torch.Size([256, 256])"
      ]
     },
     "execution_count": 3,
     "metadata": {},
     "output_type": "execute_result"
    }
   ],
   "source": [
    "import torch\n",
    "\n",
    "x, y = train_dataset[0]\n",
    "x = x.unsqueeze(0)\n",
    "y_pred = torch.sigmoid(model(x))\n",
    "y_pred.shape\n"
   ]
  },
  {
   "cell_type": "code",
   "execution_count": 4,
   "metadata": {},
   "outputs": [
    {
     "data": {
      "image/png": "[encoded data removed]",
      "text/plain": [
       "<Figure size 640x480 with 1 Axes>"
      ]
     },
     "metadata": {},
     "output_type": "display_data"
    }
   ],
   "source": [
    "import matplotlib.pyplot as plt\n",
    "\n",
    "plt.hist(y_pred.flatten().cpu().detach().numpy(), bins=100);"
   ]
  },
  {
   "cell_type": "code",
   "execution_count": 6,
   "metadata": {},
   "outputs": [],
   "source": [
    "x = x.to('cuda')"
   ]
  },
  {
   "cell_type": "code",
   "execution_count": 7,
   "metadata": {},
   "outputs": [],
   "source": [
    "model = model.to('cuda')"
   ]
  },
  {
   "cell_type": "code",
   "execution_count": 9,
   "metadata": {},
   "outputs": [
    {
     "name": "stderr",
     "output_type": "stream",
     "text": [
      "STAGE:2023-09-24 10:03:51 1667770:1667770 ActivityProfilerController.cpp:311] Completed Stage: Warm Up\n"
     ]
    },
    {
     "ename": "RuntimeError",
     "evalue": "stack.size() INTERNAL ASSERT FAILED at \"/opt/conda/conda-bld/pytorch_1682343997789/work/torch/csrc/autograd/profiler_python.cpp\":963, please report a bug to PyTorch. Python replay stack is empty.",
     "output_type": "error",
     "traceback": [
      "\u001b[0;31m---------------------------------------------------------------------------\u001b[0m",
      "\u001b[0;31mRuntimeError\u001b[0m                              Traceback (most recent call last)",
      "\u001b[1;32m/home/viktor/Documents/kaggle/vesuvius-challenge/notebooks/debug.ipynb Cell 61\u001b[0m line \u001b[0;36m6\n\u001b[1;32m      <a href='vscode-notebook-cell://ssh-remote%2B192.168.0.13/home/viktor/Documents/kaggle/vesuvius-challenge/notebooks/debug.ipynb#Y125sdnNjb2RlLXJlbW90ZQ%3D%3D?line=3'>4</a>\u001b[0m \u001b[39m# Profiling\u001b[39;00m\n\u001b[1;32m      <a href='vscode-notebook-cell://ssh-remote%2B192.168.0.13/home/viktor/Documents/kaggle/vesuvius-challenge/notebooks/debug.ipynb#Y125sdnNjb2RlLXJlbW90ZQ%3D%3D?line=4'>5</a>\u001b[0m \u001b[39mwith\u001b[39;00m torch\u001b[39m.\u001b[39mprofiler\u001b[39m.\u001b[39mprofile(with_stack\u001b[39m=\u001b[39m\u001b[39mTrue\u001b[39;00m, profile_memory\u001b[39m=\u001b[39m\u001b[39mTrue\u001b[39;00m) \u001b[39mas\u001b[39;00m profiler:\n\u001b[0;32m----> <a href='vscode-notebook-cell://ssh-remote%2B192.168.0.13/home/viktor/Documents/kaggle/vesuvius-challenge/notebooks/debug.ipynb#Y125sdnNjb2RlLXJlbW90ZQ%3D%3D?line=5'>6</a>\u001b[0m     output \u001b[39m=\u001b[39m model(x)\n\u001b[1;32m      <a href='vscode-notebook-cell://ssh-remote%2B192.168.0.13/home/viktor/Documents/kaggle/vesuvius-challenge/notebooks/debug.ipynb#Y125sdnNjb2RlLXJlbW90ZQ%3D%3D?line=7'>8</a>\u001b[0m \u001b[39m# Print the results\u001b[39;00m\n\u001b[1;32m      <a href='vscode-notebook-cell://ssh-remote%2B192.168.0.13/home/viktor/Documents/kaggle/vesuvius-challenge/notebooks/debug.ipynb#Y125sdnNjb2RlLXJlbW90ZQ%3D%3D?line=8'>9</a>\u001b[0m \u001b[39mprint\u001b[39m(profiler\u001b[39m.\u001b[39mkey_averages(group_by_stack_n\u001b[39m=\u001b[39m\u001b[39m5\u001b[39m)\u001b[39m.\u001b[39mtable(sort_by\u001b[39m=\u001b[39m\u001b[39m'\u001b[39m\u001b[39mself_cpu_time_total\u001b[39m\u001b[39m'\u001b[39m))\n",
      "File \u001b[0;32m~/miniconda3/envs/torch-env/lib/python3.9/site-packages/torch/profiler/profiler.py:509\u001b[0m, in \u001b[0;36mprofile.__exit__\u001b[0;34m(self, exc_type, exc_val, exc_tb)\u001b[0m\n\u001b[1;32m    508\u001b[0m \u001b[39mdef\u001b[39;00m \u001b[39m__exit__\u001b[39m(\u001b[39mself\u001b[39m, exc_type, exc_val, exc_tb):\n\u001b[0;32m--> 509\u001b[0m     \u001b[39mself\u001b[39;49m\u001b[39m.\u001b[39;49mstop()\n\u001b[1;32m    510\u001b[0m     prof\u001b[39m.\u001b[39mKinetoStepTracker\u001b[39m.\u001b[39merase_step_count(PROFILER_STEP_NAME)\n",
      "File \u001b[0;32m~/miniconda3/envs/torch-env/lib/python3.9/site-packages/torch/profiler/profiler.py:521\u001b[0m, in \u001b[0;36mprofile.stop\u001b[0;34m(self)\u001b[0m\n\u001b[1;32m    519\u001b[0m \u001b[39mif\u001b[39;00m \u001b[39mself\u001b[39m\u001b[39m.\u001b[39mrecord_steps \u001b[39mand\u001b[39;00m \u001b[39mself\u001b[39m\u001b[39m.\u001b[39mstep_rec_fn:\n\u001b[1;32m    520\u001b[0m     \u001b[39mself\u001b[39m\u001b[39m.\u001b[39mstep_rec_fn\u001b[39m.\u001b[39m\u001b[39m__exit__\u001b[39m(\u001b[39mNone\u001b[39;00m, \u001b[39mNone\u001b[39;00m, \u001b[39mNone\u001b[39;00m)\n\u001b[0;32m--> 521\u001b[0m \u001b[39mself\u001b[39;49m\u001b[39m.\u001b[39;49m_transit_action(\u001b[39mself\u001b[39;49m\u001b[39m.\u001b[39;49mcurrent_action, \u001b[39mNone\u001b[39;49;00m)\n",
      "File \u001b[0;32m~/miniconda3/envs/torch-env/lib/python3.9/site-packages/torch/profiler/profiler.py:549\u001b[0m, in \u001b[0;36mprofile._transit_action\u001b[0;34m(self, prev_action, current_action)\u001b[0m\n\u001b[1;32m    547\u001b[0m \u001b[39mif\u001b[39;00m action_list:\n\u001b[1;32m    548\u001b[0m     \u001b[39mfor\u001b[39;00m action \u001b[39min\u001b[39;00m action_list:\n\u001b[0;32m--> 549\u001b[0m         action()\n",
      "File \u001b[0;32m~/miniconda3/envs/torch-env/lib/python3.9/site-packages/torch/profiler/profiler.py:139\u001b[0m, in \u001b[0;36m_KinetoProfile.stop_trace\u001b[0;34m(self)\u001b[0m\n\u001b[1;32m    137\u001b[0m \u001b[39mdef\u001b[39;00m \u001b[39mstop_trace\u001b[39m(\u001b[39mself\u001b[39m):\n\u001b[1;32m    138\u001b[0m     \u001b[39massert\u001b[39;00m \u001b[39mself\u001b[39m\u001b[39m.\u001b[39mprofiler \u001b[39mis\u001b[39;00m \u001b[39mnot\u001b[39;00m \u001b[39mNone\u001b[39;00m\n\u001b[0;32m--> 139\u001b[0m     \u001b[39mself\u001b[39;49m\u001b[39m.\u001b[39;49mprofiler\u001b[39m.\u001b[39;49m\u001b[39m__exit__\u001b[39;49m(\u001b[39mNone\u001b[39;49;00m, \u001b[39mNone\u001b[39;49;00m, \u001b[39mNone\u001b[39;49;00m)\n",
      "File \u001b[0;32m~/miniconda3/envs/torch-env/lib/python3.9/site-packages/torch/autograd/profiler.py:231\u001b[0m, in \u001b[0;36mprofile.__exit__\u001b[0;34m(self, exc_type, exc_val, exc_tb)\u001b[0m\n\u001b[1;32m    229\u001b[0m \u001b[39mif\u001b[39;00m \u001b[39mself\u001b[39m\u001b[39m.\u001b[39muse_cuda:\n\u001b[1;32m    230\u001b[0m     torch\u001b[39m.\u001b[39mcuda\u001b[39m.\u001b[39msynchronize()\n\u001b[0;32m--> 231\u001b[0m \u001b[39mself\u001b[39m\u001b[39m.\u001b[39mkineto_results \u001b[39m=\u001b[39m _disable_profiler()\n\u001b[1;32m    232\u001b[0m parsed_results \u001b[39m=\u001b[39m \u001b[39mself\u001b[39m\u001b[39m.\u001b[39m_parse_kineto_results(\u001b[39mself\u001b[39m\u001b[39m.\u001b[39mkineto_results)\n\u001b[1;32m    233\u001b[0m \u001b[39mself\u001b[39m\u001b[39m.\u001b[39mfunction_events \u001b[39m=\u001b[39m EventList(\n\u001b[1;32m    234\u001b[0m     parsed_results,\n\u001b[1;32m    235\u001b[0m     use_cuda\u001b[39m=\u001b[39m\u001b[39mself\u001b[39m\u001b[39m.\u001b[39muse_cuda,\n\u001b[1;32m    236\u001b[0m     profile_memory\u001b[39m=\u001b[39m\u001b[39mself\u001b[39m\u001b[39m.\u001b[39mprofile_memory,\n\u001b[1;32m    237\u001b[0m     with_flops\u001b[39m=\u001b[39m\u001b[39mself\u001b[39m\u001b[39m.\u001b[39mwith_flops)\n",
      "\u001b[0;31mRuntimeError\u001b[0m: stack.size() INTERNAL ASSERT FAILED at \"/opt/conda/conda-bld/pytorch_1682343997789/work/torch/csrc/autograd/profiler_python.cpp\":963, please report a bug to PyTorch. Python replay stack is empty."
     ]
    }
   ],
   "source": [
    "import torch.profiler\n",
    "\n",
    "\n",
    "# Profiling\n",
    "with torch.profiler.profile(with_stack=True, profile_memory=True) as profiler:\n",
    "    output = model(x)\n",
    "\n",
    "# Print the results\n",
    "print(profiler.key_averages(group_by_stack_n=5).table(sort_by='self_cpu_time_total'))"
   ]
  },
  {
   "cell_type": "code",
   "execution_count": 10,
   "metadata": {},
   "outputs": [
    {
     "ename": "RuntimeError",
     "evalue": "Can't disable Kineto profiler when it's not running",
     "output_type": "error",
     "traceback": [
      "\u001b[0;31m---------------------------------------------------------------------------\u001b[0m",
      "\u001b[0;31mRuntimeError\u001b[0m                              Traceback (most recent call last)",
      "\u001b[1;32m/home/viktor/Documents/kaggle/vesuvius-challenge/notebooks/debug.ipynb Cell 62\u001b[0m line \u001b[0;36m5\n\u001b[1;32m      <a href='vscode-notebook-cell://ssh-remote%2B192.168.0.13/home/viktor/Documents/kaggle/vesuvius-challenge/notebooks/debug.ipynb#Y132sdnNjb2RlLXJlbW90ZQ%3D%3D?line=0'>1</a>\u001b[0m \u001b[39mimport\u001b[39;00m \u001b[39mtorch\u001b[39;00m\u001b[39m.\u001b[39;00m\u001b[39mprofiler\u001b[39;00m\n\u001b[1;32m      <a href='vscode-notebook-cell://ssh-remote%2B192.168.0.13/home/viktor/Documents/kaggle/vesuvius-challenge/notebooks/debug.ipynb#Y132sdnNjb2RlLXJlbW90ZQ%3D%3D?line=3'>4</a>\u001b[0m \u001b[39m# Profiling\u001b[39;00m\n\u001b[0;32m----> <a href='vscode-notebook-cell://ssh-remote%2B192.168.0.13/home/viktor/Documents/kaggle/vesuvius-challenge/notebooks/debug.ipynb#Y132sdnNjb2RlLXJlbW90ZQ%3D%3D?line=4'>5</a>\u001b[0m \u001b[39mwith\u001b[39;00m torch\u001b[39m.\u001b[39mprofiler\u001b[39m.\u001b[39mprofile(with_stack\u001b[39m=\u001b[39m\u001b[39mTrue\u001b[39;00m, profile_memory\u001b[39m=\u001b[39m\u001b[39mTrue\u001b[39;00m) \u001b[39mas\u001b[39;00m profiler:\n\u001b[1;32m      <a href='vscode-notebook-cell://ssh-remote%2B192.168.0.13/home/viktor/Documents/kaggle/vesuvius-challenge/notebooks/debug.ipynb#Y132sdnNjb2RlLXJlbW90ZQ%3D%3D?line=5'>6</a>\u001b[0m     output \u001b[39m=\u001b[39m model(x)\n\u001b[1;32m      <a href='vscode-notebook-cell://ssh-remote%2B192.168.0.13/home/viktor/Documents/kaggle/vesuvius-challenge/notebooks/debug.ipynb#Y132sdnNjb2RlLXJlbW90ZQ%3D%3D?line=7'>8</a>\u001b[0m \u001b[39m# Print the results\u001b[39;00m\n",
      "File \u001b[0;32m~/miniconda3/envs/torch-env/lib/python3.9/site-packages/torch/profiler/profiler.py:505\u001b[0m, in \u001b[0;36mprofile.__enter__\u001b[0;34m(self)\u001b[0m\n\u001b[1;32m    504\u001b[0m \u001b[39mdef\u001b[39;00m \u001b[39m__enter__\u001b[39m(\u001b[39mself\u001b[39m):\n\u001b[0;32m--> 505\u001b[0m     \u001b[39mself\u001b[39;49m\u001b[39m.\u001b[39;49mstart()\n\u001b[1;32m    506\u001b[0m     \u001b[39mreturn\u001b[39;00m \u001b[39mself\u001b[39m\n",
      "File \u001b[0;32m~/miniconda3/envs/torch-env/lib/python3.9/site-packages/torch/profiler/profiler.py:513\u001b[0m, in \u001b[0;36mprofile.start\u001b[0;34m(self)\u001b[0m\n\u001b[1;32m    512\u001b[0m \u001b[39mdef\u001b[39;00m \u001b[39mstart\u001b[39m(\u001b[39mself\u001b[39m):\n\u001b[0;32m--> 513\u001b[0m     \u001b[39mself\u001b[39;49m\u001b[39m.\u001b[39;49m_transit_action(ProfilerAction\u001b[39m.\u001b[39;49mNONE, \u001b[39mself\u001b[39;49m\u001b[39m.\u001b[39;49mcurrent_action)\n\u001b[1;32m    514\u001b[0m     \u001b[39mif\u001b[39;00m \u001b[39mself\u001b[39m\u001b[39m.\u001b[39mrecord_steps:\n\u001b[1;32m    515\u001b[0m         \u001b[39mself\u001b[39m\u001b[39m.\u001b[39mstep_rec_fn \u001b[39m=\u001b[39m prof\u001b[39m.\u001b[39mrecord_function(\u001b[39m\"\u001b[39m\u001b[39mProfilerStep#\u001b[39m\u001b[39m\"\u001b[39m \u001b[39m+\u001b[39m \u001b[39mstr\u001b[39m(\u001b[39mself\u001b[39m\u001b[39m.\u001b[39mstep_num))\n",
      "File \u001b[0;32m~/miniconda3/envs/torch-env/lib/python3.9/site-packages/torch/profiler/profiler.py:549\u001b[0m, in \u001b[0;36mprofile._transit_action\u001b[0;34m(self, prev_action, current_action)\u001b[0m\n\u001b[1;32m    547\u001b[0m \u001b[39mif\u001b[39;00m action_list:\n\u001b[1;32m    548\u001b[0m     \u001b[39mfor\u001b[39;00m action \u001b[39min\u001b[39;00m action_list:\n\u001b[0;32m--> 549\u001b[0m         action()\n",
      "File \u001b[0;32m~/miniconda3/envs/torch-env/lib/python3.9/site-packages/torch/profiler/profiler.py:115\u001b[0m, in \u001b[0;36m_KinetoProfile.prepare_trace\u001b[0;34m(self)\u001b[0m\n\u001b[1;32m    103\u001b[0m \u001b[39mdef\u001b[39;00m \u001b[39mprepare_trace\u001b[39m(\u001b[39mself\u001b[39m):\n\u001b[1;32m    104\u001b[0m     \u001b[39mself\u001b[39m\u001b[39m.\u001b[39mprofiler \u001b[39m=\u001b[39m prof\u001b[39m.\u001b[39mprofile(\n\u001b[1;32m    105\u001b[0m         use_cuda\u001b[39m=\u001b[39m(ProfilerActivity\u001b[39m.\u001b[39mCUDA \u001b[39min\u001b[39;00m \u001b[39mself\u001b[39m\u001b[39m.\u001b[39mactivities),\n\u001b[1;32m    106\u001b[0m         use_cpu\u001b[39m=\u001b[39m(ProfilerActivity\u001b[39m.\u001b[39mCPU \u001b[39min\u001b[39;00m \u001b[39mself\u001b[39m\u001b[39m.\u001b[39mactivities),\n\u001b[0;32m   (...)\u001b[0m\n\u001b[1;32m    113\u001b[0m         experimental_config\u001b[39m=\u001b[39m\u001b[39mself\u001b[39m\u001b[39m.\u001b[39mexperimental_config,\n\u001b[1;32m    114\u001b[0m     )\n\u001b[0;32m--> 115\u001b[0m     \u001b[39mself\u001b[39;49m\u001b[39m.\u001b[39;49mprofiler\u001b[39m.\u001b[39;49m_prepare_trace()\n",
      "File \u001b[0;32m~/miniconda3/envs/torch-env/lib/python3.9/site-packages/torch/autograd/profiler.py:220\u001b[0m, in \u001b[0;36mprofile._prepare_trace\u001b[0;34m(self)\u001b[0m\n\u001b[1;32m    218\u001b[0m \u001b[39mdef\u001b[39;00m \u001b[39m_prepare_trace\u001b[39m(\u001b[39mself\u001b[39m):\n\u001b[1;32m    219\u001b[0m     \u001b[39mself\u001b[39m\u001b[39m.\u001b[39mentered \u001b[39m=\u001b[39m \u001b[39mTrue\u001b[39;00m\n\u001b[0;32m--> 220\u001b[0m     _prepare_profiler(\u001b[39mself\u001b[39;49m\u001b[39m.\u001b[39;49mconfig(), \u001b[39mself\u001b[39;49m\u001b[39m.\u001b[39;49mkineto_activities)\n",
      "\u001b[0;31mRuntimeError\u001b[0m: Can't disable Kineto profiler when it's not running"
     ]
    }
   ],
   "source": [
    "import torch.profiler\n",
    "\n",
    "\n",
    "# Profiling\n",
    "with torch.profiler.profile(with_stack=True, profile_memory=True) as profiler:\n",
    "    output = model(x)\n",
    "\n",
    "# Print the results\n",
    "print(profiler.key_averages(group_by_stack_n=5).table(sort_by='self_cpu_time_total'))"
   ]
  },
  {
   "cell_type": "code",
   "execution_count": null,
   "metadata": {},
   "outputs": [],
   "source": []
  }
 ],
 "metadata": {
  "kernelspec": {
   "display_name": "torch-env",
   "language": "python",
   "name": "python3"
  },
  "language_info": {
   "codemirror_mode": {
    "name": "ipython",
    "version": 3
   },
   "file_extension": ".py",
   "mimetype": "text/x-python",
   "name": "python",
   "nbconvert_exporter": "python",
   "pygments_lexer": "ipython3",
   "version": "3.9.16"
  },
  "orig_nbformat": 4
 },
 "nbformat": 4,
 "nbformat_minor": 2
}
