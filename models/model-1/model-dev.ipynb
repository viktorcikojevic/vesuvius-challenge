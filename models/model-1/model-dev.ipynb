{
 "cells": [
  {
   "attachments": {},
   "cell_type": "markdown",
   "metadata": {},
   "source": [
    "- Takes as input the (768, 768, 64) images from `dataset-1`.\n",
    "- It takes 4^3 average across the 2D, and average across the depth\n",
    "- This results in a (192, 192, 16) volume.\n",
    "- I have a image that is of shape (1, 192, 192, 16). Divide the image and the labels into 32 patches: (1, 8*24, 8*24, 16) → (24, 24, 1024) → (576, 1024). \n",
    "- Pass the image into a transformer architecture with 6 layers, which will return (576, 1) tensor, which corresponds to probabilities of pixel occuring. You should also pass the “positional embeddings”, which should be of dimension 1024."
   ]
  },
  {
   "attachments": {},
   "cell_type": "markdown",
   "metadata": {},
   "source": [
    "# 4^3 3D average \n"
   ]
  },
  {
   "cell_type": "code",
   "execution_count": 46,
   "metadata": {},
   "outputs": [],
   "source": [
    "import numpy as np\n",
    "import torch\n",
    "import torch.nn as nn\n",
    "\n",
    "def avg_3d(volume):\n",
    "    # Convert the numpy array to a PyTorch tensor\n",
    "    volume_tensor = torch.tensor(volume, dtype=torch.float32)\n",
    "\n",
    "    # Add batch and channel dimensions to the tensor\n",
    "    volume_tensor = volume_tensor.permute(0, 3, 1, 2)  # Reorder dimensions to (batch, channels, height, width)\n",
    "\n",
    "    # Create the 3D average pooling layer with the appropriate kernel size and stride values\n",
    "    avg_pool = nn.AvgPool3d(kernel_size=4, stride=4, padding=0)\n",
    "\n",
    "    # Apply the average pooling layer to the input tensor\n",
    "    with torch.no_grad():\n",
    "        filtered_volume_tensor = avg_pool(volume_tensor)\n",
    "\n",
    "    # Convert the output tensor back to a numpy array\n",
    "    filtered_volume = filtered_volume_tensor.permute(0, 2, 3, 1).numpy()  # Reorder dimensions back to (batch, height, width, channels)\n",
    "    \n",
    "    return filtered_volume\n",
    "\n",
    "\n",
    "# Example volume\n",
    "volume = np.random.rand(1, 768, 768, 64)\n",
    "volume_avgd = avg_3d(volume)\n",
    "# %time avg_3d(volume) # 85 ms!"
   ]
  },
  {
   "cell_type": "code",
   "execution_count": 47,
   "metadata": {},
   "outputs": [
    {
     "data": {
      "text/plain": [
       "(1, 192, 192, 16)"
      ]
     },
     "execution_count": 47,
     "metadata": {},
     "output_type": "execute_result"
    }
   ],
   "source": [
    "volume_avgd.shape"
   ]
  },
  {
   "attachments": {},
   "cell_type": "markdown",
   "metadata": {},
   "source": [
    "# Reshape"
   ]
  },
  {
   "cell_type": "code",
   "execution_count": 75,
   "metadata": {},
   "outputs": [
    {
     "name": "stdout",
     "output_type": "stream",
     "text": [
      "torch.Size([2, 576, 1024])\n"
     ]
    }
   ],
   "source": [
    "import numpy as np\n",
    "\n",
    "\n",
    "def reshape_img(image):\n",
    "    # Calculate the size of each patch\n",
    "    patch_size = 24\n",
    "\n",
    "    B, H, W, C = image.shape\n",
    "    image = image.reshape(B, H // patch_size, patch_size, W // patch_size, patch_size, C) # (B, 8, 24, 8, 24, 16)\n",
    "    image = image.permute(0, 2, 4, 1, 3, 5) # (B, 24, 24, 8, 8, 16)\n",
    "    image = image.reshape(B, patch_size, patch_size, -1) # (B, 24, 24, 1024)\n",
    "    image = image.reshape(B, -1, 1024) # (B, 576, 1024)\n",
    "    \n",
    "    return image\n",
    "\n",
    "# Example image\n",
    "image = np.random.rand(2, 192, 192, 16)\n",
    "image = torch.tensor(image, dtype=torch.float32)\n",
    "\n",
    "\n",
    "image = reshape_img(image)\n",
    "\n",
    "print(image.shape)\n"
   ]
  },
  {
   "attachments": {},
   "cell_type": "markdown",
   "metadata": {},
   "source": [
    "# Model"
   ]
  },
  {
   "cell_type": "code",
   "execution_count": 97,
   "metadata": {},
   "outputs": [
    {
     "name": "stdout",
     "output_type": "stream",
     "text": [
      "torch.Size([2, 576, 1])\n"
     ]
    }
   ],
   "source": [
    "import torch\n",
    "import torch.nn as nn\n",
    "\n",
    "# Function to generate positional encodings\n",
    "def generate_positional_encoding(seq_len, d_pos_enc):\n",
    "    position = torch.arange(0, seq_len, dtype=torch.float).unsqueeze(1)\n",
    "    div_term = torch.exp(torch.arange(0, d_pos_enc, 2).float() * (-torch.log(torch.tensor(10000.0)) / d_pos_enc))\n",
    "    pos_enc = torch.zeros((1, seq_len, d_pos_enc))\n",
    "    pos_enc[0, :, 0::2] = torch.sin(position * div_term)\n",
    "    pos_enc[0, :, 1::2] = torch.cos(position * div_term)\n",
    "    return pos_enc\n",
    "\n",
    "class CustomTransformer(nn.Module):\n",
    "    def __init__(self, d_model, d_pos_enc, nhead, num_layers):\n",
    "        super(CustomTransformer, self).__init__()\n",
    "\n",
    "        self.positional_encoding = generate_positional_encoding(576, d_pos_enc)\n",
    "        \n",
    "\n",
    "        self.encoder_layer = nn.TransformerEncoderLayer(d_model=d_model + d_pos_enc, nhead=nhead)\n",
    "        self.transformer_encoder = nn.TransformerEncoder(self.encoder_layer, num_layers=num_layers)\n",
    "        self.final_linear = nn.Linear(d_model + d_pos_enc, 1)\n",
    "\n",
    "    def forward(self, x, targets=None):\n",
    "        \n",
    "        # repeat positional encoding for each sample in the batch\n",
    "        self.positional_encoding = self.positional_encoding.repeat(x.shape[0], 1, 1)\n",
    "        \n",
    "        # Concatenate positional embeddings along the channel (embedding) dimension        \n",
    "        x_with_pos_enc = torch.cat((x, self.positional_encoding), dim=-1)\n",
    "\n",
    "        # Pass the input tensor with positional encodings to the transformer encoder\n",
    "        output = self.transformer_encoder(x_with_pos_enc)\n",
    "        \n",
    "        output = self.final_linear(output) # (B, 576, 64)\n",
    "        \n",
    "        # Apply sigmoid activation to the output to get rid of the last dimension\n",
    "        output = torch.sigmoid(output) # (B, 576, 1)\n",
    "    \n",
    "        \n",
    "        if targets is None:\n",
    "            loss = None\n",
    "        else:\n",
    "            # output and targets have shape (batch_size, seq_len, 1). I want to apply   \n",
    "            loss_function = nn.BCEWithLogitsLoss()\n",
    "            \n",
    "            loss = None    \n",
    "        \n",
    "        return output, loss\n",
    "\n",
    "# Instantiate the custom transformer model\n",
    "model = CustomTransformer(d_model=1024, d_pos_enc=128, nhead=8, num_layers=2)\n",
    "\n",
    "# Example input tensor\n",
    "B = 2\n",
    "input_tensor = torch.rand((B, 576, 1024))\n",
    "targets = torch.rand((B, 576, 1))\n",
    "\n",
    "\n",
    "# Pass the input tensor through the custom transformer model\n",
    "output, loss = model(input_tensor)\n",
    "\n",
    "print(output.shape)\n"
   ]
  },
  {
   "attachments": {},
   "cell_type": "markdown",
   "metadata": {},
   "source": [
    "# Loss function"
   ]
  },
  {
   "cell_type": "code",
   "execution_count": 114,
   "metadata": {},
   "outputs": [
    {
     "data": {
      "text/plain": [
       "tensor(2.2899)"
      ]
     },
     "execution_count": 114,
     "metadata": {},
     "output_type": "execute_result"
    }
   ],
   "source": [
    "# Calculate class weights based on the imbalance\n",
    "class_weights = torch.tensor([1.0, 5.0]) # weight 1 for class 0, weight 5 for class 1\n",
    "\n",
    "# Instantiate the loss function\n",
    "loss_function = nn.BCEWithLogitsLoss(pos_weight=class_weights[1])\n",
    "\n",
    "# Example output and targets\n",
    "out = [[0.1], [0.2], [0.9], [0.9]]\n",
    "tar = [[1], [1], [0], [1]]\n",
    "output = torch.tensor([out], dtype=torch.float32)\n",
    "targets = torch.tensor([tar], dtype=torch.float32)\n",
    "loss_function(output, targets)"
   ]
  },
  {
   "cell_type": "code",
   "execution_count": 117,
   "metadata": {},
   "outputs": [
    {
     "data": {
      "text/plain": [
       "tensor(0.8820)"
      ]
     },
     "execution_count": 117,
     "metadata": {},
     "output_type": "execute_result"
    }
   ],
   "source": [
    "# Example output and targets\n",
    "out = [[0.1], [0.2], [0.9], [0.1]]\n",
    "tar = [[0], [0], [0], [0]]\n",
    "output = torch.tensor([out], dtype=torch.float32)\n",
    "targets = torch.tensor([tar], dtype=torch.float32)\n",
    "loss_function(output, targets)"
   ]
  }
 ],
 "metadata": {
  "kernelspec": {
   "display_name": "torch-gpu",
   "language": "python",
   "name": "python3"
  },
  "language_info": {
   "codemirror_mode": {
    "name": "ipython",
    "version": 3
   },
   "file_extension": ".py",
   "mimetype": "text/x-python",
   "name": "python",
   "nbconvert_exporter": "python",
   "pygments_lexer": "ipython3",
   "version": "3.8.16"
  },
  "orig_nbformat": 4
 },
 "nbformat": 4,
 "nbformat_minor": 2
}
